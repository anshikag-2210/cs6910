{
  "nbformat": 4,
  "nbformat_minor": 0,
  "metadata": {
    "accelerator": "GPU",
    "colab": {
      "name": "Problem_5b.ipynb",
      "provenance": [],
      "collapsed_sections": []
    },
    "kernelspec": {
      "display_name": "Python 3",
      "name": "python3"
    },
    "language_info": {
      "name": "python"
    }
  },
  "cells": [
    {
      "cell_type": "markdown",
      "metadata": {
        "id": "omudKD1bIXeu"
      },
      "source": [
        "**IMPORT STATEMENTS**"
      ]
    },
    {
      "cell_type": "code",
      "metadata": {
        "id": "5OlH8H6Dgseh"
      },
      "source": [
        "import tensorflow as tf\n",
        "from tensorflow import keras\n",
        "from tensorflow.keras import layers\n",
        "from tensorflow.python.keras.layers import Input, GRU, Dense, Concatenate, TimeDistributed\n",
        "from tensorflow.keras.models import Sequential\n",
        "import matplotlib.pyplot as plt\n",
        "import numpy as np\n",
        "import os\n",
        "import PIL\n",
        "import cv2\n",
        "import pathlib\n",
        "import glob\n",
        "import shutil\n",
        "import os\n",
        "import random\n",
        "from keras.callbacks import EarlyStopping\n",
        "from tensorflow.python.keras.layers import Layer\n",
        "from tensorflow.python.keras import backend as K"
      ],
      "execution_count": null,
      "outputs": []
    },
    {
      "cell_type": "code",
      "metadata": {
        "colab": {
          "base_uri": "https://localhost:8080/"
        },
        "id": "STMGDOBCguDe",
        "outputId": "f60b5616-9637-478a-8fe3-8e2ea54a710d"
      },
      "source": [
        "#--------------------------------caution: terminal commands ---------------------------------------------\n",
        "%cd\n",
        "%cd .keras/datasets/\n",
        "!rm -r *"
      ],
      "execution_count": null,
      "outputs": [
        {
          "output_type": "stream",
          "text": [
            "/root\n",
            "[Errno 2] No such file or directory: '.keras/datasets/'\n",
            "/root\n",
            "rm: cannot remove '*': No such file or directory\n"
          ],
          "name": "stdout"
        }
      ]
    },
    {
      "cell_type": "code",
      "metadata": {
        "colab": {
          "base_uri": "https://localhost:8080/"
        },
        "id": "kExxbfhyguAW",
        "outputId": "28db834c-e037-47b7-e264-057426cc17fd"
      },
      "source": [
        "########################################### download data from given url ###############################################\n",
        "\n",
        "dataset_url = \"https://storage.googleapis.com/gresearch/dakshina/dakshina_dataset_v1.0.tar\"\n",
        "data_dir = tf.keras.utils.get_file('dakshina_dataset_v1.0', origin=dataset_url, untar=True)"
      ],
      "execution_count": null,
      "outputs": [
        {
          "output_type": "stream",
          "text": [
            "Downloading data from https://storage.googleapis.com/gresearch/dakshina/dakshina_dataset_v1.0.tar\n",
            "2008342528/2008340480 [==============================] - 18s 0us/step\n"
          ],
          "name": "stdout"
        }
      ]
    },
    {
      "cell_type": "code",
      "metadata": {
        "colab": {
          "base_uri": "https://localhost:8080/"
        },
        "id": "FsOhKufxgt7-",
        "outputId": "0717c55a-37f3-4bb7-be44-48bc592d9872"
      },
      "source": [
        "#----------------------------------terminal command -----------------------------------------------\n",
        "%cd /root/.keras/datasets/dakshina_dataset_v1.0/hi/lexicons/\n",
        "!ls"
      ],
      "execution_count": null,
      "outputs": [
        {
          "output_type": "stream",
          "text": [
            "/root/.keras/datasets/dakshina_dataset_v1.0/hi/lexicons\n",
            "hi.translit.sampled.dev.tsv   hi.translit.sampled.train.tsv\n",
            "hi.translit.sampled.test.tsv\n"
          ],
          "name": "stdout"
        }
      ]
    },
    {
      "cell_type": "code",
      "metadata": {
        "id": "zxSiYbw8hpcH"
      },
      "source": [
        "train_data_path = \"hi.translit.sampled.train.tsv\"\n",
        "test_data_path = \"hi.translit.sampled.test.tsv\"\n",
        "validation_data_path = \"hi.translit.sampled.dev.tsv\""
      ],
      "execution_count": null,
      "outputs": []
    },
    {
      "cell_type": "markdown",
      "metadata": {
        "id": "KtQd8WIJjcfi"
      },
      "source": [
        "**UTILITY FUNCTION FOR DATA PRE-PROCESSING**"
      ]
    },
    {
      "cell_type": "code",
      "metadata": {
        "id": "Rmc0tpmjjbE3"
      },
      "source": [
        "################################################ preparing the data in required format #################################################\n",
        "\n",
        "def data(path,input_token_index,target_token_index):\n",
        "  input_texts = []\n",
        "  target_texts = []\n",
        "  with open(path, \"r\", encoding=\"utf-8\") as f:\n",
        "      lines = f.read().split(\"\\n\")\n",
        "  del lines[-1]\n",
        "  for line in lines:\n",
        "      target_text, input_text, _ = line.split(\"\\t\")\n",
        "\n",
        "      input_text = \"\\t\"+input_text + \"\\n\"\n",
        "      target_text = \"\\t\"+target_text + \"\\n\"\n",
        "\n",
        "      input_texts.append(input_text)\n",
        "      target_texts.append(target_text)\n",
        "\n",
        "  encoder_input_data = np.zeros( (len(input_texts), max_encoder_seq_length), dtype=\"int32\")\n",
        "  decoder_input_data = np.zeros( (len(input_texts), max_decoder_seq_length), dtype=\"int32\")\n",
        "  decoder_target_data = np.zeros((len(input_texts), max_decoder_seq_length, num_decoder_tokens), dtype=\"int32\")\n",
        "\n",
        "  for i, (input_text, target_text) in enumerate(zip(input_texts, target_texts)):\n",
        "      for t, char in enumerate(input_text):\n",
        "          encoder_input_data[i, t] = input_token_index[char]\n",
        "      encoder_input_data[i, t + 1 :] = input_token_index[\" \"]\n",
        "      for t, char in enumerate(target_text):\n",
        "          # decoder_target_data is ahead of decoder_input_data by one timestep\n",
        "          decoder_input_data[i, t] = target_token_index[char]\n",
        "          if t > 0:\n",
        "              # decoder_target_data will be ahead by one timestep\n",
        "              # and will not include the start character.\n",
        "              decoder_target_data[i, t - 1, target_token_index[char]] = 1.0\n",
        "      decoder_input_data[i, t + 1 :] = target_token_index[\" \"]\n",
        "      decoder_target_data[i, t:, target_token_index[\" \"]] = 1.0\n",
        "    \n",
        "  return (encoder_input_data, decoder_input_data, decoder_target_data, target_texts, input_texts)"
      ],
      "execution_count": null,
      "outputs": []
    },
    {
      "cell_type": "markdown",
      "metadata": {
        "id": "yHX43bsSjPZ0"
      },
      "source": [
        "**PREPROCESSING THE DATA**"
      ]
    },
    {
      "cell_type": "code",
      "metadata": {
        "colab": {
          "base_uri": "https://localhost:8080/"
        },
        "id": "OvzlQKeQg481",
        "outputId": "79acbfce-cf49-4790-82f5-59ce3b6638b1"
      },
      "source": [
        "################################################ preprocessing the train data and getting dictionaries #################################################\n",
        "\n",
        "input_texts = []\n",
        "target_texts = []\n",
        "input_characters = set()\n",
        "target_characters = set()\n",
        "with open(train_data_path, \"r\", encoding=\"utf-8\") as f:\n",
        "    lines = f.read().split(\"\\n\")\n",
        "\n",
        "del lines[-1]\n",
        "for line in lines:\n",
        "    target_text, input_text, _ = line.split(\"\\t\")\n",
        "    input_text = \"\\t\"+input_text + \"\\n\"\n",
        "    target_text = \"\\t\"+target_text + \"\\n\"\n",
        "\n",
        "    input_texts.append(input_text)\n",
        "    target_texts.append(target_text)\n",
        "    for char in input_text:\n",
        "        if char not in input_characters:\n",
        "            input_characters.add(char)\n",
        "    for char in target_text:\n",
        "        if char not in target_characters:\n",
        "            target_characters.add(char)\n",
        "\n",
        "input_characters.add(\" \")\n",
        "target_characters.add(\" \")\n",
        "\n",
        "input_characters = sorted(list(input_characters))\n",
        "target_characters = sorted(list(target_characters))\n",
        "num_encoder_tokens = len(input_characters)\n",
        "num_decoder_tokens = len(target_characters)\n",
        "max_encoder_seq_length = max([len(txt) for txt in input_texts])\n",
        "max_decoder_seq_length = max([len(txt) for txt in target_texts])\n",
        "\n",
        "print(\"Number of samples:\", len(input_texts))\n",
        "print(\"Number of unique input tokens:\", num_encoder_tokens)\n",
        "print(\"Number of unique output tokens:\", num_decoder_tokens)\n",
        "print(\"Max sequence length for inputs:\", max_encoder_seq_length)\n",
        "print(\"Max sequence length for outputs:\", max_decoder_seq_length)\n",
        "\n",
        "input_token_index = dict([(char, i) for i, char in enumerate(input_characters)])\n",
        "target_token_index = dict([(char, i) for i, char in enumerate(target_characters)])\n"
      ],
      "execution_count": null,
      "outputs": [
        {
          "output_type": "stream",
          "text": [
            "Number of samples: 44204\n",
            "Number of unique input tokens: 29\n",
            "Number of unique output tokens: 66\n",
            "Max sequence length for inputs: 22\n",
            "Max sequence length for outputs: 21\n"
          ],
          "name": "stdout"
        }
      ]
    },
    {
      "cell_type": "markdown",
      "metadata": {
        "id": "tdllRZOZDD6h"
      },
      "source": [
        "**CUSTOM ATTENTION LAYER**"
      ]
    },
    {
      "cell_type": "code",
      "metadata": {
        "id": "GlF87sMyY7gB"
      },
      "source": [
        "class AttentionLayer(Layer):\n",
        "\n",
        "    ############################################# constructor for class AttentionLayer ##########################################\n",
        "    def __init__(self, **kwargs):\n",
        "        super(AttentionLayer, self).__init__(**kwargs)\n",
        "\n",
        "    #########################################  Function to build ########################################################\n",
        "    def build(self, input_shape):\n",
        "        assert isinstance(input_shape, list)\n",
        "\n",
        "        #-------------------------------------- Create a trainable weight variable for this layer-------------------------------------- \n",
        "\n",
        "        self.W_a = self.add_weight(name='W_a',\n",
        "                                   shape=tf.TensorShape((input_shape[0][2], input_shape[0][2])),\n",
        "                                   initializer='uniform',\n",
        "                                   trainable=True)\n",
        "        self.U_a = self.add_weight(name='U_a',\n",
        "                                   shape=tf.TensorShape((input_shape[1][2], input_shape[0][2])),\n",
        "                                   initializer='uniform',\n",
        "                                   trainable=True)\n",
        "        self.V_a = self.add_weight(name='V_a',\n",
        "                                   shape=tf.TensorShape((input_shape[0][2], 1)),\n",
        "                                   initializer='uniform',\n",
        "                                   trainable=True)\n",
        "\n",
        "        super(AttentionLayer, self).build(input_shape) \n",
        "\n",
        "\n",
        "    #######################################  Function to call #################################\n",
        "    def call(self, inputs, verbose=False):\n",
        "\n",
        "        assert type(inputs) == list\n",
        "        encoder_out_seq, decoder_out_seq = inputs\n",
        "        if verbose:\n",
        "            print('encoder_out_seq>', encoder_out_seq.shape)\n",
        "            print('decoder_out_seq>', decoder_out_seq.shape)\n",
        "\n",
        "        ##############################  Function for Energy Step ##############################\n",
        "        def energy_step(inputs, states):\n",
        "\n",
        "            assert_msg = \"States must be an iterable. Got {} of type {}\".format(states, type(states))\n",
        "            assert isinstance(states, list) or isinstance(states, tuple), assert_msg\n",
        "\n",
        "            #------------------Some parameters required for shaping tensors----------------\n",
        "            en_seq_len, en_hidden = encoder_out_seq.shape[1], encoder_out_seq.shape[2]\n",
        "            de_hidden = inputs.shape[-1]\n",
        "\n",
        "            #------------------Computing S.Wa where S=[s0, s1, ..., si]--------------------\n",
        "            W_a_dot_s = K.dot(encoder_out_seq, self.W_a)\n",
        "\n",
        "            #------------------Computing hj.Ua---------------------------------------------\n",
        "            U_a_dot_h = K.expand_dims(K.dot(inputs, self.U_a), 1)\n",
        "            if verbose:\n",
        "                print('Ua.h>', U_a_dot_h.shape)\n",
        "\n",
        "            #------------------Computing tanh(S.Wa + hj.Ua)--------------------------------\n",
        "            Ws_plus_Uh = K.tanh(W_a_dot_s + U_a_dot_h)\n",
        "            if verbose:\n",
        "                print('Ws+Uh>', Ws_plus_Uh.shape)\n",
        "\n",
        "            #------------------Computing softmax(va.tanh(S.Wa + hj.Ua))-------------------------------\n",
        "            e_i = K.squeeze(K.dot(Ws_plus_Uh, self.V_a), axis=-1)\n",
        "            e_i = K.softmax(e_i)\n",
        "\n",
        "            if verbose:\n",
        "                print('ei>', e_i.shape)\n",
        "\n",
        "            return e_i, [e_i]\n",
        "\n",
        "        ####################### Step function for computing ci using ei ###############################\n",
        "        def context_step(inputs, states):            \n",
        "\n",
        "            assert_msg = \"States must be an iterable. Got {} of type {}\".format(states, type(states))\n",
        "            assert isinstance(states, list) or isinstance(states, tuple), assert_msg\n",
        "\n",
        "            c_i = K.sum(encoder_out_seq * K.expand_dims(inputs, -1), axis=1)\n",
        "            if verbose:\n",
        "                print('ci>', c_i.shape)\n",
        "            return c_i, [c_i]\n",
        "\n",
        "        fake_state_c = K.sum(encoder_out_seq, axis=1)\n",
        "        fake_state_e = K.sum(encoder_out_seq, axis=2)  \n",
        "\n",
        "        #-----------------------Computing energy outputs -----------------------------------------------\n",
        "        last_out, e_outputs, _ = K.rnn(\n",
        "            energy_step, decoder_out_seq, [fake_state_e],\n",
        "        )\n",
        "\n",
        "        #-----------------------Computing context vectors ----------------------------------------------\n",
        "        last_out, c_outputs, _ = K.rnn(\n",
        "            context_step, e_outputs, [fake_state_c],\n",
        "        )\n",
        "\n",
        "        return c_outputs, e_outputs\n",
        "\n",
        "    ############################ Outputs produced by the layer ##########################################\n",
        "    def compute_output_shape(self, input_shape):        \n",
        "        return [\n",
        "            tf.TensorShape((input_shape[1][0], input_shape[1][1], input_shape[1][2])),\n",
        "            tf.TensorShape((input_shape[1][0], input_shape[1][1], input_shape[0][1]))\n",
        "        ]"
      ],
      "execution_count": null,
      "outputs": []
    },
    {
      "cell_type": "markdown",
      "metadata": {
        "id": "N82OZs3TNcLK"
      },
      "source": [
        "\n",
        "**MACHINE TRANSLITERATOR**\n"
      ]
    },
    {
      "cell_type": "code",
      "metadata": {
        "id": "XYsd6Xetg7dv"
      },
      "source": [
        "\n",
        "class Machine_Transliterator():\n",
        "\n",
        "  ############################################# constructor for class Machine_Transliterator ##########################################\n",
        "\n",
        "  def __init__(self,max_encoder_seq_length,max_decoder_seq_length,encoder_embed_size, decoder_embed_size,\n",
        "               num_encoder_layers,num_decoder_layers,epochs, hidden_layer_size,\n",
        "               num_encoder_tokens, cell_type, num_decoder_tokens,input_token_index, target_token_index, \n",
        "               activation=\"softmax\",optimizer=\"rmsprop\",dropout=0.05):\n",
        "    \n",
        "    self.cell_type= cell_type\n",
        "    self.hidden_layer_size = hidden_layer_size  \n",
        "    self.optimizer = optimizer\n",
        "    self.activation = activation   \n",
        "    self.dropout=dropout\n",
        "\n",
        "    #-------------------------------------- Number of hidden layers -------------------------------------\n",
        "\n",
        "    self.num_encoder_layers = num_encoder_layers\n",
        "    self.num_decoder_layers=num_decoder_layers\n",
        "\n",
        "    #-------------------------------------- sequence length -------------------------------------\n",
        "    self.max_decoder_seq_length=max_decoder_seq_length\n",
        "    self.max_encoder_seq_length=max_encoder_seq_length\n",
        "\n",
        "    #---------------------------------------------Embedding size-------------------------------------\n",
        "    self.encoder_embed_size = encoder_embed_size\n",
        "    self.decoder_embed_size = decoder_embed_size\n",
        "    \n",
        "    #-----------------information obtained after preprocessing of data-------------------------------------\n",
        "    self.num_encoder_tokens = num_encoder_tokens\n",
        "    self.num_decoder_tokens = num_decoder_tokens\n",
        "\n",
        "    #-----------------------------dictionaries----------------------------------------------------\n",
        "    self.input_token_index = input_token_index\n",
        "    self.target_token_index = target_token_index\n",
        "\n",
        " \n",
        "\n",
        "\n",
        "#########################################function to build model ###########################################\n",
        "\n",
        "  def build_model(self):\n",
        "    \n",
        "    encoder_inputs = keras.Input(shape=(None,))  \n",
        "    encoder_embedding_output = tf.keras.layers.Embedding(input_dim = self.num_encoder_tokens, output_dim = self.encoder_embed_size, name = \"encoder_embedding_layer\")(encoder_inputs)\n",
        "\n",
        "#------------------------------ if cell type = LSTM -------------------------------------------------------------\n",
        "    if self.cell_type == \"lstm\":\n",
        "     #--------------------- encoder -----------------------------------\n",
        "      encoder = keras.layers.LSTM(self.hidden_layer_size, return_state=True,return_sequences=True,dropout=self.dropout,use_bias=True, name = \"encoder_layer_0\")\n",
        "      encoder_outputs, state_h, state_c = encoder(encoder_embedding_output)\n",
        "      encoder_states = [state_h, state_c]\n",
        "\n",
        "      #---------------------------decoder ---------------------------------------------------\n",
        "      decoder_inputs = keras.Input(shape=(None, )) \n",
        "      decoder_embedding_output = tf.keras.layers.Embedding(input_dim = self.num_decoder_tokens, output_dim = self.decoder_embed_size, name = \"decoder_embedding_layer\")(decoder_inputs)\n",
        "\n",
        "      decoder = keras.layers.LSTM(self.hidden_layer_size, return_sequences=True, return_state=True,dropout=self.dropout,use_bias=True, name = \"decoder_layer_0\")\n",
        "      decoder_outputs, _, _= decoder(decoder_embedding_output, initial_state = encoder_states)\n",
        "\n",
        "      attn_layer = AttentionLayer(name='attention_layer')\n",
        "      attn_out, attn_states = attn_layer([encoder_outputs, decoder_outputs])\n",
        "      decoder_concat_input = Concatenate(axis=-1, name='concat_layer')([decoder_outputs, attn_out])\n",
        "\n",
        "      \n",
        "\n",
        "\n",
        "#------------------------------ if cell type = Simple RNN -------------------------------------------------------------\n",
        "    elif self.cell_type == \"rnn\":\n",
        "      #--------------------- encoder -----------------------------------\n",
        "      encoder_inputs = keras.Input(shape=(self.max_encoder_seq_length,))\n",
        "      encoder_embedding_output = tf.keras.layers.Embedding(input_dim = self.num_encoder_tokens, output_dim = self.encoder_embed_size, name = \"encoder_embedding_layer\", input_length=self.max_encoder_seq_length)(encoder_inputs)\n",
        "\n",
        "      encoder = keras.layers.SimpleRNN(self.hidden_layer_size, return_state=True,return_sequences=True,dropout=self.dropout, use_bias=True, name = \"encoder_layer_0\", unroll=True)\n",
        "      encoder_outputs, state = encoder(encoder_embedding_output)\n",
        "      encoder_states = [state]\n",
        "\n",
        "      #---------------------------decoder ---------------------------------------------------\n",
        "      decoder_inputs = keras.Input(shape=(self.max_decoder_seq_length, ))\n",
        "      decoder_embedding_output = tf.keras.layers.Embedding(input_dim = self.num_decoder_tokens, output_dim = self.decoder_embed_size, name = \"decoder_embedding_layer\", input_length=self.max_decoder_seq_length)(decoder_inputs)\n",
        "\n",
        "      decoder = keras.layers.SimpleRNN(self.hidden_layer_size, return_state=True,return_sequences=True, dropout=self.dropout, use_bias=True, name = \"decoder_layer_0\", unroll=True)\n",
        "      decoder_outputs, _ = decoder(decoder_embedding_output, initial_state = encoder_states)\n",
        "\n",
        "      attn_layer = AttentionLayer(name='attention_layer')\n",
        "      attn_out, attn_states = attn_layer([encoder_outputs, decoder_outputs])\n",
        "      decoder_concat_input = Concatenate(axis=-1, name='concat_layer')([decoder_outputs, attn_out])\n",
        "\n",
        "\n",
        "\n",
        "#------------------------------ if cell type = GRU -------------------------------------------------------------\n",
        "    elif self.cell_type == \"gru\":\n",
        "      #--------------------- encoder -----------------------------------\n",
        "      encoder = keras.layers.GRU(self.hidden_layer_size, return_state=True,return_sequences=True,dropout=self.dropout,use_bias=True, name = \"encoder_layer_0\")\n",
        "      encoder_outputs, state = encoder(encoder_embedding_output)\n",
        "      encoder_states = [state]\n",
        "\n",
        "      #---------------------------decoder ---------------------------------------------------\n",
        "      decoder_inputs = keras.Input(shape=(None, ))      \n",
        "      decoder_embedding_output = tf.keras.layers.Embedding(input_dim = self.num_decoder_tokens, output_dim = self.decoder_embed_size, name = \"decoder_embedding_layer\")(decoder_inputs)\n",
        "      \n",
        "      decoder = keras.layers.GRU(self.hidden_layer_size, return_state=True,return_sequences=True, dropout=self.dropout,use_bias=True, name = \"decoder_layer_0\")\n",
        "      decoder_outputs, _ = decoder(decoder_embedding_output, initial_state = encoder_states)\n",
        "\n",
        "      attn_layer = AttentionLayer(name='attention_layer')\n",
        "      attn_out, attn_states = attn_layer([encoder_outputs, decoder_outputs])\n",
        "      decoder_concat_input = Concatenate(axis=-1, name='concat_layer')([decoder_outputs, attn_out])\n",
        "\n",
        "    decoder_dense = keras.layers.Dense(self.num_decoder_tokens, activation = self.activation,use_bias=True, name = \"dense\")\n",
        "    dense_time = TimeDistributed(decoder_dense, name='time_distributed_layer')\n",
        "    decoder_pred = dense_time(decoder_concat_input)\n",
        "\n",
        "    model = keras.Model([encoder_inputs, decoder_inputs], decoder_pred)\n",
        "    \n",
        "    #-----------------compile the model -------------------------------------\n",
        "    model.compile(\n",
        "         optimizer=self.optimizer,\n",
        "         loss=\"categorical_crossentropy\",\n",
        "         metrics=[\"accuracy\"]\n",
        "         ) \n",
        "\n",
        "#-------------------------- return final model ---------------------------------------------------------\n",
        "    return model\n",
        "\n",
        "#########################################function for training the model ###########################################\n",
        "\n",
        "  def train_model(self,encoder_input_data,decoder_input_data,decoder_target_data,epochs,batch_size,\n",
        "                  val_encoder_input_data, val_decoder_input_data, val_decoder_target_data):\n",
        "    \n",
        "     model=self.build_model()\n",
        "  \n",
        "     model.fit(\n",
        "        [encoder_input_data, decoder_input_data],\n",
        "        decoder_target_data,\n",
        "        batch_size = batch_size,\n",
        "        epochs = epochs,\n",
        "        validation_data = ([val_encoder_input_data, val_decoder_input_data],val_decoder_target_data),\n",
        "        callbacks=[EarlyStopping(patience = 5)]\n",
        "\n",
        "        # callbacks=[WandbCallback(), EarlyStopping(patience = 5)]\n",
        "        )\n",
        "     return model\n",
        "\n",
        "######################################### function for inference on the model ###########################################\n",
        "  \n",
        "  def sampling_inference(self, model, num_encoder_layers, num_decoder_layers):\n",
        "\n",
        "    encoder_model = None\n",
        "    decoder_model = None\n",
        "    if self.cell_type == \"lstm\":\n",
        "\n",
        "      #-----------------ENCODER----------------------------\n",
        "      e_inputs = model.input[0]\n",
        "      e_embed_layer = model.get_layer(\"encoder_embedding_layer\")\n",
        "      encoder_inputs = e_embed_layer(e_inputs)\n",
        "\n",
        "      encoder_cell = model.get_layer(\"encoder_layer_\" + str(num_encoder_layers-1))\n",
        "      encoder_outputs, state_h_enc, state_c_enc = encoder_cell(encoder_inputs)\n",
        "      encoder_states = [state_h_enc, state_c_enc]\n",
        "\n",
        "      #----------------encoder model-------------------------------\n",
        "      encoder_model = keras.Model(inputs = e_inputs, outputs = [encoder_outputs, state_h_enc, state_c_enc])\n",
        "\n",
        "      #------------------DECODER------------------------------\n",
        "      decoder_state_input_h = keras.Input(shape=(self.hidden_layer_size,), name=\"input_decoder_h\")\n",
        "      decoder_state_input_c = keras.Input(shape=(self.hidden_layer_size,), name=\"input_decoder_c\")\n",
        "      decoder_hidden_state_input = Input(shape=(22,self.hidden_layer_size))\n",
        "      decoder_state_inputs = [decoder_state_input_h, decoder_state_input_c]\n",
        "\n",
        "      d_inputs = model.input[1] #input_2\n",
        "      d_embed_layer = model.get_layer(\"decoder_embedding_layer\")\n",
        "      decoder_inputs = d_embed_layer(d_inputs)\n",
        "\n",
        "      #---------------decoder cell layers---------------------------\n",
        "      decoder_cell = model.get_layer(\"decoder_layer_\" + str(num_decoder_layers-1))\n",
        "      decoder_outputs, state_h_dec, state_c_dec = decoder_cell(decoder_inputs, initial_state = decoder_state_inputs)\n",
        "      decoder_states = [state_h_dec, state_c_dec]\n",
        "\n",
        "      #-------------------------attention inference ------------------\n",
        "      attn_layer = model.get_layer(\"attention_layer\")\n",
        "      attn_inf_out, attn_inf_states = attn_layer([decoder_hidden_state_input, decoder_outputs])\n",
        "\n",
        "      #------------------------concatenation----------------------------\n",
        "      concate = model.get_layer(\"concat_layer\")\n",
        "      decoder_inf_concat = concate([decoder_outputs, attn_inf_out])\n",
        "\n",
        "      #-------A dense softmax layer to get generate probability over the target vocabulary --------------------\n",
        "      time_dist_dense = model.get_layer(\"time_distributed_layer\")\n",
        "      decoder_inf_pred = time_dist_dense(decoder_inf_concat)\n",
        "\n",
        "\n",
        "      decoder_model = keras.Model( \n",
        "                              [d_inputs] + [decoder_hidden_state_input, decoder_state_input_h, decoder_state_input_c],\n",
        "                              [decoder_inf_pred] + [state_h_dec, state_c_dec]\n",
        "                            )\n",
        "    #-------------------------------------if cell type = Simple RNN or GRU---------------------------------------------\n",
        "    elif self.cell_type ==\"rnn\" or self.cell_type ==\"gru\":\n",
        "\n",
        "      #---------------------------ENCODER---------------------------------\n",
        "      e_inputs = model.input[0]\n",
        "      e_embed_layer = model.get_layer(\"encoder_embedding_layer\")\n",
        "      encoder_inputs = e_embed_layer(e_inputs)\n",
        "\n",
        "      encoder_cell = model.get_layer(\"encoder_layer_\" + str(num_encoder_layers-1))\n",
        "      encoder_outputs, state_h_enc = encoder_cell(encoder_inputs)\n",
        "      encoder_states = [state_h_enc]\n",
        "\n",
        "      #----------------------encoder model-------------------------------\n",
        "      encoder_model = keras.Model(inputs = e_inputs, outputs = [encoder_outputs, state_h_enc])\n",
        "\n",
        "      #-------------------------DECODER---------------------------------------------\n",
        "      decoder_state_input_h = keras.Input(shape=(self.hidden_layer_size,), name=\"input_decoder_h\")\n",
        "      decoder_hidden_state_input = Input(shape=(22,self.hidden_layer_size))\n",
        "      decoder_state_inputs = [decoder_state_input_h]\n",
        "\n",
        "      d_inputs = model.input[1] \n",
        "      d_embed_layer = model.get_layer(\"decoder_embedding_layer\")\n",
        "      decoder_inputs = d_embed_layer(d_inputs)\n",
        "\n",
        "      #-------------------------decoder cell layers---------------------------------\n",
        "      decoder_cell = model.get_layer(\"decoder_layer_\" + str(num_decoder_layers-1))\n",
        "      decoder_outputs, state_h_dec = decoder_cell(decoder_inputs, initial_state = decoder_state_inputs)\n",
        "      decoder_states = [state_h_dec]\n",
        "\n",
        "      #-----------------------------attention inference-----------------------------------\n",
        "      attn_layer = model.get_layer(\"attention_layer\")\n",
        "      attn_inf_out, attn_inf_states = attn_layer([decoder_hidden_state_input, decoder_outputs])\n",
        "\n",
        "      #------------------------------concatenation--------------------------------------\n",
        "      concate = model.get_layer(\"concat_layer\")\n",
        "      decoder_inf_concat = concate([decoder_outputs, attn_inf_out])\n",
        "\n",
        "      #----------- A dense softmax layer to get generate probability over the target vocabulary -----------\n",
        "      time_dist_dense = model.get_layer(\"time_distributed_layer\")\n",
        "      decoder_inf_pred = time_dist_dense(decoder_inf_concat)\n",
        "\n",
        "\n",
        "      decoder_model = keras.Model( \n",
        "                              [d_inputs] + [decoder_hidden_state_input, decoder_state_input_h],\n",
        "                              [decoder_inf_pred] + [state_h_dec]\n",
        "                            )\n",
        "      \n",
        "    reverse_input_char_index = dict((i, char) for char, i in self.input_token_index.items())\n",
        "    reverse_target_char_index = dict((i, char) for char, i in self.target_token_index.items())\n",
        "    return (reverse_input_char_index,reverse_target_char_index, encoder_model, decoder_model)\n",
        "\n",
        "##################################################function for decoding input sequence ###########################################\n",
        "\n",
        "  def decode_sequence(self, input_data, encoder_model, decoder_model, max_decoder_seq_length, target_token_index):\n",
        "\n",
        "    num_examples = input_data.shape[0]\n",
        "    max_encoder_seq_length = input_data.shape[0]\n",
        "\n",
        "    #---------------- raw form of predictions to be returned --------------------------------\n",
        "    predicted_output = np.full((num_examples, max_decoder_seq_length), target_token_index[\" \"])\n",
        "\n",
        "    # ------ -----------if cell type=LSTM ---------------------------------\n",
        "    if self.cell_type ==\"lstm\":\n",
        "      e_out, e_h, e_c = encoder_model.predict(input_data[:num_examples,:])\n",
        "      states = [e_h, e_c]      \n",
        "      target_seq = np.zeros((num_examples, 1),dtype=\"int32\")\n",
        "      target_seq[:, 0] = self.target_token_index[\"\\t\"]  \n",
        "\n",
        "    # ------ -----------if cell type= Simple RNN or GRU --------------------\n",
        "    elif self.cell_type == \"rnn\" or self.cell_type ==\"gru\":\n",
        "      e_out, e_h = encoder_model.predict(input_data[:num_examples,:])\n",
        "      states_value = [e_h]\n",
        "      target_seq = np.zeros((num_examples, 1),dtype=\"int32\")\n",
        "      target_seq[:, 0] = self.target_token_index[\"\\t\"]  \n",
        "\n",
        "    for i in range(max_decoder_seq_length):\n",
        "      # ------------------if cell type=LSTM ---------------------------------\n",
        "      if self.cell_type ==\"lstm\":\n",
        "        output_tokens, h, c = decoder_model.predict([target_seq] + [e_out, e_h, e_c])\n",
        "        e_h, e_c = h, c\n",
        "      # ------------------if cell type= Simple RNN or GRU --------------------\n",
        "      elif self.cell_type ==\"rnn\" or self.cell_type ==\"gru\":\n",
        "        output_tokens, h = decoder_model.predict([target_seq] + [e_out, e_h])\n",
        "        e_h = h\n",
        "\n",
        "      for j in range(num_examples):\n",
        "        target_seq[j,0] = np.argmax(output_tokens[j, -1, :])\n",
        "        if target_seq[j,0] == target_token_index[\"\\n\"]:\n",
        "          predicted_output[j,i] = target_token_index[\" \"]\n",
        "        else:\n",
        "          predicted_output[j,i] = target_seq[j,0]\n",
        "\n",
        "  #--------------------------- return predictions ------------------------------\n",
        "    return predicted_output\n",
        "  \n",
        "  ################################################## function for calculating accuracy ###########################################\n",
        "\n",
        "  def calculate_accuracy(self, output_corpus, input_data, reverse_target_char_index, encoder_model, decoder_model):\n",
        "    limit = input_data.shape[0]   \n",
        "\n",
        "    #------------------------------ creating vectorised form of true output ------------------------------\n",
        "    true_output = np.full((limit, self.max_decoder_seq_length), self.target_token_index[\" \"])\n",
        "    for row in range(limit):\n",
        "      example = output_corpus[row].replace(\"\\n\",\"\").replace(\"\\t\",\"\")\n",
        "      for col in range(len(example)):\n",
        "        true_output[row][col] = self.target_token_index[example[col]]\n",
        "    \n",
        "    #------------------------------ creating vectorised form of predicted output --------------------------------\n",
        "    predicted_output = self.decode_sequence(input_data, encoder_model, decoder_model, self.max_decoder_seq_length, target_token_index)\n",
        "\n",
        "    #------------------------------ calculating accuracy ------------------------------------\n",
        "    A = true_output\n",
        "    B = predicted_output \n",
        "    accuracy = (np.count_nonzero((A == B).all(1))/A.shape[0])\n",
        "\n",
        "    # wandb.log({\"val_acc\":accuracy})\n",
        "\n",
        "    return (accuracy, predicted_output)\n",
        "\n",
        "#===================================== end of class Machine_Transliterator ==========================================\n",
        "\n"
      ],
      "execution_count": null,
      "outputs": []
    },
    {
      "cell_type": "markdown",
      "metadata": {
        "id": "NR4rOYbMVIUZ"
      },
      "source": [
        "**PARAMETERS**"
      ]
    },
    {
      "cell_type": "code",
      "metadata": {
        "id": "tVfaKFT4iGKc"
      },
      "source": [
        "cell_type = \"lstm\"\n",
        "batch_size = 32  # Batch size for training.\n",
        "epochs = 30  # Number of epochs to train for.\n",
        "hidden_layer_size= 256  # Latent dimensionality of the encoding space.\n",
        "activation = \"softmax\"\n",
        "optimizer = \"Adam\"\n",
        "encoder_embed_size = 1024 #Encoder embedsize\n",
        "decoder_embed_size = 27 #Decoder embedsize\n",
        "num_encoder_layers= 1  # number of hidden layers in encoder\n",
        "num_decoder_layers= 1    # number of hidden layers in decoder\n",
        "dropout=0.1 #Dropout"
      ],
      "execution_count": null,
      "outputs": []
    },
    {
      "cell_type": "markdown",
      "metadata": {
        "id": "JH8MZK3IPERe"
      },
      "source": [
        "**PREPROCESSING THE DATA**"
      ]
    },
    {
      "cell_type": "code",
      "metadata": {
        "id": "eYj3x6F4SNTm"
      },
      "source": [
        "############################# preprocessing the data ################################\n",
        "\n",
        "(encoder_input_data,decoder_input_data,decoder_target_data, _, _)=data(train_data_path,input_token_index,target_token_index)\n",
        "(val_encoder_input_data,val_decoder_input_data,val_decoder_target_data, val_target_texts, val_input_texts)=data(validation_data_path ,input_token_index,target_token_index)"
      ],
      "execution_count": null,
      "outputs": []
    },
    {
      "cell_type": "code",
      "metadata": {
        "id": "CGu0vosaNV4N"
      },
      "source": [
        "(t_encoder_input_data,t_decoder_input_data,t_decoder_target_data, t_target_texts, t_input_texts)=data(test_data_path ,input_token_index,target_token_index)"
      ],
      "execution_count": null,
      "outputs": []
    },
    {
      "cell_type": "markdown",
      "metadata": {
        "id": "m0ksIw3vH3XJ"
      },
      "source": [
        "**CREATING MACHINE TRANSLITERATOR**"
      ]
    },
    {
      "cell_type": "code",
      "metadata": {
        "id": "_ZhI8e1dH3XK"
      },
      "source": [
        "########################## creating machine transliterator object ###############################\n",
        "machine = Machine_Transliterator(\n",
        "      max_encoder_seq_length,max_decoder_seq_length,encoder_embed_size, \n",
        "      decoder_embed_size,num_encoder_layers,num_decoder_layers,\n",
        "      batch_size, hidden_layer_size, num_encoder_tokens, cell_type, num_decoder_tokens, \n",
        "      input_token_index,target_token_index, activation, optimizer,dropout\n",
        "      )"
      ],
      "execution_count": null,
      "outputs": []
    },
    {
      "cell_type": "markdown",
      "metadata": {
        "id": "TJlX41fVRs1x"
      },
      "source": [
        "**TRAINING**"
      ]
    },
    {
      "cell_type": "code",
      "metadata": {
        "id": "-UQyh8rmdkM8",
        "colab": {
          "base_uri": "https://localhost:8080/"
        },
        "outputId": "0681d9d0-4b18-4fed-b863-34357c285bd4"
      },
      "source": [
        "model = machine.train_model(\n",
        "    encoder_input_data, decoder_input_data,decoder_target_data,epochs,batch_size,\n",
        "    val_encoder_input_data, val_decoder_input_data, val_decoder_target_data\n",
        "    )"
      ],
      "execution_count": null,
      "outputs": [
        {
          "output_type": "stream",
          "text": [
            "Epoch 1/30\n",
            "1382/1382 [==============================] - 113s 57ms/step - loss: 0.8375 - accuracy: 0.7915 - val_loss: 0.1942 - val_accuracy: 0.9398\n",
            "Epoch 2/30\n",
            "1382/1382 [==============================] - 78s 57ms/step - loss: 0.1867 - accuracy: 0.9399 - val_loss: 0.1625 - val_accuracy: 0.9476\n",
            "Epoch 3/30\n",
            "1382/1382 [==============================] - 78s 57ms/step - loss: 0.1501 - accuracy: 0.9509 - val_loss: 0.1444 - val_accuracy: 0.9532\n",
            "Epoch 4/30\n",
            "1382/1382 [==============================] - 77s 56ms/step - loss: 0.1298 - accuracy: 0.9576 - val_loss: 0.1400 - val_accuracy: 0.9544\n",
            "Epoch 5/30\n",
            "1382/1382 [==============================] - 76s 55ms/step - loss: 0.1134 - accuracy: 0.9630 - val_loss: 0.1367 - val_accuracy: 0.9559\n",
            "Epoch 6/30\n",
            "1382/1382 [==============================] - 75s 55ms/step - loss: 0.1028 - accuracy: 0.9662 - val_loss: 0.1365 - val_accuracy: 0.9565\n",
            "Epoch 7/30\n",
            "1382/1382 [==============================] - 75s 55ms/step - loss: 0.0941 - accuracy: 0.9692 - val_loss: 0.1346 - val_accuracy: 0.9576\n",
            "Epoch 8/30\n",
            "1382/1382 [==============================] - 76s 55ms/step - loss: 0.0848 - accuracy: 0.9722 - val_loss: 0.1335 - val_accuracy: 0.9582\n",
            "Epoch 9/30\n",
            "1382/1382 [==============================] - 76s 55ms/step - loss: 0.0782 - accuracy: 0.9746 - val_loss: 0.1358 - val_accuracy: 0.9583\n",
            "Epoch 10/30\n",
            "1382/1382 [==============================] - 76s 55ms/step - loss: 0.0708 - accuracy: 0.9767 - val_loss: 0.1380 - val_accuracy: 0.9591\n",
            "Epoch 11/30\n",
            "1382/1382 [==============================] - 76s 55ms/step - loss: 0.0651 - accuracy: 0.9783 - val_loss: 0.1402 - val_accuracy: 0.9578\n",
            "Epoch 12/30\n",
            "1382/1382 [==============================] - 76s 55ms/step - loss: 0.0597 - accuracy: 0.9805 - val_loss: 0.1416 - val_accuracy: 0.9582\n",
            "Epoch 13/30\n",
            "1382/1382 [==============================] - 77s 56ms/step - loss: 0.0541 - accuracy: 0.9819 - val_loss: 0.1455 - val_accuracy: 0.9586\n"
          ],
          "name": "stdout"
        }
      ]
    },
    {
      "cell_type": "code",
      "metadata": {
        "id": "N0MrVvYoJxur"
      },
      "source": [
        "# tf.keras.utils.plot_model(model,to_file='model.png',show_shapes=True)"
      ],
      "execution_count": null,
      "outputs": []
    },
    {
      "cell_type": "markdown",
      "metadata": {
        "id": "kx3VFFcQZelg"
      },
      "source": [
        "**INFERENCE**"
      ]
    },
    {
      "cell_type": "code",
      "metadata": {
        "id": "LTk66ncOehIf"
      },
      "source": [
        "(reverse_input_char_index,reverse_target_char_index, encoder_model, decoder_model) = machine.sampling_inference(model, num_encoder_layers, num_decoder_layers)"
      ],
      "execution_count": null,
      "outputs": []
    },
    {
      "cell_type": "markdown",
      "metadata": {
        "id": "AwmLiNZtZjBU"
      },
      "source": [
        "**ACCURACY**"
      ]
    },
    {
      "cell_type": "code",
      "metadata": {
        "id": "NmqgC5XcbqdD",
        "colab": {
          "base_uri": "https://localhost:8080/"
        },
        "outputId": "b497b5fc-1ebd-4e11-b85e-ed86c1e9d994"
      },
      "source": [
        "################################# Validation Accuracy ###########################################\n",
        "\n",
        "input_data = val_encoder_input_data #english vectors\n",
        "output_corpus = val_target_texts #hindi words\n",
        "val_acc,_ = machine.calculate_accuracy(output_corpus, input_data, reverse_target_char_index, encoder_model, decoder_model)\n",
        "print(val_acc)"
      ],
      "execution_count": null,
      "outputs": [
        {
          "output_type": "stream",
          "text": [
            "0.4153281321707205\n"
          ],
          "name": "stdout"
        }
      ]
    },
    {
      "cell_type": "code",
      "metadata": {
        "colab": {
          "base_uri": "https://localhost:8080/"
        },
        "id": "AhBQ80S8yur9",
        "outputId": "7208a95b-70fd-44ac-c84d-a35566e2c229"
      },
      "source": [
        "################################# Testing Accuracy #############################################\n",
        "\n",
        "input_data = t_encoder_input_data #english vectors\n",
        "output_corpus = t_target_texts #hindi words\n",
        "test_acc,predicted_output= machine.calculate_accuracy(output_corpus, input_data, reverse_target_char_index, encoder_model, decoder_model)\n",
        "print(test_acc)"
      ],
      "execution_count": null,
      "outputs": [
        {
          "output_type": "stream",
          "text": [
            "0.4153709462461128\n"
          ],
          "name": "stdout"
        }
      ]
    },
    {
      "cell_type": "markdown",
      "metadata": {
        "id": "sLogABOL2OMH"
      },
      "source": [
        "**PREPARING CSV FILE**"
      ]
    },
    {
      "cell_type": "code",
      "metadata": {
        "colab": {
          "base_uri": "https://localhost:8080/"
        },
        "id": "lvDoC9qBRUrJ",
        "outputId": "591f1953-b547-4f41-9c81-e00100ff273b"
      },
      "source": [
        "#--------------------------------caution: terminal commands ---------------------------------------------\n",
        "%cd\n",
        "%cd ../content\n",
        "!rm predictions.*"
      ],
      "execution_count": null,
      "outputs": [
        {
          "output_type": "stream",
          "text": [
            "/root\n",
            "/content\n",
            "rm: cannot remove 'predictions.*': No such file or directory\n"
          ],
          "name": "stdout"
        }
      ]
    },
    {
      "cell_type": "code",
      "metadata": {
        "id": "0flWbo1U2LBw"
      },
      "source": [
        "#---------------------------------Creating predictions for predictions_vanilla ---------------------------------------------\n",
        "\n",
        "num_rows = predicted_output.shape[0]\n",
        "num_columns = predicted_output.shape[1]\n",
        "\n",
        "#-------------------------------- Creating CSV file ---------------------------------------------\n",
        "inp_file = open(\"predictions.csv\", \"w\")\n",
        "col_names = \"Input_text,True_output,Predicted_output,Matched,Accuracy_till_now\"+\"\\n\"\n",
        "inp_file.write(col_names)\n",
        "\n",
        "count = 0\n",
        "accuracy_till_now = 0\n",
        "matched = False\n",
        "\n",
        "predictions = []\n",
        "\n",
        "for i in range(num_rows):\n",
        "  decoded_sentence = \"\"\n",
        "  for j in range(num_columns):\n",
        "    decoded_sentence += reverse_target_char_index[predicted_output[i,j]]\n",
        "  decoded_sentence = \"\".join(decoded_sentence.split())\n",
        "  predictions.append(decoded_sentence)\n",
        "  if decoded_sentence == t_target_texts[i].replace(\"\\t\",\"\").replace(\"\\n\",\"\"):\n",
        "    matched = True\n",
        "    count += 1\n",
        "  else:\n",
        "    matched = False\n",
        "  accuracy_till_now = (count/(i+1))\n",
        "  line = str(t_input_texts[i].replace(\"\\t\",\"\").replace(\"\\n\",\"\")) + \",\" + str(t_target_texts[i].replace(\"\\t\",\"\").replace(\"\\n\",\"\")) + \",\" + str(decoded_sentence) + \",\"+ str(matched) +\",\"+ str(accuracy_till_now)+\"\\n\"\n",
        "  inp_file.write(line)\n",
        "\n",
        "#-------------------------------- Closing CSV file ---------------------------------------------\n",
        "inp_file.close()"
      ],
      "execution_count": null,
      "outputs": []
    }
  ]
}