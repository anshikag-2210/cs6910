{
  "nbformat": 4,
  "nbformat_minor": 0,
  "metadata": {
    "colab": {
      "name": "a3_Problem_1.ipynb",
      "provenance": []
    },
    "kernelspec": {
      "name": "python3",
      "display_name": "Python 3"
    },
    "language_info": {
      "name": "python"
    }
  },
  "cells": [
    {
      "cell_type": "code",
      "metadata": {
        "id": "5OlH8H6Dgseh"
      },
      "source": [
        "import tensorflow as tf\n",
        "from tensorflow import keras\n",
        "from tensorflow.keras import layers\n",
        "from tensorflow.keras.models import Sequential\n",
        "import matplotlib.pyplot as plt\n",
        "import numpy as np\n",
        "import os\n",
        "import PIL\n",
        "import cv2\n",
        "import pathlib\n",
        "import glob\n",
        "import shutil\n",
        "import os\n",
        "import random"
      ],
      "execution_count": 1,
      "outputs": []
    },
    {
      "cell_type": "code",
      "metadata": {
        "colab": {
          "base_uri": "https://localhost:8080/"
        },
        "id": "STMGDOBCguDe",
        "outputId": "be953144-9654-4fd4-8343-0b7ac487cf34"
      },
      "source": [
        "#--------------------------------caution: terminal commands ---------------------------------------------\n",
        "%cd\n",
        "%cd .keras/datasets/\n",
        "!rm -r *"
      ],
      "execution_count": 2,
      "outputs": [
        {
          "output_type": "stream",
          "text": [
            "/root\n",
            "[Errno 2] No such file or directory: '.keras/datasets/'\n",
            "/root\n",
            "rm: cannot remove '*': No such file or directory\n"
          ],
          "name": "stdout"
        }
      ]
    },
    {
      "cell_type": "code",
      "metadata": {
        "colab": {
          "base_uri": "https://localhost:8080/"
        },
        "id": "kExxbfhyguAW",
        "outputId": "63077306-47de-4f27-80a9-647c5f04447c"
      },
      "source": [
        "########################################### download data from given url ###############################################\n",
        "\n",
        "dataset_url = \"https://storage.googleapis.com/gresearch/dakshina/dakshina_dataset_v1.0.tar\"\n",
        "data_dir = tf.keras.utils.get_file('dakshina_dataset_v1.0', origin=dataset_url, untar=True)"
      ],
      "execution_count": 3,
      "outputs": [
        {
          "output_type": "stream",
          "text": [
            "Downloading data from https://storage.googleapis.com/gresearch/dakshina/dakshina_dataset_v1.0.tar\n",
            "2008342528/2008340480 [==============================] - 13s 0us/step\n"
          ],
          "name": "stdout"
        }
      ]
    },
    {
      "cell_type": "code",
      "metadata": {
        "colab": {
          "base_uri": "https://localhost:8080/"
        },
        "id": "FsOhKufxgt7-",
        "outputId": "e7b0add7-0895-495e-e7cb-7666dc586d24"
      },
      "source": [
        "#----------------------------------terminal command -----------------------------------------------\n",
        "%cd /root/.keras/datasets/dakshina_dataset_v1.0/hi/lexicons/\n",
        "!ls"
      ],
      "execution_count": 4,
      "outputs": [
        {
          "output_type": "stream",
          "text": [
            "/root/.keras/datasets/dakshina_dataset_v1.0/hi/lexicons\n",
            "hi.translit.sampled.dev.tsv   hi.translit.sampled.train.tsv\n",
            "hi.translit.sampled.test.tsv\n"
          ],
          "name": "stdout"
        }
      ]
    },
    {
      "cell_type": "code",
      "metadata": {
        "id": "zxSiYbw8hpcH"
      },
      "source": [
        "train_data_path = \"hi.translit.sampled.train.tsv\"\n",
        "test_data_path = \"hi.translit.sampled.test.tsv\"\n",
        "validation_data_path = \"hi.translit.sampled.dev.tsv\""
      ],
      "execution_count": 5,
      "outputs": []
    },
    {
      "cell_type": "markdown",
      "metadata": {
        "id": "0ihHzaQ5KXj_"
      },
      "source": [
        "**UTILITY FUNCTIONS FOR PREPOCESSING**"
      ]
    },
    {
      "cell_type": "code",
      "metadata": {
        "id": "4iqFHMS9Msbd"
      },
      "source": [
        "################################# function for vectorizing the data ##########################################\n",
        "\n",
        "def vectorize_data(train_data_path):\n",
        "  input_texts = []\n",
        "  target_texts = []\n",
        "  input_characters = set()\n",
        "  target_characters = set()\n",
        "  with open(train_data_path, \"r\", encoding=\"utf-8\") as f:\n",
        "    lines = f.read().split(\"\\n\")\n",
        "  for line in lines[: min(num_samples, len(lines) - 1)]:\n",
        "    target_text, input_text, _ = line.split(\"\\t\")\n",
        "    #---------------We use \"tab\" as the \"start sequence\" character---------------------\n",
        "    #----------------for the targets, and \"\\n\" as \"end sequence\" character-----------------.\n",
        "    target_text = \"\\t\" + target_text + \"\\n\"\n",
        "    input_texts.append(input_text)\n",
        "    target_texts.append(target_text)\n",
        "    for char in input_text:\n",
        "        if char not in input_characters:\n",
        "            input_characters.add(char)\n",
        "    for char in target_text:\n",
        "        if char not in target_characters:\n",
        "            target_characters.add(char)\n",
        "\n",
        "  #--------------------------------artificially added-----------------------------\n",
        "  input_characters.add(\" \")\n",
        "  target_characters.add(\" \")\n",
        "\n",
        "  input_characters = sorted(list(input_characters))\n",
        "  target_characters = sorted(list(target_characters))\n",
        "\n",
        "  num_encoder_tokens = len(input_characters)\n",
        "  num_decoder_tokens = len(target_characters)\n",
        "  max_encoder_seq_length = max([len(txt) for txt in input_texts])\n",
        "  max_decoder_seq_length = max([len(txt) for txt in target_texts])\n",
        "\n",
        "  print(\"Number of samples:\", len(input_texts))\n",
        "  print(\"Number of unique input tokens:\", num_encoder_tokens)\n",
        "  print(\"Number of unique output tokens:\", num_decoder_tokens)\n",
        "  print(\"Max sequence length for inputs:\", max_encoder_seq_length)\n",
        "  print(\"Max sequence length for outputs:\", max_decoder_seq_length)\n",
        "\n",
        "  input_token_index = dict([(char, i) for i, char in enumerate(input_characters)])\n",
        "  target_token_index = dict([(char, i) for i, char in enumerate(target_characters)])\n",
        "\n",
        "  input_details = [input_characters, input_texts, input_token_index, num_encoder_tokens, max_encoder_seq_length]\n",
        "  target_details = [target_characters, target_texts, target_token_index, num_decoder_tokens, max_decoder_seq_length]\n",
        "\n",
        "  return (input_details, target_details)"
      ],
      "execution_count": 6,
      "outputs": []
    },
    {
      "cell_type": "code",
      "metadata": {
        "id": "MK_dT-20VMk1"
      },
      "source": [
        "################### function for converting the data into apropriate ONE-Hot vector ######################\n",
        "\n",
        "def onehot(input_details, target_details):\n",
        "\n",
        "    #---------------------------unzipping information-----------------------------------\n",
        "    input_characters = input_details[0]\n",
        "    input_texts = input_details[1]\n",
        "    input_token_index = input_details[2]\n",
        "    num_encoder_tokens = input_details[3]\n",
        "    max_encoder_seq_length = input_details[4]\n",
        "\n",
        "    target_characters = target_details[0]\n",
        "    target_texts = target_details[1]\n",
        "    target_token_index = target_details[2]\n",
        "    num_decoder_tokens = target_details[3]\n",
        "    max_decoder_seq_length = target_details[4]\n",
        "\n",
        "    #---------------------------- creating 3-Dim  matrics with all entries = 0 ----------------------------------- \n",
        "    encoder_input_data = np.zeros((len(input_texts), max_encoder_seq_length, num_encoder_tokens), dtype=\"float32\")\n",
        "    decoder_input_data = np.zeros((len(input_texts), max_decoder_seq_length, num_decoder_tokens), dtype=\"float32\")\n",
        "    decoder_target_data = np.zeros((len(input_texts), max_decoder_seq_length, num_decoder_tokens), dtype=\"float32\")\n",
        "\n",
        "    for i, (input_text, target_text) in enumerate(zip(input_texts, target_texts)):\n",
        "        for t, char in enumerate(input_text):\n",
        "            encoder_input_data[i, t, input_token_index[char]] = 1.0\n",
        "\n",
        "        encoder_input_data[i, t + 1 :, input_token_index[\" \"]] = 1.0\n",
        "        for t, char in enumerate(target_text):\n",
        "# --------------decoder_target_data is ahead of decoder_input_data by one timestep ----------------------------\n",
        "            decoder_input_data[i, t, target_token_index[char]] = 1.0\n",
        "            \n",
        "            if t > 0:\n",
        "# ----------------decoder_target_data will be ahead by one timestep----------------------------------\n",
        "                decoder_target_data[i, t - 1, target_token_index[char]] = 1.0\n",
        "\n",
        "        decoder_input_data[i, t + 1 :, target_token_index[\" \"]] = 1.0\n",
        "        decoder_target_data[i, t:, target_token_index[\" \"]] = 1.0\n",
        "    \n",
        "    return (encoder_input_data, decoder_input_data, decoder_target_data)"
      ],
      "execution_count": 7,
      "outputs": []
    },
    {
      "cell_type": "code",
      "metadata": {
        "id": "Es6uD_3JJT7p"
      },
      "source": [
        "################### function for creating data into appropriate form required for embedding ###################\n",
        "\n",
        "def get_input_for_embedding(input_details, embed_size):\n",
        "\n",
        "  #---------------------------unzipping information-----------------------------------\n",
        "  input_characters = input_details[0]\n",
        "  input_texts = input_details[1]\n",
        "  input_token_index = input_details[2]\n",
        "  num_encoder_tokens = input_details[3]\n",
        "  max_encoder_seq_length = input_details[4]\n",
        "  \n",
        "  input_array = np.zeros((len(input_texts), max_encoder_seq_length), dtype=\"float32\")\n",
        "  for (i, input_text) in enumerate(input_texts):\n",
        "        for (t, char) in enumerate(input_text):\n",
        "            input_array[i, t] = input_token_index[char]\n",
        "        input_array[i, t + 1 :] = input_token_index[\" \"]\n",
        "\n",
        "  return input_array\n",
        "\n"
      ],
      "execution_count": 8,
      "outputs": []
    },
    {
      "cell_type": "markdown",
      "metadata": {
        "id": "N82OZs3TNcLK"
      },
      "source": [
        "\n",
        "**MACHINE TRANSLITERATOR**\n"
      ]
    },
    {
      "cell_type": "code",
      "metadata": {
        "id": "XYsd6Xetg7dv"
      },
      "source": [
        "class Machine_Transliterator():\n",
        "\n",
        "  ############################################# constructor for class Machine_Transliterator ##########################################\n",
        "\n",
        "  def __init__(self,max_encoder_seq_length,max_decoder_seq_length,encoder_embed_size, decoder_embed_size,\n",
        "               num_hidden_layers_in_encoder,num_hidden_layers_in_decoder,epochs, hidden_layer_size,\n",
        "               num_encoder_tokens, cell_type, num_decoder_tokens,input_token_index, target_token_index, \n",
        "               activation=\"softmax\",optimizer=\"rmsprop\"):\n",
        "    \n",
        "    self.cell_type= cell_type\n",
        "    self.hidden_layer_size = hidden_layer_size  \n",
        "    self.optimizer = optimizer\n",
        "    self.activation = activation   \n",
        "\n",
        "    #-------------------------------------- Number of hidden layers -------------------------------------\n",
        "\n",
        "    self.num_hidden_layers_in_encoder = num_hidden_layers_in_encoder\n",
        "    self.num_hidden_layers_in_decoder=num_hidden_layers_in_decoder\n",
        "\n",
        "    #-------------------------------------- sequence length -------------------------------------\n",
        "    self.max_decoder_seq_length=max_decoder_seq_length\n",
        "    self.max_encoder_seq_length=max_encoder_seq_length\n",
        "\n",
        "    #---------------------------------------------Embedding size-------------------------------------\n",
        "    self.encoder_embed_size = encoder_embed_size\n",
        "    self.decoder_embed_size = decoder_embed_size\n",
        "    \n",
        "    #-----------------information obtained after preprocessing of data-------------------------------------\n",
        "    self.num_encoder_tokens = num_encoder_tokens\n",
        "    self.num_decoder_tokens = num_decoder_tokens\n",
        "\n",
        "    #-----------------------------dictionaries----------------------------------------------------\n",
        "    self.input_token_index = input_token_index\n",
        "    self.target_token_index = target_token_index\n",
        "\n",
        " \n",
        "\n",
        "\n",
        "#########################################function to build model ###########################################\n",
        "\n",
        "  def build_model(self):\n",
        "\n",
        "    # encoder_inputs = keras.Input(shape=(None, self.num_encoder_tokens))\n",
        "    encoder_inputs = keras.Input(shape=(None,))\n",
        "\n",
        "    encoder_embedding_output = tf.keras.layers.Embedding(self.num_encoder_tokens, self.encoder_embed_size, input_length = self.max_encoder_seq_length)(encoder_inputs)\n",
        "\n",
        "\n",
        "#------------------------------ if cell type = LSTM -------------------------------------------------------------\n",
        "    if self.cell_type == \"lstm\":\n",
        "     #--------------------- encoder -----------------------------------\n",
        "      encoder = keras.layers.LSTM(self.hidden_layer_size, return_state=True, return_sequences=True)\n",
        "      encoder_outputs, state_h, state_c = encoder(encoder_embedding_output)\n",
        "      for i in range(1,self.num_hidden_layers_in_encoder):\n",
        "        encoder = keras.layers.LSTM(self.hidden_layer_size, return_state=True,return_sequences=True)\n",
        "        encoder_outputs, state_h, state_c = encoder(encoder_outputs)\n",
        "      encoder_states = [state_h, state_c]\n",
        "\n",
        "      #---------------------------decoder ---------------------------------------------------\n",
        "      decoder_inputs = keras.Input(shape=(None, ))\n",
        "      decoder_embedding_output = tf.keras.layers.Embedding(self.num_decoder_tokens, self.decoder_embed_size, input_length = self.max_decoder_seq_length)(decoder_inputs)\n",
        "\n",
        "      decoder = keras.layers.LSTM(self.hidden_layer_size, return_sequences=True, return_state=True)\n",
        "      decoder_outputs, _, _= decoder(decoder_embedding_output, initial_state = encoder_states)\n",
        "      for i in range(1,self.num_hidden_layers_in_decoder):\n",
        "        decoder = keras.layers.LSTM(self.hidden_layer_size, return_state=True,return_sequences=True)\n",
        "        decoder_outputs, _ , _= decoder(decoder_outputs, initial_state = encoder_states)\n",
        "\n",
        "\n",
        "\n",
        "#------------------------------ if cell type = Simple RNN -------------------------------------------------------------\n",
        "    elif self.cell_type == \"rnn\":\n",
        "      #--------------------- encoder -----------------------------------\n",
        "      encoder = keras.layers.SimpleRNN(self.hidden_layer_size, return_state=True,return_sequences=True)\n",
        "      encoder_outputs, state = encoder(encoder_embedding_output)\n",
        "      for i in range(1,self.num_hidden_layers_in_encoder):\n",
        "        encoder = keras.layers.SimpleRNN(self.hidden_layer_size, return_state=True,return_sequences=True)\n",
        "        encoder_outputs, state = encoder(encoder_outputs)\n",
        "      encoder_states = [state]\n",
        "\n",
        "      #---------------------------decoder ---------------------------------------------------\n",
        "      decoder_inputs = keras.Input(shape=(None,))\n",
        "      decoder_embedding_output = tf.keras.layers.Embedding(self.num_decoder_tokens, self.decoder_embed_size, input_length = self.max_decoder_seq_length)(decoder_inputs)\n",
        "\n",
        "      decoder = keras.layers.SimpleRNN(self.hidden_layer_size, return_state=True,return_sequences=True)\n",
        "      decoder_outputs, _ = decoder(decoder_embedding_output, initial_state = encoder_states)\n",
        "      for i in range(1,self.num_hidden_layers_in_decoder):\n",
        "        decoder = keras.layers.SimpleRNN(self.hidden_layer_size, return_state=True,return_sequences=True)\n",
        "        decoder_outputs, _= decoder(decoder_outputs, initial_state = encoder_states)\n",
        "\n",
        "\n",
        "\n",
        "#------------------------------ if cell type = GRU -------------------------------------------------------------\n",
        "    elif self.cell_type == \"gru\":\n",
        "      #--------------------- encoder -----------------------------------\n",
        "      encoder = keras.layers.GRU(self.hidden_layer_size, return_state=True,return_sequences=True)\n",
        "      encoder_outputs, state = encoder(encoder_embedding_output)\n",
        "      for i in range(1,self.num_hidden_layers_in_encoder):\n",
        "        encoder = keras.layers.GRU(self.hidden_layer_size, return_state=True,return_sequences=True)\n",
        "        encoder_outputs, state = encoder(encoder_outputs)\n",
        "      encoder_states = [state]\n",
        "\n",
        "      #---------------------------decoder ---------------------------------------------------\n",
        "      decoder_inputs = keras.Input(shape=(None, ))\n",
        "      decoder_embedding_output = tf.keras.layers.Embedding(self.num_decoder_tokens, self.decoder_embed_size, input_length = self.max_decoder_seq_length)(decoder_inputs)\n",
        "      \n",
        "      decoder = keras.layers.GRU(self.hidden_layer_size, return_state=True,return_sequences=True)\n",
        "      decoder_outputs, _ = decoder(decoder_inputs, initial_state = encoder_states)\n",
        "      for i in range(1,self.num_hidden_layers_in_decoder):\n",
        "        decoder = keras.layers.GRU(self.hidden_layer_size, return_state=True,return_sequences=True)\n",
        "        decoder_outputs, _ = decoder(decoder_outputs, initial_state = encoder_states)\n",
        "\n",
        "\n",
        "    decoder_dense = keras.layers.Dense(self.num_decoder_tokens, activation = self.activation)\n",
        "    decoder_outputs = decoder_dense(decoder_outputs)\n",
        "    model = keras.Model([encoder_inputs, decoder_inputs], decoder_outputs)\n",
        "\n",
        "#-------------------------- return final model ---------------------------------------------------------\n",
        "    return model\n",
        "\n",
        "\n",
        "\n",
        "\n",
        "\n",
        "#########################################function for training the model ###########################################\n",
        "\n",
        "  def train_model(self,encoder_input_data,decoder_input_data,decoder_target_data,epochs,batch_size,\n",
        "                  val_encoder_input_data, val_decoder_input_data, val_decoder_target_data\n",
        "                  ):\n",
        "     model=self.build_model()\n",
        "\n",
        "     #-----------------compile the model -------------------------------------\n",
        "     model.compile(\n",
        "         optimizer=self.optimizer,\n",
        "         loss=\"categorical_crossentropy\",\n",
        "         metrics=[\"accuracy\"]\n",
        "         )      \n",
        "     model.fit(\n",
        "        [encoder_input_data, decoder_input_data],\n",
        "        decoder_target_data,\n",
        "        batch_size = batch_size,\n",
        "        epochs = epochs,\n",
        "        validation_data = ([val_encoder_input_data, val_decoder_input_data],val_decoder_target_data),)\n",
        "     return model\n",
        "\n",
        "#===================================== end of class Machine_Transliterator ==========================================\n",
        "\n"
      ],
      "execution_count": 9,
      "outputs": []
    },
    {
      "cell_type": "markdown",
      "metadata": {
        "id": "NR4rOYbMVIUZ"
      },
      "source": [
        "**PARAMETERS**"
      ]
    },
    {
      "cell_type": "code",
      "metadata": {
        "id": "llXj7Z6LSnMz"
      },
      "source": [
        "cell_type = \"rnn\" # Type of the recurring unit\n",
        "batch_size = 64  # Batch size for training.\n",
        "epochs = 20  # Number of epochs to train for.\n",
        "hidden_layer_size= 256  # Latent dimensionality of the encoding space.\n",
        "num_samples = 10000  # Number of samples to train on.\n",
        "activation = \"softmax\" #activation\n",
        "optimizer = \"rmsprop\"  #optimizer\n",
        "encoder_embed_size = 50 #Encoder embedsize\n",
        "decoder_embed_size = 50 #Decoder embedsize\n",
        "num_hidden_layers_in_encoder=2  # number of hidden layers in encoder\n",
        "num_hidden_layers_in_decoder=2   # number of hidden layers in decoder"
      ],
      "execution_count": 10,
      "outputs": []
    },
    {
      "cell_type": "markdown",
      "metadata": {
        "id": "JH8MZK3IPERe"
      },
      "source": [
        "**PREPROCESSING THE DATA**"
      ]
    },
    {
      "cell_type": "code",
      "metadata": {
        "colab": {
          "base_uri": "https://localhost:8080/"
        },
        "id": "eYj3x6F4SNTm",
        "outputId": "a7991254-ba16-44af-cafe-b5ff75e40046"
      },
      "source": [
        "############################# preprocessing the train data ################################\n",
        "\n",
        "#---------------------------- vectorizing train data ----------------------------------\n",
        "input_details, target_details = vectorize_data(train_data_path)\n",
        "\n",
        "#------------------------converting data into one-hot representation ---------------------------\n",
        "encoder_input_data, decoder_input_data, decoder_target_data = onehot(input_details, target_details)\n",
        "\n",
        "#------------------------------- unzipping the data ----------------------------------------\n",
        "input_characters = input_details[0]\n",
        "input_texts = input_details[1]\n",
        "input_token_index = input_details[2]\n",
        "num_encoder_tokens = input_details[3]\n",
        "max_encoder_seq_length = input_details[4]\n",
        "target_characters = target_details[0]\n",
        "target_texts = target_details[1]\n",
        "target_token_index = target_details[2]\n",
        "num_decoder_tokens = target_details[3]\n",
        "max_decoder_seq_length = target_details[4]\n",
        "\n",
        "#-------------------- converting input data into appropriate embedding ----------------------\n",
        "encoder_input_data = get_input_for_embedding(input_details, encoder_embed_size)\n",
        "decoder_input_data = get_input_for_embedding(target_details, decoder_embed_size)"
      ],
      "execution_count": 11,
      "outputs": [
        {
          "output_type": "stream",
          "text": [
            "Number of samples: 10000\n",
            "Number of unique input tokens: 27\n",
            "Number of unique output tokens: 64\n",
            "Max sequence length for inputs: 18\n",
            "Max sequence length for outputs: 20\n"
          ],
          "name": "stdout"
        }
      ]
    },
    {
      "cell_type": "code",
      "metadata": {
        "colab": {
          "base_uri": "https://localhost:8080/"
        },
        "id": "F2PGYsKfb84-",
        "outputId": "04708f5c-e504-4aec-84a1-b335fbd8f857"
      },
      "source": [
        "############################# preprocessing the validation data ################################\n",
        "\n",
        "#---------------------------- vectorizing validation data ----------------------------------\n",
        "val_input_details, val_target_details = vectorize_data(validation_data_path)\n",
        "\n",
        "#------------------------converting data into one-hot representation ---------------------------\n",
        "val_encoder_input_data, val_decoder_input_data, val_decoder_target_data = onehot(val_input_details, val_target_details)\n",
        "\n",
        "#------------------------------- unzipping the data ----------------------------------------\n",
        "val_input_characters = val_input_details[0]\n",
        "val_input_texts = val_input_details[1]\n",
        "val_input_token_index = val_input_details[2]\n",
        "val_num_encoder_tokens = val_input_details[3]\n",
        "val_max_encoder_seq_length = val_input_details[4]\n",
        "val_target_characters = val_target_details[0]\n",
        "val_target_texts = val_target_details[1]\n",
        "val_target_token_index = val_target_details[2]\n",
        "val_num_decoder_tokens = val_target_details[3]\n",
        "val_max_decoder_seq_length = val_target_details[4]\n",
        "\n",
        "#-------------------- converting input data into appropriate embedding ----------------------\n",
        "val_encoder_input_data = get_input_for_embedding(val_input_details, encoder_embed_size)\n",
        "val_decoder_input_data = get_input_for_embedding(val_target_details, decoder_embed_size)"
      ],
      "execution_count": 12,
      "outputs": [
        {
          "output_type": "stream",
          "text": [
            "Number of samples: 4358\n",
            "Number of unique input tokens: 27\n",
            "Number of unique output tokens: 64\n",
            "Max sequence length for inputs: 18\n",
            "Max sequence length for outputs: 16\n"
          ],
          "name": "stdout"
        }
      ]
    },
    {
      "cell_type": "markdown",
      "metadata": {
        "id": "eWh3rwRTcDuT"
      },
      "source": [
        "**CREATING MACHINE TRANSLITERATOR**"
      ]
    },
    {
      "cell_type": "code",
      "metadata": {
        "id": "oeEXyTYcg7bF"
      },
      "source": [
        "########################### creating machine transliterator object ###############################\n",
        "machine = Machine_Transliterator(\n",
        "    max_encoder_seq_length,max_decoder_seq_length,encoder_embed_size, \n",
        "    decoder_embed_size,num_hidden_layers_in_encoder,num_hidden_layers_in_decoder,\n",
        "    batch_size, hidden_layer_size, num_encoder_tokens, cell_type, num_decoder_tokens, \n",
        "     input_token_index,target_token_index, activation, optimizer\n",
        "    )"
      ],
      "execution_count": 13,
      "outputs": []
    },
    {
      "cell_type": "markdown",
      "metadata": {
        "id": "TJlX41fVRs1x"
      },
      "source": [
        "**TRAINING**"
      ]
    },
    {
      "cell_type": "code",
      "metadata": {
        "id": "-UQyh8rmdkM8",
        "colab": {
          "base_uri": "https://localhost:8080/"
        },
        "outputId": "b2a77b17-8398-4359-c31c-adedf5925e08"
      },
      "source": [
        "model = machine.train_model(\n",
        "    encoder_input_data, decoder_input_data,decoder_target_data,epochs,batch_size,\n",
        "    val_encoder_input_data, val_decoder_input_data, val_decoder_target_data\n",
        "    )"
      ],
      "execution_count": 14,
      "outputs": [
        {
          "output_type": "stream",
          "text": [
            "Epoch 1/20\n",
            "157/157 [==============================] - 26s 149ms/step - loss: 2.3096 - accuracy: 0.5446 - val_loss: 1.5913 - val_accuracy: 0.6384\n",
            "Epoch 2/20\n",
            "157/157 [==============================] - 22s 143ms/step - loss: 1.0545 - accuracy: 0.7240 - val_loss: 1.5593 - val_accuracy: 0.6577\n",
            "Epoch 3/20\n",
            "157/157 [==============================] - 23s 144ms/step - loss: 0.8876 - accuracy: 0.7530 - val_loss: 1.5189 - val_accuracy: 0.6663\n",
            "Epoch 4/20\n",
            "157/157 [==============================] - 23s 146ms/step - loss: 0.8567 - accuracy: 0.7596 - val_loss: 1.4971 - val_accuracy: 0.6615\n",
            "Epoch 5/20\n",
            "157/157 [==============================] - 23s 146ms/step - loss: 0.8093 - accuracy: 0.7712 - val_loss: 1.4752 - val_accuracy: 0.6721\n",
            "Epoch 6/20\n",
            "157/157 [==============================] - 23s 147ms/step - loss: 0.7757 - accuracy: 0.7792 - val_loss: 1.5239 - val_accuracy: 0.6655\n",
            "Epoch 7/20\n",
            "157/157 [==============================] - 23s 147ms/step - loss: 0.7390 - accuracy: 0.7877 - val_loss: 1.5025 - val_accuracy: 0.6759\n",
            "Epoch 8/20\n",
            "157/157 [==============================] - 23s 147ms/step - loss: 0.7126 - accuracy: 0.7957 - val_loss: 1.5600 - val_accuracy: 0.6687\n",
            "Epoch 9/20\n",
            "157/157 [==============================] - 23s 146ms/step - loss: 0.6895 - accuracy: 0.7993 - val_loss: 1.5799 - val_accuracy: 0.6741\n",
            "Epoch 10/20\n",
            "157/157 [==============================] - 23s 146ms/step - loss: 0.6623 - accuracy: 0.8082 - val_loss: 1.6230 - val_accuracy: 0.6749\n",
            "Epoch 11/20\n",
            "157/157 [==============================] - 23s 145ms/step - loss: 0.6517 - accuracy: 0.8095 - val_loss: 1.6070 - val_accuracy: 0.6725\n",
            "Epoch 12/20\n",
            "157/157 [==============================] - 23s 146ms/step - loss: 0.6352 - accuracy: 0.8149 - val_loss: 1.6288 - val_accuracy: 0.6714\n",
            "Epoch 13/20\n",
            "157/157 [==============================] - 23s 147ms/step - loss: 0.6046 - accuracy: 0.8220 - val_loss: 1.6184 - val_accuracy: 0.6730\n",
            "Epoch 14/20\n",
            "157/157 [==============================] - 25s 159ms/step - loss: 0.5859 - accuracy: 0.8270 - val_loss: 1.6528 - val_accuracy: 0.6720\n",
            "Epoch 15/20\n",
            "157/157 [==============================] - 23s 147ms/step - loss: 0.5680 - accuracy: 0.8324 - val_loss: 1.6655 - val_accuracy: 0.6702\n",
            "Epoch 16/20\n",
            "157/157 [==============================] - 23s 147ms/step - loss: 0.5541 - accuracy: 0.8360 - val_loss: 1.6818 - val_accuracy: 0.6723\n",
            "Epoch 17/20\n",
            "157/157 [==============================] - 23s 148ms/step - loss: 0.5459 - accuracy: 0.8373 - val_loss: 1.6699 - val_accuracy: 0.6726\n",
            "Epoch 18/20\n",
            "157/157 [==============================] - 23s 147ms/step - loss: 0.5372 - accuracy: 0.8404 - val_loss: 1.7118 - val_accuracy: 0.6731\n",
            "Epoch 19/20\n",
            "157/157 [==============================] - 23s 147ms/step - loss: 0.5261 - accuracy: 0.8431 - val_loss: 1.7551 - val_accuracy: 0.6702\n",
            "Epoch 20/20\n",
            "157/157 [==============================] - 23s 147ms/step - loss: 0.5124 - accuracy: 0.8467 - val_loss: 1.7784 - val_accuracy: 0.6704\n"
          ],
          "name": "stdout"
        }
      ]
    }
  ]
}