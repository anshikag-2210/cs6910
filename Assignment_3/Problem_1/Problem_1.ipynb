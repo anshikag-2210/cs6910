{
  "nbformat": 4,
  "nbformat_minor": 0,
  "metadata": {
    "colab": {
      "name": "Problem_1.ipynb",
      "provenance": [],
      "collapsed_sections": []
    },
    "kernelspec": {
      "display_name": "Python 3",
      "name": "python3"
    },
    "language_info": {
      "name": "python"
    },
    "accelerator": "GPU"
  },
  "cells": [
    {
      "cell_type": "code",
      "metadata": {
        "id": "5OlH8H6Dgseh"
      },
      "source": [
        "import tensorflow as tf\n",
        "from tensorflow import keras\n",
        "from tensorflow.keras import layers\n",
        "from tensorflow.keras.models import Sequential\n",
        "import matplotlib.pyplot as plt\n",
        "import numpy as np\n",
        "import os\n",
        "import PIL\n",
        "import cv2\n",
        "import pathlib\n",
        "import glob\n",
        "import shutil\n",
        "import os\n",
        "import random"
      ],
      "execution_count": 1,
      "outputs": []
    },
    {
      "cell_type": "code",
      "metadata": {
        "colab": {
          "base_uri": "https://localhost:8080/"
        },
        "id": "STMGDOBCguDe",
        "outputId": "0f4798c0-1638-4b4f-d6f3-c8a2bbdbb533"
      },
      "source": [
        "#--------------------------------caution: terminal commands ---------------------------------------------\n",
        "%cd\n",
        "%cd .keras/datasets/\n",
        "!rm -r *"
      ],
      "execution_count": 2,
      "outputs": [
        {
          "output_type": "stream",
          "text": [
            "/root\n",
            "[Errno 2] No such file or directory: '.keras/datasets/'\n",
            "/root\n",
            "rm: cannot remove '*': No such file or directory\n"
          ],
          "name": "stdout"
        }
      ]
    },
    {
      "cell_type": "code",
      "metadata": {
        "colab": {
          "base_uri": "https://localhost:8080/"
        },
        "id": "kExxbfhyguAW",
        "outputId": "232695a4-65b8-4f87-c2f3-b7457a308a7b"
      },
      "source": [
        "########################################### download data from given url ###############################################\n",
        "\n",
        "dataset_url = \"https://storage.googleapis.com/gresearch/dakshina/dakshina_dataset_v1.0.tar\"\n",
        "data_dir = tf.keras.utils.get_file('dakshina_dataset_v1.0', origin=dataset_url, untar=True)"
      ],
      "execution_count": 3,
      "outputs": [
        {
          "output_type": "stream",
          "text": [
            "Downloading data from https://storage.googleapis.com/gresearch/dakshina/dakshina_dataset_v1.0.tar\n",
            "2008342528/2008340480 [==============================] - 17s 0us/step\n"
          ],
          "name": "stdout"
        }
      ]
    },
    {
      "cell_type": "code",
      "metadata": {
        "colab": {
          "base_uri": "https://localhost:8080/"
        },
        "id": "FsOhKufxgt7-",
        "outputId": "25335d16-3c06-4739-beee-16eac201f5db"
      },
      "source": [
        "#----------------------------------terminal command -----------------------------------------------\n",
        "%cd /root/.keras/datasets/dakshina_dataset_v1.0/hi/lexicons/\n",
        "!ls"
      ],
      "execution_count": 4,
      "outputs": [
        {
          "output_type": "stream",
          "text": [
            "/root/.keras/datasets/dakshina_dataset_v1.0/hi/lexicons\n",
            "hi.translit.sampled.dev.tsv   hi.translit.sampled.train.tsv\n",
            "hi.translit.sampled.test.tsv\n"
          ],
          "name": "stdout"
        }
      ]
    },
    {
      "cell_type": "code",
      "metadata": {
        "id": "zxSiYbw8hpcH"
      },
      "source": [
        "train_data_path = \"hi.translit.sampled.train.tsv\"\n",
        "test_data_path = \"hi.translit.sampled.test.tsv\"\n",
        "validation_data_path = \"hi.translit.sampled.dev.tsv\""
      ],
      "execution_count": 5,
      "outputs": []
    },
    {
      "cell_type": "markdown",
      "metadata": {
        "id": "KtQd8WIJjcfi"
      },
      "source": [
        "**UTILITY FUNCTION FOR DATA PRE-PROCESSING**"
      ]
    },
    {
      "cell_type": "code",
      "metadata": {
        "id": "Rmc0tpmjjbE3"
      },
      "source": [
        "################################################ preparing the data in required format #################################################\n",
        "\n",
        "def data(path,input_token_index,target_token_index):\n",
        "  input_texts = []\n",
        "  target_texts = []\n",
        "  with open(path, \"r\", encoding=\"utf-8\") as f:\n",
        "      lines = f.read().split(\"\\n\")\n",
        "  del lines[-1]\n",
        "  for line in lines:\n",
        "      target_text, input_text, _ = line.split(\"\\t\")\n",
        "\n",
        "      input_text = \"\\t\"+input_text + \"\\n\"\n",
        "      target_text = \"\\t\"+target_text + \"\\n\"\n",
        "\n",
        "      input_texts.append(input_text)\n",
        "      target_texts.append(target_text)\n",
        "\n",
        "  encoder_input_data = np.zeros( (len(input_texts), max_encoder_seq_length), dtype=\"int32\")\n",
        "  decoder_input_data = np.zeros( (len(input_texts), max_decoder_seq_length), dtype=\"int32\")\n",
        "  decoder_target_data = np.zeros((len(input_texts), max_decoder_seq_length, num_decoder_tokens), dtype=\"int32\")\n",
        "\n",
        "  for i, (input_text, target_text) in enumerate(zip(input_texts, target_texts)):\n",
        "      for t, char in enumerate(input_text):\n",
        "          encoder_input_data[i, t] = input_token_index[char]\n",
        "      encoder_input_data[i, t + 1 :] = input_token_index[\" \"]\n",
        "      for t, char in enumerate(target_text):\n",
        "          # decoder_target_data is ahead of decoder_input_data by one timestep\n",
        "          decoder_input_data[i, t] = target_token_index[char]\n",
        "          if t > 0:\n",
        "              # decoder_target_data will be ahead by one timestep\n",
        "              # and will not include the start character.\n",
        "              decoder_target_data[i, t - 1, target_token_index[char]] = 1.0\n",
        "      decoder_input_data[i, t + 1 :] = target_token_index[\" \"]\n",
        "      decoder_target_data[i, t:, target_token_index[\" \"]] = 1.0\n",
        "    \n",
        "  return (encoder_input_data, decoder_input_data, decoder_target_data, target_texts, input_texts)"
      ],
      "execution_count": 6,
      "outputs": []
    },
    {
      "cell_type": "markdown",
      "metadata": {
        "id": "yHX43bsSjPZ0"
      },
      "source": [
        "**PREPROCESSING THE DATA**"
      ]
    },
    {
      "cell_type": "code",
      "metadata": {
        "colab": {
          "base_uri": "https://localhost:8080/"
        },
        "id": "OvzlQKeQg481",
        "outputId": "8d44f3d2-0f5e-41e0-e3f2-78515e26e0b3"
      },
      "source": [
        "################################################ preprocessing the train data and getting dictionaries #################################################\n",
        "\n",
        "input_texts = []\n",
        "target_texts = []\n",
        "input_characters = set()\n",
        "target_characters = set()\n",
        "with open(train_data_path, \"r\", encoding=\"utf-8\") as f:\n",
        "    lines = f.read().split(\"\\n\")\n",
        "\n",
        "del lines[-1]\n",
        "for line in lines:\n",
        "    target_text, input_text, _ = line.split(\"\\t\")\n",
        "    input_text = \"\\t\"+input_text + \"\\n\"\n",
        "    target_text = \"\\t\"+target_text + \"\\n\"\n",
        "\n",
        "    input_texts.append(input_text)\n",
        "    target_texts.append(target_text)\n",
        "    for char in input_text:\n",
        "        if char not in input_characters:\n",
        "            input_characters.add(char)\n",
        "    for char in target_text:\n",
        "        if char not in target_characters:\n",
        "            target_characters.add(char)\n",
        "\n",
        "input_characters.add(\" \")\n",
        "target_characters.add(\" \")\n",
        "\n",
        "input_characters = sorted(list(input_characters))\n",
        "target_characters = sorted(list(target_characters))\n",
        "num_encoder_tokens = len(input_characters)\n",
        "num_decoder_tokens = len(target_characters)\n",
        "max_encoder_seq_length = max([len(txt) for txt in input_texts])\n",
        "max_decoder_seq_length = max([len(txt) for txt in target_texts])\n",
        "\n",
        "print(\"Number of samples:\", len(input_texts))\n",
        "print(\"Number of unique input tokens:\", num_encoder_tokens)\n",
        "print(\"Number of unique output tokens:\", num_decoder_tokens)\n",
        "print(\"Max sequence length for inputs:\", max_encoder_seq_length)\n",
        "print(\"Max sequence length for outputs:\", max_decoder_seq_length)\n",
        "\n",
        "input_token_index = dict([(char, i) for i, char in enumerate(input_characters)])\n",
        "target_token_index = dict([(char, i) for i, char in enumerate(target_characters)])\n"
      ],
      "execution_count": 7,
      "outputs": [
        {
          "output_type": "stream",
          "text": [
            "Number of samples: 44204\n",
            "Number of unique input tokens: 29\n",
            "Number of unique output tokens: 66\n",
            "Max sequence length for inputs: 22\n",
            "Max sequence length for outputs: 21\n"
          ],
          "name": "stdout"
        }
      ]
    },
    {
      "cell_type": "markdown",
      "metadata": {
        "id": "N82OZs3TNcLK"
      },
      "source": [
        "\n",
        "**MACHINE TRANSLITERATOR**\n"
      ]
    },
    {
      "cell_type": "code",
      "metadata": {
        "id": "XYsd6Xetg7dv"
      },
      "source": [
        "class Machine_Transliterator():\n",
        "\n",
        "  ############################################# constructor for class Machine_Transliterator ##########################################\n",
        "\n",
        "  def __init__(self,max_encoder_seq_length,max_decoder_seq_length,encoder_embed_size, decoder_embed_size,\n",
        "               num_encoder_layers,num_decoder_layers,epochs, hidden_layer_size,\n",
        "               num_encoder_tokens, cell_type, num_decoder_tokens,input_token_index, target_token_index, \n",
        "               activation=\"softmax\",optimizer=\"rmsprop\",dropout=0.05):\n",
        "    \n",
        "    self.cell_type= cell_type\n",
        "    self.hidden_layer_size = hidden_layer_size  \n",
        "    self.optimizer = optimizer\n",
        "    self.activation = activation   \n",
        "    self.dropout=dropout\n",
        "\n",
        "    #-------------------------------------- Number of hidden layers -------------------------------------\n",
        "\n",
        "    self.num_encoder_layers = num_encoder_layers\n",
        "    self.num_decoder_layers=num_decoder_layers\n",
        "\n",
        "    #-------------------------------------- sequence length -------------------------------------\n",
        "    self.max_decoder_seq_length=max_decoder_seq_length\n",
        "    self.max_encoder_seq_length=max_encoder_seq_length\n",
        "\n",
        "    #---------------------------------------------Embedding size-------------------------------------\n",
        "    self.encoder_embed_size = encoder_embed_size\n",
        "    self.decoder_embed_size = decoder_embed_size\n",
        "    \n",
        "    #-----------------information obtained after preprocessing of data-------------------------------------\n",
        "    self.num_encoder_tokens = num_encoder_tokens\n",
        "    self.num_decoder_tokens = num_decoder_tokens\n",
        "\n",
        "    #-----------------------------dictionaries----------------------------------------------------\n",
        "    self.input_token_index = input_token_index\n",
        "    self.target_token_index = target_token_index\n",
        "\n",
        " \n",
        "\n",
        "\n",
        "#########################################function to build model ###########################################\n",
        "\n",
        "  def build_model(self):\n",
        "\n",
        "    \n",
        "    encoder_inputs = keras.Input(shape=(None,))  \n",
        "    # encoder_inputs = keras.Input(shape=(self.max_encoder_seq_length,)) \n",
        "    # encoder_embedding_output = tf.keras.layers.Embedding(self.num_encoder_tokens, self.encoder_embed_size)(encoder_inputs)\n",
        "    encoder_embedding_output = tf.keras.layers.Embedding(input_dim = self.num_encoder_tokens, output_dim = self.encoder_embed_size, name = \"encoder_embedding_layer\")(encoder_inputs)\n",
        "\n",
        "\n",
        "#------------------------------ if cell type = LSTM -------------------------------------------------------------\n",
        "    if self.cell_type == \"lstm\":\n",
        "     #--------------------- encoder -----------------------------------\n",
        "      encoder = keras.layers.LSTM(self.hidden_layer_size, return_state=True,return_sequences=True,dropout=self.dropout,use_bias=True, name = \"encoder_layer_0\")\n",
        "      encoder_outputs, state_h, state_c = encoder(encoder_embedding_output)\n",
        "      for i in range(1,self.num_encoder_layers):\n",
        "        encoder = keras.layers.LSTM(self.hidden_layer_size, return_state=True,return_sequences=True,dropout=self.dropout,use_bias=True, name = (\"encoder_layer_\"+ str(i) ) )\n",
        "        encoder_outputs, state_h, state_c = encoder(encoder_outputs)\n",
        "      encoder_states = [state_h, state_c]\n",
        "\n",
        "      #---------------------------decoder ---------------------------------------------------\n",
        "      decoder_inputs = keras.Input(shape=(None, )) \n",
        "      # decoder_inputs = keras.Input(shape=(self.max_decoder_seq_length, ))      \n",
        "      # decoder_embedding_output = tf.keras.layers.Embedding(self.num_decoder_tokens, self.decoder_embed_size)(decoder_inputs)\n",
        "      decoder_embedding_output = tf.keras.layers.Embedding(input_dim = self.num_decoder_tokens, output_dim = self.decoder_embed_size, name = \"decoder_embedding_layer\")(decoder_inputs)\n",
        "\n",
        "      decoder = keras.layers.LSTM(self.hidden_layer_size, return_sequences=True, return_state=True,dropout=self.dropout,use_bias=True, name = \"decoder_layer_0\")\n",
        "      decoder_outputs, _, _= decoder(decoder_embedding_output, initial_state = encoder_states)\n",
        "      for i in range(1,self.num_decoder_layers):\n",
        "        decoder = keras.layers.LSTM(self.hidden_layer_size, return_state=True,return_sequences=True,dropout=self.dropout,use_bias=True, name = (\"decoder_layer_\"+ str(i) ) )\n",
        "        decoder_outputs, _ , _= decoder(decoder_outputs, initial_state = encoder_states)\n",
        "\n",
        "\n",
        "\n",
        "#------------------------------ if cell type = Simple RNN -------------------------------------------------------------\n",
        "    elif self.cell_type == \"rnn\":\n",
        "      #--------------------- encoder -----------------------------------\n",
        "      encoder = keras.layers.SimpleRNN(self.hidden_layer_size, return_state=True,return_sequences=True,dropout=self.dropout, use_bias=True, name = \"encoder_layer_0\")\n",
        "      encoder_outputs, state = encoder(encoder_embedding_output)\n",
        "      for i in range(1,self.num_encoder_layers):\n",
        "        encoder = keras.layers.SimpleRNN(self.hidden_layer_size, return_state=True,return_sequences=True,dropout=self.dropout, use_bias=True, name = (\"encoder_layer_\"+ str(i) ))\n",
        "        encoder_outputs, state = encoder(encoder_outputs)\n",
        "      encoder_states = [state]\n",
        "\n",
        "      #---------------------------decoder ---------------------------------------------------\n",
        "      decoder_inputs = keras.Input(shape=(None, ))      \n",
        "      # decoder_embedding_output = tf.keras.layers.Embedding(self.num_decoder_tokens, self.decoder_embed_size)(decoder_inputs)\n",
        "      decoder_embedding_output = tf.keras.layers.Embedding(input_dim = self.num_decoder_tokens, output_dim = self.decoder_embed_size, name = \"decoder_embedding_layer\")(decoder_inputs)\n",
        "\n",
        "      decoder = keras.layers.SimpleRNN(self.hidden_layer_size, return_state=True,return_sequences=True, dropout=self.dropout, use_bias=True, name = \"decoder_layer_0\")\n",
        "      decoder_outputs, _ = decoder(decoder_embedding_output, initial_state = encoder_states)\n",
        "      for i in range(1,self.num_decoder_layers):\n",
        "        decoder = keras.layers.SimpleRNN(self.hidden_layer_size, return_state=True,return_sequences=True, dropout=self.dropout, use_bias=True, name = (\"decoder_layer_\"+ str(i) ))\n",
        "        decoder_outputs, _= decoder(decoder_outputs, initial_state = encoder_states)\n",
        "\n",
        "\n",
        "\n",
        "#------------------------------ if cell type = GRU -------------------------------------------------------------\n",
        "    elif self.cell_type == \"gru\":\n",
        "      #--------------------- encoder -----------------------------------\n",
        "      encoder = keras.layers.GRU(self.hidden_layer_size, return_state=True,return_sequences=True,dropout=self.dropout,use_bias=True, name = \"encoder_layer_0\")\n",
        "      encoder_outputs, state = encoder(encoder_embedding_output)\n",
        "      for i in range(1,self.num_encoder_layers):\n",
        "        encoder = keras.layers.GRU(self.hidden_layer_size, return_state=True,return_sequences=True,dropout=self.dropout,use_bias=True, name = (\"encoder_layer_\"+ str(i) ))\n",
        "        encoder_outputs, state = encoder(encoder_outputs)\n",
        "      encoder_states = [state]\n",
        "\n",
        "      #---------------------------decoder ---------------------------------------------------\n",
        "      decoder_inputs = keras.Input(shape=(None, ))      \n",
        "      # decoder_embedding_output = tf.keras.layers.Embedding(self.num_decoder_tokens, self.decoder_embed_size)(decoder_inputs)\n",
        "      decoder_embedding_output = tf.keras.layers.Embedding(input_dim = self.num_decoder_tokens, output_dim = self.decoder_embed_size, name = \"decoder_embedding_layer\")(decoder_inputs)\n",
        "      \n",
        "      decoder = keras.layers.GRU(self.hidden_layer_size, return_state=True,return_sequences=True, dropout=self.dropout,use_bias=True, name = \"decoder_layer_0\")\n",
        "      decoder_outputs, _ = decoder(decoder_embedding_output, initial_state = encoder_states)\n",
        "      for i in range(1,self.num_decoder_layers):\n",
        "        decoder = keras.layers.GRU(self.hidden_layer_size, return_state=True,return_sequences=True,dropout=self.dropout,use_bias=True, name = (\"decoder_layer_\"+ str(i) ))\n",
        "        decoder_outputs, _ = decoder(decoder_outputs, initial_state = encoder_states)\n",
        "\n",
        "\n",
        "    decoder_dense = keras.layers.Dense(self.num_decoder_tokens, activation = self.activation,use_bias=True, name = \"dense\")\n",
        "    decoder_outputs = decoder_dense(decoder_outputs)\n",
        "    model = keras.Model([encoder_inputs, decoder_inputs], decoder_outputs)\n",
        "    \n",
        "    #-----------------compile the model -------------------------------------\n",
        "    model.compile(\n",
        "         optimizer=self.optimizer,\n",
        "         loss=\"categorical_crossentropy\",\n",
        "         metrics=[\"accuracy\"]\n",
        "         ) \n",
        "\n",
        "#-------------------------- return final model ---------------------------------------------------------\n",
        "    return model\n",
        "\n",
        "\n",
        "\n",
        "\n",
        "\n",
        "#########################################function for training the model ###########################################\n",
        "\n",
        "  def train_model(self,encoder_input_data,decoder_input_data,decoder_target_data,epochs,batch_size,\n",
        "                  val_encoder_input_data, val_decoder_input_data, val_decoder_target_data):\n",
        "    \n",
        "     model=self.build_model()\n",
        "  \n",
        "     model.fit(\n",
        "        [encoder_input_data, decoder_input_data],\n",
        "        decoder_target_data,\n",
        "        batch_size = batch_size,\n",
        "        epochs = epochs,\n",
        "        validation_data = ([val_encoder_input_data, val_decoder_input_data],val_decoder_target_data),\n",
        "        # callbacks=[WandbCallback()]\n",
        "        )\n",
        "     return model\n",
        "\n",
        "#########################################function for inference on the model ###########################################\n",
        "\n",
        "  def sampling_inference(self, model, num_encoder_layers, num_decoder_layers):\n",
        "     \n",
        "     # Initialsiations\n",
        "     encoder_model = None\n",
        "     decoder_model = None\n",
        "\n",
        "     \n",
        "\n",
        "     #--------------------------------------if cell type = LSTM ----------------------------------------------------------\n",
        "     if self.cell_type ==\"lstm\":\n",
        "\n",
        "        #  for i in range(0, num_encoder_layers):\n",
        "        #    encoder_outputs, state_h_enc, state_c_enc = model.layers[i].output  # lstm_1\n",
        "\n",
        "        #-----------------------------------encoder layers-------------------------------------\n",
        "\n",
        "        #constants\n",
        "        e_inputs = model.input[0]  # input_1\n",
        "        e_embed_layer = model.get_layer(\"encoder_embedding_layer\")\n",
        "        encoder_inputs = e_embed_layer(e_inputs)\n",
        "\n",
        "        #encoder cell layers\n",
        "        encoder_cell = None\n",
        "        for i in range(0, num_encoder_layers-1):\n",
        "          encoder_cell = model.get_layer(\"encoder_layer_\" + str(i))\n",
        "          encoder_inputs, _, _ = encoder_cell(encoder_inputs)\n",
        "        encoder_cell = model.get_layer(\"encoder_layer_\" + str(num_encoder_layers-1))\n",
        "        encoder_outputs, state_h_enc, state_c_enc = encoder_cell(encoder_inputs)\n",
        "        encoder_states = [state_h_enc, state_c_enc]\n",
        "\n",
        "        #encoder model\n",
        "        encoder_model = keras.Model(e_inputs, encoder_states)\n",
        "\n",
        "        #-----------------------------------decoder layers-------------------------------------\n",
        "\n",
        "        #constants\n",
        "        d_inputs = model.input[1] #input_2\n",
        "        d_embed_layer = model.get_layer(\"decoder_embedding_layer\")\n",
        "        decoder_inputs = d_embed_layer(d_inputs)\n",
        "        decoder_state_input_h = keras.Input(shape=(self.hidden_layer_size,), name=\"input_decoder_h\")\n",
        "        decoder_state_input_c = keras.Input(shape=(self.hidden_layer_size,), name=\"input_decoder_c\")\n",
        "        decoder_state_inputs = [decoder_state_input_h, decoder_state_input_c]\n",
        "\n",
        "        #decoder cell layers\n",
        "        decoder_cell = None\n",
        "        for i in range(0, num_decoder_layers-1):\n",
        "          decoder_cell = model.get_layer(\"decoder_layer_\" + str(i))\n",
        "          decoder_inputs, _, _ = decoder_cell(decoder_inputs, initial_state = decoder_state_inputs)\n",
        "        decoder_cell = model.get_layer(\"decoder_layer_\" + str(num_decoder_layers-1))\n",
        "        decoder_inputs, state_h_dec, state_c_dec = decoder_cell(decoder_inputs, initial_state = decoder_state_inputs)\n",
        "        decoder_states = [state_h_dec, state_c_dec]\n",
        "\n",
        "        #dense layer and decoder model     \n",
        "        decoder_dense = model.get_layer(\"dense\")\n",
        "        decoder_outputs = decoder_dense(decoder_inputs)\n",
        "        decoder_model = keras.Model([d_inputs] + decoder_state_inputs, [decoder_outputs] + decoder_states)\n",
        "\n",
        "\n",
        "     #-------------------------------------if cell type =Simple RNN or GRU---------------------------------------------\n",
        "     elif self.cell_type ==\"rnn\" or self.cell_type ==\"gru\":\n",
        "\n",
        "        #-----------------------------------encoder layers-------------------------------------\n",
        "        #constants\n",
        "        e_inputs = model.input[0]  # input_1\n",
        "        e_embed_layer = model.get_layer(\"encoder_embedding_layer\")\n",
        "        encoder_inputs = e_embed_layer(e_inputs)\n",
        "\n",
        "        #encoder cell layers\n",
        "        encoder_cell = None\n",
        "        for i in range(0, num_encoder_layers-1):\n",
        "          encoder_cell = model.get_layer(\"encoder_layer_\" + str(i))\n",
        "          encoder_inputs, _ = encoder_cell(encoder_inputs)\n",
        "        encoder_cell = model.get_layer(\"encoder_layer_\" + str(num_encoder_layers-1))\n",
        "        encoder_outputs, state_h_enc = encoder_cell(encoder_inputs)\n",
        "        encoder_states = [state_h_enc]\n",
        "\n",
        "        #encoder model\n",
        "        encoder_model = keras.Model(e_inputs, encoder_states)\n",
        "\n",
        "        #-----------------------------------decoder layers-------------------------------------\n",
        "\n",
        "        #constants\n",
        "        d_inputs = model.input[1] #input_2\n",
        "        d_embed_layer = model.get_layer(\"decoder_embedding_layer\")\n",
        "        decoder_inputs = d_embed_layer(d_inputs)\n",
        "        decoder_state_input_h = keras.Input(shape=(self.hidden_layer_size,), name=\"input_decoder_h\")\n",
        "        decoder_state_inputs = [decoder_state_input_h]\n",
        "\n",
        "        #decoder cell layers\n",
        "        decoder_cell = None\n",
        "        for i in range(0, num_decoder_layers-1):\n",
        "          decoder_cell = model.get_layer(\"decoder_layer_\"+str(i))\n",
        "          decoder_inputs, _ = decoder_cell(decoder_inputs, initial_state = decoder_state_inputs)\n",
        "        decoder_cell = model.get_layer(\"decoder_layer_\" + str(num_decoder_layers-1))\n",
        "        decoder_inputs, state_h_dec = decoder_cell(decoder_inputs, initial_state = decoder_state_inputs)\n",
        "        decoder_states = [state_h_dec]\n",
        "\n",
        "        #dense layer and decoder model        \n",
        "        decoder_dense = model.get_layer(\"dense\")\n",
        "        decoder_outputs = decoder_dense(decoder_inputs)\n",
        "        decoder_model = keras.Model([d_inputs] + decoder_state_inputs, [decoder_outputs] + decoder_states)\n",
        "\n",
        "     reverse_input_char_index = dict((i, char) for char, i in self.input_token_index.items())\n",
        "     reverse_target_char_index = dict((i, char) for char, i in self.target_token_index.items())\n",
        "     return (reverse_input_char_index,reverse_target_char_index, encoder_model, decoder_model)\n",
        "\n",
        "\n",
        "\n",
        "##################################################function for decoding input sequence ###########################################\n",
        "\n",
        "  def decode_sequence(self, input_data, encoder_model, decoder_model, max_decoder_seq_length, target_token_index):\n",
        "\n",
        "    num_examples = input_data.shape[0]\n",
        "    max_encoder_seq_length = input_data.shape[0]\n",
        "\n",
        "    # raw form of predictions to be returned\n",
        "    predicted_output = np.full((num_examples, max_decoder_seq_length), target_token_index[\" \"])\n",
        "\n",
        "    # ------ -----------if cell type=LSTM ---------------------------------\n",
        "    if self.cell_type ==\"lstm\":\n",
        "      states_value = encoder_model.predict(input_data[:num_examples,:])\n",
        "      target_seq = np.zeros((num_examples, 1),dtype=\"int32\")\n",
        "      target_seq[:, 0] = self.target_token_index[\"\\t\"]  \n",
        "\n",
        "    # ------ -----------if cell type= Simple RNN or GRU --------------------\n",
        "    elif self.cell_type == \"rnn\" or self.cell_type ==\"gru\":\n",
        "      states_value = (encoder_model.predict(input_data[:num_examples,:]))\n",
        "      target_seq = np.zeros((num_examples, 1),dtype=\"int32\")\n",
        "      target_seq[:, 0] = self.target_token_index[\"\\t\"]  \n",
        "\n",
        "    for i in range(max_decoder_seq_length):\n",
        "      # ------------------if cell type=LSTM ---------------------------------\n",
        "      if self.cell_type ==\"lstm\":\n",
        "        output_tokens, h, c = decoder_model.predict([target_seq] + states_value)\n",
        "        states_value = [h, c]\n",
        "      # ------------------if cell type= Simple RNN or GRU --------------------\n",
        "      elif self.cell_type ==\"rnn\" or self.cell_type ==\"gru\":\n",
        "        output_tokens, h = decoder_model.predict([target_seq] + [states_value])\n",
        "        states_value = [h] \n",
        "\n",
        "      for j in range(num_examples):\n",
        "        target_seq[j,0] = np.argmax(output_tokens[j, -1, :])\n",
        "        if target_seq[j,0] == target_token_index[\"\\n\"]:\n",
        "          predicted_output[j,i] = target_token_index[\" \"]\n",
        "        else:\n",
        "          predicted_output[j,i] = target_seq[j,0]\n",
        "\n",
        "  #--------------------------- return predictions ------------------------------\n",
        "    return predicted_output\n",
        "  \n",
        "  ##################################################function for calculating accuracy ###########################################\n",
        "\n",
        "  def calculate_accuracy(self, output_corpus, input_data, reverse_target_char_index, encoder_model, decoder_model):\n",
        "    \n",
        "    limit = input_data.shape[0]   \n",
        "\n",
        "    ########################### creating vectorised form of true output ###############################\n",
        "    true_output = np.full((limit, self.max_decoder_seq_length), self.target_token_index[\" \"])\n",
        "    for row in range(limit):\n",
        "      example = output_corpus[row].replace(\"\\n\",\"\").replace(\"\\t\",\"\")\n",
        "      for col in range(len(example)):\n",
        "        true_output[row][col] = self.target_token_index[example[col]]\n",
        "    \n",
        "    ########################### creating vectorised form of predicted output ###############################\n",
        "    predicted_output = self.decode_sequence(input_data, encoder_model, decoder_model, self.max_decoder_seq_length, target_token_index)\n",
        "\n",
        "    ########################### calculating accuracy ###############################\n",
        "    A = true_output\n",
        "    B = predicted_output \n",
        "    accuracy = (np.count_nonzero((A == B).all(1))/A.shape[0])\n",
        "\n",
        "    return accuracy\n",
        "\n",
        "#===================================== end of class Machine_Transliterator ==========================================\n",
        "\n"
      ],
      "execution_count": 95,
      "outputs": []
    },
    {
      "cell_type": "markdown",
      "metadata": {
        "id": "NR4rOYbMVIUZ"
      },
      "source": [
        "**PARAMETERS**"
      ]
    },
    {
      "cell_type": "code",
      "metadata": {
        "id": "llXj7Z6LSnMz"
      },
      "source": [
        "cell_type = \"gru\" # Type of the recurring unit\n",
        "batch_size = 64  # Batch size for training.\n",
        "epochs = 30  # Number of epochs to train for.\n",
        "hidden_layer_size= 56  # Latent dimensionality of the encoding space.\n",
        "# num_samples = 10000  # Number of samples to train on.\n",
        "activation = \"softmax\" #activation\n",
        "optimizer = \"Adam\"  #optimizer\n",
        "encoder_embed_size = 32 #Encoder embedsize\n",
        "decoder_embed_size = 32 #Decoder embedsize\n",
        "num_encoder_layers=1  # number of hidden layers in encoder\n",
        "num_decoder_layers=1   # number of hidden layers in decoder\n",
        "dropout=0.0 #Dropout"
      ],
      "execution_count": 96,
      "outputs": []
    },
    {
      "cell_type": "markdown",
      "metadata": {
        "id": "JH8MZK3IPERe"
      },
      "source": [
        "**PREPROCESSING THE DATA**"
      ]
    },
    {
      "cell_type": "code",
      "metadata": {
        "id": "eYj3x6F4SNTm"
      },
      "source": [
        "############################# preprocessing the data ################################\n",
        "\n",
        "(encoder_input_data,decoder_input_data,decoder_target_data, _, _)=data(train_data_path,input_token_index,target_token_index)\n",
        "(val_encoder_input_data,val_decoder_input_data,val_decoder_target_data, val_target_texts, val_input_texts)=data(validation_data_path ,input_token_index,target_token_index)"
      ],
      "execution_count": 97,
      "outputs": []
    },
    {
      "cell_type": "code",
      "metadata": {
        "id": "CGu0vosaNV4N"
      },
      "source": [
        "(t_encoder_input_data,t_decoder_input_data,t_decoder_target_data, t_target_texts, t_input_texts)=data(test_data_path ,input_token_index,target_token_index)"
      ],
      "execution_count": 98,
      "outputs": []
    },
    {
      "cell_type": "markdown",
      "metadata": {
        "id": "m0ksIw3vH3XJ"
      },
      "source": [
        "**CREATING MACHINE TRANSLITERATOR**"
      ]
    },
    {
      "cell_type": "code",
      "metadata": {
        "id": "_ZhI8e1dH3XK"
      },
      "source": [
        "########################### creating machine transliterator object ###############################\n",
        "machine = Machine_Transliterator(\n",
        "      max_encoder_seq_length,max_decoder_seq_length,encoder_embed_size, \n",
        "      decoder_embed_size,num_encoder_layers,num_decoder_layers,\n",
        "      batch_size, hidden_layer_size, num_encoder_tokens, cell_type, num_decoder_tokens, \n",
        "      input_token_index,target_token_index, activation, optimizer,dropout\n",
        "    )"
      ],
      "execution_count": 99,
      "outputs": []
    },
    {
      "cell_type": "markdown",
      "metadata": {
        "id": "TJlX41fVRs1x"
      },
      "source": [
        "**TRAINING**"
      ]
    },
    {
      "cell_type": "code",
      "metadata": {
        "id": "-UQyh8rmdkM8",
        "colab": {
          "base_uri": "https://localhost:8080/"
        },
        "outputId": "c6f14a97-8bae-45a3-9d6a-1c9ed5653cb7"
      },
      "source": [
        "model = machine.train_model(\n",
        "    encoder_input_data, decoder_input_data,decoder_target_data,epochs,batch_size,\n",
        "    val_encoder_input_data, val_decoder_input_data, val_decoder_target_data\n",
        "    )"
      ],
      "execution_count": 100,
      "outputs": [
        {
          "output_type": "stream",
          "text": [
            "Epoch 1/30\n",
            "691/691 [==============================] - 9s 8ms/step - loss: 1.6962 - accuracy: 0.6748 - val_loss: 0.9084 - val_accuracy: 0.7539\n",
            "Epoch 2/30\n",
            "691/691 [==============================] - 5s 7ms/step - loss: 0.9240 - accuracy: 0.7498 - val_loss: 0.8537 - val_accuracy: 0.7648\n",
            "Epoch 3/30\n",
            "691/691 [==============================] - 5s 7ms/step - loss: 0.8781 - accuracy: 0.7602 - val_loss: 0.8262 - val_accuracy: 0.7710\n",
            "Epoch 4/30\n",
            "691/691 [==============================] - 5s 7ms/step - loss: 0.8533 - accuracy: 0.7656 - val_loss: 0.8104 - val_accuracy: 0.7734\n",
            "Epoch 5/30\n",
            "691/691 [==============================] - 5s 7ms/step - loss: 0.8336 - accuracy: 0.7692 - val_loss: 0.7944 - val_accuracy: 0.7771\n",
            "Epoch 6/30\n",
            "691/691 [==============================] - 5s 7ms/step - loss: 0.8146 - accuracy: 0.7730 - val_loss: 0.7694 - val_accuracy: 0.7831\n",
            "Epoch 7/30\n",
            "691/691 [==============================] - 5s 7ms/step - loss: 0.7795 - accuracy: 0.7815 - val_loss: 0.7383 - val_accuracy: 0.7891\n",
            "Epoch 8/30\n",
            "691/691 [==============================] - 5s 7ms/step - loss: 0.7416 - accuracy: 0.7887 - val_loss: 0.7045 - val_accuracy: 0.7982\n",
            "Epoch 9/30\n",
            "691/691 [==============================] - 5s 7ms/step - loss: 0.7122 - accuracy: 0.7947 - val_loss: 0.6771 - val_accuracy: 0.8034\n",
            "Epoch 10/30\n",
            "691/691 [==============================] - 5s 7ms/step - loss: 0.6889 - accuracy: 0.8001 - val_loss: 0.6583 - val_accuracy: 0.8083\n",
            "Epoch 11/30\n",
            "691/691 [==============================] - 5s 7ms/step - loss: 0.6671 - accuracy: 0.8045 - val_loss: 0.6515 - val_accuracy: 0.8081\n",
            "Epoch 12/30\n",
            "691/691 [==============================] - 5s 7ms/step - loss: 0.6500 - accuracy: 0.8091 - val_loss: 0.6200 - val_accuracy: 0.8190\n",
            "Epoch 13/30\n",
            "691/691 [==============================] - 5s 7ms/step - loss: 0.6258 - accuracy: 0.8156 - val_loss: 0.6081 - val_accuracy: 0.8222\n",
            "Epoch 14/30\n",
            "691/691 [==============================] - 5s 7ms/step - loss: 0.6108 - accuracy: 0.8203 - val_loss: 0.5873 - val_accuracy: 0.8269\n",
            "Epoch 15/30\n",
            "691/691 [==============================] - 5s 7ms/step - loss: 0.5832 - accuracy: 0.8276 - val_loss: 0.5584 - val_accuracy: 0.8338\n",
            "Epoch 16/30\n",
            "691/691 [==============================] - 5s 8ms/step - loss: 0.5571 - accuracy: 0.8349 - val_loss: 0.5339 - val_accuracy: 0.8420\n",
            "Epoch 17/30\n",
            "691/691 [==============================] - 5s 8ms/step - loss: 0.5397 - accuracy: 0.8392 - val_loss: 0.5207 - val_accuracy: 0.8461\n",
            "Epoch 18/30\n",
            "691/691 [==============================] - 5s 8ms/step - loss: 0.5173 - accuracy: 0.8462 - val_loss: 0.4981 - val_accuracy: 0.8514\n",
            "Epoch 19/30\n",
            "691/691 [==============================] - 5s 8ms/step - loss: 0.4955 - accuracy: 0.8524 - val_loss: 0.4763 - val_accuracy: 0.8589\n",
            "Epoch 20/30\n",
            "691/691 [==============================] - 5s 8ms/step - loss: 0.4739 - accuracy: 0.8584 - val_loss: 0.4650 - val_accuracy: 0.8615\n",
            "Epoch 21/30\n",
            "691/691 [==============================] - 5s 7ms/step - loss: 0.4558 - accuracy: 0.8640 - val_loss: 0.4446 - val_accuracy: 0.8673\n",
            "Epoch 22/30\n",
            "691/691 [==============================] - 5s 7ms/step - loss: 0.4388 - accuracy: 0.8686 - val_loss: 0.4241 - val_accuracy: 0.8738\n",
            "Epoch 23/30\n",
            "691/691 [==============================] - 5s 7ms/step - loss: 0.4217 - accuracy: 0.8740 - val_loss: 0.4096 - val_accuracy: 0.8782\n",
            "Epoch 24/30\n",
            "691/691 [==============================] - 5s 8ms/step - loss: 0.4027 - accuracy: 0.8797 - val_loss: 0.3952 - val_accuracy: 0.8827\n",
            "Epoch 25/30\n",
            "691/691 [==============================] - 5s 7ms/step - loss: 0.3866 - accuracy: 0.8844 - val_loss: 0.3838 - val_accuracy: 0.8857\n",
            "Epoch 26/30\n",
            "691/691 [==============================] - 5s 8ms/step - loss: 0.3762 - accuracy: 0.8871 - val_loss: 0.3720 - val_accuracy: 0.8890\n",
            "Epoch 27/30\n",
            "691/691 [==============================] - 5s 8ms/step - loss: 0.3650 - accuracy: 0.8902 - val_loss: 0.3585 - val_accuracy: 0.8934\n",
            "Epoch 28/30\n",
            "691/691 [==============================] - 5s 8ms/step - loss: 0.3512 - accuracy: 0.8935 - val_loss: 0.3504 - val_accuracy: 0.8949\n",
            "Epoch 29/30\n",
            "691/691 [==============================] - 5s 8ms/step - loss: 0.3423 - accuracy: 0.8963 - val_loss: 0.3416 - val_accuracy: 0.8988\n",
            "Epoch 30/30\n",
            "691/691 [==============================] - 5s 8ms/step - loss: 0.3333 - accuracy: 0.8992 - val_loss: 0.3371 - val_accuracy: 0.8973\n"
          ],
          "name": "stdout"
        }
      ]
    },
    {
      "cell_type": "code",
      "metadata": {
        "id": "N0MrVvYoJxur",
        "colab": {
          "base_uri": "https://localhost:8080/",
          "height": 533
        },
        "outputId": "75fc8358-f1de-4576-d916-b9a1185eb330"
      },
      "source": [
        "tf.keras.utils.plot_model(model,to_file='model.png',show_shapes=True)"
      ],
      "execution_count": 106,
      "outputs": [
        {
          "output_type": "execute_result",
          "data": {
            "image/png": "[encoded data removed]",
            "text/plain": [
              "<IPython.core.display.Image object>"
            ]
          },
          "metadata": {
            "tags": []
          },
          "execution_count": 106
        }
      ]
    },
    {
      "cell_type": "markdown",
      "metadata": {
        "id": "kx3VFFcQZelg"
      },
      "source": [
        "**INFERENCE**"
      ]
    },
    {
      "cell_type": "code",
      "metadata": {
        "id": "LTk66ncOehIf"
      },
      "source": [
        "(reverse_input_char_index,reverse_target_char_index, encoder_model, decoder_model) = machine.sampling_inference(model, num_encoder_layers, num_decoder_layers)"
      ],
      "execution_count": 102,
      "outputs": []
    },
    {
      "cell_type": "code",
      "metadata": {
        "id": "RGlNjXe-4y6r",
        "colab": {
          "base_uri": "https://localhost:8080/",
          "height": 312
        },
        "outputId": "ccc3b543-9649-4a0f-ef4b-d199b49283ac"
      },
      "source": [
        "tf.keras.utils.plot_model(encoder_model, to_file = \"encoder.png\", show_shapes=True)"
      ],
      "execution_count": 107,
      "outputs": [
        {
          "output_type": "execute_result",
          "data": {
            "image/png": "[encoded data removed]",
            "text/plain": [
              "<IPython.core.display.Image object>"
            ]
          },
          "metadata": {
            "tags": []
          },
          "execution_count": 107
        }
      ]
    },
    {
      "cell_type": "code",
      "metadata": {
        "id": "YzX6un4p5DLE",
        "colab": {
          "base_uri": "https://localhost:8080/",
          "height": 422
        },
        "outputId": "cbecde02-c2fe-4d5b-b1e4-f90079fe657c"
      },
      "source": [
        "tf.keras.utils.plot_model(decoder_model, to_file = \"decoder.png\", show_shapes=True)"
      ],
      "execution_count": 108,
      "outputs": [
        {
          "output_type": "execute_result",
          "data": {
            "image/png": "[encoded data removed]",
            "text/plain": [
              "<IPython.core.display.Image object>"
            ]
          },
          "metadata": {
            "tags": []
          },
          "execution_count": 108
        }
      ]
    },
    {
      "cell_type": "markdown",
      "metadata": {
        "id": "AwmLiNZtZjBU"
      },
      "source": [
        "**VALIDATION ACCURACY**"
      ]
    },
    {
      "cell_type": "code",
      "metadata": {
        "colab": {
          "base_uri": "https://localhost:8080/"
        },
        "id": "NmqgC5XcbqdD",
        "outputId": "3c0af874-974a-4e22-9e6c-d0db3bc2a919"
      },
      "source": [
        "########################### accuracy calculation ###############################\n",
        "input_data = val_encoder_input_data #english vectors\n",
        "output_corpus = val_target_texts #hindi words\n",
        "\n",
        "\n",
        "acc = machine.calculate_accuracy(output_corpus, input_data, reverse_target_char_index, encoder_model, decoder_model)\n",
        "print(acc)"
      ],
      "execution_count": 105,
      "outputs": [
        {
          "output_type": "stream",
          "text": [
            "0.10142267094997705\n"
          ],
          "name": "stdout"
        }
      ]
    }
  ]
}