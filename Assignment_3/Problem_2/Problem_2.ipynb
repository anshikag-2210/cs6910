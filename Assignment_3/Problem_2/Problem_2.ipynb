{
  "nbformat": 4,
  "nbformat_minor": 0,
  "metadata": {
    "accelerator": "GPU",
    "colab": {
      "name": "Problem_2.ipynb",
      "provenance": [],
      "collapsed_sections": []
    },
    "kernelspec": {
      "display_name": "Python 3",
      "name": "python3"
    },
    "language_info": {
      "name": "python"
    },
    "widgets": {
      "application/vnd.jupyter.widget-state+json": {
        "86db4c63cbf943a48ccb227314fd94e6": {
          "model_module": "@jupyter-widgets/controls",
          "model_name": "VBoxModel",
          "state": {
            "_view_name": "VBoxView",
            "_dom_classes": [],
            "_model_name": "VBoxModel",
            "_view_module": "@jupyter-widgets/controls",
            "_model_module_version": "1.5.0",
            "_view_count": null,
            "_view_module_version": "1.5.0",
            "box_style": "",
            "layout": "IPY_MODEL_002610045c854bcfaa2f6474a229cc8d",
            "_model_module": "@jupyter-widgets/controls",
            "children": [
              "IPY_MODEL_1ff9eef04d6645a1ad651edeb5941988",
              "IPY_MODEL_802e74744906444fa6d46306c0552ea1"
            ]
          }
        },
        "002610045c854bcfaa2f6474a229cc8d": {
          "model_module": "@jupyter-widgets/base",
          "model_name": "LayoutModel",
          "state": {
            "_view_name": "LayoutView",
            "grid_template_rows": null,
            "right": null,
            "justify_content": null,
            "_view_module": "@jupyter-widgets/base",
            "overflow": null,
            "_model_module_version": "1.2.0",
            "_view_count": null,
            "flex_flow": null,
            "width": null,
            "min_width": null,
            "border": null,
            "align_items": null,
            "bottom": null,
            "_model_module": "@jupyter-widgets/base",
            "top": null,
            "grid_column": null,
            "overflow_y": null,
            "overflow_x": null,
            "grid_auto_flow": null,
            "grid_area": null,
            "grid_template_columns": null,
            "flex": null,
            "_model_name": "LayoutModel",
            "justify_items": null,
            "grid_row": null,
            "max_height": null,
            "align_content": null,
            "visibility": null,
            "align_self": null,
            "height": null,
            "min_height": null,
            "padding": null,
            "grid_auto_rows": null,
            "grid_gap": null,
            "max_width": null,
            "order": null,
            "_view_module_version": "1.2.0",
            "grid_template_areas": null,
            "object_position": null,
            "object_fit": null,
            "grid_auto_columns": null,
            "margin": null,
            "display": null,
            "left": null
          }
        },
        "1ff9eef04d6645a1ad651edeb5941988": {
          "model_module": "@jupyter-widgets/controls",
          "model_name": "LabelModel",
          "state": {
            "_view_name": "LabelView",
            "style": "IPY_MODEL_7ed69cc501084692b110eba086b1068d",
            "_dom_classes": [],
            "description": "",
            "_model_name": "LabelModel",
            "placeholder": "​",
            "_view_module": "@jupyter-widgets/controls",
            "_model_module_version": "1.5.0",
            "value": " 99.64MB of 99.64MB uploaded (0.00MB deduped)\r",
            "_view_count": null,
            "_view_module_version": "1.5.0",
            "description_tooltip": null,
            "_model_module": "@jupyter-widgets/controls",
            "layout": "IPY_MODEL_d4446950ffd44b9e938dafa1b96f3619"
          }
        },
        "802e74744906444fa6d46306c0552ea1": {
          "model_module": "@jupyter-widgets/controls",
          "model_name": "FloatProgressModel",
          "state": {
            "_view_name": "ProgressView",
            "style": "IPY_MODEL_3314822323f247988894ead4d7fb8fd4",
            "_dom_classes": [],
            "description": "",
            "_model_name": "FloatProgressModel",
            "bar_style": "",
            "max": 1,
            "_view_module": "@jupyter-widgets/controls",
            "_model_module_version": "1.5.0",
            "value": 1,
            "_view_count": null,
            "_view_module_version": "1.5.0",
            "orientation": "horizontal",
            "min": 0,
            "description_tooltip": null,
            "_model_module": "@jupyter-widgets/controls",
            "layout": "IPY_MODEL_a9fe81f4ae2c43f688f8d712918fc08e"
          }
        },
        "7ed69cc501084692b110eba086b1068d": {
          "model_module": "@jupyter-widgets/controls",
          "model_name": "DescriptionStyleModel",
          "state": {
            "_view_name": "StyleView",
            "_model_name": "DescriptionStyleModel",
            "description_width": "",
            "_view_module": "@jupyter-widgets/base",
            "_model_module_version": "1.5.0",
            "_view_count": null,
            "_view_module_version": "1.2.0",
            "_model_module": "@jupyter-widgets/controls"
          }
        },
        "d4446950ffd44b9e938dafa1b96f3619": {
          "model_module": "@jupyter-widgets/base",
          "model_name": "LayoutModel",
          "state": {
            "_view_name": "LayoutView",
            "grid_template_rows": null,
            "right": null,
            "justify_content": null,
            "_view_module": "@jupyter-widgets/base",
            "overflow": null,
            "_model_module_version": "1.2.0",
            "_view_count": null,
            "flex_flow": null,
            "width": null,
            "min_width": null,
            "border": null,
            "align_items": null,
            "bottom": null,
            "_model_module": "@jupyter-widgets/base",
            "top": null,
            "grid_column": null,
            "overflow_y": null,
            "overflow_x": null,
            "grid_auto_flow": null,
            "grid_area": null,
            "grid_template_columns": null,
            "flex": null,
            "_model_name": "LayoutModel",
            "justify_items": null,
            "grid_row": null,
            "max_height": null,
            "align_content": null,
            "visibility": null,
            "align_self": null,
            "height": null,
            "min_height": null,
            "padding": null,
            "grid_auto_rows": null,
            "grid_gap": null,
            "max_width": null,
            "order": null,
            "_view_module_version": "1.2.0",
            "grid_template_areas": null,
            "object_position": null,
            "object_fit": null,
            "grid_auto_columns": null,
            "margin": null,
            "display": null,
            "left": null
          }
        },
        "3314822323f247988894ead4d7fb8fd4": {
          "model_module": "@jupyter-widgets/controls",
          "model_name": "ProgressStyleModel",
          "state": {
            "_view_name": "StyleView",
            "_model_name": "ProgressStyleModel",
            "description_width": "",
            "_view_module": "@jupyter-widgets/base",
            "_model_module_version": "1.5.0",
            "_view_count": null,
            "_view_module_version": "1.2.0",
            "bar_color": null,
            "_model_module": "@jupyter-widgets/controls"
          }
        },
        "a9fe81f4ae2c43f688f8d712918fc08e": {
          "model_module": "@jupyter-widgets/base",
          "model_name": "LayoutModel",
          "state": {
            "_view_name": "LayoutView",
            "grid_template_rows": null,
            "right": null,
            "justify_content": null,
            "_view_module": "@jupyter-widgets/base",
            "overflow": null,
            "_model_module_version": "1.2.0",
            "_view_count": null,
            "flex_flow": null,
            "width": null,
            "min_width": null,
            "border": null,
            "align_items": null,
            "bottom": null,
            "_model_module": "@jupyter-widgets/base",
            "top": null,
            "grid_column": null,
            "overflow_y": null,
            "overflow_x": null,
            "grid_auto_flow": null,
            "grid_area": null,
            "grid_template_columns": null,
            "flex": null,
            "_model_name": "LayoutModel",
            "justify_items": null,
            "grid_row": null,
            "max_height": null,
            "align_content": null,
            "visibility": null,
            "align_self": null,
            "height": null,
            "min_height": null,
            "padding": null,
            "grid_auto_rows": null,
            "grid_gap": null,
            "max_width": null,
            "order": null,
            "_view_module_version": "1.2.0",
            "grid_template_areas": null,
            "object_position": null,
            "object_fit": null,
            "grid_auto_columns": null,
            "margin": null,
            "display": null,
            "left": null
          }
        },
        "e638c450439c4d538d3d4b5f62a1f575": {
          "model_module": "@jupyter-widgets/controls",
          "model_name": "VBoxModel",
          "state": {
            "_view_name": "VBoxView",
            "_dom_classes": [],
            "_model_name": "VBoxModel",
            "_view_module": "@jupyter-widgets/controls",
            "_model_module_version": "1.5.0",
            "_view_count": null,
            "_view_module_version": "1.5.0",
            "box_style": "",
            "layout": "IPY_MODEL_cc8f588cc9a948c0894052ae8008b0e4",
            "_model_module": "@jupyter-widgets/controls",
            "children": [
              "IPY_MODEL_e5a3fb8488454eadbce7e8fb64a64e32",
              "IPY_MODEL_428f96a367b74ab9b5610c5625ea8535"
            ]
          }
        },
        "cc8f588cc9a948c0894052ae8008b0e4": {
          "model_module": "@jupyter-widgets/base",
          "model_name": "LayoutModel",
          "state": {
            "_view_name": "LayoutView",
            "grid_template_rows": null,
            "right": null,
            "justify_content": null,
            "_view_module": "@jupyter-widgets/base",
            "overflow": null,
            "_model_module_version": "1.2.0",
            "_view_count": null,
            "flex_flow": null,
            "width": null,
            "min_width": null,
            "border": null,
            "align_items": null,
            "bottom": null,
            "_model_module": "@jupyter-widgets/base",
            "top": null,
            "grid_column": null,
            "overflow_y": null,
            "overflow_x": null,
            "grid_auto_flow": null,
            "grid_area": null,
            "grid_template_columns": null,
            "flex": null,
            "_model_name": "LayoutModel",
            "justify_items": null,
            "grid_row": null,
            "max_height": null,
            "align_content": null,
            "visibility": null,
            "align_self": null,
            "height": null,
            "min_height": null,
            "padding": null,
            "grid_auto_rows": null,
            "grid_gap": null,
            "max_width": null,
            "order": null,
            "_view_module_version": "1.2.0",
            "grid_template_areas": null,
            "object_position": null,
            "object_fit": null,
            "grid_auto_columns": null,
            "margin": null,
            "display": null,
            "left": null
          }
        },
        "e5a3fb8488454eadbce7e8fb64a64e32": {
          "model_module": "@jupyter-widgets/controls",
          "model_name": "LabelModel",
          "state": {
            "_view_name": "LabelView",
            "style": "IPY_MODEL_10375a05c4ee4622a8a4ebcc9670d31a",
            "_dom_classes": [],
            "description": "",
            "_model_name": "LabelModel",
            "placeholder": "​",
            "_view_module": "@jupyter-widgets/controls",
            "_model_module_version": "1.5.0",
            "value": " 78.79MB of 78.79MB uploaded (0.00MB deduped)\r",
            "_view_count": null,
            "_view_module_version": "1.5.0",
            "description_tooltip": null,
            "_model_module": "@jupyter-widgets/controls",
            "layout": "IPY_MODEL_cd7bad2d38474819afc7d37131093bbc"
          }
        },
        "428f96a367b74ab9b5610c5625ea8535": {
          "model_module": "@jupyter-widgets/controls",
          "model_name": "FloatProgressModel",
          "state": {
            "_view_name": "ProgressView",
            "style": "IPY_MODEL_4fe820c3fc59404cba3cb9100f5ccd99",
            "_dom_classes": [],
            "description": "",
            "_model_name": "FloatProgressModel",
            "bar_style": "",
            "max": 1,
            "_view_module": "@jupyter-widgets/controls",
            "_model_module_version": "1.5.0",
            "value": 1,
            "_view_count": null,
            "_view_module_version": "1.5.0",
            "orientation": "horizontal",
            "min": 0,
            "description_tooltip": null,
            "_model_module": "@jupyter-widgets/controls",
            "layout": "IPY_MODEL_4519dc3e02b149f0920202e9fc640016"
          }
        },
        "10375a05c4ee4622a8a4ebcc9670d31a": {
          "model_module": "@jupyter-widgets/controls",
          "model_name": "DescriptionStyleModel",
          "state": {
            "_view_name": "StyleView",
            "_model_name": "DescriptionStyleModel",
            "description_width": "",
            "_view_module": "@jupyter-widgets/base",
            "_model_module_version": "1.5.0",
            "_view_count": null,
            "_view_module_version": "1.2.0",
            "_model_module": "@jupyter-widgets/controls"
          }
        },
        "cd7bad2d38474819afc7d37131093bbc": {
          "model_module": "@jupyter-widgets/base",
          "model_name": "LayoutModel",
          "state": {
            "_view_name": "LayoutView",
            "grid_template_rows": null,
            "right": null,
            "justify_content": null,
            "_view_module": "@jupyter-widgets/base",
            "overflow": null,
            "_model_module_version": "1.2.0",
            "_view_count": null,
            "flex_flow": null,
            "width": null,
            "min_width": null,
            "border": null,
            "align_items": null,
            "bottom": null,
            "_model_module": "@jupyter-widgets/base",
            "top": null,
            "grid_column": null,
            "overflow_y": null,
            "overflow_x": null,
            "grid_auto_flow": null,
            "grid_area": null,
            "grid_template_columns": null,
            "flex": null,
            "_model_name": "LayoutModel",
            "justify_items": null,
            "grid_row": null,
            "max_height": null,
            "align_content": null,
            "visibility": null,
            "align_self": null,
            "height": null,
            "min_height": null,
            "padding": null,
            "grid_auto_rows": null,
            "grid_gap": null,
            "max_width": null,
            "order": null,
            "_view_module_version": "1.2.0",
            "grid_template_areas": null,
            "object_position": null,
            "object_fit": null,
            "grid_auto_columns": null,
            "margin": null,
            "display": null,
            "left": null
          }
        },
        "4fe820c3fc59404cba3cb9100f5ccd99": {
          "model_module": "@jupyter-widgets/controls",
          "model_name": "ProgressStyleModel",
          "state": {
            "_view_name": "StyleView",
            "_model_name": "ProgressStyleModel",
            "description_width": "",
            "_view_module": "@jupyter-widgets/base",
            "_model_module_version": "1.5.0",
            "_view_count": null,
            "_view_module_version": "1.2.0",
            "bar_color": null,
            "_model_module": "@jupyter-widgets/controls"
          }
        },
        "4519dc3e02b149f0920202e9fc640016": {
          "model_module": "@jupyter-widgets/base",
          "model_name": "LayoutModel",
          "state": {
            "_view_name": "LayoutView",
            "grid_template_rows": null,
            "right": null,
            "justify_content": null,
            "_view_module": "@jupyter-widgets/base",
            "overflow": null,
            "_model_module_version": "1.2.0",
            "_view_count": null,
            "flex_flow": null,
            "width": null,
            "min_width": null,
            "border": null,
            "align_items": null,
            "bottom": null,
            "_model_module": "@jupyter-widgets/base",
            "top": null,
            "grid_column": null,
            "overflow_y": null,
            "overflow_x": null,
            "grid_auto_flow": null,
            "grid_area": null,
            "grid_template_columns": null,
            "flex": null,
            "_model_name": "LayoutModel",
            "justify_items": null,
            "grid_row": null,
            "max_height": null,
            "align_content": null,
            "visibility": null,
            "align_self": null,
            "height": null,
            "min_height": null,
            "padding": null,
            "grid_auto_rows": null,
            "grid_gap": null,
            "max_width": null,
            "order": null,
            "_view_module_version": "1.2.0",
            "grid_template_areas": null,
            "object_position": null,
            "object_fit": null,
            "grid_auto_columns": null,
            "margin": null,
            "display": null,
            "left": null
          }
        },
        "90a9508c01e34e1f8aef7b80c0be8520": {
          "model_module": "@jupyter-widgets/controls",
          "model_name": "VBoxModel",
          "state": {
            "_view_name": "VBoxView",
            "_dom_classes": [],
            "_model_name": "VBoxModel",
            "_view_module": "@jupyter-widgets/controls",
            "_model_module_version": "1.5.0",
            "_view_count": null,
            "_view_module_version": "1.5.0",
            "box_style": "",
            "layout": "IPY_MODEL_94445f0c49404329b18652437ea40d47",
            "_model_module": "@jupyter-widgets/controls",
            "children": [
              "IPY_MODEL_9dacd10c8c33401d8fae4a0dd00a7f21",
              "IPY_MODEL_5d94a72c35034bf3a524dfb0b97beed4"
            ]
          }
        },
        "94445f0c49404329b18652437ea40d47": {
          "model_module": "@jupyter-widgets/base",
          "model_name": "LayoutModel",
          "state": {
            "_view_name": "LayoutView",
            "grid_template_rows": null,
            "right": null,
            "justify_content": null,
            "_view_module": "@jupyter-widgets/base",
            "overflow": null,
            "_model_module_version": "1.2.0",
            "_view_count": null,
            "flex_flow": null,
            "width": null,
            "min_width": null,
            "border": null,
            "align_items": null,
            "bottom": null,
            "_model_module": "@jupyter-widgets/base",
            "top": null,
            "grid_column": null,
            "overflow_y": null,
            "overflow_x": null,
            "grid_auto_flow": null,
            "grid_area": null,
            "grid_template_columns": null,
            "flex": null,
            "_model_name": "LayoutModel",
            "justify_items": null,
            "grid_row": null,
            "max_height": null,
            "align_content": null,
            "visibility": null,
            "align_self": null,
            "height": null,
            "min_height": null,
            "padding": null,
            "grid_auto_rows": null,
            "grid_gap": null,
            "max_width": null,
            "order": null,
            "_view_module_version": "1.2.0",
            "grid_template_areas": null,
            "object_position": null,
            "object_fit": null,
            "grid_auto_columns": null,
            "margin": null,
            "display": null,
            "left": null
          }
        },
        "9dacd10c8c33401d8fae4a0dd00a7f21": {
          "model_module": "@jupyter-widgets/controls",
          "model_name": "LabelModel",
          "state": {
            "_view_name": "LabelView",
            "style": "IPY_MODEL_75ea5608a675461bbc9c11fc49fe4c64",
            "_dom_classes": [],
            "description": "",
            "_model_name": "LabelModel",
            "placeholder": "​",
            "_view_module": "@jupyter-widgets/controls",
            "_model_module_version": "1.5.0",
            "value": " 67.45MB of 67.45MB uploaded (0.00MB deduped)\r",
            "_view_count": null,
            "_view_module_version": "1.5.0",
            "description_tooltip": null,
            "_model_module": "@jupyter-widgets/controls",
            "layout": "IPY_MODEL_cfd3065f99024fe4b07643cd9b7cc4c3"
          }
        },
        "5d94a72c35034bf3a524dfb0b97beed4": {
          "model_module": "@jupyter-widgets/controls",
          "model_name": "FloatProgressModel",
          "state": {
            "_view_name": "ProgressView",
            "style": "IPY_MODEL_78209683b9c34ce1ba6578a8ce789cc1",
            "_dom_classes": [],
            "description": "",
            "_model_name": "FloatProgressModel",
            "bar_style": "",
            "max": 1,
            "_view_module": "@jupyter-widgets/controls",
            "_model_module_version": "1.5.0",
            "value": 1,
            "_view_count": null,
            "_view_module_version": "1.5.0",
            "orientation": "horizontal",
            "min": 0,
            "description_tooltip": null,
            "_model_module": "@jupyter-widgets/controls",
            "layout": "IPY_MODEL_7daf2ddf07ea4b7682facc79230acfe8"
          }
        },
        "75ea5608a675461bbc9c11fc49fe4c64": {
          "model_module": "@jupyter-widgets/controls",
          "model_name": "DescriptionStyleModel",
          "state": {
            "_view_name": "StyleView",
            "_model_name": "DescriptionStyleModel",
            "description_width": "",
            "_view_module": "@jupyter-widgets/base",
            "_model_module_version": "1.5.0",
            "_view_count": null,
            "_view_module_version": "1.2.0",
            "_model_module": "@jupyter-widgets/controls"
          }
        },
        "cfd3065f99024fe4b07643cd9b7cc4c3": {
          "model_module": "@jupyter-widgets/base",
          "model_name": "LayoutModel",
          "state": {
            "_view_name": "LayoutView",
            "grid_template_rows": null,
            "right": null,
            "justify_content": null,
            "_view_module": "@jupyter-widgets/base",
            "overflow": null,
            "_model_module_version": "1.2.0",
            "_view_count": null,
            "flex_flow": null,
            "width": null,
            "min_width": null,
            "border": null,
            "align_items": null,
            "bottom": null,
            "_model_module": "@jupyter-widgets/base",
            "top": null,
            "grid_column": null,
            "overflow_y": null,
            "overflow_x": null,
            "grid_auto_flow": null,
            "grid_area": null,
            "grid_template_columns": null,
            "flex": null,
            "_model_name": "LayoutModel",
            "justify_items": null,
            "grid_row": null,
            "max_height": null,
            "align_content": null,
            "visibility": null,
            "align_self": null,
            "height": null,
            "min_height": null,
            "padding": null,
            "grid_auto_rows": null,
            "grid_gap": null,
            "max_width": null,
            "order": null,
            "_view_module_version": "1.2.0",
            "grid_template_areas": null,
            "object_position": null,
            "object_fit": null,
            "grid_auto_columns": null,
            "margin": null,
            "display": null,
            "left": null
          }
        },
        "78209683b9c34ce1ba6578a8ce789cc1": {
          "model_module": "@jupyter-widgets/controls",
          "model_name": "ProgressStyleModel",
          "state": {
            "_view_name": "StyleView",
            "_model_name": "ProgressStyleModel",
            "description_width": "",
            "_view_module": "@jupyter-widgets/base",
            "_model_module_version": "1.5.0",
            "_view_count": null,
            "_view_module_version": "1.2.0",
            "bar_color": null,
            "_model_module": "@jupyter-widgets/controls"
          }
        },
        "7daf2ddf07ea4b7682facc79230acfe8": {
          "model_module": "@jupyter-widgets/base",
          "model_name": "LayoutModel",
          "state": {
            "_view_name": "LayoutView",
            "grid_template_rows": null,
            "right": null,
            "justify_content": null,
            "_view_module": "@jupyter-widgets/base",
            "overflow": null,
            "_model_module_version": "1.2.0",
            "_view_count": null,
            "flex_flow": null,
            "width": null,
            "min_width": null,
            "border": null,
            "align_items": null,
            "bottom": null,
            "_model_module": "@jupyter-widgets/base",
            "top": null,
            "grid_column": null,
            "overflow_y": null,
            "overflow_x": null,
            "grid_auto_flow": null,
            "grid_area": null,
            "grid_template_columns": null,
            "flex": null,
            "_model_name": "LayoutModel",
            "justify_items": null,
            "grid_row": null,
            "max_height": null,
            "align_content": null,
            "visibility": null,
            "align_self": null,
            "height": null,
            "min_height": null,
            "padding": null,
            "grid_auto_rows": null,
            "grid_gap": null,
            "max_width": null,
            "order": null,
            "_view_module_version": "1.2.0",
            "grid_template_areas": null,
            "object_position": null,
            "object_fit": null,
            "grid_auto_columns": null,
            "margin": null,
            "display": null,
            "left": null
          }
        },
        "59a93b960c2c451aaf50d62346cb18aa": {
          "model_module": "@jupyter-widgets/controls",
          "model_name": "VBoxModel",
          "state": {
            "_view_name": "VBoxView",
            "_dom_classes": [],
            "_model_name": "VBoxModel",
            "_view_module": "@jupyter-widgets/controls",
            "_model_module_version": "1.5.0",
            "_view_count": null,
            "_view_module_version": "1.5.0",
            "box_style": "",
            "layout": "IPY_MODEL_a158049c51204266a00e954f4168e3bf",
            "_model_module": "@jupyter-widgets/controls",
            "children": [
              "IPY_MODEL_5606167241994d90b4d84120159f2dcc",
              "IPY_MODEL_b21ff0e4089b49e5aa5b9cfb2a138c0a"
            ]
          }
        },
        "a158049c51204266a00e954f4168e3bf": {
          "model_module": "@jupyter-widgets/base",
          "model_name": "LayoutModel",
          "state": {
            "_view_name": "LayoutView",
            "grid_template_rows": null,
            "right": null,
            "justify_content": null,
            "_view_module": "@jupyter-widgets/base",
            "overflow": null,
            "_model_module_version": "1.2.0",
            "_view_count": null,
            "flex_flow": null,
            "width": null,
            "min_width": null,
            "border": null,
            "align_items": null,
            "bottom": null,
            "_model_module": "@jupyter-widgets/base",
            "top": null,
            "grid_column": null,
            "overflow_y": null,
            "overflow_x": null,
            "grid_auto_flow": null,
            "grid_area": null,
            "grid_template_columns": null,
            "flex": null,
            "_model_name": "LayoutModel",
            "justify_items": null,
            "grid_row": null,
            "max_height": null,
            "align_content": null,
            "visibility": null,
            "align_self": null,
            "height": null,
            "min_height": null,
            "padding": null,
            "grid_auto_rows": null,
            "grid_gap": null,
            "max_width": null,
            "order": null,
            "_view_module_version": "1.2.0",
            "grid_template_areas": null,
            "object_position": null,
            "object_fit": null,
            "grid_auto_columns": null,
            "margin": null,
            "display": null,
            "left": null
          }
        },
        "5606167241994d90b4d84120159f2dcc": {
          "model_module": "@jupyter-widgets/controls",
          "model_name": "LabelModel",
          "state": {
            "_view_name": "LabelView",
            "style": "IPY_MODEL_ef9fac9411e441b4bf22ddb9e7b16c28",
            "_dom_classes": [],
            "description": "",
            "_model_name": "LabelModel",
            "placeholder": "​",
            "_view_module": "@jupyter-widgets/controls",
            "_model_module_version": "1.5.0",
            "value": " 90.97MB of 90.97MB uploaded (0.00MB deduped)\r",
            "_view_count": null,
            "_view_module_version": "1.5.0",
            "description_tooltip": null,
            "_model_module": "@jupyter-widgets/controls",
            "layout": "IPY_MODEL_ae01cdf47b604e0a88c496d57f18cd38"
          }
        },
        "b21ff0e4089b49e5aa5b9cfb2a138c0a": {
          "model_module": "@jupyter-widgets/controls",
          "model_name": "FloatProgressModel",
          "state": {
            "_view_name": "ProgressView",
            "style": "IPY_MODEL_2afbcdfd46334653abf66ebd0ff2998b",
            "_dom_classes": [],
            "description": "",
            "_model_name": "FloatProgressModel",
            "bar_style": "",
            "max": 1,
            "_view_module": "@jupyter-widgets/controls",
            "_model_module_version": "1.5.0",
            "value": 1,
            "_view_count": null,
            "_view_module_version": "1.5.0",
            "orientation": "horizontal",
            "min": 0,
            "description_tooltip": null,
            "_model_module": "@jupyter-widgets/controls",
            "layout": "IPY_MODEL_dd18913eb253462ab77b98355de20d6f"
          }
        },
        "ef9fac9411e441b4bf22ddb9e7b16c28": {
          "model_module": "@jupyter-widgets/controls",
          "model_name": "DescriptionStyleModel",
          "state": {
            "_view_name": "StyleView",
            "_model_name": "DescriptionStyleModel",
            "description_width": "",
            "_view_module": "@jupyter-widgets/base",
            "_model_module_version": "1.5.0",
            "_view_count": null,
            "_view_module_version": "1.2.0",
            "_model_module": "@jupyter-widgets/controls"
          }
        },
        "ae01cdf47b604e0a88c496d57f18cd38": {
          "model_module": "@jupyter-widgets/base",
          "model_name": "LayoutModel",
          "state": {
            "_view_name": "LayoutView",
            "grid_template_rows": null,
            "right": null,
            "justify_content": null,
            "_view_module": "@jupyter-widgets/base",
            "overflow": null,
            "_model_module_version": "1.2.0",
            "_view_count": null,
            "flex_flow": null,
            "width": null,
            "min_width": null,
            "border": null,
            "align_items": null,
            "bottom": null,
            "_model_module": "@jupyter-widgets/base",
            "top": null,
            "grid_column": null,
            "overflow_y": null,
            "overflow_x": null,
            "grid_auto_flow": null,
            "grid_area": null,
            "grid_template_columns": null,
            "flex": null,
            "_model_name": "LayoutModel",
            "justify_items": null,
            "grid_row": null,
            "max_height": null,
            "align_content": null,
            "visibility": null,
            "align_self": null,
            "height": null,
            "min_height": null,
            "padding": null,
            "grid_auto_rows": null,
            "grid_gap": null,
            "max_width": null,
            "order": null,
            "_view_module_version": "1.2.0",
            "grid_template_areas": null,
            "object_position": null,
            "object_fit": null,
            "grid_auto_columns": null,
            "margin": null,
            "display": null,
            "left": null
          }
        },
        "2afbcdfd46334653abf66ebd0ff2998b": {
          "model_module": "@jupyter-widgets/controls",
          "model_name": "ProgressStyleModel",
          "state": {
            "_view_name": "StyleView",
            "_model_name": "ProgressStyleModel",
            "description_width": "",
            "_view_module": "@jupyter-widgets/base",
            "_model_module_version": "1.5.0",
            "_view_count": null,
            "_view_module_version": "1.2.0",
            "bar_color": null,
            "_model_module": "@jupyter-widgets/controls"
          }
        },
        "dd18913eb253462ab77b98355de20d6f": {
          "model_module": "@jupyter-widgets/base",
          "model_name": "LayoutModel",
          "state": {
            "_view_name": "LayoutView",
            "grid_template_rows": null,
            "right": null,
            "justify_content": null,
            "_view_module": "@jupyter-widgets/base",
            "overflow": null,
            "_model_module_version": "1.2.0",
            "_view_count": null,
            "flex_flow": null,
            "width": null,
            "min_width": null,
            "border": null,
            "align_items": null,
            "bottom": null,
            "_model_module": "@jupyter-widgets/base",
            "top": null,
            "grid_column": null,
            "overflow_y": null,
            "overflow_x": null,
            "grid_auto_flow": null,
            "grid_area": null,
            "grid_template_columns": null,
            "flex": null,
            "_model_name": "LayoutModel",
            "justify_items": null,
            "grid_row": null,
            "max_height": null,
            "align_content": null,
            "visibility": null,
            "align_self": null,
            "height": null,
            "min_height": null,
            "padding": null,
            "grid_auto_rows": null,
            "grid_gap": null,
            "max_width": null,
            "order": null,
            "_view_module_version": "1.2.0",
            "grid_template_areas": null,
            "object_position": null,
            "object_fit": null,
            "grid_auto_columns": null,
            "margin": null,
            "display": null,
            "left": null
          }
        },
        "36e4a44158344626b8985c29919eeec9": {
          "model_module": "@jupyter-widgets/controls",
          "model_name": "VBoxModel",
          "state": {
            "_view_name": "VBoxView",
            "_dom_classes": [],
            "_model_name": "VBoxModel",
            "_view_module": "@jupyter-widgets/controls",
            "_model_module_version": "1.5.0",
            "_view_count": null,
            "_view_module_version": "1.5.0",
            "box_style": "",
            "layout": "IPY_MODEL_15209b2fd7294d3dad8bb412878d860d",
            "_model_module": "@jupyter-widgets/controls",
            "children": [
              "IPY_MODEL_4b61c0b5ebaf45dbab494d09e64e006b",
              "IPY_MODEL_85a3efdd369741b680f91634e25ec9ef"
            ]
          }
        },
        "15209b2fd7294d3dad8bb412878d860d": {
          "model_module": "@jupyter-widgets/base",
          "model_name": "LayoutModel",
          "state": {
            "_view_name": "LayoutView",
            "grid_template_rows": null,
            "right": null,
            "justify_content": null,
            "_view_module": "@jupyter-widgets/base",
            "overflow": null,
            "_model_module_version": "1.2.0",
            "_view_count": null,
            "flex_flow": null,
            "width": null,
            "min_width": null,
            "border": null,
            "align_items": null,
            "bottom": null,
            "_model_module": "@jupyter-widgets/base",
            "top": null,
            "grid_column": null,
            "overflow_y": null,
            "overflow_x": null,
            "grid_auto_flow": null,
            "grid_area": null,
            "grid_template_columns": null,
            "flex": null,
            "_model_name": "LayoutModel",
            "justify_items": null,
            "grid_row": null,
            "max_height": null,
            "align_content": null,
            "visibility": null,
            "align_self": null,
            "height": null,
            "min_height": null,
            "padding": null,
            "grid_auto_rows": null,
            "grid_gap": null,
            "max_width": null,
            "order": null,
            "_view_module_version": "1.2.0",
            "grid_template_areas": null,
            "object_position": null,
            "object_fit": null,
            "grid_auto_columns": null,
            "margin": null,
            "display": null,
            "left": null
          }
        },
        "4b61c0b5ebaf45dbab494d09e64e006b": {
          "model_module": "@jupyter-widgets/controls",
          "model_name": "LabelModel",
          "state": {
            "_view_name": "LabelView",
            "style": "IPY_MODEL_8ba5535016eb4f2cb1a9dd59d1f55c41",
            "_dom_classes": [],
            "description": "",
            "_model_name": "LabelModel",
            "placeholder": "​",
            "_view_module": "@jupyter-widgets/controls",
            "_model_module_version": "1.5.0",
            "value": " 66.78MB of 66.78MB uploaded (0.00MB deduped)\r",
            "_view_count": null,
            "_view_module_version": "1.5.0",
            "description_tooltip": null,
            "_model_module": "@jupyter-widgets/controls",
            "layout": "IPY_MODEL_d6154ba555e341a48693e7d188b5b6f3"
          }
        },
        "85a3efdd369741b680f91634e25ec9ef": {
          "model_module": "@jupyter-widgets/controls",
          "model_name": "FloatProgressModel",
          "state": {
            "_view_name": "ProgressView",
            "style": "IPY_MODEL_009c05941e0641c7852b55a5e78a7651",
            "_dom_classes": [],
            "description": "",
            "_model_name": "FloatProgressModel",
            "bar_style": "",
            "max": 1,
            "_view_module": "@jupyter-widgets/controls",
            "_model_module_version": "1.5.0",
            "value": 1,
            "_view_count": null,
            "_view_module_version": "1.5.0",
            "orientation": "horizontal",
            "min": 0,
            "description_tooltip": null,
            "_model_module": "@jupyter-widgets/controls",
            "layout": "IPY_MODEL_58ec400873d5437698fbc8b5c7debcf2"
          }
        },
        "8ba5535016eb4f2cb1a9dd59d1f55c41": {
          "model_module": "@jupyter-widgets/controls",
          "model_name": "DescriptionStyleModel",
          "state": {
            "_view_name": "StyleView",
            "_model_name": "DescriptionStyleModel",
            "description_width": "",
            "_view_module": "@jupyter-widgets/base",
            "_model_module_version": "1.5.0",
            "_view_count": null,
            "_view_module_version": "1.2.0",
            "_model_module": "@jupyter-widgets/controls"
          }
        },
        "d6154ba555e341a48693e7d188b5b6f3": {
          "model_module": "@jupyter-widgets/base",
          "model_name": "LayoutModel",
          "state": {
            "_view_name": "LayoutView",
            "grid_template_rows": null,
            "right": null,
            "justify_content": null,
            "_view_module": "@jupyter-widgets/base",
            "overflow": null,
            "_model_module_version": "1.2.0",
            "_view_count": null,
            "flex_flow": null,
            "width": null,
            "min_width": null,
            "border": null,
            "align_items": null,
            "bottom": null,
            "_model_module": "@jupyter-widgets/base",
            "top": null,
            "grid_column": null,
            "overflow_y": null,
            "overflow_x": null,
            "grid_auto_flow": null,
            "grid_area": null,
            "grid_template_columns": null,
            "flex": null,
            "_model_name": "LayoutModel",
            "justify_items": null,
            "grid_row": null,
            "max_height": null,
            "align_content": null,
            "visibility": null,
            "align_self": null,
            "height": null,
            "min_height": null,
            "padding": null,
            "grid_auto_rows": null,
            "grid_gap": null,
            "max_width": null,
            "order": null,
            "_view_module_version": "1.2.0",
            "grid_template_areas": null,
            "object_position": null,
            "object_fit": null,
            "grid_auto_columns": null,
            "margin": null,
            "display": null,
            "left": null
          }
        },
        "009c05941e0641c7852b55a5e78a7651": {
          "model_module": "@jupyter-widgets/controls",
          "model_name": "ProgressStyleModel",
          "state": {
            "_view_name": "StyleView",
            "_model_name": "ProgressStyleModel",
            "description_width": "",
            "_view_module": "@jupyter-widgets/base",
            "_model_module_version": "1.5.0",
            "_view_count": null,
            "_view_module_version": "1.2.0",
            "bar_color": null,
            "_model_module": "@jupyter-widgets/controls"
          }
        },
        "58ec400873d5437698fbc8b5c7debcf2": {
          "model_module": "@jupyter-widgets/base",
          "model_name": "LayoutModel",
          "state": {
            "_view_name": "LayoutView",
            "grid_template_rows": null,
            "right": null,
            "justify_content": null,
            "_view_module": "@jupyter-widgets/base",
            "overflow": null,
            "_model_module_version": "1.2.0",
            "_view_count": null,
            "flex_flow": null,
            "width": null,
            "min_width": null,
            "border": null,
            "align_items": null,
            "bottom": null,
            "_model_module": "@jupyter-widgets/base",
            "top": null,
            "grid_column": null,
            "overflow_y": null,
            "overflow_x": null,
            "grid_auto_flow": null,
            "grid_area": null,
            "grid_template_columns": null,
            "flex": null,
            "_model_name": "LayoutModel",
            "justify_items": null,
            "grid_row": null,
            "max_height": null,
            "align_content": null,
            "visibility": null,
            "align_self": null,
            "height": null,
            "min_height": null,
            "padding": null,
            "grid_auto_rows": null,
            "grid_gap": null,
            "max_width": null,
            "order": null,
            "_view_module_version": "1.2.0",
            "grid_template_areas": null,
            "object_position": null,
            "object_fit": null,
            "grid_auto_columns": null,
            "margin": null,
            "display": null,
            "left": null
          }
        },
        "101e4dcb846b4feb928fb3b818fc8e21": {
          "model_module": "@jupyter-widgets/controls",
          "model_name": "VBoxModel",
          "state": {
            "_view_name": "VBoxView",
            "_dom_classes": [],
            "_model_name": "VBoxModel",
            "_view_module": "@jupyter-widgets/controls",
            "_model_module_version": "1.5.0",
            "_view_count": null,
            "_view_module_version": "1.5.0",
            "box_style": "",
            "layout": "IPY_MODEL_dc4332cfa62f44e88a25af7b12d5f4a1",
            "_model_module": "@jupyter-widgets/controls",
            "children": [
              "IPY_MODEL_d344c72665b5407c9a9a7a6a1601adfe",
              "IPY_MODEL_97417984a26d4b22bf827730efc36c89"
            ]
          }
        },
        "dc4332cfa62f44e88a25af7b12d5f4a1": {
          "model_module": "@jupyter-widgets/base",
          "model_name": "LayoutModel",
          "state": {
            "_view_name": "LayoutView",
            "grid_template_rows": null,
            "right": null,
            "justify_content": null,
            "_view_module": "@jupyter-widgets/base",
            "overflow": null,
            "_model_module_version": "1.2.0",
            "_view_count": null,
            "flex_flow": null,
            "width": null,
            "min_width": null,
            "border": null,
            "align_items": null,
            "bottom": null,
            "_model_module": "@jupyter-widgets/base",
            "top": null,
            "grid_column": null,
            "overflow_y": null,
            "overflow_x": null,
            "grid_auto_flow": null,
            "grid_area": null,
            "grid_template_columns": null,
            "flex": null,
            "_model_name": "LayoutModel",
            "justify_items": null,
            "grid_row": null,
            "max_height": null,
            "align_content": null,
            "visibility": null,
            "align_self": null,
            "height": null,
            "min_height": null,
            "padding": null,
            "grid_auto_rows": null,
            "grid_gap": null,
            "max_width": null,
            "order": null,
            "_view_module_version": "1.2.0",
            "grid_template_areas": null,
            "object_position": null,
            "object_fit": null,
            "grid_auto_columns": null,
            "margin": null,
            "display": null,
            "left": null
          }
        },
        "d344c72665b5407c9a9a7a6a1601adfe": {
          "model_module": "@jupyter-widgets/controls",
          "model_name": "LabelModel",
          "state": {
            "_view_name": "LabelView",
            "style": "IPY_MODEL_7b2c07039c704f94b410b01096ce65c2",
            "_dom_classes": [],
            "description": "",
            "_model_name": "LabelModel",
            "placeholder": "​",
            "_view_module": "@jupyter-widgets/controls",
            "_model_module_version": "1.5.0",
            "value": " 72.84MB of 72.84MB uploaded (0.00MB deduped)\r",
            "_view_count": null,
            "_view_module_version": "1.5.0",
            "description_tooltip": null,
            "_model_module": "@jupyter-widgets/controls",
            "layout": "IPY_MODEL_b478e1c5b4aa46eaa211ae727c272efd"
          }
        },
        "97417984a26d4b22bf827730efc36c89": {
          "model_module": "@jupyter-widgets/controls",
          "model_name": "FloatProgressModel",
          "state": {
            "_view_name": "ProgressView",
            "style": "IPY_MODEL_a85fe296cdf046238f1c6e465b5b39a3",
            "_dom_classes": [],
            "description": "",
            "_model_name": "FloatProgressModel",
            "bar_style": "",
            "max": 1,
            "_view_module": "@jupyter-widgets/controls",
            "_model_module_version": "1.5.0",
            "value": 1,
            "_view_count": null,
            "_view_module_version": "1.5.0",
            "orientation": "horizontal",
            "min": 0,
            "description_tooltip": null,
            "_model_module": "@jupyter-widgets/controls",
            "layout": "IPY_MODEL_8ed5807199b94221abce55ad0d9076da"
          }
        },
        "7b2c07039c704f94b410b01096ce65c2": {
          "model_module": "@jupyter-widgets/controls",
          "model_name": "DescriptionStyleModel",
          "state": {
            "_view_name": "StyleView",
            "_model_name": "DescriptionStyleModel",
            "description_width": "",
            "_view_module": "@jupyter-widgets/base",
            "_model_module_version": "1.5.0",
            "_view_count": null,
            "_view_module_version": "1.2.0",
            "_model_module": "@jupyter-widgets/controls"
          }
        },
        "b478e1c5b4aa46eaa211ae727c272efd": {
          "model_module": "@jupyter-widgets/base",
          "model_name": "LayoutModel",
          "state": {
            "_view_name": "LayoutView",
            "grid_template_rows": null,
            "right": null,
            "justify_content": null,
            "_view_module": "@jupyter-widgets/base",
            "overflow": null,
            "_model_module_version": "1.2.0",
            "_view_count": null,
            "flex_flow": null,
            "width": null,
            "min_width": null,
            "border": null,
            "align_items": null,
            "bottom": null,
            "_model_module": "@jupyter-widgets/base",
            "top": null,
            "grid_column": null,
            "overflow_y": null,
            "overflow_x": null,
            "grid_auto_flow": null,
            "grid_area": null,
            "grid_template_columns": null,
            "flex": null,
            "_model_name": "LayoutModel",
            "justify_items": null,
            "grid_row": null,
            "max_height": null,
            "align_content": null,
            "visibility": null,
            "align_self": null,
            "height": null,
            "min_height": null,
            "padding": null,
            "grid_auto_rows": null,
            "grid_gap": null,
            "max_width": null,
            "order": null,
            "_view_module_version": "1.2.0",
            "grid_template_areas": null,
            "object_position": null,
            "object_fit": null,
            "grid_auto_columns": null,
            "margin": null,
            "display": null,
            "left": null
          }
        },
        "a85fe296cdf046238f1c6e465b5b39a3": {
          "model_module": "@jupyter-widgets/controls",
          "model_name": "ProgressStyleModel",
          "state": {
            "_view_name": "StyleView",
            "_model_name": "ProgressStyleModel",
            "description_width": "",
            "_view_module": "@jupyter-widgets/base",
            "_model_module_version": "1.5.0",
            "_view_count": null,
            "_view_module_version": "1.2.0",
            "bar_color": null,
            "_model_module": "@jupyter-widgets/controls"
          }
        },
        "8ed5807199b94221abce55ad0d9076da": {
          "model_module": "@jupyter-widgets/base",
          "model_name": "LayoutModel",
          "state": {
            "_view_name": "LayoutView",
            "grid_template_rows": null,
            "right": null,
            "justify_content": null,
            "_view_module": "@jupyter-widgets/base",
            "overflow": null,
            "_model_module_version": "1.2.0",
            "_view_count": null,
            "flex_flow": null,
            "width": null,
            "min_width": null,
            "border": null,
            "align_items": null,
            "bottom": null,
            "_model_module": "@jupyter-widgets/base",
            "top": null,
            "grid_column": null,
            "overflow_y": null,
            "overflow_x": null,
            "grid_auto_flow": null,
            "grid_area": null,
            "grid_template_columns": null,
            "flex": null,
            "_model_name": "LayoutModel",
            "justify_items": null,
            "grid_row": null,
            "max_height": null,
            "align_content": null,
            "visibility": null,
            "align_self": null,
            "height": null,
            "min_height": null,
            "padding": null,
            "grid_auto_rows": null,
            "grid_gap": null,
            "max_width": null,
            "order": null,
            "_view_module_version": "1.2.0",
            "grid_template_areas": null,
            "object_position": null,
            "object_fit": null,
            "grid_auto_columns": null,
            "margin": null,
            "display": null,
            "left": null
          }
        },
        "9df6efbaccb846b1a6250dc82eb0dd41": {
          "model_module": "@jupyter-widgets/controls",
          "model_name": "VBoxModel",
          "state": {
            "_view_name": "VBoxView",
            "_dom_classes": [],
            "_model_name": "VBoxModel",
            "_view_module": "@jupyter-widgets/controls",
            "_model_module_version": "1.5.0",
            "_view_count": null,
            "_view_module_version": "1.5.0",
            "box_style": "",
            "layout": "IPY_MODEL_7ab5f00a41544babbe8c80f010a86746",
            "_model_module": "@jupyter-widgets/controls",
            "children": [
              "IPY_MODEL_7471da77ccd148d4a49dcfe06d9636d8",
              "IPY_MODEL_6fbe5b1d56b049a5ba6c41d61be5e94e"
            ]
          }
        },
        "7ab5f00a41544babbe8c80f010a86746": {
          "model_module": "@jupyter-widgets/base",
          "model_name": "LayoutModel",
          "state": {
            "_view_name": "LayoutView",
            "grid_template_rows": null,
            "right": null,
            "justify_content": null,
            "_view_module": "@jupyter-widgets/base",
            "overflow": null,
            "_model_module_version": "1.2.0",
            "_view_count": null,
            "flex_flow": null,
            "width": null,
            "min_width": null,
            "border": null,
            "align_items": null,
            "bottom": null,
            "_model_module": "@jupyter-widgets/base",
            "top": null,
            "grid_column": null,
            "overflow_y": null,
            "overflow_x": null,
            "grid_auto_flow": null,
            "grid_area": null,
            "grid_template_columns": null,
            "flex": null,
            "_model_name": "LayoutModel",
            "justify_items": null,
            "grid_row": null,
            "max_height": null,
            "align_content": null,
            "visibility": null,
            "align_self": null,
            "height": null,
            "min_height": null,
            "padding": null,
            "grid_auto_rows": null,
            "grid_gap": null,
            "max_width": null,
            "order": null,
            "_view_module_version": "1.2.0",
            "grid_template_areas": null,
            "object_position": null,
            "object_fit": null,
            "grid_auto_columns": null,
            "margin": null,
            "display": null,
            "left": null
          }
        },
        "7471da77ccd148d4a49dcfe06d9636d8": {
          "model_module": "@jupyter-widgets/controls",
          "model_name": "LabelModel",
          "state": {
            "_view_name": "LabelView",
            "style": "IPY_MODEL_ed76000ac7bb44aa8e7a79942277f51b",
            "_dom_classes": [],
            "description": "",
            "_model_name": "LabelModel",
            "placeholder": "​",
            "_view_module": "@jupyter-widgets/controls",
            "_model_module_version": "1.5.0",
            "value": " 115.69MB of 115.69MB uploaded (0.00MB deduped)\r",
            "_view_count": null,
            "_view_module_version": "1.5.0",
            "description_tooltip": null,
            "_model_module": "@jupyter-widgets/controls",
            "layout": "IPY_MODEL_c23777c8de2749af856100de4aabaa8f"
          }
        },
        "6fbe5b1d56b049a5ba6c41d61be5e94e": {
          "model_module": "@jupyter-widgets/controls",
          "model_name": "FloatProgressModel",
          "state": {
            "_view_name": "ProgressView",
            "style": "IPY_MODEL_3329338cf2654b5db18306c84ad6c113",
            "_dom_classes": [],
            "description": "",
            "_model_name": "FloatProgressModel",
            "bar_style": "",
            "max": 1,
            "_view_module": "@jupyter-widgets/controls",
            "_model_module_version": "1.5.0",
            "value": 1,
            "_view_count": null,
            "_view_module_version": "1.5.0",
            "orientation": "horizontal",
            "min": 0,
            "description_tooltip": null,
            "_model_module": "@jupyter-widgets/controls",
            "layout": "IPY_MODEL_667290d48e454a72ac2a29afba8aa642"
          }
        },
        "ed76000ac7bb44aa8e7a79942277f51b": {
          "model_module": "@jupyter-widgets/controls",
          "model_name": "DescriptionStyleModel",
          "state": {
            "_view_name": "StyleView",
            "_model_name": "DescriptionStyleModel",
            "description_width": "",
            "_view_module": "@jupyter-widgets/base",
            "_model_module_version": "1.5.0",
            "_view_count": null,
            "_view_module_version": "1.2.0",
            "_model_module": "@jupyter-widgets/controls"
          }
        },
        "c23777c8de2749af856100de4aabaa8f": {
          "model_module": "@jupyter-widgets/base",
          "model_name": "LayoutModel",
          "state": {
            "_view_name": "LayoutView",
            "grid_template_rows": null,
            "right": null,
            "justify_content": null,
            "_view_module": "@jupyter-widgets/base",
            "overflow": null,
            "_model_module_version": "1.2.0",
            "_view_count": null,
            "flex_flow": null,
            "width": null,
            "min_width": null,
            "border": null,
            "align_items": null,
            "bottom": null,
            "_model_module": "@jupyter-widgets/base",
            "top": null,
            "grid_column": null,
            "overflow_y": null,
            "overflow_x": null,
            "grid_auto_flow": null,
            "grid_area": null,
            "grid_template_columns": null,
            "flex": null,
            "_model_name": "LayoutModel",
            "justify_items": null,
            "grid_row": null,
            "max_height": null,
            "align_content": null,
            "visibility": null,
            "align_self": null,
            "height": null,
            "min_height": null,
            "padding": null,
            "grid_auto_rows": null,
            "grid_gap": null,
            "max_width": null,
            "order": null,
            "_view_module_version": "1.2.0",
            "grid_template_areas": null,
            "object_position": null,
            "object_fit": null,
            "grid_auto_columns": null,
            "margin": null,
            "display": null,
            "left": null
          }
        },
        "3329338cf2654b5db18306c84ad6c113": {
          "model_module": "@jupyter-widgets/controls",
          "model_name": "ProgressStyleModel",
          "state": {
            "_view_name": "StyleView",
            "_model_name": "ProgressStyleModel",
            "description_width": "",
            "_view_module": "@jupyter-widgets/base",
            "_model_module_version": "1.5.0",
            "_view_count": null,
            "_view_module_version": "1.2.0",
            "bar_color": null,
            "_model_module": "@jupyter-widgets/controls"
          }
        },
        "667290d48e454a72ac2a29afba8aa642": {
          "model_module": "@jupyter-widgets/base",
          "model_name": "LayoutModel",
          "state": {
            "_view_name": "LayoutView",
            "grid_template_rows": null,
            "right": null,
            "justify_content": null,
            "_view_module": "@jupyter-widgets/base",
            "overflow": null,
            "_model_module_version": "1.2.0",
            "_view_count": null,
            "flex_flow": null,
            "width": null,
            "min_width": null,
            "border": null,
            "align_items": null,
            "bottom": null,
            "_model_module": "@jupyter-widgets/base",
            "top": null,
            "grid_column": null,
            "overflow_y": null,
            "overflow_x": null,
            "grid_auto_flow": null,
            "grid_area": null,
            "grid_template_columns": null,
            "flex": null,
            "_model_name": "LayoutModel",
            "justify_items": null,
            "grid_row": null,
            "max_height": null,
            "align_content": null,
            "visibility": null,
            "align_self": null,
            "height": null,
            "min_height": null,
            "padding": null,
            "grid_auto_rows": null,
            "grid_gap": null,
            "max_width": null,
            "order": null,
            "_view_module_version": "1.2.0",
            "grid_template_areas": null,
            "object_position": null,
            "object_fit": null,
            "grid_auto_columns": null,
            "margin": null,
            "display": null,
            "left": null
          }
        },
        "4ac91ac9bb0a4af08838c15a4aafa812": {
          "model_module": "@jupyter-widgets/controls",
          "model_name": "VBoxModel",
          "state": {
            "_view_name": "VBoxView",
            "_dom_classes": [],
            "_model_name": "VBoxModel",
            "_view_module": "@jupyter-widgets/controls",
            "_model_module_version": "1.5.0",
            "_view_count": null,
            "_view_module_version": "1.5.0",
            "box_style": "",
            "layout": "IPY_MODEL_6be6a7665354424d924d37de1ae55db5",
            "_model_module": "@jupyter-widgets/controls",
            "children": [
              "IPY_MODEL_987da66e8f414f91a643e88463c827e2",
              "IPY_MODEL_96b0d81da9514e7f83a4b610e45d4d39"
            ]
          }
        },
        "6be6a7665354424d924d37de1ae55db5": {
          "model_module": "@jupyter-widgets/base",
          "model_name": "LayoutModel",
          "state": {
            "_view_name": "LayoutView",
            "grid_template_rows": null,
            "right": null,
            "justify_content": null,
            "_view_module": "@jupyter-widgets/base",
            "overflow": null,
            "_model_module_version": "1.2.0",
            "_view_count": null,
            "flex_flow": null,
            "width": null,
            "min_width": null,
            "border": null,
            "align_items": null,
            "bottom": null,
            "_model_module": "@jupyter-widgets/base",
            "top": null,
            "grid_column": null,
            "overflow_y": null,
            "overflow_x": null,
            "grid_auto_flow": null,
            "grid_area": null,
            "grid_template_columns": null,
            "flex": null,
            "_model_name": "LayoutModel",
            "justify_items": null,
            "grid_row": null,
            "max_height": null,
            "align_content": null,
            "visibility": null,
            "align_self": null,
            "height": null,
            "min_height": null,
            "padding": null,
            "grid_auto_rows": null,
            "grid_gap": null,
            "max_width": null,
            "order": null,
            "_view_module_version": "1.2.0",
            "grid_template_areas": null,
            "object_position": null,
            "object_fit": null,
            "grid_auto_columns": null,
            "margin": null,
            "display": null,
            "left": null
          }
        },
        "987da66e8f414f91a643e88463c827e2": {
          "model_module": "@jupyter-widgets/controls",
          "model_name": "LabelModel",
          "state": {
            "_view_name": "LabelView",
            "style": "IPY_MODEL_5ae464e17fc04f0290972a08fe70260c",
            "_dom_classes": [],
            "description": "",
            "_model_name": "LabelModel",
            "placeholder": "​",
            "_view_module": "@jupyter-widgets/controls",
            "_model_module_version": "1.5.0",
            "value": " 72.87MB of 72.87MB uploaded (0.00MB deduped)\r",
            "_view_count": null,
            "_view_module_version": "1.5.0",
            "description_tooltip": null,
            "_model_module": "@jupyter-widgets/controls",
            "layout": "IPY_MODEL_18a373b2b6144a15aa66124683ba4b37"
          }
        },
        "96b0d81da9514e7f83a4b610e45d4d39": {
          "model_module": "@jupyter-widgets/controls",
          "model_name": "FloatProgressModel",
          "state": {
            "_view_name": "ProgressView",
            "style": "IPY_MODEL_19e12bb465fe453aa0204069669f103f",
            "_dom_classes": [],
            "description": "",
            "_model_name": "FloatProgressModel",
            "bar_style": "",
            "max": 1,
            "_view_module": "@jupyter-widgets/controls",
            "_model_module_version": "1.5.0",
            "value": 1,
            "_view_count": null,
            "_view_module_version": "1.5.0",
            "orientation": "horizontal",
            "min": 0,
            "description_tooltip": null,
            "_model_module": "@jupyter-widgets/controls",
            "layout": "IPY_MODEL_74ea46f6bce94f27853dccee7e13b488"
          }
        },
        "5ae464e17fc04f0290972a08fe70260c": {
          "model_module": "@jupyter-widgets/controls",
          "model_name": "DescriptionStyleModel",
          "state": {
            "_view_name": "StyleView",
            "_model_name": "DescriptionStyleModel",
            "description_width": "",
            "_view_module": "@jupyter-widgets/base",
            "_model_module_version": "1.5.0",
            "_view_count": null,
            "_view_module_version": "1.2.0",
            "_model_module": "@jupyter-widgets/controls"
          }
        },
        "18a373b2b6144a15aa66124683ba4b37": {
          "model_module": "@jupyter-widgets/base",
          "model_name": "LayoutModel",
          "state": {
            "_view_name": "LayoutView",
            "grid_template_rows": null,
            "right": null,
            "justify_content": null,
            "_view_module": "@jupyter-widgets/base",
            "overflow": null,
            "_model_module_version": "1.2.0",
            "_view_count": null,
            "flex_flow": null,
            "width": null,
            "min_width": null,
            "border": null,
            "align_items": null,
            "bottom": null,
            "_model_module": "@jupyter-widgets/base",
            "top": null,
            "grid_column": null,
            "overflow_y": null,
            "overflow_x": null,
            "grid_auto_flow": null,
            "grid_area": null,
            "grid_template_columns": null,
            "flex": null,
            "_model_name": "LayoutModel",
            "justify_items": null,
            "grid_row": null,
            "max_height": null,
            "align_content": null,
            "visibility": null,
            "align_self": null,
            "height": null,
            "min_height": null,
            "padding": null,
            "grid_auto_rows": null,
            "grid_gap": null,
            "max_width": null,
            "order": null,
            "_view_module_version": "1.2.0",
            "grid_template_areas": null,
            "object_position": null,
            "object_fit": null,
            "grid_auto_columns": null,
            "margin": null,
            "display": null,
            "left": null
          }
        },
        "19e12bb465fe453aa0204069669f103f": {
          "model_module": "@jupyter-widgets/controls",
          "model_name": "ProgressStyleModel",
          "state": {
            "_view_name": "StyleView",
            "_model_name": "ProgressStyleModel",
            "description_width": "",
            "_view_module": "@jupyter-widgets/base",
            "_model_module_version": "1.5.0",
            "_view_count": null,
            "_view_module_version": "1.2.0",
            "bar_color": null,
            "_model_module": "@jupyter-widgets/controls"
          }
        },
        "74ea46f6bce94f27853dccee7e13b488": {
          "model_module": "@jupyter-widgets/base",
          "model_name": "LayoutModel",
          "state": {
            "_view_name": "LayoutView",
            "grid_template_rows": null,
            "right": null,
            "justify_content": null,
            "_view_module": "@jupyter-widgets/base",
            "overflow": null,
            "_model_module_version": "1.2.0",
            "_view_count": null,
            "flex_flow": null,
            "width": null,
            "min_width": null,
            "border": null,
            "align_items": null,
            "bottom": null,
            "_model_module": "@jupyter-widgets/base",
            "top": null,
            "grid_column": null,
            "overflow_y": null,
            "overflow_x": null,
            "grid_auto_flow": null,
            "grid_area": null,
            "grid_template_columns": null,
            "flex": null,
            "_model_name": "LayoutModel",
            "justify_items": null,
            "grid_row": null,
            "max_height": null,
            "align_content": null,
            "visibility": null,
            "align_self": null,
            "height": null,
            "min_height": null,
            "padding": null,
            "grid_auto_rows": null,
            "grid_gap": null,
            "max_width": null,
            "order": null,
            "_view_module_version": "1.2.0",
            "grid_template_areas": null,
            "object_position": null,
            "object_fit": null,
            "grid_auto_columns": null,
            "margin": null,
            "display": null,
            "left": null
          }
        },
        "5882f6b18def482597bf77453faedd96": {
          "model_module": "@jupyter-widgets/controls",
          "model_name": "VBoxModel",
          "state": {
            "_view_name": "VBoxView",
            "_dom_classes": [],
            "_model_name": "VBoxModel",
            "_view_module": "@jupyter-widgets/controls",
            "_model_module_version": "1.5.0",
            "_view_count": null,
            "_view_module_version": "1.5.0",
            "box_style": "",
            "layout": "IPY_MODEL_aee62c867fb7440e969ec5b5ba5c4b6b",
            "_model_module": "@jupyter-widgets/controls",
            "children": [
              "IPY_MODEL_b791a183e1a1470fb80dceef5c395c69",
              "IPY_MODEL_985fe5c02a77406fa7a44b07b80f20e8"
            ]
          }
        },
        "aee62c867fb7440e969ec5b5ba5c4b6b": {
          "model_module": "@jupyter-widgets/base",
          "model_name": "LayoutModel",
          "state": {
            "_view_name": "LayoutView",
            "grid_template_rows": null,
            "right": null,
            "justify_content": null,
            "_view_module": "@jupyter-widgets/base",
            "overflow": null,
            "_model_module_version": "1.2.0",
            "_view_count": null,
            "flex_flow": null,
            "width": null,
            "min_width": null,
            "border": null,
            "align_items": null,
            "bottom": null,
            "_model_module": "@jupyter-widgets/base",
            "top": null,
            "grid_column": null,
            "overflow_y": null,
            "overflow_x": null,
            "grid_auto_flow": null,
            "grid_area": null,
            "grid_template_columns": null,
            "flex": null,
            "_model_name": "LayoutModel",
            "justify_items": null,
            "grid_row": null,
            "max_height": null,
            "align_content": null,
            "visibility": null,
            "align_self": null,
            "height": null,
            "min_height": null,
            "padding": null,
            "grid_auto_rows": null,
            "grid_gap": null,
            "max_width": null,
            "order": null,
            "_view_module_version": "1.2.0",
            "grid_template_areas": null,
            "object_position": null,
            "object_fit": null,
            "grid_auto_columns": null,
            "margin": null,
            "display": null,
            "left": null
          }
        },
        "b791a183e1a1470fb80dceef5c395c69": {
          "model_module": "@jupyter-widgets/controls",
          "model_name": "LabelModel",
          "state": {
            "_view_name": "LabelView",
            "style": "IPY_MODEL_a60f011ccbd94ba79df91e06ae9370d9",
            "_dom_classes": [],
            "description": "",
            "_model_name": "LabelModel",
            "placeholder": "​",
            "_view_module": "@jupyter-widgets/controls",
            "_model_module_version": "1.5.0",
            "value": " 72.85MB of 72.85MB uploaded (0.00MB deduped)\r",
            "_view_count": null,
            "_view_module_version": "1.5.0",
            "description_tooltip": null,
            "_model_module": "@jupyter-widgets/controls",
            "layout": "IPY_MODEL_6270d8de32ae40c98488d4330294bcd4"
          }
        },
        "985fe5c02a77406fa7a44b07b80f20e8": {
          "model_module": "@jupyter-widgets/controls",
          "model_name": "FloatProgressModel",
          "state": {
            "_view_name": "ProgressView",
            "style": "IPY_MODEL_eec8e8a657194185acecfab9418d808c",
            "_dom_classes": [],
            "description": "",
            "_model_name": "FloatProgressModel",
            "bar_style": "",
            "max": 1,
            "_view_module": "@jupyter-widgets/controls",
            "_model_module_version": "1.5.0",
            "value": 1,
            "_view_count": null,
            "_view_module_version": "1.5.0",
            "orientation": "horizontal",
            "min": 0,
            "description_tooltip": null,
            "_model_module": "@jupyter-widgets/controls",
            "layout": "IPY_MODEL_b499abbec120467aba697306bf09262e"
          }
        },
        "a60f011ccbd94ba79df91e06ae9370d9": {
          "model_module": "@jupyter-widgets/controls",
          "model_name": "DescriptionStyleModel",
          "state": {
            "_view_name": "StyleView",
            "_model_name": "DescriptionStyleModel",
            "description_width": "",
            "_view_module": "@jupyter-widgets/base",
            "_model_module_version": "1.5.0",
            "_view_count": null,
            "_view_module_version": "1.2.0",
            "_model_module": "@jupyter-widgets/controls"
          }
        },
        "6270d8de32ae40c98488d4330294bcd4": {
          "model_module": "@jupyter-widgets/base",
          "model_name": "LayoutModel",
          "state": {
            "_view_name": "LayoutView",
            "grid_template_rows": null,
            "right": null,
            "justify_content": null,
            "_view_module": "@jupyter-widgets/base",
            "overflow": null,
            "_model_module_version": "1.2.0",
            "_view_count": null,
            "flex_flow": null,
            "width": null,
            "min_width": null,
            "border": null,
            "align_items": null,
            "bottom": null,
            "_model_module": "@jupyter-widgets/base",
            "top": null,
            "grid_column": null,
            "overflow_y": null,
            "overflow_x": null,
            "grid_auto_flow": null,
            "grid_area": null,
            "grid_template_columns": null,
            "flex": null,
            "_model_name": "LayoutModel",
            "justify_items": null,
            "grid_row": null,
            "max_height": null,
            "align_content": null,
            "visibility": null,
            "align_self": null,
            "height": null,
            "min_height": null,
            "padding": null,
            "grid_auto_rows": null,
            "grid_gap": null,
            "max_width": null,
            "order": null,
            "_view_module_version": "1.2.0",
            "grid_template_areas": null,
            "object_position": null,
            "object_fit": null,
            "grid_auto_columns": null,
            "margin": null,
            "display": null,
            "left": null
          }
        },
        "eec8e8a657194185acecfab9418d808c": {
          "model_module": "@jupyter-widgets/controls",
          "model_name": "ProgressStyleModel",
          "state": {
            "_view_name": "StyleView",
            "_model_name": "ProgressStyleModel",
            "description_width": "",
            "_view_module": "@jupyter-widgets/base",
            "_model_module_version": "1.5.0",
            "_view_count": null,
            "_view_module_version": "1.2.0",
            "bar_color": null,
            "_model_module": "@jupyter-widgets/controls"
          }
        },
        "b499abbec120467aba697306bf09262e": {
          "model_module": "@jupyter-widgets/base",
          "model_name": "LayoutModel",
          "state": {
            "_view_name": "LayoutView",
            "grid_template_rows": null,
            "right": null,
            "justify_content": null,
            "_view_module": "@jupyter-widgets/base",
            "overflow": null,
            "_model_module_version": "1.2.0",
            "_view_count": null,
            "flex_flow": null,
            "width": null,
            "min_width": null,
            "border": null,
            "align_items": null,
            "bottom": null,
            "_model_module": "@jupyter-widgets/base",
            "top": null,
            "grid_column": null,
            "overflow_y": null,
            "overflow_x": null,
            "grid_auto_flow": null,
            "grid_area": null,
            "grid_template_columns": null,
            "flex": null,
            "_model_name": "LayoutModel",
            "justify_items": null,
            "grid_row": null,
            "max_height": null,
            "align_content": null,
            "visibility": null,
            "align_self": null,
            "height": null,
            "min_height": null,
            "padding": null,
            "grid_auto_rows": null,
            "grid_gap": null,
            "max_width": null,
            "order": null,
            "_view_module_version": "1.2.0",
            "grid_template_areas": null,
            "object_position": null,
            "object_fit": null,
            "grid_auto_columns": null,
            "margin": null,
            "display": null,
            "left": null
          }
        },
        "552ec71093cc40308d8c94b9109bb21f": {
          "model_module": "@jupyter-widgets/controls",
          "model_name": "VBoxModel",
          "state": {
            "_view_name": "VBoxView",
            "_dom_classes": [],
            "_model_name": "VBoxModel",
            "_view_module": "@jupyter-widgets/controls",
            "_model_module_version": "1.5.0",
            "_view_count": null,
            "_view_module_version": "1.5.0",
            "box_style": "",
            "layout": "IPY_MODEL_90e81718a52643ebb102a47c394fd099",
            "_model_module": "@jupyter-widgets/controls",
            "children": [
              "IPY_MODEL_40362673e41141be857ee5beb72e2b44",
              "IPY_MODEL_6d55651c537b48609a9d811ca8231d98"
            ]
          }
        },
        "90e81718a52643ebb102a47c394fd099": {
          "model_module": "@jupyter-widgets/base",
          "model_name": "LayoutModel",
          "state": {
            "_view_name": "LayoutView",
            "grid_template_rows": null,
            "right": null,
            "justify_content": null,
            "_view_module": "@jupyter-widgets/base",
            "overflow": null,
            "_model_module_version": "1.2.0",
            "_view_count": null,
            "flex_flow": null,
            "width": null,
            "min_width": null,
            "border": null,
            "align_items": null,
            "bottom": null,
            "_model_module": "@jupyter-widgets/base",
            "top": null,
            "grid_column": null,
            "overflow_y": null,
            "overflow_x": null,
            "grid_auto_flow": null,
            "grid_area": null,
            "grid_template_columns": null,
            "flex": null,
            "_model_name": "LayoutModel",
            "justify_items": null,
            "grid_row": null,
            "max_height": null,
            "align_content": null,
            "visibility": null,
            "align_self": null,
            "height": null,
            "min_height": null,
            "padding": null,
            "grid_auto_rows": null,
            "grid_gap": null,
            "max_width": null,
            "order": null,
            "_view_module_version": "1.2.0",
            "grid_template_areas": null,
            "object_position": null,
            "object_fit": null,
            "grid_auto_columns": null,
            "margin": null,
            "display": null,
            "left": null
          }
        },
        "40362673e41141be857ee5beb72e2b44": {
          "model_module": "@jupyter-widgets/controls",
          "model_name": "LabelModel",
          "state": {
            "_view_name": "LabelView",
            "style": "IPY_MODEL_fd06caee046e472ab9e6759193280b3d",
            "_dom_classes": [],
            "description": "",
            "_model_name": "LabelModel",
            "placeholder": "​",
            "_view_module": "@jupyter-widgets/controls",
            "_model_module_version": "1.5.0",
            "value": " 71.34MB of 71.34MB uploaded (0.00MB deduped)\r",
            "_view_count": null,
            "_view_module_version": "1.5.0",
            "description_tooltip": null,
            "_model_module": "@jupyter-widgets/controls",
            "layout": "IPY_MODEL_de5ae0650ae74151abea58a92df07940"
          }
        },
        "6d55651c537b48609a9d811ca8231d98": {
          "model_module": "@jupyter-widgets/controls",
          "model_name": "FloatProgressModel",
          "state": {
            "_view_name": "ProgressView",
            "style": "IPY_MODEL_45ecb6f245ad48a6adaa79d64e407a9b",
            "_dom_classes": [],
            "description": "",
            "_model_name": "FloatProgressModel",
            "bar_style": "",
            "max": 1,
            "_view_module": "@jupyter-widgets/controls",
            "_model_module_version": "1.5.0",
            "value": 1,
            "_view_count": null,
            "_view_module_version": "1.5.0",
            "orientation": "horizontal",
            "min": 0,
            "description_tooltip": null,
            "_model_module": "@jupyter-widgets/controls",
            "layout": "IPY_MODEL_53110959251a42d7a6901354c5d522f5"
          }
        },
        "fd06caee046e472ab9e6759193280b3d": {
          "model_module": "@jupyter-widgets/controls",
          "model_name": "DescriptionStyleModel",
          "state": {
            "_view_name": "StyleView",
            "_model_name": "DescriptionStyleModel",
            "description_width": "",
            "_view_module": "@jupyter-widgets/base",
            "_model_module_version": "1.5.0",
            "_view_count": null,
            "_view_module_version": "1.2.0",
            "_model_module": "@jupyter-widgets/controls"
          }
        },
        "de5ae0650ae74151abea58a92df07940": {
          "model_module": "@jupyter-widgets/base",
          "model_name": "LayoutModel",
          "state": {
            "_view_name": "LayoutView",
            "grid_template_rows": null,
            "right": null,
            "justify_content": null,
            "_view_module": "@jupyter-widgets/base",
            "overflow": null,
            "_model_module_version": "1.2.0",
            "_view_count": null,
            "flex_flow": null,
            "width": null,
            "min_width": null,
            "border": null,
            "align_items": null,
            "bottom": null,
            "_model_module": "@jupyter-widgets/base",
            "top": null,
            "grid_column": null,
            "overflow_y": null,
            "overflow_x": null,
            "grid_auto_flow": null,
            "grid_area": null,
            "grid_template_columns": null,
            "flex": null,
            "_model_name": "LayoutModel",
            "justify_items": null,
            "grid_row": null,
            "max_height": null,
            "align_content": null,
            "visibility": null,
            "align_self": null,
            "height": null,
            "min_height": null,
            "padding": null,
            "grid_auto_rows": null,
            "grid_gap": null,
            "max_width": null,
            "order": null,
            "_view_module_version": "1.2.0",
            "grid_template_areas": null,
            "object_position": null,
            "object_fit": null,
            "grid_auto_columns": null,
            "margin": null,
            "display": null,
            "left": null
          }
        },
        "45ecb6f245ad48a6adaa79d64e407a9b": {
          "model_module": "@jupyter-widgets/controls",
          "model_name": "ProgressStyleModel",
          "state": {
            "_view_name": "StyleView",
            "_model_name": "ProgressStyleModel",
            "description_width": "",
            "_view_module": "@jupyter-widgets/base",
            "_model_module_version": "1.5.0",
            "_view_count": null,
            "_view_module_version": "1.2.0",
            "bar_color": null,
            "_model_module": "@jupyter-widgets/controls"
          }
        },
        "53110959251a42d7a6901354c5d522f5": {
          "model_module": "@jupyter-widgets/base",
          "model_name": "LayoutModel",
          "state": {
            "_view_name": "LayoutView",
            "grid_template_rows": null,
            "right": null,
            "justify_content": null,
            "_view_module": "@jupyter-widgets/base",
            "overflow": null,
            "_model_module_version": "1.2.0",
            "_view_count": null,
            "flex_flow": null,
            "width": null,
            "min_width": null,
            "border": null,
            "align_items": null,
            "bottom": null,
            "_model_module": "@jupyter-widgets/base",
            "top": null,
            "grid_column": null,
            "overflow_y": null,
            "overflow_x": null,
            "grid_auto_flow": null,
            "grid_area": null,
            "grid_template_columns": null,
            "flex": null,
            "_model_name": "LayoutModel",
            "justify_items": null,
            "grid_row": null,
            "max_height": null,
            "align_content": null,
            "visibility": null,
            "align_self": null,
            "height": null,
            "min_height": null,
            "padding": null,
            "grid_auto_rows": null,
            "grid_gap": null,
            "max_width": null,
            "order": null,
            "_view_module_version": "1.2.0",
            "grid_template_areas": null,
            "object_position": null,
            "object_fit": null,
            "grid_auto_columns": null,
            "margin": null,
            "display": null,
            "left": null
          }
        },
        "ec7aaaab956e447ca0c41cd6b4dbae62": {
          "model_module": "@jupyter-widgets/controls",
          "model_name": "VBoxModel",
          "state": {
            "_view_name": "VBoxView",
            "_dom_classes": [],
            "_model_name": "VBoxModel",
            "_view_module": "@jupyter-widgets/controls",
            "_model_module_version": "1.5.0",
            "_view_count": null,
            "_view_module_version": "1.5.0",
            "box_style": "",
            "layout": "IPY_MODEL_a45967593b1d41b29cd467f261960bf5",
            "_model_module": "@jupyter-widgets/controls",
            "children": [
              "IPY_MODEL_735809a86f974ccdaaa2ed5d8cc6392a",
              "IPY_MODEL_1ec4bf0643d74fb6b222ee18fa552b03"
            ]
          }
        },
        "a45967593b1d41b29cd467f261960bf5": {
          "model_module": "@jupyter-widgets/base",
          "model_name": "LayoutModel",
          "state": {
            "_view_name": "LayoutView",
            "grid_template_rows": null,
            "right": null,
            "justify_content": null,
            "_view_module": "@jupyter-widgets/base",
            "overflow": null,
            "_model_module_version": "1.2.0",
            "_view_count": null,
            "flex_flow": null,
            "width": null,
            "min_width": null,
            "border": null,
            "align_items": null,
            "bottom": null,
            "_model_module": "@jupyter-widgets/base",
            "top": null,
            "grid_column": null,
            "overflow_y": null,
            "overflow_x": null,
            "grid_auto_flow": null,
            "grid_area": null,
            "grid_template_columns": null,
            "flex": null,
            "_model_name": "LayoutModel",
            "justify_items": null,
            "grid_row": null,
            "max_height": null,
            "align_content": null,
            "visibility": null,
            "align_self": null,
            "height": null,
            "min_height": null,
            "padding": null,
            "grid_auto_rows": null,
            "grid_gap": null,
            "max_width": null,
            "order": null,
            "_view_module_version": "1.2.0",
            "grid_template_areas": null,
            "object_position": null,
            "object_fit": null,
            "grid_auto_columns": null,
            "margin": null,
            "display": null,
            "left": null
          }
        },
        "735809a86f974ccdaaa2ed5d8cc6392a": {
          "model_module": "@jupyter-widgets/controls",
          "model_name": "LabelModel",
          "state": {
            "_view_name": "LabelView",
            "style": "IPY_MODEL_c35c659ba7544fd88dd4845a9b6bbde9",
            "_dom_classes": [],
            "description": "",
            "_model_name": "LabelModel",
            "placeholder": "​",
            "_view_module": "@jupyter-widgets/controls",
            "_model_module_version": "1.5.0",
            "value": " 83.34MB of 83.34MB uploaded (0.00MB deduped)\r",
            "_view_count": null,
            "_view_module_version": "1.5.0",
            "description_tooltip": null,
            "_model_module": "@jupyter-widgets/controls",
            "layout": "IPY_MODEL_c1a19ea994d248b7b1c4787643a5d5bd"
          }
        },
        "1ec4bf0643d74fb6b222ee18fa552b03": {
          "model_module": "@jupyter-widgets/controls",
          "model_name": "FloatProgressModel",
          "state": {
            "_view_name": "ProgressView",
            "style": "IPY_MODEL_8fd79a1c5549448e9fbe2f25bbdafbde",
            "_dom_classes": [],
            "description": "",
            "_model_name": "FloatProgressModel",
            "bar_style": "",
            "max": 1,
            "_view_module": "@jupyter-widgets/controls",
            "_model_module_version": "1.5.0",
            "value": 1,
            "_view_count": null,
            "_view_module_version": "1.5.0",
            "orientation": "horizontal",
            "min": 0,
            "description_tooltip": null,
            "_model_module": "@jupyter-widgets/controls",
            "layout": "IPY_MODEL_9754b88aae4547fbbe4ab8765a14e7cd"
          }
        },
        "c35c659ba7544fd88dd4845a9b6bbde9": {
          "model_module": "@jupyter-widgets/controls",
          "model_name": "DescriptionStyleModel",
          "state": {
            "_view_name": "StyleView",
            "_model_name": "DescriptionStyleModel",
            "description_width": "",
            "_view_module": "@jupyter-widgets/base",
            "_model_module_version": "1.5.0",
            "_view_count": null,
            "_view_module_version": "1.2.0",
            "_model_module": "@jupyter-widgets/controls"
          }
        },
        "c1a19ea994d248b7b1c4787643a5d5bd": {
          "model_module": "@jupyter-widgets/base",
          "model_name": "LayoutModel",
          "state": {
            "_view_name": "LayoutView",
            "grid_template_rows": null,
            "right": null,
            "justify_content": null,
            "_view_module": "@jupyter-widgets/base",
            "overflow": null,
            "_model_module_version": "1.2.0",
            "_view_count": null,
            "flex_flow": null,
            "width": null,
            "min_width": null,
            "border": null,
            "align_items": null,
            "bottom": null,
            "_model_module": "@jupyter-widgets/base",
            "top": null,
            "grid_column": null,
            "overflow_y": null,
            "overflow_x": null,
            "grid_auto_flow": null,
            "grid_area": null,
            "grid_template_columns": null,
            "flex": null,
            "_model_name": "LayoutModel",
            "justify_items": null,
            "grid_row": null,
            "max_height": null,
            "align_content": null,
            "visibility": null,
            "align_self": null,
            "height": null,
            "min_height": null,
            "padding": null,
            "grid_auto_rows": null,
            "grid_gap": null,
            "max_width": null,
            "order": null,
            "_view_module_version": "1.2.0",
            "grid_template_areas": null,
            "object_position": null,
            "object_fit": null,
            "grid_auto_columns": null,
            "margin": null,
            "display": null,
            "left": null
          }
        },
        "8fd79a1c5549448e9fbe2f25bbdafbde": {
          "model_module": "@jupyter-widgets/controls",
          "model_name": "ProgressStyleModel",
          "state": {
            "_view_name": "StyleView",
            "_model_name": "ProgressStyleModel",
            "description_width": "",
            "_view_module": "@jupyter-widgets/base",
            "_model_module_version": "1.5.0",
            "_view_count": null,
            "_view_module_version": "1.2.0",
            "bar_color": null,
            "_model_module": "@jupyter-widgets/controls"
          }
        },
        "9754b88aae4547fbbe4ab8765a14e7cd": {
          "model_module": "@jupyter-widgets/base",
          "model_name": "LayoutModel",
          "state": {
            "_view_name": "LayoutView",
            "grid_template_rows": null,
            "right": null,
            "justify_content": null,
            "_view_module": "@jupyter-widgets/base",
            "overflow": null,
            "_model_module_version": "1.2.0",
            "_view_count": null,
            "flex_flow": null,
            "width": null,
            "min_width": null,
            "border": null,
            "align_items": null,
            "bottom": null,
            "_model_module": "@jupyter-widgets/base",
            "top": null,
            "grid_column": null,
            "overflow_y": null,
            "overflow_x": null,
            "grid_auto_flow": null,
            "grid_area": null,
            "grid_template_columns": null,
            "flex": null,
            "_model_name": "LayoutModel",
            "justify_items": null,
            "grid_row": null,
            "max_height": null,
            "align_content": null,
            "visibility": null,
            "align_self": null,
            "height": null,
            "min_height": null,
            "padding": null,
            "grid_auto_rows": null,
            "grid_gap": null,
            "max_width": null,
            "order": null,
            "_view_module_version": "1.2.0",
            "grid_template_areas": null,
            "object_position": null,
            "object_fit": null,
            "grid_auto_columns": null,
            "margin": null,
            "display": null,
            "left": null
          }
        },
        "2f962fc5d74741ca9ff7ecc7dafa3889": {
          "model_module": "@jupyter-widgets/controls",
          "model_name": "VBoxModel",
          "state": {
            "_view_name": "VBoxView",
            "_dom_classes": [],
            "_model_name": "VBoxModel",
            "_view_module": "@jupyter-widgets/controls",
            "_model_module_version": "1.5.0",
            "_view_count": null,
            "_view_module_version": "1.5.0",
            "box_style": "",
            "layout": "IPY_MODEL_2dbe5b855dfa4b14950a9fb4481645ab",
            "_model_module": "@jupyter-widgets/controls",
            "children": [
              "IPY_MODEL_d4b793158ed44983a666659f6c711806",
              "IPY_MODEL_5f7ef7fd68464d4ab10d6486d49924e7"
            ]
          }
        },
        "2dbe5b855dfa4b14950a9fb4481645ab": {
          "model_module": "@jupyter-widgets/base",
          "model_name": "LayoutModel",
          "state": {
            "_view_name": "LayoutView",
            "grid_template_rows": null,
            "right": null,
            "justify_content": null,
            "_view_module": "@jupyter-widgets/base",
            "overflow": null,
            "_model_module_version": "1.2.0",
            "_view_count": null,
            "flex_flow": null,
            "width": null,
            "min_width": null,
            "border": null,
            "align_items": null,
            "bottom": null,
            "_model_module": "@jupyter-widgets/base",
            "top": null,
            "grid_column": null,
            "overflow_y": null,
            "overflow_x": null,
            "grid_auto_flow": null,
            "grid_area": null,
            "grid_template_columns": null,
            "flex": null,
            "_model_name": "LayoutModel",
            "justify_items": null,
            "grid_row": null,
            "max_height": null,
            "align_content": null,
            "visibility": null,
            "align_self": null,
            "height": null,
            "min_height": null,
            "padding": null,
            "grid_auto_rows": null,
            "grid_gap": null,
            "max_width": null,
            "order": null,
            "_view_module_version": "1.2.0",
            "grid_template_areas": null,
            "object_position": null,
            "object_fit": null,
            "grid_auto_columns": null,
            "margin": null,
            "display": null,
            "left": null
          }
        },
        "d4b793158ed44983a666659f6c711806": {
          "model_module": "@jupyter-widgets/controls",
          "model_name": "LabelModel",
          "state": {
            "_view_name": "LabelView",
            "style": "IPY_MODEL_b2a4244b780349ae9d414c46a2b59211",
            "_dom_classes": [],
            "description": "",
            "_model_name": "LabelModel",
            "placeholder": "​",
            "_view_module": "@jupyter-widgets/controls",
            "_model_module_version": "1.5.0",
            "value": " 103.48MB of 103.48MB uploaded (0.00MB deduped)\r",
            "_view_count": null,
            "_view_module_version": "1.5.0",
            "description_tooltip": null,
            "_model_module": "@jupyter-widgets/controls",
            "layout": "IPY_MODEL_ac7bdf86c9ca48ab969b61b75b337e7f"
          }
        },
        "5f7ef7fd68464d4ab10d6486d49924e7": {
          "model_module": "@jupyter-widgets/controls",
          "model_name": "FloatProgressModel",
          "state": {
            "_view_name": "ProgressView",
            "style": "IPY_MODEL_c2600764be574f90b8e03a0b67dc8bb6",
            "_dom_classes": [],
            "description": "",
            "_model_name": "FloatProgressModel",
            "bar_style": "",
            "max": 1,
            "_view_module": "@jupyter-widgets/controls",
            "_model_module_version": "1.5.0",
            "value": 1,
            "_view_count": null,
            "_view_module_version": "1.5.0",
            "orientation": "horizontal",
            "min": 0,
            "description_tooltip": null,
            "_model_module": "@jupyter-widgets/controls",
            "layout": "IPY_MODEL_0a75bc37824a46efa5126d2cac5ffd2c"
          }
        },
        "b2a4244b780349ae9d414c46a2b59211": {
          "model_module": "@jupyter-widgets/controls",
          "model_name": "DescriptionStyleModel",
          "state": {
            "_view_name": "StyleView",
            "_model_name": "DescriptionStyleModel",
            "description_width": "",
            "_view_module": "@jupyter-widgets/base",
            "_model_module_version": "1.5.0",
            "_view_count": null,
            "_view_module_version": "1.2.0",
            "_model_module": "@jupyter-widgets/controls"
          }
        },
        "ac7bdf86c9ca48ab969b61b75b337e7f": {
          "model_module": "@jupyter-widgets/base",
          "model_name": "LayoutModel",
          "state": {
            "_view_name": "LayoutView",
            "grid_template_rows": null,
            "right": null,
            "justify_content": null,
            "_view_module": "@jupyter-widgets/base",
            "overflow": null,
            "_model_module_version": "1.2.0",
            "_view_count": null,
            "flex_flow": null,
            "width": null,
            "min_width": null,
            "border": null,
            "align_items": null,
            "bottom": null,
            "_model_module": "@jupyter-widgets/base",
            "top": null,
            "grid_column": null,
            "overflow_y": null,
            "overflow_x": null,
            "grid_auto_flow": null,
            "grid_area": null,
            "grid_template_columns": null,
            "flex": null,
            "_model_name": "LayoutModel",
            "justify_items": null,
            "grid_row": null,
            "max_height": null,
            "align_content": null,
            "visibility": null,
            "align_self": null,
            "height": null,
            "min_height": null,
            "padding": null,
            "grid_auto_rows": null,
            "grid_gap": null,
            "max_width": null,
            "order": null,
            "_view_module_version": "1.2.0",
            "grid_template_areas": null,
            "object_position": null,
            "object_fit": null,
            "grid_auto_columns": null,
            "margin": null,
            "display": null,
            "left": null
          }
        },
        "c2600764be574f90b8e03a0b67dc8bb6": {
          "model_module": "@jupyter-widgets/controls",
          "model_name": "ProgressStyleModel",
          "state": {
            "_view_name": "StyleView",
            "_model_name": "ProgressStyleModel",
            "description_width": "",
            "_view_module": "@jupyter-widgets/base",
            "_model_module_version": "1.5.0",
            "_view_count": null,
            "_view_module_version": "1.2.0",
            "bar_color": null,
            "_model_module": "@jupyter-widgets/controls"
          }
        },
        "0a75bc37824a46efa5126d2cac5ffd2c": {
          "model_module": "@jupyter-widgets/base",
          "model_name": "LayoutModel",
          "state": {
            "_view_name": "LayoutView",
            "grid_template_rows": null,
            "right": null,
            "justify_content": null,
            "_view_module": "@jupyter-widgets/base",
            "overflow": null,
            "_model_module_version": "1.2.0",
            "_view_count": null,
            "flex_flow": null,
            "width": null,
            "min_width": null,
            "border": null,
            "align_items": null,
            "bottom": null,
            "_model_module": "@jupyter-widgets/base",
            "top": null,
            "grid_column": null,
            "overflow_y": null,
            "overflow_x": null,
            "grid_auto_flow": null,
            "grid_area": null,
            "grid_template_columns": null,
            "flex": null,
            "_model_name": "LayoutModel",
            "justify_items": null,
            "grid_row": null,
            "max_height": null,
            "align_content": null,
            "visibility": null,
            "align_self": null,
            "height": null,
            "min_height": null,
            "padding": null,
            "grid_auto_rows": null,
            "grid_gap": null,
            "max_width": null,
            "order": null,
            "_view_module_version": "1.2.0",
            "grid_template_areas": null,
            "object_position": null,
            "object_fit": null,
            "grid_auto_columns": null,
            "margin": null,
            "display": null,
            "left": null
          }
        },
        "dedfc6d56cb4422685e99f2c6ad2197e": {
          "model_module": "@jupyter-widgets/controls",
          "model_name": "VBoxModel",
          "state": {
            "_view_name": "VBoxView",
            "_dom_classes": [],
            "_model_name": "VBoxModel",
            "_view_module": "@jupyter-widgets/controls",
            "_model_module_version": "1.5.0",
            "_view_count": null,
            "_view_module_version": "1.5.0",
            "box_style": "",
            "layout": "IPY_MODEL_8ef7fbd53abd42b5913b748f714a394a",
            "_model_module": "@jupyter-widgets/controls",
            "children": [
              "IPY_MODEL_afbcfb3454434903a2a42b5e6269ec6f",
              "IPY_MODEL_b562ad4f18484231ae34e2fc111f0346"
            ]
          }
        },
        "8ef7fbd53abd42b5913b748f714a394a": {
          "model_module": "@jupyter-widgets/base",
          "model_name": "LayoutModel",
          "state": {
            "_view_name": "LayoutView",
            "grid_template_rows": null,
            "right": null,
            "justify_content": null,
            "_view_module": "@jupyter-widgets/base",
            "overflow": null,
            "_model_module_version": "1.2.0",
            "_view_count": null,
            "flex_flow": null,
            "width": null,
            "min_width": null,
            "border": null,
            "align_items": null,
            "bottom": null,
            "_model_module": "@jupyter-widgets/base",
            "top": null,
            "grid_column": null,
            "overflow_y": null,
            "overflow_x": null,
            "grid_auto_flow": null,
            "grid_area": null,
            "grid_template_columns": null,
            "flex": null,
            "_model_name": "LayoutModel",
            "justify_items": null,
            "grid_row": null,
            "max_height": null,
            "align_content": null,
            "visibility": null,
            "align_self": null,
            "height": null,
            "min_height": null,
            "padding": null,
            "grid_auto_rows": null,
            "grid_gap": null,
            "max_width": null,
            "order": null,
            "_view_module_version": "1.2.0",
            "grid_template_areas": null,
            "object_position": null,
            "object_fit": null,
            "grid_auto_columns": null,
            "margin": null,
            "display": null,
            "left": null
          }
        },
        "afbcfb3454434903a2a42b5e6269ec6f": {
          "model_module": "@jupyter-widgets/controls",
          "model_name": "LabelModel",
          "state": {
            "_view_name": "LabelView",
            "style": "IPY_MODEL_485ac0d041814905b7f725345d607073",
            "_dom_classes": [],
            "description": "",
            "_model_name": "LabelModel",
            "placeholder": "​",
            "_view_module": "@jupyter-widgets/controls",
            "_model_module_version": "1.5.0",
            "value": " 74.37MB of 74.37MB uploaded (0.00MB deduped)\r",
            "_view_count": null,
            "_view_module_version": "1.5.0",
            "description_tooltip": null,
            "_model_module": "@jupyter-widgets/controls",
            "layout": "IPY_MODEL_6bbed015ebd14ac8bb1c77570db99836"
          }
        },
        "b562ad4f18484231ae34e2fc111f0346": {
          "model_module": "@jupyter-widgets/controls",
          "model_name": "FloatProgressModel",
          "state": {
            "_view_name": "ProgressView",
            "style": "IPY_MODEL_deacdd0ab5774e9b9fe6e5559aef35e3",
            "_dom_classes": [],
            "description": "",
            "_model_name": "FloatProgressModel",
            "bar_style": "",
            "max": 1,
            "_view_module": "@jupyter-widgets/controls",
            "_model_module_version": "1.5.0",
            "value": 1,
            "_view_count": null,
            "_view_module_version": "1.5.0",
            "orientation": "horizontal",
            "min": 0,
            "description_tooltip": null,
            "_model_module": "@jupyter-widgets/controls",
            "layout": "IPY_MODEL_2c950e4d043d4c3888616abfa51fc1c2"
          }
        },
        "485ac0d041814905b7f725345d607073": {
          "model_module": "@jupyter-widgets/controls",
          "model_name": "DescriptionStyleModel",
          "state": {
            "_view_name": "StyleView",
            "_model_name": "DescriptionStyleModel",
            "description_width": "",
            "_view_module": "@jupyter-widgets/base",
            "_model_module_version": "1.5.0",
            "_view_count": null,
            "_view_module_version": "1.2.0",
            "_model_module": "@jupyter-widgets/controls"
          }
        },
        "6bbed015ebd14ac8bb1c77570db99836": {
          "model_module": "@jupyter-widgets/base",
          "model_name": "LayoutModel",
          "state": {
            "_view_name": "LayoutView",
            "grid_template_rows": null,
            "right": null,
            "justify_content": null,
            "_view_module": "@jupyter-widgets/base",
            "overflow": null,
            "_model_module_version": "1.2.0",
            "_view_count": null,
            "flex_flow": null,
            "width": null,
            "min_width": null,
            "border": null,
            "align_items": null,
            "bottom": null,
            "_model_module": "@jupyter-widgets/base",
            "top": null,
            "grid_column": null,
            "overflow_y": null,
            "overflow_x": null,
            "grid_auto_flow": null,
            "grid_area": null,
            "grid_template_columns": null,
            "flex": null,
            "_model_name": "LayoutModel",
            "justify_items": null,
            "grid_row": null,
            "max_height": null,
            "align_content": null,
            "visibility": null,
            "align_self": null,
            "height": null,
            "min_height": null,
            "padding": null,
            "grid_auto_rows": null,
            "grid_gap": null,
            "max_width": null,
            "order": null,
            "_view_module_version": "1.2.0",
            "grid_template_areas": null,
            "object_position": null,
            "object_fit": null,
            "grid_auto_columns": null,
            "margin": null,
            "display": null,
            "left": null
          }
        },
        "deacdd0ab5774e9b9fe6e5559aef35e3": {
          "model_module": "@jupyter-widgets/controls",
          "model_name": "ProgressStyleModel",
          "state": {
            "_view_name": "StyleView",
            "_model_name": "ProgressStyleModel",
            "description_width": "",
            "_view_module": "@jupyter-widgets/base",
            "_model_module_version": "1.5.0",
            "_view_count": null,
            "_view_module_version": "1.2.0",
            "bar_color": null,
            "_model_module": "@jupyter-widgets/controls"
          }
        },
        "2c950e4d043d4c3888616abfa51fc1c2": {
          "model_module": "@jupyter-widgets/base",
          "model_name": "LayoutModel",
          "state": {
            "_view_name": "LayoutView",
            "grid_template_rows": null,
            "right": null,
            "justify_content": null,
            "_view_module": "@jupyter-widgets/base",
            "overflow": null,
            "_model_module_version": "1.2.0",
            "_view_count": null,
            "flex_flow": null,
            "width": null,
            "min_width": null,
            "border": null,
            "align_items": null,
            "bottom": null,
            "_model_module": "@jupyter-widgets/base",
            "top": null,
            "grid_column": null,
            "overflow_y": null,
            "overflow_x": null,
            "grid_auto_flow": null,
            "grid_area": null,
            "grid_template_columns": null,
            "flex": null,
            "_model_name": "LayoutModel",
            "justify_items": null,
            "grid_row": null,
            "max_height": null,
            "align_content": null,
            "visibility": null,
            "align_self": null,
            "height": null,
            "min_height": null,
            "padding": null,
            "grid_auto_rows": null,
            "grid_gap": null,
            "max_width": null,
            "order": null,
            "_view_module_version": "1.2.0",
            "grid_template_areas": null,
            "object_position": null,
            "object_fit": null,
            "grid_auto_columns": null,
            "margin": null,
            "display": null,
            "left": null
          }
        },
        "fb52cc3b85094e6d91de52e352dd3e1d": {
          "model_module": "@jupyter-widgets/controls",
          "model_name": "VBoxModel",
          "state": {
            "_view_name": "VBoxView",
            "_dom_classes": [],
            "_model_name": "VBoxModel",
            "_view_module": "@jupyter-widgets/controls",
            "_model_module_version": "1.5.0",
            "_view_count": null,
            "_view_module_version": "1.5.0",
            "box_style": "",
            "layout": "IPY_MODEL_6ede2ed9b4514f829b900e078fa412b6",
            "_model_module": "@jupyter-widgets/controls",
            "children": [
              "IPY_MODEL_93791b5066204311bafefb482fd19401",
              "IPY_MODEL_c9906e93f2b04197a8e5652f8d74dcae"
            ]
          }
        },
        "6ede2ed9b4514f829b900e078fa412b6": {
          "model_module": "@jupyter-widgets/base",
          "model_name": "LayoutModel",
          "state": {
            "_view_name": "LayoutView",
            "grid_template_rows": null,
            "right": null,
            "justify_content": null,
            "_view_module": "@jupyter-widgets/base",
            "overflow": null,
            "_model_module_version": "1.2.0",
            "_view_count": null,
            "flex_flow": null,
            "width": null,
            "min_width": null,
            "border": null,
            "align_items": null,
            "bottom": null,
            "_model_module": "@jupyter-widgets/base",
            "top": null,
            "grid_column": null,
            "overflow_y": null,
            "overflow_x": null,
            "grid_auto_flow": null,
            "grid_area": null,
            "grid_template_columns": null,
            "flex": null,
            "_model_name": "LayoutModel",
            "justify_items": null,
            "grid_row": null,
            "max_height": null,
            "align_content": null,
            "visibility": null,
            "align_self": null,
            "height": null,
            "min_height": null,
            "padding": null,
            "grid_auto_rows": null,
            "grid_gap": null,
            "max_width": null,
            "order": null,
            "_view_module_version": "1.2.0",
            "grid_template_areas": null,
            "object_position": null,
            "object_fit": null,
            "grid_auto_columns": null,
            "margin": null,
            "display": null,
            "left": null
          }
        },
        "93791b5066204311bafefb482fd19401": {
          "model_module": "@jupyter-widgets/controls",
          "model_name": "LabelModel",
          "state": {
            "_view_name": "LabelView",
            "style": "IPY_MODEL_3140f1cdca074d228ef234d4531c7f76",
            "_dom_classes": [],
            "description": "",
            "_model_name": "LabelModel",
            "placeholder": "​",
            "_view_module": "@jupyter-widgets/controls",
            "_model_module_version": "1.5.0",
            "value": " 75.89MB of 75.89MB uploaded (0.00MB deduped)\r",
            "_view_count": null,
            "_view_module_version": "1.5.0",
            "description_tooltip": null,
            "_model_module": "@jupyter-widgets/controls",
            "layout": "IPY_MODEL_c97894fbd4f94a23a5ebfec700916df2"
          }
        },
        "c9906e93f2b04197a8e5652f8d74dcae": {
          "model_module": "@jupyter-widgets/controls",
          "model_name": "FloatProgressModel",
          "state": {
            "_view_name": "ProgressView",
            "style": "IPY_MODEL_fc576cd68f2b457e9138f175a2ee8fde",
            "_dom_classes": [],
            "description": "",
            "_model_name": "FloatProgressModel",
            "bar_style": "",
            "max": 1,
            "_view_module": "@jupyter-widgets/controls",
            "_model_module_version": "1.5.0",
            "value": 1,
            "_view_count": null,
            "_view_module_version": "1.5.0",
            "orientation": "horizontal",
            "min": 0,
            "description_tooltip": null,
            "_model_module": "@jupyter-widgets/controls",
            "layout": "IPY_MODEL_c27be8a058124ae59ba61fbaad6c0811"
          }
        },
        "3140f1cdca074d228ef234d4531c7f76": {
          "model_module": "@jupyter-widgets/controls",
          "model_name": "DescriptionStyleModel",
          "state": {
            "_view_name": "StyleView",
            "_model_name": "DescriptionStyleModel",
            "description_width": "",
            "_view_module": "@jupyter-widgets/base",
            "_model_module_version": "1.5.0",
            "_view_count": null,
            "_view_module_version": "1.2.0",
            "_model_module": "@jupyter-widgets/controls"
          }
        },
        "c97894fbd4f94a23a5ebfec700916df2": {
          "model_module": "@jupyter-widgets/base",
          "model_name": "LayoutModel",
          "state": {
            "_view_name": "LayoutView",
            "grid_template_rows": null,
            "right": null,
            "justify_content": null,
            "_view_module": "@jupyter-widgets/base",
            "overflow": null,
            "_model_module_version": "1.2.0",
            "_view_count": null,
            "flex_flow": null,
            "width": null,
            "min_width": null,
            "border": null,
            "align_items": null,
            "bottom": null,
            "_model_module": "@jupyter-widgets/base",
            "top": null,
            "grid_column": null,
            "overflow_y": null,
            "overflow_x": null,
            "grid_auto_flow": null,
            "grid_area": null,
            "grid_template_columns": null,
            "flex": null,
            "_model_name": "LayoutModel",
            "justify_items": null,
            "grid_row": null,
            "max_height": null,
            "align_content": null,
            "visibility": null,
            "align_self": null,
            "height": null,
            "min_height": null,
            "padding": null,
            "grid_auto_rows": null,
            "grid_gap": null,
            "max_width": null,
            "order": null,
            "_view_module_version": "1.2.0",
            "grid_template_areas": null,
            "object_position": null,
            "object_fit": null,
            "grid_auto_columns": null,
            "margin": null,
            "display": null,
            "left": null
          }
        },
        "fc576cd68f2b457e9138f175a2ee8fde": {
          "model_module": "@jupyter-widgets/controls",
          "model_name": "ProgressStyleModel",
          "state": {
            "_view_name": "StyleView",
            "_model_name": "ProgressStyleModel",
            "description_width": "",
            "_view_module": "@jupyter-widgets/base",
            "_model_module_version": "1.5.0",
            "_view_count": null,
            "_view_module_version": "1.2.0",
            "bar_color": null,
            "_model_module": "@jupyter-widgets/controls"
          }
        },
        "c27be8a058124ae59ba61fbaad6c0811": {
          "model_module": "@jupyter-widgets/base",
          "model_name": "LayoutModel",
          "state": {
            "_view_name": "LayoutView",
            "grid_template_rows": null,
            "right": null,
            "justify_content": null,
            "_view_module": "@jupyter-widgets/base",
            "overflow": null,
            "_model_module_version": "1.2.0",
            "_view_count": null,
            "flex_flow": null,
            "width": null,
            "min_width": null,
            "border": null,
            "align_items": null,
            "bottom": null,
            "_model_module": "@jupyter-widgets/base",
            "top": null,
            "grid_column": null,
            "overflow_y": null,
            "overflow_x": null,
            "grid_auto_flow": null,
            "grid_area": null,
            "grid_template_columns": null,
            "flex": null,
            "_model_name": "LayoutModel",
            "justify_items": null,
            "grid_row": null,
            "max_height": null,
            "align_content": null,
            "visibility": null,
            "align_self": null,
            "height": null,
            "min_height": null,
            "padding": null,
            "grid_auto_rows": null,
            "grid_gap": null,
            "max_width": null,
            "order": null,
            "_view_module_version": "1.2.0",
            "grid_template_areas": null,
            "object_position": null,
            "object_fit": null,
            "grid_auto_columns": null,
            "margin": null,
            "display": null,
            "left": null
          }
        },
        "2a6818373640471e8bbab0b064d2de0d": {
          "model_module": "@jupyter-widgets/controls",
          "model_name": "VBoxModel",
          "state": {
            "_view_name": "VBoxView",
            "_dom_classes": [],
            "_model_name": "VBoxModel",
            "_view_module": "@jupyter-widgets/controls",
            "_model_module_version": "1.5.0",
            "_view_count": null,
            "_view_module_version": "1.5.0",
            "box_style": "",
            "layout": "IPY_MODEL_57765b17cfdb40e8b203089d09a9a5a5",
            "_model_module": "@jupyter-widgets/controls",
            "children": [
              "IPY_MODEL_beccd68beac349b5b883ef4ece792f2d",
              "IPY_MODEL_433bd5b6927f4847a67753b65c62f52f"
            ]
          }
        },
        "57765b17cfdb40e8b203089d09a9a5a5": {
          "model_module": "@jupyter-widgets/base",
          "model_name": "LayoutModel",
          "state": {
            "_view_name": "LayoutView",
            "grid_template_rows": null,
            "right": null,
            "justify_content": null,
            "_view_module": "@jupyter-widgets/base",
            "overflow": null,
            "_model_module_version": "1.2.0",
            "_view_count": null,
            "flex_flow": null,
            "width": null,
            "min_width": null,
            "border": null,
            "align_items": null,
            "bottom": null,
            "_model_module": "@jupyter-widgets/base",
            "top": null,
            "grid_column": null,
            "overflow_y": null,
            "overflow_x": null,
            "grid_auto_flow": null,
            "grid_area": null,
            "grid_template_columns": null,
            "flex": null,
            "_model_name": "LayoutModel",
            "justify_items": null,
            "grid_row": null,
            "max_height": null,
            "align_content": null,
            "visibility": null,
            "align_self": null,
            "height": null,
            "min_height": null,
            "padding": null,
            "grid_auto_rows": null,
            "grid_gap": null,
            "max_width": null,
            "order": null,
            "_view_module_version": "1.2.0",
            "grid_template_areas": null,
            "object_position": null,
            "object_fit": null,
            "grid_auto_columns": null,
            "margin": null,
            "display": null,
            "left": null
          }
        },
        "beccd68beac349b5b883ef4ece792f2d": {
          "model_module": "@jupyter-widgets/controls",
          "model_name": "LabelModel",
          "state": {
            "_view_name": "LabelView",
            "style": "IPY_MODEL_8cb5722d44ed478ea10869db0fc3fa53",
            "_dom_classes": [],
            "description": "",
            "_model_name": "LabelModel",
            "placeholder": "​",
            "_view_module": "@jupyter-widgets/controls",
            "_model_module_version": "1.5.0",
            "value": " 68.62MB of 68.62MB uploaded (0.00MB deduped)\r",
            "_view_count": null,
            "_view_module_version": "1.5.0",
            "description_tooltip": null,
            "_model_module": "@jupyter-widgets/controls",
            "layout": "IPY_MODEL_5202349ea3074258a7fce5f92fa81e07"
          }
        },
        "433bd5b6927f4847a67753b65c62f52f": {
          "model_module": "@jupyter-widgets/controls",
          "model_name": "FloatProgressModel",
          "state": {
            "_view_name": "ProgressView",
            "style": "IPY_MODEL_f5418110d08e4e809d2c8f80f4f950a4",
            "_dom_classes": [],
            "description": "",
            "_model_name": "FloatProgressModel",
            "bar_style": "",
            "max": 1,
            "_view_module": "@jupyter-widgets/controls",
            "_model_module_version": "1.5.0",
            "value": 1,
            "_view_count": null,
            "_view_module_version": "1.5.0",
            "orientation": "horizontal",
            "min": 0,
            "description_tooltip": null,
            "_model_module": "@jupyter-widgets/controls",
            "layout": "IPY_MODEL_355531f988d842d28ebcadcfa207732a"
          }
        },
        "8cb5722d44ed478ea10869db0fc3fa53": {
          "model_module": "@jupyter-widgets/controls",
          "model_name": "DescriptionStyleModel",
          "state": {
            "_view_name": "StyleView",
            "_model_name": "DescriptionStyleModel",
            "description_width": "",
            "_view_module": "@jupyter-widgets/base",
            "_model_module_version": "1.5.0",
            "_view_count": null,
            "_view_module_version": "1.2.0",
            "_model_module": "@jupyter-widgets/controls"
          }
        },
        "5202349ea3074258a7fce5f92fa81e07": {
          "model_module": "@jupyter-widgets/base",
          "model_name": "LayoutModel",
          "state": {
            "_view_name": "LayoutView",
            "grid_template_rows": null,
            "right": null,
            "justify_content": null,
            "_view_module": "@jupyter-widgets/base",
            "overflow": null,
            "_model_module_version": "1.2.0",
            "_view_count": null,
            "flex_flow": null,
            "width": null,
            "min_width": null,
            "border": null,
            "align_items": null,
            "bottom": null,
            "_model_module": "@jupyter-widgets/base",
            "top": null,
            "grid_column": null,
            "overflow_y": null,
            "overflow_x": null,
            "grid_auto_flow": null,
            "grid_area": null,
            "grid_template_columns": null,
            "flex": null,
            "_model_name": "LayoutModel",
            "justify_items": null,
            "grid_row": null,
            "max_height": null,
            "align_content": null,
            "visibility": null,
            "align_self": null,
            "height": null,
            "min_height": null,
            "padding": null,
            "grid_auto_rows": null,
            "grid_gap": null,
            "max_width": null,
            "order": null,
            "_view_module_version": "1.2.0",
            "grid_template_areas": null,
            "object_position": null,
            "object_fit": null,
            "grid_auto_columns": null,
            "margin": null,
            "display": null,
            "left": null
          }
        },
        "f5418110d08e4e809d2c8f80f4f950a4": {
          "model_module": "@jupyter-widgets/controls",
          "model_name": "ProgressStyleModel",
          "state": {
            "_view_name": "StyleView",
            "_model_name": "ProgressStyleModel",
            "description_width": "",
            "_view_module": "@jupyter-widgets/base",
            "_model_module_version": "1.5.0",
            "_view_count": null,
            "_view_module_version": "1.2.0",
            "bar_color": null,
            "_model_module": "@jupyter-widgets/controls"
          }
        },
        "355531f988d842d28ebcadcfa207732a": {
          "model_module": "@jupyter-widgets/base",
          "model_name": "LayoutModel",
          "state": {
            "_view_name": "LayoutView",
            "grid_template_rows": null,
            "right": null,
            "justify_content": null,
            "_view_module": "@jupyter-widgets/base",
            "overflow": null,
            "_model_module_version": "1.2.0",
            "_view_count": null,
            "flex_flow": null,
            "width": null,
            "min_width": null,
            "border": null,
            "align_items": null,
            "bottom": null,
            "_model_module": "@jupyter-widgets/base",
            "top": null,
            "grid_column": null,
            "overflow_y": null,
            "overflow_x": null,
            "grid_auto_flow": null,
            "grid_area": null,
            "grid_template_columns": null,
            "flex": null,
            "_model_name": "LayoutModel",
            "justify_items": null,
            "grid_row": null,
            "max_height": null,
            "align_content": null,
            "visibility": null,
            "align_self": null,
            "height": null,
            "min_height": null,
            "padding": null,
            "grid_auto_rows": null,
            "grid_gap": null,
            "max_width": null,
            "order": null,
            "_view_module_version": "1.2.0",
            "grid_template_areas": null,
            "object_position": null,
            "object_fit": null,
            "grid_auto_columns": null,
            "margin": null,
            "display": null,
            "left": null
          }
        },
        "b3ba724fb525490ca89d7b0814634e9e": {
          "model_module": "@jupyter-widgets/controls",
          "model_name": "VBoxModel",
          "state": {
            "_view_name": "VBoxView",
            "_dom_classes": [],
            "_model_name": "VBoxModel",
            "_view_module": "@jupyter-widgets/controls",
            "_model_module_version": "1.5.0",
            "_view_count": null,
            "_view_module_version": "1.5.0",
            "box_style": "",
            "layout": "IPY_MODEL_e47145398c3c46e69bb1901c1f4b09e9",
            "_model_module": "@jupyter-widgets/controls",
            "children": [
              "IPY_MODEL_7505a6ec8b414fe6b426630ab16ca338",
              "IPY_MODEL_2fc1887f1be94ac7ad88f220052e5076"
            ]
          }
        },
        "e47145398c3c46e69bb1901c1f4b09e9": {
          "model_module": "@jupyter-widgets/base",
          "model_name": "LayoutModel",
          "state": {
            "_view_name": "LayoutView",
            "grid_template_rows": null,
            "right": null,
            "justify_content": null,
            "_view_module": "@jupyter-widgets/base",
            "overflow": null,
            "_model_module_version": "1.2.0",
            "_view_count": null,
            "flex_flow": null,
            "width": null,
            "min_width": null,
            "border": null,
            "align_items": null,
            "bottom": null,
            "_model_module": "@jupyter-widgets/base",
            "top": null,
            "grid_column": null,
            "overflow_y": null,
            "overflow_x": null,
            "grid_auto_flow": null,
            "grid_area": null,
            "grid_template_columns": null,
            "flex": null,
            "_model_name": "LayoutModel",
            "justify_items": null,
            "grid_row": null,
            "max_height": null,
            "align_content": null,
            "visibility": null,
            "align_self": null,
            "height": null,
            "min_height": null,
            "padding": null,
            "grid_auto_rows": null,
            "grid_gap": null,
            "max_width": null,
            "order": null,
            "_view_module_version": "1.2.0",
            "grid_template_areas": null,
            "object_position": null,
            "object_fit": null,
            "grid_auto_columns": null,
            "margin": null,
            "display": null,
            "left": null
          }
        },
        "7505a6ec8b414fe6b426630ab16ca338": {
          "model_module": "@jupyter-widgets/controls",
          "model_name": "LabelModel",
          "state": {
            "_view_name": "LabelView",
            "style": "IPY_MODEL_0749b40601804b998ed0e04a74f18647",
            "_dom_classes": [],
            "description": "",
            "_model_name": "LabelModel",
            "placeholder": "​",
            "_view_module": "@jupyter-widgets/controls",
            "_model_module_version": "1.5.0",
            "value": " 67.21MB of 67.21MB uploaded (0.00MB deduped)\r",
            "_view_count": null,
            "_view_module_version": "1.5.0",
            "description_tooltip": null,
            "_model_module": "@jupyter-widgets/controls",
            "layout": "IPY_MODEL_f7d5ce6f64ef427bab62e4b4d166b9b0"
          }
        },
        "2fc1887f1be94ac7ad88f220052e5076": {
          "model_module": "@jupyter-widgets/controls",
          "model_name": "FloatProgressModel",
          "state": {
            "_view_name": "ProgressView",
            "style": "IPY_MODEL_413ed9fe83de4e2788b12de16cef3388",
            "_dom_classes": [],
            "description": "",
            "_model_name": "FloatProgressModel",
            "bar_style": "",
            "max": 1,
            "_view_module": "@jupyter-widgets/controls",
            "_model_module_version": "1.5.0",
            "value": 1,
            "_view_count": null,
            "_view_module_version": "1.5.0",
            "orientation": "horizontal",
            "min": 0,
            "description_tooltip": null,
            "_model_module": "@jupyter-widgets/controls",
            "layout": "IPY_MODEL_df31cc00802e44e1afa984839589feac"
          }
        },
        "0749b40601804b998ed0e04a74f18647": {
          "model_module": "@jupyter-widgets/controls",
          "model_name": "DescriptionStyleModel",
          "state": {
            "_view_name": "StyleView",
            "_model_name": "DescriptionStyleModel",
            "description_width": "",
            "_view_module": "@jupyter-widgets/base",
            "_model_module_version": "1.5.0",
            "_view_count": null,
            "_view_module_version": "1.2.0",
            "_model_module": "@jupyter-widgets/controls"
          }
        },
        "f7d5ce6f64ef427bab62e4b4d166b9b0": {
          "model_module": "@jupyter-widgets/base",
          "model_name": "LayoutModel",
          "state": {
            "_view_name": "LayoutView",
            "grid_template_rows": null,
            "right": null,
            "justify_content": null,
            "_view_module": "@jupyter-widgets/base",
            "overflow": null,
            "_model_module_version": "1.2.0",
            "_view_count": null,
            "flex_flow": null,
            "width": null,
            "min_width": null,
            "border": null,
            "align_items": null,
            "bottom": null,
            "_model_module": "@jupyter-widgets/base",
            "top": null,
            "grid_column": null,
            "overflow_y": null,
            "overflow_x": null,
            "grid_auto_flow": null,
            "grid_area": null,
            "grid_template_columns": null,
            "flex": null,
            "_model_name": "LayoutModel",
            "justify_items": null,
            "grid_row": null,
            "max_height": null,
            "align_content": null,
            "visibility": null,
            "align_self": null,
            "height": null,
            "min_height": null,
            "padding": null,
            "grid_auto_rows": null,
            "grid_gap": null,
            "max_width": null,
            "order": null,
            "_view_module_version": "1.2.0",
            "grid_template_areas": null,
            "object_position": null,
            "object_fit": null,
            "grid_auto_columns": null,
            "margin": null,
            "display": null,
            "left": null
          }
        },
        "413ed9fe83de4e2788b12de16cef3388": {
          "model_module": "@jupyter-widgets/controls",
          "model_name": "ProgressStyleModel",
          "state": {
            "_view_name": "StyleView",
            "_model_name": "ProgressStyleModel",
            "description_width": "",
            "_view_module": "@jupyter-widgets/base",
            "_model_module_version": "1.5.0",
            "_view_count": null,
            "_view_module_version": "1.2.0",
            "bar_color": null,
            "_model_module": "@jupyter-widgets/controls"
          }
        },
        "df31cc00802e44e1afa984839589feac": {
          "model_module": "@jupyter-widgets/base",
          "model_name": "LayoutModel",
          "state": {
            "_view_name": "LayoutView",
            "grid_template_rows": null,
            "right": null,
            "justify_content": null,
            "_view_module": "@jupyter-widgets/base",
            "overflow": null,
            "_model_module_version": "1.2.0",
            "_view_count": null,
            "flex_flow": null,
            "width": null,
            "min_width": null,
            "border": null,
            "align_items": null,
            "bottom": null,
            "_model_module": "@jupyter-widgets/base",
            "top": null,
            "grid_column": null,
            "overflow_y": null,
            "overflow_x": null,
            "grid_auto_flow": null,
            "grid_area": null,
            "grid_template_columns": null,
            "flex": null,
            "_model_name": "LayoutModel",
            "justify_items": null,
            "grid_row": null,
            "max_height": null,
            "align_content": null,
            "visibility": null,
            "align_self": null,
            "height": null,
            "min_height": null,
            "padding": null,
            "grid_auto_rows": null,
            "grid_gap": null,
            "max_width": null,
            "order": null,
            "_view_module_version": "1.2.0",
            "grid_template_areas": null,
            "object_position": null,
            "object_fit": null,
            "grid_auto_columns": null,
            "margin": null,
            "display": null,
            "left": null
          }
        },
        "d1d38946aecd41c38803f7eea6087d54": {
          "model_module": "@jupyter-widgets/controls",
          "model_name": "VBoxModel",
          "state": {
            "_view_name": "VBoxView",
            "_dom_classes": [],
            "_model_name": "VBoxModel",
            "_view_module": "@jupyter-widgets/controls",
            "_model_module_version": "1.5.0",
            "_view_count": null,
            "_view_module_version": "1.5.0",
            "box_style": "",
            "layout": "IPY_MODEL_086f0bdc3ca64b29816f0fa392dc5a26",
            "_model_module": "@jupyter-widgets/controls",
            "children": [
              "IPY_MODEL_1fa7f8397bc54ec3a26d358c4b2c14e7",
              "IPY_MODEL_1835a4dcc9314434ac6cdf903c3f07d2"
            ]
          }
        },
        "086f0bdc3ca64b29816f0fa392dc5a26": {
          "model_module": "@jupyter-widgets/base",
          "model_name": "LayoutModel",
          "state": {
            "_view_name": "LayoutView",
            "grid_template_rows": null,
            "right": null,
            "justify_content": null,
            "_view_module": "@jupyter-widgets/base",
            "overflow": null,
            "_model_module_version": "1.2.0",
            "_view_count": null,
            "flex_flow": null,
            "width": null,
            "min_width": null,
            "border": null,
            "align_items": null,
            "bottom": null,
            "_model_module": "@jupyter-widgets/base",
            "top": null,
            "grid_column": null,
            "overflow_y": null,
            "overflow_x": null,
            "grid_auto_flow": null,
            "grid_area": null,
            "grid_template_columns": null,
            "flex": null,
            "_model_name": "LayoutModel",
            "justify_items": null,
            "grid_row": null,
            "max_height": null,
            "align_content": null,
            "visibility": null,
            "align_self": null,
            "height": null,
            "min_height": null,
            "padding": null,
            "grid_auto_rows": null,
            "grid_gap": null,
            "max_width": null,
            "order": null,
            "_view_module_version": "1.2.0",
            "grid_template_areas": null,
            "object_position": null,
            "object_fit": null,
            "grid_auto_columns": null,
            "margin": null,
            "display": null,
            "left": null
          }
        },
        "1fa7f8397bc54ec3a26d358c4b2c14e7": {
          "model_module": "@jupyter-widgets/controls",
          "model_name": "LabelModel",
          "state": {
            "_view_name": "LabelView",
            "style": "IPY_MODEL_da8049562fbe4deda8c2b17ee19569e9",
            "_dom_classes": [],
            "description": "",
            "_model_name": "LabelModel",
            "placeholder": "​",
            "_view_module": "@jupyter-widgets/controls",
            "_model_module_version": "1.5.0",
            "value": " 67.22MB of 67.22MB uploaded (0.00MB deduped)\r",
            "_view_count": null,
            "_view_module_version": "1.5.0",
            "description_tooltip": null,
            "_model_module": "@jupyter-widgets/controls",
            "layout": "IPY_MODEL_5c72aac8d257489f95a7b91b98ad3a42"
          }
        },
        "1835a4dcc9314434ac6cdf903c3f07d2": {
          "model_module": "@jupyter-widgets/controls",
          "model_name": "FloatProgressModel",
          "state": {
            "_view_name": "ProgressView",
            "style": "IPY_MODEL_faa4a0547f364ffe99b41f832a013572",
            "_dom_classes": [],
            "description": "",
            "_model_name": "FloatProgressModel",
            "bar_style": "",
            "max": 1,
            "_view_module": "@jupyter-widgets/controls",
            "_model_module_version": "1.5.0",
            "value": 1,
            "_view_count": null,
            "_view_module_version": "1.5.0",
            "orientation": "horizontal",
            "min": 0,
            "description_tooltip": null,
            "_model_module": "@jupyter-widgets/controls",
            "layout": "IPY_MODEL_7aef22e979704358932998f18ca51d02"
          }
        },
        "da8049562fbe4deda8c2b17ee19569e9": {
          "model_module": "@jupyter-widgets/controls",
          "model_name": "DescriptionStyleModel",
          "state": {
            "_view_name": "StyleView",
            "_model_name": "DescriptionStyleModel",
            "description_width": "",
            "_view_module": "@jupyter-widgets/base",
            "_model_module_version": "1.5.0",
            "_view_count": null,
            "_view_module_version": "1.2.0",
            "_model_module": "@jupyter-widgets/controls"
          }
        },
        "5c72aac8d257489f95a7b91b98ad3a42": {
          "model_module": "@jupyter-widgets/base",
          "model_name": "LayoutModel",
          "state": {
            "_view_name": "LayoutView",
            "grid_template_rows": null,
            "right": null,
            "justify_content": null,
            "_view_module": "@jupyter-widgets/base",
            "overflow": null,
            "_model_module_version": "1.2.0",
            "_view_count": null,
            "flex_flow": null,
            "width": null,
            "min_width": null,
            "border": null,
            "align_items": null,
            "bottom": null,
            "_model_module": "@jupyter-widgets/base",
            "top": null,
            "grid_column": null,
            "overflow_y": null,
            "overflow_x": null,
            "grid_auto_flow": null,
            "grid_area": null,
            "grid_template_columns": null,
            "flex": null,
            "_model_name": "LayoutModel",
            "justify_items": null,
            "grid_row": null,
            "max_height": null,
            "align_content": null,
            "visibility": null,
            "align_self": null,
            "height": null,
            "min_height": null,
            "padding": null,
            "grid_auto_rows": null,
            "grid_gap": null,
            "max_width": null,
            "order": null,
            "_view_module_version": "1.2.0",
            "grid_template_areas": null,
            "object_position": null,
            "object_fit": null,
            "grid_auto_columns": null,
            "margin": null,
            "display": null,
            "left": null
          }
        },
        "faa4a0547f364ffe99b41f832a013572": {
          "model_module": "@jupyter-widgets/controls",
          "model_name": "ProgressStyleModel",
          "state": {
            "_view_name": "StyleView",
            "_model_name": "ProgressStyleModel",
            "description_width": "",
            "_view_module": "@jupyter-widgets/base",
            "_model_module_version": "1.5.0",
            "_view_count": null,
            "_view_module_version": "1.2.0",
            "bar_color": null,
            "_model_module": "@jupyter-widgets/controls"
          }
        },
        "7aef22e979704358932998f18ca51d02": {
          "model_module": "@jupyter-widgets/base",
          "model_name": "LayoutModel",
          "state": {
            "_view_name": "LayoutView",
            "grid_template_rows": null,
            "right": null,
            "justify_content": null,
            "_view_module": "@jupyter-widgets/base",
            "overflow": null,
            "_model_module_version": "1.2.0",
            "_view_count": null,
            "flex_flow": null,
            "width": null,
            "min_width": null,
            "border": null,
            "align_items": null,
            "bottom": null,
            "_model_module": "@jupyter-widgets/base",
            "top": null,
            "grid_column": null,
            "overflow_y": null,
            "overflow_x": null,
            "grid_auto_flow": null,
            "grid_area": null,
            "grid_template_columns": null,
            "flex": null,
            "_model_name": "LayoutModel",
            "justify_items": null,
            "grid_row": null,
            "max_height": null,
            "align_content": null,
            "visibility": null,
            "align_self": null,
            "height": null,
            "min_height": null,
            "padding": null,
            "grid_auto_rows": null,
            "grid_gap": null,
            "max_width": null,
            "order": null,
            "_view_module_version": "1.2.0",
            "grid_template_areas": null,
            "object_position": null,
            "object_fit": null,
            "grid_auto_columns": null,
            "margin": null,
            "display": null,
            "left": null
          }
        },
        "eb83ac4296304d9b96fbff57c4ae5bf0": {
          "model_module": "@jupyter-widgets/controls",
          "model_name": "VBoxModel",
          "state": {
            "_view_name": "VBoxView",
            "_dom_classes": [],
            "_model_name": "VBoxModel",
            "_view_module": "@jupyter-widgets/controls",
            "_model_module_version": "1.5.0",
            "_view_count": null,
            "_view_module_version": "1.5.0",
            "box_style": "",
            "layout": "IPY_MODEL_322c3c1e54324f87970b13885d89b61a",
            "_model_module": "@jupyter-widgets/controls",
            "children": [
              "IPY_MODEL_bec16d52714c4d6eacc0ba57a12b246e",
              "IPY_MODEL_25b865e00111492491f72320154d21e9"
            ]
          }
        },
        "322c3c1e54324f87970b13885d89b61a": {
          "model_module": "@jupyter-widgets/base",
          "model_name": "LayoutModel",
          "state": {
            "_view_name": "LayoutView",
            "grid_template_rows": null,
            "right": null,
            "justify_content": null,
            "_view_module": "@jupyter-widgets/base",
            "overflow": null,
            "_model_module_version": "1.2.0",
            "_view_count": null,
            "flex_flow": null,
            "width": null,
            "min_width": null,
            "border": null,
            "align_items": null,
            "bottom": null,
            "_model_module": "@jupyter-widgets/base",
            "top": null,
            "grid_column": null,
            "overflow_y": null,
            "overflow_x": null,
            "grid_auto_flow": null,
            "grid_area": null,
            "grid_template_columns": null,
            "flex": null,
            "_model_name": "LayoutModel",
            "justify_items": null,
            "grid_row": null,
            "max_height": null,
            "align_content": null,
            "visibility": null,
            "align_self": null,
            "height": null,
            "min_height": null,
            "padding": null,
            "grid_auto_rows": null,
            "grid_gap": null,
            "max_width": null,
            "order": null,
            "_view_module_version": "1.2.0",
            "grid_template_areas": null,
            "object_position": null,
            "object_fit": null,
            "grid_auto_columns": null,
            "margin": null,
            "display": null,
            "left": null
          }
        },
        "bec16d52714c4d6eacc0ba57a12b246e": {
          "model_module": "@jupyter-widgets/controls",
          "model_name": "LabelModel",
          "state": {
            "_view_name": "LabelView",
            "style": "IPY_MODEL_a36f406b915041c3b4aa806a4d65015c",
            "_dom_classes": [],
            "description": "",
            "_model_name": "LabelModel",
            "placeholder": "​",
            "_view_module": "@jupyter-widgets/controls",
            "_model_module_version": "1.5.0",
            "value": " 69.16MB of 69.16MB uploaded (0.00MB deduped)\r",
            "_view_count": null,
            "_view_module_version": "1.5.0",
            "description_tooltip": null,
            "_model_module": "@jupyter-widgets/controls",
            "layout": "IPY_MODEL_d0d8498195264b3e9205d3e52e029a56"
          }
        },
        "25b865e00111492491f72320154d21e9": {
          "model_module": "@jupyter-widgets/controls",
          "model_name": "FloatProgressModel",
          "state": {
            "_view_name": "ProgressView",
            "style": "IPY_MODEL_4d9352137a3a4074b86b6e5b0e9167b3",
            "_dom_classes": [],
            "description": "",
            "_model_name": "FloatProgressModel",
            "bar_style": "",
            "max": 1,
            "_view_module": "@jupyter-widgets/controls",
            "_model_module_version": "1.5.0",
            "value": 1,
            "_view_count": null,
            "_view_module_version": "1.5.0",
            "orientation": "horizontal",
            "min": 0,
            "description_tooltip": null,
            "_model_module": "@jupyter-widgets/controls",
            "layout": "IPY_MODEL_f8080181cd08475e8262f23e93043ffc"
          }
        },
        "a36f406b915041c3b4aa806a4d65015c": {
          "model_module": "@jupyter-widgets/controls",
          "model_name": "DescriptionStyleModel",
          "state": {
            "_view_name": "StyleView",
            "_model_name": "DescriptionStyleModel",
            "description_width": "",
            "_view_module": "@jupyter-widgets/base",
            "_model_module_version": "1.5.0",
            "_view_count": null,
            "_view_module_version": "1.2.0",
            "_model_module": "@jupyter-widgets/controls"
          }
        },
        "d0d8498195264b3e9205d3e52e029a56": {
          "model_module": "@jupyter-widgets/base",
          "model_name": "LayoutModel",
          "state": {
            "_view_name": "LayoutView",
            "grid_template_rows": null,
            "right": null,
            "justify_content": null,
            "_view_module": "@jupyter-widgets/base",
            "overflow": null,
            "_model_module_version": "1.2.0",
            "_view_count": null,
            "flex_flow": null,
            "width": null,
            "min_width": null,
            "border": null,
            "align_items": null,
            "bottom": null,
            "_model_module": "@jupyter-widgets/base",
            "top": null,
            "grid_column": null,
            "overflow_y": null,
            "overflow_x": null,
            "grid_auto_flow": null,
            "grid_area": null,
            "grid_template_columns": null,
            "flex": null,
            "_model_name": "LayoutModel",
            "justify_items": null,
            "grid_row": null,
            "max_height": null,
            "align_content": null,
            "visibility": null,
            "align_self": null,
            "height": null,
            "min_height": null,
            "padding": null,
            "grid_auto_rows": null,
            "grid_gap": null,
            "max_width": null,
            "order": null,
            "_view_module_version": "1.2.0",
            "grid_template_areas": null,
            "object_position": null,
            "object_fit": null,
            "grid_auto_columns": null,
            "margin": null,
            "display": null,
            "left": null
          }
        },
        "4d9352137a3a4074b86b6e5b0e9167b3": {
          "model_module": "@jupyter-widgets/controls",
          "model_name": "ProgressStyleModel",
          "state": {
            "_view_name": "StyleView",
            "_model_name": "ProgressStyleModel",
            "description_width": "",
            "_view_module": "@jupyter-widgets/base",
            "_model_module_version": "1.5.0",
            "_view_count": null,
            "_view_module_version": "1.2.0",
            "bar_color": null,
            "_model_module": "@jupyter-widgets/controls"
          }
        },
        "f8080181cd08475e8262f23e93043ffc": {
          "model_module": "@jupyter-widgets/base",
          "model_name": "LayoutModel",
          "state": {
            "_view_name": "LayoutView",
            "grid_template_rows": null,
            "right": null,
            "justify_content": null,
            "_view_module": "@jupyter-widgets/base",
            "overflow": null,
            "_model_module_version": "1.2.0",
            "_view_count": null,
            "flex_flow": null,
            "width": null,
            "min_width": null,
            "border": null,
            "align_items": null,
            "bottom": null,
            "_model_module": "@jupyter-widgets/base",
            "top": null,
            "grid_column": null,
            "overflow_y": null,
            "overflow_x": null,
            "grid_auto_flow": null,
            "grid_area": null,
            "grid_template_columns": null,
            "flex": null,
            "_model_name": "LayoutModel",
            "justify_items": null,
            "grid_row": null,
            "max_height": null,
            "align_content": null,
            "visibility": null,
            "align_self": null,
            "height": null,
            "min_height": null,
            "padding": null,
            "grid_auto_rows": null,
            "grid_gap": null,
            "max_width": null,
            "order": null,
            "_view_module_version": "1.2.0",
            "grid_template_areas": null,
            "object_position": null,
            "object_fit": null,
            "grid_auto_columns": null,
            "margin": null,
            "display": null,
            "left": null
          }
        },
        "d9d4c438f8d44156934c816b1a45c9a5": {
          "model_module": "@jupyter-widgets/controls",
          "model_name": "VBoxModel",
          "state": {
            "_view_name": "VBoxView",
            "_dom_classes": [],
            "_model_name": "VBoxModel",
            "_view_module": "@jupyter-widgets/controls",
            "_model_module_version": "1.5.0",
            "_view_count": null,
            "_view_module_version": "1.5.0",
            "box_style": "",
            "layout": "IPY_MODEL_bbd0c6fdf4e14dffb1c7296cb673f253",
            "_model_module": "@jupyter-widgets/controls",
            "children": [
              "IPY_MODEL_af87d6c6085e42e8998152f8bab5a281",
              "IPY_MODEL_a754f1e5bc4d4c7f98dd881cf3dd6d19"
            ]
          }
        },
        "bbd0c6fdf4e14dffb1c7296cb673f253": {
          "model_module": "@jupyter-widgets/base",
          "model_name": "LayoutModel",
          "state": {
            "_view_name": "LayoutView",
            "grid_template_rows": null,
            "right": null,
            "justify_content": null,
            "_view_module": "@jupyter-widgets/base",
            "overflow": null,
            "_model_module_version": "1.2.0",
            "_view_count": null,
            "flex_flow": null,
            "width": null,
            "min_width": null,
            "border": null,
            "align_items": null,
            "bottom": null,
            "_model_module": "@jupyter-widgets/base",
            "top": null,
            "grid_column": null,
            "overflow_y": null,
            "overflow_x": null,
            "grid_auto_flow": null,
            "grid_area": null,
            "grid_template_columns": null,
            "flex": null,
            "_model_name": "LayoutModel",
            "justify_items": null,
            "grid_row": null,
            "max_height": null,
            "align_content": null,
            "visibility": null,
            "align_self": null,
            "height": null,
            "min_height": null,
            "padding": null,
            "grid_auto_rows": null,
            "grid_gap": null,
            "max_width": null,
            "order": null,
            "_view_module_version": "1.2.0",
            "grid_template_areas": null,
            "object_position": null,
            "object_fit": null,
            "grid_auto_columns": null,
            "margin": null,
            "display": null,
            "left": null
          }
        },
        "af87d6c6085e42e8998152f8bab5a281": {
          "model_module": "@jupyter-widgets/controls",
          "model_name": "LabelModel",
          "state": {
            "_view_name": "LabelView",
            "style": "IPY_MODEL_4381ec33fc0e4b34991c2fb3184f4a65",
            "_dom_classes": [],
            "description": "",
            "_model_name": "LabelModel",
            "placeholder": "​",
            "_view_module": "@jupyter-widgets/controls",
            "_model_module_version": "1.5.0",
            "value": " 67.12MB of 67.12MB uploaded (0.00MB deduped)\r",
            "_view_count": null,
            "_view_module_version": "1.5.0",
            "description_tooltip": null,
            "_model_module": "@jupyter-widgets/controls",
            "layout": "IPY_MODEL_00b55cda9bf0462a96dd102aa38fc4d7"
          }
        },
        "a754f1e5bc4d4c7f98dd881cf3dd6d19": {
          "model_module": "@jupyter-widgets/controls",
          "model_name": "FloatProgressModel",
          "state": {
            "_view_name": "ProgressView",
            "style": "IPY_MODEL_d5db8c2e13564455b4a88de1c2b0045d",
            "_dom_classes": [],
            "description": "",
            "_model_name": "FloatProgressModel",
            "bar_style": "",
            "max": 1,
            "_view_module": "@jupyter-widgets/controls",
            "_model_module_version": "1.5.0",
            "value": 1,
            "_view_count": null,
            "_view_module_version": "1.5.0",
            "orientation": "horizontal",
            "min": 0,
            "description_tooltip": null,
            "_model_module": "@jupyter-widgets/controls",
            "layout": "IPY_MODEL_410d1ed7482444168993223bf9eb7acf"
          }
        },
        "4381ec33fc0e4b34991c2fb3184f4a65": {
          "model_module": "@jupyter-widgets/controls",
          "model_name": "DescriptionStyleModel",
          "state": {
            "_view_name": "StyleView",
            "_model_name": "DescriptionStyleModel",
            "description_width": "",
            "_view_module": "@jupyter-widgets/base",
            "_model_module_version": "1.5.0",
            "_view_count": null,
            "_view_module_version": "1.2.0",
            "_model_module": "@jupyter-widgets/controls"
          }
        },
        "00b55cda9bf0462a96dd102aa38fc4d7": {
          "model_module": "@jupyter-widgets/base",
          "model_name": "LayoutModel",
          "state": {
            "_view_name": "LayoutView",
            "grid_template_rows": null,
            "right": null,
            "justify_content": null,
            "_view_module": "@jupyter-widgets/base",
            "overflow": null,
            "_model_module_version": "1.2.0",
            "_view_count": null,
            "flex_flow": null,
            "width": null,
            "min_width": null,
            "border": null,
            "align_items": null,
            "bottom": null,
            "_model_module": "@jupyter-widgets/base",
            "top": null,
            "grid_column": null,
            "overflow_y": null,
            "overflow_x": null,
            "grid_auto_flow": null,
            "grid_area": null,
            "grid_template_columns": null,
            "flex": null,
            "_model_name": "LayoutModel",
            "justify_items": null,
            "grid_row": null,
            "max_height": null,
            "align_content": null,
            "visibility": null,
            "align_self": null,
            "height": null,
            "min_height": null,
            "padding": null,
            "grid_auto_rows": null,
            "grid_gap": null,
            "max_width": null,
            "order": null,
            "_view_module_version": "1.2.0",
            "grid_template_areas": null,
            "object_position": null,
            "object_fit": null,
            "grid_auto_columns": null,
            "margin": null,
            "display": null,
            "left": null
          }
        },
        "d5db8c2e13564455b4a88de1c2b0045d": {
          "model_module": "@jupyter-widgets/controls",
          "model_name": "ProgressStyleModel",
          "state": {
            "_view_name": "StyleView",
            "_model_name": "ProgressStyleModel",
            "description_width": "",
            "_view_module": "@jupyter-widgets/base",
            "_model_module_version": "1.5.0",
            "_view_count": null,
            "_view_module_version": "1.2.0",
            "bar_color": null,
            "_model_module": "@jupyter-widgets/controls"
          }
        },
        "410d1ed7482444168993223bf9eb7acf": {
          "model_module": "@jupyter-widgets/base",
          "model_name": "LayoutModel",
          "state": {
            "_view_name": "LayoutView",
            "grid_template_rows": null,
            "right": null,
            "justify_content": null,
            "_view_module": "@jupyter-widgets/base",
            "overflow": null,
            "_model_module_version": "1.2.0",
            "_view_count": null,
            "flex_flow": null,
            "width": null,
            "min_width": null,
            "border": null,
            "align_items": null,
            "bottom": null,
            "_model_module": "@jupyter-widgets/base",
            "top": null,
            "grid_column": null,
            "overflow_y": null,
            "overflow_x": null,
            "grid_auto_flow": null,
            "grid_area": null,
            "grid_template_columns": null,
            "flex": null,
            "_model_name": "LayoutModel",
            "justify_items": null,
            "grid_row": null,
            "max_height": null,
            "align_content": null,
            "visibility": null,
            "align_self": null,
            "height": null,
            "min_height": null,
            "padding": null,
            "grid_auto_rows": null,
            "grid_gap": null,
            "max_width": null,
            "order": null,
            "_view_module_version": "1.2.0",
            "grid_template_areas": null,
            "object_position": null,
            "object_fit": null,
            "grid_auto_columns": null,
            "margin": null,
            "display": null,
            "left": null
          }
        },
        "8691eb4eb10c4a67b2337e1e91fff6e1": {
          "model_module": "@jupyter-widgets/controls",
          "model_name": "VBoxModel",
          "state": {
            "_view_name": "VBoxView",
            "_dom_classes": [],
            "_model_name": "VBoxModel",
            "_view_module": "@jupyter-widgets/controls",
            "_model_module_version": "1.5.0",
            "_view_count": null,
            "_view_module_version": "1.5.0",
            "box_style": "",
            "layout": "IPY_MODEL_0dc3b1dbb8b8453d8f2c4648641964ce",
            "_model_module": "@jupyter-widgets/controls",
            "children": [
              "IPY_MODEL_0a288dd8564f42998e877f631e28b032",
              "IPY_MODEL_4a813cb8271447aeae000b732626e591"
            ]
          }
        },
        "0dc3b1dbb8b8453d8f2c4648641964ce": {
          "model_module": "@jupyter-widgets/base",
          "model_name": "LayoutModel",
          "state": {
            "_view_name": "LayoutView",
            "grid_template_rows": null,
            "right": null,
            "justify_content": null,
            "_view_module": "@jupyter-widgets/base",
            "overflow": null,
            "_model_module_version": "1.2.0",
            "_view_count": null,
            "flex_flow": null,
            "width": null,
            "min_width": null,
            "border": null,
            "align_items": null,
            "bottom": null,
            "_model_module": "@jupyter-widgets/base",
            "top": null,
            "grid_column": null,
            "overflow_y": null,
            "overflow_x": null,
            "grid_auto_flow": null,
            "grid_area": null,
            "grid_template_columns": null,
            "flex": null,
            "_model_name": "LayoutModel",
            "justify_items": null,
            "grid_row": null,
            "max_height": null,
            "align_content": null,
            "visibility": null,
            "align_self": null,
            "height": null,
            "min_height": null,
            "padding": null,
            "grid_auto_rows": null,
            "grid_gap": null,
            "max_width": null,
            "order": null,
            "_view_module_version": "1.2.0",
            "grid_template_areas": null,
            "object_position": null,
            "object_fit": null,
            "grid_auto_columns": null,
            "margin": null,
            "display": null,
            "left": null
          }
        },
        "0a288dd8564f42998e877f631e28b032": {
          "model_module": "@jupyter-widgets/controls",
          "model_name": "LabelModel",
          "state": {
            "_view_name": "LabelView",
            "style": "IPY_MODEL_1dd4c74b20154307b22d79719d2efe58",
            "_dom_classes": [],
            "description": "",
            "_model_name": "LabelModel",
            "placeholder": "​",
            "_view_module": "@jupyter-widgets/controls",
            "_model_module_version": "1.5.0",
            "value": " 72.96MB of 72.96MB uploaded (0.00MB deduped)\r",
            "_view_count": null,
            "_view_module_version": "1.5.0",
            "description_tooltip": null,
            "_model_module": "@jupyter-widgets/controls",
            "layout": "IPY_MODEL_74197e6cfdbb42a39b956b933678e073"
          }
        },
        "4a813cb8271447aeae000b732626e591": {
          "model_module": "@jupyter-widgets/controls",
          "model_name": "FloatProgressModel",
          "state": {
            "_view_name": "ProgressView",
            "style": "IPY_MODEL_a907da23c93c4cf6a75b65c79c582a1d",
            "_dom_classes": [],
            "description": "",
            "_model_name": "FloatProgressModel",
            "bar_style": "",
            "max": 1,
            "_view_module": "@jupyter-widgets/controls",
            "_model_module_version": "1.5.0",
            "value": 1,
            "_view_count": null,
            "_view_module_version": "1.5.0",
            "orientation": "horizontal",
            "min": 0,
            "description_tooltip": null,
            "_model_module": "@jupyter-widgets/controls",
            "layout": "IPY_MODEL_a155224d555944b28aa73d8ef7b91b93"
          }
        },
        "1dd4c74b20154307b22d79719d2efe58": {
          "model_module": "@jupyter-widgets/controls",
          "model_name": "DescriptionStyleModel",
          "state": {
            "_view_name": "StyleView",
            "_model_name": "DescriptionStyleModel",
            "description_width": "",
            "_view_module": "@jupyter-widgets/base",
            "_model_module_version": "1.5.0",
            "_view_count": null,
            "_view_module_version": "1.2.0",
            "_model_module": "@jupyter-widgets/controls"
          }
        },
        "74197e6cfdbb42a39b956b933678e073": {
          "model_module": "@jupyter-widgets/base",
          "model_name": "LayoutModel",
          "state": {
            "_view_name": "LayoutView",
            "grid_template_rows": null,
            "right": null,
            "justify_content": null,
            "_view_module": "@jupyter-widgets/base",
            "overflow": null,
            "_model_module_version": "1.2.0",
            "_view_count": null,
            "flex_flow": null,
            "width": null,
            "min_width": null,
            "border": null,
            "align_items": null,
            "bottom": null,
            "_model_module": "@jupyter-widgets/base",
            "top": null,
            "grid_column": null,
            "overflow_y": null,
            "overflow_x": null,
            "grid_auto_flow": null,
            "grid_area": null,
            "grid_template_columns": null,
            "flex": null,
            "_model_name": "LayoutModel",
            "justify_items": null,
            "grid_row": null,
            "max_height": null,
            "align_content": null,
            "visibility": null,
            "align_self": null,
            "height": null,
            "min_height": null,
            "padding": null,
            "grid_auto_rows": null,
            "grid_gap": null,
            "max_width": null,
            "order": null,
            "_view_module_version": "1.2.0",
            "grid_template_areas": null,
            "object_position": null,
            "object_fit": null,
            "grid_auto_columns": null,
            "margin": null,
            "display": null,
            "left": null
          }
        },
        "a907da23c93c4cf6a75b65c79c582a1d": {
          "model_module": "@jupyter-widgets/controls",
          "model_name": "ProgressStyleModel",
          "state": {
            "_view_name": "StyleView",
            "_model_name": "ProgressStyleModel",
            "description_width": "",
            "_view_module": "@jupyter-widgets/base",
            "_model_module_version": "1.5.0",
            "_view_count": null,
            "_view_module_version": "1.2.0",
            "bar_color": null,
            "_model_module": "@jupyter-widgets/controls"
          }
        },
        "a155224d555944b28aa73d8ef7b91b93": {
          "model_module": "@jupyter-widgets/base",
          "model_name": "LayoutModel",
          "state": {
            "_view_name": "LayoutView",
            "grid_template_rows": null,
            "right": null,
            "justify_content": null,
            "_view_module": "@jupyter-widgets/base",
            "overflow": null,
            "_model_module_version": "1.2.0",
            "_view_count": null,
            "flex_flow": null,
            "width": null,
            "min_width": null,
            "border": null,
            "align_items": null,
            "bottom": null,
            "_model_module": "@jupyter-widgets/base",
            "top": null,
            "grid_column": null,
            "overflow_y": null,
            "overflow_x": null,
            "grid_auto_flow": null,
            "grid_area": null,
            "grid_template_columns": null,
            "flex": null,
            "_model_name": "LayoutModel",
            "justify_items": null,
            "grid_row": null,
            "max_height": null,
            "align_content": null,
            "visibility": null,
            "align_self": null,
            "height": null,
            "min_height": null,
            "padding": null,
            "grid_auto_rows": null,
            "grid_gap": null,
            "max_width": null,
            "order": null,
            "_view_module_version": "1.2.0",
            "grid_template_areas": null,
            "object_position": null,
            "object_fit": null,
            "grid_auto_columns": null,
            "margin": null,
            "display": null,
            "left": null
          }
        },
        "2a3e6109188444e29c7c59739a0adab0": {
          "model_module": "@jupyter-widgets/controls",
          "model_name": "VBoxModel",
          "state": {
            "_view_name": "VBoxView",
            "_dom_classes": [],
            "_model_name": "VBoxModel",
            "_view_module": "@jupyter-widgets/controls",
            "_model_module_version": "1.5.0",
            "_view_count": null,
            "_view_module_version": "1.5.0",
            "box_style": "",
            "layout": "IPY_MODEL_17dc637f1dbc4e4e88c7c15914fe8039",
            "_model_module": "@jupyter-widgets/controls",
            "children": [
              "IPY_MODEL_f3d64323b7e746c3886c2e80d97afdab",
              "IPY_MODEL_24efae0794344886b3e4097653ac2e98"
            ]
          }
        },
        "17dc637f1dbc4e4e88c7c15914fe8039": {
          "model_module": "@jupyter-widgets/base",
          "model_name": "LayoutModel",
          "state": {
            "_view_name": "LayoutView",
            "grid_template_rows": null,
            "right": null,
            "justify_content": null,
            "_view_module": "@jupyter-widgets/base",
            "overflow": null,
            "_model_module_version": "1.2.0",
            "_view_count": null,
            "flex_flow": null,
            "width": null,
            "min_width": null,
            "border": null,
            "align_items": null,
            "bottom": null,
            "_model_module": "@jupyter-widgets/base",
            "top": null,
            "grid_column": null,
            "overflow_y": null,
            "overflow_x": null,
            "grid_auto_flow": null,
            "grid_area": null,
            "grid_template_columns": null,
            "flex": null,
            "_model_name": "LayoutModel",
            "justify_items": null,
            "grid_row": null,
            "max_height": null,
            "align_content": null,
            "visibility": null,
            "align_self": null,
            "height": null,
            "min_height": null,
            "padding": null,
            "grid_auto_rows": null,
            "grid_gap": null,
            "max_width": null,
            "order": null,
            "_view_module_version": "1.2.0",
            "grid_template_areas": null,
            "object_position": null,
            "object_fit": null,
            "grid_auto_columns": null,
            "margin": null,
            "display": null,
            "left": null
          }
        },
        "f3d64323b7e746c3886c2e80d97afdab": {
          "model_module": "@jupyter-widgets/controls",
          "model_name": "LabelModel",
          "state": {
            "_view_name": "LabelView",
            "style": "IPY_MODEL_98d182442655429fb26e3efced6cff71",
            "_dom_classes": [],
            "description": "",
            "_model_name": "LabelModel",
            "placeholder": "​",
            "_view_module": "@jupyter-widgets/controls",
            "_model_module_version": "1.5.0",
            "value": " 79.20MB of 79.20MB uploaded (0.00MB deduped)\r",
            "_view_count": null,
            "_view_module_version": "1.5.0",
            "description_tooltip": null,
            "_model_module": "@jupyter-widgets/controls",
            "layout": "IPY_MODEL_182ae5f61f714ef48318ec9929ddbf9e"
          }
        },
        "24efae0794344886b3e4097653ac2e98": {
          "model_module": "@jupyter-widgets/controls",
          "model_name": "FloatProgressModel",
          "state": {
            "_view_name": "ProgressView",
            "style": "IPY_MODEL_98a886a5a5dc4b87a8a21ae09b5060e0",
            "_dom_classes": [],
            "description": "",
            "_model_name": "FloatProgressModel",
            "bar_style": "",
            "max": 1,
            "_view_module": "@jupyter-widgets/controls",
            "_model_module_version": "1.5.0",
            "value": 1,
            "_view_count": null,
            "_view_module_version": "1.5.0",
            "orientation": "horizontal",
            "min": 0,
            "description_tooltip": null,
            "_model_module": "@jupyter-widgets/controls",
            "layout": "IPY_MODEL_ab4f4d94feee4df9a789bbcc24e4097c"
          }
        },
        "98d182442655429fb26e3efced6cff71": {
          "model_module": "@jupyter-widgets/controls",
          "model_name": "DescriptionStyleModel",
          "state": {
            "_view_name": "StyleView",
            "_model_name": "DescriptionStyleModel",
            "description_width": "",
            "_view_module": "@jupyter-widgets/base",
            "_model_module_version": "1.5.0",
            "_view_count": null,
            "_view_module_version": "1.2.0",
            "_model_module": "@jupyter-widgets/controls"
          }
        },
        "182ae5f61f714ef48318ec9929ddbf9e": {
          "model_module": "@jupyter-widgets/base",
          "model_name": "LayoutModel",
          "state": {
            "_view_name": "LayoutView",
            "grid_template_rows": null,
            "right": null,
            "justify_content": null,
            "_view_module": "@jupyter-widgets/base",
            "overflow": null,
            "_model_module_version": "1.2.0",
            "_view_count": null,
            "flex_flow": null,
            "width": null,
            "min_width": null,
            "border": null,
            "align_items": null,
            "bottom": null,
            "_model_module": "@jupyter-widgets/base",
            "top": null,
            "grid_column": null,
            "overflow_y": null,
            "overflow_x": null,
            "grid_auto_flow": null,
            "grid_area": null,
            "grid_template_columns": null,
            "flex": null,
            "_model_name": "LayoutModel",
            "justify_items": null,
            "grid_row": null,
            "max_height": null,
            "align_content": null,
            "visibility": null,
            "align_self": null,
            "height": null,
            "min_height": null,
            "padding": null,
            "grid_auto_rows": null,
            "grid_gap": null,
            "max_width": null,
            "order": null,
            "_view_module_version": "1.2.0",
            "grid_template_areas": null,
            "object_position": null,
            "object_fit": null,
            "grid_auto_columns": null,
            "margin": null,
            "display": null,
            "left": null
          }
        },
        "98a886a5a5dc4b87a8a21ae09b5060e0": {
          "model_module": "@jupyter-widgets/controls",
          "model_name": "ProgressStyleModel",
          "state": {
            "_view_name": "StyleView",
            "_model_name": "ProgressStyleModel",
            "description_width": "",
            "_view_module": "@jupyter-widgets/base",
            "_model_module_version": "1.5.0",
            "_view_count": null,
            "_view_module_version": "1.2.0",
            "bar_color": null,
            "_model_module": "@jupyter-widgets/controls"
          }
        },
        "ab4f4d94feee4df9a789bbcc24e4097c": {
          "model_module": "@jupyter-widgets/base",
          "model_name": "LayoutModel",
          "state": {
            "_view_name": "LayoutView",
            "grid_template_rows": null,
            "right": null,
            "justify_content": null,
            "_view_module": "@jupyter-widgets/base",
            "overflow": null,
            "_model_module_version": "1.2.0",
            "_view_count": null,
            "flex_flow": null,
            "width": null,
            "min_width": null,
            "border": null,
            "align_items": null,
            "bottom": null,
            "_model_module": "@jupyter-widgets/base",
            "top": null,
            "grid_column": null,
            "overflow_y": null,
            "overflow_x": null,
            "grid_auto_flow": null,
            "grid_area": null,
            "grid_template_columns": null,
            "flex": null,
            "_model_name": "LayoutModel",
            "justify_items": null,
            "grid_row": null,
            "max_height": null,
            "align_content": null,
            "visibility": null,
            "align_self": null,
            "height": null,
            "min_height": null,
            "padding": null,
            "grid_auto_rows": null,
            "grid_gap": null,
            "max_width": null,
            "order": null,
            "_view_module_version": "1.2.0",
            "grid_template_areas": null,
            "object_position": null,
            "object_fit": null,
            "grid_auto_columns": null,
            "margin": null,
            "display": null,
            "left": null
          }
        },
        "06e902a90a3e4191bd178b82596325d9": {
          "model_module": "@jupyter-widgets/controls",
          "model_name": "VBoxModel",
          "state": {
            "_view_name": "VBoxView",
            "_dom_classes": [],
            "_model_name": "VBoxModel",
            "_view_module": "@jupyter-widgets/controls",
            "_model_module_version": "1.5.0",
            "_view_count": null,
            "_view_module_version": "1.5.0",
            "box_style": "",
            "layout": "IPY_MODEL_40e239a7ba574c3b9288e40c89f59f8e",
            "_model_module": "@jupyter-widgets/controls",
            "children": [
              "IPY_MODEL_a9b80634c963440899e36b1710e90afc",
              "IPY_MODEL_011fab0037364b99b81dea49c31e41da"
            ]
          }
        },
        "40e239a7ba574c3b9288e40c89f59f8e": {
          "model_module": "@jupyter-widgets/base",
          "model_name": "LayoutModel",
          "state": {
            "_view_name": "LayoutView",
            "grid_template_rows": null,
            "right": null,
            "justify_content": null,
            "_view_module": "@jupyter-widgets/base",
            "overflow": null,
            "_model_module_version": "1.2.0",
            "_view_count": null,
            "flex_flow": null,
            "width": null,
            "min_width": null,
            "border": null,
            "align_items": null,
            "bottom": null,
            "_model_module": "@jupyter-widgets/base",
            "top": null,
            "grid_column": null,
            "overflow_y": null,
            "overflow_x": null,
            "grid_auto_flow": null,
            "grid_area": null,
            "grid_template_columns": null,
            "flex": null,
            "_model_name": "LayoutModel",
            "justify_items": null,
            "grid_row": null,
            "max_height": null,
            "align_content": null,
            "visibility": null,
            "align_self": null,
            "height": null,
            "min_height": null,
            "padding": null,
            "grid_auto_rows": null,
            "grid_gap": null,
            "max_width": null,
            "order": null,
            "_view_module_version": "1.2.0",
            "grid_template_areas": null,
            "object_position": null,
            "object_fit": null,
            "grid_auto_columns": null,
            "margin": null,
            "display": null,
            "left": null
          }
        },
        "a9b80634c963440899e36b1710e90afc": {
          "model_module": "@jupyter-widgets/controls",
          "model_name": "LabelModel",
          "state": {
            "_view_name": "LabelView",
            "style": "IPY_MODEL_e4b58a6d4eda4eab9cd8f3a1df5f1db2",
            "_dom_classes": [],
            "description": "",
            "_model_name": "LabelModel",
            "placeholder": "​",
            "_view_module": "@jupyter-widgets/controls",
            "_model_module_version": "1.5.0",
            "value": " 68.74MB of 68.74MB uploaded (0.00MB deduped)\r",
            "_view_count": null,
            "_view_module_version": "1.5.0",
            "description_tooltip": null,
            "_model_module": "@jupyter-widgets/controls",
            "layout": "IPY_MODEL_0cebd472c2b14bfebe64f8c276d19e28"
          }
        },
        "011fab0037364b99b81dea49c31e41da": {
          "model_module": "@jupyter-widgets/controls",
          "model_name": "FloatProgressModel",
          "state": {
            "_view_name": "ProgressView",
            "style": "IPY_MODEL_841be7b33d7f4d309757d221efd0adf7",
            "_dom_classes": [],
            "description": "",
            "_model_name": "FloatProgressModel",
            "bar_style": "",
            "max": 1,
            "_view_module": "@jupyter-widgets/controls",
            "_model_module_version": "1.5.0",
            "value": 1,
            "_view_count": null,
            "_view_module_version": "1.5.0",
            "orientation": "horizontal",
            "min": 0,
            "description_tooltip": null,
            "_model_module": "@jupyter-widgets/controls",
            "layout": "IPY_MODEL_a61c86c807d4490db0a678c74e75ea51"
          }
        },
        "e4b58a6d4eda4eab9cd8f3a1df5f1db2": {
          "model_module": "@jupyter-widgets/controls",
          "model_name": "DescriptionStyleModel",
          "state": {
            "_view_name": "StyleView",
            "_model_name": "DescriptionStyleModel",
            "description_width": "",
            "_view_module": "@jupyter-widgets/base",
            "_model_module_version": "1.5.0",
            "_view_count": null,
            "_view_module_version": "1.2.0",
            "_model_module": "@jupyter-widgets/controls"
          }
        },
        "0cebd472c2b14bfebe64f8c276d19e28": {
          "model_module": "@jupyter-widgets/base",
          "model_name": "LayoutModel",
          "state": {
            "_view_name": "LayoutView",
            "grid_template_rows": null,
            "right": null,
            "justify_content": null,
            "_view_module": "@jupyter-widgets/base",
            "overflow": null,
            "_model_module_version": "1.2.0",
            "_view_count": null,
            "flex_flow": null,
            "width": null,
            "min_width": null,
            "border": null,
            "align_items": null,
            "bottom": null,
            "_model_module": "@jupyter-widgets/base",
            "top": null,
            "grid_column": null,
            "overflow_y": null,
            "overflow_x": null,
            "grid_auto_flow": null,
            "grid_area": null,
            "grid_template_columns": null,
            "flex": null,
            "_model_name": "LayoutModel",
            "justify_items": null,
            "grid_row": null,
            "max_height": null,
            "align_content": null,
            "visibility": null,
            "align_self": null,
            "height": null,
            "min_height": null,
            "padding": null,
            "grid_auto_rows": null,
            "grid_gap": null,
            "max_width": null,
            "order": null,
            "_view_module_version": "1.2.0",
            "grid_template_areas": null,
            "object_position": null,
            "object_fit": null,
            "grid_auto_columns": null,
            "margin": null,
            "display": null,
            "left": null
          }
        },
        "841be7b33d7f4d309757d221efd0adf7": {
          "model_module": "@jupyter-widgets/controls",
          "model_name": "ProgressStyleModel",
          "state": {
            "_view_name": "StyleView",
            "_model_name": "ProgressStyleModel",
            "description_width": "",
            "_view_module": "@jupyter-widgets/base",
            "_model_module_version": "1.5.0",
            "_view_count": null,
            "_view_module_version": "1.2.0",
            "bar_color": null,
            "_model_module": "@jupyter-widgets/controls"
          }
        },
        "a61c86c807d4490db0a678c74e75ea51": {
          "model_module": "@jupyter-widgets/base",
          "model_name": "LayoutModel",
          "state": {
            "_view_name": "LayoutView",
            "grid_template_rows": null,
            "right": null,
            "justify_content": null,
            "_view_module": "@jupyter-widgets/base",
            "overflow": null,
            "_model_module_version": "1.2.0",
            "_view_count": null,
            "flex_flow": null,
            "width": null,
            "min_width": null,
            "border": null,
            "align_items": null,
            "bottom": null,
            "_model_module": "@jupyter-widgets/base",
            "top": null,
            "grid_column": null,
            "overflow_y": null,
            "overflow_x": null,
            "grid_auto_flow": null,
            "grid_area": null,
            "grid_template_columns": null,
            "flex": null,
            "_model_name": "LayoutModel",
            "justify_items": null,
            "grid_row": null,
            "max_height": null,
            "align_content": null,
            "visibility": null,
            "align_self": null,
            "height": null,
            "min_height": null,
            "padding": null,
            "grid_auto_rows": null,
            "grid_gap": null,
            "max_width": null,
            "order": null,
            "_view_module_version": "1.2.0",
            "grid_template_areas": null,
            "object_position": null,
            "object_fit": null,
            "grid_auto_columns": null,
            "margin": null,
            "display": null,
            "left": null
          }
        },
        "bd2715b580e447e9a6bfc7c35927553f": {
          "model_module": "@jupyter-widgets/controls",
          "model_name": "VBoxModel",
          "state": {
            "_view_name": "VBoxView",
            "_dom_classes": [],
            "_model_name": "VBoxModel",
            "_view_module": "@jupyter-widgets/controls",
            "_model_module_version": "1.5.0",
            "_view_count": null,
            "_view_module_version": "1.5.0",
            "box_style": "",
            "layout": "IPY_MODEL_edcd7b8f088e43eab8e417be15f86660",
            "_model_module": "@jupyter-widgets/controls",
            "children": [
              "IPY_MODEL_3330d55b2ff84a48b91f74be662cef05",
              "IPY_MODEL_8e5dc124c29a44cf953c7980d07d2b01"
            ]
          }
        },
        "edcd7b8f088e43eab8e417be15f86660": {
          "model_module": "@jupyter-widgets/base",
          "model_name": "LayoutModel",
          "state": {
            "_view_name": "LayoutView",
            "grid_template_rows": null,
            "right": null,
            "justify_content": null,
            "_view_module": "@jupyter-widgets/base",
            "overflow": null,
            "_model_module_version": "1.2.0",
            "_view_count": null,
            "flex_flow": null,
            "width": null,
            "min_width": null,
            "border": null,
            "align_items": null,
            "bottom": null,
            "_model_module": "@jupyter-widgets/base",
            "top": null,
            "grid_column": null,
            "overflow_y": null,
            "overflow_x": null,
            "grid_auto_flow": null,
            "grid_area": null,
            "grid_template_columns": null,
            "flex": null,
            "_model_name": "LayoutModel",
            "justify_items": null,
            "grid_row": null,
            "max_height": null,
            "align_content": null,
            "visibility": null,
            "align_self": null,
            "height": null,
            "min_height": null,
            "padding": null,
            "grid_auto_rows": null,
            "grid_gap": null,
            "max_width": null,
            "order": null,
            "_view_module_version": "1.2.0",
            "grid_template_areas": null,
            "object_position": null,
            "object_fit": null,
            "grid_auto_columns": null,
            "margin": null,
            "display": null,
            "left": null
          }
        },
        "3330d55b2ff84a48b91f74be662cef05": {
          "model_module": "@jupyter-widgets/controls",
          "model_name": "LabelModel",
          "state": {
            "_view_name": "LabelView",
            "style": "IPY_MODEL_07edb053c9da4894bc112cad9ec4b445",
            "_dom_classes": [],
            "description": "",
            "_model_name": "LabelModel",
            "placeholder": "​",
            "_view_module": "@jupyter-widgets/controls",
            "_model_module_version": "1.5.0",
            "value": " 68.20MB of 68.20MB uploaded (0.00MB deduped)\r",
            "_view_count": null,
            "_view_module_version": "1.5.0",
            "description_tooltip": null,
            "_model_module": "@jupyter-widgets/controls",
            "layout": "IPY_MODEL_506b444badc64a74832f12c3cf091648"
          }
        },
        "8e5dc124c29a44cf953c7980d07d2b01": {
          "model_module": "@jupyter-widgets/controls",
          "model_name": "FloatProgressModel",
          "state": {
            "_view_name": "ProgressView",
            "style": "IPY_MODEL_ede1e357ffc24e6b86907e24eb38151e",
            "_dom_classes": [],
            "description": "",
            "_model_name": "FloatProgressModel",
            "bar_style": "",
            "max": 1,
            "_view_module": "@jupyter-widgets/controls",
            "_model_module_version": "1.5.0",
            "value": 1,
            "_view_count": null,
            "_view_module_version": "1.5.0",
            "orientation": "horizontal",
            "min": 0,
            "description_tooltip": null,
            "_model_module": "@jupyter-widgets/controls",
            "layout": "IPY_MODEL_83629a65f95a46f3a4af34a25c25e605"
          }
        },
        "07edb053c9da4894bc112cad9ec4b445": {
          "model_module": "@jupyter-widgets/controls",
          "model_name": "DescriptionStyleModel",
          "state": {
            "_view_name": "StyleView",
            "_model_name": "DescriptionStyleModel",
            "description_width": "",
            "_view_module": "@jupyter-widgets/base",
            "_model_module_version": "1.5.0",
            "_view_count": null,
            "_view_module_version": "1.2.0",
            "_model_module": "@jupyter-widgets/controls"
          }
        },
        "506b444badc64a74832f12c3cf091648": {
          "model_module": "@jupyter-widgets/base",
          "model_name": "LayoutModel",
          "state": {
            "_view_name": "LayoutView",
            "grid_template_rows": null,
            "right": null,
            "justify_content": null,
            "_view_module": "@jupyter-widgets/base",
            "overflow": null,
            "_model_module_version": "1.2.0",
            "_view_count": null,
            "flex_flow": null,
            "width": null,
            "min_width": null,
            "border": null,
            "align_items": null,
            "bottom": null,
            "_model_module": "@jupyter-widgets/base",
            "top": null,
            "grid_column": null,
            "overflow_y": null,
            "overflow_x": null,
            "grid_auto_flow": null,
            "grid_area": null,
            "grid_template_columns": null,
            "flex": null,
            "_model_name": "LayoutModel",
            "justify_items": null,
            "grid_row": null,
            "max_height": null,
            "align_content": null,
            "visibility": null,
            "align_self": null,
            "height": null,
            "min_height": null,
            "padding": null,
            "grid_auto_rows": null,
            "grid_gap": null,
            "max_width": null,
            "order": null,
            "_view_module_version": "1.2.0",
            "grid_template_areas": null,
            "object_position": null,
            "object_fit": null,
            "grid_auto_columns": null,
            "margin": null,
            "display": null,
            "left": null
          }
        },
        "ede1e357ffc24e6b86907e24eb38151e": {
          "model_module": "@jupyter-widgets/controls",
          "model_name": "ProgressStyleModel",
          "state": {
            "_view_name": "StyleView",
            "_model_name": "ProgressStyleModel",
            "description_width": "",
            "_view_module": "@jupyter-widgets/base",
            "_model_module_version": "1.5.0",
            "_view_count": null,
            "_view_module_version": "1.2.0",
            "bar_color": null,
            "_model_module": "@jupyter-widgets/controls"
          }
        },
        "83629a65f95a46f3a4af34a25c25e605": {
          "model_module": "@jupyter-widgets/base",
          "model_name": "LayoutModel",
          "state": {
            "_view_name": "LayoutView",
            "grid_template_rows": null,
            "right": null,
            "justify_content": null,
            "_view_module": "@jupyter-widgets/base",
            "overflow": null,
            "_model_module_version": "1.2.0",
            "_view_count": null,
            "flex_flow": null,
            "width": null,
            "min_width": null,
            "border": null,
            "align_items": null,
            "bottom": null,
            "_model_module": "@jupyter-widgets/base",
            "top": null,
            "grid_column": null,
            "overflow_y": null,
            "overflow_x": null,
            "grid_auto_flow": null,
            "grid_area": null,
            "grid_template_columns": null,
            "flex": null,
            "_model_name": "LayoutModel",
            "justify_items": null,
            "grid_row": null,
            "max_height": null,
            "align_content": null,
            "visibility": null,
            "align_self": null,
            "height": null,
            "min_height": null,
            "padding": null,
            "grid_auto_rows": null,
            "grid_gap": null,
            "max_width": null,
            "order": null,
            "_view_module_version": "1.2.0",
            "grid_template_areas": null,
            "object_position": null,
            "object_fit": null,
            "grid_auto_columns": null,
            "margin": null,
            "display": null,
            "left": null
          }
        },
        "2ea17bc76bc84cd8b7e5eebeb2b42763": {
          "model_module": "@jupyter-widgets/controls",
          "model_name": "VBoxModel",
          "state": {
            "_view_name": "VBoxView",
            "_dom_classes": [],
            "_model_name": "VBoxModel",
            "_view_module": "@jupyter-widgets/controls",
            "_model_module_version": "1.5.0",
            "_view_count": null,
            "_view_module_version": "1.5.0",
            "box_style": "",
            "layout": "IPY_MODEL_4c1fe44be2f4403eb8dbea42229ced06",
            "_model_module": "@jupyter-widgets/controls",
            "children": [
              "IPY_MODEL_83899f9100c5419395882c16804c0627",
              "IPY_MODEL_de74e0d4e2484dd0b6b5a1d2b81a7971"
            ]
          }
        },
        "4c1fe44be2f4403eb8dbea42229ced06": {
          "model_module": "@jupyter-widgets/base",
          "model_name": "LayoutModel",
          "state": {
            "_view_name": "LayoutView",
            "grid_template_rows": null,
            "right": null,
            "justify_content": null,
            "_view_module": "@jupyter-widgets/base",
            "overflow": null,
            "_model_module_version": "1.2.0",
            "_view_count": null,
            "flex_flow": null,
            "width": null,
            "min_width": null,
            "border": null,
            "align_items": null,
            "bottom": null,
            "_model_module": "@jupyter-widgets/base",
            "top": null,
            "grid_column": null,
            "overflow_y": null,
            "overflow_x": null,
            "grid_auto_flow": null,
            "grid_area": null,
            "grid_template_columns": null,
            "flex": null,
            "_model_name": "LayoutModel",
            "justify_items": null,
            "grid_row": null,
            "max_height": null,
            "align_content": null,
            "visibility": null,
            "align_self": null,
            "height": null,
            "min_height": null,
            "padding": null,
            "grid_auto_rows": null,
            "grid_gap": null,
            "max_width": null,
            "order": null,
            "_view_module_version": "1.2.0",
            "grid_template_areas": null,
            "object_position": null,
            "object_fit": null,
            "grid_auto_columns": null,
            "margin": null,
            "display": null,
            "left": null
          }
        },
        "83899f9100c5419395882c16804c0627": {
          "model_module": "@jupyter-widgets/controls",
          "model_name": "LabelModel",
          "state": {
            "_view_name": "LabelView",
            "style": "IPY_MODEL_d5524a0a26324a88af0920fd4ea8f06d",
            "_dom_classes": [],
            "description": "",
            "_model_name": "LabelModel",
            "placeholder": "​",
            "_view_module": "@jupyter-widgets/controls",
            "_model_module_version": "1.5.0",
            "value": " 67.88MB of 67.88MB uploaded (0.00MB deduped)\r",
            "_view_count": null,
            "_view_module_version": "1.5.0",
            "description_tooltip": null,
            "_model_module": "@jupyter-widgets/controls",
            "layout": "IPY_MODEL_25493ecfa23c4d818cae442ef7981cd1"
          }
        },
        "de74e0d4e2484dd0b6b5a1d2b81a7971": {
          "model_module": "@jupyter-widgets/controls",
          "model_name": "FloatProgressModel",
          "state": {
            "_view_name": "ProgressView",
            "style": "IPY_MODEL_78536109e873447296d54ce39b2cfcb7",
            "_dom_classes": [],
            "description": "",
            "_model_name": "FloatProgressModel",
            "bar_style": "",
            "max": 1,
            "_view_module": "@jupyter-widgets/controls",
            "_model_module_version": "1.5.0",
            "value": 1,
            "_view_count": null,
            "_view_module_version": "1.5.0",
            "orientation": "horizontal",
            "min": 0,
            "description_tooltip": null,
            "_model_module": "@jupyter-widgets/controls",
            "layout": "IPY_MODEL_320e9b2b28a24b0286483f24861a940b"
          }
        },
        "d5524a0a26324a88af0920fd4ea8f06d": {
          "model_module": "@jupyter-widgets/controls",
          "model_name": "DescriptionStyleModel",
          "state": {
            "_view_name": "StyleView",
            "_model_name": "DescriptionStyleModel",
            "description_width": "",
            "_view_module": "@jupyter-widgets/base",
            "_model_module_version": "1.5.0",
            "_view_count": null,
            "_view_module_version": "1.2.0",
            "_model_module": "@jupyter-widgets/controls"
          }
        },
        "25493ecfa23c4d818cae442ef7981cd1": {
          "model_module": "@jupyter-widgets/base",
          "model_name": "LayoutModel",
          "state": {
            "_view_name": "LayoutView",
            "grid_template_rows": null,
            "right": null,
            "justify_content": null,
            "_view_module": "@jupyter-widgets/base",
            "overflow": null,
            "_model_module_version": "1.2.0",
            "_view_count": null,
            "flex_flow": null,
            "width": null,
            "min_width": null,
            "border": null,
            "align_items": null,
            "bottom": null,
            "_model_module": "@jupyter-widgets/base",
            "top": null,
            "grid_column": null,
            "overflow_y": null,
            "overflow_x": null,
            "grid_auto_flow": null,
            "grid_area": null,
            "grid_template_columns": null,
            "flex": null,
            "_model_name": "LayoutModel",
            "justify_items": null,
            "grid_row": null,
            "max_height": null,
            "align_content": null,
            "visibility": null,
            "align_self": null,
            "height": null,
            "min_height": null,
            "padding": null,
            "grid_auto_rows": null,
            "grid_gap": null,
            "max_width": null,
            "order": null,
            "_view_module_version": "1.2.0",
            "grid_template_areas": null,
            "object_position": null,
            "object_fit": null,
            "grid_auto_columns": null,
            "margin": null,
            "display": null,
            "left": null
          }
        },
        "78536109e873447296d54ce39b2cfcb7": {
          "model_module": "@jupyter-widgets/controls",
          "model_name": "ProgressStyleModel",
          "state": {
            "_view_name": "StyleView",
            "_model_name": "ProgressStyleModel",
            "description_width": "",
            "_view_module": "@jupyter-widgets/base",
            "_model_module_version": "1.5.0",
            "_view_count": null,
            "_view_module_version": "1.2.0",
            "bar_color": null,
            "_model_module": "@jupyter-widgets/controls"
          }
        },
        "320e9b2b28a24b0286483f24861a940b": {
          "model_module": "@jupyter-widgets/base",
          "model_name": "LayoutModel",
          "state": {
            "_view_name": "LayoutView",
            "grid_template_rows": null,
            "right": null,
            "justify_content": null,
            "_view_module": "@jupyter-widgets/base",
            "overflow": null,
            "_model_module_version": "1.2.0",
            "_view_count": null,
            "flex_flow": null,
            "width": null,
            "min_width": null,
            "border": null,
            "align_items": null,
            "bottom": null,
            "_model_module": "@jupyter-widgets/base",
            "top": null,
            "grid_column": null,
            "overflow_y": null,
            "overflow_x": null,
            "grid_auto_flow": null,
            "grid_area": null,
            "grid_template_columns": null,
            "flex": null,
            "_model_name": "LayoutModel",
            "justify_items": null,
            "grid_row": null,
            "max_height": null,
            "align_content": null,
            "visibility": null,
            "align_self": null,
            "height": null,
            "min_height": null,
            "padding": null,
            "grid_auto_rows": null,
            "grid_gap": null,
            "max_width": null,
            "order": null,
            "_view_module_version": "1.2.0",
            "grid_template_areas": null,
            "object_position": null,
            "object_fit": null,
            "grid_auto_columns": null,
            "margin": null,
            "display": null,
            "left": null
          }
        },
        "56e34833e887408bb72ae8dd9889d917": {
          "model_module": "@jupyter-widgets/controls",
          "model_name": "VBoxModel",
          "state": {
            "_view_name": "VBoxView",
            "_dom_classes": [],
            "_model_name": "VBoxModel",
            "_view_module": "@jupyter-widgets/controls",
            "_model_module_version": "1.5.0",
            "_view_count": null,
            "_view_module_version": "1.5.0",
            "box_style": "",
            "layout": "IPY_MODEL_2a187ec5e896403fbb0fab4a2f65c1b1",
            "_model_module": "@jupyter-widgets/controls",
            "children": [
              "IPY_MODEL_9b07ad770e834330b7595c096e40b922",
              "IPY_MODEL_9d3e70f08250446e8c2cb0e0f540dbd6"
            ]
          }
        },
        "2a187ec5e896403fbb0fab4a2f65c1b1": {
          "model_module": "@jupyter-widgets/base",
          "model_name": "LayoutModel",
          "state": {
            "_view_name": "LayoutView",
            "grid_template_rows": null,
            "right": null,
            "justify_content": null,
            "_view_module": "@jupyter-widgets/base",
            "overflow": null,
            "_model_module_version": "1.2.0",
            "_view_count": null,
            "flex_flow": null,
            "width": null,
            "min_width": null,
            "border": null,
            "align_items": null,
            "bottom": null,
            "_model_module": "@jupyter-widgets/base",
            "top": null,
            "grid_column": null,
            "overflow_y": null,
            "overflow_x": null,
            "grid_auto_flow": null,
            "grid_area": null,
            "grid_template_columns": null,
            "flex": null,
            "_model_name": "LayoutModel",
            "justify_items": null,
            "grid_row": null,
            "max_height": null,
            "align_content": null,
            "visibility": null,
            "align_self": null,
            "height": null,
            "min_height": null,
            "padding": null,
            "grid_auto_rows": null,
            "grid_gap": null,
            "max_width": null,
            "order": null,
            "_view_module_version": "1.2.0",
            "grid_template_areas": null,
            "object_position": null,
            "object_fit": null,
            "grid_auto_columns": null,
            "margin": null,
            "display": null,
            "left": null
          }
        },
        "9b07ad770e834330b7595c096e40b922": {
          "model_module": "@jupyter-widgets/controls",
          "model_name": "LabelModel",
          "state": {
            "_view_name": "LabelView",
            "style": "IPY_MODEL_7344f660f7c84931a9eca4d105ee4874",
            "_dom_classes": [],
            "description": "",
            "_model_name": "LabelModel",
            "placeholder": "​",
            "_view_module": "@jupyter-widgets/controls",
            "_model_module_version": "1.5.0",
            "value": " 80.85MB of 80.85MB uploaded (0.00MB deduped)\r",
            "_view_count": null,
            "_view_module_version": "1.5.0",
            "description_tooltip": null,
            "_model_module": "@jupyter-widgets/controls",
            "layout": "IPY_MODEL_f1bd5f5d845a45de8f449affcff1f10b"
          }
        },
        "9d3e70f08250446e8c2cb0e0f540dbd6": {
          "model_module": "@jupyter-widgets/controls",
          "model_name": "FloatProgressModel",
          "state": {
            "_view_name": "ProgressView",
            "style": "IPY_MODEL_e8d15b2153c84d9fb28bc58d70bcdac0",
            "_dom_classes": [],
            "description": "",
            "_model_name": "FloatProgressModel",
            "bar_style": "",
            "max": 1,
            "_view_module": "@jupyter-widgets/controls",
            "_model_module_version": "1.5.0",
            "value": 1,
            "_view_count": null,
            "_view_module_version": "1.5.0",
            "orientation": "horizontal",
            "min": 0,
            "description_tooltip": null,
            "_model_module": "@jupyter-widgets/controls",
            "layout": "IPY_MODEL_0ff8335f320f4ed89802d3ac610006b6"
          }
        },
        "7344f660f7c84931a9eca4d105ee4874": {
          "model_module": "@jupyter-widgets/controls",
          "model_name": "DescriptionStyleModel",
          "state": {
            "_view_name": "StyleView",
            "_model_name": "DescriptionStyleModel",
            "description_width": "",
            "_view_module": "@jupyter-widgets/base",
            "_model_module_version": "1.5.0",
            "_view_count": null,
            "_view_module_version": "1.2.0",
            "_model_module": "@jupyter-widgets/controls"
          }
        },
        "f1bd5f5d845a45de8f449affcff1f10b": {
          "model_module": "@jupyter-widgets/base",
          "model_name": "LayoutModel",
          "state": {
            "_view_name": "LayoutView",
            "grid_template_rows": null,
            "right": null,
            "justify_content": null,
            "_view_module": "@jupyter-widgets/base",
            "overflow": null,
            "_model_module_version": "1.2.0",
            "_view_count": null,
            "flex_flow": null,
            "width": null,
            "min_width": null,
            "border": null,
            "align_items": null,
            "bottom": null,
            "_model_module": "@jupyter-widgets/base",
            "top": null,
            "grid_column": null,
            "overflow_y": null,
            "overflow_x": null,
            "grid_auto_flow": null,
            "grid_area": null,
            "grid_template_columns": null,
            "flex": null,
            "_model_name": "LayoutModel",
            "justify_items": null,
            "grid_row": null,
            "max_height": null,
            "align_content": null,
            "visibility": null,
            "align_self": null,
            "height": null,
            "min_height": null,
            "padding": null,
            "grid_auto_rows": null,
            "grid_gap": null,
            "max_width": null,
            "order": null,
            "_view_module_version": "1.2.0",
            "grid_template_areas": null,
            "object_position": null,
            "object_fit": null,
            "grid_auto_columns": null,
            "margin": null,
            "display": null,
            "left": null
          }
        },
        "e8d15b2153c84d9fb28bc58d70bcdac0": {
          "model_module": "@jupyter-widgets/controls",
          "model_name": "ProgressStyleModel",
          "state": {
            "_view_name": "StyleView",
            "_model_name": "ProgressStyleModel",
            "description_width": "",
            "_view_module": "@jupyter-widgets/base",
            "_model_module_version": "1.5.0",
            "_view_count": null,
            "_view_module_version": "1.2.0",
            "bar_color": null,
            "_model_module": "@jupyter-widgets/controls"
          }
        },
        "0ff8335f320f4ed89802d3ac610006b6": {
          "model_module": "@jupyter-widgets/base",
          "model_name": "LayoutModel",
          "state": {
            "_view_name": "LayoutView",
            "grid_template_rows": null,
            "right": null,
            "justify_content": null,
            "_view_module": "@jupyter-widgets/base",
            "overflow": null,
            "_model_module_version": "1.2.0",
            "_view_count": null,
            "flex_flow": null,
            "width": null,
            "min_width": null,
            "border": null,
            "align_items": null,
            "bottom": null,
            "_model_module": "@jupyter-widgets/base",
            "top": null,
            "grid_column": null,
            "overflow_y": null,
            "overflow_x": null,
            "grid_auto_flow": null,
            "grid_area": null,
            "grid_template_columns": null,
            "flex": null,
            "_model_name": "LayoutModel",
            "justify_items": null,
            "grid_row": null,
            "max_height": null,
            "align_content": null,
            "visibility": null,
            "align_self": null,
            "height": null,
            "min_height": null,
            "padding": null,
            "grid_auto_rows": null,
            "grid_gap": null,
            "max_width": null,
            "order": null,
            "_view_module_version": "1.2.0",
            "grid_template_areas": null,
            "object_position": null,
            "object_fit": null,
            "grid_auto_columns": null,
            "margin": null,
            "display": null,
            "left": null
          }
        },
        "ec9eb86c1e1c4b5d9d197a79250fe19d": {
          "model_module": "@jupyter-widgets/controls",
          "model_name": "VBoxModel",
          "state": {
            "_view_name": "VBoxView",
            "_dom_classes": [],
            "_model_name": "VBoxModel",
            "_view_module": "@jupyter-widgets/controls",
            "_model_module_version": "1.5.0",
            "_view_count": null,
            "_view_module_version": "1.5.0",
            "box_style": "",
            "layout": "IPY_MODEL_c57b8e80e3b84222a9a5dee7ec71414a",
            "_model_module": "@jupyter-widgets/controls",
            "children": [
              "IPY_MODEL_113c2f63eb414556acbc87b21210b0fa",
              "IPY_MODEL_ea551ba724b6416db825da0c1da4fec7"
            ]
          }
        },
        "c57b8e80e3b84222a9a5dee7ec71414a": {
          "model_module": "@jupyter-widgets/base",
          "model_name": "LayoutModel",
          "state": {
            "_view_name": "LayoutView",
            "grid_template_rows": null,
            "right": null,
            "justify_content": null,
            "_view_module": "@jupyter-widgets/base",
            "overflow": null,
            "_model_module_version": "1.2.0",
            "_view_count": null,
            "flex_flow": null,
            "width": null,
            "min_width": null,
            "border": null,
            "align_items": null,
            "bottom": null,
            "_model_module": "@jupyter-widgets/base",
            "top": null,
            "grid_column": null,
            "overflow_y": null,
            "overflow_x": null,
            "grid_auto_flow": null,
            "grid_area": null,
            "grid_template_columns": null,
            "flex": null,
            "_model_name": "LayoutModel",
            "justify_items": null,
            "grid_row": null,
            "max_height": null,
            "align_content": null,
            "visibility": null,
            "align_self": null,
            "height": null,
            "min_height": null,
            "padding": null,
            "grid_auto_rows": null,
            "grid_gap": null,
            "max_width": null,
            "order": null,
            "_view_module_version": "1.2.0",
            "grid_template_areas": null,
            "object_position": null,
            "object_fit": null,
            "grid_auto_columns": null,
            "margin": null,
            "display": null,
            "left": null
          }
        },
        "113c2f63eb414556acbc87b21210b0fa": {
          "model_module": "@jupyter-widgets/controls",
          "model_name": "LabelModel",
          "state": {
            "_view_name": "LabelView",
            "style": "IPY_MODEL_a13234131ee24deda3bf849f67b6faed",
            "_dom_classes": [],
            "description": "",
            "_model_name": "LabelModel",
            "placeholder": "​",
            "_view_module": "@jupyter-widgets/controls",
            "_model_module_version": "1.5.0",
            "value": " 66.85MB of 66.85MB uploaded (0.00MB deduped)\r",
            "_view_count": null,
            "_view_module_version": "1.5.0",
            "description_tooltip": null,
            "_model_module": "@jupyter-widgets/controls",
            "layout": "IPY_MODEL_e3e69b89e3c047daa4bf3ee9fcdab90e"
          }
        },
        "ea551ba724b6416db825da0c1da4fec7": {
          "model_module": "@jupyter-widgets/controls",
          "model_name": "FloatProgressModel",
          "state": {
            "_view_name": "ProgressView",
            "style": "IPY_MODEL_b87bcdc814e8435288bb55742349919d",
            "_dom_classes": [],
            "description": "",
            "_model_name": "FloatProgressModel",
            "bar_style": "",
            "max": 1,
            "_view_module": "@jupyter-widgets/controls",
            "_model_module_version": "1.5.0",
            "value": 1,
            "_view_count": null,
            "_view_module_version": "1.5.0",
            "orientation": "horizontal",
            "min": 0,
            "description_tooltip": null,
            "_model_module": "@jupyter-widgets/controls",
            "layout": "IPY_MODEL_e423acaa13a64f539404191259207581"
          }
        },
        "a13234131ee24deda3bf849f67b6faed": {
          "model_module": "@jupyter-widgets/controls",
          "model_name": "DescriptionStyleModel",
          "state": {
            "_view_name": "StyleView",
            "_model_name": "DescriptionStyleModel",
            "description_width": "",
            "_view_module": "@jupyter-widgets/base",
            "_model_module_version": "1.5.0",
            "_view_count": null,
            "_view_module_version": "1.2.0",
            "_model_module": "@jupyter-widgets/controls"
          }
        },
        "e3e69b89e3c047daa4bf3ee9fcdab90e": {
          "model_module": "@jupyter-widgets/base",
          "model_name": "LayoutModel",
          "state": {
            "_view_name": "LayoutView",
            "grid_template_rows": null,
            "right": null,
            "justify_content": null,
            "_view_module": "@jupyter-widgets/base",
            "overflow": null,
            "_model_module_version": "1.2.0",
            "_view_count": null,
            "flex_flow": null,
            "width": null,
            "min_width": null,
            "border": null,
            "align_items": null,
            "bottom": null,
            "_model_module": "@jupyter-widgets/base",
            "top": null,
            "grid_column": null,
            "overflow_y": null,
            "overflow_x": null,
            "grid_auto_flow": null,
            "grid_area": null,
            "grid_template_columns": null,
            "flex": null,
            "_model_name": "LayoutModel",
            "justify_items": null,
            "grid_row": null,
            "max_height": null,
            "align_content": null,
            "visibility": null,
            "align_self": null,
            "height": null,
            "min_height": null,
            "padding": null,
            "grid_auto_rows": null,
            "grid_gap": null,
            "max_width": null,
            "order": null,
            "_view_module_version": "1.2.0",
            "grid_template_areas": null,
            "object_position": null,
            "object_fit": null,
            "grid_auto_columns": null,
            "margin": null,
            "display": null,
            "left": null
          }
        },
        "b87bcdc814e8435288bb55742349919d": {
          "model_module": "@jupyter-widgets/controls",
          "model_name": "ProgressStyleModel",
          "state": {
            "_view_name": "StyleView",
            "_model_name": "ProgressStyleModel",
            "description_width": "",
            "_view_module": "@jupyter-widgets/base",
            "_model_module_version": "1.5.0",
            "_view_count": null,
            "_view_module_version": "1.2.0",
            "bar_color": null,
            "_model_module": "@jupyter-widgets/controls"
          }
        },
        "e423acaa13a64f539404191259207581": {
          "model_module": "@jupyter-widgets/base",
          "model_name": "LayoutModel",
          "state": {
            "_view_name": "LayoutView",
            "grid_template_rows": null,
            "right": null,
            "justify_content": null,
            "_view_module": "@jupyter-widgets/base",
            "overflow": null,
            "_model_module_version": "1.2.0",
            "_view_count": null,
            "flex_flow": null,
            "width": null,
            "min_width": null,
            "border": null,
            "align_items": null,
            "bottom": null,
            "_model_module": "@jupyter-widgets/base",
            "top": null,
            "grid_column": null,
            "overflow_y": null,
            "overflow_x": null,
            "grid_auto_flow": null,
            "grid_area": null,
            "grid_template_columns": null,
            "flex": null,
            "_model_name": "LayoutModel",
            "justify_items": null,
            "grid_row": null,
            "max_height": null,
            "align_content": null,
            "visibility": null,
            "align_self": null,
            "height": null,
            "min_height": null,
            "padding": null,
            "grid_auto_rows": null,
            "grid_gap": null,
            "max_width": null,
            "order": null,
            "_view_module_version": "1.2.0",
            "grid_template_areas": null,
            "object_position": null,
            "object_fit": null,
            "grid_auto_columns": null,
            "margin": null,
            "display": null,
            "left": null
          }
        },
        "96159c59ffae408089a58bf5502f3db2": {
          "model_module": "@jupyter-widgets/controls",
          "model_name": "VBoxModel",
          "state": {
            "_view_name": "VBoxView",
            "_dom_classes": [],
            "_model_name": "VBoxModel",
            "_view_module": "@jupyter-widgets/controls",
            "_model_module_version": "1.5.0",
            "_view_count": null,
            "_view_module_version": "1.5.0",
            "box_style": "",
            "layout": "IPY_MODEL_aa14e6ae62a749aaab201b6abb8ba6c4",
            "_model_module": "@jupyter-widgets/controls",
            "children": [
              "IPY_MODEL_f61ef8cbee17487487f80e66a5a20c5a",
              "IPY_MODEL_f1edfdc1d3fd43e09f77580179bf7b7c"
            ]
          }
        },
        "aa14e6ae62a749aaab201b6abb8ba6c4": {
          "model_module": "@jupyter-widgets/base",
          "model_name": "LayoutModel",
          "state": {
            "_view_name": "LayoutView",
            "grid_template_rows": null,
            "right": null,
            "justify_content": null,
            "_view_module": "@jupyter-widgets/base",
            "overflow": null,
            "_model_module_version": "1.2.0",
            "_view_count": null,
            "flex_flow": null,
            "width": null,
            "min_width": null,
            "border": null,
            "align_items": null,
            "bottom": null,
            "_model_module": "@jupyter-widgets/base",
            "top": null,
            "grid_column": null,
            "overflow_y": null,
            "overflow_x": null,
            "grid_auto_flow": null,
            "grid_area": null,
            "grid_template_columns": null,
            "flex": null,
            "_model_name": "LayoutModel",
            "justify_items": null,
            "grid_row": null,
            "max_height": null,
            "align_content": null,
            "visibility": null,
            "align_self": null,
            "height": null,
            "min_height": null,
            "padding": null,
            "grid_auto_rows": null,
            "grid_gap": null,
            "max_width": null,
            "order": null,
            "_view_module_version": "1.2.0",
            "grid_template_areas": null,
            "object_position": null,
            "object_fit": null,
            "grid_auto_columns": null,
            "margin": null,
            "display": null,
            "left": null
          }
        },
        "f61ef8cbee17487487f80e66a5a20c5a": {
          "model_module": "@jupyter-widgets/controls",
          "model_name": "LabelModel",
          "state": {
            "_view_name": "LabelView",
            "style": "IPY_MODEL_2bea9539b304418f834f77405ee2b015",
            "_dom_classes": [],
            "description": "",
            "_model_name": "LabelModel",
            "placeholder": "​",
            "_view_module": "@jupyter-widgets/controls",
            "_model_module_version": "1.5.0",
            "value": " 68.24MB of 68.24MB uploaded (0.00MB deduped)\r",
            "_view_count": null,
            "_view_module_version": "1.5.0",
            "description_tooltip": null,
            "_model_module": "@jupyter-widgets/controls",
            "layout": "IPY_MODEL_f62c1149953449e48b600bc9afc4a49c"
          }
        },
        "f1edfdc1d3fd43e09f77580179bf7b7c": {
          "model_module": "@jupyter-widgets/controls",
          "model_name": "FloatProgressModel",
          "state": {
            "_view_name": "ProgressView",
            "style": "IPY_MODEL_5a47bcbc03a04dfb851ef1d4eec6d9a5",
            "_dom_classes": [],
            "description": "",
            "_model_name": "FloatProgressModel",
            "bar_style": "",
            "max": 1,
            "_view_module": "@jupyter-widgets/controls",
            "_model_module_version": "1.5.0",
            "value": 1,
            "_view_count": null,
            "_view_module_version": "1.5.0",
            "orientation": "horizontal",
            "min": 0,
            "description_tooltip": null,
            "_model_module": "@jupyter-widgets/controls",
            "layout": "IPY_MODEL_90087fc9cea0441b93bab9786719204c"
          }
        },
        "2bea9539b304418f834f77405ee2b015": {
          "model_module": "@jupyter-widgets/controls",
          "model_name": "DescriptionStyleModel",
          "state": {
            "_view_name": "StyleView",
            "_model_name": "DescriptionStyleModel",
            "description_width": "",
            "_view_module": "@jupyter-widgets/base",
            "_model_module_version": "1.5.0",
            "_view_count": null,
            "_view_module_version": "1.2.0",
            "_model_module": "@jupyter-widgets/controls"
          }
        },
        "f62c1149953449e48b600bc9afc4a49c": {
          "model_module": "@jupyter-widgets/base",
          "model_name": "LayoutModel",
          "state": {
            "_view_name": "LayoutView",
            "grid_template_rows": null,
            "right": null,
            "justify_content": null,
            "_view_module": "@jupyter-widgets/base",
            "overflow": null,
            "_model_module_version": "1.2.0",
            "_view_count": null,
            "flex_flow": null,
            "width": null,
            "min_width": null,
            "border": null,
            "align_items": null,
            "bottom": null,
            "_model_module": "@jupyter-widgets/base",
            "top": null,
            "grid_column": null,
            "overflow_y": null,
            "overflow_x": null,
            "grid_auto_flow": null,
            "grid_area": null,
            "grid_template_columns": null,
            "flex": null,
            "_model_name": "LayoutModel",
            "justify_items": null,
            "grid_row": null,
            "max_height": null,
            "align_content": null,
            "visibility": null,
            "align_self": null,
            "height": null,
            "min_height": null,
            "padding": null,
            "grid_auto_rows": null,
            "grid_gap": null,
            "max_width": null,
            "order": null,
            "_view_module_version": "1.2.0",
            "grid_template_areas": null,
            "object_position": null,
            "object_fit": null,
            "grid_auto_columns": null,
            "margin": null,
            "display": null,
            "left": null
          }
        },
        "5a47bcbc03a04dfb851ef1d4eec6d9a5": {
          "model_module": "@jupyter-widgets/controls",
          "model_name": "ProgressStyleModel",
          "state": {
            "_view_name": "StyleView",
            "_model_name": "ProgressStyleModel",
            "description_width": "",
            "_view_module": "@jupyter-widgets/base",
            "_model_module_version": "1.5.0",
            "_view_count": null,
            "_view_module_version": "1.2.0",
            "bar_color": null,
            "_model_module": "@jupyter-widgets/controls"
          }
        },
        "90087fc9cea0441b93bab9786719204c": {
          "model_module": "@jupyter-widgets/base",
          "model_name": "LayoutModel",
          "state": {
            "_view_name": "LayoutView",
            "grid_template_rows": null,
            "right": null,
            "justify_content": null,
            "_view_module": "@jupyter-widgets/base",
            "overflow": null,
            "_model_module_version": "1.2.0",
            "_view_count": null,
            "flex_flow": null,
            "width": null,
            "min_width": null,
            "border": null,
            "align_items": null,
            "bottom": null,
            "_model_module": "@jupyter-widgets/base",
            "top": null,
            "grid_column": null,
            "overflow_y": null,
            "overflow_x": null,
            "grid_auto_flow": null,
            "grid_area": null,
            "grid_template_columns": null,
            "flex": null,
            "_model_name": "LayoutModel",
            "justify_items": null,
            "grid_row": null,
            "max_height": null,
            "align_content": null,
            "visibility": null,
            "align_self": null,
            "height": null,
            "min_height": null,
            "padding": null,
            "grid_auto_rows": null,
            "grid_gap": null,
            "max_width": null,
            "order": null,
            "_view_module_version": "1.2.0",
            "grid_template_areas": null,
            "object_position": null,
            "object_fit": null,
            "grid_auto_columns": null,
            "margin": null,
            "display": null,
            "left": null
          }
        },
        "0b3e8db54598478ab4332d9c50f1754f": {
          "model_module": "@jupyter-widgets/controls",
          "model_name": "VBoxModel",
          "state": {
            "_view_name": "VBoxView",
            "_dom_classes": [],
            "_model_name": "VBoxModel",
            "_view_module": "@jupyter-widgets/controls",
            "_model_module_version": "1.5.0",
            "_view_count": null,
            "_view_module_version": "1.5.0",
            "box_style": "",
            "layout": "IPY_MODEL_1ba8d3b598424de9a9020ba988bc5196",
            "_model_module": "@jupyter-widgets/controls",
            "children": [
              "IPY_MODEL_a4159f47628342bd9e3ad00a12044973",
              "IPY_MODEL_8887605e20c04c6c95ab70d68646bba4"
            ]
          }
        },
        "1ba8d3b598424de9a9020ba988bc5196": {
          "model_module": "@jupyter-widgets/base",
          "model_name": "LayoutModel",
          "state": {
            "_view_name": "LayoutView",
            "grid_template_rows": null,
            "right": null,
            "justify_content": null,
            "_view_module": "@jupyter-widgets/base",
            "overflow": null,
            "_model_module_version": "1.2.0",
            "_view_count": null,
            "flex_flow": null,
            "width": null,
            "min_width": null,
            "border": null,
            "align_items": null,
            "bottom": null,
            "_model_module": "@jupyter-widgets/base",
            "top": null,
            "grid_column": null,
            "overflow_y": null,
            "overflow_x": null,
            "grid_auto_flow": null,
            "grid_area": null,
            "grid_template_columns": null,
            "flex": null,
            "_model_name": "LayoutModel",
            "justify_items": null,
            "grid_row": null,
            "max_height": null,
            "align_content": null,
            "visibility": null,
            "align_self": null,
            "height": null,
            "min_height": null,
            "padding": null,
            "grid_auto_rows": null,
            "grid_gap": null,
            "max_width": null,
            "order": null,
            "_view_module_version": "1.2.0",
            "grid_template_areas": null,
            "object_position": null,
            "object_fit": null,
            "grid_auto_columns": null,
            "margin": null,
            "display": null,
            "left": null
          }
        },
        "a4159f47628342bd9e3ad00a12044973": {
          "model_module": "@jupyter-widgets/controls",
          "model_name": "LabelModel",
          "state": {
            "_view_name": "LabelView",
            "style": "IPY_MODEL_e5bbda885c9340f78136486520213e11",
            "_dom_classes": [],
            "description": "",
            "_model_name": "LabelModel",
            "placeholder": "​",
            "_view_module": "@jupyter-widgets/controls",
            "_model_module_version": "1.5.0",
            "value": " 76.83MB of 76.83MB uploaded (0.00MB deduped)\r",
            "_view_count": null,
            "_view_module_version": "1.5.0",
            "description_tooltip": null,
            "_model_module": "@jupyter-widgets/controls",
            "layout": "IPY_MODEL_24fab593b9e248d4a819ba479f7c2ea6"
          }
        },
        "8887605e20c04c6c95ab70d68646bba4": {
          "model_module": "@jupyter-widgets/controls",
          "model_name": "FloatProgressModel",
          "state": {
            "_view_name": "ProgressView",
            "style": "IPY_MODEL_bfb1d72561e94c59b6254bc8b37feb4e",
            "_dom_classes": [],
            "description": "",
            "_model_name": "FloatProgressModel",
            "bar_style": "",
            "max": 1,
            "_view_module": "@jupyter-widgets/controls",
            "_model_module_version": "1.5.0",
            "value": 1,
            "_view_count": null,
            "_view_module_version": "1.5.0",
            "orientation": "horizontal",
            "min": 0,
            "description_tooltip": null,
            "_model_module": "@jupyter-widgets/controls",
            "layout": "IPY_MODEL_c366beaa52004c2595bb6cc0cc4b2736"
          }
        },
        "e5bbda885c9340f78136486520213e11": {
          "model_module": "@jupyter-widgets/controls",
          "model_name": "DescriptionStyleModel",
          "state": {
            "_view_name": "StyleView",
            "_model_name": "DescriptionStyleModel",
            "description_width": "",
            "_view_module": "@jupyter-widgets/base",
            "_model_module_version": "1.5.0",
            "_view_count": null,
            "_view_module_version": "1.2.0",
            "_model_module": "@jupyter-widgets/controls"
          }
        },
        "24fab593b9e248d4a819ba479f7c2ea6": {
          "model_module": "@jupyter-widgets/base",
          "model_name": "LayoutModel",
          "state": {
            "_view_name": "LayoutView",
            "grid_template_rows": null,
            "right": null,
            "justify_content": null,
            "_view_module": "@jupyter-widgets/base",
            "overflow": null,
            "_model_module_version": "1.2.0",
            "_view_count": null,
            "flex_flow": null,
            "width": null,
            "min_width": null,
            "border": null,
            "align_items": null,
            "bottom": null,
            "_model_module": "@jupyter-widgets/base",
            "top": null,
            "grid_column": null,
            "overflow_y": null,
            "overflow_x": null,
            "grid_auto_flow": null,
            "grid_area": null,
            "grid_template_columns": null,
            "flex": null,
            "_model_name": "LayoutModel",
            "justify_items": null,
            "grid_row": null,
            "max_height": null,
            "align_content": null,
            "visibility": null,
            "align_self": null,
            "height": null,
            "min_height": null,
            "padding": null,
            "grid_auto_rows": null,
            "grid_gap": null,
            "max_width": null,
            "order": null,
            "_view_module_version": "1.2.0",
            "grid_template_areas": null,
            "object_position": null,
            "object_fit": null,
            "grid_auto_columns": null,
            "margin": null,
            "display": null,
            "left": null
          }
        },
        "bfb1d72561e94c59b6254bc8b37feb4e": {
          "model_module": "@jupyter-widgets/controls",
          "model_name": "ProgressStyleModel",
          "state": {
            "_view_name": "StyleView",
            "_model_name": "ProgressStyleModel",
            "description_width": "",
            "_view_module": "@jupyter-widgets/base",
            "_model_module_version": "1.5.0",
            "_view_count": null,
            "_view_module_version": "1.2.0",
            "bar_color": null,
            "_model_module": "@jupyter-widgets/controls"
          }
        },
        "c366beaa52004c2595bb6cc0cc4b2736": {
          "model_module": "@jupyter-widgets/base",
          "model_name": "LayoutModel",
          "state": {
            "_view_name": "LayoutView",
            "grid_template_rows": null,
            "right": null,
            "justify_content": null,
            "_view_module": "@jupyter-widgets/base",
            "overflow": null,
            "_model_module_version": "1.2.0",
            "_view_count": null,
            "flex_flow": null,
            "width": null,
            "min_width": null,
            "border": null,
            "align_items": null,
            "bottom": null,
            "_model_module": "@jupyter-widgets/base",
            "top": null,
            "grid_column": null,
            "overflow_y": null,
            "overflow_x": null,
            "grid_auto_flow": null,
            "grid_area": null,
            "grid_template_columns": null,
            "flex": null,
            "_model_name": "LayoutModel",
            "justify_items": null,
            "grid_row": null,
            "max_height": null,
            "align_content": null,
            "visibility": null,
            "align_self": null,
            "height": null,
            "min_height": null,
            "padding": null,
            "grid_auto_rows": null,
            "grid_gap": null,
            "max_width": null,
            "order": null,
            "_view_module_version": "1.2.0",
            "grid_template_areas": null,
            "object_position": null,
            "object_fit": null,
            "grid_auto_columns": null,
            "margin": null,
            "display": null,
            "left": null
          }
        },
        "b04a4b303bbd4b6ca41ae0361bdd30ee": {
          "model_module": "@jupyter-widgets/controls",
          "model_name": "VBoxModel",
          "state": {
            "_view_name": "VBoxView",
            "_dom_classes": [],
            "_model_name": "VBoxModel",
            "_view_module": "@jupyter-widgets/controls",
            "_model_module_version": "1.5.0",
            "_view_count": null,
            "_view_module_version": "1.5.0",
            "box_style": "",
            "layout": "IPY_MODEL_8812c2842ceb47e7aba2fb461c1e17d2",
            "_model_module": "@jupyter-widgets/controls",
            "children": [
              "IPY_MODEL_10cab419ee004f28a3a7cd987c1d1d71",
              "IPY_MODEL_749762144c874eaa81d3c44be87bcdd1"
            ]
          }
        },
        "8812c2842ceb47e7aba2fb461c1e17d2": {
          "model_module": "@jupyter-widgets/base",
          "model_name": "LayoutModel",
          "state": {
            "_view_name": "LayoutView",
            "grid_template_rows": null,
            "right": null,
            "justify_content": null,
            "_view_module": "@jupyter-widgets/base",
            "overflow": null,
            "_model_module_version": "1.2.0",
            "_view_count": null,
            "flex_flow": null,
            "width": null,
            "min_width": null,
            "border": null,
            "align_items": null,
            "bottom": null,
            "_model_module": "@jupyter-widgets/base",
            "top": null,
            "grid_column": null,
            "overflow_y": null,
            "overflow_x": null,
            "grid_auto_flow": null,
            "grid_area": null,
            "grid_template_columns": null,
            "flex": null,
            "_model_name": "LayoutModel",
            "justify_items": null,
            "grid_row": null,
            "max_height": null,
            "align_content": null,
            "visibility": null,
            "align_self": null,
            "height": null,
            "min_height": null,
            "padding": null,
            "grid_auto_rows": null,
            "grid_gap": null,
            "max_width": null,
            "order": null,
            "_view_module_version": "1.2.0",
            "grid_template_areas": null,
            "object_position": null,
            "object_fit": null,
            "grid_auto_columns": null,
            "margin": null,
            "display": null,
            "left": null
          }
        },
        "10cab419ee004f28a3a7cd987c1d1d71": {
          "model_module": "@jupyter-widgets/controls",
          "model_name": "LabelModel",
          "state": {
            "_view_name": "LabelView",
            "style": "IPY_MODEL_cbb4453cc3684bc09efcd11a41a2173c",
            "_dom_classes": [],
            "description": "",
            "_model_name": "LabelModel",
            "placeholder": "​",
            "_view_module": "@jupyter-widgets/controls",
            "_model_module_version": "1.5.0",
            "value": " 91.25MB of 91.25MB uploaded (0.00MB deduped)\r",
            "_view_count": null,
            "_view_module_version": "1.5.0",
            "description_tooltip": null,
            "_model_module": "@jupyter-widgets/controls",
            "layout": "IPY_MODEL_6b5ab61bde7c47ba88ed78774c756ded"
          }
        },
        "749762144c874eaa81d3c44be87bcdd1": {
          "model_module": "@jupyter-widgets/controls",
          "model_name": "FloatProgressModel",
          "state": {
            "_view_name": "ProgressView",
            "style": "IPY_MODEL_78391020f6794ee1953ce90d3f3f4d42",
            "_dom_classes": [],
            "description": "",
            "_model_name": "FloatProgressModel",
            "bar_style": "",
            "max": 1,
            "_view_module": "@jupyter-widgets/controls",
            "_model_module_version": "1.5.0",
            "value": 1,
            "_view_count": null,
            "_view_module_version": "1.5.0",
            "orientation": "horizontal",
            "min": 0,
            "description_tooltip": null,
            "_model_module": "@jupyter-widgets/controls",
            "layout": "IPY_MODEL_6ee266910101451faec32bb20f339770"
          }
        },
        "cbb4453cc3684bc09efcd11a41a2173c": {
          "model_module": "@jupyter-widgets/controls",
          "model_name": "DescriptionStyleModel",
          "state": {
            "_view_name": "StyleView",
            "_model_name": "DescriptionStyleModel",
            "description_width": "",
            "_view_module": "@jupyter-widgets/base",
            "_model_module_version": "1.5.0",
            "_view_count": null,
            "_view_module_version": "1.2.0",
            "_model_module": "@jupyter-widgets/controls"
          }
        },
        "6b5ab61bde7c47ba88ed78774c756ded": {
          "model_module": "@jupyter-widgets/base",
          "model_name": "LayoutModel",
          "state": {
            "_view_name": "LayoutView",
            "grid_template_rows": null,
            "right": null,
            "justify_content": null,
            "_view_module": "@jupyter-widgets/base",
            "overflow": null,
            "_model_module_version": "1.2.0",
            "_view_count": null,
            "flex_flow": null,
            "width": null,
            "min_width": null,
            "border": null,
            "align_items": null,
            "bottom": null,
            "_model_module": "@jupyter-widgets/base",
            "top": null,
            "grid_column": null,
            "overflow_y": null,
            "overflow_x": null,
            "grid_auto_flow": null,
            "grid_area": null,
            "grid_template_columns": null,
            "flex": null,
            "_model_name": "LayoutModel",
            "justify_items": null,
            "grid_row": null,
            "max_height": null,
            "align_content": null,
            "visibility": null,
            "align_self": null,
            "height": null,
            "min_height": null,
            "padding": null,
            "grid_auto_rows": null,
            "grid_gap": null,
            "max_width": null,
            "order": null,
            "_view_module_version": "1.2.0",
            "grid_template_areas": null,
            "object_position": null,
            "object_fit": null,
            "grid_auto_columns": null,
            "margin": null,
            "display": null,
            "left": null
          }
        },
        "78391020f6794ee1953ce90d3f3f4d42": {
          "model_module": "@jupyter-widgets/controls",
          "model_name": "ProgressStyleModel",
          "state": {
            "_view_name": "StyleView",
            "_model_name": "ProgressStyleModel",
            "description_width": "",
            "_view_module": "@jupyter-widgets/base",
            "_model_module_version": "1.5.0",
            "_view_count": null,
            "_view_module_version": "1.2.0",
            "bar_color": null,
            "_model_module": "@jupyter-widgets/controls"
          }
        },
        "6ee266910101451faec32bb20f339770": {
          "model_module": "@jupyter-widgets/base",
          "model_name": "LayoutModel",
          "state": {
            "_view_name": "LayoutView",
            "grid_template_rows": null,
            "right": null,
            "justify_content": null,
            "_view_module": "@jupyter-widgets/base",
            "overflow": null,
            "_model_module_version": "1.2.0",
            "_view_count": null,
            "flex_flow": null,
            "width": null,
            "min_width": null,
            "border": null,
            "align_items": null,
            "bottom": null,
            "_model_module": "@jupyter-widgets/base",
            "top": null,
            "grid_column": null,
            "overflow_y": null,
            "overflow_x": null,
            "grid_auto_flow": null,
            "grid_area": null,
            "grid_template_columns": null,
            "flex": null,
            "_model_name": "LayoutModel",
            "justify_items": null,
            "grid_row": null,
            "max_height": null,
            "align_content": null,
            "visibility": null,
            "align_self": null,
            "height": null,
            "min_height": null,
            "padding": null,
            "grid_auto_rows": null,
            "grid_gap": null,
            "max_width": null,
            "order": null,
            "_view_module_version": "1.2.0",
            "grid_template_areas": null,
            "object_position": null,
            "object_fit": null,
            "grid_auto_columns": null,
            "margin": null,
            "display": null,
            "left": null
          }
        },
        "f8361059493848a3983adc61032701ca": {
          "model_module": "@jupyter-widgets/controls",
          "model_name": "VBoxModel",
          "state": {
            "_view_name": "VBoxView",
            "_dom_classes": [],
            "_model_name": "VBoxModel",
            "_view_module": "@jupyter-widgets/controls",
            "_model_module_version": "1.5.0",
            "_view_count": null,
            "_view_module_version": "1.5.0",
            "box_style": "",
            "layout": "IPY_MODEL_6eb6a22cb9c7415c828421a2a7726420",
            "_model_module": "@jupyter-widgets/controls",
            "children": [
              "IPY_MODEL_69c5a6ff288d44a89330f11fcb2b9aef",
              "IPY_MODEL_7acb17b570124cc3a099f5456fd8e3da"
            ]
          }
        },
        "6eb6a22cb9c7415c828421a2a7726420": {
          "model_module": "@jupyter-widgets/base",
          "model_name": "LayoutModel",
          "state": {
            "_view_name": "LayoutView",
            "grid_template_rows": null,
            "right": null,
            "justify_content": null,
            "_view_module": "@jupyter-widgets/base",
            "overflow": null,
            "_model_module_version": "1.2.0",
            "_view_count": null,
            "flex_flow": null,
            "width": null,
            "min_width": null,
            "border": null,
            "align_items": null,
            "bottom": null,
            "_model_module": "@jupyter-widgets/base",
            "top": null,
            "grid_column": null,
            "overflow_y": null,
            "overflow_x": null,
            "grid_auto_flow": null,
            "grid_area": null,
            "grid_template_columns": null,
            "flex": null,
            "_model_name": "LayoutModel",
            "justify_items": null,
            "grid_row": null,
            "max_height": null,
            "align_content": null,
            "visibility": null,
            "align_self": null,
            "height": null,
            "min_height": null,
            "padding": null,
            "grid_auto_rows": null,
            "grid_gap": null,
            "max_width": null,
            "order": null,
            "_view_module_version": "1.2.0",
            "grid_template_areas": null,
            "object_position": null,
            "object_fit": null,
            "grid_auto_columns": null,
            "margin": null,
            "display": null,
            "left": null
          }
        },
        "69c5a6ff288d44a89330f11fcb2b9aef": {
          "model_module": "@jupyter-widgets/controls",
          "model_name": "LabelModel",
          "state": {
            "_view_name": "LabelView",
            "style": "IPY_MODEL_5457f60dd45841e8804687eafa76ba61",
            "_dom_classes": [],
            "description": "",
            "_model_name": "LabelModel",
            "placeholder": "​",
            "_view_module": "@jupyter-widgets/controls",
            "_model_module_version": "1.5.0",
            "value": " 103.07MB of 103.07MB uploaded (0.00MB deduped)\r",
            "_view_count": null,
            "_view_module_version": "1.5.0",
            "description_tooltip": null,
            "_model_module": "@jupyter-widgets/controls",
            "layout": "IPY_MODEL_6734742f5f034389a032afce35861af6"
          }
        },
        "7acb17b570124cc3a099f5456fd8e3da": {
          "model_module": "@jupyter-widgets/controls",
          "model_name": "FloatProgressModel",
          "state": {
            "_view_name": "ProgressView",
            "style": "IPY_MODEL_7e19971e9dbe4e22a2a6776a544580c8",
            "_dom_classes": [],
            "description": "",
            "_model_name": "FloatProgressModel",
            "bar_style": "",
            "max": 1,
            "_view_module": "@jupyter-widgets/controls",
            "_model_module_version": "1.5.0",
            "value": 1,
            "_view_count": null,
            "_view_module_version": "1.5.0",
            "orientation": "horizontal",
            "min": 0,
            "description_tooltip": null,
            "_model_module": "@jupyter-widgets/controls",
            "layout": "IPY_MODEL_7b196f53848e49159f84a0a1ba1aed67"
          }
        },
        "5457f60dd45841e8804687eafa76ba61": {
          "model_module": "@jupyter-widgets/controls",
          "model_name": "DescriptionStyleModel",
          "state": {
            "_view_name": "StyleView",
            "_model_name": "DescriptionStyleModel",
            "description_width": "",
            "_view_module": "@jupyter-widgets/base",
            "_model_module_version": "1.5.0",
            "_view_count": null,
            "_view_module_version": "1.2.0",
            "_model_module": "@jupyter-widgets/controls"
          }
        },
        "6734742f5f034389a032afce35861af6": {
          "model_module": "@jupyter-widgets/base",
          "model_name": "LayoutModel",
          "state": {
            "_view_name": "LayoutView",
            "grid_template_rows": null,
            "right": null,
            "justify_content": null,
            "_view_module": "@jupyter-widgets/base",
            "overflow": null,
            "_model_module_version": "1.2.0",
            "_view_count": null,
            "flex_flow": null,
            "width": null,
            "min_width": null,
            "border": null,
            "align_items": null,
            "bottom": null,
            "_model_module": "@jupyter-widgets/base",
            "top": null,
            "grid_column": null,
            "overflow_y": null,
            "overflow_x": null,
            "grid_auto_flow": null,
            "grid_area": null,
            "grid_template_columns": null,
            "flex": null,
            "_model_name": "LayoutModel",
            "justify_items": null,
            "grid_row": null,
            "max_height": null,
            "align_content": null,
            "visibility": null,
            "align_self": null,
            "height": null,
            "min_height": null,
            "padding": null,
            "grid_auto_rows": null,
            "grid_gap": null,
            "max_width": null,
            "order": null,
            "_view_module_version": "1.2.0",
            "grid_template_areas": null,
            "object_position": null,
            "object_fit": null,
            "grid_auto_columns": null,
            "margin": null,
            "display": null,
            "left": null
          }
        },
        "7e19971e9dbe4e22a2a6776a544580c8": {
          "model_module": "@jupyter-widgets/controls",
          "model_name": "ProgressStyleModel",
          "state": {
            "_view_name": "StyleView",
            "_model_name": "ProgressStyleModel",
            "description_width": "",
            "_view_module": "@jupyter-widgets/base",
            "_model_module_version": "1.5.0",
            "_view_count": null,
            "_view_module_version": "1.2.0",
            "bar_color": null,
            "_model_module": "@jupyter-widgets/controls"
          }
        },
        "7b196f53848e49159f84a0a1ba1aed67": {
          "model_module": "@jupyter-widgets/base",
          "model_name": "LayoutModel",
          "state": {
            "_view_name": "LayoutView",
            "grid_template_rows": null,
            "right": null,
            "justify_content": null,
            "_view_module": "@jupyter-widgets/base",
            "overflow": null,
            "_model_module_version": "1.2.0",
            "_view_count": null,
            "flex_flow": null,
            "width": null,
            "min_width": null,
            "border": null,
            "align_items": null,
            "bottom": null,
            "_model_module": "@jupyter-widgets/base",
            "top": null,
            "grid_column": null,
            "overflow_y": null,
            "overflow_x": null,
            "grid_auto_flow": null,
            "grid_area": null,
            "grid_template_columns": null,
            "flex": null,
            "_model_name": "LayoutModel",
            "justify_items": null,
            "grid_row": null,
            "max_height": null,
            "align_content": null,
            "visibility": null,
            "align_self": null,
            "height": null,
            "min_height": null,
            "padding": null,
            "grid_auto_rows": null,
            "grid_gap": null,
            "max_width": null,
            "order": null,
            "_view_module_version": "1.2.0",
            "grid_template_areas": null,
            "object_position": null,
            "object_fit": null,
            "grid_auto_columns": null,
            "margin": null,
            "display": null,
            "left": null
          }
        },
        "f95d140f94a24bd1afbcaf555d89d613": {
          "model_module": "@jupyter-widgets/controls",
          "model_name": "VBoxModel",
          "state": {
            "_view_name": "VBoxView",
            "_dom_classes": [],
            "_model_name": "VBoxModel",
            "_view_module": "@jupyter-widgets/controls",
            "_model_module_version": "1.5.0",
            "_view_count": null,
            "_view_module_version": "1.5.0",
            "box_style": "",
            "layout": "IPY_MODEL_fa21c63389f34f13ada14c7dc02192ff",
            "_model_module": "@jupyter-widgets/controls",
            "children": [
              "IPY_MODEL_f02e28faa383438ba365d6ef401e3965",
              "IPY_MODEL_f62d0264356a4770a16c7f178be6828c"
            ]
          }
        },
        "fa21c63389f34f13ada14c7dc02192ff": {
          "model_module": "@jupyter-widgets/base",
          "model_name": "LayoutModel",
          "state": {
            "_view_name": "LayoutView",
            "grid_template_rows": null,
            "right": null,
            "justify_content": null,
            "_view_module": "@jupyter-widgets/base",
            "overflow": null,
            "_model_module_version": "1.2.0",
            "_view_count": null,
            "flex_flow": null,
            "width": null,
            "min_width": null,
            "border": null,
            "align_items": null,
            "bottom": null,
            "_model_module": "@jupyter-widgets/base",
            "top": null,
            "grid_column": null,
            "overflow_y": null,
            "overflow_x": null,
            "grid_auto_flow": null,
            "grid_area": null,
            "grid_template_columns": null,
            "flex": null,
            "_model_name": "LayoutModel",
            "justify_items": null,
            "grid_row": null,
            "max_height": null,
            "align_content": null,
            "visibility": null,
            "align_self": null,
            "height": null,
            "min_height": null,
            "padding": null,
            "grid_auto_rows": null,
            "grid_gap": null,
            "max_width": null,
            "order": null,
            "_view_module_version": "1.2.0",
            "grid_template_areas": null,
            "object_position": null,
            "object_fit": null,
            "grid_auto_columns": null,
            "margin": null,
            "display": null,
            "left": null
          }
        },
        "f02e28faa383438ba365d6ef401e3965": {
          "model_module": "@jupyter-widgets/controls",
          "model_name": "LabelModel",
          "state": {
            "_view_name": "LabelView",
            "style": "IPY_MODEL_f17b7064356d456d8d7c67e303045a0c",
            "_dom_classes": [],
            "description": "",
            "_model_name": "LabelModel",
            "placeholder": "​",
            "_view_module": "@jupyter-widgets/controls",
            "_model_module_version": "1.5.0",
            "value": " 79.22MB of 79.22MB uploaded (0.00MB deduped)\r",
            "_view_count": null,
            "_view_module_version": "1.5.0",
            "description_tooltip": null,
            "_model_module": "@jupyter-widgets/controls",
            "layout": "IPY_MODEL_f9b917fc76c7409fa052bd1fc186c71e"
          }
        },
        "f62d0264356a4770a16c7f178be6828c": {
          "model_module": "@jupyter-widgets/controls",
          "model_name": "FloatProgressModel",
          "state": {
            "_view_name": "ProgressView",
            "style": "IPY_MODEL_504d88a44b8346dd8c3b8868253db2ae",
            "_dom_classes": [],
            "description": "",
            "_model_name": "FloatProgressModel",
            "bar_style": "",
            "max": 1,
            "_view_module": "@jupyter-widgets/controls",
            "_model_module_version": "1.5.0",
            "value": 1,
            "_view_count": null,
            "_view_module_version": "1.5.0",
            "orientation": "horizontal",
            "min": 0,
            "description_tooltip": null,
            "_model_module": "@jupyter-widgets/controls",
            "layout": "IPY_MODEL_cb920669aa564e02bafbf8ce5e42e8cc"
          }
        },
        "f17b7064356d456d8d7c67e303045a0c": {
          "model_module": "@jupyter-widgets/controls",
          "model_name": "DescriptionStyleModel",
          "state": {
            "_view_name": "StyleView",
            "_model_name": "DescriptionStyleModel",
            "description_width": "",
            "_view_module": "@jupyter-widgets/base",
            "_model_module_version": "1.5.0",
            "_view_count": null,
            "_view_module_version": "1.2.0",
            "_model_module": "@jupyter-widgets/controls"
          }
        },
        "f9b917fc76c7409fa052bd1fc186c71e": {
          "model_module": "@jupyter-widgets/base",
          "model_name": "LayoutModel",
          "state": {
            "_view_name": "LayoutView",
            "grid_template_rows": null,
            "right": null,
            "justify_content": null,
            "_view_module": "@jupyter-widgets/base",
            "overflow": null,
            "_model_module_version": "1.2.0",
            "_view_count": null,
            "flex_flow": null,
            "width": null,
            "min_width": null,
            "border": null,
            "align_items": null,
            "bottom": null,
            "_model_module": "@jupyter-widgets/base",
            "top": null,
            "grid_column": null,
            "overflow_y": null,
            "overflow_x": null,
            "grid_auto_flow": null,
            "grid_area": null,
            "grid_template_columns": null,
            "flex": null,
            "_model_name": "LayoutModel",
            "justify_items": null,
            "grid_row": null,
            "max_height": null,
            "align_content": null,
            "visibility": null,
            "align_self": null,
            "height": null,
            "min_height": null,
            "padding": null,
            "grid_auto_rows": null,
            "grid_gap": null,
            "max_width": null,
            "order": null,
            "_view_module_version": "1.2.0",
            "grid_template_areas": null,
            "object_position": null,
            "object_fit": null,
            "grid_auto_columns": null,
            "margin": null,
            "display": null,
            "left": null
          }
        },
        "504d88a44b8346dd8c3b8868253db2ae": {
          "model_module": "@jupyter-widgets/controls",
          "model_name": "ProgressStyleModel",
          "state": {
            "_view_name": "StyleView",
            "_model_name": "ProgressStyleModel",
            "description_width": "",
            "_view_module": "@jupyter-widgets/base",
            "_model_module_version": "1.5.0",
            "_view_count": null,
            "_view_module_version": "1.2.0",
            "bar_color": null,
            "_model_module": "@jupyter-widgets/controls"
          }
        },
        "cb920669aa564e02bafbf8ce5e42e8cc": {
          "model_module": "@jupyter-widgets/base",
          "model_name": "LayoutModel",
          "state": {
            "_view_name": "LayoutView",
            "grid_template_rows": null,
            "right": null,
            "justify_content": null,
            "_view_module": "@jupyter-widgets/base",
            "overflow": null,
            "_model_module_version": "1.2.0",
            "_view_count": null,
            "flex_flow": null,
            "width": null,
            "min_width": null,
            "border": null,
            "align_items": null,
            "bottom": null,
            "_model_module": "@jupyter-widgets/base",
            "top": null,
            "grid_column": null,
            "overflow_y": null,
            "overflow_x": null,
            "grid_auto_flow": null,
            "grid_area": null,
            "grid_template_columns": null,
            "flex": null,
            "_model_name": "LayoutModel",
            "justify_items": null,
            "grid_row": null,
            "max_height": null,
            "align_content": null,
            "visibility": null,
            "align_self": null,
            "height": null,
            "min_height": null,
            "padding": null,
            "grid_auto_rows": null,
            "grid_gap": null,
            "max_width": null,
            "order": null,
            "_view_module_version": "1.2.0",
            "grid_template_areas": null,
            "object_position": null,
            "object_fit": null,
            "grid_auto_columns": null,
            "margin": null,
            "display": null,
            "left": null
          }
        },
        "a5d606db54604e80b067ecece625810b": {
          "model_module": "@jupyter-widgets/controls",
          "model_name": "VBoxModel",
          "state": {
            "_view_name": "VBoxView",
            "_dom_classes": [],
            "_model_name": "VBoxModel",
            "_view_module": "@jupyter-widgets/controls",
            "_model_module_version": "1.5.0",
            "_view_count": null,
            "_view_module_version": "1.5.0",
            "box_style": "",
            "layout": "IPY_MODEL_9bb18db432824527bb1b665cd657629a",
            "_model_module": "@jupyter-widgets/controls",
            "children": [
              "IPY_MODEL_88e0fd706571484c894305500da0f0ac",
              "IPY_MODEL_f041ca14b3a9474991add4b69918ce4b"
            ]
          }
        },
        "9bb18db432824527bb1b665cd657629a": {
          "model_module": "@jupyter-widgets/base",
          "model_name": "LayoutModel",
          "state": {
            "_view_name": "LayoutView",
            "grid_template_rows": null,
            "right": null,
            "justify_content": null,
            "_view_module": "@jupyter-widgets/base",
            "overflow": null,
            "_model_module_version": "1.2.0",
            "_view_count": null,
            "flex_flow": null,
            "width": null,
            "min_width": null,
            "border": null,
            "align_items": null,
            "bottom": null,
            "_model_module": "@jupyter-widgets/base",
            "top": null,
            "grid_column": null,
            "overflow_y": null,
            "overflow_x": null,
            "grid_auto_flow": null,
            "grid_area": null,
            "grid_template_columns": null,
            "flex": null,
            "_model_name": "LayoutModel",
            "justify_items": null,
            "grid_row": null,
            "max_height": null,
            "align_content": null,
            "visibility": null,
            "align_self": null,
            "height": null,
            "min_height": null,
            "padding": null,
            "grid_auto_rows": null,
            "grid_gap": null,
            "max_width": null,
            "order": null,
            "_view_module_version": "1.2.0",
            "grid_template_areas": null,
            "object_position": null,
            "object_fit": null,
            "grid_auto_columns": null,
            "margin": null,
            "display": null,
            "left": null
          }
        },
        "88e0fd706571484c894305500da0f0ac": {
          "model_module": "@jupyter-widgets/controls",
          "model_name": "LabelModel",
          "state": {
            "_view_name": "LabelView",
            "style": "IPY_MODEL_1dbdadde797a435ca7b956075624251a",
            "_dom_classes": [],
            "description": "",
            "_model_name": "LabelModel",
            "placeholder": "​",
            "_view_module": "@jupyter-widgets/controls",
            "_model_module_version": "1.5.0",
            "value": " 70.96MB of 70.96MB uploaded (0.00MB deduped)\r",
            "_view_count": null,
            "_view_module_version": "1.5.0",
            "description_tooltip": null,
            "_model_module": "@jupyter-widgets/controls",
            "layout": "IPY_MODEL_2ecd17cc40a04faa9f6d801c5c124769"
          }
        },
        "f041ca14b3a9474991add4b69918ce4b": {
          "model_module": "@jupyter-widgets/controls",
          "model_name": "FloatProgressModel",
          "state": {
            "_view_name": "ProgressView",
            "style": "IPY_MODEL_52956cc6a52243a999f95c5b0e8c4db7",
            "_dom_classes": [],
            "description": "",
            "_model_name": "FloatProgressModel",
            "bar_style": "",
            "max": 1,
            "_view_module": "@jupyter-widgets/controls",
            "_model_module_version": "1.5.0",
            "value": 1,
            "_view_count": null,
            "_view_module_version": "1.5.0",
            "orientation": "horizontal",
            "min": 0,
            "description_tooltip": null,
            "_model_module": "@jupyter-widgets/controls",
            "layout": "IPY_MODEL_2678888d53a34e09a0d8f43004e3ade0"
          }
        },
        "1dbdadde797a435ca7b956075624251a": {
          "model_module": "@jupyter-widgets/controls",
          "model_name": "DescriptionStyleModel",
          "state": {
            "_view_name": "StyleView",
            "_model_name": "DescriptionStyleModel",
            "description_width": "",
            "_view_module": "@jupyter-widgets/base",
            "_model_module_version": "1.5.0",
            "_view_count": null,
            "_view_module_version": "1.2.0",
            "_model_module": "@jupyter-widgets/controls"
          }
        },
        "2ecd17cc40a04faa9f6d801c5c124769": {
          "model_module": "@jupyter-widgets/base",
          "model_name": "LayoutModel",
          "state": {
            "_view_name": "LayoutView",
            "grid_template_rows": null,
            "right": null,
            "justify_content": null,
            "_view_module": "@jupyter-widgets/base",
            "overflow": null,
            "_model_module_version": "1.2.0",
            "_view_count": null,
            "flex_flow": null,
            "width": null,
            "min_width": null,
            "border": null,
            "align_items": null,
            "bottom": null,
            "_model_module": "@jupyter-widgets/base",
            "top": null,
            "grid_column": null,
            "overflow_y": null,
            "overflow_x": null,
            "grid_auto_flow": null,
            "grid_area": null,
            "grid_template_columns": null,
            "flex": null,
            "_model_name": "LayoutModel",
            "justify_items": null,
            "grid_row": null,
            "max_height": null,
            "align_content": null,
            "visibility": null,
            "align_self": null,
            "height": null,
            "min_height": null,
            "padding": null,
            "grid_auto_rows": null,
            "grid_gap": null,
            "max_width": null,
            "order": null,
            "_view_module_version": "1.2.0",
            "grid_template_areas": null,
            "object_position": null,
            "object_fit": null,
            "grid_auto_columns": null,
            "margin": null,
            "display": null,
            "left": null
          }
        },
        "52956cc6a52243a999f95c5b0e8c4db7": {
          "model_module": "@jupyter-widgets/controls",
          "model_name": "ProgressStyleModel",
          "state": {
            "_view_name": "StyleView",
            "_model_name": "ProgressStyleModel",
            "description_width": "",
            "_view_module": "@jupyter-widgets/base",
            "_model_module_version": "1.5.0",
            "_view_count": null,
            "_view_module_version": "1.2.0",
            "bar_color": null,
            "_model_module": "@jupyter-widgets/controls"
          }
        },
        "2678888d53a34e09a0d8f43004e3ade0": {
          "model_module": "@jupyter-widgets/base",
          "model_name": "LayoutModel",
          "state": {
            "_view_name": "LayoutView",
            "grid_template_rows": null,
            "right": null,
            "justify_content": null,
            "_view_module": "@jupyter-widgets/base",
            "overflow": null,
            "_model_module_version": "1.2.0",
            "_view_count": null,
            "flex_flow": null,
            "width": null,
            "min_width": null,
            "border": null,
            "align_items": null,
            "bottom": null,
            "_model_module": "@jupyter-widgets/base",
            "top": null,
            "grid_column": null,
            "overflow_y": null,
            "overflow_x": null,
            "grid_auto_flow": null,
            "grid_area": null,
            "grid_template_columns": null,
            "flex": null,
            "_model_name": "LayoutModel",
            "justify_items": null,
            "grid_row": null,
            "max_height": null,
            "align_content": null,
            "visibility": null,
            "align_self": null,
            "height": null,
            "min_height": null,
            "padding": null,
            "grid_auto_rows": null,
            "grid_gap": null,
            "max_width": null,
            "order": null,
            "_view_module_version": "1.2.0",
            "grid_template_areas": null,
            "object_position": null,
            "object_fit": null,
            "grid_auto_columns": null,
            "margin": null,
            "display": null,
            "left": null
          }
        },
        "7d76e32705ef4fe7b9b0a992c426a326": {
          "model_module": "@jupyter-widgets/controls",
          "model_name": "VBoxModel",
          "state": {
            "_view_name": "VBoxView",
            "_dom_classes": [],
            "_model_name": "VBoxModel",
            "_view_module": "@jupyter-widgets/controls",
            "_model_module_version": "1.5.0",
            "_view_count": null,
            "_view_module_version": "1.5.0",
            "box_style": "",
            "layout": "IPY_MODEL_66173986bf274df489b1108e570a0064",
            "_model_module": "@jupyter-widgets/controls",
            "children": [
              "IPY_MODEL_5990c318c335493ebce5348ee2a0d59e",
              "IPY_MODEL_421e9833ea094b33b9facb74e88eb7b9"
            ]
          }
        },
        "66173986bf274df489b1108e570a0064": {
          "model_module": "@jupyter-widgets/base",
          "model_name": "LayoutModel",
          "state": {
            "_view_name": "LayoutView",
            "grid_template_rows": null,
            "right": null,
            "justify_content": null,
            "_view_module": "@jupyter-widgets/base",
            "overflow": null,
            "_model_module_version": "1.2.0",
            "_view_count": null,
            "flex_flow": null,
            "width": null,
            "min_width": null,
            "border": null,
            "align_items": null,
            "bottom": null,
            "_model_module": "@jupyter-widgets/base",
            "top": null,
            "grid_column": null,
            "overflow_y": null,
            "overflow_x": null,
            "grid_auto_flow": null,
            "grid_area": null,
            "grid_template_columns": null,
            "flex": null,
            "_model_name": "LayoutModel",
            "justify_items": null,
            "grid_row": null,
            "max_height": null,
            "align_content": null,
            "visibility": null,
            "align_self": null,
            "height": null,
            "min_height": null,
            "padding": null,
            "grid_auto_rows": null,
            "grid_gap": null,
            "max_width": null,
            "order": null,
            "_view_module_version": "1.2.0",
            "grid_template_areas": null,
            "object_position": null,
            "object_fit": null,
            "grid_auto_columns": null,
            "margin": null,
            "display": null,
            "left": null
          }
        },
        "5990c318c335493ebce5348ee2a0d59e": {
          "model_module": "@jupyter-widgets/controls",
          "model_name": "LabelModel",
          "state": {
            "_view_name": "LabelView",
            "style": "IPY_MODEL_790cd9af269943c6a6fa3c5b81050c35",
            "_dom_classes": [],
            "description": "",
            "_model_name": "LabelModel",
            "placeholder": "​",
            "_view_module": "@jupyter-widgets/controls",
            "_model_module_version": "1.5.0",
            "value": " 83.68MB of 83.68MB uploaded (0.00MB deduped)\r",
            "_view_count": null,
            "_view_module_version": "1.5.0",
            "description_tooltip": null,
            "_model_module": "@jupyter-widgets/controls",
            "layout": "IPY_MODEL_09044434710547e3b8ebe9314bf36dfd"
          }
        },
        "421e9833ea094b33b9facb74e88eb7b9": {
          "model_module": "@jupyter-widgets/controls",
          "model_name": "FloatProgressModel",
          "state": {
            "_view_name": "ProgressView",
            "style": "IPY_MODEL_dea56fb7a1c2473a9eae3a4861341ccb",
            "_dom_classes": [],
            "description": "",
            "_model_name": "FloatProgressModel",
            "bar_style": "",
            "max": 1,
            "_view_module": "@jupyter-widgets/controls",
            "_model_module_version": "1.5.0",
            "value": 1,
            "_view_count": null,
            "_view_module_version": "1.5.0",
            "orientation": "horizontal",
            "min": 0,
            "description_tooltip": null,
            "_model_module": "@jupyter-widgets/controls",
            "layout": "IPY_MODEL_6bfe53ff51d84e59b8939a63db2a8eab"
          }
        },
        "790cd9af269943c6a6fa3c5b81050c35": {
          "model_module": "@jupyter-widgets/controls",
          "model_name": "DescriptionStyleModel",
          "state": {
            "_view_name": "StyleView",
            "_model_name": "DescriptionStyleModel",
            "description_width": "",
            "_view_module": "@jupyter-widgets/base",
            "_model_module_version": "1.5.0",
            "_view_count": null,
            "_view_module_version": "1.2.0",
            "_model_module": "@jupyter-widgets/controls"
          }
        },
        "09044434710547e3b8ebe9314bf36dfd": {
          "model_module": "@jupyter-widgets/base",
          "model_name": "LayoutModel",
          "state": {
            "_view_name": "LayoutView",
            "grid_template_rows": null,
            "right": null,
            "justify_content": null,
            "_view_module": "@jupyter-widgets/base",
            "overflow": null,
            "_model_module_version": "1.2.0",
            "_view_count": null,
            "flex_flow": null,
            "width": null,
            "min_width": null,
            "border": null,
            "align_items": null,
            "bottom": null,
            "_model_module": "@jupyter-widgets/base",
            "top": null,
            "grid_column": null,
            "overflow_y": null,
            "overflow_x": null,
            "grid_auto_flow": null,
            "grid_area": null,
            "grid_template_columns": null,
            "flex": null,
            "_model_name": "LayoutModel",
            "justify_items": null,
            "grid_row": null,
            "max_height": null,
            "align_content": null,
            "visibility": null,
            "align_self": null,
            "height": null,
            "min_height": null,
            "padding": null,
            "grid_auto_rows": null,
            "grid_gap": null,
            "max_width": null,
            "order": null,
            "_view_module_version": "1.2.0",
            "grid_template_areas": null,
            "object_position": null,
            "object_fit": null,
            "grid_auto_columns": null,
            "margin": null,
            "display": null,
            "left": null
          }
        },
        "dea56fb7a1c2473a9eae3a4861341ccb": {
          "model_module": "@jupyter-widgets/controls",
          "model_name": "ProgressStyleModel",
          "state": {
            "_view_name": "StyleView",
            "_model_name": "ProgressStyleModel",
            "description_width": "",
            "_view_module": "@jupyter-widgets/base",
            "_model_module_version": "1.5.0",
            "_view_count": null,
            "_view_module_version": "1.2.0",
            "bar_color": null,
            "_model_module": "@jupyter-widgets/controls"
          }
        },
        "6bfe53ff51d84e59b8939a63db2a8eab": {
          "model_module": "@jupyter-widgets/base",
          "model_name": "LayoutModel",
          "state": {
            "_view_name": "LayoutView",
            "grid_template_rows": null,
            "right": null,
            "justify_content": null,
            "_view_module": "@jupyter-widgets/base",
            "overflow": null,
            "_model_module_version": "1.2.0",
            "_view_count": null,
            "flex_flow": null,
            "width": null,
            "min_width": null,
            "border": null,
            "align_items": null,
            "bottom": null,
            "_model_module": "@jupyter-widgets/base",
            "top": null,
            "grid_column": null,
            "overflow_y": null,
            "overflow_x": null,
            "grid_auto_flow": null,
            "grid_area": null,
            "grid_template_columns": null,
            "flex": null,
            "_model_name": "LayoutModel",
            "justify_items": null,
            "grid_row": null,
            "max_height": null,
            "align_content": null,
            "visibility": null,
            "align_self": null,
            "height": null,
            "min_height": null,
            "padding": null,
            "grid_auto_rows": null,
            "grid_gap": null,
            "max_width": null,
            "order": null,
            "_view_module_version": "1.2.0",
            "grid_template_areas": null,
            "object_position": null,
            "object_fit": null,
            "grid_auto_columns": null,
            "margin": null,
            "display": null,
            "left": null
          }
        },
        "0be7d320775e459aa5b0700c28588234": {
          "model_module": "@jupyter-widgets/controls",
          "model_name": "VBoxModel",
          "state": {
            "_view_name": "VBoxView",
            "_dom_classes": [],
            "_model_name": "VBoxModel",
            "_view_module": "@jupyter-widgets/controls",
            "_model_module_version": "1.5.0",
            "_view_count": null,
            "_view_module_version": "1.5.0",
            "box_style": "",
            "layout": "IPY_MODEL_c972b02354c44cfebd8f4ac8eefb0f1e",
            "_model_module": "@jupyter-widgets/controls",
            "children": [
              "IPY_MODEL_dca373919b05458693b421a9483b29c7",
              "IPY_MODEL_3dd636191f124ae4b108a1fc8dd0ca92"
            ]
          }
        },
        "c972b02354c44cfebd8f4ac8eefb0f1e": {
          "model_module": "@jupyter-widgets/base",
          "model_name": "LayoutModel",
          "state": {
            "_view_name": "LayoutView",
            "grid_template_rows": null,
            "right": null,
            "justify_content": null,
            "_view_module": "@jupyter-widgets/base",
            "overflow": null,
            "_model_module_version": "1.2.0",
            "_view_count": null,
            "flex_flow": null,
            "width": null,
            "min_width": null,
            "border": null,
            "align_items": null,
            "bottom": null,
            "_model_module": "@jupyter-widgets/base",
            "top": null,
            "grid_column": null,
            "overflow_y": null,
            "overflow_x": null,
            "grid_auto_flow": null,
            "grid_area": null,
            "grid_template_columns": null,
            "flex": null,
            "_model_name": "LayoutModel",
            "justify_items": null,
            "grid_row": null,
            "max_height": null,
            "align_content": null,
            "visibility": null,
            "align_self": null,
            "height": null,
            "min_height": null,
            "padding": null,
            "grid_auto_rows": null,
            "grid_gap": null,
            "max_width": null,
            "order": null,
            "_view_module_version": "1.2.0",
            "grid_template_areas": null,
            "object_position": null,
            "object_fit": null,
            "grid_auto_columns": null,
            "margin": null,
            "display": null,
            "left": null
          }
        },
        "dca373919b05458693b421a9483b29c7": {
          "model_module": "@jupyter-widgets/controls",
          "model_name": "LabelModel",
          "state": {
            "_view_name": "LabelView",
            "style": "IPY_MODEL_6370d23ed17d40fcbebd55e5ff840f71",
            "_dom_classes": [],
            "description": "",
            "_model_name": "LabelModel",
            "placeholder": "​",
            "_view_module": "@jupyter-widgets/controls",
            "_model_module_version": "1.5.0",
            "value": " 68.18MB of 68.18MB uploaded (0.00MB deduped)\r",
            "_view_count": null,
            "_view_module_version": "1.5.0",
            "description_tooltip": null,
            "_model_module": "@jupyter-widgets/controls",
            "layout": "IPY_MODEL_b80138856ff542038b2817f1a051998c"
          }
        },
        "3dd636191f124ae4b108a1fc8dd0ca92": {
          "model_module": "@jupyter-widgets/controls",
          "model_name": "FloatProgressModel",
          "state": {
            "_view_name": "ProgressView",
            "style": "IPY_MODEL_b595fbef019f4e9897c46239932a5473",
            "_dom_classes": [],
            "description": "",
            "_model_name": "FloatProgressModel",
            "bar_style": "",
            "max": 1,
            "_view_module": "@jupyter-widgets/controls",
            "_model_module_version": "1.5.0",
            "value": 1,
            "_view_count": null,
            "_view_module_version": "1.5.0",
            "orientation": "horizontal",
            "min": 0,
            "description_tooltip": null,
            "_model_module": "@jupyter-widgets/controls",
            "layout": "IPY_MODEL_9d74f67d1f664a27958a94fceff49492"
          }
        },
        "6370d23ed17d40fcbebd55e5ff840f71": {
          "model_module": "@jupyter-widgets/controls",
          "model_name": "DescriptionStyleModel",
          "state": {
            "_view_name": "StyleView",
            "_model_name": "DescriptionStyleModel",
            "description_width": "",
            "_view_module": "@jupyter-widgets/base",
            "_model_module_version": "1.5.0",
            "_view_count": null,
            "_view_module_version": "1.2.0",
            "_model_module": "@jupyter-widgets/controls"
          }
        },
        "b80138856ff542038b2817f1a051998c": {
          "model_module": "@jupyter-widgets/base",
          "model_name": "LayoutModel",
          "state": {
            "_view_name": "LayoutView",
            "grid_template_rows": null,
            "right": null,
            "justify_content": null,
            "_view_module": "@jupyter-widgets/base",
            "overflow": null,
            "_model_module_version": "1.2.0",
            "_view_count": null,
            "flex_flow": null,
            "width": null,
            "min_width": null,
            "border": null,
            "align_items": null,
            "bottom": null,
            "_model_module": "@jupyter-widgets/base",
            "top": null,
            "grid_column": null,
            "overflow_y": null,
            "overflow_x": null,
            "grid_auto_flow": null,
            "grid_area": null,
            "grid_template_columns": null,
            "flex": null,
            "_model_name": "LayoutModel",
            "justify_items": null,
            "grid_row": null,
            "max_height": null,
            "align_content": null,
            "visibility": null,
            "align_self": null,
            "height": null,
            "min_height": null,
            "padding": null,
            "grid_auto_rows": null,
            "grid_gap": null,
            "max_width": null,
            "order": null,
            "_view_module_version": "1.2.0",
            "grid_template_areas": null,
            "object_position": null,
            "object_fit": null,
            "grid_auto_columns": null,
            "margin": null,
            "display": null,
            "left": null
          }
        },
        "b595fbef019f4e9897c46239932a5473": {
          "model_module": "@jupyter-widgets/controls",
          "model_name": "ProgressStyleModel",
          "state": {
            "_view_name": "StyleView",
            "_model_name": "ProgressStyleModel",
            "description_width": "",
            "_view_module": "@jupyter-widgets/base",
            "_model_module_version": "1.5.0",
            "_view_count": null,
            "_view_module_version": "1.2.0",
            "bar_color": null,
            "_model_module": "@jupyter-widgets/controls"
          }
        },
        "9d74f67d1f664a27958a94fceff49492": {
          "model_module": "@jupyter-widgets/base",
          "model_name": "LayoutModel",
          "state": {
            "_view_name": "LayoutView",
            "grid_template_rows": null,
            "right": null,
            "justify_content": null,
            "_view_module": "@jupyter-widgets/base",
            "overflow": null,
            "_model_module_version": "1.2.0",
            "_view_count": null,
            "flex_flow": null,
            "width": null,
            "min_width": null,
            "border": null,
            "align_items": null,
            "bottom": null,
            "_model_module": "@jupyter-widgets/base",
            "top": null,
            "grid_column": null,
            "overflow_y": null,
            "overflow_x": null,
            "grid_auto_flow": null,
            "grid_area": null,
            "grid_template_columns": null,
            "flex": null,
            "_model_name": "LayoutModel",
            "justify_items": null,
            "grid_row": null,
            "max_height": null,
            "align_content": null,
            "visibility": null,
            "align_self": null,
            "height": null,
            "min_height": null,
            "padding": null,
            "grid_auto_rows": null,
            "grid_gap": null,
            "max_width": null,
            "order": null,
            "_view_module_version": "1.2.0",
            "grid_template_areas": null,
            "object_position": null,
            "object_fit": null,
            "grid_auto_columns": null,
            "margin": null,
            "display": null,
            "left": null
          }
        },
        "d302420fdaa9419f998623c301703dde": {
          "model_module": "@jupyter-widgets/controls",
          "model_name": "VBoxModel",
          "state": {
            "_view_name": "VBoxView",
            "_dom_classes": [],
            "_model_name": "VBoxModel",
            "_view_module": "@jupyter-widgets/controls",
            "_model_module_version": "1.5.0",
            "_view_count": null,
            "_view_module_version": "1.5.0",
            "box_style": "",
            "layout": "IPY_MODEL_a67a12b11fe1405ba72f5731a5e643ab",
            "_model_module": "@jupyter-widgets/controls",
            "children": [
              "IPY_MODEL_93c086583a1849478ff257ab0fe4ba05",
              "IPY_MODEL_7cdfbdda237948ee91f0eb5d83a9ad70"
            ]
          }
        },
        "a67a12b11fe1405ba72f5731a5e643ab": {
          "model_module": "@jupyter-widgets/base",
          "model_name": "LayoutModel",
          "state": {
            "_view_name": "LayoutView",
            "grid_template_rows": null,
            "right": null,
            "justify_content": null,
            "_view_module": "@jupyter-widgets/base",
            "overflow": null,
            "_model_module_version": "1.2.0",
            "_view_count": null,
            "flex_flow": null,
            "width": null,
            "min_width": null,
            "border": null,
            "align_items": null,
            "bottom": null,
            "_model_module": "@jupyter-widgets/base",
            "top": null,
            "grid_column": null,
            "overflow_y": null,
            "overflow_x": null,
            "grid_auto_flow": null,
            "grid_area": null,
            "grid_template_columns": null,
            "flex": null,
            "_model_name": "LayoutModel",
            "justify_items": null,
            "grid_row": null,
            "max_height": null,
            "align_content": null,
            "visibility": null,
            "align_self": null,
            "height": null,
            "min_height": null,
            "padding": null,
            "grid_auto_rows": null,
            "grid_gap": null,
            "max_width": null,
            "order": null,
            "_view_module_version": "1.2.0",
            "grid_template_areas": null,
            "object_position": null,
            "object_fit": null,
            "grid_auto_columns": null,
            "margin": null,
            "display": null,
            "left": null
          }
        },
        "93c086583a1849478ff257ab0fe4ba05": {
          "model_module": "@jupyter-widgets/controls",
          "model_name": "LabelModel",
          "state": {
            "_view_name": "LabelView",
            "style": "IPY_MODEL_5c70e603e19a43bea8f7b794966dc123",
            "_dom_classes": [],
            "description": "",
            "_model_name": "LabelModel",
            "placeholder": "​",
            "_view_module": "@jupyter-widgets/controls",
            "_model_module_version": "1.5.0",
            "value": " 69.72MB of 69.72MB uploaded (0.00MB deduped)\r",
            "_view_count": null,
            "_view_module_version": "1.5.0",
            "description_tooltip": null,
            "_model_module": "@jupyter-widgets/controls",
            "layout": "IPY_MODEL_978628ae28b1411eb03655af54f60bc9"
          }
        },
        "7cdfbdda237948ee91f0eb5d83a9ad70": {
          "model_module": "@jupyter-widgets/controls",
          "model_name": "FloatProgressModel",
          "state": {
            "_view_name": "ProgressView",
            "style": "IPY_MODEL_7bdc8c6ce2b14f83a6bda2fbdd4ffa77",
            "_dom_classes": [],
            "description": "",
            "_model_name": "FloatProgressModel",
            "bar_style": "",
            "max": 1,
            "_view_module": "@jupyter-widgets/controls",
            "_model_module_version": "1.5.0",
            "value": 1,
            "_view_count": null,
            "_view_module_version": "1.5.0",
            "orientation": "horizontal",
            "min": 0,
            "description_tooltip": null,
            "_model_module": "@jupyter-widgets/controls",
            "layout": "IPY_MODEL_73382b4f94544feba7ca9b78e809da5d"
          }
        },
        "5c70e603e19a43bea8f7b794966dc123": {
          "model_module": "@jupyter-widgets/controls",
          "model_name": "DescriptionStyleModel",
          "state": {
            "_view_name": "StyleView",
            "_model_name": "DescriptionStyleModel",
            "description_width": "",
            "_view_module": "@jupyter-widgets/base",
            "_model_module_version": "1.5.0",
            "_view_count": null,
            "_view_module_version": "1.2.0",
            "_model_module": "@jupyter-widgets/controls"
          }
        },
        "978628ae28b1411eb03655af54f60bc9": {
          "model_module": "@jupyter-widgets/base",
          "model_name": "LayoutModel",
          "state": {
            "_view_name": "LayoutView",
            "grid_template_rows": null,
            "right": null,
            "justify_content": null,
            "_view_module": "@jupyter-widgets/base",
            "overflow": null,
            "_model_module_version": "1.2.0",
            "_view_count": null,
            "flex_flow": null,
            "width": null,
            "min_width": null,
            "border": null,
            "align_items": null,
            "bottom": null,
            "_model_module": "@jupyter-widgets/base",
            "top": null,
            "grid_column": null,
            "overflow_y": null,
            "overflow_x": null,
            "grid_auto_flow": null,
            "grid_area": null,
            "grid_template_columns": null,
            "flex": null,
            "_model_name": "LayoutModel",
            "justify_items": null,
            "grid_row": null,
            "max_height": null,
            "align_content": null,
            "visibility": null,
            "align_self": null,
            "height": null,
            "min_height": null,
            "padding": null,
            "grid_auto_rows": null,
            "grid_gap": null,
            "max_width": null,
            "order": null,
            "_view_module_version": "1.2.0",
            "grid_template_areas": null,
            "object_position": null,
            "object_fit": null,
            "grid_auto_columns": null,
            "margin": null,
            "display": null,
            "left": null
          }
        },
        "7bdc8c6ce2b14f83a6bda2fbdd4ffa77": {
          "model_module": "@jupyter-widgets/controls",
          "model_name": "ProgressStyleModel",
          "state": {
            "_view_name": "StyleView",
            "_model_name": "ProgressStyleModel",
            "description_width": "",
            "_view_module": "@jupyter-widgets/base",
            "_model_module_version": "1.5.0",
            "_view_count": null,
            "_view_module_version": "1.2.0",
            "bar_color": null,
            "_model_module": "@jupyter-widgets/controls"
          }
        },
        "73382b4f94544feba7ca9b78e809da5d": {
          "model_module": "@jupyter-widgets/base",
          "model_name": "LayoutModel",
          "state": {
            "_view_name": "LayoutView",
            "grid_template_rows": null,
            "right": null,
            "justify_content": null,
            "_view_module": "@jupyter-widgets/base",
            "overflow": null,
            "_model_module_version": "1.2.0",
            "_view_count": null,
            "flex_flow": null,
            "width": null,
            "min_width": null,
            "border": null,
            "align_items": null,
            "bottom": null,
            "_model_module": "@jupyter-widgets/base",
            "top": null,
            "grid_column": null,
            "overflow_y": null,
            "overflow_x": null,
            "grid_auto_flow": null,
            "grid_area": null,
            "grid_template_columns": null,
            "flex": null,
            "_model_name": "LayoutModel",
            "justify_items": null,
            "grid_row": null,
            "max_height": null,
            "align_content": null,
            "visibility": null,
            "align_self": null,
            "height": null,
            "min_height": null,
            "padding": null,
            "grid_auto_rows": null,
            "grid_gap": null,
            "max_width": null,
            "order": null,
            "_view_module_version": "1.2.0",
            "grid_template_areas": null,
            "object_position": null,
            "object_fit": null,
            "grid_auto_columns": null,
            "margin": null,
            "display": null,
            "left": null
          }
        },
        "5058d4881f7c41a499f36369b53a9317": {
          "model_module": "@jupyter-widgets/controls",
          "model_name": "VBoxModel",
          "state": {
            "_view_name": "VBoxView",
            "_dom_classes": [],
            "_model_name": "VBoxModel",
            "_view_module": "@jupyter-widgets/controls",
            "_model_module_version": "1.5.0",
            "_view_count": null,
            "_view_module_version": "1.5.0",
            "box_style": "",
            "layout": "IPY_MODEL_71a0fe7d959b45cfa4c9620a5b902d25",
            "_model_module": "@jupyter-widgets/controls",
            "children": [
              "IPY_MODEL_7bd52c2fd6f54b7ba30b7ee2bcfe92c9",
              "IPY_MODEL_b43734905769436691391c1daee6c369"
            ]
          }
        },
        "71a0fe7d959b45cfa4c9620a5b902d25": {
          "model_module": "@jupyter-widgets/base",
          "model_name": "LayoutModel",
          "state": {
            "_view_name": "LayoutView",
            "grid_template_rows": null,
            "right": null,
            "justify_content": null,
            "_view_module": "@jupyter-widgets/base",
            "overflow": null,
            "_model_module_version": "1.2.0",
            "_view_count": null,
            "flex_flow": null,
            "width": null,
            "min_width": null,
            "border": null,
            "align_items": null,
            "bottom": null,
            "_model_module": "@jupyter-widgets/base",
            "top": null,
            "grid_column": null,
            "overflow_y": null,
            "overflow_x": null,
            "grid_auto_flow": null,
            "grid_area": null,
            "grid_template_columns": null,
            "flex": null,
            "_model_name": "LayoutModel",
            "justify_items": null,
            "grid_row": null,
            "max_height": null,
            "align_content": null,
            "visibility": null,
            "align_self": null,
            "height": null,
            "min_height": null,
            "padding": null,
            "grid_auto_rows": null,
            "grid_gap": null,
            "max_width": null,
            "order": null,
            "_view_module_version": "1.2.0",
            "grid_template_areas": null,
            "object_position": null,
            "object_fit": null,
            "grid_auto_columns": null,
            "margin": null,
            "display": null,
            "left": null
          }
        },
        "7bd52c2fd6f54b7ba30b7ee2bcfe92c9": {
          "model_module": "@jupyter-widgets/controls",
          "model_name": "LabelModel",
          "state": {
            "_view_name": "LabelView",
            "style": "IPY_MODEL_6d3d5c77391b4c2a8efcb7d4052f6b05",
            "_dom_classes": [],
            "description": "",
            "_model_name": "LabelModel",
            "placeholder": "​",
            "_view_module": "@jupyter-widgets/controls",
            "_model_module_version": "1.5.0",
            "value": " 85.24MB of 85.24MB uploaded (0.00MB deduped)\r",
            "_view_count": null,
            "_view_module_version": "1.5.0",
            "description_tooltip": null,
            "_model_module": "@jupyter-widgets/controls",
            "layout": "IPY_MODEL_782cc9e97bbf42e29c7b78ae86a7047c"
          }
        },
        "b43734905769436691391c1daee6c369": {
          "model_module": "@jupyter-widgets/controls",
          "model_name": "FloatProgressModel",
          "state": {
            "_view_name": "ProgressView",
            "style": "IPY_MODEL_a855fe3352c1481288677679572eca26",
            "_dom_classes": [],
            "description": "",
            "_model_name": "FloatProgressModel",
            "bar_style": "",
            "max": 1,
            "_view_module": "@jupyter-widgets/controls",
            "_model_module_version": "1.5.0",
            "value": 1,
            "_view_count": null,
            "_view_module_version": "1.5.0",
            "orientation": "horizontal",
            "min": 0,
            "description_tooltip": null,
            "_model_module": "@jupyter-widgets/controls",
            "layout": "IPY_MODEL_736f09c45e034dabaf5fc230e7d93321"
          }
        },
        "6d3d5c77391b4c2a8efcb7d4052f6b05": {
          "model_module": "@jupyter-widgets/controls",
          "model_name": "DescriptionStyleModel",
          "state": {
            "_view_name": "StyleView",
            "_model_name": "DescriptionStyleModel",
            "description_width": "",
            "_view_module": "@jupyter-widgets/base",
            "_model_module_version": "1.5.0",
            "_view_count": null,
            "_view_module_version": "1.2.0",
            "_model_module": "@jupyter-widgets/controls"
          }
        },
        "782cc9e97bbf42e29c7b78ae86a7047c": {
          "model_module": "@jupyter-widgets/base",
          "model_name": "LayoutModel",
          "state": {
            "_view_name": "LayoutView",
            "grid_template_rows": null,
            "right": null,
            "justify_content": null,
            "_view_module": "@jupyter-widgets/base",
            "overflow": null,
            "_model_module_version": "1.2.0",
            "_view_count": null,
            "flex_flow": null,
            "width": null,
            "min_width": null,
            "border": null,
            "align_items": null,
            "bottom": null,
            "_model_module": "@jupyter-widgets/base",
            "top": null,
            "grid_column": null,
            "overflow_y": null,
            "overflow_x": null,
            "grid_auto_flow": null,
            "grid_area": null,
            "grid_template_columns": null,
            "flex": null,
            "_model_name": "LayoutModel",
            "justify_items": null,
            "grid_row": null,
            "max_height": null,
            "align_content": null,
            "visibility": null,
            "align_self": null,
            "height": null,
            "min_height": null,
            "padding": null,
            "grid_auto_rows": null,
            "grid_gap": null,
            "max_width": null,
            "order": null,
            "_view_module_version": "1.2.0",
            "grid_template_areas": null,
            "object_position": null,
            "object_fit": null,
            "grid_auto_columns": null,
            "margin": null,
            "display": null,
            "left": null
          }
        },
        "a855fe3352c1481288677679572eca26": {
          "model_module": "@jupyter-widgets/controls",
          "model_name": "ProgressStyleModel",
          "state": {
            "_view_name": "StyleView",
            "_model_name": "ProgressStyleModel",
            "description_width": "",
            "_view_module": "@jupyter-widgets/base",
            "_model_module_version": "1.5.0",
            "_view_count": null,
            "_view_module_version": "1.2.0",
            "bar_color": null,
            "_model_module": "@jupyter-widgets/controls"
          }
        },
        "736f09c45e034dabaf5fc230e7d93321": {
          "model_module": "@jupyter-widgets/base",
          "model_name": "LayoutModel",
          "state": {
            "_view_name": "LayoutView",
            "grid_template_rows": null,
            "right": null,
            "justify_content": null,
            "_view_module": "@jupyter-widgets/base",
            "overflow": null,
            "_model_module_version": "1.2.0",
            "_view_count": null,
            "flex_flow": null,
            "width": null,
            "min_width": null,
            "border": null,
            "align_items": null,
            "bottom": null,
            "_model_module": "@jupyter-widgets/base",
            "top": null,
            "grid_column": null,
            "overflow_y": null,
            "overflow_x": null,
            "grid_auto_flow": null,
            "grid_area": null,
            "grid_template_columns": null,
            "flex": null,
            "_model_name": "LayoutModel",
            "justify_items": null,
            "grid_row": null,
            "max_height": null,
            "align_content": null,
            "visibility": null,
            "align_self": null,
            "height": null,
            "min_height": null,
            "padding": null,
            "grid_auto_rows": null,
            "grid_gap": null,
            "max_width": null,
            "order": null,
            "_view_module_version": "1.2.0",
            "grid_template_areas": null,
            "object_position": null,
            "object_fit": null,
            "grid_auto_columns": null,
            "margin": null,
            "display": null,
            "left": null
          }
        },
        "c58f9d3602114cdabd16df603e0e633e": {
          "model_module": "@jupyter-widgets/controls",
          "model_name": "VBoxModel",
          "state": {
            "_view_name": "VBoxView",
            "_dom_classes": [],
            "_model_name": "VBoxModel",
            "_view_module": "@jupyter-widgets/controls",
            "_model_module_version": "1.5.0",
            "_view_count": null,
            "_view_module_version": "1.5.0",
            "box_style": "",
            "layout": "IPY_MODEL_de83a1a9dbb040f3a69a9b87ec6f0d89",
            "_model_module": "@jupyter-widgets/controls",
            "children": [
              "IPY_MODEL_ad2e90802e9441a1a8ba198cc5518995",
              "IPY_MODEL_79902104b479436cafe3f048e42a560b"
            ]
          }
        },
        "de83a1a9dbb040f3a69a9b87ec6f0d89": {
          "model_module": "@jupyter-widgets/base",
          "model_name": "LayoutModel",
          "state": {
            "_view_name": "LayoutView",
            "grid_template_rows": null,
            "right": null,
            "justify_content": null,
            "_view_module": "@jupyter-widgets/base",
            "overflow": null,
            "_model_module_version": "1.2.0",
            "_view_count": null,
            "flex_flow": null,
            "width": null,
            "min_width": null,
            "border": null,
            "align_items": null,
            "bottom": null,
            "_model_module": "@jupyter-widgets/base",
            "top": null,
            "grid_column": null,
            "overflow_y": null,
            "overflow_x": null,
            "grid_auto_flow": null,
            "grid_area": null,
            "grid_template_columns": null,
            "flex": null,
            "_model_name": "LayoutModel",
            "justify_items": null,
            "grid_row": null,
            "max_height": null,
            "align_content": null,
            "visibility": null,
            "align_self": null,
            "height": null,
            "min_height": null,
            "padding": null,
            "grid_auto_rows": null,
            "grid_gap": null,
            "max_width": null,
            "order": null,
            "_view_module_version": "1.2.0",
            "grid_template_areas": null,
            "object_position": null,
            "object_fit": null,
            "grid_auto_columns": null,
            "margin": null,
            "display": null,
            "left": null
          }
        },
        "ad2e90802e9441a1a8ba198cc5518995": {
          "model_module": "@jupyter-widgets/controls",
          "model_name": "LabelModel",
          "state": {
            "_view_name": "LabelView",
            "style": "IPY_MODEL_15c7e4409d3f4ce4834d8c45c4236ea8",
            "_dom_classes": [],
            "description": "",
            "_model_name": "LabelModel",
            "placeholder": "​",
            "_view_module": "@jupyter-widgets/controls",
            "_model_module_version": "1.5.0",
            "value": " 77.00MB of 77.00MB uploaded (0.00MB deduped)\r",
            "_view_count": null,
            "_view_module_version": "1.5.0",
            "description_tooltip": null,
            "_model_module": "@jupyter-widgets/controls",
            "layout": "IPY_MODEL_c5ee8af1ee0840b8b4817a0367ce769c"
          }
        },
        "79902104b479436cafe3f048e42a560b": {
          "model_module": "@jupyter-widgets/controls",
          "model_name": "FloatProgressModel",
          "state": {
            "_view_name": "ProgressView",
            "style": "IPY_MODEL_ef79a92fbf1f4b898b0dde044c26f65e",
            "_dom_classes": [],
            "description": "",
            "_model_name": "FloatProgressModel",
            "bar_style": "",
            "max": 1,
            "_view_module": "@jupyter-widgets/controls",
            "_model_module_version": "1.5.0",
            "value": 1,
            "_view_count": null,
            "_view_module_version": "1.5.0",
            "orientation": "horizontal",
            "min": 0,
            "description_tooltip": null,
            "_model_module": "@jupyter-widgets/controls",
            "layout": "IPY_MODEL_9da1510069814624b62a2ddd02679c60"
          }
        },
        "15c7e4409d3f4ce4834d8c45c4236ea8": {
          "model_module": "@jupyter-widgets/controls",
          "model_name": "DescriptionStyleModel",
          "state": {
            "_view_name": "StyleView",
            "_model_name": "DescriptionStyleModel",
            "description_width": "",
            "_view_module": "@jupyter-widgets/base",
            "_model_module_version": "1.5.0",
            "_view_count": null,
            "_view_module_version": "1.2.0",
            "_model_module": "@jupyter-widgets/controls"
          }
        },
        "c5ee8af1ee0840b8b4817a0367ce769c": {
          "model_module": "@jupyter-widgets/base",
          "model_name": "LayoutModel",
          "state": {
            "_view_name": "LayoutView",
            "grid_template_rows": null,
            "right": null,
            "justify_content": null,
            "_view_module": "@jupyter-widgets/base",
            "overflow": null,
            "_model_module_version": "1.2.0",
            "_view_count": null,
            "flex_flow": null,
            "width": null,
            "min_width": null,
            "border": null,
            "align_items": null,
            "bottom": null,
            "_model_module": "@jupyter-widgets/base",
            "top": null,
            "grid_column": null,
            "overflow_y": null,
            "overflow_x": null,
            "grid_auto_flow": null,
            "grid_area": null,
            "grid_template_columns": null,
            "flex": null,
            "_model_name": "LayoutModel",
            "justify_items": null,
            "grid_row": null,
            "max_height": null,
            "align_content": null,
            "visibility": null,
            "align_self": null,
            "height": null,
            "min_height": null,
            "padding": null,
            "grid_auto_rows": null,
            "grid_gap": null,
            "max_width": null,
            "order": null,
            "_view_module_version": "1.2.0",
            "grid_template_areas": null,
            "object_position": null,
            "object_fit": null,
            "grid_auto_columns": null,
            "margin": null,
            "display": null,
            "left": null
          }
        },
        "ef79a92fbf1f4b898b0dde044c26f65e": {
          "model_module": "@jupyter-widgets/controls",
          "model_name": "ProgressStyleModel",
          "state": {
            "_view_name": "StyleView",
            "_model_name": "ProgressStyleModel",
            "description_width": "",
            "_view_module": "@jupyter-widgets/base",
            "_model_module_version": "1.5.0",
            "_view_count": null,
            "_view_module_version": "1.2.0",
            "bar_color": null,
            "_model_module": "@jupyter-widgets/controls"
          }
        },
        "9da1510069814624b62a2ddd02679c60": {
          "model_module": "@jupyter-widgets/base",
          "model_name": "LayoutModel",
          "state": {
            "_view_name": "LayoutView",
            "grid_template_rows": null,
            "right": null,
            "justify_content": null,
            "_view_module": "@jupyter-widgets/base",
            "overflow": null,
            "_model_module_version": "1.2.0",
            "_view_count": null,
            "flex_flow": null,
            "width": null,
            "min_width": null,
            "border": null,
            "align_items": null,
            "bottom": null,
            "_model_module": "@jupyter-widgets/base",
            "top": null,
            "grid_column": null,
            "overflow_y": null,
            "overflow_x": null,
            "grid_auto_flow": null,
            "grid_area": null,
            "grid_template_columns": null,
            "flex": null,
            "_model_name": "LayoutModel",
            "justify_items": null,
            "grid_row": null,
            "max_height": null,
            "align_content": null,
            "visibility": null,
            "align_self": null,
            "height": null,
            "min_height": null,
            "padding": null,
            "grid_auto_rows": null,
            "grid_gap": null,
            "max_width": null,
            "order": null,
            "_view_module_version": "1.2.0",
            "grid_template_areas": null,
            "object_position": null,
            "object_fit": null,
            "grid_auto_columns": null,
            "margin": null,
            "display": null,
            "left": null
          }
        }
      }
    }
  },
  "cells": [
    {
      "cell_type": "markdown",
      "metadata": {
        "id": "5ZTX7iHiPQXT"
      },
      "source": [
        "**IMPORT REQUIRED LIBRARIES**"
      ]
    },
    {
      "cell_type": "code",
      "metadata": {
        "id": "5OlH8H6Dgseh"
      },
      "source": [
        "import tensorflow as tf\n",
        "from tensorflow import keras\n",
        "from tensorflow.keras import layers\n",
        "from tensorflow.keras.models import Sequential\n",
        "import matplotlib.pyplot as plt\n",
        "import numpy as np\n",
        "import os\n",
        "import PIL\n",
        "import cv2\n",
        "import pathlib\n",
        "import glob\n",
        "import shutil\n",
        "import os\n",
        "import random"
      ],
      "execution_count": 1,
      "outputs": []
    },
    {
      "cell_type": "markdown",
      "metadata": {
        "id": "2owBTh1XPWuP"
      },
      "source": [
        "**CONNECTING TO WANDB**"
      ]
    },
    {
      "cell_type": "code",
      "metadata": {
        "id": "crwiwHucLS08",
        "colab": {
          "base_uri": "https://localhost:8080/"
        },
        "outputId": "28f4a9b0-b2b4-40ab-beca-316679d2facf"
      },
      "source": [
        "#---------------------------------------install and import wandb -------------------------------------------------\n",
        "!pip install wandb -qqq\n",
        "import wandb\n",
        "from wandb.keras import WandbCallback"
      ],
      "execution_count": 2,
      "outputs": [
        {
          "output_type": "stream",
          "text": [
            "\u001b[K     |████████████████████████████████| 2.1MB 8.1MB/s \n",
            "\u001b[K     |████████████████████████████████| 163kB 46.2MB/s \n",
            "\u001b[K     |████████████████████████████████| 133kB 35.3MB/s \n",
            "\u001b[K     |████████████████████████████████| 102kB 12.2MB/s \n",
            "\u001b[K     |████████████████████████████████| 71kB 10.8MB/s \n",
            "\u001b[?25h  Building wheel for pathtools (setup.py) ... \u001b[?25l\u001b[?25hdone\n",
            "  Building wheel for subprocess32 (setup.py) ... \u001b[?25l\u001b[?25hdone\n"
          ],
          "name": "stdout"
        }
      ]
    },
    {
      "cell_type": "code",
      "metadata": {
        "id": "egDsuCfTLWzv",
        "colab": {
          "base_uri": "https://localhost:8080/"
        },
        "outputId": "2913e669-2260-464e-b159-4bae28f5519c"
      },
      "source": [
        "#--------------------------------------------login to wandb --------------------------------------------\n",
        "!wandb login"
      ],
      "execution_count": 3,
      "outputs": [
        {
          "output_type": "stream",
          "text": [
            "\u001b[34m\u001b[1mwandb\u001b[0m: You can find your API key in your browser here: https://wandb.ai/authorize\n",
            "\u001b[34m\u001b[1mwandb\u001b[0m: Paste an API key from your profile and hit enter: \n",
            "\u001b[34m\u001b[1mwandb\u001b[0m: Appending key for api.wandb.ai to your netrc file: /root/.netrc\n"
          ],
          "name": "stdout"
        }
      ]
    },
    {
      "cell_type": "code",
      "metadata": {
        "colab": {
          "base_uri": "https://localhost:8080/"
        },
        "id": "STMGDOBCguDe",
        "outputId": "01ebb2e8-523a-4b98-df7e-4f40fe1779b5"
      },
      "source": [
        "#--------------------------------caution: terminal commands ---------------------------------------------\n",
        "%cd\n",
        "%cd .keras/datasets/\n",
        "!rm -r *"
      ],
      "execution_count": 4,
      "outputs": [
        {
          "output_type": "stream",
          "text": [
            "/root\n",
            "[Errno 2] No such file or directory: '.keras/datasets/'\n",
            "/root\n",
            "rm: cannot remove '*': No such file or directory\n"
          ],
          "name": "stdout"
        }
      ]
    },
    {
      "cell_type": "code",
      "metadata": {
        "colab": {
          "base_uri": "https://localhost:8080/"
        },
        "id": "kExxbfhyguAW",
        "outputId": "aad7fffc-b70a-48d8-f6e2-44ce768e9ddd"
      },
      "source": [
        "########################################### download data from given url ###############################################\n",
        "\n",
        "dataset_url = \"https://storage.googleapis.com/gresearch/dakshina/dakshina_dataset_v1.0.tar\"\n",
        "data_dir = tf.keras.utils.get_file('dakshina_dataset_v1.0', origin=dataset_url, untar=True)"
      ],
      "execution_count": 5,
      "outputs": [
        {
          "output_type": "stream",
          "text": [
            "Downloading data from https://storage.googleapis.com/gresearch/dakshina/dakshina_dataset_v1.0.tar\n",
            "2008342528/2008340480 [==============================] - 22s 0us/step\n"
          ],
          "name": "stdout"
        }
      ]
    },
    {
      "cell_type": "code",
      "metadata": {
        "colab": {
          "base_uri": "https://localhost:8080/"
        },
        "id": "FsOhKufxgt7-",
        "outputId": "7628724f-e19a-42b8-df7f-dafc95169442"
      },
      "source": [
        "#----------------------------------terminal command -----------------------------------------------\n",
        "%cd /root/.keras/datasets/dakshina_dataset_v1.0/hi/lexicons/\n",
        "!ls"
      ],
      "execution_count": 6,
      "outputs": [
        {
          "output_type": "stream",
          "text": [
            "/root/.keras/datasets/dakshina_dataset_v1.0/hi/lexicons\n",
            "hi.translit.sampled.dev.tsv   hi.translit.sampled.train.tsv\n",
            "hi.translit.sampled.test.tsv\n"
          ],
          "name": "stdout"
        }
      ]
    },
    {
      "cell_type": "code",
      "metadata": {
        "id": "zxSiYbw8hpcH"
      },
      "source": [
        "train_data_path = \"hi.translit.sampled.train.tsv\"\n",
        "test_data_path = \"hi.translit.sampled.test.tsv\"\n",
        "validation_data_path = \"hi.translit.sampled.dev.tsv\""
      ],
      "execution_count": 7,
      "outputs": []
    },
    {
      "cell_type": "markdown",
      "metadata": {
        "id": "N82OZs3TNcLK"
      },
      "source": [
        "\n",
        "**MACHINE TRANSLITERATOR**\n"
      ]
    },
    {
      "cell_type": "code",
      "metadata": {
        "id": "XYsd6Xetg7dv"
      },
      "source": [
        "class Machine_Transliterator():\n",
        "\n",
        "  ############################################# constructor for class Machine_Transliterator ##########################################\n",
        "\n",
        "  def __init__(self,max_encoder_seq_length,max_decoder_seq_length,encoder_embed_size, decoder_embed_size,\n",
        "               num_encoder_layers,num_decoder_layers,epochs, hidden_layer_size,\n",
        "               num_encoder_tokens, cell_type, num_decoder_tokens,input_token_index, target_token_index, \n",
        "               activation=\"softmax\",optimizer=\"rmsprop\",dropout=0.05):\n",
        "    \n",
        "    self.cell_type= cell_type\n",
        "    self.hidden_layer_size = hidden_layer_size  \n",
        "    self.optimizer = optimizer\n",
        "    self.activation = activation   \n",
        "    self.dropout=dropout\n",
        "\n",
        "    #-------------------------------------- Number of hidden layers -------------------------------------\n",
        "\n",
        "    self.num_encoder_layers = num_encoder_layers\n",
        "    self.num_decoder_layers=num_decoder_layers\n",
        "\n",
        "    #-------------------------------------- sequence length -------------------------------------\n",
        "    self.max_decoder_seq_length=max_decoder_seq_length\n",
        "    self.max_encoder_seq_length=max_encoder_seq_length\n",
        "\n",
        "    #---------------------------------------------Embedding size-------------------------------------\n",
        "    self.encoder_embed_size = encoder_embed_size\n",
        "    self.decoder_embed_size = decoder_embed_size\n",
        "    \n",
        "    #-----------------information obtained after preprocessing of data-------------------------------------\n",
        "    self.num_encoder_tokens = num_encoder_tokens\n",
        "    self.num_decoder_tokens = num_decoder_tokens\n",
        "\n",
        "    #-----------------------------dictionaries----------------------------------------------------\n",
        "    self.input_token_index = input_token_index\n",
        "    self.target_token_index = target_token_index\n",
        "\n",
        " \n",
        "\n",
        "\n",
        "#########################################function to build model ###########################################\n",
        "\n",
        "  def build_model(self):\n",
        "\n",
        "    \n",
        "    # encoder_inputs = keras.Input(shape=(None,))  \n",
        "    encoder_inputs = keras.Input(shape=(self.max_encoder_seq_length,)) \n",
        "    # encoder_embedding_output = tf.keras.layers.Embedding(self.num_encoder_tokens, self.encoder_embed_size)(encoder_inputs)\n",
        "    encoder_embedding_output = tf.keras.layers.Embedding(input_dim = self.num_encoder_tokens, output_dim = self.encoder_embed_size)(encoder_inputs)\n",
        "\n",
        "\n",
        "#------------------------------ if cell type = LSTM -------------------------------------------------------------\n",
        "    if self.cell_type == \"lstm\":\n",
        "     #--------------------- encoder -----------------------------------\n",
        "      encoder = keras.layers.LSTM(self.hidden_layer_size, return_state=True,return_sequences=True,dropout=self.dropout,use_bias=True)\n",
        "      encoder_outputs, state_h, state_c = encoder(encoder_embedding_output)\n",
        "      for i in range(1,self.num_encoder_layers):\n",
        "        encoder = keras.layers.LSTM(self.hidden_layer_size, return_state=True,return_sequences=True,dropout=self.dropout,use_bias=True)\n",
        "        encoder_outputs, state_h, state_c = encoder(encoder_outputs)\n",
        "      encoder_states = [state_h, state_c]\n",
        "\n",
        "      #---------------------------decoder ---------------------------------------------------\n",
        "      decoder_inputs = keras.Input(shape=(self.max_decoder_seq_length, ))      \n",
        "      # decoder_embedding_output = tf.keras.layers.Embedding(self.num_decoder_tokens, self.decoder_embed_size)(decoder_inputs)\n",
        "      decoder_embedding_output = tf.keras.layers.Embedding(input_dim = self.num_decoder_tokens, output_dim = self.decoder_embed_size)(decoder_inputs)\n",
        "\n",
        "      decoder = keras.layers.LSTM(self.hidden_layer_size, return_sequences=True, return_state=True,dropout=self.dropout,use_bias=True)\n",
        "      decoder_outputs, _, _= decoder(decoder_embedding_output, initial_state = encoder_states)\n",
        "      for i in range(1,self.num_decoder_layers):\n",
        "        decoder = keras.layers.LSTM(self.hidden_layer_size, return_state=True,return_sequences=True,dropout=self.dropout,use_bias=True)\n",
        "        decoder_outputs, _ , _= decoder(decoder_outputs, initial_state = encoder_states)\n",
        "\n",
        "\n",
        "\n",
        "#------------------------------ if cell type = Simple RNN -------------------------------------------------------------\n",
        "    elif self.cell_type == \"rnn\":\n",
        "      #--------------------- encoder -----------------------------------\n",
        "      encoder = keras.layers.SimpleRNN(self.hidden_layer_size, return_state=True,return_sequences=True,dropout=self.dropout, use_bias=True)\n",
        "      encoder_outputs, state = encoder(encoder_embedding_output)\n",
        "      for i in range(1,self.num_encoder_layers):\n",
        "        encoder = keras.layers.SimpleRNN(self.hidden_layer_size, return_state=True,return_sequences=True,dropout=self.dropout, use_bias=True)\n",
        "        encoder_outputs, state = encoder(encoder_outputs)\n",
        "      encoder_states = [state]\n",
        "\n",
        "      #---------------------------decoder ---------------------------------------------------\n",
        "      decoder_inputs = keras.Input(shape=(self.max_decoder_seq_length,))      \n",
        "      # decoder_embedding_output = tf.keras.layers.Embedding(self.num_decoder_tokens, self.decoder_embed_size)(decoder_inputs)\n",
        "      decoder_embedding_output = tf.keras.layers.Embedding(input_dim = self.num_decoder_tokens, output_dim = self.decoder_embed_size)(decoder_inputs)\n",
        "\n",
        "      decoder = keras.layers.SimpleRNN(self.hidden_layer_size, return_state=True,return_sequences=True, dropout=self.dropout, use_bias=True)\n",
        "      decoder_outputs, _ = decoder(decoder_embedding_output, initial_state = encoder_states)\n",
        "      for i in range(1,self.num_decoder_layers):\n",
        "        decoder = keras.layers.SimpleRNN(self.hidden_layer_size, return_state=True,return_sequences=True, dropout=self.dropout, use_bias=True)\n",
        "        decoder_outputs, _= decoder(decoder_outputs, initial_state = encoder_states)\n",
        "\n",
        "\n",
        "\n",
        "#------------------------------ if cell type = GRU -------------------------------------------------------------\n",
        "    elif self.cell_type == \"gru\":\n",
        "      #--------------------- encoder -----------------------------------\n",
        "      encoder = keras.layers.GRU(self.hidden_layer_size, return_state=True,return_sequences=True,dropout=self.dropout,use_bias=True)\n",
        "      encoder_outputs, state = encoder(encoder_embedding_output)\n",
        "      for i in range(1,self.num_encoder_layers):\n",
        "        encoder = keras.layers.GRU(self.hidden_layer_size, return_state=True,return_sequences=True,dropout=self.dropout,use_bias=True)\n",
        "        encoder_outputs, state = encoder(encoder_outputs)\n",
        "      encoder_states = [state]\n",
        "\n",
        "      #---------------------------decoder ---------------------------------------------------\n",
        "      decoder_inputs = keras.Input(shape=(self.max_decoder_seq_length, ))      \n",
        "      # decoder_embedding_output = tf.keras.layers.Embedding(self.num_decoder_tokens, self.decoder_embed_size)(decoder_inputs)\n",
        "      decoder_embedding_output = tf.keras.layers.Embedding(input_dim = self.num_decoder_tokens, output_dim = self.decoder_embed_size)(decoder_inputs)\n",
        "      \n",
        "      decoder = keras.layers.GRU(self.hidden_layer_size, return_state=True,return_sequences=True, dropout=self.dropout,use_bias=True)\n",
        "      decoder_outputs, _ = decoder(decoder_embedding_output, initial_state = encoder_states)\n",
        "      for i in range(1,self.num_decoder_layers):\n",
        "        decoder = keras.layers.GRU(self.hidden_layer_size, return_state=True,return_sequences=True,dropout=self.dropout,use_bias=True)\n",
        "        decoder_outputs, _ = decoder(decoder_outputs, initial_state = encoder_states)\n",
        "\n",
        "\n",
        "    decoder_dense = keras.layers.Dense(self.num_decoder_tokens, activation = self.activation,use_bias=True)\n",
        "    decoder_outputs = decoder_dense(decoder_outputs)\n",
        "    model = keras.Model([encoder_inputs, decoder_inputs], decoder_outputs)\n",
        "    \n",
        "    #-----------------compile the model -------------------------------------\n",
        "    model.compile(\n",
        "         optimizer=self.optimizer,\n",
        "         loss=\"categorical_crossentropy\",\n",
        "         metrics=[\"accuracy\"]\n",
        "         ) \n",
        "\n",
        "#-------------------------- return final model ---------------------------------------------------------\n",
        "    return model\n",
        "\n",
        "\n",
        "\n",
        "\n",
        "\n",
        "#########################################function for training the model ###########################################\n",
        "\n",
        "  def train_model(self,encoder_input_data,decoder_input_data,decoder_target_data,epochs,batch_size,\n",
        "                  val_encoder_input_data, val_decoder_input_data, val_decoder_target_data):\n",
        "    \n",
        "     model=self.build_model()\n",
        "  \n",
        "     model.fit(\n",
        "        [encoder_input_data, decoder_input_data],\n",
        "        decoder_target_data,\n",
        "        batch_size = batch_size,\n",
        "        epochs = epochs,\n",
        "        validation_data = ([val_encoder_input_data, val_decoder_input_data],val_decoder_target_data),\n",
        "        callbacks=[WandbCallback()]\n",
        "        )\n",
        "     return model\n",
        "\n",
        "#===================================== end of class Machine_Transliterator ==========================================\n",
        "\n"
      ],
      "execution_count": 8,
      "outputs": []
    },
    {
      "cell_type": "markdown",
      "metadata": {
        "id": "NR4rOYbMVIUZ"
      },
      "source": [
        "**PARAMETERS**"
      ]
    },
    {
      "cell_type": "code",
      "metadata": {
        "id": "llXj7Z6LSnMz"
      },
      "source": [
        "cell_type = \"gru\" # Type of the recurring unit\n",
        "batch_size = 64  # Batch size for training.\n",
        "epochs = 20  # Number of epochs to train for.\n",
        "hidden_layer_size= 128  # Latent dimensionality of the encoding space.\n",
        "num_samples = 10000  # Number of samples to train on.\n",
        "activation = \"softmax\" #activation\n",
        "# optimizer = \"Adam\"  #optimizer\n",
        "encoder_embed_size = 32 #Encoder embedsize\n",
        "decoder_embed_size = 32 #Decoder embedsize\n",
        "num_encoder_layers=3  # number of hidden layers in encoder\n",
        "num_decoder_layers=3   # number of hidden layers in decoder\n",
        "dropout=0.01#Dropout"
      ],
      "execution_count": 9,
      "outputs": []
    },
    {
      "cell_type": "code",
      "metadata": {
        "id": "0ha8UrQBbCZ2"
      },
      "source": [
        "lr_schedule = keras.optimizers.schedules.ExponentialDecay(initial_learning_rate = 1e-2, decay_steps = 140, decay_rate = 0.9)\n",
        "lr_schedule = (tf.keras.experimental.CosineDecayRestarts(1e-3, 1000))\n",
        "\n",
        "optimizer = keras.optimizers.Adam(learning_rate=lr_schedule)"
      ],
      "execution_count": 10,
      "outputs": []
    },
    {
      "cell_type": "markdown",
      "metadata": {
        "id": "JH8MZK3IPERe"
      },
      "source": [
        "**PREPROCESSING THE DATA**"
      ]
    },
    {
      "cell_type": "code",
      "metadata": {
        "colab": {
          "base_uri": "https://localhost:8080/"
        },
        "id": "gvfzmfwCfIaQ",
        "outputId": "f990af95-48ad-47c7-a909-04256836e24c"
      },
      "source": [
        "################################################ preprocessing the train data and getting dictionaries #################################################\n",
        "\n",
        "input_texts = []\n",
        "target_texts = []\n",
        "input_characters = set()\n",
        "target_characters = set()\n",
        "with open(train_data_path, \"r\", encoding=\"utf-8\") as f:\n",
        "    lines = f.read().split(\"\\n\")\n",
        "for line in lines[: min(num_samples, len(lines) - 1)]:\n",
        "    target_text, input_text, _ = line.split(\"\\t\")\n",
        "    # We use \"tab\" as the \"start sequence\" character\n",
        "    # for the targets, and \"\\n\" as \"end sequence\" character.\n",
        "    input_text = \" \" + input_text + \" \"\n",
        "    target_text = \" \" + target_text + \" \"\n",
        "\n",
        "    input_texts.append(input_text)\n",
        "    target_texts.append(target_text)\n",
        "    for char in input_text:\n",
        "        if char not in input_characters:\n",
        "            input_characters.add(char)\n",
        "    for char in target_text:\n",
        "        if char not in target_characters:\n",
        "            target_characters.add(char)\n",
        "\n",
        "input_characters = sorted(list(input_characters))\n",
        "target_characters = sorted(list(target_characters))\n",
        "num_encoder_tokens = len(input_characters)\n",
        "num_decoder_tokens = len(target_characters)\n",
        "max_encoder_seq_length = max([len(txt) for txt in input_texts])\n",
        "max_decoder_seq_length = max([len(txt) for txt in target_texts])\n",
        "\n",
        "print(\"Number of samples:\", len(input_texts))\n",
        "print(\"Number of unique input tokens:\", num_encoder_tokens)\n",
        "print(\"Number of unique output tokens:\", num_decoder_tokens)\n",
        "print(\"Max sequence length for inputs:\", max_encoder_seq_length)\n",
        "print(\"Max sequence length for outputs:\", max_decoder_seq_length)\n",
        "\n",
        "input_token_index = dict([(char, i) for i, char in enumerate(input_characters)])\n",
        "target_token_index = dict([(char, i) for i, char in enumerate(target_characters)])\n"
      ],
      "execution_count": 11,
      "outputs": [
        {
          "output_type": "stream",
          "text": [
            "Number of samples: 10000\n",
            "Number of unique input tokens: 27\n",
            "Number of unique output tokens: 62\n",
            "Max sequence length for inputs: 20\n",
            "Max sequence length for outputs: 20\n"
          ],
          "name": "stdout"
        }
      ]
    },
    {
      "cell_type": "code",
      "metadata": {
        "id": "uwabsoFRVSTZ"
      },
      "source": [
        "################################################ preparing the data in required format #################################################\n",
        "\n",
        "def data(path,input_token_index,target_token_index):\n",
        "  input_texts = []\n",
        "  target_texts = []\n",
        "  with open(path, \"r\", encoding=\"utf-8\") as f:\n",
        "      lines = f.read().split(\"\\n\")\n",
        "  for line in lines[: min(num_samples, len(lines) - 1)]:\n",
        "      target_text, input_text, _ = line.split(\"\\t\")\n",
        "      # We use \"tab\" as the \"start sequence\" character\n",
        "      # for the targets, and \"\\n\" as \"end sequence\" character.\n",
        "      input_text = \" \" + input_text + \" \"\n",
        "      target_text = \" \" + target_text + \" \"\n",
        "\n",
        "      input_texts.append(input_text)\n",
        "      target_texts.append(target_text)\n",
        "\n",
        "  encoder_input_data = np.zeros( (len(input_texts), max_encoder_seq_length), dtype=\"float32\")\n",
        "  decoder_input_data = np.zeros( (len(input_texts), max_decoder_seq_length), dtype=\"float32\")\n",
        "  decoder_target_data = np.zeros((len(input_texts), max_decoder_seq_length, num_decoder_tokens), dtype=\"float32\")\n",
        "\n",
        "  for i, (input_text, target_text) in enumerate(zip(input_texts, target_texts)):\n",
        "      for t, char in enumerate(input_text):\n",
        "          encoder_input_data[i, t] = input_token_index[char]\n",
        "      encoder_input_data[i, t + 1 :] = input_token_index[\" \"]\n",
        "      for t, char in enumerate(target_text):\n",
        "          # decoder_target_data is ahead of decoder_input_data by one timestep\n",
        "          decoder_input_data[i, t] = target_token_index[char]\n",
        "          if t > 0:\n",
        "              # decoder_target_data will be ahead by one timestep\n",
        "              # and will not include the start character.\n",
        "              decoder_target_data[i, t - 1, target_token_index[char]] = 1.0\n",
        "      decoder_input_data[i, t + 1 :] = target_token_index[\" \"]\n",
        "      decoder_target_data[i, t:, target_token_index[\" \"]] = 1.0\n",
        "    \n",
        "  return (encoder_input_data, decoder_input_data, decoder_target_data)"
      ],
      "execution_count": 12,
      "outputs": []
    },
    {
      "cell_type": "code",
      "metadata": {
        "id": "9kqhAhcecgpX"
      },
      "source": [
        "(encoder_input_data,decoder_input_data,decoder_target_data)=data(train_data_path,input_token_index,target_token_index)\n",
        "(val_encoder_input_data,val_decoder_input_data,val_decoder_target_data)=data(validation_data_path ,input_token_index,target_token_index)"
      ],
      "execution_count": 13,
      "outputs": []
    },
    {
      "cell_type": "markdown",
      "metadata": {
        "id": "eWh3rwRTcDuT"
      },
      "source": [
        "**CREATING MACHINE TRANSLITERATOR**"
      ]
    },
    {
      "cell_type": "code",
      "metadata": {
        "id": "oeEXyTYcg7bF"
      },
      "source": [
        "# ########################### creating machine transliterator object ###############################\n",
        "# machine = Machine_Transliterator(\n",
        "#     max_encoder_seq_length,max_decoder_seq_length,encoder_embed_size, \n",
        "#     decoder_embed_size,num_encoder_layers,num_decoder_layers,\n",
        "#     batch_size, hidden_layer_size, num_encoder_tokens, cell_type, num_decoder_tokens, \n",
        "#      input_token_index,target_token_index, activation, optimizer,dropout\n",
        "#     )"
      ],
      "execution_count": 14,
      "outputs": []
    },
    {
      "cell_type": "code",
      "metadata": {
        "id": "V08XzQ8qcmYx"
      },
      "source": [
        "# print(encoder_input_data.shape)\n",
        "# print(decoder_input_data.shape)\n",
        "# print(decoder_target_data.shape)\n",
        "# print(v_encoder_input_data.shape)\n",
        "# print(v_decoder_input_data.shape)\n",
        "# print(v_decoder_target_data.shape)"
      ],
      "execution_count": 15,
      "outputs": []
    },
    {
      "cell_type": "markdown",
      "metadata": {
        "id": "TJlX41fVRs1x"
      },
      "source": [
        "**TRAINING**\n",
        "\n"
      ]
    },
    {
      "cell_type": "code",
      "metadata": {
        "id": "-UQyh8rmdkM8"
      },
      "source": [
        "# model = machine.train_model(\n",
        "#     encoder_input_data, decoder_input_data,decoder_target_data,epochs,batch_size,\n",
        "#     v_encoder_input_data, v_decoder_input_data, v_decoder_target_data\n",
        "#     )"
      ],
      "execution_count": 16,
      "outputs": []
    },
    {
      "cell_type": "code",
      "metadata": {
        "id": "XF13lTHNKOoQ"
      },
      "source": [
        "# tf.keras.utils.plot_model(model,to_file='model.png',show_shapes=True)"
      ],
      "execution_count": 17,
      "outputs": []
    },
    {
      "cell_type": "code",
      "metadata": {
        "id": "iGyQpSk4zd0V"
      },
      "source": [
        "cell_type = [\"lstm\",\"rnn\",\"gru\"]\n",
        "batch_size = [16,32,64,128]  # Batch size for training.\n",
        "epochs = [10,20,30,50]  # Number of epochs to train for.\n",
        "hidden_layer_size= [128,256,512]  # Latent dimensionality of the encoding space.\n",
        "activation = \"softmax\"\n",
        "optimizer = \"Adam\"\n",
        "num_hidden_layers=[2,5,10]\n",
        "encoder_embed_size = [27,64] #Encoder embedsize\n",
        "decoder_embed_size = [27,64] #Decoder embedsize\n",
        "num_encoder_layers=[1,2,3,4]  # number of hidden layers in encoder\n",
        "num_decoder_layers=[1,2,3,4]    # number of hidden layers in decoder\n",
        "dropout=[0.00,0.01, 0.5,0.0001] #Dropout"
      ],
      "execution_count": 18,
      "outputs": []
    },
    {
      "cell_type": "code",
      "metadata": {
        "id": "WfV_4bDhZlPJ"
      },
      "source": [
        "lr_schedule = keras.optimizers.schedules.ExponentialDecay(initial_learning_rate = 1e-2, decay_steps = 140, decay_rate = 0.9)\n",
        "lr_schedule = (tf.keras.experimental.CosineDecayRestarts(1e-3, 1000))\n",
        "\n",
        "optimizer = keras.optimizers.Adam(learning_rate=lr_schedule)"
      ],
      "execution_count": 19,
      "outputs": []
    },
    {
      "cell_type": "code",
      "metadata": {
        "id": "_F7lOm3MzREt",
        "colab": {
          "base_uri": "https://localhost:8080/"
        },
        "outputId": "23962230-722d-4464-8ec2-ba193f8cc125"
      },
      "source": [
        "sweep_config={\n",
        "              \"method\":\"random\",\n",
        "              'metric' : {\n",
        "                            'name' : 'val_accuracy',\n",
        "                            'goal' : 'maximize',\n",
        "                         },\n",
        "          \"parameters\" : {\n",
        "                            \"cell_type\":{\"values\":[\"lstm\",\"rnn\", \"gru\"]},\n",
        "                            \"batch_size\":{\"values\": [32,64,128]},\n",
        "                            \"epochs\":{\"values\":[30,40,60]}, \n",
        "                            \"hidden_layer_size\":{\"values\": [128,256,512]}, \n",
        "                            \"num_hidden_layers\": {\"values\": [2,5,10]},\n",
        "                            \"encoder_embed_size\": {\"values\": [27,64] },\n",
        "                            \"decoder_embed_size\": {\"values\":[27,64]  },\n",
        "                            \"num_encoder_layers\": {\"values\": [1,2,3,4]},\n",
        "                            \"num_decoder_layers\":{\"values\":[1,2,3,4] },\n",
        "                            \"dropout\": {\"values\":[0.00,0.01, 0.5,0.0001]}\n",
        "                         }\n",
        "              }\n",
        "sweep_id = wandb.sweep(sweep_config, project=\"MachineTransliterator\")"
      ],
      "execution_count": 20,
      "outputs": [
        {
          "output_type": "stream",
          "text": [
            "Create sweep with ID: 4qzxmg7y\n",
            "Sweep URL: https://wandb.ai/anshikag_2210/MachineTransliterator/sweeps/4qzxmg7y\n"
          ],
          "name": "stdout"
        }
      ]
    },
    {
      "cell_type": "code",
      "metadata": {
        "id": "ZkSWJ0evzbNc"
      },
      "source": [
        "def run():\n",
        "\n",
        "  wb = wandb.init()\n",
        "  config = wb.config\n",
        "\n",
        "  #----------------------sweep parameters------------------------------------\n",
        "  cell_type =config.cell_type \n",
        "  batch_size = config.batch_size \n",
        "  epochs = config.epochs \n",
        "  hidden_layer_size= config.hidden_layer_size\n",
        "  encoder_embed_size =config.encoder_embed_size\n",
        "  decoder_embed_size = config.decoder_embed_size\n",
        "  num_encoder_layers=config.num_encoder_layers\n",
        "  num_decoder_layers= config.num_decoder_layers \n",
        "  dropout=config.dropout\n",
        "  \n",
        "  ########################### creating machine transliterator object ###############################\n",
        "  machine = Machine_Transliterator(\n",
        "      max_encoder_seq_length,max_decoder_seq_length,encoder_embed_size, \n",
        "      decoder_embed_size,num_encoder_layers,num_decoder_layers,\n",
        "      batch_size, hidden_layer_size, num_encoder_tokens, cell_type, num_decoder_tokens, \n",
        "      input_token_index,target_token_index, activation, optimizer,dropout\n",
        "      )\n",
        "  model = machine.train_model(\n",
        "      encoder_input_data, decoder_input_data,decoder_target_data,epochs,batch_size,\n",
        "      val_encoder_input_data, val_decoder_input_data, val_decoder_target_data\n",
        "      )  \n",
        "  return"
      ],
      "execution_count": 21,
      "outputs": []
    },
    {
      "cell_type": "code",
      "metadata": {
        "id": "yeoe7fbqOpb9",
        "colab": {
          "base_uri": "https://localhost:8080/",
          "height": 1000,
          "referenced_widgets": [
            "86db4c63cbf943a48ccb227314fd94e6",
            "002610045c854bcfaa2f6474a229cc8d",
            "1ff9eef04d6645a1ad651edeb5941988",
            "802e74744906444fa6d46306c0552ea1",
            "7ed69cc501084692b110eba086b1068d",
            "d4446950ffd44b9e938dafa1b96f3619",
            "3314822323f247988894ead4d7fb8fd4",
            "a9fe81f4ae2c43f688f8d712918fc08e",
            "e638c450439c4d538d3d4b5f62a1f575",
            "cc8f588cc9a948c0894052ae8008b0e4",
            "e5a3fb8488454eadbce7e8fb64a64e32",
            "428f96a367b74ab9b5610c5625ea8535",
            "10375a05c4ee4622a8a4ebcc9670d31a",
            "cd7bad2d38474819afc7d37131093bbc",
            "4fe820c3fc59404cba3cb9100f5ccd99",
            "4519dc3e02b149f0920202e9fc640016",
            "90a9508c01e34e1f8aef7b80c0be8520",
            "94445f0c49404329b18652437ea40d47",
            "9dacd10c8c33401d8fae4a0dd00a7f21",
            "5d94a72c35034bf3a524dfb0b97beed4",
            "75ea5608a675461bbc9c11fc49fe4c64",
            "cfd3065f99024fe4b07643cd9b7cc4c3",
            "78209683b9c34ce1ba6578a8ce789cc1",
            "7daf2ddf07ea4b7682facc79230acfe8",
            "59a93b960c2c451aaf50d62346cb18aa",
            "a158049c51204266a00e954f4168e3bf",
            "5606167241994d90b4d84120159f2dcc",
            "b21ff0e4089b49e5aa5b9cfb2a138c0a",
            "ef9fac9411e441b4bf22ddb9e7b16c28",
            "ae01cdf47b604e0a88c496d57f18cd38",
            "2afbcdfd46334653abf66ebd0ff2998b",
            "dd18913eb253462ab77b98355de20d6f",
            "36e4a44158344626b8985c29919eeec9",
            "15209b2fd7294d3dad8bb412878d860d",
            "4b61c0b5ebaf45dbab494d09e64e006b",
            "85a3efdd369741b680f91634e25ec9ef",
            "8ba5535016eb4f2cb1a9dd59d1f55c41",
            "d6154ba555e341a48693e7d188b5b6f3",
            "009c05941e0641c7852b55a5e78a7651",
            "58ec400873d5437698fbc8b5c7debcf2",
            "101e4dcb846b4feb928fb3b818fc8e21",
            "dc4332cfa62f44e88a25af7b12d5f4a1",
            "d344c72665b5407c9a9a7a6a1601adfe",
            "97417984a26d4b22bf827730efc36c89",
            "7b2c07039c704f94b410b01096ce65c2",
            "b478e1c5b4aa46eaa211ae727c272efd",
            "a85fe296cdf046238f1c6e465b5b39a3",
            "8ed5807199b94221abce55ad0d9076da",
            "9df6efbaccb846b1a6250dc82eb0dd41",
            "7ab5f00a41544babbe8c80f010a86746",
            "7471da77ccd148d4a49dcfe06d9636d8",
            "6fbe5b1d56b049a5ba6c41d61be5e94e",
            "ed76000ac7bb44aa8e7a79942277f51b",
            "c23777c8de2749af856100de4aabaa8f",
            "3329338cf2654b5db18306c84ad6c113",
            "667290d48e454a72ac2a29afba8aa642",
            "4ac91ac9bb0a4af08838c15a4aafa812",
            "6be6a7665354424d924d37de1ae55db5",
            "987da66e8f414f91a643e88463c827e2",
            "96b0d81da9514e7f83a4b610e45d4d39",
            "5ae464e17fc04f0290972a08fe70260c",
            "18a373b2b6144a15aa66124683ba4b37",
            "19e12bb465fe453aa0204069669f103f",
            "74ea46f6bce94f27853dccee7e13b488",
            "5882f6b18def482597bf77453faedd96",
            "aee62c867fb7440e969ec5b5ba5c4b6b",
            "b791a183e1a1470fb80dceef5c395c69",
            "985fe5c02a77406fa7a44b07b80f20e8",
            "a60f011ccbd94ba79df91e06ae9370d9",
            "6270d8de32ae40c98488d4330294bcd4",
            "eec8e8a657194185acecfab9418d808c",
            "b499abbec120467aba697306bf09262e",
            "552ec71093cc40308d8c94b9109bb21f",
            "90e81718a52643ebb102a47c394fd099",
            "40362673e41141be857ee5beb72e2b44",
            "6d55651c537b48609a9d811ca8231d98",
            "fd06caee046e472ab9e6759193280b3d",
            "de5ae0650ae74151abea58a92df07940",
            "45ecb6f245ad48a6adaa79d64e407a9b",
            "53110959251a42d7a6901354c5d522f5",
            "ec7aaaab956e447ca0c41cd6b4dbae62",
            "a45967593b1d41b29cd467f261960bf5",
            "735809a86f974ccdaaa2ed5d8cc6392a",
            "1ec4bf0643d74fb6b222ee18fa552b03",
            "c35c659ba7544fd88dd4845a9b6bbde9",
            "c1a19ea994d248b7b1c4787643a5d5bd",
            "8fd79a1c5549448e9fbe2f25bbdafbde",
            "9754b88aae4547fbbe4ab8765a14e7cd",
            "2f962fc5d74741ca9ff7ecc7dafa3889",
            "2dbe5b855dfa4b14950a9fb4481645ab",
            "d4b793158ed44983a666659f6c711806",
            "5f7ef7fd68464d4ab10d6486d49924e7",
            "b2a4244b780349ae9d414c46a2b59211",
            "ac7bdf86c9ca48ab969b61b75b337e7f",
            "c2600764be574f90b8e03a0b67dc8bb6",
            "0a75bc37824a46efa5126d2cac5ffd2c",
            "dedfc6d56cb4422685e99f2c6ad2197e",
            "8ef7fbd53abd42b5913b748f714a394a",
            "afbcfb3454434903a2a42b5e6269ec6f",
            "b562ad4f18484231ae34e2fc111f0346",
            "485ac0d041814905b7f725345d607073",
            "6bbed015ebd14ac8bb1c77570db99836",
            "deacdd0ab5774e9b9fe6e5559aef35e3",
            "2c950e4d043d4c3888616abfa51fc1c2",
            "fb52cc3b85094e6d91de52e352dd3e1d",
            "6ede2ed9b4514f829b900e078fa412b6",
            "93791b5066204311bafefb482fd19401",
            "c9906e93f2b04197a8e5652f8d74dcae",
            "3140f1cdca074d228ef234d4531c7f76",
            "c97894fbd4f94a23a5ebfec700916df2",
            "fc576cd68f2b457e9138f175a2ee8fde",
            "c27be8a058124ae59ba61fbaad6c0811",
            "2a6818373640471e8bbab0b064d2de0d",
            "57765b17cfdb40e8b203089d09a9a5a5",
            "beccd68beac349b5b883ef4ece792f2d",
            "433bd5b6927f4847a67753b65c62f52f",
            "8cb5722d44ed478ea10869db0fc3fa53",
            "5202349ea3074258a7fce5f92fa81e07",
            "f5418110d08e4e809d2c8f80f4f950a4",
            "355531f988d842d28ebcadcfa207732a",
            "b3ba724fb525490ca89d7b0814634e9e",
            "e47145398c3c46e69bb1901c1f4b09e9",
            "7505a6ec8b414fe6b426630ab16ca338",
            "2fc1887f1be94ac7ad88f220052e5076",
            "0749b40601804b998ed0e04a74f18647",
            "f7d5ce6f64ef427bab62e4b4d166b9b0",
            "413ed9fe83de4e2788b12de16cef3388",
            "df31cc00802e44e1afa984839589feac",
            "d1d38946aecd41c38803f7eea6087d54",
            "086f0bdc3ca64b29816f0fa392dc5a26",
            "1fa7f8397bc54ec3a26d358c4b2c14e7",
            "1835a4dcc9314434ac6cdf903c3f07d2",
            "da8049562fbe4deda8c2b17ee19569e9",
            "5c72aac8d257489f95a7b91b98ad3a42",
            "faa4a0547f364ffe99b41f832a013572",
            "7aef22e979704358932998f18ca51d02",
            "eb83ac4296304d9b96fbff57c4ae5bf0",
            "322c3c1e54324f87970b13885d89b61a",
            "bec16d52714c4d6eacc0ba57a12b246e",
            "25b865e00111492491f72320154d21e9",
            "a36f406b915041c3b4aa806a4d65015c",
            "d0d8498195264b3e9205d3e52e029a56",
            "4d9352137a3a4074b86b6e5b0e9167b3",
            "f8080181cd08475e8262f23e93043ffc",
            "d9d4c438f8d44156934c816b1a45c9a5",
            "bbd0c6fdf4e14dffb1c7296cb673f253",
            "af87d6c6085e42e8998152f8bab5a281",
            "a754f1e5bc4d4c7f98dd881cf3dd6d19",
            "4381ec33fc0e4b34991c2fb3184f4a65",
            "00b55cda9bf0462a96dd102aa38fc4d7",
            "d5db8c2e13564455b4a88de1c2b0045d",
            "410d1ed7482444168993223bf9eb7acf",
            "8691eb4eb10c4a67b2337e1e91fff6e1",
            "0dc3b1dbb8b8453d8f2c4648641964ce",
            "0a288dd8564f42998e877f631e28b032",
            "4a813cb8271447aeae000b732626e591",
            "1dd4c74b20154307b22d79719d2efe58",
            "74197e6cfdbb42a39b956b933678e073",
            "a907da23c93c4cf6a75b65c79c582a1d",
            "a155224d555944b28aa73d8ef7b91b93",
            "2a3e6109188444e29c7c59739a0adab0",
            "17dc637f1dbc4e4e88c7c15914fe8039",
            "f3d64323b7e746c3886c2e80d97afdab",
            "24efae0794344886b3e4097653ac2e98",
            "98d182442655429fb26e3efced6cff71",
            "182ae5f61f714ef48318ec9929ddbf9e",
            "98a886a5a5dc4b87a8a21ae09b5060e0",
            "ab4f4d94feee4df9a789bbcc24e4097c",
            "06e902a90a3e4191bd178b82596325d9",
            "40e239a7ba574c3b9288e40c89f59f8e",
            "a9b80634c963440899e36b1710e90afc",
            "011fab0037364b99b81dea49c31e41da",
            "e4b58a6d4eda4eab9cd8f3a1df5f1db2",
            "0cebd472c2b14bfebe64f8c276d19e28",
            "841be7b33d7f4d309757d221efd0adf7",
            "a61c86c807d4490db0a678c74e75ea51",
            "bd2715b580e447e9a6bfc7c35927553f",
            "edcd7b8f088e43eab8e417be15f86660",
            "3330d55b2ff84a48b91f74be662cef05",
            "8e5dc124c29a44cf953c7980d07d2b01",
            "07edb053c9da4894bc112cad9ec4b445",
            "506b444badc64a74832f12c3cf091648",
            "ede1e357ffc24e6b86907e24eb38151e",
            "83629a65f95a46f3a4af34a25c25e605",
            "2ea17bc76bc84cd8b7e5eebeb2b42763",
            "4c1fe44be2f4403eb8dbea42229ced06",
            "83899f9100c5419395882c16804c0627",
            "de74e0d4e2484dd0b6b5a1d2b81a7971",
            "d5524a0a26324a88af0920fd4ea8f06d",
            "25493ecfa23c4d818cae442ef7981cd1",
            "78536109e873447296d54ce39b2cfcb7",
            "320e9b2b28a24b0286483f24861a940b",
            "56e34833e887408bb72ae8dd9889d917",
            "2a187ec5e896403fbb0fab4a2f65c1b1",
            "9b07ad770e834330b7595c096e40b922",
            "9d3e70f08250446e8c2cb0e0f540dbd6",
            "7344f660f7c84931a9eca4d105ee4874",
            "f1bd5f5d845a45de8f449affcff1f10b",
            "e8d15b2153c84d9fb28bc58d70bcdac0",
            "0ff8335f320f4ed89802d3ac610006b6",
            "ec9eb86c1e1c4b5d9d197a79250fe19d",
            "c57b8e80e3b84222a9a5dee7ec71414a",
            "113c2f63eb414556acbc87b21210b0fa",
            "ea551ba724b6416db825da0c1da4fec7",
            "a13234131ee24deda3bf849f67b6faed",
            "e3e69b89e3c047daa4bf3ee9fcdab90e",
            "b87bcdc814e8435288bb55742349919d",
            "e423acaa13a64f539404191259207581",
            "96159c59ffae408089a58bf5502f3db2",
            "aa14e6ae62a749aaab201b6abb8ba6c4",
            "f61ef8cbee17487487f80e66a5a20c5a",
            "f1edfdc1d3fd43e09f77580179bf7b7c",
            "2bea9539b304418f834f77405ee2b015",
            "f62c1149953449e48b600bc9afc4a49c",
            "5a47bcbc03a04dfb851ef1d4eec6d9a5",
            "90087fc9cea0441b93bab9786719204c",
            "0b3e8db54598478ab4332d9c50f1754f",
            "1ba8d3b598424de9a9020ba988bc5196",
            "a4159f47628342bd9e3ad00a12044973",
            "8887605e20c04c6c95ab70d68646bba4",
            "e5bbda885c9340f78136486520213e11",
            "24fab593b9e248d4a819ba479f7c2ea6",
            "bfb1d72561e94c59b6254bc8b37feb4e",
            "c366beaa52004c2595bb6cc0cc4b2736",
            "b04a4b303bbd4b6ca41ae0361bdd30ee",
            "8812c2842ceb47e7aba2fb461c1e17d2",
            "10cab419ee004f28a3a7cd987c1d1d71",
            "749762144c874eaa81d3c44be87bcdd1",
            "cbb4453cc3684bc09efcd11a41a2173c",
            "6b5ab61bde7c47ba88ed78774c756ded",
            "78391020f6794ee1953ce90d3f3f4d42",
            "6ee266910101451faec32bb20f339770",
            "f8361059493848a3983adc61032701ca",
            "6eb6a22cb9c7415c828421a2a7726420",
            "69c5a6ff288d44a89330f11fcb2b9aef",
            "7acb17b570124cc3a099f5456fd8e3da",
            "5457f60dd45841e8804687eafa76ba61",
            "6734742f5f034389a032afce35861af6",
            "7e19971e9dbe4e22a2a6776a544580c8",
            "7b196f53848e49159f84a0a1ba1aed67",
            "f95d140f94a24bd1afbcaf555d89d613",
            "fa21c63389f34f13ada14c7dc02192ff",
            "f02e28faa383438ba365d6ef401e3965",
            "f62d0264356a4770a16c7f178be6828c",
            "f17b7064356d456d8d7c67e303045a0c",
            "f9b917fc76c7409fa052bd1fc186c71e",
            "504d88a44b8346dd8c3b8868253db2ae",
            "cb920669aa564e02bafbf8ce5e42e8cc",
            "a5d606db54604e80b067ecece625810b",
            "9bb18db432824527bb1b665cd657629a",
            "88e0fd706571484c894305500da0f0ac",
            "f041ca14b3a9474991add4b69918ce4b",
            "1dbdadde797a435ca7b956075624251a",
            "2ecd17cc40a04faa9f6d801c5c124769",
            "52956cc6a52243a999f95c5b0e8c4db7",
            "2678888d53a34e09a0d8f43004e3ade0",
            "7d76e32705ef4fe7b9b0a992c426a326",
            "66173986bf274df489b1108e570a0064",
            "5990c318c335493ebce5348ee2a0d59e",
            "421e9833ea094b33b9facb74e88eb7b9",
            "790cd9af269943c6a6fa3c5b81050c35",
            "09044434710547e3b8ebe9314bf36dfd",
            "dea56fb7a1c2473a9eae3a4861341ccb",
            "6bfe53ff51d84e59b8939a63db2a8eab",
            "0be7d320775e459aa5b0700c28588234",
            "c972b02354c44cfebd8f4ac8eefb0f1e",
            "dca373919b05458693b421a9483b29c7",
            "3dd636191f124ae4b108a1fc8dd0ca92",
            "6370d23ed17d40fcbebd55e5ff840f71",
            "b80138856ff542038b2817f1a051998c",
            "b595fbef019f4e9897c46239932a5473",
            "9d74f67d1f664a27958a94fceff49492",
            "d302420fdaa9419f998623c301703dde",
            "a67a12b11fe1405ba72f5731a5e643ab",
            "93c086583a1849478ff257ab0fe4ba05",
            "7cdfbdda237948ee91f0eb5d83a9ad70",
            "5c70e603e19a43bea8f7b794966dc123",
            "978628ae28b1411eb03655af54f60bc9",
            "7bdc8c6ce2b14f83a6bda2fbdd4ffa77",
            "73382b4f94544feba7ca9b78e809da5d",
            "5058d4881f7c41a499f36369b53a9317",
            "71a0fe7d959b45cfa4c9620a5b902d25",
            "7bd52c2fd6f54b7ba30b7ee2bcfe92c9",
            "b43734905769436691391c1daee6c369",
            "6d3d5c77391b4c2a8efcb7d4052f6b05",
            "782cc9e97bbf42e29c7b78ae86a7047c",
            "a855fe3352c1481288677679572eca26",
            "736f09c45e034dabaf5fc230e7d93321",
            "c58f9d3602114cdabd16df603e0e633e",
            "de83a1a9dbb040f3a69a9b87ec6f0d89",
            "ad2e90802e9441a1a8ba198cc5518995",
            "79902104b479436cafe3f048e42a560b",
            "15c7e4409d3f4ce4834d8c45c4236ea8",
            "c5ee8af1ee0840b8b4817a0367ce769c",
            "ef79a92fbf1f4b898b0dde044c26f65e",
            "9da1510069814624b62a2ddd02679c60"
          ]
        },
        "outputId": "ba821d4a-cde1-4dff-ee03-c9e031987ab4"
      },
      "source": [
        "wandb.agent(sweep_id, run)"
      ],
      "execution_count": null,
      "outputs": [
        {
          "output_type": "stream",
          "text": [
            "\u001b[34m\u001b[1mwandb\u001b[0m: Agent Starting Run: u9pvdjby with config:\n",
            "\u001b[34m\u001b[1mwandb\u001b[0m: \tbatch_size: 128\n",
            "\u001b[34m\u001b[1mwandb\u001b[0m: \tcell_type: lstm\n",
            "\u001b[34m\u001b[1mwandb\u001b[0m: \tdecoder_embed_size: 64\n",
            "\u001b[34m\u001b[1mwandb\u001b[0m: \tdropout: 0.0001\n",
            "\u001b[34m\u001b[1mwandb\u001b[0m: \tencoder_embed_size: 64\n",
            "\u001b[34m\u001b[1mwandb\u001b[0m: \tepochs: 60\n",
            "\u001b[34m\u001b[1mwandb\u001b[0m: \thidden_layer_size: 512\n",
            "\u001b[34m\u001b[1mwandb\u001b[0m: \tnum_decoder_layers: 3\n",
            "\u001b[34m\u001b[1mwandb\u001b[0m: \tnum_encoder_layers: 2\n",
            "\u001b[34m\u001b[1mwandb\u001b[0m: \tnum_hidden_layers: 5\n",
            "\u001b[34m\u001b[1mwandb\u001b[0m: Currently logged in as: \u001b[33manshikag_2210\u001b[0m (use `wandb login --relogin` to force relogin)\n"
          ],
          "name": "stderr"
        },
        {
          "output_type": "display_data",
          "data": {
            "text/html": [
              "\n",
              "                Tracking run with wandb version 0.10.27<br/>\n",
              "                Syncing run <strong style=\"color:#cdcd00\">dazzling-sweep-1</strong> to <a href=\"https://wandb.ai\" target=\"_blank\">Weights & Biases</a> <a href=\"https://docs.wandb.com/integrations/jupyter.html\" target=\"_blank\">(Documentation)</a>.<br/>\n",
              "                Project page: <a href=\"https://wandb.ai/anshikag_2210/MachineTransliterator\" target=\"_blank\">https://wandb.ai/anshikag_2210/MachineTransliterator</a><br/>\n",
              "                Sweep page: <a href=\"https://wandb.ai/anshikag_2210/MachineTransliterator/sweeps/4qzxmg7y\" target=\"_blank\">https://wandb.ai/anshikag_2210/MachineTransliterator/sweeps/4qzxmg7y</a><br/>\n",
              "Run page: <a href=\"https://wandb.ai/anshikag_2210/MachineTransliterator/runs/u9pvdjby\" target=\"_blank\">https://wandb.ai/anshikag_2210/MachineTransliterator/runs/u9pvdjby</a><br/>\n",
              "                Run data is saved locally in <code>/root/.keras/datasets/dakshina_dataset_v1.0/hi/lexicons/wandb/run-20210428_173002-u9pvdjby</code><br/><br/>\n",
              "            "
            ],
            "text/plain": [
              "<IPython.core.display.HTML object>"
            ]
          },
          "metadata": {
            "tags": []
          }
        },
        {
          "output_type": "stream",
          "text": [
            "Epoch 1/60\n",
            "79/79 [==============================] - 44s 84ms/step - loss: 1.7562 - accuracy: 0.6578 - val_loss: 1.2352 - val_accuracy: 0.7198\n",
            "Epoch 2/60\n",
            "79/79 [==============================] - 5s 60ms/step - loss: 1.0883 - accuracy: 0.7196 - val_loss: 1.2451 - val_accuracy: 0.7234\n",
            "Epoch 3/60\n",
            "79/79 [==============================] - 5s 59ms/step - loss: 1.0125 - accuracy: 0.7359 - val_loss: 1.2407 - val_accuracy: 0.7269\n",
            "Epoch 4/60\n",
            "79/79 [==============================] - 5s 60ms/step - loss: 0.9263 - accuracy: 0.7514 - val_loss: 1.2350 - val_accuracy: 0.7391\n",
            "Epoch 5/60\n",
            "79/79 [==============================] - 5s 61ms/step - loss: 0.8265 - accuracy: 0.7687 - val_loss: 1.1650 - val_accuracy: 0.7456\n",
            "Epoch 6/60\n",
            "79/79 [==============================] - 5s 61ms/step - loss: 0.7848 - accuracy: 0.7773 - val_loss: 1.1928 - val_accuracy: 0.7456\n",
            "Epoch 7/60\n",
            "79/79 [==============================] - 5s 61ms/step - loss: 0.7324 - accuracy: 0.7889 - val_loss: 1.1994 - val_accuracy: 0.7440\n",
            "Epoch 8/60\n",
            "79/79 [==============================] - 5s 61ms/step - loss: 0.6775 - accuracy: 0.8026 - val_loss: 1.1708 - val_accuracy: 0.7490\n",
            "Epoch 9/60\n",
            "79/79 [==============================] - 5s 61ms/step - loss: 0.6388 - accuracy: 0.8115 - val_loss: 1.1446 - val_accuracy: 0.7540\n",
            "Epoch 10/60\n",
            "79/79 [==============================] - 5s 62ms/step - loss: 0.6145 - accuracy: 0.8179 - val_loss: 1.1476 - val_accuracy: 0.7570\n",
            "Epoch 11/60\n",
            "79/79 [==============================] - 5s 61ms/step - loss: 0.5907 - accuracy: 0.8252 - val_loss: 1.1528 - val_accuracy: 0.7561\n",
            "Epoch 12/60\n",
            "79/79 [==============================] - 5s 62ms/step - loss: 0.5738 - accuracy: 0.8300 - val_loss: 1.1479 - val_accuracy: 0.7572\n",
            "Epoch 13/60\n",
            "79/79 [==============================] - 5s 62ms/step - loss: 0.5857 - accuracy: 0.8281 - val_loss: 1.2147 - val_accuracy: 0.7416\n",
            "Epoch 14/60\n",
            "79/79 [==============================] - 5s 63ms/step - loss: 0.6574 - accuracy: 0.8077 - val_loss: 1.1367 - val_accuracy: 0.7581\n",
            "Epoch 15/60\n",
            "79/79 [==============================] - 5s 63ms/step - loss: 0.5754 - accuracy: 0.8276 - val_loss: 1.1448 - val_accuracy: 0.7594\n",
            "Epoch 16/60\n",
            "79/79 [==============================] - 5s 63ms/step - loss: 0.5008 - accuracy: 0.8477 - val_loss: 1.1559 - val_accuracy: 0.7499\n",
            "Epoch 17/60\n",
            "79/79 [==============================] - 5s 63ms/step - loss: 0.4455 - accuracy: 0.8654 - val_loss: 1.0761 - val_accuracy: 0.7710\n",
            "Epoch 18/60\n",
            "79/79 [==============================] - 5s 64ms/step - loss: 0.3894 - accuracy: 0.8820 - val_loss: 1.1014 - val_accuracy: 0.7684\n",
            "Epoch 19/60\n",
            "79/79 [==============================] - 5s 64ms/step - loss: 0.3218 - accuracy: 0.9031 - val_loss: 1.0834 - val_accuracy: 0.7746\n",
            "Epoch 20/60\n",
            "79/79 [==============================] - 5s 64ms/step - loss: 0.2849 - accuracy: 0.9149 - val_loss: 1.0764 - val_accuracy: 0.7799\n",
            "Epoch 21/60\n",
            "79/79 [==============================] - 5s 64ms/step - loss: 0.2341 - accuracy: 0.9313 - val_loss: 1.1247 - val_accuracy: 0.7768\n",
            "Epoch 22/60\n",
            "79/79 [==============================] - 5s 65ms/step - loss: 0.1848 - accuracy: 0.9482 - val_loss: 1.1153 - val_accuracy: 0.7795\n",
            "Epoch 23/60\n",
            "79/79 [==============================] - 5s 65ms/step - loss: 0.1494 - accuracy: 0.9591 - val_loss: 1.1283 - val_accuracy: 0.7806\n",
            "Epoch 24/60\n",
            "79/79 [==============================] - 5s 65ms/step - loss: 0.1254 - accuracy: 0.9672 - val_loss: 1.1589 - val_accuracy: 0.7800\n",
            "Epoch 25/60\n",
            "79/79 [==============================] - 5s 65ms/step - loss: 0.0986 - accuracy: 0.9762 - val_loss: 1.1441 - val_accuracy: 0.7840\n",
            "Epoch 26/60\n",
            "79/79 [==============================] - 5s 65ms/step - loss: 0.0788 - accuracy: 0.9820 - val_loss: 1.1521 - val_accuracy: 0.7849\n",
            "Epoch 27/60\n",
            "79/79 [==============================] - 5s 65ms/step - loss: 0.0670 - accuracy: 0.9856 - val_loss: 1.1854 - val_accuracy: 0.7825\n",
            "Epoch 28/60\n",
            "79/79 [==============================] - 5s 64ms/step - loss: 0.0545 - accuracy: 0.9889 - val_loss: 1.2046 - val_accuracy: 0.7822\n",
            "Epoch 29/60\n",
            "79/79 [==============================] - 5s 65ms/step - loss: 0.0458 - accuracy: 0.9916 - val_loss: 1.2002 - val_accuracy: 0.7843\n",
            "Epoch 30/60\n",
            "79/79 [==============================] - 5s 65ms/step - loss: 0.0406 - accuracy: 0.9926 - val_loss: 1.2223 - val_accuracy: 0.7828\n",
            "Epoch 31/60\n",
            "79/79 [==============================] - 5s 64ms/step - loss: 0.0361 - accuracy: 0.9936 - val_loss: 1.2197 - val_accuracy: 0.7836\n",
            "Epoch 32/60\n",
            "79/79 [==============================] - 5s 65ms/step - loss: 0.0324 - accuracy: 0.9942 - val_loss: 1.2272 - val_accuracy: 0.7828\n",
            "Epoch 33/60\n",
            "79/79 [==============================] - 5s 64ms/step - loss: 0.0307 - accuracy: 0.9944 - val_loss: 1.2285 - val_accuracy: 0.7837\n",
            "Epoch 34/60\n",
            "79/79 [==============================] - 5s 64ms/step - loss: 0.0296 - accuracy: 0.9945 - val_loss: 1.2302 - val_accuracy: 0.7837\n",
            "Epoch 35/60\n",
            "79/79 [==============================] - 5s 65ms/step - loss: 0.0281 - accuracy: 0.9950 - val_loss: 1.2317 - val_accuracy: 0.7837\n",
            "Epoch 36/60\n",
            "79/79 [==============================] - 5s 65ms/step - loss: 0.0274 - accuracy: 0.9951 - val_loss: 1.2333 - val_accuracy: 0.7834\n",
            "Epoch 37/60\n",
            "79/79 [==============================] - 5s 64ms/step - loss: 0.0276 - accuracy: 0.9951 - val_loss: 1.2326 - val_accuracy: 0.7838\n",
            "Epoch 38/60\n",
            "79/79 [==============================] - 5s 65ms/step - loss: 0.0274 - accuracy: 0.9952 - val_loss: 1.2282 - val_accuracy: 0.7841\n",
            "Epoch 39/60\n",
            "79/79 [==============================] - 5s 65ms/step - loss: 0.1085 - accuracy: 0.9680 - val_loss: 1.2654 - val_accuracy: 0.7709\n",
            "Epoch 40/60\n",
            "79/79 [==============================] - 5s 65ms/step - loss: 0.1626 - accuracy: 0.9478 - val_loss: 1.2059 - val_accuracy: 0.7846\n",
            "Epoch 41/60\n",
            "79/79 [==============================] - 5s 65ms/step - loss: 0.0926 - accuracy: 0.9719 - val_loss: 1.2542 - val_accuracy: 0.7842\n",
            "Epoch 42/60\n",
            "79/79 [==============================] - 5s 65ms/step - loss: 0.0628 - accuracy: 0.9829 - val_loss: 1.2599 - val_accuracy: 0.7854\n",
            "Epoch 43/60\n",
            "79/79 [==============================] - 5s 65ms/step - loss: 0.0423 - accuracy: 0.9891 - val_loss: 1.2971 - val_accuracy: 0.7827\n",
            "Epoch 44/60\n",
            "79/79 [==============================] - 5s 65ms/step - loss: 0.0401 - accuracy: 0.9893 - val_loss: 1.2922 - val_accuracy: 0.7865\n",
            "Epoch 45/60\n",
            "79/79 [==============================] - 5s 65ms/step - loss: 0.0317 - accuracy: 0.9917 - val_loss: 1.3203 - val_accuracy: 0.7845\n",
            "Epoch 46/60\n",
            "79/79 [==============================] - 5s 65ms/step - loss: 0.0293 - accuracy: 0.9921 - val_loss: 1.3246 - val_accuracy: 0.7870\n",
            "Epoch 47/60\n",
            "79/79 [==============================] - 5s 65ms/step - loss: 0.0232 - accuracy: 0.9939 - val_loss: 1.3351 - val_accuracy: 0.7891\n",
            "Epoch 48/60\n",
            "79/79 [==============================] - 5s 64ms/step - loss: 0.0222 - accuracy: 0.9942 - val_loss: 1.3586 - val_accuracy: 0.7880\n",
            "Epoch 49/60\n",
            "79/79 [==============================] - 5s 65ms/step - loss: 0.0223 - accuracy: 0.9940 - val_loss: 1.3610 - val_accuracy: 0.7894\n",
            "Epoch 50/60\n",
            "79/79 [==============================] - 5s 65ms/step - loss: 0.0185 - accuracy: 0.9947 - val_loss: 1.3644 - val_accuracy: 0.7881\n",
            "Epoch 51/60\n",
            "79/79 [==============================] - 5s 64ms/step - loss: 0.0182 - accuracy: 0.9946 - val_loss: 1.3795 - val_accuracy: 0.7882\n",
            "Epoch 52/60\n",
            "79/79 [==============================] - 5s 64ms/step - loss: 0.0160 - accuracy: 0.9951 - val_loss: 1.4078 - val_accuracy: 0.7872\n",
            "Epoch 53/60\n",
            "79/79 [==============================] - 5s 65ms/step - loss: 0.0174 - accuracy: 0.9946 - val_loss: 1.3745 - val_accuracy: 0.7901\n",
            "Epoch 54/60\n",
            "79/79 [==============================] - 5s 65ms/step - loss: 0.0155 - accuracy: 0.9951 - val_loss: 1.3928 - val_accuracy: 0.7891\n",
            "Epoch 55/60\n",
            "79/79 [==============================] - 5s 64ms/step - loss: 0.0156 - accuracy: 0.9950 - val_loss: 1.3965 - val_accuracy: 0.7906\n",
            "Epoch 56/60\n",
            "79/79 [==============================] - 5s 65ms/step - loss: 0.0142 - accuracy: 0.9953 - val_loss: 1.4127 - val_accuracy: 0.7888\n",
            "Epoch 57/60\n",
            "79/79 [==============================] - 5s 65ms/step - loss: 0.0131 - accuracy: 0.9954 - val_loss: 1.4192 - val_accuracy: 0.7885\n",
            "Epoch 58/60\n",
            "79/79 [==============================] - 5s 64ms/step - loss: 0.0140 - accuracy: 0.9952 - val_loss: 1.4287 - val_accuracy: 0.7871\n",
            "Epoch 59/60\n",
            "79/79 [==============================] - 5s 64ms/step - loss: 0.0110 - accuracy: 0.9959 - val_loss: 1.4042 - val_accuracy: 0.7912\n",
            "Epoch 60/60\n",
            "79/79 [==============================] - 5s 65ms/step - loss: 0.0110 - accuracy: 0.9955 - val_loss: 1.4171 - val_accuracy: 0.7907\n"
          ],
          "name": "stdout"
        },
        {
          "output_type": "display_data",
          "data": {
            "text/html": [
              "<br/>Waiting for W&B process to finish, PID 166<br/>Program ended successfully."
            ],
            "text/plain": [
              "<IPython.core.display.HTML object>"
            ]
          },
          "metadata": {
            "tags": []
          }
        },
        {
          "output_type": "display_data",
          "data": {
            "application/vnd.jupyter.widget-view+json": {
              "model_id": "86db4c63cbf943a48ccb227314fd94e6",
              "version_minor": 0,
              "version_major": 2
            },
            "text/plain": [
              "VBox(children=(Label(value=' 99.64MB of 99.64MB uploaded (0.00MB deduped)\\r'), FloatProgress(value=1.0, max=1.…"
            ]
          },
          "metadata": {
            "tags": []
          }
        },
        {
          "output_type": "display_data",
          "data": {
            "text/html": [
              "Find user logs for this run at: <code>/root/.keras/datasets/dakshina_dataset_v1.0/hi/lexicons/wandb/run-20210428_173002-u9pvdjby/logs/debug.log</code>"
            ],
            "text/plain": [
              "<IPython.core.display.HTML object>"
            ]
          },
          "metadata": {
            "tags": []
          }
        },
        {
          "output_type": "display_data",
          "data": {
            "text/html": [
              "Find internal logs for this run at: <code>/root/.keras/datasets/dakshina_dataset_v1.0/hi/lexicons/wandb/run-20210428_173002-u9pvdjby/logs/debug-internal.log</code>"
            ],
            "text/plain": [
              "<IPython.core.display.HTML object>"
            ]
          },
          "metadata": {
            "tags": []
          }
        },
        {
          "output_type": "display_data",
          "data": {
            "text/html": [
              "<h3>Run summary:</h3><br/><style>\n",
              "    table.wandb td:nth-child(1) { padding: 0 10px; text-align: right }\n",
              "    </style><table class=\"wandb\">\n",
              "<tr><td>epoch</td><td>59</td></tr><tr><td>loss</td><td>0.01208</td></tr><tr><td>accuracy</td><td>0.99497</td></tr><tr><td>val_loss</td><td>1.41706</td></tr><tr><td>val_accuracy</td><td>0.79066</td></tr><tr><td>_runtime</td><td>351</td></tr><tr><td>_timestamp</td><td>1619631353</td></tr><tr><td>_step</td><td>59</td></tr><tr><td>best_val_loss</td><td>1.07611</td></tr><tr><td>best_epoch</td><td>16</td></tr></table>"
            ],
            "text/plain": [
              "<IPython.core.display.HTML object>"
            ]
          },
          "metadata": {
            "tags": []
          }
        },
        {
          "output_type": "display_data",
          "data": {
            "text/html": [
              "<h3>Run history:</h3><br/><style>\n",
              "    table.wandb td:nth-child(1) { padding: 0 10px; text-align: right }\n",
              "    </style><table class=\"wandb\">\n",
              "<tr><td>epoch</td><td>▁▁▁▁▂▂▂▂▂▃▃▃▃▃▃▄▄▄▄▄▅▅▅▅▅▅▆▆▆▆▆▆▇▇▇▇▇███</td></tr><tr><td>loss</td><td>█▆▆▅▅▄▄▄▄▄▄▃▃▂▂▂▁▁▁▁▁▁▁▁▁▁▂▁▁▁▁▁▁▁▁▁▁▁▁▁</td></tr><tr><td>accuracy</td><td>▁▂▂▃▃▃▄▄▄▄▅▅▆▆▇▇██████████▇▇████████████</td></tr><tr><td>val_loss</td><td>▄▄▄▃▃▃▂▃▄▂▃▁▁▁▂▂▂▃▄▃▄▄▄▄▄▄▄▅▅▅▆▆▇▇█▇▇███</td></tr><tr><td>val_accuracy</td><td>▁▁▃▄▃▄▅▅▃▅▄▆▆▇▇▇▇▇▇▇▇▇▇▇▇▇▇▇▇███████████</td></tr><tr><td>_runtime</td><td>▁▁▁▁▂▂▂▂▂▃▃▃▃▃▃▄▄▄▄▄▅▅▅▅▅▅▆▆▆▆▆▆▇▇▇▇▇███</td></tr><tr><td>_timestamp</td><td>▁▁▁▁▂▂▂▂▂▃▃▃▃▃▃▄▄▄▄▄▅▅▅▅▅▅▆▆▆▆▆▆▇▇▇▇▇███</td></tr><tr><td>_step</td><td>▁▁▁▁▂▂▂▂▂▃▃▃▃▃▃▄▄▄▄▄▅▅▅▅▅▅▆▆▆▆▆▆▇▇▇▇▇███</td></tr></table><br/>"
            ],
            "text/plain": [
              "<IPython.core.display.HTML object>"
            ]
          },
          "metadata": {
            "tags": []
          }
        },
        {
          "output_type": "display_data",
          "data": {
            "text/html": [
              "Synced 5 W&B file(s), 1 media file(s), 0 artifact file(s) and 1 other file(s)"
            ],
            "text/plain": [
              "<IPython.core.display.HTML object>"
            ]
          },
          "metadata": {
            "tags": []
          }
        },
        {
          "output_type": "display_data",
          "data": {
            "text/html": [
              "\n",
              "                    <br/>Synced <strong style=\"color:#cdcd00\">dazzling-sweep-1</strong>: <a href=\"https://wandb.ai/anshikag_2210/MachineTransliterator/runs/u9pvdjby\" target=\"_blank\">https://wandb.ai/anshikag_2210/MachineTransliterator/runs/u9pvdjby</a><br/>\n",
              "                "
            ],
            "text/plain": [
              "<IPython.core.display.HTML object>"
            ]
          },
          "metadata": {
            "tags": []
          }
        },
        {
          "output_type": "stream",
          "text": [
            "\u001b[34m\u001b[1mwandb\u001b[0m: Agent Starting Run: 1r8yy4y1 with config:\n",
            "\u001b[34m\u001b[1mwandb\u001b[0m: \tbatch_size: 128\n",
            "\u001b[34m\u001b[1mwandb\u001b[0m: \tcell_type: lstm\n",
            "\u001b[34m\u001b[1mwandb\u001b[0m: \tdecoder_embed_size: 27\n",
            "\u001b[34m\u001b[1mwandb\u001b[0m: \tdropout: 0.0001\n",
            "\u001b[34m\u001b[1mwandb\u001b[0m: \tencoder_embed_size: 27\n",
            "\u001b[34m\u001b[1mwandb\u001b[0m: \tepochs: 60\n",
            "\u001b[34m\u001b[1mwandb\u001b[0m: \thidden_layer_size: 256\n",
            "\u001b[34m\u001b[1mwandb\u001b[0m: \tnum_decoder_layers: 4\n",
            "\u001b[34m\u001b[1mwandb\u001b[0m: \tnum_encoder_layers: 3\n",
            "\u001b[34m\u001b[1mwandb\u001b[0m: \tnum_hidden_layers: 10\n"
          ],
          "name": "stderr"
        },
        {
          "output_type": "display_data",
          "data": {
            "text/html": [
              "\n",
              "                Tracking run with wandb version 0.10.27<br/>\n",
              "                Syncing run <strong style=\"color:#cdcd00\">skilled-sweep-2</strong> to <a href=\"https://wandb.ai\" target=\"_blank\">Weights & Biases</a> <a href=\"https://docs.wandb.com/integrations/jupyter.html\" target=\"_blank\">(Documentation)</a>.<br/>\n",
              "                Project page: <a href=\"https://wandb.ai/anshikag_2210/MachineTransliterator\" target=\"_blank\">https://wandb.ai/anshikag_2210/MachineTransliterator</a><br/>\n",
              "                Sweep page: <a href=\"https://wandb.ai/anshikag_2210/MachineTransliterator/sweeps/4qzxmg7y\" target=\"_blank\">https://wandb.ai/anshikag_2210/MachineTransliterator/sweeps/4qzxmg7y</a><br/>\n",
              "Run page: <a href=\"https://wandb.ai/anshikag_2210/MachineTransliterator/runs/1r8yy4y1\" target=\"_blank\">https://wandb.ai/anshikag_2210/MachineTransliterator/runs/1r8yy4y1</a><br/>\n",
              "                Run data is saved locally in <code>/root/.keras/datasets/dakshina_dataset_v1.0/hi/lexicons/wandb/run-20210428_173558-1r8yy4y1</code><br/><br/>\n",
              "            "
            ],
            "text/plain": [
              "<IPython.core.display.HTML object>"
            ]
          },
          "metadata": {
            "tags": []
          }
        },
        {
          "output_type": "stream",
          "text": [
            "Epoch 1/60\n",
            "79/79 [==============================] - 14s 67ms/step - loss: 1.7920 - accuracy: 0.6516 - val_loss: 1.2651 - val_accuracy: 0.7175\n"
          ],
          "name": "stdout"
        },
        {
          "output_type": "stream",
          "text": [
            "\u001b[34m\u001b[1mwandb\u001b[0m: \u001b[32m\u001b[41mERROR\u001b[0m Can't save model, h5py returned error: Unable to create link (name already exists)\n"
          ],
          "name": "stderr"
        },
        {
          "output_type": "stream",
          "text": [
            "Epoch 2/60\n",
            "79/79 [==============================] - 3s 38ms/step - loss: 1.0914 - accuracy: 0.7191 - val_loss: 1.2702 - val_accuracy: 0.7198\n",
            "Epoch 3/60\n",
            "79/79 [==============================] - 3s 36ms/step - loss: 1.0671 - accuracy: 0.7210 - val_loss: 1.3352 - val_accuracy: 0.7151\n",
            "Epoch 4/60\n",
            "79/79 [==============================] - 3s 36ms/step - loss: 1.0653 - accuracy: 0.7205 - val_loss: 1.2846 - val_accuracy: 0.7227\n",
            "Epoch 5/60\n",
            "79/79 [==============================] - 3s 36ms/step - loss: 1.0476 - accuracy: 0.7266 - val_loss: 1.2610 - val_accuracy: 0.7244\n",
            "Epoch 6/60\n",
            "79/79 [==============================] - 3s 36ms/step - loss: 1.0182 - accuracy: 0.7366 - val_loss: 1.2989 - val_accuracy: 0.7189\n",
            "Epoch 7/60\n",
            "79/79 [==============================] - 3s 36ms/step - loss: 0.9974 - accuracy: 0.7382 - val_loss: 1.3289 - val_accuracy: 0.7203\n",
            "Epoch 8/60\n",
            "79/79 [==============================] - 3s 36ms/step - loss: 0.9765 - accuracy: 0.7447 - val_loss: 1.3337 - val_accuracy: 0.7225\n",
            "Epoch 9/60\n",
            "79/79 [==============================] - 3s 36ms/step - loss: 0.9696 - accuracy: 0.7464 - val_loss: 1.3208 - val_accuracy: 0.7239\n",
            "Epoch 10/60\n",
            "79/79 [==============================] - 3s 36ms/step - loss: 0.9549 - accuracy: 0.7518 - val_loss: 1.3486 - val_accuracy: 0.7254\n",
            "Epoch 11/60\n",
            "79/79 [==============================] - 3s 36ms/step - loss: 0.9406 - accuracy: 0.7551 - val_loss: 1.3707 - val_accuracy: 0.7250\n",
            "Epoch 12/60\n",
            "79/79 [==============================] - 3s 36ms/step - loss: 0.9379 - accuracy: 0.7564 - val_loss: 1.3222 - val_accuracy: 0.7292\n",
            "Epoch 13/60\n",
            "79/79 [==============================] - 3s 36ms/step - loss: 0.9326 - accuracy: 0.7577 - val_loss: 1.3258 - val_accuracy: 0.7303\n",
            "Epoch 14/60\n",
            "79/79 [==============================] - 3s 36ms/step - loss: 0.9159 - accuracy: 0.7613 - val_loss: 1.3219 - val_accuracy: 0.7296\n",
            "Epoch 15/60\n",
            "79/79 [==============================] - 3s 36ms/step - loss: 0.9023 - accuracy: 0.7630 - val_loss: 1.3074 - val_accuracy: 0.7309\n",
            "Epoch 16/60\n",
            "79/79 [==============================] - 3s 36ms/step - loss: 0.8985 - accuracy: 0.7647 - val_loss: 1.3106 - val_accuracy: 0.7309\n",
            "Epoch 17/60\n",
            "79/79 [==============================] - 3s 36ms/step - loss: 0.8864 - accuracy: 0.7665 - val_loss: 1.3061 - val_accuracy: 0.7312\n",
            "Epoch 18/60\n",
            "79/79 [==============================] - 3s 36ms/step - loss: 0.8759 - accuracy: 0.7685 - val_loss: 1.2940 - val_accuracy: 0.7320\n",
            "Epoch 19/60\n",
            "79/79 [==============================] - 3s 36ms/step - loss: 0.8697 - accuracy: 0.7689 - val_loss: 1.2966 - val_accuracy: 0.7312\n",
            "Epoch 20/60\n",
            "79/79 [==============================] - 3s 36ms/step - loss: 0.8605 - accuracy: 0.7709 - val_loss: 1.2851 - val_accuracy: 0.7325\n",
            "Epoch 21/60\n",
            "79/79 [==============================] - 3s 36ms/step - loss: 0.8548 - accuracy: 0.7712 - val_loss: 1.2854 - val_accuracy: 0.7330\n",
            "Epoch 22/60\n",
            "79/79 [==============================] - 3s 36ms/step - loss: 0.8507 - accuracy: 0.7722 - val_loss: 1.2755 - val_accuracy: 0.7335\n",
            "Epoch 23/60\n",
            "79/79 [==============================] - 3s 36ms/step - loss: 0.8403 - accuracy: 0.7751 - val_loss: 1.2740 - val_accuracy: 0.7334\n",
            "Epoch 24/60\n",
            "79/79 [==============================] - 3s 36ms/step - loss: 0.8393 - accuracy: 0.7748 - val_loss: 1.2798 - val_accuracy: 0.7335\n",
            "Epoch 25/60\n",
            "79/79 [==============================] - 3s 36ms/step - loss: 0.8363 - accuracy: 0.7751 - val_loss: 1.2785 - val_accuracy: 0.7339\n",
            "Epoch 26/60\n",
            "79/79 [==============================] - 3s 35ms/step - loss: 0.8425 - accuracy: 0.7738 - val_loss: 1.2759 - val_accuracy: 0.7339\n",
            "Epoch 27/60\n",
            "79/79 [==============================] - 3s 36ms/step - loss: 0.8318 - accuracy: 0.7754 - val_loss: 1.2733 - val_accuracy: 0.7338\n",
            "Epoch 28/60\n",
            "79/79 [==============================] - 3s 36ms/step - loss: 0.8342 - accuracy: 0.7755 - val_loss: 1.2746 - val_accuracy: 0.7338\n",
            "Epoch 29/60\n",
            "79/79 [==============================] - 3s 35ms/step - loss: 0.8512 - accuracy: 0.7715 - val_loss: 1.2687 - val_accuracy: 0.7338\n",
            "Epoch 30/60\n",
            "79/79 [==============================] - 3s 35ms/step - loss: 0.8602 - accuracy: 0.7665 - val_loss: 1.1569 - val_accuracy: 0.7490\n",
            "Epoch 31/60\n",
            "79/79 [==============================] - 3s 35ms/step - loss: 0.7545 - accuracy: 0.7856 - val_loss: 1.1230 - val_accuracy: 0.7540\n",
            "Epoch 32/60\n",
            "79/79 [==============================] - 3s 36ms/step - loss: 0.7061 - accuracy: 0.7984 - val_loss: 1.1356 - val_accuracy: 0.7539\n",
            "Epoch 33/60\n",
            "79/79 [==============================] - 3s 36ms/step - loss: 0.6628 - accuracy: 0.8087 - val_loss: 1.1169 - val_accuracy: 0.7588\n",
            "Epoch 34/60\n",
            "79/79 [==============================] - 3s 36ms/step - loss: 0.6136 - accuracy: 0.8216 - val_loss: 1.1109 - val_accuracy: 0.7584\n",
            "Epoch 35/60\n",
            "79/79 [==============================] - 3s 36ms/step - loss: 0.5830 - accuracy: 0.8281 - val_loss: 1.1215 - val_accuracy: 0.7523\n",
            "Epoch 36/60\n",
            "79/79 [==============================] - 3s 36ms/step - loss: 0.5406 - accuracy: 0.8398 - val_loss: 1.0819 - val_accuracy: 0.7666\n",
            "Epoch 37/60\n",
            "79/79 [==============================] - 3s 36ms/step - loss: 0.4935 - accuracy: 0.8525 - val_loss: 1.1336 - val_accuracy: 0.7602\n",
            "Epoch 38/60\n",
            "79/79 [==============================] - 3s 36ms/step - loss: 0.4657 - accuracy: 0.8593 - val_loss: 1.0774 - val_accuracy: 0.7707\n",
            "Epoch 39/60\n",
            "79/79 [==============================] - 3s 36ms/step - loss: 0.4124 - accuracy: 0.8769 - val_loss: 1.0884 - val_accuracy: 0.7694\n",
            "Epoch 40/60\n",
            "79/79 [==============================] - 3s 36ms/step - loss: 0.3812 - accuracy: 0.8861 - val_loss: 1.0927 - val_accuracy: 0.7726\n",
            "Epoch 41/60\n",
            "79/79 [==============================] - 3s 36ms/step - loss: 0.3410 - accuracy: 0.8979 - val_loss: 1.0906 - val_accuracy: 0.7719\n",
            "Epoch 42/60\n",
            "79/79 [==============================] - 3s 36ms/step - loss: 0.3115 - accuracy: 0.9085 - val_loss: 1.1259 - val_accuracy: 0.7674\n",
            "Epoch 43/60\n",
            "79/79 [==============================] - 3s 36ms/step - loss: 0.2894 - accuracy: 0.9161 - val_loss: 1.1134 - val_accuracy: 0.7753\n",
            "Epoch 44/60\n",
            "79/79 [==============================] - 3s 36ms/step - loss: 0.2539 - accuracy: 0.9258 - val_loss: 1.1322 - val_accuracy: 0.7762\n",
            "Epoch 45/60\n",
            "79/79 [==============================] - 3s 36ms/step - loss: 0.2229 - accuracy: 0.9363 - val_loss: 1.1231 - val_accuracy: 0.7816\n",
            "Epoch 46/60\n",
            "79/79 [==============================] - 3s 36ms/step - loss: 0.2014 - accuracy: 0.9434 - val_loss: 1.1505 - val_accuracy: 0.7764\n",
            "Epoch 47/60\n",
            "79/79 [==============================] - 3s 36ms/step - loss: 0.1821 - accuracy: 0.9500 - val_loss: 1.1515 - val_accuracy: 0.7805\n",
            "Epoch 48/60\n",
            "79/79 [==============================] - 3s 36ms/step - loss: 0.1570 - accuracy: 0.9576 - val_loss: 1.1554 - val_accuracy: 0.7828\n",
            "Epoch 49/60\n",
            "79/79 [==============================] - 3s 36ms/step - loss: 0.1357 - accuracy: 0.9642 - val_loss: 1.1657 - val_accuracy: 0.7834\n",
            "Epoch 50/60\n",
            "79/79 [==============================] - 3s 36ms/step - loss: 0.1273 - accuracy: 0.9661 - val_loss: 1.2145 - val_accuracy: 0.7801\n",
            "Epoch 51/60\n",
            "79/79 [==============================] - 3s 36ms/step - loss: 0.1113 - accuracy: 0.9710 - val_loss: 1.2201 - val_accuracy: 0.7838\n",
            "Epoch 52/60\n",
            "79/79 [==============================] - 3s 36ms/step - loss: 0.0932 - accuracy: 0.9776 - val_loss: 1.2299 - val_accuracy: 0.7827\n",
            "Epoch 53/60\n",
            "79/79 [==============================] - 3s 36ms/step - loss: 0.0784 - accuracy: 0.9825 - val_loss: 1.2495 - val_accuracy: 0.7830\n",
            "Epoch 54/60\n",
            "79/79 [==============================] - 3s 36ms/step - loss: 0.0770 - accuracy: 0.9819 - val_loss: 1.2598 - val_accuracy: 0.7835\n",
            "Epoch 55/60\n",
            "79/79 [==============================] - 3s 35ms/step - loss: 0.0625 - accuracy: 0.9867 - val_loss: 1.2778 - val_accuracy: 0.7832\n",
            "Epoch 56/60\n",
            "79/79 [==============================] - 3s 36ms/step - loss: 0.0522 - accuracy: 0.9893 - val_loss: 1.3149 - val_accuracy: 0.7790\n",
            "Epoch 57/60\n",
            "79/79 [==============================] - 3s 36ms/step - loss: 0.0490 - accuracy: 0.9898 - val_loss: 1.3053 - val_accuracy: 0.7824\n",
            "Epoch 58/60\n",
            "79/79 [==============================] - 3s 36ms/step - loss: 0.0435 - accuracy: 0.9914 - val_loss: 1.3506 - val_accuracy: 0.7794\n",
            "Epoch 59/60\n",
            "79/79 [==============================] - 3s 36ms/step - loss: 0.0424 - accuracy: 0.9913 - val_loss: 1.3428 - val_accuracy: 0.7826\n",
            "Epoch 60/60\n",
            "79/79 [==============================] - 3s 36ms/step - loss: 0.0358 - accuracy: 0.9929 - val_loss: 1.3534 - val_accuracy: 0.7845\n"
          ],
          "name": "stdout"
        },
        {
          "output_type": "display_data",
          "data": {
            "text/html": [
              "<br/>Waiting for W&B process to finish, PID 456<br/>Program ended successfully."
            ],
            "text/plain": [
              "<IPython.core.display.HTML object>"
            ]
          },
          "metadata": {
            "tags": []
          }
        },
        {
          "output_type": "display_data",
          "data": {
            "application/vnd.jupyter.widget-view+json": {
              "model_id": "e638c450439c4d538d3d4b5f62a1f575",
              "version_minor": 0,
              "version_major": 2
            },
            "text/plain": [
              "VBox(children=(Label(value=' 78.78MB of 78.78MB uploaded (0.00MB deduped)\\r'), FloatProgress(value=1.0, max=1.…"
            ]
          },
          "metadata": {
            "tags": []
          }
        },
        {
          "output_type": "display_data",
          "data": {
            "text/html": [
              "Find user logs for this run at: <code>/root/.keras/datasets/dakshina_dataset_v1.0/hi/lexicons/wandb/run-20210428_173558-1r8yy4y1/logs/debug.log</code>"
            ],
            "text/plain": [
              "<IPython.core.display.HTML object>"
            ]
          },
          "metadata": {
            "tags": []
          }
        },
        {
          "output_type": "display_data",
          "data": {
            "text/html": [
              "Find internal logs for this run at: <code>/root/.keras/datasets/dakshina_dataset_v1.0/hi/lexicons/wandb/run-20210428_173558-1r8yy4y1/logs/debug-internal.log</code>"
            ],
            "text/plain": [
              "<IPython.core.display.HTML object>"
            ]
          },
          "metadata": {
            "tags": []
          }
        },
        {
          "output_type": "display_data",
          "data": {
            "text/html": [
              "<h3>Run summary:</h3><br/><style>\n",
              "    table.wandb td:nth-child(1) { padding: 0 10px; text-align: right }\n",
              "    </style><table class=\"wandb\">\n",
              "<tr><td>epoch</td><td>59</td></tr><tr><td>loss</td><td>0.03525</td></tr><tr><td>accuracy</td><td>0.99263</td></tr><tr><td>val_loss</td><td>1.35341</td></tr><tr><td>val_accuracy</td><td>0.78448</td></tr><tr><td>_runtime</td><td>186</td></tr><tr><td>_timestamp</td><td>1619631544</td></tr><tr><td>_step</td><td>59</td></tr><tr><td>best_val_loss</td><td>1.07743</td></tr><tr><td>best_epoch</td><td>37</td></tr></table>"
            ],
            "text/plain": [
              "<IPython.core.display.HTML object>"
            ]
          },
          "metadata": {
            "tags": []
          }
        },
        {
          "output_type": "display_data",
          "data": {
            "text/html": [
              "<h3>Run history:</h3><br/><style>\n",
              "    table.wandb td:nth-child(1) { padding: 0 10px; text-align: right }\n",
              "    </style><table class=\"wandb\">\n",
              "<tr><td>epoch</td><td>▁▁▁▁▂▂▂▂▂▃▃▃▃▃▃▄▄▄▄▄▅▅▅▅▅▅▆▆▆▆▆▆▇▇▇▇▇███</td></tr><tr><td>loss</td><td>█▆▆▆▆▆▆▆▆▆▆▅▅▅▅▅▅▅▅▅▅▄▄▄▃▃▃▃▂▂▂▂▂▁▁▁▁▁▁▁</td></tr><tr><td>accuracy</td><td>▁▂▂▂▂▂▂▂▃▃▃▃▃▃▃▃▃▃▃▃▃▃▄▄▅▅▆▆▆▆▇▇▇▇██████</td></tr><tr><td>val_loss</td><td>▅▆▆▅▇▇▇█▇▇▇▆▆▆▆▆▆▆▆▆▂▂▂▂▂▁▁▁▂▂▃▃▃▄▅▅▆▇██</td></tr><tr><td>val_accuracy</td><td>▁▁▂▂▁▂▂▂▂▂▂▂▂▃▃▃▃▃▃▃▅▅▅▅▅▇▇▇▇▇▇██████▇▇█</td></tr><tr><td>_runtime</td><td>▁▁▁▁▂▂▂▂▂▃▃▃▃▃▄▄▄▄▄▄▅▅▅▅▅▅▆▆▆▆▆▆▇▇▇▇▇███</td></tr><tr><td>_timestamp</td><td>▁▁▁▁▂▂▂▂▂▃▃▃▃▃▄▄▄▄▄▄▅▅▅▅▅▅▆▆▆▆▆▆▇▇▇▇▇███</td></tr><tr><td>_step</td><td>▁▁▁▁▂▂▂▂▂▃▃▃▃▃▃▄▄▄▄▄▅▅▅▅▅▅▆▆▆▆▆▆▇▇▇▇▇███</td></tr></table><br/>"
            ],
            "text/plain": [
              "<IPython.core.display.HTML object>"
            ]
          },
          "metadata": {
            "tags": []
          }
        },
        {
          "output_type": "display_data",
          "data": {
            "text/html": [
              "Synced 5 W&B file(s), 1 media file(s), 0 artifact file(s) and 1 other file(s)"
            ],
            "text/plain": [
              "<IPython.core.display.HTML object>"
            ]
          },
          "metadata": {
            "tags": []
          }
        },
        {
          "output_type": "display_data",
          "data": {
            "text/html": [
              "\n",
              "                    <br/>Synced <strong style=\"color:#cdcd00\">skilled-sweep-2</strong>: <a href=\"https://wandb.ai/anshikag_2210/MachineTransliterator/runs/1r8yy4y1\" target=\"_blank\">https://wandb.ai/anshikag_2210/MachineTransliterator/runs/1r8yy4y1</a><br/>\n",
              "                "
            ],
            "text/plain": [
              "<IPython.core.display.HTML object>"
            ]
          },
          "metadata": {
            "tags": []
          }
        },
        {
          "output_type": "stream",
          "text": [
            "\u001b[34m\u001b[1mwandb\u001b[0m: Agent Starting Run: wzccu5pl with config:\n",
            "\u001b[34m\u001b[1mwandb\u001b[0m: \tbatch_size: 128\n",
            "\u001b[34m\u001b[1mwandb\u001b[0m: \tcell_type: gru\n",
            "\u001b[34m\u001b[1mwandb\u001b[0m: \tdecoder_embed_size: 64\n",
            "\u001b[34m\u001b[1mwandb\u001b[0m: \tdropout: 0.5\n",
            "\u001b[34m\u001b[1mwandb\u001b[0m: \tencoder_embed_size: 64\n",
            "\u001b[34m\u001b[1mwandb\u001b[0m: \tepochs: 40\n",
            "\u001b[34m\u001b[1mwandb\u001b[0m: \thidden_layer_size: 128\n",
            "\u001b[34m\u001b[1mwandb\u001b[0m: \tnum_decoder_layers: 2\n",
            "\u001b[34m\u001b[1mwandb\u001b[0m: \tnum_encoder_layers: 1\n",
            "\u001b[34m\u001b[1mwandb\u001b[0m: \tnum_hidden_layers: 10\n"
          ],
          "name": "stderr"
        },
        {
          "output_type": "display_data",
          "data": {
            "text/html": [
              "\n",
              "                Tracking run with wandb version 0.10.27<br/>\n",
              "                Syncing run <strong style=\"color:#cdcd00\">cool-sweep-3</strong> to <a href=\"https://wandb.ai\" target=\"_blank\">Weights & Biases</a> <a href=\"https://docs.wandb.com/integrations/jupyter.html\" target=\"_blank\">(Documentation)</a>.<br/>\n",
              "                Project page: <a href=\"https://wandb.ai/anshikag_2210/MachineTransliterator\" target=\"_blank\">https://wandb.ai/anshikag_2210/MachineTransliterator</a><br/>\n",
              "                Sweep page: <a href=\"https://wandb.ai/anshikag_2210/MachineTransliterator/sweeps/4qzxmg7y\" target=\"_blank\">https://wandb.ai/anshikag_2210/MachineTransliterator/sweeps/4qzxmg7y</a><br/>\n",
              "Run page: <a href=\"https://wandb.ai/anshikag_2210/MachineTransliterator/runs/wzccu5pl\" target=\"_blank\">https://wandb.ai/anshikag_2210/MachineTransliterator/runs/wzccu5pl</a><br/>\n",
              "                Run data is saved locally in <code>/root/.keras/datasets/dakshina_dataset_v1.0/hi/lexicons/wandb/run-20210428_173909-wzccu5pl</code><br/><br/>\n",
              "            "
            ],
            "text/plain": [
              "<IPython.core.display.HTML object>"
            ]
          },
          "metadata": {
            "tags": []
          }
        },
        {
          "output_type": "stream",
          "text": [
            "Epoch 1/40\n",
            "79/79 [==============================] - 6s 27ms/step - loss: 1.9005 - accuracy: 0.6466 - val_loss: 1.2250 - val_accuracy: 0.7161\n"
          ],
          "name": "stdout"
        },
        {
          "output_type": "stream",
          "text": [
            "\u001b[34m\u001b[1mwandb\u001b[0m: \u001b[32m\u001b[41mERROR\u001b[0m Can't save model, h5py returned error: Unable to create link (name already exists)\n"
          ],
          "name": "stderr"
        },
        {
          "output_type": "stream",
          "text": [
            "Epoch 2/40\n",
            "79/79 [==============================] - 1s 18ms/step - loss: 1.0927 - accuracy: 0.7129 - val_loss: 1.2261 - val_accuracy: 0.7290\n",
            "Epoch 3/40\n",
            "79/79 [==============================] - 1s 16ms/step - loss: 1.0026 - accuracy: 0.7308 - val_loss: 1.2093 - val_accuracy: 0.7328\n",
            "Epoch 4/40\n",
            "79/79 [==============================] - 2s 23ms/step - loss: 0.9468 - accuracy: 0.7394 - val_loss: 1.1591 - val_accuracy: 0.7435\n",
            "Epoch 5/40\n",
            "79/79 [==============================] - 1s 16ms/step - loss: 0.8839 - accuracy: 0.7535 - val_loss: 1.1513 - val_accuracy: 0.7479\n",
            "Epoch 6/40\n",
            "79/79 [==============================] - 1s 16ms/step - loss: 0.8631 - accuracy: 0.7577 - val_loss: 1.1561 - val_accuracy: 0.7490\n",
            "Epoch 7/40\n",
            "79/79 [==============================] - 1s 15ms/step - loss: 0.8317 - accuracy: 0.7665 - val_loss: 1.1477 - val_accuracy: 0.7532\n",
            "Epoch 8/40\n",
            "79/79 [==============================] - 1s 15ms/step - loss: 0.8113 - accuracy: 0.7722 - val_loss: 1.1336 - val_accuracy: 0.7570\n",
            "Epoch 9/40\n",
            "79/79 [==============================] - 1s 15ms/step - loss: 0.7851 - accuracy: 0.7793 - val_loss: 1.1103 - val_accuracy: 0.7613\n",
            "Epoch 10/40\n",
            "79/79 [==============================] - 1s 14ms/step - loss: 0.7639 - accuracy: 0.7850 - val_loss: 1.1024 - val_accuracy: 0.7645\n",
            "Epoch 11/40\n",
            "79/79 [==============================] - 1s 13ms/step - loss: 0.7382 - accuracy: 0.7914 - val_loss: 1.0909 - val_accuracy: 0.7657\n",
            "Epoch 12/40\n",
            "79/79 [==============================] - 1s 15ms/step - loss: 0.7130 - accuracy: 0.7965 - val_loss: 1.0800 - val_accuracy: 0.7688\n",
            "Epoch 13/40\n",
            "79/79 [==============================] - 1s 15ms/step - loss: 0.6963 - accuracy: 0.8010 - val_loss: 1.0458 - val_accuracy: 0.7714\n",
            "Epoch 14/40\n",
            "79/79 [==============================] - 1s 15ms/step - loss: 0.6790 - accuracy: 0.8051 - val_loss: 1.0459 - val_accuracy: 0.7715\n",
            "Epoch 15/40\n",
            "79/79 [==============================] - 1s 15ms/step - loss: 0.6559 - accuracy: 0.8096 - val_loss: 1.0242 - val_accuracy: 0.7740\n",
            "Epoch 16/40\n",
            "79/79 [==============================] - 1s 14ms/step - loss: 0.6410 - accuracy: 0.8136 - val_loss: 1.0255 - val_accuracy: 0.7756\n",
            "Epoch 17/40\n",
            "79/79 [==============================] - 1s 15ms/step - loss: 0.6239 - accuracy: 0.8181 - val_loss: 1.0266 - val_accuracy: 0.7725\n",
            "Epoch 18/40\n",
            "79/79 [==============================] - 1s 14ms/step - loss: 0.6090 - accuracy: 0.8219 - val_loss: 1.0066 - val_accuracy: 0.7762\n",
            "Epoch 19/40\n",
            "79/79 [==============================] - 1s 14ms/step - loss: 0.5933 - accuracy: 0.8265 - val_loss: 0.9836 - val_accuracy: 0.7803\n",
            "Epoch 20/40\n",
            "79/79 [==============================] - 1s 13ms/step - loss: 0.5829 - accuracy: 0.8300 - val_loss: 0.9865 - val_accuracy: 0.7801\n",
            "Epoch 21/40\n",
            "79/79 [==============================] - 1s 14ms/step - loss: 0.5628 - accuracy: 0.8348 - val_loss: 0.9727 - val_accuracy: 0.7816\n",
            "Epoch 22/40\n",
            "79/79 [==============================] - 1s 14ms/step - loss: 0.5585 - accuracy: 0.8362 - val_loss: 0.9651 - val_accuracy: 0.7826\n",
            "Epoch 23/40\n",
            "79/79 [==============================] - 1s 14ms/step - loss: 0.5461 - accuracy: 0.8391 - val_loss: 0.9563 - val_accuracy: 0.7846\n",
            "Epoch 24/40\n",
            "79/79 [==============================] - 1s 15ms/step - loss: 0.5382 - accuracy: 0.8422 - val_loss: 0.9656 - val_accuracy: 0.7819\n",
            "Epoch 25/40\n",
            "79/79 [==============================] - 1s 14ms/step - loss: 0.5297 - accuracy: 0.8434 - val_loss: 0.9565 - val_accuracy: 0.7848\n",
            "Epoch 26/40\n",
            "79/79 [==============================] - 1s 15ms/step - loss: 0.5222 - accuracy: 0.8468 - val_loss: 0.9406 - val_accuracy: 0.7872\n",
            "Epoch 27/40\n",
            "79/79 [==============================] - 1s 13ms/step - loss: 0.5143 - accuracy: 0.8479 - val_loss: 0.9349 - val_accuracy: 0.7885\n",
            "Epoch 28/40\n",
            "79/79 [==============================] - 1s 15ms/step - loss: 0.5047 - accuracy: 0.8498 - val_loss: 0.9359 - val_accuracy: 0.7879\n",
            "Epoch 29/40\n",
            "79/79 [==============================] - 1s 14ms/step - loss: 0.5018 - accuracy: 0.8508 - val_loss: 0.9346 - val_accuracy: 0.7880\n",
            "Epoch 30/40\n",
            "79/79 [==============================] - 1s 14ms/step - loss: 0.4917 - accuracy: 0.8544 - val_loss: 0.9332 - val_accuracy: 0.7879\n",
            "Epoch 31/40\n",
            "79/79 [==============================] - 1s 15ms/step - loss: 0.4915 - accuracy: 0.8544 - val_loss: 0.9300 - val_accuracy: 0.7884\n",
            "Epoch 32/40\n",
            "79/79 [==============================] - 1s 13ms/step - loss: 0.4886 - accuracy: 0.8550 - val_loss: 0.9203 - val_accuracy: 0.7898\n",
            "Epoch 33/40\n",
            "79/79 [==============================] - 1s 14ms/step - loss: 0.4756 - accuracy: 0.8596 - val_loss: 0.9152 - val_accuracy: 0.7904\n",
            "Epoch 34/40\n",
            "79/79 [==============================] - 1s 15ms/step - loss: 0.4794 - accuracy: 0.8559 - val_loss: 0.9153 - val_accuracy: 0.7922\n",
            "Epoch 35/40\n",
            "79/79 [==============================] - 1s 14ms/step - loss: 0.4695 - accuracy: 0.8609 - val_loss: 0.9283 - val_accuracy: 0.7881\n",
            "Epoch 36/40\n",
            "79/79 [==============================] - 1s 14ms/step - loss: 0.4658 - accuracy: 0.8616 - val_loss: 0.9166 - val_accuracy: 0.7897\n",
            "Epoch 37/40\n",
            "79/79 [==============================] - 1s 15ms/step - loss: 0.4609 - accuracy: 0.8623 - val_loss: 0.9051 - val_accuracy: 0.7933\n",
            "Epoch 38/40\n",
            "79/79 [==============================] - 1s 15ms/step - loss: 0.4573 - accuracy: 0.8639 - val_loss: 0.9091 - val_accuracy: 0.7916\n",
            "Epoch 39/40\n",
            "79/79 [==============================] - 1s 15ms/step - loss: 0.4570 - accuracy: 0.8638 - val_loss: 0.9037 - val_accuracy: 0.7934\n",
            "Epoch 40/40\n",
            "79/79 [==============================] - 1s 15ms/step - loss: 0.4499 - accuracy: 0.8655 - val_loss: 0.8973 - val_accuracy: 0.7945\n"
          ],
          "name": "stdout"
        },
        {
          "output_type": "display_data",
          "data": {
            "text/html": [
              "<br/>Waiting for W&B process to finish, PID 700<br/>Program ended successfully."
            ],
            "text/plain": [
              "<IPython.core.display.HTML object>"
            ]
          },
          "metadata": {
            "tags": []
          }
        },
        {
          "output_type": "display_data",
          "data": {
            "application/vnd.jupyter.widget-view+json": {
              "model_id": "90a9508c01e34e1f8aef7b80c0be8520",
              "version_minor": 0,
              "version_major": 2
            },
            "text/plain": [
              "VBox(children=(Label(value=' 67.45MB of 67.45MB uploaded (0.00MB deduped)\\r'), FloatProgress(value=1.0, max=1.…"
            ]
          },
          "metadata": {
            "tags": []
          }
        },
        {
          "output_type": "display_data",
          "data": {
            "text/html": [
              "Find user logs for this run at: <code>/root/.keras/datasets/dakshina_dataset_v1.0/hi/lexicons/wandb/run-20210428_173909-wzccu5pl/logs/debug.log</code>"
            ],
            "text/plain": [
              "<IPython.core.display.HTML object>"
            ]
          },
          "metadata": {
            "tags": []
          }
        },
        {
          "output_type": "display_data",
          "data": {
            "text/html": [
              "Find internal logs for this run at: <code>/root/.keras/datasets/dakshina_dataset_v1.0/hi/lexicons/wandb/run-20210428_173909-wzccu5pl/logs/debug-internal.log</code>"
            ],
            "text/plain": [
              "<IPython.core.display.HTML object>"
            ]
          },
          "metadata": {
            "tags": []
          }
        },
        {
          "output_type": "display_data",
          "data": {
            "text/html": [
              "<h3>Run summary:</h3><br/><style>\n",
              "    table.wandb td:nth-child(1) { padding: 0 10px; text-align: right }\n",
              "    </style><table class=\"wandb\">\n",
              "<tr><td>epoch</td><td>39</td></tr><tr><td>loss</td><td>0.44985</td></tr><tr><td>accuracy</td><td>0.86594</td></tr><tr><td>val_loss</td><td>0.89726</td></tr><tr><td>val_accuracy</td><td>0.79454</td></tr><tr><td>_runtime</td><td>54</td></tr><tr><td>_timestamp</td><td>1619631604</td></tr><tr><td>_step</td><td>39</td></tr><tr><td>best_val_loss</td><td>0.89726</td></tr><tr><td>best_epoch</td><td>39</td></tr></table>"
            ],
            "text/plain": [
              "<IPython.core.display.HTML object>"
            ]
          },
          "metadata": {
            "tags": []
          }
        },
        {
          "output_type": "display_data",
          "data": {
            "text/html": [
              "<h3>Run history:</h3><br/><style>\n",
              "    table.wandb td:nth-child(1) { padding: 0 10px; text-align: right }\n",
              "    </style><table class=\"wandb\">\n",
              "<tr><td>epoch</td><td>▁▁▁▂▂▂▂▂▂▃▃▃▃▃▄▄▄▄▄▄▅▅▅▅▅▅▆▆▆▆▆▇▇▇▇▇▇███</td></tr><tr><td>loss</td><td>█▅▅▄▄▄▄▄▃▃▃▃▃▃▂▂▂▂▂▂▂▂▂▂▂▂▁▁▁▁▁▁▁▁▁▁▁▁▁▁</td></tr><tr><td>accuracy</td><td>▁▂▃▃▄▄▄▄▅▅▅▅▆▆▆▆▆▆▆▇▇▇▇▇▇▇▇▇▇███████████</td></tr><tr><td>val_loss</td><td>███▇▆▇▆▆▆▅▅▅▄▄▄▄▄▃▃▃▃▂▂▂▂▂▂▂▂▂▂▁▁▁▂▁▁▁▁▁</td></tr><tr><td>val_accuracy</td><td>▁▂▂▃▄▄▄▅▅▅▅▆▆▆▆▆▆▆▇▇▇▇▇▇▇▇▇▇▇▇▇███▇█████</td></tr><tr><td>_runtime</td><td>▁▁▁▂▂▂▂▃▃▃▃▃▃▄▄▄▄▄▅▅▅▅▅▅▅▆▆▆▆▆▆▇▇▇▇▇████</td></tr><tr><td>_timestamp</td><td>▁▁▁▂▂▂▂▃▃▃▃▃▃▄▄▄▄▄▅▅▅▅▅▅▅▆▆▆▆▆▆▇▇▇▇▇████</td></tr><tr><td>_step</td><td>▁▁▁▂▂▂▂▂▂▃▃▃▃▃▄▄▄▄▄▄▅▅▅▅▅▅▆▆▆▆▆▇▇▇▇▇▇███</td></tr></table><br/>"
            ],
            "text/plain": [
              "<IPython.core.display.HTML object>"
            ]
          },
          "metadata": {
            "tags": []
          }
        },
        {
          "output_type": "display_data",
          "data": {
            "text/html": [
              "Synced 5 W&B file(s), 1 media file(s), 0 artifact file(s) and 1 other file(s)"
            ],
            "text/plain": [
              "<IPython.core.display.HTML object>"
            ]
          },
          "metadata": {
            "tags": []
          }
        },
        {
          "output_type": "display_data",
          "data": {
            "text/html": [
              "\n",
              "                    <br/>Synced <strong style=\"color:#cdcd00\">cool-sweep-3</strong>: <a href=\"https://wandb.ai/anshikag_2210/MachineTransliterator/runs/wzccu5pl\" target=\"_blank\">https://wandb.ai/anshikag_2210/MachineTransliterator/runs/wzccu5pl</a><br/>\n",
              "                "
            ],
            "text/plain": [
              "<IPython.core.display.HTML object>"
            ]
          },
          "metadata": {
            "tags": []
          }
        },
        {
          "output_type": "stream",
          "text": [
            "\u001b[34m\u001b[1mwandb\u001b[0m: Agent Starting Run: awhbgjb8 with config:\n",
            "\u001b[34m\u001b[1mwandb\u001b[0m: \tbatch_size: 128\n",
            "\u001b[34m\u001b[1mwandb\u001b[0m: \tcell_type: gru\n",
            "\u001b[34m\u001b[1mwandb\u001b[0m: \tdecoder_embed_size: 27\n",
            "\u001b[34m\u001b[1mwandb\u001b[0m: \tdropout: 0.01\n",
            "\u001b[34m\u001b[1mwandb\u001b[0m: \tencoder_embed_size: 27\n",
            "\u001b[34m\u001b[1mwandb\u001b[0m: \tepochs: 60\n",
            "\u001b[34m\u001b[1mwandb\u001b[0m: \thidden_layer_size: 512\n",
            "\u001b[34m\u001b[1mwandb\u001b[0m: \tnum_decoder_layers: 4\n",
            "\u001b[34m\u001b[1mwandb\u001b[0m: \tnum_encoder_layers: 1\n",
            "\u001b[34m\u001b[1mwandb\u001b[0m: \tnum_hidden_layers: 2\n"
          ],
          "name": "stderr"
        },
        {
          "output_type": "display_data",
          "data": {
            "text/html": [
              "\n",
              "                Tracking run with wandb version 0.10.27<br/>\n",
              "                Syncing run <strong style=\"color:#cdcd00\">eternal-sweep-4</strong> to <a href=\"https://wandb.ai\" target=\"_blank\">Weights & Biases</a> <a href=\"https://docs.wandb.com/integrations/jupyter.html\" target=\"_blank\">(Documentation)</a>.<br/>\n",
              "                Project page: <a href=\"https://wandb.ai/anshikag_2210/MachineTransliterator\" target=\"_blank\">https://wandb.ai/anshikag_2210/MachineTransliterator</a><br/>\n",
              "                Sweep page: <a href=\"https://wandb.ai/anshikag_2210/MachineTransliterator/sweeps/4qzxmg7y\" target=\"_blank\">https://wandb.ai/anshikag_2210/MachineTransliterator/sweeps/4qzxmg7y</a><br/>\n",
              "Run page: <a href=\"https://wandb.ai/anshikag_2210/MachineTransliterator/runs/awhbgjb8\" target=\"_blank\">https://wandb.ai/anshikag_2210/MachineTransliterator/runs/awhbgjb8</a><br/>\n",
              "                Run data is saved locally in <code>/root/.keras/datasets/dakshina_dataset_v1.0/hi/lexicons/wandb/run-20210428_174009-awhbgjb8</code><br/><br/>\n",
              "            "
            ],
            "text/plain": [
              "<IPython.core.display.HTML object>"
            ]
          },
          "metadata": {
            "tags": []
          }
        },
        {
          "output_type": "stream",
          "text": [
            "Epoch 1/60\n",
            "79/79 [==============================] - 12s 68ms/step - loss: 1.8606 - accuracy: 0.6460 - val_loss: 1.1951 - val_accuracy: 0.7114\n"
          ],
          "name": "stdout"
        },
        {
          "output_type": "stream",
          "text": [
            "\u001b[34m\u001b[1mwandb\u001b[0m: \u001b[32m\u001b[41mERROR\u001b[0m Can't save model, h5py returned error: Unable to create link (name already exists)\n"
          ],
          "name": "stderr"
        },
        {
          "output_type": "stream",
          "text": [
            "Epoch 2/60\n",
            "79/79 [==============================] - 4s 51ms/step - loss: 1.1957 - accuracy: 0.7081 - val_loss: 1.2241 - val_accuracy: 0.7148\n",
            "Epoch 3/60\n",
            "79/79 [==============================] - 4s 51ms/step - loss: 1.0825 - accuracy: 0.7160 - val_loss: 1.2232 - val_accuracy: 0.7220\n",
            "Epoch 4/60\n",
            "79/79 [==============================] - 4s 51ms/step - loss: 1.0220 - accuracy: 0.7266 - val_loss: 1.1814 - val_accuracy: 0.7324\n",
            "Epoch 5/60\n",
            "79/79 [==============================] - 4s 51ms/step - loss: 0.9635 - accuracy: 0.7339 - val_loss: 1.1651 - val_accuracy: 0.7389\n",
            "Epoch 6/60\n",
            "79/79 [==============================] - 4s 52ms/step - loss: 0.9368 - accuracy: 0.7381 - val_loss: 1.1715 - val_accuracy: 0.7383\n",
            "Epoch 7/60\n",
            "79/79 [==============================] - 4s 51ms/step - loss: 0.9121 - accuracy: 0.7412 - val_loss: 1.1872 - val_accuracy: 0.7393\n",
            "Epoch 8/60\n",
            "79/79 [==============================] - 4s 52ms/step - loss: 0.9017 - accuracy: 0.7420 - val_loss: 1.1680 - val_accuracy: 0.7432\n",
            "Epoch 9/60\n",
            "79/79 [==============================] - 4s 52ms/step - loss: 0.8865 - accuracy: 0.7467 - val_loss: 1.1767 - val_accuracy: 0.7447\n",
            "Epoch 10/60\n",
            "79/79 [==============================] - 4s 52ms/step - loss: 0.8734 - accuracy: 0.7493 - val_loss: 1.1706 - val_accuracy: 0.7459\n",
            "Epoch 11/60\n",
            "79/79 [==============================] - 4s 52ms/step - loss: 0.8561 - accuracy: 0.7549 - val_loss: 1.1721 - val_accuracy: 0.7475\n",
            "Epoch 12/60\n",
            "79/79 [==============================] - 4s 51ms/step - loss: 0.8461 - accuracy: 0.7574 - val_loss: 1.1807 - val_accuracy: 0.7485\n",
            "Epoch 13/60\n",
            "79/79 [==============================] - 4s 51ms/step - loss: 0.8364 - accuracy: 0.7601 - val_loss: 1.1868 - val_accuracy: 0.7483\n",
            "Epoch 14/60\n",
            "79/79 [==============================] - 4s 51ms/step - loss: 0.8266 - accuracy: 0.7630 - val_loss: 1.1885 - val_accuracy: 0.7487\n",
            "Epoch 15/60\n",
            "79/79 [==============================] - 4s 51ms/step - loss: 0.8152 - accuracy: 0.7659 - val_loss: 1.1891 - val_accuracy: 0.7490\n",
            "Epoch 16/60\n",
            "79/79 [==============================] - 4s 51ms/step - loss: 0.8159 - accuracy: 0.7649 - val_loss: 1.1959 - val_accuracy: 0.7482\n",
            "Epoch 17/60\n",
            "79/79 [==============================] - 4s 51ms/step - loss: 0.8022 - accuracy: 0.7688 - val_loss: 1.2013 - val_accuracy: 0.7485\n",
            "Epoch 18/60\n",
            "79/79 [==============================] - 4s 50ms/step - loss: 0.7983 - accuracy: 0.7697 - val_loss: 1.2048 - val_accuracy: 0.7479\n",
            "Epoch 19/60\n",
            "79/79 [==============================] - 4s 51ms/step - loss: 0.7991 - accuracy: 0.7698 - val_loss: 1.2028 - val_accuracy: 0.7488\n",
            "Epoch 20/60\n",
            "79/79 [==============================] - 4s 51ms/step - loss: 0.7915 - accuracy: 0.7718 - val_loss: 1.2049 - val_accuracy: 0.7488\n",
            "Epoch 21/60\n",
            "79/79 [==============================] - 4s 51ms/step - loss: 0.7941 - accuracy: 0.7707 - val_loss: 1.2092 - val_accuracy: 0.7484\n",
            "Epoch 22/60\n",
            "79/79 [==============================] - 4s 51ms/step - loss: 0.7894 - accuracy: 0.7715 - val_loss: 1.2074 - val_accuracy: 0.7484\n",
            "Epoch 23/60\n",
            "79/79 [==============================] - 4s 51ms/step - loss: 0.7912 - accuracy: 0.7710 - val_loss: 1.2071 - val_accuracy: 0.7488\n",
            "Epoch 24/60\n",
            "79/79 [==============================] - 4s 51ms/step - loss: 0.7897 - accuracy: 0.7715 - val_loss: 1.2123 - val_accuracy: 0.7484\n",
            "Epoch 25/60\n",
            "79/79 [==============================] - 4s 51ms/step - loss: 0.7868 - accuracy: 0.7720 - val_loss: 1.2110 - val_accuracy: 0.7488\n",
            "Epoch 26/60\n",
            "79/79 [==============================] - 4s 51ms/step - loss: 0.7858 - accuracy: 0.7736 - val_loss: 1.2109 - val_accuracy: 0.7487\n",
            "Epoch 27/60\n",
            "79/79 [==============================] - 4s 51ms/step - loss: 0.7886 - accuracy: 0.7726 - val_loss: 1.2116 - val_accuracy: 0.7487\n",
            "Epoch 28/60\n",
            "79/79 [==============================] - 4s 51ms/step - loss: 0.7925 - accuracy: 0.7718 - val_loss: 1.2110 - val_accuracy: 0.7488\n",
            "Epoch 29/60\n",
            "79/79 [==============================] - 4s 51ms/step - loss: 0.7825 - accuracy: 0.7737 - val_loss: 1.2114 - val_accuracy: 0.7487\n",
            "Epoch 30/60\n",
            "79/79 [==============================] - 4s 51ms/step - loss: 0.7985 - accuracy: 0.7711 - val_loss: 1.4269 - val_accuracy: 0.7122\n",
            "Epoch 31/60\n",
            "79/79 [==============================] - 4s 51ms/step - loss: 1.0632 - accuracy: 0.7138 - val_loss: 1.2408 - val_accuracy: 0.7288\n",
            "Epoch 32/60\n",
            "79/79 [==============================] - 4s 51ms/step - loss: 0.9618 - accuracy: 0.7275 - val_loss: 1.2300 - val_accuracy: 0.7306\n",
            "Epoch 33/60\n",
            "79/79 [==============================] - 4s 51ms/step - loss: 0.9372 - accuracy: 0.7338 - val_loss: 1.1979 - val_accuracy: 0.7408\n",
            "Epoch 34/60\n",
            "79/79 [==============================] - 4s 52ms/step - loss: 0.8747 - accuracy: 0.7480 - val_loss: 1.2076 - val_accuracy: 0.7376\n",
            "Epoch 35/60\n",
            "79/79 [==============================] - 4s 51ms/step - loss: 0.8516 - accuracy: 0.7532 - val_loss: 1.1828 - val_accuracy: 0.7467\n",
            "Epoch 36/60\n",
            "79/79 [==============================] - 4s 51ms/step - loss: 0.8123 - accuracy: 0.7656 - val_loss: 1.1746 - val_accuracy: 0.7471\n",
            "Epoch 37/60\n",
            "79/79 [==============================] - 4s 51ms/step - loss: 0.7698 - accuracy: 0.7758 - val_loss: 1.1773 - val_accuracy: 0.7450\n",
            "Epoch 38/60\n",
            "79/79 [==============================] - 4s 51ms/step - loss: 0.7445 - accuracy: 0.7812 - val_loss: 1.1992 - val_accuracy: 0.7403\n",
            "Epoch 39/60\n",
            "79/79 [==============================] - 4s 51ms/step - loss: 0.7213 - accuracy: 0.7872 - val_loss: 1.2015 - val_accuracy: 0.7482\n",
            "Epoch 40/60\n",
            "79/79 [==============================] - 4s 51ms/step - loss: 0.6947 - accuracy: 0.7931 - val_loss: 1.2119 - val_accuracy: 0.7505\n",
            "Epoch 41/60\n",
            "79/79 [==============================] - 4s 51ms/step - loss: 0.6748 - accuracy: 0.7983 - val_loss: 1.2247 - val_accuracy: 0.7516\n",
            "Epoch 42/60\n",
            "79/79 [==============================] - 4s 51ms/step - loss: 0.6522 - accuracy: 0.8038 - val_loss: 1.2441 - val_accuracy: 0.7480\n",
            "Epoch 43/60\n",
            "79/79 [==============================] - 4s 51ms/step - loss: 0.6288 - accuracy: 0.8093 - val_loss: 1.2575 - val_accuracy: 0.7523\n",
            "Epoch 44/60\n",
            "79/79 [==============================] - 4s 51ms/step - loss: 0.6070 - accuracy: 0.8164 - val_loss: 1.2938 - val_accuracy: 0.7471\n",
            "Epoch 45/60\n",
            "79/79 [==============================] - 4s 51ms/step - loss: 0.5845 - accuracy: 0.8224 - val_loss: 1.2856 - val_accuracy: 0.7494\n",
            "Epoch 46/60\n",
            "79/79 [==============================] - 4s 52ms/step - loss: 0.5632 - accuracy: 0.8289 - val_loss: 1.3397 - val_accuracy: 0.7432\n",
            "Epoch 47/60\n",
            "79/79 [==============================] - 4s 51ms/step - loss: 0.5551 - accuracy: 0.8310 - val_loss: 1.3348 - val_accuracy: 0.7430\n",
            "Epoch 48/60\n",
            "79/79 [==============================] - 4s 51ms/step - loss: 0.5325 - accuracy: 0.8367 - val_loss: 1.3483 - val_accuracy: 0.7488\n",
            "Epoch 49/60\n",
            "79/79 [==============================] - 4s 51ms/step - loss: 0.5179 - accuracy: 0.8420 - val_loss: 1.3474 - val_accuracy: 0.7509\n",
            "Epoch 50/60\n",
            "79/79 [==============================] - 4s 51ms/step - loss: 0.4981 - accuracy: 0.8466 - val_loss: 1.3864 - val_accuracy: 0.7378\n",
            "Epoch 51/60\n",
            "79/79 [==============================] - 4s 51ms/step - loss: 0.4785 - accuracy: 0.8521 - val_loss: 1.3914 - val_accuracy: 0.7497\n",
            "Epoch 52/60\n",
            "79/79 [==============================] - 4s 51ms/step - loss: 0.4701 - accuracy: 0.8535 - val_loss: 1.3946 - val_accuracy: 0.7450\n",
            "Epoch 53/60\n",
            "79/79 [==============================] - 4s 51ms/step - loss: 0.4510 - accuracy: 0.8603 - val_loss: 1.4537 - val_accuracy: 0.7371\n",
            "Epoch 54/60\n",
            "79/79 [==============================] - 4s 51ms/step - loss: 0.4505 - accuracy: 0.8605 - val_loss: 1.4211 - val_accuracy: 0.7480\n",
            "Epoch 55/60\n",
            "79/79 [==============================] - 4s 51ms/step - loss: 0.4213 - accuracy: 0.8677 - val_loss: 1.4535 - val_accuracy: 0.7454\n",
            "Epoch 56/60\n",
            "79/79 [==============================] - 4s 51ms/step - loss: 0.4071 - accuracy: 0.8749 - val_loss: 1.4306 - val_accuracy: 0.7508\n",
            "Epoch 57/60\n",
            "79/79 [==============================] - 4s 51ms/step - loss: 0.3838 - accuracy: 0.8816 - val_loss: 1.4500 - val_accuracy: 0.7514\n",
            "Epoch 58/60\n",
            "79/79 [==============================] - 4s 51ms/step - loss: 0.3666 - accuracy: 0.8872 - val_loss: 1.4858 - val_accuracy: 0.7480\n",
            "Epoch 59/60\n",
            "79/79 [==============================] - 4s 50ms/step - loss: 0.3549 - accuracy: 0.8906 - val_loss: 1.4802 - val_accuracy: 0.7498\n",
            "Epoch 60/60\n",
            "79/79 [==============================] - 4s 51ms/step - loss: 0.3491 - accuracy: 0.8921 - val_loss: 1.4954 - val_accuracy: 0.7504\n"
          ],
          "name": "stdout"
        },
        {
          "output_type": "display_data",
          "data": {
            "text/html": [
              "<br/>Waiting for W&B process to finish, PID 865<br/>Program ended successfully."
            ],
            "text/plain": [
              "<IPython.core.display.HTML object>"
            ]
          },
          "metadata": {
            "tags": []
          }
        },
        {
          "output_type": "display_data",
          "data": {
            "application/vnd.jupyter.widget-view+json": {
              "model_id": "59a93b960c2c451aaf50d62346cb18aa",
              "version_minor": 0,
              "version_major": 2
            },
            "text/plain": [
              "VBox(children=(Label(value=' 90.96MB of 90.96MB uploaded (0.00MB deduped)\\r'), FloatProgress(value=1.0, max=1.…"
            ]
          },
          "metadata": {
            "tags": []
          }
        },
        {
          "output_type": "display_data",
          "data": {
            "text/html": [
              "Find user logs for this run at: <code>/root/.keras/datasets/dakshina_dataset_v1.0/hi/lexicons/wandb/run-20210428_174009-awhbgjb8/logs/debug.log</code>"
            ],
            "text/plain": [
              "<IPython.core.display.HTML object>"
            ]
          },
          "metadata": {
            "tags": []
          }
        },
        {
          "output_type": "display_data",
          "data": {
            "text/html": [
              "Find internal logs for this run at: <code>/root/.keras/datasets/dakshina_dataset_v1.0/hi/lexicons/wandb/run-20210428_174009-awhbgjb8/logs/debug-internal.log</code>"
            ],
            "text/plain": [
              "<IPython.core.display.HTML object>"
            ]
          },
          "metadata": {
            "tags": []
          }
        },
        {
          "output_type": "display_data",
          "data": {
            "text/html": [
              "<h3>Run summary:</h3><br/><style>\n",
              "    table.wandb td:nth-child(1) { padding: 0 10px; text-align: right }\n",
              "    </style><table class=\"wandb\">\n",
              "<tr><td>epoch</td><td>59</td></tr><tr><td>loss</td><td>0.345</td></tr><tr><td>accuracy</td><td>0.89335</td></tr><tr><td>val_loss</td><td>1.49536</td></tr><tr><td>val_accuracy</td><td>0.75037</td></tr><tr><td>_runtime</td><td>254</td></tr><tr><td>_timestamp</td><td>1619631863</td></tr><tr><td>_step</td><td>59</td></tr><tr><td>best_val_loss</td><td>1.16506</td></tr><tr><td>best_epoch</td><td>4</td></tr></table>"
            ],
            "text/plain": [
              "<IPython.core.display.HTML object>"
            ]
          },
          "metadata": {
            "tags": []
          }
        },
        {
          "output_type": "display_data",
          "data": {
            "text/html": [
              "<h3>Run history:</h3><br/><style>\n",
              "    table.wandb td:nth-child(1) { padding: 0 10px; text-align: right }\n",
              "    </style><table class=\"wandb\">\n",
              "<tr><td>epoch</td><td>▁▁▁▁▂▂▂▂▂▃▃▃▃▃▃▄▄▄▄▄▅▅▅▅▅▅▆▆▆▆▆▆▇▇▇▇▇███</td></tr><tr><td>loss</td><td>█▆▅▅▅▄▄▄▄▄▄▄▄▄▄▄▄▄▄▄▅▅▄▄▄▃▃▃▃▃▂▂▂▂▂▂▁▁▁▁</td></tr><tr><td>accuracy</td><td>▁▂▃▃▃▃▃▃▄▄▄▄▄▄▄▄▄▄▄▄▂▃▃▃▄▄▅▅▅▅▆▆▆▆▇▇▇▇██</td></tr><tr><td>val_loss</td><td>▂▂▁▁▁▁▁▁▁▁▂▂▂▂▂▂▂▂▂▂▃▂▂▁▁▂▂▂▃▄▅▅▅▆▆▇▇▇██</td></tr><tr><td>val_accuracy</td><td>▁▂▅▆▆▆▇▇▇▇▇▇▇▇▇▇▇▇▇▇▄▄▅▇▇▆███▇▆▆█▆▇▅▇█▇█</td></tr><tr><td>_runtime</td><td>▁▁▁▁▂▂▂▂▂▃▃▃▃▃▃▄▄▄▄▄▅▅▅▅▅▅▆▆▆▆▆▆▇▇▇▇▇███</td></tr><tr><td>_timestamp</td><td>▁▁▁▁▂▂▂▂▂▃▃▃▃▃▃▄▄▄▄▄▅▅▅▅▅▅▆▆▆▆▆▆▇▇▇▇▇███</td></tr><tr><td>_step</td><td>▁▁▁▁▂▂▂▂▂▃▃▃▃▃▃▄▄▄▄▄▅▅▅▅▅▅▆▆▆▆▆▆▇▇▇▇▇███</td></tr></table><br/>"
            ],
            "text/plain": [
              "<IPython.core.display.HTML object>"
            ]
          },
          "metadata": {
            "tags": []
          }
        },
        {
          "output_type": "display_data",
          "data": {
            "text/html": [
              "Synced 5 W&B file(s), 1 media file(s), 0 artifact file(s) and 1 other file(s)"
            ],
            "text/plain": [
              "<IPython.core.display.HTML object>"
            ]
          },
          "metadata": {
            "tags": []
          }
        },
        {
          "output_type": "display_data",
          "data": {
            "text/html": [
              "\n",
              "                    <br/>Synced <strong style=\"color:#cdcd00\">eternal-sweep-4</strong>: <a href=\"https://wandb.ai/anshikag_2210/MachineTransliterator/runs/awhbgjb8\" target=\"_blank\">https://wandb.ai/anshikag_2210/MachineTransliterator/runs/awhbgjb8</a><br/>\n",
              "                "
            ],
            "text/plain": [
              "<IPython.core.display.HTML object>"
            ]
          },
          "metadata": {
            "tags": []
          }
        },
        {
          "output_type": "stream",
          "text": [
            "\u001b[34m\u001b[1mwandb\u001b[0m: Agent Starting Run: jwkqe2qh with config:\n",
            "\u001b[34m\u001b[1mwandb\u001b[0m: \tbatch_size: 64\n",
            "\u001b[34m\u001b[1mwandb\u001b[0m: \tcell_type: rnn\n",
            "\u001b[34m\u001b[1mwandb\u001b[0m: \tdecoder_embed_size: 27\n",
            "\u001b[34m\u001b[1mwandb\u001b[0m: \tdropout: 0\n",
            "\u001b[34m\u001b[1mwandb\u001b[0m: \tencoder_embed_size: 27\n",
            "\u001b[34m\u001b[1mwandb\u001b[0m: \tepochs: 40\n",
            "\u001b[34m\u001b[1mwandb\u001b[0m: \thidden_layer_size: 128\n",
            "\u001b[34m\u001b[1mwandb\u001b[0m: \tnum_decoder_layers: 1\n",
            "\u001b[34m\u001b[1mwandb\u001b[0m: \tnum_encoder_layers: 2\n",
            "\u001b[34m\u001b[1mwandb\u001b[0m: \tnum_hidden_layers: 2\n"
          ],
          "name": "stderr"
        },
        {
          "output_type": "display_data",
          "data": {
            "text/html": [
              "\n",
              "                Tracking run with wandb version 0.10.27<br/>\n",
              "                Syncing run <strong style=\"color:#cdcd00\">stellar-sweep-5</strong> to <a href=\"https://wandb.ai\" target=\"_blank\">Weights & Biases</a> <a href=\"https://docs.wandb.com/integrations/jupyter.html\" target=\"_blank\">(Documentation)</a>.<br/>\n",
              "                Project page: <a href=\"https://wandb.ai/anshikag_2210/MachineTransliterator\" target=\"_blank\">https://wandb.ai/anshikag_2210/MachineTransliterator</a><br/>\n",
              "                Sweep page: <a href=\"https://wandb.ai/anshikag_2210/MachineTransliterator/sweeps/4qzxmg7y\" target=\"_blank\">https://wandb.ai/anshikag_2210/MachineTransliterator/sweeps/4qzxmg7y</a><br/>\n",
              "Run page: <a href=\"https://wandb.ai/anshikag_2210/MachineTransliterator/runs/jwkqe2qh\" target=\"_blank\">https://wandb.ai/anshikag_2210/MachineTransliterator/runs/jwkqe2qh</a><br/>\n",
              "                Run data is saved locally in <code>/root/.keras/datasets/dakshina_dataset_v1.0/hi/lexicons/wandb/run-20210428_174429-jwkqe2qh</code><br/><br/>\n",
              "            "
            ],
            "text/plain": [
              "<IPython.core.display.HTML object>"
            ]
          },
          "metadata": {
            "tags": []
          }
        },
        {
          "output_type": "stream",
          "text": [
            "Epoch 1/40\n",
            "157/157 [==============================] - 10s 49ms/step - loss: 1.7038 - accuracy: 0.6508 - val_loss: 1.2900 - val_accuracy: 0.7201\n"
          ],
          "name": "stdout"
        },
        {
          "output_type": "stream",
          "text": [
            "\u001b[34m\u001b[1mwandb\u001b[0m: \u001b[32m\u001b[41mERROR\u001b[0m Can't save model, h5py returned error: Unable to create link (name already exists)\n"
          ],
          "name": "stderr"
        },
        {
          "output_type": "stream",
          "text": [
            "Epoch 2/40\n",
            "157/157 [==============================] - 8s 48ms/step - loss: 1.0245 - accuracy: 0.7330 - val_loss: 1.2721 - val_accuracy: 0.7291\n",
            "Epoch 3/40\n",
            "157/157 [==============================] - 7s 46ms/step - loss: 0.9429 - accuracy: 0.7458 - val_loss: 1.2985 - val_accuracy: 0.7341\n",
            "Epoch 4/40\n",
            "157/157 [==============================] - 7s 45ms/step - loss: 0.9074 - accuracy: 0.7523 - val_loss: 1.2880 - val_accuracy: 0.7347\n",
            "Epoch 5/40\n",
            "157/157 [==============================] - 7s 45ms/step - loss: 0.8817 - accuracy: 0.7573 - val_loss: 1.2884 - val_accuracy: 0.7348\n",
            "Epoch 6/40\n",
            "157/157 [==============================] - 7s 46ms/step - loss: 0.8625 - accuracy: 0.7610 - val_loss: 1.2720 - val_accuracy: 0.7360\n",
            "Epoch 7/40\n",
            "157/157 [==============================] - 7s 45ms/step - loss: 0.8548 - accuracy: 0.7632 - val_loss: 1.2598 - val_accuracy: 0.7377\n",
            "Epoch 8/40\n",
            "157/157 [==============================] - 7s 47ms/step - loss: 0.8398 - accuracy: 0.7666 - val_loss: 1.2638 - val_accuracy: 0.7369\n",
            "Epoch 9/40\n",
            "157/157 [==============================] - 7s 46ms/step - loss: 0.8368 - accuracy: 0.7666 - val_loss: 1.2529 - val_accuracy: 0.7373\n",
            "Epoch 10/40\n",
            "157/157 [==============================] - 7s 45ms/step - loss: 0.8228 - accuracy: 0.7706 - val_loss: 1.2603 - val_accuracy: 0.7387\n",
            "Epoch 11/40\n",
            "157/157 [==============================] - 7s 45ms/step - loss: 0.8182 - accuracy: 0.7716 - val_loss: 1.2632 - val_accuracy: 0.7390\n",
            "Epoch 12/40\n",
            "157/157 [==============================] - 7s 47ms/step - loss: 0.8060 - accuracy: 0.7744 - val_loss: 1.2611 - val_accuracy: 0.7384\n",
            "Epoch 13/40\n",
            "157/157 [==============================] - 7s 46ms/step - loss: 0.8050 - accuracy: 0.7750 - val_loss: 1.2592 - val_accuracy: 0.7384\n",
            "Epoch 14/40\n",
            "157/157 [==============================] - 7s 42ms/step - loss: 0.7932 - accuracy: 0.7772 - val_loss: 1.2580 - val_accuracy: 0.7391\n",
            "Epoch 15/40\n",
            "157/157 [==============================] - 7s 46ms/step - loss: 0.7786 - accuracy: 0.7810 - val_loss: 1.2603 - val_accuracy: 0.7397\n",
            "Epoch 16/40\n",
            "157/157 [==============================] - 7s 45ms/step - loss: 0.7753 - accuracy: 0.7816 - val_loss: 1.2576 - val_accuracy: 0.7400\n",
            "Epoch 17/40\n",
            "157/157 [==============================] - 7s 45ms/step - loss: 0.7672 - accuracy: 0.7829 - val_loss: 1.2592 - val_accuracy: 0.7419\n",
            "Epoch 18/40\n",
            "157/157 [==============================] - 7s 46ms/step - loss: 0.7563 - accuracy: 0.7873 - val_loss: 1.2613 - val_accuracy: 0.7402\n",
            "Epoch 19/40\n",
            "157/157 [==============================] - 7s 44ms/step - loss: 0.7582 - accuracy: 0.7849 - val_loss: 1.2577 - val_accuracy: 0.7421\n",
            "Epoch 20/40\n",
            "157/157 [==============================] - 7s 46ms/step - loss: 0.7525 - accuracy: 0.7869 - val_loss: 1.2644 - val_accuracy: 0.7434\n",
            "Epoch 21/40\n",
            "157/157 [==============================] - 7s 45ms/step - loss: 0.7369 - accuracy: 0.7904 - val_loss: 1.2800 - val_accuracy: 0.7422\n",
            "Epoch 22/40\n",
            "157/157 [==============================] - 7s 44ms/step - loss: 0.7341 - accuracy: 0.7912 - val_loss: 1.2700 - val_accuracy: 0.7428\n",
            "Epoch 23/40\n",
            "157/157 [==============================] - 7s 45ms/step - loss: 0.7311 - accuracy: 0.7923 - val_loss: 1.2769 - val_accuracy: 0.7431\n",
            "Epoch 24/40\n",
            "157/157 [==============================] - 7s 46ms/step - loss: 0.7233 - accuracy: 0.7939 - val_loss: 1.2852 - val_accuracy: 0.7429\n",
            "Epoch 25/40\n",
            "157/157 [==============================] - 7s 45ms/step - loss: 0.7191 - accuracy: 0.7946 - val_loss: 1.2877 - val_accuracy: 0.7414\n",
            "Epoch 26/40\n",
            "157/157 [==============================] - 7s 46ms/step - loss: 0.7099 - accuracy: 0.7971 - val_loss: 1.2926 - val_accuracy: 0.7418\n",
            "Epoch 27/40\n",
            "157/157 [==============================] - 7s 46ms/step - loss: 0.7081 - accuracy: 0.7974 - val_loss: 1.2999 - val_accuracy: 0.7429\n",
            "Epoch 28/40\n",
            "157/157 [==============================] - 7s 45ms/step - loss: 0.7019 - accuracy: 0.7984 - val_loss: 1.2933 - val_accuracy: 0.7426\n",
            "Epoch 29/40\n",
            "157/157 [==============================] - 7s 46ms/step - loss: 0.6975 - accuracy: 0.8001 - val_loss: 1.3030 - val_accuracy: 0.7419\n",
            "Epoch 30/40\n",
            "157/157 [==============================] - 7s 46ms/step - loss: 0.6948 - accuracy: 0.7999 - val_loss: 1.3107 - val_accuracy: 0.7430\n",
            "Epoch 31/40\n",
            "157/157 [==============================] - 7s 45ms/step - loss: 0.6862 - accuracy: 0.8025 - val_loss: 1.3140 - val_accuracy: 0.7423\n",
            "Epoch 32/40\n",
            "157/157 [==============================] - 7s 45ms/step - loss: 0.6818 - accuracy: 0.8038 - val_loss: 1.3188 - val_accuracy: 0.7411\n",
            "Epoch 33/40\n",
            "157/157 [==============================] - 7s 46ms/step - loss: 0.6774 - accuracy: 0.8050 - val_loss: 1.3122 - val_accuracy: 0.7423\n",
            "Epoch 34/40\n",
            "157/157 [==============================] - 7s 46ms/step - loss: 0.6727 - accuracy: 0.8062 - val_loss: 1.3206 - val_accuracy: 0.7420\n",
            "Epoch 35/40\n",
            "157/157 [==============================] - 7s 46ms/step - loss: 0.6713 - accuracy: 0.8062 - val_loss: 1.3226 - val_accuracy: 0.7425\n",
            "Epoch 36/40\n",
            "157/157 [==============================] - 7s 46ms/step - loss: 0.6620 - accuracy: 0.8089 - val_loss: 1.3265 - val_accuracy: 0.7424\n",
            "Epoch 37/40\n",
            "157/157 [==============================] - 7s 46ms/step - loss: 0.6636 - accuracy: 0.8090 - val_loss: 1.3387 - val_accuracy: 0.7418\n",
            "Epoch 38/40\n",
            "157/157 [==============================] - 7s 46ms/step - loss: 0.6582 - accuracy: 0.8092 - val_loss: 1.3297 - val_accuracy: 0.7431\n",
            "Epoch 39/40\n",
            "157/157 [==============================] - 7s 46ms/step - loss: 0.6506 - accuracy: 0.8126 - val_loss: 1.3345 - val_accuracy: 0.7416\n",
            "Epoch 40/40\n",
            "157/157 [==============================] - 7s 45ms/step - loss: 0.6497 - accuracy: 0.8126 - val_loss: 1.3473 - val_accuracy: 0.7416\n"
          ],
          "name": "stdout"
        },
        {
          "output_type": "display_data",
          "data": {
            "text/html": [
              "<br/>Waiting for W&B process to finish, PID 1111<br/>Program ended successfully."
            ],
            "text/plain": [
              "<IPython.core.display.HTML object>"
            ]
          },
          "metadata": {
            "tags": []
          }
        },
        {
          "output_type": "display_data",
          "data": {
            "application/vnd.jupyter.widget-view+json": {
              "model_id": "36e4a44158344626b8985c29919eeec9",
              "version_minor": 0,
              "version_major": 2
            },
            "text/plain": [
              "VBox(children=(Label(value=' 66.77MB of 66.77MB uploaded (0.00MB deduped)\\r'), FloatProgress(value=1.0, max=1.…"
            ]
          },
          "metadata": {
            "tags": []
          }
        },
        {
          "output_type": "display_data",
          "data": {
            "text/html": [
              "Find user logs for this run at: <code>/root/.keras/datasets/dakshina_dataset_v1.0/hi/lexicons/wandb/run-20210428_174429-jwkqe2qh/logs/debug.log</code>"
            ],
            "text/plain": [
              "<IPython.core.display.HTML object>"
            ]
          },
          "metadata": {
            "tags": []
          }
        },
        {
          "output_type": "display_data",
          "data": {
            "text/html": [
              "Find internal logs for this run at: <code>/root/.keras/datasets/dakshina_dataset_v1.0/hi/lexicons/wandb/run-20210428_174429-jwkqe2qh/logs/debug-internal.log</code>"
            ],
            "text/plain": [
              "<IPython.core.display.HTML object>"
            ]
          },
          "metadata": {
            "tags": []
          }
        },
        {
          "output_type": "display_data",
          "data": {
            "text/html": [
              "<h3>Run summary:</h3><br/><style>\n",
              "    table.wandb td:nth-child(1) { padding: 0 10px; text-align: right }\n",
              "    </style><table class=\"wandb\">\n",
              "<tr><td>epoch</td><td>39</td></tr><tr><td>loss</td><td>0.65146</td></tr><tr><td>accuracy</td><td>0.81188</td></tr><tr><td>val_loss</td><td>1.34734</td></tr><tr><td>val_accuracy</td><td>0.74164</td></tr><tr><td>_runtime</td><td>291</td></tr><tr><td>_timestamp</td><td>1619632160</td></tr><tr><td>_step</td><td>39</td></tr><tr><td>best_val_loss</td><td>1.25294</td></tr><tr><td>best_epoch</td><td>8</td></tr></table>"
            ],
            "text/plain": [
              "<IPython.core.display.HTML object>"
            ]
          },
          "metadata": {
            "tags": []
          }
        },
        {
          "output_type": "display_data",
          "data": {
            "text/html": [
              "<h3>Run history:</h3><br/><style>\n",
              "    table.wandb td:nth-child(1) { padding: 0 10px; text-align: right }\n",
              "    </style><table class=\"wandb\">\n",
              "<tr><td>epoch</td><td>▁▁▁▂▂▂▂▂▂▃▃▃▃▃▄▄▄▄▄▄▅▅▅▅▅▅▆▆▆▆▆▇▇▇▇▇▇███</td></tr><tr><td>loss</td><td>█▅▄▄▃▃▃▃▃▃▃▃▃▃▂▂▂▂▂▂▂▂▂▂▂▂▂▂▁▁▁▁▁▁▁▁▁▁▁▁</td></tr><tr><td>accuracy</td><td>▁▃▄▄▅▅▅▅▅▅▅▆▆▆▆▆▆▆▆▇▇▇▇▇▇▇▇▇▇▇▇▇████████</td></tr><tr><td>val_loss</td><td>▄▂▄▄▄▂▂▂▁▂▂▂▁▁▂▁▁▂▁▂▃▂▃▃▄▄▄▄▅▅▆▆▅▆▆▆▇▇▇█</td></tr><tr><td>val_accuracy</td><td>▁▄▅▅▅▆▆▆▆▇▇▆▆▇▇▇█▇██████▇██████▇██████▇▇</td></tr><tr><td>_runtime</td><td>▁▁▁▂▂▂▂▂▂▃▃▃▃▃▄▄▄▄▄▄▅▅▅▅▅▅▆▆▆▆▆▇▇▇▇▇▇███</td></tr><tr><td>_timestamp</td><td>▁▁▁▂▂▂▂▂▂▃▃▃▃▃▄▄▄▄▄▄▅▅▅▅▅▅▆▆▆▆▆▇▇▇▇▇▇███</td></tr><tr><td>_step</td><td>▁▁▁▂▂▂▂▂▂▃▃▃▃▃▄▄▄▄▄▄▅▅▅▅▅▅▆▆▆▆▆▇▇▇▇▇▇███</td></tr></table><br/>"
            ],
            "text/plain": [
              "<IPython.core.display.HTML object>"
            ]
          },
          "metadata": {
            "tags": []
          }
        },
        {
          "output_type": "display_data",
          "data": {
            "text/html": [
              "Synced 5 W&B file(s), 1 media file(s), 0 artifact file(s) and 1 other file(s)"
            ],
            "text/plain": [
              "<IPython.core.display.HTML object>"
            ]
          },
          "metadata": {
            "tags": []
          }
        },
        {
          "output_type": "display_data",
          "data": {
            "text/html": [
              "\n",
              "                    <br/>Synced <strong style=\"color:#cdcd00\">stellar-sweep-5</strong>: <a href=\"https://wandb.ai/anshikag_2210/MachineTransliterator/runs/jwkqe2qh\" target=\"_blank\">https://wandb.ai/anshikag_2210/MachineTransliterator/runs/jwkqe2qh</a><br/>\n",
              "                "
            ],
            "text/plain": [
              "<IPython.core.display.HTML object>"
            ]
          },
          "metadata": {
            "tags": []
          }
        },
        {
          "output_type": "stream",
          "text": [
            "\u001b[34m\u001b[1mwandb\u001b[0m: Agent Starting Run: bqou9f0n with config:\n",
            "\u001b[34m\u001b[1mwandb\u001b[0m: \tbatch_size: 32\n",
            "\u001b[34m\u001b[1mwandb\u001b[0m: \tcell_type: gru\n",
            "\u001b[34m\u001b[1mwandb\u001b[0m: \tdecoder_embed_size: 27\n",
            "\u001b[34m\u001b[1mwandb\u001b[0m: \tdropout: 0\n",
            "\u001b[34m\u001b[1mwandb\u001b[0m: \tencoder_embed_size: 64\n",
            "\u001b[34m\u001b[1mwandb\u001b[0m: \tepochs: 40\n",
            "\u001b[34m\u001b[1mwandb\u001b[0m: \thidden_layer_size: 256\n",
            "\u001b[34m\u001b[1mwandb\u001b[0m: \tnum_decoder_layers: 4\n",
            "\u001b[34m\u001b[1mwandb\u001b[0m: \tnum_encoder_layers: 1\n",
            "\u001b[34m\u001b[1mwandb\u001b[0m: \tnum_hidden_layers: 2\n"
          ],
          "name": "stderr"
        },
        {
          "output_type": "display_data",
          "data": {
            "text/html": [
              "\n",
              "                Tracking run with wandb version 0.10.27<br/>\n",
              "                Syncing run <strong style=\"color:#cdcd00\">morning-sweep-6</strong> to <a href=\"https://wandb.ai\" target=\"_blank\">Weights & Biases</a> <a href=\"https://docs.wandb.com/integrations/jupyter.html\" target=\"_blank\">(Documentation)</a>.<br/>\n",
              "                Project page: <a href=\"https://wandb.ai/anshikag_2210/MachineTransliterator\" target=\"_blank\">https://wandb.ai/anshikag_2210/MachineTransliterator</a><br/>\n",
              "                Sweep page: <a href=\"https://wandb.ai/anshikag_2210/MachineTransliterator/sweeps/4qzxmg7y\" target=\"_blank\">https://wandb.ai/anshikag_2210/MachineTransliterator/sweeps/4qzxmg7y</a><br/>\n",
              "Run page: <a href=\"https://wandb.ai/anshikag_2210/MachineTransliterator/runs/bqou9f0n\" target=\"_blank\">https://wandb.ai/anshikag_2210/MachineTransliterator/runs/bqou9f0n</a><br/>\n",
              "                Run data is saved locally in <code>/root/.keras/datasets/dakshina_dataset_v1.0/hi/lexicons/wandb/run-20210428_174926-bqou9f0n</code><br/><br/>\n",
              "            "
            ],
            "text/plain": [
              "<IPython.core.display.HTML object>"
            ]
          },
          "metadata": {
            "tags": []
          }
        },
        {
          "output_type": "stream",
          "text": [
            "Epoch 1/40\n",
            "313/313 [==============================] - 13s 21ms/step - loss: 1.4179 - accuracy: 0.6882 - val_loss: 1.1167 - val_accuracy: 0.7366\n"
          ],
          "name": "stdout"
        },
        {
          "output_type": "stream",
          "text": [
            "\u001b[34m\u001b[1mwandb\u001b[0m: \u001b[32m\u001b[41mERROR\u001b[0m Can't save model, h5py returned error: Unable to create link (name already exists)\n"
          ],
          "name": "stderr"
        },
        {
          "output_type": "stream",
          "text": [
            "Epoch 2/40\n",
            "313/313 [==============================] - 6s 19ms/step - loss: 0.9195 - accuracy: 0.7392 - val_loss: 1.1303 - val_accuracy: 0.7408\n",
            "Epoch 3/40\n",
            "313/313 [==============================] - 5s 17ms/step - loss: 0.8296 - accuracy: 0.7632 - val_loss: 1.1426 - val_accuracy: 0.7479\n",
            "Epoch 4/40\n",
            "313/313 [==============================] - 5s 17ms/step - loss: 0.7889 - accuracy: 0.7737 - val_loss: 1.1658 - val_accuracy: 0.7472\n",
            "Epoch 5/40\n",
            "313/313 [==============================] - 5s 17ms/step - loss: 0.7581 - accuracy: 0.7799 - val_loss: 1.1646 - val_accuracy: 0.7486\n",
            "Epoch 6/40\n",
            "313/313 [==============================] - 5s 16ms/step - loss: 0.7372 - accuracy: 0.7860 - val_loss: 1.1751 - val_accuracy: 0.7513\n",
            "Epoch 7/40\n",
            "313/313 [==============================] - 5s 16ms/step - loss: 0.7100 - accuracy: 0.7930 - val_loss: 1.1759 - val_accuracy: 0.7515\n",
            "Epoch 8/40\n",
            "313/313 [==============================] - 5s 17ms/step - loss: 0.6884 - accuracy: 0.7981 - val_loss: 1.1832 - val_accuracy: 0.7532\n",
            "Epoch 9/40\n",
            "313/313 [==============================] - 5s 17ms/step - loss: 0.6692 - accuracy: 0.8033 - val_loss: 1.1886 - val_accuracy: 0.7544\n",
            "Epoch 10/40\n",
            "313/313 [==============================] - 5s 16ms/step - loss: 0.6541 - accuracy: 0.8082 - val_loss: 1.1945 - val_accuracy: 0.7544\n",
            "Epoch 11/40\n",
            "313/313 [==============================] - 5s 16ms/step - loss: 0.6348 - accuracy: 0.8127 - val_loss: 1.1984 - val_accuracy: 0.7556\n",
            "Epoch 12/40\n",
            "313/313 [==============================] - 5s 16ms/step - loss: 0.6249 - accuracy: 0.8147 - val_loss: 1.2012 - val_accuracy: 0.7563\n",
            "Epoch 13/40\n",
            "313/313 [==============================] - 5s 17ms/step - loss: 0.6141 - accuracy: 0.8186 - val_loss: 1.2010 - val_accuracy: 0.7568\n",
            "Epoch 14/40\n",
            "313/313 [==============================] - 5s 17ms/step - loss: 0.6001 - accuracy: 0.8227 - val_loss: 1.2082 - val_accuracy: 0.7561\n",
            "Epoch 15/40\n",
            "313/313 [==============================] - 5s 17ms/step - loss: 0.5930 - accuracy: 0.8241 - val_loss: 1.2123 - val_accuracy: 0.7557\n",
            "Epoch 16/40\n",
            "313/313 [==============================] - 5s 17ms/step - loss: 0.5869 - accuracy: 0.8270 - val_loss: 1.2077 - val_accuracy: 0.7577\n",
            "Epoch 17/40\n",
            "313/313 [==============================] - 5s 17ms/step - loss: 0.5760 - accuracy: 0.8302 - val_loss: 1.2143 - val_accuracy: 0.7570\n",
            "Epoch 18/40\n",
            "313/313 [==============================] - 5s 17ms/step - loss: 0.5783 - accuracy: 0.8288 - val_loss: 1.2124 - val_accuracy: 0.7576\n",
            "Epoch 19/40\n",
            "313/313 [==============================] - 5s 17ms/step - loss: 0.5703 - accuracy: 0.8313 - val_loss: 1.2170 - val_accuracy: 0.7571\n",
            "Epoch 20/40\n",
            "313/313 [==============================] - 5s 17ms/step - loss: 0.5684 - accuracy: 0.8320 - val_loss: 1.2178 - val_accuracy: 0.7572\n",
            "Epoch 21/40\n",
            "313/313 [==============================] - 5s 17ms/step - loss: 0.5672 - accuracy: 0.8313 - val_loss: 1.2163 - val_accuracy: 0.7574\n",
            "Epoch 22/40\n",
            "313/313 [==============================] - 5s 17ms/step - loss: 0.5669 - accuracy: 0.8314 - val_loss: 1.2174 - val_accuracy: 0.7574\n",
            "Epoch 23/40\n",
            "313/313 [==============================] - 5s 17ms/step - loss: 0.5570 - accuracy: 0.8358 - val_loss: 1.2175 - val_accuracy: 0.7573\n",
            "Epoch 24/40\n",
            "313/313 [==============================] - 5s 17ms/step - loss: 0.5834 - accuracy: 0.8282 - val_loss: 1.1912 - val_accuracy: 0.7532\n",
            "Epoch 25/40\n",
            "313/313 [==============================] - 5s 17ms/step - loss: 0.6230 - accuracy: 0.8149 - val_loss: 1.2059 - val_accuracy: 0.7550\n",
            "Epoch 26/40\n",
            "313/313 [==============================] - 5s 17ms/step - loss: 0.5725 - accuracy: 0.8264 - val_loss: 1.2185 - val_accuracy: 0.7608\n",
            "Epoch 27/40\n",
            "313/313 [==============================] - 5s 15ms/step - loss: 0.5175 - accuracy: 0.8433 - val_loss: 1.2422 - val_accuracy: 0.7543\n",
            "Epoch 28/40\n",
            "313/313 [==============================] - 6s 18ms/step - loss: 0.4702 - accuracy: 0.8563 - val_loss: 1.1812 - val_accuracy: 0.7680\n",
            "Epoch 29/40\n",
            "313/313 [==============================] - 5s 18ms/step - loss: 0.4163 - accuracy: 0.8745 - val_loss: 1.1871 - val_accuracy: 0.7684\n",
            "Epoch 30/40\n",
            "313/313 [==============================] - 5s 17ms/step - loss: 0.3716 - accuracy: 0.8879 - val_loss: 1.1938 - val_accuracy: 0.7731\n",
            "Epoch 31/40\n",
            "313/313 [==============================] - 5s 17ms/step - loss: 0.3304 - accuracy: 0.8998 - val_loss: 1.2134 - val_accuracy: 0.7744\n",
            "Epoch 32/40\n",
            "313/313 [==============================] - 5s 17ms/step - loss: 0.2890 - accuracy: 0.9126 - val_loss: 1.2147 - val_accuracy: 0.7781\n",
            "Epoch 33/40\n",
            "313/313 [==============================] - 6s 18ms/step - loss: 0.2539 - accuracy: 0.9235 - val_loss: 1.2432 - val_accuracy: 0.7785\n",
            "Epoch 34/40\n",
            "313/313 [==============================] - 6s 18ms/step - loss: 0.2208 - accuracy: 0.9336 - val_loss: 1.2509 - val_accuracy: 0.7811\n",
            "Epoch 35/40\n",
            "313/313 [==============================] - 5s 17ms/step - loss: 0.1950 - accuracy: 0.9412 - val_loss: 1.2653 - val_accuracy: 0.7850\n",
            "Epoch 36/40\n",
            "313/313 [==============================] - 6s 18ms/step - loss: 0.1716 - accuracy: 0.9483 - val_loss: 1.2869 - val_accuracy: 0.7851\n",
            "Epoch 37/40\n",
            "313/313 [==============================] - 6s 19ms/step - loss: 0.1573 - accuracy: 0.9532 - val_loss: 1.3118 - val_accuracy: 0.7814\n",
            "Epoch 38/40\n",
            "313/313 [==============================] - 6s 18ms/step - loss: 0.1358 - accuracy: 0.9603 - val_loss: 1.3146 - val_accuracy: 0.7856\n",
            "Epoch 39/40\n",
            "313/313 [==============================] - 6s 18ms/step - loss: 0.1230 - accuracy: 0.9637 - val_loss: 1.3613 - val_accuracy: 0.7863\n",
            "Epoch 40/40\n",
            "313/313 [==============================] - 6s 18ms/step - loss: 0.1055 - accuracy: 0.9698 - val_loss: 1.3734 - val_accuracy: 0.7864\n"
          ],
          "name": "stdout"
        },
        {
          "output_type": "display_data",
          "data": {
            "text/html": [
              "<br/>Waiting for W&B process to finish, PID 1304<br/>Program ended successfully."
            ],
            "text/plain": [
              "<IPython.core.display.HTML object>"
            ]
          },
          "metadata": {
            "tags": []
          }
        },
        {
          "output_type": "display_data",
          "data": {
            "application/vnd.jupyter.widget-view+json": {
              "model_id": "101e4dcb846b4feb928fb3b818fc8e21",
              "version_minor": 0,
              "version_major": 2
            },
            "text/plain": [
              "VBox(children=(Label(value=' 72.83MB of 72.83MB uploaded (0.00MB deduped)\\r'), FloatProgress(value=1.0, max=1.…"
            ]
          },
          "metadata": {
            "tags": []
          }
        },
        {
          "output_type": "display_data",
          "data": {
            "text/html": [
              "Find user logs for this run at: <code>/root/.keras/datasets/dakshina_dataset_v1.0/hi/lexicons/wandb/run-20210428_174926-bqou9f0n/logs/debug.log</code>"
            ],
            "text/plain": [
              "<IPython.core.display.HTML object>"
            ]
          },
          "metadata": {
            "tags": []
          }
        },
        {
          "output_type": "display_data",
          "data": {
            "text/html": [
              "Find internal logs for this run at: <code>/root/.keras/datasets/dakshina_dataset_v1.0/hi/lexicons/wandb/run-20210428_174926-bqou9f0n/logs/debug-internal.log</code>"
            ],
            "text/plain": [
              "<IPython.core.display.HTML object>"
            ]
          },
          "metadata": {
            "tags": []
          }
        },
        {
          "output_type": "display_data",
          "data": {
            "text/html": [
              "<h3>Run summary:</h3><br/><style>\n",
              "    table.wandb td:nth-child(1) { padding: 0 10px; text-align: right }\n",
              "    </style><table class=\"wandb\">\n",
              "<tr><td>epoch</td><td>39</td></tr><tr><td>loss</td><td>0.11282</td></tr><tr><td>accuracy</td><td>0.9667</td></tr><tr><td>val_loss</td><td>1.37338</td></tr><tr><td>val_accuracy</td><td>0.78642</td></tr><tr><td>_runtime</td><td>227</td></tr><tr><td>_timestamp</td><td>1619632393</td></tr><tr><td>_step</td><td>39</td></tr><tr><td>best_val_loss</td><td>1.11665</td></tr><tr><td>best_epoch</td><td>0</td></tr></table>"
            ],
            "text/plain": [
              "<IPython.core.display.HTML object>"
            ]
          },
          "metadata": {
            "tags": []
          }
        },
        {
          "output_type": "display_data",
          "data": {
            "text/html": [
              "<h3>Run history:</h3><br/><style>\n",
              "    table.wandb td:nth-child(1) { padding: 0 10px; text-align: right }\n",
              "    </style><table class=\"wandb\">\n",
              "<tr><td>epoch</td><td>▁▁▁▂▂▂▂▂▂▃▃▃▃▃▄▄▄▄▄▄▅▅▅▅▅▅▆▆▆▆▆▇▇▇▇▇▇███</td></tr><tr><td>loss</td><td>█▆▆▆▅▅▅▅▅▅▅▄▄▄▄▄▄▄▄▄▄▄▄▄▄▄▄▃▃▃▂▂▂▂▂▁▁▁▁▁</td></tr><tr><td>accuracy</td><td>▁▂▂▃▃▃▃▃▃▄▄▄▄▄▄▄▄▄▄▄▄▄▄▄▄▄▅▅▅▆▆▆▇▇▇▇████</td></tr><tr><td>val_loss</td><td>▁▁▂▂▂▃▃▃▃▃▃▃▃▃▄▃▄▄▄▄▄▄▄▃▃▄▄▃▃▃▄▄▄▅▅▆▆▆██</td></tr><tr><td>val_accuracy</td><td>▁▂▃▂▃▃▃▃▄▃▄▄▄▄▄▄▄▄▄▄▄▄▄▃▄▄▃▅▅▆▆▇▇▇██▇███</td></tr><tr><td>_runtime</td><td>▁▁▁▂▂▂▂▂▂▃▃▃▃▃▃▄▄▄▄▄▅▅▅▅▅▅▆▆▆▆▆▆▇▇▇▇▇███</td></tr><tr><td>_timestamp</td><td>▁▁▁▂▂▂▂▂▂▃▃▃▃▃▃▄▄▄▄▄▅▅▅▅▅▅▆▆▆▆▆▆▇▇▇▇▇███</td></tr><tr><td>_step</td><td>▁▁▁▂▂▂▂▂▂▃▃▃▃▃▄▄▄▄▄▄▅▅▅▅▅▅▆▆▆▆▆▇▇▇▇▇▇███</td></tr></table><br/>"
            ],
            "text/plain": [
              "<IPython.core.display.HTML object>"
            ]
          },
          "metadata": {
            "tags": []
          }
        },
        {
          "output_type": "display_data",
          "data": {
            "text/html": [
              "Synced 5 W&B file(s), 1 media file(s), 0 artifact file(s) and 1 other file(s)"
            ],
            "text/plain": [
              "<IPython.core.display.HTML object>"
            ]
          },
          "metadata": {
            "tags": []
          }
        },
        {
          "output_type": "display_data",
          "data": {
            "text/html": [
              "\n",
              "                    <br/>Synced <strong style=\"color:#cdcd00\">morning-sweep-6</strong>: <a href=\"https://wandb.ai/anshikag_2210/MachineTransliterator/runs/bqou9f0n\" target=\"_blank\">https://wandb.ai/anshikag_2210/MachineTransliterator/runs/bqou9f0n</a><br/>\n",
              "                "
            ],
            "text/plain": [
              "<IPython.core.display.HTML object>"
            ]
          },
          "metadata": {
            "tags": []
          }
        },
        {
          "output_type": "stream",
          "text": [
            "\u001b[34m\u001b[1mwandb\u001b[0m: Agent Starting Run: nofq5nyf with config:\n",
            "\u001b[34m\u001b[1mwandb\u001b[0m: \tbatch_size: 128\n",
            "\u001b[34m\u001b[1mwandb\u001b[0m: \tcell_type: lstm\n",
            "\u001b[34m\u001b[1mwandb\u001b[0m: \tdecoder_embed_size: 64\n",
            "\u001b[34m\u001b[1mwandb\u001b[0m: \tdropout: 0\n",
            "\u001b[34m\u001b[1mwandb\u001b[0m: \tencoder_embed_size: 64\n",
            "\u001b[34m\u001b[1mwandb\u001b[0m: \tepochs: 30\n",
            "\u001b[34m\u001b[1mwandb\u001b[0m: \thidden_layer_size: 512\n",
            "\u001b[34m\u001b[1mwandb\u001b[0m: \tnum_decoder_layers: 3\n",
            "\u001b[34m\u001b[1mwandb\u001b[0m: \tnum_encoder_layers: 4\n",
            "\u001b[34m\u001b[1mwandb\u001b[0m: \tnum_hidden_layers: 5\n"
          ],
          "name": "stderr"
        },
        {
          "output_type": "display_data",
          "data": {
            "text/html": [
              "\n",
              "                Tracking run with wandb version 0.10.27<br/>\n",
              "                Syncing run <strong style=\"color:#cdcd00\">fanciful-sweep-7</strong> to <a href=\"https://wandb.ai\" target=\"_blank\">Weights & Biases</a> <a href=\"https://docs.wandb.com/integrations/jupyter.html\" target=\"_blank\">(Documentation)</a>.<br/>\n",
              "                Project page: <a href=\"https://wandb.ai/anshikag_2210/MachineTransliterator\" target=\"_blank\">https://wandb.ai/anshikag_2210/MachineTransliterator</a><br/>\n",
              "                Sweep page: <a href=\"https://wandb.ai/anshikag_2210/MachineTransliterator/sweeps/4qzxmg7y\" target=\"_blank\">https://wandb.ai/anshikag_2210/MachineTransliterator/sweeps/4qzxmg7y</a><br/>\n",
              "Run page: <a href=\"https://wandb.ai/anshikag_2210/MachineTransliterator/runs/nofq5nyf\" target=\"_blank\">https://wandb.ai/anshikag_2210/MachineTransliterator/runs/nofq5nyf</a><br/>\n",
              "                Run data is saved locally in <code>/root/.keras/datasets/dakshina_dataset_v1.0/hi/lexicons/wandb/run-20210428_175321-nofq5nyf</code><br/><br/>\n",
              "            "
            ],
            "text/plain": [
              "<IPython.core.display.HTML object>"
            ]
          },
          "metadata": {
            "tags": []
          }
        },
        {
          "output_type": "stream",
          "text": [
            "Epoch 1/30\n",
            "79/79 [==============================] - 18s 116ms/step - loss: 2.1737 - accuracy: 0.6070 - val_loss: 1.3540 - val_accuracy: 0.7180\n"
          ],
          "name": "stdout"
        },
        {
          "output_type": "stream",
          "text": [
            "\u001b[34m\u001b[1mwandb\u001b[0m: \u001b[32m\u001b[41mERROR\u001b[0m Can't save model, h5py returned error: Unable to create link (name already exists)\n"
          ],
          "name": "stderr"
        },
        {
          "output_type": "stream",
          "text": [
            "Epoch 2/30\n",
            "79/79 [==============================] - 7s 89ms/step - loss: 1.2075 - accuracy: 0.7072 - val_loss: 1.3915 - val_accuracy: 0.7139\n",
            "Epoch 3/30\n",
            "79/79 [==============================] - 7s 89ms/step - loss: 1.1893 - accuracy: 0.7099 - val_loss: 1.4049 - val_accuracy: 0.7139\n",
            "Epoch 4/30\n",
            "79/79 [==============================] - 7s 90ms/step - loss: 1.1601 - accuracy: 0.7104 - val_loss: 1.3317 - val_accuracy: 0.7193\n",
            "Epoch 5/30\n",
            "79/79 [==============================] - 7s 91ms/step - loss: 1.0722 - accuracy: 0.7170 - val_loss: 1.3218 - val_accuracy: 0.7203\n",
            "Epoch 6/30\n",
            "79/79 [==============================] - 7s 90ms/step - loss: 1.0254 - accuracy: 0.7233 - val_loss: 1.2517 - val_accuracy: 0.7248\n",
            "Epoch 7/30\n",
            "79/79 [==============================] - 7s 89ms/step - loss: 0.9929 - accuracy: 0.7250 - val_loss: 1.2445 - val_accuracy: 0.7289\n",
            "Epoch 8/30\n",
            "79/79 [==============================] - 7s 88ms/step - loss: 0.9755 - accuracy: 0.7275 - val_loss: 1.2535 - val_accuracy: 0.7268\n",
            "Epoch 9/30\n",
            "79/79 [==============================] - 7s 88ms/step - loss: 0.9670 - accuracy: 0.7274 - val_loss: 1.2500 - val_accuracy: 0.7263\n",
            "Epoch 10/30\n",
            "79/79 [==============================] - 7s 88ms/step - loss: 0.9605 - accuracy: 0.7284 - val_loss: 1.2443 - val_accuracy: 0.7283\n",
            "Epoch 11/30\n",
            "79/79 [==============================] - 7s 88ms/step - loss: 0.9485 - accuracy: 0.7321 - val_loss: 1.2535 - val_accuracy: 0.7306\n",
            "Epoch 12/30\n",
            "79/79 [==============================] - 7s 88ms/step - loss: 0.9505 - accuracy: 0.7319 - val_loss: 1.2507 - val_accuracy: 0.7313\n",
            "Epoch 13/30\n",
            "79/79 [==============================] - 7s 89ms/step - loss: 0.9418 - accuracy: 0.7334 - val_loss: 1.2584 - val_accuracy: 0.7314\n",
            "Epoch 14/30\n",
            "79/79 [==============================] - 7s 88ms/step - loss: 0.9316 - accuracy: 0.7348 - val_loss: 1.2590 - val_accuracy: 0.7309\n",
            "Epoch 15/30\n",
            "79/79 [==============================] - 7s 89ms/step - loss: 0.9332 - accuracy: 0.7342 - val_loss: 1.2575 - val_accuracy: 0.7320\n",
            "Epoch 16/30\n",
            "79/79 [==============================] - 7s 90ms/step - loss: 0.9276 - accuracy: 0.7344 - val_loss: 1.2740 - val_accuracy: 0.7327\n",
            "Epoch 17/30\n",
            "79/79 [==============================] - 7s 90ms/step - loss: 0.9163 - accuracy: 0.7379 - val_loss: 1.2563 - val_accuracy: 0.7327\n",
            "Epoch 18/30\n",
            "79/79 [==============================] - 7s 89ms/step - loss: 0.9114 - accuracy: 0.7385 - val_loss: 1.2659 - val_accuracy: 0.7330\n",
            "Epoch 19/30\n",
            "79/79 [==============================] - 7s 89ms/step - loss: 0.9101 - accuracy: 0.7374 - val_loss: 1.2731 - val_accuracy: 0.7326\n",
            "Epoch 20/30\n",
            "79/79 [==============================] - 7s 89ms/step - loss: 0.9049 - accuracy: 0.7391 - val_loss: 1.2756 - val_accuracy: 0.7332\n",
            "Epoch 21/30\n",
            "79/79 [==============================] - 7s 89ms/step - loss: 0.9081 - accuracy: 0.7386 - val_loss: 1.2687 - val_accuracy: 0.7332\n",
            "Epoch 22/30\n",
            "79/79 [==============================] - 7s 89ms/step - loss: 0.9016 - accuracy: 0.7402 - val_loss: 1.2670 - val_accuracy: 0.7344\n",
            "Epoch 23/30\n",
            "79/79 [==============================] - 7s 89ms/step - loss: 0.8964 - accuracy: 0.7417 - val_loss: 1.2817 - val_accuracy: 0.7329\n",
            "Epoch 24/30\n",
            "79/79 [==============================] - 7s 88ms/step - loss: 0.8885 - accuracy: 0.7426 - val_loss: 1.2827 - val_accuracy: 0.7350\n",
            "Epoch 25/30\n",
            "79/79 [==============================] - 7s 88ms/step - loss: 0.8834 - accuracy: 0.7433 - val_loss: 1.2834 - val_accuracy: 0.7345\n",
            "Epoch 26/30\n",
            "79/79 [==============================] - 7s 88ms/step - loss: 0.8783 - accuracy: 0.7466 - val_loss: 1.2743 - val_accuracy: 0.7356\n",
            "Epoch 27/30\n",
            "79/79 [==============================] - 7s 88ms/step - loss: 0.8697 - accuracy: 0.7480 - val_loss: 1.2867 - val_accuracy: 0.7341\n",
            "Epoch 28/30\n",
            "79/79 [==============================] - 7s 89ms/step - loss: 0.8711 - accuracy: 0.7477 - val_loss: 1.2862 - val_accuracy: 0.7340\n",
            "Epoch 29/30\n",
            "79/79 [==============================] - 7s 89ms/step - loss: 0.8639 - accuracy: 0.7491 - val_loss: 1.2838 - val_accuracy: 0.7352\n",
            "Epoch 30/30\n",
            "79/79 [==============================] - 7s 89ms/step - loss: 0.8570 - accuracy: 0.7511 - val_loss: 1.2918 - val_accuracy: 0.7352\n"
          ],
          "name": "stdout"
        },
        {
          "output_type": "display_data",
          "data": {
            "text/html": [
              "<br/>Waiting for W&B process to finish, PID 1491<br/>Program ended successfully."
            ],
            "text/plain": [
              "<IPython.core.display.HTML object>"
            ]
          },
          "metadata": {
            "tags": []
          }
        },
        {
          "output_type": "display_data",
          "data": {
            "application/vnd.jupyter.widget-view+json": {
              "model_id": "9df6efbaccb846b1a6250dc82eb0dd41",
              "version_minor": 0,
              "version_major": 2
            },
            "text/plain": [
              "VBox(children=(Label(value=' 115.68MB of 115.68MB uploaded (0.00MB deduped)\\r'), FloatProgress(value=1.0, max=…"
            ]
          },
          "metadata": {
            "tags": []
          }
        },
        {
          "output_type": "display_data",
          "data": {
            "text/html": [
              "Find user logs for this run at: <code>/root/.keras/datasets/dakshina_dataset_v1.0/hi/lexicons/wandb/run-20210428_175321-nofq5nyf/logs/debug.log</code>"
            ],
            "text/plain": [
              "<IPython.core.display.HTML object>"
            ]
          },
          "metadata": {
            "tags": []
          }
        },
        {
          "output_type": "display_data",
          "data": {
            "text/html": [
              "Find internal logs for this run at: <code>/root/.keras/datasets/dakshina_dataset_v1.0/hi/lexicons/wandb/run-20210428_175321-nofq5nyf/logs/debug-internal.log</code>"
            ],
            "text/plain": [
              "<IPython.core.display.HTML object>"
            ]
          },
          "metadata": {
            "tags": []
          }
        },
        {
          "output_type": "display_data",
          "data": {
            "text/html": [
              "<h3>Run summary:</h3><br/><style>\n",
              "    table.wandb td:nth-child(1) { padding: 0 10px; text-align: right }\n",
              "    </style><table class=\"wandb\">\n",
              "<tr><td>epoch</td><td>29</td></tr><tr><td>loss</td><td>0.86</td></tr><tr><td>accuracy</td><td>0.74964</td></tr><tr><td>val_loss</td><td>1.29176</td></tr><tr><td>val_accuracy</td><td>0.73519</td></tr><tr><td>_runtime</td><td>227</td></tr><tr><td>_timestamp</td><td>1619632628</td></tr><tr><td>_step</td><td>29</td></tr><tr><td>best_val_loss</td><td>1.24429</td></tr><tr><td>best_epoch</td><td>9</td></tr></table>"
            ],
            "text/plain": [
              "<IPython.core.display.HTML object>"
            ]
          },
          "metadata": {
            "tags": []
          }
        },
        {
          "output_type": "display_data",
          "data": {
            "text/html": [
              "<h3>Run history:</h3><br/><style>\n",
              "    table.wandb td:nth-child(1) { padding: 0 10px; text-align: right }\n",
              "    </style><table class=\"wandb\">\n",
              "<tr><td>epoch</td><td>▁▁▁▂▂▂▂▃▃▃▃▄▄▄▄▅▅▅▅▆▆▆▆▇▇▇▇███</td></tr><tr><td>loss</td><td>█▅▅▄▃▃▂▂▂▂▂▂▂▂▂▂▂▂▂▁▁▁▁▁▁▁▁▁▁▁</td></tr><tr><td>accuracy</td><td>▁▄▄▄▅▅▆▆▆▆▆▆▆▇▇▇▇▇▇▇▇▇▇▇▇█████</td></tr><tr><td>val_loss</td><td>▆▇█▅▄▁▁▁▁▁▁▁▂▂▂▂▂▂▂▂▂▂▃▃▃▂▃▃▃▃</td></tr><tr><td>val_accuracy</td><td>▂▁▁▃▃▅▆▅▅▆▆▇▇▆▇▇▇▇▇▇▇█▇████▇██</td></tr><tr><td>_runtime</td><td>▁▁▂▂▂▂▂▃▃▃▃▄▄▄▄▅▅▅▅▆▆▆▆▇▇▇▇███</td></tr><tr><td>_timestamp</td><td>▁▁▂▂▂▂▂▃▃▃▃▄▄▄▄▅▅▅▅▆▆▆▆▇▇▇▇███</td></tr><tr><td>_step</td><td>▁▁▁▂▂▂▂▃▃▃▃▄▄▄▄▅▅▅▅▆▆▆▆▇▇▇▇███</td></tr></table><br/>"
            ],
            "text/plain": [
              "<IPython.core.display.HTML object>"
            ]
          },
          "metadata": {
            "tags": []
          }
        },
        {
          "output_type": "display_data",
          "data": {
            "text/html": [
              "Synced 5 W&B file(s), 1 media file(s), 0 artifact file(s) and 1 other file(s)"
            ],
            "text/plain": [
              "<IPython.core.display.HTML object>"
            ]
          },
          "metadata": {
            "tags": []
          }
        },
        {
          "output_type": "display_data",
          "data": {
            "text/html": [
              "\n",
              "                    <br/>Synced <strong style=\"color:#cdcd00\">fanciful-sweep-7</strong>: <a href=\"https://wandb.ai/anshikag_2210/MachineTransliterator/runs/nofq5nyf\" target=\"_blank\">https://wandb.ai/anshikag_2210/MachineTransliterator/runs/nofq5nyf</a><br/>\n",
              "                "
            ],
            "text/plain": [
              "<IPython.core.display.HTML object>"
            ]
          },
          "metadata": {
            "tags": []
          }
        },
        {
          "output_type": "stream",
          "text": [
            "\u001b[34m\u001b[1mwandb\u001b[0m: Agent Starting Run: 0oe44n0l with config:\n",
            "\u001b[34m\u001b[1mwandb\u001b[0m: \tbatch_size: 128\n",
            "\u001b[34m\u001b[1mwandb\u001b[0m: \tcell_type: rnn\n",
            "\u001b[34m\u001b[1mwandb\u001b[0m: \tdecoder_embed_size: 64\n",
            "\u001b[34m\u001b[1mwandb\u001b[0m: \tdropout: 0.0001\n",
            "\u001b[34m\u001b[1mwandb\u001b[0m: \tencoder_embed_size: 64\n",
            "\u001b[34m\u001b[1mwandb\u001b[0m: \tepochs: 40\n",
            "\u001b[34m\u001b[1mwandb\u001b[0m: \thidden_layer_size: 512\n",
            "\u001b[34m\u001b[1mwandb\u001b[0m: \tnum_decoder_layers: 3\n",
            "\u001b[34m\u001b[1mwandb\u001b[0m: \tnum_encoder_layers: 1\n",
            "\u001b[34m\u001b[1mwandb\u001b[0m: \tnum_hidden_layers: 5\n"
          ],
          "name": "stderr"
        },
        {
          "output_type": "display_data",
          "data": {
            "text/html": [
              "\n",
              "                Tracking run with wandb version 0.10.27<br/>\n",
              "                Syncing run <strong style=\"color:#cdcd00\">visionary-sweep-8</strong> to <a href=\"https://wandb.ai\" target=\"_blank\">Weights & Biases</a> <a href=\"https://docs.wandb.com/integrations/jupyter.html\" target=\"_blank\">(Documentation)</a>.<br/>\n",
              "                Project page: <a href=\"https://wandb.ai/anshikag_2210/MachineTransliterator\" target=\"_blank\">https://wandb.ai/anshikag_2210/MachineTransliterator</a><br/>\n",
              "                Sweep page: <a href=\"https://wandb.ai/anshikag_2210/MachineTransliterator/sweeps/4qzxmg7y\" target=\"_blank\">https://wandb.ai/anshikag_2210/MachineTransliterator/sweeps/4qzxmg7y</a><br/>\n",
              "Run page: <a href=\"https://wandb.ai/anshikag_2210/MachineTransliterator/runs/0oe44n0l\" target=\"_blank\">https://wandb.ai/anshikag_2210/MachineTransliterator/runs/0oe44n0l</a><br/>\n",
              "                Run data is saved locally in <code>/root/.keras/datasets/dakshina_dataset_v1.0/hi/lexicons/wandb/run-20210428_175717-0oe44n0l</code><br/><br/>\n",
              "            "
            ],
            "text/plain": [
              "<IPython.core.display.HTML object>"
            ]
          },
          "metadata": {
            "tags": []
          }
        },
        {
          "output_type": "stream",
          "text": [
            "Epoch 1/40\n",
            "79/79 [==============================] - 11s 106ms/step - loss: 3.9620 - accuracy: 0.3482 - val_loss: 3.4475 - val_accuracy: 0.4225\n"
          ],
          "name": "stdout"
        },
        {
          "output_type": "stream",
          "text": [
            "\u001b[34m\u001b[1mwandb\u001b[0m: \u001b[32m\u001b[41mERROR\u001b[0m Can't save model, h5py returned error: Unable to create link (name already exists)\n"
          ],
          "name": "stderr"
        },
        {
          "output_type": "stream",
          "text": [
            "Epoch 2/40\n",
            "79/79 [==============================] - 8s 103ms/step - loss: 2.3441 - accuracy: 0.5642 - val_loss: 1.6137 - val_accuracy: 0.7076\n",
            "Epoch 3/40\n",
            "79/79 [==============================] - 8s 95ms/step - loss: 1.2655 - accuracy: 0.7077 - val_loss: 1.3636 - val_accuracy: 0.7113\n",
            "Epoch 4/40\n",
            "79/79 [==============================] - 7s 95ms/step - loss: 1.1573 - accuracy: 0.7081 - val_loss: 1.3619 - val_accuracy: 0.7180\n",
            "Epoch 5/40\n",
            "79/79 [==============================] - 7s 94ms/step - loss: 1.1322 - accuracy: 0.7098 - val_loss: 1.3604 - val_accuracy: 0.7144\n",
            "Epoch 6/40\n",
            "79/79 [==============================] - 8s 95ms/step - loss: 1.1348 - accuracy: 0.7056 - val_loss: 1.3718 - val_accuracy: 0.7111\n",
            "Epoch 7/40\n",
            "79/79 [==============================] - 8s 96ms/step - loss: 1.1208 - accuracy: 0.7089 - val_loss: 1.3566 - val_accuracy: 0.7118\n",
            "Epoch 8/40\n",
            "79/79 [==============================] - 7s 94ms/step - loss: 1.1083 - accuracy: 0.7117 - val_loss: 1.3632 - val_accuracy: 0.7168\n",
            "Epoch 9/40\n",
            "79/79 [==============================] - 8s 97ms/step - loss: 1.0990 - accuracy: 0.7142 - val_loss: 1.3679 - val_accuracy: 0.7186\n",
            "Epoch 10/40\n",
            "79/79 [==============================] - 7s 94ms/step - loss: 1.0947 - accuracy: 0.7140 - val_loss: 1.3696 - val_accuracy: 0.7170\n",
            "Epoch 11/40\n",
            "79/79 [==============================] - 7s 90ms/step - loss: 1.0918 - accuracy: 0.7143 - val_loss: 1.3680 - val_accuracy: 0.7150\n",
            "Epoch 12/40\n",
            "79/79 [==============================] - 8s 96ms/step - loss: 1.0883 - accuracy: 0.7126 - val_loss: 1.3729 - val_accuracy: 0.7160\n",
            "Epoch 13/40\n",
            "79/79 [==============================] - 7s 93ms/step - loss: 1.0818 - accuracy: 0.7154 - val_loss: 1.3689 - val_accuracy: 0.7206\n",
            "Epoch 14/40\n",
            "79/79 [==============================] - 7s 94ms/step - loss: 1.0784 - accuracy: 0.7147 - val_loss: 1.3666 - val_accuracy: 0.7167\n",
            "Epoch 15/40\n",
            "79/79 [==============================] - 8s 97ms/step - loss: 1.0686 - accuracy: 0.7163 - val_loss: 1.3744 - val_accuracy: 0.7194\n",
            "Epoch 16/40\n",
            "79/79 [==============================] - 8s 100ms/step - loss: 1.0710 - accuracy: 0.7161 - val_loss: 1.3743 - val_accuracy: 0.7165\n",
            "Epoch 17/40\n",
            "79/79 [==============================] - 8s 96ms/step - loss: 1.0688 - accuracy: 0.7161 - val_loss: 1.3775 - val_accuracy: 0.7166\n",
            "Epoch 18/40\n",
            "79/79 [==============================] - 8s 97ms/step - loss: 1.0593 - accuracy: 0.7195 - val_loss: 1.3787 - val_accuracy: 0.7134\n",
            "Epoch 19/40\n",
            "79/79 [==============================] - 7s 94ms/step - loss: 1.0607 - accuracy: 0.7170 - val_loss: 1.3818 - val_accuracy: 0.7214\n",
            "Epoch 20/40\n",
            "79/79 [==============================] - 8s 97ms/step - loss: 1.0538 - accuracy: 0.7184 - val_loss: 1.3780 - val_accuracy: 0.7222\n",
            "Epoch 21/40\n",
            "79/79 [==============================] - 7s 85ms/step - loss: 1.0524 - accuracy: 0.7186 - val_loss: 1.3816 - val_accuracy: 0.7159\n",
            "Epoch 22/40\n",
            "79/79 [==============================] - 8s 98ms/step - loss: 1.0501 - accuracy: 0.7171 - val_loss: 1.3773 - val_accuracy: 0.7170\n",
            "Epoch 23/40\n",
            "79/79 [==============================] - 8s 98ms/step - loss: 1.0489 - accuracy: 0.7173 - val_loss: 1.3709 - val_accuracy: 0.7218\n",
            "Epoch 24/40\n",
            "79/79 [==============================] - 8s 98ms/step - loss: 1.0354 - accuracy: 0.7212 - val_loss: 1.3682 - val_accuracy: 0.7212\n",
            "Epoch 25/40\n",
            "79/79 [==============================] - 8s 98ms/step - loss: 1.0341 - accuracy: 0.7209 - val_loss: 1.3783 - val_accuracy: 0.7241\n",
            "Epoch 26/40\n",
            "79/79 [==============================] - 8s 96ms/step - loss: 1.0290 - accuracy: 0.7209 - val_loss: 1.3631 - val_accuracy: 0.7210\n",
            "Epoch 27/40\n",
            "79/79 [==============================] - 8s 96ms/step - loss: 1.0196 - accuracy: 0.7214 - val_loss: 1.3566 - val_accuracy: 0.7230\n",
            "Epoch 28/40\n",
            "79/79 [==============================] - 8s 98ms/step - loss: 1.0197 - accuracy: 0.7206 - val_loss: 1.3533 - val_accuracy: 0.7224\n",
            "Epoch 29/40\n",
            "79/79 [==============================] - 8s 100ms/step - loss: 1.0169 - accuracy: 0.7199 - val_loss: 1.3571 - val_accuracy: 0.7263\n",
            "Epoch 30/40\n",
            "79/79 [==============================] - 8s 97ms/step - loss: 1.0131 - accuracy: 0.7209 - val_loss: 1.3587 - val_accuracy: 0.7205\n",
            "Epoch 31/40\n",
            "79/79 [==============================] - 8s 97ms/step - loss: 1.0076 - accuracy: 0.7225 - val_loss: 1.3582 - val_accuracy: 0.7206\n",
            "Epoch 32/40\n",
            "79/79 [==============================] - 8s 98ms/step - loss: 1.0137 - accuracy: 0.7204 - val_loss: 1.3539 - val_accuracy: 0.7243\n",
            "Epoch 33/40\n",
            "79/79 [==============================] - 8s 101ms/step - loss: 1.0047 - accuracy: 0.7215 - val_loss: 1.3555 - val_accuracy: 0.7244\n",
            "Epoch 34/40\n",
            "79/79 [==============================] - 8s 100ms/step - loss: 1.0005 - accuracy: 0.7225 - val_loss: 1.3551 - val_accuracy: 0.7248\n",
            "Epoch 35/40\n",
            "79/79 [==============================] - 8s 98ms/step - loss: 1.0053 - accuracy: 0.7212 - val_loss: 1.3494 - val_accuracy: 0.7230\n",
            "Epoch 36/40\n",
            "79/79 [==============================] - 8s 96ms/step - loss: 0.9949 - accuracy: 0.7241 - val_loss: 1.3441 - val_accuracy: 0.7252\n",
            "Epoch 37/40\n",
            "79/79 [==============================] - 8s 100ms/step - loss: 0.9868 - accuracy: 0.7251 - val_loss: 1.3376 - val_accuracy: 0.7258\n",
            "Epoch 38/40\n",
            "79/79 [==============================] - 8s 100ms/step - loss: 0.9876 - accuracy: 0.7248 - val_loss: 1.3385 - val_accuracy: 0.7254\n",
            "Epoch 39/40\n",
            "79/79 [==============================] - 8s 97ms/step - loss: 0.9821 - accuracy: 0.7247 - val_loss: 1.3367 - val_accuracy: 0.7270\n",
            "Epoch 40/40\n",
            "79/79 [==============================] - 8s 101ms/step - loss: 0.9848 - accuracy: 0.7240 - val_loss: 1.3362 - val_accuracy: 0.7261\n"
          ],
          "name": "stdout"
        },
        {
          "output_type": "display_data",
          "data": {
            "text/html": [
              "<br/>Waiting for W&B process to finish, PID 1640<br/>Program ended successfully."
            ],
            "text/plain": [
              "<IPython.core.display.HTML object>"
            ]
          },
          "metadata": {
            "tags": []
          }
        },
        {
          "output_type": "display_data",
          "data": {
            "application/vnd.jupyter.widget-view+json": {
              "model_id": "4ac91ac9bb0a4af08838c15a4aafa812",
              "version_minor": 0,
              "version_major": 2
            },
            "text/plain": [
              "VBox(children=(Label(value=' 72.87MB of 72.87MB uploaded (0.00MB deduped)\\r'), FloatProgress(value=1.0, max=1.…"
            ]
          },
          "metadata": {
            "tags": []
          }
        },
        {
          "output_type": "display_data",
          "data": {
            "text/html": [
              "Find user logs for this run at: <code>/root/.keras/datasets/dakshina_dataset_v1.0/hi/lexicons/wandb/run-20210428_175717-0oe44n0l/logs/debug.log</code>"
            ],
            "text/plain": [
              "<IPython.core.display.HTML object>"
            ]
          },
          "metadata": {
            "tags": []
          }
        },
        {
          "output_type": "display_data",
          "data": {
            "text/html": [
              "Find internal logs for this run at: <code>/root/.keras/datasets/dakshina_dataset_v1.0/hi/lexicons/wandb/run-20210428_175717-0oe44n0l/logs/debug-internal.log</code>"
            ],
            "text/plain": [
              "<IPython.core.display.HTML object>"
            ]
          },
          "metadata": {
            "tags": []
          }
        },
        {
          "output_type": "display_data",
          "data": {
            "text/html": [
              "<h3>Run summary:</h3><br/><style>\n",
              "    table.wandb td:nth-child(1) { padding: 0 10px; text-align: right }\n",
              "    </style><table class=\"wandb\">\n",
              "<tr><td>epoch</td><td>39</td></tr><tr><td>loss</td><td>0.98182</td></tr><tr><td>accuracy</td><td>0.72449</td></tr><tr><td>val_loss</td><td>1.33624</td></tr><tr><td>val_accuracy</td><td>0.72607</td></tr><tr><td>_runtime</td><td>312</td></tr><tr><td>_timestamp</td><td>1619632949</td></tr><tr><td>_step</td><td>39</td></tr><tr><td>best_val_loss</td><td>1.33624</td></tr><tr><td>best_epoch</td><td>39</td></tr></table>"
            ],
            "text/plain": [
              "<IPython.core.display.HTML object>"
            ]
          },
          "metadata": {
            "tags": []
          }
        },
        {
          "output_type": "display_data",
          "data": {
            "text/html": [
              "<h3>Run history:</h3><br/><style>\n",
              "    table.wandb td:nth-child(1) { padding: 0 10px; text-align: right }\n",
              "    </style><table class=\"wandb\">\n",
              "<tr><td>epoch</td><td>▁▁▁▂▂▂▂▂▂▃▃▃▃▃▄▄▄▄▄▄▅▅▅▅▅▅▆▆▆▆▆▇▇▇▇▇▇███</td></tr><tr><td>loss</td><td>█▄▂▂▁▁▁▁▁▁▁▁▁▁▁▁▁▁▁▁▁▁▁▁▁▁▁▁▁▁▁▁▁▁▁▁▁▁▁▁</td></tr><tr><td>accuracy</td><td>▁▆██████████████████████████████████████</td></tr><tr><td>val_loss</td><td>█▂▁▁▁▁▁▁▁▁▁▁▁▁▁▁▁▁▁▁▁▁▁▁▁▁▁▁▁▁▁▁▁▁▁▁▁▁▁▁</td></tr><tr><td>val_accuracy</td><td>▁███████████████████████████████████████</td></tr><tr><td>_runtime</td><td>▁▁▁▂▂▂▂▂▂▃▃▃▃▃▃▄▄▄▄▄▅▅▅▅▅▅▆▆▆▆▆▇▇▇▇▇▇███</td></tr><tr><td>_timestamp</td><td>▁▁▁▂▂▂▂▂▂▃▃▃▃▃▃▄▄▄▄▄▅▅▅▅▅▅▆▆▆▆▆▇▇▇▇▇▇███</td></tr><tr><td>_step</td><td>▁▁▁▂▂▂▂▂▂▃▃▃▃▃▄▄▄▄▄▄▅▅▅▅▅▅▆▆▆▆▆▇▇▇▇▇▇███</td></tr></table><br/>"
            ],
            "text/plain": [
              "<IPython.core.display.HTML object>"
            ]
          },
          "metadata": {
            "tags": []
          }
        },
        {
          "output_type": "display_data",
          "data": {
            "text/html": [
              "Synced 5 W&B file(s), 1 media file(s), 0 artifact file(s) and 1 other file(s)"
            ],
            "text/plain": [
              "<IPython.core.display.HTML object>"
            ]
          },
          "metadata": {
            "tags": []
          }
        },
        {
          "output_type": "display_data",
          "data": {
            "text/html": [
              "\n",
              "                    <br/>Synced <strong style=\"color:#cdcd00\">visionary-sweep-8</strong>: <a href=\"https://wandb.ai/anshikag_2210/MachineTransliterator/runs/0oe44n0l\" target=\"_blank\">https://wandb.ai/anshikag_2210/MachineTransliterator/runs/0oe44n0l</a><br/>\n",
              "                "
            ],
            "text/plain": [
              "<IPython.core.display.HTML object>"
            ]
          },
          "metadata": {
            "tags": []
          }
        },
        {
          "output_type": "stream",
          "text": [
            "\u001b[34m\u001b[1mwandb\u001b[0m: Agent Starting Run: ev0pkgdw with config:\n",
            "\u001b[34m\u001b[1mwandb\u001b[0m: \tbatch_size: 64\n",
            "\u001b[34m\u001b[1mwandb\u001b[0m: \tcell_type: gru\n",
            "\u001b[34m\u001b[1mwandb\u001b[0m: \tdecoder_embed_size: 64\n",
            "\u001b[34m\u001b[1mwandb\u001b[0m: \tdropout: 0.01\n",
            "\u001b[34m\u001b[1mwandb\u001b[0m: \tencoder_embed_size: 27\n",
            "\u001b[34m\u001b[1mwandb\u001b[0m: \tepochs: 60\n",
            "\u001b[34m\u001b[1mwandb\u001b[0m: \thidden_layer_size: 256\n",
            "\u001b[34m\u001b[1mwandb\u001b[0m: \tnum_decoder_layers: 3\n",
            "\u001b[34m\u001b[1mwandb\u001b[0m: \tnum_encoder_layers: 2\n",
            "\u001b[34m\u001b[1mwandb\u001b[0m: \tnum_hidden_layers: 5\n"
          ],
          "name": "stderr"
        },
        {
          "output_type": "display_data",
          "data": {
            "text/html": [
              "\n",
              "                Tracking run with wandb version 0.10.27<br/>\n",
              "                Syncing run <strong style=\"color:#cdcd00\">cosmic-sweep-9</strong> to <a href=\"https://wandb.ai\" target=\"_blank\">Weights & Biases</a> <a href=\"https://docs.wandb.com/integrations/jupyter.html\" target=\"_blank\">(Documentation)</a>.<br/>\n",
              "                Project page: <a href=\"https://wandb.ai/anshikag_2210/MachineTransliterator\" target=\"_blank\">https://wandb.ai/anshikag_2210/MachineTransliterator</a><br/>\n",
              "                Sweep page: <a href=\"https://wandb.ai/anshikag_2210/MachineTransliterator/sweeps/4qzxmg7y\" target=\"_blank\">https://wandb.ai/anshikag_2210/MachineTransliterator/sweeps/4qzxmg7y</a><br/>\n",
              "Run page: <a href=\"https://wandb.ai/anshikag_2210/MachineTransliterator/runs/ev0pkgdw\" target=\"_blank\">https://wandb.ai/anshikag_2210/MachineTransliterator/runs/ev0pkgdw</a><br/>\n",
              "                Run data is saved locally in <code>/root/.keras/datasets/dakshina_dataset_v1.0/hi/lexicons/wandb/run-20210428_180235-ev0pkgdw</code><br/><br/>\n",
              "            "
            ],
            "text/plain": [
              "<IPython.core.display.HTML object>"
            ]
          },
          "metadata": {
            "tags": []
          }
        },
        {
          "output_type": "stream",
          "text": [
            "Epoch 1/60\n",
            "157/157 [==============================] - 11s 29ms/step - loss: 1.5455 - accuracy: 0.6726 - val_loss: 1.2405 - val_accuracy: 0.7295\n"
          ],
          "name": "stdout"
        },
        {
          "output_type": "stream",
          "text": [
            "\u001b[34m\u001b[1mwandb\u001b[0m: \u001b[32m\u001b[41mERROR\u001b[0m Can't save model, h5py returned error: Unable to create link (name already exists)\n"
          ],
          "name": "stderr"
        },
        {
          "output_type": "stream",
          "text": [
            "Epoch 2/60\n",
            "157/157 [==============================] - 3s 22ms/step - loss: 0.9751 - accuracy: 0.7334 - val_loss: 1.1570 - val_accuracy: 0.7389\n",
            "Epoch 3/60\n",
            "157/157 [==============================] - 3s 20ms/step - loss: 0.8886 - accuracy: 0.7451 - val_loss: 1.1470 - val_accuracy: 0.7471\n",
            "Epoch 4/60\n",
            "157/157 [==============================] - 3s 19ms/step - loss: 0.8274 - accuracy: 0.7619 - val_loss: 1.2433 - val_accuracy: 0.7454\n",
            "Epoch 5/60\n",
            "157/157 [==============================] - 3s 20ms/step - loss: 0.7556 - accuracy: 0.7808 - val_loss: 1.1940 - val_accuracy: 0.7547\n",
            "Epoch 6/60\n",
            "157/157 [==============================] - 3s 19ms/step - loss: 0.6855 - accuracy: 0.7996 - val_loss: 1.1877 - val_accuracy: 0.7585\n",
            "Epoch 7/60\n",
            "157/157 [==============================] - 3s 19ms/step - loss: 0.6175 - accuracy: 0.8184 - val_loss: 1.1445 - val_accuracy: 0.7643\n",
            "Epoch 8/60\n",
            "157/157 [==============================] - 3s 20ms/step - loss: 0.5496 - accuracy: 0.8365 - val_loss: 1.1746 - val_accuracy: 0.7631\n",
            "Epoch 9/60\n",
            "157/157 [==============================] - 3s 19ms/step - loss: 0.4885 - accuracy: 0.8552 - val_loss: 1.1073 - val_accuracy: 0.7731\n",
            "Epoch 10/60\n",
            "157/157 [==============================] - 3s 19ms/step - loss: 0.4304 - accuracy: 0.8720 - val_loss: 1.1188 - val_accuracy: 0.7753\n",
            "Epoch 11/60\n",
            "157/157 [==============================] - 3s 20ms/step - loss: 0.3841 - accuracy: 0.8869 - val_loss: 1.0907 - val_accuracy: 0.7795\n",
            "Epoch 12/60\n",
            "157/157 [==============================] - 3s 20ms/step - loss: 0.3312 - accuracy: 0.9030 - val_loss: 1.0662 - val_accuracy: 0.7860\n",
            "Epoch 13/60\n",
            "157/157 [==============================] - 3s 19ms/step - loss: 0.2957 - accuracy: 0.9142 - val_loss: 1.0880 - val_accuracy: 0.7852\n",
            "Epoch 14/60\n",
            "157/157 [==============================] - 3s 20ms/step - loss: 0.2560 - accuracy: 0.9258 - val_loss: 1.0840 - val_accuracy: 0.7883\n",
            "Epoch 15/60\n",
            "157/157 [==============================] - 3s 20ms/step - loss: 0.2248 - accuracy: 0.9356 - val_loss: 1.0809 - val_accuracy: 0.7919\n",
            "Epoch 16/60\n",
            "157/157 [==============================] - 3s 20ms/step - loss: 0.1948 - accuracy: 0.9451 - val_loss: 1.0809 - val_accuracy: 0.7935\n",
            "Epoch 17/60\n",
            "157/157 [==============================] - 3s 19ms/step - loss: 0.1698 - accuracy: 0.9530 - val_loss: 1.0824 - val_accuracy: 0.7953\n",
            "Epoch 18/60\n",
            "157/157 [==============================] - 3s 19ms/step - loss: 0.1487 - accuracy: 0.9601 - val_loss: 1.1147 - val_accuracy: 0.7920\n",
            "Epoch 19/60\n",
            "157/157 [==============================] - 3s 21ms/step - loss: 0.1327 - accuracy: 0.9645 - val_loss: 1.1112 - val_accuracy: 0.7947\n",
            "Epoch 20/60\n",
            "157/157 [==============================] - 3s 19ms/step - loss: 0.1148 - accuracy: 0.9698 - val_loss: 1.1159 - val_accuracy: 0.7975\n",
            "Epoch 21/60\n",
            "157/157 [==============================] - 3s 20ms/step - loss: 0.1000 - accuracy: 0.9742 - val_loss: 1.1282 - val_accuracy: 0.7949\n",
            "Epoch 22/60\n",
            "157/157 [==============================] - 3s 20ms/step - loss: 0.0932 - accuracy: 0.9760 - val_loss: 1.1486 - val_accuracy: 0.7946\n",
            "Epoch 23/60\n",
            "157/157 [==============================] - 3s 19ms/step - loss: 0.0789 - accuracy: 0.9802 - val_loss: 1.1499 - val_accuracy: 0.7987\n",
            "Epoch 24/60\n",
            "157/157 [==============================] - 3s 19ms/step - loss: 0.0734 - accuracy: 0.9818 - val_loss: 1.1799 - val_accuracy: 0.7957\n",
            "Epoch 25/60\n",
            "157/157 [==============================] - 3s 19ms/step - loss: 0.0638 - accuracy: 0.9845 - val_loss: 1.1808 - val_accuracy: 0.7964\n",
            "Epoch 26/60\n",
            "157/157 [==============================] - 3s 20ms/step - loss: 0.0598 - accuracy: 0.9855 - val_loss: 1.1841 - val_accuracy: 0.7990\n",
            "Epoch 27/60\n",
            "157/157 [==============================] - 3s 20ms/step - loss: 0.0535 - accuracy: 0.9873 - val_loss: 1.2057 - val_accuracy: 0.7973\n",
            "Epoch 28/60\n",
            "157/157 [==============================] - 3s 20ms/step - loss: 0.0484 - accuracy: 0.9887 - val_loss: 1.2179 - val_accuracy: 0.7979\n",
            "Epoch 29/60\n",
            "157/157 [==============================] - 3s 20ms/step - loss: 0.0448 - accuracy: 0.9891 - val_loss: 1.2388 - val_accuracy: 0.7976\n",
            "Epoch 30/60\n",
            "157/157 [==============================] - 3s 20ms/step - loss: 0.0405 - accuracy: 0.9902 - val_loss: 1.2265 - val_accuracy: 0.7989\n",
            "Epoch 31/60\n",
            "157/157 [==============================] - 3s 19ms/step - loss: 0.0381 - accuracy: 0.9905 - val_loss: 1.2572 - val_accuracy: 0.7976\n",
            "Epoch 32/60\n",
            "157/157 [==============================] - 3s 20ms/step - loss: 0.0349 - accuracy: 0.9914 - val_loss: 1.2568 - val_accuracy: 0.7986\n",
            "Epoch 33/60\n",
            "157/157 [==============================] - 3s 20ms/step - loss: 0.0333 - accuracy: 0.9921 - val_loss: 1.2834 - val_accuracy: 0.7976\n",
            "Epoch 34/60\n",
            "157/157 [==============================] - 3s 19ms/step - loss: 0.0303 - accuracy: 0.9928 - val_loss: 1.2882 - val_accuracy: 0.7979\n",
            "Epoch 35/60\n",
            "157/157 [==============================] - 3s 19ms/step - loss: 0.0284 - accuracy: 0.9930 - val_loss: 1.2914 - val_accuracy: 0.7987\n",
            "Epoch 36/60\n",
            "157/157 [==============================] - 3s 19ms/step - loss: 0.0276 - accuracy: 0.9931 - val_loss: 1.2966 - val_accuracy: 0.8020\n",
            "Epoch 37/60\n",
            "157/157 [==============================] - 3s 19ms/step - loss: 0.0259 - accuracy: 0.9937 - val_loss: 1.3060 - val_accuracy: 0.8005\n",
            "Epoch 38/60\n",
            "157/157 [==============================] - 3s 20ms/step - loss: 0.0244 - accuracy: 0.9937 - val_loss: 1.3493 - val_accuracy: 0.7965\n",
            "Epoch 39/60\n",
            "157/157 [==============================] - 3s 20ms/step - loss: 0.0234 - accuracy: 0.9940 - val_loss: 1.3455 - val_accuracy: 0.7978\n",
            "Epoch 40/60\n",
            "157/157 [==============================] - 3s 20ms/step - loss: 0.0213 - accuracy: 0.9943 - val_loss: 1.3259 - val_accuracy: 0.8024\n",
            "Epoch 41/60\n",
            "157/157 [==============================] - 3s 20ms/step - loss: 0.0209 - accuracy: 0.9944 - val_loss: 1.3653 - val_accuracy: 0.7986\n",
            "Epoch 42/60\n",
            "157/157 [==============================] - 3s 20ms/step - loss: 0.0193 - accuracy: 0.9947 - val_loss: 1.3537 - val_accuracy: 0.8000\n",
            "Epoch 43/60\n",
            "157/157 [==============================] - 3s 20ms/step - loss: 0.0202 - accuracy: 0.9944 - val_loss: 1.3707 - val_accuracy: 0.7993\n",
            "Epoch 44/60\n",
            "157/157 [==============================] - 3s 20ms/step - loss: 0.0192 - accuracy: 0.9946 - val_loss: 1.3892 - val_accuracy: 0.7994\n",
            "Epoch 45/60\n",
            "157/157 [==============================] - 3s 20ms/step - loss: 0.0188 - accuracy: 0.9946 - val_loss: 1.3660 - val_accuracy: 0.8011\n",
            "Epoch 46/60\n",
            "157/157 [==============================] - 3s 20ms/step - loss: 0.0170 - accuracy: 0.9950 - val_loss: 1.3734 - val_accuracy: 0.8015\n",
            "Epoch 47/60\n",
            "157/157 [==============================] - 3s 20ms/step - loss: 0.0158 - accuracy: 0.9953 - val_loss: 1.3801 - val_accuracy: 0.8020\n",
            "Epoch 48/60\n",
            "157/157 [==============================] - 3s 20ms/step - loss: 0.0157 - accuracy: 0.9954 - val_loss: 1.4110 - val_accuracy: 0.7997\n",
            "Epoch 49/60\n",
            "157/157 [==============================] - 3s 21ms/step - loss: 0.0143 - accuracy: 0.9957 - val_loss: 1.4023 - val_accuracy: 0.8006\n",
            "Epoch 50/60\n",
            "157/157 [==============================] - 3s 21ms/step - loss: 0.0142 - accuracy: 0.9955 - val_loss: 1.4157 - val_accuracy: 0.8012\n",
            "Epoch 51/60\n",
            "157/157 [==============================] - 3s 20ms/step - loss: 0.0141 - accuracy: 0.9955 - val_loss: 1.4361 - val_accuracy: 0.7979\n",
            "Epoch 52/60\n",
            "157/157 [==============================] - 3s 20ms/step - loss: 0.0138 - accuracy: 0.9958 - val_loss: 1.4382 - val_accuracy: 0.7977\n",
            "Epoch 53/60\n",
            "157/157 [==============================] - 3s 20ms/step - loss: 0.0135 - accuracy: 0.9957 - val_loss: 1.4408 - val_accuracy: 0.8013\n",
            "Epoch 54/60\n",
            "157/157 [==============================] - 3s 20ms/step - loss: 0.0131 - accuracy: 0.9954 - val_loss: 1.4491 - val_accuracy: 0.8008\n",
            "Epoch 55/60\n",
            "157/157 [==============================] - 3s 20ms/step - loss: 0.0127 - accuracy: 0.9955 - val_loss: 1.4434 - val_accuracy: 0.8019\n",
            "Epoch 56/60\n",
            "157/157 [==============================] - 3s 20ms/step - loss: 0.0121 - accuracy: 0.9958 - val_loss: 1.4496 - val_accuracy: 0.8014\n",
            "Epoch 57/60\n",
            "157/157 [==============================] - 3s 20ms/step - loss: 0.0126 - accuracy: 0.9956 - val_loss: 1.4547 - val_accuracy: 0.7999\n",
            "Epoch 58/60\n",
            "157/157 [==============================] - 3s 19ms/step - loss: 0.0122 - accuracy: 0.9957 - val_loss: 1.4558 - val_accuracy: 0.8017\n",
            "Epoch 59/60\n",
            "157/157 [==============================] - 3s 20ms/step - loss: 0.0123 - accuracy: 0.9957 - val_loss: 1.4732 - val_accuracy: 0.7983\n",
            "Epoch 60/60\n",
            "157/157 [==============================] - 3s 20ms/step - loss: 0.0113 - accuracy: 0.9961 - val_loss: 1.4843 - val_accuracy: 0.7999\n"
          ],
          "name": "stdout"
        },
        {
          "output_type": "display_data",
          "data": {
            "text/html": [
              "<br/>Waiting for W&B process to finish, PID 1835<br/>Program ended successfully."
            ],
            "text/plain": [
              "<IPython.core.display.HTML object>"
            ]
          },
          "metadata": {
            "tags": []
          }
        },
        {
          "output_type": "display_data",
          "data": {
            "application/vnd.jupyter.widget-view+json": {
              "model_id": "5882f6b18def482597bf77453faedd96",
              "version_minor": 0,
              "version_major": 2
            },
            "text/plain": [
              "VBox(children=(Label(value=' 72.84MB of 72.84MB uploaded (0.00MB deduped)\\r'), FloatProgress(value=1.0, max=1.…"
            ]
          },
          "metadata": {
            "tags": []
          }
        },
        {
          "output_type": "display_data",
          "data": {
            "text/html": [
              "Find user logs for this run at: <code>/root/.keras/datasets/dakshina_dataset_v1.0/hi/lexicons/wandb/run-20210428_180235-ev0pkgdw/logs/debug.log</code>"
            ],
            "text/plain": [
              "<IPython.core.display.HTML object>"
            ]
          },
          "metadata": {
            "tags": []
          }
        },
        {
          "output_type": "display_data",
          "data": {
            "text/html": [
              "Find internal logs for this run at: <code>/root/.keras/datasets/dakshina_dataset_v1.0/hi/lexicons/wandb/run-20210428_180235-ev0pkgdw/logs/debug-internal.log</code>"
            ],
            "text/plain": [
              "<IPython.core.display.HTML object>"
            ]
          },
          "metadata": {
            "tags": []
          }
        },
        {
          "output_type": "display_data",
          "data": {
            "text/html": [
              "<h3>Run summary:</h3><br/><style>\n",
              "    table.wandb td:nth-child(1) { padding: 0 10px; text-align: right }\n",
              "    </style><table class=\"wandb\">\n",
              "<tr><td>epoch</td><td>59</td></tr><tr><td>loss</td><td>0.01251</td></tr><tr><td>accuracy</td><td>0.99533</td></tr><tr><td>val_loss</td><td>1.48432</td></tr><tr><td>val_accuracy</td><td>0.79989</td></tr><tr><td>_runtime</td><td>200</td></tr><tr><td>_timestamp</td><td>1619633155</td></tr><tr><td>_step</td><td>59</td></tr><tr><td>best_val_loss</td><td>1.06619</td></tr><tr><td>best_epoch</td><td>11</td></tr></table>"
            ],
            "text/plain": [
              "<IPython.core.display.HTML object>"
            ]
          },
          "metadata": {
            "tags": []
          }
        },
        {
          "output_type": "display_data",
          "data": {
            "text/html": [
              "<h3>Run history:</h3><br/><style>\n",
              "    table.wandb td:nth-child(1) { padding: 0 10px; text-align: right }\n",
              "    </style><table class=\"wandb\">\n",
              "<tr><td>epoch</td><td>▁▁▁▁▂▂▂▂▂▃▃▃▃▃▃▄▄▄▄▄▅▅▅▅▅▅▆▆▆▆▆▆▇▇▇▇▇███</td></tr><tr><td>loss</td><td>█▆▆▅▄▄▃▃▃▂▂▂▂▂▁▁▁▁▁▁▁▁▁▁▁▁▁▁▁▁▁▁▁▁▁▁▁▁▁▁</td></tr><tr><td>accuracy</td><td>▁▂▃▃▄▄▅▅▆▆▇▇▇▇██████████████████████████</td></tr><tr><td>val_loss</td><td>▄▂▄▃▂▃▂▁▁▁▁▁▂▂▂▂▃▃▃▄▄▄▅▅▅▆▅▆▆▆▆▆▇▇▇▇▇▇██</td></tr><tr><td>val_accuracy</td><td>▁▂▃▃▄▄▅▆▆▇▇▇▇█▇█▇████████▇██████████████</td></tr><tr><td>_runtime</td><td>▁▁▁▁▂▂▂▂▂▃▃▃▃▃▃▄▄▄▄▄▅▅▅▅▅▅▆▆▆▆▆▆▇▇▇▇▇███</td></tr><tr><td>_timestamp</td><td>▁▁▁▁▂▂▂▂▂▃▃▃▃▃▃▄▄▄▄▄▅▅▅▅▅▅▆▆▆▆▆▆▇▇▇▇▇███</td></tr><tr><td>_step</td><td>▁▁▁▁▂▂▂▂▂▃▃▃▃▃▃▄▄▄▄▄▅▅▅▅▅▅▆▆▆▆▆▆▇▇▇▇▇███</td></tr></table><br/>"
            ],
            "text/plain": [
              "<IPython.core.display.HTML object>"
            ]
          },
          "metadata": {
            "tags": []
          }
        },
        {
          "output_type": "display_data",
          "data": {
            "text/html": [
              "Synced 5 W&B file(s), 1 media file(s), 0 artifact file(s) and 1 other file(s)"
            ],
            "text/plain": [
              "<IPython.core.display.HTML object>"
            ]
          },
          "metadata": {
            "tags": []
          }
        },
        {
          "output_type": "display_data",
          "data": {
            "text/html": [
              "\n",
              "                    <br/>Synced <strong style=\"color:#cdcd00\">cosmic-sweep-9</strong>: <a href=\"https://wandb.ai/anshikag_2210/MachineTransliterator/runs/ev0pkgdw\" target=\"_blank\">https://wandb.ai/anshikag_2210/MachineTransliterator/runs/ev0pkgdw</a><br/>\n",
              "                "
            ],
            "text/plain": [
              "<IPython.core.display.HTML object>"
            ]
          },
          "metadata": {
            "tags": []
          }
        },
        {
          "output_type": "stream",
          "text": [
            "\u001b[34m\u001b[1mwandb\u001b[0m: Agent Starting Run: zl5oooxq with config:\n",
            "\u001b[34m\u001b[1mwandb\u001b[0m: \tbatch_size: 32\n",
            "\u001b[34m\u001b[1mwandb\u001b[0m: \tcell_type: gru\n",
            "\u001b[34m\u001b[1mwandb\u001b[0m: \tdecoder_embed_size: 64\n",
            "\u001b[34m\u001b[1mwandb\u001b[0m: \tdropout: 0.5\n",
            "\u001b[34m\u001b[1mwandb\u001b[0m: \tencoder_embed_size: 27\n",
            "\u001b[34m\u001b[1mwandb\u001b[0m: \tepochs: 30\n",
            "\u001b[34m\u001b[1mwandb\u001b[0m: \thidden_layer_size: 256\n",
            "\u001b[34m\u001b[1mwandb\u001b[0m: \tnum_decoder_layers: 1\n",
            "\u001b[34m\u001b[1mwandb\u001b[0m: \tnum_encoder_layers: 3\n",
            "\u001b[34m\u001b[1mwandb\u001b[0m: \tnum_hidden_layers: 10\n"
          ],
          "name": "stderr"
        },
        {
          "output_type": "display_data",
          "data": {
            "text/html": [
              "\n",
              "                Tracking run with wandb version 0.10.27<br/>\n",
              "                Syncing run <strong style=\"color:#cdcd00\">glorious-sweep-10</strong> to <a href=\"https://wandb.ai\" target=\"_blank\">Weights & Biases</a> <a href=\"https://docs.wandb.com/integrations/jupyter.html\" target=\"_blank\">(Documentation)</a>.<br/>\n",
              "                Project page: <a href=\"https://wandb.ai/anshikag_2210/MachineTransliterator\" target=\"_blank\">https://wandb.ai/anshikag_2210/MachineTransliterator</a><br/>\n",
              "                Sweep page: <a href=\"https://wandb.ai/anshikag_2210/MachineTransliterator/sweeps/4qzxmg7y\" target=\"_blank\">https://wandb.ai/anshikag_2210/MachineTransliterator/sweeps/4qzxmg7y</a><br/>\n",
              "Run page: <a href=\"https://wandb.ai/anshikag_2210/MachineTransliterator/runs/zl5oooxq\" target=\"_blank\">https://wandb.ai/anshikag_2210/MachineTransliterator/runs/zl5oooxq</a><br/>\n",
              "                Run data is saved locally in <code>/root/.keras/datasets/dakshina_dataset_v1.0/hi/lexicons/wandb/run-20210428_180600-zl5oooxq</code><br/><br/>\n",
              "            "
            ],
            "text/plain": [
              "<IPython.core.display.HTML object>"
            ]
          },
          "metadata": {
            "tags": []
          }
        },
        {
          "output_type": "stream",
          "text": [
            "Epoch 1/30\n",
            "313/313 [==============================] - 12s 20ms/step - loss: 1.4605 - accuracy: 0.6955 - val_loss: 1.1753 - val_accuracy: 0.7343\n"
          ],
          "name": "stdout"
        },
        {
          "output_type": "stream",
          "text": [
            "\u001b[34m\u001b[1mwandb\u001b[0m: \u001b[32m\u001b[41mERROR\u001b[0m Can't save model, h5py returned error: Unable to create link (name already exists)\n"
          ],
          "name": "stderr"
        },
        {
          "output_type": "stream",
          "text": [
            "Epoch 2/30\n",
            "313/313 [==============================] - 5s 17ms/step - loss: 0.9671 - accuracy: 0.7384 - val_loss: 1.1884 - val_accuracy: 0.7402\n",
            "Epoch 3/30\n",
            "313/313 [==============================] - 5s 16ms/step - loss: 0.8967 - accuracy: 0.7524 - val_loss: 1.1698 - val_accuracy: 0.7429\n",
            "Epoch 4/30\n",
            "313/313 [==============================] - 5s 16ms/step - loss: 0.8614 - accuracy: 0.7613 - val_loss: 1.1600 - val_accuracy: 0.7467\n",
            "Epoch 5/30\n",
            "313/313 [==============================] - 5s 16ms/step - loss: 0.8380 - accuracy: 0.7652 - val_loss: 1.1577 - val_accuracy: 0.7479\n",
            "Epoch 6/30\n",
            "313/313 [==============================] - 5s 16ms/step - loss: 0.8221 - accuracy: 0.7679 - val_loss: 1.1477 - val_accuracy: 0.7504\n",
            "Epoch 7/30\n",
            "313/313 [==============================] - 5s 16ms/step - loss: 0.8036 - accuracy: 0.7721 - val_loss: 1.1375 - val_accuracy: 0.7523\n",
            "Epoch 8/30\n",
            "313/313 [==============================] - 5s 16ms/step - loss: 0.7885 - accuracy: 0.7753 - val_loss: 1.1397 - val_accuracy: 0.7547\n",
            "Epoch 9/30\n",
            "313/313 [==============================] - 5s 16ms/step - loss: 0.7703 - accuracy: 0.7796 - val_loss: 1.1288 - val_accuracy: 0.7558\n",
            "Epoch 10/30\n",
            "313/313 [==============================] - 5s 16ms/step - loss: 0.7517 - accuracy: 0.7842 - val_loss: 1.1130 - val_accuracy: 0.7594\n",
            "Epoch 11/30\n",
            "313/313 [==============================] - 5s 16ms/step - loss: 0.7433 - accuracy: 0.7868 - val_loss: 1.1155 - val_accuracy: 0.7589\n",
            "Epoch 12/30\n",
            "313/313 [==============================] - 5s 16ms/step - loss: 0.7254 - accuracy: 0.7902 - val_loss: 1.1125 - val_accuracy: 0.7599\n",
            "Epoch 13/30\n",
            "313/313 [==============================] - 5s 16ms/step - loss: 0.7081 - accuracy: 0.7945 - val_loss: 1.1048 - val_accuracy: 0.7612\n",
            "Epoch 14/30\n",
            "313/313 [==============================] - 5s 16ms/step - loss: 0.6995 - accuracy: 0.7970 - val_loss: 1.0900 - val_accuracy: 0.7640\n",
            "Epoch 15/30\n",
            "313/313 [==============================] - 5s 16ms/step - loss: 0.6866 - accuracy: 0.8007 - val_loss: 1.0905 - val_accuracy: 0.7652\n",
            "Epoch 16/30\n",
            "313/313 [==============================] - 5s 16ms/step - loss: 0.6806 - accuracy: 0.8009 - val_loss: 1.0761 - val_accuracy: 0.7673\n",
            "Epoch 17/30\n",
            "313/313 [==============================] - 5s 16ms/step - loss: 0.6679 - accuracy: 0.8046 - val_loss: 1.0721 - val_accuracy: 0.7682\n",
            "Epoch 18/30\n",
            "313/313 [==============================] - 5s 16ms/step - loss: 0.6586 - accuracy: 0.8077 - val_loss: 1.0656 - val_accuracy: 0.7686\n",
            "Epoch 19/30\n",
            "313/313 [==============================] - 5s 16ms/step - loss: 0.6478 - accuracy: 0.8099 - val_loss: 1.0579 - val_accuracy: 0.7699\n",
            "Epoch 20/30\n",
            "313/313 [==============================] - 5s 16ms/step - loss: 0.6424 - accuracy: 0.8106 - val_loss: 1.0526 - val_accuracy: 0.7713\n",
            "Epoch 21/30\n",
            "313/313 [==============================] - 5s 16ms/step - loss: 0.6298 - accuracy: 0.8138 - val_loss: 1.0498 - val_accuracy: 0.7710\n",
            "Epoch 22/30\n",
            "313/313 [==============================] - 5s 16ms/step - loss: 0.6213 - accuracy: 0.8164 - val_loss: 1.0430 - val_accuracy: 0.7709\n",
            "Epoch 23/30\n",
            "313/313 [==============================] - 5s 16ms/step - loss: 0.6178 - accuracy: 0.8173 - val_loss: 1.0406 - val_accuracy: 0.7716\n",
            "Epoch 24/30\n",
            "313/313 [==============================] - 5s 16ms/step - loss: 0.6126 - accuracy: 0.8187 - val_loss: 1.0359 - val_accuracy: 0.7722\n",
            "Epoch 25/30\n",
            "313/313 [==============================] - 5s 16ms/step - loss: 0.6151 - accuracy: 0.8170 - val_loss: 1.0329 - val_accuracy: 0.7730\n",
            "Epoch 26/30\n",
            "313/313 [==============================] - 5s 16ms/step - loss: 0.6047 - accuracy: 0.8196 - val_loss: 1.0330 - val_accuracy: 0.7735\n",
            "Epoch 27/30\n",
            "313/313 [==============================] - 5s 16ms/step - loss: 0.5988 - accuracy: 0.8227 - val_loss: 1.0300 - val_accuracy: 0.7743\n",
            "Epoch 28/30\n",
            "313/313 [==============================] - 5s 16ms/step - loss: 0.6058 - accuracy: 0.8195 - val_loss: 1.0286 - val_accuracy: 0.7745\n",
            "Epoch 29/30\n",
            "313/313 [==============================] - 5s 16ms/step - loss: 0.5932 - accuracy: 0.8225 - val_loss: 1.0258 - val_accuracy: 0.7746\n",
            "Epoch 30/30\n",
            "313/313 [==============================] - 5s 16ms/step - loss: 0.5990 - accuracy: 0.8212 - val_loss: 1.0277 - val_accuracy: 0.7740\n"
          ],
          "name": "stdout"
        },
        {
          "output_type": "display_data",
          "data": {
            "text/html": [
              "<br/>Waiting for W&B process to finish, PID 2090<br/>Program ended successfully."
            ],
            "text/plain": [
              "<IPython.core.display.HTML object>"
            ]
          },
          "metadata": {
            "tags": []
          }
        },
        {
          "output_type": "display_data",
          "data": {
            "application/vnd.jupyter.widget-view+json": {
              "model_id": "552ec71093cc40308d8c94b9109bb21f",
              "version_minor": 0,
              "version_major": 2
            },
            "text/plain": [
              "VBox(children=(Label(value=' 71.34MB of 71.34MB uploaded (0.00MB deduped)\\r'), FloatProgress(value=1.0, max=1.…"
            ]
          },
          "metadata": {
            "tags": []
          }
        },
        {
          "output_type": "display_data",
          "data": {
            "text/html": [
              "Find user logs for this run at: <code>/root/.keras/datasets/dakshina_dataset_v1.0/hi/lexicons/wandb/run-20210428_180600-zl5oooxq/logs/debug.log</code>"
            ],
            "text/plain": [
              "<IPython.core.display.HTML object>"
            ]
          },
          "metadata": {
            "tags": []
          }
        },
        {
          "output_type": "display_data",
          "data": {
            "text/html": [
              "Find internal logs for this run at: <code>/root/.keras/datasets/dakshina_dataset_v1.0/hi/lexicons/wandb/run-20210428_180600-zl5oooxq/logs/debug-internal.log</code>"
            ],
            "text/plain": [
              "<IPython.core.display.HTML object>"
            ]
          },
          "metadata": {
            "tags": []
          }
        },
        {
          "output_type": "display_data",
          "data": {
            "text/html": [
              "<h3>Run summary:</h3><br/><style>\n",
              "    table.wandb td:nth-child(1) { padding: 0 10px; text-align: right }\n",
              "    </style><table class=\"wandb\">\n",
              "<tr><td>epoch</td><td>29</td></tr><tr><td>loss</td><td>0.5974</td></tr><tr><td>accuracy</td><td>0.8222</td></tr><tr><td>val_loss</td><td>1.02772</td></tr><tr><td>val_accuracy</td><td>0.77396</td></tr><tr><td>_runtime</td><td>160</td></tr><tr><td>_timestamp</td><td>1619633320</td></tr><tr><td>_step</td><td>29</td></tr><tr><td>best_val_loss</td><td>1.02583</td></tr><tr><td>best_epoch</td><td>28</td></tr></table>"
            ],
            "text/plain": [
              "<IPython.core.display.HTML object>"
            ]
          },
          "metadata": {
            "tags": []
          }
        },
        {
          "output_type": "display_data",
          "data": {
            "text/html": [
              "<h3>Run history:</h3><br/><style>\n",
              "    table.wandb td:nth-child(1) { padding: 0 10px; text-align: right }\n",
              "    </style><table class=\"wandb\">\n",
              "<tr><td>epoch</td><td>▁▁▁▂▂▂▂▃▃▃▃▄▄▄▄▅▅▅▅▆▆▆▆▇▇▇▇███</td></tr><tr><td>loss</td><td>█▅▅▄▄▄▃▃▃▃▃▃▂▂▂▂▂▂▂▁▁▁▁▁▁▁▁▁▁▁</td></tr><tr><td>accuracy</td><td>▁▃▄▄▄▅▅▅▅▆▆▆▆▆▇▇▇▇▇▇▇█████████</td></tr><tr><td>val_loss</td><td>▇█▇▇▇▆▆▆▅▅▅▅▄▄▄▃▃▃▂▂▂▂▂▁▁▁▁▁▁▁</td></tr><tr><td>val_accuracy</td><td>▁▂▃▃▃▄▄▅▅▅▅▅▆▆▆▇▇▇▇▇▇▇▇███████</td></tr><tr><td>_runtime</td><td>▁▁▂▂▂▂▂▃▃▃▃▄▄▄▄▅▅▅▅▆▆▆▆▇▇▇▇███</td></tr><tr><td>_timestamp</td><td>▁▁▂▂▂▂▂▃▃▃▃▄▄▄▄▅▅▅▅▆▆▆▆▇▇▇▇███</td></tr><tr><td>_step</td><td>▁▁▁▂▂▂▂▃▃▃▃▄▄▄▄▅▅▅▅▆▆▆▆▇▇▇▇███</td></tr></table><br/>"
            ],
            "text/plain": [
              "<IPython.core.display.HTML object>"
            ]
          },
          "metadata": {
            "tags": []
          }
        },
        {
          "output_type": "display_data",
          "data": {
            "text/html": [
              "Synced 5 W&B file(s), 1 media file(s), 0 artifact file(s) and 1 other file(s)"
            ],
            "text/plain": [
              "<IPython.core.display.HTML object>"
            ]
          },
          "metadata": {
            "tags": []
          }
        },
        {
          "output_type": "display_data",
          "data": {
            "text/html": [
              "\n",
              "                    <br/>Synced <strong style=\"color:#cdcd00\">glorious-sweep-10</strong>: <a href=\"https://wandb.ai/anshikag_2210/MachineTransliterator/runs/zl5oooxq\" target=\"_blank\">https://wandb.ai/anshikag_2210/MachineTransliterator/runs/zl5oooxq</a><br/>\n",
              "                "
            ],
            "text/plain": [
              "<IPython.core.display.HTML object>"
            ]
          },
          "metadata": {
            "tags": []
          }
        },
        {
          "output_type": "stream",
          "text": [
            "\u001b[34m\u001b[1mwandb\u001b[0m: Agent Starting Run: qd3q9evn with config:\n",
            "\u001b[34m\u001b[1mwandb\u001b[0m: \tbatch_size: 32\n",
            "\u001b[34m\u001b[1mwandb\u001b[0m: \tcell_type: lstm\n",
            "\u001b[34m\u001b[1mwandb\u001b[0m: \tdecoder_embed_size: 27\n",
            "\u001b[34m\u001b[1mwandb\u001b[0m: \tdropout: 0.01\n",
            "\u001b[34m\u001b[1mwandb\u001b[0m: \tencoder_embed_size: 64\n",
            "\u001b[34m\u001b[1mwandb\u001b[0m: \tepochs: 40\n",
            "\u001b[34m\u001b[1mwandb\u001b[0m: \thidden_layer_size: 512\n",
            "\u001b[34m\u001b[1mwandb\u001b[0m: \tnum_decoder_layers: 2\n",
            "\u001b[34m\u001b[1mwandb\u001b[0m: \tnum_encoder_layers: 1\n",
            "\u001b[34m\u001b[1mwandb\u001b[0m: \tnum_hidden_layers: 5\n"
          ],
          "name": "stderr"
        },
        {
          "output_type": "display_data",
          "data": {
            "text/html": [
              "\n",
              "                Tracking run with wandb version 0.10.27<br/>\n",
              "                Syncing run <strong style=\"color:#cdcd00\">amber-sweep-11</strong> to <a href=\"https://wandb.ai\" target=\"_blank\">Weights & Biases</a> <a href=\"https://docs.wandb.com/integrations/jupyter.html\" target=\"_blank\">(Documentation)</a>.<br/>\n",
              "                Project page: <a href=\"https://wandb.ai/anshikag_2210/MachineTransliterator\" target=\"_blank\">https://wandb.ai/anshikag_2210/MachineTransliterator</a><br/>\n",
              "                Sweep page: <a href=\"https://wandb.ai/anshikag_2210/MachineTransliterator/sweeps/4qzxmg7y\" target=\"_blank\">https://wandb.ai/anshikag_2210/MachineTransliterator/sweeps/4qzxmg7y</a><br/>\n",
              "Run page: <a href=\"https://wandb.ai/anshikag_2210/MachineTransliterator/runs/qd3q9evn\" target=\"_blank\">https://wandb.ai/anshikag_2210/MachineTransliterator/runs/qd3q9evn</a><br/>\n",
              "                Run data is saved locally in <code>/root/.keras/datasets/dakshina_dataset_v1.0/hi/lexicons/wandb/run-20210428_180847-qd3q9evn</code><br/><br/>\n",
              "            "
            ],
            "text/plain": [
              "<IPython.core.display.HTML object>"
            ]
          },
          "metadata": {
            "tags": []
          }
        },
        {
          "output_type": "stream",
          "text": [
            "Epoch 1/40\n",
            "313/313 [==============================] - 11s 23ms/step - loss: 2.0926 - accuracy: 0.6655 - val_loss: 1.1665 - val_accuracy: 0.7157\n"
          ],
          "name": "stdout"
        },
        {
          "output_type": "stream",
          "text": [
            "\u001b[34m\u001b[1mwandb\u001b[0m: \u001b[32m\u001b[41mERROR\u001b[0m Can't save model, h5py returned error: Unable to create link (name already exists)\n"
          ],
          "name": "stderr"
        },
        {
          "output_type": "stream",
          "text": [
            "Epoch 2/40\n",
            "313/313 [==============================] - 6s 19ms/step - loss: 1.1665 - accuracy: 0.7145 - val_loss: 1.1606 - val_accuracy: 0.7191\n",
            "Epoch 3/40\n",
            "313/313 [==============================] - 6s 19ms/step - loss: 1.1122 - accuracy: 0.7181 - val_loss: 1.1588 - val_accuracy: 0.7246\n",
            "Epoch 4/40\n",
            "313/313 [==============================] - 6s 19ms/step - loss: 1.0984 - accuracy: 0.7194 - val_loss: 1.1652 - val_accuracy: 0.7229\n",
            "Epoch 5/40\n",
            "313/313 [==============================] - 6s 19ms/step - loss: 1.0964 - accuracy: 0.7192 - val_loss: 1.1783 - val_accuracy: 0.7217\n",
            "Epoch 6/40\n",
            "313/313 [==============================] - 6s 19ms/step - loss: 1.0917 - accuracy: 0.7196 - val_loss: 1.1748 - val_accuracy: 0.7223\n",
            "Epoch 7/40\n",
            "313/313 [==============================] - 6s 19ms/step - loss: 1.0903 - accuracy: 0.7192 - val_loss: 1.1729 - val_accuracy: 0.7228\n",
            "Epoch 8/40\n",
            "313/313 [==============================] - 6s 18ms/step - loss: 1.0958 - accuracy: 0.7186 - val_loss: 1.3061 - val_accuracy: 0.7144\n",
            "Epoch 9/40\n",
            "313/313 [==============================] - 6s 18ms/step - loss: 1.2132 - accuracy: 0.7058 - val_loss: 1.2939 - val_accuracy: 0.7141\n",
            "Epoch 10/40\n",
            "313/313 [==============================] - 6s 18ms/step - loss: 1.0772 - accuracy: 0.7159 - val_loss: 1.2271 - val_accuracy: 0.7262\n",
            "Epoch 11/40\n",
            "313/313 [==============================] - 6s 19ms/step - loss: 0.9950 - accuracy: 0.7243 - val_loss: 1.1898 - val_accuracy: 0.7360\n",
            "Epoch 12/40\n",
            "313/313 [==============================] - 6s 19ms/step - loss: 0.9393 - accuracy: 0.7372 - val_loss: 1.1729 - val_accuracy: 0.7373\n",
            "Epoch 13/40\n",
            "313/313 [==============================] - 6s 19ms/step - loss: 0.8834 - accuracy: 0.7527 - val_loss: 1.1673 - val_accuracy: 0.7440\n",
            "Epoch 14/40\n",
            "313/313 [==============================] - 6s 19ms/step - loss: 0.8442 - accuracy: 0.7639 - val_loss: 1.1744 - val_accuracy: 0.7469\n",
            "Epoch 15/40\n",
            "313/313 [==============================] - 6s 19ms/step - loss: 0.8080 - accuracy: 0.7726 - val_loss: 1.1851 - val_accuracy: 0.7514\n",
            "Epoch 16/40\n",
            "313/313 [==============================] - 6s 19ms/step - loss: 0.7662 - accuracy: 0.7836 - val_loss: 1.1547 - val_accuracy: 0.7564\n",
            "Epoch 17/40\n",
            "313/313 [==============================] - 6s 19ms/step - loss: 0.7323 - accuracy: 0.7910 - val_loss: 1.1717 - val_accuracy: 0.7596\n",
            "Epoch 18/40\n",
            "313/313 [==============================] - 6s 19ms/step - loss: 0.6887 - accuracy: 0.8023 - val_loss: 1.1689 - val_accuracy: 0.7598\n",
            "Epoch 19/40\n",
            "313/313 [==============================] - 6s 19ms/step - loss: 0.6583 - accuracy: 0.8086 - val_loss: 1.1171 - val_accuracy: 0.7659\n",
            "Epoch 20/40\n",
            "313/313 [==============================] - 6s 19ms/step - loss: 0.6107 - accuracy: 0.8220 - val_loss: 1.1119 - val_accuracy: 0.7705\n",
            "Epoch 21/40\n",
            "313/313 [==============================] - 6s 19ms/step - loss: 0.5584 - accuracy: 0.8343 - val_loss: 1.0757 - val_accuracy: 0.7752\n",
            "Epoch 22/40\n",
            "313/313 [==============================] - 6s 19ms/step - loss: 0.5017 - accuracy: 0.8509 - val_loss: 1.0830 - val_accuracy: 0.7779\n",
            "Epoch 23/40\n",
            "313/313 [==============================] - 6s 19ms/step - loss: 0.4431 - accuracy: 0.8672 - val_loss: 1.0621 - val_accuracy: 0.7846\n",
            "Epoch 24/40\n",
            "313/313 [==============================] - 6s 19ms/step - loss: 0.3862 - accuracy: 0.8837 - val_loss: 1.0331 - val_accuracy: 0.7875\n",
            "Epoch 25/40\n",
            "313/313 [==============================] - 6s 19ms/step - loss: 0.3371 - accuracy: 0.8993 - val_loss: 1.0328 - val_accuracy: 0.7880\n",
            "Epoch 26/40\n",
            "313/313 [==============================] - 6s 19ms/step - loss: 0.2852 - accuracy: 0.9155 - val_loss: 1.0350 - val_accuracy: 0.7918\n",
            "Epoch 27/40\n",
            "313/313 [==============================] - 6s 19ms/step - loss: 0.2429 - accuracy: 0.9275 - val_loss: 1.0534 - val_accuracy: 0.7938\n",
            "Epoch 28/40\n",
            "313/313 [==============================] - 6s 19ms/step - loss: 0.2065 - accuracy: 0.9399 - val_loss: 1.0283 - val_accuracy: 0.8011\n",
            "Epoch 29/40\n",
            "313/313 [==============================] - 6s 19ms/step - loss: 0.1760 - accuracy: 0.9487 - val_loss: 1.0371 - val_accuracy: 0.8011\n",
            "Epoch 30/40\n",
            "313/313 [==============================] - 6s 19ms/step - loss: 0.1476 - accuracy: 0.9574 - val_loss: 1.0810 - val_accuracy: 0.7971\n",
            "Epoch 31/40\n",
            "313/313 [==============================] - 6s 19ms/step - loss: 0.1220 - accuracy: 0.9651 - val_loss: 1.0663 - val_accuracy: 0.8011\n",
            "Epoch 32/40\n",
            "313/313 [==============================] - 6s 19ms/step - loss: 0.1032 - accuracy: 0.9709 - val_loss: 1.0863 - val_accuracy: 0.8036\n",
            "Epoch 33/40\n",
            "313/313 [==============================] - 6s 19ms/step - loss: 0.0848 - accuracy: 0.9763 - val_loss: 1.1049 - val_accuracy: 0.8032\n",
            "Epoch 34/40\n",
            "313/313 [==============================] - 6s 19ms/step - loss: 0.0724 - accuracy: 0.9797 - val_loss: 1.1538 - val_accuracy: 0.8038\n",
            "Epoch 35/40\n",
            "313/313 [==============================] - 6s 19ms/step - loss: 0.0627 - accuracy: 0.9825 - val_loss: 1.1417 - val_accuracy: 0.8046\n",
            "Epoch 36/40\n",
            "313/313 [==============================] - 6s 19ms/step - loss: 0.0532 - accuracy: 0.9856 - val_loss: 1.1813 - val_accuracy: 0.8021\n",
            "Epoch 37/40\n",
            "313/313 [==============================] - 6s 19ms/step - loss: 0.0492 - accuracy: 0.9867 - val_loss: 1.2291 - val_accuracy: 0.8022\n",
            "Epoch 38/40\n",
            "313/313 [==============================] - 6s 19ms/step - loss: 0.0430 - accuracy: 0.9881 - val_loss: 1.2385 - val_accuracy: 0.8042\n",
            "Epoch 39/40\n",
            "313/313 [==============================] - 6s 19ms/step - loss: 0.0365 - accuracy: 0.9900 - val_loss: 1.2762 - val_accuracy: 0.8027\n",
            "Epoch 40/40\n",
            "313/313 [==============================] - 6s 19ms/step - loss: 0.0335 - accuracy: 0.9906 - val_loss: 1.2679 - val_accuracy: 0.8033\n"
          ],
          "name": "stdout"
        },
        {
          "output_type": "display_data",
          "data": {
            "text/html": [
              "<br/>Waiting for W&B process to finish, PID 2249<br/>Program ended successfully."
            ],
            "text/plain": [
              "<IPython.core.display.HTML object>"
            ]
          },
          "metadata": {
            "tags": []
          }
        },
        {
          "output_type": "display_data",
          "data": {
            "application/vnd.jupyter.widget-view+json": {
              "model_id": "ec7aaaab956e447ca0c41cd6b4dbae62",
              "version_minor": 0,
              "version_major": 2
            },
            "text/plain": [
              "VBox(children=(Label(value=' 16.91MB of 16.91MB uploaded (0.00MB deduped)\\r'), FloatProgress(value=1.0, max=1.…"
            ]
          },
          "metadata": {
            "tags": []
          }
        },
        {
          "output_type": "display_data",
          "data": {
            "text/html": [
              "Find user logs for this run at: <code>/root/.keras/datasets/dakshina_dataset_v1.0/hi/lexicons/wandb/run-20210428_180847-qd3q9evn/logs/debug.log</code>"
            ],
            "text/plain": [
              "<IPython.core.display.HTML object>"
            ]
          },
          "metadata": {
            "tags": []
          }
        },
        {
          "output_type": "display_data",
          "data": {
            "text/html": [
              "Find internal logs for this run at: <code>/root/.keras/datasets/dakshina_dataset_v1.0/hi/lexicons/wandb/run-20210428_180847-qd3q9evn/logs/debug-internal.log</code>"
            ],
            "text/plain": [
              "<IPython.core.display.HTML object>"
            ]
          },
          "metadata": {
            "tags": []
          }
        },
        {
          "output_type": "display_data",
          "data": {
            "text/html": [
              "<h3>Run summary:</h3><br/><style>\n",
              "    table.wandb td:nth-child(1) { padding: 0 10px; text-align: right }\n",
              "    </style><table class=\"wandb\">\n",
              "<tr><td>epoch</td><td>39</td></tr><tr><td>loss</td><td>0.03599</td></tr><tr><td>accuracy</td><td>0.98953</td></tr><tr><td>val_loss</td><td>1.26791</td></tr><tr><td>val_accuracy</td><td>0.80328</td></tr><tr><td>_runtime</td><td>244</td></tr><tr><td>_timestamp</td><td>1619633571</td></tr><tr><td>_step</td><td>39</td></tr><tr><td>best_val_loss</td><td>1.02827</td></tr><tr><td>best_epoch</td><td>27</td></tr></table>"
            ],
            "text/plain": [
              "<IPython.core.display.HTML object>"
            ]
          },
          "metadata": {
            "tags": []
          }
        },
        {
          "output_type": "display_data",
          "data": {
            "text/html": [
              "<h3>Run history:</h3><br/><style>\n",
              "    table.wandb td:nth-child(1) { padding: 0 10px; text-align: right }\n",
              "    </style><table class=\"wandb\">\n",
              "<tr><td>epoch</td><td>▁▁▁▂▂▂▂▂▂▃▃▃▃▃▄▄▄▄▄▄▅▅▅▅▅▅▆▆▆▆▆▇▇▇▇▇▇███</td></tr><tr><td>loss</td><td>█▆▆▆▆▆▆▆▆▆▅▅▅▅▅▄▄▄▄▄▃▃▃▃▂▂▂▂▂▂▁▁▁▁▁▁▁▁▁▁</td></tr><tr><td>accuracy</td><td>▁▂▂▂▂▂▂▂▁▂▂▂▃▃▃▃▃▄▄▄▄▅▅▆▆▆▇▇▇▇▇█████████</td></tr><tr><td>val_loss</td><td>▄▄▄▄▅▅▅██▆▅▅▅▅▅▄▅▅▃▃▂▂▂▁▁▁▂▁▁▂▂▂▃▄▄▅▆▆▇▇</td></tr><tr><td>val_accuracy</td><td>▁▁▂▂▂▂▂▁▁▂▃▃▃▄▄▄▅▅▅▅▆▆▆▇▇▇▇██▇██████████</td></tr><tr><td>_runtime</td><td>▁▁▁▂▂▂▂▂▂▃▃▃▃▃▄▄▄▄▄▄▅▅▅▅▅▆▆▆▆▆▆▇▇▇▇▇▇███</td></tr><tr><td>_timestamp</td><td>▁▁▁▂▂▂▂▂▂▃▃▃▃▃▄▄▄▄▄▄▅▅▅▅▅▆▆▆▆▆▆▇▇▇▇▇▇███</td></tr><tr><td>_step</td><td>▁▁▁▂▂▂▂▂▂▃▃▃▃▃▄▄▄▄▄▄▅▅▅▅▅▅▆▆▆▆▆▇▇▇▇▇▇███</td></tr></table><br/>"
            ],
            "text/plain": [
              "<IPython.core.display.HTML object>"
            ]
          },
          "metadata": {
            "tags": []
          }
        },
        {
          "output_type": "display_data",
          "data": {
            "text/html": [
              "Synced 5 W&B file(s), 1 media file(s), 0 artifact file(s) and 1 other file(s)"
            ],
            "text/plain": [
              "<IPython.core.display.HTML object>"
            ]
          },
          "metadata": {
            "tags": []
          }
        },
        {
          "output_type": "display_data",
          "data": {
            "text/html": [
              "\n",
              "                    <br/>Synced <strong style=\"color:#cdcd00\">amber-sweep-11</strong>: <a href=\"https://wandb.ai/anshikag_2210/MachineTransliterator/runs/qd3q9evn\" target=\"_blank\">https://wandb.ai/anshikag_2210/MachineTransliterator/runs/qd3q9evn</a><br/>\n",
              "                "
            ],
            "text/plain": [
              "<IPython.core.display.HTML object>"
            ]
          },
          "metadata": {
            "tags": []
          }
        },
        {
          "output_type": "stream",
          "text": [
            "\u001b[34m\u001b[1mwandb\u001b[0m: Agent Starting Run: fj006bfj with config:\n",
            "\u001b[34m\u001b[1mwandb\u001b[0m: \tbatch_size: 64\n",
            "\u001b[34m\u001b[1mwandb\u001b[0m: \tcell_type: gru\n",
            "\u001b[34m\u001b[1mwandb\u001b[0m: \tdecoder_embed_size: 64\n",
            "\u001b[34m\u001b[1mwandb\u001b[0m: \tdropout: 0.01\n",
            "\u001b[34m\u001b[1mwandb\u001b[0m: \tencoder_embed_size: 64\n",
            "\u001b[34m\u001b[1mwandb\u001b[0m: \tepochs: 40\n",
            "\u001b[34m\u001b[1mwandb\u001b[0m: \thidden_layer_size: 512\n",
            "\u001b[34m\u001b[1mwandb\u001b[0m: \tnum_decoder_layers: 4\n",
            "\u001b[34m\u001b[1mwandb\u001b[0m: \tnum_encoder_layers: 3\n",
            "\u001b[34m\u001b[1mwandb\u001b[0m: \tnum_hidden_layers: 10\n"
          ],
          "name": "stderr"
        },
        {
          "output_type": "display_data",
          "data": {
            "text/html": [
              "\n",
              "                Tracking run with wandb version 0.10.27<br/>\n",
              "                Syncing run <strong style=\"color:#cdcd00\">soft-sweep-12</strong> to <a href=\"https://wandb.ai\" target=\"_blank\">Weights & Biases</a> <a href=\"https://docs.wandb.com/integrations/jupyter.html\" target=\"_blank\">(Documentation)</a>.<br/>\n",
              "                Project page: <a href=\"https://wandb.ai/anshikag_2210/MachineTransliterator\" target=\"_blank\">https://wandb.ai/anshikag_2210/MachineTransliterator</a><br/>\n",
              "                Sweep page: <a href=\"https://wandb.ai/anshikag_2210/MachineTransliterator/sweeps/4qzxmg7y\" target=\"_blank\">https://wandb.ai/anshikag_2210/MachineTransliterator/sweeps/4qzxmg7y</a><br/>\n",
              "Run page: <a href=\"https://wandb.ai/anshikag_2210/MachineTransliterator/runs/fj006bfj\" target=\"_blank\">https://wandb.ai/anshikag_2210/MachineTransliterator/runs/fj006bfj</a><br/>\n",
              "                Run data is saved locally in <code>/root/.keras/datasets/dakshina_dataset_v1.0/hi/lexicons/wandb/run-20210428_181258-fj006bfj</code><br/><br/>\n",
              "            "
            ],
            "text/plain": [
              "<IPython.core.display.HTML object>"
            ]
          },
          "metadata": {
            "tags": []
          }
        },
        {
          "output_type": "stream",
          "text": [
            "Epoch 1/40\n",
            "157/157 [==============================] - 18s 59ms/step - loss: 1.9703 - accuracy: 0.6396 - val_loss: 1.4240 - val_accuracy: 0.7117\n"
          ],
          "name": "stdout"
        },
        {
          "output_type": "stream",
          "text": [
            "\u001b[34m\u001b[1mwandb\u001b[0m: \u001b[32m\u001b[41mERROR\u001b[0m Can't save model, h5py returned error: Unable to create link (name already exists)\n"
          ],
          "name": "stderr"
        },
        {
          "output_type": "stream",
          "text": [
            "Epoch 2/40\n",
            "157/157 [==============================] - 7s 47ms/step - loss: 1.1822 - accuracy: 0.7100 - val_loss: 1.3458 - val_accuracy: 0.7144\n",
            "Epoch 3/40\n",
            "157/157 [==============================] - 7s 47ms/step - loss: 1.0748 - accuracy: 0.7156 - val_loss: 1.3007 - val_accuracy: 0.7216\n",
            "Epoch 4/40\n",
            "157/157 [==============================] - 7s 47ms/step - loss: 1.0256 - accuracy: 0.7185 - val_loss: 1.2806 - val_accuracy: 0.7241\n",
            "Epoch 5/40\n",
            "157/157 [==============================] - 7s 47ms/step - loss: 1.0048 - accuracy: 0.7192 - val_loss: 1.2781 - val_accuracy: 0.7267\n",
            "Epoch 6/40\n",
            "157/157 [==============================] - 7s 47ms/step - loss: 0.9879 - accuracy: 0.7223 - val_loss: 1.2774 - val_accuracy: 0.7271\n",
            "Epoch 7/40\n",
            "157/157 [==============================] - 7s 47ms/step - loss: 0.9682 - accuracy: 0.7262 - val_loss: 1.3144 - val_accuracy: 0.7242\n",
            "Epoch 8/40\n",
            "157/157 [==============================] - 7s 47ms/step - loss: 0.9627 - accuracy: 0.7277 - val_loss: 1.3145 - val_accuracy: 0.7262\n",
            "Epoch 9/40\n",
            "157/157 [==============================] - 7s 47ms/step - loss: 0.9671 - accuracy: 0.7276 - val_loss: 1.3559 - val_accuracy: 0.7261\n",
            "Epoch 10/40\n",
            "157/157 [==============================] - 7s 47ms/step - loss: 0.9560 - accuracy: 0.7300 - val_loss: 1.3621 - val_accuracy: 0.7249\n",
            "Epoch 11/40\n",
            "157/157 [==============================] - 7s 47ms/step - loss: 0.9579 - accuracy: 0.7289 - val_loss: 1.3591 - val_accuracy: 0.7254\n",
            "Epoch 12/40\n",
            "157/157 [==============================] - 7s 47ms/step - loss: 0.9400 - accuracy: 0.7377 - val_loss: 1.3236 - val_accuracy: 0.7285\n",
            "Epoch 13/40\n",
            "157/157 [==============================] - 7s 47ms/step - loss: 0.9162 - accuracy: 0.7427 - val_loss: 1.2702 - val_accuracy: 0.7330\n",
            "Epoch 14/40\n",
            "157/157 [==============================] - 7s 47ms/step - loss: 0.9039 - accuracy: 0.7450 - val_loss: 1.3438 - val_accuracy: 0.7295\n",
            "Epoch 15/40\n",
            "157/157 [==============================] - 7s 47ms/step - loss: 0.9047 - accuracy: 0.7459 - val_loss: 1.2742 - val_accuracy: 0.7325\n",
            "Epoch 16/40\n",
            "157/157 [==============================] - 7s 47ms/step - loss: 0.8987 - accuracy: 0.7462 - val_loss: 1.2906 - val_accuracy: 0.7324\n",
            "Epoch 17/40\n",
            "157/157 [==============================] - 7s 47ms/step - loss: 0.8892 - accuracy: 0.7496 - val_loss: 1.2996 - val_accuracy: 0.7325\n",
            "Epoch 18/40\n",
            "157/157 [==============================] - 7s 47ms/step - loss: 0.8823 - accuracy: 0.7514 - val_loss: 1.3112 - val_accuracy: 0.7328\n",
            "Epoch 19/40\n",
            "157/157 [==============================] - 7s 47ms/step - loss: 0.8754 - accuracy: 0.7532 - val_loss: 1.3490 - val_accuracy: 0.7336\n",
            "Epoch 20/40\n",
            "157/157 [==============================] - 7s 47ms/step - loss: 0.8715 - accuracy: 0.7544 - val_loss: 1.3264 - val_accuracy: 0.7351\n",
            "Epoch 21/40\n",
            "157/157 [==============================] - 7s 47ms/step - loss: 0.8658 - accuracy: 0.7559 - val_loss: 1.3249 - val_accuracy: 0.7349\n",
            "Epoch 22/40\n",
            "157/157 [==============================] - 7s 47ms/step - loss: 0.8664 - accuracy: 0.7544 - val_loss: 1.3340 - val_accuracy: 0.7343\n",
            "Epoch 23/40\n",
            "157/157 [==============================] - 7s 47ms/step - loss: 0.8551 - accuracy: 0.7585 - val_loss: 1.3458 - val_accuracy: 0.7351\n",
            "Epoch 24/40\n",
            "157/157 [==============================] - 7s 47ms/step - loss: 0.8502 - accuracy: 0.7592 - val_loss: 1.3657 - val_accuracy: 0.7359\n",
            "Epoch 25/40\n",
            "157/157 [==============================] - 7s 47ms/step - loss: 0.8440 - accuracy: 0.7615 - val_loss: 1.3435 - val_accuracy: 0.7348\n",
            "Epoch 26/40\n",
            "157/157 [==============================] - 7s 47ms/step - loss: 0.8476 - accuracy: 0.7602 - val_loss: 1.3289 - val_accuracy: 0.7360\n",
            "Epoch 27/40\n",
            "157/157 [==============================] - 8s 49ms/step - loss: 0.8409 - accuracy: 0.7621 - val_loss: 1.3416 - val_accuracy: 0.7314\n",
            "Epoch 28/40\n",
            "157/157 [==============================] - 7s 47ms/step - loss: 0.8358 - accuracy: 0.7631 - val_loss: 1.3933 - val_accuracy: 0.7287\n",
            "Epoch 29/40\n",
            "157/157 [==============================] - 7s 47ms/step - loss: 0.8330 - accuracy: 0.7633 - val_loss: 1.3820 - val_accuracy: 0.7368\n",
            "Epoch 30/40\n",
            "157/157 [==============================] - 7s 48ms/step - loss: 0.8252 - accuracy: 0.7672 - val_loss: 1.3766 - val_accuracy: 0.7331\n",
            "Epoch 31/40\n",
            "157/157 [==============================] - 7s 48ms/step - loss: 0.8238 - accuracy: 0.7663 - val_loss: 1.3831 - val_accuracy: 0.7346\n",
            "Epoch 32/40\n",
            "157/157 [==============================] - 7s 47ms/step - loss: 0.8156 - accuracy: 0.7689 - val_loss: 1.3764 - val_accuracy: 0.7351\n",
            "Epoch 33/40\n",
            "157/157 [==============================] - 7s 47ms/step - loss: 0.8051 - accuracy: 0.7713 - val_loss: 1.4092 - val_accuracy: 0.7294\n",
            "Epoch 34/40\n",
            "157/157 [==============================] - 7s 47ms/step - loss: 0.8044 - accuracy: 0.7725 - val_loss: 1.3786 - val_accuracy: 0.7350\n",
            "Epoch 35/40\n",
            "157/157 [==============================] - 7s 47ms/step - loss: 0.8028 - accuracy: 0.7722 - val_loss: 1.3875 - val_accuracy: 0.7349\n",
            "Epoch 36/40\n",
            "157/157 [==============================] - 7s 47ms/step - loss: 0.7983 - accuracy: 0.7734 - val_loss: 1.3740 - val_accuracy: 0.7386\n",
            "Epoch 37/40\n",
            "157/157 [==============================] - 7s 47ms/step - loss: 0.7930 - accuracy: 0.7757 - val_loss: 1.3564 - val_accuracy: 0.7375\n",
            "Epoch 38/40\n",
            "157/157 [==============================] - 7s 47ms/step - loss: 0.7832 - accuracy: 0.7795 - val_loss: 1.3787 - val_accuracy: 0.7409\n",
            "Epoch 39/40\n",
            "157/157 [==============================] - 7s 47ms/step - loss: 0.7742 - accuracy: 0.7835 - val_loss: 1.3865 - val_accuracy: 0.7388\n",
            "Epoch 40/40\n",
            "157/157 [==============================] - 7s 47ms/step - loss: 0.7630 - accuracy: 0.7863 - val_loss: 1.3655 - val_accuracy: 0.7387\n"
          ],
          "name": "stdout"
        },
        {
          "output_type": "display_data",
          "data": {
            "text/html": [
              "<br/>Waiting for W&B process to finish, PID 2453<br/>Program ended successfully."
            ],
            "text/plain": [
              "<IPython.core.display.HTML object>"
            ]
          },
          "metadata": {
            "tags": []
          }
        },
        {
          "output_type": "display_data",
          "data": {
            "application/vnd.jupyter.widget-view+json": {
              "model_id": "2f962fc5d74741ca9ff7ecc7dafa3889",
              "version_minor": 0,
              "version_major": 2
            },
            "text/plain": [
              "VBox(children=(Label(value=' 37.03MB of 37.03MB uploaded (0.00MB deduped)\\r'), FloatProgress(value=1.0, max=1.…"
            ]
          },
          "metadata": {
            "tags": []
          }
        },
        {
          "output_type": "display_data",
          "data": {
            "text/html": [
              "Find user logs for this run at: <code>/root/.keras/datasets/dakshina_dataset_v1.0/hi/lexicons/wandb/run-20210428_181258-fj006bfj/logs/debug.log</code>"
            ],
            "text/plain": [
              "<IPython.core.display.HTML object>"
            ]
          },
          "metadata": {
            "tags": []
          }
        },
        {
          "output_type": "display_data",
          "data": {
            "text/html": [
              "Find internal logs for this run at: <code>/root/.keras/datasets/dakshina_dataset_v1.0/hi/lexicons/wandb/run-20210428_181258-fj006bfj/logs/debug-internal.log</code>"
            ],
            "text/plain": [
              "<IPython.core.display.HTML object>"
            ]
          },
          "metadata": {
            "tags": []
          }
        },
        {
          "output_type": "display_data",
          "data": {
            "text/html": [
              "<h3>Run summary:</h3><br/><style>\n",
              "    table.wandb td:nth-child(1) { padding: 0 10px; text-align: right }\n",
              "    </style><table class=\"wandb\">\n",
              "<tr><td>epoch</td><td>39</td></tr><tr><td>loss</td><td>0.76141</td></tr><tr><td>accuracy</td><td>0.78708</td></tr><tr><td>val_loss</td><td>1.36551</td></tr><tr><td>val_accuracy</td><td>0.73869</td></tr><tr><td>_runtime</td><td>313</td></tr><tr><td>_timestamp</td><td>1619633891</td></tr><tr><td>_step</td><td>39</td></tr><tr><td>best_val_loss</td><td>1.27015</td></tr><tr><td>best_epoch</td><td>12</td></tr></table>"
            ],
            "text/plain": [
              "<IPython.core.display.HTML object>"
            ]
          },
          "metadata": {
            "tags": []
          }
        },
        {
          "output_type": "display_data",
          "data": {
            "text/html": [
              "<h3>Run history:</h3><br/><style>\n",
              "    table.wandb td:nth-child(1) { padding: 0 10px; text-align: right }\n",
              "    </style><table class=\"wandb\">\n",
              "<tr><td>epoch</td><td>▁▁▁▂▂▂▂▂▂▃▃▃▃▃▄▄▄▄▄▄▅▅▅▅▅▅▆▆▆▆▆▇▇▇▇▇▇███</td></tr><tr><td>loss</td><td>█▅▄▄▃▃▃▃▃▃▃▃▃▂▃▂▂▂▂▂▂▂▂▂▂▂▂▂▂▂▂▂▂▁▁▁▁▁▁▁</td></tr><tr><td>accuracy</td><td>▁▂▃▃▃▃▄▄▄▄▄▅▅▅▅▅▅▅▆▆▆▆▆▆▆▆▆▆▆▇▇▇▇▇▇▇▇███</td></tr><tr><td>val_loss</td><td>█▄▂▁▁▁▃▃▅▅▅▃▁▄▁▂▂▃▅▄▃▄▄▅▄▄▄▇▆▆▆▆▇▆▆▆▅▆▆▅</td></tr><tr><td>val_accuracy</td><td>▁▂▃▄▅▅▄▄▄▄▄▅▆▅▆▆▆▆▆▇▇▆▇▇▇▇▆▅▇▆▆▇▅▇▇▇▇█▇▇</td></tr><tr><td>_runtime</td><td>▁▁▁▂▂▂▂▂▂▃▃▃▃▃▄▄▄▄▄▄▅▅▅▅▅▅▆▆▆▆▆▇▇▇▇▇▇███</td></tr><tr><td>_timestamp</td><td>▁▁▁▂▂▂▂▂▂▃▃▃▃▃▄▄▄▄▄▄▅▅▅▅▅▅▆▆▆▆▆▇▇▇▇▇▇███</td></tr><tr><td>_step</td><td>▁▁▁▂▂▂▂▂▂▃▃▃▃▃▄▄▄▄▄▄▅▅▅▅▅▅▆▆▆▆▆▇▇▇▇▇▇███</td></tr></table><br/>"
            ],
            "text/plain": [
              "<IPython.core.display.HTML object>"
            ]
          },
          "metadata": {
            "tags": []
          }
        },
        {
          "output_type": "display_data",
          "data": {
            "text/html": [
              "Synced 5 W&B file(s), 1 media file(s), 0 artifact file(s) and 1 other file(s)"
            ],
            "text/plain": [
              "<IPython.core.display.HTML object>"
            ]
          },
          "metadata": {
            "tags": []
          }
        },
        {
          "output_type": "display_data",
          "data": {
            "text/html": [
              "\n",
              "                    <br/>Synced <strong style=\"color:#cdcd00\">soft-sweep-12</strong>: <a href=\"https://wandb.ai/anshikag_2210/MachineTransliterator/runs/fj006bfj\" target=\"_blank\">https://wandb.ai/anshikag_2210/MachineTransliterator/runs/fj006bfj</a><br/>\n",
              "                "
            ],
            "text/plain": [
              "<IPython.core.display.HTML object>"
            ]
          },
          "metadata": {
            "tags": []
          }
        },
        {
          "output_type": "stream",
          "text": [
            "\u001b[34m\u001b[1mwandb\u001b[0m: Agent Starting Run: hm35cznq with config:\n",
            "\u001b[34m\u001b[1mwandb\u001b[0m: \tbatch_size: 128\n",
            "\u001b[34m\u001b[1mwandb\u001b[0m: \tcell_type: gru\n",
            "\u001b[34m\u001b[1mwandb\u001b[0m: \tdecoder_embed_size: 27\n",
            "\u001b[34m\u001b[1mwandb\u001b[0m: \tdropout: 0\n",
            "\u001b[34m\u001b[1mwandb\u001b[0m: \tencoder_embed_size: 64\n",
            "\u001b[34m\u001b[1mwandb\u001b[0m: \tepochs: 30\n",
            "\u001b[34m\u001b[1mwandb\u001b[0m: \thidden_layer_size: 256\n",
            "\u001b[34m\u001b[1mwandb\u001b[0m: \tnum_decoder_layers: 2\n",
            "\u001b[34m\u001b[1mwandb\u001b[0m: \tnum_encoder_layers: 4\n",
            "\u001b[34m\u001b[1mwandb\u001b[0m: \tnum_hidden_layers: 10\n"
          ],
          "name": "stderr"
        },
        {
          "output_type": "display_data",
          "data": {
            "text/html": [
              "\n",
              "                Tracking run with wandb version 0.10.27<br/>\n",
              "                Syncing run <strong style=\"color:#cdcd00\">eager-sweep-13</strong> to <a href=\"https://wandb.ai\" target=\"_blank\">Weights & Biases</a> <a href=\"https://docs.wandb.com/integrations/jupyter.html\" target=\"_blank\">(Documentation)</a>.<br/>\n",
              "                Project page: <a href=\"https://wandb.ai/anshikag_2210/MachineTransliterator\" target=\"_blank\">https://wandb.ai/anshikag_2210/MachineTransliterator</a><br/>\n",
              "                Sweep page: <a href=\"https://wandb.ai/anshikag_2210/MachineTransliterator/sweeps/4qzxmg7y\" target=\"_blank\">https://wandb.ai/anshikag_2210/MachineTransliterator/sweeps/4qzxmg7y</a><br/>\n",
              "Run page: <a href=\"https://wandb.ai/anshikag_2210/MachineTransliterator/runs/hm35cznq\" target=\"_blank\">https://wandb.ai/anshikag_2210/MachineTransliterator/runs/hm35cznq</a><br/>\n",
              "                Run data is saved locally in <code>/root/.keras/datasets/dakshina_dataset_v1.0/hi/lexicons/wandb/run-20210428_181818-hm35cznq</code><br/><br/>\n",
              "            "
            ],
            "text/plain": [
              "<IPython.core.display.HTML object>"
            ]
          },
          "metadata": {
            "tags": []
          }
        },
        {
          "output_type": "stream",
          "text": [
            "Epoch 1/30\n",
            "79/79 [==============================] - 12s 51ms/step - loss: 1.7946 - accuracy: 0.6572 - val_loss: 1.3039 - val_accuracy: 0.7164\n"
          ],
          "name": "stdout"
        },
        {
          "output_type": "stream",
          "text": [
            "\u001b[34m\u001b[1mwandb\u001b[0m: \u001b[32m\u001b[41mERROR\u001b[0m Can't save model, h5py returned error: Unable to create link (name already exists)\n"
          ],
          "name": "stderr"
        },
        {
          "output_type": "stream",
          "text": [
            "Epoch 2/30\n",
            "79/79 [==============================] - 2s 28ms/step - loss: 1.0696 - accuracy: 0.7186 - val_loss: 1.2062 - val_accuracy: 0.7229\n",
            "Epoch 3/30\n",
            "79/79 [==============================] - 2s 29ms/step - loss: 0.9835 - accuracy: 0.7257 - val_loss: 1.2057 - val_accuracy: 0.7292\n",
            "Epoch 4/30\n",
            "79/79 [==============================] - 2s 28ms/step - loss: 0.9686 - accuracy: 0.7278 - val_loss: 1.2093 - val_accuracy: 0.7310\n",
            "Epoch 5/30\n",
            "79/79 [==============================] - 2s 28ms/step - loss: 0.9367 - accuracy: 0.7384 - val_loss: 1.1964 - val_accuracy: 0.7361\n",
            "Epoch 6/30\n",
            "79/79 [==============================] - 2s 28ms/step - loss: 0.9024 - accuracy: 0.7499 - val_loss: 1.2077 - val_accuracy: 0.7357\n",
            "Epoch 7/30\n",
            "79/79 [==============================] - 2s 28ms/step - loss: 0.8939 - accuracy: 0.7497 - val_loss: 1.2162 - val_accuracy: 0.7373\n",
            "Epoch 8/30\n",
            "79/79 [==============================] - 2s 28ms/step - loss: 0.8626 - accuracy: 0.7573 - val_loss: 1.2199 - val_accuracy: 0.7372\n",
            "Epoch 9/30\n",
            "79/79 [==============================] - 2s 27ms/step - loss: 0.8478 - accuracy: 0.7595 - val_loss: 1.2221 - val_accuracy: 0.7377\n",
            "Epoch 10/30\n",
            "79/79 [==============================] - 2s 28ms/step - loss: 0.8319 - accuracy: 0.7641 - val_loss: 1.2243 - val_accuracy: 0.7361\n",
            "Epoch 11/30\n",
            "79/79 [==============================] - 2s 28ms/step - loss: 0.8165 - accuracy: 0.7695 - val_loss: 1.2294 - val_accuracy: 0.7400\n",
            "Epoch 12/30\n",
            "79/79 [==============================] - 2s 28ms/step - loss: 0.7964 - accuracy: 0.7753 - val_loss: 1.2369 - val_accuracy: 0.7387\n",
            "Epoch 13/30\n",
            "79/79 [==============================] - 2s 28ms/step - loss: 0.7781 - accuracy: 0.7786 - val_loss: 1.2091 - val_accuracy: 0.7413\n",
            "Epoch 14/30\n",
            "79/79 [==============================] - 2s 28ms/step - loss: 0.7584 - accuracy: 0.7844 - val_loss: 1.2245 - val_accuracy: 0.7406\n",
            "Epoch 15/30\n",
            "79/79 [==============================] - 2s 28ms/step - loss: 0.7258 - accuracy: 0.7947 - val_loss: 1.2329 - val_accuracy: 0.7428\n",
            "Epoch 16/30\n",
            "79/79 [==============================] - 2s 28ms/step - loss: 0.7036 - accuracy: 0.8001 - val_loss: 1.2512 - val_accuracy: 0.7418\n",
            "Epoch 17/30\n",
            "79/79 [==============================] - 2s 29ms/step - loss: 0.6847 - accuracy: 0.8057 - val_loss: 1.2469 - val_accuracy: 0.7424\n",
            "Epoch 18/30\n",
            "79/79 [==============================] - 2s 28ms/step - loss: 0.6699 - accuracy: 0.8092 - val_loss: 1.2563 - val_accuracy: 0.7418\n",
            "Epoch 19/30\n",
            "79/79 [==============================] - 2s 28ms/step - loss: 0.6544 - accuracy: 0.8133 - val_loss: 1.2743 - val_accuracy: 0.7420\n",
            "Epoch 20/30\n",
            "79/79 [==============================] - 2s 28ms/step - loss: 0.6386 - accuracy: 0.8177 - val_loss: 1.2843 - val_accuracy: 0.7410\n",
            "Epoch 21/30\n",
            "79/79 [==============================] - 2s 28ms/step - loss: 0.6141 - accuracy: 0.8237 - val_loss: 1.2923 - val_accuracy: 0.7418\n",
            "Epoch 22/30\n",
            "79/79 [==============================] - 2s 28ms/step - loss: 0.5963 - accuracy: 0.8287 - val_loss: 1.3002 - val_accuracy: 0.7413\n",
            "Epoch 23/30\n",
            "79/79 [==============================] - 2s 28ms/step - loss: 0.5851 - accuracy: 0.8312 - val_loss: 1.3184 - val_accuracy: 0.7429\n",
            "Epoch 24/30\n",
            "79/79 [==============================] - 2s 28ms/step - loss: 0.5721 - accuracy: 0.8350 - val_loss: 1.3194 - val_accuracy: 0.7415\n",
            "Epoch 25/30\n",
            "79/79 [==============================] - 2s 27ms/step - loss: 0.5583 - accuracy: 0.8393 - val_loss: 1.3259 - val_accuracy: 0.7411\n",
            "Epoch 26/30\n",
            "79/79 [==============================] - 2s 28ms/step - loss: 0.5422 - accuracy: 0.8445 - val_loss: 1.3484 - val_accuracy: 0.7424\n",
            "Epoch 27/30\n",
            "79/79 [==============================] - 2s 28ms/step - loss: 0.5273 - accuracy: 0.8475 - val_loss: 1.3569 - val_accuracy: 0.7429\n",
            "Epoch 28/30\n",
            "79/79 [==============================] - 2s 28ms/step - loss: 0.5182 - accuracy: 0.8502 - val_loss: 1.3699 - val_accuracy: 0.7418\n",
            "Epoch 29/30\n",
            "79/79 [==============================] - 2s 28ms/step - loss: 0.5101 - accuracy: 0.8513 - val_loss: 1.3806 - val_accuracy: 0.7398\n",
            "Epoch 30/30\n",
            "79/79 [==============================] - 2s 28ms/step - loss: 0.4937 - accuracy: 0.8557 - val_loss: 1.3915 - val_accuracy: 0.7410\n"
          ],
          "name": "stdout"
        },
        {
          "output_type": "display_data",
          "data": {
            "text/html": [
              "<br/>Waiting for W&B process to finish, PID 2669<br/>Program ended successfully."
            ],
            "text/plain": [
              "<IPython.core.display.HTML object>"
            ]
          },
          "metadata": {
            "tags": []
          }
        },
        {
          "output_type": "display_data",
          "data": {
            "application/vnd.jupyter.widget-view+json": {
              "model_id": "dedfc6d56cb4422685e99f2c6ad2197e",
              "version_minor": 0,
              "version_major": 2
            },
            "text/plain": [
              "VBox(children=(Label(value=' 7.92MB of 7.92MB uploaded (0.00MB deduped)\\r'), FloatProgress(value=1.0, max=1.0)…"
            ]
          },
          "metadata": {
            "tags": []
          }
        },
        {
          "output_type": "display_data",
          "data": {
            "text/html": [
              "Find user logs for this run at: <code>/root/.keras/datasets/dakshina_dataset_v1.0/hi/lexicons/wandb/run-20210428_181818-hm35cznq/logs/debug.log</code>"
            ],
            "text/plain": [
              "<IPython.core.display.HTML object>"
            ]
          },
          "metadata": {
            "tags": []
          }
        },
        {
          "output_type": "display_data",
          "data": {
            "text/html": [
              "Find internal logs for this run at: <code>/root/.keras/datasets/dakshina_dataset_v1.0/hi/lexicons/wandb/run-20210428_181818-hm35cznq/logs/debug-internal.log</code>"
            ],
            "text/plain": [
              "<IPython.core.display.HTML object>"
            ]
          },
          "metadata": {
            "tags": []
          }
        },
        {
          "output_type": "display_data",
          "data": {
            "text/html": [
              "<h3>Run summary:</h3><br/><style>\n",
              "    table.wandb td:nth-child(1) { padding: 0 10px; text-align: right }\n",
              "    </style><table class=\"wandb\">\n",
              "<tr><td>epoch</td><td>29</td></tr><tr><td>loss</td><td>0.49618</td></tr><tr><td>accuracy</td><td>0.85474</td></tr><tr><td>val_loss</td><td>1.39153</td></tr><tr><td>val_accuracy</td><td>0.74103</td></tr><tr><td>_runtime</td><td>80</td></tr><tr><td>_timestamp</td><td>1619633979</td></tr><tr><td>_step</td><td>29</td></tr><tr><td>best_val_loss</td><td>1.19637</td></tr><tr><td>best_epoch</td><td>4</td></tr></table>"
            ],
            "text/plain": [
              "<IPython.core.display.HTML object>"
            ]
          },
          "metadata": {
            "tags": []
          }
        },
        {
          "output_type": "display_data",
          "data": {
            "text/html": [
              "<h3>Run history:</h3><br/><style>\n",
              "    table.wandb td:nth-child(1) { padding: 0 10px; text-align: right }\n",
              "    </style><table class=\"wandb\">\n",
              "<tr><td>epoch</td><td>▁▁▁▂▂▂▂▃▃▃▃▄▄▄▄▅▅▅▅▆▆▆▆▇▇▇▇███</td></tr><tr><td>loss</td><td>█▅▅▅▅▄▄▄▄▄▄▃▃▃▃▃▃▂▂▂▂▂▂▂▂▁▁▁▁▁</td></tr><tr><td>accuracy</td><td>▁▂▂▂▃▃▃▄▄▄▄▄▅▅▅▆▆▆▆▆▇▇▇▇▇▇████</td></tr><tr><td>val_loss</td><td>▅▁▁▁▁▁▂▂▂▂▂▂▁▂▂▃▃▃▄▄▄▅▅▅▆▆▇▇██</td></tr><tr><td>val_accuracy</td><td>▁▃▄▅▆▆▇▆▇▆▇▇█▇█████▇████████▇█</td></tr><tr><td>_runtime</td><td>▁▁▂▂▂▂▃▃▃▃▃▄▄▄▄▅▅▅▅▆▆▆▆▇▇▇▇▇██</td></tr><tr><td>_timestamp</td><td>▁▁▂▂▂▂▃▃▃▃▃▄▄▄▄▅▅▅▅▆▆▆▆▇▇▇▇▇██</td></tr><tr><td>_step</td><td>▁▁▁▂▂▂▂▃▃▃▃▄▄▄▄▅▅▅▅▆▆▆▆▇▇▇▇███</td></tr></table><br/>"
            ],
            "text/plain": [
              "<IPython.core.display.HTML object>"
            ]
          },
          "metadata": {
            "tags": []
          }
        },
        {
          "output_type": "display_data",
          "data": {
            "text/html": [
              "Synced 5 W&B file(s), 1 media file(s), 0 artifact file(s) and 1 other file(s)"
            ],
            "text/plain": [
              "<IPython.core.display.HTML object>"
            ]
          },
          "metadata": {
            "tags": []
          }
        },
        {
          "output_type": "display_data",
          "data": {
            "text/html": [
              "\n",
              "                    <br/>Synced <strong style=\"color:#cdcd00\">eager-sweep-13</strong>: <a href=\"https://wandb.ai/anshikag_2210/MachineTransliterator/runs/hm35cznq\" target=\"_blank\">https://wandb.ai/anshikag_2210/MachineTransliterator/runs/hm35cznq</a><br/>\n",
              "                "
            ],
            "text/plain": [
              "<IPython.core.display.HTML object>"
            ]
          },
          "metadata": {
            "tags": []
          }
        },
        {
          "output_type": "stream",
          "text": [
            "\u001b[34m\u001b[1mwandb\u001b[0m: Agent Starting Run: 7v62sjiz with config:\n",
            "\u001b[34m\u001b[1mwandb\u001b[0m: \tbatch_size: 64\n",
            "\u001b[34m\u001b[1mwandb\u001b[0m: \tcell_type: gru\n",
            "\u001b[34m\u001b[1mwandb\u001b[0m: \tdecoder_embed_size: 64\n",
            "\u001b[34m\u001b[1mwandb\u001b[0m: \tdropout: 0.0001\n",
            "\u001b[34m\u001b[1mwandb\u001b[0m: \tencoder_embed_size: 27\n",
            "\u001b[34m\u001b[1mwandb\u001b[0m: \tepochs: 60\n",
            "\u001b[34m\u001b[1mwandb\u001b[0m: \thidden_layer_size: 256\n",
            "\u001b[34m\u001b[1mwandb\u001b[0m: \tnum_decoder_layers: 4\n",
            "\u001b[34m\u001b[1mwandb\u001b[0m: \tnum_encoder_layers: 3\n",
            "\u001b[34m\u001b[1mwandb\u001b[0m: \tnum_hidden_layers: 5\n"
          ],
          "name": "stderr"
        },
        {
          "output_type": "display_data",
          "data": {
            "text/html": [
              "\n",
              "                Tracking run with wandb version 0.10.27<br/>\n",
              "                Syncing run <strong style=\"color:#cdcd00\">rich-sweep-14</strong> to <a href=\"https://wandb.ai\" target=\"_blank\">Weights & Biases</a> <a href=\"https://docs.wandb.com/integrations/jupyter.html\" target=\"_blank\">(Documentation)</a>.<br/>\n",
              "                Project page: <a href=\"https://wandb.ai/anshikag_2210/MachineTransliterator\" target=\"_blank\">https://wandb.ai/anshikag_2210/MachineTransliterator</a><br/>\n",
              "                Sweep page: <a href=\"https://wandb.ai/anshikag_2210/MachineTransliterator/sweeps/4qzxmg7y\" target=\"_blank\">https://wandb.ai/anshikag_2210/MachineTransliterator/sweeps/4qzxmg7y</a><br/>\n",
              "Run page: <a href=\"https://wandb.ai/anshikag_2210/MachineTransliterator/runs/7v62sjiz\" target=\"_blank\">https://wandb.ai/anshikag_2210/MachineTransliterator/runs/7v62sjiz</a><br/>\n",
              "                Run data is saved locally in <code>/root/.keras/datasets/dakshina_dataset_v1.0/hi/lexicons/wandb/run-20210428_181946-7v62sjiz</code><br/><br/>\n",
              "            "
            ],
            "text/plain": [
              "<IPython.core.display.HTML object>"
            ]
          },
          "metadata": {
            "tags": []
          }
        },
        {
          "output_type": "stream",
          "text": [
            "Epoch 1/60\n",
            "157/157 [==============================] - 16s 39ms/step - loss: 1.4383 - accuracy: 0.6778 - val_loss: 1.1557 - val_accuracy: 0.7338\n"
          ],
          "name": "stdout"
        },
        {
          "output_type": "stream",
          "text": [
            "\u001b[34m\u001b[1mwandb\u001b[0m: \u001b[32m\u001b[41mERROR\u001b[0m Can't save model, h5py returned error: Unable to create link (name already exists)\n"
          ],
          "name": "stderr"
        },
        {
          "output_type": "stream",
          "text": [
            "Epoch 2/60\n",
            "157/157 [==============================] - 4s 25ms/step - loss: 0.9086 - accuracy: 0.7413 - val_loss: 1.1158 - val_accuracy: 0.7490\n",
            "Epoch 3/60\n",
            "157/157 [==============================] - 4s 25ms/step - loss: 0.8019 - accuracy: 0.7736 - val_loss: 1.0802 - val_accuracy: 0.7661\n",
            "Epoch 4/60\n",
            "157/157 [==============================] - 4s 24ms/step - loss: 0.6628 - accuracy: 0.8106 - val_loss: 0.9902 - val_accuracy: 0.7830\n",
            "Epoch 5/60\n",
            "157/157 [==============================] - 4s 25ms/step - loss: 0.5190 - accuracy: 0.8471 - val_loss: 0.9478 - val_accuracy: 0.7959\n",
            "Epoch 6/60\n",
            "157/157 [==============================] - 4s 24ms/step - loss: 0.4048 - accuracy: 0.8798 - val_loss: 0.9365 - val_accuracy: 0.8035\n",
            "Epoch 7/60\n",
            "157/157 [==============================] - 4s 25ms/step - loss: 0.3205 - accuracy: 0.9067 - val_loss: 0.8958 - val_accuracy: 0.8150\n",
            "Epoch 8/60\n",
            "157/157 [==============================] - 4s 25ms/step - loss: 0.2488 - accuracy: 0.9288 - val_loss: 0.9028 - val_accuracy: 0.8219\n",
            "Epoch 9/60\n",
            "157/157 [==============================] - 4s 25ms/step - loss: 0.1871 - accuracy: 0.9480 - val_loss: 0.9134 - val_accuracy: 0.8213\n",
            "Epoch 10/60\n",
            "157/157 [==============================] - 4s 25ms/step - loss: 0.1455 - accuracy: 0.9619 - val_loss: 0.9195 - val_accuracy: 0.8233\n",
            "Epoch 11/60\n",
            "157/157 [==============================] - 4s 25ms/step - loss: 0.1155 - accuracy: 0.9696 - val_loss: 0.9461 - val_accuracy: 0.8224\n",
            "Epoch 12/60\n",
            "157/157 [==============================] - 4s 25ms/step - loss: 0.0893 - accuracy: 0.9777 - val_loss: 0.9506 - val_accuracy: 0.8257\n",
            "Epoch 13/60\n",
            "157/157 [==============================] - 4s 26ms/step - loss: 0.0696 - accuracy: 0.9836 - val_loss: 0.9581 - val_accuracy: 0.8276\n",
            "Epoch 14/60\n",
            "157/157 [==============================] - 4s 25ms/step - loss: 0.0564 - accuracy: 0.9869 - val_loss: 0.9674 - val_accuracy: 0.8282\n",
            "Epoch 15/60\n",
            "157/157 [==============================] - 4s 26ms/step - loss: 0.0458 - accuracy: 0.9896 - val_loss: 0.9982 - val_accuracy: 0.8276\n",
            "Epoch 16/60\n",
            "157/157 [==============================] - 4s 25ms/step - loss: 0.0385 - accuracy: 0.9912 - val_loss: 1.0113 - val_accuracy: 0.8282\n",
            "Epoch 17/60\n",
            "157/157 [==============================] - 4s 24ms/step - loss: 0.0346 - accuracy: 0.9920 - val_loss: 1.0333 - val_accuracy: 0.8266\n",
            "Epoch 18/60\n",
            "157/157 [==============================] - 4s 24ms/step - loss: 0.0318 - accuracy: 0.9923 - val_loss: 1.0342 - val_accuracy: 0.8267\n",
            "Epoch 19/60\n",
            "157/157 [==============================] - 4s 25ms/step - loss: 0.0270 - accuracy: 0.9931 - val_loss: 1.0611 - val_accuracy: 0.8262\n",
            "Epoch 20/60\n",
            "157/157 [==============================] - 4s 26ms/step - loss: 0.0249 - accuracy: 0.9937 - val_loss: 1.0652 - val_accuracy: 0.8267\n",
            "Epoch 21/60\n",
            "157/157 [==============================] - 4s 25ms/step - loss: 0.0222 - accuracy: 0.9943 - val_loss: 1.0865 - val_accuracy: 0.8268\n",
            "Epoch 22/60\n",
            "157/157 [==============================] - 4s 25ms/step - loss: 0.0211 - accuracy: 0.9946 - val_loss: 1.0830 - val_accuracy: 0.8273\n",
            "Epoch 23/60\n",
            "157/157 [==============================] - 4s 24ms/step - loss: 0.0195 - accuracy: 0.9948 - val_loss: 1.0993 - val_accuracy: 0.8277\n",
            "Epoch 24/60\n",
            "157/157 [==============================] - 4s 25ms/step - loss: 0.0188 - accuracy: 0.9949 - val_loss: 1.1109 - val_accuracy: 0.8276\n",
            "Epoch 25/60\n",
            "157/157 [==============================] - 4s 25ms/step - loss: 0.0167 - accuracy: 0.9952 - val_loss: 1.1249 - val_accuracy: 0.8253\n",
            "Epoch 26/60\n",
            "157/157 [==============================] - 4s 25ms/step - loss: 0.0153 - accuracy: 0.9958 - val_loss: 1.1353 - val_accuracy: 0.8270\n",
            "Epoch 27/60\n",
            "157/157 [==============================] - 4s 25ms/step - loss: 0.0152 - accuracy: 0.9956 - val_loss: 1.1362 - val_accuracy: 0.8263\n",
            "Epoch 28/60\n",
            "157/157 [==============================] - 4s 25ms/step - loss: 0.0156 - accuracy: 0.9953 - val_loss: 1.1441 - val_accuracy: 0.8265\n",
            "Epoch 29/60\n",
            "157/157 [==============================] - 4s 25ms/step - loss: 0.0164 - accuracy: 0.9951 - val_loss: 1.1767 - val_accuracy: 0.8269\n",
            "Epoch 30/60\n",
            "157/157 [==============================] - 4s 24ms/step - loss: 0.0165 - accuracy: 0.9952 - val_loss: 1.1820 - val_accuracy: 0.8259\n",
            "Epoch 31/60\n",
            "157/157 [==============================] - 4s 25ms/step - loss: 0.0191 - accuracy: 0.9946 - val_loss: 1.1842 - val_accuracy: 0.8257\n",
            "Epoch 32/60\n",
            "157/157 [==============================] - 4s 25ms/step - loss: 0.0210 - accuracy: 0.9939 - val_loss: 1.1663 - val_accuracy: 0.8298\n",
            "Epoch 33/60\n",
            "157/157 [==============================] - 4s 25ms/step - loss: 0.0174 - accuracy: 0.9949 - val_loss: 1.1911 - val_accuracy: 0.8267\n",
            "Epoch 34/60\n",
            "157/157 [==============================] - 4s 24ms/step - loss: 0.0136 - accuracy: 0.9955 - val_loss: 1.2025 - val_accuracy: 0.8276\n",
            "Epoch 35/60\n",
            "157/157 [==============================] - 4s 25ms/step - loss: 0.0128 - accuracy: 0.9955 - val_loss: 1.1843 - val_accuracy: 0.8282\n",
            "Epoch 36/60\n",
            "157/157 [==============================] - 4s 25ms/step - loss: 0.0113 - accuracy: 0.9960 - val_loss: 1.2111 - val_accuracy: 0.8293\n",
            "Epoch 37/60\n",
            "157/157 [==============================] - 4s 25ms/step - loss: 0.0111 - accuracy: 0.9958 - val_loss: 1.2293 - val_accuracy: 0.8275\n",
            "Epoch 38/60\n",
            "157/157 [==============================] - 4s 26ms/step - loss: 0.0113 - accuracy: 0.9959 - val_loss: 1.2300 - val_accuracy: 0.8245\n",
            "Epoch 39/60\n",
            "157/157 [==============================] - 4s 24ms/step - loss: 0.0105 - accuracy: 0.9961 - val_loss: 1.2400 - val_accuracy: 0.8264\n",
            "Epoch 40/60\n",
            "157/157 [==============================] - 4s 25ms/step - loss: 0.0125 - accuracy: 0.9956 - val_loss: 1.2330 - val_accuracy: 0.8254\n",
            "Epoch 41/60\n",
            "157/157 [==============================] - 4s 25ms/step - loss: 0.0200 - accuracy: 0.9936 - val_loss: 1.2259 - val_accuracy: 0.8237\n",
            "Epoch 42/60\n",
            "157/157 [==============================] - 4s 25ms/step - loss: 0.0145 - accuracy: 0.9950 - val_loss: 1.2474 - val_accuracy: 0.8263\n",
            "Epoch 43/60\n",
            "157/157 [==============================] - 4s 25ms/step - loss: 0.0122 - accuracy: 0.9956 - val_loss: 1.2617 - val_accuracy: 0.8263\n",
            "Epoch 44/60\n",
            "157/157 [==============================] - 4s 25ms/step - loss: 0.0111 - accuracy: 0.9956 - val_loss: 1.2509 - val_accuracy: 0.8281\n",
            "Epoch 45/60\n",
            "157/157 [==============================] - 4s 25ms/step - loss: 0.0106 - accuracy: 0.9959 - val_loss: 1.2416 - val_accuracy: 0.8296\n",
            "Epoch 46/60\n",
            "157/157 [==============================] - 4s 25ms/step - loss: 0.0097 - accuracy: 0.9960 - val_loss: 1.2458 - val_accuracy: 0.8292\n",
            "Epoch 47/60\n",
            "157/157 [==============================] - 4s 24ms/step - loss: 0.0099 - accuracy: 0.9956 - val_loss: 1.2509 - val_accuracy: 0.8303\n",
            "Epoch 48/60\n",
            "157/157 [==============================] - 4s 25ms/step - loss: 0.0092 - accuracy: 0.9960 - val_loss: 1.2657 - val_accuracy: 0.8290\n",
            "Epoch 49/60\n",
            "157/157 [==============================] - 4s 25ms/step - loss: 0.0096 - accuracy: 0.9960 - val_loss: 1.2600 - val_accuracy: 0.8280\n",
            "Epoch 50/60\n",
            "157/157 [==============================] - 4s 24ms/step - loss: 0.0097 - accuracy: 0.9958 - val_loss: 1.2670 - val_accuracy: 0.8289\n",
            "Epoch 51/60\n",
            "157/157 [==============================] - 4s 25ms/step - loss: 0.0088 - accuracy: 0.9964 - val_loss: 1.2922 - val_accuracy: 0.8289\n",
            "Epoch 52/60\n",
            "157/157 [==============================] - 4s 25ms/step - loss: 0.0090 - accuracy: 0.9961 - val_loss: 1.2816 - val_accuracy: 0.8294\n",
            "Epoch 53/60\n",
            "157/157 [==============================] - 4s 25ms/step - loss: 0.0138 - accuracy: 0.9948 - val_loss: 1.3181 - val_accuracy: 0.8246\n",
            "Epoch 54/60\n",
            "157/157 [==============================] - 4s 25ms/step - loss: 0.0252 - accuracy: 0.9915 - val_loss: 1.2946 - val_accuracy: 0.8279\n",
            "Epoch 55/60\n",
            "157/157 [==============================] - 4s 26ms/step - loss: 0.0133 - accuracy: 0.9951 - val_loss: 1.2728 - val_accuracy: 0.8284\n",
            "Epoch 56/60\n",
            "157/157 [==============================] - 4s 25ms/step - loss: 0.0104 - accuracy: 0.9956 - val_loss: 1.2786 - val_accuracy: 0.8287\n",
            "Epoch 57/60\n",
            "157/157 [==============================] - 4s 25ms/step - loss: 0.0085 - accuracy: 0.9960 - val_loss: 1.2950 - val_accuracy: 0.8283\n",
            "Epoch 58/60\n",
            "157/157 [==============================] - 4s 25ms/step - loss: 0.0082 - accuracy: 0.9959 - val_loss: 1.2960 - val_accuracy: 0.8313\n",
            "Epoch 59/60\n",
            "157/157 [==============================] - 4s 25ms/step - loss: 0.0082 - accuracy: 0.9957 - val_loss: 1.3052 - val_accuracy: 0.8305\n",
            "Epoch 60/60\n",
            "157/157 [==============================] - 4s 25ms/step - loss: 0.0075 - accuracy: 0.9962 - val_loss: 1.3012 - val_accuracy: 0.8300\n"
          ],
          "name": "stdout"
        },
        {
          "output_type": "display_data",
          "data": {
            "text/html": [
              "<br/>Waiting for W&B process to finish, PID 2813<br/>Program ended successfully."
            ],
            "text/plain": [
              "<IPython.core.display.HTML object>"
            ]
          },
          "metadata": {
            "tags": []
          }
        },
        {
          "output_type": "display_data",
          "data": {
            "application/vnd.jupyter.widget-view+json": {
              "model_id": "fb52cc3b85094e6d91de52e352dd3e1d",
              "version_minor": 0,
              "version_major": 2
            },
            "text/plain": [
              "VBox(children=(Label(value=' 9.45MB of 9.45MB uploaded (0.00MB deduped)\\r'), FloatProgress(value=1.0, max=1.0)…"
            ]
          },
          "metadata": {
            "tags": []
          }
        },
        {
          "output_type": "display_data",
          "data": {
            "text/html": [
              "Find user logs for this run at: <code>/root/.keras/datasets/dakshina_dataset_v1.0/hi/lexicons/wandb/run-20210428_181946-7v62sjiz/logs/debug.log</code>"
            ],
            "text/plain": [
              "<IPython.core.display.HTML object>"
            ]
          },
          "metadata": {
            "tags": []
          }
        },
        {
          "output_type": "display_data",
          "data": {
            "text/html": [
              "Find internal logs for this run at: <code>/root/.keras/datasets/dakshina_dataset_v1.0/hi/lexicons/wandb/run-20210428_181946-7v62sjiz/logs/debug-internal.log</code>"
            ],
            "text/plain": [
              "<IPython.core.display.HTML object>"
            ]
          },
          "metadata": {
            "tags": []
          }
        },
        {
          "output_type": "display_data",
          "data": {
            "text/html": [
              "<h3>Run summary:</h3><br/><style>\n",
              "    table.wandb td:nth-child(1) { padding: 0 10px; text-align: right }\n",
              "    </style><table class=\"wandb\">\n",
              "<tr><td>epoch</td><td>59</td></tr><tr><td>loss</td><td>0.00877</td></tr><tr><td>accuracy</td><td>0.99538</td></tr><tr><td>val_loss</td><td>1.3012</td></tr><tr><td>val_accuracy</td><td>0.82997</td></tr><tr><td>_runtime</td><td>250</td></tr><tr><td>_timestamp</td><td>1619634236</td></tr><tr><td>_step</td><td>59</td></tr><tr><td>best_val_loss</td><td>0.89582</td></tr><tr><td>best_epoch</td><td>6</td></tr></table>"
            ],
            "text/plain": [
              "<IPython.core.display.HTML object>"
            ]
          },
          "metadata": {
            "tags": []
          }
        },
        {
          "output_type": "display_data",
          "data": {
            "text/html": [
              "<h3>Run history:</h3><br/><style>\n",
              "    table.wandb td:nth-child(1) { padding: 0 10px; text-align: right }\n",
              "    </style><table class=\"wandb\">\n",
              "<tr><td>epoch</td><td>▁▁▁▁▂▂▂▂▂▃▃▃▃▃▃▄▄▄▄▄▅▅▅▅▅▅▆▆▆▆▆▆▇▇▇▇▇███</td></tr><tr><td>loss</td><td>█▆▅▄▃▂▂▂▁▁▁▁▁▁▁▁▁▁▁▁▁▁▁▁▁▁▁▁▁▁▁▁▁▁▁▁▁▁▁▁</td></tr><tr><td>accuracy</td><td>▁▂▄▅▆▆▇▇████████████████████████████████</td></tr><tr><td>val_loss</td><td>▅▅▃▂▁▁▁▂▂▂▃▃▄▄▄▄▅▅▅▆▆▅▆▆▇▇▇▆▇▇▇▇▇▇▇█▇▇██</td></tr><tr><td>val_accuracy</td><td>▁▂▅▅▇▇▇▇███████████████████▇████████████</td></tr><tr><td>_runtime</td><td>▁▁▁▁▂▂▂▂▂▃▃▃▃▃▄▄▄▄▄▄▅▅▅▅▅▅▆▆▆▆▆▆▇▇▇▇▇███</td></tr><tr><td>_timestamp</td><td>▁▁▁▁▂▂▂▂▂▃▃▃▃▃▄▄▄▄▄▄▅▅▅▅▅▅▆▆▆▆▆▆▇▇▇▇▇███</td></tr><tr><td>_step</td><td>▁▁▁▁▂▂▂▂▂▃▃▃▃▃▃▄▄▄▄▄▅▅▅▅▅▅▆▆▆▆▆▆▇▇▇▇▇███</td></tr></table><br/>"
            ],
            "text/plain": [
              "<IPython.core.display.HTML object>"
            ]
          },
          "metadata": {
            "tags": []
          }
        },
        {
          "output_type": "display_data",
          "data": {
            "text/html": [
              "Synced 5 W&B file(s), 1 media file(s), 0 artifact file(s) and 1 other file(s)"
            ],
            "text/plain": [
              "<IPython.core.display.HTML object>"
            ]
          },
          "metadata": {
            "tags": []
          }
        },
        {
          "output_type": "display_data",
          "data": {
            "text/html": [
              "\n",
              "                    <br/>Synced <strong style=\"color:#cdcd00\">rich-sweep-14</strong>: <a href=\"https://wandb.ai/anshikag_2210/MachineTransliterator/runs/7v62sjiz\" target=\"_blank\">https://wandb.ai/anshikag_2210/MachineTransliterator/runs/7v62sjiz</a><br/>\n",
              "                "
            ],
            "text/plain": [
              "<IPython.core.display.HTML object>"
            ]
          },
          "metadata": {
            "tags": []
          }
        },
        {
          "output_type": "stream",
          "text": [
            "\u001b[34m\u001b[1mwandb\u001b[0m: Agent Starting Run: coipdqhf with config:\n",
            "\u001b[34m\u001b[1mwandb\u001b[0m: \tbatch_size: 32\n",
            "\u001b[34m\u001b[1mwandb\u001b[0m: \tcell_type: rnn\n",
            "\u001b[34m\u001b[1mwandb\u001b[0m: \tdecoder_embed_size: 27\n",
            "\u001b[34m\u001b[1mwandb\u001b[0m: \tdropout: 0\n",
            "\u001b[34m\u001b[1mwandb\u001b[0m: \tencoder_embed_size: 27\n",
            "\u001b[34m\u001b[1mwandb\u001b[0m: \tepochs: 30\n",
            "\u001b[34m\u001b[1mwandb\u001b[0m: \thidden_layer_size: 256\n",
            "\u001b[34m\u001b[1mwandb\u001b[0m: \tnum_decoder_layers: 2\n",
            "\u001b[34m\u001b[1mwandb\u001b[0m: \tnum_encoder_layers: 3\n",
            "\u001b[34m\u001b[1mwandb\u001b[0m: \tnum_hidden_layers: 2\n"
          ],
          "name": "stderr"
        },
        {
          "output_type": "display_data",
          "data": {
            "text/html": [
              "\n",
              "                Tracking run with wandb version 0.10.27<br/>\n",
              "                Syncing run <strong style=\"color:#cdcd00\">warm-sweep-15</strong> to <a href=\"https://wandb.ai\" target=\"_blank\">Weights & Biases</a> <a href=\"https://docs.wandb.com/integrations/jupyter.html\" target=\"_blank\">(Documentation)</a>.<br/>\n",
              "                Project page: <a href=\"https://wandb.ai/anshikag_2210/MachineTransliterator\" target=\"_blank\">https://wandb.ai/anshikag_2210/MachineTransliterator</a><br/>\n",
              "                Sweep page: <a href=\"https://wandb.ai/anshikag_2210/MachineTransliterator/sweeps/4qzxmg7y\" target=\"_blank\">https://wandb.ai/anshikag_2210/MachineTransliterator/sweeps/4qzxmg7y</a><br/>\n",
              "Run page: <a href=\"https://wandb.ai/anshikag_2210/MachineTransliterator/runs/coipdqhf\" target=\"_blank\">https://wandb.ai/anshikag_2210/MachineTransliterator/runs/coipdqhf</a><br/>\n",
              "                Run data is saved locally in <code>/root/.keras/datasets/dakshina_dataset_v1.0/hi/lexicons/wandb/run-20210428_182403-coipdqhf</code><br/><br/>\n",
              "            "
            ],
            "text/plain": [
              "<IPython.core.display.HTML object>"
            ]
          },
          "metadata": {
            "tags": []
          }
        },
        {
          "output_type": "stream",
          "text": [
            "Epoch 1/30\n",
            "313/313 [==============================] - 30s 87ms/step - loss: 1.3083 - accuracy: 0.6870 - val_loss: 1.3141 - val_accuracy: 0.7225\n"
          ],
          "name": "stdout"
        },
        {
          "output_type": "stream",
          "text": [
            "\u001b[34m\u001b[1mwandb\u001b[0m: \u001b[32m\u001b[41mERROR\u001b[0m Can't save model, h5py returned error: Unable to create link (name already exists)\n"
          ],
          "name": "stderr"
        },
        {
          "output_type": "stream",
          "text": [
            "Epoch 2/30\n",
            "313/313 [==============================] - 26s 84ms/step - loss: 1.0414 - accuracy: 0.7219 - val_loss: 1.2557 - val_accuracy: 0.7224\n",
            "Epoch 3/30\n",
            "313/313 [==============================] - 27s 87ms/step - loss: 0.9859 - accuracy: 0.7242 - val_loss: 1.2503 - val_accuracy: 0.7293\n",
            "Epoch 4/30\n",
            "313/313 [==============================] - 27s 85ms/step - loss: 0.9688 - accuracy: 0.7273 - val_loss: 1.2778 - val_accuracy: 0.7269\n",
            "Epoch 5/30\n",
            "313/313 [==============================] - 27s 85ms/step - loss: 0.9571 - accuracy: 0.7287 - val_loss: 1.2447 - val_accuracy: 0.7312\n",
            "Epoch 6/30\n",
            "313/313 [==============================] - 26s 83ms/step - loss: 0.9355 - accuracy: 0.7353 - val_loss: 1.2569 - val_accuracy: 0.7306\n",
            "Epoch 7/30\n",
            "313/313 [==============================] - 26s 83ms/step - loss: 0.9299 - accuracy: 0.7361 - val_loss: 1.2571 - val_accuracy: 0.7302\n",
            "Epoch 8/30\n",
            "313/313 [==============================] - 26s 84ms/step - loss: 0.9176 - accuracy: 0.7402 - val_loss: 1.2599 - val_accuracy: 0.7319\n",
            "Epoch 9/30\n",
            "313/313 [==============================] - 27s 85ms/step - loss: 0.8985 - accuracy: 0.7435 - val_loss: 1.2615 - val_accuracy: 0.7351\n",
            "Epoch 10/30\n",
            "313/313 [==============================] - 27s 85ms/step - loss: 0.8888 - accuracy: 0.7465 - val_loss: 1.2606 - val_accuracy: 0.7367\n",
            "Epoch 11/30\n",
            "313/313 [==============================] - 26s 83ms/step - loss: 0.8733 - accuracy: 0.7508 - val_loss: 1.2700 - val_accuracy: 0.7342\n",
            "Epoch 12/30\n",
            "313/313 [==============================] - 26s 84ms/step - loss: 0.8555 - accuracy: 0.7540 - val_loss: 1.2805 - val_accuracy: 0.7369\n",
            "Epoch 13/30\n",
            "313/313 [==============================] - 27s 85ms/step - loss: 0.8408 - accuracy: 0.7568 - val_loss: 1.2756 - val_accuracy: 0.7380\n",
            "Epoch 14/30\n",
            "313/313 [==============================] - 26s 82ms/step - loss: 0.8285 - accuracy: 0.7607 - val_loss: 1.2920 - val_accuracy: 0.7366\n",
            "Epoch 15/30\n",
            "313/313 [==============================] - 27s 85ms/step - loss: 0.8137 - accuracy: 0.7642 - val_loss: 1.2953 - val_accuracy: 0.7360\n",
            "Epoch 16/30\n",
            "313/313 [==============================] - 26s 84ms/step - loss: 0.8023 - accuracy: 0.7667 - val_loss: 1.3096 - val_accuracy: 0.7361\n",
            "Epoch 17/30\n",
            "313/313 [==============================] - 26s 84ms/step - loss: 0.7909 - accuracy: 0.7689 - val_loss: 1.3061 - val_accuracy: 0.7375\n",
            "Epoch 18/30\n",
            "313/313 [==============================] - 26s 83ms/step - loss: 0.7770 - accuracy: 0.7732 - val_loss: 1.3138 - val_accuracy: 0.7372\n",
            "Epoch 19/30\n",
            "313/313 [==============================] - 27s 85ms/step - loss: 0.7668 - accuracy: 0.7759 - val_loss: 1.3283 - val_accuracy: 0.7379\n",
            "Epoch 20/30\n",
            "313/313 [==============================] - 26s 84ms/step - loss: 0.7592 - accuracy: 0.7774 - val_loss: 1.3294 - val_accuracy: 0.7358\n",
            "Epoch 21/30\n",
            "313/313 [==============================] - 27s 85ms/step - loss: 0.7460 - accuracy: 0.7813 - val_loss: 1.3385 - val_accuracy: 0.7366\n",
            "Epoch 22/30\n",
            "313/313 [==============================] - 27s 86ms/step - loss: 0.7294 - accuracy: 0.7865 - val_loss: 1.3484 - val_accuracy: 0.7347\n",
            "Epoch 23/30\n",
            "313/313 [==============================] - 26s 83ms/step - loss: 0.7203 - accuracy: 0.7876 - val_loss: 1.3497 - val_accuracy: 0.7364\n",
            "Epoch 24/30\n",
            "313/313 [==============================] - 27s 85ms/step - loss: 0.7091 - accuracy: 0.7902 - val_loss: 1.3589 - val_accuracy: 0.7359\n",
            "Epoch 25/30\n",
            "313/313 [==============================] - 26s 84ms/step - loss: 0.7019 - accuracy: 0.7944 - val_loss: 1.3751 - val_accuracy: 0.7364\n",
            "Epoch 26/30\n",
            "313/313 [==============================] - 26s 85ms/step - loss: 0.6879 - accuracy: 0.7974 - val_loss: 1.3797 - val_accuracy: 0.7330\n",
            "Epoch 27/30\n",
            "313/313 [==============================] - 26s 83ms/step - loss: 0.6828 - accuracy: 0.7987 - val_loss: 1.3961 - val_accuracy: 0.7371\n",
            "Epoch 28/30\n",
            "313/313 [==============================] - 27s 86ms/step - loss: 0.6753 - accuracy: 0.8002 - val_loss: 1.3990 - val_accuracy: 0.7353\n",
            "Epoch 29/30\n",
            "313/313 [==============================] - 27s 85ms/step - loss: 0.6699 - accuracy: 0.8023 - val_loss: 1.4043 - val_accuracy: 0.7356\n",
            "Epoch 30/30\n",
            "313/313 [==============================] - 27s 85ms/step - loss: 0.6561 - accuracy: 0.8051 - val_loss: 1.4084 - val_accuracy: 0.7364\n"
          ],
          "name": "stdout"
        },
        {
          "output_type": "display_data",
          "data": {
            "text/html": [
              "<br/>Waiting for W&B process to finish, PID 3079<br/>Program ended successfully."
            ],
            "text/plain": [
              "<IPython.core.display.HTML object>"
            ]
          },
          "metadata": {
            "tags": []
          }
        },
        {
          "output_type": "display_data",
          "data": {
            "application/vnd.jupyter.widget-view+json": {
              "model_id": "2a6818373640471e8bbab0b064d2de0d",
              "version_minor": 0,
              "version_major": 2
            },
            "text/plain": [
              "VBox(children=(Label(value=' 2.17MB of 2.17MB uploaded (0.00MB deduped)\\r'), FloatProgress(value=1.0, max=1.0)…"
            ]
          },
          "metadata": {
            "tags": []
          }
        },
        {
          "output_type": "display_data",
          "data": {
            "text/html": [
              "Find user logs for this run at: <code>/root/.keras/datasets/dakshina_dataset_v1.0/hi/lexicons/wandb/run-20210428_182403-coipdqhf/logs/debug.log</code>"
            ],
            "text/plain": [
              "<IPython.core.display.HTML object>"
            ]
          },
          "metadata": {
            "tags": []
          }
        },
        {
          "output_type": "display_data",
          "data": {
            "text/html": [
              "Find internal logs for this run at: <code>/root/.keras/datasets/dakshina_dataset_v1.0/hi/lexicons/wandb/run-20210428_182403-coipdqhf/logs/debug-internal.log</code>"
            ],
            "text/plain": [
              "<IPython.core.display.HTML object>"
            ]
          },
          "metadata": {
            "tags": []
          }
        },
        {
          "output_type": "display_data",
          "data": {
            "text/html": [
              "<h3>Run summary:</h3><br/><style>\n",
              "    table.wandb td:nth-child(1) { padding: 0 10px; text-align: right }\n",
              "    </style><table class=\"wandb\">\n",
              "<tr><td>epoch</td><td>29</td></tr><tr><td>loss</td><td>0.6597</td></tr><tr><td>accuracy</td><td>0.80445</td></tr><tr><td>val_loss</td><td>1.40839</td></tr><tr><td>val_accuracy</td><td>0.73639</td></tr><tr><td>_runtime</td><td>801</td></tr><tr><td>_timestamp</td><td>1619635044</td></tr><tr><td>_step</td><td>29</td></tr><tr><td>best_val_loss</td><td>1.24473</td></tr><tr><td>best_epoch</td><td>4</td></tr></table>"
            ],
            "text/plain": [
              "<IPython.core.display.HTML object>"
            ]
          },
          "metadata": {
            "tags": []
          }
        },
        {
          "output_type": "display_data",
          "data": {
            "text/html": [
              "<h3>Run history:</h3><br/><style>\n",
              "    table.wandb td:nth-child(1) { padding: 0 10px; text-align: right }\n",
              "    </style><table class=\"wandb\">\n",
              "<tr><td>epoch</td><td>▁▁▁▂▂▂▂▃▃▃▃▄▄▄▄▅▅▅▅▆▆▆▆▇▇▇▇███</td></tr><tr><td>loss</td><td>█▆▆▅▅▅▅▅▄▄▄▄▄▃▃▃▃▃▂▂▂▂▂▂▂▁▁▁▁▁</td></tr><tr><td>accuracy</td><td>▁▂▂▃▃▃▃▃▄▄▄▄▅▅▅▅▅▆▆▆▆▇▇▇▇▇████</td></tr><tr><td>val_loss</td><td>▄▁▁▂▁▂▂▂▂▂▂▃▂▃▃▄▄▄▅▅▅▅▅▆▇▇▇███</td></tr><tr><td>val_accuracy</td><td>▁▁▄▃▅▅▄▅▇▇▆██▇▇▇███▇▇▇▇▇▇▆█▇▇▇</td></tr><tr><td>_runtime</td><td>▁▁▁▂▂▂▂▃▃▃▃▄▄▄▄▅▅▅▅▆▆▆▆▇▇▇▇███</td></tr><tr><td>_timestamp</td><td>▁▁▁▂▂▂▂▃▃▃▃▄▄▄▄▅▅▅▅▆▆▆▆▇▇▇▇███</td></tr><tr><td>_step</td><td>▁▁▁▂▂▂▂▃▃▃▃▄▄▄▄▅▅▅▅▆▆▆▆▇▇▇▇███</td></tr></table><br/>"
            ],
            "text/plain": [
              "<IPython.core.display.HTML object>"
            ]
          },
          "metadata": {
            "tags": []
          }
        },
        {
          "output_type": "display_data",
          "data": {
            "text/html": [
              "Synced 5 W&B file(s), 1 media file(s), 0 artifact file(s) and 1 other file(s)"
            ],
            "text/plain": [
              "<IPython.core.display.HTML object>"
            ]
          },
          "metadata": {
            "tags": []
          }
        },
        {
          "output_type": "display_data",
          "data": {
            "text/html": [
              "\n",
              "                    <br/>Synced <strong style=\"color:#cdcd00\">warm-sweep-15</strong>: <a href=\"https://wandb.ai/anshikag_2210/MachineTransliterator/runs/coipdqhf\" target=\"_blank\">https://wandb.ai/anshikag_2210/MachineTransliterator/runs/coipdqhf</a><br/>\n",
              "                "
            ],
            "text/plain": [
              "<IPython.core.display.HTML object>"
            ]
          },
          "metadata": {
            "tags": []
          }
        },
        {
          "output_type": "stream",
          "text": [
            "\u001b[34m\u001b[1mwandb\u001b[0m: Agent Starting Run: wkdfy7t9 with config:\n",
            "\u001b[34m\u001b[1mwandb\u001b[0m: \tbatch_size: 128\n",
            "\u001b[34m\u001b[1mwandb\u001b[0m: \tcell_type: rnn\n",
            "\u001b[34m\u001b[1mwandb\u001b[0m: \tdecoder_embed_size: 27\n",
            "\u001b[34m\u001b[1mwandb\u001b[0m: \tdropout: 0.5\n",
            "\u001b[34m\u001b[1mwandb\u001b[0m: \tencoder_embed_size: 64\n",
            "\u001b[34m\u001b[1mwandb\u001b[0m: \tepochs: 30\n",
            "\u001b[34m\u001b[1mwandb\u001b[0m: \thidden_layer_size: 128\n",
            "\u001b[34m\u001b[1mwandb\u001b[0m: \tnum_decoder_layers: 2\n",
            "\u001b[34m\u001b[1mwandb\u001b[0m: \tnum_encoder_layers: 4\n",
            "\u001b[34m\u001b[1mwandb\u001b[0m: \tnum_hidden_layers: 10\n"
          ],
          "name": "stderr"
        },
        {
          "output_type": "display_data",
          "data": {
            "text/html": [
              "\n",
              "                Tracking run with wandb version 0.10.27<br/>\n",
              "                Syncing run <strong style=\"color:#cdcd00\">glamorous-sweep-16</strong> to <a href=\"https://wandb.ai\" target=\"_blank\">Weights & Biases</a> <a href=\"https://docs.wandb.com/integrations/jupyter.html\" target=\"_blank\">(Documentation)</a>.<br/>\n",
              "                Project page: <a href=\"https://wandb.ai/anshikag_2210/MachineTransliterator\" target=\"_blank\">https://wandb.ai/anshikag_2210/MachineTransliterator</a><br/>\n",
              "                Sweep page: <a href=\"https://wandb.ai/anshikag_2210/MachineTransliterator/sweeps/4qzxmg7y\" target=\"_blank\">https://wandb.ai/anshikag_2210/MachineTransliterator/sweeps/4qzxmg7y</a><br/>\n",
              "Run page: <a href=\"https://wandb.ai/anshikag_2210/MachineTransliterator/runs/wkdfy7t9\" target=\"_blank\">https://wandb.ai/anshikag_2210/MachineTransliterator/runs/wkdfy7t9</a><br/>\n",
              "                Run data is saved locally in <code>/root/.keras/datasets/dakshina_dataset_v1.0/hi/lexicons/wandb/run-20210428_183731-wkdfy7t9</code><br/><br/>\n",
              "            "
            ],
            "text/plain": [
              "<IPython.core.display.HTML object>"
            ]
          },
          "metadata": {
            "tags": []
          }
        },
        {
          "output_type": "stream",
          "text": [
            "Epoch 1/30\n",
            "79/79 [==============================] - 16s 144ms/step - loss: 1.7969 - accuracy: 0.6173 - val_loss: 1.3577 - val_accuracy: 0.7116\n"
          ],
          "name": "stdout"
        },
        {
          "output_type": "stream",
          "text": [
            "\u001b[34m\u001b[1mwandb\u001b[0m: \u001b[32m\u001b[41mERROR\u001b[0m Can't save model, h5py returned error: Unable to create link (name already exists)\n"
          ],
          "name": "stderr"
        },
        {
          "output_type": "stream",
          "text": [
            "Epoch 2/30\n",
            "79/79 [==============================] - 11s 141ms/step - loss: 1.1663 - accuracy: 0.7088 - val_loss: 1.3196 - val_accuracy: 0.7191\n",
            "Epoch 3/30\n",
            "79/79 [==============================] - 10s 131ms/step - loss: 1.1191 - accuracy: 0.7103 - val_loss: 1.3194 - val_accuracy: 0.7159\n",
            "Epoch 4/30\n",
            "79/79 [==============================] - 10s 127ms/step - loss: 1.0989 - accuracy: 0.7118 - val_loss: 1.3236 - val_accuracy: 0.7177\n",
            "Epoch 5/30\n",
            "79/79 [==============================] - 11s 137ms/step - loss: 1.0945 - accuracy: 0.7111 - val_loss: 1.3231 - val_accuracy: 0.7158\n",
            "Epoch 6/30\n",
            "79/79 [==============================] - 10s 133ms/step - loss: 1.0891 - accuracy: 0.7128 - val_loss: 1.3213 - val_accuracy: 0.7152\n",
            "Epoch 7/30\n",
            "79/79 [==============================] - 10s 132ms/step - loss: 1.0713 - accuracy: 0.7166 - val_loss: 1.3194 - val_accuracy: 0.7210\n",
            "Epoch 8/30\n",
            "79/79 [==============================] - 10s 132ms/step - loss: 1.0616 - accuracy: 0.7179 - val_loss: 1.3044 - val_accuracy: 0.7241\n",
            "Epoch 9/30\n",
            "79/79 [==============================] - 11s 136ms/step - loss: 1.0449 - accuracy: 0.7203 - val_loss: 1.2907 - val_accuracy: 0.7264\n",
            "Epoch 10/30\n",
            "79/79 [==============================] - 10s 130ms/step - loss: 1.0316 - accuracy: 0.7219 - val_loss: 1.2811 - val_accuracy: 0.7266\n",
            "Epoch 11/30\n",
            "79/79 [==============================] - 11s 138ms/step - loss: 1.0240 - accuracy: 0.7214 - val_loss: 1.2703 - val_accuracy: 0.7262\n",
            "Epoch 12/30\n",
            "79/79 [==============================] - 10s 130ms/step - loss: 1.0230 - accuracy: 0.7201 - val_loss: 1.2638 - val_accuracy: 0.7250\n",
            "Epoch 13/30\n",
            "79/79 [==============================] - 10s 128ms/step - loss: 1.0098 - accuracy: 0.7213 - val_loss: 1.2568 - val_accuracy: 0.7261\n",
            "Epoch 14/30\n",
            "79/79 [==============================] - 11s 134ms/step - loss: 0.9978 - accuracy: 0.7226 - val_loss: 1.2536 - val_accuracy: 0.7275\n",
            "Epoch 15/30\n",
            "79/79 [==============================] - 10s 132ms/step - loss: 0.9928 - accuracy: 0.7238 - val_loss: 1.2512 - val_accuracy: 0.7281\n",
            "Epoch 16/30\n",
            "79/79 [==============================] - 11s 134ms/step - loss: 0.9829 - accuracy: 0.7254 - val_loss: 1.2516 - val_accuracy: 0.7292\n",
            "Epoch 17/30\n",
            "79/79 [==============================] - 10s 133ms/step - loss: 0.9810 - accuracy: 0.7248 - val_loss: 1.2496 - val_accuracy: 0.7291\n",
            "Epoch 18/30\n",
            "79/79 [==============================] - 10s 133ms/step - loss: 0.9784 - accuracy: 0.7244 - val_loss: 1.2485 - val_accuracy: 0.7286\n",
            "Epoch 19/30\n",
            "79/79 [==============================] - 10s 129ms/step - loss: 0.9755 - accuracy: 0.7257 - val_loss: 1.2492 - val_accuracy: 0.7299\n",
            "Epoch 20/30\n",
            "79/79 [==============================] - 11s 135ms/step - loss: 0.9812 - accuracy: 0.7248 - val_loss: 1.2491 - val_accuracy: 0.7287\n",
            "Epoch 21/30\n",
            "79/79 [==============================] - 11s 135ms/step - loss: 0.9838 - accuracy: 0.7229 - val_loss: 1.2507 - val_accuracy: 0.7292\n",
            "Epoch 22/30\n",
            "79/79 [==============================] - 10s 129ms/step - loss: 0.9754 - accuracy: 0.7257 - val_loss: 1.2491 - val_accuracy: 0.7295\n",
            "Epoch 23/30\n",
            "79/79 [==============================] - 11s 134ms/step - loss: 0.9708 - accuracy: 0.7256 - val_loss: 1.2487 - val_accuracy: 0.7294\n",
            "Epoch 24/30\n",
            "79/79 [==============================] - 11s 134ms/step - loss: 0.9666 - accuracy: 0.7273 - val_loss: 1.2472 - val_accuracy: 0.7310\n",
            "Epoch 25/30\n",
            "79/79 [==============================] - 10s 130ms/step - loss: 0.9682 - accuracy: 0.7260 - val_loss: 1.2475 - val_accuracy: 0.7313\n",
            "Epoch 26/30\n",
            "79/79 [==============================] - 10s 128ms/step - loss: 0.9647 - accuracy: 0.7279 - val_loss: 1.2465 - val_accuracy: 0.7323\n",
            "Epoch 27/30\n",
            "79/79 [==============================] - 11s 136ms/step - loss: 0.9622 - accuracy: 0.7287 - val_loss: 1.2491 - val_accuracy: 0.7319\n",
            "Epoch 28/30\n",
            "79/79 [==============================] - 11s 137ms/step - loss: 0.9571 - accuracy: 0.7295 - val_loss: 1.2483 - val_accuracy: 0.7322\n",
            "Epoch 29/30\n",
            "79/79 [==============================] - 11s 141ms/step - loss: 0.9608 - accuracy: 0.7285 - val_loss: 1.2466 - val_accuracy: 0.7335\n",
            "Epoch 30/30\n",
            "79/79 [==============================] - 11s 136ms/step - loss: 0.9587 - accuracy: 0.7299 - val_loss: 1.2468 - val_accuracy: 0.7333\n"
          ],
          "name": "stdout"
        },
        {
          "output_type": "display_data",
          "data": {
            "text/html": [
              "<br/>Waiting for W&B process to finish, PID 3355<br/>Program ended successfully."
            ],
            "text/plain": [
              "<IPython.core.display.HTML object>"
            ]
          },
          "metadata": {
            "tags": []
          }
        },
        {
          "output_type": "display_data",
          "data": {
            "application/vnd.jupyter.widget-view+json": {
              "model_id": "b3ba724fb525490ca89d7b0814634e9e",
              "version_minor": 0,
              "version_major": 2
            },
            "text/plain": [
              "VBox(children=(Label(value=' 67.20MB of 67.20MB uploaded (0.00MB deduped)\\r'), FloatProgress(value=1.0, max=1.…"
            ]
          },
          "metadata": {
            "tags": []
          }
        },
        {
          "output_type": "display_data",
          "data": {
            "text/html": [
              "Find user logs for this run at: <code>/root/.keras/datasets/dakshina_dataset_v1.0/hi/lexicons/wandb/run-20210428_183731-wkdfy7t9/logs/debug.log</code>"
            ],
            "text/plain": [
              "<IPython.core.display.HTML object>"
            ]
          },
          "metadata": {
            "tags": []
          }
        },
        {
          "output_type": "display_data",
          "data": {
            "text/html": [
              "Find internal logs for this run at: <code>/root/.keras/datasets/dakshina_dataset_v1.0/hi/lexicons/wandb/run-20210428_183731-wkdfy7t9/logs/debug-internal.log</code>"
            ],
            "text/plain": [
              "<IPython.core.display.HTML object>"
            ]
          },
          "metadata": {
            "tags": []
          }
        },
        {
          "output_type": "display_data",
          "data": {
            "text/html": [
              "<h3>Run summary:</h3><br/><style>\n",
              "    table.wandb td:nth-child(1) { padding: 0 10px; text-align: right }\n",
              "    </style><table class=\"wandb\">\n",
              "<tr><td>epoch</td><td>29</td></tr><tr><td>loss</td><td>0.9561</td></tr><tr><td>accuracy</td><td>0.73029</td></tr><tr><td>val_loss</td><td>1.2468</td></tr><tr><td>val_accuracy</td><td>0.73332</td></tr><tr><td>_runtime</td><td>325</td></tr><tr><td>_timestamp</td><td>1619635376</td></tr><tr><td>_step</td><td>29</td></tr><tr><td>best_val_loss</td><td>1.24649</td></tr><tr><td>best_epoch</td><td>25</td></tr></table>"
            ],
            "text/plain": [
              "<IPython.core.display.HTML object>"
            ]
          },
          "metadata": {
            "tags": []
          }
        },
        {
          "output_type": "display_data",
          "data": {
            "text/html": [
              "<h3>Run history:</h3><br/><style>\n",
              "    table.wandb td:nth-child(1) { padding: 0 10px; text-align: right }\n",
              "    </style><table class=\"wandb\">\n",
              "<tr><td>epoch</td><td>▁▁▁▂▂▂▂▃▃▃▃▄▄▄▄▅▅▅▅▆▆▆▆▇▇▇▇███</td></tr><tr><td>loss</td><td>█▄▃▃▃▃▃▃▂▂▂▂▂▂▂▂▁▁▁▁▁▁▁▁▁▁▁▁▁▁</td></tr><tr><td>accuracy</td><td>▁▅▅▅▅▆▆▆▆▇▇▇▇▇▇▇▇▇▇▇▇▇▇███████</td></tr><tr><td>val_loss</td><td>█▆▆▆▆▆▆▅▄▃▂▂▂▁▁▁▁▁▁▁▁▁▁▁▁▁▁▁▁▁</td></tr><tr><td>val_accuracy</td><td>▁▃▂▃▂▂▄▅▆▆▆▅▆▆▆▇▇▆▇▆▇▇▇▇▇█▇███</td></tr><tr><td>_runtime</td><td>▁▁▂▂▂▂▂▃▃▃▃▄▄▄▄▅▅▅▅▆▆▆▆▇▇▇▇███</td></tr><tr><td>_timestamp</td><td>▁▁▂▂▂▂▂▃▃▃▃▄▄▄▄▅▅▅▅▆▆▆▆▇▇▇▇███</td></tr><tr><td>_step</td><td>▁▁▁▂▂▂▂▃▃▃▃▄▄▄▄▅▅▅▅▆▆▆▆▇▇▇▇███</td></tr></table><br/>"
            ],
            "text/plain": [
              "<IPython.core.display.HTML object>"
            ]
          },
          "metadata": {
            "tags": []
          }
        },
        {
          "output_type": "display_data",
          "data": {
            "text/html": [
              "Synced 5 W&B file(s), 1 media file(s), 0 artifact file(s) and 1 other file(s)"
            ],
            "text/plain": [
              "<IPython.core.display.HTML object>"
            ]
          },
          "metadata": {
            "tags": []
          }
        },
        {
          "output_type": "display_data",
          "data": {
            "text/html": [
              "\n",
              "                    <br/>Synced <strong style=\"color:#cdcd00\">glamorous-sweep-16</strong>: <a href=\"https://wandb.ai/anshikag_2210/MachineTransliterator/runs/wkdfy7t9\" target=\"_blank\">https://wandb.ai/anshikag_2210/MachineTransliterator/runs/wkdfy7t9</a><br/>\n",
              "                "
            ],
            "text/plain": [
              "<IPython.core.display.HTML object>"
            ]
          },
          "metadata": {
            "tags": []
          }
        },
        {
          "output_type": "stream",
          "text": [
            "\u001b[34m\u001b[1mwandb\u001b[0m: Agent Starting Run: 2ppfvnds with config:\n",
            "\u001b[34m\u001b[1mwandb\u001b[0m: \tbatch_size: 128\n",
            "\u001b[34m\u001b[1mwandb\u001b[0m: \tcell_type: rnn\n",
            "\u001b[34m\u001b[1mwandb\u001b[0m: \tdecoder_embed_size: 64\n",
            "\u001b[34m\u001b[1mwandb\u001b[0m: \tdropout: 0.0001\n",
            "\u001b[34m\u001b[1mwandb\u001b[0m: \tencoder_embed_size: 27\n",
            "\u001b[34m\u001b[1mwandb\u001b[0m: \tepochs: 40\n",
            "\u001b[34m\u001b[1mwandb\u001b[0m: \thidden_layer_size: 128\n",
            "\u001b[34m\u001b[1mwandb\u001b[0m: \tnum_decoder_layers: 2\n",
            "\u001b[34m\u001b[1mwandb\u001b[0m: \tnum_encoder_layers: 4\n",
            "\u001b[34m\u001b[1mwandb\u001b[0m: \tnum_hidden_layers: 5\n"
          ],
          "name": "stderr"
        },
        {
          "output_type": "display_data",
          "data": {
            "text/html": [
              "\n",
              "                Tracking run with wandb version 0.10.27<br/>\n",
              "                Syncing run <strong style=\"color:#cdcd00\">denim-sweep-17</strong> to <a href=\"https://wandb.ai\" target=\"_blank\">Weights & Biases</a> <a href=\"https://docs.wandb.com/integrations/jupyter.html\" target=\"_blank\">(Documentation)</a>.<br/>\n",
              "                Project page: <a href=\"https://wandb.ai/anshikag_2210/MachineTransliterator\" target=\"_blank\">https://wandb.ai/anshikag_2210/MachineTransliterator</a><br/>\n",
              "                Sweep page: <a href=\"https://wandb.ai/anshikag_2210/MachineTransliterator/sweeps/4qzxmg7y\" target=\"_blank\">https://wandb.ai/anshikag_2210/MachineTransliterator/sweeps/4qzxmg7y</a><br/>\n",
              "Run page: <a href=\"https://wandb.ai/anshikag_2210/MachineTransliterator/runs/2ppfvnds\" target=\"_blank\">https://wandb.ai/anshikag_2210/MachineTransliterator/runs/2ppfvnds</a><br/>\n",
              "                Run data is saved locally in <code>/root/.keras/datasets/dakshina_dataset_v1.0/hi/lexicons/wandb/run-20210428_184305-2ppfvnds</code><br/><br/>\n",
              "            "
            ],
            "text/plain": [
              "<IPython.core.display.HTML object>"
            ]
          },
          "metadata": {
            "tags": []
          }
        },
        {
          "output_type": "stream",
          "text": [
            "Epoch 1/40\n",
            "79/79 [==============================] - 16s 145ms/step - loss: 1.6650 - accuracy: 0.6390 - val_loss: 1.2692 - val_accuracy: 0.7140\n"
          ],
          "name": "stdout"
        },
        {
          "output_type": "stream",
          "text": [
            "\u001b[34m\u001b[1mwandb\u001b[0m: \u001b[32m\u001b[41mERROR\u001b[0m Can't save model, h5py returned error: Unable to create link (name already exists)\n"
          ],
          "name": "stderr"
        },
        {
          "output_type": "stream",
          "text": [
            "Epoch 2/40\n",
            "79/79 [==============================] - 11s 138ms/step - loss: 1.0192 - accuracy: 0.7390 - val_loss: 1.1948 - val_accuracy: 0.7277\n",
            "Epoch 3/40\n",
            "79/79 [==============================] - 11s 136ms/step - loss: 0.9534 - accuracy: 0.7512 - val_loss: 1.1416 - val_accuracy: 0.7383\n",
            "Epoch 4/40\n",
            "79/79 [==============================] - 11s 137ms/step - loss: 0.8903 - accuracy: 0.7647 - val_loss: 1.1024 - val_accuracy: 0.7456\n",
            "Epoch 5/40\n",
            "79/79 [==============================] - 10s 131ms/step - loss: 0.8488 - accuracy: 0.7701 - val_loss: 1.0965 - val_accuracy: 0.7445\n",
            "Epoch 6/40\n",
            "79/79 [==============================] - 10s 132ms/step - loss: 0.8271 - accuracy: 0.7758 - val_loss: 1.0646 - val_accuracy: 0.7521\n",
            "Epoch 7/40\n",
            "79/79 [==============================] - 10s 130ms/step - loss: 0.8022 - accuracy: 0.7813 - val_loss: 1.0418 - val_accuracy: 0.7559\n",
            "Epoch 8/40\n",
            "79/79 [==============================] - 10s 133ms/step - loss: 0.7747 - accuracy: 0.7877 - val_loss: 1.0320 - val_accuracy: 0.7580\n",
            "Epoch 9/40\n",
            "79/79 [==============================] - 11s 133ms/step - loss: 0.7507 - accuracy: 0.7939 - val_loss: 1.0332 - val_accuracy: 0.7597\n",
            "Epoch 10/40\n",
            "79/79 [==============================] - 10s 130ms/step - loss: 0.7377 - accuracy: 0.7966 - val_loss: 1.0217 - val_accuracy: 0.7613\n",
            "Epoch 11/40\n",
            "79/79 [==============================] - 11s 134ms/step - loss: 0.7228 - accuracy: 0.7997 - val_loss: 1.0165 - val_accuracy: 0.7638\n",
            "Epoch 12/40\n",
            "79/79 [==============================] - 11s 136ms/step - loss: 0.7046 - accuracy: 0.8040 - val_loss: 1.0163 - val_accuracy: 0.7612\n",
            "Epoch 13/40\n",
            "79/79 [==============================] - 10s 132ms/step - loss: 0.6923 - accuracy: 0.8067 - val_loss: 1.0152 - val_accuracy: 0.7658\n",
            "Epoch 14/40\n",
            "79/79 [==============================] - 11s 133ms/step - loss: 0.6738 - accuracy: 0.8120 - val_loss: 1.0152 - val_accuracy: 0.7631\n",
            "Epoch 15/40\n",
            "79/79 [==============================] - 11s 137ms/step - loss: 0.6621 - accuracy: 0.8152 - val_loss: 1.0269 - val_accuracy: 0.7603\n",
            "Epoch 16/40\n",
            "79/79 [==============================] - 10s 132ms/step - loss: 0.6494 - accuracy: 0.8186 - val_loss: 1.0064 - val_accuracy: 0.7667\n",
            "Epoch 17/40\n",
            "79/79 [==============================] - 11s 137ms/step - loss: 0.6296 - accuracy: 0.8227 - val_loss: 0.9918 - val_accuracy: 0.7677\n",
            "Epoch 18/40\n",
            "79/79 [==============================] - 11s 137ms/step - loss: 0.6163 - accuracy: 0.8269 - val_loss: 0.9967 - val_accuracy: 0.7694\n",
            "Epoch 19/40\n",
            "79/79 [==============================] - 11s 133ms/step - loss: 0.6044 - accuracy: 0.8301 - val_loss: 0.9844 - val_accuracy: 0.7704\n",
            "Epoch 20/40\n",
            "79/79 [==============================] - 11s 138ms/step - loss: 0.5863 - accuracy: 0.8348 - val_loss: 0.9870 - val_accuracy: 0.7673\n",
            "Epoch 21/40\n",
            "79/79 [==============================] - 10s 126ms/step - loss: 0.5682 - accuracy: 0.8398 - val_loss: 0.9697 - val_accuracy: 0.7717\n",
            "Epoch 22/40\n",
            "79/79 [==============================] - 11s 134ms/step - loss: 0.5513 - accuracy: 0.8440 - val_loss: 0.9754 - val_accuracy: 0.7711\n",
            "Epoch 23/40\n",
            "79/79 [==============================] - 11s 135ms/step - loss: 0.5452 - accuracy: 0.8460 - val_loss: 0.9654 - val_accuracy: 0.7739\n",
            "Epoch 24/40\n",
            "79/79 [==============================] - 11s 133ms/step - loss: 0.5358 - accuracy: 0.8473 - val_loss: 0.9619 - val_accuracy: 0.7739\n",
            "Epoch 25/40\n",
            "79/79 [==============================] - 10s 133ms/step - loss: 0.5162 - accuracy: 0.8530 - val_loss: 0.9595 - val_accuracy: 0.7746\n",
            "Epoch 26/40\n",
            "79/79 [==============================] - 11s 135ms/step - loss: 0.5000 - accuracy: 0.8577 - val_loss: 0.9548 - val_accuracy: 0.7742\n",
            "Epoch 27/40\n",
            "79/79 [==============================] - 11s 134ms/step - loss: 0.4942 - accuracy: 0.8598 - val_loss: 0.9627 - val_accuracy: 0.7770\n",
            "Epoch 28/40\n",
            "79/79 [==============================] - 11s 135ms/step - loss: 0.4770 - accuracy: 0.8646 - val_loss: 0.9570 - val_accuracy: 0.7763\n",
            "Epoch 29/40\n",
            "79/79 [==============================] - 11s 135ms/step - loss: 0.4704 - accuracy: 0.8657 - val_loss: 0.9547 - val_accuracy: 0.7765\n",
            "Epoch 30/40\n",
            "79/79 [==============================] - 11s 135ms/step - loss: 0.4614 - accuracy: 0.8688 - val_loss: 0.9512 - val_accuracy: 0.7782\n",
            "Epoch 31/40\n",
            "79/79 [==============================] - 11s 133ms/step - loss: 0.4498 - accuracy: 0.8712 - val_loss: 0.9538 - val_accuracy: 0.7781\n",
            "Epoch 32/40\n",
            "79/79 [==============================] - 10s 132ms/step - loss: 0.4402 - accuracy: 0.8741 - val_loss: 0.9597 - val_accuracy: 0.7788\n",
            "Epoch 33/40\n",
            "79/79 [==============================] - 10s 133ms/step - loss: 0.4272 - accuracy: 0.8772 - val_loss: 0.9446 - val_accuracy: 0.7792\n",
            "Epoch 34/40\n",
            "79/79 [==============================] - 11s 134ms/step - loss: 0.4172 - accuracy: 0.8811 - val_loss: 0.9495 - val_accuracy: 0.7812\n",
            "Epoch 35/40\n",
            "79/79 [==============================] - 10s 132ms/step - loss: 0.4076 - accuracy: 0.8838 - val_loss: 0.9503 - val_accuracy: 0.7812\n",
            "Epoch 36/40\n",
            "79/79 [==============================] - 10s 133ms/step - loss: 0.3967 - accuracy: 0.8857 - val_loss: 0.9657 - val_accuracy: 0.7807\n",
            "Epoch 37/40\n",
            "79/79 [==============================] - 11s 135ms/step - loss: 0.3890 - accuracy: 0.8876 - val_loss: 0.9618 - val_accuracy: 0.7809\n",
            "Epoch 38/40\n",
            "79/79 [==============================] - 11s 138ms/step - loss: 0.3830 - accuracy: 0.8889 - val_loss: 0.9568 - val_accuracy: 0.7827\n",
            "Epoch 39/40\n",
            "79/79 [==============================] - 11s 134ms/step - loss: 0.3747 - accuracy: 0.8926 - val_loss: 0.9524 - val_accuracy: 0.7822\n",
            "Epoch 40/40\n",
            "79/79 [==============================] - 10s 131ms/step - loss: 0.3682 - accuracy: 0.8941 - val_loss: 0.9595 - val_accuracy: 0.7834\n"
          ],
          "name": "stdout"
        },
        {
          "output_type": "display_data",
          "data": {
            "text/html": [
              "<br/>Waiting for W&B process to finish, PID 3542<br/>Program ended successfully."
            ],
            "text/plain": [
              "<IPython.core.display.HTML object>"
            ]
          },
          "metadata": {
            "tags": []
          }
        },
        {
          "output_type": "display_data",
          "data": {
            "application/vnd.jupyter.widget-view+json": {
              "model_id": "d1d38946aecd41c38803f7eea6087d54",
              "version_minor": 0,
              "version_major": 2
            },
            "text/plain": [
              "VBox(children=(Label(value=' 0.77MB of 0.77MB uploaded (0.00MB deduped)\\r'), FloatProgress(value=1.0, max=1.0)…"
            ]
          },
          "metadata": {
            "tags": []
          }
        },
        {
          "output_type": "display_data",
          "data": {
            "text/html": [
              "Find user logs for this run at: <code>/root/.keras/datasets/dakshina_dataset_v1.0/hi/lexicons/wandb/run-20210428_184305-2ppfvnds/logs/debug.log</code>"
            ],
            "text/plain": [
              "<IPython.core.display.HTML object>"
            ]
          },
          "metadata": {
            "tags": []
          }
        },
        {
          "output_type": "display_data",
          "data": {
            "text/html": [
              "Find internal logs for this run at: <code>/root/.keras/datasets/dakshina_dataset_v1.0/hi/lexicons/wandb/run-20210428_184305-2ppfvnds/logs/debug-internal.log</code>"
            ],
            "text/plain": [
              "<IPython.core.display.HTML object>"
            ]
          },
          "metadata": {
            "tags": []
          }
        },
        {
          "output_type": "display_data",
          "data": {
            "text/html": [
              "<h3>Run summary:</h3><br/><style>\n",
              "    table.wandb td:nth-child(1) { padding: 0 10px; text-align: right }\n",
              "    </style><table class=\"wandb\">\n",
              "<tr><td>epoch</td><td>39</td></tr><tr><td>loss</td><td>0.36804</td></tr><tr><td>accuracy</td><td>0.89441</td></tr><tr><td>val_loss</td><td>0.95955</td></tr><tr><td>val_accuracy</td><td>0.7834</td></tr><tr><td>_runtime</td><td>431</td></tr><tr><td>_timestamp</td><td>1619635816</td></tr><tr><td>_step</td><td>39</td></tr><tr><td>best_val_loss</td><td>0.94464</td></tr><tr><td>best_epoch</td><td>32</td></tr></table>"
            ],
            "text/plain": [
              "<IPython.core.display.HTML object>"
            ]
          },
          "metadata": {
            "tags": []
          }
        },
        {
          "output_type": "display_data",
          "data": {
            "text/html": [
              "<h3>Run history:</h3><br/><style>\n",
              "    table.wandb td:nth-child(1) { padding: 0 10px; text-align: right }\n",
              "    </style><table class=\"wandb\">\n",
              "<tr><td>epoch</td><td>▁▁▁▂▂▂▂▂▂▃▃▃▃▃▄▄▄▄▄▄▅▅▅▅▅▅▆▆▆▆▆▇▇▇▇▇▇███</td></tr><tr><td>loss</td><td>█▆▅▅▅▅▄▄▄▄▄▄▄▃▃▃▃▃▃▃▃▂▂▂▂▂▂▂▂▂▂▂▁▁▁▁▁▁▁▁</td></tr><tr><td>accuracy</td><td>▁▂▃▃▄▄▄▄▄▄▅▅▅▅▅▅▅▆▆▆▆▆▆▆▇▇▇▇▇▇▇▇▇▇██████</td></tr><tr><td>val_loss</td><td>█▆▅▄▄▄▃▃▃▃▃▃▃▃▃▂▂▂▂▂▂▂▁▁▁▁▁▁▁▁▁▁▁▁▁▁▁▁▁▁</td></tr><tr><td>val_accuracy</td><td>▁▂▃▄▄▅▅▅▆▆▆▆▆▆▆▆▆▇▇▆▇▇▇▇▇▇▇▇▇▇▇█████████</td></tr><tr><td>_runtime</td><td>▁▁▁▂▂▂▂▂▂▃▃▃▃▃▄▄▄▄▄▄▅▅▅▅▅▅▆▆▆▆▆▇▇▇▇▇▇███</td></tr><tr><td>_timestamp</td><td>▁▁▁▂▂▂▂▂▂▃▃▃▃▃▄▄▄▄▄▄▅▅▅▅▅▅▆▆▆▆▆▇▇▇▇▇▇███</td></tr><tr><td>_step</td><td>▁▁▁▂▂▂▂▂▂▃▃▃▃▃▄▄▄▄▄▄▅▅▅▅▅▅▆▆▆▆▆▇▇▇▇▇▇███</td></tr></table><br/>"
            ],
            "text/plain": [
              "<IPython.core.display.HTML object>"
            ]
          },
          "metadata": {
            "tags": []
          }
        },
        {
          "output_type": "display_data",
          "data": {
            "text/html": [
              "Synced 5 W&B file(s), 1 media file(s), 0 artifact file(s) and 1 other file(s)"
            ],
            "text/plain": [
              "<IPython.core.display.HTML object>"
            ]
          },
          "metadata": {
            "tags": []
          }
        },
        {
          "output_type": "display_data",
          "data": {
            "text/html": [
              "\n",
              "                    <br/>Synced <strong style=\"color:#cdcd00\">denim-sweep-17</strong>: <a href=\"https://wandb.ai/anshikag_2210/MachineTransliterator/runs/2ppfvnds\" target=\"_blank\">https://wandb.ai/anshikag_2210/MachineTransliterator/runs/2ppfvnds</a><br/>\n",
              "                "
            ],
            "text/plain": [
              "<IPython.core.display.HTML object>"
            ]
          },
          "metadata": {
            "tags": []
          }
        },
        {
          "output_type": "stream",
          "text": [
            "\u001b[34m\u001b[1mwandb\u001b[0m: Agent Starting Run: fz7pbq1k with config:\n",
            "\u001b[34m\u001b[1mwandb\u001b[0m: \tbatch_size: 64\n",
            "\u001b[34m\u001b[1mwandb\u001b[0m: \tcell_type: lstm\n",
            "\u001b[34m\u001b[1mwandb\u001b[0m: \tdecoder_embed_size: 27\n",
            "\u001b[34m\u001b[1mwandb\u001b[0m: \tdropout: 0.0001\n",
            "\u001b[34m\u001b[1mwandb\u001b[0m: \tencoder_embed_size: 27\n",
            "\u001b[34m\u001b[1mwandb\u001b[0m: \tepochs: 30\n",
            "\u001b[34m\u001b[1mwandb\u001b[0m: \thidden_layer_size: 128\n",
            "\u001b[34m\u001b[1mwandb\u001b[0m: \tnum_decoder_layers: 2\n",
            "\u001b[34m\u001b[1mwandb\u001b[0m: \tnum_encoder_layers: 4\n",
            "\u001b[34m\u001b[1mwandb\u001b[0m: \tnum_hidden_layers: 10\n"
          ],
          "name": "stderr"
        },
        {
          "output_type": "display_data",
          "data": {
            "text/html": [
              "\n",
              "                Tracking run with wandb version 0.10.27<br/>\n",
              "                Syncing run <strong style=\"color:#cdcd00\">comfy-sweep-18</strong> to <a href=\"https://wandb.ai\" target=\"_blank\">Weights & Biases</a> <a href=\"https://docs.wandb.com/integrations/jupyter.html\" target=\"_blank\">(Documentation)</a>.<br/>\n",
              "                Project page: <a href=\"https://wandb.ai/anshikag_2210/MachineTransliterator\" target=\"_blank\">https://wandb.ai/anshikag_2210/MachineTransliterator</a><br/>\n",
              "                Sweep page: <a href=\"https://wandb.ai/anshikag_2210/MachineTransliterator/sweeps/4qzxmg7y\" target=\"_blank\">https://wandb.ai/anshikag_2210/MachineTransliterator/sweeps/4qzxmg7y</a><br/>\n",
              "Run page: <a href=\"https://wandb.ai/anshikag_2210/MachineTransliterator/runs/fz7pbq1k\" target=\"_blank\">https://wandb.ai/anshikag_2210/MachineTransliterator/runs/fz7pbq1k</a><br/>\n",
              "                Run data is saved locally in <code>/root/.keras/datasets/dakshina_dataset_v1.0/hi/lexicons/wandb/run-20210428_185026-fz7pbq1k</code><br/><br/>\n",
              "            "
            ],
            "text/plain": [
              "<IPython.core.display.HTML object>"
            ]
          },
          "metadata": {
            "tags": []
          }
        },
        {
          "output_type": "stream",
          "text": [
            "Epoch 1/30\n",
            "157/157 [==============================] - 13s 34ms/step - loss: 1.7392 - accuracy: 0.6750 - val_loss: 1.2878 - val_accuracy: 0.7144\n"
          ],
          "name": "stdout"
        },
        {
          "output_type": "stream",
          "text": [
            "\u001b[34m\u001b[1mwandb\u001b[0m: \u001b[32m\u001b[41mERROR\u001b[0m Can't save model, h5py returned error: Unable to create link (name already exists)\n"
          ],
          "name": "stderr"
        },
        {
          "output_type": "stream",
          "text": [
            "Epoch 2/30\n",
            "157/157 [==============================] - 4s 23ms/step - loss: 1.1756 - accuracy: 0.7114 - val_loss: 1.2457 - val_accuracy: 0.7198\n",
            "Epoch 3/30\n",
            "157/157 [==============================] - 4s 23ms/step - loss: 1.1076 - accuracy: 0.7118 - val_loss: 1.2441 - val_accuracy: 0.7159\n",
            "Epoch 4/30\n",
            "157/157 [==============================] - 4s 24ms/step - loss: 1.0778 - accuracy: 0.7153 - val_loss: 1.2470 - val_accuracy: 0.7161\n",
            "Epoch 5/30\n",
            "157/157 [==============================] - 4s 25ms/step - loss: 1.0778 - accuracy: 0.7154 - val_loss: 1.2463 - val_accuracy: 0.7204\n",
            "Epoch 6/30\n",
            "157/157 [==============================] - 4s 24ms/step - loss: 1.0620 - accuracy: 0.7167 - val_loss: 1.2406 - val_accuracy: 0.7216\n",
            "Epoch 7/30\n",
            "157/157 [==============================] - 4s 24ms/step - loss: 1.0464 - accuracy: 0.7207 - val_loss: 1.2282 - val_accuracy: 0.7251\n",
            "Epoch 8/30\n",
            "157/157 [==============================] - 4s 23ms/step - loss: 1.0245 - accuracy: 0.7234 - val_loss: 1.2120 - val_accuracy: 0.7254\n",
            "Epoch 9/30\n",
            "157/157 [==============================] - 4s 24ms/step - loss: 1.0171 - accuracy: 0.7223 - val_loss: 1.2097 - val_accuracy: 0.7270\n",
            "Epoch 10/30\n",
            "157/157 [==============================] - 4s 24ms/step - loss: 0.9974 - accuracy: 0.7269 - val_loss: 1.1975 - val_accuracy: 0.7286\n",
            "Epoch 11/30\n",
            "157/157 [==============================] - 4s 24ms/step - loss: 0.9739 - accuracy: 0.7359 - val_loss: 1.1887 - val_accuracy: 0.7288\n",
            "Epoch 12/30\n",
            "157/157 [==============================] - 4s 24ms/step - loss: 0.9605 - accuracy: 0.7368 - val_loss: 1.1759 - val_accuracy: 0.7287\n",
            "Epoch 13/30\n",
            "157/157 [==============================] - 4s 24ms/step - loss: 0.9397 - accuracy: 0.7430 - val_loss: 1.1831 - val_accuracy: 0.7290\n",
            "Epoch 14/30\n",
            "157/157 [==============================] - 4s 23ms/step - loss: 0.9307 - accuracy: 0.7426 - val_loss: 1.1876 - val_accuracy: 0.7287\n",
            "Epoch 15/30\n",
            "157/157 [==============================] - 4s 24ms/step - loss: 0.9176 - accuracy: 0.7447 - val_loss: 1.1793 - val_accuracy: 0.7300\n",
            "Epoch 16/30\n",
            "157/157 [==============================] - 4s 25ms/step - loss: 0.9124 - accuracy: 0.7455 - val_loss: 1.1810 - val_accuracy: 0.7300\n",
            "Epoch 17/30\n",
            "157/157 [==============================] - 4s 24ms/step - loss: 0.9010 - accuracy: 0.7501 - val_loss: 1.1519 - val_accuracy: 0.7362\n",
            "Epoch 18/30\n",
            "157/157 [==============================] - 4s 24ms/step - loss: 0.8870 - accuracy: 0.7529 - val_loss: 1.1428 - val_accuracy: 0.7372\n",
            "Epoch 19/30\n",
            "157/157 [==============================] - 4s 23ms/step - loss: 0.8615 - accuracy: 0.7604 - val_loss: 1.1311 - val_accuracy: 0.7399\n",
            "Epoch 20/30\n",
            "157/157 [==============================] - 4s 25ms/step - loss: 0.8547 - accuracy: 0.7612 - val_loss: 1.1263 - val_accuracy: 0.7417\n",
            "Epoch 21/30\n",
            "157/157 [==============================] - 4s 24ms/step - loss: 0.8423 - accuracy: 0.7647 - val_loss: 1.1258 - val_accuracy: 0.7435\n",
            "Epoch 22/30\n",
            "157/157 [==============================] - 4s 22ms/step - loss: 0.8362 - accuracy: 0.7665 - val_loss: 1.1237 - val_accuracy: 0.7429\n",
            "Epoch 23/30\n",
            "157/157 [==============================] - 4s 23ms/step - loss: 0.8316 - accuracy: 0.7667 - val_loss: 1.1205 - val_accuracy: 0.7443\n",
            "Epoch 24/30\n",
            "157/157 [==============================] - 4s 24ms/step - loss: 0.8252 - accuracy: 0.7688 - val_loss: 1.1206 - val_accuracy: 0.7444\n",
            "Epoch 25/30\n",
            "157/157 [==============================] - 4s 24ms/step - loss: 0.8179 - accuracy: 0.7701 - val_loss: 1.1310 - val_accuracy: 0.7450\n",
            "Epoch 26/30\n",
            "157/157 [==============================] - 4s 24ms/step - loss: 0.8167 - accuracy: 0.7716 - val_loss: 1.1182 - val_accuracy: 0.7471\n",
            "Epoch 27/30\n",
            "157/157 [==============================] - 4s 23ms/step - loss: 0.8029 - accuracy: 0.7758 - val_loss: 1.1257 - val_accuracy: 0.7471\n",
            "Epoch 28/30\n",
            "157/157 [==============================] - 4s 24ms/step - loss: 0.8110 - accuracy: 0.7722 - val_loss: 1.1166 - val_accuracy: 0.7473\n",
            "Epoch 29/30\n",
            "157/157 [==============================] - 4s 24ms/step - loss: 0.7935 - accuracy: 0.7764 - val_loss: 1.1207 - val_accuracy: 0.7458\n",
            "Epoch 30/30\n",
            "157/157 [==============================] - 4s 24ms/step - loss: 0.7894 - accuracy: 0.7780 - val_loss: 1.1173 - val_accuracy: 0.7456\n"
          ],
          "name": "stdout"
        },
        {
          "output_type": "display_data",
          "data": {
            "text/html": [
              "<br/>Waiting for W&B process to finish, PID 3780<br/>Program ended successfully."
            ],
            "text/plain": [
              "<IPython.core.display.HTML object>"
            ]
          },
          "metadata": {
            "tags": []
          }
        },
        {
          "output_type": "display_data",
          "data": {
            "application/vnd.jupyter.widget-view+json": {
              "model_id": "eb83ac4296304d9b96fbff57c4ae5bf0",
              "version_minor": 0,
              "version_major": 2
            },
            "text/plain": [
              "VBox(children=(Label(value=' 2.71MB of 2.71MB uploaded (0.00MB deduped)\\r'), FloatProgress(value=1.0, max=1.0)…"
            ]
          },
          "metadata": {
            "tags": []
          }
        },
        {
          "output_type": "display_data",
          "data": {
            "text/html": [
              "Find user logs for this run at: <code>/root/.keras/datasets/dakshina_dataset_v1.0/hi/lexicons/wandb/run-20210428_185026-fz7pbq1k/logs/debug.log</code>"
            ],
            "text/plain": [
              "<IPython.core.display.HTML object>"
            ]
          },
          "metadata": {
            "tags": []
          }
        },
        {
          "output_type": "display_data",
          "data": {
            "text/html": [
              "Find internal logs for this run at: <code>/root/.keras/datasets/dakshina_dataset_v1.0/hi/lexicons/wandb/run-20210428_185026-fz7pbq1k/logs/debug-internal.log</code>"
            ],
            "text/plain": [
              "<IPython.core.display.HTML object>"
            ]
          },
          "metadata": {
            "tags": []
          }
        },
        {
          "output_type": "display_data",
          "data": {
            "text/html": [
              "<h3>Run summary:</h3><br/><style>\n",
              "    table.wandb td:nth-child(1) { padding: 0 10px; text-align: right }\n",
              "    </style><table class=\"wandb\">\n",
              "<tr><td>epoch</td><td>29</td></tr><tr><td>loss</td><td>0.79029</td></tr><tr><td>accuracy</td><td>0.77744</td></tr><tr><td>val_loss</td><td>1.11727</td></tr><tr><td>val_accuracy</td><td>0.74558</td></tr><tr><td>_runtime</td><td>127</td></tr><tr><td>_timestamp</td><td>1619635953</td></tr><tr><td>_step</td><td>29</td></tr><tr><td>best_val_loss</td><td>1.11662</td></tr><tr><td>best_epoch</td><td>27</td></tr></table>"
            ],
            "text/plain": [
              "<IPython.core.display.HTML object>"
            ]
          },
          "metadata": {
            "tags": []
          }
        },
        {
          "output_type": "display_data",
          "data": {
            "text/html": [
              "<h3>Run history:</h3><br/><style>\n",
              "    table.wandb td:nth-child(1) { padding: 0 10px; text-align: right }\n",
              "    </style><table class=\"wandb\">\n",
              "<tr><td>epoch</td><td>▁▁▁▂▂▂▂▃▃▃▃▄▄▄▄▅▅▅▅▆▆▆▆▇▇▇▇███</td></tr><tr><td>loss</td><td>█▆▅▅▅▄▄▄▄▄▃▃▃▃▃▃▂▂▂▂▂▂▂▁▁▁▁▁▁▁</td></tr><tr><td>accuracy</td><td>▁▂▂▂▂▃▃▃▃▄▄▄▅▅▅▅▅▆▆▇▇▇▇▇▇█████</td></tr><tr><td>val_loss</td><td>█▆▆▆▆▆▆▅▅▄▄▃▄▄▄▄▂▂▂▁▁▁▁▁▂▁▁▁▁▁</td></tr><tr><td>val_accuracy</td><td>▁▂▁▁▂▃▃▃▄▄▄▄▄▄▄▄▆▆▆▇▇▇▇▇██████</td></tr><tr><td>_runtime</td><td>▁▁▂▂▂▂▂▃▃▃▃▄▄▄▄▅▅▅▅▆▆▆▆▇▇▇▇███</td></tr><tr><td>_timestamp</td><td>▁▁▂▂▂▂▂▃▃▃▃▄▄▄▄▅▅▅▅▆▆▆▆▇▇▇▇███</td></tr><tr><td>_step</td><td>▁▁▁▂▂▂▂▃▃▃▃▄▄▄▄▅▅▅▅▆▆▆▆▇▇▇▇███</td></tr></table><br/>"
            ],
            "text/plain": [
              "<IPython.core.display.HTML object>"
            ]
          },
          "metadata": {
            "tags": []
          }
        },
        {
          "output_type": "display_data",
          "data": {
            "text/html": [
              "Synced 5 W&B file(s), 1 media file(s), 0 artifact file(s) and 1 other file(s)"
            ],
            "text/plain": [
              "<IPython.core.display.HTML object>"
            ]
          },
          "metadata": {
            "tags": []
          }
        },
        {
          "output_type": "display_data",
          "data": {
            "text/html": [
              "\n",
              "                    <br/>Synced <strong style=\"color:#cdcd00\">comfy-sweep-18</strong>: <a href=\"https://wandb.ai/anshikag_2210/MachineTransliterator/runs/fz7pbq1k\" target=\"_blank\">https://wandb.ai/anshikag_2210/MachineTransliterator/runs/fz7pbq1k</a><br/>\n",
              "                "
            ],
            "text/plain": [
              "<IPython.core.display.HTML object>"
            ]
          },
          "metadata": {
            "tags": []
          }
        },
        {
          "output_type": "stream",
          "text": [
            "\u001b[34m\u001b[1mwandb\u001b[0m: Agent Starting Run: i9zv4fg0 with config:\n",
            "\u001b[34m\u001b[1mwandb\u001b[0m: \tbatch_size: 64\n",
            "\u001b[34m\u001b[1mwandb\u001b[0m: \tcell_type: rnn\n",
            "\u001b[34m\u001b[1mwandb\u001b[0m: \tdecoder_embed_size: 64\n",
            "\u001b[34m\u001b[1mwandb\u001b[0m: \tdropout: 0.01\n",
            "\u001b[34m\u001b[1mwandb\u001b[0m: \tencoder_embed_size: 64\n",
            "\u001b[34m\u001b[1mwandb\u001b[0m: \tepochs: 60\n",
            "\u001b[34m\u001b[1mwandb\u001b[0m: \thidden_layer_size: 128\n",
            "\u001b[34m\u001b[1mwandb\u001b[0m: \tnum_decoder_layers: 2\n",
            "\u001b[34m\u001b[1mwandb\u001b[0m: \tnum_encoder_layers: 3\n",
            "\u001b[34m\u001b[1mwandb\u001b[0m: \tnum_hidden_layers: 2\n"
          ],
          "name": "stderr"
        },
        {
          "output_type": "display_data",
          "data": {
            "text/html": [
              "\n",
              "                Tracking run with wandb version 0.10.27<br/>\n",
              "                Syncing run <strong style=\"color:#cdcd00\">confused-sweep-19</strong> to <a href=\"https://wandb.ai\" target=\"_blank\">Weights & Biases</a> <a href=\"https://docs.wandb.com/integrations/jupyter.html\" target=\"_blank\">(Documentation)</a>.<br/>\n",
              "                Project page: <a href=\"https://wandb.ai/anshikag_2210/MachineTransliterator\" target=\"_blank\">https://wandb.ai/anshikag_2210/MachineTransliterator</a><br/>\n",
              "                Sweep page: <a href=\"https://wandb.ai/anshikag_2210/MachineTransliterator/sweeps/4qzxmg7y\" target=\"_blank\">https://wandb.ai/anshikag_2210/MachineTransliterator/sweeps/4qzxmg7y</a><br/>\n",
              "Run page: <a href=\"https://wandb.ai/anshikag_2210/MachineTransliterator/runs/i9zv4fg0\" target=\"_blank\">https://wandb.ai/anshikag_2210/MachineTransliterator/runs/i9zv4fg0</a><br/>\n",
              "                Run data is saved locally in <code>/root/.keras/datasets/dakshina_dataset_v1.0/hi/lexicons/wandb/run-20210428_185243-i9zv4fg0</code><br/><br/>\n",
              "            "
            ],
            "text/plain": [
              "<IPython.core.display.HTML object>"
            ]
          },
          "metadata": {
            "tags": []
          }
        },
        {
          "output_type": "stream",
          "text": [
            "Epoch 1/60\n",
            "157/157 [==============================] - 20s 108ms/step - loss: 1.6102 - accuracy: 0.6550 - val_loss: 1.1926 - val_accuracy: 0.7282\n"
          ],
          "name": "stdout"
        },
        {
          "output_type": "stream",
          "text": [
            "\u001b[34m\u001b[1mwandb\u001b[0m: \u001b[32m\u001b[41mERROR\u001b[0m Can't save model, h5py returned error: Unable to create link (name already exists)\n"
          ],
          "name": "stderr"
        },
        {
          "output_type": "stream",
          "text": [
            "Epoch 2/60\n",
            "157/157 [==============================] - 17s 107ms/step - loss: 1.0083 - accuracy: 0.7440 - val_loss: 1.1536 - val_accuracy: 0.7350\n",
            "Epoch 3/60\n",
            "157/157 [==============================] - 17s 107ms/step - loss: 0.9352 - accuracy: 0.7606 - val_loss: 1.1207 - val_accuracy: 0.7428\n",
            "Epoch 4/60\n",
            "157/157 [==============================] - 17s 110ms/step - loss: 0.8789 - accuracy: 0.7713 - val_loss: 1.0890 - val_accuracy: 0.7477\n",
            "Epoch 5/60\n",
            "157/157 [==============================] - 17s 107ms/step - loss: 0.8404 - accuracy: 0.7776 - val_loss: 1.0673 - val_accuracy: 0.7503\n",
            "Epoch 6/60\n",
            "157/157 [==============================] - 17s 108ms/step - loss: 0.8032 - accuracy: 0.7871 - val_loss: 1.0452 - val_accuracy: 0.7556\n",
            "Epoch 7/60\n",
            "157/157 [==============================] - 17s 106ms/step - loss: 0.7750 - accuracy: 0.7941 - val_loss: 1.0353 - val_accuracy: 0.7579\n",
            "Epoch 8/60\n",
            "157/157 [==============================] - 17s 107ms/step - loss: 0.7544 - accuracy: 0.7984 - val_loss: 1.0329 - val_accuracy: 0.7579\n",
            "Epoch 9/60\n",
            "157/157 [==============================] - 17s 105ms/step - loss: 0.7292 - accuracy: 0.8056 - val_loss: 0.9962 - val_accuracy: 0.7653\n",
            "Epoch 10/60\n",
            "157/157 [==============================] - 17s 106ms/step - loss: 0.7009 - accuracy: 0.8131 - val_loss: 0.9881 - val_accuracy: 0.7670\n",
            "Epoch 11/60\n",
            "157/157 [==============================] - 17s 106ms/step - loss: 0.6764 - accuracy: 0.8178 - val_loss: 0.9783 - val_accuracy: 0.7710\n",
            "Epoch 12/60\n",
            "157/157 [==============================] - 17s 107ms/step - loss: 0.6574 - accuracy: 0.8229 - val_loss: 0.9763 - val_accuracy: 0.7711\n",
            "Epoch 13/60\n",
            "157/157 [==============================] - 17s 106ms/step - loss: 0.6417 - accuracy: 0.8260 - val_loss: 0.9586 - val_accuracy: 0.7746\n",
            "Epoch 14/60\n",
            "157/157 [==============================] - 17s 109ms/step - loss: 0.6185 - accuracy: 0.8310 - val_loss: 0.9546 - val_accuracy: 0.7750\n",
            "Epoch 15/60\n",
            "157/157 [==============================] - 17s 106ms/step - loss: 0.6043 - accuracy: 0.8337 - val_loss: 0.9420 - val_accuracy: 0.7781\n",
            "Epoch 16/60\n",
            "157/157 [==============================] - 17s 107ms/step - loss: 0.5980 - accuracy: 0.8346 - val_loss: 0.9458 - val_accuracy: 0.7760\n",
            "Epoch 17/60\n",
            "157/157 [==============================] - 17s 107ms/step - loss: 0.5785 - accuracy: 0.8401 - val_loss: 0.9325 - val_accuracy: 0.7799\n",
            "Epoch 18/60\n",
            "157/157 [==============================] - 17s 106ms/step - loss: 0.5681 - accuracy: 0.8427 - val_loss: 0.9367 - val_accuracy: 0.7802\n",
            "Epoch 19/60\n",
            "157/157 [==============================] - 17s 107ms/step - loss: 0.5468 - accuracy: 0.8483 - val_loss: 0.9214 - val_accuracy: 0.7829\n",
            "Epoch 20/60\n",
            "157/157 [==============================] - 17s 106ms/step - loss: 0.5369 - accuracy: 0.8501 - val_loss: 0.9170 - val_accuracy: 0.7841\n",
            "Epoch 21/60\n",
            "157/157 [==============================] - 16s 105ms/step - loss: 0.5323 - accuracy: 0.8530 - val_loss: 0.9180 - val_accuracy: 0.7834\n",
            "Epoch 22/60\n",
            "157/157 [==============================] - 16s 103ms/step - loss: 0.5146 - accuracy: 0.8563 - val_loss: 0.9137 - val_accuracy: 0.7859\n",
            "Epoch 23/60\n",
            "157/157 [==============================] - 17s 106ms/step - loss: 0.5035 - accuracy: 0.8590 - val_loss: 0.9193 - val_accuracy: 0.7837\n",
            "Epoch 24/60\n",
            "157/157 [==============================] - 17s 108ms/step - loss: 0.4945 - accuracy: 0.8608 - val_loss: 0.9069 - val_accuracy: 0.7874\n",
            "Epoch 25/60\n",
            "157/157 [==============================] - 17s 108ms/step - loss: 0.4745 - accuracy: 0.8665 - val_loss: 0.9026 - val_accuracy: 0.7890\n",
            "Epoch 26/60\n",
            "157/157 [==============================] - 17s 107ms/step - loss: 0.4747 - accuracy: 0.8666 - val_loss: 0.8907 - val_accuracy: 0.7914\n",
            "Epoch 27/60\n",
            "157/157 [==============================] - 17s 106ms/step - loss: 0.4662 - accuracy: 0.8686 - val_loss: 0.8928 - val_accuracy: 0.7911\n",
            "Epoch 28/60\n",
            "157/157 [==============================] - 17s 106ms/step - loss: 0.4568 - accuracy: 0.8709 - val_loss: 0.8891 - val_accuracy: 0.7936\n",
            "Epoch 29/60\n",
            "157/157 [==============================] - 17s 107ms/step - loss: 0.4494 - accuracy: 0.8726 - val_loss: 0.8919 - val_accuracy: 0.7928\n",
            "Epoch 30/60\n",
            "157/157 [==============================] - 17s 107ms/step - loss: 0.4454 - accuracy: 0.8737 - val_loss: 0.8847 - val_accuracy: 0.7945\n",
            "Epoch 31/60\n",
            "157/157 [==============================] - 17s 108ms/step - loss: 0.4375 - accuracy: 0.8757 - val_loss: 0.8853 - val_accuracy: 0.7963\n",
            "Epoch 32/60\n",
            "157/157 [==============================] - 17s 107ms/step - loss: 0.4242 - accuracy: 0.8795 - val_loss: 0.8783 - val_accuracy: 0.7964\n",
            "Epoch 33/60\n",
            "157/157 [==============================] - 16s 103ms/step - loss: 0.4204 - accuracy: 0.8812 - val_loss: 0.8865 - val_accuracy: 0.7961\n",
            "Epoch 34/60\n",
            "157/157 [==============================] - 16s 102ms/step - loss: 0.4165 - accuracy: 0.8812 - val_loss: 0.8752 - val_accuracy: 0.7982\n",
            "Epoch 35/60\n",
            "157/157 [==============================] - 17s 107ms/step - loss: 0.4107 - accuracy: 0.8843 - val_loss: 0.8777 - val_accuracy: 0.7975\n",
            "Epoch 36/60\n",
            "157/157 [==============================] - 17s 108ms/step - loss: 0.4069 - accuracy: 0.8834 - val_loss: 0.8775 - val_accuracy: 0.7991\n",
            "Epoch 37/60\n",
            "157/157 [==============================] - 17s 107ms/step - loss: 0.3966 - accuracy: 0.8869 - val_loss: 0.8691 - val_accuracy: 0.8001\n",
            "Epoch 38/60\n",
            "157/157 [==============================] - 17s 108ms/step - loss: 0.4002 - accuracy: 0.8857 - val_loss: 0.8688 - val_accuracy: 0.8012\n",
            "Epoch 39/60\n",
            "157/157 [==============================] - 17s 106ms/step - loss: 0.3937 - accuracy: 0.8874 - val_loss: 0.8784 - val_accuracy: 0.7986\n",
            "Epoch 40/60\n",
            "157/157 [==============================] - 17s 107ms/step - loss: 0.3864 - accuracy: 0.8899 - val_loss: 0.8751 - val_accuracy: 0.7994\n",
            "Epoch 41/60\n",
            "157/157 [==============================] - 17s 106ms/step - loss: 0.3832 - accuracy: 0.8893 - val_loss: 0.8680 - val_accuracy: 0.8015\n",
            "Epoch 42/60\n",
            "157/157 [==============================] - 17s 107ms/step - loss: 0.3802 - accuracy: 0.8911 - val_loss: 0.8671 - val_accuracy: 0.8013\n",
            "Epoch 43/60\n",
            "157/157 [==============================] - 17s 108ms/step - loss: 0.3751 - accuracy: 0.8930 - val_loss: 0.8728 - val_accuracy: 0.8017\n",
            "Epoch 44/60\n",
            "157/157 [==============================] - 17s 109ms/step - loss: 0.3702 - accuracy: 0.8937 - val_loss: 0.8667 - val_accuracy: 0.8026\n",
            "Epoch 45/60\n",
            "157/157 [==============================] - 17s 107ms/step - loss: 0.3676 - accuracy: 0.8943 - val_loss: 0.8678 - val_accuracy: 0.8028\n",
            "Epoch 46/60\n",
            "157/157 [==============================] - 16s 105ms/step - loss: 0.3665 - accuracy: 0.8943 - val_loss: 0.8655 - val_accuracy: 0.8035\n",
            "Epoch 47/60\n",
            "157/157 [==============================] - 17s 108ms/step - loss: 0.3630 - accuracy: 0.8949 - val_loss: 0.8690 - val_accuracy: 0.8027\n",
            "Epoch 48/60\n",
            "157/157 [==============================] - 16s 105ms/step - loss: 0.3607 - accuracy: 0.8973 - val_loss: 0.8623 - val_accuracy: 0.8044\n",
            "Epoch 49/60\n",
            "157/157 [==============================] - 17s 106ms/step - loss: 0.3566 - accuracy: 0.8966 - val_loss: 0.8642 - val_accuracy: 0.8043\n",
            "Epoch 50/60\n",
            "157/157 [==============================] - 16s 105ms/step - loss: 0.3499 - accuracy: 0.8996 - val_loss: 0.8608 - val_accuracy: 0.8056\n",
            "Epoch 51/60\n",
            "157/157 [==============================] - 17s 107ms/step - loss: 0.3519 - accuracy: 0.8989 - val_loss: 0.8633 - val_accuracy: 0.8045\n",
            "Epoch 52/60\n",
            "157/157 [==============================] - 17s 106ms/step - loss: 0.3477 - accuracy: 0.9005 - val_loss: 0.8595 - val_accuracy: 0.8052\n",
            "Epoch 53/60\n",
            "157/157 [==============================] - 17s 107ms/step - loss: 0.3470 - accuracy: 0.8999 - val_loss: 0.8613 - val_accuracy: 0.8050\n",
            "Epoch 54/60\n",
            "157/157 [==============================] - 16s 104ms/step - loss: 0.3444 - accuracy: 0.8994 - val_loss: 0.8586 - val_accuracy: 0.8053\n",
            "Epoch 55/60\n",
            "157/157 [==============================] - 17s 106ms/step - loss: 0.3407 - accuracy: 0.9017 - val_loss: 0.8581 - val_accuracy: 0.8055\n",
            "Epoch 56/60\n",
            "157/157 [==============================] - 17s 107ms/step - loss: 0.3429 - accuracy: 0.9009 - val_loss: 0.8623 - val_accuracy: 0.8055\n",
            "Epoch 57/60\n",
            "157/157 [==============================] - 17s 108ms/step - loss: 0.3345 - accuracy: 0.9034 - val_loss: 0.8620 - val_accuracy: 0.8057\n",
            "Epoch 58/60\n",
            "157/157 [==============================] - 16s 105ms/step - loss: 0.3321 - accuracy: 0.9042 - val_loss: 0.8552 - val_accuracy: 0.8060\n",
            "Epoch 59/60\n",
            "157/157 [==============================] - 16s 105ms/step - loss: 0.3349 - accuracy: 0.9030 - val_loss: 0.8638 - val_accuracy: 0.8052\n",
            "Epoch 60/60\n",
            "157/157 [==============================] - 16s 103ms/step - loss: 0.3304 - accuracy: 0.9044 - val_loss: 0.8649 - val_accuracy: 0.8048\n"
          ],
          "name": "stdout"
        },
        {
          "output_type": "display_data",
          "data": {
            "text/html": [
              "<br/>Waiting for W&B process to finish, PID 3932<br/>Program ended successfully."
            ],
            "text/plain": [
              "<IPython.core.display.HTML object>"
            ]
          },
          "metadata": {
            "tags": []
          }
        },
        {
          "output_type": "display_data",
          "data": {
            "application/vnd.jupyter.widget-view+json": {
              "model_id": "d9d4c438f8d44156934c816b1a45c9a5",
              "version_minor": 0,
              "version_major": 2
            },
            "text/plain": [
              "VBox(children=(Label(value=' 67.11MB of 67.11MB uploaded (0.00MB deduped)\\r'), FloatProgress(value=1.0, max=1.…"
            ]
          },
          "metadata": {
            "tags": []
          }
        },
        {
          "output_type": "display_data",
          "data": {
            "text/html": [
              "Find user logs for this run at: <code>/root/.keras/datasets/dakshina_dataset_v1.0/hi/lexicons/wandb/run-20210428_185243-i9zv4fg0/logs/debug.log</code>"
            ],
            "text/plain": [
              "<IPython.core.display.HTML object>"
            ]
          },
          "metadata": {
            "tags": []
          }
        },
        {
          "output_type": "display_data",
          "data": {
            "text/html": [
              "Find internal logs for this run at: <code>/root/.keras/datasets/dakshina_dataset_v1.0/hi/lexicons/wandb/run-20210428_185243-i9zv4fg0/logs/debug-internal.log</code>"
            ],
            "text/plain": [
              "<IPython.core.display.HTML object>"
            ]
          },
          "metadata": {
            "tags": []
          }
        },
        {
          "output_type": "display_data",
          "data": {
            "text/html": [
              "<h3>Run summary:</h3><br/><style>\n",
              "    table.wandb td:nth-child(1) { padding: 0 10px; text-align: right }\n",
              "    </style><table class=\"wandb\">\n",
              "<tr><td>epoch</td><td>59</td></tr><tr><td>loss</td><td>0.33298</td></tr><tr><td>accuracy</td><td>0.90402</td></tr><tr><td>val_loss</td><td>0.86492</td></tr><tr><td>val_accuracy</td><td>0.80481</td></tr><tr><td>_runtime</td><td>1010</td></tr><tr><td>_timestamp</td><td>1619636973</td></tr><tr><td>_step</td><td>59</td></tr><tr><td>best_val_loss</td><td>0.85523</td></tr><tr><td>best_epoch</td><td>57</td></tr></table>"
            ],
            "text/plain": [
              "<IPython.core.display.HTML object>"
            ]
          },
          "metadata": {
            "tags": []
          }
        },
        {
          "output_type": "display_data",
          "data": {
            "text/html": [
              "<h3>Run history:</h3><br/><style>\n",
              "    table.wandb td:nth-child(1) { padding: 0 10px; text-align: right }\n",
              "    </style><table class=\"wandb\">\n",
              "<tr><td>epoch</td><td>▁▁▁▁▂▂▂▂▂▃▃▃▃▃▃▄▄▄▄▄▅▅▅▅▅▅▆▆▆▆▆▆▇▇▇▇▇███</td></tr><tr><td>loss</td><td>█▆▅▅▄▄▄▄▃▃▃▃▃▃▂▂▂▂▂▂▂▂▂▂▂▁▁▁▁▁▁▁▁▁▁▁▁▁▁▁</td></tr><tr><td>accuracy</td><td>▁▂▃▃▄▄▅▅▅▅▆▆▆▆▆▆▇▇▇▇▇▇▇▇▇▇▇▇████████████</td></tr><tr><td>val_loss</td><td>█▇▆▅▅▅▄▄▃▃▃▃▂▂▂▂▂▂▂▂▂▁▁▁▁▁▁▁▁▁▁▁▁▁▁▁▁▁▁▁</td></tr><tr><td>val_accuracy</td><td>▁▂▃▃▄▄▄▅▅▅▅▆▆▆▆▆▆▇▇▇▇▇▇▇▇█▇█████████████</td></tr><tr><td>_runtime</td><td>▁▁▁▁▂▂▂▂▂▃▃▃▃▃▄▄▄▄▄▄▅▅▅▅▅▅▆▆▆▆▆▆▇▇▇▇▇███</td></tr><tr><td>_timestamp</td><td>▁▁▁▁▂▂▂▂▂▃▃▃▃▃▄▄▄▄▄▄▅▅▅▅▅▅▆▆▆▆▆▆▇▇▇▇▇███</td></tr><tr><td>_step</td><td>▁▁▁▁▂▂▂▂▂▃▃▃▃▃▃▄▄▄▄▄▅▅▅▅▅▅▆▆▆▆▆▆▇▇▇▇▇███</td></tr></table><br/>"
            ],
            "text/plain": [
              "<IPython.core.display.HTML object>"
            ]
          },
          "metadata": {
            "tags": []
          }
        },
        {
          "output_type": "display_data",
          "data": {
            "text/html": [
              "Synced 5 W&B file(s), 1 media file(s), 0 artifact file(s) and 1 other file(s)"
            ],
            "text/plain": [
              "<IPython.core.display.HTML object>"
            ]
          },
          "metadata": {
            "tags": []
          }
        },
        {
          "output_type": "display_data",
          "data": {
            "text/html": [
              "\n",
              "                    <br/>Synced <strong style=\"color:#cdcd00\">confused-sweep-19</strong>: <a href=\"https://wandb.ai/anshikag_2210/MachineTransliterator/runs/i9zv4fg0\" target=\"_blank\">https://wandb.ai/anshikag_2210/MachineTransliterator/runs/i9zv4fg0</a><br/>\n",
              "                "
            ],
            "text/plain": [
              "<IPython.core.display.HTML object>"
            ]
          },
          "metadata": {
            "tags": []
          }
        },
        {
          "output_type": "stream",
          "text": [
            "\u001b[34m\u001b[1mwandb\u001b[0m: Agent Starting Run: 8w64fq52 with config:\n",
            "\u001b[34m\u001b[1mwandb\u001b[0m: \tbatch_size: 32\n",
            "\u001b[34m\u001b[1mwandb\u001b[0m: \tcell_type: gru\n",
            "\u001b[34m\u001b[1mwandb\u001b[0m: \tdecoder_embed_size: 27\n",
            "\u001b[34m\u001b[1mwandb\u001b[0m: \tdropout: 0.5\n",
            "\u001b[34m\u001b[1mwandb\u001b[0m: \tencoder_embed_size: 27\n",
            "\u001b[34m\u001b[1mwandb\u001b[0m: \tepochs: 60\n",
            "\u001b[34m\u001b[1mwandb\u001b[0m: \thidden_layer_size: 512\n",
            "\u001b[34m\u001b[1mwandb\u001b[0m: \tnum_decoder_layers: 1\n",
            "\u001b[34m\u001b[1mwandb\u001b[0m: \tnum_encoder_layers: 1\n",
            "\u001b[34m\u001b[1mwandb\u001b[0m: \tnum_hidden_layers: 10\n"
          ],
          "name": "stderr"
        },
        {
          "output_type": "display_data",
          "data": {
            "text/html": [
              "\n",
              "                Tracking run with wandb version 0.10.27<br/>\n",
              "                Syncing run <strong style=\"color:#cdcd00\">sage-sweep-20</strong> to <a href=\"https://wandb.ai\" target=\"_blank\">Weights & Biases</a> <a href=\"https://docs.wandb.com/integrations/jupyter.html\" target=\"_blank\">(Documentation)</a>.<br/>\n",
              "                Project page: <a href=\"https://wandb.ai/anshikag_2210/MachineTransliterator\" target=\"_blank\">https://wandb.ai/anshikag_2210/MachineTransliterator</a><br/>\n",
              "                Sweep page: <a href=\"https://wandb.ai/anshikag_2210/MachineTransliterator/sweeps/4qzxmg7y\" target=\"_blank\">https://wandb.ai/anshikag_2210/MachineTransliterator/sweeps/4qzxmg7y</a><br/>\n",
              "Run page: <a href=\"https://wandb.ai/anshikag_2210/MachineTransliterator/runs/8w64fq52\" target=\"_blank\">https://wandb.ai/anshikag_2210/MachineTransliterator/runs/8w64fq52</a><br/>\n",
              "                Run data is saved locally in <code>/root/.keras/datasets/dakshina_dataset_v1.0/hi/lexicons/wandb/run-20210428_190941-8w64fq52</code><br/><br/>\n",
              "            "
            ],
            "text/plain": [
              "<IPython.core.display.HTML object>"
            ]
          },
          "metadata": {
            "tags": []
          }
        },
        {
          "output_type": "stream",
          "text": [
            "Epoch 1/60\n",
            "313/313 [==============================] - 8s 15ms/step - loss: 2.1765 - accuracy: 0.6577 - val_loss: 1.2021 - val_accuracy: 0.7155\n"
          ],
          "name": "stdout"
        },
        {
          "output_type": "stream",
          "text": [
            "\u001b[34m\u001b[1mwandb\u001b[0m: \u001b[32m\u001b[41mERROR\u001b[0m Can't save model, h5py returned error: Unable to create link (name already exists)\n"
          ],
          "name": "stderr"
        },
        {
          "output_type": "stream",
          "text": [
            "Epoch 2/60\n",
            "313/313 [==============================] - 4s 14ms/step - loss: 1.1535 - accuracy: 0.7118 - val_loss: 1.1897 - val_accuracy: 0.7217\n",
            "Epoch 3/60\n",
            "313/313 [==============================] - 4s 12ms/step - loss: 1.1282 - accuracy: 0.7157 - val_loss: 1.1990 - val_accuracy: 0.7210\n",
            "Epoch 4/60\n",
            "313/313 [==============================] - 4s 12ms/step - loss: 1.1104 - accuracy: 0.7178 - val_loss: 1.2059 - val_accuracy: 0.7227\n",
            "Epoch 5/60\n",
            "313/313 [==============================] - 4s 12ms/step - loss: 1.0941 - accuracy: 0.7199 - val_loss: 1.2235 - val_accuracy: 0.7237\n",
            "Epoch 6/60\n",
            "313/313 [==============================] - 4s 12ms/step - loss: 1.0865 - accuracy: 0.7205 - val_loss: 1.2254 - val_accuracy: 0.7235\n",
            "Epoch 7/60\n",
            "313/313 [==============================] - 4s 12ms/step - loss: 1.0885 - accuracy: 0.7198 - val_loss: 1.2175 - val_accuracy: 0.7234\n",
            "Epoch 8/60\n",
            "313/313 [==============================] - 4s 12ms/step - loss: 1.0870 - accuracy: 0.7194 - val_loss: 1.2257 - val_accuracy: 0.7233\n",
            "Epoch 9/60\n",
            "313/313 [==============================] - 4s 12ms/step - loss: 1.0788 - accuracy: 0.7204 - val_loss: 1.2186 - val_accuracy: 0.7243\n",
            "Epoch 10/60\n",
            "313/313 [==============================] - 4s 12ms/step - loss: 1.0752 - accuracy: 0.7211 - val_loss: 1.2203 - val_accuracy: 0.7245\n",
            "Epoch 11/60\n",
            "313/313 [==============================] - 4s 12ms/step - loss: 1.0781 - accuracy: 0.7197 - val_loss: 1.2212 - val_accuracy: 0.7246\n",
            "Epoch 12/60\n",
            "313/313 [==============================] - 4s 13ms/step - loss: 1.0742 - accuracy: 0.7207 - val_loss: 1.2257 - val_accuracy: 0.7240\n",
            "Epoch 13/60\n",
            "313/313 [==============================] - 4s 12ms/step - loss: 1.0684 - accuracy: 0.7206 - val_loss: 1.2228 - val_accuracy: 0.7246\n",
            "Epoch 14/60\n",
            "313/313 [==============================] - 4s 12ms/step - loss: 1.0759 - accuracy: 0.7192 - val_loss: 1.2245 - val_accuracy: 0.7245\n",
            "Epoch 15/60\n",
            "313/313 [==============================] - 4s 12ms/step - loss: 1.0765 - accuracy: 0.7189 - val_loss: 1.2268 - val_accuracy: 0.7244\n",
            "Epoch 16/60\n",
            "313/313 [==============================] - 4s 12ms/step - loss: 1.0711 - accuracy: 0.7210 - val_loss: 1.2250 - val_accuracy: 0.7247\n",
            "Epoch 17/60\n",
            "313/313 [==============================] - 4s 13ms/step - loss: 1.0619 - accuracy: 0.7226 - val_loss: 1.2249 - val_accuracy: 0.7249\n",
            "Epoch 18/60\n",
            "313/313 [==============================] - 4s 13ms/step - loss: 1.0643 - accuracy: 0.7219 - val_loss: 1.2271 - val_accuracy: 0.7246\n",
            "Epoch 19/60\n",
            "313/313 [==============================] - 4s 12ms/step - loss: 1.0726 - accuracy: 0.7196 - val_loss: 1.2251 - val_accuracy: 0.7248\n",
            "Epoch 20/60\n",
            "313/313 [==============================] - 4s 13ms/step - loss: 1.0733 - accuracy: 0.7201 - val_loss: 1.2251 - val_accuracy: 0.7248\n",
            "Epoch 21/60\n",
            "313/313 [==============================] - 4s 13ms/step - loss: 1.0718 - accuracy: 0.7192 - val_loss: 1.2256 - val_accuracy: 0.7249\n",
            "Epoch 22/60\n",
            "313/313 [==============================] - 4s 13ms/step - loss: 1.0702 - accuracy: 0.7211 - val_loss: 1.1684 - val_accuracy: 0.7102\n",
            "Epoch 23/60\n",
            "313/313 [==============================] - 4s 13ms/step - loss: 1.0812 - accuracy: 0.7160 - val_loss: 1.2117 - val_accuracy: 0.7326\n",
            "Epoch 24/60\n",
            "313/313 [==============================] - 4s 12ms/step - loss: 0.9803 - accuracy: 0.7263 - val_loss: 1.1686 - val_accuracy: 0.7382\n",
            "Epoch 25/60\n",
            "313/313 [==============================] - 4s 12ms/step - loss: 0.9223 - accuracy: 0.7414 - val_loss: 1.1584 - val_accuracy: 0.7453\n",
            "Epoch 26/60\n",
            "313/313 [==============================] - 4s 12ms/step - loss: 0.8703 - accuracy: 0.7526 - val_loss: 1.1346 - val_accuracy: 0.7530\n",
            "Epoch 27/60\n",
            "313/313 [==============================] - 4s 12ms/step - loss: 0.8271 - accuracy: 0.7664 - val_loss: 1.1497 - val_accuracy: 0.7494\n",
            "Epoch 28/60\n",
            "313/313 [==============================] - 4s 13ms/step - loss: 0.7902 - accuracy: 0.7751 - val_loss: 1.1550 - val_accuracy: 0.7536\n",
            "Epoch 29/60\n",
            "313/313 [==============================] - 4s 12ms/step - loss: 0.7561 - accuracy: 0.7816 - val_loss: 1.1573 - val_accuracy: 0.7588\n",
            "Epoch 30/60\n",
            "313/313 [==============================] - 4s 12ms/step - loss: 0.7133 - accuracy: 0.7915 - val_loss: 1.1638 - val_accuracy: 0.7605\n",
            "Epoch 31/60\n",
            "313/313 [==============================] - 4s 12ms/step - loss: 0.6726 - accuracy: 0.8008 - val_loss: 1.1751 - val_accuracy: 0.7646\n",
            "Epoch 32/60\n",
            "313/313 [==============================] - 4s 12ms/step - loss: 0.6203 - accuracy: 0.8154 - val_loss: 1.1632 - val_accuracy: 0.7668\n",
            "Epoch 33/60\n",
            "313/313 [==============================] - 4s 12ms/step - loss: 0.5686 - accuracy: 0.8285 - val_loss: 1.1355 - val_accuracy: 0.7721\n",
            "Epoch 34/60\n",
            "313/313 [==============================] - 4s 12ms/step - loss: 0.5136 - accuracy: 0.8440 - val_loss: 1.1438 - val_accuracy: 0.7748\n",
            "Epoch 35/60\n",
            "313/313 [==============================] - 4s 12ms/step - loss: 0.4638 - accuracy: 0.8570 - val_loss: 1.1499 - val_accuracy: 0.7779\n",
            "Epoch 36/60\n",
            "313/313 [==============================] - 4s 12ms/step - loss: 0.4166 - accuracy: 0.8708 - val_loss: 1.1415 - val_accuracy: 0.7813\n",
            "Epoch 37/60\n",
            "313/313 [==============================] - 4s 12ms/step - loss: 0.3697 - accuracy: 0.8835 - val_loss: 1.1272 - val_accuracy: 0.7863\n",
            "Epoch 38/60\n",
            "313/313 [==============================] - 4s 12ms/step - loss: 0.3253 - accuracy: 0.8974 - val_loss: 1.1658 - val_accuracy: 0.7859\n",
            "Epoch 39/60\n",
            "313/313 [==============================] - 4s 12ms/step - loss: 0.2880 - accuracy: 0.9092 - val_loss: 1.1605 - val_accuracy: 0.7903\n",
            "Epoch 40/60\n",
            "313/313 [==============================] - 4s 12ms/step - loss: 0.2560 - accuracy: 0.9190 - val_loss: 1.1734 - val_accuracy: 0.7950\n",
            "Epoch 41/60\n",
            "313/313 [==============================] - 4s 12ms/step - loss: 0.2226 - accuracy: 0.9292 - val_loss: 1.1836 - val_accuracy: 0.7938\n",
            "Epoch 42/60\n",
            "313/313 [==============================] - 4s 13ms/step - loss: 0.1992 - accuracy: 0.9377 - val_loss: 1.1968 - val_accuracy: 0.7939\n",
            "Epoch 43/60\n",
            "313/313 [==============================] - 4s 13ms/step - loss: 0.1764 - accuracy: 0.9440 - val_loss: 1.2226 - val_accuracy: 0.7947\n",
            "Epoch 44/60\n",
            "313/313 [==============================] - 4s 13ms/step - loss: 0.1546 - accuracy: 0.9514 - val_loss: 1.2445 - val_accuracy: 0.7929\n",
            "Epoch 45/60\n",
            "313/313 [==============================] - 4s 13ms/step - loss: 0.1411 - accuracy: 0.9549 - val_loss: 1.2655 - val_accuracy: 0.7972\n",
            "Epoch 46/60\n",
            "313/313 [==============================] - 4s 13ms/step - loss: 0.1283 - accuracy: 0.9592 - val_loss: 1.2895 - val_accuracy: 0.7945\n",
            "Epoch 47/60\n",
            "313/313 [==============================] - 4s 13ms/step - loss: 0.1186 - accuracy: 0.9623 - val_loss: 1.2778 - val_accuracy: 0.7955\n",
            "Epoch 48/60\n",
            "313/313 [==============================] - 4s 13ms/step - loss: 0.1028 - accuracy: 0.9677 - val_loss: 1.3085 - val_accuracy: 0.7984\n",
            "Epoch 49/60\n",
            "313/313 [==============================] - 4s 12ms/step - loss: 0.0934 - accuracy: 0.9702 - val_loss: 1.3464 - val_accuracy: 0.7960\n",
            "Epoch 50/60\n",
            "313/313 [==============================] - 4s 13ms/step - loss: 0.0876 - accuracy: 0.9720 - val_loss: 1.3803 - val_accuracy: 0.7975\n",
            "Epoch 51/60\n",
            "313/313 [==============================] - 4s 12ms/step - loss: 0.0774 - accuracy: 0.9761 - val_loss: 1.3828 - val_accuracy: 0.7989\n",
            "Epoch 52/60\n",
            "313/313 [==============================] - 4s 12ms/step - loss: 0.0740 - accuracy: 0.9766 - val_loss: 1.4087 - val_accuracy: 0.7987\n",
            "Epoch 53/60\n",
            "313/313 [==============================] - 4s 12ms/step - loss: 0.0677 - accuracy: 0.9789 - val_loss: 1.4327 - val_accuracy: 0.7975\n",
            "Epoch 54/60\n",
            "313/313 [==============================] - 4s 13ms/step - loss: 0.0654 - accuracy: 0.9792 - val_loss: 1.4286 - val_accuracy: 0.7984\n",
            "Epoch 55/60\n",
            "313/313 [==============================] - 4s 13ms/step - loss: 0.0615 - accuracy: 0.9808 - val_loss: 1.4638 - val_accuracy: 0.7975\n",
            "Epoch 56/60\n",
            "313/313 [==============================] - 4s 12ms/step - loss: 0.0576 - accuracy: 0.9821 - val_loss: 1.4662 - val_accuracy: 0.7995\n",
            "Epoch 57/60\n",
            "313/313 [==============================] - 4s 13ms/step - loss: 0.0560 - accuracy: 0.9826 - val_loss: 1.5010 - val_accuracy: 0.7971\n",
            "Epoch 58/60\n",
            "313/313 [==============================] - 4s 13ms/step - loss: 0.0540 - accuracy: 0.9835 - val_loss: 1.5310 - val_accuracy: 0.7982\n",
            "Epoch 59/60\n",
            "313/313 [==============================] - 4s 13ms/step - loss: 0.0502 - accuracy: 0.9846 - val_loss: 1.5222 - val_accuracy: 0.7962\n",
            "Epoch 60/60\n",
            "313/313 [==============================] - 4s 12ms/step - loss: 0.0494 - accuracy: 0.9850 - val_loss: 1.5305 - val_accuracy: 0.7968\n"
          ],
          "name": "stdout"
        },
        {
          "output_type": "display_data",
          "data": {
            "text/html": [
              "<br/>Waiting for W&B process to finish, PID 4335<br/>Program ended successfully."
            ],
            "text/plain": [
              "<IPython.core.display.HTML object>"
            ]
          },
          "metadata": {
            "tags": []
          }
        },
        {
          "output_type": "display_data",
          "data": {
            "application/vnd.jupyter.widget-view+json": {
              "model_id": "8691eb4eb10c4a67b2337e1e91fff6e1",
              "version_minor": 0,
              "version_major": 2
            },
            "text/plain": [
              "VBox(children=(Label(value=' 72.95MB of 72.95MB uploaded (0.00MB deduped)\\r'), FloatProgress(value=1.0, max=1.…"
            ]
          },
          "metadata": {
            "tags": []
          }
        },
        {
          "output_type": "display_data",
          "data": {
            "text/html": [
              "Find user logs for this run at: <code>/root/.keras/datasets/dakshina_dataset_v1.0/hi/lexicons/wandb/run-20210428_190941-8w64fq52/logs/debug.log</code>"
            ],
            "text/plain": [
              "<IPython.core.display.HTML object>"
            ]
          },
          "metadata": {
            "tags": []
          }
        },
        {
          "output_type": "display_data",
          "data": {
            "text/html": [
              "Find internal logs for this run at: <code>/root/.keras/datasets/dakshina_dataset_v1.0/hi/lexicons/wandb/run-20210428_190941-8w64fq52/logs/debug-internal.log</code>"
            ],
            "text/plain": [
              "<IPython.core.display.HTML object>"
            ]
          },
          "metadata": {
            "tags": []
          }
        },
        {
          "output_type": "display_data",
          "data": {
            "text/html": [
              "<h3>Run summary:</h3><br/><style>\n",
              "    table.wandb td:nth-child(1) { padding: 0 10px; text-align: right }\n",
              "    </style><table class=\"wandb\">\n",
              "<tr><td>epoch</td><td>59</td></tr><tr><td>loss</td><td>0.05284</td></tr><tr><td>accuracy</td><td>0.98328</td></tr><tr><td>val_loss</td><td>1.53046</td></tr><tr><td>val_accuracy</td><td>0.7968</td></tr><tr><td>_runtime</td><td>243</td></tr><tr><td>_timestamp</td><td>1619637224</td></tr><tr><td>_step</td><td>59</td></tr><tr><td>best_val_loss</td><td>1.12723</td></tr><tr><td>best_epoch</td><td>36</td></tr></table>"
            ],
            "text/plain": [
              "<IPython.core.display.HTML object>"
            ]
          },
          "metadata": {
            "tags": []
          }
        },
        {
          "output_type": "display_data",
          "data": {
            "text/html": [
              "<h3>Run history:</h3><br/><style>\n",
              "    table.wandb td:nth-child(1) { padding: 0 10px; text-align: right }\n",
              "    </style><table class=\"wandb\">\n",
              "<tr><td>epoch</td><td>▁▁▁▁▂▂▂▂▂▃▃▃▃▃▃▄▄▄▄▄▅▅▅▅▅▅▆▆▆▆▆▆▇▇▇▇▇███</td></tr><tr><td>loss</td><td>█▆▆▆▆▆▆▆▆▆▆▆▆▆▆▆▅▅▄▄▄▄▃▃▂▂▂▂▂▂▁▁▁▁▁▁▁▁▁▁</td></tr><tr><td>accuracy</td><td>▁▂▂▂▂▂▂▂▂▂▂▂▂▂▂▂▂▃▃▃▄▄▅▅▆▆▆▇▇▇▇▇████████</td></tr><tr><td>val_loss</td><td>▂▂▂▃▃▃▃▃▃▃▃▃▃▃▂▂▂▁▁▂▂▂▁▁▁▂▂▂▃▃▄▄▅▅▆▆▇▇██</td></tr><tr><td>val_accuracy</td><td>▁▂▂▂▂▂▂▂▂▂▂▂▂▂▁▃▄▄▄▅▅▅▆▆▇▇███▇██████████</td></tr><tr><td>_runtime</td><td>▁▁▁▂▂▂▂▂▂▃▃▃▃▃▄▄▄▄▄▄▅▅▅▅▅▅▆▆▆▆▆▆▇▇▇▇▇███</td></tr><tr><td>_timestamp</td><td>▁▁▁▂▂▂▂▂▂▃▃▃▃▃▄▄▄▄▄▄▅▅▅▅▅▅▆▆▆▆▆▆▇▇▇▇▇███</td></tr><tr><td>_step</td><td>▁▁▁▁▂▂▂▂▂▃▃▃▃▃▃▄▄▄▄▄▅▅▅▅▅▅▆▆▆▆▆▆▇▇▇▇▇███</td></tr></table><br/>"
            ],
            "text/plain": [
              "<IPython.core.display.HTML object>"
            ]
          },
          "metadata": {
            "tags": []
          }
        },
        {
          "output_type": "display_data",
          "data": {
            "text/html": [
              "Synced 5 W&B file(s), 1 media file(s), 0 artifact file(s) and 1 other file(s)"
            ],
            "text/plain": [
              "<IPython.core.display.HTML object>"
            ]
          },
          "metadata": {
            "tags": []
          }
        },
        {
          "output_type": "display_data",
          "data": {
            "text/html": [
              "\n",
              "                    <br/>Synced <strong style=\"color:#cdcd00\">sage-sweep-20</strong>: <a href=\"https://wandb.ai/anshikag_2210/MachineTransliterator/runs/8w64fq52\" target=\"_blank\">https://wandb.ai/anshikag_2210/MachineTransliterator/runs/8w64fq52</a><br/>\n",
              "                "
            ],
            "text/plain": [
              "<IPython.core.display.HTML object>"
            ]
          },
          "metadata": {
            "tags": []
          }
        },
        {
          "output_type": "stream",
          "text": [
            "\u001b[34m\u001b[1mwandb\u001b[0m: Agent Starting Run: z20qgmee with config:\n",
            "\u001b[34m\u001b[1mwandb\u001b[0m: \tbatch_size: 128\n",
            "\u001b[34m\u001b[1mwandb\u001b[0m: \tcell_type: gru\n",
            "\u001b[34m\u001b[1mwandb\u001b[0m: \tdecoder_embed_size: 64\n",
            "\u001b[34m\u001b[1mwandb\u001b[0m: \tdropout: 0.01\n",
            "\u001b[34m\u001b[1mwandb\u001b[0m: \tencoder_embed_size: 27\n",
            "\u001b[34m\u001b[1mwandb\u001b[0m: \tepochs: 60\n",
            "\u001b[34m\u001b[1mwandb\u001b[0m: \thidden_layer_size: 512\n",
            "\u001b[34m\u001b[1mwandb\u001b[0m: \tnum_decoder_layers: 2\n",
            "\u001b[34m\u001b[1mwandb\u001b[0m: \tnum_encoder_layers: 1\n",
            "\u001b[34m\u001b[1mwandb\u001b[0m: \tnum_hidden_layers: 10\n"
          ],
          "name": "stderr"
        },
        {
          "output_type": "display_data",
          "data": {
            "text/html": [
              "\n",
              "                Tracking run with wandb version 0.10.27<br/>\n",
              "                Syncing run <strong style=\"color:#cdcd00\">dutiful-sweep-21</strong> to <a href=\"https://wandb.ai\" target=\"_blank\">Weights & Biases</a> <a href=\"https://docs.wandb.com/integrations/jupyter.html\" target=\"_blank\">(Documentation)</a>.<br/>\n",
              "                Project page: <a href=\"https://wandb.ai/anshikag_2210/MachineTransliterator\" target=\"_blank\">https://wandb.ai/anshikag_2210/MachineTransliterator</a><br/>\n",
              "                Sweep page: <a href=\"https://wandb.ai/anshikag_2210/MachineTransliterator/sweeps/4qzxmg7y\" target=\"_blank\">https://wandb.ai/anshikag_2210/MachineTransliterator/sweeps/4qzxmg7y</a><br/>\n",
              "Run page: <a href=\"https://wandb.ai/anshikag_2210/MachineTransliterator/runs/z20qgmee\" target=\"_blank\">https://wandb.ai/anshikag_2210/MachineTransliterator/runs/z20qgmee</a><br/>\n",
              "                Run data is saved locally in <code>/root/.keras/datasets/dakshina_dataset_v1.0/hi/lexicons/wandb/run-20210428_191352-z20qgmee</code><br/><br/>\n",
              "            "
            ],
            "text/plain": [
              "<IPython.core.display.HTML object>"
            ]
          },
          "metadata": {
            "tags": []
          }
        },
        {
          "output_type": "stream",
          "text": [
            "Epoch 1/60\n",
            "79/79 [==============================] - 8s 44ms/step - loss: 1.6447 - accuracy: 0.6500 - val_loss: 1.2359 - val_accuracy: 0.7213\n"
          ],
          "name": "stdout"
        },
        {
          "output_type": "stream",
          "text": [
            "\u001b[34m\u001b[1mwandb\u001b[0m: \u001b[32m\u001b[41mERROR\u001b[0m Can't save model, h5py returned error: Unable to create link (name already exists)\n"
          ],
          "name": "stderr"
        },
        {
          "output_type": "stream",
          "text": [
            "Epoch 2/60\n",
            "79/79 [==============================] - 2s 31ms/step - loss: 0.9823 - accuracy: 0.7285 - val_loss: 1.1963 - val_accuracy: 0.7393\n",
            "Epoch 3/60\n",
            "79/79 [==============================] - 2s 31ms/step - loss: 0.8951 - accuracy: 0.7434 - val_loss: 1.2007 - val_accuracy: 0.7431\n",
            "Epoch 4/60\n",
            "79/79 [==============================] - 2s 32ms/step - loss: 0.8691 - accuracy: 0.7499 - val_loss: 1.1824 - val_accuracy: 0.7474\n",
            "Epoch 5/60\n",
            "79/79 [==============================] - 2s 31ms/step - loss: 0.8265 - accuracy: 0.7604 - val_loss: 1.1835 - val_accuracy: 0.7508\n",
            "Epoch 6/60\n",
            "79/79 [==============================] - 2s 32ms/step - loss: 0.7932 - accuracy: 0.7680 - val_loss: 1.2067 - val_accuracy: 0.7464\n",
            "Epoch 7/60\n",
            "79/79 [==============================] - 3s 32ms/step - loss: 0.7580 - accuracy: 0.7786 - val_loss: 1.1802 - val_accuracy: 0.7567\n",
            "Epoch 8/60\n",
            "79/79 [==============================] - 3s 32ms/step - loss: 0.6906 - accuracy: 0.7968 - val_loss: 1.2276 - val_accuracy: 0.7558\n",
            "Epoch 9/60\n",
            "79/79 [==============================] - 2s 32ms/step - loss: 0.6484 - accuracy: 0.8056 - val_loss: 1.2448 - val_accuracy: 0.7539\n",
            "Epoch 10/60\n",
            "79/79 [==============================] - 2s 32ms/step - loss: 0.6046 - accuracy: 0.8184 - val_loss: 1.2788 - val_accuracy: 0.7555\n",
            "Epoch 11/60\n",
            "79/79 [==============================] - 3s 32ms/step - loss: 0.5763 - accuracy: 0.8257 - val_loss: 1.2770 - val_accuracy: 0.7548\n",
            "Epoch 12/60\n",
            "79/79 [==============================] - 2s 32ms/step - loss: 0.5278 - accuracy: 0.8406 - val_loss: 1.3176 - val_accuracy: 0.7542\n",
            "Epoch 13/60\n",
            "79/79 [==============================] - 3s 32ms/step - loss: 0.4940 - accuracy: 0.8499 - val_loss: 1.3305 - val_accuracy: 0.7510\n",
            "Epoch 14/60\n",
            "79/79 [==============================] - 2s 31ms/step - loss: 0.4665 - accuracy: 0.8574 - val_loss: 1.3562 - val_accuracy: 0.7539\n",
            "Epoch 15/60\n",
            "79/79 [==============================] - 3s 32ms/step - loss: 0.4400 - accuracy: 0.8658 - val_loss: 1.3922 - val_accuracy: 0.7554\n",
            "Epoch 16/60\n",
            "79/79 [==============================] - 3s 32ms/step - loss: 0.4230 - accuracy: 0.8709 - val_loss: 1.3872 - val_accuracy: 0.7545\n",
            "Epoch 17/60\n",
            "79/79 [==============================] - 3s 32ms/step - loss: 0.4015 - accuracy: 0.8775 - val_loss: 1.4136 - val_accuracy: 0.7573\n",
            "Epoch 18/60\n",
            "79/79 [==============================] - 3s 32ms/step - loss: 0.3772 - accuracy: 0.8848 - val_loss: 1.4145 - val_accuracy: 0.7587\n",
            "Epoch 19/60\n",
            "79/79 [==============================] - 3s 32ms/step - loss: 0.3598 - accuracy: 0.8897 - val_loss: 1.4606 - val_accuracy: 0.7586\n",
            "Epoch 20/60\n",
            "79/79 [==============================] - 3s 32ms/step - loss: 0.3371 - accuracy: 0.8953 - val_loss: 1.4302 - val_accuracy: 0.7595\n",
            "Epoch 21/60\n",
            "79/79 [==============================] - 2s 32ms/step - loss: 0.3316 - accuracy: 0.8963 - val_loss: 1.4913 - val_accuracy: 0.7579\n",
            "Epoch 22/60\n",
            "79/79 [==============================] - 2s 31ms/step - loss: 0.3213 - accuracy: 0.8986 - val_loss: 1.5191 - val_accuracy: 0.7598\n",
            "Epoch 23/60\n",
            "79/79 [==============================] - 2s 32ms/step - loss: 0.3056 - accuracy: 0.9028 - val_loss: 1.5028 - val_accuracy: 0.7588\n",
            "Epoch 24/60\n",
            "79/79 [==============================] - 2s 31ms/step - loss: 0.2896 - accuracy: 0.9082 - val_loss: 1.5326 - val_accuracy: 0.7595\n",
            "Epoch 25/60\n",
            "79/79 [==============================] - 3s 32ms/step - loss: 0.2802 - accuracy: 0.9103 - val_loss: 1.5727 - val_accuracy: 0.7609\n",
            "Epoch 26/60\n",
            "79/79 [==============================] - 2s 32ms/step - loss: 0.2792 - accuracy: 0.9100 - val_loss: 1.5541 - val_accuracy: 0.7612\n",
            "Epoch 27/60\n",
            "79/79 [==============================] - 2s 31ms/step - loss: 0.2613 - accuracy: 0.9154 - val_loss: 1.5956 - val_accuracy: 0.7595\n",
            "Epoch 28/60\n",
            "79/79 [==============================] - 2s 32ms/step - loss: 0.2563 - accuracy: 0.9175 - val_loss: 1.5647 - val_accuracy: 0.7620\n",
            "Epoch 29/60\n",
            "79/79 [==============================] - 2s 32ms/step - loss: 0.2382 - accuracy: 0.9234 - val_loss: 1.5721 - val_accuracy: 0.7635\n",
            "Epoch 30/60\n",
            "79/79 [==============================] - 3s 32ms/step - loss: 0.2275 - accuracy: 0.9265 - val_loss: 1.5877 - val_accuracy: 0.7630\n",
            "Epoch 31/60\n",
            "79/79 [==============================] - 2s 32ms/step - loss: 0.2177 - accuracy: 0.9301 - val_loss: 1.5981 - val_accuracy: 0.7663\n",
            "Epoch 32/60\n",
            "79/79 [==============================] - 3s 32ms/step - loss: 0.2088 - accuracy: 0.9328 - val_loss: 1.5949 - val_accuracy: 0.7638\n",
            "Epoch 33/60\n",
            "79/79 [==============================] - 2s 31ms/step - loss: 0.1996 - accuracy: 0.9350 - val_loss: 1.6208 - val_accuracy: 0.7668\n",
            "Epoch 34/60\n",
            "79/79 [==============================] - 2s 32ms/step - loss: 0.1860 - accuracy: 0.9397 - val_loss: 1.6300 - val_accuracy: 0.7679\n",
            "Epoch 35/60\n",
            "79/79 [==============================] - 2s 31ms/step - loss: 0.1786 - accuracy: 0.9420 - val_loss: 1.6483 - val_accuracy: 0.7685\n",
            "Epoch 36/60\n",
            "79/79 [==============================] - 2s 31ms/step - loss: 0.1672 - accuracy: 0.9451 - val_loss: 1.6535 - val_accuracy: 0.7675\n",
            "Epoch 37/60\n",
            "79/79 [==============================] - 2s 31ms/step - loss: 0.1608 - accuracy: 0.9471 - val_loss: 1.6676 - val_accuracy: 0.7701\n",
            "Epoch 38/60\n",
            "79/79 [==============================] - 2s 32ms/step - loss: 0.1594 - accuracy: 0.9478 - val_loss: 1.6716 - val_accuracy: 0.7701\n",
            "Epoch 39/60\n",
            "79/79 [==============================] - 3s 32ms/step - loss: 0.1478 - accuracy: 0.9515 - val_loss: 1.6646 - val_accuracy: 0.7698\n",
            "Epoch 40/60\n",
            "79/79 [==============================] - 2s 31ms/step - loss: 0.1429 - accuracy: 0.9528 - val_loss: 1.6688 - val_accuracy: 0.7696\n",
            "Epoch 41/60\n",
            "79/79 [==============================] - 2s 32ms/step - loss: 0.1338 - accuracy: 0.9563 - val_loss: 1.6647 - val_accuracy: 0.7699\n",
            "Epoch 42/60\n",
            "79/79 [==============================] - 3s 32ms/step - loss: 0.1250 - accuracy: 0.9586 - val_loss: 1.6770 - val_accuracy: 0.7715\n",
            "Epoch 43/60\n",
            "79/79 [==============================] - 2s 32ms/step - loss: 0.1202 - accuracy: 0.9606 - val_loss: 1.6828 - val_accuracy: 0.7716\n",
            "Epoch 44/60\n",
            "79/79 [==============================] - 2s 31ms/step - loss: 0.1130 - accuracy: 0.9630 - val_loss: 1.7100 - val_accuracy: 0.7717\n",
            "Epoch 45/60\n",
            "79/79 [==============================] - 3s 32ms/step - loss: 0.1151 - accuracy: 0.9619 - val_loss: 1.7310 - val_accuracy: 0.7723\n",
            "Epoch 46/60\n",
            "79/79 [==============================] - 3s 32ms/step - loss: 0.1060 - accuracy: 0.9644 - val_loss: 1.7442 - val_accuracy: 0.7701\n",
            "Epoch 47/60\n",
            "79/79 [==============================] - 2s 32ms/step - loss: 0.1024 - accuracy: 0.9660 - val_loss: 1.7291 - val_accuracy: 0.7712\n",
            "Epoch 48/60\n",
            "79/79 [==============================] - 3s 32ms/step - loss: 0.1050 - accuracy: 0.9651 - val_loss: 1.7186 - val_accuracy: 0.7720\n",
            "Epoch 49/60\n",
            "79/79 [==============================] - 2s 32ms/step - loss: 0.0936 - accuracy: 0.9690 - val_loss: 1.7643 - val_accuracy: 0.7731\n",
            "Epoch 50/60\n",
            "79/79 [==============================] - 2s 32ms/step - loss: 0.0872 - accuracy: 0.9711 - val_loss: 1.7505 - val_accuracy: 0.7717\n",
            "Epoch 51/60\n",
            "79/79 [==============================] - 3s 32ms/step - loss: 0.0842 - accuracy: 0.9718 - val_loss: 1.8097 - val_accuracy: 0.7725\n",
            "Epoch 52/60\n",
            "79/79 [==============================] - 3s 32ms/step - loss: 0.0918 - accuracy: 0.9699 - val_loss: 1.7714 - val_accuracy: 0.7729\n",
            "Epoch 53/60\n",
            "79/79 [==============================] - 3s 32ms/step - loss: 0.0801 - accuracy: 0.9736 - val_loss: 1.7665 - val_accuracy: 0.7727\n",
            "Epoch 54/60\n",
            "79/79 [==============================] - 3s 32ms/step - loss: 0.0774 - accuracy: 0.9740 - val_loss: 1.7912 - val_accuracy: 0.7733\n",
            "Epoch 55/60\n",
            "79/79 [==============================] - 2s 32ms/step - loss: 0.0831 - accuracy: 0.9721 - val_loss: 1.7813 - val_accuracy: 0.7738\n",
            "Epoch 56/60\n",
            "79/79 [==============================] - 3s 32ms/step - loss: 0.0713 - accuracy: 0.9767 - val_loss: 1.7656 - val_accuracy: 0.7739\n",
            "Epoch 57/60\n",
            "79/79 [==============================] - 3s 32ms/step - loss: 0.0635 - accuracy: 0.9787 - val_loss: 1.8154 - val_accuracy: 0.7741\n",
            "Epoch 58/60\n",
            "79/79 [==============================] - 2s 32ms/step - loss: 0.0643 - accuracy: 0.9786 - val_loss: 1.8085 - val_accuracy: 0.7720\n",
            "Epoch 59/60\n",
            "79/79 [==============================] - 3s 32ms/step - loss: 0.0690 - accuracy: 0.9766 - val_loss: 1.8131 - val_accuracy: 0.7719\n",
            "Epoch 60/60\n",
            "79/79 [==============================] - 3s 32ms/step - loss: 0.0616 - accuracy: 0.9797 - val_loss: 1.7951 - val_accuracy: 0.7759\n"
          ],
          "name": "stdout"
        },
        {
          "output_type": "display_data",
          "data": {
            "text/html": [
              "<br/>Waiting for W&B process to finish, PID 4596<br/>Program ended successfully."
            ],
            "text/plain": [
              "<IPython.core.display.HTML object>"
            ]
          },
          "metadata": {
            "tags": []
          }
        },
        {
          "output_type": "display_data",
          "data": {
            "application/vnd.jupyter.widget-view+json": {
              "model_id": "2a3e6109188444e29c7c59739a0adab0",
              "version_minor": 0,
              "version_major": 2
            },
            "text/plain": [
              "VBox(children=(Label(value=' 12.74MB of 12.74MB uploaded (0.00MB deduped)\\r'), FloatProgress(value=1.0, max=1.…"
            ]
          },
          "metadata": {
            "tags": []
          }
        },
        {
          "output_type": "display_data",
          "data": {
            "text/html": [
              "Find user logs for this run at: <code>/root/.keras/datasets/dakshina_dataset_v1.0/hi/lexicons/wandb/run-20210428_191352-z20qgmee/logs/debug.log</code>"
            ],
            "text/plain": [
              "<IPython.core.display.HTML object>"
            ]
          },
          "metadata": {
            "tags": []
          }
        },
        {
          "output_type": "display_data",
          "data": {
            "text/html": [
              "Find internal logs for this run at: <code>/root/.keras/datasets/dakshina_dataset_v1.0/hi/lexicons/wandb/run-20210428_191352-z20qgmee/logs/debug-internal.log</code>"
            ],
            "text/plain": [
              "<IPython.core.display.HTML object>"
            ]
          },
          "metadata": {
            "tags": []
          }
        },
        {
          "output_type": "display_data",
          "data": {
            "text/html": [
              "<h3>Run summary:</h3><br/><style>\n",
              "    table.wandb td:nth-child(1) { padding: 0 10px; text-align: right }\n",
              "    </style><table class=\"wandb\">\n",
              "<tr><td>epoch</td><td>59</td></tr><tr><td>loss</td><td>0.06207</td></tr><tr><td>accuracy</td><td>0.97896</td></tr><tr><td>val_loss</td><td>1.7951</td></tr><tr><td>val_accuracy</td><td>0.77592</td></tr><tr><td>_runtime</td><td>161</td></tr><tr><td>_timestamp</td><td>1619637393</td></tr><tr><td>_step</td><td>59</td></tr><tr><td>best_val_loss</td><td>1.18023</td></tr><tr><td>best_epoch</td><td>6</td></tr></table>"
            ],
            "text/plain": [
              "<IPython.core.display.HTML object>"
            ]
          },
          "metadata": {
            "tags": []
          }
        },
        {
          "output_type": "display_data",
          "data": {
            "text/html": [
              "<h3>Run history:</h3><br/><style>\n",
              "    table.wandb td:nth-child(1) { padding: 0 10px; text-align: right }\n",
              "    </style><table class=\"wandb\">\n",
              "<tr><td>epoch</td><td>▁▁▁▁▂▂▂▂▂▃▃▃▃▃▃▄▄▄▄▄▅▅▅▅▅▅▆▆▆▆▆▆▇▇▇▇▇███</td></tr><tr><td>loss</td><td>█▆▆▅▅▅▄▄▄▃▃▃▃▃▃▂▂▂▂▂▂▂▂▂▂▂▁▁▁▁▁▁▁▁▁▁▁▁▁▁</td></tr><tr><td>accuracy</td><td>▁▂▂▃▃▄▄▄▅▅▅▅▆▆▆▆▆▆▆▇▇▇▇▇▇▇▇▇████████████</td></tr><tr><td>val_loss</td><td>▂▁▁▁▁▂▂▂▃▃▃▄▄▄▅▅▅▅▅▅▆▆▆▆▆▆▆▆▇▇▇▇█▇██████</td></tr><tr><td>val_accuracy</td><td>▁▃▄▅▆▅▅▅▅▅▅▆▆▆▆▆▆▆▆▆▇▆▇▇▇▇▇▇▇▇▇▇█▇████▇█</td></tr><tr><td>_runtime</td><td>▁▁▁▂▂▂▂▂▂▃▃▃▃▃▄▄▄▄▄▄▅▅▅▅▅▅▆▆▆▆▆▆▇▇▇▇▇███</td></tr><tr><td>_timestamp</td><td>▁▁▁▂▂▂▂▂▂▃▃▃▃▃▄▄▄▄▄▄▅▅▅▅▅▅▆▆▆▆▆▆▇▇▇▇▇███</td></tr><tr><td>_step</td><td>▁▁▁▁▂▂▂▂▂▃▃▃▃▃▃▄▄▄▄▄▅▅▅▅▅▅▆▆▆▆▆▆▇▇▇▇▇███</td></tr></table><br/>"
            ],
            "text/plain": [
              "<IPython.core.display.HTML object>"
            ]
          },
          "metadata": {
            "tags": []
          }
        },
        {
          "output_type": "display_data",
          "data": {
            "text/html": [
              "Synced 5 W&B file(s), 1 media file(s), 0 artifact file(s) and 1 other file(s)"
            ],
            "text/plain": [
              "<IPython.core.display.HTML object>"
            ]
          },
          "metadata": {
            "tags": []
          }
        },
        {
          "output_type": "display_data",
          "data": {
            "text/html": [
              "\n",
              "                    <br/>Synced <strong style=\"color:#cdcd00\">dutiful-sweep-21</strong>: <a href=\"https://wandb.ai/anshikag_2210/MachineTransliterator/runs/z20qgmee\" target=\"_blank\">https://wandb.ai/anshikag_2210/MachineTransliterator/runs/z20qgmee</a><br/>\n",
              "                "
            ],
            "text/plain": [
              "<IPython.core.display.HTML object>"
            ]
          },
          "metadata": {
            "tags": []
          }
        },
        {
          "output_type": "stream",
          "text": [
            "\u001b[34m\u001b[1mwandb\u001b[0m: Agent Starting Run: 70k00khz with config:\n",
            "\u001b[34m\u001b[1mwandb\u001b[0m: \tbatch_size: 128\n",
            "\u001b[34m\u001b[1mwandb\u001b[0m: \tcell_type: lstm\n",
            "\u001b[34m\u001b[1mwandb\u001b[0m: \tdecoder_embed_size: 64\n",
            "\u001b[34m\u001b[1mwandb\u001b[0m: \tdropout: 0\n",
            "\u001b[34m\u001b[1mwandb\u001b[0m: \tencoder_embed_size: 27\n",
            "\u001b[34m\u001b[1mwandb\u001b[0m: \tepochs: 60\n",
            "\u001b[34m\u001b[1mwandb\u001b[0m: \thidden_layer_size: 128\n",
            "\u001b[34m\u001b[1mwandb\u001b[0m: \tnum_decoder_layers: 3\n",
            "\u001b[34m\u001b[1mwandb\u001b[0m: \tnum_encoder_layers: 2\n",
            "\u001b[34m\u001b[1mwandb\u001b[0m: \tnum_hidden_layers: 10\n"
          ],
          "name": "stderr"
        },
        {
          "output_type": "display_data",
          "data": {
            "text/html": [
              "\n",
              "                Tracking run with wandb version 0.10.27<br/>\n",
              "                Syncing run <strong style=\"color:#cdcd00\">smooth-sweep-22</strong> to <a href=\"https://wandb.ai\" target=\"_blank\">Weights & Biases</a> <a href=\"https://docs.wandb.com/integrations/jupyter.html\" target=\"_blank\">(Documentation)</a>.<br/>\n",
              "                Project page: <a href=\"https://wandb.ai/anshikag_2210/MachineTransliterator\" target=\"_blank\">https://wandb.ai/anshikag_2210/MachineTransliterator</a><br/>\n",
              "                Sweep page: <a href=\"https://wandb.ai/anshikag_2210/MachineTransliterator/sweeps/4qzxmg7y\" target=\"_blank\">https://wandb.ai/anshikag_2210/MachineTransliterator/sweeps/4qzxmg7y</a><br/>\n",
              "Run page: <a href=\"https://wandb.ai/anshikag_2210/MachineTransliterator/runs/70k00khz\" target=\"_blank\">https://wandb.ai/anshikag_2210/MachineTransliterator/runs/70k00khz</a><br/>\n",
              "                Run data is saved locally in <code>/root/.keras/datasets/dakshina_dataset_v1.0/hi/lexicons/wandb/run-20210428_191642-70k00khz</code><br/><br/>\n",
              "            "
            ],
            "text/plain": [
              "<IPython.core.display.HTML object>"
            ]
          },
          "metadata": {
            "tags": []
          }
        },
        {
          "output_type": "stream",
          "text": [
            "Epoch 1/60\n",
            "79/79 [==============================] - 10s 43ms/step - loss: 1.7183 - accuracy: 0.6576 - val_loss: 1.3236 - val_accuracy: 0.7152\n"
          ],
          "name": "stdout"
        },
        {
          "output_type": "stream",
          "text": [
            "\u001b[34m\u001b[1mwandb\u001b[0m: \u001b[32m\u001b[41mERROR\u001b[0m Can't save model, h5py returned error: Unable to create link (name already exists)\n"
          ],
          "name": "stderr"
        },
        {
          "output_type": "stream",
          "text": [
            "Epoch 2/60\n",
            "79/79 [==============================] - 2s 22ms/step - loss: 1.1216 - accuracy: 0.7181 - val_loss: 1.2278 - val_accuracy: 0.7228\n",
            "Epoch 3/60\n",
            "79/79 [==============================] - 2s 22ms/step - loss: 1.0324 - accuracy: 0.7248 - val_loss: 1.2157 - val_accuracy: 0.7271\n",
            "Epoch 4/60\n",
            "79/79 [==============================] - 2s 21ms/step - loss: 0.9539 - accuracy: 0.7374 - val_loss: 1.1389 - val_accuracy: 0.7384\n",
            "Epoch 5/60\n",
            "79/79 [==============================] - 2s 21ms/step - loss: 0.9185 - accuracy: 0.7406 - val_loss: 1.1286 - val_accuracy: 0.7406\n",
            "Epoch 6/60\n",
            "79/79 [==============================] - 2s 23ms/step - loss: 0.8984 - accuracy: 0.7464 - val_loss: 1.1139 - val_accuracy: 0.7463\n",
            "Epoch 7/60\n",
            "79/79 [==============================] - 2s 22ms/step - loss: 0.8559 - accuracy: 0.7598 - val_loss: 1.1155 - val_accuracy: 0.7478\n",
            "Epoch 8/60\n",
            "79/79 [==============================] - 2s 22ms/step - loss: 0.8301 - accuracy: 0.7637 - val_loss: 1.1102 - val_accuracy: 0.7495\n",
            "Epoch 9/60\n",
            "79/79 [==============================] - 2s 22ms/step - loss: 0.8122 - accuracy: 0.7676 - val_loss: 1.1020 - val_accuracy: 0.7513\n",
            "Epoch 10/60\n",
            "79/79 [==============================] - 2s 23ms/step - loss: 0.7776 - accuracy: 0.7780 - val_loss: 1.1725 - val_accuracy: 0.7360\n",
            "Epoch 11/60\n",
            "79/79 [==============================] - 2s 22ms/step - loss: 0.7739 - accuracy: 0.7784 - val_loss: 1.1303 - val_accuracy: 0.7507\n",
            "Epoch 12/60\n",
            "79/79 [==============================] - 2s 22ms/step - loss: 0.7425 - accuracy: 0.7863 - val_loss: 1.1145 - val_accuracy: 0.7524\n",
            "Epoch 13/60\n",
            "79/79 [==============================] - 2s 22ms/step - loss: 0.7227 - accuracy: 0.7904 - val_loss: 1.1598 - val_accuracy: 0.7439\n",
            "Epoch 14/60\n",
            "79/79 [==============================] - 2s 22ms/step - loss: 0.6999 - accuracy: 0.7970 - val_loss: 1.1049 - val_accuracy: 0.7570\n",
            "Epoch 15/60\n",
            "79/79 [==============================] - 2s 23ms/step - loss: 0.6844 - accuracy: 0.7993 - val_loss: 1.1099 - val_accuracy: 0.7531\n",
            "Epoch 16/60\n",
            "79/79 [==============================] - 2s 23ms/step - loss: 0.6633 - accuracy: 0.8043 - val_loss: 1.1062 - val_accuracy: 0.7568\n",
            "Epoch 17/60\n",
            "79/79 [==============================] - 2s 23ms/step - loss: 0.6427 - accuracy: 0.8111 - val_loss: 1.0913 - val_accuracy: 0.7571\n",
            "Epoch 18/60\n",
            "79/79 [==============================] - 2s 22ms/step - loss: 0.6180 - accuracy: 0.8174 - val_loss: 1.1239 - val_accuracy: 0.7497\n",
            "Epoch 19/60\n",
            "79/79 [==============================] - 2s 22ms/step - loss: 0.6036 - accuracy: 0.8208 - val_loss: 1.0702 - val_accuracy: 0.7618\n",
            "Epoch 20/60\n",
            "79/79 [==============================] - 2s 23ms/step - loss: 0.5888 - accuracy: 0.8254 - val_loss: 1.0545 - val_accuracy: 0.7659\n",
            "Epoch 21/60\n",
            "79/79 [==============================] - 2s 22ms/step - loss: 0.5619 - accuracy: 0.8331 - val_loss: 1.0963 - val_accuracy: 0.7559\n",
            "Epoch 22/60\n",
            "79/79 [==============================] - 2s 23ms/step - loss: 0.5449 - accuracy: 0.8376 - val_loss: 1.0593 - val_accuracy: 0.7671\n",
            "Epoch 23/60\n",
            "79/79 [==============================] - 2s 22ms/step - loss: 0.5209 - accuracy: 0.8444 - val_loss: 1.0643 - val_accuracy: 0.7687\n",
            "Epoch 24/60\n",
            "79/79 [==============================] - 2s 22ms/step - loss: 0.5076 - accuracy: 0.8481 - val_loss: 1.0743 - val_accuracy: 0.7621\n",
            "Epoch 25/60\n",
            "79/79 [==============================] - 2s 22ms/step - loss: 0.4881 - accuracy: 0.8527 - val_loss: 1.0336 - val_accuracy: 0.7721\n",
            "Epoch 26/60\n",
            "79/79 [==============================] - 2s 22ms/step - loss: 0.4689 - accuracy: 0.8599 - val_loss: 1.0564 - val_accuracy: 0.7672\n",
            "Epoch 27/60\n",
            "79/79 [==============================] - 2s 22ms/step - loss: 0.4509 - accuracy: 0.8652 - val_loss: 1.0610 - val_accuracy: 0.7703\n",
            "Epoch 28/60\n",
            "79/79 [==============================] - 2s 22ms/step - loss: 0.4273 - accuracy: 0.8724 - val_loss: 1.0635 - val_accuracy: 0.7705\n",
            "Epoch 29/60\n",
            "79/79 [==============================] - 2s 22ms/step - loss: 0.4069 - accuracy: 0.8771 - val_loss: 1.0678 - val_accuracy: 0.7706\n",
            "Epoch 30/60\n",
            "79/79 [==============================] - 2s 24ms/step - loss: 0.3994 - accuracy: 0.8800 - val_loss: 1.0449 - val_accuracy: 0.7723\n",
            "Epoch 31/60\n",
            "79/79 [==============================] - 2s 23ms/step - loss: 0.3778 - accuracy: 0.8885 - val_loss: 1.0318 - val_accuracy: 0.7752\n",
            "Epoch 32/60\n",
            "79/79 [==============================] - 2s 23ms/step - loss: 0.3590 - accuracy: 0.8927 - val_loss: 1.0491 - val_accuracy: 0.7739\n",
            "Epoch 33/60\n",
            "79/79 [==============================] - 2s 23ms/step - loss: 0.3435 - accuracy: 0.8979 - val_loss: 1.0161 - val_accuracy: 0.7805\n",
            "Epoch 34/60\n",
            "79/79 [==============================] - 2s 23ms/step - loss: 0.3337 - accuracy: 0.9005 - val_loss: 1.0377 - val_accuracy: 0.7771\n",
            "Epoch 35/60\n",
            "79/79 [==============================] - 2s 24ms/step - loss: 0.3164 - accuracy: 0.9070 - val_loss: 1.0350 - val_accuracy: 0.7812\n",
            "Epoch 36/60\n",
            "79/79 [==============================] - 2s 23ms/step - loss: 0.3052 - accuracy: 0.9096 - val_loss: 1.0536 - val_accuracy: 0.7775\n",
            "Epoch 37/60\n",
            "79/79 [==============================] - 2s 23ms/step - loss: 0.3027 - accuracy: 0.9097 - val_loss: 1.0642 - val_accuracy: 0.7795\n",
            "Epoch 38/60\n",
            "79/79 [==============================] - 2s 23ms/step - loss: 0.2871 - accuracy: 0.9164 - val_loss: 1.0505 - val_accuracy: 0.7805\n",
            "Epoch 39/60\n",
            "79/79 [==============================] - 2s 24ms/step - loss: 0.2741 - accuracy: 0.9188 - val_loss: 1.0507 - val_accuracy: 0.7816\n",
            "Epoch 40/60\n",
            "79/79 [==============================] - 2s 22ms/step - loss: 0.2581 - accuracy: 0.9247 - val_loss: 1.0514 - val_accuracy: 0.7848\n",
            "Epoch 41/60\n",
            "79/79 [==============================] - 2s 23ms/step - loss: 0.2565 - accuracy: 0.9245 - val_loss: 1.0522 - val_accuracy: 0.7871\n",
            "Epoch 42/60\n",
            "79/79 [==============================] - 2s 22ms/step - loss: 0.2368 - accuracy: 0.9315 - val_loss: 1.0783 - val_accuracy: 0.7796\n",
            "Epoch 43/60\n",
            "79/79 [==============================] - 2s 22ms/step - loss: 0.2338 - accuracy: 0.9319 - val_loss: 1.0861 - val_accuracy: 0.7831\n",
            "Epoch 44/60\n",
            "79/79 [==============================] - 2s 22ms/step - loss: 0.2207 - accuracy: 0.9359 - val_loss: 1.0633 - val_accuracy: 0.7869\n",
            "Epoch 45/60\n",
            "79/79 [==============================] - 2s 23ms/step - loss: 0.2133 - accuracy: 0.9377 - val_loss: 1.0862 - val_accuracy: 0.7849\n",
            "Epoch 46/60\n",
            "79/79 [==============================] - 2s 22ms/step - loss: 0.2020 - accuracy: 0.9429 - val_loss: 1.0611 - val_accuracy: 0.7890\n",
            "Epoch 47/60\n",
            "79/79 [==============================] - 2s 23ms/step - loss: 0.1914 - accuracy: 0.9461 - val_loss: 1.0882 - val_accuracy: 0.7848\n",
            "Epoch 48/60\n",
            "79/79 [==============================] - 2s 22ms/step - loss: 0.1854 - accuracy: 0.9472 - val_loss: 1.1216 - val_accuracy: 0.7844\n",
            "Epoch 49/60\n",
            "79/79 [==============================] - 2s 23ms/step - loss: 0.1763 - accuracy: 0.9506 - val_loss: 1.0988 - val_accuracy: 0.7899\n",
            "Epoch 50/60\n",
            "79/79 [==============================] - 2s 22ms/step - loss: 0.1705 - accuracy: 0.9522 - val_loss: 1.1054 - val_accuracy: 0.7887\n",
            "Epoch 51/60\n",
            "79/79 [==============================] - 2s 22ms/step - loss: 0.1587 - accuracy: 0.9560 - val_loss: 1.1188 - val_accuracy: 0.7886\n",
            "Epoch 52/60\n",
            "79/79 [==============================] - 2s 22ms/step - loss: 0.1543 - accuracy: 0.9576 - val_loss: 1.1247 - val_accuracy: 0.7865\n",
            "Epoch 53/60\n",
            "79/79 [==============================] - 2s 23ms/step - loss: 0.1469 - accuracy: 0.9603 - val_loss: 1.1255 - val_accuracy: 0.7882\n",
            "Epoch 54/60\n",
            "79/79 [==============================] - 2s 25ms/step - loss: 0.1393 - accuracy: 0.9629 - val_loss: 1.1277 - val_accuracy: 0.7884\n",
            "Epoch 55/60\n",
            "79/79 [==============================] - 2s 22ms/step - loss: 0.1326 - accuracy: 0.9652 - val_loss: 1.1496 - val_accuracy: 0.7887\n",
            "Epoch 56/60\n",
            "79/79 [==============================] - 2s 22ms/step - loss: 0.1265 - accuracy: 0.9666 - val_loss: 1.1412 - val_accuracy: 0.7891\n",
            "Epoch 57/60\n",
            "79/79 [==============================] - 2s 23ms/step - loss: 0.1230 - accuracy: 0.9675 - val_loss: 1.1621 - val_accuracy: 0.7871\n",
            "Epoch 58/60\n",
            "79/79 [==============================] - 2s 22ms/step - loss: 0.1190 - accuracy: 0.9688 - val_loss: 1.1675 - val_accuracy: 0.7890\n",
            "Epoch 59/60\n",
            "79/79 [==============================] - 2s 22ms/step - loss: 0.1124 - accuracy: 0.9704 - val_loss: 1.1813 - val_accuracy: 0.7877\n",
            "Epoch 60/60\n",
            "79/79 [==============================] - 2s 22ms/step - loss: 0.1055 - accuracy: 0.9727 - val_loss: 1.1884 - val_accuracy: 0.7889\n"
          ],
          "name": "stdout"
        },
        {
          "output_type": "display_data",
          "data": {
            "text/html": [
              "<br/>Waiting for W&B process to finish, PID 4846<br/>Program ended successfully."
            ],
            "text/plain": [
              "<IPython.core.display.HTML object>"
            ]
          },
          "metadata": {
            "tags": []
          }
        },
        {
          "output_type": "display_data",
          "data": {
            "application/vnd.jupyter.widget-view+json": {
              "model_id": "06e902a90a3e4191bd178b82596325d9",
              "version_minor": 0,
              "version_major": 2
            },
            "text/plain": [
              "VBox(children=(Label(value=' 2.28MB of 2.28MB uploaded (0.00MB deduped)\\r'), FloatProgress(value=1.0, max=1.0)…"
            ]
          },
          "metadata": {
            "tags": []
          }
        },
        {
          "output_type": "display_data",
          "data": {
            "text/html": [
              "Find user logs for this run at: <code>/root/.keras/datasets/dakshina_dataset_v1.0/hi/lexicons/wandb/run-20210428_191642-70k00khz/logs/debug.log</code>"
            ],
            "text/plain": [
              "<IPython.core.display.HTML object>"
            ]
          },
          "metadata": {
            "tags": []
          }
        },
        {
          "output_type": "display_data",
          "data": {
            "text/html": [
              "Find internal logs for this run at: <code>/root/.keras/datasets/dakshina_dataset_v1.0/hi/lexicons/wandb/run-20210428_191642-70k00khz/logs/debug-internal.log</code>"
            ],
            "text/plain": [
              "<IPython.core.display.HTML object>"
            ]
          },
          "metadata": {
            "tags": []
          }
        },
        {
          "output_type": "display_data",
          "data": {
            "text/html": [
              "<h3>Run summary:</h3><br/><style>\n",
              "    table.wandb td:nth-child(1) { padding: 0 10px; text-align: right }\n",
              "    </style><table class=\"wandb\">\n",
              "<tr><td>epoch</td><td>59</td></tr><tr><td>loss</td><td>0.1055</td></tr><tr><td>accuracy</td><td>0.97295</td></tr><tr><td>val_loss</td><td>1.18838</td></tr><tr><td>val_accuracy</td><td>0.78891</td></tr><tr><td>_runtime</td><td>120</td></tr><tr><td>_timestamp</td><td>1619637522</td></tr><tr><td>_step</td><td>59</td></tr><tr><td>best_val_loss</td><td>1.01611</td></tr><tr><td>best_epoch</td><td>32</td></tr></table>"
            ],
            "text/plain": [
              "<IPython.core.display.HTML object>"
            ]
          },
          "metadata": {
            "tags": []
          }
        },
        {
          "output_type": "display_data",
          "data": {
            "text/html": [
              "<h3>Run history:</h3><br/><style>\n",
              "    table.wandb td:nth-child(1) { padding: 0 10px; text-align: right }\n",
              "    </style><table class=\"wandb\">\n",
              "<tr><td>epoch</td><td>▁▁▁▁▂▂▂▂▂▃▃▃▃▃▃▄▄▄▄▄▅▅▅▅▅▅▆▆▆▆▆▆▇▇▇▇▇███</td></tr><tr><td>loss</td><td>█▇▆▆▅▅▅▅▄▄▄▄▄▄▃▃▃▃▃▃▃▂▂▂▂▂▂▂▂▂▂▁▁▁▁▁▁▁▁▁</td></tr><tr><td>accuracy</td><td>▁▂▂▂▃▃▃▃▃▄▄▄▄▄▅▅▅▅▅▆▆▆▆▆▆▇▇▇▇▇▇▇▇▇██████</td></tr><tr><td>val_loss</td><td>█▆▄▃▃▃▄▃▄▃▃▂▂▂▂▂▁▂▂▂▁▁▁▁▂▁▁▁▂▂▂▂▃▃▃▃▄▄▄▅</td></tr><tr><td>val_accuracy</td><td>▁▂▃▃▄▄▃▄▄▅▅▅▅▆▆▆▆▆▆▆▇▇▇▇▇▇██▇███████████</td></tr><tr><td>_runtime</td><td>▁▁▁▂▂▂▂▂▂▃▃▃▃▃▄▄▄▄▄▄▅▅▅▅▅▅▆▆▆▆▆▆▇▇▇▇▇███</td></tr><tr><td>_timestamp</td><td>▁▁▁▂▂▂▂▂▂▃▃▃▃▃▄▄▄▄▄▄▅▅▅▅▅▅▆▆▆▆▆▆▇▇▇▇▇███</td></tr><tr><td>_step</td><td>▁▁▁▁▂▂▂▂▂▃▃▃▃▃▃▄▄▄▄▄▅▅▅▅▅▅▆▆▆▆▆▆▇▇▇▇▇███</td></tr></table><br/>"
            ],
            "text/plain": [
              "<IPython.core.display.HTML object>"
            ]
          },
          "metadata": {
            "tags": []
          }
        },
        {
          "output_type": "display_data",
          "data": {
            "text/html": [
              "Synced 5 W&B file(s), 1 media file(s), 0 artifact file(s) and 1 other file(s)"
            ],
            "text/plain": [
              "<IPython.core.display.HTML object>"
            ]
          },
          "metadata": {
            "tags": []
          }
        },
        {
          "output_type": "display_data",
          "data": {
            "text/html": [
              "\n",
              "                    <br/>Synced <strong style=\"color:#cdcd00\">smooth-sweep-22</strong>: <a href=\"https://wandb.ai/anshikag_2210/MachineTransliterator/runs/70k00khz\" target=\"_blank\">https://wandb.ai/anshikag_2210/MachineTransliterator/runs/70k00khz</a><br/>\n",
              "                "
            ],
            "text/plain": [
              "<IPython.core.display.HTML object>"
            ]
          },
          "metadata": {
            "tags": []
          }
        },
        {
          "output_type": "stream",
          "text": [
            "\u001b[34m\u001b[1mwandb\u001b[0m: Agent Starting Run: 0oj4n2ng with config:\n",
            "\u001b[34m\u001b[1mwandb\u001b[0m: \tbatch_size: 32\n",
            "\u001b[34m\u001b[1mwandb\u001b[0m: \tcell_type: gru\n",
            "\u001b[34m\u001b[1mwandb\u001b[0m: \tdecoder_embed_size: 64\n",
            "\u001b[34m\u001b[1mwandb\u001b[0m: \tdropout: 0.01\n",
            "\u001b[34m\u001b[1mwandb\u001b[0m: \tencoder_embed_size: 27\n",
            "\u001b[34m\u001b[1mwandb\u001b[0m: \tepochs: 60\n",
            "\u001b[34m\u001b[1mwandb\u001b[0m: \thidden_layer_size: 128\n",
            "\u001b[34m\u001b[1mwandb\u001b[0m: \tnum_decoder_layers: 1\n",
            "\u001b[34m\u001b[1mwandb\u001b[0m: \tnum_encoder_layers: 4\n",
            "\u001b[34m\u001b[1mwandb\u001b[0m: \tnum_hidden_layers: 10\n"
          ],
          "name": "stderr"
        },
        {
          "output_type": "display_data",
          "data": {
            "text/html": [
              "\n",
              "                Tracking run with wandb version 0.10.27<br/>\n",
              "                Syncing run <strong style=\"color:#cdcd00\">dark-sweep-23</strong> to <a href=\"https://wandb.ai\" target=\"_blank\">Weights & Biases</a> <a href=\"https://docs.wandb.com/integrations/jupyter.html\" target=\"_blank\">(Documentation)</a>.<br/>\n",
              "                Project page: <a href=\"https://wandb.ai/anshikag_2210/MachineTransliterator\" target=\"_blank\">https://wandb.ai/anshikag_2210/MachineTransliterator</a><br/>\n",
              "                Sweep page: <a href=\"https://wandb.ai/anshikag_2210/MachineTransliterator/sweeps/4qzxmg7y\" target=\"_blank\">https://wandb.ai/anshikag_2210/MachineTransliterator/sweeps/4qzxmg7y</a><br/>\n",
              "Run page: <a href=\"https://wandb.ai/anshikag_2210/MachineTransliterator/runs/0oj4n2ng\" target=\"_blank\">https://wandb.ai/anshikag_2210/MachineTransliterator/runs/0oj4n2ng</a><br/>\n",
              "                Run data is saved locally in <code>/root/.keras/datasets/dakshina_dataset_v1.0/hi/lexicons/wandb/run-20210428_191855-0oj4n2ng</code><br/><br/>\n",
              "            "
            ],
            "text/plain": [
              "<IPython.core.display.HTML object>"
            ]
          },
          "metadata": {
            "tags": []
          }
        },
        {
          "output_type": "stream",
          "text": [
            "Epoch 1/60\n",
            "313/313 [==============================] - 13s 23ms/step - loss: 1.3176 - accuracy: 0.6997 - val_loss: 1.1722 - val_accuracy: 0.7363\n"
          ],
          "name": "stdout"
        },
        {
          "output_type": "stream",
          "text": [
            "\u001b[34m\u001b[1mwandb\u001b[0m: \u001b[32m\u001b[41mERROR\u001b[0m Can't save model, h5py returned error: Unable to create link (name already exists)\n"
          ],
          "name": "stderr"
        },
        {
          "output_type": "stream",
          "text": [
            "Epoch 2/60\n",
            "313/313 [==============================] - 6s 18ms/step - loss: 0.9320 - accuracy: 0.7363 - val_loss: 1.1775 - val_accuracy: 0.7388\n",
            "Epoch 3/60\n",
            "313/313 [==============================] - 5s 17ms/step - loss: 0.8993 - accuracy: 0.7422 - val_loss: 1.1811 - val_accuracy: 0.7396\n",
            "Epoch 4/60\n",
            "313/313 [==============================] - 5s 17ms/step - loss: 0.8705 - accuracy: 0.7488 - val_loss: 1.1891 - val_accuracy: 0.7406\n",
            "Epoch 5/60\n",
            "313/313 [==============================] - 5s 17ms/step - loss: 0.8468 - accuracy: 0.7540 - val_loss: 1.1892 - val_accuracy: 0.7381\n",
            "Epoch 6/60\n",
            "313/313 [==============================] - 5s 16ms/step - loss: 0.8319 - accuracy: 0.7577 - val_loss: 1.1988 - val_accuracy: 0.7386\n",
            "Epoch 7/60\n",
            "313/313 [==============================] - 5s 17ms/step - loss: 0.8090 - accuracy: 0.7638 - val_loss: 1.2029 - val_accuracy: 0.7400\n",
            "Epoch 8/60\n",
            "313/313 [==============================] - 5s 17ms/step - loss: 0.7931 - accuracy: 0.7670 - val_loss: 1.2153 - val_accuracy: 0.7404\n",
            "Epoch 9/60\n",
            "313/313 [==============================] - 5s 17ms/step - loss: 0.7735 - accuracy: 0.7725 - val_loss: 1.2286 - val_accuracy: 0.7411\n",
            "Epoch 10/60\n",
            "313/313 [==============================] - 5s 17ms/step - loss: 0.7598 - accuracy: 0.7762 - val_loss: 1.2325 - val_accuracy: 0.7400\n",
            "Epoch 11/60\n",
            "313/313 [==============================] - 5s 17ms/step - loss: 0.7402 - accuracy: 0.7810 - val_loss: 1.2421 - val_accuracy: 0.7392\n",
            "Epoch 12/60\n",
            "313/313 [==============================] - 5s 17ms/step - loss: 0.7268 - accuracy: 0.7850 - val_loss: 1.2558 - val_accuracy: 0.7398\n",
            "Epoch 13/60\n",
            "313/313 [==============================] - 5s 17ms/step - loss: 0.7106 - accuracy: 0.7893 - val_loss: 1.2748 - val_accuracy: 0.7378\n",
            "Epoch 14/60\n",
            "313/313 [==============================] - 5s 16ms/step - loss: 0.6979 - accuracy: 0.7929 - val_loss: 1.2891 - val_accuracy: 0.7394\n",
            "Epoch 15/60\n",
            "313/313 [==============================] - 5s 17ms/step - loss: 0.6863 - accuracy: 0.7960 - val_loss: 1.2929 - val_accuracy: 0.7378\n",
            "Epoch 16/60\n",
            "313/313 [==============================] - 5s 17ms/step - loss: 0.6744 - accuracy: 0.7989 - val_loss: 1.3081 - val_accuracy: 0.7384\n",
            "Epoch 17/60\n",
            "313/313 [==============================] - 5s 17ms/step - loss: 0.6653 - accuracy: 0.8007 - val_loss: 1.3257 - val_accuracy: 0.7377\n",
            "Epoch 18/60\n",
            "313/313 [==============================] - 5s 17ms/step - loss: 0.6527 - accuracy: 0.8045 - val_loss: 1.3402 - val_accuracy: 0.7375\n",
            "Epoch 19/60\n",
            "313/313 [==============================] - 5s 17ms/step - loss: 0.6417 - accuracy: 0.8076 - val_loss: 1.3533 - val_accuracy: 0.7350\n",
            "Epoch 20/60\n",
            "313/313 [==============================] - 5s 17ms/step - loss: 0.6372 - accuracy: 0.8083 - val_loss: 1.3571 - val_accuracy: 0.7369\n",
            "Epoch 21/60\n",
            "313/313 [==============================] - 5s 17ms/step - loss: 0.6251 - accuracy: 0.8112 - val_loss: 1.3741 - val_accuracy: 0.7365\n",
            "Epoch 22/60\n",
            "313/313 [==============================] - 5s 17ms/step - loss: 0.6162 - accuracy: 0.8141 - val_loss: 1.3836 - val_accuracy: 0.7355\n",
            "Epoch 23/60\n",
            "313/313 [==============================] - 5s 17ms/step - loss: 0.6082 - accuracy: 0.8164 - val_loss: 1.3983 - val_accuracy: 0.7360\n",
            "Epoch 24/60\n",
            "313/313 [==============================] - 5s 16ms/step - loss: 0.6051 - accuracy: 0.8186 - val_loss: 1.4126 - val_accuracy: 0.7365\n",
            "Epoch 25/60\n",
            "313/313 [==============================] - 5s 17ms/step - loss: 0.5951 - accuracy: 0.8194 - val_loss: 1.4250 - val_accuracy: 0.7356\n",
            "Epoch 26/60\n",
            "313/313 [==============================] - 5s 17ms/step - loss: 0.5911 - accuracy: 0.8212 - val_loss: 1.4342 - val_accuracy: 0.7347\n",
            "Epoch 27/60\n",
            "313/313 [==============================] - 5s 16ms/step - loss: 0.5849 - accuracy: 0.8217 - val_loss: 1.4464 - val_accuracy: 0.7342\n",
            "Epoch 28/60\n",
            "313/313 [==============================] - 5s 17ms/step - loss: 0.5771 - accuracy: 0.8230 - val_loss: 1.4543 - val_accuracy: 0.7363\n",
            "Epoch 29/60\n",
            "313/313 [==============================] - 5s 17ms/step - loss: 0.5464 - accuracy: 0.8369 - val_loss: 1.4697 - val_accuracy: 0.7366\n",
            "Epoch 30/60\n",
            "313/313 [==============================] - 5s 17ms/step - loss: 0.5369 - accuracy: 0.8388 - val_loss: 1.4950 - val_accuracy: 0.7354\n",
            "Epoch 31/60\n",
            "313/313 [==============================] - 5s 17ms/step - loss: 0.5306 - accuracy: 0.8409 - val_loss: 1.5012 - val_accuracy: 0.7369\n",
            "Epoch 32/60\n",
            "313/313 [==============================] - 5s 17ms/step - loss: 0.5177 - accuracy: 0.8443 - val_loss: 1.4944 - val_accuracy: 0.7369\n",
            "Epoch 33/60\n",
            "313/313 [==============================] - 5s 17ms/step - loss: 0.5034 - accuracy: 0.8489 - val_loss: 1.5082 - val_accuracy: 0.7382\n",
            "Epoch 34/60\n",
            "313/313 [==============================] - 5s 17ms/step - loss: 0.4914 - accuracy: 0.8525 - val_loss: 1.5063 - val_accuracy: 0.7384\n",
            "Epoch 35/60\n",
            "313/313 [==============================] - 5s 17ms/step - loss: 0.4793 - accuracy: 0.8557 - val_loss: 1.5169 - val_accuracy: 0.7386\n",
            "Epoch 36/60\n",
            "313/313 [==============================] - 5s 17ms/step - loss: 0.4768 - accuracy: 0.8588 - val_loss: 1.5069 - val_accuracy: 0.7391\n",
            "Epoch 37/60\n",
            "313/313 [==============================] - 5s 17ms/step - loss: 0.4569 - accuracy: 0.8621 - val_loss: 1.5097 - val_accuracy: 0.7391\n",
            "Epoch 38/60\n",
            "313/313 [==============================] - 5s 17ms/step - loss: 0.4480 - accuracy: 0.8651 - val_loss: 1.5199 - val_accuracy: 0.7405\n",
            "Epoch 39/60\n",
            "313/313 [==============================] - 5s 17ms/step - loss: 0.4431 - accuracy: 0.8660 - val_loss: 1.5332 - val_accuracy: 0.7411\n",
            "Epoch 40/60\n",
            "313/313 [==============================] - 5s 17ms/step - loss: 0.4332 - accuracy: 0.8678 - val_loss: 1.5380 - val_accuracy: 0.7400\n",
            "Epoch 41/60\n",
            "313/313 [==============================] - 5s 17ms/step - loss: 0.4291 - accuracy: 0.8691 - val_loss: 1.5292 - val_accuracy: 0.7403\n",
            "Epoch 42/60\n",
            "313/313 [==============================] - 5s 17ms/step - loss: 0.4222 - accuracy: 0.8709 - val_loss: 1.5328 - val_accuracy: 0.7409\n",
            "Epoch 43/60\n",
            "313/313 [==============================] - 5s 17ms/step - loss: 0.4201 - accuracy: 0.8717 - val_loss: 1.5566 - val_accuracy: 0.7411\n",
            "Epoch 44/60\n",
            "313/313 [==============================] - 5s 17ms/step - loss: 0.4108 - accuracy: 0.8733 - val_loss: 1.5509 - val_accuracy: 0.7410\n",
            "Epoch 45/60\n",
            "313/313 [==============================] - 5s 18ms/step - loss: 0.4053 - accuracy: 0.8748 - val_loss: 1.5608 - val_accuracy: 0.7413\n",
            "Epoch 46/60\n",
            "313/313 [==============================] - 5s 17ms/step - loss: 0.4023 - accuracy: 0.8756 - val_loss: 1.5792 - val_accuracy: 0.7413\n",
            "Epoch 47/60\n",
            "313/313 [==============================] - 5s 17ms/step - loss: 0.3985 - accuracy: 0.8774 - val_loss: 1.5907 - val_accuracy: 0.7406\n",
            "Epoch 48/60\n",
            "313/313 [==============================] - 5s 17ms/step - loss: 0.3954 - accuracy: 0.8768 - val_loss: 1.5925 - val_accuracy: 0.7404\n",
            "Epoch 49/60\n",
            "313/313 [==============================] - 5s 17ms/step - loss: 0.3890 - accuracy: 0.8786 - val_loss: 1.6002 - val_accuracy: 0.7416\n",
            "Epoch 50/60\n",
            "313/313 [==============================] - 5s 17ms/step - loss: 0.3872 - accuracy: 0.8793 - val_loss: 1.6091 - val_accuracy: 0.7404\n",
            "Epoch 51/60\n",
            "313/313 [==============================] - 5s 17ms/step - loss: 0.3840 - accuracy: 0.8808 - val_loss: 1.6111 - val_accuracy: 0.7414\n",
            "Epoch 52/60\n",
            "313/313 [==============================] - 5s 17ms/step - loss: 0.3811 - accuracy: 0.8815 - val_loss: 1.6281 - val_accuracy: 0.7404\n",
            "Epoch 53/60\n",
            "313/313 [==============================] - 5s 17ms/step - loss: 0.3748 - accuracy: 0.8825 - val_loss: 1.6175 - val_accuracy: 0.7413\n",
            "Epoch 54/60\n",
            "313/313 [==============================] - 5s 17ms/step - loss: 0.3757 - accuracy: 0.8835 - val_loss: 1.6314 - val_accuracy: 0.7415\n",
            "Epoch 55/60\n",
            "313/313 [==============================] - 5s 17ms/step - loss: 0.3672 - accuracy: 0.8850 - val_loss: 1.6348 - val_accuracy: 0.7417\n",
            "Epoch 56/60\n",
            "313/313 [==============================] - 5s 17ms/step - loss: 0.3615 - accuracy: 0.8873 - val_loss: 1.6578 - val_accuracy: 0.7415\n",
            "Epoch 57/60\n",
            "313/313 [==============================] - 5s 17ms/step - loss: 0.3628 - accuracy: 0.8861 - val_loss: 1.6747 - val_accuracy: 0.7420\n",
            "Epoch 58/60\n",
            "313/313 [==============================] - 5s 17ms/step - loss: 0.3579 - accuracy: 0.8878 - val_loss: 1.6690 - val_accuracy: 0.7416\n",
            "Epoch 59/60\n",
            "313/313 [==============================] - 5s 17ms/step - loss: 0.3550 - accuracy: 0.8878 - val_loss: 1.6670 - val_accuracy: 0.7411\n",
            "Epoch 60/60\n",
            "313/313 [==============================] - 5s 17ms/step - loss: 0.3538 - accuracy: 0.8886 - val_loss: 1.6775 - val_accuracy: 0.7415\n"
          ],
          "name": "stdout"
        },
        {
          "output_type": "display_data",
          "data": {
            "text/html": [
              "<br/>Waiting for W&B process to finish, PID 5088<br/>Program ended successfully."
            ],
            "text/plain": [
              "<IPython.core.display.HTML object>"
            ]
          },
          "metadata": {
            "tags": []
          }
        },
        {
          "output_type": "display_data",
          "data": {
            "application/vnd.jupyter.widget-view+json": {
              "model_id": "bd2715b580e447e9a6bfc7c35927553f",
              "version_minor": 0,
              "version_major": 2
            },
            "text/plain": [
              "VBox(children=(Label(value=' 68.20MB of 68.20MB uploaded (0.00MB deduped)\\r'), FloatProgress(value=1.0, max=1.…"
            ]
          },
          "metadata": {
            "tags": []
          }
        },
        {
          "output_type": "display_data",
          "data": {
            "text/html": [
              "Find user logs for this run at: <code>/root/.keras/datasets/dakshina_dataset_v1.0/hi/lexicons/wandb/run-20210428_191855-0oj4n2ng/logs/debug.log</code>"
            ],
            "text/plain": [
              "<IPython.core.display.HTML object>"
            ]
          },
          "metadata": {
            "tags": []
          }
        },
        {
          "output_type": "display_data",
          "data": {
            "text/html": [
              "Find internal logs for this run at: <code>/root/.keras/datasets/dakshina_dataset_v1.0/hi/lexicons/wandb/run-20210428_191855-0oj4n2ng/logs/debug-internal.log</code>"
            ],
            "text/plain": [
              "<IPython.core.display.HTML object>"
            ]
          },
          "metadata": {
            "tags": []
          }
        },
        {
          "output_type": "display_data",
          "data": {
            "text/html": [
              "<h3>Run summary:</h3><br/><style>\n",
              "    table.wandb td:nth-child(1) { padding: 0 10px; text-align: right }\n",
              "    </style><table class=\"wandb\">\n",
              "<tr><td>epoch</td><td>59</td></tr><tr><td>loss</td><td>0.35518</td></tr><tr><td>accuracy</td><td>0.88801</td></tr><tr><td>val_loss</td><td>1.67752</td></tr><tr><td>val_accuracy</td><td>0.74149</td></tr><tr><td>_runtime</td><td>330</td></tr><tr><td>_timestamp</td><td>1619637865</td></tr><tr><td>_step</td><td>59</td></tr><tr><td>best_val_loss</td><td>1.17216</td></tr><tr><td>best_epoch</td><td>0</td></tr></table>"
            ],
            "text/plain": [
              "<IPython.core.display.HTML object>"
            ]
          },
          "metadata": {
            "tags": []
          }
        },
        {
          "output_type": "display_data",
          "data": {
            "text/html": [
              "<h3>Run history:</h3><br/><style>\n",
              "    table.wandb td:nth-child(1) { padding: 0 10px; text-align: right }\n",
              "    </style><table class=\"wandb\">\n",
              "<tr><td>epoch</td><td>▁▁▁▁▂▂▂▂▂▃▃▃▃▃▃▄▄▄▄▄▅▅▅▅▅▅▆▆▆▆▆▆▇▇▇▇▇███</td></tr><tr><td>loss</td><td>█▇▆▆▅▅▅▅▅▄▄▄▄▄▄▄▃▃▃▃▃▃▂▂▂▂▂▂▂▂▂▁▁▁▁▁▁▁▁▁</td></tr><tr><td>accuracy</td><td>▁▂▂▂▃▃▃▃▄▄▄▄▅▅▅▅▅▅▅▆▆▆▆▇▇▇▇▇▇▇▇▇████████</td></tr><tr><td>val_loss</td><td>▁▁▁▁▁▂▂▂▂▃▃▃▄▄▄▄▅▅▅▅▆▅▆▆▆▆▆▆▆▆▇▇▇▇▇▇▇███</td></tr><tr><td>val_accuracy</td><td>▃▅▇▄▆▇▆▆▄▆▅▄▁▃▂▂▂▁▃▃▃▃▅▅▅▇▆▇▇▇█▇█▇▇█████</td></tr><tr><td>_runtime</td><td>▁▁▁▂▂▂▂▂▂▃▃▃▃▃▄▄▄▄▄▄▅▅▅▅▅▅▆▆▆▆▆▆▇▇▇▇▇███</td></tr><tr><td>_timestamp</td><td>▁▁▁▂▂▂▂▂▂▃▃▃▃▃▄▄▄▄▄▄▅▅▅▅▅▅▆▆▆▆▆▆▇▇▇▇▇███</td></tr><tr><td>_step</td><td>▁▁▁▁▂▂▂▂▂▃▃▃▃▃▃▄▄▄▄▄▅▅▅▅▅▅▆▆▆▆▆▆▇▇▇▇▇███</td></tr></table><br/>"
            ],
            "text/plain": [
              "<IPython.core.display.HTML object>"
            ]
          },
          "metadata": {
            "tags": []
          }
        },
        {
          "output_type": "display_data",
          "data": {
            "text/html": [
              "Synced 5 W&B file(s), 1 media file(s), 0 artifact file(s) and 1 other file(s)"
            ],
            "text/plain": [
              "<IPython.core.display.HTML object>"
            ]
          },
          "metadata": {
            "tags": []
          }
        },
        {
          "output_type": "display_data",
          "data": {
            "text/html": [
              "\n",
              "                    <br/>Synced <strong style=\"color:#cdcd00\">dark-sweep-23</strong>: <a href=\"https://wandb.ai/anshikag_2210/MachineTransliterator/runs/0oj4n2ng\" target=\"_blank\">https://wandb.ai/anshikag_2210/MachineTransliterator/runs/0oj4n2ng</a><br/>\n",
              "                "
            ],
            "text/plain": [
              "<IPython.core.display.HTML object>"
            ]
          },
          "metadata": {
            "tags": []
          }
        },
        {
          "output_type": "stream",
          "text": [
            "\u001b[34m\u001b[1mwandb\u001b[0m: Agent Starting Run: 2bp7w7j5 with config:\n",
            "\u001b[34m\u001b[1mwandb\u001b[0m: \tbatch_size: 128\n",
            "\u001b[34m\u001b[1mwandb\u001b[0m: \tcell_type: gru\n",
            "\u001b[34m\u001b[1mwandb\u001b[0m: \tdecoder_embed_size: 64\n",
            "\u001b[34m\u001b[1mwandb\u001b[0m: \tdropout: 0\n",
            "\u001b[34m\u001b[1mwandb\u001b[0m: \tencoder_embed_size: 64\n",
            "\u001b[34m\u001b[1mwandb\u001b[0m: \tepochs: 30\n",
            "\u001b[34m\u001b[1mwandb\u001b[0m: \thidden_layer_size: 128\n",
            "\u001b[34m\u001b[1mwandb\u001b[0m: \tnum_decoder_layers: 1\n",
            "\u001b[34m\u001b[1mwandb\u001b[0m: \tnum_encoder_layers: 3\n",
            "\u001b[34m\u001b[1mwandb\u001b[0m: \tnum_hidden_layers: 5\n"
          ],
          "name": "stderr"
        },
        {
          "output_type": "display_data",
          "data": {
            "text/html": [
              "\n",
              "                Tracking run with wandb version 0.10.27<br/>\n",
              "                Syncing run <strong style=\"color:#cdcd00\">hearty-sweep-24</strong> to <a href=\"https://wandb.ai\" target=\"_blank\">Weights & Biases</a> <a href=\"https://docs.wandb.com/integrations/jupyter.html\" target=\"_blank\">(Documentation)</a>.<br/>\n",
              "                Project page: <a href=\"https://wandb.ai/anshikag_2210/MachineTransliterator\" target=\"_blank\">https://wandb.ai/anshikag_2210/MachineTransliterator</a><br/>\n",
              "                Sweep page: <a href=\"https://wandb.ai/anshikag_2210/MachineTransliterator/sweeps/4qzxmg7y\" target=\"_blank\">https://wandb.ai/anshikag_2210/MachineTransliterator/sweeps/4qzxmg7y</a><br/>\n",
              "Run page: <a href=\"https://wandb.ai/anshikag_2210/MachineTransliterator/runs/2bp7w7j5\" target=\"_blank\">https://wandb.ai/anshikag_2210/MachineTransliterator/runs/2bp7w7j5</a><br/>\n",
              "                Run data is saved locally in <code>/root/.keras/datasets/dakshina_dataset_v1.0/hi/lexicons/wandb/run-20210428_192433-2bp7w7j5</code><br/><br/>\n",
              "            "
            ],
            "text/plain": [
              "<IPython.core.display.HTML object>"
            ]
          },
          "metadata": {
            "tags": []
          }
        },
        {
          "output_type": "stream",
          "text": [
            "Epoch 1/30\n",
            "79/79 [==============================] - 8s 34ms/step - loss: 1.8911 - accuracy: 0.6597 - val_loss: 1.2147 - val_accuracy: 0.7207\n"
          ],
          "name": "stdout"
        },
        {
          "output_type": "stream",
          "text": [
            "\u001b[34m\u001b[1mwandb\u001b[0m: \u001b[32m\u001b[41mERROR\u001b[0m Can't save model, h5py returned error: Unable to create link (name already exists)\n"
          ],
          "name": "stderr"
        },
        {
          "output_type": "stream",
          "text": [
            "Epoch 2/30\n",
            "79/79 [==============================] - 1s 19ms/step - loss: 1.0649 - accuracy: 0.7188 - val_loss: 1.1886 - val_accuracy: 0.7277\n",
            "Epoch 3/30\n",
            "79/79 [==============================] - 1s 18ms/step - loss: 0.9780 - accuracy: 0.7294 - val_loss: 1.1841 - val_accuracy: 0.7347\n",
            "Epoch 4/30\n",
            "79/79 [==============================] - 2s 19ms/step - loss: 0.9483 - accuracy: 0.7335 - val_loss: 1.1893 - val_accuracy: 0.7361\n",
            "Epoch 5/30\n",
            "79/79 [==============================] - 2s 19ms/step - loss: 0.9273 - accuracy: 0.7377 - val_loss: 1.1900 - val_accuracy: 0.7364\n",
            "Epoch 6/30\n",
            "79/79 [==============================] - 1s 19ms/step - loss: 0.9236 - accuracy: 0.7391 - val_loss: 1.1805 - val_accuracy: 0.7383\n",
            "Epoch 7/30\n",
            "79/79 [==============================] - 1s 19ms/step - loss: 0.9123 - accuracy: 0.7404 - val_loss: 1.1872 - val_accuracy: 0.7376\n",
            "Epoch 8/30\n",
            "79/79 [==============================] - 2s 19ms/step - loss: 0.8980 - accuracy: 0.7423 - val_loss: 1.1860 - val_accuracy: 0.7377\n",
            "Epoch 9/30\n",
            "79/79 [==============================] - 1s 18ms/step - loss: 0.8954 - accuracy: 0.7434 - val_loss: 1.1910 - val_accuracy: 0.7372\n",
            "Epoch 10/30\n",
            "79/79 [==============================] - 1s 19ms/step - loss: 0.8848 - accuracy: 0.7459 - val_loss: 1.1897 - val_accuracy: 0.7385\n",
            "Epoch 11/30\n",
            "79/79 [==============================] - 1s 18ms/step - loss: 0.8764 - accuracy: 0.7486 - val_loss: 1.1909 - val_accuracy: 0.7384\n",
            "Epoch 12/30\n",
            "79/79 [==============================] - 1s 18ms/step - loss: 0.8652 - accuracy: 0.7517 - val_loss: 1.1991 - val_accuracy: 0.7384\n",
            "Epoch 13/30\n",
            "79/79 [==============================] - 1s 18ms/step - loss: 0.8335 - accuracy: 0.7625 - val_loss: 1.2077 - val_accuracy: 0.7411\n",
            "Epoch 14/30\n",
            "79/79 [==============================] - 1s 18ms/step - loss: 0.8173 - accuracy: 0.7680 - val_loss: 1.2215 - val_accuracy: 0.7414\n",
            "Epoch 15/30\n",
            "79/79 [==============================] - 1s 19ms/step - loss: 0.8128 - accuracy: 0.7677 - val_loss: 1.2300 - val_accuracy: 0.7410\n",
            "Epoch 16/30\n",
            "79/79 [==============================] - 1s 18ms/step - loss: 0.8047 - accuracy: 0.7698 - val_loss: 1.2242 - val_accuracy: 0.7422\n",
            "Epoch 17/30\n",
            "79/79 [==============================] - 1s 18ms/step - loss: 0.7958 - accuracy: 0.7719 - val_loss: 1.1654 - val_accuracy: 0.7422\n",
            "Epoch 18/30\n",
            "79/79 [==============================] - 1s 18ms/step - loss: 0.7848 - accuracy: 0.7751 - val_loss: 1.1335 - val_accuracy: 0.7431\n",
            "Epoch 19/30\n",
            "79/79 [==============================] - 1s 19ms/step - loss: 0.7731 - accuracy: 0.7783 - val_loss: 1.1898 - val_accuracy: 0.7429\n",
            "Epoch 20/30\n",
            "79/79 [==============================] - 2s 19ms/step - loss: 0.7629 - accuracy: 0.7805 - val_loss: 1.1926 - val_accuracy: 0.7428\n",
            "Epoch 21/30\n",
            "79/79 [==============================] - 2s 19ms/step - loss: 0.7556 - accuracy: 0.7820 - val_loss: 1.1889 - val_accuracy: 0.7428\n",
            "Epoch 22/30\n",
            "79/79 [==============================] - 1s 18ms/step - loss: 0.7493 - accuracy: 0.7843 - val_loss: 1.1889 - val_accuracy: 0.7432\n",
            "Epoch 23/30\n",
            "79/79 [==============================] - 1s 18ms/step - loss: 0.7405 - accuracy: 0.7844 - val_loss: 1.2084 - val_accuracy: 0.7434\n",
            "Epoch 24/30\n",
            "79/79 [==============================] - 1s 18ms/step - loss: 0.7263 - accuracy: 0.7905 - val_loss: 1.2215 - val_accuracy: 0.7441\n",
            "Epoch 25/30\n",
            "79/79 [==============================] - 1s 19ms/step - loss: 0.7176 - accuracy: 0.7934 - val_loss: 1.2209 - val_accuracy: 0.7435\n",
            "Epoch 26/30\n",
            "79/79 [==============================] - 1s 19ms/step - loss: 0.7096 - accuracy: 0.7952 - val_loss: 1.2371 - val_accuracy: 0.7430\n",
            "Epoch 27/30\n",
            "79/79 [==============================] - 1s 19ms/step - loss: 0.6982 - accuracy: 0.7990 - val_loss: 1.2544 - val_accuracy: 0.7421\n",
            "Epoch 28/30\n",
            "79/79 [==============================] - 1s 19ms/step - loss: 0.6905 - accuracy: 0.8001 - val_loss: 1.2545 - val_accuracy: 0.7424\n",
            "Epoch 29/30\n",
            "79/79 [==============================] - 1s 19ms/step - loss: 0.6848 - accuracy: 0.8035 - val_loss: 1.2589 - val_accuracy: 0.7417\n",
            "Epoch 30/30\n",
            "79/79 [==============================] - 1s 18ms/step - loss: 0.6751 - accuracy: 0.8042 - val_loss: 1.2553 - val_accuracy: 0.7413\n"
          ],
          "name": "stdout"
        },
        {
          "output_type": "display_data",
          "data": {
            "text/html": [
              "<br/>Waiting for W&B process to finish, PID 5367<br/>Program ended successfully."
            ],
            "text/plain": [
              "<IPython.core.display.HTML object>"
            ]
          },
          "metadata": {
            "tags": []
          }
        },
        {
          "output_type": "display_data",
          "data": {
            "application/vnd.jupyter.widget-view+json": {
              "model_id": "2ea17bc76bc84cd8b7e5eebeb2b42763",
              "version_minor": 0,
              "version_major": 2
            },
            "text/plain": [
              "VBox(children=(Label(value=' 1.42MB of 1.42MB uploaded (0.00MB deduped)\\r'), FloatProgress(value=1.0, max=1.0)…"
            ]
          },
          "metadata": {
            "tags": []
          }
        },
        {
          "output_type": "display_data",
          "data": {
            "text/html": [
              "Find user logs for this run at: <code>/root/.keras/datasets/dakshina_dataset_v1.0/hi/lexicons/wandb/run-20210428_192433-2bp7w7j5/logs/debug.log</code>"
            ],
            "text/plain": [
              "<IPython.core.display.HTML object>"
            ]
          },
          "metadata": {
            "tags": []
          }
        },
        {
          "output_type": "display_data",
          "data": {
            "text/html": [
              "Find internal logs for this run at: <code>/root/.keras/datasets/dakshina_dataset_v1.0/hi/lexicons/wandb/run-20210428_192433-2bp7w7j5/logs/debug-internal.log</code>"
            ],
            "text/plain": [
              "<IPython.core.display.HTML object>"
            ]
          },
          "metadata": {
            "tags": []
          }
        },
        {
          "output_type": "display_data",
          "data": {
            "text/html": [
              "<h3>Run summary:</h3><br/><style>\n",
              "    table.wandb td:nth-child(1) { padding: 0 10px; text-align: right }\n",
              "    </style><table class=\"wandb\">\n",
              "<tr><td>epoch</td><td>29</td></tr><tr><td>loss</td><td>0.67442</td></tr><tr><td>accuracy</td><td>0.80449</td></tr><tr><td>val_loss</td><td>1.25531</td></tr><tr><td>val_accuracy</td><td>0.74131</td></tr><tr><td>_runtime</td><td>55</td></tr><tr><td>_timestamp</td><td>1619637928</td></tr><tr><td>_step</td><td>29</td></tr><tr><td>best_val_loss</td><td>1.13347</td></tr><tr><td>best_epoch</td><td>17</td></tr></table>"
            ],
            "text/plain": [
              "<IPython.core.display.HTML object>"
            ]
          },
          "metadata": {
            "tags": []
          }
        },
        {
          "output_type": "display_data",
          "data": {
            "text/html": [
              "<h3>Run history:</h3><br/><style>\n",
              "    table.wandb td:nth-child(1) { padding: 0 10px; text-align: right }\n",
              "    </style><table class=\"wandb\">\n",
              "<tr><td>epoch</td><td>▁▁▁▂▂▂▂▃▃▃▃▄▄▄▄▅▅▅▅▆▆▆▆▇▇▇▇███</td></tr><tr><td>loss</td><td>█▅▄▄▄▄▃▃▃▃▃▃▃▂▂▂▂▂▂▂▂▂▂▂▁▁▁▁▁▁</td></tr><tr><td>accuracy</td><td>▁▃▃▃▄▄▄▄▄▄▄▅▅▆▆▆▆▆▆▆▇▇▇▇▇▇████</td></tr><tr><td>val_loss</td><td>▆▄▄▄▄▄▄▄▄▄▄▅▅▆▆▆▃▁▄▄▄▄▅▆▆▇████</td></tr><tr><td>val_accuracy</td><td>▁▃▅▆▆▆▆▆▆▆▆▆▇▇▇▇▇█████████▇█▇▇</td></tr><tr><td>_runtime</td><td>▁▁▂▂▂▂▃▃▃▃▄▄▄▄▅▅▅▅▅▆▆▆▆▇▇▇▇███</td></tr><tr><td>_timestamp</td><td>▁▁▂▂▂▂▃▃▃▃▄▄▄▄▅▅▅▅▅▆▆▆▆▇▇▇▇███</td></tr><tr><td>_step</td><td>▁▁▁▂▂▂▂▃▃▃▃▄▄▄▄▅▅▅▅▆▆▆▆▇▇▇▇███</td></tr></table><br/>"
            ],
            "text/plain": [
              "<IPython.core.display.HTML object>"
            ]
          },
          "metadata": {
            "tags": []
          }
        },
        {
          "output_type": "display_data",
          "data": {
            "text/html": [
              "Synced 5 W&B file(s), 1 media file(s), 0 artifact file(s) and 1 other file(s)"
            ],
            "text/plain": [
              "<IPython.core.display.HTML object>"
            ]
          },
          "metadata": {
            "tags": []
          }
        },
        {
          "output_type": "display_data",
          "data": {
            "text/html": [
              "\n",
              "                    <br/>Synced <strong style=\"color:#cdcd00\">hearty-sweep-24</strong>: <a href=\"https://wandb.ai/anshikag_2210/MachineTransliterator/runs/2bp7w7j5\" target=\"_blank\">https://wandb.ai/anshikag_2210/MachineTransliterator/runs/2bp7w7j5</a><br/>\n",
              "                "
            ],
            "text/plain": [
              "<IPython.core.display.HTML object>"
            ]
          },
          "metadata": {
            "tags": []
          }
        },
        {
          "output_type": "stream",
          "text": [
            "\u001b[34m\u001b[1mwandb\u001b[0m: Agent Starting Run: 0iqp85re with config:\n",
            "\u001b[34m\u001b[1mwandb\u001b[0m: \tbatch_size: 64\n",
            "\u001b[34m\u001b[1mwandb\u001b[0m: \tcell_type: lstm\n",
            "\u001b[34m\u001b[1mwandb\u001b[0m: \tdecoder_embed_size: 27\n",
            "\u001b[34m\u001b[1mwandb\u001b[0m: \tdropout: 0\n",
            "\u001b[34m\u001b[1mwandb\u001b[0m: \tencoder_embed_size: 27\n",
            "\u001b[34m\u001b[1mwandb\u001b[0m: \tepochs: 30\n",
            "\u001b[34m\u001b[1mwandb\u001b[0m: \thidden_layer_size: 256\n",
            "\u001b[34m\u001b[1mwandb\u001b[0m: \tnum_decoder_layers: 4\n",
            "\u001b[34m\u001b[1mwandb\u001b[0m: \tnum_encoder_layers: 4\n",
            "\u001b[34m\u001b[1mwandb\u001b[0m: \tnum_hidden_layers: 10\n"
          ],
          "name": "stderr"
        },
        {
          "output_type": "display_data",
          "data": {
            "text/html": [
              "\n",
              "                Tracking run with wandb version 0.10.27<br/>\n",
              "                Syncing run <strong style=\"color:#cdcd00\">eager-sweep-25</strong> to <a href=\"https://wandb.ai\" target=\"_blank\">Weights & Biases</a> <a href=\"https://docs.wandb.com/integrations/jupyter.html\" target=\"_blank\">(Documentation)</a>.<br/>\n",
              "                Project page: <a href=\"https://wandb.ai/anshikag_2210/MachineTransliterator\" target=\"_blank\">https://wandb.ai/anshikag_2210/MachineTransliterator</a><br/>\n",
              "                Sweep page: <a href=\"https://wandb.ai/anshikag_2210/MachineTransliterator/sweeps/4qzxmg7y\" target=\"_blank\">https://wandb.ai/anshikag_2210/MachineTransliterator/sweeps/4qzxmg7y</a><br/>\n",
              "Run page: <a href=\"https://wandb.ai/anshikag_2210/MachineTransliterator/runs/0iqp85re\" target=\"_blank\">https://wandb.ai/anshikag_2210/MachineTransliterator/runs/0iqp85re</a><br/>\n",
              "                Run data is saved locally in <code>/root/.keras/datasets/dakshina_dataset_v1.0/hi/lexicons/wandb/run-20210428_192537-0iqp85re</code><br/><br/>\n",
              "            "
            ],
            "text/plain": [
              "<IPython.core.display.HTML object>"
            ]
          },
          "metadata": {
            "tags": []
          }
        },
        {
          "output_type": "stream",
          "text": [
            "Epoch 1/30\n",
            "157/157 [==============================] - 17s 46ms/step - loss: 1.4608 - accuracy: 0.6801 - val_loss: 1.3674 - val_accuracy: 0.7180\n"
          ],
          "name": "stdout"
        },
        {
          "output_type": "stream",
          "text": [
            "\u001b[34m\u001b[1mwandb\u001b[0m: \u001b[32m\u001b[41mERROR\u001b[0m Can't save model, h5py returned error: Unable to create link (name already exists)\n"
          ],
          "name": "stderr"
        },
        {
          "output_type": "stream",
          "text": [
            "Epoch 2/30\n",
            "157/157 [==============================] - 5s 32ms/step - loss: 1.1508 - accuracy: 0.7102 - val_loss: 1.2723 - val_accuracy: 0.7248\n",
            "Epoch 3/30\n",
            "157/157 [==============================] - 5s 31ms/step - loss: 1.0203 - accuracy: 0.7213 - val_loss: 1.2158 - val_accuracy: 0.7285\n",
            "Epoch 4/30\n",
            "157/157 [==============================] - 5s 30ms/step - loss: 0.9687 - accuracy: 0.7266 - val_loss: 1.2130 - val_accuracy: 0.7291\n",
            "Epoch 5/30\n",
            "157/157 [==============================] - 5s 31ms/step - loss: 0.9524 - accuracy: 0.7303 - val_loss: 1.2196 - val_accuracy: 0.7321\n",
            "Epoch 6/30\n",
            "157/157 [==============================] - 5s 31ms/step - loss: 0.9331 - accuracy: 0.7347 - val_loss: 1.2255 - val_accuracy: 0.7318\n",
            "Epoch 7/30\n",
            "157/157 [==============================] - 5s 30ms/step - loss: 0.9209 - accuracy: 0.7376 - val_loss: 1.2226 - val_accuracy: 0.7337\n",
            "Epoch 8/30\n",
            "157/157 [==============================] - 5s 31ms/step - loss: 0.9130 - accuracy: 0.7382 - val_loss: 1.2235 - val_accuracy: 0.7352\n",
            "Epoch 9/30\n",
            "157/157 [==============================] - 5s 30ms/step - loss: 0.9032 - accuracy: 0.7409 - val_loss: 1.2252 - val_accuracy: 0.7356\n",
            "Epoch 10/30\n",
            "157/157 [==============================] - 5s 30ms/step - loss: 0.8892 - accuracy: 0.7447 - val_loss: 1.2213 - val_accuracy: 0.7349\n",
            "Epoch 11/30\n",
            "157/157 [==============================] - 5s 30ms/step - loss: 0.8781 - accuracy: 0.7466 - val_loss: 1.2258 - val_accuracy: 0.7346\n",
            "Epoch 12/30\n",
            "157/157 [==============================] - 5s 30ms/step - loss: 0.8714 - accuracy: 0.7481 - val_loss: 1.2308 - val_accuracy: 0.7347\n",
            "Epoch 13/30\n",
            "157/157 [==============================] - 5s 30ms/step - loss: 0.8581 - accuracy: 0.7505 - val_loss: 1.2350 - val_accuracy: 0.7355\n",
            "Epoch 14/30\n",
            "157/157 [==============================] - 5s 30ms/step - loss: 0.8534 - accuracy: 0.7522 - val_loss: 1.2388 - val_accuracy: 0.7351\n",
            "Epoch 15/30\n",
            "157/157 [==============================] - 5s 30ms/step - loss: 0.8406 - accuracy: 0.7545 - val_loss: 1.2420 - val_accuracy: 0.7321\n",
            "Epoch 16/30\n",
            "157/157 [==============================] - 5s 30ms/step - loss: 0.8355 - accuracy: 0.7543 - val_loss: 1.2404 - val_accuracy: 0.7345\n",
            "Epoch 17/30\n",
            "157/157 [==============================] - 5s 31ms/step - loss: 0.8242 - accuracy: 0.7583 - val_loss: 1.2493 - val_accuracy: 0.7350\n",
            "Epoch 18/30\n",
            "157/157 [==============================] - 5s 30ms/step - loss: 0.8152 - accuracy: 0.7604 - val_loss: 1.2577 - val_accuracy: 0.7343\n",
            "Epoch 19/30\n",
            "157/157 [==============================] - 5s 31ms/step - loss: 0.8049 - accuracy: 0.7632 - val_loss: 1.2567 - val_accuracy: 0.7330\n",
            "Epoch 20/30\n",
            "157/157 [==============================] - 5s 31ms/step - loss: 0.7902 - accuracy: 0.7668 - val_loss: 1.2660 - val_accuracy: 0.7335\n",
            "Epoch 21/30\n",
            "157/157 [==============================] - 5s 31ms/step - loss: 0.7823 - accuracy: 0.7683 - val_loss: 1.2678 - val_accuracy: 0.7342\n",
            "Epoch 22/30\n",
            "157/157 [==============================] - 5s 31ms/step - loss: 0.7772 - accuracy: 0.7695 - val_loss: 1.2765 - val_accuracy: 0.7341\n",
            "Epoch 23/30\n",
            "157/157 [==============================] - 5s 30ms/step - loss: 0.7650 - accuracy: 0.7736 - val_loss: 1.2862 - val_accuracy: 0.7348\n",
            "Epoch 24/30\n",
            "157/157 [==============================] - 5s 31ms/step - loss: 0.7572 - accuracy: 0.7744 - val_loss: 1.2911 - val_accuracy: 0.7349\n",
            "Epoch 25/30\n",
            "157/157 [==============================] - 5s 30ms/step - loss: 0.7432 - accuracy: 0.7774 - val_loss: 1.3061 - val_accuracy: 0.7338\n",
            "Epoch 26/30\n",
            "157/157 [==============================] - 5s 31ms/step - loss: 0.7394 - accuracy: 0.7799 - val_loss: 1.3015 - val_accuracy: 0.7341\n",
            "Epoch 27/30\n",
            "157/157 [==============================] - 5s 29ms/step - loss: 0.7256 - accuracy: 0.7836 - val_loss: 1.3099 - val_accuracy: 0.7340\n",
            "Epoch 28/30\n",
            "157/157 [==============================] - 5s 31ms/step - loss: 0.7196 - accuracy: 0.7847 - val_loss: 1.3230 - val_accuracy: 0.7330\n",
            "Epoch 29/30\n",
            "157/157 [==============================] - 5s 31ms/step - loss: 0.7120 - accuracy: 0.7875 - val_loss: 1.3336 - val_accuracy: 0.7338\n",
            "Epoch 30/30\n",
            "157/157 [==============================] - 5s 31ms/step - loss: 0.7052 - accuracy: 0.7877 - val_loss: 1.3404 - val_accuracy: 0.7336\n"
          ],
          "name": "stdout"
        },
        {
          "output_type": "display_data",
          "data": {
            "text/html": [
              "<br/>Waiting for W&B process to finish, PID 5505<br/>Program ended successfully."
            ],
            "text/plain": [
              "<IPython.core.display.HTML object>"
            ]
          },
          "metadata": {
            "tags": []
          }
        },
        {
          "output_type": "display_data",
          "data": {
            "application/vnd.jupyter.widget-view+json": {
              "model_id": "56e34833e887408bb72ae8dd9889d917",
              "version_minor": 0,
              "version_major": 2
            },
            "text/plain": [
              "VBox(children=(Label(value=' 80.84MB of 80.84MB uploaded (0.00MB deduped)\\r'), FloatProgress(value=1.0, max=1.…"
            ]
          },
          "metadata": {
            "tags": []
          }
        },
        {
          "output_type": "display_data",
          "data": {
            "text/html": [
              "Find user logs for this run at: <code>/root/.keras/datasets/dakshina_dataset_v1.0/hi/lexicons/wandb/run-20210428_192537-0iqp85re/logs/debug.log</code>"
            ],
            "text/plain": [
              "<IPython.core.display.HTML object>"
            ]
          },
          "metadata": {
            "tags": []
          }
        },
        {
          "output_type": "display_data",
          "data": {
            "text/html": [
              "Find internal logs for this run at: <code>/root/.keras/datasets/dakshina_dataset_v1.0/hi/lexicons/wandb/run-20210428_192537-0iqp85re/logs/debug-internal.log</code>"
            ],
            "text/plain": [
              "<IPython.core.display.HTML object>"
            ]
          },
          "metadata": {
            "tags": []
          }
        },
        {
          "output_type": "display_data",
          "data": {
            "text/html": [
              "<h3>Run summary:</h3><br/><style>\n",
              "    table.wandb td:nth-child(1) { padding: 0 10px; text-align: right }\n",
              "    </style><table class=\"wandb\">\n",
              "<tr><td>epoch</td><td>29</td></tr><tr><td>loss</td><td>0.70412</td></tr><tr><td>accuracy</td><td>0.78893</td></tr><tr><td>val_loss</td><td>1.34039</td></tr><tr><td>val_accuracy</td><td>0.73356</td></tr><tr><td>_runtime</td><td>163</td></tr><tr><td>_timestamp</td><td>1619638100</td></tr><tr><td>_step</td><td>29</td></tr><tr><td>best_val_loss</td><td>1.213</td></tr><tr><td>best_epoch</td><td>3</td></tr></table>"
            ],
            "text/plain": [
              "<IPython.core.display.HTML object>"
            ]
          },
          "metadata": {
            "tags": []
          }
        },
        {
          "output_type": "display_data",
          "data": {
            "text/html": [
              "<h3>Run history:</h3><br/><style>\n",
              "    table.wandb td:nth-child(1) { padding: 0 10px; text-align: right }\n",
              "    </style><table class=\"wandb\">\n",
              "<tr><td>epoch</td><td>▁▁▁▂▂▂▂▃▃▃▃▄▄▄▄▅▅▅▅▆▆▆▆▇▇▇▇███</td></tr><tr><td>loss</td><td>█▆▅▄▄▄▄▄▃▃▃▃▃▃▃▃▂▂▂▂▂▂▂▂▂▁▁▁▁▁</td></tr><tr><td>accuracy</td><td>▁▂▃▃▃▄▄▄▄▄▅▅▅▅▅▅▆▆▆▆▆▆▇▇▇▇▇███</td></tr><tr><td>val_loss</td><td>█▄▁▁▁▂▁▁▂▁▂▂▂▂▂▂▃▃▃▃▃▄▄▅▅▅▅▆▆▇</td></tr><tr><td>val_accuracy</td><td>▁▄▅▅▇▆▇███████▇██▇▇▇▇▇██▇▇▇▇▇▇</td></tr><tr><td>_runtime</td><td>▁▁▂▂▂▂▂▃▃▃▃▄▄▄▄▅▅▅▅▆▆▆▆▇▇▇▇███</td></tr><tr><td>_timestamp</td><td>▁▁▂▂▂▂▂▃▃▃▃▄▄▄▄▅▅▅▅▆▆▆▆▇▇▇▇███</td></tr><tr><td>_step</td><td>▁▁▁▂▂▂▂▃▃▃▃▄▄▄▄▅▅▅▅▆▆▆▆▇▇▇▇███</td></tr></table><br/>"
            ],
            "text/plain": [
              "<IPython.core.display.HTML object>"
            ]
          },
          "metadata": {
            "tags": []
          }
        },
        {
          "output_type": "display_data",
          "data": {
            "text/html": [
              "Synced 5 W&B file(s), 1 media file(s), 0 artifact file(s) and 1 other file(s)"
            ],
            "text/plain": [
              "<IPython.core.display.HTML object>"
            ]
          },
          "metadata": {
            "tags": []
          }
        },
        {
          "output_type": "display_data",
          "data": {
            "text/html": [
              "\n",
              "                    <br/>Synced <strong style=\"color:#cdcd00\">eager-sweep-25</strong>: <a href=\"https://wandb.ai/anshikag_2210/MachineTransliterator/runs/0iqp85re\" target=\"_blank\">https://wandb.ai/anshikag_2210/MachineTransliterator/runs/0iqp85re</a><br/>\n",
              "                "
            ],
            "text/plain": [
              "<IPython.core.display.HTML object>"
            ]
          },
          "metadata": {
            "tags": []
          }
        },
        {
          "output_type": "stream",
          "text": [
            "\u001b[34m\u001b[1mwandb\u001b[0m: Agent Starting Run: zdk1bj15 with config:\n",
            "\u001b[34m\u001b[1mwandb\u001b[0m: \tbatch_size: 32\n",
            "\u001b[34m\u001b[1mwandb\u001b[0m: \tcell_type: rnn\n",
            "\u001b[34m\u001b[1mwandb\u001b[0m: \tdecoder_embed_size: 64\n",
            "\u001b[34m\u001b[1mwandb\u001b[0m: \tdropout: 0.0001\n",
            "\u001b[34m\u001b[1mwandb\u001b[0m: \tencoder_embed_size: 27\n",
            "\u001b[34m\u001b[1mwandb\u001b[0m: \tepochs: 60\n",
            "\u001b[34m\u001b[1mwandb\u001b[0m: \thidden_layer_size: 128\n",
            "\u001b[34m\u001b[1mwandb\u001b[0m: \tnum_decoder_layers: 1\n",
            "\u001b[34m\u001b[1mwandb\u001b[0m: \tnum_encoder_layers: 2\n",
            "\u001b[34m\u001b[1mwandb\u001b[0m: \tnum_hidden_layers: 10\n"
          ],
          "name": "stderr"
        },
        {
          "output_type": "display_data",
          "data": {
            "text/html": [
              "\n",
              "                Tracking run with wandb version 0.10.27<br/>\n",
              "                Syncing run <strong style=\"color:#cdcd00\">snowy-sweep-26</strong> to <a href=\"https://wandb.ai\" target=\"_blank\">Weights & Biases</a> <a href=\"https://docs.wandb.com/integrations/jupyter.html\" target=\"_blank\">(Documentation)</a>.<br/>\n",
              "                Project page: <a href=\"https://wandb.ai/anshikag_2210/MachineTransliterator\" target=\"_blank\">https://wandb.ai/anshikag_2210/MachineTransliterator</a><br/>\n",
              "                Sweep page: <a href=\"https://wandb.ai/anshikag_2210/MachineTransliterator/sweeps/4qzxmg7y\" target=\"_blank\">https://wandb.ai/anshikag_2210/MachineTransliterator/sweeps/4qzxmg7y</a><br/>\n",
              "Run page: <a href=\"https://wandb.ai/anshikag_2210/MachineTransliterator/runs/zdk1bj15\" target=\"_blank\">https://wandb.ai/anshikag_2210/MachineTransliterator/runs/zdk1bj15</a><br/>\n",
              "                Run data is saved locally in <code>/root/.keras/datasets/dakshina_dataset_v1.0/hi/lexicons/wandb/run-20210428_192828-zdk1bj15</code><br/><br/>\n",
              "            "
            ],
            "text/plain": [
              "<IPython.core.display.HTML object>"
            ]
          },
          "metadata": {
            "tags": []
          }
        },
        {
          "output_type": "stream",
          "text": [
            "Epoch 1/60\n",
            "313/313 [==============================] - 23s 67ms/step - loss: 1.5677 - accuracy: 0.6648 - val_loss: 1.1884 - val_accuracy: 0.7291\n"
          ],
          "name": "stdout"
        },
        {
          "output_type": "stream",
          "text": [
            "\u001b[34m\u001b[1mwandb\u001b[0m: \u001b[32m\u001b[41mERROR\u001b[0m Can't save model, h5py returned error: Unable to create link (name already exists)\n"
          ],
          "name": "stderr"
        },
        {
          "output_type": "stream",
          "text": [
            "Epoch 2/60\n",
            "313/313 [==============================] - 21s 66ms/step - loss: 0.9675 - accuracy: 0.7309 - val_loss: 1.1863 - val_accuracy: 0.7332\n",
            "Epoch 3/60\n",
            "313/313 [==============================] - 20s 65ms/step - loss: 0.9347 - accuracy: 0.7371 - val_loss: 1.1854 - val_accuracy: 0.7372\n",
            "Epoch 4/60\n",
            "313/313 [==============================] - 20s 66ms/step - loss: 0.9112 - accuracy: 0.7418 - val_loss: 1.1936 - val_accuracy: 0.7374\n",
            "Epoch 5/60\n",
            "313/313 [==============================] - 20s 65ms/step - loss: 0.8977 - accuracy: 0.7439 - val_loss: 1.1940 - val_accuracy: 0.7389\n",
            "Epoch 6/60\n",
            "313/313 [==============================] - 21s 66ms/step - loss: 0.8783 - accuracy: 0.7478 - val_loss: 1.1999 - val_accuracy: 0.7383\n",
            "Epoch 7/60\n",
            "313/313 [==============================] - 20s 65ms/step - loss: 0.8692 - accuracy: 0.7490 - val_loss: 1.2081 - val_accuracy: 0.7398\n",
            "Epoch 8/60\n",
            "313/313 [==============================] - 20s 64ms/step - loss: 0.8569 - accuracy: 0.7521 - val_loss: 1.2103 - val_accuracy: 0.7395\n",
            "Epoch 9/60\n",
            "313/313 [==============================] - 20s 64ms/step - loss: 0.8453 - accuracy: 0.7551 - val_loss: 1.2170 - val_accuracy: 0.7391\n",
            "Epoch 10/60\n",
            "313/313 [==============================] - 20s 64ms/step - loss: 0.8390 - accuracy: 0.7566 - val_loss: 1.2258 - val_accuracy: 0.7391\n",
            "Epoch 11/60\n",
            "313/313 [==============================] - 20s 65ms/step - loss: 0.8238 - accuracy: 0.7605 - val_loss: 1.2291 - val_accuracy: 0.7381\n",
            "Epoch 12/60\n",
            "313/313 [==============================] - 21s 66ms/step - loss: 0.8171 - accuracy: 0.7625 - val_loss: 1.2406 - val_accuracy: 0.7385\n",
            "Epoch 13/60\n",
            "313/313 [==============================] - 20s 65ms/step - loss: 0.8074 - accuracy: 0.7639 - val_loss: 1.2404 - val_accuracy: 0.7378\n",
            "Epoch 14/60\n",
            "313/313 [==============================] - 20s 65ms/step - loss: 0.8049 - accuracy: 0.7651 - val_loss: 1.2498 - val_accuracy: 0.7374\n",
            "Epoch 15/60\n",
            "313/313 [==============================] - 21s 68ms/step - loss: 0.7934 - accuracy: 0.7684 - val_loss: 1.2518 - val_accuracy: 0.7388\n",
            "Epoch 16/60\n",
            "313/313 [==============================] - 20s 65ms/step - loss: 0.7870 - accuracy: 0.7686 - val_loss: 1.2555 - val_accuracy: 0.7396\n",
            "Epoch 17/60\n",
            "313/313 [==============================] - 20s 65ms/step - loss: 0.7797 - accuracy: 0.7710 - val_loss: 1.2664 - val_accuracy: 0.7371\n",
            "Epoch 18/60\n",
            "313/313 [==============================] - 20s 65ms/step - loss: 0.7757 - accuracy: 0.7709 - val_loss: 1.2683 - val_accuracy: 0.7392\n",
            "Epoch 19/60\n",
            "313/313 [==============================] - 20s 65ms/step - loss: 0.7651 - accuracy: 0.7743 - val_loss: 1.2694 - val_accuracy: 0.7386\n",
            "Epoch 20/60\n",
            "313/313 [==============================] - 20s 65ms/step - loss: 0.7645 - accuracy: 0.7759 - val_loss: 1.2797 - val_accuracy: 0.7388\n",
            "Epoch 21/60\n",
            "313/313 [==============================] - 21s 66ms/step - loss: 0.7524 - accuracy: 0.7785 - val_loss: 1.2811 - val_accuracy: 0.7397\n",
            "Epoch 22/60\n",
            "313/313 [==============================] - 20s 65ms/step - loss: 0.7460 - accuracy: 0.7802 - val_loss: 1.2892 - val_accuracy: 0.7393\n",
            "Epoch 23/60\n",
            "313/313 [==============================] - 21s 66ms/step - loss: 0.7435 - accuracy: 0.7807 - val_loss: 1.2916 - val_accuracy: 0.7380\n",
            "Epoch 24/60\n",
            "313/313 [==============================] - 21s 66ms/step - loss: 0.7385 - accuracy: 0.7816 - val_loss: 1.3002 - val_accuracy: 0.7397\n",
            "Epoch 25/60\n",
            "313/313 [==============================] - 20s 65ms/step - loss: 0.7342 - accuracy: 0.7826 - val_loss: 1.3136 - val_accuracy: 0.7383\n",
            "Epoch 26/60\n",
            "313/313 [==============================] - 20s 65ms/step - loss: 0.7281 - accuracy: 0.7840 - val_loss: 1.3097 - val_accuracy: 0.7383\n",
            "Epoch 27/60\n",
            "313/313 [==============================] - 21s 66ms/step - loss: 0.7209 - accuracy: 0.7869 - val_loss: 1.3198 - val_accuracy: 0.7389\n",
            "Epoch 28/60\n",
            "313/313 [==============================] - 20s 65ms/step - loss: 0.7146 - accuracy: 0.7888 - val_loss: 1.3261 - val_accuracy: 0.7375\n",
            "Epoch 29/60\n",
            "313/313 [==============================] - 21s 66ms/step - loss: 0.7112 - accuracy: 0.7893 - val_loss: 1.3309 - val_accuracy: 0.7370\n",
            "Epoch 30/60\n",
            "313/313 [==============================] - 21s 66ms/step - loss: 0.7054 - accuracy: 0.7919 - val_loss: 1.3380 - val_accuracy: 0.7369\n",
            "Epoch 31/60\n",
            "313/313 [==============================] - 21s 66ms/step - loss: 0.7030 - accuracy: 0.7914 - val_loss: 1.3426 - val_accuracy: 0.7380\n",
            "Epoch 32/60\n",
            "313/313 [==============================] - 20s 65ms/step - loss: 0.6978 - accuracy: 0.7940 - val_loss: 1.3564 - val_accuracy: 0.7370\n",
            "Epoch 33/60\n",
            "313/313 [==============================] - 21s 67ms/step - loss: 0.6945 - accuracy: 0.7943 - val_loss: 1.3599 - val_accuracy: 0.7359\n",
            "Epoch 34/60\n",
            "313/313 [==============================] - 20s 65ms/step - loss: 0.6874 - accuracy: 0.7963 - val_loss: 1.3696 - val_accuracy: 0.7363\n",
            "Epoch 35/60\n",
            "313/313 [==============================] - 20s 65ms/step - loss: 0.6863 - accuracy: 0.7969 - val_loss: 1.3694 - val_accuracy: 0.7353\n",
            "Epoch 36/60\n",
            "313/313 [==============================] - 20s 65ms/step - loss: 0.6822 - accuracy: 0.7978 - val_loss: 1.3758 - val_accuracy: 0.7366\n",
            "Epoch 37/60\n",
            "313/313 [==============================] - 21s 66ms/step - loss: 0.6772 - accuracy: 0.7993 - val_loss: 1.3834 - val_accuracy: 0.7368\n",
            "Epoch 38/60\n",
            "313/313 [==============================] - 21s 66ms/step - loss: 0.6756 - accuracy: 0.7990 - val_loss: 1.3930 - val_accuracy: 0.7364\n",
            "Epoch 39/60\n",
            "313/313 [==============================] - 21s 66ms/step - loss: 0.6715 - accuracy: 0.7999 - val_loss: 1.3984 - val_accuracy: 0.7369\n",
            "Epoch 40/60\n",
            "313/313 [==============================] - 20s 65ms/step - loss: 0.6689 - accuracy: 0.8014 - val_loss: 1.4103 - val_accuracy: 0.7340\n",
            "Epoch 41/60\n",
            "313/313 [==============================] - 21s 66ms/step - loss: 0.6669 - accuracy: 0.8019 - val_loss: 1.4099 - val_accuracy: 0.7350\n",
            "Epoch 42/60\n",
            "313/313 [==============================] - 21s 66ms/step - loss: 0.6633 - accuracy: 0.8030 - val_loss: 1.4147 - val_accuracy: 0.7335\n",
            "Epoch 43/60\n",
            "313/313 [==============================] - 20s 65ms/step - loss: 0.6635 - accuracy: 0.8023 - val_loss: 1.4249 - val_accuracy: 0.7351\n",
            "Epoch 44/60\n",
            "313/313 [==============================] - 21s 66ms/step - loss: 0.6572 - accuracy: 0.8044 - val_loss: 1.4291 - val_accuracy: 0.7362\n",
            "Epoch 45/60\n",
            "313/313 [==============================] - 21s 66ms/step - loss: 0.6555 - accuracy: 0.8042 - val_loss: 1.4416 - val_accuracy: 0.7351\n",
            "Epoch 46/60\n",
            "313/313 [==============================] - 20s 65ms/step - loss: 0.6496 - accuracy: 0.8073 - val_loss: 1.4405 - val_accuracy: 0.7326\n",
            "Epoch 47/60\n",
            "313/313 [==============================] - 20s 64ms/step - loss: 0.6460 - accuracy: 0.8072 - val_loss: 1.4482 - val_accuracy: 0.7325\n",
            "Epoch 48/60\n",
            "313/313 [==============================] - 20s 64ms/step - loss: 0.6457 - accuracy: 0.8071 - val_loss: 1.4558 - val_accuracy: 0.7330\n",
            "Epoch 49/60\n",
            "313/313 [==============================] - 20s 65ms/step - loss: 0.6423 - accuracy: 0.8076 - val_loss: 1.4607 - val_accuracy: 0.7336\n",
            "Epoch 50/60\n",
            "313/313 [==============================] - 21s 66ms/step - loss: 0.6457 - accuracy: 0.8069 - val_loss: 1.4640 - val_accuracy: 0.7340\n",
            "Epoch 51/60\n",
            "313/313 [==============================] - 20s 65ms/step - loss: 0.6382 - accuracy: 0.8092 - val_loss: 1.4786 - val_accuracy: 0.7333\n",
            "Epoch 52/60\n",
            "313/313 [==============================] - 20s 65ms/step - loss: 0.6358 - accuracy: 0.8110 - val_loss: 1.4783 - val_accuracy: 0.7331\n",
            "Epoch 53/60\n",
            "313/313 [==============================] - 21s 66ms/step - loss: 0.6349 - accuracy: 0.8096 - val_loss: 1.4801 - val_accuracy: 0.7323\n",
            "Epoch 54/60\n",
            "313/313 [==============================] - 20s 65ms/step - loss: 0.6345 - accuracy: 0.8116 - val_loss: 1.4895 - val_accuracy: 0.7326\n",
            "Epoch 55/60\n",
            "313/313 [==============================] - 20s 64ms/step - loss: 0.6319 - accuracy: 0.8106 - val_loss: 1.4957 - val_accuracy: 0.7328\n",
            "Epoch 56/60\n",
            "313/313 [==============================] - 20s 65ms/step - loss: 0.6290 - accuracy: 0.8118 - val_loss: 1.5022 - val_accuracy: 0.7305\n",
            "Epoch 57/60\n",
            "313/313 [==============================] - 20s 65ms/step - loss: 0.6241 - accuracy: 0.8123 - val_loss: 1.5041 - val_accuracy: 0.7320\n",
            "Epoch 58/60\n",
            "313/313 [==============================] - 20s 65ms/step - loss: 0.6264 - accuracy: 0.8130 - val_loss: 1.5126 - val_accuracy: 0.7325\n",
            "Epoch 59/60\n",
            "313/313 [==============================] - 20s 65ms/step - loss: 0.6252 - accuracy: 0.8130 - val_loss: 1.5152 - val_accuracy: 0.7324\n",
            "Epoch 60/60\n",
            "313/313 [==============================] - 21s 66ms/step - loss: 0.6201 - accuracy: 0.8138 - val_loss: 1.5210 - val_accuracy: 0.7312\n"
          ],
          "name": "stdout"
        },
        {
          "output_type": "display_data",
          "data": {
            "text/html": [
              "<br/>Waiting for W&B process to finish, PID 5663<br/>Program ended successfully."
            ],
            "text/plain": [
              "<IPython.core.display.HTML object>"
            ]
          },
          "metadata": {
            "tags": []
          }
        },
        {
          "output_type": "display_data",
          "data": {
            "application/vnd.jupyter.widget-view+json": {
              "model_id": "ec9eb86c1e1c4b5d9d197a79250fe19d",
              "version_minor": 0,
              "version_major": 2
            },
            "text/plain": [
              "VBox(children=(Label(value=' 66.84MB of 66.84MB uploaded (0.00MB deduped)\\r'), FloatProgress(value=1.0, max=1.…"
            ]
          },
          "metadata": {
            "tags": []
          }
        },
        {
          "output_type": "display_data",
          "data": {
            "text/html": [
              "Find user logs for this run at: <code>/root/.keras/datasets/dakshina_dataset_v1.0/hi/lexicons/wandb/run-20210428_192828-zdk1bj15/logs/debug.log</code>"
            ],
            "text/plain": [
              "<IPython.core.display.HTML object>"
            ]
          },
          "metadata": {
            "tags": []
          }
        },
        {
          "output_type": "display_data",
          "data": {
            "text/html": [
              "Find internal logs for this run at: <code>/root/.keras/datasets/dakshina_dataset_v1.0/hi/lexicons/wandb/run-20210428_192828-zdk1bj15/logs/debug-internal.log</code>"
            ],
            "text/plain": [
              "<IPython.core.display.HTML object>"
            ]
          },
          "metadata": {
            "tags": []
          }
        },
        {
          "output_type": "display_data",
          "data": {
            "text/html": [
              "<h3>Run summary:</h3><br/><style>\n",
              "    table.wandb td:nth-child(1) { padding: 0 10px; text-align: right }\n",
              "    </style><table class=\"wandb\">\n",
              "<tr><td>epoch</td><td>59</td></tr><tr><td>loss</td><td>0.62478</td></tr><tr><td>accuracy</td><td>0.81269</td></tr><tr><td>val_loss</td><td>1.521</td></tr><tr><td>val_accuracy</td><td>0.73123</td></tr><tr><td>_runtime</td><td>1235</td></tr><tr><td>_timestamp</td><td>1619639343</td></tr><tr><td>_step</td><td>59</td></tr><tr><td>best_val_loss</td><td>1.18541</td></tr><tr><td>best_epoch</td><td>2</td></tr></table>"
            ],
            "text/plain": [
              "<IPython.core.display.HTML object>"
            ]
          },
          "metadata": {
            "tags": []
          }
        },
        {
          "output_type": "display_data",
          "data": {
            "text/html": [
              "<h3>Run history:</h3><br/><style>\n",
              "    table.wandb td:nth-child(1) { padding: 0 10px; text-align: right }\n",
              "    </style><table class=\"wandb\">\n",
              "<tr><td>epoch</td><td>▁▁▁▁▂▂▂▂▂▃▃▃▃▃▃▄▄▄▄▄▅▅▅▅▅▅▆▆▆▆▆▆▇▇▇▇▇███</td></tr><tr><td>loss</td><td>█▅▅▄▄▄▄▄▃▃▃▃▃▃▃▂▂▂▂▂▂▂▂▂▂▂▂▂▁▁▁▁▁▁▁▁▁▁▁▁</td></tr><tr><td>accuracy</td><td>▁▃▃▄▄▄▄▄▅▅▅▅▅▆▆▆▆▆▆▆▇▇▇▇▇▇▇▇▇▇██████████</td></tr><tr><td>val_loss</td><td>▁▁▁▁▁▂▂▂▂▂▂▃▃▃▃▃▄▄▄▄▄▅▅▅▅▅▆▆▆▆▆▆▇▇▇▇▇███</td></tr><tr><td>val_accuracy</td><td>▁▄▆▇███▇▇▆█▆▇▇█▇▇▇▇▆▇▆▆▅▆▆▄▅▅▆▃▃▄▄▄▃▃▂▃▂</td></tr><tr><td>_runtime</td><td>▁▁▁▁▂▂▂▂▂▃▃▃▃▃▃▄▄▄▄▄▅▅▅▅▅▅▆▆▆▆▆▆▇▇▇▇▇███</td></tr><tr><td>_timestamp</td><td>▁▁▁▁▂▂▂▂▂▃▃▃▃▃▃▄▄▄▄▄▅▅▅▅▅▅▆▆▆▆▆▆▇▇▇▇▇███</td></tr><tr><td>_step</td><td>▁▁▁▁▂▂▂▂▂▃▃▃▃▃▃▄▄▄▄▄▅▅▅▅▅▅▆▆▆▆▆▆▇▇▇▇▇███</td></tr></table><br/>"
            ],
            "text/plain": [
              "<IPython.core.display.HTML object>"
            ]
          },
          "metadata": {
            "tags": []
          }
        },
        {
          "output_type": "display_data",
          "data": {
            "text/html": [
              "Synced 5 W&B file(s), 1 media file(s), 0 artifact file(s) and 1 other file(s)"
            ],
            "text/plain": [
              "<IPython.core.display.HTML object>"
            ]
          },
          "metadata": {
            "tags": []
          }
        },
        {
          "output_type": "display_data",
          "data": {
            "text/html": [
              "\n",
              "                    <br/>Synced <strong style=\"color:#cdcd00\">snowy-sweep-26</strong>: <a href=\"https://wandb.ai/anshikag_2210/MachineTransliterator/runs/zdk1bj15\" target=\"_blank\">https://wandb.ai/anshikag_2210/MachineTransliterator/runs/zdk1bj15</a><br/>\n",
              "                "
            ],
            "text/plain": [
              "<IPython.core.display.HTML object>"
            ]
          },
          "metadata": {
            "tags": []
          }
        },
        {
          "output_type": "stream",
          "text": [
            "\u001b[34m\u001b[1mwandb\u001b[0m: Agent Starting Run: d2e5p11u with config:\n",
            "\u001b[34m\u001b[1mwandb\u001b[0m: \tbatch_size: 128\n",
            "\u001b[34m\u001b[1mwandb\u001b[0m: \tcell_type: lstm\n",
            "\u001b[34m\u001b[1mwandb\u001b[0m: \tdecoder_embed_size: 64\n",
            "\u001b[34m\u001b[1mwandb\u001b[0m: \tdropout: 0.01\n",
            "\u001b[34m\u001b[1mwandb\u001b[0m: \tencoder_embed_size: 27\n",
            "\u001b[34m\u001b[1mwandb\u001b[0m: \tepochs: 40\n",
            "\u001b[34m\u001b[1mwandb\u001b[0m: \thidden_layer_size: 128\n",
            "\u001b[34m\u001b[1mwandb\u001b[0m: \tnum_decoder_layers: 2\n",
            "\u001b[34m\u001b[1mwandb\u001b[0m: \tnum_encoder_layers: 2\n",
            "\u001b[34m\u001b[1mwandb\u001b[0m: \tnum_hidden_layers: 2\n"
          ],
          "name": "stderr"
        },
        {
          "output_type": "display_data",
          "data": {
            "text/html": [
              "\n",
              "                Tracking run with wandb version 0.10.27<br/>\n",
              "                Syncing run <strong style=\"color:#cdcd00\">lilac-sweep-27</strong> to <a href=\"https://wandb.ai\" target=\"_blank\">Weights & Biases</a> <a href=\"https://docs.wandb.com/integrations/jupyter.html\" target=\"_blank\">(Documentation)</a>.<br/>\n",
              "                Project page: <a href=\"https://wandb.ai/anshikag_2210/MachineTransliterator\" target=\"_blank\">https://wandb.ai/anshikag_2210/MachineTransliterator</a><br/>\n",
              "                Sweep page: <a href=\"https://wandb.ai/anshikag_2210/MachineTransliterator/sweeps/4qzxmg7y\" target=\"_blank\">https://wandb.ai/anshikag_2210/MachineTransliterator/sweeps/4qzxmg7y</a><br/>\n",
              "Run page: <a href=\"https://wandb.ai/anshikag_2210/MachineTransliterator/runs/d2e5p11u\" target=\"_blank\">https://wandb.ai/anshikag_2210/MachineTransliterator/runs/d2e5p11u</a><br/>\n",
              "                Run data is saved locally in <code>/root/.keras/datasets/dakshina_dataset_v1.0/hi/lexicons/wandb/run-20210428_194912-d2e5p11u</code><br/><br/>\n",
              "            "
            ],
            "text/plain": [
              "<IPython.core.display.HTML object>"
            ]
          },
          "metadata": {
            "tags": []
          }
        },
        {
          "output_type": "stream",
          "text": [
            "Epoch 1/40\n",
            "79/79 [==============================] - 9s 43ms/step - loss: 1.8984 - accuracy: 0.6551 - val_loss: 1.2436 - val_accuracy: 0.7134\n"
          ],
          "name": "stdout"
        },
        {
          "output_type": "stream",
          "text": [
            "\u001b[34m\u001b[1mwandb\u001b[0m: \u001b[32m\u001b[41mERROR\u001b[0m Can't save model, h5py returned error: Unable to create link (name already exists)\n"
          ],
          "name": "stderr"
        },
        {
          "output_type": "stream",
          "text": [
            "Epoch 2/40\n",
            "79/79 [==============================] - 2s 21ms/step - loss: 1.1115 - accuracy: 0.7125 - val_loss: 1.2457 - val_accuracy: 0.7193\n",
            "Epoch 3/40\n",
            "79/79 [==============================] - 2s 20ms/step - loss: 1.0841 - accuracy: 0.7145 - val_loss: 1.2329 - val_accuracy: 0.7234\n",
            "Epoch 4/40\n",
            "79/79 [==============================] - 2s 19ms/step - loss: 1.0248 - accuracy: 0.7258 - val_loss: 1.1751 - val_accuracy: 0.7332\n",
            "Epoch 5/40\n",
            "79/79 [==============================] - 2s 21ms/step - loss: 0.9575 - accuracy: 0.7346 - val_loss: 1.1420 - val_accuracy: 0.7389\n",
            "Epoch 6/40\n",
            "79/79 [==============================] - 2s 20ms/step - loss: 0.9265 - accuracy: 0.7391 - val_loss: 1.1319 - val_accuracy: 0.7391\n",
            "Epoch 7/40\n",
            "79/79 [==============================] - 2s 20ms/step - loss: 0.9170 - accuracy: 0.7410 - val_loss: 1.1322 - val_accuracy: 0.7405\n",
            "Epoch 8/40\n",
            "79/79 [==============================] - 2s 21ms/step - loss: 0.9031 - accuracy: 0.7434 - val_loss: 1.1171 - val_accuracy: 0.7423\n",
            "Epoch 9/40\n",
            "79/79 [==============================] - 2s 20ms/step - loss: 0.8898 - accuracy: 0.7482 - val_loss: 1.0987 - val_accuracy: 0.7432\n",
            "Epoch 10/40\n",
            "79/79 [==============================] - 2s 20ms/step - loss: 0.8693 - accuracy: 0.7564 - val_loss: 1.1095 - val_accuracy: 0.7461\n",
            "Epoch 11/40\n",
            "79/79 [==============================] - 2s 21ms/step - loss: 0.8530 - accuracy: 0.7601 - val_loss: 1.1261 - val_accuracy: 0.7471\n",
            "Epoch 12/40\n",
            "79/79 [==============================] - 2s 20ms/step - loss: 0.8478 - accuracy: 0.7621 - val_loss: 1.1114 - val_accuracy: 0.7488\n",
            "Epoch 13/40\n",
            "79/79 [==============================] - 2s 19ms/step - loss: 0.8303 - accuracy: 0.7654 - val_loss: 1.1076 - val_accuracy: 0.7492\n",
            "Epoch 14/40\n",
            "79/79 [==============================] - 2s 20ms/step - loss: 0.8215 - accuracy: 0.7690 - val_loss: 1.1102 - val_accuracy: 0.7515\n",
            "Epoch 15/40\n",
            "79/79 [==============================] - 2s 20ms/step - loss: 0.8076 - accuracy: 0.7728 - val_loss: 1.1363 - val_accuracy: 0.7484\n",
            "Epoch 16/40\n",
            "79/79 [==============================] - 2s 20ms/step - loss: 0.8023 - accuracy: 0.7735 - val_loss: 1.1180 - val_accuracy: 0.7524\n",
            "Epoch 17/40\n",
            "79/79 [==============================] - 2s 20ms/step - loss: 0.7950 - accuracy: 0.7751 - val_loss: 1.1161 - val_accuracy: 0.7520\n",
            "Epoch 18/40\n",
            "79/79 [==============================] - 2s 20ms/step - loss: 0.7794 - accuracy: 0.7795 - val_loss: 1.1185 - val_accuracy: 0.7534\n",
            "Epoch 19/40\n",
            "79/79 [==============================] - 2s 19ms/step - loss: 0.7791 - accuracy: 0.7779 - val_loss: 1.1055 - val_accuracy: 0.7549\n",
            "Epoch 20/40\n",
            "79/79 [==============================] - 2s 20ms/step - loss: 0.7663 - accuracy: 0.7816 - val_loss: 1.1130 - val_accuracy: 0.7547\n",
            "Epoch 21/40\n",
            "79/79 [==============================] - 2s 19ms/step - loss: 0.7569 - accuracy: 0.7839 - val_loss: 1.1684 - val_accuracy: 0.7418\n",
            "Epoch 22/40\n",
            "79/79 [==============================] - 2s 19ms/step - loss: 0.7510 - accuracy: 0.7852 - val_loss: 1.1287 - val_accuracy: 0.7540\n",
            "Epoch 23/40\n",
            "79/79 [==============================] - 2s 21ms/step - loss: 0.7351 - accuracy: 0.7889 - val_loss: 1.1206 - val_accuracy: 0.7560\n",
            "Epoch 24/40\n",
            "79/79 [==============================] - 2s 19ms/step - loss: 0.7302 - accuracy: 0.7903 - val_loss: 1.1291 - val_accuracy: 0.7540\n",
            "Epoch 25/40\n",
            "79/79 [==============================] - 2s 20ms/step - loss: 0.7180 - accuracy: 0.7921 - val_loss: 1.1247 - val_accuracy: 0.7561\n",
            "Epoch 26/40\n",
            "79/79 [==============================] - 2s 19ms/step - loss: 0.7062 - accuracy: 0.7950 - val_loss: 1.1245 - val_accuracy: 0.7555\n",
            "Epoch 27/40\n",
            "79/79 [==============================] - 2s 19ms/step - loss: 0.7022 - accuracy: 0.7953 - val_loss: 1.1008 - val_accuracy: 0.7578\n",
            "Epoch 28/40\n",
            "79/79 [==============================] - 2s 20ms/step - loss: 0.6932 - accuracy: 0.7983 - val_loss: 1.1141 - val_accuracy: 0.7565\n",
            "Epoch 29/40\n",
            "79/79 [==============================] - 2s 19ms/step - loss: 0.6843 - accuracy: 0.7998 - val_loss: 1.0957 - val_accuracy: 0.7591\n",
            "Epoch 30/40\n",
            "79/79 [==============================] - 2s 20ms/step - loss: 0.6680 - accuracy: 0.8033 - val_loss: 1.1055 - val_accuracy: 0.7579\n",
            "Epoch 31/40\n",
            "79/79 [==============================] - 2s 20ms/step - loss: 0.6639 - accuracy: 0.8052 - val_loss: 1.1566 - val_accuracy: 0.7457\n",
            "Epoch 32/40\n",
            "79/79 [==============================] - 2s 20ms/step - loss: 0.6483 - accuracy: 0.8094 - val_loss: 1.1010 - val_accuracy: 0.7607\n",
            "Epoch 33/40\n",
            "79/79 [==============================] - 2s 20ms/step - loss: 0.6411 - accuracy: 0.8111 - val_loss: 1.1061 - val_accuracy: 0.7585\n",
            "Epoch 34/40\n",
            "79/79 [==============================] - 2s 20ms/step - loss: 0.6338 - accuracy: 0.8130 - val_loss: 1.1102 - val_accuracy: 0.7577\n",
            "Epoch 35/40\n",
            "79/79 [==============================] - 2s 20ms/step - loss: 0.6165 - accuracy: 0.8178 - val_loss: 1.0895 - val_accuracy: 0.7610\n",
            "Epoch 36/40\n",
            "79/79 [==============================] - 2s 20ms/step - loss: 0.6082 - accuracy: 0.8192 - val_loss: 1.1016 - val_accuracy: 0.7597\n",
            "Epoch 37/40\n",
            "79/79 [==============================] - 2s 20ms/step - loss: 0.6018 - accuracy: 0.8216 - val_loss: 1.0793 - val_accuracy: 0.7664\n",
            "Epoch 38/40\n",
            "79/79 [==============================] - 2s 20ms/step - loss: 0.5939 - accuracy: 0.8238 - val_loss: 1.0859 - val_accuracy: 0.7638\n",
            "Epoch 39/40\n",
            "79/79 [==============================] - 2s 20ms/step - loss: 0.5857 - accuracy: 0.8270 - val_loss: 1.0705 - val_accuracy: 0.7660\n",
            "Epoch 40/40\n",
            "79/79 [==============================] - 1s 19ms/step - loss: 0.5765 - accuracy: 0.8291 - val_loss: 1.0709 - val_accuracy: 0.7651\n"
          ],
          "name": "stdout"
        },
        {
          "output_type": "display_data",
          "data": {
            "text/html": [
              "<br/>Waiting for W&B process to finish, PID 6109<br/>Program ended successfully."
            ],
            "text/plain": [
              "<IPython.core.display.HTML object>"
            ]
          },
          "metadata": {
            "tags": []
          }
        },
        {
          "output_type": "display_data",
          "data": {
            "application/vnd.jupyter.widget-view+json": {
              "model_id": "96159c59ffae408089a58bf5502f3db2",
              "version_minor": 0,
              "version_major": 2
            },
            "text/plain": [
              "VBox(children=(Label(value=' 39.56MB of 39.56MB uploaded (0.00MB deduped)\\r'), FloatProgress(value=1.0, max=1.…"
            ]
          },
          "metadata": {
            "tags": []
          }
        },
        {
          "output_type": "display_data",
          "data": {
            "text/html": [
              "Find user logs for this run at: <code>/root/.keras/datasets/dakshina_dataset_v1.0/hi/lexicons/wandb/run-20210428_194912-d2e5p11u/logs/debug.log</code>"
            ],
            "text/plain": [
              "<IPython.core.display.HTML object>"
            ]
          },
          "metadata": {
            "tags": []
          }
        },
        {
          "output_type": "display_data",
          "data": {
            "text/html": [
              "Find internal logs for this run at: <code>/root/.keras/datasets/dakshina_dataset_v1.0/hi/lexicons/wandb/run-20210428_194912-d2e5p11u/logs/debug-internal.log</code>"
            ],
            "text/plain": [
              "<IPython.core.display.HTML object>"
            ]
          },
          "metadata": {
            "tags": []
          }
        },
        {
          "output_type": "display_data",
          "data": {
            "text/html": [
              "<h3>Run summary:</h3><br/><style>\n",
              "    table.wandb td:nth-child(1) { padding: 0 10px; text-align: right }\n",
              "    </style><table class=\"wandb\">\n",
              "<tr><td>epoch</td><td>39</td></tr><tr><td>loss</td><td>0.57244</td></tr><tr><td>accuracy</td><td>0.83016</td></tr><tr><td>val_loss</td><td>1.07088</td></tr><tr><td>val_accuracy</td><td>0.76505</td></tr><tr><td>_runtime</td><td>75</td></tr><tr><td>_timestamp</td><td>1619639427</td></tr><tr><td>_step</td><td>39</td></tr><tr><td>best_val_loss</td><td>1.07048</td></tr><tr><td>best_epoch</td><td>38</td></tr></table>"
            ],
            "text/plain": [
              "<IPython.core.display.HTML object>"
            ]
          },
          "metadata": {
            "tags": []
          }
        },
        {
          "output_type": "display_data",
          "data": {
            "text/html": [
              "<h3>Run history:</h3><br/><style>\n",
              "    table.wandb td:nth-child(1) { padding: 0 10px; text-align: right }\n",
              "    </style><table class=\"wandb\">\n",
              "<tr><td>epoch</td><td>▁▁▁▂▂▂▂▂▂▃▃▃▃▃▄▄▄▄▄▄▅▅▅▅▅▅▆▆▆▆▆▇▇▇▇▇▇███</td></tr><tr><td>loss</td><td>█▅▅▅▄▄▄▄▄▃▃▃▃▃▃▃▃▃▃▃▃▂▂▂▂▂▂▂▂▂▂▂▂▁▁▁▁▁▁▁</td></tr><tr><td>accuracy</td><td>▁▂▂▃▃▃▃▄▄▄▄▅▅▅▅▅▅▅▅▆▆▆▆▆▆▆▆▆▆▇▇▇▇▇▇▇████</td></tr><tr><td>val_loss</td><td>██▇▅▄▃▃▃▂▃▃▃▂▃▄▃▃▃▂▃▅▃▃▃▃▃▂▃▂▂▄▂▂▃▂▂▁▂▁▁</td></tr><tr><td>val_accuracy</td><td>▁▂▂▄▄▄▅▅▅▅▅▆▆▆▆▆▆▆▆▆▅▆▇▆▇▇▇▇▇▇▅▇▇▇▇▇████</td></tr><tr><td>_runtime</td><td>▁▁▁▂▂▂▂▂▃▃▃▃▃▃▄▄▄▄▄▄▅▅▅▅▅▆▆▆▆▆▆▇▇▇▇▇▇███</td></tr><tr><td>_timestamp</td><td>▁▁▁▂▂▂▂▂▃▃▃▃▃▃▄▄▄▄▄▄▅▅▅▅▅▆▆▆▆▆▆▇▇▇▇▇▇███</td></tr><tr><td>_step</td><td>▁▁▁▂▂▂▂▂▂▃▃▃▃▃▄▄▄▄▄▄▅▅▅▅▅▅▆▆▆▆▆▇▇▇▇▇▇███</td></tr></table><br/>"
            ],
            "text/plain": [
              "<IPython.core.display.HTML object>"
            ]
          },
          "metadata": {
            "tags": []
          }
        },
        {
          "output_type": "display_data",
          "data": {
            "text/html": [
              "Synced 5 W&B file(s), 1 media file(s), 0 artifact file(s) and 1 other file(s)"
            ],
            "text/plain": [
              "<IPython.core.display.HTML object>"
            ]
          },
          "metadata": {
            "tags": []
          }
        },
        {
          "output_type": "display_data",
          "data": {
            "text/html": [
              "\n",
              "                    <br/>Synced <strong style=\"color:#cdcd00\">lilac-sweep-27</strong>: <a href=\"https://wandb.ai/anshikag_2210/MachineTransliterator/runs/d2e5p11u\" target=\"_blank\">https://wandb.ai/anshikag_2210/MachineTransliterator/runs/d2e5p11u</a><br/>\n",
              "                "
            ],
            "text/plain": [
              "<IPython.core.display.HTML object>"
            ]
          },
          "metadata": {
            "tags": []
          }
        },
        {
          "output_type": "stream",
          "text": [
            "\u001b[34m\u001b[1mwandb\u001b[0m: Agent Starting Run: zqgwr53i with config:\n",
            "\u001b[34m\u001b[1mwandb\u001b[0m: \tbatch_size: 32\n",
            "\u001b[34m\u001b[1mwandb\u001b[0m: \tcell_type: lstm\n",
            "\u001b[34m\u001b[1mwandb\u001b[0m: \tdecoder_embed_size: 27\n",
            "\u001b[34m\u001b[1mwandb\u001b[0m: \tdropout: 0.0001\n",
            "\u001b[34m\u001b[1mwandb\u001b[0m: \tencoder_embed_size: 27\n",
            "\u001b[34m\u001b[1mwandb\u001b[0m: \tepochs: 60\n",
            "\u001b[34m\u001b[1mwandb\u001b[0m: \thidden_layer_size: 256\n",
            "\u001b[34m\u001b[1mwandb\u001b[0m: \tnum_decoder_layers: 2\n",
            "\u001b[34m\u001b[1mwandb\u001b[0m: \tnum_encoder_layers: 4\n",
            "\u001b[34m\u001b[1mwandb\u001b[0m: \tnum_hidden_layers: 10\n"
          ],
          "name": "stderr"
        },
        {
          "output_type": "display_data",
          "data": {
            "text/html": [
              "\n",
              "                Tracking run with wandb version 0.10.27<br/>\n",
              "                Syncing run <strong style=\"color:#cdcd00\">electric-sweep-28</strong> to <a href=\"https://wandb.ai\" target=\"_blank\">Weights & Biases</a> <a href=\"https://docs.wandb.com/integrations/jupyter.html\" target=\"_blank\">(Documentation)</a>.<br/>\n",
              "                Project page: <a href=\"https://wandb.ai/anshikag_2210/MachineTransliterator\" target=\"_blank\">https://wandb.ai/anshikag_2210/MachineTransliterator</a><br/>\n",
              "                Sweep page: <a href=\"https://wandb.ai/anshikag_2210/MachineTransliterator/sweeps/4qzxmg7y\" target=\"_blank\">https://wandb.ai/anshikag_2210/MachineTransliterator/sweeps/4qzxmg7y</a><br/>\n",
              "Run page: <a href=\"https://wandb.ai/anshikag_2210/MachineTransliterator/runs/zqgwr53i\" target=\"_blank\">https://wandb.ai/anshikag_2210/MachineTransliterator/runs/zqgwr53i</a><br/>\n",
              "                Run data is saved locally in <code>/root/.keras/datasets/dakshina_dataset_v1.0/hi/lexicons/wandb/run-20210428_195035-zqgwr53i</code><br/><br/>\n",
              "            "
            ],
            "text/plain": [
              "<IPython.core.display.HTML object>"
            ]
          },
          "metadata": {
            "tags": []
          }
        },
        {
          "output_type": "stream",
          "text": [
            "Epoch 1/60\n",
            "313/313 [==============================] - 17s 29ms/step - loss: 1.3434 - accuracy: 0.6949 - val_loss: 1.2458 - val_accuracy: 0.7317\n"
          ],
          "name": "stdout"
        },
        {
          "output_type": "stream",
          "text": [
            "\u001b[34m\u001b[1mwandb\u001b[0m: \u001b[32m\u001b[41mERROR\u001b[0m Can't save model, h5py returned error: Unable to create link (name already exists)\n"
          ],
          "name": "stderr"
        },
        {
          "output_type": "stream",
          "text": [
            "Epoch 2/60\n",
            "313/313 [==============================] - 7s 23ms/step - loss: 0.9136 - accuracy: 0.7480 - val_loss: 1.1901 - val_accuracy: 0.7381\n",
            "Epoch 3/60\n",
            "313/313 [==============================] - 7s 23ms/step - loss: 0.8268 - accuracy: 0.7656 - val_loss: 1.1724 - val_accuracy: 0.7473\n",
            "Epoch 4/60\n",
            "313/313 [==============================] - 7s 23ms/step - loss: 0.7744 - accuracy: 0.7812 - val_loss: 1.1325 - val_accuracy: 0.7528\n",
            "Epoch 5/60\n",
            "313/313 [==============================] - 7s 22ms/step - loss: 0.7326 - accuracy: 0.7910 - val_loss: 1.1355 - val_accuracy: 0.7548\n",
            "Epoch 6/60\n",
            "313/313 [==============================] - 7s 23ms/step - loss: 0.7065 - accuracy: 0.7962 - val_loss: 1.1139 - val_accuracy: 0.7579\n",
            "Epoch 7/60\n",
            "313/313 [==============================] - 8s 24ms/step - loss: 0.6607 - accuracy: 0.8077 - val_loss: 1.1079 - val_accuracy: 0.7623\n",
            "Epoch 8/60\n",
            "313/313 [==============================] - 7s 23ms/step - loss: 0.6263 - accuracy: 0.8162 - val_loss: 1.1263 - val_accuracy: 0.7588\n",
            "Epoch 9/60\n",
            "313/313 [==============================] - 7s 23ms/step - loss: 0.5806 - accuracy: 0.8294 - val_loss: 1.0938 - val_accuracy: 0.7662\n",
            "Epoch 10/60\n",
            "313/313 [==============================] - 7s 23ms/step - loss: 0.5474 - accuracy: 0.8379 - val_loss: 1.0843 - val_accuracy: 0.7693\n",
            "Epoch 11/60\n",
            "313/313 [==============================] - 7s 23ms/step - loss: 0.5065 - accuracy: 0.8490 - val_loss: 1.0975 - val_accuracy: 0.7684\n",
            "Epoch 12/60\n",
            "313/313 [==============================] - 7s 23ms/step - loss: 0.4739 - accuracy: 0.8575 - val_loss: 1.0852 - val_accuracy: 0.7698\n",
            "Epoch 13/60\n",
            "313/313 [==============================] - 7s 23ms/step - loss: 0.4415 - accuracy: 0.8678 - val_loss: 1.0737 - val_accuracy: 0.7753\n",
            "Epoch 14/60\n",
            "313/313 [==============================] - 7s 23ms/step - loss: 0.4102 - accuracy: 0.8785 - val_loss: 1.0838 - val_accuracy: 0.7746\n",
            "Epoch 15/60\n",
            "313/313 [==============================] - 7s 24ms/step - loss: 0.3759 - accuracy: 0.8887 - val_loss: 1.0781 - val_accuracy: 0.7779\n",
            "Epoch 16/60\n",
            "313/313 [==============================] - 7s 23ms/step - loss: 0.3498 - accuracy: 0.8963 - val_loss: 1.0864 - val_accuracy: 0.7788\n",
            "Epoch 17/60\n",
            "313/313 [==============================] - 7s 23ms/step - loss: 0.3212 - accuracy: 0.9069 - val_loss: 1.0787 - val_accuracy: 0.7778\n",
            "Epoch 18/60\n",
            "313/313 [==============================] - 7s 23ms/step - loss: 0.2938 - accuracy: 0.9151 - val_loss: 1.0794 - val_accuracy: 0.7813\n",
            "Epoch 19/60\n",
            "313/313 [==============================] - 7s 22ms/step - loss: 0.2712 - accuracy: 0.9227 - val_loss: 1.1075 - val_accuracy: 0.7813\n",
            "Epoch 20/60\n",
            "313/313 [==============================] - 7s 23ms/step - loss: 0.2461 - accuracy: 0.9301 - val_loss: 1.1399 - val_accuracy: 0.7794\n",
            "Epoch 21/60\n",
            "313/313 [==============================] - 7s 23ms/step - loss: 0.2220 - accuracy: 0.9386 - val_loss: 1.1236 - val_accuracy: 0.7812\n",
            "Epoch 22/60\n",
            "313/313 [==============================] - 7s 23ms/step - loss: 0.2030 - accuracy: 0.9454 - val_loss: 1.1418 - val_accuracy: 0.7804\n",
            "Epoch 23/60\n",
            "313/313 [==============================] - 7s 23ms/step - loss: 0.1844 - accuracy: 0.9504 - val_loss: 1.1424 - val_accuracy: 0.7827\n",
            "Epoch 24/60\n",
            "313/313 [==============================] - 7s 23ms/step - loss: 0.1656 - accuracy: 0.9552 - val_loss: 1.1599 - val_accuracy: 0.7830\n",
            "Epoch 25/60\n",
            "313/313 [==============================] - 7s 23ms/step - loss: 0.1504 - accuracy: 0.9605 - val_loss: 1.1947 - val_accuracy: 0.7837\n",
            "Epoch 26/60\n",
            "313/313 [==============================] - 7s 23ms/step - loss: 0.1362 - accuracy: 0.9648 - val_loss: 1.1825 - val_accuracy: 0.7826\n",
            "Epoch 27/60\n",
            "313/313 [==============================] - 7s 23ms/step - loss: 0.1218 - accuracy: 0.9689 - val_loss: 1.2064 - val_accuracy: 0.7843\n",
            "Epoch 28/60\n",
            "313/313 [==============================] - 7s 23ms/step - loss: 0.1092 - accuracy: 0.9733 - val_loss: 1.2503 - val_accuracy: 0.7823\n",
            "Epoch 29/60\n",
            "313/313 [==============================] - 7s 23ms/step - loss: 0.0962 - accuracy: 0.9768 - val_loss: 1.2486 - val_accuracy: 0.7840\n",
            "Epoch 30/60\n",
            "313/313 [==============================] - 7s 24ms/step - loss: 0.0860 - accuracy: 0.9805 - val_loss: 1.2479 - val_accuracy: 0.7850\n",
            "Epoch 31/60\n",
            "313/313 [==============================] - 7s 23ms/step - loss: 0.0778 - accuracy: 0.9824 - val_loss: 1.2689 - val_accuracy: 0.7841\n",
            "Epoch 32/60\n",
            "313/313 [==============================] - 7s 23ms/step - loss: 0.0709 - accuracy: 0.9841 - val_loss: 1.3030 - val_accuracy: 0.7850\n",
            "Epoch 33/60\n",
            "313/313 [==============================] - 7s 23ms/step - loss: 0.0663 - accuracy: 0.9852 - val_loss: 1.3134 - val_accuracy: 0.7834\n",
            "Epoch 34/60\n",
            "313/313 [==============================] - 7s 24ms/step - loss: 0.0574 - accuracy: 0.9878 - val_loss: 1.3083 - val_accuracy: 0.7867\n",
            "Epoch 35/60\n",
            "313/313 [==============================] - 7s 23ms/step - loss: 0.0513 - accuracy: 0.9891 - val_loss: 1.3452 - val_accuracy: 0.7847\n",
            "Epoch 36/60\n",
            "313/313 [==============================] - 7s 23ms/step - loss: 0.0461 - accuracy: 0.9905 - val_loss: 1.3654 - val_accuracy: 0.7850\n",
            "Epoch 37/60\n",
            "313/313 [==============================] - 7s 23ms/step - loss: 0.0448 - accuracy: 0.9905 - val_loss: 1.3845 - val_accuracy: 0.7848\n",
            "Epoch 38/60\n",
            "313/313 [==============================] - 7s 23ms/step - loss: 0.0427 - accuracy: 0.9908 - val_loss: 1.3841 - val_accuracy: 0.7866\n",
            "Epoch 39/60\n",
            "313/313 [==============================] - 7s 23ms/step - loss: 0.0374 - accuracy: 0.9924 - val_loss: 1.3883 - val_accuracy: 0.7869\n",
            "Epoch 40/60\n",
            "313/313 [==============================] - 7s 23ms/step - loss: 0.0330 - accuracy: 0.9932 - val_loss: 1.4260 - val_accuracy: 0.7853\n",
            "Epoch 41/60\n",
            "313/313 [==============================] - 7s 23ms/step - loss: 0.0315 - accuracy: 0.9936 - val_loss: 1.4519 - val_accuracy: 0.7859\n",
            "Epoch 42/60\n",
            "313/313 [==============================] - 7s 23ms/step - loss: 0.0309 - accuracy: 0.9932 - val_loss: 1.4409 - val_accuracy: 0.7861\n",
            "Epoch 43/60\n",
            "313/313 [==============================] - 7s 23ms/step - loss: 0.0278 - accuracy: 0.9939 - val_loss: 1.4595 - val_accuracy: 0.7860\n",
            "Epoch 44/60\n",
            "313/313 [==============================] - 7s 23ms/step - loss: 0.0270 - accuracy: 0.9942 - val_loss: 1.4883 - val_accuracy: 0.7843\n",
            "Epoch 45/60\n",
            "313/313 [==============================] - 7s 23ms/step - loss: 0.0268 - accuracy: 0.9939 - val_loss: 1.4802 - val_accuracy: 0.7859\n",
            "Epoch 46/60\n",
            "313/313 [==============================] - 7s 23ms/step - loss: 0.0240 - accuracy: 0.9943 - val_loss: 1.4994 - val_accuracy: 0.7859\n",
            "Epoch 47/60\n",
            "313/313 [==============================] - 7s 23ms/step - loss: 0.0224 - accuracy: 0.9948 - val_loss: 1.5138 - val_accuracy: 0.7864\n",
            "Epoch 48/60\n",
            "313/313 [==============================] - 7s 24ms/step - loss: 0.0221 - accuracy: 0.9947 - val_loss: 1.5150 - val_accuracy: 0.7859\n",
            "Epoch 49/60\n",
            "313/313 [==============================] - 7s 23ms/step - loss: 0.0247 - accuracy: 0.9939 - val_loss: 1.5334 - val_accuracy: 0.7860\n",
            "Epoch 50/60\n",
            "313/313 [==============================] - 7s 23ms/step - loss: 0.0191 - accuracy: 0.9951 - val_loss: 1.5370 - val_accuracy: 0.7879\n",
            "Epoch 51/60\n",
            "313/313 [==============================] - 7s 23ms/step - loss: 0.0170 - accuracy: 0.9955 - val_loss: 1.5732 - val_accuracy: 0.7855\n",
            "Epoch 52/60\n",
            "313/313 [==============================] - 7s 23ms/step - loss: 0.0170 - accuracy: 0.9954 - val_loss: 1.5785 - val_accuracy: 0.7851\n",
            "Epoch 53/60\n",
            "313/313 [==============================] - 7s 23ms/step - loss: 0.0181 - accuracy: 0.9950 - val_loss: 1.5748 - val_accuracy: 0.7870\n",
            "Epoch 54/60\n",
            "313/313 [==============================] - 7s 23ms/step - loss: 0.0163 - accuracy: 0.9956 - val_loss: 1.6000 - val_accuracy: 0.7846\n",
            "Epoch 55/60\n",
            "313/313 [==============================] - 7s 23ms/step - loss: 0.0176 - accuracy: 0.9951 - val_loss: 1.5773 - val_accuracy: 0.7871\n",
            "Epoch 56/60\n",
            "313/313 [==============================] - 7s 23ms/step - loss: 0.0173 - accuracy: 0.9951 - val_loss: 1.6096 - val_accuracy: 0.7856\n",
            "Epoch 57/60\n",
            "313/313 [==============================] - 7s 23ms/step - loss: 0.0161 - accuracy: 0.9954 - val_loss: 1.6196 - val_accuracy: 0.7858\n",
            "Epoch 58/60\n",
            "313/313 [==============================] - 7s 23ms/step - loss: 0.0143 - accuracy: 0.9956 - val_loss: 1.6205 - val_accuracy: 0.7859\n",
            "Epoch 59/60\n",
            "313/313 [==============================] - 7s 23ms/step - loss: 0.0145 - accuracy: 0.9953 - val_loss: 1.6138 - val_accuracy: 0.7867\n",
            "Epoch 60/60\n",
            "313/313 [==============================] - 7s 23ms/step - loss: 0.0152 - accuracy: 0.9952 - val_loss: 1.6214 - val_accuracy: 0.7865\n"
          ],
          "name": "stdout"
        },
        {
          "output_type": "display_data",
          "data": {
            "text/html": [
              "<br/>Waiting for W&B process to finish, PID 6283<br/>Program ended successfully."
            ],
            "text/plain": [
              "<IPython.core.display.HTML object>"
            ]
          },
          "metadata": {
            "tags": []
          }
        },
        {
          "output_type": "display_data",
          "data": {
            "application/vnd.jupyter.widget-view+json": {
              "model_id": "0b3e8db54598478ab4332d9c50f1754f",
              "version_minor": 0,
              "version_major": 2
            },
            "text/plain": [
              "VBox(children=(Label(value=' 10.36MB of 10.36MB uploaded (0.00MB deduped)\\r'), FloatProgress(value=1.0, max=1.…"
            ]
          },
          "metadata": {
            "tags": []
          }
        },
        {
          "output_type": "display_data",
          "data": {
            "text/html": [
              "Find user logs for this run at: <code>/root/.keras/datasets/dakshina_dataset_v1.0/hi/lexicons/wandb/run-20210428_195035-zqgwr53i/logs/debug.log</code>"
            ],
            "text/plain": [
              "<IPython.core.display.HTML object>"
            ]
          },
          "metadata": {
            "tags": []
          }
        },
        {
          "output_type": "display_data",
          "data": {
            "text/html": [
              "Find internal logs for this run at: <code>/root/.keras/datasets/dakshina_dataset_v1.0/hi/lexicons/wandb/run-20210428_195035-zqgwr53i/logs/debug-internal.log</code>"
            ],
            "text/plain": [
              "<IPython.core.display.HTML object>"
            ]
          },
          "metadata": {
            "tags": []
          }
        },
        {
          "output_type": "display_data",
          "data": {
            "text/html": [
              "<h3>Run summary:</h3><br/><style>\n",
              "    table.wandb td:nth-child(1) { padding: 0 10px; text-align: right }\n",
              "    </style><table class=\"wandb\">\n",
              "<tr><td>epoch</td><td>59</td></tr><tr><td>loss</td><td>0.01715</td></tr><tr><td>accuracy</td><td>0.99444</td></tr><tr><td>val_loss</td><td>1.62136</td></tr><tr><td>val_accuracy</td><td>0.78646</td></tr><tr><td>_runtime</td><td>450</td></tr><tr><td>_timestamp</td><td>1619639885</td></tr><tr><td>_step</td><td>59</td></tr><tr><td>best_val_loss</td><td>1.07371</td></tr><tr><td>best_epoch</td><td>12</td></tr></table>"
            ],
            "text/plain": [
              "<IPython.core.display.HTML object>"
            ]
          },
          "metadata": {
            "tags": []
          }
        },
        {
          "output_type": "display_data",
          "data": {
            "text/html": [
              "<h3>Run history:</h3><br/><style>\n",
              "    table.wandb td:nth-child(1) { padding: 0 10px; text-align: right }\n",
              "    </style><table class=\"wandb\">\n",
              "<tr><td>epoch</td><td>▁▁▁▁▂▂▂▂▂▃▃▃▃▃▃▄▄▄▄▄▅▅▅▅▅▅▆▆▆▆▆▆▇▇▇▇▇███</td></tr><tr><td>loss</td><td>█▆▆▅▅▅▄▄▄▃▃▃▃▂▂▂▂▂▂▂▁▁▁▁▁▁▁▁▁▁▁▁▁▁▁▁▁▁▁▁</td></tr><tr><td>accuracy</td><td>▁▂▃▃▃▄▄▄▅▅▆▆▆▆▇▇▇▇▇█████████████████████</td></tr><tr><td>val_loss</td><td>▃▂▂▂▁▂▁▁▁▁▁▁▁▂▂▂▃▂▃▃▃▄▄▄▅▅▆▆▆▆▆▇▇▇▇▇▇███</td></tr><tr><td>val_accuracy</td><td>▁▂▄▄▅▄▆▆▆▆▇▇▇▇▇▇▇▇▇█████████████████████</td></tr><tr><td>_runtime</td><td>▁▁▁▁▂▂▂▂▂▃▃▃▃▃▃▄▄▄▄▄▅▅▅▅▅▅▆▆▆▆▆▆▇▇▇▇▇███</td></tr><tr><td>_timestamp</td><td>▁▁▁▁▂▂▂▂▂▃▃▃▃▃▃▄▄▄▄▄▅▅▅▅▅▅▆▆▆▆▆▆▇▇▇▇▇███</td></tr><tr><td>_step</td><td>▁▁▁▁▂▂▂▂▂▃▃▃▃▃▃▄▄▄▄▄▅▅▅▅▅▅▆▆▆▆▆▆▇▇▇▇▇███</td></tr></table><br/>"
            ],
            "text/plain": [
              "<IPython.core.display.HTML object>"
            ]
          },
          "metadata": {
            "tags": []
          }
        },
        {
          "output_type": "display_data",
          "data": {
            "text/html": [
              "Synced 5 W&B file(s), 1 media file(s), 0 artifact file(s) and 1 other file(s)"
            ],
            "text/plain": [
              "<IPython.core.display.HTML object>"
            ]
          },
          "metadata": {
            "tags": []
          }
        },
        {
          "output_type": "display_data",
          "data": {
            "text/html": [
              "\n",
              "                    <br/>Synced <strong style=\"color:#cdcd00\">electric-sweep-28</strong>: <a href=\"https://wandb.ai/anshikag_2210/MachineTransliterator/runs/zqgwr53i\" target=\"_blank\">https://wandb.ai/anshikag_2210/MachineTransliterator/runs/zqgwr53i</a><br/>\n",
              "                "
            ],
            "text/plain": [
              "<IPython.core.display.HTML object>"
            ]
          },
          "metadata": {
            "tags": []
          }
        },
        {
          "output_type": "stream",
          "text": [
            "\u001b[34m\u001b[1mwandb\u001b[0m: Agent Starting Run: 61y3prvk with config:\n",
            "\u001b[34m\u001b[1mwandb\u001b[0m: \tbatch_size: 32\n",
            "\u001b[34m\u001b[1mwandb\u001b[0m: \tcell_type: gru\n",
            "\u001b[34m\u001b[1mwandb\u001b[0m: \tdecoder_embed_size: 64\n",
            "\u001b[34m\u001b[1mwandb\u001b[0m: \tdropout: 0\n",
            "\u001b[34m\u001b[1mwandb\u001b[0m: \tencoder_embed_size: 27\n",
            "\u001b[34m\u001b[1mwandb\u001b[0m: \tepochs: 40\n",
            "\u001b[34m\u001b[1mwandb\u001b[0m: \thidden_layer_size: 512\n",
            "\u001b[34m\u001b[1mwandb\u001b[0m: \tnum_decoder_layers: 3\n",
            "\u001b[34m\u001b[1mwandb\u001b[0m: \tnum_encoder_layers: 2\n",
            "\u001b[34m\u001b[1mwandb\u001b[0m: \tnum_hidden_layers: 10\n"
          ],
          "name": "stderr"
        },
        {
          "output_type": "display_data",
          "data": {
            "text/html": [
              "\n",
              "                Tracking run with wandb version 0.10.27<br/>\n",
              "                Syncing run <strong style=\"color:#cdcd00\">fresh-sweep-29</strong> to <a href=\"https://wandb.ai\" target=\"_blank\">Weights & Biases</a> <a href=\"https://docs.wandb.com/integrations/jupyter.html\" target=\"_blank\">(Documentation)</a>.<br/>\n",
              "                Project page: <a href=\"https://wandb.ai/anshikag_2210/MachineTransliterator\" target=\"_blank\">https://wandb.ai/anshikag_2210/MachineTransliterator</a><br/>\n",
              "                Sweep page: <a href=\"https://wandb.ai/anshikag_2210/MachineTransliterator/sweeps/4qzxmg7y\" target=\"_blank\">https://wandb.ai/anshikag_2210/MachineTransliterator/sweeps/4qzxmg7y</a><br/>\n",
              "Run page: <a href=\"https://wandb.ai/anshikag_2210/MachineTransliterator/runs/61y3prvk\" target=\"_blank\">https://wandb.ai/anshikag_2210/MachineTransliterator/runs/61y3prvk</a><br/>\n",
              "                Run data is saved locally in <code>/root/.keras/datasets/dakshina_dataset_v1.0/hi/lexicons/wandb/run-20210428_195815-61y3prvk</code><br/><br/>\n",
              "            "
            ],
            "text/plain": [
              "<IPython.core.display.HTML object>"
            ]
          },
          "metadata": {
            "tags": []
          }
        },
        {
          "output_type": "stream",
          "text": [
            "Epoch 1/40\n",
            "313/313 [==============================] - 16s 31ms/step - loss: 1.3813 - accuracy: 0.6866 - val_loss: 1.1653 - val_accuracy: 0.7375\n"
          ],
          "name": "stdout"
        },
        {
          "output_type": "stream",
          "text": [
            "\u001b[34m\u001b[1mwandb\u001b[0m: \u001b[32m\u001b[41mERROR\u001b[0m Can't save model, h5py returned error: Unable to create link (name already exists)\n"
          ],
          "name": "stderr"
        },
        {
          "output_type": "stream",
          "text": [
            "Epoch 2/40\n",
            "313/313 [==============================] - 8s 26ms/step - loss: 0.9282 - accuracy: 0.7381 - val_loss: 1.1607 - val_accuracy: 0.7431\n",
            "Epoch 3/40\n",
            "313/313 [==============================] - 8s 26ms/step - loss: 0.8689 - accuracy: 0.7522 - val_loss: 1.1802 - val_accuracy: 0.7506\n",
            "Epoch 4/40\n",
            "313/313 [==============================] - 8s 26ms/step - loss: 0.8129 - accuracy: 0.7681 - val_loss: 1.2016 - val_accuracy: 0.7490\n",
            "Epoch 5/40\n",
            "313/313 [==============================] - 8s 26ms/step - loss: 0.7570 - accuracy: 0.7812 - val_loss: 1.2006 - val_accuracy: 0.7552\n",
            "Epoch 6/40\n",
            "313/313 [==============================] - 8s 26ms/step - loss: 0.6989 - accuracy: 0.7946 - val_loss: 1.2066 - val_accuracy: 0.7600\n",
            "Epoch 7/40\n",
            "313/313 [==============================] - 8s 26ms/step - loss: 0.6497 - accuracy: 0.8089 - val_loss: 1.2032 - val_accuracy: 0.7661\n",
            "Epoch 8/40\n",
            "313/313 [==============================] - 8s 26ms/step - loss: 0.6030 - accuracy: 0.8216 - val_loss: 1.1910 - val_accuracy: 0.7657\n",
            "Epoch 9/40\n",
            "313/313 [==============================] - 8s 26ms/step - loss: 0.5557 - accuracy: 0.8341 - val_loss: 1.1892 - val_accuracy: 0.7674\n",
            "Epoch 10/40\n",
            "313/313 [==============================] - 8s 26ms/step - loss: 0.5106 - accuracy: 0.8482 - val_loss: 1.1818 - val_accuracy: 0.7686\n",
            "Epoch 11/40\n",
            "313/313 [==============================] - 8s 26ms/step - loss: 0.4697 - accuracy: 0.8597 - val_loss: 1.1884 - val_accuracy: 0.7695\n",
            "Epoch 12/40\n",
            "313/313 [==============================] - 8s 26ms/step - loss: 0.4341 - accuracy: 0.8718 - val_loss: 1.2048 - val_accuracy: 0.7685\n",
            "Epoch 13/40\n",
            "313/313 [==============================] - 8s 26ms/step - loss: 0.3988 - accuracy: 0.8816 - val_loss: 1.1909 - val_accuracy: 0.7752\n",
            "Epoch 14/40\n",
            "313/313 [==============================] - 8s 26ms/step - loss: 0.3733 - accuracy: 0.8898 - val_loss: 1.1828 - val_accuracy: 0.7751\n",
            "Epoch 15/40\n",
            "313/313 [==============================] - 8s 26ms/step - loss: 0.3426 - accuracy: 0.8997 - val_loss: 1.2098 - val_accuracy: 0.7737\n",
            "Epoch 16/40\n",
            "313/313 [==============================] - 8s 26ms/step - loss: 0.3175 - accuracy: 0.9079 - val_loss: 1.1950 - val_accuracy: 0.7774\n",
            "Epoch 17/40\n",
            "313/313 [==============================] - 8s 26ms/step - loss: 0.2913 - accuracy: 0.9158 - val_loss: 1.2108 - val_accuracy: 0.7763\n",
            "Epoch 18/40\n",
            "313/313 [==============================] - 8s 26ms/step - loss: 0.2687 - accuracy: 0.9231 - val_loss: 1.2172 - val_accuracy: 0.7767\n",
            "Epoch 19/40\n",
            "313/313 [==============================] - 8s 26ms/step - loss: 0.2492 - accuracy: 0.9288 - val_loss: 1.2262 - val_accuracy: 0.7783\n",
            "Epoch 20/40\n",
            "313/313 [==============================] - 8s 26ms/step - loss: 0.2280 - accuracy: 0.9365 - val_loss: 1.2287 - val_accuracy: 0.7784\n",
            "Epoch 21/40\n",
            "313/313 [==============================] - 8s 26ms/step - loss: 0.2114 - accuracy: 0.9412 - val_loss: 1.2465 - val_accuracy: 0.7773\n",
            "Epoch 22/40\n",
            "313/313 [==============================] - 8s 26ms/step - loss: 0.1936 - accuracy: 0.9464 - val_loss: 1.2534 - val_accuracy: 0.7797\n",
            "Epoch 23/40\n",
            "313/313 [==============================] - 8s 26ms/step - loss: 0.1803 - accuracy: 0.9516 - val_loss: 1.2469 - val_accuracy: 0.7793\n",
            "Epoch 24/40\n",
            "313/313 [==============================] - 8s 26ms/step - loss: 0.1673 - accuracy: 0.9548 - val_loss: 1.2618 - val_accuracy: 0.7810\n",
            "Epoch 25/40\n",
            "313/313 [==============================] - 8s 26ms/step - loss: 0.1539 - accuracy: 0.9591 - val_loss: 1.2714 - val_accuracy: 0.7815\n",
            "Epoch 26/40\n",
            "313/313 [==============================] - 8s 26ms/step - loss: 0.1425 - accuracy: 0.9634 - val_loss: 1.2846 - val_accuracy: 0.7801\n",
            "Epoch 27/40\n",
            "313/313 [==============================] - 8s 26ms/step - loss: 0.1309 - accuracy: 0.9655 - val_loss: 1.2931 - val_accuracy: 0.7793\n",
            "Epoch 28/40\n",
            "313/313 [==============================] - 8s 26ms/step - loss: 0.1224 - accuracy: 0.9679 - val_loss: 1.3111 - val_accuracy: 0.7803\n",
            "Epoch 29/40\n",
            "313/313 [==============================] - 8s 26ms/step - loss: 0.1128 - accuracy: 0.9709 - val_loss: 1.3182 - val_accuracy: 0.7818\n",
            "Epoch 30/40\n",
            "313/313 [==============================] - 8s 26ms/step - loss: 0.1031 - accuracy: 0.9736 - val_loss: 1.3247 - val_accuracy: 0.7822\n",
            "Epoch 31/40\n",
            "313/313 [==============================] - 8s 26ms/step - loss: 0.0976 - accuracy: 0.9752 - val_loss: 1.3250 - val_accuracy: 0.7831\n",
            "Epoch 32/40\n",
            "313/313 [==============================] - 8s 26ms/step - loss: 0.0919 - accuracy: 0.9768 - val_loss: 1.3557 - val_accuracy: 0.7809\n",
            "Epoch 33/40\n",
            "313/313 [==============================] - 8s 26ms/step - loss: 0.0845 - accuracy: 0.9790 - val_loss: 1.3724 - val_accuracy: 0.7802\n",
            "Epoch 34/40\n",
            "313/313 [==============================] - 8s 26ms/step - loss: 0.0811 - accuracy: 0.9792 - val_loss: 1.3608 - val_accuracy: 0.7825\n",
            "Epoch 35/40\n",
            "313/313 [==============================] - 8s 26ms/step - loss: 0.0753 - accuracy: 0.9813 - val_loss: 1.3693 - val_accuracy: 0.7823\n",
            "Epoch 36/40\n",
            "313/313 [==============================] - 8s 26ms/step - loss: 0.0688 - accuracy: 0.9834 - val_loss: 1.3912 - val_accuracy: 0.7813\n",
            "Epoch 37/40\n",
            "313/313 [==============================] - 8s 26ms/step - loss: 0.0657 - accuracy: 0.9834 - val_loss: 1.3927 - val_accuracy: 0.7825\n",
            "Epoch 38/40\n",
            "313/313 [==============================] - 8s 26ms/step - loss: 0.0617 - accuracy: 0.9847 - val_loss: 1.3991 - val_accuracy: 0.7825\n",
            "Epoch 39/40\n",
            "313/313 [==============================] - 8s 26ms/step - loss: 0.0570 - accuracy: 0.9864 - val_loss: 1.4107 - val_accuracy: 0.7825\n",
            "Epoch 40/40\n",
            "313/313 [==============================] - 8s 26ms/step - loss: 0.0558 - accuracy: 0.9861 - val_loss: 1.4262 - val_accuracy: 0.7825\n"
          ],
          "name": "stdout"
        },
        {
          "output_type": "display_data",
          "data": {
            "text/html": [
              "<br/>Waiting for W&B process to finish, PID 6587<br/>Program ended successfully."
            ],
            "text/plain": [
              "<IPython.core.display.HTML object>"
            ]
          },
          "metadata": {
            "tags": []
          }
        },
        {
          "output_type": "display_data",
          "data": {
            "application/vnd.jupyter.widget-view+json": {
              "model_id": "b04a4b303bbd4b6ca41ae0361bdd30ee",
              "version_minor": 0,
              "version_major": 2
            },
            "text/plain": [
              "VBox(children=(Label(value=' 24.77MB of 24.77MB uploaded (0.00MB deduped)\\r'), FloatProgress(value=1.0, max=1.…"
            ]
          },
          "metadata": {
            "tags": []
          }
        },
        {
          "output_type": "display_data",
          "data": {
            "text/html": [
              "Find user logs for this run at: <code>/root/.keras/datasets/dakshina_dataset_v1.0/hi/lexicons/wandb/run-20210428_195815-61y3prvk/logs/debug.log</code>"
            ],
            "text/plain": [
              "<IPython.core.display.HTML object>"
            ]
          },
          "metadata": {
            "tags": []
          }
        },
        {
          "output_type": "display_data",
          "data": {
            "text/html": [
              "Find internal logs for this run at: <code>/root/.keras/datasets/dakshina_dataset_v1.0/hi/lexicons/wandb/run-20210428_195815-61y3prvk/logs/debug-internal.log</code>"
            ],
            "text/plain": [
              "<IPython.core.display.HTML object>"
            ]
          },
          "metadata": {
            "tags": []
          }
        },
        {
          "output_type": "display_data",
          "data": {
            "text/html": [
              "<h3>Run summary:</h3><br/><style>\n",
              "    table.wandb td:nth-child(1) { padding: 0 10px; text-align: right }\n",
              "    </style><table class=\"wandb\">\n",
              "<tr><td>epoch</td><td>39</td></tr><tr><td>loss</td><td>0.0576</td></tr><tr><td>accuracy</td><td>0.98509</td></tr><tr><td>val_loss</td><td>1.42623</td></tr><tr><td>val_accuracy</td><td>0.78253</td></tr><tr><td>_runtime</td><td>339</td></tr><tr><td>_timestamp</td><td>1619640234</td></tr><tr><td>_step</td><td>39</td></tr><tr><td>best_val_loss</td><td>1.16068</td></tr><tr><td>best_epoch</td><td>1</td></tr></table>"
            ],
            "text/plain": [
              "<IPython.core.display.HTML object>"
            ]
          },
          "metadata": {
            "tags": []
          }
        },
        {
          "output_type": "display_data",
          "data": {
            "text/html": [
              "<h3>Run history:</h3><br/><style>\n",
              "    table.wandb td:nth-child(1) { padding: 0 10px; text-align: right }\n",
              "    </style><table class=\"wandb\">\n",
              "<tr><td>epoch</td><td>▁▁▁▂▂▂▂▂▂▃▃▃▃▃▄▄▄▄▄▄▅▅▅▅▅▅▆▆▆▆▆▇▇▇▇▇▇███</td></tr><tr><td>loss</td><td>█▇▆▆▅▅▅▄▄▄▄▃▃▃▃▃▃▂▂▂▂▂▂▂▂▂▂▁▁▁▁▁▁▁▁▁▁▁▁▁</td></tr><tr><td>accuracy</td><td>▁▂▂▂▃▃▄▄▄▅▅▅▅▆▆▆▆▆▇▇▇▇▇▇▇▇▇█████████████</td></tr><tr><td>val_loss</td><td>▁▁▂▂▂▂▂▂▂▂▂▂▂▂▂▂▂▂▃▃▃▃▃▄▄▄▄▅▅▅▅▆▇▆▆▇▇▇██</td></tr><tr><td>val_accuracy</td><td>▁▂▃▃▄▄▅▅▆▆▆▆▇▇▇▇▇▇▇▇▇▇▇███▇█████████████</td></tr><tr><td>_runtime</td><td>▁▁▁▂▂▂▂▂▂▃▃▃▃▃▄▄▄▄▄▄▅▅▅▅▅▅▆▆▆▆▆▇▇▇▇▇▇███</td></tr><tr><td>_timestamp</td><td>▁▁▁▂▂▂▂▂▂▃▃▃▃▃▄▄▄▄▄▄▅▅▅▅▅▅▆▆▆▆▆▇▇▇▇▇▇███</td></tr><tr><td>_step</td><td>▁▁▁▂▂▂▂▂▂▃▃▃▃▃▄▄▄▄▄▄▅▅▅▅▅▅▆▆▆▆▆▇▇▇▇▇▇███</td></tr></table><br/>"
            ],
            "text/plain": [
              "<IPython.core.display.HTML object>"
            ]
          },
          "metadata": {
            "tags": []
          }
        },
        {
          "output_type": "display_data",
          "data": {
            "text/html": [
              "Synced 5 W&B file(s), 1 media file(s), 0 artifact file(s) and 1 other file(s)"
            ],
            "text/plain": [
              "<IPython.core.display.HTML object>"
            ]
          },
          "metadata": {
            "tags": []
          }
        },
        {
          "output_type": "display_data",
          "data": {
            "text/html": [
              "\n",
              "                    <br/>Synced <strong style=\"color:#cdcd00\">fresh-sweep-29</strong>: <a href=\"https://wandb.ai/anshikag_2210/MachineTransliterator/runs/61y3prvk\" target=\"_blank\">https://wandb.ai/anshikag_2210/MachineTransliterator/runs/61y3prvk</a><br/>\n",
              "                "
            ],
            "text/plain": [
              "<IPython.core.display.HTML object>"
            ]
          },
          "metadata": {
            "tags": []
          }
        },
        {
          "output_type": "stream",
          "text": [
            "\u001b[34m\u001b[1mwandb\u001b[0m: Agent Starting Run: tr01aasq with config:\n",
            "\u001b[34m\u001b[1mwandb\u001b[0m: \tbatch_size: 32\n",
            "\u001b[34m\u001b[1mwandb\u001b[0m: \tcell_type: gru\n",
            "\u001b[34m\u001b[1mwandb\u001b[0m: \tdecoder_embed_size: 27\n",
            "\u001b[34m\u001b[1mwandb\u001b[0m: \tdropout: 0.0001\n",
            "\u001b[34m\u001b[1mwandb\u001b[0m: \tencoder_embed_size: 27\n",
            "\u001b[34m\u001b[1mwandb\u001b[0m: \tepochs: 40\n",
            "\u001b[34m\u001b[1mwandb\u001b[0m: \thidden_layer_size: 512\n",
            "\u001b[34m\u001b[1mwandb\u001b[0m: \tnum_decoder_layers: 4\n",
            "\u001b[34m\u001b[1mwandb\u001b[0m: \tnum_encoder_layers: 3\n",
            "\u001b[34m\u001b[1mwandb\u001b[0m: \tnum_hidden_layers: 5\n"
          ],
          "name": "stderr"
        },
        {
          "output_type": "display_data",
          "data": {
            "text/html": [
              "\n",
              "                Tracking run with wandb version 0.10.27<br/>\n",
              "                Syncing run <strong style=\"color:#cdcd00\">youthful-sweep-30</strong> to <a href=\"https://wandb.ai\" target=\"_blank\">Weights & Biases</a> <a href=\"https://docs.wandb.com/integrations/jupyter.html\" target=\"_blank\">(Documentation)</a>.<br/>\n",
              "                Project page: <a href=\"https://wandb.ai/anshikag_2210/MachineTransliterator\" target=\"_blank\">https://wandb.ai/anshikag_2210/MachineTransliterator</a><br/>\n",
              "                Sweep page: <a href=\"https://wandb.ai/anshikag_2210/MachineTransliterator/sweeps/4qzxmg7y\" target=\"_blank\">https://wandb.ai/anshikag_2210/MachineTransliterator/sweeps/4qzxmg7y</a><br/>\n",
              "Run page: <a href=\"https://wandb.ai/anshikag_2210/MachineTransliterator/runs/tr01aasq\" target=\"_blank\">https://wandb.ai/anshikag_2210/MachineTransliterator/runs/tr01aasq</a><br/>\n",
              "                Run data is saved locally in <code>/root/.keras/datasets/dakshina_dataset_v1.0/hi/lexicons/wandb/run-20210428_200403-tr01aasq</code><br/><br/>\n",
              "            "
            ],
            "text/plain": [
              "<IPython.core.display.HTML object>"
            ]
          },
          "metadata": {
            "tags": []
          }
        },
        {
          "output_type": "stream",
          "text": [
            "Epoch 1/40\n",
            "313/313 [==============================] - 22s 42ms/step - loss: 1.4935 - accuracy: 0.6833 - val_loss: 1.2214 - val_accuracy: 0.7234\n"
          ],
          "name": "stdout"
        },
        {
          "output_type": "stream",
          "text": [
            "\u001b[34m\u001b[1mwandb\u001b[0m: \u001b[32m\u001b[41mERROR\u001b[0m Can't save model, h5py returned error: Unable to create link (name already exists)\n"
          ],
          "name": "stderr"
        },
        {
          "output_type": "stream",
          "text": [
            "Epoch 2/40\n",
            "313/313 [==============================] - 11s 36ms/step - loss: 1.0473 - accuracy: 0.7215 - val_loss: 1.2436 - val_accuracy: 0.7210\n",
            "Epoch 3/40\n",
            "313/313 [==============================] - 11s 36ms/step - loss: 1.0067 - accuracy: 0.7280 - val_loss: 1.2050 - val_accuracy: 0.7387\n",
            "Epoch 4/40\n",
            "313/313 [==============================] - 11s 36ms/step - loss: 0.9048 - accuracy: 0.7499 - val_loss: 1.1589 - val_accuracy: 0.7447\n",
            "Epoch 5/40\n",
            "313/313 [==============================] - 11s 36ms/step - loss: 0.8470 - accuracy: 0.7611 - val_loss: 1.1744 - val_accuracy: 0.7501\n",
            "Epoch 6/40\n",
            "313/313 [==============================] - 11s 36ms/step - loss: 0.8031 - accuracy: 0.7703 - val_loss: 1.1749 - val_accuracy: 0.7505\n",
            "Epoch 7/40\n",
            "313/313 [==============================] - 11s 36ms/step - loss: 0.7659 - accuracy: 0.7791 - val_loss: 1.1935 - val_accuracy: 0.7486\n",
            "Epoch 8/40\n",
            "313/313 [==============================] - 11s 35ms/step - loss: 0.7316 - accuracy: 0.7872 - val_loss: 1.1775 - val_accuracy: 0.7538\n",
            "Epoch 9/40\n",
            "313/313 [==============================] - 11s 35ms/step - loss: 0.7109 - accuracy: 0.7930 - val_loss: 1.1783 - val_accuracy: 0.7535\n",
            "Epoch 10/40\n",
            "313/313 [==============================] - 11s 36ms/step - loss: 0.6823 - accuracy: 0.8009 - val_loss: 1.1734 - val_accuracy: 0.7564\n",
            "Epoch 11/40\n",
            "313/313 [==============================] - 11s 36ms/step - loss: 0.6550 - accuracy: 0.8077 - val_loss: 1.1718 - val_accuracy: 0.7591\n",
            "Epoch 12/40\n",
            "313/313 [==============================] - 11s 36ms/step - loss: 0.6312 - accuracy: 0.8132 - val_loss: 1.1691 - val_accuracy: 0.7600\n",
            "Epoch 13/40\n",
            "313/313 [==============================] - 11s 36ms/step - loss: 0.6078 - accuracy: 0.8184 - val_loss: 1.1690 - val_accuracy: 0.7611\n",
            "Epoch 14/40\n",
            "313/313 [==============================] - 11s 36ms/step - loss: 0.5974 - accuracy: 0.8222 - val_loss: 1.1779 - val_accuracy: 0.7612\n",
            "Epoch 15/40\n",
            "313/313 [==============================] - 11s 36ms/step - loss: 0.5762 - accuracy: 0.8279 - val_loss: 1.1751 - val_accuracy: 0.7617\n",
            "Epoch 16/40\n",
            "313/313 [==============================] - 11s 36ms/step - loss: 0.5573 - accuracy: 0.8332 - val_loss: 1.1770 - val_accuracy: 0.7620\n",
            "Epoch 17/40\n",
            "313/313 [==============================] - 11s 36ms/step - loss: 0.5400 - accuracy: 0.8390 - val_loss: 1.1833 - val_accuracy: 0.7640\n",
            "Epoch 18/40\n",
            "313/313 [==============================] - 11s 35ms/step - loss: 0.5303 - accuracy: 0.8414 - val_loss: 1.1772 - val_accuracy: 0.7637\n",
            "Epoch 19/40\n",
            "313/313 [==============================] - 11s 36ms/step - loss: 0.5100 - accuracy: 0.8473 - val_loss: 1.1744 - val_accuracy: 0.7661\n",
            "Epoch 20/40\n",
            "313/313 [==============================] - 11s 36ms/step - loss: 0.4957 - accuracy: 0.8510 - val_loss: 1.1714 - val_accuracy: 0.7678\n",
            "Epoch 21/40\n",
            "313/313 [==============================] - 11s 36ms/step - loss: 0.4871 - accuracy: 0.8539 - val_loss: 1.1882 - val_accuracy: 0.7630\n",
            "Epoch 22/40\n",
            "313/313 [==============================] - 11s 36ms/step - loss: 0.4690 - accuracy: 0.8592 - val_loss: 1.1761 - val_accuracy: 0.7694\n",
            "Epoch 23/40\n",
            "313/313 [==============================] - 11s 36ms/step - loss: 0.4619 - accuracy: 0.8621 - val_loss: 1.1796 - val_accuracy: 0.7690\n",
            "Epoch 24/40\n",
            "313/313 [==============================] - 11s 36ms/step - loss: 0.4473 - accuracy: 0.8658 - val_loss: 1.1775 - val_accuracy: 0.7711\n",
            "Epoch 25/40\n",
            "313/313 [==============================] - 11s 36ms/step - loss: 0.4380 - accuracy: 0.8693 - val_loss: 1.1880 - val_accuracy: 0.7687\n",
            "Epoch 26/40\n",
            "313/313 [==============================] - 11s 36ms/step - loss: 0.4282 - accuracy: 0.8722 - val_loss: 1.1923 - val_accuracy: 0.7670\n",
            "Epoch 27/40\n",
            "313/313 [==============================] - 11s 36ms/step - loss: 0.4177 - accuracy: 0.8764 - val_loss: 1.1854 - val_accuracy: 0.7717\n",
            "Epoch 28/40\n",
            "313/313 [==============================] - 11s 36ms/step - loss: 0.4072 - accuracy: 0.8792 - val_loss: 1.1874 - val_accuracy: 0.7707\n",
            "Epoch 29/40\n",
            "313/313 [==============================] - 11s 36ms/step - loss: 0.3927 - accuracy: 0.8844 - val_loss: 1.1965 - val_accuracy: 0.7711\n",
            "Epoch 30/40\n",
            "313/313 [==============================] - 11s 36ms/step - loss: 0.3866 - accuracy: 0.8866 - val_loss: 1.1937 - val_accuracy: 0.7713\n",
            "Epoch 31/40\n",
            "313/313 [==============================] - 11s 36ms/step - loss: 0.3770 - accuracy: 0.8891 - val_loss: 1.2023 - val_accuracy: 0.7706\n",
            "Epoch 32/40\n",
            "313/313 [==============================] - 11s 36ms/step - loss: 0.3708 - accuracy: 0.8910 - val_loss: 1.2008 - val_accuracy: 0.7722\n",
            "Epoch 33/40\n",
            "313/313 [==============================] - 11s 36ms/step - loss: 0.3585 - accuracy: 0.8952 - val_loss: 1.1968 - val_accuracy: 0.7737\n",
            "Epoch 34/40\n",
            "313/313 [==============================] - 11s 36ms/step - loss: 0.3538 - accuracy: 0.8972 - val_loss: 1.2049 - val_accuracy: 0.7734\n",
            "Epoch 35/40\n",
            "313/313 [==============================] - 11s 36ms/step - loss: 0.3475 - accuracy: 0.8986 - val_loss: 1.2104 - val_accuracy: 0.7723\n",
            "Epoch 36/40\n",
            "313/313 [==============================] - 11s 36ms/step - loss: 0.3388 - accuracy: 0.9027 - val_loss: 1.2157 - val_accuracy: 0.7721\n",
            "Epoch 37/40\n",
            "313/313 [==============================] - 11s 36ms/step - loss: 0.3330 - accuracy: 0.9040 - val_loss: 1.2043 - val_accuracy: 0.7737\n",
            "Epoch 38/40\n",
            "313/313 [==============================] - 11s 36ms/step - loss: 0.3255 - accuracy: 0.9062 - val_loss: 1.2178 - val_accuracy: 0.7722\n",
            "Epoch 39/40\n",
            "313/313 [==============================] - 11s 36ms/step - loss: 0.3182 - accuracy: 0.9090 - val_loss: 1.2256 - val_accuracy: 0.7722\n",
            "Epoch 40/40\n",
            "313/313 [==============================] - 11s 36ms/step - loss: 0.3118 - accuracy: 0.9110 - val_loss: 1.2241 - val_accuracy: 0.7721\n"
          ],
          "name": "stdout"
        },
        {
          "output_type": "display_data",
          "data": {
            "text/html": [
              "<br/>Waiting for W&B process to finish, PID 6789<br/>Program ended successfully."
            ],
            "text/plain": [
              "<IPython.core.display.HTML object>"
            ]
          },
          "metadata": {
            "tags": []
          }
        },
        {
          "output_type": "display_data",
          "data": {
            "application/vnd.jupyter.widget-view+json": {
              "model_id": "f8361059493848a3983adc61032701ca",
              "version_minor": 0,
              "version_major": 2
            },
            "text/plain": [
              "VBox(children=(Label(value=' 36.59MB of 36.59MB uploaded (0.00MB deduped)\\r'), FloatProgress(value=1.0, max=1.…"
            ]
          },
          "metadata": {
            "tags": []
          }
        },
        {
          "output_type": "display_data",
          "data": {
            "text/html": [
              "Find user logs for this run at: <code>/root/.keras/datasets/dakshina_dataset_v1.0/hi/lexicons/wandb/run-20210428_200403-tr01aasq/logs/debug.log</code>"
            ],
            "text/plain": [
              "<IPython.core.display.HTML object>"
            ]
          },
          "metadata": {
            "tags": []
          }
        },
        {
          "output_type": "display_data",
          "data": {
            "text/html": [
              "Find internal logs for this run at: <code>/root/.keras/datasets/dakshina_dataset_v1.0/hi/lexicons/wandb/run-20210428_200403-tr01aasq/logs/debug-internal.log</code>"
            ],
            "text/plain": [
              "<IPython.core.display.HTML object>"
            ]
          },
          "metadata": {
            "tags": []
          }
        },
        {
          "output_type": "display_data",
          "data": {
            "text/html": [
              "<h3>Run summary:</h3><br/><style>\n",
              "    table.wandb td:nth-child(1) { padding: 0 10px; text-align: right }\n",
              "    </style><table class=\"wandb\">\n",
              "<tr><td>epoch</td><td>39</td></tr><tr><td>loss</td><td>0.31424</td></tr><tr><td>accuracy</td><td>0.91035</td></tr><tr><td>val_loss</td><td>1.2241</td></tr><tr><td>val_accuracy</td><td>0.77212</td></tr><tr><td>_runtime</td><td>464</td></tr><tr><td>_timestamp</td><td>1619640707</td></tr><tr><td>_step</td><td>39</td></tr><tr><td>best_val_loss</td><td>1.1589</td></tr><tr><td>best_epoch</td><td>3</td></tr></table>"
            ],
            "text/plain": [
              "<IPython.core.display.HTML object>"
            ]
          },
          "metadata": {
            "tags": []
          }
        },
        {
          "output_type": "display_data",
          "data": {
            "text/html": [
              "<h3>Run history:</h3><br/><style>\n",
              "    table.wandb td:nth-child(1) { padding: 0 10px; text-align: right }\n",
              "    </style><table class=\"wandb\">\n",
              "<tr><td>epoch</td><td>▁▁▁▂▂▂▂▂▂▃▃▃▃▃▄▄▄▄▄▄▅▅▅▅▅▅▆▆▆▆▆▇▇▇▇▇▇███</td></tr><tr><td>loss</td><td>█▇▆▅▅▅▄▄▄▄▄▃▃▃▃▃▃▃▃▂▂▂▂▂▂▂▂▂▂▂▂▁▁▁▁▁▁▁▁▁</td></tr><tr><td>accuracy</td><td>▁▂▂▃▃▃▄▄▄▄▄▅▅▅▅▅▆▆▆▆▆▆▆▆▇▇▇▇▇▇▇▇▇███████</td></tr><tr><td>val_loss</td><td>▆█▅▁▂▂▄▃▃▂▂▂▂▃▂▂▃▃▂▂▃▂▃▃▃▄▃▃▄▄▅▄▄▅▅▆▅▆▇▆</td></tr><tr><td>val_accuracy</td><td>▁▁▃▄▅▅▅▅▅▆▆▆▆▆▆▆▇▇▇▇▇▇▇█▇▇██████████████</td></tr><tr><td>_runtime</td><td>▁▁▁▂▂▂▂▂▂▃▃▃▃▃▄▄▄▄▄▄▅▅▅▅▅▅▆▆▆▆▆▇▇▇▇▇▇███</td></tr><tr><td>_timestamp</td><td>▁▁▁▂▂▂▂▂▂▃▃▃▃▃▄▄▄▄▄▄▅▅▅▅▅▅▆▆▆▆▆▇▇▇▇▇▇███</td></tr><tr><td>_step</td><td>▁▁▁▂▂▂▂▂▂▃▃▃▃▃▄▄▄▄▄▄▅▅▅▅▅▅▆▆▆▆▆▇▇▇▇▇▇███</td></tr></table><br/>"
            ],
            "text/plain": [
              "<IPython.core.display.HTML object>"
            ]
          },
          "metadata": {
            "tags": []
          }
        },
        {
          "output_type": "display_data",
          "data": {
            "text/html": [
              "Synced 5 W&B file(s), 1 media file(s), 0 artifact file(s) and 1 other file(s)"
            ],
            "text/plain": [
              "<IPython.core.display.HTML object>"
            ]
          },
          "metadata": {
            "tags": []
          }
        },
        {
          "output_type": "display_data",
          "data": {
            "text/html": [
              "\n",
              "                    <br/>Synced <strong style=\"color:#cdcd00\">youthful-sweep-30</strong>: <a href=\"https://wandb.ai/anshikag_2210/MachineTransliterator/runs/tr01aasq\" target=\"_blank\">https://wandb.ai/anshikag_2210/MachineTransliterator/runs/tr01aasq</a><br/>\n",
              "                "
            ],
            "text/plain": [
              "<IPython.core.display.HTML object>"
            ]
          },
          "metadata": {
            "tags": []
          }
        },
        {
          "output_type": "stream",
          "text": [
            "\u001b[34m\u001b[1mwandb\u001b[0m: Agent Starting Run: 5xzvtlve with config:\n",
            "\u001b[34m\u001b[1mwandb\u001b[0m: \tbatch_size: 64\n",
            "\u001b[34m\u001b[1mwandb\u001b[0m: \tcell_type: gru\n",
            "\u001b[34m\u001b[1mwandb\u001b[0m: \tdecoder_embed_size: 27\n",
            "\u001b[34m\u001b[1mwandb\u001b[0m: \tdropout: 0.5\n",
            "\u001b[34m\u001b[1mwandb\u001b[0m: \tencoder_embed_size: 64\n",
            "\u001b[34m\u001b[1mwandb\u001b[0m: \tepochs: 30\n",
            "\u001b[34m\u001b[1mwandb\u001b[0m: \thidden_layer_size: 512\n",
            "\u001b[34m\u001b[1mwandb\u001b[0m: \tnum_decoder_layers: 1\n",
            "\u001b[34m\u001b[1mwandb\u001b[0m: \tnum_encoder_layers: 2\n",
            "\u001b[34m\u001b[1mwandb\u001b[0m: \tnum_hidden_layers: 10\n"
          ],
          "name": "stderr"
        },
        {
          "output_type": "display_data",
          "data": {
            "text/html": [
              "\n",
              "                Tracking run with wandb version 0.10.27<br/>\n",
              "                Syncing run <strong style=\"color:#cdcd00\">drawn-sweep-31</strong> to <a href=\"https://wandb.ai\" target=\"_blank\">Weights & Biases</a> <a href=\"https://docs.wandb.com/integrations/jupyter.html\" target=\"_blank\">(Documentation)</a>.<br/>\n",
              "                Project page: <a href=\"https://wandb.ai/anshikag_2210/MachineTransliterator\" target=\"_blank\">https://wandb.ai/anshikag_2210/MachineTransliterator</a><br/>\n",
              "                Sweep page: <a href=\"https://wandb.ai/anshikag_2210/MachineTransliterator/sweeps/4qzxmg7y\" target=\"_blank\">https://wandb.ai/anshikag_2210/MachineTransliterator/sweeps/4qzxmg7y</a><br/>\n",
              "Run page: <a href=\"https://wandb.ai/anshikag_2210/MachineTransliterator/runs/5xzvtlve\" target=\"_blank\">https://wandb.ai/anshikag_2210/MachineTransliterator/runs/5xzvtlve</a><br/>\n",
              "                Run data is saved locally in <code>/root/.keras/datasets/dakshina_dataset_v1.0/hi/lexicons/wandb/run-20210428_201156-5xzvtlve</code><br/><br/>\n",
              "            "
            ],
            "text/plain": [
              "<IPython.core.display.HTML object>"
            ]
          },
          "metadata": {
            "tags": []
          }
        },
        {
          "output_type": "stream",
          "text": [
            "Epoch 1/30\n",
            "157/157 [==============================] - 9s 28ms/step - loss: 2.4572 - accuracy: 0.6409 - val_loss: 1.2110 - val_accuracy: 0.7145\n"
          ],
          "name": "stdout"
        },
        {
          "output_type": "stream",
          "text": [
            "\u001b[34m\u001b[1mwandb\u001b[0m: \u001b[32m\u001b[41mERROR\u001b[0m Can't save model, h5py returned error: Unable to create link (name already exists)\n"
          ],
          "name": "stderr"
        },
        {
          "output_type": "stream",
          "text": [
            "Epoch 2/30\n",
            "157/157 [==============================] - 3s 22ms/step - loss: 1.1561 - accuracy: 0.7100 - val_loss: 1.1877 - val_accuracy: 0.7205\n",
            "Epoch 3/30\n",
            "157/157 [==============================] - 3s 22ms/step - loss: 1.1153 - accuracy: 0.7162 - val_loss: 1.1913 - val_accuracy: 0.7212\n",
            "Epoch 4/30\n",
            "157/157 [==============================] - 3s 22ms/step - loss: 1.0988 - accuracy: 0.7197 - val_loss: 1.2031 - val_accuracy: 0.7207\n",
            "Epoch 5/30\n",
            "157/157 [==============================] - 3s 22ms/step - loss: 1.0882 - accuracy: 0.7202 - val_loss: 1.2087 - val_accuracy: 0.7226\n",
            "Epoch 6/30\n",
            "157/157 [==============================] - 3s 22ms/step - loss: 1.0814 - accuracy: 0.7202 - val_loss: 1.2206 - val_accuracy: 0.7237\n",
            "Epoch 7/30\n",
            "157/157 [==============================] - 3s 22ms/step - loss: 1.0819 - accuracy: 0.7185 - val_loss: 1.2208 - val_accuracy: 0.7227\n",
            "Epoch 8/30\n",
            "157/157 [==============================] - 3s 22ms/step - loss: 1.0719 - accuracy: 0.7203 - val_loss: 1.2197 - val_accuracy: 0.7236\n",
            "Epoch 9/30\n",
            "157/157 [==============================] - 3s 22ms/step - loss: 1.0704 - accuracy: 0.7212 - val_loss: 1.2220 - val_accuracy: 0.7238\n",
            "Epoch 10/30\n",
            "157/157 [==============================] - 3s 22ms/step - loss: 1.0609 - accuracy: 0.7221 - val_loss: 1.2277 - val_accuracy: 0.7241\n",
            "Epoch 11/30\n",
            "157/157 [==============================] - 3s 22ms/step - loss: 1.0684 - accuracy: 0.7200 - val_loss: 1.2344 - val_accuracy: 0.7239\n",
            "Epoch 12/30\n",
            "157/157 [==============================] - 3s 22ms/step - loss: 1.0564 - accuracy: 0.7226 - val_loss: 1.2261 - val_accuracy: 0.7245\n",
            "Epoch 13/30\n",
            "157/157 [==============================] - 3s 22ms/step - loss: 1.0581 - accuracy: 0.7219 - val_loss: 1.2317 - val_accuracy: 0.7241\n",
            "Epoch 14/30\n",
            "157/157 [==============================] - 3s 22ms/step - loss: 1.0451 - accuracy: 0.7244 - val_loss: 1.2313 - val_accuracy: 0.7253\n",
            "Epoch 15/30\n",
            "157/157 [==============================] - 3s 22ms/step - loss: 1.0533 - accuracy: 0.7219 - val_loss: 1.2327 - val_accuracy: 0.7256\n",
            "Epoch 16/30\n",
            "157/157 [==============================] - 3s 22ms/step - loss: 1.0451 - accuracy: 0.7233 - val_loss: 1.2343 - val_accuracy: 0.7253\n",
            "Epoch 17/30\n",
            "157/157 [==============================] - 3s 22ms/step - loss: 1.0396 - accuracy: 0.7248 - val_loss: 1.2438 - val_accuracy: 0.7265\n",
            "Epoch 18/30\n",
            "157/157 [==============================] - 3s 22ms/step - loss: 1.0399 - accuracy: 0.7251 - val_loss: 1.2387 - val_accuracy: 0.7270\n",
            "Epoch 19/30\n",
            "157/157 [==============================] - 3s 22ms/step - loss: 1.0328 - accuracy: 0.7271 - val_loss: 1.2388 - val_accuracy: 0.7261\n",
            "Epoch 20/30\n",
            "157/157 [==============================] - 3s 22ms/step - loss: 1.0388 - accuracy: 0.7255 - val_loss: 1.2409 - val_accuracy: 0.7290\n",
            "Epoch 21/30\n",
            "157/157 [==============================] - 3s 22ms/step - loss: 1.0371 - accuracy: 0.7256 - val_loss: 1.2324 - val_accuracy: 0.7294\n",
            "Epoch 22/30\n",
            "157/157 [==============================] - 3s 21ms/step - loss: 1.0261 - accuracy: 0.7293 - val_loss: 1.2376 - val_accuracy: 0.7298\n",
            "Epoch 23/30\n",
            "157/157 [==============================] - 3s 22ms/step - loss: 1.0288 - accuracy: 0.7287 - val_loss: 1.2380 - val_accuracy: 0.7303\n",
            "Epoch 24/30\n",
            "157/157 [==============================] - 3s 22ms/step - loss: 1.0245 - accuracy: 0.7293 - val_loss: 1.2337 - val_accuracy: 0.7310\n",
            "Epoch 25/30\n",
            "157/157 [==============================] - 3s 22ms/step - loss: 1.0233 - accuracy: 0.7294 - val_loss: 1.2360 - val_accuracy: 0.7317\n",
            "Epoch 26/30\n",
            "157/157 [==============================] - 3s 22ms/step - loss: 1.0151 - accuracy: 0.7310 - val_loss: 1.2329 - val_accuracy: 0.7315\n",
            "Epoch 27/30\n",
            "157/157 [==============================] - 3s 22ms/step - loss: 1.0123 - accuracy: 0.7319 - val_loss: 1.2342 - val_accuracy: 0.7319\n",
            "Epoch 28/30\n",
            "157/157 [==============================] - 3s 22ms/step - loss: 1.0142 - accuracy: 0.7314 - val_loss: 1.2295 - val_accuracy: 0.7321\n",
            "Epoch 29/30\n",
            "157/157 [==============================] - 3s 22ms/step - loss: 1.0119 - accuracy: 0.7315 - val_loss: 1.2270 - val_accuracy: 0.7330\n",
            "Epoch 30/30\n",
            "157/157 [==============================] - 3s 22ms/step - loss: 1.0087 - accuracy: 0.7329 - val_loss: 1.2268 - val_accuracy: 0.7335\n"
          ],
          "name": "stdout"
        },
        {
          "output_type": "display_data",
          "data": {
            "text/html": [
              "<br/>Waiting for W&B process to finish, PID 7029<br/>Program ended successfully."
            ],
            "text/plain": [
              "<IPython.core.display.HTML object>"
            ]
          },
          "metadata": {
            "tags": []
          }
        },
        {
          "output_type": "display_data",
          "data": {
            "application/vnd.jupyter.widget-view+json": {
              "model_id": "f95d140f94a24bd1afbcaf555d89d613",
              "version_minor": 0,
              "version_major": 2
            },
            "text/plain": [
              "VBox(children=(Label(value=' 12.74MB of 12.74MB uploaded (0.00MB deduped)\\r'), FloatProgress(value=1.0, max=1.…"
            ]
          },
          "metadata": {
            "tags": []
          }
        },
        {
          "output_type": "display_data",
          "data": {
            "text/html": [
              "Find user logs for this run at: <code>/root/.keras/datasets/dakshina_dataset_v1.0/hi/lexicons/wandb/run-20210428_201156-5xzvtlve/logs/debug.log</code>"
            ],
            "text/plain": [
              "<IPython.core.display.HTML object>"
            ]
          },
          "metadata": {
            "tags": []
          }
        },
        {
          "output_type": "display_data",
          "data": {
            "text/html": [
              "Find internal logs for this run at: <code>/root/.keras/datasets/dakshina_dataset_v1.0/hi/lexicons/wandb/run-20210428_201156-5xzvtlve/logs/debug-internal.log</code>"
            ],
            "text/plain": [
              "<IPython.core.display.HTML object>"
            ]
          },
          "metadata": {
            "tags": []
          }
        },
        {
          "output_type": "display_data",
          "data": {
            "text/html": [
              "<h3>Run summary:</h3><br/><style>\n",
              "    table.wandb td:nth-child(1) { padding: 0 10px; text-align: right }\n",
              "    </style><table class=\"wandb\">\n",
              "<tr><td>epoch</td><td>29</td></tr><tr><td>loss</td><td>1.00692</td></tr><tr><td>accuracy</td><td>0.73352</td></tr><tr><td>val_loss</td><td>1.22684</td></tr><tr><td>val_accuracy</td><td>0.73354</td></tr><tr><td>_runtime</td><td>114</td></tr><tr><td>_timestamp</td><td>1619640830</td></tr><tr><td>_step</td><td>29</td></tr><tr><td>best_val_loss</td><td>1.18771</td></tr><tr><td>best_epoch</td><td>1</td></tr></table>"
            ],
            "text/plain": [
              "<IPython.core.display.HTML object>"
            ]
          },
          "metadata": {
            "tags": []
          }
        },
        {
          "output_type": "display_data",
          "data": {
            "text/html": [
              "<h3>Run history:</h3><br/><style>\n",
              "    table.wandb td:nth-child(1) { padding: 0 10px; text-align: right }\n",
              "    </style><table class=\"wandb\">\n",
              "<tr><td>epoch</td><td>▁▁▁▂▂▂▂▃▃▃▃▄▄▄▄▅▅▅▅▆▆▆▆▇▇▇▇███</td></tr><tr><td>loss</td><td>█▂▂▂▂▂▂▂▂▂▂▂▂▁▁▁▁▁▁▁▁▁▁▁▁▁▁▁▁▁</td></tr><tr><td>accuracy</td><td>▁▄▅▆▆▆▆▆▆▆▆▆▆▆▆▆▇▇▇▇▇▇▇▇▇█████</td></tr><tr><td>val_loss</td><td>▄▁▁▃▄▅▅▅▅▆▇▆▆▆▇▇█▇▇█▇▇▇▇▇▇▇▆▆▆</td></tr><tr><td>val_accuracy</td><td>▁▃▃▃▄▄▄▄▄▅▄▅▅▅▅▅▅▆▅▆▆▇▇▇▇▇▇▇██</td></tr><tr><td>_runtime</td><td>▁▁▂▂▂▂▃▃▃▃▃▄▄▄▄▅▅▅▅▆▆▆▆▇▇▇▇███</td></tr><tr><td>_timestamp</td><td>▁▁▂▂▂▂▃▃▃▃▃▄▄▄▄▅▅▅▅▆▆▆▆▇▇▇▇███</td></tr><tr><td>_step</td><td>▁▁▁▂▂▂▂▃▃▃▃▄▄▄▄▅▅▅▅▆▆▆▆▇▇▇▇███</td></tr></table><br/>"
            ],
            "text/plain": [
              "<IPython.core.display.HTML object>"
            ]
          },
          "metadata": {
            "tags": []
          }
        },
        {
          "output_type": "display_data",
          "data": {
            "text/html": [
              "Synced 5 W&B file(s), 1 media file(s), 0 artifact file(s) and 1 other file(s)"
            ],
            "text/plain": [
              "<IPython.core.display.HTML object>"
            ]
          },
          "metadata": {
            "tags": []
          }
        },
        {
          "output_type": "display_data",
          "data": {
            "text/html": [
              "\n",
              "                    <br/>Synced <strong style=\"color:#cdcd00\">drawn-sweep-31</strong>: <a href=\"https://wandb.ai/anshikag_2210/MachineTransliterator/runs/5xzvtlve\" target=\"_blank\">https://wandb.ai/anshikag_2210/MachineTransliterator/runs/5xzvtlve</a><br/>\n",
              "                "
            ],
            "text/plain": [
              "<IPython.core.display.HTML object>"
            ]
          },
          "metadata": {
            "tags": []
          }
        },
        {
          "output_type": "stream",
          "text": [
            "\u001b[34m\u001b[1mwandb\u001b[0m: Agent Starting Run: b1kohxkb with config:\n",
            "\u001b[34m\u001b[1mwandb\u001b[0m: \tbatch_size: 128\n",
            "\u001b[34m\u001b[1mwandb\u001b[0m: \tcell_type: lstm\n",
            "\u001b[34m\u001b[1mwandb\u001b[0m: \tdecoder_embed_size: 27\n",
            "\u001b[34m\u001b[1mwandb\u001b[0m: \tdropout: 0\n",
            "\u001b[34m\u001b[1mwandb\u001b[0m: \tencoder_embed_size: 64\n",
            "\u001b[34m\u001b[1mwandb\u001b[0m: \tepochs: 60\n",
            "\u001b[34m\u001b[1mwandb\u001b[0m: \thidden_layer_size: 256\n",
            "\u001b[34m\u001b[1mwandb\u001b[0m: \tnum_decoder_layers: 1\n",
            "\u001b[34m\u001b[1mwandb\u001b[0m: \tnum_encoder_layers: 2\n",
            "\u001b[34m\u001b[1mwandb\u001b[0m: \tnum_hidden_layers: 2\n"
          ],
          "name": "stderr"
        },
        {
          "output_type": "display_data",
          "data": {
            "text/html": [
              "\n",
              "                Tracking run with wandb version 0.10.27<br/>\n",
              "                Syncing run <strong style=\"color:#cdcd00\">generous-sweep-32</strong> to <a href=\"https://wandb.ai\" target=\"_blank\">Weights & Biases</a> <a href=\"https://docs.wandb.com/integrations/jupyter.html\" target=\"_blank\">(Documentation)</a>.<br/>\n",
              "                Project page: <a href=\"https://wandb.ai/anshikag_2210/MachineTransliterator\" target=\"_blank\">https://wandb.ai/anshikag_2210/MachineTransliterator</a><br/>\n",
              "                Sweep page: <a href=\"https://wandb.ai/anshikag_2210/MachineTransliterator/sweeps/4qzxmg7y\" target=\"_blank\">https://wandb.ai/anshikag_2210/MachineTransliterator/sweeps/4qzxmg7y</a><br/>\n",
              "Run page: <a href=\"https://wandb.ai/anshikag_2210/MachineTransliterator/runs/b1kohxkb\" target=\"_blank\">https://wandb.ai/anshikag_2210/MachineTransliterator/runs/b1kohxkb</a><br/>\n",
              "                Run data is saved locally in <code>/root/.keras/datasets/dakshina_dataset_v1.0/hi/lexicons/wandb/run-20210428_201400-b1kohxkb</code><br/><br/>\n",
              "            "
            ],
            "text/plain": [
              "<IPython.core.display.HTML object>"
            ]
          },
          "metadata": {
            "tags": []
          }
        },
        {
          "output_type": "stream",
          "text": [
            "Epoch 1/60\n",
            "79/79 [==============================] - 7s 34ms/step - loss: 3.6310 - accuracy: 0.6327 - val_loss: 1.3550 - val_accuracy: 0.7068\n"
          ],
          "name": "stdout"
        },
        {
          "output_type": "stream",
          "text": [
            "\u001b[34m\u001b[1mwandb\u001b[0m: \u001b[32m\u001b[41mERROR\u001b[0m Can't save model, h5py returned error: Unable to create link (name already exists)\n"
          ],
          "name": "stderr"
        },
        {
          "output_type": "stream",
          "text": [
            "Epoch 2/60\n",
            "79/79 [==============================] - 2s 20ms/step - loss: 1.3693 - accuracy: 0.7013 - val_loss: 1.2787 - val_accuracy: 0.7083\n",
            "Epoch 3/60\n",
            "79/79 [==============================] - 1s 19ms/step - loss: 1.3130 - accuracy: 0.6999 - val_loss: 1.2580 - val_accuracy: 0.7083\n",
            "Epoch 4/60\n",
            "79/79 [==============================] - 2s 19ms/step - loss: 1.2841 - accuracy: 0.7017 - val_loss: 1.2460 - val_accuracy: 0.7090\n",
            "Epoch 5/60\n",
            "79/79 [==============================] - 2s 19ms/step - loss: 1.2430 - accuracy: 0.7072 - val_loss: 1.2254 - val_accuracy: 0.7109\n",
            "Epoch 6/60\n",
            "79/79 [==============================] - 2s 20ms/step - loss: 1.2082 - accuracy: 0.7081 - val_loss: 1.1926 - val_accuracy: 0.7150\n",
            "Epoch 7/60\n",
            "79/79 [==============================] - 1s 19ms/step - loss: 1.1707 - accuracy: 0.7095 - val_loss: 1.1757 - val_accuracy: 0.7179\n",
            "Epoch 8/60\n",
            "79/79 [==============================] - 1s 19ms/step - loss: 1.1420 - accuracy: 0.7143 - val_loss: 1.1715 - val_accuracy: 0.7193\n",
            "Epoch 9/60\n",
            "79/79 [==============================] - 2s 19ms/step - loss: 1.1420 - accuracy: 0.7134 - val_loss: 1.1594 - val_accuracy: 0.7195\n",
            "Epoch 10/60\n",
            "79/79 [==============================] - 1s 19ms/step - loss: 1.1272 - accuracy: 0.7162 - val_loss: 1.1622 - val_accuracy: 0.7193\n",
            "Epoch 11/60\n",
            "79/79 [==============================] - 2s 19ms/step - loss: 1.1129 - accuracy: 0.7191 - val_loss: 1.1580 - val_accuracy: 0.7197\n",
            "Epoch 12/60\n",
            "79/79 [==============================] - 2s 19ms/step - loss: 1.1126 - accuracy: 0.7188 - val_loss: 1.1609 - val_accuracy: 0.7195\n",
            "Epoch 13/60\n",
            "79/79 [==============================] - 2s 19ms/step - loss: 1.1148 - accuracy: 0.7169 - val_loss: 1.1666 - val_accuracy: 0.7185\n",
            "Epoch 14/60\n",
            "79/79 [==============================] - 2s 19ms/step - loss: 1.1060 - accuracy: 0.7192 - val_loss: 1.1591 - val_accuracy: 0.7204\n",
            "Epoch 15/60\n",
            "79/79 [==============================] - 2s 19ms/step - loss: 1.1046 - accuracy: 0.7189 - val_loss: 1.1571 - val_accuracy: 0.7215\n",
            "Epoch 16/60\n",
            "79/79 [==============================] - 1s 19ms/step - loss: 1.1014 - accuracy: 0.7188 - val_loss: 1.1552 - val_accuracy: 0.7223\n",
            "Epoch 17/60\n",
            "79/79 [==============================] - 2s 19ms/step - loss: 1.1043 - accuracy: 0.7184 - val_loss: 1.1577 - val_accuracy: 0.7233\n",
            "Epoch 18/60\n",
            "79/79 [==============================] - 2s 20ms/step - loss: 1.0965 - accuracy: 0.7191 - val_loss: 1.1559 - val_accuracy: 0.7236\n",
            "Epoch 19/60\n",
            "79/79 [==============================] - 2s 20ms/step - loss: 1.0916 - accuracy: 0.7207 - val_loss: 1.1596 - val_accuracy: 0.7228\n",
            "Epoch 20/60\n",
            "79/79 [==============================] - 2s 19ms/step - loss: 1.0877 - accuracy: 0.7211 - val_loss: 1.1574 - val_accuracy: 0.7231\n",
            "Epoch 21/60\n",
            "79/79 [==============================] - 2s 19ms/step - loss: 1.0858 - accuracy: 0.7208 - val_loss: 1.1639 - val_accuracy: 0.7221\n",
            "Epoch 22/60\n",
            "79/79 [==============================] - 2s 20ms/step - loss: 1.0835 - accuracy: 0.7221 - val_loss: 1.1599 - val_accuracy: 0.7227\n",
            "Epoch 23/60\n",
            "79/79 [==============================] - 2s 21ms/step - loss: 1.0810 - accuracy: 0.7214 - val_loss: 1.1658 - val_accuracy: 0.7222\n",
            "Epoch 24/60\n",
            "79/79 [==============================] - 2s 19ms/step - loss: 1.0792 - accuracy: 0.7213 - val_loss: 1.1581 - val_accuracy: 0.7234\n",
            "Epoch 25/60\n",
            "79/79 [==============================] - 2s 20ms/step - loss: 1.0807 - accuracy: 0.7214 - val_loss: 1.1575 - val_accuracy: 0.7236\n",
            "Epoch 26/60\n",
            "79/79 [==============================] - 2s 19ms/step - loss: 1.0797 - accuracy: 0.7208 - val_loss: 1.1685 - val_accuracy: 0.7222\n",
            "Epoch 27/60\n",
            "79/79 [==============================] - 2s 20ms/step - loss: 1.0805 - accuracy: 0.7206 - val_loss: 1.1605 - val_accuracy: 0.7232\n",
            "Epoch 28/60\n",
            "79/79 [==============================] - 2s 19ms/step - loss: 1.0790 - accuracy: 0.7211 - val_loss: 1.1642 - val_accuracy: 0.7225\n",
            "Epoch 29/60\n",
            "79/79 [==============================] - 2s 21ms/step - loss: 1.0730 - accuracy: 0.7219 - val_loss: 1.1652 - val_accuracy: 0.7226\n",
            "Epoch 30/60\n",
            "79/79 [==============================] - 2s 19ms/step - loss: 1.0712 - accuracy: 0.7224 - val_loss: 1.1694 - val_accuracy: 0.7220\n",
            "Epoch 31/60\n",
            "79/79 [==============================] - 2s 19ms/step - loss: 1.0750 - accuracy: 0.7214 - val_loss: 1.1672 - val_accuracy: 0.7228\n",
            "Epoch 32/60\n",
            "79/79 [==============================] - 2s 19ms/step - loss: 1.0705 - accuracy: 0.7220 - val_loss: 1.1663 - val_accuracy: 0.7226\n",
            "Epoch 33/60\n",
            "79/79 [==============================] - 2s 19ms/step - loss: 1.0739 - accuracy: 0.7213 - val_loss: 1.1684 - val_accuracy: 0.7226\n",
            "Epoch 34/60\n",
            "79/79 [==============================] - 2s 19ms/step - loss: 1.0709 - accuracy: 0.7218 - val_loss: 1.1701 - val_accuracy: 0.7225\n",
            "Epoch 35/60\n",
            "79/79 [==============================] - 2s 19ms/step - loss: 1.0717 - accuracy: 0.7213 - val_loss: 1.1698 - val_accuracy: 0.7226\n",
            "Epoch 36/60\n",
            "79/79 [==============================] - 1s 19ms/step - loss: 1.0689 - accuracy: 0.7221 - val_loss: 1.1656 - val_accuracy: 0.7234\n",
            "Epoch 37/60\n",
            "79/79 [==============================] - 2s 19ms/step - loss: 1.0654 - accuracy: 0.7228 - val_loss: 1.1690 - val_accuracy: 0.7227\n",
            "Epoch 38/60\n",
            "79/79 [==============================] - 2s 19ms/step - loss: 1.0609 - accuracy: 0.7241 - val_loss: 1.1642 - val_accuracy: 0.7234\n",
            "Epoch 39/60\n",
            "79/79 [==============================] - 2s 20ms/step - loss: 1.0717 - accuracy: 0.7219 - val_loss: 1.1657 - val_accuracy: 0.7234\n",
            "Epoch 40/60\n",
            "79/79 [==============================] - 2s 19ms/step - loss: 1.0705 - accuracy: 0.7218 - val_loss: 1.1724 - val_accuracy: 0.7224\n",
            "Epoch 41/60\n",
            "79/79 [==============================] - 2s 20ms/step - loss: 1.0690 - accuracy: 0.7214 - val_loss: 1.1726 - val_accuracy: 0.7225\n",
            "Epoch 42/60\n",
            "79/79 [==============================] - 1s 19ms/step - loss: 1.0680 - accuracy: 0.7214 - val_loss: 1.1678 - val_accuracy: 0.7233\n",
            "Epoch 43/60\n",
            "79/79 [==============================] - 2s 19ms/step - loss: 1.0636 - accuracy: 0.7224 - val_loss: 1.1671 - val_accuracy: 0.7235\n",
            "Epoch 44/60\n",
            "79/79 [==============================] - 2s 20ms/step - loss: 1.0614 - accuracy: 0.7232 - val_loss: 1.1673 - val_accuracy: 0.7235\n",
            "Epoch 45/60\n",
            "79/79 [==============================] - 2s 19ms/step - loss: 1.0610 - accuracy: 0.7226 - val_loss: 1.1790 - val_accuracy: 0.7220\n",
            "Epoch 46/60\n",
            "79/79 [==============================] - 1s 19ms/step - loss: 1.0641 - accuracy: 0.7229 - val_loss: 1.1711 - val_accuracy: 0.7229\n",
            "Epoch 47/60\n",
            "79/79 [==============================] - 2s 19ms/step - loss: 1.0600 - accuracy: 0.7229 - val_loss: 1.1711 - val_accuracy: 0.7230\n",
            "Epoch 48/60\n",
            "79/79 [==============================] - 2s 19ms/step - loss: 1.0655 - accuracy: 0.7219 - val_loss: 1.1697 - val_accuracy: 0.7234\n",
            "Epoch 49/60\n",
            "79/79 [==============================] - 2s 20ms/step - loss: 1.0597 - accuracy: 0.7225 - val_loss: 1.1763 - val_accuracy: 0.7228\n",
            "Epoch 50/60\n",
            "79/79 [==============================] - 2s 19ms/step - loss: 1.0615 - accuracy: 0.7230 - val_loss: 1.1716 - val_accuracy: 0.7233\n",
            "Epoch 51/60\n",
            "79/79 [==============================] - 2s 19ms/step - loss: 1.0573 - accuracy: 0.7235 - val_loss: 1.1808 - val_accuracy: 0.7221\n",
            "Epoch 52/60\n",
            "79/79 [==============================] - 1s 19ms/step - loss: 1.0592 - accuracy: 0.7234 - val_loss: 1.1777 - val_accuracy: 0.7228\n",
            "Epoch 53/60\n",
            "79/79 [==============================] - 2s 19ms/step - loss: 1.0525 - accuracy: 0.7238 - val_loss: 1.1735 - val_accuracy: 0.7232\n",
            "Epoch 54/60\n",
            "79/79 [==============================] - 1s 19ms/step - loss: 1.0535 - accuracy: 0.7240 - val_loss: 1.1725 - val_accuracy: 0.7233\n",
            "Epoch 55/60\n",
            "79/79 [==============================] - 2s 19ms/step - loss: 1.0601 - accuracy: 0.7226 - val_loss: 1.1715 - val_accuracy: 0.7235\n",
            "Epoch 56/60\n",
            "79/79 [==============================] - 1s 19ms/step - loss: 1.0625 - accuracy: 0.7213 - val_loss: 1.1736 - val_accuracy: 0.7233\n",
            "Epoch 57/60\n",
            "79/79 [==============================] - 2s 20ms/step - loss: 1.0547 - accuracy: 0.7230 - val_loss: 1.1749 - val_accuracy: 0.7234\n",
            "Epoch 58/60\n",
            "79/79 [==============================] - 2s 19ms/step - loss: 1.0624 - accuracy: 0.7218 - val_loss: 1.1709 - val_accuracy: 0.7238\n",
            "Epoch 59/60\n",
            "79/79 [==============================] - 2s 19ms/step - loss: 1.0475 - accuracy: 0.7247 - val_loss: 1.1715 - val_accuracy: 0.7236\n",
            "Epoch 60/60\n",
            "79/79 [==============================] - 2s 19ms/step - loss: 1.0585 - accuracy: 0.7227 - val_loss: 1.1747 - val_accuracy: 0.7234\n"
          ],
          "name": "stdout"
        },
        {
          "output_type": "display_data",
          "data": {
            "text/html": [
              "<br/>Waiting for W&B process to finish, PID 7179<br/>Program ended successfully."
            ],
            "text/plain": [
              "<IPython.core.display.HTML object>"
            ]
          },
          "metadata": {
            "tags": []
          }
        },
        {
          "output_type": "display_data",
          "data": {
            "application/vnd.jupyter.widget-view+json": {
              "model_id": "a5d606db54604e80b067ecece625810b",
              "version_minor": 0,
              "version_major": 2
            },
            "text/plain": [
              "VBox(children=(Label(value=' 4.48MB of 4.48MB uploaded (0.00MB deduped)\\r'), FloatProgress(value=1.0, max=1.0)…"
            ]
          },
          "metadata": {
            "tags": []
          }
        },
        {
          "output_type": "display_data",
          "data": {
            "text/html": [
              "Find user logs for this run at: <code>/root/.keras/datasets/dakshina_dataset_v1.0/hi/lexicons/wandb/run-20210428_201400-b1kohxkb/logs/debug.log</code>"
            ],
            "text/plain": [
              "<IPython.core.display.HTML object>"
            ]
          },
          "metadata": {
            "tags": []
          }
        },
        {
          "output_type": "display_data",
          "data": {
            "text/html": [
              "Find internal logs for this run at: <code>/root/.keras/datasets/dakshina_dataset_v1.0/hi/lexicons/wandb/run-20210428_201400-b1kohxkb/logs/debug-internal.log</code>"
            ],
            "text/plain": [
              "<IPython.core.display.HTML object>"
            ]
          },
          "metadata": {
            "tags": []
          }
        },
        {
          "output_type": "display_data",
          "data": {
            "text/html": [
              "<h3>Run summary:</h3><br/><style>\n",
              "    table.wandb td:nth-child(1) { padding: 0 10px; text-align: right }\n",
              "    </style><table class=\"wandb\">\n",
              "<tr><td>epoch</td><td>59</td></tr><tr><td>loss</td><td>1.05587</td></tr><tr><td>accuracy</td><td>0.72292</td></tr><tr><td>val_loss</td><td>1.17466</td></tr><tr><td>val_accuracy</td><td>0.72338</td></tr><tr><td>_runtime</td><td>102</td></tr><tr><td>_timestamp</td><td>1619640942</td></tr><tr><td>_step</td><td>59</td></tr><tr><td>best_val_loss</td><td>1.15516</td></tr><tr><td>best_epoch</td><td>15</td></tr></table>"
            ],
            "text/plain": [
              "<IPython.core.display.HTML object>"
            ]
          },
          "metadata": {
            "tags": []
          }
        },
        {
          "output_type": "display_data",
          "data": {
            "text/html": [
              "<h3>Run history:</h3><br/><style>\n",
              "    table.wandb td:nth-child(1) { padding: 0 10px; text-align: right }\n",
              "    </style><table class=\"wandb\">\n",
              "<tr><td>epoch</td><td>▁▁▁▁▂▂▂▂▂▃▃▃▃▃▃▄▄▄▄▄▅▅▅▅▅▅▆▆▆▆▆▆▇▇▇▇▇███</td></tr><tr><td>loss</td><td>█▂▂▂▁▁▁▁▁▁▁▁▁▁▁▁▁▁▁▁▁▁▁▁▁▁▁▁▁▁▁▁▁▁▁▁▁▁▁▁</td></tr><tr><td>accuracy</td><td>▁▅▅▅▆▇▇▇▇▇██████████████████████████████</td></tr><tr><td>val_loss</td><td>█▅▄▃▂▂▁▁▁▁▁▁▁▁▁▁▁▁▁▁▁▁▂▂▁▁▂▂▁▁▂▂▂▂▂▂▂▂▂▂</td></tr><tr><td>val_accuracy</td><td>▁▂▂▃▆▆▆▆▆▇▇████▇█▇▇███▇███▇▇████████████</td></tr><tr><td>_runtime</td><td>▁▁▁▂▂▂▂▂▃▃▃▃▃▃▄▄▄▄▄▄▅▅▅▅▅▅▆▆▆▆▆▆▇▇▇▇▇███</td></tr><tr><td>_timestamp</td><td>▁▁▁▂▂▂▂▂▃▃▃▃▃▃▄▄▄▄▄▄▅▅▅▅▅▅▆▆▆▆▆▆▇▇▇▇▇███</td></tr><tr><td>_step</td><td>▁▁▁▁▂▂▂▂▂▃▃▃▃▃▃▄▄▄▄▄▅▅▅▅▅▅▆▆▆▆▆▆▇▇▇▇▇███</td></tr></table><br/>"
            ],
            "text/plain": [
              "<IPython.core.display.HTML object>"
            ]
          },
          "metadata": {
            "tags": []
          }
        },
        {
          "output_type": "display_data",
          "data": {
            "text/html": [
              "Synced 5 W&B file(s), 1 media file(s), 0 artifact file(s) and 1 other file(s)"
            ],
            "text/plain": [
              "<IPython.core.display.HTML object>"
            ]
          },
          "metadata": {
            "tags": []
          }
        },
        {
          "output_type": "display_data",
          "data": {
            "text/html": [
              "\n",
              "                    <br/>Synced <strong style=\"color:#cdcd00\">generous-sweep-32</strong>: <a href=\"https://wandb.ai/anshikag_2210/MachineTransliterator/runs/b1kohxkb\" target=\"_blank\">https://wandb.ai/anshikag_2210/MachineTransliterator/runs/b1kohxkb</a><br/>\n",
              "                "
            ],
            "text/plain": [
              "<IPython.core.display.HTML object>"
            ]
          },
          "metadata": {
            "tags": []
          }
        },
        {
          "output_type": "stream",
          "text": [
            "\u001b[34m\u001b[1mwandb\u001b[0m: Agent Starting Run: zkqheiey with config:\n",
            "\u001b[34m\u001b[1mwandb\u001b[0m: \tbatch_size: 64\n",
            "\u001b[34m\u001b[1mwandb\u001b[0m: \tcell_type: lstm\n",
            "\u001b[34m\u001b[1mwandb\u001b[0m: \tdecoder_embed_size: 64\n",
            "\u001b[34m\u001b[1mwandb\u001b[0m: \tdropout: 0\n",
            "\u001b[34m\u001b[1mwandb\u001b[0m: \tencoder_embed_size: 64\n",
            "\u001b[34m\u001b[1mwandb\u001b[0m: \tepochs: 30\n",
            "\u001b[34m\u001b[1mwandb\u001b[0m: \thidden_layer_size: 512\n",
            "\u001b[34m\u001b[1mwandb\u001b[0m: \tnum_decoder_layers: 1\n",
            "\u001b[34m\u001b[1mwandb\u001b[0m: \tnum_encoder_layers: 2\n",
            "\u001b[34m\u001b[1mwandb\u001b[0m: \tnum_hidden_layers: 5\n"
          ],
          "name": "stderr"
        },
        {
          "output_type": "display_data",
          "data": {
            "text/html": [
              "\n",
              "                Tracking run with wandb version 0.10.27<br/>\n",
              "                Syncing run <strong style=\"color:#cdcd00\">winter-sweep-33</strong> to <a href=\"https://wandb.ai\" target=\"_blank\">Weights & Biases</a> <a href=\"https://docs.wandb.com/integrations/jupyter.html\" target=\"_blank\">(Documentation)</a>.<br/>\n",
              "                Project page: <a href=\"https://wandb.ai/anshikag_2210/MachineTransliterator\" target=\"_blank\">https://wandb.ai/anshikag_2210/MachineTransliterator</a><br/>\n",
              "                Sweep page: <a href=\"https://wandb.ai/anshikag_2210/MachineTransliterator/sweeps/4qzxmg7y\" target=\"_blank\">https://wandb.ai/anshikag_2210/MachineTransliterator/sweeps/4qzxmg7y</a><br/>\n",
              "Run page: <a href=\"https://wandb.ai/anshikag_2210/MachineTransliterator/runs/zkqheiey\" target=\"_blank\">https://wandb.ai/anshikag_2210/MachineTransliterator/runs/zkqheiey</a><br/>\n",
              "                Run data is saved locally in <code>/root/.keras/datasets/dakshina_dataset_v1.0/hi/lexicons/wandb/run-20210428_201551-zkqheiey</code><br/><br/>\n",
              "            "
            ],
            "text/plain": [
              "<IPython.core.display.HTML object>"
            ]
          },
          "metadata": {
            "tags": []
          }
        },
        {
          "output_type": "stream",
          "text": [
            "Epoch 1/30\n",
            "157/157 [==============================] - 9s 32ms/step - loss: 3.5794 - accuracy: 0.5157 - val_loss: 1.3439 - val_accuracy: 0.7022\n"
          ],
          "name": "stdout"
        },
        {
          "output_type": "stream",
          "text": [
            "\u001b[34m\u001b[1mwandb\u001b[0m: \u001b[32m\u001b[41mERROR\u001b[0m Can't save model, h5py returned error: Unable to create link (name already exists)\n"
          ],
          "name": "stderr"
        },
        {
          "output_type": "stream",
          "text": [
            "Epoch 2/30\n",
            "157/157 [==============================] - 4s 25ms/step - loss: 1.3804 - accuracy: 0.6906 - val_loss: 1.2734 - val_accuracy: 0.7069\n",
            "Epoch 3/30\n",
            "157/157 [==============================] - 4s 25ms/step - loss: 1.3063 - accuracy: 0.7021 - val_loss: 1.2438 - val_accuracy: 0.7090\n",
            "Epoch 4/30\n",
            "157/157 [==============================] - 4s 25ms/step - loss: 1.2670 - accuracy: 0.7060 - val_loss: 1.2237 - val_accuracy: 0.7090\n",
            "Epoch 5/30\n",
            "157/157 [==============================] - 4s 26ms/step - loss: 1.2321 - accuracy: 0.7065 - val_loss: 1.2060 - val_accuracy: 0.7115\n",
            "Epoch 6/30\n",
            "157/157 [==============================] - 4s 25ms/step - loss: 1.2062 - accuracy: 0.7082 - val_loss: 1.1945 - val_accuracy: 0.7138\n",
            "Epoch 7/30\n",
            "157/157 [==============================] - 4s 25ms/step - loss: 1.1896 - accuracy: 0.7091 - val_loss: 1.1850 - val_accuracy: 0.7156\n",
            "Epoch 8/30\n",
            "157/157 [==============================] - 4s 25ms/step - loss: 1.1698 - accuracy: 0.7111 - val_loss: 1.1786 - val_accuracy: 0.7169\n",
            "Epoch 9/30\n",
            "157/157 [==============================] - 4s 25ms/step - loss: 1.1571 - accuracy: 0.7120 - val_loss: 1.1707 - val_accuracy: 0.7173\n",
            "Epoch 10/30\n",
            "157/157 [==============================] - 4s 26ms/step - loss: 1.1504 - accuracy: 0.7117 - val_loss: 1.1664 - val_accuracy: 0.7176\n",
            "Epoch 11/30\n",
            "157/157 [==============================] - 4s 25ms/step - loss: 1.1376 - accuracy: 0.7140 - val_loss: 1.1638 - val_accuracy: 0.7180\n",
            "Epoch 12/30\n",
            "157/157 [==============================] - 4s 25ms/step - loss: 1.1298 - accuracy: 0.7144 - val_loss: 1.1633 - val_accuracy: 0.7182\n",
            "Epoch 13/30\n",
            "157/157 [==============================] - 4s 25ms/step - loss: 1.1318 - accuracy: 0.7133 - val_loss: 1.1598 - val_accuracy: 0.7183\n",
            "Epoch 14/30\n",
            "157/157 [==============================] - 4s 25ms/step - loss: 1.1291 - accuracy: 0.7127 - val_loss: 1.1599 - val_accuracy: 0.7183\n",
            "Epoch 15/30\n",
            "157/157 [==============================] - 4s 25ms/step - loss: 1.1161 - accuracy: 0.7159 - val_loss: 1.1585 - val_accuracy: 0.7188\n",
            "Epoch 16/30\n",
            "157/157 [==============================] - 4s 25ms/step - loss: 1.1231 - accuracy: 0.7146 - val_loss: 1.1603 - val_accuracy: 0.7190\n",
            "Epoch 17/30\n",
            "157/157 [==============================] - 4s 25ms/step - loss: 1.1186 - accuracy: 0.7159 - val_loss: 1.1625 - val_accuracy: 0.7194\n",
            "Epoch 18/30\n",
            "157/157 [==============================] - 4s 25ms/step - loss: 1.1151 - accuracy: 0.7180 - val_loss: 1.1600 - val_accuracy: 0.7194\n",
            "Epoch 19/30\n",
            "157/157 [==============================] - 4s 25ms/step - loss: 1.1152 - accuracy: 0.7163 - val_loss: 1.1584 - val_accuracy: 0.7194\n",
            "Epoch 20/30\n",
            "157/157 [==============================] - 4s 25ms/step - loss: 1.1133 - accuracy: 0.7169 - val_loss: 1.1571 - val_accuracy: 0.7194\n",
            "Epoch 21/30\n",
            "157/157 [==============================] - 4s 25ms/step - loss: 1.1126 - accuracy: 0.7171 - val_loss: 1.1586 - val_accuracy: 0.7195\n",
            "Epoch 22/30\n",
            "157/157 [==============================] - 4s 25ms/step - loss: 1.1114 - accuracy: 0.7176 - val_loss: 1.1586 - val_accuracy: 0.7194\n",
            "Epoch 23/30\n",
            "157/157 [==============================] - 4s 25ms/step - loss: 1.1014 - accuracy: 0.7198 - val_loss: 1.1590 - val_accuracy: 0.7195\n",
            "Epoch 24/30\n",
            "157/157 [==============================] - 4s 25ms/step - loss: 1.1131 - accuracy: 0.7173 - val_loss: 1.1591 - val_accuracy: 0.7196\n",
            "Epoch 25/30\n",
            "157/157 [==============================] - 4s 25ms/step - loss: 1.1124 - accuracy: 0.7168 - val_loss: 1.1586 - val_accuracy: 0.7196\n",
            "Epoch 26/30\n",
            "157/157 [==============================] - 4s 25ms/step - loss: 1.1109 - accuracy: 0.7176 - val_loss: 1.1576 - val_accuracy: 0.7196\n",
            "Epoch 27/30\n",
            "157/157 [==============================] - 4s 25ms/step - loss: 1.1120 - accuracy: 0.7165 - val_loss: 1.1595 - val_accuracy: 0.7196\n",
            "Epoch 28/30\n",
            "157/157 [==============================] - 4s 25ms/step - loss: 1.1100 - accuracy: 0.7173 - val_loss: 1.1591 - val_accuracy: 0.7196\n",
            "Epoch 29/30\n",
            "157/157 [==============================] - 4s 25ms/step - loss: 1.1130 - accuracy: 0.7159 - val_loss: 1.1577 - val_accuracy: 0.7197\n",
            "Epoch 30/30\n",
            "157/157 [==============================] - 4s 25ms/step - loss: 1.1017 - accuracy: 0.7190 - val_loss: 1.1587 - val_accuracy: 0.7197\n"
          ],
          "name": "stdout"
        },
        {
          "output_type": "display_data",
          "data": {
            "text/html": [
              "<br/>Waiting for W&B process to finish, PID 7417<br/>Program ended successfully."
            ],
            "text/plain": [
              "<IPython.core.display.HTML object>"
            ]
          },
          "metadata": {
            "tags": []
          }
        },
        {
          "output_type": "display_data",
          "data": {
            "application/vnd.jupyter.widget-view+json": {
              "model_id": "7d76e32705ef4fe7b9b0a992c426a326",
              "version_minor": 0,
              "version_major": 2
            },
            "text/plain": [
              "VBox(children=(Label(value=' 17.20MB of 17.20MB uploaded (0.00MB deduped)\\r'), FloatProgress(value=1.0, max=1.…"
            ]
          },
          "metadata": {
            "tags": []
          }
        },
        {
          "output_type": "display_data",
          "data": {
            "text/html": [
              "Find user logs for this run at: <code>/root/.keras/datasets/dakshina_dataset_v1.0/hi/lexicons/wandb/run-20210428_201551-zkqheiey/logs/debug.log</code>"
            ],
            "text/plain": [
              "<IPython.core.display.HTML object>"
            ]
          },
          "metadata": {
            "tags": []
          }
        },
        {
          "output_type": "display_data",
          "data": {
            "text/html": [
              "Find internal logs for this run at: <code>/root/.keras/datasets/dakshina_dataset_v1.0/hi/lexicons/wandb/run-20210428_201551-zkqheiey/logs/debug-internal.log</code>"
            ],
            "text/plain": [
              "<IPython.core.display.HTML object>"
            ]
          },
          "metadata": {
            "tags": []
          }
        },
        {
          "output_type": "display_data",
          "data": {
            "text/html": [
              "<h3>Run summary:</h3><br/><style>\n",
              "    table.wandb td:nth-child(1) { padding: 0 10px; text-align: right }\n",
              "    </style><table class=\"wandb\">\n",
              "<tr><td>epoch</td><td>29</td></tr><tr><td>loss</td><td>1.10645</td></tr><tr><td>accuracy</td><td>0.71827</td></tr><tr><td>val_loss</td><td>1.15865</td></tr><tr><td>val_accuracy</td><td>0.71966</td></tr><tr><td>_runtime</td><td>128</td></tr><tr><td>_timestamp</td><td>1619641079</td></tr><tr><td>_step</td><td>29</td></tr><tr><td>best_val_loss</td><td>1.15715</td></tr><tr><td>best_epoch</td><td>19</td></tr></table>"
            ],
            "text/plain": [
              "<IPython.core.display.HTML object>"
            ]
          },
          "metadata": {
            "tags": []
          }
        },
        {
          "output_type": "display_data",
          "data": {
            "text/html": [
              "<h3>Run history:</h3><br/><style>\n",
              "    table.wandb td:nth-child(1) { padding: 0 10px; text-align: right }\n",
              "    </style><table class=\"wandb\">\n",
              "<tr><td>epoch</td><td>▁▁▁▂▂▂▂▃▃▃▃▄▄▄▄▅▅▅▅▆▆▆▆▇▇▇▇███</td></tr><tr><td>loss</td><td>█▂▂▂▂▁▁▁▁▁▁▁▁▁▁▁▁▁▁▁▁▁▁▁▁▁▁▁▁▁</td></tr><tr><td>accuracy</td><td>▁▆▇▇▇▇▇▇▇█████████████████████</td></tr><tr><td>val_loss</td><td>█▅▄▃▃▂▂▂▂▁▁▁▁▁▁▁▁▁▁▁▁▁▁▁▁▁▁▁▁▁</td></tr><tr><td>val_accuracy</td><td>▁▃▄▄▅▆▆▇▇▇▇▇▇▇████████████████</td></tr><tr><td>_runtime</td><td>▁▁▂▂▂▂▃▃▃▃▃▄▄▄▄▅▅▅▅▆▆▆▆▇▇▇▇███</td></tr><tr><td>_timestamp</td><td>▁▁▂▂▂▂▃▃▃▃▃▄▄▄▄▅▅▅▅▆▆▆▆▇▇▇▇███</td></tr><tr><td>_step</td><td>▁▁▁▂▂▂▂▃▃▃▃▄▄▄▄▅▅▅▅▆▆▆▆▇▇▇▇███</td></tr></table><br/>"
            ],
            "text/plain": [
              "<IPython.core.display.HTML object>"
            ]
          },
          "metadata": {
            "tags": []
          }
        },
        {
          "output_type": "display_data",
          "data": {
            "text/html": [
              "Synced 5 W&B file(s), 1 media file(s), 0 artifact file(s) and 1 other file(s)"
            ],
            "text/plain": [
              "<IPython.core.display.HTML object>"
            ]
          },
          "metadata": {
            "tags": []
          }
        },
        {
          "output_type": "display_data",
          "data": {
            "text/html": [
              "\n",
              "                    <br/>Synced <strong style=\"color:#cdcd00\">winter-sweep-33</strong>: <a href=\"https://wandb.ai/anshikag_2210/MachineTransliterator/runs/zkqheiey\" target=\"_blank\">https://wandb.ai/anshikag_2210/MachineTransliterator/runs/zkqheiey</a><br/>\n",
              "                "
            ],
            "text/plain": [
              "<IPython.core.display.HTML object>"
            ]
          },
          "metadata": {
            "tags": []
          }
        },
        {
          "output_type": "stream",
          "text": [
            "\u001b[34m\u001b[1mwandb\u001b[0m: Agent Starting Run: wv7lpbcg with config:\n",
            "\u001b[34m\u001b[1mwandb\u001b[0m: \tbatch_size: 128\n",
            "\u001b[34m\u001b[1mwandb\u001b[0m: \tcell_type: lstm\n",
            "\u001b[34m\u001b[1mwandb\u001b[0m: \tdecoder_embed_size: 27\n",
            "\u001b[34m\u001b[1mwandb\u001b[0m: \tdropout: 0.0001\n",
            "\u001b[34m\u001b[1mwandb\u001b[0m: \tencoder_embed_size: 27\n",
            "\u001b[34m\u001b[1mwandb\u001b[0m: \tepochs: 40\n",
            "\u001b[34m\u001b[1mwandb\u001b[0m: \thidden_layer_size: 128\n",
            "\u001b[34m\u001b[1mwandb\u001b[0m: \tnum_decoder_layers: 1\n",
            "\u001b[34m\u001b[1mwandb\u001b[0m: \tnum_encoder_layers: 3\n",
            "\u001b[34m\u001b[1mwandb\u001b[0m: \tnum_hidden_layers: 10\n"
          ],
          "name": "stderr"
        },
        {
          "output_type": "display_data",
          "data": {
            "text/html": [
              "\n",
              "                Tracking run with wandb version 0.10.27<br/>\n",
              "                Syncing run <strong style=\"color:#cdcd00\">young-sweep-34</strong> to <a href=\"https://wandb.ai\" target=\"_blank\">Weights & Biases</a> <a href=\"https://docs.wandb.com/integrations/jupyter.html\" target=\"_blank\">(Documentation)</a>.<br/>\n",
              "                Project page: <a href=\"https://wandb.ai/anshikag_2210/MachineTransliterator\" target=\"_blank\">https://wandb.ai/anshikag_2210/MachineTransliterator</a><br/>\n",
              "                Sweep page: <a href=\"https://wandb.ai/anshikag_2210/MachineTransliterator/sweeps/4qzxmg7y\" target=\"_blank\">https://wandb.ai/anshikag_2210/MachineTransliterator/sweeps/4qzxmg7y</a><br/>\n",
              "Run page: <a href=\"https://wandb.ai/anshikag_2210/MachineTransliterator/runs/wv7lpbcg\" target=\"_blank\">https://wandb.ai/anshikag_2210/MachineTransliterator/runs/wv7lpbcg</a><br/>\n",
              "                Run data is saved locally in <code>/root/.keras/datasets/dakshina_dataset_v1.0/hi/lexicons/wandb/run-20210428_201810-wv7lpbcg</code><br/><br/>\n",
              "            "
            ],
            "text/plain": [
              "<IPython.core.display.HTML object>"
            ]
          },
          "metadata": {
            "tags": []
          }
        },
        {
          "output_type": "stream",
          "text": [
            "Epoch 1/40\n",
            "79/79 [==============================] - 8s 37ms/step - loss: 4.1333 - accuracy: 0.0035 - val_loss: 4.1329 - val_accuracy: 0.0052\n"
          ],
          "name": "stdout"
        },
        {
          "output_type": "stream",
          "text": [
            "\u001b[34m\u001b[1mwandb\u001b[0m: \u001b[32m\u001b[41mERROR\u001b[0m Can't save model, h5py returned error: Unable to create link (name already exists)\n"
          ],
          "name": "stderr"
        },
        {
          "output_type": "stream",
          "text": [
            "Epoch 2/40\n",
            "79/79 [==============================] - 2s 20ms/step - loss: 4.1327 - accuracy: 0.0038 - val_loss: 4.1325 - val_accuracy: 0.0057\n",
            "Epoch 3/40\n",
            "79/79 [==============================] - 2s 19ms/step - loss: 4.1324 - accuracy: 0.0040 - val_loss: 4.1323 - val_accuracy: 0.0059\n",
            "Epoch 4/40\n",
            "79/79 [==============================] - 2s 20ms/step - loss: 4.1322 - accuracy: 0.0043 - val_loss: 4.1322 - val_accuracy: 0.0060\n",
            "Epoch 5/40\n",
            "79/79 [==============================] - 2s 20ms/step - loss: 4.1321 - accuracy: 0.0042 - val_loss: 4.1321 - val_accuracy: 0.0061\n",
            "Epoch 6/40\n",
            "79/79 [==============================] - 2s 21ms/step - loss: 4.1320 - accuracy: 0.0044 - val_loss: 4.1320 - val_accuracy: 0.0061\n",
            "Epoch 7/40\n",
            "79/79 [==============================] - 2s 20ms/step - loss: 4.1320 - accuracy: 0.0043 - val_loss: 4.1320 - val_accuracy: 0.0062\n",
            "Epoch 8/40\n",
            "79/79 [==============================] - 2s 20ms/step - loss: 4.1320 - accuracy: 0.0043 - val_loss: 4.1320 - val_accuracy: 0.0062\n",
            "Epoch 9/40\n",
            "79/79 [==============================] - 2s 21ms/step - loss: 4.1320 - accuracy: 0.0043 - val_loss: 4.1320 - val_accuracy: 0.0062\n",
            "Epoch 10/40\n",
            "79/79 [==============================] - 2s 21ms/step - loss: 4.1319 - accuracy: 0.0044 - val_loss: 4.1320 - val_accuracy: 0.0062\n",
            "Epoch 11/40\n",
            "79/79 [==============================] - 2s 21ms/step - loss: 2.6683 - accuracy: 0.4178 - val_loss: 1.2304 - val_accuracy: 0.7163\n",
            "Epoch 12/40\n",
            "79/79 [==============================] - 2s 20ms/step - loss: 1.0923 - accuracy: 0.7146 - val_loss: 1.2152 - val_accuracy: 0.7269\n",
            "Epoch 13/40\n",
            "79/79 [==============================] - 2s 19ms/step - loss: 1.0173 - accuracy: 0.7233 - val_loss: 1.1756 - val_accuracy: 0.7325\n",
            "Epoch 14/40\n",
            "79/79 [==============================] - 2s 20ms/step - loss: 0.9655 - accuracy: 0.7322 - val_loss: 1.1714 - val_accuracy: 0.7333\n",
            "Epoch 15/40\n",
            "79/79 [==============================] - 2s 20ms/step - loss: 0.9530 - accuracy: 0.7335 - val_loss: 1.1668 - val_accuracy: 0.7349\n",
            "Epoch 16/40\n",
            "79/79 [==============================] - 2s 21ms/step - loss: 0.9448 - accuracy: 0.7360 - val_loss: 1.1640 - val_accuracy: 0.7348\n",
            "Epoch 17/40\n",
            "79/79 [==============================] - 2s 19ms/step - loss: 0.9365 - accuracy: 0.7354 - val_loss: 1.1670 - val_accuracy: 0.7349\n",
            "Epoch 18/40\n",
            "79/79 [==============================] - 2s 20ms/step - loss: 0.9273 - accuracy: 0.7385 - val_loss: 1.1655 - val_accuracy: 0.7362\n",
            "Epoch 19/40\n",
            "79/79 [==============================] - 2s 22ms/step - loss: 0.9174 - accuracy: 0.7381 - val_loss: 1.1656 - val_accuracy: 0.7357\n",
            "Epoch 20/40\n",
            "79/79 [==============================] - 2s 20ms/step - loss: 0.9109 - accuracy: 0.7412 - val_loss: 1.1673 - val_accuracy: 0.7370\n",
            "Epoch 21/40\n",
            "79/79 [==============================] - 2s 21ms/step - loss: 0.9068 - accuracy: 0.7420 - val_loss: 1.1637 - val_accuracy: 0.7374\n",
            "Epoch 22/40\n",
            "79/79 [==============================] - 2s 20ms/step - loss: 0.9015 - accuracy: 0.7425 - val_loss: 1.1650 - val_accuracy: 0.7380\n",
            "Epoch 23/40\n",
            "79/79 [==============================] - 2s 20ms/step - loss: 0.8967 - accuracy: 0.7439 - val_loss: 1.1640 - val_accuracy: 0.7390\n",
            "Epoch 24/40\n",
            "79/79 [==============================] - 2s 19ms/step - loss: 0.8871 - accuracy: 0.7459 - val_loss: 1.1664 - val_accuracy: 0.7397\n",
            "Epoch 25/40\n",
            "79/79 [==============================] - 2s 20ms/step - loss: 0.8888 - accuracy: 0.7451 - val_loss: 1.1673 - val_accuracy: 0.7398\n",
            "Epoch 26/40\n",
            "79/79 [==============================] - 2s 21ms/step - loss: 0.8754 - accuracy: 0.7483 - val_loss: 1.1699 - val_accuracy: 0.7383\n",
            "Epoch 27/40\n",
            "79/79 [==============================] - 2s 20ms/step - loss: 0.8703 - accuracy: 0.7499 - val_loss: 1.1707 - val_accuracy: 0.7387\n",
            "Epoch 28/40\n",
            "79/79 [==============================] - 2s 20ms/step - loss: 0.8699 - accuracy: 0.7495 - val_loss: 1.1727 - val_accuracy: 0.7396\n",
            "Epoch 29/40\n",
            "79/79 [==============================] - 2s 20ms/step - loss: 0.8662 - accuracy: 0.7497 - val_loss: 1.1732 - val_accuracy: 0.7390\n",
            "Epoch 30/40\n",
            "79/79 [==============================] - 2s 20ms/step - loss: 0.8596 - accuracy: 0.7515 - val_loss: 1.1759 - val_accuracy: 0.7403\n",
            "Epoch 31/40\n",
            "79/79 [==============================] - 1s 18ms/step - loss: 0.8547 - accuracy: 0.7525 - val_loss: 1.1810 - val_accuracy: 0.7402\n",
            "Epoch 32/40\n",
            "79/79 [==============================] - 2s 19ms/step - loss: 0.8589 - accuracy: 0.7520 - val_loss: 1.1811 - val_accuracy: 0.7396\n",
            "Epoch 33/40\n",
            "79/79 [==============================] - 2s 20ms/step - loss: 0.8503 - accuracy: 0.7527 - val_loss: 1.1875 - val_accuracy: 0.7403\n",
            "Epoch 34/40\n",
            "79/79 [==============================] - 2s 20ms/step - loss: 0.8429 - accuracy: 0.7540 - val_loss: 1.1897 - val_accuracy: 0.7395\n",
            "Epoch 35/40\n",
            "79/79 [==============================] - 2s 21ms/step - loss: 0.8422 - accuracy: 0.7550 - val_loss: 1.1903 - val_accuracy: 0.7398\n",
            "Epoch 36/40\n",
            "79/79 [==============================] - 2s 20ms/step - loss: 0.8373 - accuracy: 0.7571 - val_loss: 1.1923 - val_accuracy: 0.7406\n",
            "Epoch 37/40\n",
            "79/79 [==============================] - 2s 20ms/step - loss: 0.8374 - accuracy: 0.7564 - val_loss: 1.1957 - val_accuracy: 0.7397\n",
            "Epoch 38/40\n",
            "79/79 [==============================] - 2s 20ms/step - loss: 0.8311 - accuracy: 0.7583 - val_loss: 1.1963 - val_accuracy: 0.7405\n",
            "Epoch 39/40\n",
            "79/79 [==============================] - 2s 19ms/step - loss: 0.8268 - accuracy: 0.7593 - val_loss: 1.2046 - val_accuracy: 0.7390\n",
            "Epoch 40/40\n",
            "79/79 [==============================] - 2s 20ms/step - loss: 0.8215 - accuracy: 0.7613 - val_loss: 1.2017 - val_accuracy: 0.7392\n"
          ],
          "name": "stdout"
        },
        {
          "output_type": "display_data",
          "data": {
            "text/html": [
              "<br/>Waiting for W&B process to finish, PID 7565<br/>Program ended successfully."
            ],
            "text/plain": [
              "<IPython.core.display.HTML object>"
            ]
          },
          "metadata": {
            "tags": []
          }
        },
        {
          "output_type": "display_data",
          "data": {
            "application/vnd.jupyter.widget-view+json": {
              "model_id": "0be7d320775e459aa5b0700c28588234",
              "version_minor": 0,
              "version_major": 2
            },
            "text/plain": [
              "VBox(children=(Label(value=' 1.69MB of 1.69MB uploaded (0.00MB deduped)\\r'), FloatProgress(value=1.0, max=1.0)…"
            ]
          },
          "metadata": {
            "tags": []
          }
        },
        {
          "output_type": "display_data",
          "data": {
            "text/html": [
              "Find user logs for this run at: <code>/root/.keras/datasets/dakshina_dataset_v1.0/hi/lexicons/wandb/run-20210428_201810-wv7lpbcg/logs/debug.log</code>"
            ],
            "text/plain": [
              "<IPython.core.display.HTML object>"
            ]
          },
          "metadata": {
            "tags": []
          }
        },
        {
          "output_type": "display_data",
          "data": {
            "text/html": [
              "Find internal logs for this run at: <code>/root/.keras/datasets/dakshina_dataset_v1.0/hi/lexicons/wandb/run-20210428_201810-wv7lpbcg/logs/debug-internal.log</code>"
            ],
            "text/plain": [
              "<IPython.core.display.HTML object>"
            ]
          },
          "metadata": {
            "tags": []
          }
        },
        {
          "output_type": "display_data",
          "data": {
            "text/html": [
              "<h3>Run summary:</h3><br/><style>\n",
              "    table.wandb td:nth-child(1) { padding: 0 10px; text-align: right }\n",
              "    </style><table class=\"wandb\">\n",
              "<tr><td>epoch</td><td>39</td></tr><tr><td>loss</td><td>0.82756</td></tr><tr><td>accuracy</td><td>0.75958</td></tr><tr><td>val_loss</td><td>1.20166</td></tr><tr><td>val_accuracy</td><td>0.7392</td></tr><tr><td>_runtime</td><td>75</td></tr><tr><td>_timestamp</td><td>1619641165</td></tr><tr><td>_step</td><td>39</td></tr><tr><td>best_val_loss</td><td>1.16372</td></tr><tr><td>best_epoch</td><td>20</td></tr></table>"
            ],
            "text/plain": [
              "<IPython.core.display.HTML object>"
            ]
          },
          "metadata": {
            "tags": []
          }
        },
        {
          "output_type": "display_data",
          "data": {
            "text/html": [
              "<h3>Run history:</h3><br/><style>\n",
              "    table.wandb td:nth-child(1) { padding: 0 10px; text-align: right }\n",
              "    </style><table class=\"wandb\">\n",
              "<tr><td>epoch</td><td>▁▁▁▂▂▂▂▂▂▃▃▃▃▃▄▄▄▄▄▄▅▅▅▅▅▅▆▆▆▆▆▇▇▇▇▇▇███</td></tr><tr><td>loss</td><td>██████████▃▂▁▁▁▁▁▁▁▁▁▁▁▁▁▁▁▁▁▁▁▁▁▁▁▁▁▁▁▁</td></tr><tr><td>accuracy</td><td>▁▁▁▁▁▁▁▁▁▁▇█████████████████████████████</td></tr><tr><td>val_loss</td><td>██████████▁▁▁▁▁▁▁▁▁▁▁▁▁▁▁▁▁▁▁▁▁▁▁▁▁▁▁▁▁▁</td></tr><tr><td>val_accuracy</td><td>▁▁▁▁▁▁▁▁▁▁██████████████████████████████</td></tr><tr><td>_runtime</td><td>▁▁▁▂▂▂▂▂▃▃▃▃▃▃▄▄▄▄▄▄▅▅▅▅▅▆▆▆▆▆▆▇▇▇▇▇▇███</td></tr><tr><td>_timestamp</td><td>▁▁▁▂▂▂▂▂▃▃▃▃▃▃▄▄▄▄▄▄▅▅▅▅▅▆▆▆▆▆▆▇▇▇▇▇▇███</td></tr><tr><td>_step</td><td>▁▁▁▂▂▂▂▂▂▃▃▃▃▃▄▄▄▄▄▄▅▅▅▅▅▅▆▆▆▆▆▇▇▇▇▇▇███</td></tr></table><br/>"
            ],
            "text/plain": [
              "<IPython.core.display.HTML object>"
            ]
          },
          "metadata": {
            "tags": []
          }
        },
        {
          "output_type": "display_data",
          "data": {
            "text/html": [
              "Synced 5 W&B file(s), 1 media file(s), 0 artifact file(s) and 1 other file(s)"
            ],
            "text/plain": [
              "<IPython.core.display.HTML object>"
            ]
          },
          "metadata": {
            "tags": []
          }
        },
        {
          "output_type": "display_data",
          "data": {
            "text/html": [
              "\n",
              "                    <br/>Synced <strong style=\"color:#cdcd00\">young-sweep-34</strong>: <a href=\"https://wandb.ai/anshikag_2210/MachineTransliterator/runs/wv7lpbcg\" target=\"_blank\">https://wandb.ai/anshikag_2210/MachineTransliterator/runs/wv7lpbcg</a><br/>\n",
              "                "
            ],
            "text/plain": [
              "<IPython.core.display.HTML object>"
            ]
          },
          "metadata": {
            "tags": []
          }
        },
        {
          "output_type": "stream",
          "text": [
            "\u001b[34m\u001b[1mwandb\u001b[0m: Agent Starting Run: 1q5hl7xm with config:\n",
            "\u001b[34m\u001b[1mwandb\u001b[0m: \tbatch_size: 32\n",
            "\u001b[34m\u001b[1mwandb\u001b[0m: \tcell_type: rnn\n",
            "\u001b[34m\u001b[1mwandb\u001b[0m: \tdecoder_embed_size: 64\n",
            "\u001b[34m\u001b[1mwandb\u001b[0m: \tdropout: 0.01\n",
            "\u001b[34m\u001b[1mwandb\u001b[0m: \tencoder_embed_size: 27\n",
            "\u001b[34m\u001b[1mwandb\u001b[0m: \tepochs: 60\n",
            "\u001b[34m\u001b[1mwandb\u001b[0m: \thidden_layer_size: 256\n",
            "\u001b[34m\u001b[1mwandb\u001b[0m: \tnum_decoder_layers: 3\n",
            "\u001b[34m\u001b[1mwandb\u001b[0m: \tnum_encoder_layers: 4\n",
            "\u001b[34m\u001b[1mwandb\u001b[0m: \tnum_hidden_layers: 10\n"
          ],
          "name": "stderr"
        },
        {
          "output_type": "display_data",
          "data": {
            "text/html": [
              "\n",
              "                Tracking run with wandb version 0.10.27<br/>\n",
              "                Syncing run <strong style=\"color:#cdcd00\">polished-sweep-35</strong> to <a href=\"https://wandb.ai\" target=\"_blank\">Weights & Biases</a> <a href=\"https://docs.wandb.com/integrations/jupyter.html\" target=\"_blank\">(Documentation)</a>.<br/>\n",
              "                Project page: <a href=\"https://wandb.ai/anshikag_2210/MachineTransliterator\" target=\"_blank\">https://wandb.ai/anshikag_2210/MachineTransliterator</a><br/>\n",
              "                Sweep page: <a href=\"https://wandb.ai/anshikag_2210/MachineTransliterator/sweeps/4qzxmg7y\" target=\"_blank\">https://wandb.ai/anshikag_2210/MachineTransliterator/sweeps/4qzxmg7y</a><br/>\n",
              "Run page: <a href=\"https://wandb.ai/anshikag_2210/MachineTransliterator/runs/1q5hl7xm\" target=\"_blank\">https://wandb.ai/anshikag_2210/MachineTransliterator/runs/1q5hl7xm</a><br/>\n",
              "                Run data is saved locally in <code>/root/.keras/datasets/dakshina_dataset_v1.0/hi/lexicons/wandb/run-20210428_201934-1q5hl7xm</code><br/><br/>\n",
              "            "
            ],
            "text/plain": [
              "<IPython.core.display.HTML object>"
            ]
          },
          "metadata": {
            "tags": []
          }
        },
        {
          "output_type": "stream",
          "text": [
            "Epoch 1/60\n",
            "313/313 [==============================] - 56s 165ms/step - loss: 1.4744 - accuracy: 0.6739 - val_loss: 1.3690 - val_accuracy: 0.7135\n"
          ],
          "name": "stdout"
        },
        {
          "output_type": "stream",
          "text": [
            "\u001b[34m\u001b[1mwandb\u001b[0m: \u001b[32m\u001b[41mERROR\u001b[0m Can't save model, h5py returned error: Unable to create link (name already exists)\n"
          ],
          "name": "stderr"
        },
        {
          "output_type": "stream",
          "text": [
            "Epoch 2/60\n",
            "313/313 [==============================] - 51s 162ms/step - loss: 1.0937 - accuracy: 0.7125 - val_loss: 1.3554 - val_accuracy: 0.7193\n",
            "Epoch 3/60\n",
            "313/313 [==============================] - 50s 160ms/step - loss: 1.0210 - accuracy: 0.7231 - val_loss: 1.2887 - val_accuracy: 0.7229\n",
            "Epoch 4/60\n",
            "313/313 [==============================] - 51s 162ms/step - loss: 0.9698 - accuracy: 0.7286 - val_loss: 1.3085 - val_accuracy: 0.7281\n",
            "Epoch 5/60\n",
            "313/313 [==============================] - 50s 159ms/step - loss: 0.9545 - accuracy: 0.7302 - val_loss: 1.3044 - val_accuracy: 0.7293\n",
            "Epoch 6/60\n",
            "313/313 [==============================] - 50s 160ms/step - loss: 0.9420 - accuracy: 0.7326 - val_loss: 1.3239 - val_accuracy: 0.7285\n",
            "Epoch 7/60\n",
            "313/313 [==============================] - 50s 160ms/step - loss: 0.9302 - accuracy: 0.7364 - val_loss: 1.3460 - val_accuracy: 0.7296\n",
            "Epoch 8/60\n",
            "313/313 [==============================] - 49s 158ms/step - loss: 0.9227 - accuracy: 0.7357 - val_loss: 1.3142 - val_accuracy: 0.7309\n",
            "Epoch 9/60\n",
            "313/313 [==============================] - 48s 153ms/step - loss: 0.9068 - accuracy: 0.7400 - val_loss: 1.3220 - val_accuracy: 0.7322\n",
            "Epoch 10/60\n",
            "313/313 [==============================] - 49s 157ms/step - loss: 0.8981 - accuracy: 0.7418 - val_loss: 1.3588 - val_accuracy: 0.7323\n",
            "Epoch 11/60\n",
            "313/313 [==============================] - 49s 156ms/step - loss: 0.8759 - accuracy: 0.7481 - val_loss: 1.3460 - val_accuracy: 0.7310\n",
            "Epoch 12/60\n",
            "313/313 [==============================] - 51s 162ms/step - loss: 0.8681 - accuracy: 0.7499 - val_loss: 1.3520 - val_accuracy: 0.7327\n",
            "Epoch 13/60\n",
            "313/313 [==============================] - 51s 162ms/step - loss: 0.8544 - accuracy: 0.7515 - val_loss: 1.3716 - val_accuracy: 0.7326\n",
            "Epoch 14/60\n",
            "313/313 [==============================] - 49s 156ms/step - loss: 0.8446 - accuracy: 0.7544 - val_loss: 1.3650 - val_accuracy: 0.7335\n",
            "Epoch 15/60\n",
            "313/313 [==============================] - 49s 155ms/step - loss: 0.8356 - accuracy: 0.7563 - val_loss: 1.3604 - val_accuracy: 0.7325\n",
            "Epoch 16/60\n",
            "313/313 [==============================] - 51s 162ms/step - loss: 0.8219 - accuracy: 0.7594 - val_loss: 1.3688 - val_accuracy: 0.7332\n",
            "Epoch 17/60\n",
            "313/313 [==============================] - 50s 159ms/step - loss: 0.8087 - accuracy: 0.7633 - val_loss: 1.3736 - val_accuracy: 0.7350\n",
            "Epoch 18/60\n",
            "313/313 [==============================] - 50s 159ms/step - loss: 0.7996 - accuracy: 0.7653 - val_loss: 1.3761 - val_accuracy: 0.7346\n",
            "Epoch 19/60\n",
            "313/313 [==============================] - 49s 158ms/step - loss: 0.7883 - accuracy: 0.7670 - val_loss: 1.3922 - val_accuracy: 0.7366\n",
            "Epoch 20/60\n",
            "313/313 [==============================] - 50s 159ms/step - loss: 0.7772 - accuracy: 0.7714 - val_loss: 1.3739 - val_accuracy: 0.7365\n",
            "Epoch 21/60\n",
            "313/313 [==============================] - 50s 159ms/step - loss: 0.7628 - accuracy: 0.7745 - val_loss: 1.3965 - val_accuracy: 0.7350\n",
            "Epoch 22/60\n",
            "313/313 [==============================] - 50s 159ms/step - loss: 0.7549 - accuracy: 0.7762 - val_loss: 1.4025 - val_accuracy: 0.7351\n",
            "Epoch 23/60\n",
            "313/313 [==============================] - 49s 157ms/step - loss: 0.7679 - accuracy: 0.7750 - val_loss: 1.3993 - val_accuracy: 0.7380\n",
            "Epoch 24/60\n",
            "313/313 [==============================] - 50s 159ms/step - loss: 0.7351 - accuracy: 0.7816 - val_loss: 1.4155 - val_accuracy: 0.7344\n",
            "Epoch 25/60\n",
            "313/313 [==============================] - 50s 160ms/step - loss: 0.7274 - accuracy: 0.7842 - val_loss: 1.4230 - val_accuracy: 0.7362\n",
            "Epoch 26/60\n",
            "313/313 [==============================] - 50s 160ms/step - loss: 0.7190 - accuracy: 0.7863 - val_loss: 1.4477 - val_accuracy: 0.7339\n",
            "Epoch 27/60\n",
            "313/313 [==============================] - 49s 156ms/step - loss: 0.7058 - accuracy: 0.7891 - val_loss: 1.4320 - val_accuracy: 0.7308\n",
            "Epoch 28/60\n",
            "313/313 [==============================] - 48s 154ms/step - loss: 0.6961 - accuracy: 0.7908 - val_loss: 1.4561 - val_accuracy: 0.7347\n",
            "Epoch 29/60\n",
            "313/313 [==============================] - 49s 158ms/step - loss: 0.6912 - accuracy: 0.7927 - val_loss: 1.4621 - val_accuracy: 0.7358\n",
            "Epoch 30/60\n",
            "313/313 [==============================] - 47s 150ms/step - loss: 0.6795 - accuracy: 0.7957 - val_loss: 1.4807 - val_accuracy: 0.7356\n",
            "Epoch 31/60\n",
            "313/313 [==============================] - 47s 151ms/step - loss: 0.6723 - accuracy: 0.7980 - val_loss: 1.4883 - val_accuracy: 0.7338\n",
            "Epoch 32/60\n",
            "313/313 [==============================] - 46s 147ms/step - loss: 0.6600 - accuracy: 0.8014 - val_loss: 1.5055 - val_accuracy: 0.7336\n",
            "Epoch 33/60\n",
            "313/313 [==============================] - 48s 152ms/step - loss: 0.6543 - accuracy: 0.8026 - val_loss: 1.5081 - val_accuracy: 0.7318\n",
            "Epoch 34/60\n",
            "313/313 [==============================] - 50s 159ms/step - loss: 0.6502 - accuracy: 0.8036 - val_loss: 1.5128 - val_accuracy: 0.7309\n",
            "Epoch 35/60\n",
            "313/313 [==============================] - 50s 159ms/step - loss: 0.6449 - accuracy: 0.8042 - val_loss: 1.5282 - val_accuracy: 0.7328\n",
            "Epoch 36/60\n",
            "313/313 [==============================] - 49s 158ms/step - loss: 0.6324 - accuracy: 0.8076 - val_loss: 1.5383 - val_accuracy: 0.7306\n",
            "Epoch 37/60\n",
            "313/313 [==============================] - 49s 158ms/step - loss: 0.6275 - accuracy: 0.8095 - val_loss: 1.5462 - val_accuracy: 0.7332\n",
            "Epoch 38/60\n",
            "313/313 [==============================] - 50s 159ms/step - loss: 0.6271 - accuracy: 0.8094 - val_loss: 1.5530 - val_accuracy: 0.7317\n",
            "Epoch 39/60\n",
            "313/313 [==============================] - 49s 158ms/step - loss: 0.6166 - accuracy: 0.8120 - val_loss: 1.5690 - val_accuracy: 0.7318\n",
            "Epoch 40/60\n",
            "313/313 [==============================] - 48s 155ms/step - loss: 0.6129 - accuracy: 0.8133 - val_loss: 1.5711 - val_accuracy: 0.7311\n",
            "Epoch 41/60\n",
            "313/313 [==============================] - 50s 158ms/step - loss: 0.6072 - accuracy: 0.8136 - val_loss: 1.5893 - val_accuracy: 0.7298\n",
            "Epoch 42/60\n",
            "313/313 [==============================] - 49s 157ms/step - loss: 0.6025 - accuracy: 0.8159 - val_loss: 1.5870 - val_accuracy: 0.7291\n",
            "Epoch 43/60\n",
            "313/313 [==============================] - 49s 156ms/step - loss: 0.5968 - accuracy: 0.8160 - val_loss: 1.6020 - val_accuracy: 0.7327\n",
            "Epoch 44/60\n",
            "313/313 [==============================] - 49s 158ms/step - loss: 0.5917 - accuracy: 0.8186 - val_loss: 1.6153 - val_accuracy: 0.7310\n",
            "Epoch 45/60\n",
            "313/313 [==============================] - 49s 158ms/step - loss: 0.5894 - accuracy: 0.8196 - val_loss: 1.6244 - val_accuracy: 0.7316\n",
            "Epoch 46/60\n",
            "313/313 [==============================] - 49s 157ms/step - loss: 0.5863 - accuracy: 0.8191 - val_loss: 1.6230 - val_accuracy: 0.7290\n",
            "Epoch 47/60\n",
            "313/313 [==============================] - 49s 157ms/step - loss: 0.5772 - accuracy: 0.8218 - val_loss: 1.6290 - val_accuracy: 0.7325\n",
            "Epoch 48/60\n",
            "313/313 [==============================] - 49s 157ms/step - loss: 0.5775 - accuracy: 0.8212 - val_loss: 1.6404 - val_accuracy: 0.7318\n",
            "Epoch 49/60\n",
            "313/313 [==============================] - 49s 158ms/step - loss: 0.5731 - accuracy: 0.8229 - val_loss: 1.6496 - val_accuracy: 0.7287\n",
            "Epoch 50/60\n",
            "313/313 [==============================] - 49s 155ms/step - loss: 0.5678 - accuracy: 0.8239 - val_loss: 1.6662 - val_accuracy: 0.7322\n",
            "Epoch 51/60\n",
            "313/313 [==============================] - 49s 157ms/step - loss: 0.5651 - accuracy: 0.8247 - val_loss: 1.6740 - val_accuracy: 0.7327\n",
            "Epoch 52/60\n",
            "313/313 [==============================] - 49s 155ms/step - loss: 0.5624 - accuracy: 0.8245 - val_loss: 1.6779 - val_accuracy: 0.7299\n",
            "Epoch 53/60\n",
            "313/313 [==============================] - 49s 157ms/step - loss: 0.5654 - accuracy: 0.8244 - val_loss: 1.6912 - val_accuracy: 0.7291\n",
            "Epoch 54/60\n",
            "313/313 [==============================] - 48s 155ms/step - loss: 0.5569 - accuracy: 0.8261 - val_loss: 1.6879 - val_accuracy: 0.7311\n",
            "Epoch 55/60\n",
            "313/313 [==============================] - 49s 156ms/step - loss: 0.5536 - accuracy: 0.8264 - val_loss: 1.7076 - val_accuracy: 0.7335\n",
            "Epoch 56/60\n",
            "313/313 [==============================] - 49s 156ms/step - loss: 0.5521 - accuracy: 0.8268 - val_loss: 1.6916 - val_accuracy: 0.7321\n",
            "Epoch 57/60\n",
            "313/313 [==============================] - 49s 155ms/step - loss: 0.5498 - accuracy: 0.8286 - val_loss: 1.7175 - val_accuracy: 0.7306\n",
            "Epoch 58/60\n",
            "313/313 [==============================] - 49s 158ms/step - loss: 0.5489 - accuracy: 0.8277 - val_loss: 1.7251 - val_accuracy: 0.7313\n",
            "Epoch 59/60\n",
            "313/313 [==============================] - 49s 155ms/step - loss: 0.5433 - accuracy: 0.8296 - val_loss: 1.7157 - val_accuracy: 0.7294\n",
            "Epoch 60/60\n",
            "313/313 [==============================] - 49s 157ms/step - loss: 0.5443 - accuracy: 0.8289 - val_loss: 1.7233 - val_accuracy: 0.7301\n"
          ],
          "name": "stdout"
        },
        {
          "output_type": "display_data",
          "data": {
            "text/html": [
              "<br/>Waiting for W&B process to finish, PID 7733<br/>Program ended successfully."
            ],
            "text/plain": [
              "<IPython.core.display.HTML object>"
            ]
          },
          "metadata": {
            "tags": []
          }
        },
        {
          "output_type": "display_data",
          "data": {
            "application/vnd.jupyter.widget-view+json": {
              "model_id": "d302420fdaa9419f998623c301703dde",
              "version_minor": 0,
              "version_major": 2
            },
            "text/plain": [
              "VBox(children=(Label(value=' 3.24MB of 3.24MB uploaded (0.00MB deduped)\\r'), FloatProgress(value=1.0, max=1.0)…"
            ]
          },
          "metadata": {
            "tags": []
          }
        },
        {
          "output_type": "display_data",
          "data": {
            "text/html": [
              "Find user logs for this run at: <code>/root/.keras/datasets/dakshina_dataset_v1.0/hi/lexicons/wandb/run-20210428_201934-1q5hl7xm/logs/debug.log</code>"
            ],
            "text/plain": [
              "<IPython.core.display.HTML object>"
            ]
          },
          "metadata": {
            "tags": []
          }
        },
        {
          "output_type": "display_data",
          "data": {
            "text/html": [
              "Find internal logs for this run at: <code>/root/.keras/datasets/dakshina_dataset_v1.0/hi/lexicons/wandb/run-20210428_201934-1q5hl7xm/logs/debug-internal.log</code>"
            ],
            "text/plain": [
              "<IPython.core.display.HTML object>"
            ]
          },
          "metadata": {
            "tags": []
          }
        },
        {
          "output_type": "display_data",
          "data": {
            "text/html": [
              "<h3>Run summary:</h3><br/><style>\n",
              "    table.wandb td:nth-child(1) { padding: 0 10px; text-align: right }\n",
              "    </style><table class=\"wandb\">\n",
              "<tr><td>epoch</td><td>59</td></tr><tr><td>loss</td><td>0.54549</td></tr><tr><td>accuracy</td><td>0.82869</td></tr><tr><td>val_loss</td><td>1.72328</td></tr><tr><td>val_accuracy</td><td>0.73014</td></tr><tr><td>_runtime</td><td>2965</td></tr><tr><td>_timestamp</td><td>1619644139</td></tr><tr><td>_step</td><td>59</td></tr><tr><td>best_val_loss</td><td>1.2887</td></tr><tr><td>best_epoch</td><td>2</td></tr></table>"
            ],
            "text/plain": [
              "<IPython.core.display.HTML object>"
            ]
          },
          "metadata": {
            "tags": []
          }
        },
        {
          "output_type": "display_data",
          "data": {
            "text/html": [
              "<h3>Run history:</h3><br/><style>\n",
              "    table.wandb td:nth-child(1) { padding: 0 10px; text-align: right }\n",
              "    </style><table class=\"wandb\">\n",
              "<tr><td>epoch</td><td>▁▁▁▁▂▂▂▂▂▃▃▃▃▃▃▄▄▄▄▄▅▅▅▅▅▅▆▆▆▆▆▆▇▇▇▇▇███</td></tr><tr><td>loss</td><td>█▆▅▅▅▅▄▄▄▄▄▄▃▃▃▃▃▃▃▂▂▂▂▂▂▂▂▂▂▁▁▁▁▁▁▁▁▁▁▁</td></tr><tr><td>accuracy</td><td>▁▂▂▃▃▃▃▃▄▄▄▄▅▅▅▅▆▆▆▆▆▆▇▇▇▇▇▇▇▇▇█████████</td></tr><tr><td>val_loss</td><td>▂▂▁▁▂▁▂▂▂▂▂▂▂▂▃▃▃▃▄▄▄▄▄▅▅▅▅▆▆▆▆▆▇▇▇▇█▇██</td></tr><tr><td>val_accuracy</td><td>▁▃▅▆▆▆▆▆▆▇▇▇██▇█▇▇▇▇▇▇▆▇▇▆▆▆▆▆▅▆▅▆▆▅▇▆▆▆</td></tr><tr><td>_runtime</td><td>▁▁▁▁▂▂▂▂▂▃▃▃▃▃▄▄▄▄▄▄▅▅▅▅▅▅▆▆▆▆▆▆▇▇▇▇▇███</td></tr><tr><td>_timestamp</td><td>▁▁▁▁▂▂▂▂▂▃▃▃▃▃▄▄▄▄▄▄▅▅▅▅▅▅▆▆▆▆▆▆▇▇▇▇▇███</td></tr><tr><td>_step</td><td>▁▁▁▁▂▂▂▂▂▃▃▃▃▃▃▄▄▄▄▄▅▅▅▅▅▅▆▆▆▆▆▆▇▇▇▇▇███</td></tr></table><br/>"
            ],
            "text/plain": [
              "<IPython.core.display.HTML object>"
            ]
          },
          "metadata": {
            "tags": []
          }
        },
        {
          "output_type": "display_data",
          "data": {
            "text/html": [
              "Synced 5 W&B file(s), 1 media file(s), 0 artifact file(s) and 1 other file(s)"
            ],
            "text/plain": [
              "<IPython.core.display.HTML object>"
            ]
          },
          "metadata": {
            "tags": []
          }
        },
        {
          "output_type": "display_data",
          "data": {
            "text/html": [
              "\n",
              "                    <br/>Synced <strong style=\"color:#cdcd00\">polished-sweep-35</strong>: <a href=\"https://wandb.ai/anshikag_2210/MachineTransliterator/runs/1q5hl7xm\" target=\"_blank\">https://wandb.ai/anshikag_2210/MachineTransliterator/runs/1q5hl7xm</a><br/>\n",
              "                "
            ],
            "text/plain": [
              "<IPython.core.display.HTML object>"
            ]
          },
          "metadata": {
            "tags": []
          }
        },
        {
          "output_type": "stream",
          "text": [
            "\u001b[34m\u001b[1mwandb\u001b[0m: Agent Starting Run: phlfhc8x with config:\n",
            "\u001b[34m\u001b[1mwandb\u001b[0m: \tbatch_size: 128\n",
            "\u001b[34m\u001b[1mwandb\u001b[0m: \tcell_type: gru\n",
            "\u001b[34m\u001b[1mwandb\u001b[0m: \tdecoder_embed_size: 27\n",
            "\u001b[34m\u001b[1mwandb\u001b[0m: \tdropout: 0.5\n",
            "\u001b[34m\u001b[1mwandb\u001b[0m: \tencoder_embed_size: 64\n",
            "\u001b[34m\u001b[1mwandb\u001b[0m: \tepochs: 30\n",
            "\u001b[34m\u001b[1mwandb\u001b[0m: \thidden_layer_size: 512\n",
            "\u001b[34m\u001b[1mwandb\u001b[0m: \tnum_decoder_layers: 3\n",
            "\u001b[34m\u001b[1mwandb\u001b[0m: \tnum_encoder_layers: 1\n",
            "\u001b[34m\u001b[1mwandb\u001b[0m: \tnum_hidden_layers: 2\n"
          ],
          "name": "stderr"
        },
        {
          "output_type": "display_data",
          "data": {
            "text/html": [
              "\n",
              "                Tracking run with wandb version 0.10.27<br/>\n",
              "                Syncing run <strong style=\"color:#cdcd00\">spring-sweep-36</strong> to <a href=\"https://wandb.ai\" target=\"_blank\">Weights & Biases</a> <a href=\"https://docs.wandb.com/integrations/jupyter.html\" target=\"_blank\">(Documentation)</a>.<br/>\n",
              "                Project page: <a href=\"https://wandb.ai/anshikag_2210/MachineTransliterator\" target=\"_blank\">https://wandb.ai/anshikag_2210/MachineTransliterator</a><br/>\n",
              "                Sweep page: <a href=\"https://wandb.ai/anshikag_2210/MachineTransliterator/sweeps/4qzxmg7y\" target=\"_blank\">https://wandb.ai/anshikag_2210/MachineTransliterator/sweeps/4qzxmg7y</a><br/>\n",
              "Run page: <a href=\"https://wandb.ai/anshikag_2210/MachineTransliterator/runs/phlfhc8x\" target=\"_blank\">https://wandb.ai/anshikag_2210/MachineTransliterator/runs/phlfhc8x</a><br/>\n",
              "                Run data is saved locally in <code>/root/.keras/datasets/dakshina_dataset_v1.0/hi/lexicons/wandb/run-20210428_210908-phlfhc8x</code><br/><br/>\n",
              "            "
            ],
            "text/plain": [
              "<IPython.core.display.HTML object>"
            ]
          },
          "metadata": {
            "tags": []
          }
        },
        {
          "output_type": "stream",
          "text": [
            "Epoch 1/30\n",
            "79/79 [==============================] - 10s 56ms/step - loss: 1.7692 - accuracy: 0.6466 - val_loss: 1.2624 - val_accuracy: 0.7166\n"
          ],
          "name": "stdout"
        },
        {
          "output_type": "stream",
          "text": [
            "\u001b[34m\u001b[1mwandb\u001b[0m: \u001b[32m\u001b[41mERROR\u001b[0m Can't save model, h5py returned error: Unable to create link (name already exists)\n"
          ],
          "name": "stderr"
        },
        {
          "output_type": "stream",
          "text": [
            "Epoch 2/30\n",
            "79/79 [==============================] - 3s 40ms/step - loss: 1.1430 - accuracy: 0.7093 - val_loss: 1.2601 - val_accuracy: 0.7221\n",
            "Epoch 3/30\n",
            "79/79 [==============================] - 3s 41ms/step - loss: 1.0393 - accuracy: 0.7216 - val_loss: 1.2054 - val_accuracy: 0.7299\n",
            "Epoch 4/30\n",
            "79/79 [==============================] - 3s 41ms/step - loss: 0.9750 - accuracy: 0.7317 - val_loss: 1.1919 - val_accuracy: 0.7311\n",
            "Epoch 5/30\n",
            "79/79 [==============================] - 3s 40ms/step - loss: 0.9612 - accuracy: 0.7335 - val_loss: 1.1906 - val_accuracy: 0.7318\n",
            "Epoch 6/30\n",
            "79/79 [==============================] - 3s 41ms/step - loss: 0.9460 - accuracy: 0.7357 - val_loss: 1.2012 - val_accuracy: 0.7356\n",
            "Epoch 7/30\n",
            "79/79 [==============================] - 3s 41ms/step - loss: 0.9337 - accuracy: 0.7382 - val_loss: 1.1960 - val_accuracy: 0.7387\n",
            "Epoch 8/30\n",
            "79/79 [==============================] - 3s 41ms/step - loss: 0.9211 - accuracy: 0.7416 - val_loss: 1.1995 - val_accuracy: 0.7340\n",
            "Epoch 9/30\n",
            "79/79 [==============================] - 3s 42ms/step - loss: 0.9033 - accuracy: 0.7461 - val_loss: 1.1924 - val_accuracy: 0.7390\n",
            "Epoch 10/30\n",
            "79/79 [==============================] - 3s 41ms/step - loss: 0.8970 - accuracy: 0.7473 - val_loss: 1.1870 - val_accuracy: 0.7412\n",
            "Epoch 11/30\n",
            "79/79 [==============================] - 3s 41ms/step - loss: 0.8893 - accuracy: 0.7485 - val_loss: 1.2015 - val_accuracy: 0.7404\n",
            "Epoch 12/30\n",
            "79/79 [==============================] - 3s 42ms/step - loss: 0.8737 - accuracy: 0.7523 - val_loss: 1.1902 - val_accuracy: 0.7410\n",
            "Epoch 13/30\n",
            "79/79 [==============================] - 3s 42ms/step - loss: 0.8628 - accuracy: 0.7550 - val_loss: 1.1870 - val_accuracy: 0.7421\n",
            "Epoch 14/30\n",
            "79/79 [==============================] - 3s 42ms/step - loss: 0.8456 - accuracy: 0.7581 - val_loss: 1.1849 - val_accuracy: 0.7440\n",
            "Epoch 15/30\n",
            "79/79 [==============================] - 3s 42ms/step - loss: 0.8326 - accuracy: 0.7636 - val_loss: 1.1916 - val_accuracy: 0.7407\n",
            "Epoch 16/30\n",
            "79/79 [==============================] - 3s 41ms/step - loss: 0.8257 - accuracy: 0.7633 - val_loss: 1.1844 - val_accuracy: 0.7464\n",
            "Epoch 17/30\n",
            "79/79 [==============================] - 3s 42ms/step - loss: 0.8084 - accuracy: 0.7689 - val_loss: 1.1816 - val_accuracy: 0.7451\n",
            "Epoch 18/30\n",
            "79/79 [==============================] - 3s 44ms/step - loss: 0.8035 - accuracy: 0.7694 - val_loss: 1.1974 - val_accuracy: 0.7429\n",
            "Epoch 19/30\n",
            "79/79 [==============================] - 3s 43ms/step - loss: 0.7917 - accuracy: 0.7716 - val_loss: 1.2040 - val_accuracy: 0.7451\n",
            "Epoch 20/30\n",
            "79/79 [==============================] - 3s 42ms/step - loss: 0.7794 - accuracy: 0.7748 - val_loss: 1.1933 - val_accuracy: 0.7479\n",
            "Epoch 21/30\n",
            "79/79 [==============================] - 3s 43ms/step - loss: 0.7729 - accuracy: 0.7762 - val_loss: 1.1880 - val_accuracy: 0.7483\n",
            "Epoch 22/30\n",
            "79/79 [==============================] - 3s 43ms/step - loss: 0.7574 - accuracy: 0.7802 - val_loss: 1.2011 - val_accuracy: 0.7485\n",
            "Epoch 23/30\n",
            "79/79 [==============================] - 3s 43ms/step - loss: 0.7470 - accuracy: 0.7831 - val_loss: 1.2092 - val_accuracy: 0.7481\n",
            "Epoch 24/30\n",
            "79/79 [==============================] - 3s 43ms/step - loss: 0.7363 - accuracy: 0.7859 - val_loss: 1.2108 - val_accuracy: 0.7491\n",
            "Epoch 25/30\n",
            "79/79 [==============================] - 3s 42ms/step - loss: 0.7275 - accuracy: 0.7890 - val_loss: 1.2021 - val_accuracy: 0.7457\n",
            "Epoch 26/30\n",
            "79/79 [==============================] - 3s 43ms/step - loss: 0.7149 - accuracy: 0.7907 - val_loss: 1.2113 - val_accuracy: 0.7468\n",
            "Epoch 27/30\n",
            "79/79 [==============================] - 3s 42ms/step - loss: 0.7096 - accuracy: 0.7934 - val_loss: 1.2158 - val_accuracy: 0.7499\n",
            "Epoch 28/30\n",
            "79/79 [==============================] - 3s 43ms/step - loss: 0.6929 - accuracy: 0.7970 - val_loss: 1.2047 - val_accuracy: 0.7484\n",
            "Epoch 29/30\n",
            "79/79 [==============================] - 3s 42ms/step - loss: 0.6861 - accuracy: 0.7982 - val_loss: 1.2315 - val_accuracy: 0.7490\n",
            "Epoch 30/30\n",
            "79/79 [==============================] - 3s 42ms/step - loss: 0.6805 - accuracy: 0.8009 - val_loss: 1.2246 - val_accuracy: 0.7476\n"
          ],
          "name": "stdout"
        },
        {
          "output_type": "display_data",
          "data": {
            "text/html": [
              "<br/>Waiting for W&B process to finish, PID 8435<br/>Program ended successfully."
            ],
            "text/plain": [
              "<IPython.core.display.HTML object>"
            ]
          },
          "metadata": {
            "tags": []
          }
        },
        {
          "output_type": "display_data",
          "data": {
            "application/vnd.jupyter.widget-view+json": {
              "model_id": "5058d4881f7c41a499f36369b53a9317",
              "version_minor": 0,
              "version_major": 2
            },
            "text/plain": [
              "VBox(children=(Label(value=' 18.75MB of 18.75MB uploaded (0.00MB deduped)\\r'), FloatProgress(value=1.0, max=1.…"
            ]
          },
          "metadata": {
            "tags": []
          }
        },
        {
          "output_type": "display_data",
          "data": {
            "text/html": [
              "Find user logs for this run at: <code>/root/.keras/datasets/dakshina_dataset_v1.0/hi/lexicons/wandb/run-20210428_210908-phlfhc8x/logs/debug.log</code>"
            ],
            "text/plain": [
              "<IPython.core.display.HTML object>"
            ]
          },
          "metadata": {
            "tags": []
          }
        },
        {
          "output_type": "display_data",
          "data": {
            "text/html": [
              "Find internal logs for this run at: <code>/root/.keras/datasets/dakshina_dataset_v1.0/hi/lexicons/wandb/run-20210428_210908-phlfhc8x/logs/debug-internal.log</code>"
            ],
            "text/plain": [
              "<IPython.core.display.HTML object>"
            ]
          },
          "metadata": {
            "tags": []
          }
        },
        {
          "output_type": "display_data",
          "data": {
            "text/html": [
              "<h3>Run summary:</h3><br/><style>\n",
              "    table.wandb td:nth-child(1) { padding: 0 10px; text-align: right }\n",
              "    </style><table class=\"wandb\">\n",
              "<tr><td>epoch</td><td>29</td></tr><tr><td>loss</td><td>0.67431</td></tr><tr><td>accuracy</td><td>0.80199</td></tr><tr><td>val_loss</td><td>1.22464</td></tr><tr><td>val_accuracy</td><td>0.74764</td></tr><tr><td>_runtime</td><td>111</td></tr><tr><td>_timestamp</td><td>1619644259</td></tr><tr><td>_step</td><td>29</td></tr><tr><td>best_val_loss</td><td>1.18163</td></tr><tr><td>best_epoch</td><td>16</td></tr></table>"
            ],
            "text/plain": [
              "<IPython.core.display.HTML object>"
            ]
          },
          "metadata": {
            "tags": []
          }
        },
        {
          "output_type": "display_data",
          "data": {
            "text/html": [
              "<h3>Run history:</h3><br/><style>\n",
              "    table.wandb td:nth-child(1) { padding: 0 10px; text-align: right }\n",
              "    </style><table class=\"wandb\">\n",
              "<tr><td>epoch</td><td>▁▁▁▂▂▂▂▃▃▃▃▄▄▄▄▅▅▅▅▆▆▆▆▇▇▇▇███</td></tr><tr><td>loss</td><td>█▅▄▄▄▄▃▃▃▃▃▃▃▃▃▂▂▂▂▂▂▂▂▂▁▁▁▁▁▁</td></tr><tr><td>accuracy</td><td>▁▃▃▄▄▄▄▄▅▅▅▅▅▅▆▆▆▆▆▆▆▇▇▇▇▇▇███</td></tr><tr><td>val_loss</td><td>██▃▂▂▃▂▃▂▁▃▂▁▁▂▁▁▂▃▂▂▃▃▄▃▄▄▃▅▅</td></tr><tr><td>val_accuracy</td><td>▁▂▄▄▄▅▆▅▆▆▆▆▆▇▆▇▇▇▇█████▇▇████</td></tr><tr><td>_runtime</td><td>▁▁▂▂▂▂▃▃▃▃▃▄▄▄▄▅▅▅▅▆▆▆▆▇▇▇▇▇██</td></tr><tr><td>_timestamp</td><td>▁▁▂▂▂▂▃▃▃▃▃▄▄▄▄▅▅▅▅▆▆▆▆▇▇▇▇▇██</td></tr><tr><td>_step</td><td>▁▁▁▂▂▂▂▃▃▃▃▄▄▄▄▅▅▅▅▆▆▆▆▇▇▇▇███</td></tr></table><br/>"
            ],
            "text/plain": [
              "<IPython.core.display.HTML object>"
            ]
          },
          "metadata": {
            "tags": []
          }
        },
        {
          "output_type": "display_data",
          "data": {
            "text/html": [
              "Synced 5 W&B file(s), 1 media file(s), 0 artifact file(s) and 1 other file(s)"
            ],
            "text/plain": [
              "<IPython.core.display.HTML object>"
            ]
          },
          "metadata": {
            "tags": []
          }
        },
        {
          "output_type": "display_data",
          "data": {
            "text/html": [
              "\n",
              "                    <br/>Synced <strong style=\"color:#cdcd00\">spring-sweep-36</strong>: <a href=\"https://wandb.ai/anshikag_2210/MachineTransliterator/runs/phlfhc8x\" target=\"_blank\">https://wandb.ai/anshikag_2210/MachineTransliterator/runs/phlfhc8x</a><br/>\n",
              "                "
            ],
            "text/plain": [
              "<IPython.core.display.HTML object>"
            ]
          },
          "metadata": {
            "tags": []
          }
        },
        {
          "output_type": "stream",
          "text": [
            "\u001b[34m\u001b[1mwandb\u001b[0m: Agent Starting Run: ldcq6fh8 with config:\n",
            "\u001b[34m\u001b[1mwandb\u001b[0m: \tbatch_size: 32\n",
            "\u001b[34m\u001b[1mwandb\u001b[0m: \tcell_type: lstm\n",
            "\u001b[34m\u001b[1mwandb\u001b[0m: \tdecoder_embed_size: 64\n",
            "\u001b[34m\u001b[1mwandb\u001b[0m: \tdropout: 0.01\n",
            "\u001b[34m\u001b[1mwandb\u001b[0m: \tencoder_embed_size: 27\n",
            "\u001b[34m\u001b[1mwandb\u001b[0m: \tepochs: 30\n",
            "\u001b[34m\u001b[1mwandb\u001b[0m: \thidden_layer_size: 256\n",
            "\u001b[34m\u001b[1mwandb\u001b[0m: \tnum_decoder_layers: 2\n",
            "\u001b[34m\u001b[1mwandb\u001b[0m: \tnum_encoder_layers: 4\n",
            "\u001b[34m\u001b[1mwandb\u001b[0m: \tnum_hidden_layers: 2\n"
          ],
          "name": "stderr"
        },
        {
          "output_type": "display_data",
          "data": {
            "text/html": [
              "\n",
              "                Tracking run with wandb version 0.10.27<br/>\n",
              "                Syncing run <strong style=\"color:#cdcd00\">smart-sweep-37</strong> to <a href=\"https://wandb.ai\" target=\"_blank\">Weights & Biases</a> <a href=\"https://docs.wandb.com/integrations/jupyter.html\" target=\"_blank\">(Documentation)</a>.<br/>\n",
              "                Project page: <a href=\"https://wandb.ai/anshikag_2210/MachineTransliterator\" target=\"_blank\">https://wandb.ai/anshikag_2210/MachineTransliterator</a><br/>\n",
              "                Sweep page: <a href=\"https://wandb.ai/anshikag_2210/MachineTransliterator/sweeps/4qzxmg7y\" target=\"_blank\">https://wandb.ai/anshikag_2210/MachineTransliterator/sweeps/4qzxmg7y</a><br/>\n",
              "Run page: <a href=\"https://wandb.ai/anshikag_2210/MachineTransliterator/runs/ldcq6fh8\" target=\"_blank\">https://wandb.ai/anshikag_2210/MachineTransliterator/runs/ldcq6fh8</a><br/>\n",
              "                Run data is saved locally in <code>/root/.keras/datasets/dakshina_dataset_v1.0/hi/lexicons/wandb/run-20210428_211108-ldcq6fh8</code><br/><br/>\n",
              "            "
            ],
            "text/plain": [
              "<IPython.core.display.HTML object>"
            ]
          },
          "metadata": {
            "tags": []
          }
        },
        {
          "output_type": "stream",
          "text": [
            "Epoch 1/30\n",
            "313/313 [==============================] - 17s 29ms/step - loss: 1.3330 - accuracy: 0.6942 - val_loss: 1.1445 - val_accuracy: 0.7374\n"
          ],
          "name": "stdout"
        },
        {
          "output_type": "stream",
          "text": [
            "\u001b[34m\u001b[1mwandb\u001b[0m: \u001b[32m\u001b[41mERROR\u001b[0m Can't save model, h5py returned error: Unable to create link (name already exists)\n"
          ],
          "name": "stderr"
        },
        {
          "output_type": "stream",
          "text": [
            "Epoch 2/30\n",
            "313/313 [==============================] - 7s 23ms/step - loss: 0.9137 - accuracy: 0.7396 - val_loss: 1.1320 - val_accuracy: 0.7453\n",
            "Epoch 3/30\n",
            "313/313 [==============================] - 8s 25ms/step - loss: 0.8555 - accuracy: 0.7572 - val_loss: 1.1641 - val_accuracy: 0.7540\n",
            "Epoch 4/30\n",
            "313/313 [==============================] - 7s 23ms/step - loss: 0.7701 - accuracy: 0.7805 - val_loss: 1.1581 - val_accuracy: 0.7580\n",
            "Epoch 5/30\n",
            "313/313 [==============================] - 7s 23ms/step - loss: 0.7021 - accuracy: 0.7973 - val_loss: 1.1146 - val_accuracy: 0.7634\n",
            "Epoch 6/30\n",
            "313/313 [==============================] - 7s 23ms/step - loss: 0.6258 - accuracy: 0.8166 - val_loss: 1.1284 - val_accuracy: 0.7638\n",
            "Epoch 7/30\n",
            "313/313 [==============================] - 7s 23ms/step - loss: 0.5374 - accuracy: 0.8390 - val_loss: 1.0575 - val_accuracy: 0.7781\n",
            "Epoch 8/30\n",
            "313/313 [==============================] - 7s 23ms/step - loss: 0.4547 - accuracy: 0.8631 - val_loss: 1.0318 - val_accuracy: 0.7861\n",
            "Epoch 9/30\n",
            "313/313 [==============================] - 7s 23ms/step - loss: 0.3838 - accuracy: 0.8840 - val_loss: 1.0025 - val_accuracy: 0.7956\n",
            "Epoch 10/30\n",
            "313/313 [==============================] - 7s 24ms/step - loss: 0.3168 - accuracy: 0.9043 - val_loss: 1.0008 - val_accuracy: 0.7956\n",
            "Epoch 11/30\n",
            "313/313 [==============================] - 8s 24ms/step - loss: 0.2655 - accuracy: 0.9219 - val_loss: 0.9828 - val_accuracy: 0.8049\n",
            "Epoch 12/30\n",
            "313/313 [==============================] - 7s 23ms/step - loss: 0.2106 - accuracy: 0.9385 - val_loss: 1.0256 - val_accuracy: 0.8014\n",
            "Epoch 13/30\n",
            "313/313 [==============================] - 7s 23ms/step - loss: 0.1800 - accuracy: 0.9480 - val_loss: 1.0126 - val_accuracy: 0.8048\n",
            "Epoch 14/30\n",
            "313/313 [==============================] - 7s 23ms/step - loss: 0.1449 - accuracy: 0.9585 - val_loss: 1.0267 - val_accuracy: 0.8075\n",
            "Epoch 15/30\n",
            "313/313 [==============================] - 7s 23ms/step - loss: 0.1174 - accuracy: 0.9672 - val_loss: 1.0483 - val_accuracy: 0.8062\n",
            "Epoch 16/30\n",
            "313/313 [==============================] - 7s 23ms/step - loss: 0.0991 - accuracy: 0.9727 - val_loss: 1.0681 - val_accuracy: 0.8067\n",
            "Epoch 17/30\n",
            "313/313 [==============================] - 7s 23ms/step - loss: 0.0793 - accuracy: 0.9789 - val_loss: 1.0895 - val_accuracy: 0.8068\n",
            "Epoch 18/30\n",
            "313/313 [==============================] - 7s 23ms/step - loss: 0.0684 - accuracy: 0.9818 - val_loss: 1.0943 - val_accuracy: 0.8119\n",
            "Epoch 19/30\n",
            "313/313 [==============================] - 8s 24ms/step - loss: 0.0580 - accuracy: 0.9846 - val_loss: 1.1206 - val_accuracy: 0.8098\n",
            "Epoch 20/30\n",
            "313/313 [==============================] - 7s 24ms/step - loss: 0.0509 - accuracy: 0.9867 - val_loss: 1.1305 - val_accuracy: 0.8121\n",
            "Epoch 21/30\n",
            "313/313 [==============================] - 7s 23ms/step - loss: 0.0432 - accuracy: 0.9889 - val_loss: 1.1562 - val_accuracy: 0.8097\n",
            "Epoch 22/30\n",
            "313/313 [==============================] - 7s 23ms/step - loss: 0.0425 - accuracy: 0.9887 - val_loss: 1.1600 - val_accuracy: 0.8106\n",
            "Epoch 23/30\n",
            "313/313 [==============================] - 7s 23ms/step - loss: 0.0367 - accuracy: 0.9906 - val_loss: 1.1693 - val_accuracy: 0.8109\n",
            "Epoch 24/30\n",
            "313/313 [==============================] - 7s 23ms/step - loss: 0.0349 - accuracy: 0.9908 - val_loss: 1.2011 - val_accuracy: 0.8118\n",
            "Epoch 25/30\n",
            "313/313 [==============================] - 7s 23ms/step - loss: 0.0349 - accuracy: 0.9904 - val_loss: 1.2111 - val_accuracy: 0.8106\n",
            "Epoch 26/30\n",
            "313/313 [==============================] - 7s 22ms/step - loss: 0.0303 - accuracy: 0.9916 - val_loss: 1.2285 - val_accuracy: 0.8111\n",
            "Epoch 27/30\n",
            "313/313 [==============================] - 7s 22ms/step - loss: 0.0282 - accuracy: 0.9923 - val_loss: 1.2354 - val_accuracy: 0.8140\n",
            "Epoch 28/30\n",
            "313/313 [==============================] - 7s 23ms/step - loss: 0.0298 - accuracy: 0.9915 - val_loss: 1.2601 - val_accuracy: 0.8113\n",
            "Epoch 29/30\n",
            "313/313 [==============================] - 7s 22ms/step - loss: 0.0291 - accuracy: 0.9920 - val_loss: 1.2753 - val_accuracy: 0.8136\n",
            "Epoch 30/30\n",
            "313/313 [==============================] - 7s 23ms/step - loss: 0.0239 - accuracy: 0.9934 - val_loss: 1.2737 - val_accuracy: 0.8109\n"
          ],
          "name": "stdout"
        },
        {
          "output_type": "display_data",
          "data": {
            "text/html": [
              "<br/>Waiting for W&B process to finish, PID 8575<br/>Program ended successfully."
            ],
            "text/plain": [
              "<IPython.core.display.HTML object>"
            ]
          },
          "metadata": {
            "tags": []
          }
        },
        {
          "output_type": "display_data",
          "data": {
            "application/vnd.jupyter.widget-view+json": {
              "model_id": "c58f9d3602114cdabd16df603e0e633e",
              "version_minor": 0,
              "version_major": 2
            },
            "text/plain": [
              "VBox(children=(Label(value=' 10.51MB of 10.51MB uploaded (0.00MB deduped)\\r'), FloatProgress(value=1.0, max=1.…"
            ]
          },
          "metadata": {
            "tags": []
          }
        },
        {
          "output_type": "display_data",
          "data": {
            "text/html": [
              "Find user logs for this run at: <code>/root/.keras/datasets/dakshina_dataset_v1.0/hi/lexicons/wandb/run-20210428_211108-ldcq6fh8/logs/debug.log</code>"
            ],
            "text/plain": [
              "<IPython.core.display.HTML object>"
            ]
          },
          "metadata": {
            "tags": []
          }
        },
        {
          "output_type": "display_data",
          "data": {
            "text/html": [
              "Find internal logs for this run at: <code>/root/.keras/datasets/dakshina_dataset_v1.0/hi/lexicons/wandb/run-20210428_211108-ldcq6fh8/logs/debug-internal.log</code>"
            ],
            "text/plain": [
              "<IPython.core.display.HTML object>"
            ]
          },
          "metadata": {
            "tags": []
          }
        },
        {
          "output_type": "display_data",
          "data": {
            "text/html": [
              "<h3>Run summary:</h3><br/><style>\n",
              "    table.wandb td:nth-child(1) { padding: 0 10px; text-align: right }\n",
              "    </style><table class=\"wandb\">\n",
              "<tr><td>epoch</td><td>29</td></tr><tr><td>loss</td><td>0.02634</td></tr><tr><td>accuracy</td><td>0.99243</td></tr><tr><td>val_loss</td><td>1.27365</td></tr><tr><td>val_accuracy</td><td>0.8109</td></tr><tr><td>_runtime</td><td>232</td></tr><tr><td>_timestamp</td><td>1619644500</td></tr><tr><td>_step</td><td>29</td></tr><tr><td>best_val_loss</td><td>0.98282</td></tr><tr><td>best_epoch</td><td>10</td></tr></table>"
            ],
            "text/plain": [
              "<IPython.core.display.HTML object>"
            ]
          },
          "metadata": {
            "tags": []
          }
        },
        {
          "output_type": "display_data",
          "data": {
            "text/html": [
              "<h3>Run history:</h3><br/><style>\n",
              "    table.wandb td:nth-child(1) { padding: 0 10px; text-align: right }\n",
              "    </style><table class=\"wandb\">\n",
              "<tr><td>epoch</td><td>▁▁▁▂▂▂▂▃▃▃▃▄▄▄▄▅▅▅▅▆▆▆▆▇▇▇▇███</td></tr><tr><td>loss</td><td>█▇▆▆▅▅▄▄▃▃▃▂▂▂▂▁▁▁▁▁▁▁▁▁▁▁▁▁▁▁</td></tr><tr><td>accuracy</td><td>▁▂▂▃▃▄▄▅▅▆▆▇▇▇▇▇██████████████</td></tr><tr><td>val_loss</td><td>▅▅▅▅▄▄▃▂▁▁▁▂▂▂▃▃▄▄▄▅▅▅▅▆▆▇▇███</td></tr><tr><td>val_accuracy</td><td>▁▂▃▃▃▃▅▅▆▆▇▇▇▇▇▇▇█████████████</td></tr><tr><td>_runtime</td><td>▁▁▂▂▂▂▂▃▃▃▃▄▄▄▄▅▅▅▅▆▆▆▆▇▇▇▇███</td></tr><tr><td>_timestamp</td><td>▁▁▂▂▂▂▂▃▃▃▃▄▄▄▄▅▅▅▅▆▆▆▆▇▇▇▇███</td></tr><tr><td>_step</td><td>▁▁▁▂▂▂▂▃▃▃▃▄▄▄▄▅▅▅▅▆▆▆▆▇▇▇▇███</td></tr></table><br/>"
            ],
            "text/plain": [
              "<IPython.core.display.HTML object>"
            ]
          },
          "metadata": {
            "tags": []
          }
        },
        {
          "output_type": "display_data",
          "data": {
            "text/html": [
              "Synced 5 W&B file(s), 1 media file(s), 0 artifact file(s) and 1 other file(s)"
            ],
            "text/plain": [
              "<IPython.core.display.HTML object>"
            ]
          },
          "metadata": {
            "tags": []
          }
        },
        {
          "output_type": "display_data",
          "data": {
            "text/html": [
              "\n",
              "                    <br/>Synced <strong style=\"color:#cdcd00\">smart-sweep-37</strong>: <a href=\"https://wandb.ai/anshikag_2210/MachineTransliterator/runs/ldcq6fh8\" target=\"_blank\">https://wandb.ai/anshikag_2210/MachineTransliterator/runs/ldcq6fh8</a><br/>\n",
              "                "
            ],
            "text/plain": [
              "<IPython.core.display.HTML object>"
            ]
          },
          "metadata": {
            "tags": []
          }
        },
        {
          "output_type": "stream",
          "text": [
            "\u001b[34m\u001b[1mwandb\u001b[0m: Agent Starting Run: mp2bghbs with config:\n",
            "\u001b[34m\u001b[1mwandb\u001b[0m: \tbatch_size: 64\n",
            "\u001b[34m\u001b[1mwandb\u001b[0m: \tcell_type: gru\n",
            "\u001b[34m\u001b[1mwandb\u001b[0m: \tdecoder_embed_size: 64\n",
            "\u001b[34m\u001b[1mwandb\u001b[0m: \tdropout: 0\n",
            "\u001b[34m\u001b[1mwandb\u001b[0m: \tencoder_embed_size: 27\n",
            "\u001b[34m\u001b[1mwandb\u001b[0m: \tepochs: 60\n",
            "\u001b[34m\u001b[1mwandb\u001b[0m: \thidden_layer_size: 128\n",
            "\u001b[34m\u001b[1mwandb\u001b[0m: \tnum_decoder_layers: 4\n",
            "\u001b[34m\u001b[1mwandb\u001b[0m: \tnum_encoder_layers: 2\n",
            "\u001b[34m\u001b[1mwandb\u001b[0m: \tnum_hidden_layers: 5\n"
          ],
          "name": "stderr"
        },
        {
          "output_type": "display_data",
          "data": {
            "text/html": [
              "\n",
              "                Tracking run with wandb version 0.10.27<br/>\n",
              "                Syncing run <strong style=\"color:#cdcd00\">dauntless-sweep-38</strong> to <a href=\"https://wandb.ai\" target=\"_blank\">Weights & Biases</a> <a href=\"https://docs.wandb.com/integrations/jupyter.html\" target=\"_blank\">(Documentation)</a>.<br/>\n",
              "                Project page: <a href=\"https://wandb.ai/anshikag_2210/MachineTransliterator\" target=\"_blank\">https://wandb.ai/anshikag_2210/MachineTransliterator</a><br/>\n",
              "                Sweep page: <a href=\"https://wandb.ai/anshikag_2210/MachineTransliterator/sweeps/4qzxmg7y\" target=\"_blank\">https://wandb.ai/anshikag_2210/MachineTransliterator/sweeps/4qzxmg7y</a><br/>\n",
              "Run page: <a href=\"https://wandb.ai/anshikag_2210/MachineTransliterator/runs/mp2bghbs\" target=\"_blank\">https://wandb.ai/anshikag_2210/MachineTransliterator/runs/mp2bghbs</a><br/>\n",
              "                Run data is saved locally in <code>/root/.keras/datasets/dakshina_dataset_v1.0/hi/lexicons/wandb/run-20210428_211509-mp2bghbs</code><br/><br/>\n",
              "            "
            ],
            "text/plain": [
              "<IPython.core.display.HTML object>"
            ]
          },
          "metadata": {
            "tags": []
          }
        },
        {
          "output_type": "stream",
          "text": [
            "Epoch 1/60\n",
            "157/157 [==============================] - 13s 31ms/step - loss: 1.5081 - accuracy: 0.6755 - val_loss: 1.1977 - val_accuracy: 0.7292\n"
          ],
          "name": "stdout"
        },
        {
          "output_type": "stream",
          "text": [
            "\u001b[34m\u001b[1mwandb\u001b[0m: \u001b[32m\u001b[41mERROR\u001b[0m Can't save model, h5py returned error: Unable to create link (name already exists)\n"
          ],
          "name": "stderr"
        },
        {
          "output_type": "stream",
          "text": [
            "Epoch 2/60\n",
            "157/157 [==============================] - 3s 20ms/step - loss: 0.9414 - accuracy: 0.7358 - val_loss: 1.1288 - val_accuracy: 0.7444\n",
            "Epoch 3/60\n",
            "157/157 [==============================] - 3s 22ms/step - loss: 0.8548 - accuracy: 0.7584 - val_loss: 1.1166 - val_accuracy: 0.7522\n",
            "Epoch 4/60\n",
            " 91/157 [================>.............] - ETA: 1s - loss: 0.8021 - accuracy: 0.7730"
          ],
          "name": "stdout"
        }
      ]
    }
  ]
}