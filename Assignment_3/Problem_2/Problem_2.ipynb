{
  "nbformat": 4,
  "nbformat_minor": 0,
  "metadata": {
    "accelerator": "GPU",
    "colab": {
      "name": "FINAL_Problem_2.ipynb",
      "provenance": [],
      "collapsed_sections": []
    },
    "kernelspec": {
      "display_name": "Python 3",
      "name": "python3"
    },
    "language_info": {
      "name": "python"
    },
    "widgets": {
      "application/vnd.jupyter.widget-state+json": {
        "8f13359244cc4ae283c4f59510b5c3b8": {
          "model_module": "@jupyter-widgets/controls",
          "model_name": "VBoxModel",
          "state": {
            "_view_name": "VBoxView",
            "_dom_classes": [],
            "_model_name": "VBoxModel",
            "_view_module": "@jupyter-widgets/controls",
            "_model_module_version": "1.5.0",
            "_view_count": null,
            "_view_module_version": "1.5.0",
            "box_style": "",
            "layout": "IPY_MODEL_5254edad3f4f4031a217bbcee6ccd215",
            "_model_module": "@jupyter-widgets/controls",
            "children": [
              "IPY_MODEL_0ca31f51f0f54c88b91506f73a7ac695",
              "IPY_MODEL_2375775fc26c4209921793651a2bd5a6"
            ]
          }
        },
        "5254edad3f4f4031a217bbcee6ccd215": {
          "model_module": "@jupyter-widgets/base",
          "model_name": "LayoutModel",
          "state": {
            "_view_name": "LayoutView",
            "grid_template_rows": null,
            "right": null,
            "justify_content": null,
            "_view_module": "@jupyter-widgets/base",
            "overflow": null,
            "_model_module_version": "1.2.0",
            "_view_count": null,
            "flex_flow": null,
            "width": null,
            "min_width": null,
            "border": null,
            "align_items": null,
            "bottom": null,
            "_model_module": "@jupyter-widgets/base",
            "top": null,
            "grid_column": null,
            "overflow_y": null,
            "overflow_x": null,
            "grid_auto_flow": null,
            "grid_area": null,
            "grid_template_columns": null,
            "flex": null,
            "_model_name": "LayoutModel",
            "justify_items": null,
            "grid_row": null,
            "max_height": null,
            "align_content": null,
            "visibility": null,
            "align_self": null,
            "height": null,
            "min_height": null,
            "padding": null,
            "grid_auto_rows": null,
            "grid_gap": null,
            "max_width": null,
            "order": null,
            "_view_module_version": "1.2.0",
            "grid_template_areas": null,
            "object_position": null,
            "object_fit": null,
            "grid_auto_columns": null,
            "margin": null,
            "display": null,
            "left": null
          }
        },
        "0ca31f51f0f54c88b91506f73a7ac695": {
          "model_module": "@jupyter-widgets/controls",
          "model_name": "LabelModel",
          "state": {
            "_view_name": "LabelView",
            "style": "IPY_MODEL_11770e18d738424daf370c63094ac856",
            "_dom_classes": [],
            "description": "",
            "_model_name": "LabelModel",
            "placeholder": "​",
            "_view_module": "@jupyter-widgets/controls",
            "_model_module_version": "1.5.0",
            "value": " 51.60MB of 51.60MB uploaded (0.00MB deduped)\r",
            "_view_count": null,
            "_view_module_version": "1.5.0",
            "description_tooltip": null,
            "_model_module": "@jupyter-widgets/controls",
            "layout": "IPY_MODEL_a76485dd928448de907903286c801bf7"
          }
        },
        "2375775fc26c4209921793651a2bd5a6": {
          "model_module": "@jupyter-widgets/controls",
          "model_name": "FloatProgressModel",
          "state": {
            "_view_name": "ProgressView",
            "style": "IPY_MODEL_697c383de3d143c9a37d603445ebc686",
            "_dom_classes": [],
            "description": "",
            "_model_name": "FloatProgressModel",
            "bar_style": "",
            "max": 1,
            "_view_module": "@jupyter-widgets/controls",
            "_model_module_version": "1.5.0",
            "value": 1,
            "_view_count": null,
            "_view_module_version": "1.5.0",
            "orientation": "horizontal",
            "min": 0,
            "description_tooltip": null,
            "_model_module": "@jupyter-widgets/controls",
            "layout": "IPY_MODEL_5e67f63c07ef4ba5a55df89cd57c7076"
          }
        },
        "11770e18d738424daf370c63094ac856": {
          "model_module": "@jupyter-widgets/controls",
          "model_name": "DescriptionStyleModel",
          "state": {
            "_view_name": "StyleView",
            "_model_name": "DescriptionStyleModel",
            "description_width": "",
            "_view_module": "@jupyter-widgets/base",
            "_model_module_version": "1.5.0",
            "_view_count": null,
            "_view_module_version": "1.2.0",
            "_model_module": "@jupyter-widgets/controls"
          }
        },
        "a76485dd928448de907903286c801bf7": {
          "model_module": "@jupyter-widgets/base",
          "model_name": "LayoutModel",
          "state": {
            "_view_name": "LayoutView",
            "grid_template_rows": null,
            "right": null,
            "justify_content": null,
            "_view_module": "@jupyter-widgets/base",
            "overflow": null,
            "_model_module_version": "1.2.0",
            "_view_count": null,
            "flex_flow": null,
            "width": null,
            "min_width": null,
            "border": null,
            "align_items": null,
            "bottom": null,
            "_model_module": "@jupyter-widgets/base",
            "top": null,
            "grid_column": null,
            "overflow_y": null,
            "overflow_x": null,
            "grid_auto_flow": null,
            "grid_area": null,
            "grid_template_columns": null,
            "flex": null,
            "_model_name": "LayoutModel",
            "justify_items": null,
            "grid_row": null,
            "max_height": null,
            "align_content": null,
            "visibility": null,
            "align_self": null,
            "height": null,
            "min_height": null,
            "padding": null,
            "grid_auto_rows": null,
            "grid_gap": null,
            "max_width": null,
            "order": null,
            "_view_module_version": "1.2.0",
            "grid_template_areas": null,
            "object_position": null,
            "object_fit": null,
            "grid_auto_columns": null,
            "margin": null,
            "display": null,
            "left": null
          }
        },
        "697c383de3d143c9a37d603445ebc686": {
          "model_module": "@jupyter-widgets/controls",
          "model_name": "ProgressStyleModel",
          "state": {
            "_view_name": "StyleView",
            "_model_name": "ProgressStyleModel",
            "description_width": "",
            "_view_module": "@jupyter-widgets/base",
            "_model_module_version": "1.5.0",
            "_view_count": null,
            "_view_module_version": "1.2.0",
            "bar_color": null,
            "_model_module": "@jupyter-widgets/controls"
          }
        },
        "5e67f63c07ef4ba5a55df89cd57c7076": {
          "model_module": "@jupyter-widgets/base",
          "model_name": "LayoutModel",
          "state": {
            "_view_name": "LayoutView",
            "grid_template_rows": null,
            "right": null,
            "justify_content": null,
            "_view_module": "@jupyter-widgets/base",
            "overflow": null,
            "_model_module_version": "1.2.0",
            "_view_count": null,
            "flex_flow": null,
            "width": null,
            "min_width": null,
            "border": null,
            "align_items": null,
            "bottom": null,
            "_model_module": "@jupyter-widgets/base",
            "top": null,
            "grid_column": null,
            "overflow_y": null,
            "overflow_x": null,
            "grid_auto_flow": null,
            "grid_area": null,
            "grid_template_columns": null,
            "flex": null,
            "_model_name": "LayoutModel",
            "justify_items": null,
            "grid_row": null,
            "max_height": null,
            "align_content": null,
            "visibility": null,
            "align_self": null,
            "height": null,
            "min_height": null,
            "padding": null,
            "grid_auto_rows": null,
            "grid_gap": null,
            "max_width": null,
            "order": null,
            "_view_module_version": "1.2.0",
            "grid_template_areas": null,
            "object_position": null,
            "object_fit": null,
            "grid_auto_columns": null,
            "margin": null,
            "display": null,
            "left": null
          }
        },
        "68a505b482434f7e82151b872b6f3819": {
          "model_module": "@jupyter-widgets/controls",
          "model_name": "VBoxModel",
          "state": {
            "_view_name": "VBoxView",
            "_dom_classes": [],
            "_model_name": "VBoxModel",
            "_view_module": "@jupyter-widgets/controls",
            "_model_module_version": "1.5.0",
            "_view_count": null,
            "_view_module_version": "1.5.0",
            "box_style": "",
            "layout": "IPY_MODEL_34dbb42dbab940c496c000e1f27f9773",
            "_model_module": "@jupyter-widgets/controls",
            "children": [
              "IPY_MODEL_33a8590c9a1a4f1abfc72e657bb2c4a4",
              "IPY_MODEL_4f235a5344934d5abd1a8974996dadae"
            ]
          }
        },
        "34dbb42dbab940c496c000e1f27f9773": {
          "model_module": "@jupyter-widgets/base",
          "model_name": "LayoutModel",
          "state": {
            "_view_name": "LayoutView",
            "grid_template_rows": null,
            "right": null,
            "justify_content": null,
            "_view_module": "@jupyter-widgets/base",
            "overflow": null,
            "_model_module_version": "1.2.0",
            "_view_count": null,
            "flex_flow": null,
            "width": null,
            "min_width": null,
            "border": null,
            "align_items": null,
            "bottom": null,
            "_model_module": "@jupyter-widgets/base",
            "top": null,
            "grid_column": null,
            "overflow_y": null,
            "overflow_x": null,
            "grid_auto_flow": null,
            "grid_area": null,
            "grid_template_columns": null,
            "flex": null,
            "_model_name": "LayoutModel",
            "justify_items": null,
            "grid_row": null,
            "max_height": null,
            "align_content": null,
            "visibility": null,
            "align_self": null,
            "height": null,
            "min_height": null,
            "padding": null,
            "grid_auto_rows": null,
            "grid_gap": null,
            "max_width": null,
            "order": null,
            "_view_module_version": "1.2.0",
            "grid_template_areas": null,
            "object_position": null,
            "object_fit": null,
            "grid_auto_columns": null,
            "margin": null,
            "display": null,
            "left": null
          }
        },
        "33a8590c9a1a4f1abfc72e657bb2c4a4": {
          "model_module": "@jupyter-widgets/controls",
          "model_name": "LabelModel",
          "state": {
            "_view_name": "LabelView",
            "style": "IPY_MODEL_457a73018ee04b5e84440d04c7e81376",
            "_dom_classes": [],
            "description": "",
            "_model_name": "LabelModel",
            "placeholder": "​",
            "_view_module": "@jupyter-widgets/controls",
            "_model_module_version": "1.5.0",
            "value": " 8.56MB of 8.56MB uploaded (0.00MB deduped)\r",
            "_view_count": null,
            "_view_module_version": "1.5.0",
            "description_tooltip": null,
            "_model_module": "@jupyter-widgets/controls",
            "layout": "IPY_MODEL_52b80aa038fb4c9b9131c3b7be9b658c"
          }
        },
        "4f235a5344934d5abd1a8974996dadae": {
          "model_module": "@jupyter-widgets/controls",
          "model_name": "FloatProgressModel",
          "state": {
            "_view_name": "ProgressView",
            "style": "IPY_MODEL_1d75047d7bfc43b98dd1bfc341e62590",
            "_dom_classes": [],
            "description": "",
            "_model_name": "FloatProgressModel",
            "bar_style": "",
            "max": 1,
            "_view_module": "@jupyter-widgets/controls",
            "_model_module_version": "1.5.0",
            "value": 1,
            "_view_count": null,
            "_view_module_version": "1.5.0",
            "orientation": "horizontal",
            "min": 0,
            "description_tooltip": null,
            "_model_module": "@jupyter-widgets/controls",
            "layout": "IPY_MODEL_7d0697ce1f18450a83a6ce0e4ea22874"
          }
        },
        "457a73018ee04b5e84440d04c7e81376": {
          "model_module": "@jupyter-widgets/controls",
          "model_name": "DescriptionStyleModel",
          "state": {
            "_view_name": "StyleView",
            "_model_name": "DescriptionStyleModel",
            "description_width": "",
            "_view_module": "@jupyter-widgets/base",
            "_model_module_version": "1.5.0",
            "_view_count": null,
            "_view_module_version": "1.2.0",
            "_model_module": "@jupyter-widgets/controls"
          }
        },
        "52b80aa038fb4c9b9131c3b7be9b658c": {
          "model_module": "@jupyter-widgets/base",
          "model_name": "LayoutModel",
          "state": {
            "_view_name": "LayoutView",
            "grid_template_rows": null,
            "right": null,
            "justify_content": null,
            "_view_module": "@jupyter-widgets/base",
            "overflow": null,
            "_model_module_version": "1.2.0",
            "_view_count": null,
            "flex_flow": null,
            "width": null,
            "min_width": null,
            "border": null,
            "align_items": null,
            "bottom": null,
            "_model_module": "@jupyter-widgets/base",
            "top": null,
            "grid_column": null,
            "overflow_y": null,
            "overflow_x": null,
            "grid_auto_flow": null,
            "grid_area": null,
            "grid_template_columns": null,
            "flex": null,
            "_model_name": "LayoutModel",
            "justify_items": null,
            "grid_row": null,
            "max_height": null,
            "align_content": null,
            "visibility": null,
            "align_self": null,
            "height": null,
            "min_height": null,
            "padding": null,
            "grid_auto_rows": null,
            "grid_gap": null,
            "max_width": null,
            "order": null,
            "_view_module_version": "1.2.0",
            "grid_template_areas": null,
            "object_position": null,
            "object_fit": null,
            "grid_auto_columns": null,
            "margin": null,
            "display": null,
            "left": null
          }
        },
        "1d75047d7bfc43b98dd1bfc341e62590": {
          "model_module": "@jupyter-widgets/controls",
          "model_name": "ProgressStyleModel",
          "state": {
            "_view_name": "StyleView",
            "_model_name": "ProgressStyleModel",
            "description_width": "",
            "_view_module": "@jupyter-widgets/base",
            "_model_module_version": "1.5.0",
            "_view_count": null,
            "_view_module_version": "1.2.0",
            "bar_color": null,
            "_model_module": "@jupyter-widgets/controls"
          }
        },
        "7d0697ce1f18450a83a6ce0e4ea22874": {
          "model_module": "@jupyter-widgets/base",
          "model_name": "LayoutModel",
          "state": {
            "_view_name": "LayoutView",
            "grid_template_rows": null,
            "right": null,
            "justify_content": null,
            "_view_module": "@jupyter-widgets/base",
            "overflow": null,
            "_model_module_version": "1.2.0",
            "_view_count": null,
            "flex_flow": null,
            "width": null,
            "min_width": null,
            "border": null,
            "align_items": null,
            "bottom": null,
            "_model_module": "@jupyter-widgets/base",
            "top": null,
            "grid_column": null,
            "overflow_y": null,
            "overflow_x": null,
            "grid_auto_flow": null,
            "grid_area": null,
            "grid_template_columns": null,
            "flex": null,
            "_model_name": "LayoutModel",
            "justify_items": null,
            "grid_row": null,
            "max_height": null,
            "align_content": null,
            "visibility": null,
            "align_self": null,
            "height": null,
            "min_height": null,
            "padding": null,
            "grid_auto_rows": null,
            "grid_gap": null,
            "max_width": null,
            "order": null,
            "_view_module_version": "1.2.0",
            "grid_template_areas": null,
            "object_position": null,
            "object_fit": null,
            "grid_auto_columns": null,
            "margin": null,
            "display": null,
            "left": null
          }
        },
        "e429affd111c47718cff5b0a93176c92": {
          "model_module": "@jupyter-widgets/controls",
          "model_name": "VBoxModel",
          "state": {
            "_view_name": "VBoxView",
            "_dom_classes": [],
            "_model_name": "VBoxModel",
            "_view_module": "@jupyter-widgets/controls",
            "_model_module_version": "1.5.0",
            "_view_count": null,
            "_view_module_version": "1.5.0",
            "box_style": "",
            "layout": "IPY_MODEL_dc4ce0b847cb44188148ac13fd30da02",
            "_model_module": "@jupyter-widgets/controls",
            "children": [
              "IPY_MODEL_0fd61e42eb914504bec7b584e932521c",
              "IPY_MODEL_7895d01df9f44bdbb3b5df7b2a7d34fc"
            ]
          }
        },
        "dc4ce0b847cb44188148ac13fd30da02": {
          "model_module": "@jupyter-widgets/base",
          "model_name": "LayoutModel",
          "state": {
            "_view_name": "LayoutView",
            "grid_template_rows": null,
            "right": null,
            "justify_content": null,
            "_view_module": "@jupyter-widgets/base",
            "overflow": null,
            "_model_module_version": "1.2.0",
            "_view_count": null,
            "flex_flow": null,
            "width": null,
            "min_width": null,
            "border": null,
            "align_items": null,
            "bottom": null,
            "_model_module": "@jupyter-widgets/base",
            "top": null,
            "grid_column": null,
            "overflow_y": null,
            "overflow_x": null,
            "grid_auto_flow": null,
            "grid_area": null,
            "grid_template_columns": null,
            "flex": null,
            "_model_name": "LayoutModel",
            "justify_items": null,
            "grid_row": null,
            "max_height": null,
            "align_content": null,
            "visibility": null,
            "align_self": null,
            "height": null,
            "min_height": null,
            "padding": null,
            "grid_auto_rows": null,
            "grid_gap": null,
            "max_width": null,
            "order": null,
            "_view_module_version": "1.2.0",
            "grid_template_areas": null,
            "object_position": null,
            "object_fit": null,
            "grid_auto_columns": null,
            "margin": null,
            "display": null,
            "left": null
          }
        },
        "0fd61e42eb914504bec7b584e932521c": {
          "model_module": "@jupyter-widgets/controls",
          "model_name": "LabelModel",
          "state": {
            "_view_name": "LabelView",
            "style": "IPY_MODEL_5494ee811d0c48c8afc36eed17591e40",
            "_dom_classes": [],
            "description": "",
            "_model_name": "LabelModel",
            "placeholder": "​",
            "_view_module": "@jupyter-widgets/controls",
            "_model_module_version": "1.5.0",
            "value": "",
            "_view_count": null,
            "_view_module_version": "1.5.0",
            "description_tooltip": null,
            "_model_module": "@jupyter-widgets/controls",
            "layout": "IPY_MODEL_ed0db712436d45c8a9a29e90ce2dced2"
          }
        },
        "7895d01df9f44bdbb3b5df7b2a7d34fc": {
          "model_module": "@jupyter-widgets/controls",
          "model_name": "FloatProgressModel",
          "state": {
            "_view_name": "ProgressView",
            "style": "IPY_MODEL_6d9d47c709974b278247792cb9c88b0b",
            "_dom_classes": [],
            "description": "",
            "_model_name": "FloatProgressModel",
            "bar_style": "",
            "max": 1,
            "_view_module": "@jupyter-widgets/controls",
            "_model_module_version": "1.5.0",
            "value": 0,
            "_view_count": null,
            "_view_module_version": "1.5.0",
            "orientation": "horizontal",
            "min": 0,
            "description_tooltip": null,
            "_model_module": "@jupyter-widgets/controls",
            "layout": "IPY_MODEL_7ab0a8b86b544b59b070bfa0ecd3b3a9"
          }
        },
        "5494ee811d0c48c8afc36eed17591e40": {
          "model_module": "@jupyter-widgets/controls",
          "model_name": "DescriptionStyleModel",
          "state": {
            "_view_name": "StyleView",
            "_model_name": "DescriptionStyleModel",
            "description_width": "",
            "_view_module": "@jupyter-widgets/base",
            "_model_module_version": "1.5.0",
            "_view_count": null,
            "_view_module_version": "1.2.0",
            "_model_module": "@jupyter-widgets/controls"
          }
        },
        "ed0db712436d45c8a9a29e90ce2dced2": {
          "model_module": "@jupyter-widgets/base",
          "model_name": "LayoutModel",
          "state": {
            "_view_name": "LayoutView",
            "grid_template_rows": null,
            "right": null,
            "justify_content": null,
            "_view_module": "@jupyter-widgets/base",
            "overflow": null,
            "_model_module_version": "1.2.0",
            "_view_count": null,
            "flex_flow": null,
            "width": null,
            "min_width": null,
            "border": null,
            "align_items": null,
            "bottom": null,
            "_model_module": "@jupyter-widgets/base",
            "top": null,
            "grid_column": null,
            "overflow_y": null,
            "overflow_x": null,
            "grid_auto_flow": null,
            "grid_area": null,
            "grid_template_columns": null,
            "flex": null,
            "_model_name": "LayoutModel",
            "justify_items": null,
            "grid_row": null,
            "max_height": null,
            "align_content": null,
            "visibility": null,
            "align_self": null,
            "height": null,
            "min_height": null,
            "padding": null,
            "grid_auto_rows": null,
            "grid_gap": null,
            "max_width": null,
            "order": null,
            "_view_module_version": "1.2.0",
            "grid_template_areas": null,
            "object_position": null,
            "object_fit": null,
            "grid_auto_columns": null,
            "margin": null,
            "display": null,
            "left": null
          }
        },
        "6d9d47c709974b278247792cb9c88b0b": {
          "model_module": "@jupyter-widgets/controls",
          "model_name": "ProgressStyleModel",
          "state": {
            "_view_name": "StyleView",
            "_model_name": "ProgressStyleModel",
            "description_width": "",
            "_view_module": "@jupyter-widgets/base",
            "_model_module_version": "1.5.0",
            "_view_count": null,
            "_view_module_version": "1.2.0",
            "bar_color": null,
            "_model_module": "@jupyter-widgets/controls"
          }
        },
        "7ab0a8b86b544b59b070bfa0ecd3b3a9": {
          "model_module": "@jupyter-widgets/base",
          "model_name": "LayoutModel",
          "state": {
            "_view_name": "LayoutView",
            "grid_template_rows": null,
            "right": null,
            "justify_content": null,
            "_view_module": "@jupyter-widgets/base",
            "overflow": null,
            "_model_module_version": "1.2.0",
            "_view_count": null,
            "flex_flow": null,
            "width": null,
            "min_width": null,
            "border": null,
            "align_items": null,
            "bottom": null,
            "_model_module": "@jupyter-widgets/base",
            "top": null,
            "grid_column": null,
            "overflow_y": null,
            "overflow_x": null,
            "grid_auto_flow": null,
            "grid_area": null,
            "grid_template_columns": null,
            "flex": null,
            "_model_name": "LayoutModel",
            "justify_items": null,
            "grid_row": null,
            "max_height": null,
            "align_content": null,
            "visibility": null,
            "align_self": null,
            "height": null,
            "min_height": null,
            "padding": null,
            "grid_auto_rows": null,
            "grid_gap": null,
            "max_width": null,
            "order": null,
            "_view_module_version": "1.2.0",
            "grid_template_areas": null,
            "object_position": null,
            "object_fit": null,
            "grid_auto_columns": null,
            "margin": null,
            "display": null,
            "left": null
          }
        },
        "ae792d8ad1e14440a258fe075e559ac8": {
          "model_module": "@jupyter-widgets/controls",
          "model_name": "VBoxModel",
          "state": {
            "_view_name": "VBoxView",
            "_dom_classes": [],
            "_model_name": "VBoxModel",
            "_view_module": "@jupyter-widgets/controls",
            "_model_module_version": "1.5.0",
            "_view_count": null,
            "_view_module_version": "1.5.0",
            "box_style": "",
            "layout": "IPY_MODEL_fd06ba20093343eba40fc60b18cb1844",
            "_model_module": "@jupyter-widgets/controls",
            "children": [
              "IPY_MODEL_e09f034f7e2f4a0ca074ef6140ed860c",
              "IPY_MODEL_2ca6690952b74c0496c5d87fa6b86eaa"
            ]
          }
        },
        "fd06ba20093343eba40fc60b18cb1844": {
          "model_module": "@jupyter-widgets/base",
          "model_name": "LayoutModel",
          "state": {
            "_view_name": "LayoutView",
            "grid_template_rows": null,
            "right": null,
            "justify_content": null,
            "_view_module": "@jupyter-widgets/base",
            "overflow": null,
            "_model_module_version": "1.2.0",
            "_view_count": null,
            "flex_flow": null,
            "width": null,
            "min_width": null,
            "border": null,
            "align_items": null,
            "bottom": null,
            "_model_module": "@jupyter-widgets/base",
            "top": null,
            "grid_column": null,
            "overflow_y": null,
            "overflow_x": null,
            "grid_auto_flow": null,
            "grid_area": null,
            "grid_template_columns": null,
            "flex": null,
            "_model_name": "LayoutModel",
            "justify_items": null,
            "grid_row": null,
            "max_height": null,
            "align_content": null,
            "visibility": null,
            "align_self": null,
            "height": null,
            "min_height": null,
            "padding": null,
            "grid_auto_rows": null,
            "grid_gap": null,
            "max_width": null,
            "order": null,
            "_view_module_version": "1.2.0",
            "grid_template_areas": null,
            "object_position": null,
            "object_fit": null,
            "grid_auto_columns": null,
            "margin": null,
            "display": null,
            "left": null
          }
        },
        "e09f034f7e2f4a0ca074ef6140ed860c": {
          "model_module": "@jupyter-widgets/controls",
          "model_name": "LabelModel",
          "state": {
            "_view_name": "LabelView",
            "style": "IPY_MODEL_865f5ff456db4529820367b11a893517",
            "_dom_classes": [],
            "description": "",
            "_model_name": "LabelModel",
            "placeholder": "​",
            "_view_module": "@jupyter-widgets/controls",
            "_model_module_version": "1.5.0",
            "value": " 25.33MB of 25.33MB uploaded (0.00MB deduped)\r",
            "_view_count": null,
            "_view_module_version": "1.5.0",
            "description_tooltip": null,
            "_model_module": "@jupyter-widgets/controls",
            "layout": "IPY_MODEL_75f0da5fe0194a2aa4da96495b7e72ad"
          }
        },
        "2ca6690952b74c0496c5d87fa6b86eaa": {
          "model_module": "@jupyter-widgets/controls",
          "model_name": "FloatProgressModel",
          "state": {
            "_view_name": "ProgressView",
            "style": "IPY_MODEL_133a275f8736426b95abe61211c1d3d7",
            "_dom_classes": [],
            "description": "",
            "_model_name": "FloatProgressModel",
            "bar_style": "",
            "max": 1,
            "_view_module": "@jupyter-widgets/controls",
            "_model_module_version": "1.5.0",
            "value": 1,
            "_view_count": null,
            "_view_module_version": "1.5.0",
            "orientation": "horizontal",
            "min": 0,
            "description_tooltip": null,
            "_model_module": "@jupyter-widgets/controls",
            "layout": "IPY_MODEL_ae0f84e343f04c958aaac390c3ae3cc7"
          }
        },
        "865f5ff456db4529820367b11a893517": {
          "model_module": "@jupyter-widgets/controls",
          "model_name": "DescriptionStyleModel",
          "state": {
            "_view_name": "StyleView",
            "_model_name": "DescriptionStyleModel",
            "description_width": "",
            "_view_module": "@jupyter-widgets/base",
            "_model_module_version": "1.5.0",
            "_view_count": null,
            "_view_module_version": "1.2.0",
            "_model_module": "@jupyter-widgets/controls"
          }
        },
        "75f0da5fe0194a2aa4da96495b7e72ad": {
          "model_module": "@jupyter-widgets/base",
          "model_name": "LayoutModel",
          "state": {
            "_view_name": "LayoutView",
            "grid_template_rows": null,
            "right": null,
            "justify_content": null,
            "_view_module": "@jupyter-widgets/base",
            "overflow": null,
            "_model_module_version": "1.2.0",
            "_view_count": null,
            "flex_flow": null,
            "width": null,
            "min_width": null,
            "border": null,
            "align_items": null,
            "bottom": null,
            "_model_module": "@jupyter-widgets/base",
            "top": null,
            "grid_column": null,
            "overflow_y": null,
            "overflow_x": null,
            "grid_auto_flow": null,
            "grid_area": null,
            "grid_template_columns": null,
            "flex": null,
            "_model_name": "LayoutModel",
            "justify_items": null,
            "grid_row": null,
            "max_height": null,
            "align_content": null,
            "visibility": null,
            "align_self": null,
            "height": null,
            "min_height": null,
            "padding": null,
            "grid_auto_rows": null,
            "grid_gap": null,
            "max_width": null,
            "order": null,
            "_view_module_version": "1.2.0",
            "grid_template_areas": null,
            "object_position": null,
            "object_fit": null,
            "grid_auto_columns": null,
            "margin": null,
            "display": null,
            "left": null
          }
        },
        "133a275f8736426b95abe61211c1d3d7": {
          "model_module": "@jupyter-widgets/controls",
          "model_name": "ProgressStyleModel",
          "state": {
            "_view_name": "StyleView",
            "_model_name": "ProgressStyleModel",
            "description_width": "",
            "_view_module": "@jupyter-widgets/base",
            "_model_module_version": "1.5.0",
            "_view_count": null,
            "_view_module_version": "1.2.0",
            "bar_color": null,
            "_model_module": "@jupyter-widgets/controls"
          }
        },
        "ae0f84e343f04c958aaac390c3ae3cc7": {
          "model_module": "@jupyter-widgets/base",
          "model_name": "LayoutModel",
          "state": {
            "_view_name": "LayoutView",
            "grid_template_rows": null,
            "right": null,
            "justify_content": null,
            "_view_module": "@jupyter-widgets/base",
            "overflow": null,
            "_model_module_version": "1.2.0",
            "_view_count": null,
            "flex_flow": null,
            "width": null,
            "min_width": null,
            "border": null,
            "align_items": null,
            "bottom": null,
            "_model_module": "@jupyter-widgets/base",
            "top": null,
            "grid_column": null,
            "overflow_y": null,
            "overflow_x": null,
            "grid_auto_flow": null,
            "grid_area": null,
            "grid_template_columns": null,
            "flex": null,
            "_model_name": "LayoutModel",
            "justify_items": null,
            "grid_row": null,
            "max_height": null,
            "align_content": null,
            "visibility": null,
            "align_self": null,
            "height": null,
            "min_height": null,
            "padding": null,
            "grid_auto_rows": null,
            "grid_gap": null,
            "max_width": null,
            "order": null,
            "_view_module_version": "1.2.0",
            "grid_template_areas": null,
            "object_position": null,
            "object_fit": null,
            "grid_auto_columns": null,
            "margin": null,
            "display": null,
            "left": null
          }
        },
        "a64526c6b1ea49da9343405253d8d3f7": {
          "model_module": "@jupyter-widgets/controls",
          "model_name": "VBoxModel",
          "state": {
            "_view_name": "VBoxView",
            "_dom_classes": [],
            "_model_name": "VBoxModel",
            "_view_module": "@jupyter-widgets/controls",
            "_model_module_version": "1.5.0",
            "_view_count": null,
            "_view_module_version": "1.5.0",
            "box_style": "",
            "layout": "IPY_MODEL_a14be409da864f34a3090301e7129098",
            "_model_module": "@jupyter-widgets/controls",
            "children": [
              "IPY_MODEL_813b10fa7908483eac1f336ed11f3f27",
              "IPY_MODEL_3f6ed4046ec74a259280ffa29a3237b0"
            ]
          }
        },
        "a14be409da864f34a3090301e7129098": {
          "model_module": "@jupyter-widgets/base",
          "model_name": "LayoutModel",
          "state": {
            "_view_name": "LayoutView",
            "grid_template_rows": null,
            "right": null,
            "justify_content": null,
            "_view_module": "@jupyter-widgets/base",
            "overflow": null,
            "_model_module_version": "1.2.0",
            "_view_count": null,
            "flex_flow": null,
            "width": null,
            "min_width": null,
            "border": null,
            "align_items": null,
            "bottom": null,
            "_model_module": "@jupyter-widgets/base",
            "top": null,
            "grid_column": null,
            "overflow_y": null,
            "overflow_x": null,
            "grid_auto_flow": null,
            "grid_area": null,
            "grid_template_columns": null,
            "flex": null,
            "_model_name": "LayoutModel",
            "justify_items": null,
            "grid_row": null,
            "max_height": null,
            "align_content": null,
            "visibility": null,
            "align_self": null,
            "height": null,
            "min_height": null,
            "padding": null,
            "grid_auto_rows": null,
            "grid_gap": null,
            "max_width": null,
            "order": null,
            "_view_module_version": "1.2.0",
            "grid_template_areas": null,
            "object_position": null,
            "object_fit": null,
            "grid_auto_columns": null,
            "margin": null,
            "display": null,
            "left": null
          }
        },
        "813b10fa7908483eac1f336ed11f3f27": {
          "model_module": "@jupyter-widgets/controls",
          "model_name": "LabelModel",
          "state": {
            "_view_name": "LabelView",
            "style": "IPY_MODEL_2357f4cbe89d4dc88d529d83a95cc76b",
            "_dom_classes": [],
            "description": "",
            "_model_name": "LabelModel",
            "placeholder": "​",
            "_view_module": "@jupyter-widgets/controls",
            "_model_module_version": "1.5.0",
            "value": " 7.39MB of 7.39MB uploaded (0.00MB deduped)\r",
            "_view_count": null,
            "_view_module_version": "1.5.0",
            "description_tooltip": null,
            "_model_module": "@jupyter-widgets/controls",
            "layout": "IPY_MODEL_7bb1965e327c4e058cf6b2a1efd966dd"
          }
        },
        "3f6ed4046ec74a259280ffa29a3237b0": {
          "model_module": "@jupyter-widgets/controls",
          "model_name": "FloatProgressModel",
          "state": {
            "_view_name": "ProgressView",
            "style": "IPY_MODEL_d426644c434f46d9b1bb857dc81bbca4",
            "_dom_classes": [],
            "description": "",
            "_model_name": "FloatProgressModel",
            "bar_style": "",
            "max": 1,
            "_view_module": "@jupyter-widgets/controls",
            "_model_module_version": "1.5.0",
            "value": 1,
            "_view_count": null,
            "_view_module_version": "1.5.0",
            "orientation": "horizontal",
            "min": 0,
            "description_tooltip": null,
            "_model_module": "@jupyter-widgets/controls",
            "layout": "IPY_MODEL_75c148b1ebb14ac696516e44ae82e98d"
          }
        },
        "2357f4cbe89d4dc88d529d83a95cc76b": {
          "model_module": "@jupyter-widgets/controls",
          "model_name": "DescriptionStyleModel",
          "state": {
            "_view_name": "StyleView",
            "_model_name": "DescriptionStyleModel",
            "description_width": "",
            "_view_module": "@jupyter-widgets/base",
            "_model_module_version": "1.5.0",
            "_view_count": null,
            "_view_module_version": "1.2.0",
            "_model_module": "@jupyter-widgets/controls"
          }
        },
        "7bb1965e327c4e058cf6b2a1efd966dd": {
          "model_module": "@jupyter-widgets/base",
          "model_name": "LayoutModel",
          "state": {
            "_view_name": "LayoutView",
            "grid_template_rows": null,
            "right": null,
            "justify_content": null,
            "_view_module": "@jupyter-widgets/base",
            "overflow": null,
            "_model_module_version": "1.2.0",
            "_view_count": null,
            "flex_flow": null,
            "width": null,
            "min_width": null,
            "border": null,
            "align_items": null,
            "bottom": null,
            "_model_module": "@jupyter-widgets/base",
            "top": null,
            "grid_column": null,
            "overflow_y": null,
            "overflow_x": null,
            "grid_auto_flow": null,
            "grid_area": null,
            "grid_template_columns": null,
            "flex": null,
            "_model_name": "LayoutModel",
            "justify_items": null,
            "grid_row": null,
            "max_height": null,
            "align_content": null,
            "visibility": null,
            "align_self": null,
            "height": null,
            "min_height": null,
            "padding": null,
            "grid_auto_rows": null,
            "grid_gap": null,
            "max_width": null,
            "order": null,
            "_view_module_version": "1.2.0",
            "grid_template_areas": null,
            "object_position": null,
            "object_fit": null,
            "grid_auto_columns": null,
            "margin": null,
            "display": null,
            "left": null
          }
        },
        "d426644c434f46d9b1bb857dc81bbca4": {
          "model_module": "@jupyter-widgets/controls",
          "model_name": "ProgressStyleModel",
          "state": {
            "_view_name": "StyleView",
            "_model_name": "ProgressStyleModel",
            "description_width": "",
            "_view_module": "@jupyter-widgets/base",
            "_model_module_version": "1.5.0",
            "_view_count": null,
            "_view_module_version": "1.2.0",
            "bar_color": null,
            "_model_module": "@jupyter-widgets/controls"
          }
        },
        "75c148b1ebb14ac696516e44ae82e98d": {
          "model_module": "@jupyter-widgets/base",
          "model_name": "LayoutModel",
          "state": {
            "_view_name": "LayoutView",
            "grid_template_rows": null,
            "right": null,
            "justify_content": null,
            "_view_module": "@jupyter-widgets/base",
            "overflow": null,
            "_model_module_version": "1.2.0",
            "_view_count": null,
            "flex_flow": null,
            "width": null,
            "min_width": null,
            "border": null,
            "align_items": null,
            "bottom": null,
            "_model_module": "@jupyter-widgets/base",
            "top": null,
            "grid_column": null,
            "overflow_y": null,
            "overflow_x": null,
            "grid_auto_flow": null,
            "grid_area": null,
            "grid_template_columns": null,
            "flex": null,
            "_model_name": "LayoutModel",
            "justify_items": null,
            "grid_row": null,
            "max_height": null,
            "align_content": null,
            "visibility": null,
            "align_self": null,
            "height": null,
            "min_height": null,
            "padding": null,
            "grid_auto_rows": null,
            "grid_gap": null,
            "max_width": null,
            "order": null,
            "_view_module_version": "1.2.0",
            "grid_template_areas": null,
            "object_position": null,
            "object_fit": null,
            "grid_auto_columns": null,
            "margin": null,
            "display": null,
            "left": null
          }
        },
        "d2ab7c67cc6d4d2ab6b5e8bd42a9db1c": {
          "model_module": "@jupyter-widgets/controls",
          "model_name": "VBoxModel",
          "state": {
            "_view_name": "VBoxView",
            "_dom_classes": [],
            "_model_name": "VBoxModel",
            "_view_module": "@jupyter-widgets/controls",
            "_model_module_version": "1.5.0",
            "_view_count": null,
            "_view_module_version": "1.5.0",
            "box_style": "",
            "layout": "IPY_MODEL_5521282d9cea4634aeab561845d1d298",
            "_model_module": "@jupyter-widgets/controls",
            "children": [
              "IPY_MODEL_8739828667ae4f15ad940137874385aa",
              "IPY_MODEL_66a03b1d308946859ca792a6b12d2e65"
            ]
          }
        },
        "5521282d9cea4634aeab561845d1d298": {
          "model_module": "@jupyter-widgets/base",
          "model_name": "LayoutModel",
          "state": {
            "_view_name": "LayoutView",
            "grid_template_rows": null,
            "right": null,
            "justify_content": null,
            "_view_module": "@jupyter-widgets/base",
            "overflow": null,
            "_model_module_version": "1.2.0",
            "_view_count": null,
            "flex_flow": null,
            "width": null,
            "min_width": null,
            "border": null,
            "align_items": null,
            "bottom": null,
            "_model_module": "@jupyter-widgets/base",
            "top": null,
            "grid_column": null,
            "overflow_y": null,
            "overflow_x": null,
            "grid_auto_flow": null,
            "grid_area": null,
            "grid_template_columns": null,
            "flex": null,
            "_model_name": "LayoutModel",
            "justify_items": null,
            "grid_row": null,
            "max_height": null,
            "align_content": null,
            "visibility": null,
            "align_self": null,
            "height": null,
            "min_height": null,
            "padding": null,
            "grid_auto_rows": null,
            "grid_gap": null,
            "max_width": null,
            "order": null,
            "_view_module_version": "1.2.0",
            "grid_template_areas": null,
            "object_position": null,
            "object_fit": null,
            "grid_auto_columns": null,
            "margin": null,
            "display": null,
            "left": null
          }
        },
        "8739828667ae4f15ad940137874385aa": {
          "model_module": "@jupyter-widgets/controls",
          "model_name": "LabelModel",
          "state": {
            "_view_name": "LabelView",
            "style": "IPY_MODEL_936d5b19fe79486ab280b855db0d236c",
            "_dom_classes": [],
            "description": "",
            "_model_name": "LabelModel",
            "placeholder": "​",
            "_view_module": "@jupyter-widgets/controls",
            "_model_module_version": "1.5.0",
            "value": " 1.04MB of 1.04MB uploaded (0.00MB deduped)\r",
            "_view_count": null,
            "_view_module_version": "1.5.0",
            "description_tooltip": null,
            "_model_module": "@jupyter-widgets/controls",
            "layout": "IPY_MODEL_d49bee61dd2e493cb958197043130487"
          }
        },
        "66a03b1d308946859ca792a6b12d2e65": {
          "model_module": "@jupyter-widgets/controls",
          "model_name": "FloatProgressModel",
          "state": {
            "_view_name": "ProgressView",
            "style": "IPY_MODEL_7d1fdf41c2aa480daced10164b73a035",
            "_dom_classes": [],
            "description": "",
            "_model_name": "FloatProgressModel",
            "bar_style": "",
            "max": 1,
            "_view_module": "@jupyter-widgets/controls",
            "_model_module_version": "1.5.0",
            "value": 1,
            "_view_count": null,
            "_view_module_version": "1.5.0",
            "orientation": "horizontal",
            "min": 0,
            "description_tooltip": null,
            "_model_module": "@jupyter-widgets/controls",
            "layout": "IPY_MODEL_88647bf3435242ef9255a289d2646010"
          }
        },
        "936d5b19fe79486ab280b855db0d236c": {
          "model_module": "@jupyter-widgets/controls",
          "model_name": "DescriptionStyleModel",
          "state": {
            "_view_name": "StyleView",
            "_model_name": "DescriptionStyleModel",
            "description_width": "",
            "_view_module": "@jupyter-widgets/base",
            "_model_module_version": "1.5.0",
            "_view_count": null,
            "_view_module_version": "1.2.0",
            "_model_module": "@jupyter-widgets/controls"
          }
        },
        "d49bee61dd2e493cb958197043130487": {
          "model_module": "@jupyter-widgets/base",
          "model_name": "LayoutModel",
          "state": {
            "_view_name": "LayoutView",
            "grid_template_rows": null,
            "right": null,
            "justify_content": null,
            "_view_module": "@jupyter-widgets/base",
            "overflow": null,
            "_model_module_version": "1.2.0",
            "_view_count": null,
            "flex_flow": null,
            "width": null,
            "min_width": null,
            "border": null,
            "align_items": null,
            "bottom": null,
            "_model_module": "@jupyter-widgets/base",
            "top": null,
            "grid_column": null,
            "overflow_y": null,
            "overflow_x": null,
            "grid_auto_flow": null,
            "grid_area": null,
            "grid_template_columns": null,
            "flex": null,
            "_model_name": "LayoutModel",
            "justify_items": null,
            "grid_row": null,
            "max_height": null,
            "align_content": null,
            "visibility": null,
            "align_self": null,
            "height": null,
            "min_height": null,
            "padding": null,
            "grid_auto_rows": null,
            "grid_gap": null,
            "max_width": null,
            "order": null,
            "_view_module_version": "1.2.0",
            "grid_template_areas": null,
            "object_position": null,
            "object_fit": null,
            "grid_auto_columns": null,
            "margin": null,
            "display": null,
            "left": null
          }
        },
        "7d1fdf41c2aa480daced10164b73a035": {
          "model_module": "@jupyter-widgets/controls",
          "model_name": "ProgressStyleModel",
          "state": {
            "_view_name": "StyleView",
            "_model_name": "ProgressStyleModel",
            "description_width": "",
            "_view_module": "@jupyter-widgets/base",
            "_model_module_version": "1.5.0",
            "_view_count": null,
            "_view_module_version": "1.2.0",
            "bar_color": null,
            "_model_module": "@jupyter-widgets/controls"
          }
        },
        "88647bf3435242ef9255a289d2646010": {
          "model_module": "@jupyter-widgets/base",
          "model_name": "LayoutModel",
          "state": {
            "_view_name": "LayoutView",
            "grid_template_rows": null,
            "right": null,
            "justify_content": null,
            "_view_module": "@jupyter-widgets/base",
            "overflow": null,
            "_model_module_version": "1.2.0",
            "_view_count": null,
            "flex_flow": null,
            "width": null,
            "min_width": null,
            "border": null,
            "align_items": null,
            "bottom": null,
            "_model_module": "@jupyter-widgets/base",
            "top": null,
            "grid_column": null,
            "overflow_y": null,
            "overflow_x": null,
            "grid_auto_flow": null,
            "grid_area": null,
            "grid_template_columns": null,
            "flex": null,
            "_model_name": "LayoutModel",
            "justify_items": null,
            "grid_row": null,
            "max_height": null,
            "align_content": null,
            "visibility": null,
            "align_self": null,
            "height": null,
            "min_height": null,
            "padding": null,
            "grid_auto_rows": null,
            "grid_gap": null,
            "max_width": null,
            "order": null,
            "_view_module_version": "1.2.0",
            "grid_template_areas": null,
            "object_position": null,
            "object_fit": null,
            "grid_auto_columns": null,
            "margin": null,
            "display": null,
            "left": null
          }
        },
        "082b5f2e848040eda56c69089ade1f21": {
          "model_module": "@jupyter-widgets/controls",
          "model_name": "VBoxModel",
          "state": {
            "_view_name": "VBoxView",
            "_dom_classes": [],
            "_model_name": "VBoxModel",
            "_view_module": "@jupyter-widgets/controls",
            "_model_module_version": "1.5.0",
            "_view_count": null,
            "_view_module_version": "1.5.0",
            "box_style": "",
            "layout": "IPY_MODEL_ba6654f6462a4d0dae9901858917c804",
            "_model_module": "@jupyter-widgets/controls",
            "children": [
              "IPY_MODEL_57635384a4ca4ab28dd5944dc98160de",
              "IPY_MODEL_7e1b3c31c1854a1eb04c7eaf60011d59"
            ]
          }
        },
        "ba6654f6462a4d0dae9901858917c804": {
          "model_module": "@jupyter-widgets/base",
          "model_name": "LayoutModel",
          "state": {
            "_view_name": "LayoutView",
            "grid_template_rows": null,
            "right": null,
            "justify_content": null,
            "_view_module": "@jupyter-widgets/base",
            "overflow": null,
            "_model_module_version": "1.2.0",
            "_view_count": null,
            "flex_flow": null,
            "width": null,
            "min_width": null,
            "border": null,
            "align_items": null,
            "bottom": null,
            "_model_module": "@jupyter-widgets/base",
            "top": null,
            "grid_column": null,
            "overflow_y": null,
            "overflow_x": null,
            "grid_auto_flow": null,
            "grid_area": null,
            "grid_template_columns": null,
            "flex": null,
            "_model_name": "LayoutModel",
            "justify_items": null,
            "grid_row": null,
            "max_height": null,
            "align_content": null,
            "visibility": null,
            "align_self": null,
            "height": null,
            "min_height": null,
            "padding": null,
            "grid_auto_rows": null,
            "grid_gap": null,
            "max_width": null,
            "order": null,
            "_view_module_version": "1.2.0",
            "grid_template_areas": null,
            "object_position": null,
            "object_fit": null,
            "grid_auto_columns": null,
            "margin": null,
            "display": null,
            "left": null
          }
        },
        "57635384a4ca4ab28dd5944dc98160de": {
          "model_module": "@jupyter-widgets/controls",
          "model_name": "LabelModel",
          "state": {
            "_view_name": "LabelView",
            "style": "IPY_MODEL_386799ab0a9943ada7c333399a388665",
            "_dom_classes": [],
            "description": "",
            "_model_name": "LabelModel",
            "placeholder": "​",
            "_view_module": "@jupyter-widgets/controls",
            "_model_module_version": "1.5.0",
            "value": " 11.60MB of 11.60MB uploaded (0.00MB deduped)\r",
            "_view_count": null,
            "_view_module_version": "1.5.0",
            "description_tooltip": null,
            "_model_module": "@jupyter-widgets/controls",
            "layout": "IPY_MODEL_783f611aa04948378d623bf7a4ed15e2"
          }
        },
        "7e1b3c31c1854a1eb04c7eaf60011d59": {
          "model_module": "@jupyter-widgets/controls",
          "model_name": "FloatProgressModel",
          "state": {
            "_view_name": "ProgressView",
            "style": "IPY_MODEL_9b4e69130f2244e5be81161c93ed01eb",
            "_dom_classes": [],
            "description": "",
            "_model_name": "FloatProgressModel",
            "bar_style": "",
            "max": 1,
            "_view_module": "@jupyter-widgets/controls",
            "_model_module_version": "1.5.0",
            "value": 1,
            "_view_count": null,
            "_view_module_version": "1.5.0",
            "orientation": "horizontal",
            "min": 0,
            "description_tooltip": null,
            "_model_module": "@jupyter-widgets/controls",
            "layout": "IPY_MODEL_e4d4d2192fec4c82a59c5299c4d05b29"
          }
        },
        "386799ab0a9943ada7c333399a388665": {
          "model_module": "@jupyter-widgets/controls",
          "model_name": "DescriptionStyleModel",
          "state": {
            "_view_name": "StyleView",
            "_model_name": "DescriptionStyleModel",
            "description_width": "",
            "_view_module": "@jupyter-widgets/base",
            "_model_module_version": "1.5.0",
            "_view_count": null,
            "_view_module_version": "1.2.0",
            "_model_module": "@jupyter-widgets/controls"
          }
        },
        "783f611aa04948378d623bf7a4ed15e2": {
          "model_module": "@jupyter-widgets/base",
          "model_name": "LayoutModel",
          "state": {
            "_view_name": "LayoutView",
            "grid_template_rows": null,
            "right": null,
            "justify_content": null,
            "_view_module": "@jupyter-widgets/base",
            "overflow": null,
            "_model_module_version": "1.2.0",
            "_view_count": null,
            "flex_flow": null,
            "width": null,
            "min_width": null,
            "border": null,
            "align_items": null,
            "bottom": null,
            "_model_module": "@jupyter-widgets/base",
            "top": null,
            "grid_column": null,
            "overflow_y": null,
            "overflow_x": null,
            "grid_auto_flow": null,
            "grid_area": null,
            "grid_template_columns": null,
            "flex": null,
            "_model_name": "LayoutModel",
            "justify_items": null,
            "grid_row": null,
            "max_height": null,
            "align_content": null,
            "visibility": null,
            "align_self": null,
            "height": null,
            "min_height": null,
            "padding": null,
            "grid_auto_rows": null,
            "grid_gap": null,
            "max_width": null,
            "order": null,
            "_view_module_version": "1.2.0",
            "grid_template_areas": null,
            "object_position": null,
            "object_fit": null,
            "grid_auto_columns": null,
            "margin": null,
            "display": null,
            "left": null
          }
        },
        "9b4e69130f2244e5be81161c93ed01eb": {
          "model_module": "@jupyter-widgets/controls",
          "model_name": "ProgressStyleModel",
          "state": {
            "_view_name": "StyleView",
            "_model_name": "ProgressStyleModel",
            "description_width": "",
            "_view_module": "@jupyter-widgets/base",
            "_model_module_version": "1.5.0",
            "_view_count": null,
            "_view_module_version": "1.2.0",
            "bar_color": null,
            "_model_module": "@jupyter-widgets/controls"
          }
        },
        "e4d4d2192fec4c82a59c5299c4d05b29": {
          "model_module": "@jupyter-widgets/base",
          "model_name": "LayoutModel",
          "state": {
            "_view_name": "LayoutView",
            "grid_template_rows": null,
            "right": null,
            "justify_content": null,
            "_view_module": "@jupyter-widgets/base",
            "overflow": null,
            "_model_module_version": "1.2.0",
            "_view_count": null,
            "flex_flow": null,
            "width": null,
            "min_width": null,
            "border": null,
            "align_items": null,
            "bottom": null,
            "_model_module": "@jupyter-widgets/base",
            "top": null,
            "grid_column": null,
            "overflow_y": null,
            "overflow_x": null,
            "grid_auto_flow": null,
            "grid_area": null,
            "grid_template_columns": null,
            "flex": null,
            "_model_name": "LayoutModel",
            "justify_items": null,
            "grid_row": null,
            "max_height": null,
            "align_content": null,
            "visibility": null,
            "align_self": null,
            "height": null,
            "min_height": null,
            "padding": null,
            "grid_auto_rows": null,
            "grid_gap": null,
            "max_width": null,
            "order": null,
            "_view_module_version": "1.2.0",
            "grid_template_areas": null,
            "object_position": null,
            "object_fit": null,
            "grid_auto_columns": null,
            "margin": null,
            "display": null,
            "left": null
          }
        }
      }
    }
  },
  "cells": [
    {
      "cell_type": "markdown",
      "metadata": {
        "id": "5ZTX7iHiPQXT"
      },
      "source": [
        "**IMPORT REQUIRED LIBRARIES**"
      ]
    },
    {
      "cell_type": "code",
      "metadata": {
        "id": "5OlH8H6Dgseh"
      },
      "source": [
        "import tensorflow as tf\n",
        "from tensorflow import keras\n",
        "from tensorflow.keras import layers\n",
        "from tensorflow.keras.models import Sequential\n",
        "import matplotlib.pyplot as plt\n",
        "import numpy as np\n",
        "import os\n",
        "import PIL\n",
        "import cv2\n",
        "import pathlib\n",
        "import glob\n",
        "import shutil\n",
        "import os\n",
        "import random"
      ],
      "execution_count": 1,
      "outputs": []
    },
    {
      "cell_type": "markdown",
      "metadata": {
        "id": "2owBTh1XPWuP"
      },
      "source": [
        "**CONNECTING TO WANDB**"
      ]
    },
    {
      "cell_type": "code",
      "metadata": {
        "id": "crwiwHucLS08",
        "colab": {
          "base_uri": "https://localhost:8080/"
        },
        "outputId": "3847862e-945d-431a-b7c4-3574362703f3"
      },
      "source": [
        "#---------------------------------------install and import wandb -------------------------------------------------\n",
        "!pip install wandb -qqq\n",
        "import wandb\n",
        "from wandb.keras import WandbCallback"
      ],
      "execution_count": 2,
      "outputs": [
        {
          "output_type": "stream",
          "text": [
            "\u001b[K     |████████████████████████████████| 2.1MB 7.9MB/s \n",
            "\u001b[K     |████████████████████████████████| 102kB 12.8MB/s \n",
            "\u001b[K     |████████████████████████████████| 133kB 32.7MB/s \n",
            "\u001b[K     |████████████████████████████████| 163kB 34.0MB/s \n",
            "\u001b[K     |████████████████████████████████| 71kB 10.6MB/s \n",
            "\u001b[?25h  Building wheel for subprocess32 (setup.py) ... \u001b[?25l\u001b[?25hdone\n",
            "  Building wheel for pathtools (setup.py) ... \u001b[?25l\u001b[?25hdone\n"
          ],
          "name": "stdout"
        }
      ]
    },
    {
      "cell_type": "code",
      "metadata": {
        "id": "egDsuCfTLWzv",
        "colab": {
          "base_uri": "https://localhost:8080/"
        },
        "outputId": "4d87676b-e81a-4bc6-c352-9f0cb0b7ce60"
      },
      "source": [
        "#--------------------------------------------login to wandb --------------------------------------------\n",
        "!wandb login"
      ],
      "execution_count": 3,
      "outputs": [
        {
          "output_type": "stream",
          "text": [
            "\u001b[34m\u001b[1mwandb\u001b[0m: You can find your API key in your browser here: https://wandb.ai/authorize\n",
            "\u001b[34m\u001b[1mwandb\u001b[0m: Paste an API key from your profile and hit enter: \n",
            "\u001b[34m\u001b[1mwandb\u001b[0m: Appending key for api.wandb.ai to your netrc file: /root/.netrc\n"
          ],
          "name": "stdout"
        }
      ]
    },
    {
      "cell_type": "code",
      "metadata": {
        "colab": {
          "base_uri": "https://localhost:8080/"
        },
        "id": "STMGDOBCguDe",
        "outputId": "b654f3b5-7f64-418d-f280-46c0ddb8f9ea"
      },
      "source": [
        "#--------------------------------caution: terminal commands ---------------------------------------------\n",
        "%cd\n",
        "%cd .keras/datasets/\n",
        "!rm -r *"
      ],
      "execution_count": 4,
      "outputs": [
        {
          "output_type": "stream",
          "text": [
            "/root\n",
            "[Errno 2] No such file or directory: '.keras/datasets/'\n",
            "/root\n",
            "rm: cannot remove '*': No such file or directory\n"
          ],
          "name": "stdout"
        }
      ]
    },
    {
      "cell_type": "code",
      "metadata": {
        "colab": {
          "base_uri": "https://localhost:8080/"
        },
        "id": "kExxbfhyguAW",
        "outputId": "01bd6a99-e6a3-4b1e-c46c-ef94e8a797b8"
      },
      "source": [
        "########################################### download data from given url ###############################################\n",
        "\n",
        "dataset_url = \"https://storage.googleapis.com/gresearch/dakshina/dakshina_dataset_v1.0.tar\"\n",
        "data_dir = tf.keras.utils.get_file('dakshina_dataset_v1.0', origin=dataset_url, untar=True)"
      ],
      "execution_count": 5,
      "outputs": [
        {
          "output_type": "stream",
          "text": [
            "Downloading data from https://storage.googleapis.com/gresearch/dakshina/dakshina_dataset_v1.0.tar\n",
            "2008342528/2008340480 [==============================] - 17s 0us/step\n"
          ],
          "name": "stdout"
        }
      ]
    },
    {
      "cell_type": "code",
      "metadata": {
        "colab": {
          "base_uri": "https://localhost:8080/"
        },
        "id": "FsOhKufxgt7-",
        "outputId": "85396767-ea0f-4067-9122-6fe8be642daa"
      },
      "source": [
        "#----------------------------------terminal command -----------------------------------------------\n",
        "%cd /root/.keras/datasets/dakshina_dataset_v1.0/hi/lexicons/\n",
        "!ls"
      ],
      "execution_count": 6,
      "outputs": [
        {
          "output_type": "stream",
          "text": [
            "/root/.keras/datasets/dakshina_dataset_v1.0/hi/lexicons\n",
            "hi.translit.sampled.dev.tsv   hi.translit.sampled.train.tsv\n",
            "hi.translit.sampled.test.tsv\n"
          ],
          "name": "stdout"
        }
      ]
    },
    {
      "cell_type": "code",
      "metadata": {
        "id": "zxSiYbw8hpcH"
      },
      "source": [
        "train_data_path = \"hi.translit.sampled.train.tsv\"\n",
        "test_data_path = \"hi.translit.sampled.test.tsv\"\n",
        "validation_data_path = \"hi.translit.sampled.dev.tsv\""
      ],
      "execution_count": 7,
      "outputs": []
    },
    {
      "cell_type": "markdown",
      "metadata": {
        "id": "KtQd8WIJjcfi"
      },
      "source": [
        "**UTILITY FUNCTION FOR DATA PRE-PROCESSING**"
      ]
    },
    {
      "cell_type": "code",
      "metadata": {
        "id": "Rmc0tpmjjbE3"
      },
      "source": [
        "################################################ preparing the data in required format #################################################\n",
        "\n",
        "def data(path,input_token_index,target_token_index):\n",
        "  input_texts = []\n",
        "  target_texts = []\n",
        "  with open(path, \"r\", encoding=\"utf-8\") as f:\n",
        "      lines = f.read().split(\"\\n\")\n",
        "  del lines[-1]\n",
        "  for line in lines:\n",
        "      target_text, input_text, _ = line.split(\"\\t\")\n",
        "\n",
        "      input_text = \"\\t\"+input_text + \"\\n\"\n",
        "      target_text = \"\\t\"+target_text + \"\\n\"\n",
        "\n",
        "      input_texts.append(input_text)\n",
        "      target_texts.append(target_text)\n",
        "\n",
        "  encoder_input_data = np.zeros( (len(input_texts), max_encoder_seq_length), dtype=\"int32\")\n",
        "  decoder_input_data = np.zeros( (len(input_texts), max_decoder_seq_length), dtype=\"int32\")\n",
        "  decoder_target_data = np.zeros((len(input_texts), max_decoder_seq_length, num_decoder_tokens), dtype=\"int32\")\n",
        "\n",
        "  for i, (input_text, target_text) in enumerate(zip(input_texts, target_texts)):\n",
        "      for t, char in enumerate(input_text):\n",
        "          encoder_input_data[i, t] = input_token_index[char]\n",
        "      encoder_input_data[i, t + 1 :] = input_token_index[\" \"]\n",
        "      for t, char in enumerate(target_text):\n",
        "          # decoder_target_data is ahead of decoder_input_data by one timestep\n",
        "          decoder_input_data[i, t] = target_token_index[char]\n",
        "          if t > 0:\n",
        "              # decoder_target_data will be ahead by one timestep\n",
        "              # and will not include the start character.\n",
        "              decoder_target_data[i, t - 1, target_token_index[char]] = 1.0\n",
        "      decoder_input_data[i, t + 1 :] = target_token_index[\" \"]\n",
        "      decoder_target_data[i, t:, target_token_index[\" \"]] = 1.0\n",
        "    \n",
        "  return (encoder_input_data, decoder_input_data, decoder_target_data)"
      ],
      "execution_count": 8,
      "outputs": []
    },
    {
      "cell_type": "markdown",
      "metadata": {
        "id": "yHX43bsSjPZ0"
      },
      "source": [
        "**PREPROCESSING THE DATA**"
      ]
    },
    {
      "cell_type": "code",
      "metadata": {
        "colab": {
          "base_uri": "https://localhost:8080/"
        },
        "id": "OvzlQKeQg481",
        "outputId": "efd6ac6c-fabb-4889-fbdd-87afd1b8027a"
      },
      "source": [
        "################################################ preprocessing the train data and getting dictionaries #################################################\n",
        "\n",
        "input_texts = []\n",
        "target_texts = []\n",
        "input_characters = set()\n",
        "target_characters = set()\n",
        "with open(train_data_path, \"r\", encoding=\"utf-8\") as f:\n",
        "    lines = f.read().split(\"\\n\")\n",
        "\n",
        "del lines[-1]\n",
        "for line in lines:\n",
        "    target_text, input_text, _ = line.split(\"\\t\")\n",
        "    input_text = \"\\t\"+input_text + \"\\n\"\n",
        "    target_text = \"\\t\"+target_text + \"\\n\"\n",
        "\n",
        "    input_texts.append(input_text)\n",
        "    target_texts.append(target_text)\n",
        "    for char in input_text:\n",
        "        if char not in input_characters:\n",
        "            input_characters.add(char)\n",
        "    for char in target_text:\n",
        "        if char not in target_characters:\n",
        "            target_characters.add(char)\n",
        "\n",
        "input_characters.add(\" \")\n",
        "target_characters.add(\" \")\n",
        "\n",
        "input_characters = sorted(list(input_characters))\n",
        "target_characters = sorted(list(target_characters))\n",
        "num_encoder_tokens = len(input_characters)\n",
        "num_decoder_tokens = len(target_characters)\n",
        "max_encoder_seq_length = max([len(txt) for txt in input_texts])\n",
        "max_decoder_seq_length = max([len(txt) for txt in target_texts])\n",
        "\n",
        "print(\"Number of samples:\", len(input_texts))\n",
        "print(\"Number of unique input tokens:\", num_encoder_tokens)\n",
        "print(\"Number of unique output tokens:\", num_decoder_tokens)\n",
        "print(\"Max sequence length for inputs:\", max_encoder_seq_length)\n",
        "print(\"Max sequence length for outputs:\", max_decoder_seq_length)\n",
        "\n",
        "input_token_index = dict([(char, i) for i, char in enumerate(input_characters)])\n",
        "target_token_index = dict([(char, i) for i, char in enumerate(target_characters)])\n"
      ],
      "execution_count": 9,
      "outputs": [
        {
          "output_type": "stream",
          "text": [
            "Number of samples: 44204\n",
            "Number of unique input tokens: 29\n",
            "Number of unique output tokens: 66\n",
            "Max sequence length for inputs: 22\n",
            "Max sequence length for outputs: 21\n"
          ],
          "name": "stdout"
        }
      ]
    },
    {
      "cell_type": "markdown",
      "metadata": {
        "id": "N82OZs3TNcLK"
      },
      "source": [
        "\n",
        "**MACHINE TRANSLITERATOR**\n"
      ]
    },
    {
      "cell_type": "code",
      "metadata": {
        "id": "XYsd6Xetg7dv"
      },
      "source": [
        "class Machine_Transliterator():\n",
        "\n",
        "  ############################################# constructor for class Machine_Transliterator ##########################################\n",
        "\n",
        "  def __init__(self,max_encoder_seq_length,max_decoder_seq_length,encoder_embed_size, decoder_embed_size,\n",
        "               num_encoder_layers,num_decoder_layers,epochs, hidden_layer_size,\n",
        "               num_encoder_tokens, cell_type, num_decoder_tokens,input_token_index, target_token_index, \n",
        "               activation=\"softmax\",optimizer=\"rmsprop\",dropout=0.05):\n",
        "    \n",
        "    self.cell_type= cell_type\n",
        "    self.hidden_layer_size = hidden_layer_size  \n",
        "    self.optimizer = optimizer\n",
        "    self.activation = activation   \n",
        "    self.dropout=dropout\n",
        "\n",
        "    #-------------------------------------- Number of hidden layers -------------------------------------\n",
        "\n",
        "    self.num_encoder_layers = num_encoder_layers\n",
        "    self.num_decoder_layers=num_decoder_layers\n",
        "\n",
        "    #-------------------------------------- sequence length -------------------------------------\n",
        "    self.max_decoder_seq_length=max_decoder_seq_length\n",
        "    self.max_encoder_seq_length=max_encoder_seq_length\n",
        "\n",
        "    #---------------------------------------------Embedding size-------------------------------------\n",
        "    self.encoder_embed_size = encoder_embed_size\n",
        "    self.decoder_embed_size = decoder_embed_size\n",
        "    \n",
        "    #-----------------information obtained after preprocessing of data-------------------------------------\n",
        "    self.num_encoder_tokens = num_encoder_tokens\n",
        "    self.num_decoder_tokens = num_decoder_tokens\n",
        "\n",
        "    #-----------------------------dictionaries----------------------------------------------------\n",
        "    self.input_token_index = input_token_index\n",
        "    self.target_token_index = target_token_index\n",
        "\n",
        " \n",
        "\n",
        "\n",
        "#########################################function to build model ###########################################\n",
        "\n",
        "  def build_model(self):\n",
        "\n",
        "    \n",
        "    # encoder_inputs = keras.Input(shape=(None,))  \n",
        "    encoder_inputs = keras.Input(shape=(self.max_encoder_seq_length,)) \n",
        "    # encoder_embedding_output = tf.keras.layers.Embedding(self.num_encoder_tokens, self.encoder_embed_size)(encoder_inputs)\n",
        "    encoder_embedding_output = tf.keras.layers.Embedding(input_dim = self.num_encoder_tokens, output_dim = self.encoder_embed_size)(encoder_inputs)\n",
        "\n",
        "\n",
        "#------------------------------ if cell type = LSTM -------------------------------------------------------------\n",
        "    if self.cell_type == \"lstm\":\n",
        "     #--------------------- encoder -----------------------------------\n",
        "      encoder = keras.layers.LSTM(self.hidden_layer_size, return_state=True,return_sequences=True,dropout=self.dropout,use_bias=True)\n",
        "      encoder_outputs, state_h, state_c = encoder(encoder_embedding_output)\n",
        "      for i in range(1,self.num_encoder_layers):\n",
        "        encoder = keras.layers.LSTM(self.hidden_layer_size, return_state=True,return_sequences=True,dropout=self.dropout,use_bias=True)\n",
        "        encoder_outputs, state_h, state_c = encoder(encoder_outputs)\n",
        "      encoder_states = [state_h, state_c]\n",
        "\n",
        "      #---------------------------decoder ---------------------------------------------------\n",
        "      decoder_inputs = keras.Input(shape=(self.max_decoder_seq_length, ))      \n",
        "      # decoder_embedding_output = tf.keras.layers.Embedding(self.num_decoder_tokens, self.decoder_embed_size)(decoder_inputs)\n",
        "      decoder_embedding_output = tf.keras.layers.Embedding(input_dim = self.num_decoder_tokens, output_dim = self.decoder_embed_size)(decoder_inputs)\n",
        "\n",
        "      decoder = keras.layers.LSTM(self.hidden_layer_size, return_sequences=True, return_state=True,dropout=self.dropout,use_bias=True)\n",
        "      decoder_outputs, _, _= decoder(decoder_embedding_output, initial_state = encoder_states)\n",
        "      for i in range(1,self.num_decoder_layers):\n",
        "        decoder = keras.layers.LSTM(self.hidden_layer_size, return_state=True,return_sequences=True,dropout=self.dropout,use_bias=True)\n",
        "        decoder_outputs, _ , _= decoder(decoder_outputs, initial_state = encoder_states)\n",
        "\n",
        "\n",
        "\n",
        "#------------------------------ if cell type = Simple RNN -------------------------------------------------------------\n",
        "    elif self.cell_type == \"rnn\":\n",
        "      #--------------------- encoder -----------------------------------\n",
        "      encoder = keras.layers.SimpleRNN(self.hidden_layer_size, return_state=True,return_sequences=True,dropout=self.dropout, use_bias=True)\n",
        "      encoder_outputs, state = encoder(encoder_embedding_output)\n",
        "      for i in range(1,self.num_encoder_layers):\n",
        "        encoder = keras.layers.SimpleRNN(self.hidden_layer_size, return_state=True,return_sequences=True,dropout=self.dropout, use_bias=True)\n",
        "        encoder_outputs, state = encoder(encoder_outputs)\n",
        "      encoder_states = [state]\n",
        "\n",
        "      #---------------------------decoder ---------------------------------------------------\n",
        "      decoder_inputs = keras.Input(shape=(self.max_decoder_seq_length,))      \n",
        "      # decoder_embedding_output = tf.keras.layers.Embedding(self.num_decoder_tokens, self.decoder_embed_size)(decoder_inputs)\n",
        "      decoder_embedding_output = tf.keras.layers.Embedding(input_dim = self.num_decoder_tokens, output_dim = self.decoder_embed_size)(decoder_inputs)\n",
        "\n",
        "      decoder = keras.layers.SimpleRNN(self.hidden_layer_size, return_state=True,return_sequences=True, dropout=self.dropout, use_bias=True)\n",
        "      decoder_outputs, _ = decoder(decoder_embedding_output, initial_state = encoder_states)\n",
        "      for i in range(1,self.num_decoder_layers):\n",
        "        decoder = keras.layers.SimpleRNN(self.hidden_layer_size, return_state=True,return_sequences=True, dropout=self.dropout, use_bias=True)\n",
        "        decoder_outputs, _= decoder(decoder_outputs, initial_state = encoder_states)\n",
        "\n",
        "\n",
        "\n",
        "#------------------------------ if cell type = GRU -------------------------------------------------------------\n",
        "    elif self.cell_type == \"gru\":\n",
        "      #--------------------- encoder -----------------------------------\n",
        "      encoder = keras.layers.GRU(self.hidden_layer_size, return_state=True,return_sequences=True,dropout=self.dropout,use_bias=True)\n",
        "      encoder_outputs, state = encoder(encoder_embedding_output)\n",
        "      for i in range(1,self.num_encoder_layers):\n",
        "        encoder = keras.layers.GRU(self.hidden_layer_size, return_state=True,return_sequences=True,dropout=self.dropout,use_bias=True)\n",
        "        encoder_outputs, state = encoder(encoder_outputs)\n",
        "      encoder_states = [state]\n",
        "\n",
        "      #---------------------------decoder ---------------------------------------------------\n",
        "      decoder_inputs = keras.Input(shape=(self.max_decoder_seq_length, ))      \n",
        "      # decoder_embedding_output = tf.keras.layers.Embedding(self.num_decoder_tokens, self.decoder_embed_size)(decoder_inputs)\n",
        "      decoder_embedding_output = tf.keras.layers.Embedding(input_dim = self.num_decoder_tokens, output_dim = self.decoder_embed_size)(decoder_inputs)\n",
        "      \n",
        "      decoder = keras.layers.GRU(self.hidden_layer_size, return_state=True,return_sequences=True, dropout=self.dropout,use_bias=True)\n",
        "      decoder_outputs, _ = decoder(decoder_embedding_output, initial_state = encoder_states)\n",
        "      for i in range(1,self.num_decoder_layers):\n",
        "        decoder = keras.layers.GRU(self.hidden_layer_size, return_state=True,return_sequences=True,dropout=self.dropout,use_bias=True)\n",
        "        decoder_outputs, _ = decoder(decoder_outputs, initial_state = encoder_states)\n",
        "\n",
        "\n",
        "    decoder_dense = keras.layers.Dense(self.num_decoder_tokens, activation = self.activation,use_bias=True)\n",
        "    decoder_outputs = decoder_dense(decoder_outputs)\n",
        "    model = keras.Model([encoder_inputs, decoder_inputs], decoder_outputs)\n",
        "    \n",
        "    #-----------------compile the model -------------------------------------\n",
        "    model.compile(\n",
        "         optimizer=self.optimizer,\n",
        "         loss=\"categorical_crossentropy\",\n",
        "         metrics=[\"accuracy\"]\n",
        "         ) \n",
        "\n",
        "#-------------------------- return final model ---------------------------------------------------------\n",
        "    return model\n",
        "\n",
        "\n",
        "\n",
        "\n",
        "\n",
        "#########################################function for training the model ###########################################\n",
        "\n",
        "  def train_model(self,encoder_input_data,decoder_input_data,decoder_target_data,epochs,batch_size,\n",
        "                  val_encoder_input_data, val_decoder_input_data, val_decoder_target_data):\n",
        "    \n",
        "     model=self.build_model()\n",
        "  \n",
        "     model.fit(\n",
        "        [encoder_input_data, decoder_input_data],\n",
        "        decoder_target_data,\n",
        "        batch_size = batch_size,\n",
        "        epochs = epochs,\n",
        "        validation_data = ([val_encoder_input_data, val_decoder_input_data],val_decoder_target_data),\n",
        "        callbacks=[WandbCallback()]\n",
        "        )\n",
        "     return model\n",
        "\n",
        "#===================================== end of class Machine_Transliterator ==========================================\n",
        "\n"
      ],
      "execution_count": 10,
      "outputs": []
    },
    {
      "cell_type": "markdown",
      "metadata": {
        "id": "NR4rOYbMVIUZ"
      },
      "source": [
        "**PARAMETERS**"
      ]
    },
    {
      "cell_type": "code",
      "metadata": {
        "id": "llXj7Z6LSnMz"
      },
      "source": [
        "cell_type = \"rnn\" # Type of the recurring unit\n",
        "batch_size = 64  # Batch size for training.\n",
        "epochs = 10  # Number of epochs to train for.\n",
        "hidden_layer_size= 128  # Latent dimensionality of the encoding space.\n",
        "# num_samples = 10000  # Number of samples to train on.\n",
        "activation = \"softmax\" #activation\n",
        "optimizer = \"Adam\"  #optimizer\n",
        "encoder_embed_size = 32 #Encoder embedsize\n",
        "decoder_embed_size = 32 #Decoder embedsize\n",
        "num_encoder_layers=3  # number of hidden layers in encoder\n",
        "num_decoder_layers=3   # number of hidden layers in decoder\n",
        "dropout=0.01#Dropout"
      ],
      "execution_count": 11,
      "outputs": []
    },
    {
      "cell_type": "markdown",
      "metadata": {
        "id": "eWh3rwRTcDuT"
      },
      "source": [
        "**CREATING MACHINE TRANSLITERATOR**"
      ]
    },
    {
      "cell_type": "code",
      "metadata": {
        "id": "oeEXyTYcg7bF"
      },
      "source": [
        "# ########################### creating machine transliterator object ###############################\n",
        "# machine = Machine_Transliterator(\n",
        "#     max_encoder_seq_length,max_decoder_seq_length,encoder_embed_size, \n",
        "#     decoder_embed_size,num_encoder_layers,num_decoder_layers,\n",
        "#     batch_size, hidden_layer_size, num_encoder_tokens, cell_type, num_decoder_tokens, \n",
        "#      input_token_index,target_token_index, activation, optimizer,dropout\n",
        "#     )"
      ],
      "execution_count": 12,
      "outputs": []
    },
    {
      "cell_type": "markdown",
      "metadata": {
        "id": "L5o6Jtrai02S"
      },
      "source": [
        "**PREPROCESSING THE DATA**"
      ]
    },
    {
      "cell_type": "code",
      "metadata": {
        "id": "w6if_3HFiiH3"
      },
      "source": [
        "(encoder_input_data,decoder_input_data,decoder_target_data)=data(train_data_path,input_token_index,target_token_index)\n",
        "\n",
        "\n",
        "(val_encoder_input_data,val_decoder_input_data,val_decoder_target_data)=data(validation_data_path ,input_token_index,target_token_index)"
      ],
      "execution_count": 13,
      "outputs": []
    },
    {
      "cell_type": "code",
      "metadata": {
        "id": "V08XzQ8qcmYx",
        "colab": {
          "base_uri": "https://localhost:8080/"
        },
        "outputId": "bcdc7eec-ffee-484c-e43f-139d92696936"
      },
      "source": [
        "print(encoder_input_data.shape)\n",
        "print(decoder_input_data.shape)\n",
        "print(decoder_target_data.shape)\n",
        "print(val_encoder_input_data.shape)\n",
        "print(val_decoder_input_data.shape)\n",
        "print(val_decoder_target_data.shape)"
      ],
      "execution_count": 14,
      "outputs": [
        {
          "output_type": "stream",
          "text": [
            "(44204, 22)\n",
            "(44204, 21)\n",
            "(44204, 21, 66)\n",
            "(4358, 22)\n",
            "(4358, 21)\n",
            "(4358, 21, 66)\n"
          ],
          "name": "stdout"
        }
      ]
    },
    {
      "cell_type": "markdown",
      "metadata": {
        "id": "TJlX41fVRs1x"
      },
      "source": [
        "**TRAINING**\n",
        "\n"
      ]
    },
    {
      "cell_type": "code",
      "metadata": {
        "id": "-UQyh8rmdkM8"
      },
      "source": [
        "# model = machine.train_model(\n",
        "#     encoder_input_data, decoder_input_data,decoder_target_data,epochs,batch_size,\n",
        "#     val_encoder_input_data, val_decoder_input_data, val_decoder_target_data\n",
        "#     )"
      ],
      "execution_count": 15,
      "outputs": []
    },
    {
      "cell_type": "code",
      "metadata": {
        "id": "XF13lTHNKOoQ"
      },
      "source": [
        "# tf.keras.utils.plot_model(model,to_file='model.png',show_shapes=True)"
      ],
      "execution_count": 16,
      "outputs": []
    },
    {
      "cell_type": "code",
      "metadata": {
        "id": "iGyQpSk4zd0V"
      },
      "source": [
        "cell_type = [\"lstm\",\"rnn\",\"gru\"]\n",
        "batch_size = [16,32,64,128]  # Batch size for training.\n",
        "epochs = [10,20,30,50]  # Number of epochs to train for.\n",
        "hidden_layer_size= [128,256,512]  # Latent dimensionality of the encoding space.\n",
        "activation = \"softmax\"\n",
        "optimizer = \"Adam\"\n",
        "encoder_embed_size = [27,64] #Encoder embedsize\n",
        "decoder_embed_size = [27,64] #Decoder embedsize\n",
        "num_encoder_layers=[1,2,3,4]  # number of hidden layers in encoder\n",
        "num_decoder_layers=[1,2,3,4]    # number of hidden layers in decoder\n",
        "dropout=[0.00,0.01, 0.5,0.0001] #Dropout"
      ],
      "execution_count": 17,
      "outputs": []
    },
    {
      "cell_type": "code",
      "metadata": {
        "id": "_F7lOm3MzREt",
        "colab": {
          "base_uri": "https://localhost:8080/"
        },
        "outputId": "51eee7ba-54ab-4a1c-87cf-04115e5b0b7d"
      },
      "source": [
        "sweep_config={\n",
        "              \"method\":\"random\",\n",
        "              'metric' : {\n",
        "                            'name' : 'val_accuracy',\n",
        "                            'goal' : 'maximize',\n",
        "                         },\n",
        "          \"parameters\" : {\n",
        "                            \"cell_type\":{\"values\":[\"lstm\",\"rnn\", \"gru\"]},\n",
        "                            \"batch_size\":{\"values\": [32,64,128]},\n",
        "                            \"epochs\":{\"values\":[30,40,60]}, \n",
        "                            \"hidden_layer_size\":{\"values\": [128,256,512]}, \n",
        "                            \"encoder_embed_size\": {\"values\": [27,64] },\n",
        "                            \"decoder_embed_size\": {\"values\":[27,64]  },\n",
        "                            \"num_encoder_layers\": {\"values\": [1,2,3,4]},\n",
        "                            \"num_decoder_layers\":{\"values\":[1,2,3,4] },\n",
        "                            \"dropout\": {\"values\":[0.00,0.1, 0.05,0.001]}\n",
        "                         }\n",
        "              }\n",
        "sweep_id = wandb.sweep(sweep_config, project=\"Transliterator\")"
      ],
      "execution_count": 18,
      "outputs": [
        {
          "output_type": "stream",
          "text": [
            "Create sweep with ID: kewrjmtp\n",
            "Sweep URL: https://wandb.ai/anshikag_2210/Transliterator/sweeps/kewrjmtp\n"
          ],
          "name": "stdout"
        }
      ]
    },
    {
      "cell_type": "code",
      "metadata": {
        "id": "ZkSWJ0evzbNc"
      },
      "source": [
        "def run():\n",
        "\n",
        "  wb = wandb.init()\n",
        "  config = wb.config\n",
        "\n",
        "  #----------------------sweep parameters------------------------------------\n",
        "  cell_type =config.cell_type \n",
        "  batch_size = config.batch_size \n",
        "  epochs = config.epochs \n",
        "  hidden_layer_size= config.hidden_layer_size\n",
        "  encoder_embed_size =config.encoder_embed_size\n",
        "  decoder_embed_size = config.decoder_embed_size\n",
        "  num_encoder_layers=config.num_encoder_layers\n",
        "  num_decoder_layers= config.num_decoder_layers \n",
        "  dropout=config.dropout\n",
        "  \n",
        "  ########################### creating machine transliterator object ###############################\n",
        "  machine = Machine_Transliterator(\n",
        "      max_encoder_seq_length,max_decoder_seq_length,encoder_embed_size, \n",
        "      decoder_embed_size,num_encoder_layers,num_decoder_layers,\n",
        "      batch_size, hidden_layer_size, num_encoder_tokens, cell_type, num_decoder_tokens, \n",
        "      input_token_index,target_token_index, activation, optimizer,dropout\n",
        "      )\n",
        "  model = machine.train_model(\n",
        "      encoder_input_data, decoder_input_data,decoder_target_data,epochs,batch_size,\n",
        "      val_encoder_input_data, val_decoder_input_data, val_decoder_target_data\n",
        "      )  \n",
        "  return"
      ],
      "execution_count": 19,
      "outputs": []
    },
    {
      "cell_type": "code",
      "metadata": {
        "id": "yeoe7fbqOpb9",
        "colab": {
          "base_uri": "https://localhost:8080/",
          "height": 1000,
          "referenced_widgets": [
            "8f13359244cc4ae283c4f59510b5c3b8",
            "5254edad3f4f4031a217bbcee6ccd215",
            "0ca31f51f0f54c88b91506f73a7ac695",
            "2375775fc26c4209921793651a2bd5a6",
            "11770e18d738424daf370c63094ac856",
            "a76485dd928448de907903286c801bf7",
            "697c383de3d143c9a37d603445ebc686",
            "5e67f63c07ef4ba5a55df89cd57c7076",
            "68a505b482434f7e82151b872b6f3819",
            "34dbb42dbab940c496c000e1f27f9773",
            "33a8590c9a1a4f1abfc72e657bb2c4a4",
            "4f235a5344934d5abd1a8974996dadae",
            "457a73018ee04b5e84440d04c7e81376",
            "52b80aa038fb4c9b9131c3b7be9b658c",
            "1d75047d7bfc43b98dd1bfc341e62590",
            "7d0697ce1f18450a83a6ce0e4ea22874",
            "e429affd111c47718cff5b0a93176c92",
            "dc4ce0b847cb44188148ac13fd30da02",
            "0fd61e42eb914504bec7b584e932521c",
            "7895d01df9f44bdbb3b5df7b2a7d34fc",
            "5494ee811d0c48c8afc36eed17591e40",
            "ed0db712436d45c8a9a29e90ce2dced2",
            "6d9d47c709974b278247792cb9c88b0b",
            "7ab0a8b86b544b59b070bfa0ecd3b3a9",
            "62f146cb0ec049fdbd5ba5585d60218a",
            "ae792d8ad1e14440a258fe075e559ac8",
            "fd06ba20093343eba40fc60b18cb1844",
            "e09f034f7e2f4a0ca074ef6140ed860c",
            "2ca6690952b74c0496c5d87fa6b86eaa",
            "865f5ff456db4529820367b11a893517",
            "75f0da5fe0194a2aa4da96495b7e72ad",
            "133a275f8736426b95abe61211c1d3d7",
            "ae0f84e343f04c958aaac390c3ae3cc7",
            "a64526c6b1ea49da9343405253d8d3f7",
            "a14be409da864f34a3090301e7129098",
            "813b10fa7908483eac1f336ed11f3f27",
            "3f6ed4046ec74a259280ffa29a3237b0",
            "2357f4cbe89d4dc88d529d83a95cc76b",
            "7bb1965e327c4e058cf6b2a1efd966dd",
            "d426644c434f46d9b1bb857dc81bbca4",
            "75c148b1ebb14ac696516e44ae82e98d",
            "d2ab7c67cc6d4d2ab6b5e8bd42a9db1c",
            "5521282d9cea4634aeab561845d1d298",
            "8739828667ae4f15ad940137874385aa",
            "66a03b1d308946859ca792a6b12d2e65",
            "936d5b19fe79486ab280b855db0d236c",
            "d49bee61dd2e493cb958197043130487",
            "7d1fdf41c2aa480daced10164b73a035",
            "88647bf3435242ef9255a289d2646010",
            "082b5f2e848040eda56c69089ade1f21",
            "ba6654f6462a4d0dae9901858917c804",
            "57635384a4ca4ab28dd5944dc98160de",
            "7e1b3c31c1854a1eb04c7eaf60011d59",
            "386799ab0a9943ada7c333399a388665",
            "783f611aa04948378d623bf7a4ed15e2",
            "9b4e69130f2244e5be81161c93ed01eb",
            "e4d4d2192fec4c82a59c5299c4d05b29"
          ]
        },
        "outputId": "6424fc1f-8e91-4e72-bd58-3441a3182ece"
      },
      "source": [
        "wandb.agent(sweep_id, run)"
      ],
      "execution_count": null,
      "outputs": [
        {
          "output_type": "stream",
          "text": [
            "\u001b[34m\u001b[1mwandb\u001b[0m: Agent Starting Run: 4ni70lb6 with config:\n",
            "\u001b[34m\u001b[1mwandb\u001b[0m: \tbatch_size: 32\n",
            "\u001b[34m\u001b[1mwandb\u001b[0m: \tcell_type: lstm\n",
            "\u001b[34m\u001b[1mwandb\u001b[0m: \tdecoder_embed_size: 64\n",
            "\u001b[34m\u001b[1mwandb\u001b[0m: \tdropout: 0\n",
            "\u001b[34m\u001b[1mwandb\u001b[0m: \tencoder_embed_size: 64\n",
            "\u001b[34m\u001b[1mwandb\u001b[0m: \tepochs: 30\n",
            "\u001b[34m\u001b[1mwandb\u001b[0m: \thidden_layer_size: 512\n",
            "\u001b[34m\u001b[1mwandb\u001b[0m: \tnum_decoder_layers: 1\n",
            "\u001b[34m\u001b[1mwandb\u001b[0m: \tnum_encoder_layers: 2\n",
            "\u001b[34m\u001b[1mwandb\u001b[0m: Currently logged in as: \u001b[33manshikag_2210\u001b[0m (use `wandb login --relogin` to force relogin)\n"
          ],
          "name": "stderr"
        },
        {
          "output_type": "display_data",
          "data": {
            "text/html": [
              "\n",
              "                Tracking run with wandb version 0.10.28<br/>\n",
              "                Syncing run <strong style=\"color:#cdcd00\">unique-sweep-1</strong> to <a href=\"https://wandb.ai\" target=\"_blank\">Weights & Biases</a> <a href=\"https://docs.wandb.com/integrations/jupyter.html\" target=\"_blank\">(Documentation)</a>.<br/>\n",
              "                Project page: <a href=\"https://wandb.ai/anshikag_2210/Transliterator\" target=\"_blank\">https://wandb.ai/anshikag_2210/Transliterator</a><br/>\n",
              "                Sweep page: <a href=\"https://wandb.ai/anshikag_2210/Transliterator/sweeps/kewrjmtp\" target=\"_blank\">https://wandb.ai/anshikag_2210/Transliterator/sweeps/kewrjmtp</a><br/>\n",
              "Run page: <a href=\"https://wandb.ai/anshikag_2210/Transliterator/runs/4ni70lb6\" target=\"_blank\">https://wandb.ai/anshikag_2210/Transliterator/runs/4ni70lb6</a><br/>\n",
              "                Run data is saved locally in <code>/root/.keras/datasets/dakshina_dataset_v1.0/hi/lexicons/wandb/run-20210430_065643-4ni70lb6</code><br/><br/>\n",
              "            "
            ],
            "text/plain": [
              "<IPython.core.display.HTML object>"
            ]
          },
          "metadata": {
            "tags": []
          }
        },
        {
          "output_type": "stream",
          "text": [
            "Epoch 1/30\n",
            "1382/1382 [==============================] - 58s 17ms/step - loss: 1.0573 - accuracy: 0.7339 - val_loss: 0.5763 - val_accuracy: 0.8314\n",
            "Epoch 2/30\n",
            "1382/1382 [==============================] - 22s 16ms/step - loss: 0.4817 - accuracy: 0.8560 - val_loss: 0.2546 - val_accuracy: 0.9205\n",
            "Epoch 3/30\n",
            "1382/1382 [==============================] - 22s 16ms/step - loss: 0.2088 - accuracy: 0.9353 - val_loss: 0.1876 - val_accuracy: 0.9414\n",
            "Epoch 4/30\n",
            "1382/1382 [==============================] - 22s 16ms/step - loss: 0.1328 - accuracy: 0.9584 - val_loss: 0.1693 - val_accuracy: 0.9480\n",
            "Epoch 5/30\n",
            "1382/1382 [==============================] - 22s 16ms/step - loss: 0.0946 - accuracy: 0.9702 - val_loss: 0.1616 - val_accuracy: 0.9501\n",
            "Epoch 6/30\n",
            "1382/1382 [==============================] - 22s 16ms/step - loss: 0.0714 - accuracy: 0.9773 - val_loss: 0.1641 - val_accuracy: 0.9501\n",
            "Epoch 7/30\n",
            "1382/1382 [==============================] - 22s 16ms/step - loss: 0.0547 - accuracy: 0.9829 - val_loss: 0.1685 - val_accuracy: 0.9516\n",
            "Epoch 8/30\n",
            "1382/1382 [==============================] - 22s 16ms/step - loss: 0.0441 - accuracy: 0.9862 - val_loss: 0.1779 - val_accuracy: 0.9506\n",
            "Epoch 9/30\n",
            "1382/1382 [==============================] - 22s 16ms/step - loss: 0.0367 - accuracy: 0.9885 - val_loss: 0.1803 - val_accuracy: 0.9517\n",
            "Epoch 10/30\n",
            "1382/1382 [==============================] - 22s 16ms/step - loss: 0.0326 - accuracy: 0.9898 - val_loss: 0.1848 - val_accuracy: 0.9515\n",
            "Epoch 11/30\n",
            "1382/1382 [==============================] - 22s 16ms/step - loss: 0.0291 - accuracy: 0.9911 - val_loss: 0.1901 - val_accuracy: 0.9510\n",
            "Epoch 12/30\n",
            "1382/1382 [==============================] - 22s 16ms/step - loss: 0.0260 - accuracy: 0.9921 - val_loss: 0.1955 - val_accuracy: 0.9514\n",
            "Epoch 13/30\n",
            "1382/1382 [==============================] - 22s 16ms/step - loss: 0.0245 - accuracy: 0.9927 - val_loss: 0.1973 - val_accuracy: 0.9508\n",
            "Epoch 14/30\n",
            "1382/1382 [==============================] - 22s 16ms/step - loss: 0.0233 - accuracy: 0.9931 - val_loss: 0.2021 - val_accuracy: 0.9510\n",
            "Epoch 15/30\n",
            "1382/1382 [==============================] - 22s 16ms/step - loss: 0.0230 - accuracy: 0.9933 - val_loss: 0.2055 - val_accuracy: 0.9507\n",
            "Epoch 16/30\n",
            "1382/1382 [==============================] - 22s 16ms/step - loss: 0.0216 - accuracy: 0.9938 - val_loss: 0.2057 - val_accuracy: 0.9522\n",
            "Epoch 17/30\n",
            "1382/1382 [==============================] - 22s 16ms/step - loss: 0.0212 - accuracy: 0.9938 - val_loss: 0.2103 - val_accuracy: 0.9509\n",
            "Epoch 18/30\n",
            "1382/1382 [==============================] - 22s 16ms/step - loss: 0.0205 - accuracy: 0.9941 - val_loss: 0.2080 - val_accuracy: 0.9524\n",
            "Epoch 19/30\n",
            "1382/1382 [==============================] - 22s 16ms/step - loss: 0.0196 - accuracy: 0.9943 - val_loss: 0.2155 - val_accuracy: 0.9514\n",
            "Epoch 20/30\n",
            "1382/1382 [==============================] - 22s 16ms/step - loss: 0.0197 - accuracy: 0.9943 - val_loss: 0.2123 - val_accuracy: 0.9514\n",
            "Epoch 21/30\n",
            "1382/1382 [==============================] - 22s 16ms/step - loss: 0.0191 - accuracy: 0.9946 - val_loss: 0.2186 - val_accuracy: 0.9520\n",
            "Epoch 22/30\n",
            "1382/1382 [==============================] - 22s 16ms/step - loss: 0.0186 - accuracy: 0.9947 - val_loss: 0.2147 - val_accuracy: 0.9513\n",
            "Epoch 23/30\n",
            "1382/1382 [==============================] - 22s 16ms/step - loss: 0.0185 - accuracy: 0.9946 - val_loss: 0.2157 - val_accuracy: 0.9523\n",
            "Epoch 24/30\n",
            "1382/1382 [==============================] - 22s 16ms/step - loss: 0.0178 - accuracy: 0.9949 - val_loss: 0.2172 - val_accuracy: 0.9513\n",
            "Epoch 25/30\n",
            "1382/1382 [==============================] - 22s 16ms/step - loss: 0.0179 - accuracy: 0.9948 - val_loss: 0.2149 - val_accuracy: 0.9519\n",
            "Epoch 26/30\n",
            "1382/1382 [==============================] - 22s 16ms/step - loss: 0.0180 - accuracy: 0.9947 - val_loss: 0.2150 - val_accuracy: 0.9520\n",
            "Epoch 27/30\n",
            "1382/1382 [==============================] - 22s 16ms/step - loss: 0.0172 - accuracy: 0.9948 - val_loss: 0.2178 - val_accuracy: 0.9517\n",
            "Epoch 28/30\n",
            "1382/1382 [==============================] - 22s 16ms/step - loss: 0.0171 - accuracy: 0.9950 - val_loss: 0.2171 - val_accuracy: 0.9525\n",
            "Epoch 29/30\n",
            "1382/1382 [==============================] - 22s 16ms/step - loss: 0.0168 - accuracy: 0.9950 - val_loss: 0.2160 - val_accuracy: 0.9524\n",
            "Epoch 30/30\n",
            "1382/1382 [==============================] - 22s 16ms/step - loss: 0.0163 - accuracy: 0.9952 - val_loss: 0.2193 - val_accuracy: 0.9527\n"
          ],
          "name": "stdout"
        },
        {
          "output_type": "display_data",
          "data": {
            "text/html": [
              "<br/>Waiting for W&B process to finish, PID 153<br/>Program ended successfully."
            ],
            "text/plain": [
              "<IPython.core.display.HTML object>"
            ]
          },
          "metadata": {
            "tags": []
          }
        },
        {
          "output_type": "display_data",
          "data": {
            "application/vnd.jupyter.widget-view+json": {
              "model_id": "8f13359244cc4ae283c4f59510b5c3b8",
              "version_major": 2,
              "version_minor": 0
            },
            "text/plain": [
              "VBox(children=(Label(value=' 51.59MB of 51.59MB uploaded (0.00MB deduped)\\r'), FloatProgress(value=1.0, max=1.…"
            ]
          },
          "metadata": {
            "tags": []
          }
        },
        {
          "output_type": "display_data",
          "data": {
            "text/html": [
              "Find user logs for this run at: <code>/root/.keras/datasets/dakshina_dataset_v1.0/hi/lexicons/wandb/run-20210430_065643-4ni70lb6/logs/debug.log</code>"
            ],
            "text/plain": [
              "<IPython.core.display.HTML object>"
            ]
          },
          "metadata": {
            "tags": []
          }
        },
        {
          "output_type": "display_data",
          "data": {
            "text/html": [
              "Find internal logs for this run at: <code>/root/.keras/datasets/dakshina_dataset_v1.0/hi/lexicons/wandb/run-20210430_065643-4ni70lb6/logs/debug-internal.log</code>"
            ],
            "text/plain": [
              "<IPython.core.display.HTML object>"
            ]
          },
          "metadata": {
            "tags": []
          }
        },
        {
          "output_type": "display_data",
          "data": {
            "text/html": [
              "<h3>Run summary:</h3><br/><style>\n",
              "    table.wandb td:nth-child(1) { padding: 0 10px; text-align: right }\n",
              "    </style><table class=\"wandb\">\n",
              "<tr><td>epoch</td><td>29</td></tr><tr><td>loss</td><td>0.01848</td></tr><tr><td>accuracy</td><td>0.99447</td></tr><tr><td>val_loss</td><td>0.21927</td></tr><tr><td>val_accuracy</td><td>0.95268</td></tr><tr><td>_runtime</td><td>707</td></tr><tr><td>_timestamp</td><td>1619766510</td></tr><tr><td>_step</td><td>29</td></tr><tr><td>best_val_loss</td><td>0.16159</td></tr><tr><td>best_epoch</td><td>4</td></tr></table>"
            ],
            "text/plain": [
              "<IPython.core.display.HTML object>"
            ]
          },
          "metadata": {
            "tags": []
          }
        },
        {
          "output_type": "display_data",
          "data": {
            "text/html": [
              "<h3>Run history:</h3><br/><style>\n",
              "    table.wandb td:nth-child(1) { padding: 0 10px; text-align: right }\n",
              "    </style><table class=\"wandb\">\n",
              "<tr><td>epoch</td><td>▁▁▁▂▂▂▂▃▃▃▃▄▄▄▄▅▅▅▅▆▆▆▆▇▇▇▇███</td></tr><tr><td>loss</td><td>█▄▂▂▂▁▁▁▁▁▁▁▁▁▁▁▁▁▁▁▁▁▁▁▁▁▁▁▁▁</td></tr><tr><td>accuracy</td><td>▁▄▆▇▇▇████████████████████████</td></tr><tr><td>val_loss</td><td>█▃▁▁▁▁▁▁▁▁▁▂▂▂▂▂▂▂▂▂▂▂▂▂▂▂▂▂▂▂</td></tr><tr><td>val_accuracy</td><td>▁▆▇███████████████████████████</td></tr><tr><td>_runtime</td><td>▁▁▁▂▂▂▂▃▃▃▃▄▄▄▄▅▅▅▅▆▆▆▆▇▇▇▇███</td></tr><tr><td>_timestamp</td><td>▁▁▁▂▂▂▂▃▃▃▃▄▄▄▄▅▅▅▅▆▆▆▆▇▇▇▇███</td></tr><tr><td>_step</td><td>▁▁▁▂▂▂▂▃▃▃▃▄▄▄▄▅▅▅▅▆▆▆▆▇▇▇▇███</td></tr></table><br/>"
            ],
            "text/plain": [
              "<IPython.core.display.HTML object>"
            ]
          },
          "metadata": {
            "tags": []
          }
        },
        {
          "output_type": "display_data",
          "data": {
            "text/html": [
              "Synced 5 W&B file(s), 1 media file(s), 0 artifact file(s) and 1 other file(s)"
            ],
            "text/plain": [
              "<IPython.core.display.HTML object>"
            ]
          },
          "metadata": {
            "tags": []
          }
        },
        {
          "output_type": "display_data",
          "data": {
            "text/html": [
              "\n",
              "                    <br/>Synced <strong style=\"color:#cdcd00\">unique-sweep-1</strong>: <a href=\"https://wandb.ai/anshikag_2210/Transliterator/runs/4ni70lb6\" target=\"_blank\">https://wandb.ai/anshikag_2210/Transliterator/runs/4ni70lb6</a><br/>\n",
              "                "
            ],
            "text/plain": [
              "<IPython.core.display.HTML object>"
            ]
          },
          "metadata": {
            "tags": []
          }
        },
        {
          "output_type": "stream",
          "text": [
            "\u001b[34m\u001b[1mwandb\u001b[0m: Agent Starting Run: nzamark8 with config:\n",
            "\u001b[34m\u001b[1mwandb\u001b[0m: \tbatch_size: 64\n",
            "\u001b[34m\u001b[1mwandb\u001b[0m: \tcell_type: lstm\n",
            "\u001b[34m\u001b[1mwandb\u001b[0m: \tdecoder_embed_size: 64\n",
            "\u001b[34m\u001b[1mwandb\u001b[0m: \tdropout: 0.05\n",
            "\u001b[34m\u001b[1mwandb\u001b[0m: \tencoder_embed_size: 64\n",
            "\u001b[34m\u001b[1mwandb\u001b[0m: \tepochs: 40\n",
            "\u001b[34m\u001b[1mwandb\u001b[0m: \thidden_layer_size: 128\n",
            "\u001b[34m\u001b[1mwandb\u001b[0m: \tnum_decoder_layers: 4\n",
            "\u001b[34m\u001b[1mwandb\u001b[0m: \tnum_encoder_layers: 2\n"
          ],
          "name": "stderr"
        },
        {
          "output_type": "display_data",
          "data": {
            "text/html": [
              "\n",
              "                Tracking run with wandb version 0.10.28<br/>\n",
              "                Syncing run <strong style=\"color:#cdcd00\">hardy-sweep-2</strong> to <a href=\"https://wandb.ai\" target=\"_blank\">Weights & Biases</a> <a href=\"https://docs.wandb.com/integrations/jupyter.html\" target=\"_blank\">(Documentation)</a>.<br/>\n",
              "                Project page: <a href=\"https://wandb.ai/anshikag_2210/Transliterator\" target=\"_blank\">https://wandb.ai/anshikag_2210/Transliterator</a><br/>\n",
              "                Sweep page: <a href=\"https://wandb.ai/anshikag_2210/Transliterator/sweeps/kewrjmtp\" target=\"_blank\">https://wandb.ai/anshikag_2210/Transliterator/sweeps/kewrjmtp</a><br/>\n",
              "Run page: <a href=\"https://wandb.ai/anshikag_2210/Transliterator/runs/nzamark8\" target=\"_blank\">https://wandb.ai/anshikag_2210/Transliterator/runs/nzamark8</a><br/>\n",
              "                Run data is saved locally in <code>/root/.keras/datasets/dakshina_dataset_v1.0/hi/lexicons/wandb/run-20210430_070836-nzamark8</code><br/><br/>\n",
              "            "
            ],
            "text/plain": [
              "<IPython.core.display.HTML object>"
            ]
          },
          "metadata": {
            "tags": []
          }
        },
        {
          "output_type": "stream",
          "text": [
            "Epoch 1/40\n",
            "691/691 [==============================] - 24s 23ms/step - loss: 1.3948 - accuracy: 0.6781 - val_loss: 0.9077 - val_accuracy: 0.7524\n",
            "Epoch 2/40\n",
            "691/691 [==============================] - 14s 20ms/step - loss: 0.9214 - accuracy: 0.7488 - val_loss: 0.7901 - val_accuracy: 0.7784\n",
            "Epoch 3/40\n",
            "691/691 [==============================] - 14s 21ms/step - loss: 0.7816 - accuracy: 0.7773 - val_loss: 0.6197 - val_accuracy: 0.8185\n",
            "Epoch 4/40\n",
            "691/691 [==============================] - 14s 20ms/step - loss: 0.6038 - accuracy: 0.8232 - val_loss: 0.4550 - val_accuracy: 0.8659\n",
            "Epoch 5/40\n",
            "691/691 [==============================] - 14s 20ms/step - loss: 0.4483 - accuracy: 0.8668 - val_loss: 0.3498 - val_accuracy: 0.8944\n",
            "Epoch 6/40\n",
            "691/691 [==============================] - 14s 20ms/step - loss: 0.3435 - accuracy: 0.8957 - val_loss: 0.2801 - val_accuracy: 0.9144\n",
            "Epoch 7/40\n",
            "691/691 [==============================] - 14s 21ms/step - loss: 0.2795 - accuracy: 0.9138 - val_loss: 0.2463 - val_accuracy: 0.9239\n",
            "Epoch 8/40\n",
            "691/691 [==============================] - 14s 20ms/step - loss: 0.2354 - accuracy: 0.9268 - val_loss: 0.2187 - val_accuracy: 0.9326\n",
            "Epoch 9/40\n",
            "691/691 [==============================] - 14s 20ms/step - loss: 0.2071 - accuracy: 0.9354 - val_loss: 0.2081 - val_accuracy: 0.9333\n",
            "Epoch 10/40\n",
            "691/691 [==============================] - 14s 20ms/step - loss: 0.1845 - accuracy: 0.9423 - val_loss: 0.1914 - val_accuracy: 0.9393\n",
            "Epoch 11/40\n",
            "691/691 [==============================] - 14s 20ms/step - loss: 0.1662 - accuracy: 0.9477 - val_loss: 0.1824 - val_accuracy: 0.9426\n",
            "Epoch 12/40\n",
            "691/691 [==============================] - 14s 21ms/step - loss: 0.1503 - accuracy: 0.9528 - val_loss: 0.1757 - val_accuracy: 0.9442\n",
            "Epoch 13/40\n",
            "691/691 [==============================] - 14s 21ms/step - loss: 0.1400 - accuracy: 0.9560 - val_loss: 0.1744 - val_accuracy: 0.9449\n",
            "Epoch 14/40\n",
            "691/691 [==============================] - 14s 20ms/step - loss: 0.1279 - accuracy: 0.9592 - val_loss: 0.1746 - val_accuracy: 0.9457\n",
            "Epoch 15/40\n",
            "691/691 [==============================] - 14s 20ms/step - loss: 0.1190 - accuracy: 0.9625 - val_loss: 0.1723 - val_accuracy: 0.9468\n",
            "Epoch 16/40\n",
            "691/691 [==============================] - 14s 20ms/step - loss: 0.1103 - accuracy: 0.9650 - val_loss: 0.1710 - val_accuracy: 0.9471\n",
            "Epoch 17/40\n",
            "691/691 [==============================] - 14s 21ms/step - loss: 0.1024 - accuracy: 0.9673 - val_loss: 0.1704 - val_accuracy: 0.9477\n",
            "Epoch 18/40\n",
            "691/691 [==============================] - 14s 21ms/step - loss: 0.0948 - accuracy: 0.9698 - val_loss: 0.1713 - val_accuracy: 0.9489\n",
            "Epoch 19/40\n",
            "691/691 [==============================] - 14s 20ms/step - loss: 0.0880 - accuracy: 0.9719 - val_loss: 0.1740 - val_accuracy: 0.9479\n",
            "Epoch 20/40\n",
            "691/691 [==============================] - 14s 20ms/step - loss: 0.0831 - accuracy: 0.9734 - val_loss: 0.1717 - val_accuracy: 0.9487\n",
            "Epoch 21/40\n",
            "691/691 [==============================] - 14s 20ms/step - loss: 0.0777 - accuracy: 0.9751 - val_loss: 0.1751 - val_accuracy: 0.9485\n",
            "Epoch 22/40\n",
            "691/691 [==============================] - 14s 20ms/step - loss: 0.0728 - accuracy: 0.9766 - val_loss: 0.1767 - val_accuracy: 0.9485\n",
            "Epoch 23/40\n",
            "691/691 [==============================] - 14s 20ms/step - loss: 0.0683 - accuracy: 0.9779 - val_loss: 0.1770 - val_accuracy: 0.9493\n",
            "Epoch 24/40\n",
            "691/691 [==============================] - 14s 20ms/step - loss: 0.0639 - accuracy: 0.9794 - val_loss: 0.1795 - val_accuracy: 0.9495\n",
            "Epoch 25/40\n",
            "691/691 [==============================] - 14s 20ms/step - loss: 0.0602 - accuracy: 0.9805 - val_loss: 0.1848 - val_accuracy: 0.9478\n",
            "Epoch 26/40\n",
            "691/691 [==============================] - 14s 20ms/step - loss: 0.0582 - accuracy: 0.9815 - val_loss: 0.1887 - val_accuracy: 0.9488\n",
            "Epoch 27/40\n",
            "691/691 [==============================] - 14s 20ms/step - loss: 0.0542 - accuracy: 0.9826 - val_loss: 0.1932 - val_accuracy: 0.9474\n",
            "Epoch 28/40\n",
            "691/691 [==============================] - 14s 21ms/step - loss: 0.0524 - accuracy: 0.9829 - val_loss: 0.1940 - val_accuracy: 0.9478\n",
            "Epoch 29/40\n",
            "691/691 [==============================] - 14s 21ms/step - loss: 0.0489 - accuracy: 0.9842 - val_loss: 0.1945 - val_accuracy: 0.9478\n",
            "Epoch 30/40\n",
            "691/691 [==============================] - 14s 21ms/step - loss: 0.0474 - accuracy: 0.9845 - val_loss: 0.1980 - val_accuracy: 0.9480\n",
            "Epoch 31/40\n",
            "691/691 [==============================] - 14s 20ms/step - loss: 0.0451 - accuracy: 0.9853 - val_loss: 0.2017 - val_accuracy: 0.9474\n",
            "Epoch 32/40\n",
            "691/691 [==============================] - 14s 20ms/step - loss: 0.0432 - accuracy: 0.9858 - val_loss: 0.2031 - val_accuracy: 0.9483\n",
            "Epoch 33/40\n",
            "691/691 [==============================] - 14s 20ms/step - loss: 0.0414 - accuracy: 0.9864 - val_loss: 0.2085 - val_accuracy: 0.9470\n",
            "Epoch 34/40\n",
            "691/691 [==============================] - 14s 21ms/step - loss: 0.0393 - accuracy: 0.9871 - val_loss: 0.2101 - val_accuracy: 0.9475\n",
            "Epoch 35/40\n",
            "691/691 [==============================] - 14s 20ms/step - loss: 0.0385 - accuracy: 0.9874 - val_loss: 0.2113 - val_accuracy: 0.9476\n",
            "Epoch 36/40\n",
            "691/691 [==============================] - 14s 20ms/step - loss: 0.0376 - accuracy: 0.9875 - val_loss: 0.2165 - val_accuracy: 0.9465\n",
            "Epoch 37/40\n",
            "691/691 [==============================] - 14s 21ms/step - loss: 0.0356 - accuracy: 0.9882 - val_loss: 0.2196 - val_accuracy: 0.9470\n",
            "Epoch 38/40\n",
            "691/691 [==============================] - 14s 21ms/step - loss: 0.0346 - accuracy: 0.9885 - val_loss: 0.2225 - val_accuracy: 0.9471\n",
            "Epoch 39/40\n",
            "691/691 [==============================] - 14s 20ms/step - loss: 0.0339 - accuracy: 0.9886 - val_loss: 0.2250 - val_accuracy: 0.9473\n",
            "Epoch 40/40\n",
            "691/691 [==============================] - 14s 20ms/step - loss: 0.0334 - accuracy: 0.9889 - val_loss: 0.2240 - val_accuracy: 0.9476\n"
          ],
          "name": "stdout"
        },
        {
          "output_type": "display_data",
          "data": {
            "text/html": [
              "<br/>Waiting for W&B process to finish, PID 402<br/>Program ended successfully."
            ],
            "text/plain": [
              "<IPython.core.display.HTML object>"
            ]
          },
          "metadata": {
            "tags": []
          }
        },
        {
          "output_type": "display_data",
          "data": {
            "application/vnd.jupyter.widget-view+json": {
              "model_id": "68a505b482434f7e82151b872b6f3819",
              "version_major": 2,
              "version_minor": 0
            },
            "text/plain": [
              "VBox(children=(Label(value=' 8.55MB of 8.55MB uploaded (0.00MB deduped)\\r'), FloatProgress(value=1.0, max=1.0)…"
            ]
          },
          "metadata": {
            "tags": []
          }
        },
        {
          "output_type": "display_data",
          "data": {
            "text/html": [
              "Find user logs for this run at: <code>/root/.keras/datasets/dakshina_dataset_v1.0/hi/lexicons/wandb/run-20210430_070836-nzamark8/logs/debug.log</code>"
            ],
            "text/plain": [
              "<IPython.core.display.HTML object>"
            ]
          },
          "metadata": {
            "tags": []
          }
        },
        {
          "output_type": "display_data",
          "data": {
            "text/html": [
              "Find internal logs for this run at: <code>/root/.keras/datasets/dakshina_dataset_v1.0/hi/lexicons/wandb/run-20210430_070836-nzamark8/logs/debug-internal.log</code>"
            ],
            "text/plain": [
              "<IPython.core.display.HTML object>"
            ]
          },
          "metadata": {
            "tags": []
          }
        },
        {
          "output_type": "display_data",
          "data": {
            "text/html": [
              "<h3>Run summary:</h3><br/><style>\n",
              "    table.wandb td:nth-child(1) { padding: 0 10px; text-align: right }\n",
              "    </style><table class=\"wandb\">\n",
              "<tr><td>epoch</td><td>39</td></tr><tr><td>loss</td><td>0.03526</td></tr><tr><td>accuracy</td><td>0.98815</td></tr><tr><td>val_loss</td><td>0.22397</td></tr><tr><td>val_accuracy</td><td>0.94756</td></tr><tr><td>_runtime</td><td>578</td></tr><tr><td>_timestamp</td><td>1619767094</td></tr><tr><td>_step</td><td>39</td></tr><tr><td>best_val_loss</td><td>0.17043</td></tr><tr><td>best_epoch</td><td>16</td></tr></table>"
            ],
            "text/plain": [
              "<IPython.core.display.HTML object>"
            ]
          },
          "metadata": {
            "tags": []
          }
        },
        {
          "output_type": "display_data",
          "data": {
            "text/html": [
              "<h3>Run history:</h3><br/><style>\n",
              "    table.wandb td:nth-child(1) { padding: 0 10px; text-align: right }\n",
              "    </style><table class=\"wandb\">\n",
              "<tr><td>epoch</td><td>▁▁▁▂▂▂▂▂▂▃▃▃▃▃▄▄▄▄▄▄▅▅▅▅▅▅▆▆▆▆▆▇▇▇▇▇▇███</td></tr><tr><td>loss</td><td>█▆▅▄▃▃▂▂▂▂▂▂▂▂▂▁▁▁▁▁▁▁▁▁▁▁▁▁▁▁▁▁▁▁▁▁▁▁▁▁</td></tr><tr><td>accuracy</td><td>▁▂▃▄▅▆▆▇▇▇▇▇▇▇▇▇▇███████████████████████</td></tr><tr><td>val_loss</td><td>█▇▅▄▃▂▂▁▁▁▁▁▁▁▁▁▁▁▁▁▁▁▁▁▁▁▁▁▁▁▁▁▁▁▁▁▁▁▂▂</td></tr><tr><td>val_accuracy</td><td>▁▂▃▅▆▇▇▇▇███████████████████████████████</td></tr><tr><td>_runtime</td><td>▁▁▁▂▂▂▂▂▂▃▃▃▃▃▄▄▄▄▄▄▅▅▅▅▅▅▆▆▆▆▆▇▇▇▇▇▇███</td></tr><tr><td>_timestamp</td><td>▁▁▁▂▂▂▂▂▂▃▃▃▃▃▄▄▄▄▄▄▅▅▅▅▅▅▆▆▆▆▆▇▇▇▇▇▇███</td></tr><tr><td>_step</td><td>▁▁▁▂▂▂▂▂▂▃▃▃▃▃▄▄▄▄▄▄▅▅▅▅▅▅▆▆▆▆▆▇▇▇▇▇▇███</td></tr></table><br/>"
            ],
            "text/plain": [
              "<IPython.core.display.HTML object>"
            ]
          },
          "metadata": {
            "tags": []
          }
        },
        {
          "output_type": "display_data",
          "data": {
            "text/html": [
              "Synced 5 W&B file(s), 1 media file(s), 0 artifact file(s) and 1 other file(s)"
            ],
            "text/plain": [
              "<IPython.core.display.HTML object>"
            ]
          },
          "metadata": {
            "tags": []
          }
        },
        {
          "output_type": "display_data",
          "data": {
            "text/html": [
              "\n",
              "                    <br/>Synced <strong style=\"color:#cdcd00\">hardy-sweep-2</strong>: <a href=\"https://wandb.ai/anshikag_2210/Transliterator/runs/nzamark8\" target=\"_blank\">https://wandb.ai/anshikag_2210/Transliterator/runs/nzamark8</a><br/>\n",
              "                "
            ],
            "text/plain": [
              "<IPython.core.display.HTML object>"
            ]
          },
          "metadata": {
            "tags": []
          }
        },
        {
          "output_type": "stream",
          "text": [
            "\u001b[34m\u001b[1mwandb\u001b[0m: Agent Starting Run: d1qkyz6e with config:\n",
            "\u001b[34m\u001b[1mwandb\u001b[0m: \tbatch_size: 64\n",
            "\u001b[34m\u001b[1mwandb\u001b[0m: \tcell_type: rnn\n",
            "\u001b[34m\u001b[1mwandb\u001b[0m: \tdecoder_embed_size: 64\n",
            "\u001b[34m\u001b[1mwandb\u001b[0m: \tdropout: 0.1\n",
            "\u001b[34m\u001b[1mwandb\u001b[0m: \tencoder_embed_size: 27\n",
            "\u001b[34m\u001b[1mwandb\u001b[0m: \tepochs: 40\n",
            "\u001b[34m\u001b[1mwandb\u001b[0m: \thidden_layer_size: 256\n",
            "\u001b[34m\u001b[1mwandb\u001b[0m: \tnum_decoder_layers: 4\n",
            "\u001b[34m\u001b[1mwandb\u001b[0m: \tnum_encoder_layers: 3\n"
          ],
          "name": "stderr"
        },
        {
          "output_type": "display_data",
          "data": {
            "text/html": [
              "\n",
              "                Tracking run with wandb version 0.10.28<br/>\n",
              "                Syncing run <strong style=\"color:#cdcd00\">treasured-sweep-3</strong> to <a href=\"https://wandb.ai\" target=\"_blank\">Weights & Biases</a> <a href=\"https://docs.wandb.com/integrations/jupyter.html\" target=\"_blank\">(Documentation)</a>.<br/>\n",
              "                Project page: <a href=\"https://wandb.ai/anshikag_2210/Transliterator\" target=\"_blank\">https://wandb.ai/anshikag_2210/Transliterator</a><br/>\n",
              "                Sweep page: <a href=\"https://wandb.ai/anshikag_2210/Transliterator/sweeps/kewrjmtp\" target=\"_blank\">https://wandb.ai/anshikag_2210/Transliterator/sweeps/kewrjmtp</a><br/>\n",
              "Run page: <a href=\"https://wandb.ai/anshikag_2210/Transliterator/runs/d1qkyz6e\" target=\"_blank\">https://wandb.ai/anshikag_2210/Transliterator/runs/d1qkyz6e</a><br/>\n",
              "                Run data is saved locally in <code>/root/.keras/datasets/dakshina_dataset_v1.0/hi/lexicons/wandb/run-20210430_071822-d1qkyz6e</code><br/><br/>\n",
              "            "
            ],
            "text/plain": [
              "<IPython.core.display.HTML object>"
            ]
          },
          "metadata": {
            "tags": []
          }
        },
        {
          "output_type": "stream",
          "text": [
            "Epoch 1/40\n",
            "691/691 [==============================] - 115s 160ms/step - loss: 1.1617 - accuracy: 0.7127 - val_loss: 0.6524 - val_accuracy: 0.8171\n",
            "Epoch 2/40\n",
            "691/691 [==============================] - 108s 157ms/step - loss: 0.6599 - accuracy: 0.8143 - val_loss: 0.5364 - val_accuracy: 0.8465\n",
            "Epoch 3/40\n",
            "691/691 [==============================] - 111s 161ms/step - loss: 0.5410 - accuracy: 0.8426 - val_loss: 0.4422 - val_accuracy: 0.8696\n",
            "Epoch 4/40\n",
            "691/691 [==============================] - 114s 165ms/step - loss: 0.4717 - accuracy: 0.8595 - val_loss: 0.4162 - val_accuracy: 0.8756\n",
            "Epoch 5/40\n",
            "691/691 [==============================] - 113s 164ms/step - loss: 0.4328 - accuracy: 0.8704 - val_loss: 0.3963 - val_accuracy: 0.8822\n",
            "Epoch 6/40\n",
            "691/691 [==============================] - 114s 165ms/step - loss: 0.4071 - accuracy: 0.8762 - val_loss: 0.3699 - val_accuracy: 0.8894\n",
            "Epoch 7/40\n",
            "691/691 [==============================] - 115s 167ms/step - loss: 0.3895 - accuracy: 0.8811 - val_loss: 0.3541 - val_accuracy: 0.8933\n",
            "Epoch 8/40\n",
            "691/691 [==============================] - 114s 165ms/step - loss: 0.3730 - accuracy: 0.8859 - val_loss: 0.3448 - val_accuracy: 0.8952\n",
            "Epoch 9/40\n",
            "691/691 [==============================] - 114s 165ms/step - loss: 0.3606 - accuracy: 0.8894 - val_loss: 0.3413 - val_accuracy: 0.8963\n",
            "Epoch 10/40\n",
            "691/691 [==============================] - 116s 168ms/step - loss: 0.3535 - accuracy: 0.8913 - val_loss: 0.3390 - val_accuracy: 0.8966\n",
            "Epoch 11/40\n",
            "691/691 [==============================] - 111s 160ms/step - loss: 0.3447 - accuracy: 0.8933 - val_loss: 0.3386 - val_accuracy: 0.8975\n",
            "Epoch 12/40\n",
            "691/691 [==============================] - 115s 166ms/step - loss: 0.3408 - accuracy: 0.8943 - val_loss: 0.3248 - val_accuracy: 0.9010\n",
            "Epoch 13/40\n",
            "691/691 [==============================] - 115s 166ms/step - loss: 0.3312 - accuracy: 0.8973 - val_loss: 0.3287 - val_accuracy: 0.8993\n",
            "Epoch 14/40\n",
            "691/691 [==============================] - 115s 167ms/step - loss: 0.3272 - accuracy: 0.8987 - val_loss: 0.3239 - val_accuracy: 0.9023\n",
            "Epoch 15/40\n",
            "691/691 [==============================] - 114s 165ms/step - loss: 0.3251 - accuracy: 0.8989 - val_loss: 0.3353 - val_accuracy: 0.8977\n",
            "Epoch 16/40\n",
            "691/691 [==============================] - 114s 165ms/step - loss: 0.3241 - accuracy: 0.8994 - val_loss: 0.3135 - val_accuracy: 0.9038\n",
            "Epoch 17/40\n",
            "691/691 [==============================] - 115s 166ms/step - loss: 0.3173 - accuracy: 0.9013 - val_loss: 0.3382 - val_accuracy: 0.8962\n",
            "Epoch 18/40\n",
            "691/691 [==============================] - 114s 166ms/step - loss: 0.3173 - accuracy: 0.9010 - val_loss: 0.3258 - val_accuracy: 0.9010\n",
            "Epoch 19/40\n",
            "691/691 [==============================] - 108s 157ms/step - loss: 0.3263 - accuracy: 0.8988 - val_loss: 0.3183 - val_accuracy: 0.9036\n",
            "Epoch 20/40\n",
            "691/691 [==============================] - 113s 164ms/step - loss: 0.3158 - accuracy: 0.9019 - val_loss: 0.3097 - val_accuracy: 0.9047\n",
            "Epoch 21/40\n",
            "691/691 [==============================] - 111s 160ms/step - loss: 0.3111 - accuracy: 0.9037 - val_loss: 0.3226 - val_accuracy: 0.9017\n",
            "Epoch 22/40\n",
            "691/691 [==============================] - 110s 158ms/step - loss: 0.3222 - accuracy: 0.9000 - val_loss: 0.3239 - val_accuracy: 0.9026\n",
            "Epoch 23/40\n",
            "691/691 [==============================] - 110s 160ms/step - loss: 0.3258 - accuracy: 0.8991 - val_loss: 0.3436 - val_accuracy: 0.8964\n",
            "Epoch 24/40\n",
            "691/691 [==============================] - 113s 164ms/step - loss: 0.3257 - accuracy: 0.8995 - val_loss: 0.4134 - val_accuracy: 0.8784\n",
            "Epoch 25/40\n",
            "691/691 [==============================] - 110s 160ms/step - loss: 0.3595 - accuracy: 0.8902 - val_loss: 0.3309 - val_accuracy: 0.8997\n",
            "Epoch 26/40\n",
            "691/691 [==============================] - 110s 160ms/step - loss: 0.3441 - accuracy: 0.8944 - val_loss: 0.3598 - val_accuracy: 0.8920\n",
            "Epoch 27/40\n",
            "691/691 [==============================] - 111s 161ms/step - loss: 0.3577 - accuracy: 0.8903 - val_loss: 0.3289 - val_accuracy: 0.8986\n",
            "Epoch 28/40\n",
            "691/691 [==============================] - 107s 155ms/step - loss: 0.3676 - accuracy: 0.8871 - val_loss: 0.4218 - val_accuracy: 0.8778\n",
            "Epoch 29/40\n",
            "691/691 [==============================] - 111s 161ms/step - loss: 0.3973 - accuracy: 0.8791 - val_loss: 0.3924 - val_accuracy: 0.8811\n",
            "Epoch 30/40\n",
            "691/691 [==============================] - 111s 161ms/step - loss: 0.3656 - accuracy: 0.8871 - val_loss: 0.3643 - val_accuracy: 0.8889\n",
            "Epoch 31/40\n",
            "691/691 [==============================] - 111s 160ms/step - loss: 0.4492 - accuracy: 0.8657 - val_loss: 0.4374 - val_accuracy: 0.8680\n",
            "Epoch 32/40\n",
            "691/691 [==============================] - 111s 160ms/step - loss: 0.4426 - accuracy: 0.8665 - val_loss: 0.4094 - val_accuracy: 0.8761\n",
            "Epoch 33/40\n",
            "691/691 [==============================] - 110s 159ms/step - loss: 0.4037 - accuracy: 0.8764 - val_loss: 0.4223 - val_accuracy: 0.8734\n",
            "Epoch 34/40\n",
            "691/691 [==============================] - 110s 159ms/step - loss: 0.4744 - accuracy: 0.8585 - val_loss: 0.5642 - val_accuracy: 0.8359\n",
            "Epoch 35/40\n",
            "691/691 [==============================] - 110s 159ms/step - loss: 0.5373 - accuracy: 0.8400 - val_loss: 0.5791 - val_accuracy: 0.8335\n",
            "Epoch 36/40\n",
            "691/691 [==============================] - 107s 155ms/step - loss: 0.5816 - accuracy: 0.8299 - val_loss: 0.5970 - val_accuracy: 0.8290\n",
            "Epoch 37/40\n",
            "691/691 [==============================] - 109s 157ms/step - loss: 0.6054 - accuracy: 0.8232 - val_loss: 0.6410 - val_accuracy: 0.8159\n",
            "Epoch 38/40\n",
            "691/691 [==============================] - 110s 159ms/step - loss: 0.6661 - accuracy: 0.8075 - val_loss: 0.6106 - val_accuracy: 0.8238\n",
            "Epoch 39/40\n",
            "691/691 [==============================] - 110s 159ms/step - loss: 0.6346 - accuracy: 0.8153 - val_loss: 0.6424 - val_accuracy: 0.8156\n",
            "Epoch 40/40\n",
            "691/691 [==============================] - 109s 157ms/step - loss: 0.6534 - accuracy: 0.8106 - val_loss: 0.6534 - val_accuracy: 0.8131\n"
          ],
          "name": "stdout"
        },
        {
          "output_type": "display_data",
          "data": {
            "text/html": [
              "<br/>Waiting for W&B process to finish, PID 655<br/>Program ended successfully."
            ],
            "text/plain": [
              "<IPython.core.display.HTML object>"
            ]
          },
          "metadata": {
            "tags": []
          }
        },
        {
          "output_type": "display_data",
          "data": {
            "application/vnd.jupyter.widget-view+json": {
              "model_id": "e429affd111c47718cff5b0a93176c92",
              "version_major": 2,
              "version_minor": 0
            },
            "text/plain": [
              "VBox(children=(Label(value=' 9.66MB of 9.66MB uploaded (0.00MB deduped)\\r'), FloatProgress(value=1.0, max=1.0)…"
            ]
          },
          "metadata": {
            "tags": []
          }
        },
        {
          "output_type": "display_data",
          "data": {
            "text/html": [
              "Find user logs for this run at: <code>/root/.keras/datasets/dakshina_dataset_v1.0/hi/lexicons/wandb/run-20210430_071822-d1qkyz6e/logs/debug.log</code>"
            ],
            "text/plain": [
              "<IPython.core.display.HTML object>"
            ]
          },
          "metadata": {
            "tags": []
          }
        },
        {
          "output_type": "display_data",
          "data": {
            "text/html": [
              "Find internal logs for this run at: <code>/root/.keras/datasets/dakshina_dataset_v1.0/hi/lexicons/wandb/run-20210430_071822-d1qkyz6e/logs/debug-internal.log</code>"
            ],
            "text/plain": [
              "<IPython.core.display.HTML object>"
            ]
          },
          "metadata": {
            "tags": []
          }
        },
        {
          "output_type": "display_data",
          "data": {
            "text/html": [
              "<h3>Run summary:</h3><br/><style>\n",
              "    table.wandb td:nth-child(1) { padding: 0 10px; text-align: right }\n",
              "    </style><table class=\"wandb\">\n",
              "<tr><td>epoch</td><td>39</td></tr><tr><td>loss</td><td>0.66517</td></tr><tr><td>accuracy</td><td>0.80767</td></tr><tr><td>val_loss</td><td>0.65345</td></tr><tr><td>val_accuracy</td><td>0.81306</td></tr><tr><td>_runtime</td><td>4471</td></tr><tr><td>_timestamp</td><td>1619771574</td></tr><tr><td>_step</td><td>39</td></tr><tr><td>best_val_loss</td><td>0.30969</td></tr><tr><td>best_epoch</td><td>19</td></tr></table>"
            ],
            "text/plain": [
              "<IPython.core.display.HTML object>"
            ]
          },
          "metadata": {
            "tags": []
          }
        },
        {
          "output_type": "display_data",
          "data": {
            "text/html": [
              "<h3>Run history:</h3><br/><style>\n",
              "    table.wandb td:nth-child(1) { padding: 0 10px; text-align: right }\n",
              "    </style><table class=\"wandb\">\n",
              "<tr><td>epoch</td><td>▁▁▁▂▂▂▂▂▂▃▃▃▃▃▄▄▄▄▄▄▅▅▅▅▅▅▆▆▆▆▆▇▇▇▇▇▇███</td></tr><tr><td>loss</td><td>█▅▃▃▂▂▂▂▂▁▁▁▁▁▁▁▁▁▁▁▁▁▁▁▁▁▁▂▂▂▃▂▂▃▄▄▅▅▅▅</td></tr><tr><td>accuracy</td><td>▁▄▅▆▆▇▇▇▇▇████████████████▇▇▇▇▆▆▆▅▄▄▄▄▄▃</td></tr><tr><td>val_loss</td><td>█▆▄▃▃▂▂▂▂▂▂▁▁▁▂▁▂▁▁▁▁▁▂▃▁▂▁▃▃▂▄▃▃▆▆▇█▇██</td></tr><tr><td>val_accuracy</td><td>▁▄▅▆▆▇▇▇▇▇▇███▇█▇█████▇▆█▇█▆▆▇▅▆▆▃▃▂▁▂▁▁</td></tr><tr><td>_runtime</td><td>▁▁▁▂▂▂▂▂▂▃▃▃▃▃▄▄▄▄▄▄▅▅▅▅▅▆▆▆▆▆▆▇▇▇▇▇▇███</td></tr><tr><td>_timestamp</td><td>▁▁▁▂▂▂▂▂▂▃▃▃▃▃▄▄▄▄▄▄▅▅▅▅▅▆▆▆▆▆▆▇▇▇▇▇▇███</td></tr><tr><td>_step</td><td>▁▁▁▂▂▂▂▂▂▃▃▃▃▃▄▄▄▄▄▄▅▅▅▅▅▅▆▆▆▆▆▇▇▇▇▇▇███</td></tr></table><br/>"
            ],
            "text/plain": [
              "<IPython.core.display.HTML object>"
            ]
          },
          "metadata": {
            "tags": []
          }
        },
        {
          "output_type": "display_data",
          "data": {
            "text/html": [
              "Synced 5 W&B file(s), 1 media file(s), 0 artifact file(s) and 1 other file(s)"
            ],
            "text/plain": [
              "<IPython.core.display.HTML object>"
            ]
          },
          "metadata": {
            "tags": []
          }
        },
        {
          "output_type": "display_data",
          "data": {
            "text/html": [
              "\n",
              "                    <br/>Synced <strong style=\"color:#cdcd00\">treasured-sweep-3</strong>: <a href=\"https://wandb.ai/anshikag_2210/Transliterator/runs/d1qkyz6e\" target=\"_blank\">https://wandb.ai/anshikag_2210/Transliterator/runs/d1qkyz6e</a><br/>\n",
              "                "
            ],
            "text/plain": [
              "<IPython.core.display.HTML object>"
            ]
          },
          "metadata": {
            "tags": []
          }
        },
        {
          "output_type": "stream",
          "text": [
            "\u001b[34m\u001b[1mwandb\u001b[0m: Agent Starting Run: f1f74myq with config:\n",
            "\u001b[34m\u001b[1mwandb\u001b[0m: \tbatch_size: 128\n",
            "\u001b[34m\u001b[1mwandb\u001b[0m: \tcell_type: lstm\n",
            "\u001b[34m\u001b[1mwandb\u001b[0m: \tdecoder_embed_size: 27\n",
            "\u001b[34m\u001b[1mwandb\u001b[0m: \tdropout: 0.1\n",
            "\u001b[34m\u001b[1mwandb\u001b[0m: \tencoder_embed_size: 27\n",
            "\u001b[34m\u001b[1mwandb\u001b[0m: \tepochs: 30\n",
            "\u001b[34m\u001b[1mwandb\u001b[0m: \thidden_layer_size: 128\n",
            "\u001b[34m\u001b[1mwandb\u001b[0m: \tnum_decoder_layers: 2\n",
            "\u001b[34m\u001b[1mwandb\u001b[0m: \tnum_encoder_layers: 4\n"
          ],
          "name": "stderr"
        },
        {
          "output_type": "display_data",
          "data": {
            "text/html": [
              "\n",
              "                Tracking run with wandb version 0.10.28<br/>\n",
              "                Syncing run <strong style=\"color:#cdcd00\">trim-sweep-4</strong> to <a href=\"https://wandb.ai\" target=\"_blank\">Weights & Biases</a> <a href=\"https://docs.wandb.com/integrations/jupyter.html\" target=\"_blank\">(Documentation)</a>.<br/>\n",
              "                Project page: <a href=\"https://wandb.ai/anshikag_2210/Transliterator\" target=\"_blank\">https://wandb.ai/anshikag_2210/Transliterator</a><br/>\n",
              "                Sweep page: <a href=\"https://wandb.ai/anshikag_2210/Transliterator/sweeps/kewrjmtp\" target=\"_blank\">https://wandb.ai/anshikag_2210/Transliterator/sweeps/kewrjmtp</a><br/>\n",
              "Run page: <a href=\"https://wandb.ai/anshikag_2210/Transliterator/runs/f1f74myq\" target=\"_blank\">https://wandb.ai/anshikag_2210/Transliterator/runs/f1f74myq</a><br/>\n",
              "                Run data is saved locally in <code>/root/.keras/datasets/dakshina_dataset_v1.0/hi/lexicons/wandb/run-20210430_083302-f1f74myq</code><br/><br/>\n",
              "            "
            ],
            "text/plain": [
              "<IPython.core.display.HTML object>"
            ]
          },
          "metadata": {
            "tags": []
          }
        },
        {
          "output_type": "stream",
          "text": [
            "Epoch 1/30\n",
            "346/346 [==============================] - 17s 28ms/step - loss: 1.5774 - accuracy: 0.6686 - val_loss: 1.0131 - val_accuracy: 0.7381\n",
            "Epoch 2/30\n",
            "346/346 [==============================] - 8s 22ms/step - loss: 1.0233 - accuracy: 0.7278 - val_loss: 0.9496 - val_accuracy: 0.7418\n",
            "Epoch 3/30\n",
            "346/346 [==============================] - 8s 22ms/step - loss: 0.9730 - accuracy: 0.7337 - val_loss: 0.8831 - val_accuracy: 0.7547\n",
            "Epoch 4/30\n",
            "346/346 [==============================] - 7s 22ms/step - loss: 0.9111 - accuracy: 0.7487 - val_loss: 0.8574 - val_accuracy: 0.7608\n",
            "Epoch 5/30\n",
            "346/346 [==============================] - 7s 22ms/step - loss: 0.8902 - accuracy: 0.7539 - val_loss: 0.8437 - val_accuracy: 0.7644\n",
            "Epoch 6/30\n",
            "346/346 [==============================] - 8s 22ms/step - loss: 0.8696 - accuracy: 0.7582 - val_loss: 0.7983 - val_accuracy: 0.7749\n",
            "Epoch 7/30\n",
            "346/346 [==============================] - 7s 21ms/step - loss: 0.8140 - accuracy: 0.7709 - val_loss: 0.7471 - val_accuracy: 0.7852\n",
            "Epoch 8/30\n",
            "346/346 [==============================] - 7s 22ms/step - loss: 0.7677 - accuracy: 0.7815 - val_loss: 0.7000 - val_accuracy: 0.7996\n",
            "Epoch 9/30\n",
            "346/346 [==============================] - 7s 21ms/step - loss: 0.7266 - accuracy: 0.7907 - val_loss: 0.6670 - val_accuracy: 0.8049\n",
            "Epoch 10/30\n",
            "346/346 [==============================] - 7s 20ms/step - loss: 0.6913 - accuracy: 0.7979 - val_loss: 0.6387 - val_accuracy: 0.8132\n",
            "Epoch 11/30\n",
            "346/346 [==============================] - 7s 20ms/step - loss: 0.6566 - accuracy: 0.8056 - val_loss: 0.6029 - val_accuracy: 0.8210\n",
            "Epoch 12/30\n",
            "346/346 [==============================] - 7s 21ms/step - loss: 0.6287 - accuracy: 0.8129 - val_loss: 0.5763 - val_accuracy: 0.8279\n",
            "Epoch 13/30\n",
            "346/346 [==============================] - 8s 22ms/step - loss: 0.5972 - accuracy: 0.8213 - val_loss: 0.5558 - val_accuracy: 0.8295\n",
            "Epoch 14/30\n",
            "346/346 [==============================] - 7s 21ms/step - loss: 0.5693 - accuracy: 0.8281 - val_loss: 0.5204 - val_accuracy: 0.8424\n",
            "Epoch 15/30\n",
            "346/346 [==============================] - 7s 22ms/step - loss: 0.5445 - accuracy: 0.8349 - val_loss: 0.4997 - val_accuracy: 0.8486\n",
            "Epoch 16/30\n",
            "346/346 [==============================] - 7s 21ms/step - loss: 0.5211 - accuracy: 0.8424 - val_loss: 0.4844 - val_accuracy: 0.8526\n",
            "Epoch 17/30\n",
            "346/346 [==============================] - 7s 21ms/step - loss: 0.4960 - accuracy: 0.8495 - val_loss: 0.4617 - val_accuracy: 0.8602\n",
            "Epoch 18/30\n",
            "346/346 [==============================] - 7s 21ms/step - loss: 0.4745 - accuracy: 0.8560 - val_loss: 0.4467 - val_accuracy: 0.8639\n",
            "Epoch 19/30\n",
            "346/346 [==============================] - 8s 22ms/step - loss: 0.4574 - accuracy: 0.8611 - val_loss: 0.4268 - val_accuracy: 0.8710\n",
            "Epoch 20/30\n",
            "346/346 [==============================] - 7s 21ms/step - loss: 0.4360 - accuracy: 0.8676 - val_loss: 0.4137 - val_accuracy: 0.8748\n",
            "Epoch 21/30\n",
            "346/346 [==============================] - 8s 22ms/step - loss: 0.4172 - accuracy: 0.8730 - val_loss: 0.4008 - val_accuracy: 0.8787\n",
            "Epoch 22/30\n",
            "346/346 [==============================] - 7s 22ms/step - loss: 0.4000 - accuracy: 0.8779 - val_loss: 0.3807 - val_accuracy: 0.8850\n",
            "Epoch 23/30\n",
            "346/346 [==============================] - 7s 22ms/step - loss: 0.3825 - accuracy: 0.8829 - val_loss: 0.3721 - val_accuracy: 0.8876\n",
            "Epoch 24/30\n",
            "346/346 [==============================] - 7s 22ms/step - loss: 0.3678 - accuracy: 0.8878 - val_loss: 0.3571 - val_accuracy: 0.8909\n",
            "Epoch 25/30\n",
            "346/346 [==============================] - 7s 21ms/step - loss: 0.3511 - accuracy: 0.8921 - val_loss: 0.3444 - val_accuracy: 0.8952\n",
            "Epoch 26/30\n",
            "346/346 [==============================] - 7s 21ms/step - loss: 0.3353 - accuracy: 0.8969 - val_loss: 0.3343 - val_accuracy: 0.8979\n",
            "Epoch 27/30\n",
            "346/346 [==============================] - 7s 21ms/step - loss: 0.3231 - accuracy: 0.9009 - val_loss: 0.3214 - val_accuracy: 0.9028\n",
            "Epoch 28/30\n",
            "346/346 [==============================] - 8s 22ms/step - loss: 0.3063 - accuracy: 0.9054 - val_loss: 0.3142 - val_accuracy: 0.9042\n",
            "Epoch 29/30\n",
            "346/346 [==============================] - 8s 22ms/step - loss: 0.2930 - accuracy: 0.9093 - val_loss: 0.3033 - val_accuracy: 0.9076\n",
            "Epoch 30/30\n",
            "346/346 [==============================] - 7s 21ms/step - loss: 0.2800 - accuracy: 0.9134 - val_loss: 0.2924 - val_accuracy: 0.9108\n"
          ],
          "name": "stdout"
        },
        {
          "output_type": "display_data",
          "data": {
            "text/html": [
              "<br/>Waiting for W&B process to finish, PID 1176<br/>Program ended successfully."
            ],
            "text/plain": [
              "<IPython.core.display.HTML object>"
            ]
          },
          "metadata": {
            "tags": []
          }
        },
        {
          "output_type": "display_data",
          "data": {
            "application/vnd.jupyter.widget-view+json": {
              "model_id": "62f146cb0ec049fdbd5ba5585d60218a",
              "version_major": 2,
              "version_minor": 0
            },
            "text/plain": [
              "VBox(children=(Label(value=' 8.08MB of 8.08MB uploaded (0.00MB deduped)\\r'), FloatProgress(value=1.0, max=1.0)…"
            ]
          },
          "metadata": {
            "tags": []
          }
        },
        {
          "output_type": "display_data",
          "data": {
            "text/html": [
              "Find user logs for this run at: <code>/root/.keras/datasets/dakshina_dataset_v1.0/hi/lexicons/wandb/run-20210430_083302-f1f74myq/logs/debug.log</code>"
            ],
            "text/plain": [
              "<IPython.core.display.HTML object>"
            ]
          },
          "metadata": {
            "tags": []
          }
        },
        {
          "output_type": "display_data",
          "data": {
            "text/html": [
              "Find internal logs for this run at: <code>/root/.keras/datasets/dakshina_dataset_v1.0/hi/lexicons/wandb/run-20210430_083302-f1f74myq/logs/debug-internal.log</code>"
            ],
            "text/plain": [
              "<IPython.core.display.HTML object>"
            ]
          },
          "metadata": {
            "tags": []
          }
        },
        {
          "output_type": "display_data",
          "data": {
            "text/html": [
              "<h3>Run summary:</h3><br/><style>\n",
              "    table.wandb td:nth-child(1) { padding: 0 10px; text-align: right }\n",
              "    </style><table class=\"wandb\">\n",
              "<tr><td>epoch</td><td>29</td></tr><tr><td>loss</td><td>0.27825</td></tr><tr><td>accuracy</td><td>0.91379</td></tr><tr><td>val_loss</td><td>0.29242</td></tr><tr><td>val_accuracy</td><td>0.91084</td></tr><tr><td>_runtime</td><td>239</td></tr><tr><td>_timestamp</td><td>1619771821</td></tr><tr><td>_step</td><td>29</td></tr><tr><td>best_val_loss</td><td>0.29242</td></tr><tr><td>best_epoch</td><td>29</td></tr></table>"
            ],
            "text/plain": [
              "<IPython.core.display.HTML object>"
            ]
          },
          "metadata": {
            "tags": []
          }
        },
        {
          "output_type": "display_data",
          "data": {
            "text/html": [
              "<h3>Run history:</h3><br/><style>\n",
              "    table.wandb td:nth-child(1) { padding: 0 10px; text-align: right }\n",
              "    </style><table class=\"wandb\">\n",
              "<tr><td>epoch</td><td>▁▁▁▂▂▂▂▃▃▃▃▄▄▄▄▅▅▅▅▆▆▆▆▇▇▇▇███</td></tr><tr><td>loss</td><td>█▆▆▅▅▅▅▄▄▄▄▃▃▃▃▃▃▂▂▂▂▂▂▂▂▁▁▁▁▁</td></tr><tr><td>accuracy</td><td>▁▂▂▃▃▃▃▄▄▄▅▅▅▅▆▆▆▆▆▇▇▇▇▇▇▇████</td></tr><tr><td>val_loss</td><td>█▇▇▆▆▆▅▅▅▄▄▄▄▃▃▃▃▂▂▂▂▂▂▂▂▁▁▁▁▁</td></tr><tr><td>val_accuracy</td><td>▁▁▂▂▂▂▃▃▄▄▄▅▅▅▅▆▆▆▆▇▇▇▇▇▇▇████</td></tr><tr><td>_runtime</td><td>▁▁▁▂▂▂▂▃▃▃▃▄▄▄▄▅▅▅▅▆▆▆▆▇▇▇▇███</td></tr><tr><td>_timestamp</td><td>▁▁▁▂▂▂▂▃▃▃▃▄▄▄▄▅▅▅▅▆▆▆▆▇▇▇▇███</td></tr><tr><td>_step</td><td>▁▁▁▂▂▂▂▃▃▃▃▄▄▄▄▅▅▅▅▆▆▆▆▇▇▇▇███</td></tr></table><br/>"
            ],
            "text/plain": [
              "<IPython.core.display.HTML object>"
            ]
          },
          "metadata": {
            "tags": []
          }
        },
        {
          "output_type": "display_data",
          "data": {
            "text/html": [
              "Synced 5 W&B file(s), 1 media file(s), 0 artifact file(s) and 1 other file(s)"
            ],
            "text/plain": [
              "<IPython.core.display.HTML object>"
            ]
          },
          "metadata": {
            "tags": []
          }
        },
        {
          "output_type": "display_data",
          "data": {
            "text/html": [
              "\n",
              "                    <br/>Synced <strong style=\"color:#cdcd00\">trim-sweep-4</strong>: <a href=\"https://wandb.ai/anshikag_2210/Transliterator/runs/f1f74myq\" target=\"_blank\">https://wandb.ai/anshikag_2210/Transliterator/runs/f1f74myq</a><br/>\n",
              "                "
            ],
            "text/plain": [
              "<IPython.core.display.HTML object>"
            ]
          },
          "metadata": {
            "tags": []
          }
        },
        {
          "output_type": "stream",
          "text": [
            "\u001b[34m\u001b[1mwandb\u001b[0m: Agent Starting Run: cvutnqzx with config:\n",
            "\u001b[34m\u001b[1mwandb\u001b[0m: \tbatch_size: 128\n",
            "\u001b[34m\u001b[1mwandb\u001b[0m: \tcell_type: rnn\n",
            "\u001b[34m\u001b[1mwandb\u001b[0m: \tdecoder_embed_size: 64\n",
            "\u001b[34m\u001b[1mwandb\u001b[0m: \tdropout: 0\n",
            "\u001b[34m\u001b[1mwandb\u001b[0m: \tencoder_embed_size: 64\n",
            "\u001b[34m\u001b[1mwandb\u001b[0m: \tepochs: 30\n",
            "\u001b[34m\u001b[1mwandb\u001b[0m: \thidden_layer_size: 512\n",
            "\u001b[34m\u001b[1mwandb\u001b[0m: \tnum_decoder_layers: 2\n",
            "\u001b[34m\u001b[1mwandb\u001b[0m: \tnum_encoder_layers: 3\n"
          ],
          "name": "stderr"
        },
        {
          "output_type": "display_data",
          "data": {
            "text/html": [
              "\n",
              "                Tracking run with wandb version 0.10.28<br/>\n",
              "                Syncing run <strong style=\"color:#cdcd00\">visionary-sweep-5</strong> to <a href=\"https://wandb.ai\" target=\"_blank\">Weights & Biases</a> <a href=\"https://docs.wandb.com/integrations/jupyter.html\" target=\"_blank\">(Documentation)</a>.<br/>\n",
              "                Project page: <a href=\"https://wandb.ai/anshikag_2210/Transliterator\" target=\"_blank\">https://wandb.ai/anshikag_2210/Transliterator</a><br/>\n",
              "                Sweep page: <a href=\"https://wandb.ai/anshikag_2210/Transliterator/sweeps/kewrjmtp\" target=\"_blank\">https://wandb.ai/anshikag_2210/Transliterator/sweeps/kewrjmtp</a><br/>\n",
              "Run page: <a href=\"https://wandb.ai/anshikag_2210/Transliterator/runs/cvutnqzx\" target=\"_blank\">https://wandb.ai/anshikag_2210/Transliterator/runs/cvutnqzx</a><br/>\n",
              "                Run data is saved locally in <code>/root/.keras/datasets/dakshina_dataset_v1.0/hi/lexicons/wandb/run-20210430_083709-cvutnqzx</code><br/><br/>\n",
              "            "
            ],
            "text/plain": [
              "<IPython.core.display.HTML object>"
            ]
          },
          "metadata": {
            "tags": []
          }
        },
        {
          "output_type": "stream",
          "text": [
            "Epoch 1/30\n",
            "346/346 [==============================] - 35s 94ms/step - loss: 1.7839 - accuracy: 0.6308 - val_loss: 1.0035 - val_accuracy: 0.7387\n",
            "Epoch 2/30\n",
            "346/346 [==============================] - 33s 95ms/step - loss: 1.0174 - accuracy: 0.7278 - val_loss: 0.9448 - val_accuracy: 0.7445\n",
            "Epoch 3/30\n",
            "346/346 [==============================] - 32s 94ms/step - loss: 0.9676 - accuracy: 0.7375 - val_loss: 0.9170 - val_accuracy: 0.7516\n",
            "Epoch 4/30\n",
            "346/346 [==============================] - 32s 94ms/step - loss: 0.9433 - accuracy: 0.7435 - val_loss: 0.9006 - val_accuracy: 0.7532\n",
            "Epoch 5/30\n",
            "346/346 [==============================] - 32s 94ms/step - loss: 0.9219 - accuracy: 0.7475 - val_loss: 0.8900 - val_accuracy: 0.7575\n",
            "Epoch 6/30\n",
            "346/346 [==============================] - 33s 95ms/step - loss: 0.9028 - accuracy: 0.7509 - val_loss: 0.8759 - val_accuracy: 0.7582\n",
            "Epoch 7/30\n",
            "346/346 [==============================] - 31s 90ms/step - loss: 0.8851 - accuracy: 0.7546 - val_loss: 0.8625 - val_accuracy: 0.7630\n",
            "Epoch 8/30\n",
            "346/346 [==============================] - 29s 84ms/step - loss: 0.8682 - accuracy: 0.7587 - val_loss: 0.8561 - val_accuracy: 0.7625\n",
            "Epoch 9/30\n",
            "346/346 [==============================] - 30s 87ms/step - loss: 0.8483 - accuracy: 0.7626 - val_loss: 0.8498 - val_accuracy: 0.7634\n",
            "Epoch 10/30\n",
            "346/346 [==============================] - 32s 92ms/step - loss: 0.8335 - accuracy: 0.7667 - val_loss: 0.8411 - val_accuracy: 0.7660\n",
            "Epoch 11/30\n",
            "346/346 [==============================] - 32s 93ms/step - loss: 0.8118 - accuracy: 0.7715 - val_loss: 0.8377 - val_accuracy: 0.7676\n",
            "Epoch 12/30\n",
            "346/346 [==============================] - 33s 94ms/step - loss: 0.7917 - accuracy: 0.7774 - val_loss: 0.8270 - val_accuracy: 0.7706\n",
            "Epoch 13/30\n",
            "346/346 [==============================] - 32s 93ms/step - loss: 0.7704 - accuracy: 0.7828 - val_loss: 0.8273 - val_accuracy: 0.7699\n",
            "Epoch 14/30\n",
            "346/346 [==============================] - 33s 94ms/step - loss: 0.7521 - accuracy: 0.7867 - val_loss: 0.8271 - val_accuracy: 0.7722\n",
            "Epoch 15/30\n",
            "346/346 [==============================] - 32s 94ms/step - loss: 0.7322 - accuracy: 0.7924 - val_loss: 0.8271 - val_accuracy: 0.7722\n",
            "Epoch 16/30\n",
            "346/346 [==============================] - 32s 94ms/step - loss: 0.7133 - accuracy: 0.7971 - val_loss: 0.8317 - val_accuracy: 0.7719\n",
            "Epoch 17/30\n",
            "346/346 [==============================] - 33s 94ms/step - loss: 0.6968 - accuracy: 0.8013 - val_loss: 0.8308 - val_accuracy: 0.7727\n",
            "Epoch 18/30\n",
            "346/346 [==============================] - 33s 94ms/step - loss: 0.6815 - accuracy: 0.8055 - val_loss: 0.8371 - val_accuracy: 0.7708\n",
            "Epoch 19/30\n",
            "346/346 [==============================] - 32s 92ms/step - loss: 0.6654 - accuracy: 0.8097 - val_loss: 0.8378 - val_accuracy: 0.7742\n",
            "Epoch 20/30\n",
            "346/346 [==============================] - 33s 95ms/step - loss: 0.6529 - accuracy: 0.8125 - val_loss: 0.8376 - val_accuracy: 0.7752\n",
            "Epoch 21/30\n",
            "346/346 [==============================] - 32s 94ms/step - loss: 0.6399 - accuracy: 0.8155 - val_loss: 0.8485 - val_accuracy: 0.7737\n",
            "Epoch 22/30\n",
            "346/346 [==============================] - 33s 95ms/step - loss: 0.6297 - accuracy: 0.8180 - val_loss: 0.8524 - val_accuracy: 0.7741\n",
            "Epoch 23/30\n",
            "346/346 [==============================] - 32s 93ms/step - loss: 0.6183 - accuracy: 0.8207 - val_loss: 0.8567 - val_accuracy: 0.7720\n",
            "Epoch 24/30\n",
            "346/346 [==============================] - 33s 95ms/step - loss: 0.6127 - accuracy: 0.8222 - val_loss: 0.8591 - val_accuracy: 0.7720\n",
            "Epoch 25/30\n",
            "346/346 [==============================] - 33s 95ms/step - loss: 0.6039 - accuracy: 0.8244 - val_loss: 0.8667 - val_accuracy: 0.7718\n",
            "Epoch 26/30\n",
            "346/346 [==============================] - 33s 94ms/step - loss: 0.5974 - accuracy: 0.8257 - val_loss: 0.8687 - val_accuracy: 0.7724\n",
            "Epoch 27/30\n",
            "346/346 [==============================] - 32s 93ms/step - loss: 0.5905 - accuracy: 0.8269 - val_loss: 0.8704 - val_accuracy: 0.7728\n",
            "Epoch 28/30\n",
            "346/346 [==============================] - 32s 94ms/step - loss: 0.5861 - accuracy: 0.8278 - val_loss: 0.8802 - val_accuracy: 0.7737\n",
            "Epoch 29/30\n",
            "346/346 [==============================] - 32s 93ms/step - loss: 0.5809 - accuracy: 0.8294 - val_loss: 0.8867 - val_accuracy: 0.7711\n",
            "Epoch 30/30\n",
            "346/346 [==============================] - 32s 93ms/step - loss: 0.5773 - accuracy: 0.8301 - val_loss: 0.8880 - val_accuracy: 0.7737\n"
          ],
          "name": "stdout"
        },
        {
          "output_type": "display_data",
          "data": {
            "text/html": [
              "<br/>Waiting for W&B process to finish, PID 1306<br/>Program ended successfully."
            ],
            "text/plain": [
              "<IPython.core.display.HTML object>"
            ]
          },
          "metadata": {
            "tags": []
          }
        },
        {
          "output_type": "display_data",
          "data": {
            "application/vnd.jupyter.widget-view+json": {
              "model_id": "ae792d8ad1e14440a258fe075e559ac8",
              "version_minor": 0,
              "version_major": 2
            },
            "text/plain": [
              "VBox(children=(Label(value=' 25.33MB of 25.33MB uploaded (0.00MB deduped)\\r'), FloatProgress(value=1.0, max=1.…"
            ]
          },
          "metadata": {
            "tags": []
          }
        },
        {
          "output_type": "display_data",
          "data": {
            "text/html": [
              "Find user logs for this run at: <code>/root/.keras/datasets/dakshina_dataset_v1.0/hi/lexicons/wandb/run-20210430_083709-cvutnqzx/logs/debug.log</code>"
            ],
            "text/plain": [
              "<IPython.core.display.HTML object>"
            ]
          },
          "metadata": {
            "tags": []
          }
        },
        {
          "output_type": "display_data",
          "data": {
            "text/html": [
              "Find internal logs for this run at: <code>/root/.keras/datasets/dakshina_dataset_v1.0/hi/lexicons/wandb/run-20210430_083709-cvutnqzx/logs/debug-internal.log</code>"
            ],
            "text/plain": [
              "<IPython.core.display.HTML object>"
            ]
          },
          "metadata": {
            "tags": []
          }
        },
        {
          "output_type": "display_data",
          "data": {
            "text/html": [
              "<h3>Run summary:</h3><br/><style>\n",
              "    table.wandb td:nth-child(1) { padding: 0 10px; text-align: right }\n",
              "    </style><table class=\"wandb\">\n",
              "<tr><td>epoch</td><td>29</td></tr><tr><td>loss</td><td>0.58085</td></tr><tr><td>accuracy</td><td>0.82861</td></tr><tr><td>val_loss</td><td>0.88797</td></tr><tr><td>val_accuracy</td><td>0.77373</td></tr><tr><td>_runtime</td><td>973</td></tr><tr><td>_timestamp</td><td>1619772802</td></tr><tr><td>_step</td><td>29</td></tr><tr><td>best_val_loss</td><td>0.82698</td></tr><tr><td>best_epoch</td><td>11</td></tr></table>"
            ],
            "text/plain": [
              "<IPython.core.display.HTML object>"
            ]
          },
          "metadata": {
            "tags": []
          }
        },
        {
          "output_type": "display_data",
          "data": {
            "text/html": [
              "<h3>Run history:</h3><br/><style>\n",
              "    table.wandb td:nth-child(1) { padding: 0 10px; text-align: right }\n",
              "    </style><table class=\"wandb\">\n",
              "<tr><td>epoch</td><td>▁▁▁▂▂▂▂▃▃▃▃▄▄▄▄▅▅▅▅▆▆▆▆▇▇▇▇███</td></tr><tr><td>loss</td><td>█▅▅▄▄▄▄▄▃▃▃▃▃▃▂▂▂▂▂▂▂▁▁▁▁▁▁▁▁▁</td></tr><tr><td>accuracy</td><td>▁▃▄▄▄▄▄▅▅▅▅▅▆▆▆▆▇▇▇▇▇▇████████</td></tr><tr><td>val_loss</td><td>█▆▅▄▃▃▂▂▂▂▁▁▁▁▁▁▁▁▁▁▂▂▂▂▃▃▃▃▃▃</td></tr><tr><td>val_accuracy</td><td>▁▂▃▄▅▅▆▆▆▆▇▇▇▇▇▇█▇████▇▇▇▇██▇█</td></tr><tr><td>_runtime</td><td>▁▁▁▂▂▂▂▃▃▃▃▄▄▄▄▅▅▅▅▆▆▆▆▇▇▇▇███</td></tr><tr><td>_timestamp</td><td>▁▁▁▂▂▂▂▃▃▃▃▄▄▄▄▅▅▅▅▆▆▆▆▇▇▇▇███</td></tr><tr><td>_step</td><td>▁▁▁▂▂▂▂▃▃▃▃▄▄▄▄▅▅▅▅▆▆▆▆▇▇▇▇███</td></tr></table><br/>"
            ],
            "text/plain": [
              "<IPython.core.display.HTML object>"
            ]
          },
          "metadata": {
            "tags": []
          }
        },
        {
          "output_type": "display_data",
          "data": {
            "text/html": [
              "Synced 5 W&B file(s), 1 media file(s), 0 artifact file(s) and 1 other file(s)"
            ],
            "text/plain": [
              "<IPython.core.display.HTML object>"
            ]
          },
          "metadata": {
            "tags": []
          }
        },
        {
          "output_type": "display_data",
          "data": {
            "text/html": [
              "\n",
              "                    <br/>Synced <strong style=\"color:#cdcd00\">visionary-sweep-5</strong>: <a href=\"https://wandb.ai/anshikag_2210/Transliterator/runs/cvutnqzx\" target=\"_blank\">https://wandb.ai/anshikag_2210/Transliterator/runs/cvutnqzx</a><br/>\n",
              "                "
            ],
            "text/plain": [
              "<IPython.core.display.HTML object>"
            ]
          },
          "metadata": {
            "tags": []
          }
        },
        {
          "output_type": "stream",
          "text": [
            "\u001b[34m\u001b[1mwandb\u001b[0m: Agent Starting Run: x7l09cba with config:\n",
            "\u001b[34m\u001b[1mwandb\u001b[0m: \tbatch_size: 64\n",
            "\u001b[34m\u001b[1mwandb\u001b[0m: \tcell_type: lstm\n",
            "\u001b[34m\u001b[1mwandb\u001b[0m: \tdecoder_embed_size: 27\n",
            "\u001b[34m\u001b[1mwandb\u001b[0m: \tdropout: 0.05\n",
            "\u001b[34m\u001b[1mwandb\u001b[0m: \tencoder_embed_size: 64\n",
            "\u001b[34m\u001b[1mwandb\u001b[0m: \tepochs: 30\n",
            "\u001b[34m\u001b[1mwandb\u001b[0m: \thidden_layer_size: 256\n",
            "\u001b[34m\u001b[1mwandb\u001b[0m: \tnum_decoder_layers: 1\n",
            "\u001b[34m\u001b[1mwandb\u001b[0m: \tnum_encoder_layers: 1\n"
          ],
          "name": "stderr"
        },
        {
          "output_type": "display_data",
          "data": {
            "text/html": [
              "\n",
              "                Tracking run with wandb version 0.10.28<br/>\n",
              "                Syncing run <strong style=\"color:#cdcd00\">copper-sweep-6</strong> to <a href=\"https://wandb.ai\" target=\"_blank\">Weights & Biases</a> <a href=\"https://docs.wandb.com/integrations/jupyter.html\" target=\"_blank\">(Documentation)</a>.<br/>\n",
              "                Project page: <a href=\"https://wandb.ai/anshikag_2210/Transliterator\" target=\"_blank\">https://wandb.ai/anshikag_2210/Transliterator</a><br/>\n",
              "                Sweep page: <a href=\"https://wandb.ai/anshikag_2210/Transliterator/sweeps/kewrjmtp\" target=\"_blank\">https://wandb.ai/anshikag_2210/Transliterator/sweeps/kewrjmtp</a><br/>\n",
              "Run page: <a href=\"https://wandb.ai/anshikag_2210/Transliterator/runs/x7l09cba\" target=\"_blank\">https://wandb.ai/anshikag_2210/Transliterator/runs/x7l09cba</a><br/>\n",
              "                Run data is saved locally in <code>/root/.keras/datasets/dakshina_dataset_v1.0/hi/lexicons/wandb/run-20210430_085330-x7l09cba</code><br/><br/>\n",
              "            "
            ],
            "text/plain": [
              "<IPython.core.display.HTML object>"
            ]
          },
          "metadata": {
            "tags": []
          }
        },
        {
          "output_type": "stream",
          "text": [
            "Epoch 1/30\n",
            "691/691 [==============================] - 12s 12ms/step - loss: 1.3207 - accuracy: 0.7010 - val_loss: 0.8390 - val_accuracy: 0.7661\n",
            "Epoch 2/30\n",
            "691/691 [==============================] - 8s 11ms/step - loss: 0.8508 - accuracy: 0.7639 - val_loss: 0.7406 - val_accuracy: 0.7908\n",
            "Epoch 3/30\n",
            "691/691 [==============================] - 7s 11ms/step - loss: 0.7287 - accuracy: 0.7935 - val_loss: 0.6105 - val_accuracy: 0.8221\n",
            "Epoch 4/30\n",
            "691/691 [==============================] - 7s 10ms/step - loss: 0.6023 - accuracy: 0.8223 - val_loss: 0.4980 - val_accuracy: 0.8511\n",
            "Epoch 5/30\n",
            "691/691 [==============================] - 7s 10ms/step - loss: 0.4886 - accuracy: 0.8526 - val_loss: 0.3959 - val_accuracy: 0.8813\n",
            "Epoch 6/30\n",
            "691/691 [==============================] - 7s 11ms/step - loss: 0.3865 - accuracy: 0.8815 - val_loss: 0.3216 - val_accuracy: 0.9013\n",
            "Epoch 7/30\n",
            "691/691 [==============================] - 7s 10ms/step - loss: 0.3071 - accuracy: 0.9052 - val_loss: 0.2761 - val_accuracy: 0.9153\n",
            "Epoch 8/30\n",
            "691/691 [==============================] - 7s 10ms/step - loss: 0.2506 - accuracy: 0.9230 - val_loss: 0.2444 - val_accuracy: 0.9237\n",
            "Epoch 9/30\n",
            "691/691 [==============================] - 7s 11ms/step - loss: 0.2132 - accuracy: 0.9340 - val_loss: 0.2221 - val_accuracy: 0.9309\n",
            "Epoch 10/30\n",
            "691/691 [==============================] - 7s 11ms/step - loss: 0.1834 - accuracy: 0.9429 - val_loss: 0.2066 - val_accuracy: 0.9354\n",
            "Epoch 11/30\n",
            "691/691 [==============================] - 7s 11ms/step - loss: 0.1596 - accuracy: 0.9503 - val_loss: 0.1979 - val_accuracy: 0.9382\n",
            "Epoch 12/30\n",
            "691/691 [==============================] - 7s 11ms/step - loss: 0.1418 - accuracy: 0.9562 - val_loss: 0.1919 - val_accuracy: 0.9396\n",
            "Epoch 13/30\n",
            "691/691 [==============================] - 7s 11ms/step - loss: 0.1271 - accuracy: 0.9607 - val_loss: 0.1914 - val_accuracy: 0.9407\n",
            "Epoch 14/30\n",
            "691/691 [==============================] - 7s 11ms/step - loss: 0.1139 - accuracy: 0.9643 - val_loss: 0.1871 - val_accuracy: 0.9421\n",
            "Epoch 15/30\n",
            "691/691 [==============================] - 7s 11ms/step - loss: 0.1037 - accuracy: 0.9674 - val_loss: 0.1845 - val_accuracy: 0.9431\n",
            "Epoch 16/30\n",
            "691/691 [==============================] - 7s 11ms/step - loss: 0.0934 - accuracy: 0.9706 - val_loss: 0.1865 - val_accuracy: 0.9434\n",
            "Epoch 17/30\n",
            "691/691 [==============================] - 7s 10ms/step - loss: 0.0848 - accuracy: 0.9736 - val_loss: 0.1889 - val_accuracy: 0.9435\n",
            "Epoch 18/30\n",
            "691/691 [==============================] - 7s 11ms/step - loss: 0.0765 - accuracy: 0.9759 - val_loss: 0.1915 - val_accuracy: 0.9438\n",
            "Epoch 19/30\n",
            "691/691 [==============================] - 7s 11ms/step - loss: 0.0699 - accuracy: 0.9780 - val_loss: 0.1956 - val_accuracy: 0.9427\n",
            "Epoch 20/30\n",
            "691/691 [==============================] - 7s 11ms/step - loss: 0.0642 - accuracy: 0.9798 - val_loss: 0.1980 - val_accuracy: 0.9433\n",
            "Epoch 21/30\n",
            "691/691 [==============================] - 7s 10ms/step - loss: 0.0591 - accuracy: 0.9816 - val_loss: 0.2009 - val_accuracy: 0.9437\n",
            "Epoch 22/30\n",
            "691/691 [==============================] - 7s 11ms/step - loss: 0.0539 - accuracy: 0.9830 - val_loss: 0.2045 - val_accuracy: 0.9427\n",
            "Epoch 23/30\n",
            "691/691 [==============================] - 7s 10ms/step - loss: 0.0509 - accuracy: 0.9839 - val_loss: 0.2064 - val_accuracy: 0.9439\n",
            "Epoch 24/30\n",
            "691/691 [==============================] - 7s 11ms/step - loss: 0.0465 - accuracy: 0.9855 - val_loss: 0.2116 - val_accuracy: 0.9421\n",
            "Epoch 25/30\n",
            "691/691 [==============================] - 7s 11ms/step - loss: 0.0433 - accuracy: 0.9863 - val_loss: 0.2126 - val_accuracy: 0.9431\n",
            "Epoch 26/30\n",
            "691/691 [==============================] - 8s 11ms/step - loss: 0.0403 - accuracy: 0.9872 - val_loss: 0.2222 - val_accuracy: 0.9430\n",
            "Epoch 27/30\n",
            "691/691 [==============================] - 7s 10ms/step - loss: 0.0387 - accuracy: 0.9878 - val_loss: 0.2267 - val_accuracy: 0.9417\n",
            "Epoch 28/30\n",
            "691/691 [==============================] - 7s 10ms/step - loss: 0.0360 - accuracy: 0.9885 - val_loss: 0.2317 - val_accuracy: 0.9422\n",
            "Epoch 29/30\n",
            "691/691 [==============================] - 7s 10ms/step - loss: 0.0340 - accuracy: 0.9893 - val_loss: 0.2288 - val_accuracy: 0.9430\n",
            "Epoch 30/30\n",
            "691/691 [==============================] - 7s 10ms/step - loss: 0.0325 - accuracy: 0.9897 - val_loss: 0.2338 - val_accuracy: 0.9417\n"
          ],
          "name": "stdout"
        },
        {
          "output_type": "display_data",
          "data": {
            "text/html": [
              "<br/>Waiting for W&B process to finish, PID 1435<br/>Program ended successfully."
            ],
            "text/plain": [
              "<IPython.core.display.HTML object>"
            ]
          },
          "metadata": {
            "tags": []
          }
        },
        {
          "output_type": "display_data",
          "data": {
            "application/vnd.jupyter.widget-view+json": {
              "model_id": "a64526c6b1ea49da9343405253d8d3f7",
              "version_minor": 0,
              "version_major": 2
            },
            "text/plain": [
              "VBox(children=(Label(value=' 7.38MB of 7.38MB uploaded (0.00MB deduped)\\r'), FloatProgress(value=1.0, max=1.0)…"
            ]
          },
          "metadata": {
            "tags": []
          }
        },
        {
          "output_type": "display_data",
          "data": {
            "text/html": [
              "Find user logs for this run at: <code>/root/.keras/datasets/dakshina_dataset_v1.0/hi/lexicons/wandb/run-20210430_085330-x7l09cba/logs/debug.log</code>"
            ],
            "text/plain": [
              "<IPython.core.display.HTML object>"
            ]
          },
          "metadata": {
            "tags": []
          }
        },
        {
          "output_type": "display_data",
          "data": {
            "text/html": [
              "Find internal logs for this run at: <code>/root/.keras/datasets/dakshina_dataset_v1.0/hi/lexicons/wandb/run-20210430_085330-x7l09cba/logs/debug-internal.log</code>"
            ],
            "text/plain": [
              "<IPython.core.display.HTML object>"
            ]
          },
          "metadata": {
            "tags": []
          }
        },
        {
          "output_type": "display_data",
          "data": {
            "text/html": [
              "<h3>Run summary:</h3><br/><style>\n",
              "    table.wandb td:nth-child(1) { padding: 0 10px; text-align: right }\n",
              "    </style><table class=\"wandb\">\n",
              "<tr><td>epoch</td><td>29</td></tr><tr><td>loss</td><td>0.03525</td></tr><tr><td>accuracy</td><td>0.98859</td></tr><tr><td>val_loss</td><td>0.23376</td></tr><tr><td>val_accuracy</td><td>0.94172</td></tr><tr><td>_runtime</td><td>226</td></tr><tr><td>_timestamp</td><td>1619773036</td></tr><tr><td>_step</td><td>29</td></tr><tr><td>best_val_loss</td><td>0.18453</td></tr><tr><td>best_epoch</td><td>14</td></tr></table>"
            ],
            "text/plain": [
              "<IPython.core.display.HTML object>"
            ]
          },
          "metadata": {
            "tags": []
          }
        },
        {
          "output_type": "display_data",
          "data": {
            "text/html": [
              "<h3>Run history:</h3><br/><style>\n",
              "    table.wandb td:nth-child(1) { padding: 0 10px; text-align: right }\n",
              "    </style><table class=\"wandb\">\n",
              "<tr><td>epoch</td><td>▁▁▁▂▂▂▂▃▃▃▃▄▄▄▄▅▅▅▅▆▆▆▆▇▇▇▇███</td></tr><tr><td>loss</td><td>█▆▆▅▄▃▃▂▂▂▂▂▂▂▁▁▁▁▁▁▁▁▁▁▁▁▁▁▁▁</td></tr><tr><td>accuracy</td><td>▁▂▃▄▄▅▆▆▇▇▇▇▇▇▇▇██████████████</td></tr><tr><td>val_loss</td><td>█▇▆▄▃▂▂▂▁▁▁▁▁▁▁▁▁▁▁▁▁▁▁▁▁▁▁▂▁▂</td></tr><tr><td>val_accuracy</td><td>▁▂▃▄▆▆▇▇▇█████████████████████</td></tr><tr><td>_runtime</td><td>▁▁▁▂▂▂▂▃▃▃▃▄▄▄▄▅▅▅▅▆▆▆▆▇▇▇▇███</td></tr><tr><td>_timestamp</td><td>▁▁▁▂▂▂▂▃▃▃▃▄▄▄▄▅▅▅▅▆▆▆▆▇▇▇▇███</td></tr><tr><td>_step</td><td>▁▁▁▂▂▂▂▃▃▃▃▄▄▄▄▅▅▅▅▆▆▆▆▇▇▇▇███</td></tr></table><br/>"
            ],
            "text/plain": [
              "<IPython.core.display.HTML object>"
            ]
          },
          "metadata": {
            "tags": []
          }
        },
        {
          "output_type": "display_data",
          "data": {
            "text/html": [
              "Synced 5 W&B file(s), 1 media file(s), 0 artifact file(s) and 1 other file(s)"
            ],
            "text/plain": [
              "<IPython.core.display.HTML object>"
            ]
          },
          "metadata": {
            "tags": []
          }
        },
        {
          "output_type": "display_data",
          "data": {
            "text/html": [
              "\n",
              "                    <br/>Synced <strong style=\"color:#cdcd00\">copper-sweep-6</strong>: <a href=\"https://wandb.ai/anshikag_2210/Transliterator/runs/x7l09cba\" target=\"_blank\">https://wandb.ai/anshikag_2210/Transliterator/runs/x7l09cba</a><br/>\n",
              "                "
            ],
            "text/plain": [
              "<IPython.core.display.HTML object>"
            ]
          },
          "metadata": {
            "tags": []
          }
        },
        {
          "output_type": "stream",
          "text": [
            "\u001b[34m\u001b[1mwandb\u001b[0m: Agent Starting Run: rpodj1z8 with config:\n",
            "\u001b[34m\u001b[1mwandb\u001b[0m: \tbatch_size: 128\n",
            "\u001b[34m\u001b[1mwandb\u001b[0m: \tcell_type: rnn\n",
            "\u001b[34m\u001b[1mwandb\u001b[0m: \tdecoder_embed_size: 27\n",
            "\u001b[34m\u001b[1mwandb\u001b[0m: \tdropout: 0.1\n",
            "\u001b[34m\u001b[1mwandb\u001b[0m: \tencoder_embed_size: 27\n",
            "\u001b[34m\u001b[1mwandb\u001b[0m: \tepochs: 40\n",
            "\u001b[34m\u001b[1mwandb\u001b[0m: \thidden_layer_size: 128\n",
            "\u001b[34m\u001b[1mwandb\u001b[0m: \tnum_decoder_layers: 2\n",
            "\u001b[34m\u001b[1mwandb\u001b[0m: \tnum_encoder_layers: 1\n"
          ],
          "name": "stderr"
        },
        {
          "output_type": "display_data",
          "data": {
            "text/html": [
              "\n",
              "                Tracking run with wandb version 0.10.28<br/>\n",
              "                Syncing run <strong style=\"color:#cdcd00\">solar-sweep-7</strong> to <a href=\"https://wandb.ai\" target=\"_blank\">Weights & Biases</a> <a href=\"https://docs.wandb.com/integrations/jupyter.html\" target=\"_blank\">(Documentation)</a>.<br/>\n",
              "                Project page: <a href=\"https://wandb.ai/anshikag_2210/Transliterator\" target=\"_blank\">https://wandb.ai/anshikag_2210/Transliterator</a><br/>\n",
              "                Sweep page: <a href=\"https://wandb.ai/anshikag_2210/Transliterator/sweeps/kewrjmtp\" target=\"_blank\">https://wandb.ai/anshikag_2210/Transliterator/sweeps/kewrjmtp</a><br/>\n",
              "Run page: <a href=\"https://wandb.ai/anshikag_2210/Transliterator/runs/rpodj1z8\" target=\"_blank\">https://wandb.ai/anshikag_2210/Transliterator/runs/rpodj1z8</a><br/>\n",
              "                Run data is saved locally in <code>/root/.keras/datasets/dakshina_dataset_v1.0/hi/lexicons/wandb/run-20210430_085725-rpodj1z8</code><br/><br/>\n",
              "            "
            ],
            "text/plain": [
              "<IPython.core.display.HTML object>"
            ]
          },
          "metadata": {
            "tags": []
          }
        },
        {
          "output_type": "stream",
          "text": [
            "Epoch 1/40\n",
            "346/346 [==============================] - 26s 70ms/step - loss: 1.3181 - accuracy: 0.6901 - val_loss: 0.7508 - val_accuracy: 0.8027\n",
            "Epoch 2/40\n",
            "346/346 [==============================] - 24s 68ms/step - loss: 0.7449 - accuracy: 0.8006 - val_loss: 0.5843 - val_accuracy: 0.8376\n",
            "Epoch 3/40\n",
            "346/346 [==============================] - 24s 69ms/step - loss: 0.6034 - accuracy: 0.8298 - val_loss: 0.4783 - val_accuracy: 0.8619\n",
            "Epoch 4/40\n",
            "346/346 [==============================] - 24s 68ms/step - loss: 0.5097 - accuracy: 0.8520 - val_loss: 0.4290 - val_accuracy: 0.8738\n",
            "Epoch 5/40\n",
            "346/346 [==============================] - 23s 67ms/step - loss: 0.4607 - accuracy: 0.8640 - val_loss: 0.3883 - val_accuracy: 0.8873\n",
            "Epoch 6/40\n",
            "346/346 [==============================] - 24s 69ms/step - loss: 0.4207 - accuracy: 0.8743 - val_loss: 0.3609 - val_accuracy: 0.8929\n",
            "Epoch 7/40\n",
            "346/346 [==============================] - 23s 67ms/step - loss: 0.3965 - accuracy: 0.8806 - val_loss: 0.3387 - val_accuracy: 0.8988\n",
            "Epoch 8/40\n",
            "346/346 [==============================] - 23s 67ms/step - loss: 0.3757 - accuracy: 0.8861 - val_loss: 0.3218 - val_accuracy: 0.9039\n",
            "Epoch 9/40\n",
            "346/346 [==============================] - 23s 67ms/step - loss: 0.3588 - accuracy: 0.8907 - val_loss: 0.3102 - val_accuracy: 0.9066\n",
            "Epoch 10/40\n",
            "346/346 [==============================] - 22s 65ms/step - loss: 0.3438 - accuracy: 0.8950 - val_loss: 0.3009 - val_accuracy: 0.9090\n",
            "Epoch 11/40\n",
            "346/346 [==============================] - 23s 67ms/step - loss: 0.3334 - accuracy: 0.8979 - val_loss: 0.2874 - val_accuracy: 0.9137\n",
            "Epoch 12/40\n",
            "346/346 [==============================] - 24s 68ms/step - loss: 0.3240 - accuracy: 0.9008 - val_loss: 0.2801 - val_accuracy: 0.9147\n",
            "Epoch 13/40\n",
            "346/346 [==============================] - 22s 65ms/step - loss: 0.3166 - accuracy: 0.9026 - val_loss: 0.2739 - val_accuracy: 0.9175\n",
            "Epoch 14/40\n",
            "346/346 [==============================] - 23s 67ms/step - loss: 0.3068 - accuracy: 0.9054 - val_loss: 0.2718 - val_accuracy: 0.9173\n",
            "Epoch 15/40\n",
            "346/346 [==============================] - 23s 68ms/step - loss: 0.3015 - accuracy: 0.9071 - val_loss: 0.2656 - val_accuracy: 0.9190\n",
            "Epoch 16/40\n",
            "346/346 [==============================] - 24s 68ms/step - loss: 0.2952 - accuracy: 0.9090 - val_loss: 0.2660 - val_accuracy: 0.9181\n",
            "Epoch 17/40\n",
            "346/346 [==============================] - 22s 65ms/step - loss: 0.2892 - accuracy: 0.9109 - val_loss: 0.2539 - val_accuracy: 0.9214\n",
            "Epoch 18/40\n",
            "346/346 [==============================] - 23s 66ms/step - loss: 0.2840 - accuracy: 0.9120 - val_loss: 0.2533 - val_accuracy: 0.9222\n",
            "Epoch 19/40\n",
            "346/346 [==============================] - 23s 66ms/step - loss: 0.2782 - accuracy: 0.9135 - val_loss: 0.2565 - val_accuracy: 0.9214\n",
            "Epoch 20/40\n",
            "346/346 [==============================] - 23s 67ms/step - loss: 0.2755 - accuracy: 0.9151 - val_loss: 0.2509 - val_accuracy: 0.9227\n",
            "Epoch 21/40\n",
            "346/346 [==============================] - 23s 67ms/step - loss: 0.2738 - accuracy: 0.9152 - val_loss: 0.2451 - val_accuracy: 0.9239\n",
            "Epoch 22/40\n",
            "346/346 [==============================] - 23s 67ms/step - loss: 0.2698 - accuracy: 0.9157 - val_loss: 0.2463 - val_accuracy: 0.9237\n",
            "Epoch 23/40\n",
            "346/346 [==============================] - 22s 63ms/step - loss: 0.2647 - accuracy: 0.9177 - val_loss: 0.2408 - val_accuracy: 0.9254\n",
            "Epoch 24/40\n",
            "346/346 [==============================] - 23s 66ms/step - loss: 0.2638 - accuracy: 0.9174 - val_loss: 0.2365 - val_accuracy: 0.9260\n",
            "Epoch 25/40\n",
            "346/346 [==============================] - 23s 66ms/step - loss: 0.2636 - accuracy: 0.9179 - val_loss: 0.2371 - val_accuracy: 0.9261\n",
            "Epoch 26/40\n",
            "346/346 [==============================] - 23s 65ms/step - loss: 0.2559 - accuracy: 0.9198 - val_loss: 0.2376 - val_accuracy: 0.9270\n",
            "Epoch 27/40\n",
            "346/346 [==============================] - 23s 66ms/step - loss: 0.2563 - accuracy: 0.9201 - val_loss: 0.2365 - val_accuracy: 0.9257\n",
            "Epoch 28/40\n",
            "346/346 [==============================] - 23s 67ms/step - loss: 0.2536 - accuracy: 0.9206 - val_loss: 0.2291 - val_accuracy: 0.9299\n",
            "Epoch 29/40\n",
            "346/346 [==============================] - 24s 68ms/step - loss: 0.2500 - accuracy: 0.9218 - val_loss: 0.2315 - val_accuracy: 0.9287\n",
            "Epoch 30/40\n",
            "346/346 [==============================] - 23s 68ms/step - loss: 0.2494 - accuracy: 0.9216 - val_loss: 0.2311 - val_accuracy: 0.9287\n",
            "Epoch 31/40\n",
            "346/346 [==============================] - 24s 68ms/step - loss: 0.2477 - accuracy: 0.9225 - val_loss: 0.2296 - val_accuracy: 0.9292\n",
            "Epoch 32/40\n",
            "346/346 [==============================] - 23s 68ms/step - loss: 0.2432 - accuracy: 0.9236 - val_loss: 0.2235 - val_accuracy: 0.9313\n",
            "Epoch 33/40\n",
            "346/346 [==============================] - 23s 66ms/step - loss: 0.2453 - accuracy: 0.9229 - val_loss: 0.2332 - val_accuracy: 0.9270\n",
            "Epoch 34/40\n",
            "346/346 [==============================] - 24s 69ms/step - loss: 0.2467 - accuracy: 0.9225 - val_loss: 0.2262 - val_accuracy: 0.9310\n",
            "Epoch 35/40\n",
            "346/346 [==============================] - 24s 68ms/step - loss: 0.2404 - accuracy: 0.9248 - val_loss: 0.2219 - val_accuracy: 0.9310\n",
            "Epoch 36/40\n",
            "346/346 [==============================] - 23s 67ms/step - loss: 0.2368 - accuracy: 0.9255 - val_loss: 0.2265 - val_accuracy: 0.9299\n",
            "Epoch 37/40\n",
            "346/346 [==============================] - 23s 66ms/step - loss: 0.2378 - accuracy: 0.9252 - val_loss: 0.2250 - val_accuracy: 0.9307\n",
            "Epoch 38/40\n",
            "346/346 [==============================] - 23s 67ms/step - loss: 0.2392 - accuracy: 0.9247 - val_loss: 0.2236 - val_accuracy: 0.9298\n",
            "Epoch 39/40\n",
            "346/346 [==============================] - 23s 67ms/step - loss: 0.2333 - accuracy: 0.9265 - val_loss: 0.2260 - val_accuracy: 0.9299\n",
            "Epoch 40/40\n",
            "346/346 [==============================] - 23s 65ms/step - loss: 0.2336 - accuracy: 0.9260 - val_loss: 0.2194 - val_accuracy: 0.9317\n"
          ],
          "name": "stdout"
        },
        {
          "output_type": "display_data",
          "data": {
            "text/html": [
              "<br/>Waiting for W&B process to finish, PID 1564<br/>Program ended successfully."
            ],
            "text/plain": [
              "<IPython.core.display.HTML object>"
            ]
          },
          "metadata": {
            "tags": []
          }
        },
        {
          "output_type": "display_data",
          "data": {
            "application/vnd.jupyter.widget-view+json": {
              "model_id": "d2ab7c67cc6d4d2ab6b5e8bd42a9db1c",
              "version_minor": 0,
              "version_major": 2
            },
            "text/plain": [
              "VBox(children=(Label(value=' 1.03MB of 1.03MB uploaded (0.00MB deduped)\\r'), FloatProgress(value=1.0, max=1.0)…"
            ]
          },
          "metadata": {
            "tags": []
          }
        },
        {
          "output_type": "display_data",
          "data": {
            "text/html": [
              "Find user logs for this run at: <code>/root/.keras/datasets/dakshina_dataset_v1.0/hi/lexicons/wandb/run-20210430_085725-rpodj1z8/logs/debug.log</code>"
            ],
            "text/plain": [
              "<IPython.core.display.HTML object>"
            ]
          },
          "metadata": {
            "tags": []
          }
        },
        {
          "output_type": "display_data",
          "data": {
            "text/html": [
              "Find internal logs for this run at: <code>/root/.keras/datasets/dakshina_dataset_v1.0/hi/lexicons/wandb/run-20210430_085725-rpodj1z8/logs/debug-internal.log</code>"
            ],
            "text/plain": [
              "<IPython.core.display.HTML object>"
            ]
          },
          "metadata": {
            "tags": []
          }
        },
        {
          "output_type": "display_data",
          "data": {
            "text/html": [
              "<h3>Run summary:</h3><br/><style>\n",
              "    table.wandb td:nth-child(1) { padding: 0 10px; text-align: right }\n",
              "    </style><table class=\"wandb\">\n",
              "<tr><td>epoch</td><td>39</td></tr><tr><td>loss</td><td>0.23559</td></tr><tr><td>accuracy</td><td>0.92556</td></tr><tr><td>val_loss</td><td>0.21936</td></tr><tr><td>val_accuracy</td><td>0.93172</td></tr><tr><td>_runtime</td><td>933</td></tr><tr><td>_timestamp</td><td>1619773978</td></tr><tr><td>_step</td><td>39</td></tr><tr><td>best_val_loss</td><td>0.21936</td></tr><tr><td>best_epoch</td><td>39</td></tr></table>"
            ],
            "text/plain": [
              "<IPython.core.display.HTML object>"
            ]
          },
          "metadata": {
            "tags": []
          }
        },
        {
          "output_type": "display_data",
          "data": {
            "text/html": [
              "<h3>Run history:</h3><br/><style>\n",
              "    table.wandb td:nth-child(1) { padding: 0 10px; text-align: right }\n",
              "    </style><table class=\"wandb\">\n",
              "<tr><td>epoch</td><td>▁▁▁▂▂▂▂▂▂▃▃▃▃▃▄▄▄▄▄▄▅▅▅▅▅▅▆▆▆▆▆▇▇▇▇▇▇███</td></tr><tr><td>loss</td><td>█▅▄▃▃▃▂▂▂▂▂▂▂▂▂▁▁▁▁▁▁▁▁▁▁▁▁▁▁▁▁▁▁▁▁▁▁▁▁▁</td></tr><tr><td>accuracy</td><td>▁▄▅▅▆▆▆▇▇▇▇▇▇▇▇▇▇███████████████████████</td></tr><tr><td>val_loss</td><td>█▆▄▄▃▃▃▂▂▂▂▂▂▂▂▂▁▁▁▁▁▁▁▁▁▁▁▁▁▁▁▁▁▁▁▁▁▁▁▁</td></tr><tr><td>val_accuracy</td><td>▁▃▄▅▆▆▆▆▇▇▇▇▇▇▇▇▇▇▇█████████████████████</td></tr><tr><td>_runtime</td><td>▁▁▁▂▂▂▂▂▂▃▃▃▃▃▄▄▄▄▄▄▅▅▅▅▅▅▆▆▆▆▆▇▇▇▇▇▇███</td></tr><tr><td>_timestamp</td><td>▁▁▁▂▂▂▂▂▂▃▃▃▃▃▄▄▄▄▄▄▅▅▅▅▅▅▆▆▆▆▆▇▇▇▇▇▇███</td></tr><tr><td>_step</td><td>▁▁▁▂▂▂▂▂▂▃▃▃▃▃▄▄▄▄▄▄▅▅▅▅▅▅▆▆▆▆▆▇▇▇▇▇▇███</td></tr></table><br/>"
            ],
            "text/plain": [
              "<IPython.core.display.HTML object>"
            ]
          },
          "metadata": {
            "tags": []
          }
        },
        {
          "output_type": "display_data",
          "data": {
            "text/html": [
              "Synced 5 W&B file(s), 1 media file(s), 0 artifact file(s) and 1 other file(s)"
            ],
            "text/plain": [
              "<IPython.core.display.HTML object>"
            ]
          },
          "metadata": {
            "tags": []
          }
        },
        {
          "output_type": "display_data",
          "data": {
            "text/html": [
              "\n",
              "                    <br/>Synced <strong style=\"color:#cdcd00\">solar-sweep-7</strong>: <a href=\"https://wandb.ai/anshikag_2210/Transliterator/runs/rpodj1z8\" target=\"_blank\">https://wandb.ai/anshikag_2210/Transliterator/runs/rpodj1z8</a><br/>\n",
              "                "
            ],
            "text/plain": [
              "<IPython.core.display.HTML object>"
            ]
          },
          "metadata": {
            "tags": []
          }
        },
        {
          "output_type": "stream",
          "text": [
            "\u001b[34m\u001b[1mwandb\u001b[0m: Agent Starting Run: sufdrdb3 with config:\n",
            "\u001b[34m\u001b[1mwandb\u001b[0m: \tbatch_size: 32\n",
            "\u001b[34m\u001b[1mwandb\u001b[0m: \tcell_type: lstm\n",
            "\u001b[34m\u001b[1mwandb\u001b[0m: \tdecoder_embed_size: 64\n",
            "\u001b[34m\u001b[1mwandb\u001b[0m: \tdropout: 0.1\n",
            "\u001b[34m\u001b[1mwandb\u001b[0m: \tencoder_embed_size: 64\n",
            "\u001b[34m\u001b[1mwandb\u001b[0m: \tepochs: 30\n",
            "\u001b[34m\u001b[1mwandb\u001b[0m: \thidden_layer_size: 128\n",
            "\u001b[34m\u001b[1mwandb\u001b[0m: \tnum_decoder_layers: 4\n",
            "\u001b[34m\u001b[1mwandb\u001b[0m: \tnum_encoder_layers: 4\n"
          ],
          "name": "stderr"
        },
        {
          "output_type": "display_data",
          "data": {
            "text/html": [
              "\n",
              "                Tracking run with wandb version 0.10.28<br/>\n",
              "                Syncing run <strong style=\"color:#cdcd00\">dulcet-sweep-8</strong> to <a href=\"https://wandb.ai\" target=\"_blank\">Weights & Biases</a> <a href=\"https://docs.wandb.com/integrations/jupyter.html\" target=\"_blank\">(Documentation)</a>.<br/>\n",
              "                Project page: <a href=\"https://wandb.ai/anshikag_2210/Transliterator\" target=\"_blank\">https://wandb.ai/anshikag_2210/Transliterator</a><br/>\n",
              "                Sweep page: <a href=\"https://wandb.ai/anshikag_2210/Transliterator/sweeps/kewrjmtp\" target=\"_blank\">https://wandb.ai/anshikag_2210/Transliterator/sweeps/kewrjmtp</a><br/>\n",
              "Run page: <a href=\"https://wandb.ai/anshikag_2210/Transliterator/runs/sufdrdb3\" target=\"_blank\">https://wandb.ai/anshikag_2210/Transliterator/runs/sufdrdb3</a><br/>\n",
              "                Run data is saved locally in <code>/root/.keras/datasets/dakshina_dataset_v1.0/hi/lexicons/wandb/run-20210430_091308-sufdrdb3</code><br/><br/>\n",
              "            "
            ],
            "text/plain": [
              "<IPython.core.display.HTML object>"
            ]
          },
          "metadata": {
            "tags": []
          }
        },
        {
          "output_type": "stream",
          "text": [
            "Epoch 1/30\n",
            "1382/1382 [==============================] - 45s 26ms/step - loss: 1.2377 - accuracy: 0.6998 - val_loss: 0.8663 - val_accuracy: 0.7606\n",
            "Epoch 2/30\n",
            "1382/1382 [==============================] - 34s 24ms/step - loss: 0.8810 - accuracy: 0.7567 - val_loss: 0.7542 - val_accuracy: 0.7830\n",
            "Epoch 3/30\n",
            "1382/1382 [==============================] - 34s 25ms/step - loss: 0.7727 - accuracy: 0.7792 - val_loss: 0.6927 - val_accuracy: 0.8002\n",
            "Epoch 4/30\n",
            "1382/1382 [==============================] - 34s 25ms/step - loss: 0.6973 - accuracy: 0.7982 - val_loss: 0.6290 - val_accuracy: 0.8165\n",
            "Epoch 5/30\n",
            "1382/1382 [==============================] - 34s 24ms/step - loss: 0.6353 - accuracy: 0.8149 - val_loss: 0.5693 - val_accuracy: 0.8312\n",
            "Epoch 6/30\n",
            "1382/1382 [==============================] - 34s 25ms/step - loss: 0.5781 - accuracy: 0.8289 - val_loss: 0.5209 - val_accuracy: 0.8452\n",
            "Epoch 7/30\n",
            "1382/1382 [==============================] - 34s 25ms/step - loss: 0.5185 - accuracy: 0.8449 - val_loss: 0.4568 - val_accuracy: 0.8641\n",
            "Epoch 8/30\n",
            "1382/1382 [==============================] - 34s 24ms/step - loss: 0.4527 - accuracy: 0.8633 - val_loss: 0.3982 - val_accuracy: 0.8804\n",
            "Epoch 9/30\n",
            "1382/1382 [==============================] - 33s 24ms/step - loss: 0.3920 - accuracy: 0.8810 - val_loss: 0.3581 - val_accuracy: 0.8919\n",
            "Epoch 10/30\n",
            "1382/1382 [==============================] - 34s 24ms/step - loss: 0.3441 - accuracy: 0.8953 - val_loss: 0.3246 - val_accuracy: 0.9016\n",
            "Epoch 11/30\n",
            "1382/1382 [==============================] - 34s 24ms/step - loss: 0.3050 - accuracy: 0.9063 - val_loss: 0.2952 - val_accuracy: 0.9096\n",
            "Epoch 12/30\n",
            "1382/1382 [==============================] - 35s 25ms/step - loss: 0.2698 - accuracy: 0.9165 - val_loss: 0.2721 - val_accuracy: 0.9172\n",
            "Epoch 13/30\n",
            "1382/1382 [==============================] - 34s 25ms/step - loss: 0.2415 - accuracy: 0.9253 - val_loss: 0.2531 - val_accuracy: 0.9220\n",
            "Epoch 14/30\n",
            "1382/1382 [==============================] - 34s 24ms/step - loss: 0.2157 - accuracy: 0.9333 - val_loss: 0.2410 - val_accuracy: 0.9262\n",
            "Epoch 15/30\n",
            "1382/1382 [==============================] - 34s 24ms/step - loss: 0.1939 - accuracy: 0.9397 - val_loss: 0.2300 - val_accuracy: 0.9298\n",
            "Epoch 16/30\n",
            "1382/1382 [==============================] - 34s 24ms/step - loss: 0.1788 - accuracy: 0.9440 - val_loss: 0.2208 - val_accuracy: 0.9330\n",
            "Epoch 17/30\n",
            "1382/1382 [==============================] - 34s 24ms/step - loss: 0.1621 - accuracy: 0.9490 - val_loss: 0.2138 - val_accuracy: 0.9348\n",
            "Epoch 18/30\n",
            "1382/1382 [==============================] - 34s 25ms/step - loss: 0.1488 - accuracy: 0.9532 - val_loss: 0.2093 - val_accuracy: 0.9376\n",
            "Epoch 19/30\n",
            "1382/1382 [==============================] - 34s 25ms/step - loss: 0.1395 - accuracy: 0.9559 - val_loss: 0.2057 - val_accuracy: 0.9385\n",
            "Epoch 20/30\n",
            "1382/1382 [==============================] - 34s 24ms/step - loss: 0.1304 - accuracy: 0.9588 - val_loss: 0.2018 - val_accuracy: 0.9397\n",
            "Epoch 21/30\n",
            "1382/1382 [==============================] - 34s 25ms/step - loss: 0.1211 - accuracy: 0.9616 - val_loss: 0.2069 - val_accuracy: 0.9397\n",
            "Epoch 22/30\n",
            "1382/1382 [==============================] - 34s 25ms/step - loss: 0.1146 - accuracy: 0.9638 - val_loss: 0.2045 - val_accuracy: 0.9396\n",
            "Epoch 23/30\n",
            "1382/1382 [==============================] - 34s 25ms/step - loss: 0.1076 - accuracy: 0.9656 - val_loss: 0.2016 - val_accuracy: 0.9411\n",
            "Epoch 24/30\n",
            "1382/1382 [==============================] - 35s 25ms/step - loss: 0.1019 - accuracy: 0.9676 - val_loss: 0.2052 - val_accuracy: 0.9403\n",
            "Epoch 25/30\n",
            "1382/1382 [==============================] - 34s 25ms/step - loss: 0.0962 - accuracy: 0.9691 - val_loss: 0.2034 - val_accuracy: 0.9411\n",
            "Epoch 26/30\n",
            "1382/1382 [==============================] - 34s 25ms/step - loss: 0.0921 - accuracy: 0.9703 - val_loss: 0.2030 - val_accuracy: 0.9428\n",
            "Epoch 27/30\n",
            "1382/1382 [==============================] - 35s 25ms/step - loss: 0.0872 - accuracy: 0.9717 - val_loss: 0.2041 - val_accuracy: 0.9432\n",
            "Epoch 28/30\n",
            "1382/1382 [==============================] - 35s 25ms/step - loss: 0.0833 - accuracy: 0.9729 - val_loss: 0.2058 - val_accuracy: 0.9427\n",
            "Epoch 29/30\n",
            "1382/1382 [==============================] - 35s 26ms/step - loss: 0.0787 - accuracy: 0.9743 - val_loss: 0.2069 - val_accuracy: 0.9424\n",
            "Epoch 30/30\n",
            "1382/1382 [==============================] - 36s 26ms/step - loss: 0.0755 - accuracy: 0.9752 - val_loss: 0.2094 - val_accuracy: 0.9420\n"
          ],
          "name": "stdout"
        },
        {
          "output_type": "display_data",
          "data": {
            "text/html": [
              "<br/>Waiting for W&B process to finish, PID 1723<br/>Program ended successfully."
            ],
            "text/plain": [
              "<IPython.core.display.HTML object>"
            ]
          },
          "metadata": {
            "tags": []
          }
        },
        {
          "output_type": "display_data",
          "data": {
            "application/vnd.jupyter.widget-view+json": {
              "model_id": "082b5f2e848040eda56c69089ade1f21",
              "version_minor": 0,
              "version_major": 2
            },
            "text/plain": [
              "VBox(children=(Label(value=' 11.60MB of 11.60MB uploaded (0.00MB deduped)\\r'), FloatProgress(value=1.0, max=1.…"
            ]
          },
          "metadata": {
            "tags": []
          }
        },
        {
          "output_type": "display_data",
          "data": {
            "text/html": [
              "Find user logs for this run at: <code>/root/.keras/datasets/dakshina_dataset_v1.0/hi/lexicons/wandb/run-20210430_091308-sufdrdb3/logs/debug.log</code>"
            ],
            "text/plain": [
              "<IPython.core.display.HTML object>"
            ]
          },
          "metadata": {
            "tags": []
          }
        },
        {
          "output_type": "display_data",
          "data": {
            "text/html": [
              "Find internal logs for this run at: <code>/root/.keras/datasets/dakshina_dataset_v1.0/hi/lexicons/wandb/run-20210430_091308-sufdrdb3/logs/debug-internal.log</code>"
            ],
            "text/plain": [
              "<IPython.core.display.HTML object>"
            ]
          },
          "metadata": {
            "tags": []
          }
        },
        {
          "output_type": "display_data",
          "data": {
            "text/html": [
              "<h3>Run summary:</h3><br/><style>\n",
              "    table.wandb td:nth-child(1) { padding: 0 10px; text-align: right }\n",
              "    </style><table class=\"wandb\">\n",
              "<tr><td>epoch</td><td>29</td></tr><tr><td>loss</td><td>0.07924</td></tr><tr><td>accuracy</td><td>0.974</td></tr><tr><td>val_loss</td><td>0.20937</td></tr><tr><td>val_accuracy</td><td>0.94204</td></tr><tr><td>_runtime</td><td>1040</td></tr><tr><td>_timestamp</td><td>1619775028</td></tr><tr><td>_step</td><td>29</td></tr><tr><td>best_val_loss</td><td>0.20164</td></tr><tr><td>best_epoch</td><td>22</td></tr></table>"
            ],
            "text/plain": [
              "<IPython.core.display.HTML object>"
            ]
          },
          "metadata": {
            "tags": []
          }
        },
        {
          "output_type": "display_data",
          "data": {
            "text/html": [
              "<h3>Run history:</h3><br/><style>\n",
              "    table.wandb td:nth-child(1) { padding: 0 10px; text-align: right }\n",
              "    </style><table class=\"wandb\">\n",
              "<tr><td>epoch</td><td>▁▁▁▂▂▂▂▃▃▃▃▄▄▄▄▅▅▅▅▆▆▆▆▇▇▇▇███</td></tr><tr><td>loss</td><td>█▇▆▅▅▅▄▄▃▃▃▂▂▂▂▂▂▂▁▁▁▁▁▁▁▁▁▁▁▁</td></tr><tr><td>accuracy</td><td>▁▂▃▃▄▄▄▅▅▆▆▆▇▇▇▇▇▇▇███████████</td></tr><tr><td>val_loss</td><td>█▇▆▆▅▄▄▃▃▂▂▂▂▁▁▁▁▁▁▁▁▁▁▁▁▁▁▁▁▁</td></tr><tr><td>val_accuracy</td><td>▁▂▃▃▄▄▅▆▆▆▇▇▇▇▇███████████████</td></tr><tr><td>_runtime</td><td>▁▁▁▂▂▂▂▃▃▃▃▄▄▄▄▅▅▅▅▆▆▆▆▇▇▇▇▇██</td></tr><tr><td>_timestamp</td><td>▁▁▁▂▂▂▂▃▃▃▃▄▄▄▄▅▅▅▅▆▆▆▆▇▇▇▇▇██</td></tr><tr><td>_step</td><td>▁▁▁▂▂▂▂▃▃▃▃▄▄▄▄▅▅▅▅▆▆▆▆▇▇▇▇███</td></tr></table><br/>"
            ],
            "text/plain": [
              "<IPython.core.display.HTML object>"
            ]
          },
          "metadata": {
            "tags": []
          }
        },
        {
          "output_type": "display_data",
          "data": {
            "text/html": [
              "Synced 5 W&B file(s), 1 media file(s), 0 artifact file(s) and 1 other file(s)"
            ],
            "text/plain": [
              "<IPython.core.display.HTML object>"
            ]
          },
          "metadata": {
            "tags": []
          }
        },
        {
          "output_type": "display_data",
          "data": {
            "text/html": [
              "\n",
              "                    <br/>Synced <strong style=\"color:#cdcd00\">dulcet-sweep-8</strong>: <a href=\"https://wandb.ai/anshikag_2210/Transliterator/runs/sufdrdb3\" target=\"_blank\">https://wandb.ai/anshikag_2210/Transliterator/runs/sufdrdb3</a><br/>\n",
              "                "
            ],
            "text/plain": [
              "<IPython.core.display.HTML object>"
            ]
          },
          "metadata": {
            "tags": []
          }
        },
        {
          "output_type": "stream",
          "text": [
            "\u001b[34m\u001b[1mwandb\u001b[0m: Agent Starting Run: qrpjq05e with config:\n",
            "\u001b[34m\u001b[1mwandb\u001b[0m: \tbatch_size: 32\n",
            "\u001b[34m\u001b[1mwandb\u001b[0m: \tcell_type: rnn\n",
            "\u001b[34m\u001b[1mwandb\u001b[0m: \tdecoder_embed_size: 64\n",
            "\u001b[34m\u001b[1mwandb\u001b[0m: \tdropout: 0.001\n",
            "\u001b[34m\u001b[1mwandb\u001b[0m: \tencoder_embed_size: 64\n",
            "\u001b[34m\u001b[1mwandb\u001b[0m: \tepochs: 60\n",
            "\u001b[34m\u001b[1mwandb\u001b[0m: \thidden_layer_size: 128\n",
            "\u001b[34m\u001b[1mwandb\u001b[0m: \tnum_decoder_layers: 4\n",
            "\u001b[34m\u001b[1mwandb\u001b[0m: \tnum_encoder_layers: 3\n"
          ],
          "name": "stderr"
        },
        {
          "output_type": "display_data",
          "data": {
            "text/html": [
              "\n",
              "                Tracking run with wandb version 0.10.28<br/>\n",
              "                Syncing run <strong style=\"color:#cdcd00\">lilac-sweep-9</strong> to <a href=\"https://wandb.ai\" target=\"_blank\">Weights & Biases</a> <a href=\"https://docs.wandb.com/integrations/jupyter.html\" target=\"_blank\">(Documentation)</a>.<br/>\n",
              "                Project page: <a href=\"https://wandb.ai/anshikag_2210/Transliterator\" target=\"_blank\">https://wandb.ai/anshikag_2210/Transliterator</a><br/>\n",
              "                Sweep page: <a href=\"https://wandb.ai/anshikag_2210/Transliterator/sweeps/kewrjmtp\" target=\"_blank\">https://wandb.ai/anshikag_2210/Transliterator/sweeps/kewrjmtp</a><br/>\n",
              "Run page: <a href=\"https://wandb.ai/anshikag_2210/Transliterator/runs/qrpjq05e\" target=\"_blank\">https://wandb.ai/anshikag_2210/Transliterator/runs/qrpjq05e</a><br/>\n",
              "                Run data is saved locally in <code>/root/.keras/datasets/dakshina_dataset_v1.0/hi/lexicons/wandb/run-20210430_093036-qrpjq05e</code><br/><br/>\n",
              "            "
            ],
            "text/plain": [
              "<IPython.core.display.HTML object>"
            ]
          },
          "metadata": {
            "tags": []
          }
        },
        {
          "output_type": "stream",
          "text": [
            "Epoch 1/60\n",
            "1382/1382 [==============================] - 204s 145ms/step - loss: 1.0291 - accuracy: 0.7403 - val_loss: 0.5980 - val_accuracy: 0.8317\n",
            "Epoch 2/60\n",
            "1382/1382 [==============================] - 199s 144ms/step - loss: 0.5855 - accuracy: 0.8343 - val_loss: 0.4874 - val_accuracy: 0.8579\n",
            "Epoch 3/60\n",
            "1382/1382 [==============================] - 197s 143ms/step - loss: 0.4782 - accuracy: 0.8592 - val_loss: 0.4447 - val_accuracy: 0.8677\n",
            "Epoch 4/60\n",
            "1382/1382 [==============================] - 196s 142ms/step - loss: 0.4213 - accuracy: 0.8738 - val_loss: 0.3934 - val_accuracy: 0.8836\n",
            "Epoch 5/60\n",
            "1382/1382 [==============================] - 195s 141ms/step - loss: 0.3824 - accuracy: 0.8845 - val_loss: 0.3930 - val_accuracy: 0.8841\n",
            "Epoch 6/60\n",
            "1382/1382 [==============================] - 197s 143ms/step - loss: 0.3581 - accuracy: 0.8910 - val_loss: 0.3610 - val_accuracy: 0.8924\n",
            "Epoch 7/60\n",
            "1382/1382 [==============================] - 201s 145ms/step - loss: 0.3378 - accuracy: 0.8963 - val_loss: 0.3545 - val_accuracy: 0.8936\n",
            "Epoch 8/60\n",
            "1382/1382 [==============================] - 197s 143ms/step - loss: 0.3227 - accuracy: 0.9007 - val_loss: 0.3468 - val_accuracy: 0.8962\n",
            "Epoch 9/60\n",
            "1382/1382 [==============================] - 192s 139ms/step - loss: 0.3110 - accuracy: 0.9034 - val_loss: 0.3588 - val_accuracy: 0.8909\n",
            "Epoch 10/60\n",
            "1382/1382 [==============================] - 196s 142ms/step - loss: 0.3020 - accuracy: 0.9066 - val_loss: 0.3461 - val_accuracy: 0.8965\n",
            "Epoch 11/60\n",
            "1382/1382 [==============================] - 202s 146ms/step - loss: 0.2959 - accuracy: 0.9079 - val_loss: 0.3221 - val_accuracy: 0.9027\n",
            "Epoch 12/60\n",
            "1382/1382 [==============================] - 201s 145ms/step - loss: 0.2840 - accuracy: 0.9112 - val_loss: 0.3314 - val_accuracy: 0.9007\n",
            "Epoch 13/60\n",
            "1382/1382 [==============================] - 200s 145ms/step - loss: 0.2807 - accuracy: 0.9124 - val_loss: 0.3188 - val_accuracy: 0.9056\n",
            "Epoch 14/60\n",
            "1382/1382 [==============================] - 196s 142ms/step - loss: 0.2772 - accuracy: 0.9134 - val_loss: 0.3245 - val_accuracy: 0.9022\n",
            "Epoch 15/60\n",
            "1382/1382 [==============================] - 200s 145ms/step - loss: 0.2725 - accuracy: 0.9144 - val_loss: 0.3420 - val_accuracy: 0.8990\n",
            "Epoch 16/60\n",
            "1382/1382 [==============================] - 197s 143ms/step - loss: 0.2707 - accuracy: 0.9152 - val_loss: 0.3186 - val_accuracy: 0.9037\n",
            "Epoch 17/60\n",
            "1382/1382 [==============================] - 196s 142ms/step - loss: 0.2609 - accuracy: 0.9174 - val_loss: 0.3211 - val_accuracy: 0.9038\n",
            "Epoch 18/60\n",
            "1382/1382 [==============================] - 196s 142ms/step - loss: 0.2589 - accuracy: 0.9183 - val_loss: 0.3095 - val_accuracy: 0.9080\n",
            "Epoch 19/60\n",
            " 545/1382 [==========>...................] - ETA: 1:56 - loss: 0.2509 - accuracy: 0.9204"
          ],
          "name": "stdout"
        }
      ]
    }
  ]
}