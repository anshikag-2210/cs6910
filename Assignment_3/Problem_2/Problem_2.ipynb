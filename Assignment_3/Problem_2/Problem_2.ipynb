{
  "nbformat": 4,
  "nbformat_minor": 0,
  "metadata": {
    "colab": {
      "name": "Problem_2.ipynb",
      "provenance": [],
      "collapsed_sections": []
    },
    "kernelspec": {
      "display_name": "Python 3",
      "name": "python3"
    },
    "language_info": {
      "name": "python"
    },
    "accelerator": "GPU",
    "widgets": {
      "application/vnd.jupyter.widget-state+json": {
        "5f4d4aad7db8497297a404a3a6f02882": {
          "model_module": "@jupyter-widgets/controls",
          "model_name": "VBoxModel",
          "state": {
            "_view_name": "VBoxView",
            "_dom_classes": [],
            "_model_name": "VBoxModel",
            "_view_module": "@jupyter-widgets/controls",
            "_model_module_version": "1.5.0",
            "_view_count": null,
            "_view_module_version": "1.5.0",
            "box_style": "",
            "layout": "IPY_MODEL_a69846a880d44a4aa5933c40b17b173e",
            "_model_module": "@jupyter-widgets/controls",
            "children": [
              "IPY_MODEL_0c7d8f5e52474b85a71252b740da3a46",
              "IPY_MODEL_26be3ccdfb1745e9aaee7316083e9b56"
            ]
          }
        },
        "a69846a880d44a4aa5933c40b17b173e": {
          "model_module": "@jupyter-widgets/base",
          "model_name": "LayoutModel",
          "state": {
            "_view_name": "LayoutView",
            "grid_template_rows": null,
            "right": null,
            "justify_content": null,
            "_view_module": "@jupyter-widgets/base",
            "overflow": null,
            "_model_module_version": "1.2.0",
            "_view_count": null,
            "flex_flow": null,
            "width": null,
            "min_width": null,
            "border": null,
            "align_items": null,
            "bottom": null,
            "_model_module": "@jupyter-widgets/base",
            "top": null,
            "grid_column": null,
            "overflow_y": null,
            "overflow_x": null,
            "grid_auto_flow": null,
            "grid_area": null,
            "grid_template_columns": null,
            "flex": null,
            "_model_name": "LayoutModel",
            "justify_items": null,
            "grid_row": null,
            "max_height": null,
            "align_content": null,
            "visibility": null,
            "align_self": null,
            "height": null,
            "min_height": null,
            "padding": null,
            "grid_auto_rows": null,
            "grid_gap": null,
            "max_width": null,
            "order": null,
            "_view_module_version": "1.2.0",
            "grid_template_areas": null,
            "object_position": null,
            "object_fit": null,
            "grid_auto_columns": null,
            "margin": null,
            "display": null,
            "left": null
          }
        },
        "0c7d8f5e52474b85a71252b740da3a46": {
          "model_module": "@jupyter-widgets/controls",
          "model_name": "LabelModel",
          "state": {
            "_view_name": "LabelView",
            "style": "IPY_MODEL_69f1f20ffcce40f18256987cfd638e0e",
            "_dom_classes": [],
            "description": "",
            "_model_name": "LabelModel",
            "placeholder": "​",
            "_view_module": "@jupyter-widgets/controls",
            "_model_module_version": "1.5.0",
            "value": " 230.42MB of 230.42MB uploaded (0.00MB deduped)\r",
            "_view_count": null,
            "_view_module_version": "1.5.0",
            "description_tooltip": null,
            "_model_module": "@jupyter-widgets/controls",
            "layout": "IPY_MODEL_68542e8007f140f1afd2f5c425094fd0"
          }
        },
        "26be3ccdfb1745e9aaee7316083e9b56": {
          "model_module": "@jupyter-widgets/controls",
          "model_name": "FloatProgressModel",
          "state": {
            "_view_name": "ProgressView",
            "style": "IPY_MODEL_e79395d921e04642a6ae02b1f27747bc",
            "_dom_classes": [],
            "description": "",
            "_model_name": "FloatProgressModel",
            "bar_style": "",
            "max": 1,
            "_view_module": "@jupyter-widgets/controls",
            "_model_module_version": "1.5.0",
            "value": 1,
            "_view_count": null,
            "_view_module_version": "1.5.0",
            "orientation": "horizontal",
            "min": 0,
            "description_tooltip": null,
            "_model_module": "@jupyter-widgets/controls",
            "layout": "IPY_MODEL_195ec375559c4ba4a6ad25207418bacf"
          }
        },
        "69f1f20ffcce40f18256987cfd638e0e": {
          "model_module": "@jupyter-widgets/controls",
          "model_name": "DescriptionStyleModel",
          "state": {
            "_view_name": "StyleView",
            "_model_name": "DescriptionStyleModel",
            "description_width": "",
            "_view_module": "@jupyter-widgets/base",
            "_model_module_version": "1.5.0",
            "_view_count": null,
            "_view_module_version": "1.2.0",
            "_model_module": "@jupyter-widgets/controls"
          }
        },
        "68542e8007f140f1afd2f5c425094fd0": {
          "model_module": "@jupyter-widgets/base",
          "model_name": "LayoutModel",
          "state": {
            "_view_name": "LayoutView",
            "grid_template_rows": null,
            "right": null,
            "justify_content": null,
            "_view_module": "@jupyter-widgets/base",
            "overflow": null,
            "_model_module_version": "1.2.0",
            "_view_count": null,
            "flex_flow": null,
            "width": null,
            "min_width": null,
            "border": null,
            "align_items": null,
            "bottom": null,
            "_model_module": "@jupyter-widgets/base",
            "top": null,
            "grid_column": null,
            "overflow_y": null,
            "overflow_x": null,
            "grid_auto_flow": null,
            "grid_area": null,
            "grid_template_columns": null,
            "flex": null,
            "_model_name": "LayoutModel",
            "justify_items": null,
            "grid_row": null,
            "max_height": null,
            "align_content": null,
            "visibility": null,
            "align_self": null,
            "height": null,
            "min_height": null,
            "padding": null,
            "grid_auto_rows": null,
            "grid_gap": null,
            "max_width": null,
            "order": null,
            "_view_module_version": "1.2.0",
            "grid_template_areas": null,
            "object_position": null,
            "object_fit": null,
            "grid_auto_columns": null,
            "margin": null,
            "display": null,
            "left": null
          }
        },
        "e79395d921e04642a6ae02b1f27747bc": {
          "model_module": "@jupyter-widgets/controls",
          "model_name": "ProgressStyleModel",
          "state": {
            "_view_name": "StyleView",
            "_model_name": "ProgressStyleModel",
            "description_width": "",
            "_view_module": "@jupyter-widgets/base",
            "_model_module_version": "1.5.0",
            "_view_count": null,
            "_view_module_version": "1.2.0",
            "bar_color": null,
            "_model_module": "@jupyter-widgets/controls"
          }
        },
        "195ec375559c4ba4a6ad25207418bacf": {
          "model_module": "@jupyter-widgets/base",
          "model_name": "LayoutModel",
          "state": {
            "_view_name": "LayoutView",
            "grid_template_rows": null,
            "right": null,
            "justify_content": null,
            "_view_module": "@jupyter-widgets/base",
            "overflow": null,
            "_model_module_version": "1.2.0",
            "_view_count": null,
            "flex_flow": null,
            "width": null,
            "min_width": null,
            "border": null,
            "align_items": null,
            "bottom": null,
            "_model_module": "@jupyter-widgets/base",
            "top": null,
            "grid_column": null,
            "overflow_y": null,
            "overflow_x": null,
            "grid_auto_flow": null,
            "grid_area": null,
            "grid_template_columns": null,
            "flex": null,
            "_model_name": "LayoutModel",
            "justify_items": null,
            "grid_row": null,
            "max_height": null,
            "align_content": null,
            "visibility": null,
            "align_self": null,
            "height": null,
            "min_height": null,
            "padding": null,
            "grid_auto_rows": null,
            "grid_gap": null,
            "max_width": null,
            "order": null,
            "_view_module_version": "1.2.0",
            "grid_template_areas": null,
            "object_position": null,
            "object_fit": null,
            "grid_auto_columns": null,
            "margin": null,
            "display": null,
            "left": null
          }
        },
        "dd6090741d7a4434b1347950139af645": {
          "model_module": "@jupyter-widgets/controls",
          "model_name": "VBoxModel",
          "state": {
            "_view_name": "VBoxView",
            "_dom_classes": [],
            "_model_name": "VBoxModel",
            "_view_module": "@jupyter-widgets/controls",
            "_model_module_version": "1.5.0",
            "_view_count": null,
            "_view_module_version": "1.5.0",
            "box_style": "",
            "layout": "IPY_MODEL_f37e42d030214e05857812721d108b7b",
            "_model_module": "@jupyter-widgets/controls",
            "children": [
              "IPY_MODEL_fd15c43675564370b155700f0b2cf530",
              "IPY_MODEL_2be3c34541fa48dc9fdf8169ae009597"
            ]
          }
        },
        "f37e42d030214e05857812721d108b7b": {
          "model_module": "@jupyter-widgets/base",
          "model_name": "LayoutModel",
          "state": {
            "_view_name": "LayoutView",
            "grid_template_rows": null,
            "right": null,
            "justify_content": null,
            "_view_module": "@jupyter-widgets/base",
            "overflow": null,
            "_model_module_version": "1.2.0",
            "_view_count": null,
            "flex_flow": null,
            "width": null,
            "min_width": null,
            "border": null,
            "align_items": null,
            "bottom": null,
            "_model_module": "@jupyter-widgets/base",
            "top": null,
            "grid_column": null,
            "overflow_y": null,
            "overflow_x": null,
            "grid_auto_flow": null,
            "grid_area": null,
            "grid_template_columns": null,
            "flex": null,
            "_model_name": "LayoutModel",
            "justify_items": null,
            "grid_row": null,
            "max_height": null,
            "align_content": null,
            "visibility": null,
            "align_self": null,
            "height": null,
            "min_height": null,
            "padding": null,
            "grid_auto_rows": null,
            "grid_gap": null,
            "max_width": null,
            "order": null,
            "_view_module_version": "1.2.0",
            "grid_template_areas": null,
            "object_position": null,
            "object_fit": null,
            "grid_auto_columns": null,
            "margin": null,
            "display": null,
            "left": null
          }
        },
        "fd15c43675564370b155700f0b2cf530": {
          "model_module": "@jupyter-widgets/controls",
          "model_name": "LabelModel",
          "state": {
            "_view_name": "LabelView",
            "style": "IPY_MODEL_d0df221432a24d82b47f4d3c22b5580f",
            "_dom_classes": [],
            "description": "",
            "_model_name": "LabelModel",
            "placeholder": "​",
            "_view_module": "@jupyter-widgets/controls",
            "_model_module_version": "1.5.0",
            "value": " 24.69MB of 24.69MB uploaded (0.00MB deduped)\r",
            "_view_count": null,
            "_view_module_version": "1.5.0",
            "description_tooltip": null,
            "_model_module": "@jupyter-widgets/controls",
            "layout": "IPY_MODEL_9bf13c07b03f4bb19b56e0f68b535074"
          }
        },
        "2be3c34541fa48dc9fdf8169ae009597": {
          "model_module": "@jupyter-widgets/controls",
          "model_name": "FloatProgressModel",
          "state": {
            "_view_name": "ProgressView",
            "style": "IPY_MODEL_0e679b2d630944afb028326560a05053",
            "_dom_classes": [],
            "description": "",
            "_model_name": "FloatProgressModel",
            "bar_style": "",
            "max": 1,
            "_view_module": "@jupyter-widgets/controls",
            "_model_module_version": "1.5.0",
            "value": 1,
            "_view_count": null,
            "_view_module_version": "1.5.0",
            "orientation": "horizontal",
            "min": 0,
            "description_tooltip": null,
            "_model_module": "@jupyter-widgets/controls",
            "layout": "IPY_MODEL_9dc7453653bc442b958e6aeb3e0b2db6"
          }
        },
        "d0df221432a24d82b47f4d3c22b5580f": {
          "model_module": "@jupyter-widgets/controls",
          "model_name": "DescriptionStyleModel",
          "state": {
            "_view_name": "StyleView",
            "_model_name": "DescriptionStyleModel",
            "description_width": "",
            "_view_module": "@jupyter-widgets/base",
            "_model_module_version": "1.5.0",
            "_view_count": null,
            "_view_module_version": "1.2.0",
            "_model_module": "@jupyter-widgets/controls"
          }
        },
        "9bf13c07b03f4bb19b56e0f68b535074": {
          "model_module": "@jupyter-widgets/base",
          "model_name": "LayoutModel",
          "state": {
            "_view_name": "LayoutView",
            "grid_template_rows": null,
            "right": null,
            "justify_content": null,
            "_view_module": "@jupyter-widgets/base",
            "overflow": null,
            "_model_module_version": "1.2.0",
            "_view_count": null,
            "flex_flow": null,
            "width": null,
            "min_width": null,
            "border": null,
            "align_items": null,
            "bottom": null,
            "_model_module": "@jupyter-widgets/base",
            "top": null,
            "grid_column": null,
            "overflow_y": null,
            "overflow_x": null,
            "grid_auto_flow": null,
            "grid_area": null,
            "grid_template_columns": null,
            "flex": null,
            "_model_name": "LayoutModel",
            "justify_items": null,
            "grid_row": null,
            "max_height": null,
            "align_content": null,
            "visibility": null,
            "align_self": null,
            "height": null,
            "min_height": null,
            "padding": null,
            "grid_auto_rows": null,
            "grid_gap": null,
            "max_width": null,
            "order": null,
            "_view_module_version": "1.2.0",
            "grid_template_areas": null,
            "object_position": null,
            "object_fit": null,
            "grid_auto_columns": null,
            "margin": null,
            "display": null,
            "left": null
          }
        },
        "0e679b2d630944afb028326560a05053": {
          "model_module": "@jupyter-widgets/controls",
          "model_name": "ProgressStyleModel",
          "state": {
            "_view_name": "StyleView",
            "_model_name": "ProgressStyleModel",
            "description_width": "",
            "_view_module": "@jupyter-widgets/base",
            "_model_module_version": "1.5.0",
            "_view_count": null,
            "_view_module_version": "1.2.0",
            "bar_color": null,
            "_model_module": "@jupyter-widgets/controls"
          }
        },
        "9dc7453653bc442b958e6aeb3e0b2db6": {
          "model_module": "@jupyter-widgets/base",
          "model_name": "LayoutModel",
          "state": {
            "_view_name": "LayoutView",
            "grid_template_rows": null,
            "right": null,
            "justify_content": null,
            "_view_module": "@jupyter-widgets/base",
            "overflow": null,
            "_model_module_version": "1.2.0",
            "_view_count": null,
            "flex_flow": null,
            "width": null,
            "min_width": null,
            "border": null,
            "align_items": null,
            "bottom": null,
            "_model_module": "@jupyter-widgets/base",
            "top": null,
            "grid_column": null,
            "overflow_y": null,
            "overflow_x": null,
            "grid_auto_flow": null,
            "grid_area": null,
            "grid_template_columns": null,
            "flex": null,
            "_model_name": "LayoutModel",
            "justify_items": null,
            "grid_row": null,
            "max_height": null,
            "align_content": null,
            "visibility": null,
            "align_self": null,
            "height": null,
            "min_height": null,
            "padding": null,
            "grid_auto_rows": null,
            "grid_gap": null,
            "max_width": null,
            "order": null,
            "_view_module_version": "1.2.0",
            "grid_template_areas": null,
            "object_position": null,
            "object_fit": null,
            "grid_auto_columns": null,
            "margin": null,
            "display": null,
            "left": null
          }
        },
        "d2f06cd1e65a43c6b95196c4d4f23dd5": {
          "model_module": "@jupyter-widgets/controls",
          "model_name": "VBoxModel",
          "state": {
            "_view_name": "VBoxView",
            "_dom_classes": [],
            "_model_name": "VBoxModel",
            "_view_module": "@jupyter-widgets/controls",
            "_model_module_version": "1.5.0",
            "_view_count": null,
            "_view_module_version": "1.5.0",
            "box_style": "",
            "layout": "IPY_MODEL_c29fdfe6300d4a0084a29012304c2c65",
            "_model_module": "@jupyter-widgets/controls",
            "children": [
              "IPY_MODEL_e3f26bf7436246ada7a1c02584db3d21",
              "IPY_MODEL_617021ae83ee497a8533eae3d8d07237"
            ]
          }
        },
        "c29fdfe6300d4a0084a29012304c2c65": {
          "model_module": "@jupyter-widgets/base",
          "model_name": "LayoutModel",
          "state": {
            "_view_name": "LayoutView",
            "grid_template_rows": null,
            "right": null,
            "justify_content": null,
            "_view_module": "@jupyter-widgets/base",
            "overflow": null,
            "_model_module_version": "1.2.0",
            "_view_count": null,
            "flex_flow": null,
            "width": null,
            "min_width": null,
            "border": null,
            "align_items": null,
            "bottom": null,
            "_model_module": "@jupyter-widgets/base",
            "top": null,
            "grid_column": null,
            "overflow_y": null,
            "overflow_x": null,
            "grid_auto_flow": null,
            "grid_area": null,
            "grid_template_columns": null,
            "flex": null,
            "_model_name": "LayoutModel",
            "justify_items": null,
            "grid_row": null,
            "max_height": null,
            "align_content": null,
            "visibility": null,
            "align_self": null,
            "height": null,
            "min_height": null,
            "padding": null,
            "grid_auto_rows": null,
            "grid_gap": null,
            "max_width": null,
            "order": null,
            "_view_module_version": "1.2.0",
            "grid_template_areas": null,
            "object_position": null,
            "object_fit": null,
            "grid_auto_columns": null,
            "margin": null,
            "display": null,
            "left": null
          }
        },
        "e3f26bf7436246ada7a1c02584db3d21": {
          "model_module": "@jupyter-widgets/controls",
          "model_name": "LabelModel",
          "state": {
            "_view_name": "LabelView",
            "style": "IPY_MODEL_214eeea975dd489c8943aa3bc0ccae9e",
            "_dom_classes": [],
            "description": "",
            "_model_name": "LabelModel",
            "placeholder": "​",
            "_view_module": "@jupyter-widgets/controls",
            "_model_module_version": "1.5.0",
            "value": " 9.53MB of 9.53MB uploaded (0.00MB deduped)\r",
            "_view_count": null,
            "_view_module_version": "1.5.0",
            "description_tooltip": null,
            "_model_module": "@jupyter-widgets/controls",
            "layout": "IPY_MODEL_402a173e139c4568a1e9c6eec253d00b"
          }
        },
        "617021ae83ee497a8533eae3d8d07237": {
          "model_module": "@jupyter-widgets/controls",
          "model_name": "FloatProgressModel",
          "state": {
            "_view_name": "ProgressView",
            "style": "IPY_MODEL_1c63ca47a71947b8a210c15d0f1c89cc",
            "_dom_classes": [],
            "description": "",
            "_model_name": "FloatProgressModel",
            "bar_style": "",
            "max": 1,
            "_view_module": "@jupyter-widgets/controls",
            "_model_module_version": "1.5.0",
            "value": 1,
            "_view_count": null,
            "_view_module_version": "1.5.0",
            "orientation": "horizontal",
            "min": 0,
            "description_tooltip": null,
            "_model_module": "@jupyter-widgets/controls",
            "layout": "IPY_MODEL_389e47771d1e4320b43ebba7412a3d28"
          }
        },
        "214eeea975dd489c8943aa3bc0ccae9e": {
          "model_module": "@jupyter-widgets/controls",
          "model_name": "DescriptionStyleModel",
          "state": {
            "_view_name": "StyleView",
            "_model_name": "DescriptionStyleModel",
            "description_width": "",
            "_view_module": "@jupyter-widgets/base",
            "_model_module_version": "1.5.0",
            "_view_count": null,
            "_view_module_version": "1.2.0",
            "_model_module": "@jupyter-widgets/controls"
          }
        },
        "402a173e139c4568a1e9c6eec253d00b": {
          "model_module": "@jupyter-widgets/base",
          "model_name": "LayoutModel",
          "state": {
            "_view_name": "LayoutView",
            "grid_template_rows": null,
            "right": null,
            "justify_content": null,
            "_view_module": "@jupyter-widgets/base",
            "overflow": null,
            "_model_module_version": "1.2.0",
            "_view_count": null,
            "flex_flow": null,
            "width": null,
            "min_width": null,
            "border": null,
            "align_items": null,
            "bottom": null,
            "_model_module": "@jupyter-widgets/base",
            "top": null,
            "grid_column": null,
            "overflow_y": null,
            "overflow_x": null,
            "grid_auto_flow": null,
            "grid_area": null,
            "grid_template_columns": null,
            "flex": null,
            "_model_name": "LayoutModel",
            "justify_items": null,
            "grid_row": null,
            "max_height": null,
            "align_content": null,
            "visibility": null,
            "align_self": null,
            "height": null,
            "min_height": null,
            "padding": null,
            "grid_auto_rows": null,
            "grid_gap": null,
            "max_width": null,
            "order": null,
            "_view_module_version": "1.2.0",
            "grid_template_areas": null,
            "object_position": null,
            "object_fit": null,
            "grid_auto_columns": null,
            "margin": null,
            "display": null,
            "left": null
          }
        },
        "1c63ca47a71947b8a210c15d0f1c89cc": {
          "model_module": "@jupyter-widgets/controls",
          "model_name": "ProgressStyleModel",
          "state": {
            "_view_name": "StyleView",
            "_model_name": "ProgressStyleModel",
            "description_width": "",
            "_view_module": "@jupyter-widgets/base",
            "_model_module_version": "1.5.0",
            "_view_count": null,
            "_view_module_version": "1.2.0",
            "bar_color": null,
            "_model_module": "@jupyter-widgets/controls"
          }
        },
        "389e47771d1e4320b43ebba7412a3d28": {
          "model_module": "@jupyter-widgets/base",
          "model_name": "LayoutModel",
          "state": {
            "_view_name": "LayoutView",
            "grid_template_rows": null,
            "right": null,
            "justify_content": null,
            "_view_module": "@jupyter-widgets/base",
            "overflow": null,
            "_model_module_version": "1.2.0",
            "_view_count": null,
            "flex_flow": null,
            "width": null,
            "min_width": null,
            "border": null,
            "align_items": null,
            "bottom": null,
            "_model_module": "@jupyter-widgets/base",
            "top": null,
            "grid_column": null,
            "overflow_y": null,
            "overflow_x": null,
            "grid_auto_flow": null,
            "grid_area": null,
            "grid_template_columns": null,
            "flex": null,
            "_model_name": "LayoutModel",
            "justify_items": null,
            "grid_row": null,
            "max_height": null,
            "align_content": null,
            "visibility": null,
            "align_self": null,
            "height": null,
            "min_height": null,
            "padding": null,
            "grid_auto_rows": null,
            "grid_gap": null,
            "max_width": null,
            "order": null,
            "_view_module_version": "1.2.0",
            "grid_template_areas": null,
            "object_position": null,
            "object_fit": null,
            "grid_auto_columns": null,
            "margin": null,
            "display": null,
            "left": null
          }
        },
        "5b8d15d3445546b69d22a13d99eb12b1": {
          "model_module": "@jupyter-widgets/controls",
          "model_name": "VBoxModel",
          "state": {
            "_view_name": "VBoxView",
            "_dom_classes": [],
            "_model_name": "VBoxModel",
            "_view_module": "@jupyter-widgets/controls",
            "_model_module_version": "1.5.0",
            "_view_count": null,
            "_view_module_version": "1.5.0",
            "box_style": "",
            "layout": "IPY_MODEL_0f7dd7ccc30b4dbe836c62018d395516",
            "_model_module": "@jupyter-widgets/controls",
            "children": [
              "IPY_MODEL_b1653c2a2e724306b60e26abaee19c69",
              "IPY_MODEL_9838de96117d4c1d89c93979f76faa6a"
            ]
          }
        },
        "0f7dd7ccc30b4dbe836c62018d395516": {
          "model_module": "@jupyter-widgets/base",
          "model_name": "LayoutModel",
          "state": {
            "_view_name": "LayoutView",
            "grid_template_rows": null,
            "right": null,
            "justify_content": null,
            "_view_module": "@jupyter-widgets/base",
            "overflow": null,
            "_model_module_version": "1.2.0",
            "_view_count": null,
            "flex_flow": null,
            "width": null,
            "min_width": null,
            "border": null,
            "align_items": null,
            "bottom": null,
            "_model_module": "@jupyter-widgets/base",
            "top": null,
            "grid_column": null,
            "overflow_y": null,
            "overflow_x": null,
            "grid_auto_flow": null,
            "grid_area": null,
            "grid_template_columns": null,
            "flex": null,
            "_model_name": "LayoutModel",
            "justify_items": null,
            "grid_row": null,
            "max_height": null,
            "align_content": null,
            "visibility": null,
            "align_self": null,
            "height": null,
            "min_height": null,
            "padding": null,
            "grid_auto_rows": null,
            "grid_gap": null,
            "max_width": null,
            "order": null,
            "_view_module_version": "1.2.0",
            "grid_template_areas": null,
            "object_position": null,
            "object_fit": null,
            "grid_auto_columns": null,
            "margin": null,
            "display": null,
            "left": null
          }
        },
        "b1653c2a2e724306b60e26abaee19c69": {
          "model_module": "@jupyter-widgets/controls",
          "model_name": "LabelModel",
          "state": {
            "_view_name": "LabelView",
            "style": "IPY_MODEL_1aad6fc643e248b0b5f91c659f781164",
            "_dom_classes": [],
            "description": "",
            "_model_name": "LabelModel",
            "placeholder": "​",
            "_view_module": "@jupyter-widgets/controls",
            "_model_module_version": "1.5.0",
            "value": " 26.15MB of 26.15MB uploaded (0.00MB deduped)\r",
            "_view_count": null,
            "_view_module_version": "1.5.0",
            "description_tooltip": null,
            "_model_module": "@jupyter-widgets/controls",
            "layout": "IPY_MODEL_1e88f56d1dc34d57bdabeea3bcc2b3f0"
          }
        },
        "9838de96117d4c1d89c93979f76faa6a": {
          "model_module": "@jupyter-widgets/controls",
          "model_name": "FloatProgressModel",
          "state": {
            "_view_name": "ProgressView",
            "style": "IPY_MODEL_fb9c2d9d16fb4a808e9c23789a7ca067",
            "_dom_classes": [],
            "description": "",
            "_model_name": "FloatProgressModel",
            "bar_style": "",
            "max": 1,
            "_view_module": "@jupyter-widgets/controls",
            "_model_module_version": "1.5.0",
            "value": 1,
            "_view_count": null,
            "_view_module_version": "1.5.0",
            "orientation": "horizontal",
            "min": 0,
            "description_tooltip": null,
            "_model_module": "@jupyter-widgets/controls",
            "layout": "IPY_MODEL_810c4f5352774a8fbdc6d55643be6a98"
          }
        },
        "1aad6fc643e248b0b5f91c659f781164": {
          "model_module": "@jupyter-widgets/controls",
          "model_name": "DescriptionStyleModel",
          "state": {
            "_view_name": "StyleView",
            "_model_name": "DescriptionStyleModel",
            "description_width": "",
            "_view_module": "@jupyter-widgets/base",
            "_model_module_version": "1.5.0",
            "_view_count": null,
            "_view_module_version": "1.2.0",
            "_model_module": "@jupyter-widgets/controls"
          }
        },
        "1e88f56d1dc34d57bdabeea3bcc2b3f0": {
          "model_module": "@jupyter-widgets/base",
          "model_name": "LayoutModel",
          "state": {
            "_view_name": "LayoutView",
            "grid_template_rows": null,
            "right": null,
            "justify_content": null,
            "_view_module": "@jupyter-widgets/base",
            "overflow": null,
            "_model_module_version": "1.2.0",
            "_view_count": null,
            "flex_flow": null,
            "width": null,
            "min_width": null,
            "border": null,
            "align_items": null,
            "bottom": null,
            "_model_module": "@jupyter-widgets/base",
            "top": null,
            "grid_column": null,
            "overflow_y": null,
            "overflow_x": null,
            "grid_auto_flow": null,
            "grid_area": null,
            "grid_template_columns": null,
            "flex": null,
            "_model_name": "LayoutModel",
            "justify_items": null,
            "grid_row": null,
            "max_height": null,
            "align_content": null,
            "visibility": null,
            "align_self": null,
            "height": null,
            "min_height": null,
            "padding": null,
            "grid_auto_rows": null,
            "grid_gap": null,
            "max_width": null,
            "order": null,
            "_view_module_version": "1.2.0",
            "grid_template_areas": null,
            "object_position": null,
            "object_fit": null,
            "grid_auto_columns": null,
            "margin": null,
            "display": null,
            "left": null
          }
        },
        "fb9c2d9d16fb4a808e9c23789a7ca067": {
          "model_module": "@jupyter-widgets/controls",
          "model_name": "ProgressStyleModel",
          "state": {
            "_view_name": "StyleView",
            "_model_name": "ProgressStyleModel",
            "description_width": "",
            "_view_module": "@jupyter-widgets/base",
            "_model_module_version": "1.5.0",
            "_view_count": null,
            "_view_module_version": "1.2.0",
            "bar_color": null,
            "_model_module": "@jupyter-widgets/controls"
          }
        },
        "810c4f5352774a8fbdc6d55643be6a98": {
          "model_module": "@jupyter-widgets/base",
          "model_name": "LayoutModel",
          "state": {
            "_view_name": "LayoutView",
            "grid_template_rows": null,
            "right": null,
            "justify_content": null,
            "_view_module": "@jupyter-widgets/base",
            "overflow": null,
            "_model_module_version": "1.2.0",
            "_view_count": null,
            "flex_flow": null,
            "width": null,
            "min_width": null,
            "border": null,
            "align_items": null,
            "bottom": null,
            "_model_module": "@jupyter-widgets/base",
            "top": null,
            "grid_column": null,
            "overflow_y": null,
            "overflow_x": null,
            "grid_auto_flow": null,
            "grid_area": null,
            "grid_template_columns": null,
            "flex": null,
            "_model_name": "LayoutModel",
            "justify_items": null,
            "grid_row": null,
            "max_height": null,
            "align_content": null,
            "visibility": null,
            "align_self": null,
            "height": null,
            "min_height": null,
            "padding": null,
            "grid_auto_rows": null,
            "grid_gap": null,
            "max_width": null,
            "order": null,
            "_view_module_version": "1.2.0",
            "grid_template_areas": null,
            "object_position": null,
            "object_fit": null,
            "grid_auto_columns": null,
            "margin": null,
            "display": null,
            "left": null
          }
        },
        "6b4c7e491703458cb483b2a8b126b2f8": {
          "model_module": "@jupyter-widgets/controls",
          "model_name": "VBoxModel",
          "state": {
            "_view_name": "VBoxView",
            "_dom_classes": [],
            "_model_name": "VBoxModel",
            "_view_module": "@jupyter-widgets/controls",
            "_model_module_version": "1.5.0",
            "_view_count": null,
            "_view_module_version": "1.5.0",
            "box_style": "",
            "layout": "IPY_MODEL_83250e1ff33743139935f9f1a5865565",
            "_model_module": "@jupyter-widgets/controls",
            "children": [
              "IPY_MODEL_9ca052d278474c049c2a98fa7553253f",
              "IPY_MODEL_e97c76f5fe3a4bf89d9707e56ea70551"
            ]
          }
        },
        "83250e1ff33743139935f9f1a5865565": {
          "model_module": "@jupyter-widgets/base",
          "model_name": "LayoutModel",
          "state": {
            "_view_name": "LayoutView",
            "grid_template_rows": null,
            "right": null,
            "justify_content": null,
            "_view_module": "@jupyter-widgets/base",
            "overflow": null,
            "_model_module_version": "1.2.0",
            "_view_count": null,
            "flex_flow": null,
            "width": null,
            "min_width": null,
            "border": null,
            "align_items": null,
            "bottom": null,
            "_model_module": "@jupyter-widgets/base",
            "top": null,
            "grid_column": null,
            "overflow_y": null,
            "overflow_x": null,
            "grid_auto_flow": null,
            "grid_area": null,
            "grid_template_columns": null,
            "flex": null,
            "_model_name": "LayoutModel",
            "justify_items": null,
            "grid_row": null,
            "max_height": null,
            "align_content": null,
            "visibility": null,
            "align_self": null,
            "height": null,
            "min_height": null,
            "padding": null,
            "grid_auto_rows": null,
            "grid_gap": null,
            "max_width": null,
            "order": null,
            "_view_module_version": "1.2.0",
            "grid_template_areas": null,
            "object_position": null,
            "object_fit": null,
            "grid_auto_columns": null,
            "margin": null,
            "display": null,
            "left": null
          }
        },
        "9ca052d278474c049c2a98fa7553253f": {
          "model_module": "@jupyter-widgets/controls",
          "model_name": "LabelModel",
          "state": {
            "_view_name": "LabelView",
            "style": "IPY_MODEL_e5e38cee174642ca94db69df6e02fae2",
            "_dom_classes": [],
            "description": "",
            "_model_name": "LabelModel",
            "placeholder": "​",
            "_view_module": "@jupyter-widgets/controls",
            "_model_module_version": "1.5.0",
            "value": " 37.27MB of 37.27MB uploaded (0.00MB deduped)\r",
            "_view_count": null,
            "_view_module_version": "1.5.0",
            "description_tooltip": null,
            "_model_module": "@jupyter-widgets/controls",
            "layout": "IPY_MODEL_b6eed3a002e14c92ab636e198623a9b1"
          }
        },
        "e97c76f5fe3a4bf89d9707e56ea70551": {
          "model_module": "@jupyter-widgets/controls",
          "model_name": "FloatProgressModel",
          "state": {
            "_view_name": "ProgressView",
            "style": "IPY_MODEL_ccc2ac01da8c4de2bdedda27bb3d789e",
            "_dom_classes": [],
            "description": "",
            "_model_name": "FloatProgressModel",
            "bar_style": "",
            "max": 1,
            "_view_module": "@jupyter-widgets/controls",
            "_model_module_version": "1.5.0",
            "value": 1,
            "_view_count": null,
            "_view_module_version": "1.5.0",
            "orientation": "horizontal",
            "min": 0,
            "description_tooltip": null,
            "_model_module": "@jupyter-widgets/controls",
            "layout": "IPY_MODEL_0ab5086377464a6fbf4999b587123a76"
          }
        },
        "e5e38cee174642ca94db69df6e02fae2": {
          "model_module": "@jupyter-widgets/controls",
          "model_name": "DescriptionStyleModel",
          "state": {
            "_view_name": "StyleView",
            "_model_name": "DescriptionStyleModel",
            "description_width": "",
            "_view_module": "@jupyter-widgets/base",
            "_model_module_version": "1.5.0",
            "_view_count": null,
            "_view_module_version": "1.2.0",
            "_model_module": "@jupyter-widgets/controls"
          }
        },
        "b6eed3a002e14c92ab636e198623a9b1": {
          "model_module": "@jupyter-widgets/base",
          "model_name": "LayoutModel",
          "state": {
            "_view_name": "LayoutView",
            "grid_template_rows": null,
            "right": null,
            "justify_content": null,
            "_view_module": "@jupyter-widgets/base",
            "overflow": null,
            "_model_module_version": "1.2.0",
            "_view_count": null,
            "flex_flow": null,
            "width": null,
            "min_width": null,
            "border": null,
            "align_items": null,
            "bottom": null,
            "_model_module": "@jupyter-widgets/base",
            "top": null,
            "grid_column": null,
            "overflow_y": null,
            "overflow_x": null,
            "grid_auto_flow": null,
            "grid_area": null,
            "grid_template_columns": null,
            "flex": null,
            "_model_name": "LayoutModel",
            "justify_items": null,
            "grid_row": null,
            "max_height": null,
            "align_content": null,
            "visibility": null,
            "align_self": null,
            "height": null,
            "min_height": null,
            "padding": null,
            "grid_auto_rows": null,
            "grid_gap": null,
            "max_width": null,
            "order": null,
            "_view_module_version": "1.2.0",
            "grid_template_areas": null,
            "object_position": null,
            "object_fit": null,
            "grid_auto_columns": null,
            "margin": null,
            "display": null,
            "left": null
          }
        },
        "ccc2ac01da8c4de2bdedda27bb3d789e": {
          "model_module": "@jupyter-widgets/controls",
          "model_name": "ProgressStyleModel",
          "state": {
            "_view_name": "StyleView",
            "_model_name": "ProgressStyleModel",
            "description_width": "",
            "_view_module": "@jupyter-widgets/base",
            "_model_module_version": "1.5.0",
            "_view_count": null,
            "_view_module_version": "1.2.0",
            "bar_color": null,
            "_model_module": "@jupyter-widgets/controls"
          }
        },
        "0ab5086377464a6fbf4999b587123a76": {
          "model_module": "@jupyter-widgets/base",
          "model_name": "LayoutModel",
          "state": {
            "_view_name": "LayoutView",
            "grid_template_rows": null,
            "right": null,
            "justify_content": null,
            "_view_module": "@jupyter-widgets/base",
            "overflow": null,
            "_model_module_version": "1.2.0",
            "_view_count": null,
            "flex_flow": null,
            "width": null,
            "min_width": null,
            "border": null,
            "align_items": null,
            "bottom": null,
            "_model_module": "@jupyter-widgets/base",
            "top": null,
            "grid_column": null,
            "overflow_y": null,
            "overflow_x": null,
            "grid_auto_flow": null,
            "grid_area": null,
            "grid_template_columns": null,
            "flex": null,
            "_model_name": "LayoutModel",
            "justify_items": null,
            "grid_row": null,
            "max_height": null,
            "align_content": null,
            "visibility": null,
            "align_self": null,
            "height": null,
            "min_height": null,
            "padding": null,
            "grid_auto_rows": null,
            "grid_gap": null,
            "max_width": null,
            "order": null,
            "_view_module_version": "1.2.0",
            "grid_template_areas": null,
            "object_position": null,
            "object_fit": null,
            "grid_auto_columns": null,
            "margin": null,
            "display": null,
            "left": null
          }
        },
        "01caa0fd7bf4410b8e96593aa08e11ff": {
          "model_module": "@jupyter-widgets/controls",
          "model_name": "VBoxModel",
          "state": {
            "_view_name": "VBoxView",
            "_dom_classes": [],
            "_model_name": "VBoxModel",
            "_view_module": "@jupyter-widgets/controls",
            "_model_module_version": "1.5.0",
            "_view_count": null,
            "_view_module_version": "1.5.0",
            "box_style": "",
            "layout": "IPY_MODEL_2d8843d27ed34264b990122b63a30a24",
            "_model_module": "@jupyter-widgets/controls",
            "children": [
              "IPY_MODEL_588288a5f5454a89bf499675601c09bf",
              "IPY_MODEL_13d0050d1d464c468195cfa098af9d4a"
            ]
          }
        },
        "2d8843d27ed34264b990122b63a30a24": {
          "model_module": "@jupyter-widgets/base",
          "model_name": "LayoutModel",
          "state": {
            "_view_name": "LayoutView",
            "grid_template_rows": null,
            "right": null,
            "justify_content": null,
            "_view_module": "@jupyter-widgets/base",
            "overflow": null,
            "_model_module_version": "1.2.0",
            "_view_count": null,
            "flex_flow": null,
            "width": null,
            "min_width": null,
            "border": null,
            "align_items": null,
            "bottom": null,
            "_model_module": "@jupyter-widgets/base",
            "top": null,
            "grid_column": null,
            "overflow_y": null,
            "overflow_x": null,
            "grid_auto_flow": null,
            "grid_area": null,
            "grid_template_columns": null,
            "flex": null,
            "_model_name": "LayoutModel",
            "justify_items": null,
            "grid_row": null,
            "max_height": null,
            "align_content": null,
            "visibility": null,
            "align_self": null,
            "height": null,
            "min_height": null,
            "padding": null,
            "grid_auto_rows": null,
            "grid_gap": null,
            "max_width": null,
            "order": null,
            "_view_module_version": "1.2.0",
            "grid_template_areas": null,
            "object_position": null,
            "object_fit": null,
            "grid_auto_columns": null,
            "margin": null,
            "display": null,
            "left": null
          }
        },
        "588288a5f5454a89bf499675601c09bf": {
          "model_module": "@jupyter-widgets/controls",
          "model_name": "LabelModel",
          "state": {
            "_view_name": "LabelView",
            "style": "IPY_MODEL_4ae678bf294642ba9416dd4884ce3193",
            "_dom_classes": [],
            "description": "",
            "_model_name": "LabelModel",
            "placeholder": "​",
            "_view_module": "@jupyter-widgets/controls",
            "_model_module_version": "1.5.0",
            "value": " 91.22MB of 91.22MB uploaded (0.00MB deduped)\r",
            "_view_count": null,
            "_view_module_version": "1.5.0",
            "description_tooltip": null,
            "_model_module": "@jupyter-widgets/controls",
            "layout": "IPY_MODEL_14abbb1935a147bc80b47e669c1a5d03"
          }
        },
        "13d0050d1d464c468195cfa098af9d4a": {
          "model_module": "@jupyter-widgets/controls",
          "model_name": "FloatProgressModel",
          "state": {
            "_view_name": "ProgressView",
            "style": "IPY_MODEL_79f4b3eed771420c823d2caee5e3e2a7",
            "_dom_classes": [],
            "description": "",
            "_model_name": "FloatProgressModel",
            "bar_style": "",
            "max": 1,
            "_view_module": "@jupyter-widgets/controls",
            "_model_module_version": "1.5.0",
            "value": 1,
            "_view_count": null,
            "_view_module_version": "1.5.0",
            "orientation": "horizontal",
            "min": 0,
            "description_tooltip": null,
            "_model_module": "@jupyter-widgets/controls",
            "layout": "IPY_MODEL_b50529edbec94b40b198b60cdee82eb3"
          }
        },
        "4ae678bf294642ba9416dd4884ce3193": {
          "model_module": "@jupyter-widgets/controls",
          "model_name": "DescriptionStyleModel",
          "state": {
            "_view_name": "StyleView",
            "_model_name": "DescriptionStyleModel",
            "description_width": "",
            "_view_module": "@jupyter-widgets/base",
            "_model_module_version": "1.5.0",
            "_view_count": null,
            "_view_module_version": "1.2.0",
            "_model_module": "@jupyter-widgets/controls"
          }
        },
        "14abbb1935a147bc80b47e669c1a5d03": {
          "model_module": "@jupyter-widgets/base",
          "model_name": "LayoutModel",
          "state": {
            "_view_name": "LayoutView",
            "grid_template_rows": null,
            "right": null,
            "justify_content": null,
            "_view_module": "@jupyter-widgets/base",
            "overflow": null,
            "_model_module_version": "1.2.0",
            "_view_count": null,
            "flex_flow": null,
            "width": null,
            "min_width": null,
            "border": null,
            "align_items": null,
            "bottom": null,
            "_model_module": "@jupyter-widgets/base",
            "top": null,
            "grid_column": null,
            "overflow_y": null,
            "overflow_x": null,
            "grid_auto_flow": null,
            "grid_area": null,
            "grid_template_columns": null,
            "flex": null,
            "_model_name": "LayoutModel",
            "justify_items": null,
            "grid_row": null,
            "max_height": null,
            "align_content": null,
            "visibility": null,
            "align_self": null,
            "height": null,
            "min_height": null,
            "padding": null,
            "grid_auto_rows": null,
            "grid_gap": null,
            "max_width": null,
            "order": null,
            "_view_module_version": "1.2.0",
            "grid_template_areas": null,
            "object_position": null,
            "object_fit": null,
            "grid_auto_columns": null,
            "margin": null,
            "display": null,
            "left": null
          }
        },
        "79f4b3eed771420c823d2caee5e3e2a7": {
          "model_module": "@jupyter-widgets/controls",
          "model_name": "ProgressStyleModel",
          "state": {
            "_view_name": "StyleView",
            "_model_name": "ProgressStyleModel",
            "description_width": "",
            "_view_module": "@jupyter-widgets/base",
            "_model_module_version": "1.5.0",
            "_view_count": null,
            "_view_module_version": "1.2.0",
            "bar_color": null,
            "_model_module": "@jupyter-widgets/controls"
          }
        },
        "b50529edbec94b40b198b60cdee82eb3": {
          "model_module": "@jupyter-widgets/base",
          "model_name": "LayoutModel",
          "state": {
            "_view_name": "LayoutView",
            "grid_template_rows": null,
            "right": null,
            "justify_content": null,
            "_view_module": "@jupyter-widgets/base",
            "overflow": null,
            "_model_module_version": "1.2.0",
            "_view_count": null,
            "flex_flow": null,
            "width": null,
            "min_width": null,
            "border": null,
            "align_items": null,
            "bottom": null,
            "_model_module": "@jupyter-widgets/base",
            "top": null,
            "grid_column": null,
            "overflow_y": null,
            "overflow_x": null,
            "grid_auto_flow": null,
            "grid_area": null,
            "grid_template_columns": null,
            "flex": null,
            "_model_name": "LayoutModel",
            "justify_items": null,
            "grid_row": null,
            "max_height": null,
            "align_content": null,
            "visibility": null,
            "align_self": null,
            "height": null,
            "min_height": null,
            "padding": null,
            "grid_auto_rows": null,
            "grid_gap": null,
            "max_width": null,
            "order": null,
            "_view_module_version": "1.2.0",
            "grid_template_areas": null,
            "object_position": null,
            "object_fit": null,
            "grid_auto_columns": null,
            "margin": null,
            "display": null,
            "left": null
          }
        },
        "9d466c67ff87447c9a3b6788fbe5fde4": {
          "model_module": "@jupyter-widgets/controls",
          "model_name": "VBoxModel",
          "state": {
            "_view_name": "VBoxView",
            "_dom_classes": [],
            "_model_name": "VBoxModel",
            "_view_module": "@jupyter-widgets/controls",
            "_model_module_version": "1.5.0",
            "_view_count": null,
            "_view_module_version": "1.5.0",
            "box_style": "",
            "layout": "IPY_MODEL_55e942d07fef4fccb98c6a7bd94f625e",
            "_model_module": "@jupyter-widgets/controls",
            "children": [
              "IPY_MODEL_86b7cc7bc00348fc82430523596f4e2b",
              "IPY_MODEL_67600dead1b749d5afdd6849f769f799"
            ]
          }
        },
        "55e942d07fef4fccb98c6a7bd94f625e": {
          "model_module": "@jupyter-widgets/base",
          "model_name": "LayoutModel",
          "state": {
            "_view_name": "LayoutView",
            "grid_template_rows": null,
            "right": null,
            "justify_content": null,
            "_view_module": "@jupyter-widgets/base",
            "overflow": null,
            "_model_module_version": "1.2.0",
            "_view_count": null,
            "flex_flow": null,
            "width": null,
            "min_width": null,
            "border": null,
            "align_items": null,
            "bottom": null,
            "_model_module": "@jupyter-widgets/base",
            "top": null,
            "grid_column": null,
            "overflow_y": null,
            "overflow_x": null,
            "grid_auto_flow": null,
            "grid_area": null,
            "grid_template_columns": null,
            "flex": null,
            "_model_name": "LayoutModel",
            "justify_items": null,
            "grid_row": null,
            "max_height": null,
            "align_content": null,
            "visibility": null,
            "align_self": null,
            "height": null,
            "min_height": null,
            "padding": null,
            "grid_auto_rows": null,
            "grid_gap": null,
            "max_width": null,
            "order": null,
            "_view_module_version": "1.2.0",
            "grid_template_areas": null,
            "object_position": null,
            "object_fit": null,
            "grid_auto_columns": null,
            "margin": null,
            "display": null,
            "left": null
          }
        },
        "86b7cc7bc00348fc82430523596f4e2b": {
          "model_module": "@jupyter-widgets/controls",
          "model_name": "LabelModel",
          "state": {
            "_view_name": "LabelView",
            "style": "IPY_MODEL_8fca2cbc27134653bafcf858f366a463",
            "_dom_classes": [],
            "description": "",
            "_model_name": "LabelModel",
            "placeholder": "​",
            "_view_module": "@jupyter-widgets/controls",
            "_model_module_version": "1.5.0",
            "value": " 8.97MB of 8.97MB uploaded (0.00MB deduped)\r",
            "_view_count": null,
            "_view_module_version": "1.5.0",
            "description_tooltip": null,
            "_model_module": "@jupyter-widgets/controls",
            "layout": "IPY_MODEL_2cd62b535ff8477e8e67c4e1cfd860ba"
          }
        },
        "67600dead1b749d5afdd6849f769f799": {
          "model_module": "@jupyter-widgets/controls",
          "model_name": "FloatProgressModel",
          "state": {
            "_view_name": "ProgressView",
            "style": "IPY_MODEL_b852b43922324fdfbe69c53ceba7a6e7",
            "_dom_classes": [],
            "description": "",
            "_model_name": "FloatProgressModel",
            "bar_style": "",
            "max": 1,
            "_view_module": "@jupyter-widgets/controls",
            "_model_module_version": "1.5.0",
            "value": 1,
            "_view_count": null,
            "_view_module_version": "1.5.0",
            "orientation": "horizontal",
            "min": 0,
            "description_tooltip": null,
            "_model_module": "@jupyter-widgets/controls",
            "layout": "IPY_MODEL_645345b6672d4f42bcaeb495632ba2e6"
          }
        },
        "8fca2cbc27134653bafcf858f366a463": {
          "model_module": "@jupyter-widgets/controls",
          "model_name": "DescriptionStyleModel",
          "state": {
            "_view_name": "StyleView",
            "_model_name": "DescriptionStyleModel",
            "description_width": "",
            "_view_module": "@jupyter-widgets/base",
            "_model_module_version": "1.5.0",
            "_view_count": null,
            "_view_module_version": "1.2.0",
            "_model_module": "@jupyter-widgets/controls"
          }
        },
        "2cd62b535ff8477e8e67c4e1cfd860ba": {
          "model_module": "@jupyter-widgets/base",
          "model_name": "LayoutModel",
          "state": {
            "_view_name": "LayoutView",
            "grid_template_rows": null,
            "right": null,
            "justify_content": null,
            "_view_module": "@jupyter-widgets/base",
            "overflow": null,
            "_model_module_version": "1.2.0",
            "_view_count": null,
            "flex_flow": null,
            "width": null,
            "min_width": null,
            "border": null,
            "align_items": null,
            "bottom": null,
            "_model_module": "@jupyter-widgets/base",
            "top": null,
            "grid_column": null,
            "overflow_y": null,
            "overflow_x": null,
            "grid_auto_flow": null,
            "grid_area": null,
            "grid_template_columns": null,
            "flex": null,
            "_model_name": "LayoutModel",
            "justify_items": null,
            "grid_row": null,
            "max_height": null,
            "align_content": null,
            "visibility": null,
            "align_self": null,
            "height": null,
            "min_height": null,
            "padding": null,
            "grid_auto_rows": null,
            "grid_gap": null,
            "max_width": null,
            "order": null,
            "_view_module_version": "1.2.0",
            "grid_template_areas": null,
            "object_position": null,
            "object_fit": null,
            "grid_auto_columns": null,
            "margin": null,
            "display": null,
            "left": null
          }
        },
        "b852b43922324fdfbe69c53ceba7a6e7": {
          "model_module": "@jupyter-widgets/controls",
          "model_name": "ProgressStyleModel",
          "state": {
            "_view_name": "StyleView",
            "_model_name": "ProgressStyleModel",
            "description_width": "",
            "_view_module": "@jupyter-widgets/base",
            "_model_module_version": "1.5.0",
            "_view_count": null,
            "_view_module_version": "1.2.0",
            "bar_color": null,
            "_model_module": "@jupyter-widgets/controls"
          }
        },
        "645345b6672d4f42bcaeb495632ba2e6": {
          "model_module": "@jupyter-widgets/base",
          "model_name": "LayoutModel",
          "state": {
            "_view_name": "LayoutView",
            "grid_template_rows": null,
            "right": null,
            "justify_content": null,
            "_view_module": "@jupyter-widgets/base",
            "overflow": null,
            "_model_module_version": "1.2.0",
            "_view_count": null,
            "flex_flow": null,
            "width": null,
            "min_width": null,
            "border": null,
            "align_items": null,
            "bottom": null,
            "_model_module": "@jupyter-widgets/base",
            "top": null,
            "grid_column": null,
            "overflow_y": null,
            "overflow_x": null,
            "grid_auto_flow": null,
            "grid_area": null,
            "grid_template_columns": null,
            "flex": null,
            "_model_name": "LayoutModel",
            "justify_items": null,
            "grid_row": null,
            "max_height": null,
            "align_content": null,
            "visibility": null,
            "align_self": null,
            "height": null,
            "min_height": null,
            "padding": null,
            "grid_auto_rows": null,
            "grid_gap": null,
            "max_width": null,
            "order": null,
            "_view_module_version": "1.2.0",
            "grid_template_areas": null,
            "object_position": null,
            "object_fit": null,
            "grid_auto_columns": null,
            "margin": null,
            "display": null,
            "left": null
          }
        },
        "3d151bcbb0cf469aaaa846a4bf60a81d": {
          "model_module": "@jupyter-widgets/controls",
          "model_name": "VBoxModel",
          "state": {
            "_view_name": "VBoxView",
            "_dom_classes": [],
            "_model_name": "VBoxModel",
            "_view_module": "@jupyter-widgets/controls",
            "_model_module_version": "1.5.0",
            "_view_count": null,
            "_view_module_version": "1.5.0",
            "box_style": "",
            "layout": "IPY_MODEL_5b2c46f1801549ceac03151f6ae8d03b",
            "_model_module": "@jupyter-widgets/controls",
            "children": [
              "IPY_MODEL_04a1654394cc446fb0d831774b831a04",
              "IPY_MODEL_a47a99afd27e452c81f4a6905400dc08"
            ]
          }
        },
        "5b2c46f1801549ceac03151f6ae8d03b": {
          "model_module": "@jupyter-widgets/base",
          "model_name": "LayoutModel",
          "state": {
            "_view_name": "LayoutView",
            "grid_template_rows": null,
            "right": null,
            "justify_content": null,
            "_view_module": "@jupyter-widgets/base",
            "overflow": null,
            "_model_module_version": "1.2.0",
            "_view_count": null,
            "flex_flow": null,
            "width": null,
            "min_width": null,
            "border": null,
            "align_items": null,
            "bottom": null,
            "_model_module": "@jupyter-widgets/base",
            "top": null,
            "grid_column": null,
            "overflow_y": null,
            "overflow_x": null,
            "grid_auto_flow": null,
            "grid_area": null,
            "grid_template_columns": null,
            "flex": null,
            "_model_name": "LayoutModel",
            "justify_items": null,
            "grid_row": null,
            "max_height": null,
            "align_content": null,
            "visibility": null,
            "align_self": null,
            "height": null,
            "min_height": null,
            "padding": null,
            "grid_auto_rows": null,
            "grid_gap": null,
            "max_width": null,
            "order": null,
            "_view_module_version": "1.2.0",
            "grid_template_areas": null,
            "object_position": null,
            "object_fit": null,
            "grid_auto_columns": null,
            "margin": null,
            "display": null,
            "left": null
          }
        },
        "04a1654394cc446fb0d831774b831a04": {
          "model_module": "@jupyter-widgets/controls",
          "model_name": "LabelModel",
          "state": {
            "_view_name": "LabelView",
            "style": "IPY_MODEL_a8032886d43c4da0ac0f76ffe0d08e14",
            "_dom_classes": [],
            "description": "",
            "_model_name": "LabelModel",
            "placeholder": "​",
            "_view_module": "@jupyter-widgets/controls",
            "_model_module_version": "1.5.0",
            "value": " 29.09MB of 29.09MB uploaded (0.00MB deduped)\r",
            "_view_count": null,
            "_view_module_version": "1.5.0",
            "description_tooltip": null,
            "_model_module": "@jupyter-widgets/controls",
            "layout": "IPY_MODEL_2f3f92be34c5482eae2ad6b486d1be71"
          }
        },
        "a47a99afd27e452c81f4a6905400dc08": {
          "model_module": "@jupyter-widgets/controls",
          "model_name": "FloatProgressModel",
          "state": {
            "_view_name": "ProgressView",
            "style": "IPY_MODEL_c138de1a2ced45eab0f9d1ef74cb27aa",
            "_dom_classes": [],
            "description": "",
            "_model_name": "FloatProgressModel",
            "bar_style": "",
            "max": 1,
            "_view_module": "@jupyter-widgets/controls",
            "_model_module_version": "1.5.0",
            "value": 1,
            "_view_count": null,
            "_view_module_version": "1.5.0",
            "orientation": "horizontal",
            "min": 0,
            "description_tooltip": null,
            "_model_module": "@jupyter-widgets/controls",
            "layout": "IPY_MODEL_1e961595e55f4df892a1ad3b1776495a"
          }
        },
        "a8032886d43c4da0ac0f76ffe0d08e14": {
          "model_module": "@jupyter-widgets/controls",
          "model_name": "DescriptionStyleModel",
          "state": {
            "_view_name": "StyleView",
            "_model_name": "DescriptionStyleModel",
            "description_width": "",
            "_view_module": "@jupyter-widgets/base",
            "_model_module_version": "1.5.0",
            "_view_count": null,
            "_view_module_version": "1.2.0",
            "_model_module": "@jupyter-widgets/controls"
          }
        },
        "2f3f92be34c5482eae2ad6b486d1be71": {
          "model_module": "@jupyter-widgets/base",
          "model_name": "LayoutModel",
          "state": {
            "_view_name": "LayoutView",
            "grid_template_rows": null,
            "right": null,
            "justify_content": null,
            "_view_module": "@jupyter-widgets/base",
            "overflow": null,
            "_model_module_version": "1.2.0",
            "_view_count": null,
            "flex_flow": null,
            "width": null,
            "min_width": null,
            "border": null,
            "align_items": null,
            "bottom": null,
            "_model_module": "@jupyter-widgets/base",
            "top": null,
            "grid_column": null,
            "overflow_y": null,
            "overflow_x": null,
            "grid_auto_flow": null,
            "grid_area": null,
            "grid_template_columns": null,
            "flex": null,
            "_model_name": "LayoutModel",
            "justify_items": null,
            "grid_row": null,
            "max_height": null,
            "align_content": null,
            "visibility": null,
            "align_self": null,
            "height": null,
            "min_height": null,
            "padding": null,
            "grid_auto_rows": null,
            "grid_gap": null,
            "max_width": null,
            "order": null,
            "_view_module_version": "1.2.0",
            "grid_template_areas": null,
            "object_position": null,
            "object_fit": null,
            "grid_auto_columns": null,
            "margin": null,
            "display": null,
            "left": null
          }
        },
        "c138de1a2ced45eab0f9d1ef74cb27aa": {
          "model_module": "@jupyter-widgets/controls",
          "model_name": "ProgressStyleModel",
          "state": {
            "_view_name": "StyleView",
            "_model_name": "ProgressStyleModel",
            "description_width": "",
            "_view_module": "@jupyter-widgets/base",
            "_model_module_version": "1.5.0",
            "_view_count": null,
            "_view_module_version": "1.2.0",
            "bar_color": null,
            "_model_module": "@jupyter-widgets/controls"
          }
        },
        "1e961595e55f4df892a1ad3b1776495a": {
          "model_module": "@jupyter-widgets/base",
          "model_name": "LayoutModel",
          "state": {
            "_view_name": "LayoutView",
            "grid_template_rows": null,
            "right": null,
            "justify_content": null,
            "_view_module": "@jupyter-widgets/base",
            "overflow": null,
            "_model_module_version": "1.2.0",
            "_view_count": null,
            "flex_flow": null,
            "width": null,
            "min_width": null,
            "border": null,
            "align_items": null,
            "bottom": null,
            "_model_module": "@jupyter-widgets/base",
            "top": null,
            "grid_column": null,
            "overflow_y": null,
            "overflow_x": null,
            "grid_auto_flow": null,
            "grid_area": null,
            "grid_template_columns": null,
            "flex": null,
            "_model_name": "LayoutModel",
            "justify_items": null,
            "grid_row": null,
            "max_height": null,
            "align_content": null,
            "visibility": null,
            "align_self": null,
            "height": null,
            "min_height": null,
            "padding": null,
            "grid_auto_rows": null,
            "grid_gap": null,
            "max_width": null,
            "order": null,
            "_view_module_version": "1.2.0",
            "grid_template_areas": null,
            "object_position": null,
            "object_fit": null,
            "grid_auto_columns": null,
            "margin": null,
            "display": null,
            "left": null
          }
        },
        "09f84f5457f1440db831ff615dcf39cd": {
          "model_module": "@jupyter-widgets/controls",
          "model_name": "VBoxModel",
          "state": {
            "_view_name": "VBoxView",
            "_dom_classes": [],
            "_model_name": "VBoxModel",
            "_view_module": "@jupyter-widgets/controls",
            "_model_module_version": "1.5.0",
            "_view_count": null,
            "_view_module_version": "1.5.0",
            "box_style": "",
            "layout": "IPY_MODEL_f3a3b55f336a4607a6842f94a1d626cc",
            "_model_module": "@jupyter-widgets/controls",
            "children": [
              "IPY_MODEL_e011fce0f9554058b410b031a9cfbc71",
              "IPY_MODEL_d8582f9c93de4bcb8bb4753d522300fc"
            ]
          }
        },
        "f3a3b55f336a4607a6842f94a1d626cc": {
          "model_module": "@jupyter-widgets/base",
          "model_name": "LayoutModel",
          "state": {
            "_view_name": "LayoutView",
            "grid_template_rows": null,
            "right": null,
            "justify_content": null,
            "_view_module": "@jupyter-widgets/base",
            "overflow": null,
            "_model_module_version": "1.2.0",
            "_view_count": null,
            "flex_flow": null,
            "width": null,
            "min_width": null,
            "border": null,
            "align_items": null,
            "bottom": null,
            "_model_module": "@jupyter-widgets/base",
            "top": null,
            "grid_column": null,
            "overflow_y": null,
            "overflow_x": null,
            "grid_auto_flow": null,
            "grid_area": null,
            "grid_template_columns": null,
            "flex": null,
            "_model_name": "LayoutModel",
            "justify_items": null,
            "grid_row": null,
            "max_height": null,
            "align_content": null,
            "visibility": null,
            "align_self": null,
            "height": null,
            "min_height": null,
            "padding": null,
            "grid_auto_rows": null,
            "grid_gap": null,
            "max_width": null,
            "order": null,
            "_view_module_version": "1.2.0",
            "grid_template_areas": null,
            "object_position": null,
            "object_fit": null,
            "grid_auto_columns": null,
            "margin": null,
            "display": null,
            "left": null
          }
        },
        "e011fce0f9554058b410b031a9cfbc71": {
          "model_module": "@jupyter-widgets/controls",
          "model_name": "LabelModel",
          "state": {
            "_view_name": "LabelView",
            "style": "IPY_MODEL_b369d1aa23224f80b7d503dc40beeaa2",
            "_dom_classes": [],
            "description": "",
            "_model_name": "LabelModel",
            "placeholder": "​",
            "_view_module": "@jupyter-widgets/controls",
            "_model_module_version": "1.5.0",
            "value": " 5.53MB of 5.53MB uploaded (0.00MB deduped)\r",
            "_view_count": null,
            "_view_module_version": "1.5.0",
            "description_tooltip": null,
            "_model_module": "@jupyter-widgets/controls",
            "layout": "IPY_MODEL_8ef776e9fdce4880a9086dae7b363d0c"
          }
        },
        "d8582f9c93de4bcb8bb4753d522300fc": {
          "model_module": "@jupyter-widgets/controls",
          "model_name": "FloatProgressModel",
          "state": {
            "_view_name": "ProgressView",
            "style": "IPY_MODEL_c05ba3c2ea27411db5b99e9c7066d1aa",
            "_dom_classes": [],
            "description": "",
            "_model_name": "FloatProgressModel",
            "bar_style": "",
            "max": 1,
            "_view_module": "@jupyter-widgets/controls",
            "_model_module_version": "1.5.0",
            "value": 1,
            "_view_count": null,
            "_view_module_version": "1.5.0",
            "orientation": "horizontal",
            "min": 0,
            "description_tooltip": null,
            "_model_module": "@jupyter-widgets/controls",
            "layout": "IPY_MODEL_729ffd366b7b44c7b70a96c6c2eb2a33"
          }
        },
        "b369d1aa23224f80b7d503dc40beeaa2": {
          "model_module": "@jupyter-widgets/controls",
          "model_name": "DescriptionStyleModel",
          "state": {
            "_view_name": "StyleView",
            "_model_name": "DescriptionStyleModel",
            "description_width": "",
            "_view_module": "@jupyter-widgets/base",
            "_model_module_version": "1.5.0",
            "_view_count": null,
            "_view_module_version": "1.2.0",
            "_model_module": "@jupyter-widgets/controls"
          }
        },
        "8ef776e9fdce4880a9086dae7b363d0c": {
          "model_module": "@jupyter-widgets/base",
          "model_name": "LayoutModel",
          "state": {
            "_view_name": "LayoutView",
            "grid_template_rows": null,
            "right": null,
            "justify_content": null,
            "_view_module": "@jupyter-widgets/base",
            "overflow": null,
            "_model_module_version": "1.2.0",
            "_view_count": null,
            "flex_flow": null,
            "width": null,
            "min_width": null,
            "border": null,
            "align_items": null,
            "bottom": null,
            "_model_module": "@jupyter-widgets/base",
            "top": null,
            "grid_column": null,
            "overflow_y": null,
            "overflow_x": null,
            "grid_auto_flow": null,
            "grid_area": null,
            "grid_template_columns": null,
            "flex": null,
            "_model_name": "LayoutModel",
            "justify_items": null,
            "grid_row": null,
            "max_height": null,
            "align_content": null,
            "visibility": null,
            "align_self": null,
            "height": null,
            "min_height": null,
            "padding": null,
            "grid_auto_rows": null,
            "grid_gap": null,
            "max_width": null,
            "order": null,
            "_view_module_version": "1.2.0",
            "grid_template_areas": null,
            "object_position": null,
            "object_fit": null,
            "grid_auto_columns": null,
            "margin": null,
            "display": null,
            "left": null
          }
        },
        "c05ba3c2ea27411db5b99e9c7066d1aa": {
          "model_module": "@jupyter-widgets/controls",
          "model_name": "ProgressStyleModel",
          "state": {
            "_view_name": "StyleView",
            "_model_name": "ProgressStyleModel",
            "description_width": "",
            "_view_module": "@jupyter-widgets/base",
            "_model_module_version": "1.5.0",
            "_view_count": null,
            "_view_module_version": "1.2.0",
            "bar_color": null,
            "_model_module": "@jupyter-widgets/controls"
          }
        },
        "729ffd366b7b44c7b70a96c6c2eb2a33": {
          "model_module": "@jupyter-widgets/base",
          "model_name": "LayoutModel",
          "state": {
            "_view_name": "LayoutView",
            "grid_template_rows": null,
            "right": null,
            "justify_content": null,
            "_view_module": "@jupyter-widgets/base",
            "overflow": null,
            "_model_module_version": "1.2.0",
            "_view_count": null,
            "flex_flow": null,
            "width": null,
            "min_width": null,
            "border": null,
            "align_items": null,
            "bottom": null,
            "_model_module": "@jupyter-widgets/base",
            "top": null,
            "grid_column": null,
            "overflow_y": null,
            "overflow_x": null,
            "grid_auto_flow": null,
            "grid_area": null,
            "grid_template_columns": null,
            "flex": null,
            "_model_name": "LayoutModel",
            "justify_items": null,
            "grid_row": null,
            "max_height": null,
            "align_content": null,
            "visibility": null,
            "align_self": null,
            "height": null,
            "min_height": null,
            "padding": null,
            "grid_auto_rows": null,
            "grid_gap": null,
            "max_width": null,
            "order": null,
            "_view_module_version": "1.2.0",
            "grid_template_areas": null,
            "object_position": null,
            "object_fit": null,
            "grid_auto_columns": null,
            "margin": null,
            "display": null,
            "left": null
          }
        },
        "4459c361b39c4b18845e06f25263bd52": {
          "model_module": "@jupyter-widgets/controls",
          "model_name": "VBoxModel",
          "state": {
            "_view_name": "VBoxView",
            "_dom_classes": [],
            "_model_name": "VBoxModel",
            "_view_module": "@jupyter-widgets/controls",
            "_model_module_version": "1.5.0",
            "_view_count": null,
            "_view_module_version": "1.5.0",
            "box_style": "",
            "layout": "IPY_MODEL_66f8c6dc07924614acb99c3daf2c2d54",
            "_model_module": "@jupyter-widgets/controls",
            "children": [
              "IPY_MODEL_be076fcdfe26437b939a26fde37f5d3c",
              "IPY_MODEL_5a5142706a9647c58343ee4a4ccbfac4"
            ]
          }
        },
        "66f8c6dc07924614acb99c3daf2c2d54": {
          "model_module": "@jupyter-widgets/base",
          "model_name": "LayoutModel",
          "state": {
            "_view_name": "LayoutView",
            "grid_template_rows": null,
            "right": null,
            "justify_content": null,
            "_view_module": "@jupyter-widgets/base",
            "overflow": null,
            "_model_module_version": "1.2.0",
            "_view_count": null,
            "flex_flow": null,
            "width": null,
            "min_width": null,
            "border": null,
            "align_items": null,
            "bottom": null,
            "_model_module": "@jupyter-widgets/base",
            "top": null,
            "grid_column": null,
            "overflow_y": null,
            "overflow_x": null,
            "grid_auto_flow": null,
            "grid_area": null,
            "grid_template_columns": null,
            "flex": null,
            "_model_name": "LayoutModel",
            "justify_items": null,
            "grid_row": null,
            "max_height": null,
            "align_content": null,
            "visibility": null,
            "align_self": null,
            "height": null,
            "min_height": null,
            "padding": null,
            "grid_auto_rows": null,
            "grid_gap": null,
            "max_width": null,
            "order": null,
            "_view_module_version": "1.2.0",
            "grid_template_areas": null,
            "object_position": null,
            "object_fit": null,
            "grid_auto_columns": null,
            "margin": null,
            "display": null,
            "left": null
          }
        },
        "be076fcdfe26437b939a26fde37f5d3c": {
          "model_module": "@jupyter-widgets/controls",
          "model_name": "LabelModel",
          "state": {
            "_view_name": "LabelView",
            "style": "IPY_MODEL_50d8d63ad77f4b71a8c0af6fd63f6e87",
            "_dom_classes": [],
            "description": "",
            "_model_name": "LabelModel",
            "placeholder": "​",
            "_view_module": "@jupyter-widgets/controls",
            "_model_module_version": "1.5.0",
            "value": " 7.47MB of 7.47MB uploaded (0.00MB deduped)\r",
            "_view_count": null,
            "_view_module_version": "1.5.0",
            "description_tooltip": null,
            "_model_module": "@jupyter-widgets/controls",
            "layout": "IPY_MODEL_5de42e5eccd8468484ce6dae4d11665b"
          }
        },
        "5a5142706a9647c58343ee4a4ccbfac4": {
          "model_module": "@jupyter-widgets/controls",
          "model_name": "FloatProgressModel",
          "state": {
            "_view_name": "ProgressView",
            "style": "IPY_MODEL_718fcbb045d94e7a84f7e5f4c37c9efa",
            "_dom_classes": [],
            "description": "",
            "_model_name": "FloatProgressModel",
            "bar_style": "",
            "max": 1,
            "_view_module": "@jupyter-widgets/controls",
            "_model_module_version": "1.5.0",
            "value": 1,
            "_view_count": null,
            "_view_module_version": "1.5.0",
            "orientation": "horizontal",
            "min": 0,
            "description_tooltip": null,
            "_model_module": "@jupyter-widgets/controls",
            "layout": "IPY_MODEL_e186238525324d4fbcc0f55c73910134"
          }
        },
        "50d8d63ad77f4b71a8c0af6fd63f6e87": {
          "model_module": "@jupyter-widgets/controls",
          "model_name": "DescriptionStyleModel",
          "state": {
            "_view_name": "StyleView",
            "_model_name": "DescriptionStyleModel",
            "description_width": "",
            "_view_module": "@jupyter-widgets/base",
            "_model_module_version": "1.5.0",
            "_view_count": null,
            "_view_module_version": "1.2.0",
            "_model_module": "@jupyter-widgets/controls"
          }
        },
        "5de42e5eccd8468484ce6dae4d11665b": {
          "model_module": "@jupyter-widgets/base",
          "model_name": "LayoutModel",
          "state": {
            "_view_name": "LayoutView",
            "grid_template_rows": null,
            "right": null,
            "justify_content": null,
            "_view_module": "@jupyter-widgets/base",
            "overflow": null,
            "_model_module_version": "1.2.0",
            "_view_count": null,
            "flex_flow": null,
            "width": null,
            "min_width": null,
            "border": null,
            "align_items": null,
            "bottom": null,
            "_model_module": "@jupyter-widgets/base",
            "top": null,
            "grid_column": null,
            "overflow_y": null,
            "overflow_x": null,
            "grid_auto_flow": null,
            "grid_area": null,
            "grid_template_columns": null,
            "flex": null,
            "_model_name": "LayoutModel",
            "justify_items": null,
            "grid_row": null,
            "max_height": null,
            "align_content": null,
            "visibility": null,
            "align_self": null,
            "height": null,
            "min_height": null,
            "padding": null,
            "grid_auto_rows": null,
            "grid_gap": null,
            "max_width": null,
            "order": null,
            "_view_module_version": "1.2.0",
            "grid_template_areas": null,
            "object_position": null,
            "object_fit": null,
            "grid_auto_columns": null,
            "margin": null,
            "display": null,
            "left": null
          }
        },
        "718fcbb045d94e7a84f7e5f4c37c9efa": {
          "model_module": "@jupyter-widgets/controls",
          "model_name": "ProgressStyleModel",
          "state": {
            "_view_name": "StyleView",
            "_model_name": "ProgressStyleModel",
            "description_width": "",
            "_view_module": "@jupyter-widgets/base",
            "_model_module_version": "1.5.0",
            "_view_count": null,
            "_view_module_version": "1.2.0",
            "bar_color": null,
            "_model_module": "@jupyter-widgets/controls"
          }
        },
        "e186238525324d4fbcc0f55c73910134": {
          "model_module": "@jupyter-widgets/base",
          "model_name": "LayoutModel",
          "state": {
            "_view_name": "LayoutView",
            "grid_template_rows": null,
            "right": null,
            "justify_content": null,
            "_view_module": "@jupyter-widgets/base",
            "overflow": null,
            "_model_module_version": "1.2.0",
            "_view_count": null,
            "flex_flow": null,
            "width": null,
            "min_width": null,
            "border": null,
            "align_items": null,
            "bottom": null,
            "_model_module": "@jupyter-widgets/base",
            "top": null,
            "grid_column": null,
            "overflow_y": null,
            "overflow_x": null,
            "grid_auto_flow": null,
            "grid_area": null,
            "grid_template_columns": null,
            "flex": null,
            "_model_name": "LayoutModel",
            "justify_items": null,
            "grid_row": null,
            "max_height": null,
            "align_content": null,
            "visibility": null,
            "align_self": null,
            "height": null,
            "min_height": null,
            "padding": null,
            "grid_auto_rows": null,
            "grid_gap": null,
            "max_width": null,
            "order": null,
            "_view_module_version": "1.2.0",
            "grid_template_areas": null,
            "object_position": null,
            "object_fit": null,
            "grid_auto_columns": null,
            "margin": null,
            "display": null,
            "left": null
          }
        },
        "db92b351373c480e8c4a98f0328aac55": {
          "model_module": "@jupyter-widgets/controls",
          "model_name": "VBoxModel",
          "state": {
            "_view_name": "VBoxView",
            "_dom_classes": [],
            "_model_name": "VBoxModel",
            "_view_module": "@jupyter-widgets/controls",
            "_model_module_version": "1.5.0",
            "_view_count": null,
            "_view_module_version": "1.5.0",
            "box_style": "",
            "layout": "IPY_MODEL_58af86e2db9a455f9c2de22a8be8810c",
            "_model_module": "@jupyter-widgets/controls",
            "children": [
              "IPY_MODEL_a67a7d0e7f414944946674aaee66444f",
              "IPY_MODEL_0a1979098fe6404fb964cbcc3835e46b"
            ]
          }
        },
        "58af86e2db9a455f9c2de22a8be8810c": {
          "model_module": "@jupyter-widgets/base",
          "model_name": "LayoutModel",
          "state": {
            "_view_name": "LayoutView",
            "grid_template_rows": null,
            "right": null,
            "justify_content": null,
            "_view_module": "@jupyter-widgets/base",
            "overflow": null,
            "_model_module_version": "1.2.0",
            "_view_count": null,
            "flex_flow": null,
            "width": null,
            "min_width": null,
            "border": null,
            "align_items": null,
            "bottom": null,
            "_model_module": "@jupyter-widgets/base",
            "top": null,
            "grid_column": null,
            "overflow_y": null,
            "overflow_x": null,
            "grid_auto_flow": null,
            "grid_area": null,
            "grid_template_columns": null,
            "flex": null,
            "_model_name": "LayoutModel",
            "justify_items": null,
            "grid_row": null,
            "max_height": null,
            "align_content": null,
            "visibility": null,
            "align_self": null,
            "height": null,
            "min_height": null,
            "padding": null,
            "grid_auto_rows": null,
            "grid_gap": null,
            "max_width": null,
            "order": null,
            "_view_module_version": "1.2.0",
            "grid_template_areas": null,
            "object_position": null,
            "object_fit": null,
            "grid_auto_columns": null,
            "margin": null,
            "display": null,
            "left": null
          }
        },
        "a67a7d0e7f414944946674aaee66444f": {
          "model_module": "@jupyter-widgets/controls",
          "model_name": "LabelModel",
          "state": {
            "_view_name": "LabelView",
            "style": "IPY_MODEL_48651c4f697b41eb837060b2ac09d46f",
            "_dom_classes": [],
            "description": "",
            "_model_name": "LabelModel",
            "placeholder": "​",
            "_view_module": "@jupyter-widgets/controls",
            "_model_module_version": "1.5.0",
            "value": " 914.85MB of 914.85MB uploaded (0.00MB deduped)\r",
            "_view_count": null,
            "_view_module_version": "1.5.0",
            "description_tooltip": null,
            "_model_module": "@jupyter-widgets/controls",
            "layout": "IPY_MODEL_86c2cd708a11423e8db176e79e5f6834"
          }
        },
        "0a1979098fe6404fb964cbcc3835e46b": {
          "model_module": "@jupyter-widgets/controls",
          "model_name": "FloatProgressModel",
          "state": {
            "_view_name": "ProgressView",
            "style": "IPY_MODEL_ddabb2c53ec749cdb6bc7478d5869878",
            "_dom_classes": [],
            "description": "",
            "_model_name": "FloatProgressModel",
            "bar_style": "",
            "max": 1,
            "_view_module": "@jupyter-widgets/controls",
            "_model_module_version": "1.5.0",
            "value": 1,
            "_view_count": null,
            "_view_module_version": "1.5.0",
            "orientation": "horizontal",
            "min": 0,
            "description_tooltip": null,
            "_model_module": "@jupyter-widgets/controls",
            "layout": "IPY_MODEL_84fe02e483d049c4a1795a7f8ae1b9eb"
          }
        },
        "48651c4f697b41eb837060b2ac09d46f": {
          "model_module": "@jupyter-widgets/controls",
          "model_name": "DescriptionStyleModel",
          "state": {
            "_view_name": "StyleView",
            "_model_name": "DescriptionStyleModel",
            "description_width": "",
            "_view_module": "@jupyter-widgets/base",
            "_model_module_version": "1.5.0",
            "_view_count": null,
            "_view_module_version": "1.2.0",
            "_model_module": "@jupyter-widgets/controls"
          }
        },
        "86c2cd708a11423e8db176e79e5f6834": {
          "model_module": "@jupyter-widgets/base",
          "model_name": "LayoutModel",
          "state": {
            "_view_name": "LayoutView",
            "grid_template_rows": null,
            "right": null,
            "justify_content": null,
            "_view_module": "@jupyter-widgets/base",
            "overflow": null,
            "_model_module_version": "1.2.0",
            "_view_count": null,
            "flex_flow": null,
            "width": null,
            "min_width": null,
            "border": null,
            "align_items": null,
            "bottom": null,
            "_model_module": "@jupyter-widgets/base",
            "top": null,
            "grid_column": null,
            "overflow_y": null,
            "overflow_x": null,
            "grid_auto_flow": null,
            "grid_area": null,
            "grid_template_columns": null,
            "flex": null,
            "_model_name": "LayoutModel",
            "justify_items": null,
            "grid_row": null,
            "max_height": null,
            "align_content": null,
            "visibility": null,
            "align_self": null,
            "height": null,
            "min_height": null,
            "padding": null,
            "grid_auto_rows": null,
            "grid_gap": null,
            "max_width": null,
            "order": null,
            "_view_module_version": "1.2.0",
            "grid_template_areas": null,
            "object_position": null,
            "object_fit": null,
            "grid_auto_columns": null,
            "margin": null,
            "display": null,
            "left": null
          }
        },
        "ddabb2c53ec749cdb6bc7478d5869878": {
          "model_module": "@jupyter-widgets/controls",
          "model_name": "ProgressStyleModel",
          "state": {
            "_view_name": "StyleView",
            "_model_name": "ProgressStyleModel",
            "description_width": "",
            "_view_module": "@jupyter-widgets/base",
            "_model_module_version": "1.5.0",
            "_view_count": null,
            "_view_module_version": "1.2.0",
            "bar_color": null,
            "_model_module": "@jupyter-widgets/controls"
          }
        },
        "84fe02e483d049c4a1795a7f8ae1b9eb": {
          "model_module": "@jupyter-widgets/base",
          "model_name": "LayoutModel",
          "state": {
            "_view_name": "LayoutView",
            "grid_template_rows": null,
            "right": null,
            "justify_content": null,
            "_view_module": "@jupyter-widgets/base",
            "overflow": null,
            "_model_module_version": "1.2.0",
            "_view_count": null,
            "flex_flow": null,
            "width": null,
            "min_width": null,
            "border": null,
            "align_items": null,
            "bottom": null,
            "_model_module": "@jupyter-widgets/base",
            "top": null,
            "grid_column": null,
            "overflow_y": null,
            "overflow_x": null,
            "grid_auto_flow": null,
            "grid_area": null,
            "grid_template_columns": null,
            "flex": null,
            "_model_name": "LayoutModel",
            "justify_items": null,
            "grid_row": null,
            "max_height": null,
            "align_content": null,
            "visibility": null,
            "align_self": null,
            "height": null,
            "min_height": null,
            "padding": null,
            "grid_auto_rows": null,
            "grid_gap": null,
            "max_width": null,
            "order": null,
            "_view_module_version": "1.2.0",
            "grid_template_areas": null,
            "object_position": null,
            "object_fit": null,
            "grid_auto_columns": null,
            "margin": null,
            "display": null,
            "left": null
          }
        },
        "2f5e2efa09ec472ba167001b8e2168b2": {
          "model_module": "@jupyter-widgets/controls",
          "model_name": "VBoxModel",
          "state": {
            "_view_name": "VBoxView",
            "_dom_classes": [],
            "_model_name": "VBoxModel",
            "_view_module": "@jupyter-widgets/controls",
            "_model_module_version": "1.5.0",
            "_view_count": null,
            "_view_module_version": "1.5.0",
            "box_style": "",
            "layout": "IPY_MODEL_f8c26ea1fdc6413d87100a3aff36aafd",
            "_model_module": "@jupyter-widgets/controls",
            "children": [
              "IPY_MODEL_70b26131250f4dcfbad9cf6df1dcb14c",
              "IPY_MODEL_e7ad7e797a0a4bb3bc4d9f2f697e2ff8"
            ]
          }
        },
        "f8c26ea1fdc6413d87100a3aff36aafd": {
          "model_module": "@jupyter-widgets/base",
          "model_name": "LayoutModel",
          "state": {
            "_view_name": "LayoutView",
            "grid_template_rows": null,
            "right": null,
            "justify_content": null,
            "_view_module": "@jupyter-widgets/base",
            "overflow": null,
            "_model_module_version": "1.2.0",
            "_view_count": null,
            "flex_flow": null,
            "width": null,
            "min_width": null,
            "border": null,
            "align_items": null,
            "bottom": null,
            "_model_module": "@jupyter-widgets/base",
            "top": null,
            "grid_column": null,
            "overflow_y": null,
            "overflow_x": null,
            "grid_auto_flow": null,
            "grid_area": null,
            "grid_template_columns": null,
            "flex": null,
            "_model_name": "LayoutModel",
            "justify_items": null,
            "grid_row": null,
            "max_height": null,
            "align_content": null,
            "visibility": null,
            "align_self": null,
            "height": null,
            "min_height": null,
            "padding": null,
            "grid_auto_rows": null,
            "grid_gap": null,
            "max_width": null,
            "order": null,
            "_view_module_version": "1.2.0",
            "grid_template_areas": null,
            "object_position": null,
            "object_fit": null,
            "grid_auto_columns": null,
            "margin": null,
            "display": null,
            "left": null
          }
        },
        "70b26131250f4dcfbad9cf6df1dcb14c": {
          "model_module": "@jupyter-widgets/controls",
          "model_name": "LabelModel",
          "state": {
            "_view_name": "LabelView",
            "style": "IPY_MODEL_9fa2c3c4a49541d09ab2e28d2e73a5fb",
            "_dom_classes": [],
            "description": "",
            "_model_name": "LabelModel",
            "placeholder": "​",
            "_view_module": "@jupyter-widgets/controls",
            "_model_module_version": "1.5.0",
            "value": " 37.49MB of 37.49MB uploaded (0.00MB deduped)\r",
            "_view_count": null,
            "_view_module_version": "1.5.0",
            "description_tooltip": null,
            "_model_module": "@jupyter-widgets/controls",
            "layout": "IPY_MODEL_4e5bac2835c04776beb38651fc5da55d"
          }
        },
        "e7ad7e797a0a4bb3bc4d9f2f697e2ff8": {
          "model_module": "@jupyter-widgets/controls",
          "model_name": "FloatProgressModel",
          "state": {
            "_view_name": "ProgressView",
            "style": "IPY_MODEL_44e6aee360914826ba2594303e736fff",
            "_dom_classes": [],
            "description": "",
            "_model_name": "FloatProgressModel",
            "bar_style": "",
            "max": 1,
            "_view_module": "@jupyter-widgets/controls",
            "_model_module_version": "1.5.0",
            "value": 1,
            "_view_count": null,
            "_view_module_version": "1.5.0",
            "orientation": "horizontal",
            "min": 0,
            "description_tooltip": null,
            "_model_module": "@jupyter-widgets/controls",
            "layout": "IPY_MODEL_e62fad8f1f4a4c39bce047a3fd2cca64"
          }
        },
        "9fa2c3c4a49541d09ab2e28d2e73a5fb": {
          "model_module": "@jupyter-widgets/controls",
          "model_name": "DescriptionStyleModel",
          "state": {
            "_view_name": "StyleView",
            "_model_name": "DescriptionStyleModel",
            "description_width": "",
            "_view_module": "@jupyter-widgets/base",
            "_model_module_version": "1.5.0",
            "_view_count": null,
            "_view_module_version": "1.2.0",
            "_model_module": "@jupyter-widgets/controls"
          }
        },
        "4e5bac2835c04776beb38651fc5da55d": {
          "model_module": "@jupyter-widgets/base",
          "model_name": "LayoutModel",
          "state": {
            "_view_name": "LayoutView",
            "grid_template_rows": null,
            "right": null,
            "justify_content": null,
            "_view_module": "@jupyter-widgets/base",
            "overflow": null,
            "_model_module_version": "1.2.0",
            "_view_count": null,
            "flex_flow": null,
            "width": null,
            "min_width": null,
            "border": null,
            "align_items": null,
            "bottom": null,
            "_model_module": "@jupyter-widgets/base",
            "top": null,
            "grid_column": null,
            "overflow_y": null,
            "overflow_x": null,
            "grid_auto_flow": null,
            "grid_area": null,
            "grid_template_columns": null,
            "flex": null,
            "_model_name": "LayoutModel",
            "justify_items": null,
            "grid_row": null,
            "max_height": null,
            "align_content": null,
            "visibility": null,
            "align_self": null,
            "height": null,
            "min_height": null,
            "padding": null,
            "grid_auto_rows": null,
            "grid_gap": null,
            "max_width": null,
            "order": null,
            "_view_module_version": "1.2.0",
            "grid_template_areas": null,
            "object_position": null,
            "object_fit": null,
            "grid_auto_columns": null,
            "margin": null,
            "display": null,
            "left": null
          }
        },
        "44e6aee360914826ba2594303e736fff": {
          "model_module": "@jupyter-widgets/controls",
          "model_name": "ProgressStyleModel",
          "state": {
            "_view_name": "StyleView",
            "_model_name": "ProgressStyleModel",
            "description_width": "",
            "_view_module": "@jupyter-widgets/base",
            "_model_module_version": "1.5.0",
            "_view_count": null,
            "_view_module_version": "1.2.0",
            "bar_color": null,
            "_model_module": "@jupyter-widgets/controls"
          }
        },
        "e62fad8f1f4a4c39bce047a3fd2cca64": {
          "model_module": "@jupyter-widgets/base",
          "model_name": "LayoutModel",
          "state": {
            "_view_name": "LayoutView",
            "grid_template_rows": null,
            "right": null,
            "justify_content": null,
            "_view_module": "@jupyter-widgets/base",
            "overflow": null,
            "_model_module_version": "1.2.0",
            "_view_count": null,
            "flex_flow": null,
            "width": null,
            "min_width": null,
            "border": null,
            "align_items": null,
            "bottom": null,
            "_model_module": "@jupyter-widgets/base",
            "top": null,
            "grid_column": null,
            "overflow_y": null,
            "overflow_x": null,
            "grid_auto_flow": null,
            "grid_area": null,
            "grid_template_columns": null,
            "flex": null,
            "_model_name": "LayoutModel",
            "justify_items": null,
            "grid_row": null,
            "max_height": null,
            "align_content": null,
            "visibility": null,
            "align_self": null,
            "height": null,
            "min_height": null,
            "padding": null,
            "grid_auto_rows": null,
            "grid_gap": null,
            "max_width": null,
            "order": null,
            "_view_module_version": "1.2.0",
            "grid_template_areas": null,
            "object_position": null,
            "object_fit": null,
            "grid_auto_columns": null,
            "margin": null,
            "display": null,
            "left": null
          }
        }
      }
    }
  },
  "cells": [
    {
      "cell_type": "code",
      "metadata": {
        "id": "5OlH8H6Dgseh"
      },
      "source": [
        "import tensorflow as tf\n",
        "from tensorflow import keras\n",
        "from tensorflow.keras import layers\n",
        "from tensorflow.keras.models import Sequential\n",
        "import matplotlib.pyplot as plt\n",
        "import numpy as np\n",
        "import os\n",
        "import PIL\n",
        "import cv2\n",
        "import pathlib\n",
        "import glob\n",
        "import shutil\n",
        "import os\n",
        "import random"
      ],
      "execution_count": null,
      "outputs": []
    },
    {
      "cell_type": "code",
      "metadata": {
        "id": "crwiwHucLS08",
        "colab": {
          "base_uri": "https://localhost:8080/"
        },
        "outputId": "16c10c4b-4154-4b9a-b883-9f1be2056ac3"
      },
      "source": [
        "#---------------------------------------install and import wandb -------------------------------------------------\n",
        "!pip install wandb -qqq\n",
        "import wandb\n",
        "from wandb.keras import WandbCallback\n",
        "from keras.callbacks import EarlyStopping"
      ],
      "execution_count": null,
      "outputs": [
        {
          "output_type": "stream",
          "text": [
            "\u001b[K     |████████████████████████████████| 1.8MB 10.7MB/s \n",
            "\u001b[K     |████████████████████████████████| 102kB 9.8MB/s \n",
            "\u001b[K     |████████████████████████████████| 133kB 38.6MB/s \n",
            "\u001b[K     |████████████████████████████████| 174kB 27.1MB/s \n",
            "\u001b[K     |████████████████████████████████| 71kB 7.8MB/s \n",
            "\u001b[?25h  Building wheel for subprocess32 (setup.py) ... \u001b[?25l\u001b[?25hdone\n",
            "  Building wheel for pathtools (setup.py) ... \u001b[?25l\u001b[?25hdone\n"
          ],
          "name": "stdout"
        }
      ]
    },
    {
      "cell_type": "code",
      "metadata": {
        "id": "egDsuCfTLWzv",
        "colab": {
          "base_uri": "https://localhost:8080/"
        },
        "outputId": "030fcf77-80ee-4bbe-c3b4-04e0693dd5dd"
      },
      "source": [
        "#--------------------------------------------login to wandb --------------------------------------------\n",
        "!wandb login"
      ],
      "execution_count": null,
      "outputs": [
        {
          "output_type": "stream",
          "text": [
            "\u001b[34m\u001b[1mwandb\u001b[0m: You can find your API key in your browser here: https://wandb.ai/authorize\n",
            "\u001b[34m\u001b[1mwandb\u001b[0m: Paste an API key from your profile and hit enter: \n",
            "\u001b[34m\u001b[1mwandb\u001b[0m: Appending key for api.wandb.ai to your netrc file: /root/.netrc\n"
          ],
          "name": "stdout"
        }
      ]
    },
    {
      "cell_type": "code",
      "metadata": {
        "colab": {
          "base_uri": "https://localhost:8080/"
        },
        "id": "STMGDOBCguDe",
        "outputId": "506eabe9-2391-4306-ce29-b319e6326bb5"
      },
      "source": [
        "#--------------------------------caution: terminal commands ---------------------------------------------\n",
        "%cd\n",
        "%cd .keras/datasets/\n",
        "!rm -r *"
      ],
      "execution_count": null,
      "outputs": [
        {
          "output_type": "stream",
          "text": [
            "/root\n",
            "[Errno 2] No such file or directory: '.keras/datasets/'\n",
            "/root\n",
            "rm: cannot remove '*': No such file or directory\n"
          ],
          "name": "stdout"
        }
      ]
    },
    {
      "cell_type": "code",
      "metadata": {
        "colab": {
          "base_uri": "https://localhost:8080/"
        },
        "id": "kExxbfhyguAW",
        "outputId": "91e539eb-82f8-47d9-d456-c5953be34b01"
      },
      "source": [
        "########################################### download data from given url ###############################################\n",
        "\n",
        "dataset_url = \"https://storage.googleapis.com/gresearch/dakshina/dakshina_dataset_v1.0.tar\"\n",
        "data_dir = tf.keras.utils.get_file('dakshina_dataset_v1.0', origin=dataset_url, untar=True)"
      ],
      "execution_count": null,
      "outputs": [
        {
          "output_type": "stream",
          "text": [
            "Downloading data from https://storage.googleapis.com/gresearch/dakshina/dakshina_dataset_v1.0.tar\n",
            "2008342528/2008340480 [==============================] - 37s 0us/step\n"
          ],
          "name": "stdout"
        }
      ]
    },
    {
      "cell_type": "code",
      "metadata": {
        "colab": {
          "base_uri": "https://localhost:8080/"
        },
        "id": "FsOhKufxgt7-",
        "outputId": "5f517f22-4b28-4967-9895-e886ea42eb1b"
      },
      "source": [
        "#----------------------------------terminal command -----------------------------------------------\n",
        "%cd /root/.keras/datasets/dakshina_dataset_v1.0/hi/lexicons/\n",
        "!ls"
      ],
      "execution_count": null,
      "outputs": [
        {
          "output_type": "stream",
          "text": [
            "/root/.keras/datasets/dakshina_dataset_v1.0/hi/lexicons\n",
            "hi.translit.sampled.dev.tsv   hi.translit.sampled.train.tsv\n",
            "hi.translit.sampled.test.tsv\n"
          ],
          "name": "stdout"
        }
      ]
    },
    {
      "cell_type": "code",
      "metadata": {
        "id": "zxSiYbw8hpcH"
      },
      "source": [
        "train_data_path = \"hi.translit.sampled.train.tsv\"\n",
        "test_data_path = \"hi.translit.sampled.test.tsv\"\n",
        "validation_data_path = \"hi.translit.sampled.dev.tsv\""
      ],
      "execution_count": null,
      "outputs": []
    },
    {
      "cell_type": "markdown",
      "metadata": {
        "id": "KtQd8WIJjcfi"
      },
      "source": [
        "**UTILITY FUNCTION FOR DATA PRE-PROCESSING**"
      ]
    },
    {
      "cell_type": "code",
      "metadata": {
        "id": "Rmc0tpmjjbE3"
      },
      "source": [
        "################################################ preparing the data in required format #################################################\n",
        "\n",
        "def data(path,input_token_index,target_token_index):\n",
        "  input_texts = []\n",
        "  target_texts = []\n",
        "  with open(path, \"r\", encoding=\"utf-8\") as f:\n",
        "      lines = f.read().split(\"\\n\")\n",
        "  del lines[-1]\n",
        "  for line in lines:\n",
        "      target_text, input_text, _ = line.split(\"\\t\")\n",
        "\n",
        "      input_text = \"\\t\"+input_text + \"\\n\"\n",
        "      target_text = \"\\t\"+target_text + \"\\n\"\n",
        "\n",
        "      input_texts.append(input_text)\n",
        "      target_texts.append(target_text)\n",
        "\n",
        "  encoder_input_data = np.zeros( (len(input_texts), max_encoder_seq_length), dtype=\"int32\")\n",
        "  decoder_input_data = np.zeros( (len(input_texts), max_decoder_seq_length), dtype=\"int32\")\n",
        "  decoder_target_data = np.zeros((len(input_texts), max_decoder_seq_length, num_decoder_tokens), dtype=\"int32\")\n",
        "\n",
        "  for i, (input_text, target_text) in enumerate(zip(input_texts, target_texts)):\n",
        "      for t, char in enumerate(input_text):\n",
        "          encoder_input_data[i, t] = input_token_index[char]\n",
        "      encoder_input_data[i, t + 1 :] = input_token_index[\" \"]\n",
        "      for t, char in enumerate(target_text):\n",
        "          # decoder_target_data is ahead of decoder_input_data by one timestep\n",
        "          decoder_input_data[i, t] = target_token_index[char]\n",
        "          if t > 0:\n",
        "              # decoder_target_data will be ahead by one timestep\n",
        "              # and will not include the start character.\n",
        "              decoder_target_data[i, t - 1, target_token_index[char]] = 1.0\n",
        "      decoder_input_data[i, t + 1 :] = target_token_index[\" \"]\n",
        "      decoder_target_data[i, t:, target_token_index[\" \"]] = 1.0\n",
        "    \n",
        "  return (encoder_input_data, decoder_input_data, decoder_target_data, target_texts, input_texts)"
      ],
      "execution_count": null,
      "outputs": []
    },
    {
      "cell_type": "markdown",
      "metadata": {
        "id": "yHX43bsSjPZ0"
      },
      "source": [
        "**PREPROCESSING THE DATA**"
      ]
    },
    {
      "cell_type": "code",
      "metadata": {
        "colab": {
          "base_uri": "https://localhost:8080/"
        },
        "id": "OvzlQKeQg481",
        "outputId": "f750e6da-0a5a-4e17-c631-4cc99c384373"
      },
      "source": [
        "################################################ preprocessing the train data and getting dictionaries #################################################\n",
        "\n",
        "input_texts = []\n",
        "target_texts = []\n",
        "input_characters = set()\n",
        "target_characters = set()\n",
        "with open(train_data_path, \"r\", encoding=\"utf-8\") as f:\n",
        "    lines = f.read().split(\"\\n\")\n",
        "\n",
        "del lines[-1]\n",
        "for line in lines:\n",
        "    target_text, input_text, _ = line.split(\"\\t\")\n",
        "    input_text = \"\\t\"+input_text + \"\\n\"\n",
        "    target_text = \"\\t\"+target_text + \"\\n\"\n",
        "\n",
        "    input_texts.append(input_text)\n",
        "    target_texts.append(target_text)\n",
        "    for char in input_text:\n",
        "        if char not in input_characters:\n",
        "            input_characters.add(char)\n",
        "    for char in target_text:\n",
        "        if char not in target_characters:\n",
        "            target_characters.add(char)\n",
        "\n",
        "input_characters.add(\" \")\n",
        "target_characters.add(\" \")\n",
        "\n",
        "input_characters = sorted(list(input_characters))\n",
        "target_characters = sorted(list(target_characters))\n",
        "num_encoder_tokens = len(input_characters)\n",
        "num_decoder_tokens = len(target_characters)\n",
        "max_encoder_seq_length = max([len(txt) for txt in input_texts])\n",
        "max_decoder_seq_length = max([len(txt) for txt in target_texts])\n",
        "\n",
        "print(\"Number of samples:\", len(input_texts))\n",
        "print(\"Number of unique input tokens:\", num_encoder_tokens)\n",
        "print(\"Number of unique output tokens:\", num_decoder_tokens)\n",
        "print(\"Max sequence length for inputs:\", max_encoder_seq_length)\n",
        "print(\"Max sequence length for outputs:\", max_decoder_seq_length)\n",
        "\n",
        "input_token_index = dict([(char, i) for i, char in enumerate(input_characters)])\n",
        "target_token_index = dict([(char, i) for i, char in enumerate(target_characters)])\n"
      ],
      "execution_count": null,
      "outputs": [
        {
          "output_type": "stream",
          "text": [
            "Number of samples: 44204\n",
            "Number of unique input tokens: 29\n",
            "Number of unique output tokens: 66\n",
            "Max sequence length for inputs: 22\n",
            "Max sequence length for outputs: 21\n"
          ],
          "name": "stdout"
        }
      ]
    },
    {
      "cell_type": "markdown",
      "metadata": {
        "id": "N82OZs3TNcLK"
      },
      "source": [
        "\n",
        "**MACHINE TRANSLITERATOR**\n"
      ]
    },
    {
      "cell_type": "code",
      "metadata": {
        "id": "XYsd6Xetg7dv"
      },
      "source": [
        "class Machine_Transliterator():\n",
        "\n",
        "  ############################################# constructor for class Machine_Transliterator ##########################################\n",
        "\n",
        "  def __init__(self,max_encoder_seq_length,max_decoder_seq_length,encoder_embed_size, decoder_embed_size,\n",
        "               num_encoder_layers,num_decoder_layers,epochs, hidden_layer_size,\n",
        "               num_encoder_tokens, cell_type, num_decoder_tokens,input_token_index, target_token_index, \n",
        "               activation=\"softmax\",optimizer=\"rmsprop\",dropout=0.05):\n",
        "    \n",
        "    self.cell_type= cell_type\n",
        "    self.hidden_layer_size = hidden_layer_size  \n",
        "    self.optimizer = optimizer\n",
        "    self.activation = activation   \n",
        "    self.dropout=dropout\n",
        "\n",
        "    #-------------------------------------- Number of hidden layers -------------------------------------\n",
        "\n",
        "    self.num_encoder_layers = num_encoder_layers\n",
        "    self.num_decoder_layers=num_decoder_layers\n",
        "\n",
        "    #-------------------------------------- sequence length -------------------------------------\n",
        "    self.max_decoder_seq_length=max_decoder_seq_length\n",
        "    self.max_encoder_seq_length=max_encoder_seq_length\n",
        "\n",
        "    #---------------------------------------------Embedding size-------------------------------------\n",
        "    self.encoder_embed_size = encoder_embed_size\n",
        "    self.decoder_embed_size = decoder_embed_size\n",
        "    \n",
        "    #-----------------information obtained after preprocessing of data-------------------------------------\n",
        "    self.num_encoder_tokens = num_encoder_tokens\n",
        "    self.num_decoder_tokens = num_decoder_tokens\n",
        "\n",
        "    #-----------------------------dictionaries----------------------------------------------------\n",
        "    self.input_token_index = input_token_index\n",
        "    self.target_token_index = target_token_index\n",
        "\n",
        " \n",
        "\n",
        "\n",
        "#########################################function to build model ###########################################\n",
        "\n",
        "  def build_model(self):\n",
        "\n",
        "    \n",
        "    encoder_inputs = keras.Input(shape=(None,))  \n",
        "    # encoder_inputs = keras.Input(shape=(self.max_encoder_seq_length,)) \n",
        "    # encoder_embedding_output = tf.keras.layers.Embedding(self.num_encoder_tokens, self.encoder_embed_size)(encoder_inputs)\n",
        "    encoder_embedding_output = tf.keras.layers.Embedding(input_dim = self.num_encoder_tokens, output_dim = self.encoder_embed_size, name = \"encoder_embedding_layer\")(encoder_inputs)\n",
        "\n",
        "\n",
        "#------------------------------ if cell type = LSTM -------------------------------------------------------------\n",
        "    if self.cell_type == \"lstm\":\n",
        "     #--------------------- encoder -----------------------------------\n",
        "      encoder = keras.layers.LSTM(self.hidden_layer_size, return_state=True,return_sequences=True,dropout=self.dropout,use_bias=True, name = \"encoder_layer_0\")\n",
        "      encoder_outputs, state_h, state_c = encoder(encoder_embedding_output)\n",
        "      for i in range(1,self.num_encoder_layers):\n",
        "        encoder = keras.layers.LSTM(self.hidden_layer_size, return_state=True,return_sequences=True,dropout=self.dropout,use_bias=True, name = (\"encoder_layer_\"+ str(i) ) )\n",
        "        encoder_outputs, state_h, state_c = encoder(encoder_outputs)\n",
        "      encoder_states = [state_h, state_c]\n",
        "\n",
        "      #---------------------------decoder ---------------------------------------------------\n",
        "      decoder_inputs = keras.Input(shape=(None, )) \n",
        "      # decoder_inputs = keras.Input(shape=(self.max_decoder_seq_length, ))      \n",
        "      # decoder_embedding_output = tf.keras.layers.Embedding(self.num_decoder_tokens, self.decoder_embed_size)(decoder_inputs)\n",
        "      decoder_embedding_output = tf.keras.layers.Embedding(input_dim = self.num_decoder_tokens, output_dim = self.decoder_embed_size, name = \"decoder_embedding_layer\")(decoder_inputs)\n",
        "\n",
        "      decoder = keras.layers.LSTM(self.hidden_layer_size, return_sequences=True, return_state=True,dropout=self.dropout,use_bias=True, name = \"decoder_layer_0\")\n",
        "      decoder_outputs, _, _= decoder(decoder_embedding_output, initial_state = encoder_states)\n",
        "      for i in range(1,self.num_decoder_layers):\n",
        "        decoder = keras.layers.LSTM(self.hidden_layer_size, return_state=True,return_sequences=True,dropout=self.dropout,use_bias=True, name = (\"decoder_layer_\"+ str(i) ) )\n",
        "        decoder_outputs, _ , _= decoder(decoder_outputs, initial_state = encoder_states)\n",
        "\n",
        "\n",
        "\n",
        "#------------------------------ if cell type = Simple RNN -------------------------------------------------------------\n",
        "    elif self.cell_type == \"rnn\":\n",
        "      #--------------------- encoder -----------------------------------\n",
        "      encoder_inputs = keras.Input(shape=(self.max_encoder_seq_length,))\n",
        "      encoder_embedding_output = tf.keras.layers.Embedding(input_dim = self.num_encoder_tokens, output_dim = self.encoder_embed_size, name = \"encoder_embedding_layer\", input_length=self.max_encoder_seq_length)(encoder_inputs)\n",
        "\n",
        "      encoder = keras.layers.SimpleRNN(self.hidden_layer_size, return_state=True,return_sequences=True,dropout=self.dropout, use_bias=True, name = \"encoder_layer_0\", unroll=True)\n",
        "      encoder_outputs, state = encoder(encoder_embedding_output)\n",
        "      for i in range(1,self.num_encoder_layers):\n",
        "        encoder = keras.layers.SimpleRNN(self.hidden_layer_size, return_state=True,return_sequences=True,dropout=self.dropout, use_bias=True, name = (\"encoder_layer_\"+ str(i) ), unroll=True)\n",
        "        encoder_outputs, state = encoder(encoder_outputs)\n",
        "      encoder_states = [state]\n",
        "\n",
        "      #---------------------------decoder ---------------------------------------------------\n",
        "      decoder_inputs = keras.Input(shape=(self.max_decoder_seq_length, ))      \n",
        "      # decoder_embedding_output = tf.keras.layers.Embedding(self.num_decoder_tokens, self.decoder_embed_size)(decoder_inputs)\n",
        "      decoder_embedding_output = tf.keras.layers.Embedding(input_dim = self.num_decoder_tokens, output_dim = self.decoder_embed_size, name = \"decoder_embedding_layer\", input_length=self.max_decoder_seq_length)(decoder_inputs)\n",
        "\n",
        "      decoder = keras.layers.SimpleRNN(self.hidden_layer_size, return_state=True,return_sequences=True, dropout=self.dropout, use_bias=True, name = \"decoder_layer_0\", unroll=True)\n",
        "      decoder_outputs, _ = decoder(decoder_embedding_output, initial_state = encoder_states)\n",
        "      for i in range(1,self.num_decoder_layers):\n",
        "        decoder = keras.layers.SimpleRNN(self.hidden_layer_size, return_state=True,return_sequences=True, dropout=self.dropout, use_bias=True, name = (\"decoder_layer_\"+ str(i) ), unroll=True)\n",
        "        decoder_outputs, _= decoder(decoder_outputs, initial_state = encoder_states)\n",
        "\n",
        "\n",
        "\n",
        "#------------------------------ if cell type = GRU -------------------------------------------------------------\n",
        "    elif self.cell_type == \"gru\":\n",
        "      #--------------------- encoder -----------------------------------\n",
        "      encoder = keras.layers.GRU(self.hidden_layer_size, return_state=True,return_sequences=True,dropout=self.dropout,use_bias=True, name = \"encoder_layer_0\")\n",
        "      encoder_outputs, state = encoder(encoder_embedding_output)\n",
        "      for i in range(1,self.num_encoder_layers):\n",
        "        encoder = keras.layers.GRU(self.hidden_layer_size, return_state=True,return_sequences=True,dropout=self.dropout,use_bias=True, name = (\"encoder_layer_\"+ str(i) ))\n",
        "        encoder_outputs, state = encoder(encoder_outputs)\n",
        "      encoder_states = [state]\n",
        "\n",
        "      #---------------------------decoder ---------------------------------------------------\n",
        "      decoder_inputs = keras.Input(shape=(None, ))      \n",
        "      # decoder_embedding_output = tf.keras.layers.Embedding(self.num_decoder_tokens, self.decoder_embed_size)(decoder_inputs)\n",
        "      decoder_embedding_output = tf.keras.layers.Embedding(input_dim = self.num_decoder_tokens, output_dim = self.decoder_embed_size, name = \"decoder_embedding_layer\")(decoder_inputs)\n",
        "      \n",
        "      decoder = keras.layers.GRU(self.hidden_layer_size, return_state=True,return_sequences=True, dropout=self.dropout,use_bias=True, name = \"decoder_layer_0\")\n",
        "      decoder_outputs, _ = decoder(decoder_embedding_output, initial_state = encoder_states)\n",
        "      for i in range(1,self.num_decoder_layers):\n",
        "        decoder = keras.layers.GRU(self.hidden_layer_size, return_state=True,return_sequences=True,dropout=self.dropout,use_bias=True, name = (\"decoder_layer_\"+ str(i) ))\n",
        "        decoder_outputs, _ = decoder(decoder_outputs, initial_state = encoder_states)\n",
        "\n",
        "\n",
        "    decoder_dense = keras.layers.Dense(self.num_decoder_tokens, activation = self.activation,use_bias=True, name = \"dense\")\n",
        "    decoder_outputs = decoder_dense(decoder_outputs)\n",
        "    model = keras.Model([encoder_inputs, decoder_inputs], decoder_outputs)\n",
        "    \n",
        "    #-----------------compile the model -------------------------------------\n",
        "    model.compile(\n",
        "         optimizer=self.optimizer,\n",
        "         loss=\"categorical_crossentropy\",\n",
        "         metrics=[\"accuracy\"]\n",
        "         ) \n",
        "\n",
        "#-------------------------- return final model ---------------------------------------------------------\n",
        "    return model\n",
        "\n",
        "\n",
        "\n",
        "\n",
        "\n",
        "#########################################function for training the model ###########################################\n",
        "\n",
        "  def train_model(self,encoder_input_data,decoder_input_data,decoder_target_data,epochs,batch_size,\n",
        "                  val_encoder_input_data, val_decoder_input_data, val_decoder_target_data):\n",
        "    \n",
        "     model=self.build_model()\n",
        "  \n",
        "     model.fit(\n",
        "        [encoder_input_data, decoder_input_data],\n",
        "        decoder_target_data,\n",
        "        batch_size = batch_size,\n",
        "        epochs = epochs,\n",
        "        validation_data = ([val_encoder_input_data, val_decoder_input_data],val_decoder_target_data),\n",
        "        callbacks=[WandbCallback(), EarlyStopping(patience = 5)]\n",
        "        )\n",
        "     return model\n",
        "\n",
        "#########################################function for inference on the model ###########################################\n",
        "\n",
        "  def sampling_inference(self, model, num_encoder_layers, num_decoder_layers):\n",
        "     \n",
        "     # Initialsiations\n",
        "     encoder_model = None\n",
        "     decoder_model = None\n",
        "\n",
        "     \n",
        "\n",
        "     #--------------------------------------if cell type = LSTM ----------------------------------------------------------\n",
        "     if self.cell_type ==\"lstm\":\n",
        "\n",
        "        #  for i in range(0, num_encoder_layers):\n",
        "        #    encoder_outputs, state_h_enc, state_c_enc = model.layers[i].output  # lstm_1\n",
        "\n",
        "        #-----------------------------------encoder layers-------------------------------------\n",
        "\n",
        "        #constants\n",
        "        e_inputs = model.input[0]  # input_1\n",
        "        e_embed_layer = model.get_layer(\"encoder_embedding_layer\")\n",
        "        encoder_inputs = e_embed_layer(e_inputs)\n",
        "\n",
        "        #encoder cell layers\n",
        "        encoder_cell = None\n",
        "        for i in range(0, num_encoder_layers-1):\n",
        "          encoder_cell = model.get_layer(\"encoder_layer_\" + str(i))\n",
        "          encoder_inputs, _, _ = encoder_cell(encoder_inputs)\n",
        "        encoder_cell = model.get_layer(\"encoder_layer_\" + str(num_encoder_layers-1))\n",
        "        encoder_outputs, state_h_enc, state_c_enc = encoder_cell(encoder_inputs)\n",
        "        encoder_states = [state_h_enc, state_c_enc]\n",
        "\n",
        "        #encoder model\n",
        "        encoder_model = keras.Model(e_inputs, encoder_states)\n",
        "\n",
        "        #-----------------------------------decoder layers-------------------------------------\n",
        "\n",
        "        #constants\n",
        "        d_inputs = model.input[1] #input_2\n",
        "        d_embed_layer = model.get_layer(\"decoder_embedding_layer\")\n",
        "        decoder_inputs = d_embed_layer(d_inputs)\n",
        "        decoder_state_input_h = keras.Input(shape=(self.hidden_layer_size,), name=\"input_decoder_h\")\n",
        "        decoder_state_input_c = keras.Input(shape=(self.hidden_layer_size,), name=\"input_decoder_c\")\n",
        "        decoder_state_inputs = [decoder_state_input_h, decoder_state_input_c]\n",
        "\n",
        "        #decoder cell layers\n",
        "        decoder_cell = None\n",
        "        for i in range(0, num_decoder_layers-1):\n",
        "          decoder_cell = model.get_layer(\"decoder_layer_\" + str(i))\n",
        "          decoder_inputs, _, _ = decoder_cell(decoder_inputs, initial_state = decoder_state_inputs)\n",
        "        decoder_cell = model.get_layer(\"decoder_layer_\" + str(num_decoder_layers-1))\n",
        "        decoder_inputs, state_h_dec, state_c_dec = decoder_cell(decoder_inputs, initial_state = decoder_state_inputs)\n",
        "        decoder_states = [state_h_dec, state_c_dec]\n",
        "\n",
        "        #dense layer and decoder model     \n",
        "        decoder_dense = model.get_layer(\"dense\")\n",
        "        decoder_outputs = decoder_dense(decoder_inputs)\n",
        "        decoder_model = keras.Model([d_inputs] + decoder_state_inputs, [decoder_outputs] + decoder_states)\n",
        "\n",
        "\n",
        "     #-------------------------------------if cell type =Simple RNN or GRU---------------------------------------------\n",
        "     elif self.cell_type ==\"rnn\" or self.cell_type ==\"gru\":\n",
        "\n",
        "        #-----------------------------------encoder layers-------------------------------------\n",
        "        #constants\n",
        "        e_inputs = model.input[0]  # input_1\n",
        "        e_embed_layer = model.get_layer(\"encoder_embedding_layer\")\n",
        "        encoder_inputs = e_embed_layer(e_inputs)\n",
        "\n",
        "        #encoder cell layers\n",
        "        encoder_cell = None\n",
        "        for i in range(0, num_encoder_layers-1):\n",
        "          encoder_cell = model.get_layer(\"encoder_layer_\" + str(i))\n",
        "          encoder_inputs, _ = encoder_cell(encoder_inputs)\n",
        "        encoder_cell = model.get_layer(\"encoder_layer_\" + str(num_encoder_layers-1))\n",
        "        encoder_outputs, state_h_enc = encoder_cell(encoder_inputs)\n",
        "        encoder_states = [state_h_enc]\n",
        "\n",
        "        #encoder model\n",
        "        encoder_model = keras.Model(e_inputs, encoder_states)\n",
        "\n",
        "        #-----------------------------------decoder layers-------------------------------------\n",
        "\n",
        "        #constants\n",
        "        d_inputs = model.input[1] #input_2\n",
        "        d_embed_layer = model.get_layer(\"decoder_embedding_layer\")\n",
        "        decoder_inputs = d_embed_layer(d_inputs)\n",
        "        decoder_state_input_h = keras.Input(shape=(self.hidden_layer_size,), name=\"input_decoder_h\")\n",
        "        decoder_state_inputs = [decoder_state_input_h]\n",
        "\n",
        "        #decoder cell layers\n",
        "        decoder_cell = None\n",
        "        for i in range(0, num_decoder_layers-1):\n",
        "          decoder_cell = model.get_layer(\"decoder_layer_\"+str(i))\n",
        "          decoder_inputs, _ = decoder_cell(decoder_inputs, initial_state = decoder_state_inputs)\n",
        "        decoder_cell = model.get_layer(\"decoder_layer_\" + str(num_decoder_layers-1))\n",
        "        decoder_inputs, state_h_dec = decoder_cell(decoder_inputs, initial_state = decoder_state_inputs)\n",
        "        decoder_states = [state_h_dec]\n",
        "\n",
        "        #dense layer and decoder model        \n",
        "        decoder_dense = model.get_layer(\"dense\")\n",
        "        decoder_outputs = decoder_dense(decoder_inputs)\n",
        "        decoder_model = keras.Model([d_inputs] + decoder_state_inputs, [decoder_outputs] + decoder_states)\n",
        "\n",
        "     reverse_input_char_index = dict((i, char) for char, i in self.input_token_index.items())\n",
        "     reverse_target_char_index = dict((i, char) for char, i in self.target_token_index.items())\n",
        "     return (reverse_input_char_index,reverse_target_char_index, encoder_model, decoder_model)\n",
        "\n",
        "\n",
        "\n",
        "##################################################function for decoding input sequence ###########################################\n",
        "\n",
        "  def decode_sequence(self, input_data, encoder_model, decoder_model, max_decoder_seq_length, target_token_index):\n",
        "\n",
        "    num_examples = input_data.shape[0]\n",
        "    max_encoder_seq_length = input_data.shape[0]\n",
        "\n",
        "    # raw form of predictions to be returned\n",
        "    predicted_output = np.full((num_examples, max_decoder_seq_length), target_token_index[\" \"])\n",
        "\n",
        "    # ------ -----------if cell type=LSTM ---------------------------------\n",
        "    if self.cell_type ==\"lstm\":\n",
        "      states_value = encoder_model.predict(input_data[:num_examples,:])\n",
        "      target_seq = np.zeros((num_examples, 1),dtype=\"int32\")\n",
        "      target_seq[:, 0] = self.target_token_index[\"\\t\"]  \n",
        "\n",
        "    # ------ -----------if cell type= Simple RNN or GRU --------------------\n",
        "    elif self.cell_type == \"rnn\" or self.cell_type ==\"gru\":\n",
        "      states_value = (encoder_model.predict(input_data[:num_examples,:]))\n",
        "      target_seq = np.zeros((num_examples, 1),dtype=\"int32\")\n",
        "      target_seq[:, 0] = self.target_token_index[\"\\t\"]  \n",
        "\n",
        "    for i in range(max_decoder_seq_length):\n",
        "      # ------------------if cell type=LSTM ---------------------------------\n",
        "      if self.cell_type ==\"lstm\":\n",
        "        output_tokens, h, c = decoder_model.predict([target_seq] + states_value)\n",
        "        states_value = [h, c]\n",
        "      # ------------------if cell type= Simple RNN or GRU --------------------\n",
        "      elif self.cell_type ==\"rnn\" or self.cell_type ==\"gru\":\n",
        "        output_tokens, h = decoder_model.predict([target_seq] + [states_value])\n",
        "        states_value = [h] \n",
        "\n",
        "      for j in range(num_examples):\n",
        "        target_seq[j,0] = np.argmax(output_tokens[j, -1, :])\n",
        "        if target_seq[j,0] == target_token_index[\"\\n\"]:\n",
        "          predicted_output[j,i] = target_token_index[\" \"]\n",
        "        else:\n",
        "          predicted_output[j,i] = target_seq[j,0]\n",
        "\n",
        "  #--------------------------- return predictions ------------------------------\n",
        "    return predicted_output\n",
        "  \n",
        "  ##################################################function for calculating accuracy ###########################################\n",
        "\n",
        "  def calculate_accuracy(self, output_corpus, input_data, reverse_target_char_index, encoder_model, decoder_model):\n",
        "    \n",
        "    limit = input_data.shape[0]   \n",
        "\n",
        "    ########################### creating vectorised form of true output ###############################\n",
        "    true_output = np.full((limit, self.max_decoder_seq_length), self.target_token_index[\" \"])\n",
        "    for row in range(limit):\n",
        "      example = output_corpus[row].replace(\"\\n\",\"\").replace(\"\\t\",\"\")\n",
        "      for col in range(len(example)):\n",
        "        true_output[row][col] = self.target_token_index[example[col]]\n",
        "    \n",
        "    ########################### creating vectorised form of predicted output ###############################\n",
        "    predicted_output = self.decode_sequence(input_data, encoder_model, decoder_model, self.max_decoder_seq_length, target_token_index)\n",
        "\n",
        "    ########################### calculating accuracy ###############################\n",
        "    A = true_output\n",
        "    B = predicted_output \n",
        "    accuracy = (np.count_nonzero((A == B).all(1))/A.shape[0])\n",
        "\n",
        "    wandb.log({\"val_acc\":accuracy})\n",
        "\n",
        "    return accuracy\n",
        "\n",
        "#===================================== end of class Machine_Transliterator ==========================================\n",
        "\n"
      ],
      "execution_count": null,
      "outputs": []
    },
    {
      "cell_type": "markdown",
      "metadata": {
        "id": "NR4rOYbMVIUZ"
      },
      "source": [
        "**PARAMETERS**"
      ]
    },
    {
      "cell_type": "code",
      "metadata": {
        "id": "llXj7Z6LSnMz"
      },
      "source": [
        "# cell_type = \"gru\" # Type of the recurring unit\n",
        "# batch_size = 64  # Batch size for training.\n",
        "# epochs = 30  # Number of epochs to train for.\n",
        "# hidden_layer_size= 56  # Latent dimensionality of the encoding space.\n",
        "# # num_samples = 10000  # Number of samples to train on.\n",
        "# activation = \"softmax\" #activation\n",
        "# optimizer = \"Adam\"  #optimizer\n",
        "# encoder_embed_size = 32 #Encoder embedsize\n",
        "# decoder_embed_size = 32 #Decoder embedsize\n",
        "# num_encoder_layers=1  # number of hidden layers in encoder\n",
        "# num_decoder_layers=1   # number of hidden layers in decoder\n",
        "# dropout=0.0 #Dropout"
      ],
      "execution_count": null,
      "outputs": []
    },
    {
      "cell_type": "markdown",
      "metadata": {
        "id": "JH8MZK3IPERe"
      },
      "source": [
        "**PREPROCESSING THE DATA**"
      ]
    },
    {
      "cell_type": "code",
      "metadata": {
        "id": "eYj3x6F4SNTm"
      },
      "source": [
        "############################# preprocessing the data ################################\n",
        "\n",
        "(encoder_input_data,decoder_input_data,decoder_target_data, _, _)=data(train_data_path,input_token_index,target_token_index)\n",
        "(val_encoder_input_data,val_decoder_input_data,val_decoder_target_data, val_target_texts, val_input_texts)=data(validation_data_path ,input_token_index,target_token_index)"
      ],
      "execution_count": null,
      "outputs": []
    },
    {
      "cell_type": "code",
      "metadata": {
        "id": "CGu0vosaNV4N"
      },
      "source": [
        "(t_encoder_input_data,t_decoder_input_data,t_decoder_target_data, t_target_texts, t_input_texts)=data(test_data_path ,input_token_index,target_token_index)"
      ],
      "execution_count": null,
      "outputs": []
    },
    {
      "cell_type": "markdown",
      "metadata": {
        "id": "m0ksIw3vH3XJ"
      },
      "source": [
        "**CREATING MACHINE TRANSLITERATOR**"
      ]
    },
    {
      "cell_type": "code",
      "metadata": {
        "id": "_ZhI8e1dH3XK"
      },
      "source": [
        "########################## creating machine transliterator object ###############################\n",
        "# machine = Machine_Transliterator(\n",
        "#       max_encoder_seq_length,max_decoder_seq_length,encoder_embed_size, \n",
        "#       decoder_embed_size,num_encoder_layers,num_decoder_layers,\n",
        "#       batch_size, hidden_layer_size, num_encoder_tokens, cell_type, num_decoder_tokens, \n",
        "#       input_token_index,target_token_index, activation, optimizer,dropout\n",
        "#     )ype, num_decoder_tokens, \n",
        "#       input_token_index,target_token_index, activation, optimizer,dropout\n",
        "#     )"
      ],
      "execution_count": null,
      "outputs": []
    },
    {
      "cell_type": "markdown",
      "metadata": {
        "id": "TJlX41fVRs1x"
      },
      "source": [
        "**TRAINING**"
      ]
    },
    {
      "cell_type": "code",
      "metadata": {
        "id": "-UQyh8rmdkM8"
      },
      "source": [
        "# model = machine.train_model(\n",
        "#     encoder_input_data, decoder_input_data,decoder_target_data,epochs,batch_size,\n",
        "#     val_encoder_input_data, val_decoder_input_data, val_decoder_target_data\n",
        "#     )"
      ],
      "execution_count": null,
      "outputs": []
    },
    {
      "cell_type": "code",
      "metadata": {
        "id": "_F7lOm3MzREt",
        "colab": {
          "base_uri": "https://localhost:8080/"
        },
        "outputId": "d74f3e79-e8f7-4117-b355-1a08d710a672"
      },
      "source": [
        "optimizer = \"Adam\"\n",
        "activation = \"softmax\"\n",
        "\n",
        "sweep_config={\n",
        "              \"method\":\"random\",\n",
        "              'metric' : {\n",
        "                            'name' : 'val_acc',\n",
        "                            'goal' : 'maximize',\n",
        "                         },\n",
        "          \"parameters\" : {\n",
        "                            \"cell_type\":{\"values\":[\"rnn\",\"lstm\",\"gru\"]},\n",
        "                            \"batch_size\":{\"values\": [32,64,128]},\n",
        "                            \"epochs\":{\"values\":[20,25,30,40,60]}, \n",
        "                            \"hidden_layer_size\":{\"values\": [128,256,512,1024,2048]}, \n",
        "                            \"encoder_embed_size\": {\"values\": [27, 64, 128, 512, 1024] },\n",
        "                            \"decoder_embed_size\": {\"values\":[27, 64, 128, 512, 1024]  },\n",
        "                            \"num_encoder_layers\": {\"values\": [1,2,3,4]},\n",
        "                            \"num_decoder_layers\":{\"values\":[1,2,3,4] },\n",
        "                            \"dropout\": {\"values\":[0.00,0.1, 0.05,0.001]}\n",
        "                         }\n",
        "              }\n",
        "sweep_id = wandb.sweep(sweep_config, project=\"NMT\")"
      ],
      "execution_count": null,
      "outputs": [
        {
          "output_type": "stream",
          "text": [
            "Create sweep with ID: 4yhiwznk\n",
            "Sweep URL: https://wandb.ai/anshikag_2210/NMT/sweeps/4yhiwznk\n"
          ],
          "name": "stdout"
        }
      ]
    },
    {
      "cell_type": "code",
      "metadata": {
        "id": "ZkSWJ0evzbNc"
      },
      "source": [
        "def run():\n",
        "\n",
        "  wb = wandb.init()\n",
        "  config = wb.config\n",
        "\n",
        "  #----------------------sweep parameters------------------------------------\n",
        "  cell_type =config.cell_type \n",
        "  batch_size = config.batch_size \n",
        "  epochs = config.epochs \n",
        "  hidden_layer_size= config.hidden_layer_size\n",
        "  encoder_embed_size =config.encoder_embed_size\n",
        "  decoder_embed_size = config.decoder_embed_size\n",
        "  num_encoder_layers=config.num_encoder_layers\n",
        "  num_decoder_layers= config.num_decoder_layers \n",
        "  dropout=config.dropout\n",
        "  \n",
        "  ########################### creating machine transliterator object ###############################\n",
        "  machine = Machine_Transliterator(\n",
        "      max_encoder_seq_length,max_decoder_seq_length,encoder_embed_size, \n",
        "      decoder_embed_size,num_encoder_layers,num_decoder_layers,\n",
        "      batch_size, hidden_layer_size, num_encoder_tokens, cell_type, num_decoder_tokens, \n",
        "      input_token_index,target_token_index, activation, optimizer,dropout\n",
        "      )\n",
        "  model = machine.train_model(\n",
        "      encoder_input_data, decoder_input_data,decoder_target_data,epochs,batch_size,\n",
        "      val_encoder_input_data, val_decoder_input_data, val_decoder_target_data\n",
        "      ) \n",
        "  (reverse_input_char_index,reverse_target_char_index, encoder_model, decoder_model) = machine.sampling_inference(model, num_encoder_layers, num_decoder_layers)\n",
        "  val_acc = machine.calculate_accuracy(val_target_texts, val_encoder_input_data, reverse_target_char_index, encoder_model, decoder_model)\n",
        "  return"
      ],
      "execution_count": null,
      "outputs": []
    },
    {
      "cell_type": "code",
      "metadata": {
        "id": "yeoe7fbqOpb9",
        "colab": {
          "base_uri": "https://localhost:8080/",
          "height": 1000,
          "referenced_widgets": [
            "5f4d4aad7db8497297a404a3a6f02882",
            "a69846a880d44a4aa5933c40b17b173e",
            "0c7d8f5e52474b85a71252b740da3a46",
            "26be3ccdfb1745e9aaee7316083e9b56",
            "69f1f20ffcce40f18256987cfd638e0e",
            "68542e8007f140f1afd2f5c425094fd0",
            "e79395d921e04642a6ae02b1f27747bc",
            "195ec375559c4ba4a6ad25207418bacf",
            "dd6090741d7a4434b1347950139af645",
            "f37e42d030214e05857812721d108b7b",
            "fd15c43675564370b155700f0b2cf530",
            "2be3c34541fa48dc9fdf8169ae009597",
            "d0df221432a24d82b47f4d3c22b5580f",
            "9bf13c07b03f4bb19b56e0f68b535074",
            "0e679b2d630944afb028326560a05053",
            "9dc7453653bc442b958e6aeb3e0b2db6",
            "d2f06cd1e65a43c6b95196c4d4f23dd5",
            "c29fdfe6300d4a0084a29012304c2c65",
            "e3f26bf7436246ada7a1c02584db3d21",
            "617021ae83ee497a8533eae3d8d07237",
            "214eeea975dd489c8943aa3bc0ccae9e",
            "402a173e139c4568a1e9c6eec253d00b",
            "1c63ca47a71947b8a210c15d0f1c89cc",
            "389e47771d1e4320b43ebba7412a3d28",
            "5b8d15d3445546b69d22a13d99eb12b1",
            "0f7dd7ccc30b4dbe836c62018d395516",
            "b1653c2a2e724306b60e26abaee19c69",
            "9838de96117d4c1d89c93979f76faa6a",
            "1aad6fc643e248b0b5f91c659f781164",
            "1e88f56d1dc34d57bdabeea3bcc2b3f0",
            "fb9c2d9d16fb4a808e9c23789a7ca067",
            "810c4f5352774a8fbdc6d55643be6a98",
            "6b4c7e491703458cb483b2a8b126b2f8",
            "83250e1ff33743139935f9f1a5865565",
            "9ca052d278474c049c2a98fa7553253f",
            "e97c76f5fe3a4bf89d9707e56ea70551",
            "e5e38cee174642ca94db69df6e02fae2",
            "b6eed3a002e14c92ab636e198623a9b1",
            "ccc2ac01da8c4de2bdedda27bb3d789e",
            "0ab5086377464a6fbf4999b587123a76",
            "01caa0fd7bf4410b8e96593aa08e11ff",
            "2d8843d27ed34264b990122b63a30a24",
            "588288a5f5454a89bf499675601c09bf",
            "13d0050d1d464c468195cfa098af9d4a",
            "4ae678bf294642ba9416dd4884ce3193",
            "14abbb1935a147bc80b47e669c1a5d03",
            "79f4b3eed771420c823d2caee5e3e2a7",
            "b50529edbec94b40b198b60cdee82eb3",
            "9d466c67ff87447c9a3b6788fbe5fde4",
            "55e942d07fef4fccb98c6a7bd94f625e",
            "86b7cc7bc00348fc82430523596f4e2b",
            "67600dead1b749d5afdd6849f769f799",
            "8fca2cbc27134653bafcf858f366a463",
            "2cd62b535ff8477e8e67c4e1cfd860ba",
            "b852b43922324fdfbe69c53ceba7a6e7",
            "645345b6672d4f42bcaeb495632ba2e6",
            "3d151bcbb0cf469aaaa846a4bf60a81d",
            "5b2c46f1801549ceac03151f6ae8d03b",
            "04a1654394cc446fb0d831774b831a04",
            "a47a99afd27e452c81f4a6905400dc08",
            "a8032886d43c4da0ac0f76ffe0d08e14",
            "2f3f92be34c5482eae2ad6b486d1be71",
            "c138de1a2ced45eab0f9d1ef74cb27aa",
            "1e961595e55f4df892a1ad3b1776495a",
            "09f84f5457f1440db831ff615dcf39cd",
            "f3a3b55f336a4607a6842f94a1d626cc",
            "e011fce0f9554058b410b031a9cfbc71",
            "d8582f9c93de4bcb8bb4753d522300fc",
            "b369d1aa23224f80b7d503dc40beeaa2",
            "8ef776e9fdce4880a9086dae7b363d0c",
            "c05ba3c2ea27411db5b99e9c7066d1aa",
            "729ffd366b7b44c7b70a96c6c2eb2a33",
            "4459c361b39c4b18845e06f25263bd52",
            "66f8c6dc07924614acb99c3daf2c2d54",
            "be076fcdfe26437b939a26fde37f5d3c",
            "5a5142706a9647c58343ee4a4ccbfac4",
            "50d8d63ad77f4b71a8c0af6fd63f6e87",
            "5de42e5eccd8468484ce6dae4d11665b",
            "718fcbb045d94e7a84f7e5f4c37c9efa",
            "e186238525324d4fbcc0f55c73910134",
            "db92b351373c480e8c4a98f0328aac55",
            "58af86e2db9a455f9c2de22a8be8810c",
            "a67a7d0e7f414944946674aaee66444f",
            "0a1979098fe6404fb964cbcc3835e46b",
            "48651c4f697b41eb837060b2ac09d46f",
            "86c2cd708a11423e8db176e79e5f6834",
            "ddabb2c53ec749cdb6bc7478d5869878",
            "84fe02e483d049c4a1795a7f8ae1b9eb",
            "2f5e2efa09ec472ba167001b8e2168b2",
            "f8c26ea1fdc6413d87100a3aff36aafd",
            "70b26131250f4dcfbad9cf6df1dcb14c",
            "e7ad7e797a0a4bb3bc4d9f2f697e2ff8",
            "9fa2c3c4a49541d09ab2e28d2e73a5fb",
            "4e5bac2835c04776beb38651fc5da55d",
            "44e6aee360914826ba2594303e736fff",
            "e62fad8f1f4a4c39bce047a3fd2cca64"
          ]
        },
        "outputId": "d796f31d-fcde-43e9-8e2b-eac35f185469"
      },
      "source": [
        "wandb.agent(sweep_id, run, count=500)"
      ],
      "execution_count": null,
      "outputs": [
        {
          "output_type": "stream",
          "text": [
            "\u001b[34m\u001b[1mwandb\u001b[0m: Agent Starting Run: 93co4iw4 with config:\n",
            "\u001b[34m\u001b[1mwandb\u001b[0m: \tbatch_size: 32\n",
            "\u001b[34m\u001b[1mwandb\u001b[0m: \tcell_type: rnn\n",
            "\u001b[34m\u001b[1mwandb\u001b[0m: \tdecoder_embed_size: 512\n",
            "\u001b[34m\u001b[1mwandb\u001b[0m: \tdropout: 0.1\n",
            "\u001b[34m\u001b[1mwandb\u001b[0m: \tencoder_embed_size: 1024\n",
            "\u001b[34m\u001b[1mwandb\u001b[0m: \tepochs: 40\n",
            "\u001b[34m\u001b[1mwandb\u001b[0m: \thidden_layer_size: 2048\n",
            "\u001b[34m\u001b[1mwandb\u001b[0m: \tnum_decoder_layers: 1\n",
            "\u001b[34m\u001b[1mwandb\u001b[0m: \tnum_encoder_layers: 2\n",
            "\u001b[34m\u001b[1mwandb\u001b[0m: Currently logged in as: \u001b[33manshikag_2210\u001b[0m (use `wandb login --relogin` to force relogin)\n"
          ],
          "name": "stderr"
        },
        {
          "output_type": "display_data",
          "data": {
            "text/html": [
              "\n",
              "                Tracking run with wandb version 0.10.30<br/>\n",
              "                Syncing run <strong style=\"color:#cdcd00\">faithful-sweep-1</strong> to <a href=\"https://wandb.ai\" target=\"_blank\">Weights & Biases</a> <a href=\"https://docs.wandb.com/integrations/jupyter.html\" target=\"_blank\">(Documentation)</a>.<br/>\n",
              "                Project page: <a href=\"https://wandb.ai/anshikag_2210/NMT\" target=\"_blank\">https://wandb.ai/anshikag_2210/NMT</a><br/>\n",
              "                Sweep page: <a href=\"https://wandb.ai/anshikag_2210/NMT/sweeps/4yhiwznk\" target=\"_blank\">https://wandb.ai/anshikag_2210/NMT/sweeps/4yhiwznk</a><br/>\n",
              "Run page: <a href=\"https://wandb.ai/anshikag_2210/NMT/runs/93co4iw4\" target=\"_blank\">https://wandb.ai/anshikag_2210/NMT/runs/93co4iw4</a><br/>\n",
              "                Run data is saved locally in <code>/root/.keras/datasets/dakshina_dataset_v1.0/hi/lexicons/wandb/run-20210513_091621-93co4iw4</code><br/><br/>\n",
              "            "
            ],
            "text/plain": [
              "<IPython.core.display.HTML object>"
            ]
          },
          "metadata": {
            "tags": []
          }
        },
        {
          "output_type": "stream",
          "text": [
            "Epoch 1/40\n",
            "1382/1382 [==============================] - 236s 165ms/step - loss: 1.2475 - accuracy: 0.7063 - val_loss: 0.9375 - val_accuracy: 0.7482\n",
            "Epoch 2/40\n",
            "1382/1382 [==============================] - 227s 164ms/step - loss: 0.9624 - accuracy: 0.7416 - val_loss: 0.9436 - val_accuracy: 0.7497\n",
            "Epoch 3/40\n",
            "1382/1382 [==============================] - 226s 163ms/step - loss: 0.9600 - accuracy: 0.7412 - val_loss: 0.9400 - val_accuracy: 0.7516\n",
            "Epoch 4/40\n",
            "1382/1382 [==============================] - 226s 164ms/step - loss: 0.9622 - accuracy: 0.7415 - val_loss: 0.9418 - val_accuracy: 0.7502\n",
            "Epoch 5/40\n",
            "1382/1382 [==============================] - 227s 164ms/step - loss: 0.9630 - accuracy: 0.7415 - val_loss: 0.9519 - val_accuracy: 0.7455\n",
            "Epoch 6/40\n",
            "1382/1382 [==============================] - 227s 164ms/step - loss: 0.9660 - accuracy: 0.7413 - val_loss: 0.9458 - val_accuracy: 0.7490\n",
            "WARNING:tensorflow:Model was constructed with shape (None, 21) for input KerasTensor(type_spec=TensorSpec(shape=(None, 21), dtype=tf.float32, name='input_3'), name='input_3', description=\"created by layer 'input_3'\"), but it was called on an input with incompatible shape (None, 1).\n",
            "WARNING:tensorflow:Model was constructed with shape (None, 21) for input KerasTensor(type_spec=TensorSpec(shape=(None, 21), dtype=tf.float32, name='input_3'), name='input_3', description=\"created by layer 'input_3'\"), but it was called on an input with incompatible shape (None, 1).\n"
          ],
          "name": "stdout"
        },
        {
          "output_type": "display_data",
          "data": {
            "text/html": [
              "<br/>Waiting for W&B process to finish, PID 162<br/>Program ended successfully."
            ],
            "text/plain": [
              "<IPython.core.display.HTML object>"
            ]
          },
          "metadata": {
            "tags": []
          }
        },
        {
          "output_type": "display_data",
          "data": {
            "application/vnd.jupyter.widget-view+json": {
              "model_id": "5f4d4aad7db8497297a404a3a6f02882",
              "version_minor": 0,
              "version_major": 2
            },
            "text/plain": [
              "VBox(children=(Label(value=' 230.41MB of 230.41MB uploaded (0.00MB deduped)\\r'), FloatProgress(value=1.0, max=…"
            ]
          },
          "metadata": {
            "tags": []
          }
        },
        {
          "output_type": "display_data",
          "data": {
            "text/html": [
              "Find user logs for this run at: <code>/root/.keras/datasets/dakshina_dataset_v1.0/hi/lexicons/wandb/run-20210513_091621-93co4iw4/logs/debug.log</code>"
            ],
            "text/plain": [
              "<IPython.core.display.HTML object>"
            ]
          },
          "metadata": {
            "tags": []
          }
        },
        {
          "output_type": "display_data",
          "data": {
            "text/html": [
              "Find internal logs for this run at: <code>/root/.keras/datasets/dakshina_dataset_v1.0/hi/lexicons/wandb/run-20210513_091621-93co4iw4/logs/debug-internal.log</code>"
            ],
            "text/plain": [
              "<IPython.core.display.HTML object>"
            ]
          },
          "metadata": {
            "tags": []
          }
        },
        {
          "output_type": "display_data",
          "data": {
            "text/html": [
              "<h3>Run summary:</h3><br/><style>\n",
              "    table.wandb td:nth-child(1) { padding: 0 10px; text-align: right }\n",
              "    </style><table class=\"wandb\">\n",
              "<tr><td>epoch</td><td>5</td></tr><tr><td>loss</td><td>0.96576</td></tr><tr><td>accuracy</td><td>0.74099</td></tr><tr><td>val_loss</td><td>0.94576</td></tr><tr><td>val_accuracy</td><td>0.749</td></tr><tr><td>_runtime</td><td>1398</td></tr><tr><td>_timestamp</td><td>1620898779</td></tr><tr><td>_step</td><td>6</td></tr><tr><td>best_val_loss</td><td>0.93747</td></tr><tr><td>best_epoch</td><td>0</td></tr><tr><td>val_acc</td><td>0.0</td></tr></table>"
            ],
            "text/plain": [
              "<IPython.core.display.HTML object>"
            ]
          },
          "metadata": {
            "tags": []
          }
        },
        {
          "output_type": "display_data",
          "data": {
            "text/html": [
              "<h3>Run history:</h3><br/><style>\n",
              "    table.wandb td:nth-child(1) { padding: 0 10px; text-align: right }\n",
              "    </style><table class=\"wandb\">\n",
              "<tr><td>epoch</td><td>▁▂▄▅▇█</td></tr><tr><td>loss</td><td>█▁▁▁▂▂</td></tr><tr><td>accuracy</td><td>▁▇█▇▇▇</td></tr><tr><td>val_loss</td><td>▁▄▂▃█▅</td></tr><tr><td>val_accuracy</td><td>▄▆█▆▁▅</td></tr><tr><td>_runtime</td><td>▁▂▄▅▇██</td></tr><tr><td>_timestamp</td><td>▁▂▄▅▇██</td></tr><tr><td>_step</td><td>▁▂▃▅▆▇█</td></tr><tr><td>val_acc</td><td>▁</td></tr></table><br/>"
            ],
            "text/plain": [
              "<IPython.core.display.HTML object>"
            ]
          },
          "metadata": {
            "tags": []
          }
        },
        {
          "output_type": "display_data",
          "data": {
            "text/html": [
              "Synced 5 W&B file(s), 1 media file(s), 0 artifact file(s) and 1 other file(s)"
            ],
            "text/plain": [
              "<IPython.core.display.HTML object>"
            ]
          },
          "metadata": {
            "tags": []
          }
        },
        {
          "output_type": "display_data",
          "data": {
            "text/html": [
              "\n",
              "                    <br/>Synced <strong style=\"color:#cdcd00\">faithful-sweep-1</strong>: <a href=\"https://wandb.ai/anshikag_2210/NMT/runs/93co4iw4\" target=\"_blank\">https://wandb.ai/anshikag_2210/NMT/runs/93co4iw4</a><br/>\n",
              "                "
            ],
            "text/plain": [
              "<IPython.core.display.HTML object>"
            ]
          },
          "metadata": {
            "tags": []
          }
        },
        {
          "output_type": "stream",
          "text": [
            "\u001b[34m\u001b[1mwandb\u001b[0m: Agent Starting Run: 6pnxup1k with config:\n",
            "\u001b[34m\u001b[1mwandb\u001b[0m: \tbatch_size: 128\n",
            "\u001b[34m\u001b[1mwandb\u001b[0m: \tcell_type: gru\n",
            "\u001b[34m\u001b[1mwandb\u001b[0m: \tdecoder_embed_size: 64\n",
            "\u001b[34m\u001b[1mwandb\u001b[0m: \tdropout: 0.1\n",
            "\u001b[34m\u001b[1mwandb\u001b[0m: \tencoder_embed_size: 128\n",
            "\u001b[34m\u001b[1mwandb\u001b[0m: \tepochs: 20\n",
            "\u001b[34m\u001b[1mwandb\u001b[0m: \thidden_layer_size: 256\n",
            "\u001b[34m\u001b[1mwandb\u001b[0m: \tnum_decoder_layers: 2\n",
            "\u001b[34m\u001b[1mwandb\u001b[0m: \tnum_encoder_layers: 4\n"
          ],
          "name": "stderr"
        },
        {
          "output_type": "display_data",
          "data": {
            "text/html": [
              "\n",
              "                Tracking run with wandb version 0.10.30<br/>\n",
              "                Syncing run <strong style=\"color:#cdcd00\">amber-sweep-2</strong> to <a href=\"https://wandb.ai\" target=\"_blank\">Weights & Biases</a> <a href=\"https://docs.wandb.com/integrations/jupyter.html\" target=\"_blank\">(Documentation)</a>.<br/>\n",
              "                Project page: <a href=\"https://wandb.ai/anshikag_2210/NMT\" target=\"_blank\">https://wandb.ai/anshikag_2210/NMT</a><br/>\n",
              "                Sweep page: <a href=\"https://wandb.ai/anshikag_2210/NMT/sweeps/4yhiwznk\" target=\"_blank\">https://wandb.ai/anshikag_2210/NMT/sweeps/4yhiwznk</a><br/>\n",
              "Run page: <a href=\"https://wandb.ai/anshikag_2210/NMT/runs/6pnxup1k\" target=\"_blank\">https://wandb.ai/anshikag_2210/NMT/runs/6pnxup1k</a><br/>\n",
              "                Run data is saved locally in <code>/root/.keras/datasets/dakshina_dataset_v1.0/hi/lexicons/wandb/run-20210513_093944-6pnxup1k</code><br/><br/>\n",
              "            "
            ],
            "text/plain": [
              "<IPython.core.display.HTML object>"
            ]
          },
          "metadata": {
            "tags": []
          }
        },
        {
          "output_type": "stream",
          "text": [
            "Epoch 1/20\n",
            "346/346 [==============================] - 63s 77ms/step - loss: 1.4256 - accuracy: 0.6906 - val_loss: 0.8622 - val_accuracy: 0.7626\n",
            "Epoch 2/20\n",
            "346/346 [==============================] - 24s 71ms/step - loss: 0.8624 - accuracy: 0.7599 - val_loss: 0.6874 - val_accuracy: 0.8014\n",
            "Epoch 3/20\n",
            "346/346 [==============================] - 24s 70ms/step - loss: 0.6548 - accuracy: 0.8101 - val_loss: 0.4806 - val_accuracy: 0.8563\n",
            "Epoch 4/20\n",
            "346/346 [==============================] - 24s 71ms/step - loss: 0.4653 - accuracy: 0.8612 - val_loss: 0.3452 - val_accuracy: 0.8969\n",
            "Epoch 5/20\n",
            "346/346 [==============================] - 24s 70ms/step - loss: 0.3368 - accuracy: 0.8983 - val_loss: 0.2671 - val_accuracy: 0.9197\n",
            "Epoch 6/20\n",
            "346/346 [==============================] - 24s 70ms/step - loss: 0.2532 - accuracy: 0.9229 - val_loss: 0.2246 - val_accuracy: 0.9308\n",
            "Epoch 7/20\n",
            "346/346 [==============================] - 24s 70ms/step - loss: 0.2039 - accuracy: 0.9371 - val_loss: 0.1947 - val_accuracy: 0.9409\n",
            "Epoch 8/20\n",
            "346/346 [==============================] - 24s 70ms/step - loss: 0.1693 - accuracy: 0.9477 - val_loss: 0.1866 - val_accuracy: 0.9420\n",
            "Epoch 9/20\n",
            "346/346 [==============================] - 24s 70ms/step - loss: 0.1470 - accuracy: 0.9542 - val_loss: 0.1799 - val_accuracy: 0.9441\n",
            "Epoch 10/20\n",
            "346/346 [==============================] - 24s 70ms/step - loss: 0.1301 - accuracy: 0.9592 - val_loss: 0.1734 - val_accuracy: 0.9465\n",
            "Epoch 11/20\n",
            "346/346 [==============================] - 24s 71ms/step - loss: 0.1141 - accuracy: 0.9640 - val_loss: 0.1670 - val_accuracy: 0.9493\n",
            "Epoch 12/20\n",
            "346/346 [==============================] - 24s 71ms/step - loss: 0.1017 - accuracy: 0.9677 - val_loss: 0.1689 - val_accuracy: 0.9491\n",
            "Epoch 13/20\n",
            "346/346 [==============================] - 24s 70ms/step - loss: 0.0911 - accuracy: 0.9714 - val_loss: 0.1716 - val_accuracy: 0.9489\n",
            "Epoch 14/20\n",
            "346/346 [==============================] - 24s 70ms/step - loss: 0.0821 - accuracy: 0.9740 - val_loss: 0.1705 - val_accuracy: 0.9498\n",
            "Epoch 15/20\n",
            "346/346 [==============================] - 24s 71ms/step - loss: 0.0757 - accuracy: 0.9759 - val_loss: 0.1740 - val_accuracy: 0.9497\n",
            "Epoch 16/20\n",
            "346/346 [==============================] - 24s 71ms/step - loss: 0.0686 - accuracy: 0.9780 - val_loss: 0.1750 - val_accuracy: 0.9500\n"
          ],
          "name": "stdout"
        },
        {
          "output_type": "display_data",
          "data": {
            "text/html": [
              "<br/>Waiting for W&B process to finish, PID 559<br/>Program ended successfully."
            ],
            "text/plain": [
              "<IPython.core.display.HTML object>"
            ]
          },
          "metadata": {
            "tags": []
          }
        },
        {
          "output_type": "display_data",
          "data": {
            "application/vnd.jupyter.widget-view+json": {
              "model_id": "dd6090741d7a4434b1347950139af645",
              "version_minor": 0,
              "version_major": 2
            },
            "text/plain": [
              "VBox(children=(Label(value=' 24.68MB of 24.68MB uploaded (0.00MB deduped)\\r'), FloatProgress(value=1.0, max=1.…"
            ]
          },
          "metadata": {
            "tags": []
          }
        },
        {
          "output_type": "display_data",
          "data": {
            "text/html": [
              "Find user logs for this run at: <code>/root/.keras/datasets/dakshina_dataset_v1.0/hi/lexicons/wandb/run-20210513_093944-6pnxup1k/logs/debug.log</code>"
            ],
            "text/plain": [
              "<IPython.core.display.HTML object>"
            ]
          },
          "metadata": {
            "tags": []
          }
        },
        {
          "output_type": "display_data",
          "data": {
            "text/html": [
              "Find internal logs for this run at: <code>/root/.keras/datasets/dakshina_dataset_v1.0/hi/lexicons/wandb/run-20210513_093944-6pnxup1k/logs/debug-internal.log</code>"
            ],
            "text/plain": [
              "<IPython.core.display.HTML object>"
            ]
          },
          "metadata": {
            "tags": []
          }
        },
        {
          "output_type": "display_data",
          "data": {
            "text/html": [
              "<h3>Run summary:</h3><br/><style>\n",
              "    table.wandb td:nth-child(1) { padding: 0 10px; text-align: right }\n",
              "    </style><table class=\"wandb\">\n",
              "<tr><td>epoch</td><td>15</td></tr><tr><td>loss</td><td>0.07109</td></tr><tr><td>accuracy</td><td>0.97719</td></tr><tr><td>val_loss</td><td>0.17498</td></tr><tr><td>val_accuracy</td><td>0.95002</td></tr><tr><td>_runtime</td><td>453</td></tr><tr><td>_timestamp</td><td>1620899237</td></tr><tr><td>_step</td><td>16</td></tr><tr><td>best_val_loss</td><td>0.16701</td></tr><tr><td>best_epoch</td><td>10</td></tr><tr><td>val_acc</td><td>0.00229</td></tr></table>"
            ],
            "text/plain": [
              "<IPython.core.display.HTML object>"
            ]
          },
          "metadata": {
            "tags": []
          }
        },
        {
          "output_type": "display_data",
          "data": {
            "text/html": [
              "<h3>Run history:</h3><br/><style>\n",
              "    table.wandb td:nth-child(1) { padding: 0 10px; text-align: right }\n",
              "    </style><table class=\"wandb\">\n",
              "<tr><td>epoch</td><td>▁▁▂▂▃▃▄▄▅▅▆▆▇▇██</td></tr><tr><td>loss</td><td>█▆▅▃▃▂▂▂▂▁▁▁▁▁▁▁</td></tr><tr><td>accuracy</td><td>▁▂▄▅▆▇▇▇▇███████</td></tr><tr><td>val_loss</td><td>█▆▄▃▂▂▁▁▁▁▁▁▁▁▁▁</td></tr><tr><td>val_accuracy</td><td>▁▂▄▆▇▇██████████</td></tr><tr><td>_runtime</td><td>▁▁▂▂▃▃▄▄▅▅▅▆▆▇▇██</td></tr><tr><td>_timestamp</td><td>▁▁▂▂▃▃▄▄▅▅▅▆▆▇▇██</td></tr><tr><td>_step</td><td>▁▁▂▂▃▃▄▄▅▅▅▆▆▇▇██</td></tr><tr><td>val_acc</td><td>▁</td></tr></table><br/>"
            ],
            "text/plain": [
              "<IPython.core.display.HTML object>"
            ]
          },
          "metadata": {
            "tags": []
          }
        },
        {
          "output_type": "display_data",
          "data": {
            "text/html": [
              "Synced 5 W&B file(s), 1 media file(s), 0 artifact file(s) and 1 other file(s)"
            ],
            "text/plain": [
              "<IPython.core.display.HTML object>"
            ]
          },
          "metadata": {
            "tags": []
          }
        },
        {
          "output_type": "display_data",
          "data": {
            "text/html": [
              "\n",
              "                    <br/>Synced <strong style=\"color:#cdcd00\">amber-sweep-2</strong>: <a href=\"https://wandb.ai/anshikag_2210/NMT/runs/6pnxup1k\" target=\"_blank\">https://wandb.ai/anshikag_2210/NMT/runs/6pnxup1k</a><br/>\n",
              "                "
            ],
            "text/plain": [
              "<IPython.core.display.HTML object>"
            ]
          },
          "metadata": {
            "tags": []
          }
        },
        {
          "output_type": "stream",
          "text": [
            "\u001b[34m\u001b[1mwandb\u001b[0m: Agent Starting Run: jwg5ifn4 with config:\n",
            "\u001b[34m\u001b[1mwandb\u001b[0m: \tbatch_size: 128\n",
            "\u001b[34m\u001b[1mwandb\u001b[0m: \tcell_type: rnn\n",
            "\u001b[34m\u001b[1mwandb\u001b[0m: \tdecoder_embed_size: 27\n",
            "\u001b[34m\u001b[1mwandb\u001b[0m: \tdropout: 0.001\n",
            "\u001b[34m\u001b[1mwandb\u001b[0m: \tencoder_embed_size: 27\n",
            "\u001b[34m\u001b[1mwandb\u001b[0m: \tepochs: 60\n",
            "\u001b[34m\u001b[1mwandb\u001b[0m: \thidden_layer_size: 256\n",
            "\u001b[34m\u001b[1mwandb\u001b[0m: \tnum_decoder_layers: 4\n",
            "\u001b[34m\u001b[1mwandb\u001b[0m: \tnum_encoder_layers: 3\n"
          ],
          "name": "stderr"
        },
        {
          "output_type": "display_data",
          "data": {
            "text/html": [
              "\n",
              "                Tracking run with wandb version 0.10.30<br/>\n",
              "                Syncing run <strong style=\"color:#cdcd00\">genial-sweep-3</strong> to <a href=\"https://wandb.ai\" target=\"_blank\">Weights & Biases</a> <a href=\"https://docs.wandb.com/integrations/jupyter.html\" target=\"_blank\">(Documentation)</a>.<br/>\n",
              "                Project page: <a href=\"https://wandb.ai/anshikag_2210/NMT\" target=\"_blank\">https://wandb.ai/anshikag_2210/NMT</a><br/>\n",
              "                Sweep page: <a href=\"https://wandb.ai/anshikag_2210/NMT/sweeps/4yhiwznk\" target=\"_blank\">https://wandb.ai/anshikag_2210/NMT/sweeps/4yhiwznk</a><br/>\n",
              "Run page: <a href=\"https://wandb.ai/anshikag_2210/NMT/runs/jwg5ifn4\" target=\"_blank\">https://wandb.ai/anshikag_2210/NMT/runs/jwg5ifn4</a><br/>\n",
              "                Run data is saved locally in <code>/root/.keras/datasets/dakshina_dataset_v1.0/hi/lexicons/wandb/run-20210513_094723-jwg5ifn4</code><br/><br/>\n",
              "            "
            ],
            "text/plain": [
              "<IPython.core.display.HTML object>"
            ]
          },
          "metadata": {
            "tags": []
          }
        },
        {
          "output_type": "stream",
          "text": [
            "Epoch 1/60\n",
            "346/346 [==============================] - 36s 69ms/step - loss: 1.2640 - accuracy: 0.6871 - val_loss: 0.8897 - val_accuracy: 0.7737\n",
            "Epoch 2/60\n",
            "346/346 [==============================] - 22s 63ms/step - loss: 0.8700 - accuracy: 0.7691 - val_loss: 0.7548 - val_accuracy: 0.7935\n",
            "Epoch 3/60\n",
            "346/346 [==============================] - 22s 64ms/step - loss: 0.7662 - accuracy: 0.7903 - val_loss: 0.6997 - val_accuracy: 0.8109\n",
            "Epoch 4/60\n",
            "346/346 [==============================] - 21s 62ms/step - loss: 0.7137 - accuracy: 0.8029 - val_loss: 0.6728 - val_accuracy: 0.8155\n",
            "Epoch 5/60\n",
            "346/346 [==============================] - 22s 63ms/step - loss: 0.6831 - accuracy: 0.8099 - val_loss: 0.6393 - val_accuracy: 0.8228\n",
            "Epoch 6/60\n",
            "346/346 [==============================] - 22s 63ms/step - loss: 0.6308 - accuracy: 0.8230 - val_loss: 0.6158 - val_accuracy: 0.8298\n",
            "Epoch 7/60\n",
            "346/346 [==============================] - 22s 64ms/step - loss: 0.6004 - accuracy: 0.8297 - val_loss: 0.6090 - val_accuracy: 0.8276\n",
            "Epoch 8/60\n",
            "346/346 [==============================] - 22s 63ms/step - loss: 0.5690 - accuracy: 0.8371 - val_loss: 0.5819 - val_accuracy: 0.8357\n",
            "Epoch 9/60\n",
            "346/346 [==============================] - 22s 64ms/step - loss: 0.5416 - accuracy: 0.8438 - val_loss: 0.5701 - val_accuracy: 0.8402\n",
            "Epoch 10/60\n",
            "346/346 [==============================] - 22s 63ms/step - loss: 0.5209 - accuracy: 0.8488 - val_loss: 0.5709 - val_accuracy: 0.8377\n",
            "Epoch 11/60\n",
            "346/346 [==============================] - 22s 63ms/step - loss: 0.5035 - accuracy: 0.8536 - val_loss: 0.5636 - val_accuracy: 0.8405\n",
            "Epoch 12/60\n",
            "346/346 [==============================] - 22s 63ms/step - loss: 0.4776 - accuracy: 0.8602 - val_loss: 0.5486 - val_accuracy: 0.8450\n",
            "Epoch 13/60\n",
            "346/346 [==============================] - 22s 64ms/step - loss: 0.4617 - accuracy: 0.8640 - val_loss: 0.5602 - val_accuracy: 0.8445\n",
            "Epoch 14/60\n",
            "346/346 [==============================] - 22s 63ms/step - loss: 0.4487 - accuracy: 0.8673 - val_loss: 0.5481 - val_accuracy: 0.8463\n",
            "Epoch 15/60\n",
            "346/346 [==============================] - 22s 63ms/step - loss: 0.4345 - accuracy: 0.8709 - val_loss: 0.5485 - val_accuracy: 0.8463\n",
            "Epoch 16/60\n",
            "346/346 [==============================] - 22s 62ms/step - loss: 0.4180 - accuracy: 0.8759 - val_loss: 0.5462 - val_accuracy: 0.8484\n",
            "Epoch 17/60\n",
            "346/346 [==============================] - 22s 63ms/step - loss: 0.4099 - accuracy: 0.8775 - val_loss: 0.5545 - val_accuracy: 0.8468\n",
            "Epoch 18/60\n",
            "346/346 [==============================] - 22s 63ms/step - loss: 0.3990 - accuracy: 0.8806 - val_loss: 0.5530 - val_accuracy: 0.8492\n",
            "Epoch 19/60\n",
            "346/346 [==============================] - 22s 64ms/step - loss: 0.3877 - accuracy: 0.8833 - val_loss: 0.5652 - val_accuracy: 0.8466\n",
            "Epoch 20/60\n",
            "346/346 [==============================] - 22s 63ms/step - loss: 0.3811 - accuracy: 0.8850 - val_loss: 0.5630 - val_accuracy: 0.8479\n",
            "Epoch 21/60\n",
            "346/346 [==============================] - 22s 64ms/step - loss: 0.3752 - accuracy: 0.8867 - val_loss: 0.5614 - val_accuracy: 0.8483\n",
            "WARNING:tensorflow:Model was constructed with shape (None, 21) for input KerasTensor(type_spec=TensorSpec(shape=(None, 21), dtype=tf.float32, name='input_3'), name='input_3', description=\"created by layer 'input_3'\"), but it was called on an input with incompatible shape (None, 1).\n",
            "WARNING:tensorflow:Model was constructed with shape (None, 21) for input KerasTensor(type_spec=TensorSpec(shape=(None, 21), dtype=tf.float32, name='input_3'), name='input_3', description=\"created by layer 'input_3'\"), but it was called on an input with incompatible shape (None, 1).\n"
          ],
          "name": "stdout"
        },
        {
          "output_type": "display_data",
          "data": {
            "text/html": [
              "<br/>Waiting for W&B process to finish, PID 774<br/>Program ended successfully."
            ],
            "text/plain": [
              "<IPython.core.display.HTML object>"
            ]
          },
          "metadata": {
            "tags": []
          }
        },
        {
          "output_type": "display_data",
          "data": {
            "application/vnd.jupyter.widget-view+json": {
              "model_id": "d2f06cd1e65a43c6b95196c4d4f23dd5",
              "version_minor": 0,
              "version_major": 2
            },
            "text/plain": [
              "VBox(children=(Label(value=' 9.52MB of 9.52MB uploaded (0.00MB deduped)\\r'), FloatProgress(value=1.0, max=1.0)…"
            ]
          },
          "metadata": {
            "tags": []
          }
        },
        {
          "output_type": "display_data",
          "data": {
            "text/html": [
              "Find user logs for this run at: <code>/root/.keras/datasets/dakshina_dataset_v1.0/hi/lexicons/wandb/run-20210513_094723-jwg5ifn4/logs/debug.log</code>"
            ],
            "text/plain": [
              "<IPython.core.display.HTML object>"
            ]
          },
          "metadata": {
            "tags": []
          }
        },
        {
          "output_type": "display_data",
          "data": {
            "text/html": [
              "Find internal logs for this run at: <code>/root/.keras/datasets/dakshina_dataset_v1.0/hi/lexicons/wandb/run-20210513_094723-jwg5ifn4/logs/debug-internal.log</code>"
            ],
            "text/plain": [
              "<IPython.core.display.HTML object>"
            ]
          },
          "metadata": {
            "tags": []
          }
        },
        {
          "output_type": "display_data",
          "data": {
            "text/html": [
              "<h3>Run summary:</h3><br/><style>\n",
              "    table.wandb td:nth-child(1) { padding: 0 10px; text-align: right }\n",
              "    </style><table class=\"wandb\">\n",
              "<tr><td>epoch</td><td>20</td></tr><tr><td>loss</td><td>0.37591</td></tr><tr><td>accuracy</td><td>0.88652</td></tr><tr><td>val_loss</td><td>0.56138</td></tr><tr><td>val_accuracy</td><td>0.84827</td></tr><tr><td>_runtime</td><td>492</td></tr><tr><td>_timestamp</td><td>1620899735</td></tr><tr><td>_step</td><td>21</td></tr><tr><td>best_val_loss</td><td>0.54615</td></tr><tr><td>best_epoch</td><td>15</td></tr><tr><td>val_acc</td><td>0.0</td></tr></table>"
            ],
            "text/plain": [
              "<IPython.core.display.HTML object>"
            ]
          },
          "metadata": {
            "tags": []
          }
        },
        {
          "output_type": "display_data",
          "data": {
            "text/html": [
              "<h3>Run history:</h3><br/><style>\n",
              "    table.wandb td:nth-child(1) { padding: 0 10px; text-align: right }\n",
              "    </style><table class=\"wandb\">\n",
              "<tr><td>epoch</td><td>▁▁▂▂▂▃▃▃▄▄▅▅▅▆▆▆▇▇▇██</td></tr><tr><td>loss</td><td>█▅▅▄▄▃▃▃▃▂▂▂▂▂▂▁▁▁▁▁▁</td></tr><tr><td>accuracy</td><td>▁▃▄▅▅▅▆▆▆▇▇▇▇▇▇██████</td></tr><tr><td>val_loss</td><td>█▅▄▄▃▂▂▂▁▂▁▁▁▁▁▁▁▁▁▁▁</td></tr><tr><td>val_accuracy</td><td>▁▃▄▅▆▆▆▇▇▇▇██████████</td></tr><tr><td>_runtime</td><td>▁▁▂▂▂▃▃▃▄▄▄▅▅▅▆▆▆▇▇▇██</td></tr><tr><td>_timestamp</td><td>▁▁▂▂▂▃▃▃▄▄▄▅▅▅▆▆▆▇▇▇██</td></tr><tr><td>_step</td><td>▁▁▂▂▂▃▃▃▄▄▄▅▅▅▆▆▆▇▇▇██</td></tr><tr><td>val_acc</td><td>▁</td></tr></table><br/>"
            ],
            "text/plain": [
              "<IPython.core.display.HTML object>"
            ]
          },
          "metadata": {
            "tags": []
          }
        },
        {
          "output_type": "display_data",
          "data": {
            "text/html": [
              "Synced 5 W&B file(s), 1 media file(s), 0 artifact file(s) and 1 other file(s)"
            ],
            "text/plain": [
              "<IPython.core.display.HTML object>"
            ]
          },
          "metadata": {
            "tags": []
          }
        },
        {
          "output_type": "display_data",
          "data": {
            "text/html": [
              "\n",
              "                    <br/>Synced <strong style=\"color:#cdcd00\">genial-sweep-3</strong>: <a href=\"https://wandb.ai/anshikag_2210/NMT/runs/jwg5ifn4\" target=\"_blank\">https://wandb.ai/anshikag_2210/NMT/runs/jwg5ifn4</a><br/>\n",
              "                "
            ],
            "text/plain": [
              "<IPython.core.display.HTML object>"
            ]
          },
          "metadata": {
            "tags": []
          }
        },
        {
          "output_type": "stream",
          "text": [
            "\u001b[34m\u001b[1mwandb\u001b[0m: Agent Starting Run: pqm2svu1 with config:\n",
            "\u001b[34m\u001b[1mwandb\u001b[0m: \tbatch_size: 32\n",
            "\u001b[34m\u001b[1mwandb\u001b[0m: \tcell_type: rnn\n",
            "\u001b[34m\u001b[1mwandb\u001b[0m: \tdecoder_embed_size: 128\n",
            "\u001b[34m\u001b[1mwandb\u001b[0m: \tdropout: 0\n",
            "\u001b[34m\u001b[1mwandb\u001b[0m: \tencoder_embed_size: 128\n",
            "\u001b[34m\u001b[1mwandb\u001b[0m: \tepochs: 60\n",
            "\u001b[34m\u001b[1mwandb\u001b[0m: \thidden_layer_size: 512\n",
            "\u001b[34m\u001b[1mwandb\u001b[0m: \tnum_decoder_layers: 2\n",
            "\u001b[34m\u001b[1mwandb\u001b[0m: \tnum_encoder_layers: 3\n"
          ],
          "name": "stderr"
        },
        {
          "output_type": "display_data",
          "data": {
            "text/html": [
              "\n",
              "                Tracking run with wandb version 0.10.30<br/>\n",
              "                Syncing run <strong style=\"color:#cdcd00\">misty-sweep-4</strong> to <a href=\"https://wandb.ai\" target=\"_blank\">Weights & Biases</a> <a href=\"https://docs.wandb.com/integrations/jupyter.html\" target=\"_blank\">(Documentation)</a>.<br/>\n",
              "                Project page: <a href=\"https://wandb.ai/anshikag_2210/NMT\" target=\"_blank\">https://wandb.ai/anshikag_2210/NMT</a><br/>\n",
              "                Sweep page: <a href=\"https://wandb.ai/anshikag_2210/NMT/sweeps/4yhiwznk\" target=\"_blank\">https://wandb.ai/anshikag_2210/NMT/sweeps/4yhiwznk</a><br/>\n",
              "Run page: <a href=\"https://wandb.ai/anshikag_2210/NMT/runs/pqm2svu1\" target=\"_blank\">https://wandb.ai/anshikag_2210/NMT/runs/pqm2svu1</a><br/>\n",
              "                Run data is saved locally in <code>/root/.keras/datasets/dakshina_dataset_v1.0/hi/lexicons/wandb/run-20210513_095541-pqm2svu1</code><br/><br/>\n",
              "            "
            ],
            "text/plain": [
              "<IPython.core.display.HTML object>"
            ]
          },
          "metadata": {
            "tags": []
          }
        },
        {
          "output_type": "stream",
          "text": [
            "Epoch 1/60\n",
            "1382/1382 [==============================] - 89s 60ms/step - loss: 1.1524 - accuracy: 0.7088 - val_loss: 0.9208 - val_accuracy: 0.7532\n",
            "Epoch 2/60\n",
            "1382/1382 [==============================] - 81s 59ms/step - loss: 0.9429 - accuracy: 0.7438 - val_loss: 0.8940 - val_accuracy: 0.7575\n",
            "Epoch 3/60\n",
            "1382/1382 [==============================] - 81s 59ms/step - loss: 0.9112 - accuracy: 0.7499 - val_loss: 0.8777 - val_accuracy: 0.7592\n",
            "Epoch 4/60\n",
            "1382/1382 [==============================] - 81s 59ms/step - loss: 0.8827 - accuracy: 0.7564 - val_loss: 0.8596 - val_accuracy: 0.7623\n",
            "Epoch 5/60\n",
            "1382/1382 [==============================] - 81s 59ms/step - loss: 0.8607 - accuracy: 0.7604 - val_loss: 0.8590 - val_accuracy: 0.7643\n",
            "Epoch 6/60\n",
            "1382/1382 [==============================] - 81s 58ms/step - loss: 0.8408 - accuracy: 0.7656 - val_loss: 0.8559 - val_accuracy: 0.7634\n",
            "Epoch 7/60\n",
            "1382/1382 [==============================] - 81s 59ms/step - loss: 0.8177 - accuracy: 0.7708 - val_loss: 0.8471 - val_accuracy: 0.7680\n",
            "Epoch 8/60\n",
            "1382/1382 [==============================] - 81s 59ms/step - loss: 0.8038 - accuracy: 0.7746 - val_loss: 0.8434 - val_accuracy: 0.7678\n",
            "Epoch 9/60\n",
            "1382/1382 [==============================] - 81s 59ms/step - loss: 0.7858 - accuracy: 0.7786 - val_loss: 0.8397 - val_accuracy: 0.7677\n",
            "Epoch 10/60\n",
            "1382/1382 [==============================] - 81s 59ms/step - loss: 0.7691 - accuracy: 0.7826 - val_loss: 0.8426 - val_accuracy: 0.7677\n",
            "Epoch 11/60\n",
            "1382/1382 [==============================] - 81s 59ms/step - loss: 0.7561 - accuracy: 0.7855 - val_loss: 0.8441 - val_accuracy: 0.7703\n",
            "Epoch 12/60\n",
            "1382/1382 [==============================] - 81s 59ms/step - loss: 0.7452 - accuracy: 0.7883 - val_loss: 0.8428 - val_accuracy: 0.7710\n",
            "Epoch 13/60\n",
            "1382/1382 [==============================] - 81s 59ms/step - loss: 0.7324 - accuracy: 0.7915 - val_loss: 0.8464 - val_accuracy: 0.7700\n",
            "Epoch 14/60\n",
            "1382/1382 [==============================] - 81s 59ms/step - loss: 0.7200 - accuracy: 0.7945 - val_loss: 0.8478 - val_accuracy: 0.7697\n",
            "WARNING:tensorflow:Model was constructed with shape (None, 21) for input KerasTensor(type_spec=TensorSpec(shape=(None, 21), dtype=tf.float32, name='input_3'), name='input_3', description=\"created by layer 'input_3'\"), but it was called on an input with incompatible shape (None, 1).\n",
            "WARNING:tensorflow:Model was constructed with shape (None, 21) for input KerasTensor(type_spec=TensorSpec(shape=(None, 21), dtype=tf.float32, name='input_3'), name='input_3', description=\"created by layer 'input_3'\"), but it was called on an input with incompatible shape (None, 1).\n"
          ],
          "name": "stdout"
        },
        {
          "output_type": "display_data",
          "data": {
            "text/html": [
              "<br/>Waiting for W&B process to finish, PID 945<br/>Program ended successfully."
            ],
            "text/plain": [
              "<IPython.core.display.HTML object>"
            ]
          },
          "metadata": {
            "tags": []
          }
        },
        {
          "output_type": "display_data",
          "data": {
            "application/vnd.jupyter.widget-view+json": {
              "model_id": "5b8d15d3445546b69d22a13d99eb12b1",
              "version_minor": 0,
              "version_major": 2
            },
            "text/plain": [
              "VBox(children=(Label(value=' 26.15MB of 26.15MB uploaded (0.00MB deduped)\\r'), FloatProgress(value=1.0, max=1.…"
            ]
          },
          "metadata": {
            "tags": []
          }
        },
        {
          "output_type": "display_data",
          "data": {
            "text/html": [
              "Find user logs for this run at: <code>/root/.keras/datasets/dakshina_dataset_v1.0/hi/lexicons/wandb/run-20210513_095541-pqm2svu1/logs/debug.log</code>"
            ],
            "text/plain": [
              "<IPython.core.display.HTML object>"
            ]
          },
          "metadata": {
            "tags": []
          }
        },
        {
          "output_type": "display_data",
          "data": {
            "text/html": [
              "Find internal logs for this run at: <code>/root/.keras/datasets/dakshina_dataset_v1.0/hi/lexicons/wandb/run-20210513_095541-pqm2svu1/logs/debug-internal.log</code>"
            ],
            "text/plain": [
              "<IPython.core.display.HTML object>"
            ]
          },
          "metadata": {
            "tags": []
          }
        },
        {
          "output_type": "display_data",
          "data": {
            "text/html": [
              "<h3>Run summary:</h3><br/><style>\n",
              "    table.wandb td:nth-child(1) { padding: 0 10px; text-align: right }\n",
              "    </style><table class=\"wandb\">\n",
              "<tr><td>epoch</td><td>13</td></tr><tr><td>loss</td><td>0.72142</td></tr><tr><td>accuracy</td><td>0.79392</td></tr><tr><td>val_loss</td><td>0.84775</td></tr><tr><td>val_accuracy</td><td>0.76973</td></tr><tr><td>_runtime</td><td>1163</td></tr><tr><td>_timestamp</td><td>1620900904</td></tr><tr><td>_step</td><td>14</td></tr><tr><td>best_val_loss</td><td>0.83969</td></tr><tr><td>best_epoch</td><td>8</td></tr><tr><td>val_acc</td><td>0.0</td></tr></table>"
            ],
            "text/plain": [
              "<IPython.core.display.HTML object>"
            ]
          },
          "metadata": {
            "tags": []
          }
        },
        {
          "output_type": "display_data",
          "data": {
            "text/html": [
              "<h3>Run history:</h3><br/><style>\n",
              "    table.wandb td:nth-child(1) { padding: 0 10px; text-align: right }\n",
              "    </style><table class=\"wandb\">\n",
              "<tr><td>epoch</td><td>▁▂▂▃▃▄▄▅▅▆▆▇▇█</td></tr><tr><td>loss</td><td>█▆▅▅▄▄▃▃▂▂▂▂▁▁</td></tr><tr><td>accuracy</td><td>▁▃▃▄▅▅▆▆▆▇▇▇██</td></tr><tr><td>val_loss</td><td>█▆▄▃▃▂▂▁▁▁▁▁▂▂</td></tr><tr><td>val_accuracy</td><td>▁▃▃▅▅▅▇▇▇▇████</td></tr><tr><td>_runtime</td><td>▁▂▂▃▃▄▄▅▅▆▆▇▇██</td></tr><tr><td>_timestamp</td><td>▁▂▂▃▃▄▄▅▅▆▆▇▇██</td></tr><tr><td>_step</td><td>▁▁▂▃▃▃▄▅▅▅▆▇▇▇█</td></tr><tr><td>val_acc</td><td>▁</td></tr></table><br/>"
            ],
            "text/plain": [
              "<IPython.core.display.HTML object>"
            ]
          },
          "metadata": {
            "tags": []
          }
        },
        {
          "output_type": "display_data",
          "data": {
            "text/html": [
              "Synced 5 W&B file(s), 1 media file(s), 0 artifact file(s) and 1 other file(s)"
            ],
            "text/plain": [
              "<IPython.core.display.HTML object>"
            ]
          },
          "metadata": {
            "tags": []
          }
        },
        {
          "output_type": "display_data",
          "data": {
            "text/html": [
              "\n",
              "                    <br/>Synced <strong style=\"color:#cdcd00\">misty-sweep-4</strong>: <a href=\"https://wandb.ai/anshikag_2210/NMT/runs/pqm2svu1\" target=\"_blank\">https://wandb.ai/anshikag_2210/NMT/runs/pqm2svu1</a><br/>\n",
              "                "
            ],
            "text/plain": [
              "<IPython.core.display.HTML object>"
            ]
          },
          "metadata": {
            "tags": []
          }
        },
        {
          "output_type": "stream",
          "text": [
            "\u001b[34m\u001b[1mwandb\u001b[0m: Agent Starting Run: jcm9udtg with config:\n",
            "\u001b[34m\u001b[1mwandb\u001b[0m: \tbatch_size: 32\n",
            "\u001b[34m\u001b[1mwandb\u001b[0m: \tcell_type: lstm\n",
            "\u001b[34m\u001b[1mwandb\u001b[0m: \tdecoder_embed_size: 1024\n",
            "\u001b[34m\u001b[1mwandb\u001b[0m: \tdropout: 0\n",
            "\u001b[34m\u001b[1mwandb\u001b[0m: \tencoder_embed_size: 512\n",
            "\u001b[34m\u001b[1mwandb\u001b[0m: \tepochs: 40\n",
            "\u001b[34m\u001b[1mwandb\u001b[0m: \thidden_layer_size: 256\n",
            "\u001b[34m\u001b[1mwandb\u001b[0m: \tnum_decoder_layers: 3\n",
            "\u001b[34m\u001b[1mwandb\u001b[0m: \tnum_encoder_layers: 1\n"
          ],
          "name": "stderr"
        },
        {
          "output_type": "display_data",
          "data": {
            "text/html": [
              "\n",
              "                Tracking run with wandb version 0.10.30<br/>\n",
              "                Syncing run <strong style=\"color:#cdcd00\">zesty-sweep-5</strong> to <a href=\"https://wandb.ai\" target=\"_blank\">Weights & Biases</a> <a href=\"https://docs.wandb.com/integrations/jupyter.html\" target=\"_blank\">(Documentation)</a>.<br/>\n",
              "                Project page: <a href=\"https://wandb.ai/anshikag_2210/NMT\" target=\"_blank\">https://wandb.ai/anshikag_2210/NMT</a><br/>\n",
              "                Sweep page: <a href=\"https://wandb.ai/anshikag_2210/NMT/sweeps/4yhiwznk\" target=\"_blank\">https://wandb.ai/anshikag_2210/NMT/sweeps/4yhiwznk</a><br/>\n",
              "Run page: <a href=\"https://wandb.ai/anshikag_2210/NMT/runs/jcm9udtg\" target=\"_blank\">https://wandb.ai/anshikag_2210/NMT/runs/jcm9udtg</a><br/>\n",
              "                Run data is saved locally in <code>/root/.keras/datasets/dakshina_dataset_v1.0/hi/lexicons/wandb/run-20210513_101510-jcm9udtg</code><br/><br/>\n",
              "            "
            ],
            "text/plain": [
              "<IPython.core.display.HTML object>"
            ]
          },
          "metadata": {
            "tags": []
          }
        },
        {
          "output_type": "stream",
          "text": [
            "Epoch 1/40\n",
            "1382/1382 [==============================] - 91s 61ms/step - loss: 1.0739 - accuracy: 0.7284 - val_loss: 0.5990 - val_accuracy: 0.8239\n",
            "Epoch 2/40\n",
            "1382/1382 [==============================] - 78s 57ms/step - loss: 0.4917 - accuracy: 0.8523 - val_loss: 0.2550 - val_accuracy: 0.9207\n",
            "Epoch 3/40\n",
            "1382/1382 [==============================] - 75s 55ms/step - loss: 0.2171 - accuracy: 0.9322 - val_loss: 0.1946 - val_accuracy: 0.9380\n",
            "Epoch 4/40\n",
            "1382/1382 [==============================] - 67s 49ms/step - loss: 0.1453 - accuracy: 0.9540 - val_loss: 0.1730 - val_accuracy: 0.9455\n",
            "Epoch 5/40\n",
            "1382/1382 [==============================] - 64s 47ms/step - loss: 0.1077 - accuracy: 0.9659 - val_loss: 0.1703 - val_accuracy: 0.9475\n",
            "Epoch 6/40\n",
            "1382/1382 [==============================] - 64s 47ms/step - loss: 0.0826 - accuracy: 0.9740 - val_loss: 0.1708 - val_accuracy: 0.9477\n",
            "Epoch 7/40\n",
            "1382/1382 [==============================] - 65s 47ms/step - loss: 0.0664 - accuracy: 0.9787 - val_loss: 0.1745 - val_accuracy: 0.9485\n",
            "Epoch 8/40\n",
            "1382/1382 [==============================] - 64s 47ms/step - loss: 0.0543 - accuracy: 0.9828 - val_loss: 0.1821 - val_accuracy: 0.9479\n",
            "Epoch 9/40\n",
            "1382/1382 [==============================] - 65s 47ms/step - loss: 0.0452 - accuracy: 0.9856 - val_loss: 0.1866 - val_accuracy: 0.9476\n",
            "Epoch 10/40\n",
            "1382/1382 [==============================] - 65s 47ms/step - loss: 0.0391 - accuracy: 0.9876 - val_loss: 0.1898 - val_accuracy: 0.9481\n"
          ],
          "name": "stdout"
        },
        {
          "output_type": "display_data",
          "data": {
            "text/html": [
              "<br/>Waiting for W&B process to finish, PID 1119<br/>Program ended successfully."
            ],
            "text/plain": [
              "<IPython.core.display.HTML object>"
            ]
          },
          "metadata": {
            "tags": []
          }
        },
        {
          "output_type": "display_data",
          "data": {
            "application/vnd.jupyter.widget-view+json": {
              "model_id": "6b4c7e491703458cb483b2a8b126b2f8",
              "version_minor": 0,
              "version_major": 2
            },
            "text/plain": [
              "VBox(children=(Label(value=' 37.27MB of 37.27MB uploaded (0.00MB deduped)\\r'), FloatProgress(value=1.0, max=1.…"
            ]
          },
          "metadata": {
            "tags": []
          }
        },
        {
          "output_type": "display_data",
          "data": {
            "text/html": [
              "Find user logs for this run at: <code>/root/.keras/datasets/dakshina_dataset_v1.0/hi/lexicons/wandb/run-20210513_101510-jcm9udtg/logs/debug.log</code>"
            ],
            "text/plain": [
              "<IPython.core.display.HTML object>"
            ]
          },
          "metadata": {
            "tags": []
          }
        },
        {
          "output_type": "display_data",
          "data": {
            "text/html": [
              "Find internal logs for this run at: <code>/root/.keras/datasets/dakshina_dataset_v1.0/hi/lexicons/wandb/run-20210513_101510-jcm9udtg/logs/debug-internal.log</code>"
            ],
            "text/plain": [
              "<IPython.core.display.HTML object>"
            ]
          },
          "metadata": {
            "tags": []
          }
        },
        {
          "output_type": "display_data",
          "data": {
            "text/html": [
              "<h3>Run summary:</h3><br/><style>\n",
              "    table.wandb td:nth-child(1) { padding: 0 10px; text-align: right }\n",
              "    </style><table class=\"wandb\">\n",
              "<tr><td>epoch</td><td>9</td></tr><tr><td>loss</td><td>0.04326</td></tr><tr><td>accuracy</td><td>0.98593</td></tr><tr><td>val_loss</td><td>0.1898</td></tr><tr><td>val_accuracy</td><td>0.94811</td></tr><tr><td>_runtime</td><td>724</td></tr><tr><td>_timestamp</td><td>1620901634</td></tr><tr><td>_step</td><td>10</td></tr><tr><td>best_val_loss</td><td>0.17035</td></tr><tr><td>best_epoch</td><td>4</td></tr><tr><td>val_acc</td><td>0.0117</td></tr></table>"
            ],
            "text/plain": [
              "<IPython.core.display.HTML object>"
            ]
          },
          "metadata": {
            "tags": []
          }
        },
        {
          "output_type": "display_data",
          "data": {
            "text/html": [
              "<h3>Run history:</h3><br/><style>\n",
              "    table.wandb td:nth-child(1) { padding: 0 10px; text-align: right }\n",
              "    </style><table class=\"wandb\">\n",
              "<tr><td>epoch</td><td>▁▂▃▃▄▅▆▆▇█</td></tr><tr><td>loss</td><td>█▄▂▂▂▁▁▁▁▁</td></tr><tr><td>accuracy</td><td>▁▅▆▇▇█████</td></tr><tr><td>val_loss</td><td>█▂▁▁▁▁▁▁▁▁</td></tr><tr><td>val_accuracy</td><td>▁▆▇███████</td></tr><tr><td>_runtime</td><td>▁▂▃▃▄▅▆▆▇██</td></tr><tr><td>_timestamp</td><td>▁▂▃▃▄▅▆▆▇██</td></tr><tr><td>_step</td><td>▁▂▂▃▄▅▅▆▇▇█</td></tr><tr><td>val_acc</td><td>▁</td></tr></table><br/>"
            ],
            "text/plain": [
              "<IPython.core.display.HTML object>"
            ]
          },
          "metadata": {
            "tags": []
          }
        },
        {
          "output_type": "display_data",
          "data": {
            "text/html": [
              "Synced 5 W&B file(s), 1 media file(s), 0 artifact file(s) and 1 other file(s)"
            ],
            "text/plain": [
              "<IPython.core.display.HTML object>"
            ]
          },
          "metadata": {
            "tags": []
          }
        },
        {
          "output_type": "display_data",
          "data": {
            "text/html": [
              "\n",
              "                    <br/>Synced <strong style=\"color:#cdcd00\">zesty-sweep-5</strong>: <a href=\"https://wandb.ai/anshikag_2210/NMT/runs/jcm9udtg\" target=\"_blank\">https://wandb.ai/anshikag_2210/NMT/runs/jcm9udtg</a><br/>\n",
              "                "
            ],
            "text/plain": [
              "<IPython.core.display.HTML object>"
            ]
          },
          "metadata": {
            "tags": []
          }
        },
        {
          "output_type": "stream",
          "text": [
            "\u001b[34m\u001b[1mwandb\u001b[0m: Agent Starting Run: svjiv0aa with config:\n",
            "\u001b[34m\u001b[1mwandb\u001b[0m: \tbatch_size: 128\n",
            "\u001b[34m\u001b[1mwandb\u001b[0m: \tcell_type: gru\n",
            "\u001b[34m\u001b[1mwandb\u001b[0m: \tdecoder_embed_size: 512\n",
            "\u001b[34m\u001b[1mwandb\u001b[0m: \tdropout: 0\n",
            "\u001b[34m\u001b[1mwandb\u001b[0m: \tencoder_embed_size: 512\n",
            "\u001b[34m\u001b[1mwandb\u001b[0m: \tepochs: 40\n",
            "\u001b[34m\u001b[1mwandb\u001b[0m: \thidden_layer_size: 512\n",
            "\u001b[34m\u001b[1mwandb\u001b[0m: \tnum_decoder_layers: 2\n",
            "\u001b[34m\u001b[1mwandb\u001b[0m: \tnum_encoder_layers: 3\n"
          ],
          "name": "stderr"
        },
        {
          "output_type": "display_data",
          "data": {
            "text/html": [
              "\n",
              "                Tracking run with wandb version 0.10.30<br/>\n",
              "                Syncing run <strong style=\"color:#cdcd00\">balmy-sweep-6</strong> to <a href=\"https://wandb.ai\" target=\"_blank\">Weights & Biases</a> <a href=\"https://docs.wandb.com/integrations/jupyter.html\" target=\"_blank\">(Documentation)</a>.<br/>\n",
              "                Project page: <a href=\"https://wandb.ai/anshikag_2210/NMT\" target=\"_blank\">https://wandb.ai/anshikag_2210/NMT</a><br/>\n",
              "                Sweep page: <a href=\"https://wandb.ai/anshikag_2210/NMT/sweeps/4yhiwznk\" target=\"_blank\">https://wandb.ai/anshikag_2210/NMT/sweeps/4yhiwznk</a><br/>\n",
              "Run page: <a href=\"https://wandb.ai/anshikag_2210/NMT/runs/svjiv0aa\" target=\"_blank\">https://wandb.ai/anshikag_2210/NMT/runs/svjiv0aa</a><br/>\n",
              "                Run data is saved locally in <code>/root/.keras/datasets/dakshina_dataset_v1.0/hi/lexicons/wandb/run-20210513_102720-svjiv0aa</code><br/><br/>\n",
              "            "
            ],
            "text/plain": [
              "<IPython.core.display.HTML object>"
            ]
          },
          "metadata": {
            "tags": []
          }
        },
        {
          "output_type": "stream",
          "text": [
            "Epoch 1/40\n",
            "346/346 [==============================] - 53s 127ms/step - loss: 1.2732 - accuracy: 0.7042 - val_loss: 0.7880 - val_accuracy: 0.7803\n",
            "Epoch 2/40\n",
            "346/346 [==============================] - 42s 122ms/step - loss: 0.7447 - accuracy: 0.7888 - val_loss: 0.4732 - val_accuracy: 0.8590\n",
            "Epoch 3/40\n",
            "346/346 [==============================] - 42s 122ms/step - loss: 0.4004 - accuracy: 0.8789 - val_loss: 0.2381 - val_accuracy: 0.9280\n",
            "Epoch 4/40\n",
            "346/346 [==============================] - 42s 122ms/step - loss: 0.1972 - accuracy: 0.9388 - val_loss: 0.1850 - val_accuracy: 0.9416\n",
            "Epoch 5/40\n",
            "346/346 [==============================] - 42s 122ms/step - loss: 0.1314 - accuracy: 0.9591 - val_loss: 0.1674 - val_accuracy: 0.9470\n",
            "Epoch 6/40\n",
            "346/346 [==============================] - 42s 122ms/step - loss: 0.0956 - accuracy: 0.9703 - val_loss: 0.1641 - val_accuracy: 0.9502\n",
            "Epoch 7/40\n",
            "346/346 [==============================] - 42s 122ms/step - loss: 0.0723 - accuracy: 0.9774 - val_loss: 0.1627 - val_accuracy: 0.9510\n",
            "Epoch 8/40\n",
            "346/346 [==============================] - 42s 122ms/step - loss: 0.0547 - accuracy: 0.9830 - val_loss: 0.1657 - val_accuracy: 0.9517\n",
            "Epoch 9/40\n",
            "346/346 [==============================] - 42s 122ms/step - loss: 0.0442 - accuracy: 0.9864 - val_loss: 0.1740 - val_accuracy: 0.9517\n",
            "Epoch 10/40\n",
            "346/346 [==============================] - 42s 122ms/step - loss: 0.0377 - accuracy: 0.9884 - val_loss: 0.1795 - val_accuracy: 0.9517\n",
            "Epoch 11/40\n",
            "346/346 [==============================] - 42s 121ms/step - loss: 0.0335 - accuracy: 0.9897 - val_loss: 0.1878 - val_accuracy: 0.9507\n",
            "Epoch 12/40\n",
            "346/346 [==============================] - 42s 121ms/step - loss: 0.0299 - accuracy: 0.9909 - val_loss: 0.1897 - val_accuracy: 0.9508\n"
          ],
          "name": "stdout"
        },
        {
          "output_type": "display_data",
          "data": {
            "text/html": [
              "<br/>Waiting for W&B process to finish, PID 1256<br/>Program ended successfully."
            ],
            "text/plain": [
              "<IPython.core.display.HTML object>"
            ]
          },
          "metadata": {
            "tags": []
          }
        },
        {
          "output_type": "display_data",
          "data": {
            "application/vnd.jupyter.widget-view+json": {
              "model_id": "01caa0fd7bf4410b8e96593aa08e11ff",
              "version_minor": 0,
              "version_major": 2
            },
            "text/plain": [
              "VBox(children=(Label(value=' 91.21MB of 91.21MB uploaded (0.00MB deduped)\\r'), FloatProgress(value=1.0, max=1.…"
            ]
          },
          "metadata": {
            "tags": []
          }
        },
        {
          "output_type": "display_data",
          "data": {
            "text/html": [
              "Find user logs for this run at: <code>/root/.keras/datasets/dakshina_dataset_v1.0/hi/lexicons/wandb/run-20210513_102720-svjiv0aa/logs/debug.log</code>"
            ],
            "text/plain": [
              "<IPython.core.display.HTML object>"
            ]
          },
          "metadata": {
            "tags": []
          }
        },
        {
          "output_type": "display_data",
          "data": {
            "text/html": [
              "Find internal logs for this run at: <code>/root/.keras/datasets/dakshina_dataset_v1.0/hi/lexicons/wandb/run-20210513_102720-svjiv0aa/logs/debug-internal.log</code>"
            ],
            "text/plain": [
              "<IPython.core.display.HTML object>"
            ]
          },
          "metadata": {
            "tags": []
          }
        },
        {
          "output_type": "display_data",
          "data": {
            "text/html": [
              "<h3>Run summary:</h3><br/><style>\n",
              "    table.wandb td:nth-child(1) { padding: 0 10px; text-align: right }\n",
              "    </style><table class=\"wandb\">\n",
              "<tr><td>epoch</td><td>11</td></tr><tr><td>loss</td><td>0.03212</td></tr><tr><td>accuracy</td><td>0.99011</td></tr><tr><td>val_loss</td><td>0.18967</td></tr><tr><td>val_accuracy</td><td>0.95081</td></tr><tr><td>_runtime</td><td>545</td></tr><tr><td>_timestamp</td><td>1620902185</td></tr><tr><td>_step</td><td>12</td></tr><tr><td>best_val_loss</td><td>0.16268</td></tr><tr><td>best_epoch</td><td>6</td></tr><tr><td>val_acc</td><td>0.00918</td></tr></table>"
            ],
            "text/plain": [
              "<IPython.core.display.HTML object>"
            ]
          },
          "metadata": {
            "tags": []
          }
        },
        {
          "output_type": "display_data",
          "data": {
            "text/html": [
              "<h3>Run history:</h3><br/><style>\n",
              "    table.wandb td:nth-child(1) { padding: 0 10px; text-align: right }\n",
              "    </style><table class=\"wandb\">\n",
              "<tr><td>epoch</td><td>▁▂▂▃▄▄▅▅▆▇▇█</td></tr><tr><td>loss</td><td>█▆▃▂▂▁▁▁▁▁▁▁</td></tr><tr><td>accuracy</td><td>▁▃▅▇▇▇██████</td></tr><tr><td>val_loss</td><td>█▄▂▁▁▁▁▁▁▁▁▁</td></tr><tr><td>val_accuracy</td><td>▁▄▇█████████</td></tr><tr><td>_runtime</td><td>▁▂▂▃▃▄▅▅▆▆▇██</td></tr><tr><td>_timestamp</td><td>▁▂▂▃▃▄▅▅▆▆▇██</td></tr><tr><td>_step</td><td>▁▂▂▃▃▄▅▅▆▆▇▇█</td></tr><tr><td>val_acc</td><td>▁</td></tr></table><br/>"
            ],
            "text/plain": [
              "<IPython.core.display.HTML object>"
            ]
          },
          "metadata": {
            "tags": []
          }
        },
        {
          "output_type": "display_data",
          "data": {
            "text/html": [
              "Synced 5 W&B file(s), 1 media file(s), 0 artifact file(s) and 1 other file(s)"
            ],
            "text/plain": [
              "<IPython.core.display.HTML object>"
            ]
          },
          "metadata": {
            "tags": []
          }
        },
        {
          "output_type": "display_data",
          "data": {
            "text/html": [
              "\n",
              "                    <br/>Synced <strong style=\"color:#cdcd00\">balmy-sweep-6</strong>: <a href=\"https://wandb.ai/anshikag_2210/NMT/runs/svjiv0aa\" target=\"_blank\">https://wandb.ai/anshikag_2210/NMT/runs/svjiv0aa</a><br/>\n",
              "                "
            ],
            "text/plain": [
              "<IPython.core.display.HTML object>"
            ]
          },
          "metadata": {
            "tags": []
          }
        },
        {
          "output_type": "stream",
          "text": [
            "\u001b[34m\u001b[1mwandb\u001b[0m: Agent Starting Run: tecic7dn with config:\n",
            "\u001b[34m\u001b[1mwandb\u001b[0m: \tbatch_size: 32\n",
            "\u001b[34m\u001b[1mwandb\u001b[0m: \tcell_type: lstm\n",
            "\u001b[34m\u001b[1mwandb\u001b[0m: \tdecoder_embed_size: 64\n",
            "\u001b[34m\u001b[1mwandb\u001b[0m: \tdropout: 0.05\n",
            "\u001b[34m\u001b[1mwandb\u001b[0m: \tencoder_embed_size: 128\n",
            "\u001b[34m\u001b[1mwandb\u001b[0m: \tepochs: 20\n",
            "\u001b[34m\u001b[1mwandb\u001b[0m: \thidden_layer_size: 128\n",
            "\u001b[34m\u001b[1mwandb\u001b[0m: \tnum_decoder_layers: 4\n",
            "\u001b[34m\u001b[1mwandb\u001b[0m: \tnum_encoder_layers: 2\n"
          ],
          "name": "stderr"
        },
        {
          "output_type": "display_data",
          "data": {
            "text/html": [
              "\n",
              "                Tracking run with wandb version 0.10.30<br/>\n",
              "                Syncing run <strong style=\"color:#cdcd00\">clean-sweep-7</strong> to <a href=\"https://wandb.ai\" target=\"_blank\">Weights & Biases</a> <a href=\"https://docs.wandb.com/integrations/jupyter.html\" target=\"_blank\">(Documentation)</a>.<br/>\n",
              "                Project page: <a href=\"https://wandb.ai/anshikag_2210/NMT\" target=\"_blank\">https://wandb.ai/anshikag_2210/NMT</a><br/>\n",
              "                Sweep page: <a href=\"https://wandb.ai/anshikag_2210/NMT/sweeps/4yhiwznk\" target=\"_blank\">https://wandb.ai/anshikag_2210/NMT/sweeps/4yhiwznk</a><br/>\n",
              "Run page: <a href=\"https://wandb.ai/anshikag_2210/NMT/runs/tecic7dn\" target=\"_blank\">https://wandb.ai/anshikag_2210/NMT/runs/tecic7dn</a><br/>\n",
              "                Run data is saved locally in <code>/root/.keras/datasets/dakshina_dataset_v1.0/hi/lexicons/wandb/run-20210513_103635-tecic7dn</code><br/><br/>\n",
              "            "
            ],
            "text/plain": [
              "<IPython.core.display.HTML object>"
            ]
          },
          "metadata": {
            "tags": []
          }
        },
        {
          "output_type": "stream",
          "text": [
            "Epoch 1/20\n",
            "1382/1382 [==============================] - 94s 61ms/step - loss: 1.2488 - accuracy: 0.6959 - val_loss: 0.8529 - val_accuracy: 0.7653\n",
            "Epoch 2/20\n",
            "1382/1382 [==============================] - 82s 60ms/step - loss: 0.7939 - accuracy: 0.7742 - val_loss: 0.5648 - val_accuracy: 0.8310\n",
            "Epoch 3/20\n",
            "1382/1382 [==============================] - 83s 60ms/step - loss: 0.5450 - accuracy: 0.8384 - val_loss: 0.3811 - val_accuracy: 0.8869\n",
            "Epoch 4/20\n",
            "1382/1382 [==============================] - 83s 60ms/step - loss: 0.3589 - accuracy: 0.8911 - val_loss: 0.2803 - val_accuracy: 0.9158\n",
            "Epoch 5/20\n",
            "1382/1382 [==============================] - 83s 60ms/step - loss: 0.2706 - accuracy: 0.9163 - val_loss: 0.2328 - val_accuracy: 0.9278\n",
            "Epoch 6/20\n",
            "1382/1382 [==============================] - 83s 60ms/step - loss: 0.2206 - accuracy: 0.9313 - val_loss: 0.2084 - val_accuracy: 0.9351\n",
            "Epoch 7/20\n",
            "1382/1382 [==============================] - 83s 60ms/step - loss: 0.1874 - accuracy: 0.9414 - val_loss: 0.1975 - val_accuracy: 0.9384\n",
            "Epoch 8/20\n",
            "1382/1382 [==============================] - 83s 60ms/step - loss: 0.1626 - accuracy: 0.9488 - val_loss: 0.1848 - val_accuracy: 0.9418\n",
            "Epoch 9/20\n",
            "1382/1382 [==============================] - 83s 60ms/step - loss: 0.1465 - accuracy: 0.9535 - val_loss: 0.1784 - val_accuracy: 0.9451\n",
            "Epoch 10/20\n",
            "1382/1382 [==============================] - 83s 60ms/step - loss: 0.1302 - accuracy: 0.9589 - val_loss: 0.1771 - val_accuracy: 0.9450\n",
            "Epoch 11/20\n",
            "1382/1382 [==============================] - 83s 60ms/step - loss: 0.1194 - accuracy: 0.9618 - val_loss: 0.1759 - val_accuracy: 0.9461\n",
            "Epoch 12/20\n",
            "1382/1382 [==============================] - 83s 60ms/step - loss: 0.1098 - accuracy: 0.9649 - val_loss: 0.1760 - val_accuracy: 0.9464\n",
            "Epoch 13/20\n",
            "1382/1382 [==============================] - 83s 60ms/step - loss: 0.0996 - accuracy: 0.9683 - val_loss: 0.1770 - val_accuracy: 0.9466\n",
            "Epoch 14/20\n",
            "1382/1382 [==============================] - 83s 60ms/step - loss: 0.0909 - accuracy: 0.9709 - val_loss: 0.1773 - val_accuracy: 0.9479\n",
            "Epoch 15/20\n",
            "1382/1382 [==============================] - 83s 60ms/step - loss: 0.0850 - accuracy: 0.9726 - val_loss: 0.1771 - val_accuracy: 0.9480\n",
            "Epoch 16/20\n",
            "1382/1382 [==============================] - 83s 60ms/step - loss: 0.0789 - accuracy: 0.9748 - val_loss: 0.1782 - val_accuracy: 0.9483\n"
          ],
          "name": "stdout"
        },
        {
          "output_type": "display_data",
          "data": {
            "text/html": [
              "<br/>Waiting for W&B process to finish, PID 1400<br/>Program ended successfully."
            ],
            "text/plain": [
              "<IPython.core.display.HTML object>"
            ]
          },
          "metadata": {
            "tags": []
          }
        },
        {
          "output_type": "display_data",
          "data": {
            "application/vnd.jupyter.widget-view+json": {
              "model_id": "9d466c67ff87447c9a3b6788fbe5fde4",
              "version_minor": 0,
              "version_major": 2
            },
            "text/plain": [
              "VBox(children=(Label(value=' 8.96MB of 8.96MB uploaded (0.00MB deduped)\\r'), FloatProgress(value=1.0, max=1.0)…"
            ]
          },
          "metadata": {
            "tags": []
          }
        },
        {
          "output_type": "display_data",
          "data": {
            "text/html": [
              "Find user logs for this run at: <code>/root/.keras/datasets/dakshina_dataset_v1.0/hi/lexicons/wandb/run-20210513_103635-tecic7dn/logs/debug.log</code>"
            ],
            "text/plain": [
              "<IPython.core.display.HTML object>"
            ]
          },
          "metadata": {
            "tags": []
          }
        },
        {
          "output_type": "display_data",
          "data": {
            "text/html": [
              "Find internal logs for this run at: <code>/root/.keras/datasets/dakshina_dataset_v1.0/hi/lexicons/wandb/run-20210513_103635-tecic7dn/logs/debug-internal.log</code>"
            ],
            "text/plain": [
              "<IPython.core.display.HTML object>"
            ]
          },
          "metadata": {
            "tags": []
          }
        },
        {
          "output_type": "display_data",
          "data": {
            "text/html": [
              "<h3>Run summary:</h3><br/><style>\n",
              "    table.wandb td:nth-child(1) { padding: 0 10px; text-align: right }\n",
              "    </style><table class=\"wandb\">\n",
              "<tr><td>epoch</td><td>15</td></tr><tr><td>loss</td><td>0.08144</td></tr><tr><td>accuracy</td><td>0.97389</td></tr><tr><td>val_loss</td><td>0.17824</td></tr><tr><td>val_accuracy</td><td>0.94826</td></tr><tr><td>_runtime</td><td>1363</td></tr><tr><td>_timestamp</td><td>1620903558</td></tr><tr><td>_step</td><td>16</td></tr><tr><td>best_val_loss</td><td>0.17592</td></tr><tr><td>best_epoch</td><td>10</td></tr><tr><td>val_acc</td><td>0.00184</td></tr></table>"
            ],
            "text/plain": [
              "<IPython.core.display.HTML object>"
            ]
          },
          "metadata": {
            "tags": []
          }
        },
        {
          "output_type": "display_data",
          "data": {
            "text/html": [
              "<h3>Run history:</h3><br/><style>\n",
              "    table.wandb td:nth-child(1) { padding: 0 10px; text-align: right }\n",
              "    </style><table class=\"wandb\">\n",
              "<tr><td>epoch</td><td>▁▁▂▂▃▃▄▄▅▅▆▆▇▇██</td></tr><tr><td>loss</td><td>█▆▄▃▂▂▂▂▁▁▁▁▁▁▁▁</td></tr><tr><td>accuracy</td><td>▁▃▅▆▆▇▇▇▇███████</td></tr><tr><td>val_loss</td><td>█▅▃▂▂▁▁▁▁▁▁▁▁▁▁▁</td></tr><tr><td>val_accuracy</td><td>▁▄▆▇▇▇██████████</td></tr><tr><td>_runtime</td><td>▁▁▂▂▃▃▄▄▅▅▆▆▇▇▇██</td></tr><tr><td>_timestamp</td><td>▁▁▂▂▃▃▄▄▅▅▆▆▇▇▇██</td></tr><tr><td>_step</td><td>▁▁▂▂▃▃▄▄▅▅▅▆▆▇▇██</td></tr><tr><td>val_acc</td><td>▁</td></tr></table><br/>"
            ],
            "text/plain": [
              "<IPython.core.display.HTML object>"
            ]
          },
          "metadata": {
            "tags": []
          }
        },
        {
          "output_type": "display_data",
          "data": {
            "text/html": [
              "Synced 5 W&B file(s), 1 media file(s), 0 artifact file(s) and 1 other file(s)"
            ],
            "text/plain": [
              "<IPython.core.display.HTML object>"
            ]
          },
          "metadata": {
            "tags": []
          }
        },
        {
          "output_type": "display_data",
          "data": {
            "text/html": [
              "\n",
              "                    <br/>Synced <strong style=\"color:#cdcd00\">clean-sweep-7</strong>: <a href=\"https://wandb.ai/anshikag_2210/NMT/runs/tecic7dn\" target=\"_blank\">https://wandb.ai/anshikag_2210/NMT/runs/tecic7dn</a><br/>\n",
              "                "
            ],
            "text/plain": [
              "<IPython.core.display.HTML object>"
            ]
          },
          "metadata": {
            "tags": []
          }
        },
        {
          "output_type": "stream",
          "text": [
            "\u001b[34m\u001b[1mwandb\u001b[0m: Agent Starting Run: drroqton with config:\n",
            "\u001b[34m\u001b[1mwandb\u001b[0m: \tbatch_size: 128\n",
            "\u001b[34m\u001b[1mwandb\u001b[0m: \tcell_type: lstm\n",
            "\u001b[34m\u001b[1mwandb\u001b[0m: \tdecoder_embed_size: 64\n",
            "\u001b[34m\u001b[1mwandb\u001b[0m: \tdropout: 0.1\n",
            "\u001b[34m\u001b[1mwandb\u001b[0m: \tencoder_embed_size: 128\n",
            "\u001b[34m\u001b[1mwandb\u001b[0m: \tepochs: 60\n",
            "\u001b[34m\u001b[1mwandb\u001b[0m: \thidden_layer_size: 512\n",
            "\u001b[34m\u001b[1mwandb\u001b[0m: \tnum_decoder_layers: 1\n",
            "\u001b[34m\u001b[1mwandb\u001b[0m: \tnum_encoder_layers: 1\n"
          ],
          "name": "stderr"
        },
        {
          "output_type": "display_data",
          "data": {
            "text/html": [
              "\n",
              "                Tracking run with wandb version 0.10.30<br/>\n",
              "                Syncing run <strong style=\"color:#cdcd00\">bumbling-sweep-8</strong> to <a href=\"https://wandb.ai\" target=\"_blank\">Weights & Biases</a> <a href=\"https://docs.wandb.com/integrations/jupyter.html\" target=\"_blank\">(Documentation)</a>.<br/>\n",
              "                Project page: <a href=\"https://wandb.ai/anshikag_2210/NMT\" target=\"_blank\">https://wandb.ai/anshikag_2210/NMT</a><br/>\n",
              "                Sweep page: <a href=\"https://wandb.ai/anshikag_2210/NMT/sweeps/4yhiwznk\" target=\"_blank\">https://wandb.ai/anshikag_2210/NMT/sweeps/4yhiwznk</a><br/>\n",
              "Run page: <a href=\"https://wandb.ai/anshikag_2210/NMT/runs/drroqton\" target=\"_blank\">https://wandb.ai/anshikag_2210/NMT/runs/drroqton</a><br/>\n",
              "                Run data is saved locally in <code>/root/.keras/datasets/dakshina_dataset_v1.0/hi/lexicons/wandb/run-20210513_105924-drroqton</code><br/><br/>\n",
              "            "
            ],
            "text/plain": [
              "<IPython.core.display.HTML object>"
            ]
          },
          "metadata": {
            "tags": []
          }
        },
        {
          "output_type": "stream",
          "text": [
            "Epoch 1/60\n",
            "346/346 [==============================] - 23s 57ms/step - loss: 1.4054 - accuracy: 0.6842 - val_loss: 0.8620 - val_accuracy: 0.7637\n",
            "Epoch 2/60\n",
            "346/346 [==============================] - 19s 54ms/step - loss: 0.8645 - accuracy: 0.7620 - val_loss: 0.7535 - val_accuracy: 0.7864\n",
            "Epoch 3/60\n",
            "346/346 [==============================] - 18s 53ms/step - loss: 0.7554 - accuracy: 0.7851 - val_loss: 0.6512 - val_accuracy: 0.8103\n",
            "Epoch 4/60\n",
            "346/346 [==============================] - 18s 53ms/step - loss: 0.6456 - accuracy: 0.8106 - val_loss: 0.5314 - val_accuracy: 0.8406\n",
            "Epoch 5/60\n",
            "346/346 [==============================] - 18s 53ms/step - loss: 0.5220 - accuracy: 0.8430 - val_loss: 0.4263 - val_accuracy: 0.8713\n",
            "Epoch 6/60\n",
            "346/346 [==============================] - 19s 54ms/step - loss: 0.3953 - accuracy: 0.8788 - val_loss: 0.3276 - val_accuracy: 0.8979\n",
            "Epoch 7/60\n",
            "346/346 [==============================] - 18s 53ms/step - loss: 0.2967 - accuracy: 0.9075 - val_loss: 0.2688 - val_accuracy: 0.9158\n",
            "Epoch 8/60\n",
            "346/346 [==============================] - 18s 53ms/step - loss: 0.2283 - accuracy: 0.9289 - val_loss: 0.2293 - val_accuracy: 0.9282\n",
            "Epoch 9/60\n",
            "346/346 [==============================] - 19s 54ms/step - loss: 0.1819 - accuracy: 0.9434 - val_loss: 0.2105 - val_accuracy: 0.9344\n",
            "Epoch 10/60\n",
            "346/346 [==============================] - 18s 53ms/step - loss: 0.1481 - accuracy: 0.9543 - val_loss: 0.1966 - val_accuracy: 0.9387\n",
            "Epoch 11/60\n",
            "346/346 [==============================] - 19s 54ms/step - loss: 0.1239 - accuracy: 0.9616 - val_loss: 0.1908 - val_accuracy: 0.9399\n",
            "Epoch 12/60\n",
            "346/346 [==============================] - 18s 53ms/step - loss: 0.1031 - accuracy: 0.9680 - val_loss: 0.1874 - val_accuracy: 0.9423\n",
            "Epoch 13/60\n",
            "346/346 [==============================] - 18s 53ms/step - loss: 0.0875 - accuracy: 0.9732 - val_loss: 0.1903 - val_accuracy: 0.9426\n",
            "Epoch 14/60\n",
            "346/346 [==============================] - 18s 53ms/step - loss: 0.0746 - accuracy: 0.9769 - val_loss: 0.1879 - val_accuracy: 0.9432\n",
            "Epoch 15/60\n",
            "346/346 [==============================] - 19s 54ms/step - loss: 0.0639 - accuracy: 0.9805 - val_loss: 0.1906 - val_accuracy: 0.9438\n",
            "Epoch 16/60\n",
            "346/346 [==============================] - 19s 54ms/step - loss: 0.0563 - accuracy: 0.9828 - val_loss: 0.1956 - val_accuracy: 0.9440\n",
            "Epoch 17/60\n",
            "346/346 [==============================] - 19s 54ms/step - loss: 0.0480 - accuracy: 0.9854 - val_loss: 0.2001 - val_accuracy: 0.9434\n"
          ],
          "name": "stdout"
        },
        {
          "output_type": "display_data",
          "data": {
            "text/html": [
              "<br/>Waiting for W&B process to finish, PID 1557<br/>Program ended successfully."
            ],
            "text/plain": [
              "<IPython.core.display.HTML object>"
            ]
          },
          "metadata": {
            "tags": []
          }
        },
        {
          "output_type": "display_data",
          "data": {
            "application/vnd.jupyter.widget-view+json": {
              "model_id": "3d151bcbb0cf469aaaa846a4bf60a81d",
              "version_minor": 0,
              "version_major": 2
            },
            "text/plain": [
              "VBox(children=(Label(value=' 29.08MB of 29.08MB uploaded (0.00MB deduped)\\r'), FloatProgress(value=1.0, max=1.…"
            ]
          },
          "metadata": {
            "tags": []
          }
        },
        {
          "output_type": "display_data",
          "data": {
            "text/html": [
              "Find user logs for this run at: <code>/root/.keras/datasets/dakshina_dataset_v1.0/hi/lexicons/wandb/run-20210513_105924-drroqton/logs/debug.log</code>"
            ],
            "text/plain": [
              "<IPython.core.display.HTML object>"
            ]
          },
          "metadata": {
            "tags": []
          }
        },
        {
          "output_type": "display_data",
          "data": {
            "text/html": [
              "Find internal logs for this run at: <code>/root/.keras/datasets/dakshina_dataset_v1.0/hi/lexicons/wandb/run-20210513_105924-drroqton/logs/debug-internal.log</code>"
            ],
            "text/plain": [
              "<IPython.core.display.HTML object>"
            ]
          },
          "metadata": {
            "tags": []
          }
        },
        {
          "output_type": "display_data",
          "data": {
            "text/html": [
              "<h3>Run summary:</h3><br/><style>\n",
              "    table.wandb td:nth-child(1) { padding: 0 10px; text-align: right }\n",
              "    </style><table class=\"wandb\">\n",
              "<tr><td>epoch</td><td>16</td></tr><tr><td>loss</td><td>0.05044</td></tr><tr><td>accuracy</td><td>0.98432</td></tr><tr><td>val_loss</td><td>0.20009</td></tr><tr><td>val_accuracy</td><td>0.9434</td></tr><tr><td>_runtime</td><td>339</td></tr><tr><td>_timestamp</td><td>1620903903</td></tr><tr><td>_step</td><td>17</td></tr><tr><td>best_val_loss</td><td>0.18735</td></tr><tr><td>best_epoch</td><td>11</td></tr><tr><td>val_acc</td><td>0.30151</td></tr></table>"
            ],
            "text/plain": [
              "<IPython.core.display.HTML object>"
            ]
          },
          "metadata": {
            "tags": []
          }
        },
        {
          "output_type": "display_data",
          "data": {
            "text/html": [
              "<h3>Run history:</h3><br/><style>\n",
              "    table.wandb td:nth-child(1) { padding: 0 10px; text-align: right }\n",
              "    </style><table class=\"wandb\">\n",
              "<tr><td>epoch</td><td>▁▁▂▂▃▃▄▄▅▅▅▆▆▇▇██</td></tr><tr><td>loss</td><td>█▆▅▅▄▃▃▂▂▂▁▁▁▁▁▁▁</td></tr><tr><td>accuracy</td><td>▁▂▃▄▄▅▆▇▇▇▇██████</td></tr><tr><td>val_loss</td><td>█▇▆▅▃▂▂▁▁▁▁▁▁▁▁▁▁</td></tr><tr><td>val_accuracy</td><td>▁▂▃▄▅▆▇▇█████████</td></tr><tr><td>_runtime</td><td>▁▁▂▂▃▃▃▄▄▅▅▆▆▆▇▇██</td></tr><tr><td>_timestamp</td><td>▁▁▂▂▃▃▃▄▄▅▅▆▆▆▇▇██</td></tr><tr><td>_step</td><td>▁▁▂▂▃▃▃▄▄▅▅▆▆▆▇▇██</td></tr><tr><td>val_acc</td><td>▁</td></tr></table><br/>"
            ],
            "text/plain": [
              "<IPython.core.display.HTML object>"
            ]
          },
          "metadata": {
            "tags": []
          }
        },
        {
          "output_type": "display_data",
          "data": {
            "text/html": [
              "Synced 5 W&B file(s), 1 media file(s), 0 artifact file(s) and 1 other file(s)"
            ],
            "text/plain": [
              "<IPython.core.display.HTML object>"
            ]
          },
          "metadata": {
            "tags": []
          }
        },
        {
          "output_type": "display_data",
          "data": {
            "text/html": [
              "\n",
              "                    <br/>Synced <strong style=\"color:#cdcd00\">bumbling-sweep-8</strong>: <a href=\"https://wandb.ai/anshikag_2210/NMT/runs/drroqton\" target=\"_blank\">https://wandb.ai/anshikag_2210/NMT/runs/drroqton</a><br/>\n",
              "                "
            ],
            "text/plain": [
              "<IPython.core.display.HTML object>"
            ]
          },
          "metadata": {
            "tags": []
          }
        },
        {
          "output_type": "stream",
          "text": [
            "\u001b[34m\u001b[1mwandb\u001b[0m: Agent Starting Run: g30717xh with config:\n",
            "\u001b[34m\u001b[1mwandb\u001b[0m: \tbatch_size: 64\n",
            "\u001b[34m\u001b[1mwandb\u001b[0m: \tcell_type: lstm\n",
            "\u001b[34m\u001b[1mwandb\u001b[0m: \tdecoder_embed_size: 64\n",
            "\u001b[34m\u001b[1mwandb\u001b[0m: \tdropout: 0.1\n",
            "\u001b[34m\u001b[1mwandb\u001b[0m: \tencoder_embed_size: 64\n",
            "\u001b[34m\u001b[1mwandb\u001b[0m: \tepochs: 30\n",
            "\u001b[34m\u001b[1mwandb\u001b[0m: \thidden_layer_size: 128\n",
            "\u001b[34m\u001b[1mwandb\u001b[0m: \tnum_decoder_layers: 1\n",
            "\u001b[34m\u001b[1mwandb\u001b[0m: \tnum_encoder_layers: 3\n"
          ],
          "name": "stderr"
        },
        {
          "output_type": "display_data",
          "data": {
            "text/html": [
              "\n",
              "                Tracking run with wandb version 0.10.30<br/>\n",
              "                Syncing run <strong style=\"color:#cdcd00\">mild-sweep-9</strong> to <a href=\"https://wandb.ai\" target=\"_blank\">Weights & Biases</a> <a href=\"https://docs.wandb.com/integrations/jupyter.html\" target=\"_blank\">(Documentation)</a>.<br/>\n",
              "                Project page: <a href=\"https://wandb.ai/anshikag_2210/NMT\" target=\"_blank\">https://wandb.ai/anshikag_2210/NMT</a><br/>\n",
              "                Sweep page: <a href=\"https://wandb.ai/anshikag_2210/NMT/sweeps/4yhiwznk\" target=\"_blank\">https://wandb.ai/anshikag_2210/NMT/sweeps/4yhiwznk</a><br/>\n",
              "Run page: <a href=\"https://wandb.ai/anshikag_2210/NMT/runs/g30717xh\" target=\"_blank\">https://wandb.ai/anshikag_2210/NMT/runs/g30717xh</a><br/>\n",
              "                Run data is saved locally in <code>/root/.keras/datasets/dakshina_dataset_v1.0/hi/lexicons/wandb/run-20210513_110510-g30717xh</code><br/><br/>\n",
              "            "
            ],
            "text/plain": [
              "<IPython.core.display.HTML object>"
            ]
          },
          "metadata": {
            "tags": []
          }
        },
        {
          "output_type": "stream",
          "text": [
            "Epoch 1/30\n",
            "691/691 [==============================] - 38s 44ms/step - loss: 1.3880 - accuracy: 0.6919 - val_loss: 0.9249 - val_accuracy: 0.7510\n",
            "Epoch 2/30\n",
            "691/691 [==============================] - 28s 41ms/step - loss: 0.9476 - accuracy: 0.7438 - val_loss: 0.8960 - val_accuracy: 0.7563\n",
            "Epoch 3/30\n",
            "691/691 [==============================] - 29s 41ms/step - loss: 0.8892 - accuracy: 0.7549 - val_loss: 0.7940 - val_accuracy: 0.7768\n",
            "Epoch 4/30\n",
            "691/691 [==============================] - 28s 41ms/step - loss: 0.7976 - accuracy: 0.7739 - val_loss: 0.6942 - val_accuracy: 0.8005\n",
            "Epoch 5/30\n",
            "691/691 [==============================] - 29s 41ms/step - loss: 0.6928 - accuracy: 0.8008 - val_loss: 0.5773 - val_accuracy: 0.8344\n",
            "Epoch 6/30\n",
            "691/691 [==============================] - 28s 41ms/step - loss: 0.5771 - accuracy: 0.8313 - val_loss: 0.4904 - val_accuracy: 0.8550\n",
            "Epoch 7/30\n",
            "691/691 [==============================] - 29s 41ms/step - loss: 0.4911 - accuracy: 0.8546 - val_loss: 0.4171 - val_accuracy: 0.8748\n",
            "Epoch 8/30\n",
            "691/691 [==============================] - 29s 42ms/step - loss: 0.4193 - accuracy: 0.8744 - val_loss: 0.3534 - val_accuracy: 0.8932\n",
            "Epoch 9/30\n",
            "691/691 [==============================] - 29s 42ms/step - loss: 0.3553 - accuracy: 0.8925 - val_loss: 0.3006 - val_accuracy: 0.9091\n",
            "Epoch 10/30\n",
            "691/691 [==============================] - 29s 42ms/step - loss: 0.2995 - accuracy: 0.9083 - val_loss: 0.2702 - val_accuracy: 0.9172\n",
            "Epoch 11/30\n",
            "691/691 [==============================] - 29s 41ms/step - loss: 0.2621 - accuracy: 0.9192 - val_loss: 0.2407 - val_accuracy: 0.9269\n",
            "Epoch 12/30\n",
            "691/691 [==============================] - 29s 41ms/step - loss: 0.2341 - accuracy: 0.9278 - val_loss: 0.2225 - val_accuracy: 0.9319\n",
            "Epoch 13/30\n",
            "691/691 [==============================] - 29s 42ms/step - loss: 0.2114 - accuracy: 0.9347 - val_loss: 0.2105 - val_accuracy: 0.9353\n",
            "Epoch 14/30\n",
            "691/691 [==============================] - 29s 41ms/step - loss: 0.1938 - accuracy: 0.9396 - val_loss: 0.1985 - val_accuracy: 0.9381\n",
            "Epoch 15/30\n",
            "691/691 [==============================] - 29s 41ms/step - loss: 0.1800 - accuracy: 0.9441 - val_loss: 0.1912 - val_accuracy: 0.9410\n",
            "Epoch 16/30\n",
            "691/691 [==============================] - 29s 41ms/step - loss: 0.1643 - accuracy: 0.9488 - val_loss: 0.1853 - val_accuracy: 0.9433\n",
            "Epoch 17/30\n",
            "691/691 [==============================] - 29s 41ms/step - loss: 0.1537 - accuracy: 0.9520 - val_loss: 0.1841 - val_accuracy: 0.9430\n",
            "Epoch 18/30\n",
            "691/691 [==============================] - 29s 41ms/step - loss: 0.1450 - accuracy: 0.9542 - val_loss: 0.1783 - val_accuracy: 0.9448\n",
            "Epoch 19/30\n",
            "691/691 [==============================] - 29s 41ms/step - loss: 0.1385 - accuracy: 0.9564 - val_loss: 0.1769 - val_accuracy: 0.9453\n",
            "Epoch 20/30\n",
            "691/691 [==============================] - 29s 41ms/step - loss: 0.1287 - accuracy: 0.9595 - val_loss: 0.1776 - val_accuracy: 0.9446\n",
            "Epoch 21/30\n",
            "691/691 [==============================] - 29s 41ms/step - loss: 0.1227 - accuracy: 0.9613 - val_loss: 0.1761 - val_accuracy: 0.9463\n",
            "Epoch 22/30\n",
            "691/691 [==============================] - 29s 42ms/step - loss: 0.1160 - accuracy: 0.9630 - val_loss: 0.1741 - val_accuracy: 0.9471\n",
            "Epoch 23/30\n",
            "691/691 [==============================] - 29s 42ms/step - loss: 0.1117 - accuracy: 0.9646 - val_loss: 0.1759 - val_accuracy: 0.9466\n",
            "Epoch 24/30\n",
            "691/691 [==============================] - 29s 42ms/step - loss: 0.1059 - accuracy: 0.9662 - val_loss: 0.1733 - val_accuracy: 0.9477\n",
            "Epoch 25/30\n",
            "691/691 [==============================] - 29s 42ms/step - loss: 0.1007 - accuracy: 0.9681 - val_loss: 0.1752 - val_accuracy: 0.9474\n",
            "Epoch 26/30\n",
            "691/691 [==============================] - 29s 42ms/step - loss: 0.0969 - accuracy: 0.9690 - val_loss: 0.1745 - val_accuracy: 0.9480\n",
            "Epoch 27/30\n",
            "691/691 [==============================] - 29s 42ms/step - loss: 0.0918 - accuracy: 0.9706 - val_loss: 0.1774 - val_accuracy: 0.9474\n",
            "Epoch 28/30\n",
            "691/691 [==============================] - 29s 42ms/step - loss: 0.0888 - accuracy: 0.9716 - val_loss: 0.1741 - val_accuracy: 0.9486\n",
            "Epoch 29/30\n",
            "691/691 [==============================] - 29s 42ms/step - loss: 0.0845 - accuracy: 0.9730 - val_loss: 0.1778 - val_accuracy: 0.9490\n"
          ],
          "name": "stdout"
        },
        {
          "output_type": "display_data",
          "data": {
            "text/html": [
              "<br/>Waiting for W&B process to finish, PID 1715<br/>Program ended successfully."
            ],
            "text/plain": [
              "<IPython.core.display.HTML object>"
            ]
          },
          "metadata": {
            "tags": []
          }
        },
        {
          "output_type": "display_data",
          "data": {
            "application/vnd.jupyter.widget-view+json": {
              "model_id": "09f84f5457f1440db831ff615dcf39cd",
              "version_minor": 0,
              "version_major": 2
            },
            "text/plain": [
              "VBox(children=(Label(value=' 5.52MB of 5.52MB uploaded (0.00MB deduped)\\r'), FloatProgress(value=1.0, max=1.0)…"
            ]
          },
          "metadata": {
            "tags": []
          }
        },
        {
          "output_type": "display_data",
          "data": {
            "text/html": [
              "Find user logs for this run at: <code>/root/.keras/datasets/dakshina_dataset_v1.0/hi/lexicons/wandb/run-20210513_110510-g30717xh/logs/debug.log</code>"
            ],
            "text/plain": [
              "<IPython.core.display.HTML object>"
            ]
          },
          "metadata": {
            "tags": []
          }
        },
        {
          "output_type": "display_data",
          "data": {
            "text/html": [
              "Find internal logs for this run at: <code>/root/.keras/datasets/dakshina_dataset_v1.0/hi/lexicons/wandb/run-20210513_110510-g30717xh/logs/debug-internal.log</code>"
            ],
            "text/plain": [
              "<IPython.core.display.HTML object>"
            ]
          },
          "metadata": {
            "tags": []
          }
        },
        {
          "output_type": "display_data",
          "data": {
            "text/html": [
              "<h3>Run summary:</h3><br/><style>\n",
              "    table.wandb td:nth-child(1) { padding: 0 10px; text-align: right }\n",
              "    </style><table class=\"wandb\">\n",
              "<tr><td>epoch</td><td>28</td></tr><tr><td>loss</td><td>0.08719</td></tr><tr><td>accuracy</td><td>0.97202</td></tr><tr><td>val_loss</td><td>0.17775</td></tr><tr><td>val_accuracy</td><td>0.94899</td></tr><tr><td>_runtime</td><td>859</td></tr><tr><td>_timestamp</td><td>1620904769</td></tr><tr><td>_step</td><td>29</td></tr><tr><td>best_val_loss</td><td>0.17329</td></tr><tr><td>best_epoch</td><td>23</td></tr><tr><td>val_acc</td><td>0.35291</td></tr></table>"
            ],
            "text/plain": [
              "<IPython.core.display.HTML object>"
            ]
          },
          "metadata": {
            "tags": []
          }
        },
        {
          "output_type": "display_data",
          "data": {
            "text/html": [
              "<h3>Run history:</h3><br/><style>\n",
              "    table.wandb td:nth-child(1) { padding: 0 10px; text-align: right }\n",
              "    </style><table class=\"wandb\">\n",
              "<tr><td>epoch</td><td>▁▁▁▂▂▂▃▃▃▃▃▄▄▄▅▅▅▅▅▆▆▆▇▇▇▇▇██</td></tr><tr><td>loss</td><td>█▇▆▆▅▄▄▃▃▂▂▂▂▂▂▂▁▁▁▁▁▁▁▁▁▁▁▁▁</td></tr><tr><td>accuracy</td><td>▁▂▂▃▃▄▅▅▆▆▇▇▇▇▇▇▇▇███████████</td></tr><tr><td>val_loss</td><td>██▇▆▅▄▃▃▂▂▂▁▁▁▁▁▁▁▁▁▁▁▁▁▁▁▁▁▁</td></tr><tr><td>val_accuracy</td><td>▁▁▂▃▄▅▅▆▇▇▇▇█████████████████</td></tr><tr><td>_runtime</td><td>▁▁▁▂▂▂▂▃▃▃▃▄▄▄▄▅▅▅▅▆▆▆▆▇▇▇▇███</td></tr><tr><td>_timestamp</td><td>▁▁▁▂▂▂▂▃▃▃▃▄▄▄▄▅▅▅▅▆▆▆▆▇▇▇▇███</td></tr><tr><td>_step</td><td>▁▁▁▂▂▂▂▃▃▃▃▄▄▄▄▅▅▅▅▆▆▆▆▇▇▇▇███</td></tr><tr><td>val_acc</td><td>▁</td></tr></table><br/>"
            ],
            "text/plain": [
              "<IPython.core.display.HTML object>"
            ]
          },
          "metadata": {
            "tags": []
          }
        },
        {
          "output_type": "display_data",
          "data": {
            "text/html": [
              "Synced 5 W&B file(s), 1 media file(s), 0 artifact file(s) and 1 other file(s)"
            ],
            "text/plain": [
              "<IPython.core.display.HTML object>"
            ]
          },
          "metadata": {
            "tags": []
          }
        },
        {
          "output_type": "display_data",
          "data": {
            "text/html": [
              "\n",
              "                    <br/>Synced <strong style=\"color:#cdcd00\">mild-sweep-9</strong>: <a href=\"https://wandb.ai/anshikag_2210/NMT/runs/g30717xh\" target=\"_blank\">https://wandb.ai/anshikag_2210/NMT/runs/g30717xh</a><br/>\n",
              "                "
            ],
            "text/plain": [
              "<IPython.core.display.HTML object>"
            ]
          },
          "metadata": {
            "tags": []
          }
        },
        {
          "output_type": "stream",
          "text": [
            "\u001b[34m\u001b[1mwandb\u001b[0m: Agent Starting Run: zi8dwovp with config:\n",
            "\u001b[34m\u001b[1mwandb\u001b[0m: \tbatch_size: 32\n",
            "\u001b[34m\u001b[1mwandb\u001b[0m: \tcell_type: lstm\n",
            "\u001b[34m\u001b[1mwandb\u001b[0m: \tdecoder_embed_size: 128\n",
            "\u001b[34m\u001b[1mwandb\u001b[0m: \tdropout: 0.1\n",
            "\u001b[34m\u001b[1mwandb\u001b[0m: \tencoder_embed_size: 64\n",
            "\u001b[34m\u001b[1mwandb\u001b[0m: \tepochs: 30\n",
            "\u001b[34m\u001b[1mwandb\u001b[0m: \thidden_layer_size: 128\n",
            "\u001b[34m\u001b[1mwandb\u001b[0m: \tnum_decoder_layers: 3\n",
            "\u001b[34m\u001b[1mwandb\u001b[0m: \tnum_encoder_layers: 2\n"
          ],
          "name": "stderr"
        },
        {
          "output_type": "display_data",
          "data": {
            "text/html": [
              "\n",
              "                Tracking run with wandb version 0.10.30<br/>\n",
              "                Syncing run <strong style=\"color:#cdcd00\">rose-sweep-10</strong> to <a href=\"https://wandb.ai\" target=\"_blank\">Weights & Biases</a> <a href=\"https://docs.wandb.com/integrations/jupyter.html\" target=\"_blank\">(Documentation)</a>.<br/>\n",
              "                Project page: <a href=\"https://wandb.ai/anshikag_2210/NMT\" target=\"_blank\">https://wandb.ai/anshikag_2210/NMT</a><br/>\n",
              "                Sweep page: <a href=\"https://wandb.ai/anshikag_2210/NMT/sweeps/4yhiwznk\" target=\"_blank\">https://wandb.ai/anshikag_2210/NMT/sweeps/4yhiwznk</a><br/>\n",
              "Run page: <a href=\"https://wandb.ai/anshikag_2210/NMT/runs/zi8dwovp\" target=\"_blank\">https://wandb.ai/anshikag_2210/NMT/runs/zi8dwovp</a><br/>\n",
              "                Run data is saved locally in <code>/root/.keras/datasets/dakshina_dataset_v1.0/hi/lexicons/wandb/run-20210513_111935-zi8dwovp</code><br/><br/>\n",
              "            "
            ],
            "text/plain": [
              "<IPython.core.display.HTML object>"
            ]
          },
          "metadata": {
            "tags": []
          }
        },
        {
          "output_type": "stream",
          "text": [
            "Epoch 1/30\n",
            "1382/1382 [==============================] - 79s 50ms/step - loss: 1.2286 - accuracy: 0.7074 - val_loss: 0.8371 - val_accuracy: 0.7699\n",
            "Epoch 2/30\n",
            "1382/1382 [==============================] - 67s 49ms/step - loss: 0.8134 - accuracy: 0.7725 - val_loss: 0.6308 - val_accuracy: 0.8178\n",
            "Epoch 3/30\n",
            "1382/1382 [==============================] - 67s 49ms/step - loss: 0.6207 - accuracy: 0.8183 - val_loss: 0.4773 - val_accuracy: 0.8585\n",
            "Epoch 4/30\n",
            "1382/1382 [==============================] - 67s 49ms/step - loss: 0.4597 - accuracy: 0.8629 - val_loss: 0.3480 - val_accuracy: 0.8943\n",
            "Epoch 5/30\n",
            "1382/1382 [==============================] - 67s 49ms/step - loss: 0.3445 - accuracy: 0.8942 - val_loss: 0.2752 - val_accuracy: 0.9159\n",
            "Epoch 6/30\n",
            "1382/1382 [==============================] - 68s 49ms/step - loss: 0.2687 - accuracy: 0.9166 - val_loss: 0.2373 - val_accuracy: 0.9267\n",
            "Epoch 7/30\n",
            "1382/1382 [==============================] - 68s 49ms/step - loss: 0.2244 - accuracy: 0.9304 - val_loss: 0.2087 - val_accuracy: 0.9343\n",
            "Epoch 8/30\n",
            "1382/1382 [==============================] - 68s 49ms/step - loss: 0.1915 - accuracy: 0.9400 - val_loss: 0.1939 - val_accuracy: 0.9383\n",
            "Epoch 9/30\n",
            "1382/1382 [==============================] - 68s 49ms/step - loss: 0.1707 - accuracy: 0.9464 - val_loss: 0.1849 - val_accuracy: 0.9415\n",
            "Epoch 10/30\n",
            "1382/1382 [==============================] - 68s 49ms/step - loss: 0.1531 - accuracy: 0.9515 - val_loss: 0.1779 - val_accuracy: 0.9446\n",
            "Epoch 11/30\n",
            "1382/1382 [==============================] - 68s 49ms/step - loss: 0.1374 - accuracy: 0.9566 - val_loss: 0.1725 - val_accuracy: 0.9459\n",
            "Epoch 12/30\n",
            "1382/1382 [==============================] - 68s 49ms/step - loss: 0.1265 - accuracy: 0.9596 - val_loss: 0.1718 - val_accuracy: 0.9464\n",
            "Epoch 13/30\n",
            "1382/1382 [==============================] - 68s 49ms/step - loss: 0.1173 - accuracy: 0.9624 - val_loss: 0.1693 - val_accuracy: 0.9476\n",
            "Epoch 14/30\n",
            "1382/1382 [==============================] - 68s 49ms/step - loss: 0.1091 - accuracy: 0.9649 - val_loss: 0.1715 - val_accuracy: 0.9471\n",
            "Epoch 15/30\n",
            "1382/1382 [==============================] - 68s 49ms/step - loss: 0.1009 - accuracy: 0.9673 - val_loss: 0.1699 - val_accuracy: 0.9479\n",
            "Epoch 16/30\n",
            "1382/1382 [==============================] - 68s 49ms/step - loss: 0.0956 - accuracy: 0.9691 - val_loss: 0.1706 - val_accuracy: 0.9488\n",
            "Epoch 17/30\n",
            "1382/1382 [==============================] - 68s 49ms/step - loss: 0.0887 - accuracy: 0.9712 - val_loss: 0.1716 - val_accuracy: 0.9488\n",
            "Epoch 18/30\n",
            "1382/1382 [==============================] - 68s 49ms/step - loss: 0.0845 - accuracy: 0.9725 - val_loss: 0.1712 - val_accuracy: 0.9491\n"
          ],
          "name": "stdout"
        },
        {
          "output_type": "display_data",
          "data": {
            "text/html": [
              "<br/>Waiting for W&B process to finish, PID 1909<br/>Program ended successfully."
            ],
            "text/plain": [
              "<IPython.core.display.HTML object>"
            ]
          },
          "metadata": {
            "tags": []
          }
        },
        {
          "output_type": "display_data",
          "data": {
            "application/vnd.jupyter.widget-view+json": {
              "model_id": "4459c361b39c4b18845e06f25263bd52",
              "version_minor": 0,
              "version_major": 2
            },
            "text/plain": [
              "VBox(children=(Label(value=' 7.46MB of 7.46MB uploaded (0.00MB deduped)\\r'), FloatProgress(value=1.0, max=1.0)…"
            ]
          },
          "metadata": {
            "tags": []
          }
        },
        {
          "output_type": "display_data",
          "data": {
            "text/html": [
              "Find user logs for this run at: <code>/root/.keras/datasets/dakshina_dataset_v1.0/hi/lexicons/wandb/run-20210513_111935-zi8dwovp/logs/debug.log</code>"
            ],
            "text/plain": [
              "<IPython.core.display.HTML object>"
            ]
          },
          "metadata": {
            "tags": []
          }
        },
        {
          "output_type": "display_data",
          "data": {
            "text/html": [
              "Find internal logs for this run at: <code>/root/.keras/datasets/dakshina_dataset_v1.0/hi/lexicons/wandb/run-20210513_111935-zi8dwovp/logs/debug-internal.log</code>"
            ],
            "text/plain": [
              "<IPython.core.display.HTML object>"
            ]
          },
          "metadata": {
            "tags": []
          }
        },
        {
          "output_type": "display_data",
          "data": {
            "text/html": [
              "<h3>Run summary:</h3><br/><style>\n",
              "    table.wandb td:nth-child(1) { padding: 0 10px; text-align: right }\n",
              "    </style><table class=\"wandb\">\n",
              "<tr><td>epoch</td><td>17</td></tr><tr><td>loss</td><td>0.08726</td></tr><tr><td>accuracy</td><td>0.97146</td></tr><tr><td>val_loss</td><td>0.17119</td></tr><tr><td>val_accuracy</td><td>0.94906</td></tr><tr><td>_runtime</td><td>1253</td></tr><tr><td>_timestamp</td><td>1620906028</td></tr><tr><td>_step</td><td>18</td></tr><tr><td>best_val_loss</td><td>0.16934</td></tr><tr><td>best_epoch</td><td>12</td></tr><tr><td>val_acc</td><td>0.00505</td></tr></table>"
            ],
            "text/plain": [
              "<IPython.core.display.HTML object>"
            ]
          },
          "metadata": {
            "tags": []
          }
        },
        {
          "output_type": "display_data",
          "data": {
            "text/html": [
              "<h3>Run history:</h3><br/><style>\n",
              "    table.wandb td:nth-child(1) { padding: 0 10px; text-align: right }\n",
              "    </style><table class=\"wandb\">\n",
              "<tr><td>epoch</td><td>▁▁▂▂▃▃▃▄▄▅▅▆▆▆▇▇██</td></tr><tr><td>loss</td><td>█▆▅▄▃▂▂▂▂▁▁▁▁▁▁▁▁▁</td></tr><tr><td>accuracy</td><td>▁▂▄▅▆▆▇▇▇▇████████</td></tr><tr><td>val_loss</td><td>█▆▄▃▂▂▁▁▁▁▁▁▁▁▁▁▁▁</td></tr><tr><td>val_accuracy</td><td>▁▃▄▆▇▇▇███████████</td></tr><tr><td>_runtime</td><td>▁▁▂▂▃▃▃▄▄▅▅▅▆▆▇▇▇██</td></tr><tr><td>_timestamp</td><td>▁▁▂▂▃▃▃▄▄▅▅▅▆▆▇▇▇██</td></tr><tr><td>_step</td><td>▁▁▂▂▃▃▃▄▄▅▅▅▆▆▆▇▇██</td></tr><tr><td>val_acc</td><td>▁</td></tr></table><br/>"
            ],
            "text/plain": [
              "<IPython.core.display.HTML object>"
            ]
          },
          "metadata": {
            "tags": []
          }
        },
        {
          "output_type": "display_data",
          "data": {
            "text/html": [
              "Synced 5 W&B file(s), 1 media file(s), 0 artifact file(s) and 1 other file(s)"
            ],
            "text/plain": [
              "<IPython.core.display.HTML object>"
            ]
          },
          "metadata": {
            "tags": []
          }
        },
        {
          "output_type": "display_data",
          "data": {
            "text/html": [
              "\n",
              "                    <br/>Synced <strong style=\"color:#cdcd00\">rose-sweep-10</strong>: <a href=\"https://wandb.ai/anshikag_2210/NMT/runs/zi8dwovp\" target=\"_blank\">https://wandb.ai/anshikag_2210/NMT/runs/zi8dwovp</a><br/>\n",
              "                "
            ],
            "text/plain": [
              "<IPython.core.display.HTML object>"
            ]
          },
          "metadata": {
            "tags": []
          }
        },
        {
          "output_type": "stream",
          "text": [
            "\u001b[34m\u001b[1mwandb\u001b[0m: Agent Starting Run: hf8pansg with config:\n",
            "\u001b[34m\u001b[1mwandb\u001b[0m: \tbatch_size: 128\n",
            "\u001b[34m\u001b[1mwandb\u001b[0m: \tcell_type: lstm\n",
            "\u001b[34m\u001b[1mwandb\u001b[0m: \tdecoder_embed_size: 1024\n",
            "\u001b[34m\u001b[1mwandb\u001b[0m: \tdropout: 0\n",
            "\u001b[34m\u001b[1mwandb\u001b[0m: \tencoder_embed_size: 512\n",
            "\u001b[34m\u001b[1mwandb\u001b[0m: \tepochs: 60\n",
            "\u001b[34m\u001b[1mwandb\u001b[0m: \thidden_layer_size: 2048\n",
            "\u001b[34m\u001b[1mwandb\u001b[0m: \tnum_decoder_layers: 2\n",
            "\u001b[34m\u001b[1mwandb\u001b[0m: \tnum_encoder_layers: 1\n"
          ],
          "name": "stderr"
        },
        {
          "output_type": "display_data",
          "data": {
            "text/html": [
              "\n",
              "                Tracking run with wandb version 0.10.30<br/>\n",
              "                Syncing run <strong style=\"color:#cdcd00\">dauntless-sweep-11</strong> to <a href=\"https://wandb.ai\" target=\"_blank\">Weights & Biases</a> <a href=\"https://docs.wandb.com/integrations/jupyter.html\" target=\"_blank\">(Documentation)</a>.<br/>\n",
              "                Project page: <a href=\"https://wandb.ai/anshikag_2210/NMT\" target=\"_blank\">https://wandb.ai/anshikag_2210/NMT</a><br/>\n",
              "                Sweep page: <a href=\"https://wandb.ai/anshikag_2210/NMT/sweeps/4yhiwznk\" target=\"_blank\">https://wandb.ai/anshikag_2210/NMT/sweeps/4yhiwznk</a><br/>\n",
              "Run page: <a href=\"https://wandb.ai/anshikag_2210/NMT/runs/hf8pansg\" target=\"_blank\">https://wandb.ai/anshikag_2210/NMT/runs/hf8pansg</a><br/>\n",
              "                Run data is saved locally in <code>/root/.keras/datasets/dakshina_dataset_v1.0/hi/lexicons/wandb/run-20210513_114035-hf8pansg</code><br/><br/>\n",
              "            "
            ],
            "text/plain": [
              "<IPython.core.display.HTML object>"
            ]
          },
          "metadata": {
            "tags": []
          }
        },
        {
          "output_type": "stream",
          "text": [
            "Epoch 1/60\n",
            "346/346 [==============================] - 259s 730ms/step - loss: 1.3759 - accuracy: 0.6902 - val_loss: 0.7760 - val_accuracy: 0.7836\n",
            "Epoch 2/60\n",
            "346/346 [==============================] - 251s 726ms/step - loss: 0.7063 - accuracy: 0.7983 - val_loss: 0.4918 - val_accuracy: 0.8512\n",
            "Epoch 3/60\n",
            "346/346 [==============================] - 251s 726ms/step - loss: 0.4318 - accuracy: 0.8674 - val_loss: 0.2869 - val_accuracy: 0.9113\n",
            "Epoch 4/60\n",
            "346/346 [==============================] - 252s 728ms/step - loss: 0.2195 - accuracy: 0.9303 - val_loss: 0.2122 - val_accuracy: 0.9329\n",
            "Epoch 5/60\n",
            "346/346 [==============================] - 251s 726ms/step - loss: 0.1298 - accuracy: 0.9588 - val_loss: 0.1835 - val_accuracy: 0.9421\n",
            "Epoch 6/60\n",
            "346/346 [==============================] - 251s 726ms/step - loss: 0.0836 - accuracy: 0.9733 - val_loss: 0.1794 - val_accuracy: 0.9454\n",
            "Epoch 7/60\n",
            "346/346 [==============================] - 252s 728ms/step - loss: 0.0597 - accuracy: 0.9811 - val_loss: 0.1808 - val_accuracy: 0.9475\n",
            "Epoch 8/60\n",
            "346/346 [==============================] - 251s 727ms/step - loss: 0.0453 - accuracy: 0.9859 - val_loss: 0.1841 - val_accuracy: 0.9468\n",
            "Epoch 9/60\n",
            "346/346 [==============================] - 251s 727ms/step - loss: 0.0375 - accuracy: 0.9885 - val_loss: 0.1872 - val_accuracy: 0.9479\n",
            "Epoch 10/60\n",
            "346/346 [==============================] - 251s 726ms/step - loss: 0.0323 - accuracy: 0.9905 - val_loss: 0.1903 - val_accuracy: 0.9494\n",
            "Epoch 11/60\n",
            "346/346 [==============================] - 251s 726ms/step - loss: 0.0301 - accuracy: 0.9913 - val_loss: 0.1937 - val_accuracy: 0.9499\n"
          ],
          "name": "stdout"
        },
        {
          "output_type": "display_data",
          "data": {
            "text/html": [
              "<br/>Waiting for W&B process to finish, PID 2070<br/>Program ended successfully."
            ],
            "text/plain": [
              "<IPython.core.display.HTML object>"
            ]
          },
          "metadata": {
            "tags": []
          }
        },
        {
          "output_type": "display_data",
          "data": {
            "application/vnd.jupyter.widget-view+json": {
              "model_id": "db92b351373c480e8c4a98f0328aac55",
              "version_minor": 0,
              "version_major": 2
            },
            "text/plain": [
              "VBox(children=(Label(value=' 914.84MB of 914.84MB uploaded (0.00MB deduped)\\r'), FloatProgress(value=1.0, max=…"
            ]
          },
          "metadata": {
            "tags": []
          }
        },
        {
          "output_type": "display_data",
          "data": {
            "text/html": [
              "Find user logs for this run at: <code>/root/.keras/datasets/dakshina_dataset_v1.0/hi/lexicons/wandb/run-20210513_114035-hf8pansg/logs/debug.log</code>"
            ],
            "text/plain": [
              "<IPython.core.display.HTML object>"
            ]
          },
          "metadata": {
            "tags": []
          }
        },
        {
          "output_type": "display_data",
          "data": {
            "text/html": [
              "Find internal logs for this run at: <code>/root/.keras/datasets/dakshina_dataset_v1.0/hi/lexicons/wandb/run-20210513_114035-hf8pansg/logs/debug-internal.log</code>"
            ],
            "text/plain": [
              "<IPython.core.display.HTML object>"
            ]
          },
          "metadata": {
            "tags": []
          }
        },
        {
          "output_type": "display_data",
          "data": {
            "text/html": [
              "<h3>Run summary:</h3><br/><style>\n",
              "    table.wandb td:nth-child(1) { padding: 0 10px; text-align: right }\n",
              "    </style><table class=\"wandb\">\n",
              "<tr><td>epoch</td><td>10</td></tr><tr><td>loss</td><td>0.03249</td></tr><tr><td>accuracy</td><td>0.99052</td></tr><tr><td>val_loss</td><td>0.19366</td></tr><tr><td>val_accuracy</td><td>0.94986</td></tr><tr><td>_runtime</td><td>2900</td></tr><tr><td>_timestamp</td><td>1620908935</td></tr><tr><td>_step</td><td>11</td></tr><tr><td>best_val_loss</td><td>0.17936</td></tr><tr><td>best_epoch</td><td>5</td></tr><tr><td>val_acc</td><td>0.0</td></tr></table>"
            ],
            "text/plain": [
              "<IPython.core.display.HTML object>"
            ]
          },
          "metadata": {
            "tags": []
          }
        },
        {
          "output_type": "display_data",
          "data": {
            "text/html": [
              "<h3>Run history:</h3><br/><style>\n",
              "    table.wandb td:nth-child(1) { padding: 0 10px; text-align: right }\n",
              "    </style><table class=\"wandb\">\n",
              "<tr><td>epoch</td><td>▁▂▂▃▄▅▅▆▇▇█</td></tr><tr><td>loss</td><td>█▅▃▂▂▁▁▁▁▁▁</td></tr><tr><td>accuracy</td><td>▁▃▅▇▇██████</td></tr><tr><td>val_loss</td><td>█▅▂▁▁▁▁▁▁▁▁</td></tr><tr><td>val_accuracy</td><td>▁▄▆▇███████</td></tr><tr><td>_runtime</td><td>▁▂▂▃▄▄▅▆▆▇██</td></tr><tr><td>_timestamp</td><td>▁▂▂▃▄▄▅▆▆▇██</td></tr><tr><td>_step</td><td>▁▂▂▃▄▄▅▅▆▇▇█</td></tr><tr><td>val_acc</td><td>▁</td></tr></table><br/>"
            ],
            "text/plain": [
              "<IPython.core.display.HTML object>"
            ]
          },
          "metadata": {
            "tags": []
          }
        },
        {
          "output_type": "display_data",
          "data": {
            "text/html": [
              "Synced 5 W&B file(s), 1 media file(s), 0 artifact file(s) and 1 other file(s)"
            ],
            "text/plain": [
              "<IPython.core.display.HTML object>"
            ]
          },
          "metadata": {
            "tags": []
          }
        },
        {
          "output_type": "display_data",
          "data": {
            "text/html": [
              "\n",
              "                    <br/>Synced <strong style=\"color:#cdcd00\">dauntless-sweep-11</strong>: <a href=\"https://wandb.ai/anshikag_2210/NMT/runs/hf8pansg\" target=\"_blank\">https://wandb.ai/anshikag_2210/NMT/runs/hf8pansg</a><br/>\n",
              "                "
            ],
            "text/plain": [
              "<IPython.core.display.HTML object>"
            ]
          },
          "metadata": {
            "tags": []
          }
        },
        {
          "output_type": "stream",
          "text": [
            "\u001b[34m\u001b[1mwandb\u001b[0m: Sweep Agent: Waiting for job.\n",
            "\u001b[34m\u001b[1mwandb\u001b[0m: Job received.\n",
            "\u001b[34m\u001b[1mwandb\u001b[0m: Agent Starting Run: yykn5utd with config:\n",
            "\u001b[34m\u001b[1mwandb\u001b[0m: \tbatch_size: 64\n",
            "\u001b[34m\u001b[1mwandb\u001b[0m: \tcell_type: gru\n",
            "\u001b[34m\u001b[1mwandb\u001b[0m: \tdecoder_embed_size: 1024\n",
            "\u001b[34m\u001b[1mwandb\u001b[0m: \tdropout: 0.1\n",
            "\u001b[34m\u001b[1mwandb\u001b[0m: \tencoder_embed_size: 1024\n",
            "\u001b[34m\u001b[1mwandb\u001b[0m: \tepochs: 30\n",
            "\u001b[34m\u001b[1mwandb\u001b[0m: \thidden_layer_size: 256\n",
            "\u001b[34m\u001b[1mwandb\u001b[0m: \tnum_decoder_layers: 4\n",
            "\u001b[34m\u001b[1mwandb\u001b[0m: \tnum_encoder_layers: 1\n"
          ],
          "name": "stderr"
        },
        {
          "output_type": "display_data",
          "data": {
            "text/html": [
              "\n",
              "                Tracking run with wandb version 0.10.30<br/>\n",
              "                Syncing run <strong style=\"color:#cdcd00\">likely-sweep-12</strong> to <a href=\"https://wandb.ai\" target=\"_blank\">Weights & Biases</a> <a href=\"https://docs.wandb.com/integrations/jupyter.html\" target=\"_blank\">(Documentation)</a>.<br/>\n",
              "                Project page: <a href=\"https://wandb.ai/anshikag_2210/NMT\" target=\"_blank\">https://wandb.ai/anshikag_2210/NMT</a><br/>\n",
              "                Sweep page: <a href=\"https://wandb.ai/anshikag_2210/NMT/sweeps/4yhiwznk\" target=\"_blank\">https://wandb.ai/anshikag_2210/NMT/sweeps/4yhiwznk</a><br/>\n",
              "Run page: <a href=\"https://wandb.ai/anshikag_2210/NMT/runs/yykn5utd\" target=\"_blank\">https://wandb.ai/anshikag_2210/NMT/runs/yykn5utd</a><br/>\n",
              "                Run data is saved locally in <code>/root/.keras/datasets/dakshina_dataset_v1.0/hi/lexicons/wandb/run-20210513_122936-yykn5utd</code><br/><br/>\n",
              "            "
            ],
            "text/plain": [
              "<IPython.core.display.HTML object>"
            ]
          },
          "metadata": {
            "tags": []
          }
        },
        {
          "output_type": "stream",
          "text": [
            "Epoch 1/30\n",
            "691/691 [==============================] - 59s 72ms/step - loss: 1.1483 - accuracy: 0.7179 - val_loss: 0.6075 - val_accuracy: 0.8259\n",
            "Epoch 2/30\n",
            "691/691 [==============================] - 44s 64ms/step - loss: 0.4941 - accuracy: 0.8553 - val_loss: 0.2516 - val_accuracy: 0.9213\n",
            "Epoch 3/30\n",
            "691/691 [==============================] - 44s 64ms/step - loss: 0.2294 - accuracy: 0.9282 - val_loss: 0.1944 - val_accuracy: 0.9384\n",
            "Epoch 4/30\n",
            "691/691 [==============================] - 44s 64ms/step - loss: 0.1680 - accuracy: 0.9466 - val_loss: 0.1759 - val_accuracy: 0.9435\n",
            "Epoch 5/30\n",
            "691/691 [==============================] - 44s 64ms/step - loss: 0.1349 - accuracy: 0.9568 - val_loss: 0.1685 - val_accuracy: 0.9467\n",
            "Epoch 6/30\n",
            "691/691 [==============================] - 44s 64ms/step - loss: 0.1140 - accuracy: 0.9638 - val_loss: 0.1682 - val_accuracy: 0.9470\n",
            "Epoch 7/30\n",
            "691/691 [==============================] - 44s 64ms/step - loss: 0.0980 - accuracy: 0.9681 - val_loss: 0.1665 - val_accuracy: 0.9487\n",
            "Epoch 8/30\n",
            "691/691 [==============================] - 44s 64ms/step - loss: 0.0870 - accuracy: 0.9715 - val_loss: 0.1701 - val_accuracy: 0.9490\n",
            "Epoch 9/30\n",
            "691/691 [==============================] - 44s 63ms/step - loss: 0.0778 - accuracy: 0.9747 - val_loss: 0.1742 - val_accuracy: 0.9489\n",
            "Epoch 10/30\n",
            "691/691 [==============================] - 44s 64ms/step - loss: 0.0709 - accuracy: 0.9767 - val_loss: 0.1782 - val_accuracy: 0.9484\n",
            "Epoch 11/30\n",
            "691/691 [==============================] - 44s 64ms/step - loss: 0.0642 - accuracy: 0.9788 - val_loss: 0.1789 - val_accuracy: 0.9494\n",
            "Epoch 12/30\n",
            "691/691 [==============================] - 44s 64ms/step - loss: 0.0585 - accuracy: 0.9806 - val_loss: 0.1837 - val_accuracy: 0.9482\n"
          ],
          "name": "stdout"
        },
        {
          "output_type": "display_data",
          "data": {
            "text/html": [
              "<br/>Waiting for W&B process to finish, PID 2219<br/>Program ended successfully."
            ],
            "text/plain": [
              "<IPython.core.display.HTML object>"
            ]
          },
          "metadata": {
            "tags": []
          }
        },
        {
          "output_type": "display_data",
          "data": {
            "application/vnd.jupyter.widget-view+json": {
              "model_id": "2f5e2efa09ec472ba167001b8e2168b2",
              "version_minor": 0,
              "version_major": 2
            },
            "text/plain": [
              "VBox(children=(Label(value=' 37.49MB of 37.49MB uploaded (0.00MB deduped)\\r'), FloatProgress(value=1.0, max=1.…"
            ]
          },
          "metadata": {
            "tags": []
          }
        },
        {
          "output_type": "display_data",
          "data": {
            "text/html": [
              "Find user logs for this run at: <code>/root/.keras/datasets/dakshina_dataset_v1.0/hi/lexicons/wandb/run-20210513_122936-yykn5utd/logs/debug.log</code>"
            ],
            "text/plain": [
              "<IPython.core.display.HTML object>"
            ]
          },
          "metadata": {
            "tags": []
          }
        },
        {
          "output_type": "display_data",
          "data": {
            "text/html": [
              "Find internal logs for this run at: <code>/root/.keras/datasets/dakshina_dataset_v1.0/hi/lexicons/wandb/run-20210513_122936-yykn5utd/logs/debug-internal.log</code>"
            ],
            "text/plain": [
              "<IPython.core.display.HTML object>"
            ]
          },
          "metadata": {
            "tags": []
          }
        },
        {
          "output_type": "display_data",
          "data": {
            "text/html": [
              "<h3>Run summary:</h3><br/><style>\n",
              "    table.wandb td:nth-child(1) { padding: 0 10px; text-align: right }\n",
              "    </style><table class=\"wandb\">\n",
              "<tr><td>epoch</td><td>11</td></tr><tr><td>loss</td><td>0.06235</td></tr><tr><td>accuracy</td><td>0.97914</td></tr><tr><td>val_loss</td><td>0.1837</td></tr><tr><td>val_accuracy</td><td>0.94821</td></tr><tr><td>_runtime</td><td>574</td></tr><tr><td>_timestamp</td><td>1620909550</td></tr><tr><td>_step</td><td>12</td></tr><tr><td>best_val_loss</td><td>0.16646</td></tr><tr><td>best_epoch</td><td>6</td></tr><tr><td>val_acc</td><td>0.0</td></tr></table>"
            ],
            "text/plain": [
              "<IPython.core.display.HTML object>"
            ]
          },
          "metadata": {
            "tags": []
          }
        },
        {
          "output_type": "display_data",
          "data": {
            "text/html": [
              "<h3>Run history:</h3><br/><style>\n",
              "    table.wandb td:nth-child(1) { padding: 0 10px; text-align: right }\n",
              "    </style><table class=\"wandb\">\n",
              "<tr><td>epoch</td><td>▁▂▂▃▄▄▅▅▆▇▇█</td></tr><tr><td>loss</td><td>█▄▂▂▂▁▁▁▁▁▁▁</td></tr><tr><td>accuracy</td><td>▁▅▇▇▇▇██████</td></tr><tr><td>val_loss</td><td>█▂▁▁▁▁▁▁▁▁▁▁</td></tr><tr><td>val_accuracy</td><td>▁▆▇█████████</td></tr><tr><td>_runtime</td><td>▁▂▂▃▃▄▅▅▆▆▇██</td></tr><tr><td>_timestamp</td><td>▁▂▂▃▃▄▅▅▆▆▇██</td></tr><tr><td>_step</td><td>▁▂▂▃▃▄▅▅▆▆▇▇█</td></tr><tr><td>val_acc</td><td>▁</td></tr></table><br/>"
            ],
            "text/plain": [
              "<IPython.core.display.HTML object>"
            ]
          },
          "metadata": {
            "tags": []
          }
        },
        {
          "output_type": "display_data",
          "data": {
            "text/html": [
              "Synced 5 W&B file(s), 1 media file(s), 0 artifact file(s) and 1 other file(s)"
            ],
            "text/plain": [
              "<IPython.core.display.HTML object>"
            ]
          },
          "metadata": {
            "tags": []
          }
        },
        {
          "output_type": "display_data",
          "data": {
            "text/html": [
              "\n",
              "                    <br/>Synced <strong style=\"color:#cdcd00\">likely-sweep-12</strong>: <a href=\"https://wandb.ai/anshikag_2210/NMT/runs/yykn5utd\" target=\"_blank\">https://wandb.ai/anshikag_2210/NMT/runs/yykn5utd</a><br/>\n",
              "                "
            ],
            "text/plain": [
              "<IPython.core.display.HTML object>"
            ]
          },
          "metadata": {
            "tags": []
          }
        },
        {
          "output_type": "stream",
          "text": [
            "\u001b[34m\u001b[1mwandb\u001b[0m: Agent Starting Run: r273weo4 with config:\n",
            "\u001b[34m\u001b[1mwandb\u001b[0m: \tbatch_size: 32\n",
            "\u001b[34m\u001b[1mwandb\u001b[0m: \tcell_type: gru\n",
            "\u001b[34m\u001b[1mwandb\u001b[0m: \tdecoder_embed_size: 128\n",
            "\u001b[34m\u001b[1mwandb\u001b[0m: \tdropout: 0.1\n",
            "\u001b[34m\u001b[1mwandb\u001b[0m: \tencoder_embed_size: 1024\n",
            "\u001b[34m\u001b[1mwandb\u001b[0m: \tepochs: 40\n",
            "\u001b[34m\u001b[1mwandb\u001b[0m: \thidden_layer_size: 512\n",
            "\u001b[34m\u001b[1mwandb\u001b[0m: \tnum_decoder_layers: 1\n",
            "\u001b[34m\u001b[1mwandb\u001b[0m: \tnum_encoder_layers: 3\n"
          ],
          "name": "stderr"
        },
        {
          "output_type": "display_data",
          "data": {
            "text/html": [
              "\n",
              "                Tracking run with wandb version 0.10.30<br/>\n",
              "                Syncing run <strong style=\"color:#cdcd00\">good-sweep-13</strong> to <a href=\"https://wandb.ai\" target=\"_blank\">Weights & Biases</a> <a href=\"https://docs.wandb.com/integrations/jupyter.html\" target=\"_blank\">(Documentation)</a>.<br/>\n",
              "                Project page: <a href=\"https://wandb.ai/anshikag_2210/NMT\" target=\"_blank\">https://wandb.ai/anshikag_2210/NMT</a><br/>\n",
              "                Sweep page: <a href=\"https://wandb.ai/anshikag_2210/NMT/sweeps/4yhiwznk\" target=\"_blank\">https://wandb.ai/anshikag_2210/NMT/sweeps/4yhiwznk</a><br/>\n",
              "Run page: <a href=\"https://wandb.ai/anshikag_2210/NMT/runs/r273weo4\" target=\"_blank\">https://wandb.ai/anshikag_2210/NMT/runs/r273weo4</a><br/>\n",
              "                Run data is saved locally in <code>/root/.keras/datasets/dakshina_dataset_v1.0/hi/lexicons/wandb/run-20210513_123918-r273weo4</code><br/><br/>\n",
              "            "
            ],
            "text/plain": [
              "<IPython.core.display.HTML object>"
            ]
          },
          "metadata": {
            "tags": []
          }
        },
        {
          "output_type": "stream",
          "text": [
            "Epoch 1/40\n",
            "1382/1382 [==============================] - 98s 66ms/step - loss: 0.9692 - accuracy: 0.7585 - val_loss: 0.2588 - val_accuracy: 0.9179\n",
            "Epoch 2/40\n",
            "1382/1382 [==============================] - 89s 64ms/step - loss: 0.2282 - accuracy: 0.9287 - val_loss: 0.1877 - val_accuracy: 0.9401\n",
            "Epoch 3/40\n",
            "1382/1382 [==============================] - 89s 64ms/step - loss: 0.1516 - accuracy: 0.9515 - val_loss: 0.1712 - val_accuracy: 0.9450\n",
            "Epoch 4/40\n",
            " 828/1382 [================>.............] - ETA: 34s - loss: 0.1155 - accuracy: 0.9626"
          ],
          "name": "stdout"
        }
      ]
    }
  ]
}