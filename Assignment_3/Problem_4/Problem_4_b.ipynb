{
  "nbformat": 4,
  "nbformat_minor": 0,
  "metadata": {
    "colab": {
      "name": "Problem_4_b.ipynb",
      "provenance": [],
      "collapsed_sections": []
    },
    "kernelspec": {
      "display_name": "Python 3",
      "name": "python3"
    },
    "language_info": {
      "name": "python"
    },
    "accelerator": "GPU"
  },
  "cells": [
    {
      "cell_type": "markdown",
      "metadata": {
        "id": "JEhSxeYJdxzj"
      },
      "source": [
        "**IMPORT REQUIRED LIBRARIES**"
      ]
    },
    {
      "cell_type": "code",
      "metadata": {
        "id": "5OlH8H6Dgseh"
      },
      "source": [
        "import tensorflow as tf\n",
        "from tensorflow import keras\n",
        "from tensorflow.keras import layers\n",
        "from tensorflow.keras.models import Sequential\n",
        "import matplotlib.pyplot as plt\n",
        "import numpy as np\n",
        "import PIL\n",
        "import cv2\n",
        "import pathlib\n",
        "import glob\n",
        "import shutil\n",
        "import os\n",
        "import random\n",
        "import sys\n",
        "import string\n",
        "import seaborn as sns\n",
        "from keras.callbacks import EarlyStopping\n",
        "from matplotlib.font_manager import FontProperties"
      ],
      "execution_count": null,
      "outputs": []
    },
    {
      "cell_type": "code",
      "metadata": {
        "id": "STMGDOBCguDe",
        "colab": {
          "base_uri": "https://localhost:8080/"
        },
        "outputId": "63c7f0ff-8d56-444a-a685-eb3331928a05"
      },
      "source": [
        "#--------------------------------caution: terminal commands ---------------------------------------------\n",
        "%cd\n",
        "%cd .keras/datasets/\n",
        "!rm -r *"
      ],
      "execution_count": null,
      "outputs": [
        {
          "output_type": "stream",
          "text": [
            "/root\n",
            "/root/.keras/datasets\n"
          ],
          "name": "stdout"
        }
      ]
    },
    {
      "cell_type": "code",
      "metadata": {
        "id": "kExxbfhyguAW",
        "colab": {
          "base_uri": "https://localhost:8080/"
        },
        "outputId": "3c6c1582-f1dd-4064-d2e1-24337a4190cd"
      },
      "source": [
        "########################################### download data from given url ###############################################\n",
        "\n",
        "dataset_url = \"https://storage.googleapis.com/gresearch/dakshina/dakshina_dataset_v1.0.tar\"\n",
        "data_dir = tf.keras.utils.get_file('dakshina_dataset_v1.0', origin=dataset_url, untar=True)"
      ],
      "execution_count": null,
      "outputs": [
        {
          "output_type": "stream",
          "text": [
            "Downloading data from https://storage.googleapis.com/gresearch/dakshina/dakshina_dataset_v1.0.tar\n",
            "2008342528/2008340480 [==============================] - 21s 0us/step\n"
          ],
          "name": "stdout"
        }
      ]
    },
    {
      "cell_type": "code",
      "metadata": {
        "colab": {
          "base_uri": "https://localhost:8080/"
        },
        "id": "FsOhKufxgt7-",
        "outputId": "9256afde-441e-4e06-ce88-82c15a21482d"
      },
      "source": [
        "#----------------------------------terminal command -----------------------------------------------\n",
        "%cd /root/.keras/datasets/dakshina_dataset_v1.0/hi/lexicons/\n",
        "!ls"
      ],
      "execution_count": null,
      "outputs": [
        {
          "output_type": "stream",
          "text": [
            "/root/.keras/datasets/dakshina_dataset_v1.0/hi/lexicons\n",
            "hi.translit.sampled.dev.tsv   hi.translit.sampled.train.tsv\n",
            "hi.translit.sampled.test.tsv\n"
          ],
          "name": "stdout"
        }
      ]
    },
    {
      "cell_type": "code",
      "metadata": {
        "id": "zxSiYbw8hpcH"
      },
      "source": [
        "train_data_path = \"hi.translit.sampled.train.tsv\"\n",
        "test_data_path = \"hi.translit.sampled.test.tsv\"\n",
        "validation_data_path = \"hi.translit.sampled.dev.tsv\""
      ],
      "execution_count": null,
      "outputs": []
    },
    {
      "cell_type": "markdown",
      "metadata": {
        "id": "KtQd8WIJjcfi"
      },
      "source": [
        "**UTILITY FUNCTION FOR DATA PRE-PROCESSING**"
      ]
    },
    {
      "cell_type": "code",
      "metadata": {
        "id": "Rmc0tpmjjbE3"
      },
      "source": [
        "################################################ preparing the data in required format #################################################\n",
        "\n",
        "def data(path,input_token_index,target_token_index):\n",
        "  input_texts = []\n",
        "  target_texts = []\n",
        "  with open(path, \"r\", encoding=\"utf-8\") as f:\n",
        "      lines = f.read().split(\"\\n\")\n",
        "  del lines[-1]\n",
        "  for line in lines:\n",
        "      target_text, input_text, _ = line.split(\"\\t\")\n",
        "\n",
        "      input_text = \"\\t\"+input_text + \"\\n\"\n",
        "      target_text = \"\\t\"+target_text + \"\\n\"\n",
        "\n",
        "      input_texts.append(input_text)\n",
        "      target_texts.append(target_text)\n",
        "\n",
        "  encoder_input_data = np.zeros( (len(input_texts), max_encoder_seq_length), dtype=\"int32\")\n",
        "  decoder_input_data = np.zeros( (len(input_texts), max_decoder_seq_length), dtype=\"int32\")\n",
        "  decoder_target_data = np.zeros((len(input_texts), max_decoder_seq_length, num_decoder_tokens), dtype=\"int32\")\n",
        "\n",
        "  for i, (input_text, target_text) in enumerate(zip(input_texts, target_texts)):\n",
        "      for t, char in enumerate(input_text):\n",
        "          encoder_input_data[i, t] = input_token_index[char]\n",
        "      encoder_input_data[i, t + 1 :] = input_token_index[\" \"]\n",
        "      for t, char in enumerate(target_text):\n",
        "          # decoder_target_data is ahead of decoder_input_data by one timestep\n",
        "          decoder_input_data[i, t] = target_token_index[char]\n",
        "          if t > 0:\n",
        "              # decoder_target_data will be ahead by one timestep\n",
        "              # and will not include the start character.\n",
        "              decoder_target_data[i, t - 1, target_token_index[char]] = 1.0\n",
        "      decoder_input_data[i, t + 1 :] = target_token_index[\" \"]\n",
        "      decoder_target_data[i, t:, target_token_index[\" \"]] = 1.0\n",
        "    \n",
        "  return (encoder_input_data, decoder_input_data, decoder_target_data, target_texts, input_texts)"
      ],
      "execution_count": null,
      "outputs": []
    },
    {
      "cell_type": "markdown",
      "metadata": {
        "id": "yHX43bsSjPZ0"
      },
      "source": [
        "**PREPROCESSING THE DATA**"
      ]
    },
    {
      "cell_type": "code",
      "metadata": {
        "colab": {
          "base_uri": "https://localhost:8080/"
        },
        "id": "OvzlQKeQg481",
        "outputId": "66f0e7b7-a197-47f4-fb06-a210718bbe87"
      },
      "source": [
        "################################################ preprocessing the train data and getting dictionaries #################################################\n",
        "\n",
        "input_texts = []\n",
        "target_texts = []\n",
        "input_characters = set()\n",
        "target_characters = set()\n",
        "with open(train_data_path, \"r\", encoding=\"utf-8\") as f:\n",
        "    lines = f.read().split(\"\\n\")\n",
        "\n",
        "del lines[-1]\n",
        "for line in lines:\n",
        "    target_text, input_text, _ = line.split(\"\\t\")\n",
        "    input_text = \"\\t\"+input_text + \"\\n\"\n",
        "    target_text = \"\\t\"+target_text + \"\\n\"\n",
        "\n",
        "    input_texts.append(input_text)\n",
        "    target_texts.append(target_text)\n",
        "    for char in input_text:\n",
        "        if char not in input_characters:\n",
        "            input_characters.add(char)\n",
        "    for char in target_text:\n",
        "        if char not in target_characters:\n",
        "            target_characters.add(char)\n",
        "\n",
        "input_characters.add(\" \")\n",
        "target_characters.add(\" \")\n",
        "\n",
        "input_characters = sorted(list(input_characters))\n",
        "target_characters = sorted(list(target_characters))\n",
        "num_encoder_tokens = len(input_characters)\n",
        "num_decoder_tokens = len(target_characters)\n",
        "max_encoder_seq_length = max([len(txt) for txt in input_texts])\n",
        "max_decoder_seq_length = max([len(txt) for txt in target_texts])\n",
        "\n",
        "print(\"Number of samples:\", len(input_texts))\n",
        "print(\"Number of unique input tokens:\", num_encoder_tokens)\n",
        "print(\"Number of unique output tokens:\", num_decoder_tokens)\n",
        "print(\"Max sequence length for inputs:\", max_encoder_seq_length)\n",
        "print(\"Max sequence length for outputs:\", max_decoder_seq_length)\n",
        "\n",
        "input_token_index = dict([(char, i) for i, char in enumerate(input_characters)])\n",
        "target_token_index = dict([(char, i) for i, char in enumerate(target_characters)])\n"
      ],
      "execution_count": null,
      "outputs": [
        {
          "output_type": "stream",
          "text": [
            "Number of samples: 44204\n",
            "Number of unique input tokens: 29\n",
            "Number of unique output tokens: 66\n",
            "Max sequence length for inputs: 22\n",
            "Max sequence length for outputs: 21\n"
          ],
          "name": "stdout"
        }
      ]
    },
    {
      "cell_type": "markdown",
      "metadata": {
        "id": "N82OZs3TNcLK"
      },
      "source": [
        "\n",
        "**MACHINE TRANSLITERATOR**\n"
      ]
    },
    {
      "cell_type": "code",
      "metadata": {
        "id": "XYsd6Xetg7dv"
      },
      "source": [
        "class Machine_Transliterator():\n",
        "\n",
        "  ############################################# constructor for class Machine_Transliterator ##########################################\n",
        "\n",
        "  def __init__(self,max_encoder_seq_length,max_decoder_seq_length,encoder_embed_size, decoder_embed_size,\n",
        "               num_encoder_layers,num_decoder_layers,epochs, hidden_layer_size,\n",
        "               num_encoder_tokens, cell_type, num_decoder_tokens,input_token_index, target_token_index, \n",
        "               activation=\"softmax\",optimizer=\"rmsprop\",dropout=0.05):\n",
        "    \n",
        "    self.cell_type= cell_type\n",
        "    self.hidden_layer_size = hidden_layer_size  \n",
        "    self.optimizer = optimizer\n",
        "    self.activation = activation   \n",
        "    self.dropout=dropout\n",
        "\n",
        "    #-------------------------------------- Number of hidden layers -------------------------------------\n",
        "\n",
        "    self.num_encoder_layers = num_encoder_layers\n",
        "    self.num_decoder_layers=num_decoder_layers\n",
        "\n",
        "    #-------------------------------------- sequence length -------------------------------------\n",
        "    self.max_decoder_seq_length=max_decoder_seq_length\n",
        "    self.max_encoder_seq_length=max_encoder_seq_length\n",
        "\n",
        "    #---------------------------------------------Embedding size-------------------------------------\n",
        "    self.encoder_embed_size = encoder_embed_size\n",
        "    self.decoder_embed_size = decoder_embed_size\n",
        "    \n",
        "    #-----------------information obtained after preprocessing of data-------------------------------------\n",
        "    self.num_encoder_tokens = num_encoder_tokens\n",
        "    self.num_decoder_tokens = num_decoder_tokens\n",
        "\n",
        "    #-----------------------------dictionaries----------------------------------------------------\n",
        "    self.input_token_index = input_token_index\n",
        "    self.target_token_index = target_token_index\n",
        "\n",
        " \n",
        "\n",
        "\n",
        "########################################## function to build model ###########################################\n",
        "\n",
        "  def build_model(self):\n",
        "\n",
        "    \n",
        "    encoder_inputs = keras.Input(shape=(None,))  \n",
        "    encoder_embedding_output = tf.keras.layers.Embedding(input_dim = self.num_encoder_tokens, output_dim = self.encoder_embed_size, name = \"encoder_embedding_layer\")(encoder_inputs)\n",
        "\n",
        "\n",
        "#------------------------------ if cell type = LSTM -------------------------------------------------------------\n",
        "    if self.cell_type == \"lstm\":\n",
        "     #--------------------- encoder -----------------------------------\n",
        "      encoder = keras.layers.LSTM(self.hidden_layer_size, return_state=True,return_sequences=True,dropout=self.dropout,use_bias=True, name = \"encoder_layer_0\")\n",
        "      encoder_outputs, state_h, state_c = encoder(encoder_embedding_output)\n",
        "      for i in range(1,self.num_encoder_layers):\n",
        "        encoder = keras.layers.LSTM(self.hidden_layer_size, return_state=True,return_sequences=True,dropout=self.dropout,use_bias=True, name = (\"encoder_layer_\"+ str(i) ) )\n",
        "        encoder_outputs, state_h, state_c = encoder(encoder_outputs)\n",
        "      encoder_states = [state_h, state_c]\n",
        "\n",
        "      #---------------------------decoder ---------------------------------------------------\n",
        "      decoder_inputs = keras.Input(shape=(None, )) \n",
        "      decoder_embedding_output = tf.keras.layers.Embedding(input_dim = self.num_decoder_tokens, output_dim = self.decoder_embed_size, name = \"decoder_embedding_layer\")(decoder_inputs)\n",
        "\n",
        "      decoder = keras.layers.LSTM(self.hidden_layer_size, return_sequences=True, return_state=True,dropout=self.dropout,use_bias=True, name = \"decoder_layer_0\")\n",
        "      decoder_outputs, _, _= decoder(decoder_embedding_output, initial_state = encoder_states)\n",
        "      for i in range(1,self.num_decoder_layers):\n",
        "        decoder = keras.layers.LSTM(self.hidden_layer_size, return_state=True,return_sequences=True,dropout=self.dropout,use_bias=True, name = (\"decoder_layer_\"+ str(i) ) )\n",
        "        decoder_outputs, _ , _= decoder(decoder_outputs, initial_state = encoder_states)\n",
        "\n",
        "\n",
        "\n",
        "#------------------------------ if cell type = Simple RNN -------------------------------------------------------------\n",
        "    elif self.cell_type == \"rnn\":\n",
        "      #--------------------- encoder -----------------------------------\n",
        "      encoder_inputs = keras.Input(shape=(self.max_encoder_seq_length,))\n",
        "      encoder_embedding_output = tf.keras.layers.Embedding(input_dim = self.num_encoder_tokens, output_dim = self.encoder_embed_size, name = \"encoder_embedding_layer\", input_length=self.max_encoder_seq_length)(encoder_inputs)\n",
        "\n",
        "      encoder = keras.layers.SimpleRNN(self.hidden_layer_size, return_state=True,return_sequences=True,dropout=self.dropout, use_bias=True, name = \"encoder_layer_0\", unroll=True)\n",
        "      encoder_outputs, state = encoder(encoder_embedding_output)\n",
        "      for i in range(1,self.num_encoder_layers):\n",
        "        encoder = keras.layers.SimpleRNN(self.hidden_layer_size, return_state=True,return_sequences=True,dropout=self.dropout, use_bias=True, name = (\"encoder_layer_\"+ str(i) ), unroll=True)\n",
        "        encoder_outputs, state = encoder(encoder_outputs)\n",
        "      encoder_states = [state]\n",
        "\n",
        "      #---------------------------decoder ---------------------------------------------------\n",
        "      decoder_inputs = keras.Input(shape=(self.max_decoder_seq_length, ))      \n",
        "      decoder_embedding_output = tf.keras.layers.Embedding(input_dim = self.num_decoder_tokens, output_dim = self.decoder_embed_size, name = \"decoder_embedding_layer\", input_length=self.max_decoder_seq_length)(decoder_inputs)\n",
        "\n",
        "      decoder = keras.layers.SimpleRNN(self.hidden_layer_size, return_state=True,return_sequences=True, dropout=self.dropout, use_bias=True, name = \"decoder_layer_0\", unroll=True)\n",
        "      decoder_outputs, _ = decoder(decoder_embedding_output, initial_state = encoder_states)\n",
        "      for i in range(1,self.num_decoder_layers):\n",
        "        decoder = keras.layers.SimpleRNN(self.hidden_layer_size, return_state=True,return_sequences=True, dropout=self.dropout, use_bias=True, name = (\"decoder_layer_\"+ str(i) ), unroll=True)\n",
        "        decoder_outputs, _= decoder(decoder_outputs, initial_state = encoder_states)\n",
        "\n",
        "\n",
        "\n",
        "#------------------------------ if cell type = GRU -------------------------------------------------------------\n",
        "    elif self.cell_type == \"gru\":\n",
        "      #--------------------- encoder -----------------------------------\n",
        "      encoder = keras.layers.GRU(self.hidden_layer_size, return_state=True,return_sequences=True,dropout=self.dropout,use_bias=True, name = \"encoder_layer_0\")\n",
        "      encoder_outputs, state = encoder(encoder_embedding_output)\n",
        "      for i in range(1,self.num_encoder_layers):\n",
        "        encoder = keras.layers.GRU(self.hidden_layer_size, return_state=True,return_sequences=True,dropout=self.dropout,use_bias=True, name = (\"encoder_layer_\"+ str(i) ))\n",
        "        encoder_outputs, state = encoder(encoder_outputs)\n",
        "      encoder_states = [state]\n",
        "\n",
        "      #---------------------------decoder ---------------------------------------------------\n",
        "      decoder_inputs = keras.Input(shape=(None, ))      \n",
        "      decoder_embedding_output = tf.keras.layers.Embedding(input_dim = self.num_decoder_tokens, output_dim = self.decoder_embed_size, name = \"decoder_embedding_layer\")(decoder_inputs)\n",
        "      \n",
        "      decoder = keras.layers.GRU(self.hidden_layer_size, return_state=True,return_sequences=True, dropout=self.dropout,use_bias=True, name = \"decoder_layer_0\")\n",
        "      decoder_outputs, _ = decoder(decoder_embedding_output, initial_state = encoder_states)\n",
        "      for i in range(1,self.num_decoder_layers):\n",
        "        decoder = keras.layers.GRU(self.hidden_layer_size, return_state=True,return_sequences=True,dropout=self.dropout,use_bias=True, name = (\"decoder_layer_\"+ str(i) ))\n",
        "        decoder_outputs, _ = decoder(decoder_outputs, initial_state = encoder_states)\n",
        "\n",
        "\n",
        "    decoder_dense = keras.layers.Dense(self.num_decoder_tokens, activation = self.activation,use_bias=True, name = \"dense\")\n",
        "    decoder_outputs = decoder_dense(decoder_outputs)\n",
        "    model = keras.Model([encoder_inputs, decoder_inputs], decoder_outputs)\n",
        "    \n",
        "    #-----------------compile the model -------------------------------------\n",
        "    model.compile(\n",
        "         optimizer=self.optimizer,\n",
        "         loss=\"categorical_crossentropy\",\n",
        "         metrics=[\"accuracy\"]\n",
        "         ) \n",
        "\n",
        "#-------------------------- return final model ---------------------------------------------------------\n",
        "    return model\n",
        "\n",
        "#########################################function for training the model ###########################################\n",
        "\n",
        "  def train_model(self,encoder_input_data,decoder_input_data,decoder_target_data,epochs,batch_size,\n",
        "                  val_encoder_input_data, val_decoder_input_data, val_decoder_target_data):\n",
        "    \n",
        "     model=self.build_model()\n",
        "  \n",
        "     model.fit(\n",
        "        [encoder_input_data, decoder_input_data],\n",
        "        decoder_target_data,\n",
        "        batch_size = batch_size,\n",
        "        epochs = epochs,\n",
        "        validation_data = ([val_encoder_input_data, val_decoder_input_data],val_decoder_target_data),\n",
        "        callbacks=[EarlyStopping(patience = 5)]\n",
        "        )\n",
        "     return model\n",
        "\n",
        "#########################################function for inference on the model ###########################################\n",
        "\n",
        "  def sampling_inference(self, model, num_encoder_layers, num_decoder_layers):\n",
        "     \n",
        "     # Initialsiations\n",
        "     encoder_model = None\n",
        "     decoder_model = None\n",
        "\n",
        "     \n",
        "\n",
        "     #--------------------------------------if cell type = LSTM ----------------------------------------------------------\n",
        "     if self.cell_type ==\"lstm\":\n",
        "        #-----------------------------------encoder layers-------------------------------------\n",
        "\n",
        "        #constants\n",
        "        e_inputs = model.input[0]  # input_1\n",
        "        e_embed_layer = model.get_layer(\"encoder_embedding_layer\")\n",
        "        encoder_inputs = e_embed_layer(e_inputs)\n",
        "\n",
        "        #encoder cell layers\n",
        "        encoder_cell = None\n",
        "        for i in range(0, num_encoder_layers-1):\n",
        "          encoder_cell = model.get_layer(\"encoder_layer_\" + str(i))\n",
        "          encoder_inputs, _, _ = encoder_cell(encoder_inputs)\n",
        "        encoder_cell = model.get_layer(\"encoder_layer_\" + str(num_encoder_layers-1))\n",
        "        encoder_outputs, state_h_enc, state_c_enc = encoder_cell(encoder_inputs)\n",
        "        encoder_states = [state_h_enc, state_c_enc]\n",
        "\n",
        "        #encoder model\n",
        "        encoder_model = keras.Model(e_inputs, encoder_states)\n",
        "\n",
        "        #-----------------------------------decoder layers-------------------------------------\n",
        "\n",
        "        #constants\n",
        "        d_inputs = model.input[1] #input_2\n",
        "        d_embed_layer = model.get_layer(\"decoder_embedding_layer\")\n",
        "        decoder_inputs = d_embed_layer(d_inputs)\n",
        "        decoder_state_input_h = keras.Input(shape=(self.hidden_layer_size,), name=\"input_decoder_h\")\n",
        "        decoder_state_input_c = keras.Input(shape=(self.hidden_layer_size,), name=\"input_decoder_c\")\n",
        "        decoder_state_inputs = [decoder_state_input_h, decoder_state_input_c]\n",
        "\n",
        "        #decoder cell layers\n",
        "        decoder_cell = None\n",
        "        for i in range(0, num_decoder_layers-1):\n",
        "          decoder_cell = model.get_layer(\"decoder_layer_\" + str(i))\n",
        "          decoder_inputs, _, _ = decoder_cell(decoder_inputs, initial_state = decoder_state_inputs)\n",
        "        decoder_cell = model.get_layer(\"decoder_layer_\" + str(num_decoder_layers-1))\n",
        "        decoder_inputs, state_h_dec, state_c_dec = decoder_cell(decoder_inputs, initial_state = decoder_state_inputs)\n",
        "        decoder_states = [state_h_dec, state_c_dec]\n",
        "\n",
        "        #dense layer and decoder model     \n",
        "        decoder_dense = model.get_layer(\"dense\")\n",
        "        decoder_outputs = decoder_dense(decoder_inputs)\n",
        "        decoder_model = keras.Model([d_inputs] + decoder_state_inputs, [decoder_outputs] + decoder_states)\n",
        "\n",
        "\n",
        "     #-------------------------------------if cell type =Simple RNN or GRU---------------------------------------------\n",
        "     elif self.cell_type ==\"rnn\" or self.cell_type ==\"gru\":\n",
        "\n",
        "        #-----------------------------------encoder layers-------------------------------------\n",
        "        #constants\n",
        "        e_inputs = model.input[0]  # input_1\n",
        "        e_embed_layer = model.get_layer(\"encoder_embedding_layer\")\n",
        "        encoder_inputs = e_embed_layer(e_inputs)\n",
        "\n",
        "        #encoder cell layers\n",
        "        encoder_cell = None\n",
        "        for i in range(0, num_encoder_layers-1):\n",
        "          encoder_cell = model.get_layer(\"encoder_layer_\" + str(i))\n",
        "          encoder_inputs, _ = encoder_cell(encoder_inputs)\n",
        "        encoder_cell = model.get_layer(\"encoder_layer_\" + str(num_encoder_layers-1))\n",
        "        encoder_outputs, state_h_enc = encoder_cell(encoder_inputs)\n",
        "        encoder_states = [state_h_enc]\n",
        "\n",
        "        #encoder model\n",
        "        encoder_model = keras.Model(e_inputs, encoder_states)\n",
        "\n",
        "        #-----------------------------------decoder layers-------------------------------------\n",
        "\n",
        "        #constants\n",
        "        d_inputs = model.input[1] #input_2\n",
        "        d_embed_layer = model.get_layer(\"decoder_embedding_layer\")\n",
        "        decoder_inputs = d_embed_layer(d_inputs)\n",
        "        decoder_state_input_h = keras.Input(shape=(self.hidden_layer_size,), name=\"input_decoder_h\")\n",
        "        decoder_state_inputs = [decoder_state_input_h]\n",
        "\n",
        "        #decoder cell layers\n",
        "        decoder_cell = None\n",
        "        for i in range(0, num_decoder_layers-1):\n",
        "          decoder_cell = model.get_layer(\"decoder_layer_\"+str(i))\n",
        "          decoder_inputs, _ = decoder_cell(decoder_inputs, initial_state = decoder_state_inputs)\n",
        "        decoder_cell = model.get_layer(\"decoder_layer_\" + str(num_decoder_layers-1))\n",
        "        decoder_inputs, state_h_dec = decoder_cell(decoder_inputs, initial_state = decoder_state_inputs)\n",
        "        decoder_states = [state_h_dec]\n",
        "\n",
        "        #dense layer and decoder model        \n",
        "        decoder_dense = model.get_layer(\"dense\")\n",
        "        decoder_outputs = decoder_dense(decoder_inputs)\n",
        "        decoder_model = keras.Model([d_inputs] + decoder_state_inputs, [decoder_outputs] + decoder_states)\n",
        "\n",
        "     reverse_input_char_index = dict((i, char) for char, i in self.input_token_index.items())\n",
        "     reverse_target_char_index = dict((i, char) for char, i in self.target_token_index.items())\n",
        "     return (reverse_input_char_index,reverse_target_char_index, encoder_model, decoder_model)\n",
        "\n",
        "\n",
        "\n",
        "##################################################function for decoding input sequence ###########################################\n",
        "\n",
        "  def decode_sequence(self, input_data, encoder_model, decoder_model, max_decoder_seq_length, target_token_index):\n",
        "\n",
        "    num_examples = input_data.shape[0]\n",
        "    max_encoder_seq_length = input_data.shape[0]\n",
        "\n",
        "    # raw form of predictions to be returned\n",
        "    predicted_output = np.full((num_examples, max_decoder_seq_length), target_token_index[\" \"])\n",
        "\n",
        "    # ------ -----------if cell type=LSTM ---------------------------------\n",
        "    if self.cell_type ==\"lstm\":\n",
        "      states_value = encoder_model.predict(input_data[:num_examples,:])\n",
        "      target_seq = np.zeros((num_examples, 1),dtype=\"int32\")\n",
        "      target_seq[:, 0] = self.target_token_index[\"\\t\"]  \n",
        "\n",
        "    # ------ -----------if cell type= Simple RNN or GRU --------------------\n",
        "    elif self.cell_type == \"rnn\" or self.cell_type ==\"gru\":\n",
        "      states_value = (encoder_model.predict(input_data[:num_examples,:]))\n",
        "      target_seq = np.zeros((num_examples, 1),dtype=\"int32\")\n",
        "      target_seq[:, 0] = self.target_token_index[\"\\t\"]  \n",
        "\n",
        "    for i in range(max_decoder_seq_length):\n",
        "      # ------------------if cell type=LSTM ---------------------------------\n",
        "      if self.cell_type ==\"lstm\":\n",
        "        output_tokens, h, c = decoder_model.predict([target_seq] + states_value)\n",
        "        states_value = [h, c]\n",
        "      # ------------------if cell type= Simple RNN or GRU --------------------\n",
        "      elif self.cell_type ==\"rnn\" or self.cell_type ==\"gru\":\n",
        "        output_tokens, h = decoder_model.predict([target_seq] + [states_value])\n",
        "        states_value = [h] \n",
        "\n",
        "      for j in range(num_examples):\n",
        "        target_seq[j,0] = np.argmax(output_tokens[j, -1, :])\n",
        "        if target_seq[j,0] == target_token_index[\"\\n\"]:\n",
        "          predicted_output[j,i] = target_token_index[\" \"]\n",
        "        else:\n",
        "          predicted_output[j,i] = target_seq[j,0]\n",
        "\n",
        "  #--------------------------- return predictions ------------------------------\n",
        "    return predicted_output\n",
        "  \n",
        "  ##################################################function for calculating accuracy ###########################################\n",
        "\n",
        "  def calculate_accuracy(self, output_corpus, input_data, reverse_target_char_index, encoder_model, decoder_model):\n",
        "    \n",
        "    limit = input_data.shape[0]   \n",
        "\n",
        "    ########################### creating vectorised form of true output ###############################\n",
        "    true_output = np.full((limit, self.max_decoder_seq_length), self.target_token_index[\" \"])\n",
        "    for row in range(limit):\n",
        "      example = output_corpus[row].replace(\"\\n\",\"\").replace(\"\\t\",\"\")\n",
        "      for col in range(len(example)):\n",
        "        true_output[row][col] = self.target_token_index[example[col]]\n",
        "    \n",
        "    ########################### creating vectorised form of predicted output ###############################\n",
        "    predicted_output = self.decode_sequence(input_data, encoder_model, decoder_model, self.max_decoder_seq_length, target_token_index)\n",
        "\n",
        "    ########################### calculating accuracy ###############################\n",
        "    A = true_output\n",
        "    B = predicted_output \n",
        "    accuracy = (np.count_nonzero((A == B).all(1))/A.shape[0])    \n",
        "\n",
        "    return (accuracy, predicted_output)\n",
        "\n",
        "#===================================== end of class Machine_Transliterator ==========================================\n",
        "\n"
      ],
      "execution_count": null,
      "outputs": []
    },
    {
      "cell_type": "markdown",
      "metadata": {
        "id": "JH8MZK3IPERe"
      },
      "source": [
        "**PREPROCESSING THE DATA**"
      ]
    },
    {
      "cell_type": "code",
      "metadata": {
        "id": "eYj3x6F4SNTm"
      },
      "source": [
        "############################# preprocessing the data ################################\n",
        "\n",
        "(encoder_input_data,decoder_input_data,decoder_target_data, _, _)=data(train_data_path,input_token_index,target_token_index)\n",
        "(val_encoder_input_data,val_decoder_input_data,val_decoder_target_data, val_target_texts, val_input_texts)=data(validation_data_path ,input_token_index,target_token_index)"
      ],
      "execution_count": null,
      "outputs": []
    },
    {
      "cell_type": "code",
      "metadata": {
        "id": "CGu0vosaNV4N"
      },
      "source": [
        "(t_encoder_input_data,t_decoder_input_data,t_decoder_target_data, t_target_texts, t_input_texts)=data(test_data_path ,input_token_index,target_token_index)"
      ],
      "execution_count": null,
      "outputs": []
    },
    {
      "cell_type": "markdown",
      "metadata": {
        "id": "8p26zuUhdj-e"
      },
      "source": [
        "**PARAMETERS**"
      ]
    },
    {
      "cell_type": "code",
      "metadata": {
        "id": "8vw1sfMmdg45"
      },
      "source": [
        "cell_type = \"lstm\"\n",
        "batch_size = 64  # Batch size for training.\n",
        "epochs = 30  # Number of epochs to train for.\n",
        "hidden_layer_size = 128  # Latent dimensionality of the encoding space.\n",
        "activation = \"softmax\"\n",
        "optimizer = \"Adam\"\n",
        "encoder_embed_size = 64 #Encoder embedsize\n",
        "decoder_embed_size = 64 #Decoder embedsize\n",
        "num_encoder_layers = 3  # number of hidden layers in encoder\n",
        "num_decoder_layers = 1    # number of hidden layers in decoder\n",
        "dropout = 0.1 #Dropout"
      ],
      "execution_count": null,
      "outputs": []
    },
    {
      "cell_type": "markdown",
      "metadata": {
        "id": "m0ksIw3vH3XJ"
      },
      "source": [
        "**CREATING THE MODEL**"
      ]
    },
    {
      "cell_type": "code",
      "metadata": {
        "id": "_F7lOm3MzREt"
      },
      "source": [
        "########################### creating machine transliterator object ###############################\n",
        "\n",
        "machine = Machine_Transliterator(\n",
        "      max_encoder_seq_length,max_decoder_seq_length,encoder_embed_size, \n",
        "      decoder_embed_size,num_encoder_layers,num_decoder_layers,\n",
        "      batch_size, hidden_layer_size, num_encoder_tokens, cell_type, num_decoder_tokens, \n",
        "      input_token_index,target_token_index, activation, optimizer,dropout\n",
        "      )"
      ],
      "execution_count": null,
      "outputs": []
    },
    {
      "cell_type": "markdown",
      "metadata": {
        "id": "IFA6z-vAjLPE"
      },
      "source": [
        "**TRAINING THE MODEL**"
      ]
    },
    {
      "cell_type": "code",
      "metadata": {
        "id": "qHv1nsNfd6DQ",
        "colab": {
          "base_uri": "https://localhost:8080/"
        },
        "outputId": "756dd8ab-0858-4a07-a79d-b954513c38d7"
      },
      "source": [
        "################################# Training the Model ############################################\n",
        "\n",
        "model = machine.train_model(\n",
        "      encoder_input_data, decoder_input_data,decoder_target_data,epochs,batch_size,\n",
        "      val_encoder_input_data, val_decoder_input_data, val_decoder_target_data\n",
        "      )"
      ],
      "execution_count": null,
      "outputs": [
        {
          "output_type": "stream",
          "text": [
            "Epoch 1/30\n",
            "691/691 [==============================] - 49s 41ms/step - loss: 1.3854 - accuracy: 0.6897 - val_loss: 0.9270 - val_accuracy: 0.7514\n",
            "Epoch 2/30\n",
            "691/691 [==============================] - 26s 38ms/step - loss: 0.9509 - accuracy: 0.7421 - val_loss: 0.8956 - val_accuracy: 0.7559\n",
            "Epoch 3/30\n",
            "691/691 [==============================] - 26s 38ms/step - loss: 0.9167 - accuracy: 0.7485 - val_loss: 0.8520 - val_accuracy: 0.7658\n",
            "Epoch 4/30\n",
            "691/691 [==============================] - 26s 38ms/step - loss: 0.8384 - accuracy: 0.7660 - val_loss: 0.7472 - val_accuracy: 0.7863\n",
            "Epoch 5/30\n",
            "691/691 [==============================] - 26s 38ms/step - loss: 0.7403 - accuracy: 0.7876 - val_loss: 0.6278 - val_accuracy: 0.8170\n",
            "Epoch 6/30\n",
            "691/691 [==============================] - 26s 38ms/step - loss: 0.6094 - accuracy: 0.8213 - val_loss: 0.4795 - val_accuracy: 0.8578\n",
            "Epoch 7/30\n",
            "691/691 [==============================] - 26s 38ms/step - loss: 0.4694 - accuracy: 0.8594 - val_loss: 0.3703 - val_accuracy: 0.8888\n",
            "Epoch 8/30\n",
            "691/691 [==============================] - 26s 38ms/step - loss: 0.3726 - accuracy: 0.8867 - val_loss: 0.3092 - val_accuracy: 0.9068\n",
            "Epoch 9/30\n",
            "691/691 [==============================] - 26s 38ms/step - loss: 0.3082 - accuracy: 0.9055 - val_loss: 0.2661 - val_accuracy: 0.9193\n",
            "Epoch 10/30\n",
            "691/691 [==============================] - 26s 38ms/step - loss: 0.2638 - accuracy: 0.9184 - val_loss: 0.2371 - val_accuracy: 0.9266\n",
            "Epoch 11/30\n",
            "691/691 [==============================] - 26s 38ms/step - loss: 0.2312 - accuracy: 0.9280 - val_loss: 0.2146 - val_accuracy: 0.9333\n",
            "Epoch 12/30\n",
            "691/691 [==============================] - 26s 38ms/step - loss: 0.2036 - accuracy: 0.9364 - val_loss: 0.2042 - val_accuracy: 0.9360\n",
            "Epoch 13/30\n",
            "691/691 [==============================] - 26s 38ms/step - loss: 0.1879 - accuracy: 0.9409 - val_loss: 0.1960 - val_accuracy: 0.9391\n",
            "Epoch 14/30\n",
            "691/691 [==============================] - 26s 38ms/step - loss: 0.1736 - accuracy: 0.9455 - val_loss: 0.1856 - val_accuracy: 0.9421\n",
            "Epoch 15/30\n",
            "691/691 [==============================] - 26s 38ms/step - loss: 0.1586 - accuracy: 0.9501 - val_loss: 0.1827 - val_accuracy: 0.9428\n",
            "Epoch 16/30\n",
            "691/691 [==============================] - 26s 38ms/step - loss: 0.1493 - accuracy: 0.9528 - val_loss: 0.1757 - val_accuracy: 0.9448\n",
            "Epoch 17/30\n",
            "691/691 [==============================] - 26s 38ms/step - loss: 0.1396 - accuracy: 0.9559 - val_loss: 0.1750 - val_accuracy: 0.9454\n",
            "Epoch 18/30\n",
            "691/691 [==============================] - 26s 38ms/step - loss: 0.1331 - accuracy: 0.9584 - val_loss: 0.1759 - val_accuracy: 0.9453\n",
            "Epoch 19/30\n",
            "691/691 [==============================] - 26s 38ms/step - loss: 0.1246 - accuracy: 0.9606 - val_loss: 0.1711 - val_accuracy: 0.9461\n",
            "Epoch 20/30\n",
            "691/691 [==============================] - 26s 38ms/step - loss: 0.1178 - accuracy: 0.9623 - val_loss: 0.1707 - val_accuracy: 0.9462\n",
            "Epoch 21/30\n",
            "691/691 [==============================] - 26s 38ms/step - loss: 0.1111 - accuracy: 0.9646 - val_loss: 0.1725 - val_accuracy: 0.9468\n",
            "Epoch 22/30\n",
            "691/691 [==============================] - 26s 38ms/step - loss: 0.1072 - accuracy: 0.9658 - val_loss: 0.1702 - val_accuracy: 0.9481\n",
            "Epoch 23/30\n",
            "691/691 [==============================] - 26s 38ms/step - loss: 0.1012 - accuracy: 0.9673 - val_loss: 0.1696 - val_accuracy: 0.9481\n",
            "Epoch 24/30\n",
            "691/691 [==============================] - 26s 38ms/step - loss: 0.0976 - accuracy: 0.9686 - val_loss: 0.1739 - val_accuracy: 0.9464\n",
            "Epoch 25/30\n",
            "691/691 [==============================] - 26s 38ms/step - loss: 0.0931 - accuracy: 0.9702 - val_loss: 0.1733 - val_accuracy: 0.9478\n",
            "Epoch 26/30\n",
            "691/691 [==============================] - 26s 38ms/step - loss: 0.0892 - accuracy: 0.9711 - val_loss: 0.1736 - val_accuracy: 0.9480\n",
            "Epoch 27/30\n",
            "691/691 [==============================] - 26s 38ms/step - loss: 0.0863 - accuracy: 0.9725 - val_loss: 0.1740 - val_accuracy: 0.9477\n",
            "Epoch 28/30\n",
            "691/691 [==============================] - 26s 38ms/step - loss: 0.0827 - accuracy: 0.9734 - val_loss: 0.1766 - val_accuracy: 0.9472\n"
          ],
          "name": "stdout"
        }
      ]
    },
    {
      "cell_type": "markdown",
      "metadata": {
        "id": "7PWoSRV8RrMr"
      },
      "source": [
        "**BUILDING INFERENCE MODELS AND CALCUALTING ACCURACIES**"
      ]
    },
    {
      "cell_type": "code",
      "metadata": {
        "id": "gYUULis2eAo1"
      },
      "source": [
        "################################# Building Inference Models #####################################\n",
        "\n",
        "(reverse_input_char_index,reverse_target_char_index, encoder_model, decoder_model) = machine.sampling_inference(model, num_encoder_layers, num_decoder_layers)"
      ],
      "execution_count": null,
      "outputs": []
    },
    {
      "cell_type": "code",
      "metadata": {
        "colab": {
          "base_uri": "https://localhost:8080/"
        },
        "id": "dDB5L6TDeDRv",
        "outputId": "49d03a92-be9e-40cf-f6eb-59ff3ce1fc96"
      },
      "source": [
        "################################# Validation Accuracy ###########################################\n",
        "\n",
        "val_acc, _ = machine.calculate_accuracy(val_target_texts, val_encoder_input_data, reverse_target_char_index, encoder_model, decoder_model)\n",
        "print(val_acc)"
      ],
      "execution_count": null,
      "outputs": [
        {
          "output_type": "stream",
          "text": [
            "0.3343276732446076\n"
          ],
          "name": "stdout"
        }
      ]
    },
    {
      "cell_type": "code",
      "metadata": {
        "colab": {
          "base_uri": "https://localhost:8080/"
        },
        "id": "GGoIxI1seH5S",
        "outputId": "3b76e3d8-5f0a-46d2-a8b0-a315246ef516"
      },
      "source": [
        "################################# Testing Accuracy #############################################\n",
        "\n",
        "test_acc, predicted_output = machine.calculate_accuracy(t_target_texts, t_encoder_input_data, reverse_target_char_index, encoder_model, decoder_model)\n",
        "print(test_acc)"
      ],
      "execution_count": null,
      "outputs": [
        {
          "output_type": "stream",
          "text": [
            "0.34251443802754333\n"
          ],
          "name": "stdout"
        }
      ]
    },
    {
      "cell_type": "markdown",
      "metadata": {
        "id": "u-pt_I9IR5ri"
      },
      "source": [
        "**REPRESENTING RESULTS ON TEST DATA**"
      ]
    },
    {
      "cell_type": "code",
      "metadata": {
        "colab": {
          "base_uri": "https://localhost:8080/"
        },
        "id": "Oe36rxUYPVzV",
        "outputId": "1f2b4d62-4e99-4f4d-89ca-631ddaacb38b"
      },
      "source": [
        "#--------------------------------caution: terminal commands ---------------------------------------------\n",
        "%cd\n",
        "%cd ../content\n",
        "!rm predictions.*\n",
        "!rm Nirmala.ttf\n",
        "!rm nirmala.png             \n",
        "!rm sharefonts.net.txt "
      ],
      "execution_count": null,
      "outputs": [
        {
          "output_type": "stream",
          "text": [
            "/root\n",
            "/content\n"
          ],
          "name": "stdout"
        }
      ]
    },
    {
      "cell_type": "code",
      "metadata": {
        "colab": {
          "base_uri": "https://localhost:8080/"
        },
        "id": "iou8GKhgCHzl",
        "outputId": "7906b21a-dd5c-44f8-80cb-390a660c25aa"
      },
      "source": [
        "################################### Downloading hindi font ###########################################\n",
        "\n",
        "#--------------------------------caution: terminal commands ------------------------------------------\n",
        "!wget https://www.wfonts.com/download/data/2016/04/29/nirmala-ui/nirmala-ui.zip\n",
        "!unzip nirmala-ui.zip"
      ],
      "execution_count": null,
      "outputs": [
        {
          "output_type": "stream",
          "text": [
            "--2021-05-20 10:33:37--  https://www.wfonts.com/download/data/2016/04/29/nirmala-ui/nirmala-ui.zip\n",
            "Resolving www.wfonts.com (www.wfonts.com)... 104.225.219.210\n",
            "Connecting to www.wfonts.com (www.wfonts.com)|104.225.219.210|:443... connected.\n",
            "HTTP request sent, awaiting response... 200 OK\n",
            "Length: 686493 (670K) [application/octetstream]\n",
            "Saving to: ‘nirmala-ui.zip.5’\n",
            "\n",
            "nirmala-ui.zip.5    100%[===================>] 670.40K  1.40MB/s    in 0.5s    \n",
            "\n",
            "2021-05-20 10:33:38 (1.40 MB/s) - ‘nirmala-ui.zip.5’ saved [686493/686493]\n",
            "\n",
            "Archive:  nirmala-ui.zip\n",
            "  inflating: nirmala.png             \n",
            "  inflating: Nirmala.ttf             \n",
            "  inflating: sharefonts.net.txt      \n"
          ],
          "name": "stdout"
        }
      ]
    },
    {
      "cell_type": "markdown",
      "metadata": {
        "id": "2IvOyAQSRQvb"
      },
      "source": [
        "**PREPARING CSV FILE**"
      ]
    },
    {
      "cell_type": "code",
      "metadata": {
        "id": "8o4XLzcf3PNL"
      },
      "source": [
        "#---------------------------------Creating predictions for predictions_vanilla ---------------------------------------------\n",
        "\n",
        "num_rows = predicted_output.shape[0]\n",
        "num_columns = predicted_output.shape[1]\n",
        "\n",
        "#-------------------------------- Creating CSV file ---------------------------------------------\n",
        "inp_file = open(\"predictions.csv\", \"w\")\n",
        "col_names = \"Input_text,True_output,Predicted_output,Matched,Accuracy_till_now\"+\"\\n\"\n",
        "inp_file.write(col_names)\n",
        "\n",
        "count = 0\n",
        "accuracy_till_now = 0\n",
        "matched = False\n",
        "\n",
        "predictions = []\n",
        "\n",
        "for i in range(num_rows):\n",
        "  decoded_sentence = \"\"\n",
        "  for j in range(num_columns):\n",
        "    decoded_sentence += reverse_target_char_index[predicted_output[i,j]]\n",
        "  decoded_sentence = \"\".join(decoded_sentence.split())\n",
        "  predictions.append(decoded_sentence)\n",
        "  if decoded_sentence == t_target_texts[i].replace(\"\\t\",\"\").replace(\"\\n\",\"\"):\n",
        "    matched = True\n",
        "    count += 1\n",
        "  else:\n",
        "    matched = False\n",
        "  accuracy_till_now = (count/(i+1))\n",
        "  line = str(t_input_texts[i].replace(\"\\t\",\"\").replace(\"\\n\",\"\")) + \",\" + str(t_target_texts[i].replace(\"\\t\",\"\").replace(\"\\n\",\"\")) + \",\" + str(decoded_sentence) + \",\"+ str(matched) +\",\"+ str(accuracy_till_now)+\"\\n\"\n",
        "  inp_file.write(line)\n",
        "\n",
        "#-------------------------------- Closing CSV file ---------------------------------------------\n",
        "inp_file.close()"
      ],
      "execution_count": null,
      "outputs": []
    },
    {
      "cell_type": "markdown",
      "metadata": {
        "id": "gLCTU-9eRWMr"
      },
      "source": [
        "**PREPARING HEATMAP**"
      ]
    },
    {
      "cell_type": "code",
      "metadata": {
        "colab": {
          "base_uri": "https://localhost:8080/",
          "height": 866
        },
        "id": "ei5Hof7UgZrm",
        "outputId": "9386d55c-9814-4fbd-ddd1-0089017738a7"
      },
      "source": [
        "#-------------------------------- Preparing result matrix and labels for heatmap ---------------------------------------------\n",
        "grid_size = 6\n",
        "results = []\n",
        "for p,t in zip(predictions[:grid_size*grid_size], t_target_texts[:grid_size*grid_size]):\n",
        "  if p == t.replace(\"\\t\",\"\").replace(\"\\n\",\"\"):\n",
        "    results.append(1)\n",
        "  else:\n",
        "    results.append(0)\n",
        "results =  np.asarray(results).reshape(grid_size, grid_size)\n",
        "\n",
        "labels = []\n",
        "for p,t,i in zip(predictions[:grid_size*grid_size], t_target_texts[:grid_size*grid_size], t_input_texts[:grid_size*grid_size]):\n",
        "  line = str(i.replace(\"\\t\",\"\").replace(\"\\n\",\"\")) + \"\\n\" + t.replace(\"\\t\",\"\").replace(\"\\n\",\"\") +\"\\n\\n\" +\" prediction :\\n\" + p\n",
        "  labels.append(line)\n",
        "labels =  np.asarray(labels).reshape(grid_size, grid_size)\n",
        "\n",
        "#-------------------------------- Displaying heatmap ---------------------------------------------\n",
        "fig, ax = plt.subplots(figsize=(15,15))\n",
        "hindi_font = FontProperties(fname = 'Nirmala.ttf')\n",
        "sns.heatmap(results, annot=labels, fmt=\"\", cmap='Blues', ax=ax, annot_kws={'fontproperties':hindi_font, 'fontsize':15}, linecolor = 'g', linewidth=1)\n",
        "plt.show()"
      ],
      "execution_count": null,
      "outputs": [
        {
          "output_type": "display_data",
          "data": {
            "image/png": "[encoded data removed]",
            "text/plain": [
              "<Figure size 1080x1080 with 2 Axes>"
            ]
          },
          "metadata": {
            "tags": [],
            "needs_background": "light"
          }
        }
      ]
    }
  ]
}