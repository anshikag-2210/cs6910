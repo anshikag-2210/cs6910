{
  "nbformat": 4,
  "nbformat_minor": 0,
  "metadata": {
    "colab": {
      "name": "Problem_10.ipynb",
      "provenance": [],
      "collapsed_sections": []
    },
    "kernelspec": {
      "name": "python3",
      "display_name": "Python 3"
    },
    "widgets": {
      "application/vnd.jupyter.widget-state+json": {
        "96f098995ddb4791a35af33c6c811b64": {
          "model_module": "@jupyter-widgets/controls",
          "model_name": "VBoxModel",
          "state": {
            "_view_name": "VBoxView",
            "_dom_classes": [],
            "_model_name": "VBoxModel",
            "_view_module": "@jupyter-widgets/controls",
            "_model_module_version": "1.5.0",
            "_view_count": null,
            "_view_module_version": "1.5.0",
            "box_style": "",
            "layout": "IPY_MODEL_1b53d60588304f7a940df72bcd70cf9d",
            "_model_module": "@jupyter-widgets/controls",
            "children": [
              "IPY_MODEL_a497a3d9262a4d41aff3ac44d8da766c",
              "IPY_MODEL_171c1119808b4f15b1c10484329f192a"
            ]
          }
        },
        "1b53d60588304f7a940df72bcd70cf9d": {
          "model_module": "@jupyter-widgets/base",
          "model_name": "LayoutModel",
          "state": {
            "_view_name": "LayoutView",
            "grid_template_rows": null,
            "right": null,
            "justify_content": null,
            "_view_module": "@jupyter-widgets/base",
            "overflow": null,
            "_model_module_version": "1.2.0",
            "_view_count": null,
            "flex_flow": null,
            "width": null,
            "min_width": null,
            "border": null,
            "align_items": null,
            "bottom": null,
            "_model_module": "@jupyter-widgets/base",
            "top": null,
            "grid_column": null,
            "overflow_y": null,
            "overflow_x": null,
            "grid_auto_flow": null,
            "grid_area": null,
            "grid_template_columns": null,
            "flex": null,
            "_model_name": "LayoutModel",
            "justify_items": null,
            "grid_row": null,
            "max_height": null,
            "align_content": null,
            "visibility": null,
            "align_self": null,
            "height": null,
            "min_height": null,
            "padding": null,
            "grid_auto_rows": null,
            "grid_gap": null,
            "max_width": null,
            "order": null,
            "_view_module_version": "1.2.0",
            "grid_template_areas": null,
            "object_position": null,
            "object_fit": null,
            "grid_auto_columns": null,
            "margin": null,
            "display": null,
            "left": null
          }
        },
        "a497a3d9262a4d41aff3ac44d8da766c": {
          "model_module": "@jupyter-widgets/controls",
          "model_name": "LabelModel",
          "state": {
            "_view_name": "LabelView",
            "style": "IPY_MODEL_92c52794c139436687f987bcfd688b68",
            "_dom_classes": [],
            "description": "",
            "_model_name": "LabelModel",
            "placeholder": "​",
            "_view_module": "@jupyter-widgets/controls",
            "_model_module_version": "1.5.0",
            "value": " 0.01MB of 0.01MB uploaded (0.00MB deduped)\r",
            "_view_count": null,
            "_view_module_version": "1.5.0",
            "description_tooltip": null,
            "_model_module": "@jupyter-widgets/controls",
            "layout": "IPY_MODEL_41a7fec58a894af8b3b5233620d9ffdc"
          }
        },
        "171c1119808b4f15b1c10484329f192a": {
          "model_module": "@jupyter-widgets/controls",
          "model_name": "FloatProgressModel",
          "state": {
            "_view_name": "ProgressView",
            "style": "IPY_MODEL_25a0c44ecc1240ad9e2e6b1e6db71747",
            "_dom_classes": [],
            "description": "",
            "_model_name": "FloatProgressModel",
            "bar_style": "",
            "max": 1,
            "_view_module": "@jupyter-widgets/controls",
            "_model_module_version": "1.5.0",
            "value": 1,
            "_view_count": null,
            "_view_module_version": "1.5.0",
            "orientation": "horizontal",
            "min": 0,
            "description_tooltip": null,
            "_model_module": "@jupyter-widgets/controls",
            "layout": "IPY_MODEL_7117fc9274714939ab829d653229706f"
          }
        },
        "92c52794c139436687f987bcfd688b68": {
          "model_module": "@jupyter-widgets/controls",
          "model_name": "DescriptionStyleModel",
          "state": {
            "_view_name": "StyleView",
            "_model_name": "DescriptionStyleModel",
            "description_width": "",
            "_view_module": "@jupyter-widgets/base",
            "_model_module_version": "1.5.0",
            "_view_count": null,
            "_view_module_version": "1.2.0",
            "_model_module": "@jupyter-widgets/controls"
          }
        },
        "41a7fec58a894af8b3b5233620d9ffdc": {
          "model_module": "@jupyter-widgets/base",
          "model_name": "LayoutModel",
          "state": {
            "_view_name": "LayoutView",
            "grid_template_rows": null,
            "right": null,
            "justify_content": null,
            "_view_module": "@jupyter-widgets/base",
            "overflow": null,
            "_model_module_version": "1.2.0",
            "_view_count": null,
            "flex_flow": null,
            "width": null,
            "min_width": null,
            "border": null,
            "align_items": null,
            "bottom": null,
            "_model_module": "@jupyter-widgets/base",
            "top": null,
            "grid_column": null,
            "overflow_y": null,
            "overflow_x": null,
            "grid_auto_flow": null,
            "grid_area": null,
            "grid_template_columns": null,
            "flex": null,
            "_model_name": "LayoutModel",
            "justify_items": null,
            "grid_row": null,
            "max_height": null,
            "align_content": null,
            "visibility": null,
            "align_self": null,
            "height": null,
            "min_height": null,
            "padding": null,
            "grid_auto_rows": null,
            "grid_gap": null,
            "max_width": null,
            "order": null,
            "_view_module_version": "1.2.0",
            "grid_template_areas": null,
            "object_position": null,
            "object_fit": null,
            "grid_auto_columns": null,
            "margin": null,
            "display": null,
            "left": null
          }
        },
        "25a0c44ecc1240ad9e2e6b1e6db71747": {
          "model_module": "@jupyter-widgets/controls",
          "model_name": "ProgressStyleModel",
          "state": {
            "_view_name": "StyleView",
            "_model_name": "ProgressStyleModel",
            "description_width": "",
            "_view_module": "@jupyter-widgets/base",
            "_model_module_version": "1.5.0",
            "_view_count": null,
            "_view_module_version": "1.2.0",
            "bar_color": null,
            "_model_module": "@jupyter-widgets/controls"
          }
        },
        "7117fc9274714939ab829d653229706f": {
          "model_module": "@jupyter-widgets/base",
          "model_name": "LayoutModel",
          "state": {
            "_view_name": "LayoutView",
            "grid_template_rows": null,
            "right": null,
            "justify_content": null,
            "_view_module": "@jupyter-widgets/base",
            "overflow": null,
            "_model_module_version": "1.2.0",
            "_view_count": null,
            "flex_flow": null,
            "width": null,
            "min_width": null,
            "border": null,
            "align_items": null,
            "bottom": null,
            "_model_module": "@jupyter-widgets/base",
            "top": null,
            "grid_column": null,
            "overflow_y": null,
            "overflow_x": null,
            "grid_auto_flow": null,
            "grid_area": null,
            "grid_template_columns": null,
            "flex": null,
            "_model_name": "LayoutModel",
            "justify_items": null,
            "grid_row": null,
            "max_height": null,
            "align_content": null,
            "visibility": null,
            "align_self": null,
            "height": null,
            "min_height": null,
            "padding": null,
            "grid_auto_rows": null,
            "grid_gap": null,
            "max_width": null,
            "order": null,
            "_view_module_version": "1.2.0",
            "grid_template_areas": null,
            "object_position": null,
            "object_fit": null,
            "grid_auto_columns": null,
            "margin": null,
            "display": null,
            "left": null
          }
        },
        "fdf0e1e51586488ba3113ffc6bee9c6e": {
          "model_module": "@jupyter-widgets/controls",
          "model_name": "VBoxModel",
          "state": {
            "_view_name": "VBoxView",
            "_dom_classes": [],
            "_model_name": "VBoxModel",
            "_view_module": "@jupyter-widgets/controls",
            "_model_module_version": "1.5.0",
            "_view_count": null,
            "_view_module_version": "1.5.0",
            "box_style": "",
            "layout": "IPY_MODEL_c756094999dd48ec80ee6b92aaee02d6",
            "_model_module": "@jupyter-widgets/controls",
            "children": [
              "IPY_MODEL_ac24b240fa494f17854cdf2bb9632add",
              "IPY_MODEL_d0bca6f2c6fd437aa2e06647e0ec070f"
            ]
          }
        },
        "c756094999dd48ec80ee6b92aaee02d6": {
          "model_module": "@jupyter-widgets/base",
          "model_name": "LayoutModel",
          "state": {
            "_view_name": "LayoutView",
            "grid_template_rows": null,
            "right": null,
            "justify_content": null,
            "_view_module": "@jupyter-widgets/base",
            "overflow": null,
            "_model_module_version": "1.2.0",
            "_view_count": null,
            "flex_flow": null,
            "width": null,
            "min_width": null,
            "border": null,
            "align_items": null,
            "bottom": null,
            "_model_module": "@jupyter-widgets/base",
            "top": null,
            "grid_column": null,
            "overflow_y": null,
            "overflow_x": null,
            "grid_auto_flow": null,
            "grid_area": null,
            "grid_template_columns": null,
            "flex": null,
            "_model_name": "LayoutModel",
            "justify_items": null,
            "grid_row": null,
            "max_height": null,
            "align_content": null,
            "visibility": null,
            "align_self": null,
            "height": null,
            "min_height": null,
            "padding": null,
            "grid_auto_rows": null,
            "grid_gap": null,
            "max_width": null,
            "order": null,
            "_view_module_version": "1.2.0",
            "grid_template_areas": null,
            "object_position": null,
            "object_fit": null,
            "grid_auto_columns": null,
            "margin": null,
            "display": null,
            "left": null
          }
        },
        "ac24b240fa494f17854cdf2bb9632add": {
          "model_module": "@jupyter-widgets/controls",
          "model_name": "LabelModel",
          "state": {
            "_view_name": "LabelView",
            "style": "IPY_MODEL_91d53fc54b2648bfb010ac1681beff28",
            "_dom_classes": [],
            "description": "",
            "_model_name": "LabelModel",
            "placeholder": "​",
            "_view_module": "@jupyter-widgets/controls",
            "_model_module_version": "1.5.0",
            "value": " 0.01MB of 0.01MB uploaded (0.00MB deduped)\r",
            "_view_count": null,
            "_view_module_version": "1.5.0",
            "description_tooltip": null,
            "_model_module": "@jupyter-widgets/controls",
            "layout": "IPY_MODEL_060f78c20ffa47ec893cc185003bac15"
          }
        },
        "d0bca6f2c6fd437aa2e06647e0ec070f": {
          "model_module": "@jupyter-widgets/controls",
          "model_name": "FloatProgressModel",
          "state": {
            "_view_name": "ProgressView",
            "style": "IPY_MODEL_0bdf6ce0ef3b46f08eee4eb8b98b940a",
            "_dom_classes": [],
            "description": "",
            "_model_name": "FloatProgressModel",
            "bar_style": "",
            "max": 1,
            "_view_module": "@jupyter-widgets/controls",
            "_model_module_version": "1.5.0",
            "value": 1,
            "_view_count": null,
            "_view_module_version": "1.5.0",
            "orientation": "horizontal",
            "min": 0,
            "description_tooltip": null,
            "_model_module": "@jupyter-widgets/controls",
            "layout": "IPY_MODEL_fa3cac07feee4f3186f2903922cbdd97"
          }
        },
        "91d53fc54b2648bfb010ac1681beff28": {
          "model_module": "@jupyter-widgets/controls",
          "model_name": "DescriptionStyleModel",
          "state": {
            "_view_name": "StyleView",
            "_model_name": "DescriptionStyleModel",
            "description_width": "",
            "_view_module": "@jupyter-widgets/base",
            "_model_module_version": "1.5.0",
            "_view_count": null,
            "_view_module_version": "1.2.0",
            "_model_module": "@jupyter-widgets/controls"
          }
        },
        "060f78c20ffa47ec893cc185003bac15": {
          "model_module": "@jupyter-widgets/base",
          "model_name": "LayoutModel",
          "state": {
            "_view_name": "LayoutView",
            "grid_template_rows": null,
            "right": null,
            "justify_content": null,
            "_view_module": "@jupyter-widgets/base",
            "overflow": null,
            "_model_module_version": "1.2.0",
            "_view_count": null,
            "flex_flow": null,
            "width": null,
            "min_width": null,
            "border": null,
            "align_items": null,
            "bottom": null,
            "_model_module": "@jupyter-widgets/base",
            "top": null,
            "grid_column": null,
            "overflow_y": null,
            "overflow_x": null,
            "grid_auto_flow": null,
            "grid_area": null,
            "grid_template_columns": null,
            "flex": null,
            "_model_name": "LayoutModel",
            "justify_items": null,
            "grid_row": null,
            "max_height": null,
            "align_content": null,
            "visibility": null,
            "align_self": null,
            "height": null,
            "min_height": null,
            "padding": null,
            "grid_auto_rows": null,
            "grid_gap": null,
            "max_width": null,
            "order": null,
            "_view_module_version": "1.2.0",
            "grid_template_areas": null,
            "object_position": null,
            "object_fit": null,
            "grid_auto_columns": null,
            "margin": null,
            "display": null,
            "left": null
          }
        },
        "0bdf6ce0ef3b46f08eee4eb8b98b940a": {
          "model_module": "@jupyter-widgets/controls",
          "model_name": "ProgressStyleModel",
          "state": {
            "_view_name": "StyleView",
            "_model_name": "ProgressStyleModel",
            "description_width": "",
            "_view_module": "@jupyter-widgets/base",
            "_model_module_version": "1.5.0",
            "_view_count": null,
            "_view_module_version": "1.2.0",
            "bar_color": null,
            "_model_module": "@jupyter-widgets/controls"
          }
        },
        "fa3cac07feee4f3186f2903922cbdd97": {
          "model_module": "@jupyter-widgets/base",
          "model_name": "LayoutModel",
          "state": {
            "_view_name": "LayoutView",
            "grid_template_rows": null,
            "right": null,
            "justify_content": null,
            "_view_module": "@jupyter-widgets/base",
            "overflow": null,
            "_model_module_version": "1.2.0",
            "_view_count": null,
            "flex_flow": null,
            "width": null,
            "min_width": null,
            "border": null,
            "align_items": null,
            "bottom": null,
            "_model_module": "@jupyter-widgets/base",
            "top": null,
            "grid_column": null,
            "overflow_y": null,
            "overflow_x": null,
            "grid_auto_flow": null,
            "grid_area": null,
            "grid_template_columns": null,
            "flex": null,
            "_model_name": "LayoutModel",
            "justify_items": null,
            "grid_row": null,
            "max_height": null,
            "align_content": null,
            "visibility": null,
            "align_self": null,
            "height": null,
            "min_height": null,
            "padding": null,
            "grid_auto_rows": null,
            "grid_gap": null,
            "max_width": null,
            "order": null,
            "_view_module_version": "1.2.0",
            "grid_template_areas": null,
            "object_position": null,
            "object_fit": null,
            "grid_auto_columns": null,
            "margin": null,
            "display": null,
            "left": null
          }
        }
      }
    }
  },
  "cells": [
    {
      "cell_type": "code",
      "metadata": {
        "id": "5B4OrLTCTinA"
      },
      "source": [
        "from keras.datasets import mnist\n",
        "from matplotlib import pyplot as plt \n",
        "from sklearn.utils import shuffle\n",
        "import numpy as np\n",
        "import statistics\n",
        "import math"
      ],
      "execution_count": 1,
      "outputs": []
    },
    {
      "cell_type": "code",
      "metadata": {
        "id": "f5WHMY0OT3i5"
      },
      "source": [
        "#---------------------------------install abd import wandb -------------------------------------------------\n",
        "%%capture\n",
        "!pip install wandb -qqq\n",
        "import wandb"
      ],
      "execution_count": 2,
      "outputs": []
    },
    {
      "cell_type": "code",
      "metadata": {
        "colab": {
          "base_uri": "https://localhost:8080/"
        },
        "id": "pe99KaJAT3fw",
        "outputId": "b603d1fa-e052-4e63-840f-dc260addf176"
      },
      "source": [
        "#---------------------------------login to wandb -------------------------------\n",
        "!wandb login"
      ],
      "execution_count": 3,
      "outputs": [
        {
          "output_type": "stream",
          "text": [
            "\u001b[34m\u001b[1mwandb\u001b[0m: Currently logged in as: \u001b[33manshikag_2210\u001b[0m (use `wandb login --relogin` to force relogin)\n"
          ],
          "name": "stdout"
        }
      ]
    },
    {
      "cell_type": "code",
      "metadata": {
        "id": "ChZv24keT3ds"
      },
      "source": [
        "#-------------------------------------import file load data as ld to load data from the file -------------------------\n",
        "import load_data as ld\n",
        "\n",
        "#----------------  loading train_data , train_labels , validation_data , validation_labels , test_data , test_labels ---------------\n",
        "(train_data , train_labels , validation_data , validation_labels , test_data , test_labels) = ld.load()"
      ],
      "execution_count": 4,
      "outputs": []
    },
    {
      "cell_type": "code",
      "metadata": {
        "id": "9BGS8mhJT3bc"
      },
      "source": [
        "class FeedForwardNeuralNetwork():\n",
        "\n",
        "###################################################### Constructor ################################################################\n",
        "\n",
        "  def __init__(self, input_dim, output_dim, hidden_dim, hidden_layers, activation = \"sigmoid\", weight_intialisation = \"random\"):\n",
        "    np.random.seed(1234)\n",
        "    self.input_dim = input_dim\n",
        "    self.hidden_dim = hidden_dim\n",
        "    self.output_dim = output_dim\n",
        "    self.hidden_layers = hidden_layers\n",
        "    self.L = hidden_layers\n",
        "    self.activation = activation\n",
        "    self.weight_initialisation = weight_initialisation\n",
        "    self.initialize()\n",
        "\n",
        "\n",
        "##################################### Function for storing dimensions of all the layers ############################################\n",
        "\n",
        "  def size(self):\n",
        "    l_sizes = []\n",
        "    l_sizes.append(self.input_dim)\n",
        "    for m in range(self.hidden_layers):\n",
        "      l_sizes.append(self.hidden_dim)\n",
        "    l_sizes.append(self.output_dim)\n",
        "    return l_sizes\n",
        "\n",
        "\n",
        "######################################## Function for initialization ###########################################3\n",
        "\n",
        "  def initialize(self):\n",
        "    size = self.size()    \n",
        "\n",
        "#-------------------------- random weight-initialization ---------------------------------\n",
        "\n",
        "    if self.weight_initialisation == \"random\":\n",
        "      self.Weights=[np.random.randn(size[i + 1], size[i]) for i in range(len(size) - 1)]   \n",
        "\n",
        "#--------------------------- xavier weight-initialization --------------------------------\n",
        "\n",
        "    if self.weight_initialisation == \"xavier\":\n",
        "      self.Weights=[np.random.randn(size[i + 1], size[i])*np.sqrt(2/(size[i]+size[i+1])) for i in range(len(size) - 1)]\n",
        "\n",
        "#--------------Initialize Biases, Activation, Preactivation, update weights and update biases ndarray  ----------------------\n",
        "\n",
        "    self.Update_Weights=[np.zeros((size[i + 1], size[i])) for i in range(len(size) - 1)]\n",
        "    self.Biases= [np.zeros((size[i + 1], 1)) for i in range(len(size) - 1)]\n",
        "    self.Update_Biases= [np.zeros((size[i + 1], 1)) for i in range(len(size) - 1)]\n",
        "    self.A = [np.zeros((size[i + 1], 1)) for i in range(len(size) - 1)]\n",
        "    self.H = [np.zeros((size[i + 1], 1)) for i in range(len(size) - 1)]\n",
        "  \n",
        " ######################################### Activation Function ####################################################################\n",
        "  \n",
        "  def activation_function(self, x, activation = \"sigmoid\"):\n",
        "    if activation == \"sigmoid\":\n",
        "      return np.where(x >= 0, 1 / (1 + np.exp(-x)),np.exp(x) / (1 + np.exp(x)))\n",
        "\n",
        "    if activation == \"tanh\":\n",
        "      return (np.exp(x) - np.exp(-x)) / (np.exp(x) + np.exp(-x))\n",
        "\n",
        "    if activation == \"relu\":\n",
        "      # return np.where(x>=0,x,0)\n",
        "      return np.where(x>=0,0.12*x,0)\n",
        "\n",
        "\n",
        "    if activation == \"lrelu\":\n",
        "      return np.where(x>0,x,0.2*x)\n",
        "      # temp = np.where(x>0,x,0)\n",
        "      # print(\"temp in relu : \",temp)\n",
        "      # return np.where(x>0,x,0)\n",
        "\n",
        "\n",
        " ######################################### Function for finding derivative of activation  ######################################\n",
        "\n",
        "  def diff_activation_function(self, x, activation = \"sigmoid\"):\n",
        "    if activation == \"sigmoid\":\n",
        "      fx = np.where(x >= 0, 1 / (1 + np.exp(-x)),np.exp(x) / (1 + np.exp(x)))\n",
        "      return fx * (1 - fx)\n",
        "\n",
        "    if activation == \"tanh\":\n",
        "      fx = (np.exp(x) - np.exp(-x)) / (np.exp(x) + np.exp(-x))\n",
        "      return (1 - np.power((fx),2))\n",
        "\n",
        "    if activation == \"relu\":\n",
        "      return np.where(x>=0,0.12,0) \n",
        "\n",
        "    if activation == \"lrelu\":\n",
        "      return np.where(x>=0,1,0.2)\n",
        "\n",
        "    return\n",
        "\n",
        "\n",
        "######################################### Prectivation Function ###################################################\n",
        "\n",
        "\n",
        "  def preactivation(self, w, h_prev, b):\n",
        "    return (np.dot(w,h_prev) + b)\n",
        "\n",
        "##################################### Output Function using stable Softmax #####################################################\n",
        "\n",
        "\n",
        "  def output_function(self, x): \n",
        "    z=x-x.max()\n",
        "    num=np.exp(z)\n",
        "    denom=np.sum(num,axis=0)\n",
        "    return num/denom\n",
        "\n",
        "\n",
        "######################################### function for Forward propogation  ###################################################\n",
        "\n",
        "\n",
        "  def forwardPropagation(self, input_vector):\n",
        "    activation = self.activation\n",
        "    L = self.L   #total layers - input layer\n",
        "    self.A[0] = self.Biases[0] + np.dot(self.Weights[0], input_vector)\n",
        "    self.H[0] = self.activation_function(self.A[0], activation)\n",
        "\n",
        "    for k in range(1,L):\n",
        "      self.A[k] = np.array(self.preactivation(self.Weights[k], self.H[k-1], self.Biases[k]))\n",
        "      self.H[k] = self.activation_function(self.A[k], activation)\n",
        "\n",
        "    self.A[L] = np.array(self.preactivation(self.Weights[L], self.H[L-1], self.Biases[L]))\n",
        "    self.H[L] = self.output_function(self.A[L])\n",
        "\n",
        "#---------------------------------------------H[L] = y^---------------------------------------------------\n",
        "    return self.H[L] \n",
        "\n",
        "\n",
        "\n",
        "\n",
        "######################################### function for back propogation  ###################################################\n",
        "\n",
        "\n",
        "  def backPropagation(self, train_data,truelabel,prediction):\n",
        "    L = self.L\n",
        "    activation = self.activation\n",
        "    e = np.zeros((10,1))\n",
        "    e[truelabel] = 1\n",
        "    grad_Weights = [0]*(L+1)\n",
        "    grad_Biases = [0]*(L+1)\n",
        "    # a = -(e - self.H[L])\n",
        "    a = -(e - prediction)\n",
        "\n",
        "    for k in range(L, -1, -1):\n",
        "      if k==0:\n",
        "        grad_Weights[k] = a.dot((train_data).T)\n",
        "      else:\n",
        "        grad_Weights[k] = a.dot((self.H[k-1]).T)\n",
        "\n",
        "      grad_Biases[k] = a\n",
        "      if k!=0:\n",
        "        second = self.diff_activation_function(self.A[k-1], activation)\n",
        "        first = (self.Weights[k].T).dot(a)\n",
        "        a =  np.multiply(first,second)\n",
        "\n",
        "    return (grad_Weights,grad_Biases)\n",
        "\n",
        "\n",
        "\n",
        "######################################### converting label to corresponding one hot vector  ###################################################\n",
        "\n",
        "  def oneHot(self, num, size = 10):\n",
        "    vec = [0]*size\n",
        "    # print(\"num :\",num)\n",
        "    vec[num] = 1\n",
        "    vec = np.array(vec)\n",
        "    vec = vec.reshape(len(vec),1)\n",
        "    return vec\n",
        "\n",
        "\n",
        "\n",
        "\n",
        "######################################### Calculate accuracy  of our model  ###################################################\n",
        "\n",
        "  def calculate_accuracy(self, test_data, test_labels, limit):\n",
        "    predictions = []\n",
        "    count = 0\n",
        "    for example in test_data[:limit]:\n",
        "      predictions.append(self.forwardPropagation(example.reshape(784,1)))\n",
        "    predicted_labels = list(map(np.argmax, predictions))\n",
        "    for p,l in zip(predicted_labels, test_labels[:limit]):\n",
        "      if p == l:\n",
        "        count += 1\n",
        "    return (count/limit)*100\n",
        "\n",
        "\n",
        "\n",
        "######################################### Calculate cross entropy loss of our model  ###################################################\n",
        "\n",
        "  def ce_loss(self, data, labels, limit):\n",
        "    predictions = []\n",
        "    count = 0\n",
        "    for example in data[:limit]:\n",
        "      predictions.append(self.forwardPropagation(example.reshape(784,1)))\n",
        "    #-log(predictions[labels[i]])\n",
        "    total_ce_loss = 0\n",
        "    for i in range(limit):\n",
        "      total_ce_loss += -math.log(predictions[i][labels[i]])\n",
        "    average_ce_loss = total_ce_loss / limit\n",
        "    return average_ce_loss\n",
        "\n",
        "\n",
        "\n",
        "  def squared_error_loss(self, data, labels, limit):\n",
        "    predictions = []\n",
        "    count = 0\n",
        "    for example in data[:limit]:\n",
        "      predictions.append(self.forwardPropagation(example.reshape(784,1)))\n",
        "    #\n",
        "    total_sqe_loss = 0\n",
        "    for i in range(limit):\n",
        "      total_sqe_loss += sum(np.power(self.oneHot(labels[i])-predictions[i],2))\n",
        "    average_sqe_loss = total_sqe_loss[0] / limit\n",
        "    return average_sqe_loss\n",
        "\n",
        "\n",
        "\n",
        "\n",
        "######################################### Training of our model  ###################################################\n",
        "\n",
        "  def trainingAlgo(self, opt = 'adam', gamma = 0.9, eta = 1e-4, batch_size = 1, max_epochs = 1,alpha = 0.1, eps = 1e-6, beta = 0.9, limit = 500, vlimit= 500, tlimit = 500):\n",
        "\n",
        "\n",
        "#------------ loading train data, train labels, validation data, validation labels , test data and test labels  -----------------\n",
        "    (train_data , train_labels , validation_data , validation_labels , test_data , test_labels) = ld.load()\n",
        "\n",
        "\n",
        "    N = train_data.shape[0]\n",
        "\n",
        "    #-------------------------L is number of hidden layers in our model-------------------------------------------\n",
        "    L = self.L    \n",
        "\n",
        "\n",
        "    if opt=='adam' or 'nadam':\n",
        "      m_w,m_b = [0]*(L+1),[0]*(L+1)\n",
        "      step = 1\n",
        "\n",
        "\n",
        "#---------------------------------run for loops for maximum number of epochs--------------------------------------------\n",
        "    for i in range(max_epochs):\n",
        "\n",
        "      print(\"\\nEpoch : \", i+1)\n",
        "      g_w, g_b = [0]*(L+1), [0]*(L+1)\n",
        "      count = 0\n",
        "\n",
        "      X_train,y_train = shuffle(train_data,train_labels,random_state=0)\n",
        "\n",
        "      for x, y in zip(X_train[:limit], y_train[:limit]):\n",
        "\n",
        "        predictions=self.forwardPropagation(x.reshape(784,1))\n",
        "        (grad_Weights, grad_Biases) = self.backPropagation(x.reshape(784,1),y,predictions)\n",
        "\n",
        "        for j in range(L+1):\n",
        "          g_w[j] = g_w[j] + grad_Weights[j]\n",
        "          g_b[j] = g_b[j] + grad_Biases[j]\n",
        "        count = count + 1\n",
        "\n",
        "        if count % batch_size == 0 or count == N :\n",
        "\n",
        "#-----------------------------update weights and biases for momentum based stochastic gradient descent optimizer-----------------------------------------\n",
        "          if opt=='momentum':\n",
        "            for j in range(0,L+1):\n",
        "              self.Update_Weights[j] = gamma * self.Update_Weights[j] + (eta * grad_Weights[j])\n",
        "              self.Weights[j] =self.Weights[j]-self.Update_Weights[j]\n",
        "\n",
        "              self.Update_Biases[j] = gamma * self.Update_Biases[j] + (eta * grad_Biases[j])\n",
        "              self.Biases[j]  = self.Biases[j] - self.Update_Biases[j]\n",
        "\n",
        "\n",
        "\n",
        "#-----------------------------update weights and biases for Stochastic gradient descent optimizer-----------------------------------------\n",
        "          elif opt=='sgd':\n",
        "            for j in range(L + 1):\n",
        "              self.Weights[j]   = self.Weights[j]-(eta*grad_Weights[j])\n",
        "              self.Biases[j]  = self.Biases[j]-(eta * grad_Biases[j])\n",
        "\n",
        "\n",
        "\n",
        "#-----------------------------update weights and biases for nestrov optimizer-----------------------------------------\n",
        "          elif opt=='nestrov':\n",
        "            for j in range(L + 1):\n",
        "              self.Update_Weights[j] = (gamma * self.Update_Weights[j]) + (eta * g_w[j])\n",
        "              self.Weights[j]  = self.Weights[j] - ( gamma * prev_w[j] + eta * g_w[j] )\n",
        "\n",
        "              self.Update_Biases[j] = (gamma *  self.Update_Biases[j]) + (eta * g_b[j])\n",
        "              self.Biases[j]  = self.Biases[j]- ( gamma *  self.Update_Biases[j] + eta * g_b[j] )\n",
        "\n",
        "\n",
        "\n",
        "#-----------------------------update weights and biases for RMSProp optimizer-----------------------------------------\n",
        "          elif opt=='rmsprop':\n",
        "            for j in range(L + 1):\n",
        "              self.Update_Weights[j] = beta * self.Update_Weights[j] + (1 - beta) * g_w[j]**2\n",
        "              self.Weights[j] = ( 1 - eta*alpha ) * self.Update_Weights[j] - eta /( np.sqrt(self.Update_Weights[j])+ eps) * grad_Weights[j]\n",
        "\n",
        "              self.Update_Biases[j]= beta *  self.Update_Biases[j] + (1 - beta) * g_b[j]**2\n",
        "              self.Biases[j]  = self.Biases[j] -(eta / (np.sqrt( self.Update_Biases[j]) +eps)) * grad_Biases[j]\n",
        "\n",
        "\n",
        "\n",
        "\n",
        "#-----------------------------update weights and biases for Adam optimizer-----------------------------------------\n",
        "          elif opt=='adam':\n",
        "            # pass\n",
        "            beta1 = 0.9\n",
        "            beta2 = 0.999\n",
        "            for j in range(L + 1):\n",
        "\n",
        "              self.Update_Weights[j] = beta2 * self.Update_Weights[j] + (1 - beta2) * g_w[j]**2\n",
        "              m_w[j]=beta1*m_w[j] +(1-beta1) * g_w[j]\n",
        "              m_w_hat=m_w[j]/(1-math.pow(beta1,step))\n",
        "              v_w_hat=self.Update_Weights[j]/(1-math.pow(beta2,step))\n",
        "              self.Weights[j]=(1-eta*alpha/N)*self.Weights[j] -(eta/(np.sqrt(v_w_hat)+eps))*m_w_hat\n",
        "\n",
        "              self.Update_Biases[j] = beta2 * self.Update_Biases[j] + (1 - beta2) * g_b[j]**2\n",
        "              m_b[j]=beta1*m_b[j] +(1-beta1) * g_b[j]\n",
        "              m_b_hat=m_b[j]/(1-math.pow(beta1,step))\n",
        "              v_b_hat=self.Update_Biases[j]/(1-math.pow(beta2,step))\n",
        "              self.Biases[j] = self.Biases[j] -(eta / (np.sqrt(v_b_hat)+eps))* m_b_hat\n",
        "\n",
        "\n",
        "\n",
        "#-----------------------------updating weights and biases for Nadam optimizer-----------------------------------------\n",
        "          elif opt=='nadam':\n",
        "            # pass\n",
        "            beta1 = 0.9\n",
        "            beta2 = 0.999\n",
        "            for j in range(L + 1):\n",
        "\n",
        "              self.Update_Weights[j] = beta2 * self.Update_Weights[j] + (1 - beta2) * g_w[j] ** 2\n",
        "              m_w[j] = beta1 * m_w[j] + (1 - beta1) * g_w[j]\n",
        "              m_w_hat = m_w[j] / (1 - math.pow(beta1, step))\n",
        "              m_w_hat = beta1 * m_w_hat + ((1 - beta1) * g_w[j]) / (1 - math.pow(beta1, step))\n",
        "              v_w_hat=self.Update_Weights[j]/(1-math.pow(beta2,step))\n",
        "              self.Weights[j] = (1 - eta * alpha) * self.Weights[j] -(eta /( np.sqrt(v_w_hat) + eps)) * m_w_hat\n",
        "\n",
        "              self.Update_Biases[j] = beta2 * self.Update_Biases[j] + (1 - beta2) * g_b[j] ** 2\n",
        "              m_b[j] = beta1 * m_b[j] + (1 - beta1) * g_b[j]\n",
        "              m_b_hat = beta1 * (m_b[j] / (1 - math.pow(beta1, step))) + ((1 - beta1) * g_b[j]) / (1 - math.pow(beta1, step))\n",
        "              v_b_hat=self.Update_Biases[j]/(1-math.pow(beta2,step))\n",
        "              self.Biases[j] = self.Biases[j]-(eta/(np.sqrt(v_b_hat)+eps))*m_b_hat\n",
        "\n",
        "          else:\n",
        "            pass\n",
        "\n",
        "#--------------------------------------------weights and biases has been updated---------------------------------------------\n",
        "          g_w=[0]*(L+1)\n",
        "          g_b=[0]*(L+1)\n",
        "          step = step + 1\n",
        "\n",
        "     #--------------------------------------------calculating training accuracy-----------------------------------------\n",
        "      train_acc = self.calculate_accuracy(train_data, train_labels, limit)\n",
        "\n",
        "\n",
        "      #--------------------------------------------calculating validation accuracy-----------------------------------------\n",
        "      val_acc = self.calculate_accuracy(validation_data, validation_labels, vlimit)\n",
        "\n",
        "\n",
        "      #--------------------------------------------calculating testing accuracy-----------------------------------------\n",
        "      test_acc = self.calculate_accuracy(test_data, test_labels, tlimit)\n",
        "\n",
        "\n",
        "      #----------------------------------------   calculating cross entropy loss for training  ----------------------------------------\n",
        "      train_ce_loss = self.ce_loss(train_data, train_labels, limit)\n",
        "\n",
        "\n",
        "      #----------------------------------------   calculating cross entropy loss for validation  ----------------------------------------\n",
        "      valid_ce_loss = self.ce_loss(validation_data, validation_labels, vlimit)\n",
        "\n",
        "      \n",
        "      #----------------------------------------   calculating cross entropy loss for testing ----------------------------------------\n",
        "      test_ce_loss = self.ce_loss(test_data, test_labels, tlimit)\n",
        "\n",
        "      #----------------------------------------   Logging the accuracies and losses to wandb  ----------------------------------------\n",
        "      wandb.log({\"train_acc\": train_acc, \"val_acc\": val_acc, \"test_acc\":test_acc, \"train_ce_loss\":train_ce_loss, \"valid_ce_loss\":valid_ce_loss, \"test_ce_loss\":test_ce_loss, \"epoch\": i})\n",
        "\n",
        "\n",
        "#-----------------------------return from function training algo -----------------------------------------------------------\n",
        "    return\n",
        "\n",
        "\n",
        "\n",
        "\n",
        "#================================================================== end of class ========================================================================================================================================================================\n"
      ],
      "execution_count": 5,
      "outputs": []
    },
    {
      "cell_type": "code",
      "metadata": {
        "id": "xNBppe7lUoxl"
      },
      "source": [
        "#================================================================== default intialisation ========================================================================================================================================================================\n",
        "\n",
        "number_of_hidden_layers = 1\n",
        "number_of_neurons_in_hidden_layer = 128\n",
        "activation_function = \"sigmoid\"\n",
        "weight_initialisation = \"xavier\"\n",
        "optimiser = \"adam\"\n",
        "gamma = 0.9\n",
        "eta = 1e-4\n",
        "batch_size = 1\n",
        "max_epochs = 1\n",
        "alpha = 0.005\n",
        "train_limit = len(train_data)\n",
        "test_limit = len(test_data)\n",
        "validation_limit = len(validation_data)\n",
        "\n",
        "#===========================================================================================================================================================================================================================================================\n"
      ],
      "execution_count": 6,
      "outputs": []
    },
    {
      "cell_type": "code",
      "metadata": {
        "id": "xhPSn7XwU3AM",
        "colab": {
          "base_uri": "https://localhost:8080/"
        },
        "outputId": "d82693a4-97d4-4b31-9f1a-57bcbf054936"
      },
      "source": [
        "#=============================================================================== Sweep configuration ========================================================================================================================================================================\n",
        "\n",
        "sweep_config={\"method\":\"random\",\n",
        "              'metric' : {\n",
        "        'name' : 'train_acc',\n",
        "        'goal' : 'maximize',\n",
        "    },\n",
        "    \"parameters\":{\n",
        "    \"num_hidden\":{\"values\":[4]},\n",
        "    \"hidden_layer_size\":{\"values\":[32,128]},\n",
        "    \"learning_rate\":{\"values\":[1e-3,1e-4]},\n",
        "    \"num_epochs\":{\"values\":[10]},\n",
        "    \"batch_size\":{\"values\":[16,32,64]},\n",
        "    \"optimisation\":{\"values\":[\"adam\",\"nadam\"]},\n",
        "    \"activation_function\":{\"values\":[\"sigmoid\",\"tanh\"]},\n",
        "    \"weight_initialisation\":{\"values\":[\"random\",\"xavier\"]},\n",
        "    \"weight_decay\":{\"values\":[0.0005,0]}\n",
        "}\n",
        "              }\n",
        "\n",
        "\n",
        "sweep_id = wandb.sweep(sweep_config, project=\"sweep_1\")\n",
        "\n",
        "#===================================================================================================================================================================================================================================================================\n"
      ],
      "execution_count": 7,
      "outputs": [
        {
          "output_type": "stream",
          "text": [
            "Create sweep with ID: 5rc0y5h7\n",
            "Sweep URL: https://wandb.ai/anshikag_2210/sweep_1/sweeps/5rc0y5h7\n"
          ],
          "name": "stdout"
        }
      ]
    },
    {
      "cell_type": "code",
      "metadata": {
        "id": "g9RlOtxBxFab"
      },
      "source": [
        "#=============================================================================== Run function for running the model ========================================================================================================================================================================\n",
        "\n",
        "\n",
        "def run():\n",
        "  wb = wandb.init()\n",
        "  config = wb.config\n",
        "  \n",
        "  ffnn = FeedForwardNeuralNetwork(784, 10, config.hidden_layer_size, config.num_hidden, config.activation_function, config.weight_initialisation)\n",
        "  ffnn.trainingAlgo(opt = config.optimisation, gamma = 0.9, eta = config.learning_rate, batch_size = config.batch_size, max_epochs = config.num_epochs, alpha = config.weight_decay,  limit = train_limit, vlimit = validation_limit, tlimit = test_limit)\n",
        "  return\n"
      ],
      "execution_count": 8,
      "outputs": []
    },
    {
      "cell_type": "code",
      "metadata": {
        "id": "DwlvpylgT3XI",
        "colab": {
          "base_uri": "https://localhost:8080/",
          "height": 1000,
          "referenced_widgets": [
            "96f098995ddb4791a35af33c6c811b64",
            "1b53d60588304f7a940df72bcd70cf9d",
            "a497a3d9262a4d41aff3ac44d8da766c",
            "171c1119808b4f15b1c10484329f192a",
            "92c52794c139436687f987bcfd688b68",
            "41a7fec58a894af8b3b5233620d9ffdc",
            "25a0c44ecc1240ad9e2e6b1e6db71747",
            "7117fc9274714939ab829d653229706f",
            "fdf0e1e51586488ba3113ffc6bee9c6e",
            "c756094999dd48ec80ee6b92aaee02d6",
            "ac24b240fa494f17854cdf2bb9632add",
            "d0bca6f2c6fd437aa2e06647e0ec070f",
            "91d53fc54b2648bfb010ac1681beff28",
            "060f78c20ffa47ec893cc185003bac15",
            "0bdf6ce0ef3b46f08eee4eb8b98b940a",
            "fa3cac07feee4f3186f2903922cbdd97"
          ]
        },
        "outputId": "151fb3de-f299-456a-90e2-880f50505366"
      },
      "source": [
        "#=============================================================================== wandb agent function ========================================================================================================================================================================\n",
        "\n",
        "wandb.agent(sweep_id, run)"
      ],
      "execution_count": null,
      "outputs": [
        {
          "output_type": "stream",
          "text": [
            "\u001b[34m\u001b[1mwandb\u001b[0m: Agent Starting Run: lle1c7oe with config:\n",
            "\u001b[34m\u001b[1mwandb\u001b[0m: \tactivation_function: tanh\n",
            "\u001b[34m\u001b[1mwandb\u001b[0m: \tbatch_size: 16\n",
            "\u001b[34m\u001b[1mwandb\u001b[0m: \thidden_layer_size: 32\n",
            "\u001b[34m\u001b[1mwandb\u001b[0m: \tlearning_rate: 0.001\n",
            "\u001b[34m\u001b[1mwandb\u001b[0m: \tnum_epochs: 10\n",
            "\u001b[34m\u001b[1mwandb\u001b[0m: \tnum_hidden: 4\n",
            "\u001b[34m\u001b[1mwandb\u001b[0m: \toptimisation: nadam\n",
            "\u001b[34m\u001b[1mwandb\u001b[0m: \tweight_decay: 0.0005\n",
            "\u001b[34m\u001b[1mwandb\u001b[0m: \tweight_initialisation: random\n",
            "\u001b[34m\u001b[1mwandb\u001b[0m: Currently logged in as: \u001b[33manshikag_2210\u001b[0m (use `wandb login --relogin` to force relogin)\n"
          ],
          "name": "stderr"
        },
        {
          "output_type": "display_data",
          "data": {
            "text/html": [
              "\n",
              "                Tracking run with wandb version 0.10.22<br/>\n",
              "                Syncing run <strong style=\"color:#cdcd00\">zesty-sweep-1</strong> to <a href=\"https://wandb.ai\" target=\"_blank\">Weights & Biases</a> <a href=\"https://docs.wandb.com/integrations/jupyter.html\" target=\"_blank\">(Documentation)</a>.<br/>\n",
              "                Project page: <a href=\"https://wandb.ai/anshikag_2210/sweep_1\" target=\"_blank\">https://wandb.ai/anshikag_2210/sweep_1</a><br/>\n",
              "                Sweep page: <a href=\"https://wandb.ai/anshikag_2210/sweep_1/sweeps/5rc0y5h7\" target=\"_blank\">https://wandb.ai/anshikag_2210/sweep_1/sweeps/5rc0y5h7</a><br/>\n",
              "Run page: <a href=\"https://wandb.ai/anshikag_2210/sweep_1/runs/lle1c7oe\" target=\"_blank\">https://wandb.ai/anshikag_2210/sweep_1/runs/lle1c7oe</a><br/>\n",
              "                Run data is saved locally in <code>/content/wandb/run-20210318_163433-lle1c7oe</code><br/><br/>\n",
              "            "
            ],
            "text/plain": [
              "<IPython.core.display.HTML object>"
            ]
          },
          "metadata": {
            "tags": []
          }
        },
        {
          "output_type": "stream",
          "text": [
            "\n",
            "Epoch :  1\n",
            "\n",
            "Epoch :  2\n",
            "\n",
            "Epoch :  3\n",
            "\n",
            "Epoch :  4\n",
            "\n",
            "Epoch :  5\n",
            "\n",
            "Epoch :  6\n",
            "\n",
            "Epoch :  7\n",
            "\n",
            "Epoch :  8\n",
            "\n",
            "Epoch :  9\n",
            "\n",
            "Epoch :  10\n"
          ],
          "name": "stdout"
        },
        {
          "output_type": "display_data",
          "data": {
            "text/html": [
              "<br/>Waiting for W&B process to finish, PID 855<br/>Program ended successfully."
            ],
            "text/plain": [
              "<IPython.core.display.HTML object>"
            ]
          },
          "metadata": {
            "tags": []
          }
        },
        {
          "output_type": "display_data",
          "data": {
            "application/vnd.jupyter.widget-view+json": {
              "model_id": "96f098995ddb4791a35af33c6c811b64",
              "version_minor": 0,
              "version_major": 2
            },
            "text/plain": [
              "VBox(children=(Label(value=' 0.00MB of 0.00MB uploaded (0.00MB deduped)\\r'), FloatProgress(value=1.0, max=1.0)…"
            ]
          },
          "metadata": {
            "tags": []
          }
        },
        {
          "output_type": "display_data",
          "data": {
            "text/html": [
              "Find user logs for this run at: <code>/content/wandb/run-20210318_163433-lle1c7oe/logs/debug.log</code>"
            ],
            "text/plain": [
              "<IPython.core.display.HTML object>"
            ]
          },
          "metadata": {
            "tags": []
          }
        },
        {
          "output_type": "display_data",
          "data": {
            "text/html": [
              "Find internal logs for this run at: <code>/content/wandb/run-20210318_163433-lle1c7oe/logs/debug-internal.log</code>"
            ],
            "text/plain": [
              "<IPython.core.display.HTML object>"
            ]
          },
          "metadata": {
            "tags": []
          }
        },
        {
          "output_type": "display_data",
          "data": {
            "text/html": [
              "<h3>Run summary:</h3><br/><style>\n",
              "    table.wandb td:nth-child(1) { padding: 0 10px; text-align: right }\n",
              "    </style><table class=\"wandb\">\n",
              "<tr><td>train_acc</td><td>97.75</td></tr><tr><td>val_acc</td><td>96.36667</td></tr><tr><td>test_acc</td><td>95.87</td></tr><tr><td>train_ce_loss</td><td>0.07161</td></tr><tr><td>valid_ce_loss</td><td>0.14505</td></tr><tr><td>test_ce_loss</td><td>0.15689</td></tr><tr><td>epoch</td><td>9</td></tr><tr><td>_runtime</td><td>609</td></tr><tr><td>_timestamp</td><td>1616085882</td></tr><tr><td>_step</td><td>9</td></tr></table>"
            ],
            "text/plain": [
              "<IPython.core.display.HTML object>"
            ]
          },
          "metadata": {
            "tags": []
          }
        },
        {
          "output_type": "display_data",
          "data": {
            "text/html": [
              "<h3>Run history:</h3><br/><style>\n",
              "    table.wandb td:nth-child(1) { padding: 0 10px; text-align: right }\n",
              "    </style><table class=\"wandb\">\n",
              "<tr><td>train_acc</td><td>▁▄▆▆▇▇██▇█</td></tr><tr><td>val_acc</td><td>▁▃▆▅▆██▇▅▅</td></tr><tr><td>test_acc</td><td>▁▄▇▇▇▇▇█▇▇</td></tr><tr><td>train_ce_loss</td><td>█▅▃▃▂▂▁▁▂▁</td></tr><tr><td>valid_ce_loss</td><td>█▄▁▂▂▃▃▃▅█</td></tr><tr><td>test_ce_loss</td><td>█▅▁▂▂▃▃▂▄▅</td></tr><tr><td>epoch</td><td>▁▂▃▃▄▅▆▆▇█</td></tr><tr><td>_runtime</td><td>▁▂▃▃▄▅▆▆▇█</td></tr><tr><td>_timestamp</td><td>▁▂▃▃▄▅▆▆▇█</td></tr><tr><td>_step</td><td>▁▂▃▃▄▅▆▆▇█</td></tr></table><br/>"
            ],
            "text/plain": [
              "<IPython.core.display.HTML object>"
            ]
          },
          "metadata": {
            "tags": []
          }
        },
        {
          "output_type": "display_data",
          "data": {
            "text/html": [
              "Synced 5 W&B file(s), 0 media file(s), 0 artifact file(s) and 0 other file(s)"
            ],
            "text/plain": [
              "<IPython.core.display.HTML object>"
            ]
          },
          "metadata": {
            "tags": []
          }
        },
        {
          "output_type": "display_data",
          "data": {
            "text/html": [
              "\n",
              "                    <br/>Synced <strong style=\"color:#cdcd00\">zesty-sweep-1</strong>: <a href=\"https://wandb.ai/anshikag_2210/sweep_1/runs/lle1c7oe\" target=\"_blank\">https://wandb.ai/anshikag_2210/sweep_1/runs/lle1c7oe</a><br/>\n",
              "                "
            ],
            "text/plain": [
              "<IPython.core.display.HTML object>"
            ]
          },
          "metadata": {
            "tags": []
          }
        },
        {
          "output_type": "stream",
          "text": [
            "\u001b[34m\u001b[1mwandb\u001b[0m: Agent Starting Run: 8x7ssufy with config:\n",
            "\u001b[34m\u001b[1mwandb\u001b[0m: \tactivation_function: tanh\n",
            "\u001b[34m\u001b[1mwandb\u001b[0m: \tbatch_size: 64\n",
            "\u001b[34m\u001b[1mwandb\u001b[0m: \thidden_layer_size: 128\n",
            "\u001b[34m\u001b[1mwandb\u001b[0m: \tlearning_rate: 0.001\n",
            "\u001b[34m\u001b[1mwandb\u001b[0m: \tnum_epochs: 10\n",
            "\u001b[34m\u001b[1mwandb\u001b[0m: \tnum_hidden: 4\n",
            "\u001b[34m\u001b[1mwandb\u001b[0m: \toptimisation: nadam\n",
            "\u001b[34m\u001b[1mwandb\u001b[0m: \tweight_decay: 0.0005\n",
            "\u001b[34m\u001b[1mwandb\u001b[0m: \tweight_initialisation: xavier\n"
          ],
          "name": "stderr"
        },
        {
          "output_type": "display_data",
          "data": {
            "text/html": [
              "\n",
              "                Tracking run with wandb version 0.10.22<br/>\n",
              "                Syncing run <strong style=\"color:#cdcd00\">dulcet-sweep-2</strong> to <a href=\"https://wandb.ai\" target=\"_blank\">Weights & Biases</a> <a href=\"https://docs.wandb.com/integrations/jupyter.html\" target=\"_blank\">(Documentation)</a>.<br/>\n",
              "                Project page: <a href=\"https://wandb.ai/anshikag_2210/sweep_1\" target=\"_blank\">https://wandb.ai/anshikag_2210/sweep_1</a><br/>\n",
              "                Sweep page: <a href=\"https://wandb.ai/anshikag_2210/sweep_1/sweeps/5rc0y5h7\" target=\"_blank\">https://wandb.ai/anshikag_2210/sweep_1/sweeps/5rc0y5h7</a><br/>\n",
              "Run page: <a href=\"https://wandb.ai/anshikag_2210/sweep_1/runs/8x7ssufy\" target=\"_blank\">https://wandb.ai/anshikag_2210/sweep_1/runs/8x7ssufy</a><br/>\n",
              "                Run data is saved locally in <code>/content/wandb/run-20210318_164447-8x7ssufy</code><br/><br/>\n",
              "            "
            ],
            "text/plain": [
              "<IPython.core.display.HTML object>"
            ]
          },
          "metadata": {
            "tags": []
          }
        },
        {
          "output_type": "stream",
          "text": [
            "\n",
            "Epoch :  1\n",
            "\n",
            "Epoch :  2\n",
            "\n",
            "Epoch :  3\n",
            "\n",
            "Epoch :  4\n",
            "\n",
            "Epoch :  5\n",
            "\n",
            "Epoch :  6\n",
            "\n",
            "Epoch :  7\n",
            "\n",
            "Epoch :  8\n",
            "\n",
            "Epoch :  9\n",
            "\n",
            "Epoch :  10\n"
          ],
          "name": "stdout"
        },
        {
          "output_type": "display_data",
          "data": {
            "text/html": [
              "<br/>Waiting for W&B process to finish, PID 898<br/>Program ended successfully."
            ],
            "text/plain": [
              "<IPython.core.display.HTML object>"
            ]
          },
          "metadata": {
            "tags": []
          }
        },
        {
          "output_type": "display_data",
          "data": {
            "application/vnd.jupyter.widget-view+json": {
              "model_id": "fdf0e1e51586488ba3113ffc6bee9c6e",
              "version_minor": 0,
              "version_major": 2
            },
            "text/plain": [
              "VBox(children=(Label(value=' 0.00MB of 0.00MB uploaded (0.00MB deduped)\\r'), FloatProgress(value=1.0, max=1.0)…"
            ]
          },
          "metadata": {
            "tags": []
          }
        },
        {
          "output_type": "display_data",
          "data": {
            "text/html": [
              "Find user logs for this run at: <code>/content/wandb/run-20210318_164447-8x7ssufy/logs/debug.log</code>"
            ],
            "text/plain": [
              "<IPython.core.display.HTML object>"
            ]
          },
          "metadata": {
            "tags": []
          }
        },
        {
          "output_type": "display_data",
          "data": {
            "text/html": [
              "Find internal logs for this run at: <code>/content/wandb/run-20210318_164447-8x7ssufy/logs/debug-internal.log</code>"
            ],
            "text/plain": [
              "<IPython.core.display.HTML object>"
            ]
          },
          "metadata": {
            "tags": []
          }
        },
        {
          "output_type": "display_data",
          "data": {
            "text/html": [
              "<h3>Run summary:</h3><br/><style>\n",
              "    table.wandb td:nth-child(1) { padding: 0 10px; text-align: right }\n",
              "    </style><table class=\"wandb\">\n",
              "<tr><td>train_acc</td><td>99.28704</td></tr><tr><td>val_acc</td><td>97.73333</td></tr><tr><td>test_acc</td><td>97.62</td></tr><tr><td>train_ce_loss</td><td>0.02163</td></tr><tr><td>valid_ce_loss</td><td>0.08838</td></tr><tr><td>test_ce_loss</td><td>0.09446</td></tr><tr><td>epoch</td><td>9</td></tr><tr><td>_runtime</td><td>1427</td></tr><tr><td>_timestamp</td><td>1616087314</td></tr><tr><td>_step</td><td>9</td></tr></table>"
            ],
            "text/plain": [
              "<IPython.core.display.HTML object>"
            ]
          },
          "metadata": {
            "tags": []
          }
        },
        {
          "output_type": "display_data",
          "data": {
            "text/html": [
              "<h3>Run history:</h3><br/><style>\n",
              "    table.wandb td:nth-child(1) { padding: 0 10px; text-align: right }\n",
              "    </style><table class=\"wandb\">\n",
              "<tr><td>train_acc</td><td>▁▃▄▅▇▆▆███</td></tr><tr><td>val_acc</td><td>▁▄▄▅▇▅▆█▇█</td></tr><tr><td>test_acc</td><td>▁▃▄▄▆▅▆█▇█</td></tr><tr><td>train_ce_loss</td><td>█▆▅▄▂▃▂▁▁▁</td></tr><tr><td>valid_ce_loss</td><td>█▄▄▆▂▄▆▁▄▁</td></tr><tr><td>test_ce_loss</td><td>█▅▄▅▁▄▄▁▂▁</td></tr><tr><td>epoch</td><td>▁▂▃▃▄▅▆▆▇█</td></tr><tr><td>_runtime</td><td>▁▂▃▃▄▅▆▆▇█</td></tr><tr><td>_timestamp</td><td>▁▂▃▃▄▅▆▆▇█</td></tr><tr><td>_step</td><td>▁▂▃▃▄▅▆▆▇█</td></tr></table><br/>"
            ],
            "text/plain": [
              "<IPython.core.display.HTML object>"
            ]
          },
          "metadata": {
            "tags": []
          }
        },
        {
          "output_type": "display_data",
          "data": {
            "text/html": [
              "Synced 5 W&B file(s), 0 media file(s), 0 artifact file(s) and 0 other file(s)"
            ],
            "text/plain": [
              "<IPython.core.display.HTML object>"
            ]
          },
          "metadata": {
            "tags": []
          }
        },
        {
          "output_type": "display_data",
          "data": {
            "text/html": [
              "\n",
              "                    <br/>Synced <strong style=\"color:#cdcd00\">dulcet-sweep-2</strong>: <a href=\"https://wandb.ai/anshikag_2210/sweep_1/runs/8x7ssufy\" target=\"_blank\">https://wandb.ai/anshikag_2210/sweep_1/runs/8x7ssufy</a><br/>\n",
              "                "
            ],
            "text/plain": [
              "<IPython.core.display.HTML object>"
            ]
          },
          "metadata": {
            "tags": []
          }
        },
        {
          "output_type": "stream",
          "text": [
            "\u001b[34m\u001b[1mwandb\u001b[0m: Agent Starting Run: 9ceeg8vc with config:\n",
            "\u001b[34m\u001b[1mwandb\u001b[0m: \tactivation_function: tanh\n",
            "\u001b[34m\u001b[1mwandb\u001b[0m: \tbatch_size: 16\n",
            "\u001b[34m\u001b[1mwandb\u001b[0m: \thidden_layer_size: 32\n",
            "\u001b[34m\u001b[1mwandb\u001b[0m: \tlearning_rate: 0.0001\n",
            "\u001b[34m\u001b[1mwandb\u001b[0m: \tnum_epochs: 10\n",
            "\u001b[34m\u001b[1mwandb\u001b[0m: \tnum_hidden: 4\n",
            "\u001b[34m\u001b[1mwandb\u001b[0m: \toptimisation: nadam\n",
            "\u001b[34m\u001b[1mwandb\u001b[0m: \tweight_decay: 0.0005\n",
            "\u001b[34m\u001b[1mwandb\u001b[0m: \tweight_initialisation: xavier\n"
          ],
          "name": "stderr"
        },
        {
          "output_type": "display_data",
          "data": {
            "text/html": [
              "\n",
              "                Tracking run with wandb version 0.10.22<br/>\n",
              "                Syncing run <strong style=\"color:#cdcd00\">treasured-sweep-3</strong> to <a href=\"https://wandb.ai\" target=\"_blank\">Weights & Biases</a> <a href=\"https://docs.wandb.com/integrations/jupyter.html\" target=\"_blank\">(Documentation)</a>.<br/>\n",
              "                Project page: <a href=\"https://wandb.ai/anshikag_2210/sweep_1\" target=\"_blank\">https://wandb.ai/anshikag_2210/sweep_1</a><br/>\n",
              "                Sweep page: <a href=\"https://wandb.ai/anshikag_2210/sweep_1/sweeps/5rc0y5h7\" target=\"_blank\">https://wandb.ai/anshikag_2210/sweep_1/sweeps/5rc0y5h7</a><br/>\n",
              "Run page: <a href=\"https://wandb.ai/anshikag_2210/sweep_1/runs/9ceeg8vc\" target=\"_blank\">https://wandb.ai/anshikag_2210/sweep_1/runs/9ceeg8vc</a><br/>\n",
              "                Run data is saved locally in <code>/content/wandb/run-20210318_170841-9ceeg8vc</code><br/><br/>\n",
              "            "
            ],
            "text/plain": [
              "<IPython.core.display.HTML object>"
            ]
          },
          "metadata": {
            "tags": []
          }
        },
        {
          "output_type": "stream",
          "text": [
            "\n",
            "Epoch :  1\n",
            "\n",
            "Epoch :  2\n",
            "\n",
            "Epoch :  3\n",
            "\n",
            "Epoch :  4\n",
            "\n",
            "Epoch :  5\n",
            "\n",
            "Epoch :  6\n"
          ],
          "name": "stdout"
        }
      ]
    },
    {
      "cell_type": "code",
      "metadata": {
        "id": "lFmN5TpqT3VU"
      },
      "source": [
        "#=============================================================================== wandb finish function ========================================================================================================================================================================\n",
        "\n",
        "wandb.finish()"
      ],
      "execution_count": null,
      "outputs": []
    },
    {
      "cell_type": "code",
      "metadata": {
        "id": "QZ3PGfDVT3Sq"
      },
      "source": [
        ""
      ],
      "execution_count": null,
      "outputs": []
    },
    {
      "cell_type": "code",
      "metadata": {
        "id": "oB2azWnOT3Qc"
      },
      "source": [
        ""
      ],
      "execution_count": null,
      "outputs": []
    }
  ]
}