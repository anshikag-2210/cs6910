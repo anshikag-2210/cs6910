{
  "nbformat": 4,
  "nbformat_minor": 0,
  "metadata": {
    "colab": {
      "name": "DL_A1.ipynb",
      "provenance": [],
      "collapsed_sections": []
    },
    "kernelspec": {
      "name": "python3",
      "display_name": "Python 3"
    }
  },
  "cells": [
    {
      "cell_type": "code",
      "metadata": {
        "id": "Jl2q47rdUU7h"
      },
      "source": [
        "from keras.datasets import fashion_mnist\n",
        "from matplotlib import pyplot as plt\n",
        "from scipy.special import softmax \n",
        "import numpy as np"
      ],
      "execution_count": 1,
      "outputs": []
    },
    {
      "cell_type": "code",
      "metadata": {
        "id": "VirCuVlGI9_T"
      },
      "source": [
        "class FeedForwardNeuralNetwork():\n",
        "\n",
        "  def __init__(self, input_dim, output_dim, hidden_dim, hidden_layers):\n",
        "    self.input_dim = input_dim\n",
        "    self.hidden_dim = hidden_dim\n",
        "    self.output_dim = output_dim\n",
        "    self.hidden_layers = hidden_layers\n",
        "\n",
        "    #weight matrices list\n",
        "    self.Weights = []\n",
        "    # wi = np.random.rand(hidden_dim,input_dim)\n",
        "    wi =  np.random.uniform(low=-10, high=10, size=(hidden_dim,input_dim))\n",
        "    self.Weights.append(wi)    \n",
        "    for _ in range(1,hidden_layers):\n",
        "      # wh = np.random.rand(hidden_dim, hidden_dim)\n",
        "      wh =  np.random.uniform(low=-10, high=10, size=(hidden_dim,hidden_dim))\n",
        "      self.Weights.append(wh)    \n",
        "    # wl = np.random.rand(output_dim, hidden_dim)\n",
        "    wl =  np.random.uniform(low=-10, high=10, size=(output_dim,input_dim))\n",
        "    self.Weights.append(wl)\n",
        "\n",
        "    #biases list\n",
        "    self.Biases = []\n",
        "    for _ in range(1,hidden_layers+1):\n",
        "      # bh = np.random.rand(hidden_dim, 1)\n",
        "      bh =  np.random.uniform(low=-10, high=10, size=(hidden_dim, 1))\n",
        "      self.Biases.append(bh)\n",
        "    # bl = np.random.rand(output_dim, 1)\n",
        "    bl =  np.random.uniform(low=-10, high=10, size=(output_dim, 1))\n",
        "    self.Biases.append(bl)\n",
        "\n",
        "  def output_function(self, a):\n",
        "    return softmax(a)\n",
        "    # return self.sigmoid(a)\n",
        "\n",
        "\n",
        "  def preactivation(self, w, h_prev, b):\n",
        "    return (w.dot(h_prev) + b)\n",
        "    \n",
        "  #activation function\n",
        "  def sigmoid(self, a):\n",
        "    return 1.0/(1.0 + np.exp(-(a)))\n",
        "    \n",
        "  #Running\n",
        "  def running(self, input_vector):      \n",
        "    #input layer\n",
        "    h = np.array(list(map(self.sigmoid,self.preactivation(self.Weights[0],input_vector,self.Biases[0]))), dtype = np.float128)\n",
        "\n",
        "    #hidden layers\n",
        "    for i in range(1,hidden_layers):\n",
        "      h = np.array(list(map(self.sigmoid,self.preactivation(self.Weights[i],h,self.Biases[i]))), dtype = np.float128)\n",
        "\n",
        "    #output layer\n",
        "    preact = self.preactivation(self.Weights[len(self.Weights)-1],h,self.Biases[len(self.Biases)-1])\n",
        "    h = self.output_function(preact)\n",
        "    # h = np.array(list(map(self.output_function,self.preactivation(self.Weights[len(self.Weights)-1],h,self.Biases[len(self.Biases)-1]))), dtype = np.float128)\n",
        "    return h"
      ],
      "execution_count": 2,
      "outputs": []
    },
    {
      "cell_type": "code",
      "metadata": {
        "id": "w7qbEyPFV6cb"
      },
      "source": [
        "# load dataset\n",
        "(train_data, train_labels), (test_data, test_labels) = fashion_mnist.load_data()"
      ],
      "execution_count": 3,
      "outputs": []
    },
    {
      "cell_type": "code",
      "metadata": {
        "id": "mk4hHGsZJgrg"
      },
      "source": [
        "input_dim = train_data[0].reshape(784,1).shape[0]\n",
        "output_dim, hidden_dim, hidden_layers = 10, input_dim, 8"
      ],
      "execution_count": 4,
      "outputs": []
    },
    {
      "cell_type": "code",
      "metadata": {
        "id": "YOON9JLgJKiS"
      },
      "source": [
        "ffnn = FeedForwardNeuralNetwork(input_dim, output_dim, hidden_dim, hidden_layers)"
      ],
      "execution_count": 5,
      "outputs": []
    },
    {
      "cell_type": "code",
      "metadata": {
        "id": "yHHTIEHsKUBs",
        "colab": {
          "base_uri": "https://localhost:8080/"
        },
        "outputId": "5e8957fb-d0b5-4441-a674-4f70cbf49e22"
      },
      "source": [
        "# print(ffnn.running(train_data[12].reshape(784,1)))\n",
        "print(ffnn.running(train_data[12].reshape(784,1)))"
      ],
      "execution_count": 6,
      "outputs": [
        {
          "output_type": "stream",
          "text": [
            "[[2.55577288e-010]\n",
            " [1.10706521e-002]\n",
            " [9.88929348e-001]\n",
            " [3.43665757e-071]\n",
            " [1.54841916e-090]\n",
            " [1.75444873e-086]\n",
            " [7.68589525e-111]\n",
            " [4.44564066e-066]\n",
            " [1.37731275e-064]\n",
            " [1.22013687e-173]]\n"
          ],
          "name": "stdout"
        },
        {
          "output_type": "stream",
          "text": [
            "/usr/local/lib/python3.7/dist-packages/ipykernel_launcher.py:42: RuntimeWarning: overflow encountered in exp\n"
          ],
          "name": "stderr"
        }
      ]
    },
    {
      "cell_type": "code",
      "metadata": {
        "id": "rfeY1hBY2JzD",
        "colab": {
          "base_uri": "https://localhost:8080/"
        },
        "outputId": "b9c3e308-ca63-4e1d-c0d6-c27a2bd14478"
      },
      "source": [
        "print(sum(ffnn.running(train_data[12].reshape(784,1))))"
      ],
      "execution_count": 7,
      "outputs": [
        {
          "output_type": "stream",
          "text": [
            "[1.]\n"
          ],
          "name": "stdout"
        },
        {
          "output_type": "stream",
          "text": [
            "/usr/local/lib/python3.7/dist-packages/ipykernel_launcher.py:42: RuntimeWarning: overflow encountered in exp\n"
          ],
          "name": "stderr"
        }
      ]
    }
  ]
}