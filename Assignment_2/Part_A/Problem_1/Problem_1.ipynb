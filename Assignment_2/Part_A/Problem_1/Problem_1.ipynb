{
  "nbformat": 4,
  "nbformat_minor": 0,
  "metadata": {
    "colab": {
      "name": "Problem_1.ipynb",
      "provenance": [],
      "collapsed_sections": []
    },
    "kernelspec": {
      "name": "python3",
      "display_name": "Python 3"
    },
    "language_info": {
      "name": "python"
    }
  },
  "cells": [
    {
      "cell_type": "markdown",
      "metadata": {
        "id": "oWejop-kpJdc"
      },
      "source": [
        "**IMPORTING REQUIRED LIBRARIES**"
      ]
    },
    {
      "cell_type": "code",
      "metadata": {
        "id": "KTCAHfTc66zf"
      },
      "source": [
        "import tensorflow as tf\n",
        "from tensorflow import keras\n",
        "from tensorflow.keras import layers\n",
        "from tensorflow.keras.models import Sequential\n",
        "import matplotlib.pyplot as plt\n",
        "import numpy as np\n",
        "import os\n",
        "import PIL\n",
        "import cv2\n",
        "import pathlib\n",
        "import glob\n",
        "import shutil\n",
        "import os\n",
        "import random"
      ],
      "execution_count": 1,
      "outputs": []
    },
    {
      "cell_type": "markdown",
      "metadata": {
        "id": "TET9FvESoMP5"
      },
      "source": [
        "\n",
        "**IMPORTING THE DATA**"
      ]
    },
    {
      "cell_type": "code",
      "metadata": {
        "id": "s2VpRP5MxlKf",
        "colab": {
          "base_uri": "https://localhost:8080/"
        },
        "outputId": "9d345486-1147-4c07-925f-dff434ca821c"
      },
      "source": [
        "######################################### caution : terminal commands #######################################################\n",
        "\n",
        "#-------------------------------------empty the datasets forlder before downloading the dataset -------------------------------------\n",
        "\n",
        "%cd\n",
        "%cd .keras/datasets/\n",
        "!rm -r *"
      ],
      "execution_count": 2,
      "outputs": [
        {
          "output_type": "stream",
          "text": [
            "/root\n",
            "/root/.keras/datasets\n"
          ],
          "name": "stdout"
        }
      ]
    },
    {
      "cell_type": "code",
      "metadata": {
        "id": "7cHTe-1z7tdF",
        "colab": {
          "base_uri": "https://localhost:8080/"
        },
        "outputId": "2f8882e5-1e20-400d-ea24-5a5ddad62b19"
      },
      "source": [
        "########################################### download data from given url ###############################################3\n",
        "\n",
        "dataset_url = \"https://storage.googleapis.com/wandb_datasets/nature_12K.zip\"\n",
        "data_dir = tf.keras.utils.get_file('nature_12K', origin=dataset_url, extract=True)\n"
      ],
      "execution_count": 3,
      "outputs": [
        {
          "output_type": "stream",
          "text": [
            "Downloading data from https://storage.googleapis.com/wandb_datasets/nature_12K.zip\n",
            "3816693760/3816687935 [==============================] - 44s 0us/step\n"
          ],
          "name": "stdout"
        }
      ]
    },
    {
      "cell_type": "markdown",
      "metadata": {
        "id": "3n--Egiv5E4C"
      },
      "source": [
        "**SPLITTING THE DATA**"
      ]
    },
    {
      "cell_type": "code",
      "metadata": {
        "id": "AdH9jqUI3VXu",
        "colab": {
          "base_uri": "https://localhost:8080/"
        },
        "outputId": "2195711b-461d-4a9c-fc95-f0b7e978391d"
      },
      "source": [
        "#---------------------------------------------caution : terminal commands ----------------------------------------------\n",
        "\n",
        "%cd\n",
        "%cd .keras/datasets/inaturalist_12K\n",
        "%mv val test\n",
        "!mkdir valid"
      ],
      "execution_count": 4,
      "outputs": [
        {
          "output_type": "stream",
          "text": [
            "/root\n",
            "/root/.keras/datasets/inaturalist_12K\n"
          ],
          "name": "stdout"
        }
      ]
    },
    {
      "cell_type": "code",
      "metadata": {
        "id": "xOL-kw6ZFyXz"
      },
      "source": [
        "#################################### split train data into validation set and training set ###################################\n",
        "\n",
        "data_folder = '/root/.keras/datasets/inaturalist_12K'\n",
        "os.chdir(data_folder)\n",
        "\n",
        "folder_names = ['Amphibia', 'Animalia', 'Arachnida', 'Aves', 'Fungi', 'Insecta', 'Mammalia', 'Mollusca', 'Plantae', 'Reptilia' ]\n",
        "for i in range(0,10):\n",
        "  source = data_folder + \"/train/\" +folder_names[i]  \n",
        "  orig_files = os.listdir(source)\n",
        "  chosen_indexes = random.sample(range(0, len(orig_files)-1), 100)\n",
        "\n",
        "  destination = data_folder + \"/valid/\"\n",
        "  os.chdir(destination)\n",
        "  os.system('mkdir'+' '+str(folder_names[i]))\n",
        "  destination = destination + folder_names[i]\n",
        "  for j in range(0,100):\n",
        "    shutil.move(   source +\"/\" + str(   orig_files[   chosen_indexes[j]  ]   )  , destination)\n"
      ],
      "execution_count": 5,
      "outputs": []
    },
    {
      "cell_type": "code",
      "metadata": {
        "id": "aPbh7g46gDn3"
      },
      "source": [
        "####################################### Correcting the directory location ####################################################\n",
        "\n",
        "#data_dir = '/root/.keras/datasets/nature_12K'\n",
        "\n",
        "data_dir = data_dir.split('/')\n",
        "data_dir.remove('nature_12K')\n",
        "data_dir.append('inaturalist_12K')\n",
        "data_dir = '/'.join(data_dir)\n"
      ],
      "execution_count": 6,
      "outputs": []
    },
    {
      "cell_type": "code",
      "metadata": {
        "id": "mmVVktRSklrV"
      },
      "source": [
        "#-------------------------------------Taking the train data--------------------------------------------------------\n",
        "train_data_dir_path = data_dir + '/train'\n",
        "train_data_dir = pathlib.Path(train_data_dir_path)\n",
        "\n",
        "#--------------------------------------Taking the validation data-----------------------------------------------\n",
        "valid_data_dir_path = data_dir + '/valid'\n",
        "valid_data_dir = pathlib.Path(valid_data_dir_path)\n",
        "\n",
        "#----------------------------------------Taking the test data-----------------------------------------------\n",
        "test_data_dir_path = data_dir + '/test'\n",
        "test_data_dir = pathlib.Path(test_data_dir_path)"
      ],
      "execution_count": 7,
      "outputs": []
    },
    {
      "cell_type": "code",
      "metadata": {
        "id": "ajBb-R_hlR7A"
      },
      "source": [
        "#------------------------------------------Parameters for the images-------------------------------------------------\n",
        "batch_size = 32\n",
        "img_height = 180\n",
        "img_width = 180"
      ],
      "execution_count": 8,
      "outputs": []
    },
    {
      "cell_type": "code",
      "metadata": {
        "id": "fyDCKLnkzhf7",
        "colab": {
          "base_uri": "https://localhost:8080/"
        },
        "outputId": "a85cd26d-df5c-4483-dcd7-084da092bff0"
      },
      "source": [
        "####################################### converting the image data into dataset ############################################\n",
        "\n",
        "#-------------------------------------training dataset -----------------------------------------------------\n",
        "train_ds = tf.keras.preprocessing.image_dataset_from_directory(\n",
        "  train_data_dir,\n",
        "  seed=123,\n",
        "  image_size=(img_height, img_width),\n",
        "  batch_size=batch_size\n",
        "  )\n",
        "\n",
        "#----------------------------------------------validation dataset -----------------------------------------------\n",
        "val_ds = tf.keras.preprocessing.image_dataset_from_directory(\n",
        "  valid_data_dir,\n",
        "  seed=123,\n",
        "  image_size=(img_height, img_width),\n",
        "  batch_size=batch_size\n",
        "  )"
      ],
      "execution_count": 9,
      "outputs": [
        {
          "output_type": "stream",
          "text": [
            "Found 9000 files belonging to 10 classes.\n",
            "Found 999 files belonging to 10 classes.\n"
          ],
          "name": "stdout"
        }
      ]
    },
    {
      "cell_type": "markdown",
      "metadata": {
        "id": "EuRYfT4THW2h"
      },
      "source": [
        "**CONVOLUTIONAL NEURAL NETWORK**"
      ]
    },
    {
      "cell_type": "code",
      "metadata": {
        "id": "ZJO2h0D-7T0u"
      },
      "source": [
        "class CNN():\n",
        "\n",
        "############################################# constructor for class CNN ##########################################\n",
        "  def __init__(self, batch_size, img_height, img_width, filter_count, filter_size, active_func,dense_neurons_count,maxpool_size,output_neurons_count, optimizer='adam'):\n",
        "    self.batch_size = batch_size\n",
        "    self.img_height = img_height\n",
        "    self.img_width = img_width\n",
        "    self.filter_count = filter_count\n",
        "    self.filter_size = filter_size\n",
        "    self.active_func = active_func\n",
        "    self.dense_neurons_count = dense_neurons_count\n",
        "    self.maxpool_size = maxpool_size\n",
        "    self.num_classes = output_neurons_count\n",
        "    self.optimizer = optimizer\n",
        "    self.model = self.create_model(5)\n",
        "\n",
        "\n",
        "############################################### function to create model ####################################################\n",
        "  def create_model(self, num_layers):\n",
        "\n",
        "    #------------------creating a normalisation layer to be included in the model---------------------------------------\n",
        "    normalization_layer = layers.experimental.preprocessing.Rescaling(1./255)\n",
        "\n",
        "\n",
        "    #-------------------------------------------creating the CNN model -----------------------------------------------------\n",
        "    model = Sequential([\n",
        "      layers.experimental.preprocessing.Rescaling(1./255, input_shape=(self.img_height, self.img_width, 3)),\n",
        "\n",
        "      #----------------------------------------------layer 1---------------------------------------------------------------------\n",
        "      layers.Conv2D(self.filter_count[0], self.filter_size[0], padding='same', activation = self.active_func[0]),\n",
        "      layers.MaxPooling2D(pool_size = self.maxpool_size[0]),\n",
        "\n",
        "      #-----------------------------------------------layer 2-----------------------------------------------------------------\n",
        "      layers.Conv2D(self.filter_count[1], self.filter_size[1], padding='same', activation = self.active_func[1]),\n",
        "      layers.MaxPooling2D(pool_size = self.maxpool_size[1]),\n",
        "\n",
        "      #-----------------------------------------------layer 3-----------------------------------------------------------------\n",
        "      layers.Conv2D(self.filter_count[2], self.filter_size[2], padding='same', activation = self.active_func[2]),\n",
        "      layers.MaxPooling2D(pool_size = self.maxpool_size[2]),\n",
        "\n",
        "      #-----------------------------------------------layer 4-----------------------------------------------------------------\n",
        "      layers.Conv2D(self.filter_count[3], self.filter_size[3], padding='same', activation = self.active_func[3]),\n",
        "      layers.MaxPooling2D(pool_size = self.maxpool_size[3]),\n",
        "\n",
        "      #-----------------------------------------------layer 5-----------------------------------------------------------------\n",
        "      layers.Conv2D(self.filter_count[4], self.filter_size[4], padding='same', activation = self.active_func[4]),\n",
        "      layers.MaxPooling2D(pool_size = self.maxpool_size[4]),\n",
        "\n",
        "      #-----------------------------------------------flattening-----------------------------------------------------------\n",
        "      layers.Flatten(),\n",
        "\n",
        "      #-----------------------------------------------fully connected layer----------------------------------------------------\n",
        "      layers.Dense(self.dense_neurons_count,  activation = self.active_func[5]),\n",
        "\n",
        "      #--------------------------------------------------output layer---------------------------------------------------------\n",
        "      layers.Dense(self.num_classes)\n",
        "    ])\n",
        "\n",
        "\n",
        "    # ---------------------------------------compiling the CNN model ----------------------------------------------------------\n",
        "    model.compile(\n",
        "    optimizer = self.optimizer,\n",
        "    loss=tf.keras.losses.SparseCategoricalCrossentropy(from_logits=True),\n",
        "    metrics=['accuracy'] )\n",
        "\n",
        "\n",
        "  #--------------------------------------------- return final model --------------------------------------------------------\n",
        "    return model \n",
        "\n",
        "\n",
        "  \n",
        "############################################## function for training the model ##################################################3\n",
        "  def train(self, train_ds, val_ds, epochs = 10):\n",
        "\n",
        "    #------------------------------------caching the datasets -----------------------------------------------\n",
        "    AUTOTUNE = tf.data.AUTOTUNE\n",
        "    train_ds = train_ds.cache().shuffle(1000).prefetch(buffer_size=AUTOTUNE)\n",
        "    val_ds = val_ds.cache().prefetch(buffer_size=AUTOTUNE)\n",
        "\n",
        "    #------------------------------------ training the model -----------------------------------------------\n",
        "    history = self.model.fit( train_ds, validation_data=val_ds, epochs=epochs )\n",
        "    return history\n",
        "\n",
        "    \n",
        "\n",
        "\n",
        "############################################ function for summary of model ###########################################3\n",
        "  def model_summary(self):\n",
        "    return self.model.summary()\n",
        "\n",
        "#=============================================== end of class CNN ======================================================\n",
        "    "
      ],
      "execution_count": 10,
      "outputs": []
    },
    {
      "cell_type": "code",
      "metadata": {
        "id": "rSGmMQ-c7iuJ"
      },
      "source": [
        "############################################# function to visualize result ###########################################333#\n",
        "def visualise_results(history, epochs):\n",
        "  acc = history.history['accuracy']\n",
        "  val_acc = history.history['val_accuracy']\n",
        "\n",
        "  loss = history.history['loss']\n",
        "  val_loss = history.history['val_loss']\n",
        "\n",
        "  epochs_range = range(epochs)\n",
        "\n",
        "  plt.figure(figsize=(8, 8))\n",
        "  plt.subplot(1, 2, 1)\n",
        "  plt.plot(epochs_range, acc, label='Training Accuracy')\n",
        "  plt.plot(epochs_range, val_acc, label='Validation Accuracy')\n",
        "  plt.legend(loc='lower right')\n",
        "  plt.title('Training and Validation Accuracy')\n",
        "\n",
        "  plt.subplot(1, 2, 2)\n",
        "  plt.plot(epochs_range, loss, label='Training Loss')\n",
        "  plt.plot(epochs_range, val_loss, label='Validation Loss')\n",
        "  plt.legend(loc='upper right')\n",
        "  plt.title('Training and Validation Loss')\n",
        "  plt.show()"
      ],
      "execution_count": 15,
      "outputs": []
    },
    {
      "cell_type": "code",
      "metadata": {
        "id": "4lxKZFK9HehX"
      },
      "source": [
        "# (self, batch_size, img_height, img_width, num_filters, filter_size, active_func,dense_neurons_count,maxpool_size,output_neurons_count, optimizer='adam')\n",
        "# train(self, train_ds, val_ds, epochs = 10)\n",
        "\n",
        "batch_size = 32\n",
        "img_height = 180\n",
        "img_width = 180\n",
        "filter_count = [16,32,64,64,64]\n",
        "filter_size = [3,3,3,3,3]\n",
        "maxpool_size = [2,2,2,2,2]\n",
        "active_func = ['relu']*6\n",
        "dense_neurons_count = 120\n",
        "output_neurons_count = 10\n",
        "epochs = 2\n",
        "\n",
        "cnn = CNN(batch_size, img_height, img_width, filter_count, filter_size, active_func, dense_neurons_count, maxpool_size, output_neurons_count)"
      ],
      "execution_count": 12,
      "outputs": []
    },
    {
      "cell_type": "code",
      "metadata": {
        "id": "ye00rBWGIWzz",
        "colab": {
          "base_uri": "https://localhost:8080/"
        },
        "outputId": "6ecdd563-6dc2-4ae6-8618-70e320bc27ce"
      },
      "source": [
        "history = cnn.train(train_ds, val_ds, epochs)"
      ],
      "execution_count": 13,
      "outputs": [
        {
          "output_type": "stream",
          "text": [
            "Epoch 1/2\n",
            "282/282 [==============================] - 364s 1s/step - loss: 2.2649 - accuracy: 0.1379 - val_loss: 2.1511 - val_accuracy: 0.1982\n",
            "Epoch 2/2\n",
            "282/282 [==============================] - 290s 1s/step - loss: 2.1524 - accuracy: 0.2128 - val_loss: 2.1049 - val_accuracy: 0.2472\n"
          ],
          "name": "stdout"
        }
      ]
    },
    {
      "cell_type": "code",
      "metadata": {
        "id": "zR-4gwenOr_w",
        "colab": {
          "base_uri": "https://localhost:8080/",
          "height": 499
        },
        "outputId": "56eec2af-2b93-4a3e-951b-aa103581a8e8"
      },
      "source": [
        "#------------------------------------visualising the results -----------------------------------------------\n",
        "visualise_results(history, epochs)"
      ],
      "execution_count": 16,
      "outputs": [
        {
          "output_type": "display_data",
          "data": {
            "image/png": "[encoded data removed]",
            "text/plain": [
              "<Figure size 576x576 with 2 Axes>"
            ]
          },
          "metadata": {
            "tags": [],
            "needs_background": "light"
          }
        }
      ]
    },
    {
      "cell_type": "code",
      "metadata": {
        "id": "OLK0SG_gAjRR"
      },
      "source": [
        ""
      ],
      "execution_count": null,
      "outputs": []
    }
  ]
}