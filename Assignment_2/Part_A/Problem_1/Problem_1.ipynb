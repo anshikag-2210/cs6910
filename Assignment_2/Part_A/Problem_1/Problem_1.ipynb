{
  "nbformat": 4,
  "nbformat_minor": 0,
  "metadata": {
    "colab": {
      "name": "Problem_1.ipynb",
      "provenance": [],
      "collapsed_sections": []
    },
    "kernelspec": {
      "name": "python3",
      "display_name": "Python 3"
    },
    "language_info": {
      "name": "python"
    }
  },
  "cells": [
    {
      "cell_type": "code",
      "metadata": {
        "id": "pMfJPHEbjl85"
      },
      "source": [
        "from tensorflow.keras.models import Sequential\n",
        "from tensorflow.keras.layers import Dense, Conv2D"
      ],
      "execution_count": 5,
      "outputs": []
    },
    {
      "cell_type": "code",
      "metadata": {
        "id": "WxS0-67elrXP"
      },
      "source": [
        "# from keras.datasets import "
      ],
      "execution_count": null,
      "outputs": []
    },
    {
      "cell_type": "code",
      "metadata": {
        "id": "wpHh3xFvjsd-"
      },
      "source": [
        "model = Sequential()\n",
        "convolution_layers = 5"
      ],
      "execution_count": 4,
      "outputs": []
    },
    {
      "cell_type": "code",
      "metadata": {
        "id": "IbWJ_0wykxsX"
      },
      "source": [
        "input_shape = ()\n",
        "model.add(Conv2D(16, (3, 3), input_shape=input_shape))\n",
        "model.add(Activation('relu'))\n",
        "model.add(MaxPooling2D(pool_size=(2, 2)))"
      ],
      "execution_count": null,
      "outputs": []
    },
    {
      "cell_type": "code",
      "metadata": {
        "id": "VrrrnbwRopUK"
      },
      "source": [
        "def create_CNN(num_filters, filter_sizes, activations, input_dim, num_dense_neurons, num_output_neurons = 10, num_layers = convolution_layers):\n",
        "\n",
        "  #activations = list of activation functions for each layer. (I/P---> Convolution layers---> Dense---> O/P)\n",
        "\n",
        "  \n",
        "\n",
        "  #input dimensons \n",
        "  input_shape = input_dim\n",
        "\n",
        "  #input layer\n",
        "  model.add(Conv2D(num_filters[0], filter_sizes[0] , input_shape=input_shape))\n",
        "  model.add(Activation(activations[0]))\n",
        "  model.add(MaxPooling2D(pool_size=(2, 2)))\n",
        "\n",
        "  #Convolution layers\n",
        "  for i in range(1, num_layers):\n",
        "    model.add(Conv2D(num_filters[i], filter_sizes[i])\n",
        "    model.add(Activation(activations[i]))\n",
        "    model.add(MaxPooling2D(pool_size=(2, 2)))\n",
        "  \n",
        "  #Dense layers\n",
        "  model.add(Dense(units = num_dense_neurons, activation = activations[len(activations)-2]))\n",
        "\n",
        "  #Output layers\n",
        "  model.add(Dense(units = num_output_neurons, activation = activations[len(activations)-1]))\n",
        "\n",
        "  return model"
      ],
      "execution_count": null,
      "outputs": []
    },
    {
      "cell_type": "code",
      "metadata": {
        "id": "iAplP3W9r0Qu"
      },
      "source": [
        ""
      ],
      "execution_count": null,
      "outputs": []
    },
    {
      "cell_type": "code",
      "metadata": {
        "id": "lYrWmJYwr2AD"
      },
      "source": [
        ""
      ],
      "execution_count": null,
      "outputs": []
    }
  ]
}