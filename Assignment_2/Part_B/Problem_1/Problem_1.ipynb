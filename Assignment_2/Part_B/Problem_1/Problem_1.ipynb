{
  "nbformat": 4,
  "nbformat_minor": 0,
  "metadata": {
    "colab": {
      "name": "Part_B.ipynb",
      "provenance": [],
      "collapsed_sections": []
    },
    "kernelspec": {
      "name": "python3",
      "display_name": "Python 3"
    },
    "language_info": {
      "name": "python"
    }
  },
  "cells": [
    {
      "cell_type": "code",
      "metadata": {
        "id": "mU_wmnaNVFhO"
      },
      "source": [
        "import tensorflow as tf\n",
        "from tensorflow import keras\n",
        "from tensorflow.keras import layers\n",
        "from tensorflow.keras.models import Sequential\n",
        "import matplotlib.pyplot as plt\n",
        "import numpy as np\n",
        "import os\n",
        "import PIL\n",
        "import cv2\n",
        "import pathlib\n",
        "import glob\n",
        "import shutil\n",
        "import os\n",
        "import random\n",
        "from tensorflow.keras.applications.inception_v3 import InceptionV3\n",
        "from tensorflow.keras.applications.xception import Xception\n",
        "from keras.applications.inception_resnet_v2 import InceptionResNetV2\n",
        "from keras.applications.resnet50 import ResNet50\n",
        "from keras.applications.mobilenet import MobileNet\n",
        "from tensorflow.keras.preprocessing import image\n",
        "from tensorflow.keras.models import Model\n",
        "from tensorflow.keras.layers import Dense, GlobalAveragePooling2D\n",
        "from tensorflow.keras.layers import Dense, GlobalMaxPooling2D\n",
        "from tensorflow.keras.optimizers import Optimizer"
      ],
      "execution_count": 46,
      "outputs": []
    },
    {
      "cell_type": "code",
      "metadata": {
        "colab": {
          "base_uri": "https://localhost:8080/"
        },
        "id": "KUFbS5KRYipF",
        "outputId": "10e5a1f3-5ad4-4594-8e4a-e16acfb3270b"
      },
      "source": [
        "######################################### caution : terminal commands #######################################################\n",
        "\n",
        "#-------------------------------------empty the datasets forlder before downloading the dataset -------------------------------------\n",
        "\n",
        "%cd\n",
        "%cd .keras/datasets/\n",
        "!rm -r *"
      ],
      "execution_count": 17,
      "outputs": [
        {
          "output_type": "stream",
          "text": [
            "/root\n",
            "/root/.keras/datasets\n",
            "rm: cannot remove '*': No such file or directory\n"
          ],
          "name": "stdout"
        }
      ]
    },
    {
      "cell_type": "code",
      "metadata": {
        "colab": {
          "base_uri": "https://localhost:8080/"
        },
        "id": "uWz2g5jsFWMQ",
        "outputId": "168b5bcd-4a3e-42be-974b-6cfdef7c2eef"
      },
      "source": [
        "########################################### download data from given url ###############################################3\n",
        "\n",
        "dataset_url = \"https://storage.googleapis.com/wandb_datasets/nature_12K.zip\"\n",
        "data_dir = tf.keras.utils.get_file('nature_12K', origin=dataset_url, extract=True)\n"
      ],
      "execution_count": 18,
      "outputs": [
        {
          "output_type": "stream",
          "text": [
            "Downloading data from https://storage.googleapis.com/wandb_datasets/nature_12K.zip\n",
            "3816693760/3816687935 [==============================] - 46s 0us/step\n"
          ],
          "name": "stdout"
        }
      ]
    },
    {
      "cell_type": "code",
      "metadata": {
        "id": "fGGDdWOvFYWK",
        "colab": {
          "base_uri": "https://localhost:8080/"
        },
        "outputId": "1d19e14d-0082-4140-d66b-2d4bd76fb16b"
      },
      "source": [
        "#---------------------------------------------caution : terminal commands ----------------------------------------------\n",
        "\n",
        "%cd\n",
        "%cd .keras/datasets/inaturalist_12K\n",
        "%mv val test\n",
        "!mkdir valid"
      ],
      "execution_count": 19,
      "outputs": [
        {
          "output_type": "stream",
          "text": [
            "/root\n",
            "/root/.keras/datasets/inaturalist_12K\n"
          ],
          "name": "stdout"
        }
      ]
    },
    {
      "cell_type": "code",
      "metadata": {
        "id": "WQJIOff7RWOf"
      },
      "source": [
        "#################################### split train data into validation set and training set ###################################\n",
        "\n",
        "data_folder = '/root/.keras/datasets/inaturalist_12K'\n",
        "os.chdir(data_folder)\n",
        "\n",
        "folder_names = ['Amphibia', 'Animalia', 'Arachnida', 'Aves', 'Fungi', 'Insecta', 'Mammalia', 'Mollusca', 'Plantae', 'Reptilia' ]\n",
        "for i in range(0,10):\n",
        "  source = data_folder + \"/train/\" +folder_names[i]  \n",
        "  orig_files = os.listdir(source)\n",
        "  chosen_indexes = random.sample(range(0, len(orig_files)-1), 100)\n",
        "\n",
        "  destination = data_folder + \"/valid/\"\n",
        "  os.chdir(destination)\n",
        "  os.system('mkdir'+' '+str(folder_names[i]))\n",
        "  destination = destination + folder_names[i]\n",
        "  for j in range(0,100):\n",
        "    shutil.move(   source +\"/\" + str(   orig_files[   chosen_indexes[j]  ]   )  , destination)\n"
      ],
      "execution_count": 20,
      "outputs": []
    },
    {
      "cell_type": "code",
      "metadata": {
        "id": "W9fn2_KiRWKZ"
      },
      "source": [
        "####################################### Correcting the directory location ####################################################\n",
        "\n",
        "#data_dir = '/root/.keras/datasets/nature_12K'\n",
        "\n",
        "data_dir = data_dir.split('/')\n",
        "data_dir.remove('nature_12K')\n",
        "data_dir.append('inaturalist_12K')\n",
        "data_dir = '/'.join(data_dir)\n"
      ],
      "execution_count": 21,
      "outputs": []
    },
    {
      "cell_type": "code",
      "metadata": {
        "id": "pTM_1UNdRWHn"
      },
      "source": [
        "#-------------------------------------Taking the train data--------------------------------------------------------\n",
        "train_data_dir_path = data_dir + '/train'\n",
        "train_data_dir = pathlib.Path(train_data_dir_path)\n",
        "\n",
        "#--------------------------------------Taking the validation data-----------------------------------------------\n",
        "valid_data_dir_path = data_dir + '/valid'\n",
        "valid_data_dir = pathlib.Path(valid_data_dir_path)\n",
        "\n",
        "#----------------------------------------Taking the test data-----------------------------------------------\n",
        "test_data_dir_path = data_dir + '/test'\n",
        "test_data_dir = pathlib.Path(test_data_dir_path)"
      ],
      "execution_count": 22,
      "outputs": []
    },
    {
      "cell_type": "code",
      "metadata": {
        "id": "v9lMEAEfRbjO"
      },
      "source": [
        "#------------------------------------------Parameters for the images-------------------------------------------------\n",
        "batch_size = 32\n",
        "img_height = 180\n",
        "img_width = 180"
      ],
      "execution_count": 23,
      "outputs": []
    },
    {
      "cell_type": "code",
      "metadata": {
        "colab": {
          "base_uri": "https://localhost:8080/"
        },
        "id": "RDPv0DjeRbf_",
        "outputId": "4f333f95-124f-4899-9e64-21fa1c38e35e"
      },
      "source": [
        "####################################### converting the image data into dataset ############################################\n",
        "\n",
        "#-------------------------------------training dataset -----------------------------------------------------\n",
        "train_ds = tf.keras.preprocessing.image_dataset_from_directory(\n",
        "  train_data_dir,\n",
        "  seed=123,\n",
        "  image_size=(img_height, img_width),\n",
        "  batch_size=batch_size,\n",
        "  label_mode=\"categorical\"\n",
        "  )\n",
        "\n",
        "#----------------------------------------------validation dataset -----------------------------------------------\n",
        "val_ds = tf.keras.preprocessing.image_dataset_from_directory(\n",
        "  valid_data_dir,\n",
        "  seed=123,\n",
        "  image_size=(img_height, img_width),\n",
        "  batch_size=batch_size,\n",
        "  label_mode=\"categorical\"\n",
        "  )"
      ],
      "execution_count": 24,
      "outputs": [
        {
          "output_type": "stream",
          "text": [
            "Found 8999 files belonging to 10 classes.\n",
            "Found 1000 files belonging to 10 classes.\n"
          ],
          "name": "stdout"
        }
      ]
    },
    {
      "cell_type": "code",
      "metadata": {
        "id": "cpage8SfRbdu"
      },
      "source": [
        "######################################## function for using trained model ##########################################\n",
        "\n",
        "\n",
        "def get_desired_model(base_model, input_shape=(180,180,3), num_dense_neurons=512,activation=\"relu\",activation2=\"softmax\",dropout=None, pooling=\"max\",l_rate=0.0001): \n",
        "    \n",
        "    base = base_model(input_shape=input_shape,include_top=False,weights='imagenet') \n",
        "  \n",
        "  #--------------------------------------------- perform pooling ---------------------------------------------------\n",
        "    if pooling == \"avg\": \n",
        "        x = GlobalAveragePooling2D()(base.output) \n",
        "    elif pooling == \"max\": \n",
        "        x = GlobalMaxPooling2D()(base.output) \n",
        "\n",
        "  #--------------------------------------------- Flatten the output  ---------------------------------------------------\n",
        "\n",
        "    x = layers.Flatten()(base.output)\n",
        "\n",
        "\n",
        "  #--------------------------------------------- dropout -------------------------------------------------------\n",
        "    if dropout is not None: \n",
        "        x = Dropout(dropout)(x) \n",
        "\n",
        "  #----------------------------------------- add fully connected layer --------------------------------------------------\n",
        "    x = Dense(num_dense_neurons, activation=activation)(x) \n",
        "\n",
        "  #------------------------------------------- and a logistic layer -----------------------------------------------------\n",
        "    x = Dense(10, activation=activation2)(x) \n",
        "\n",
        "  #-------------------------------------------------- get model -----------------------------------------------------\n",
        "    model = Model(inputs=base.input, outputs=x) \n",
        "\n",
        "  #---------------------------------------------- setting the trainable layers --------------------------------------\n",
        "    for layer in base.layers:\n",
        "        layer.trainable = False\n",
        "\n",
        " #------------------------------------------compiling the model ----------------------------------------------------\n",
        "    model.compile(loss='categorical_crossentropy', metrics=[\"accuracy\"], optimizer=Adam(l_rate)) \n",
        "    \n",
        "  #--------------------------------------------return model --------------------------------------------------------\n",
        "    return model\n",
        "\n",
        "#=========================================== end of get_desired_model function =================================================="
      ],
      "execution_count": 51,
      "outputs": []
    },
    {
      "cell_type": "code",
      "metadata": {
        "colab": {
          "base_uri": "https://localhost:8080/"
        },
        "id": "tDkA7mu6RxFk",
        "outputId": "b650a4d4-b04e-432e-f53a-295c60874d46"
      },
      "source": [
        "#--------------------------------- using MobileNet model as base model -----------------------------------------------\n",
        "base_model=MobileNet\n",
        "\n",
        "\n",
        "\n",
        "#---------------------------------------- calling function get desired model -----------------------------------------\n",
        "model=get_desired_model(base_model, input_shape=(180,180,3), num_dense_neurons=512 ,activation=\"relu\", activation2=\"softmax\",dropout=None, pooling=\"max\",l_rate=0.0001)\n",
        "\n",
        "\n"
      ],
      "execution_count": 52,
      "outputs": [
        {
          "output_type": "stream",
          "text": [
            "WARNING:tensorflow:`input_shape` is undefined or non-square, or `rows` is not in [128, 160, 192, 224]. Weights for input shape (224, 224) will be loaded as the default.\n"
          ],
          "name": "stdout"
        }
      ]
    },
    {
      "cell_type": "code",
      "metadata": {
        "colab": {
          "base_uri": "https://localhost:8080/"
        },
        "id": "KrniEm-WUUG3",
        "outputId": "3ac091c4-9a63-40d7-de55-ce7dff687f07"
      },
      "source": [
        "#---------------------------------------- training -------------------------------------------------------------\n",
        "history = model.fit(train_ds, validation_data = val_ds, epochs = 5)"
      ],
      "execution_count": 53,
      "outputs": [
        {
          "output_type": "stream",
          "text": [
            "Epoch 1/5\n",
            "282/282 [==============================] - 363s 1s/step - loss: 2.6292 - accuracy: 0.2321 - val_loss: 1.9387 - val_accuracy: 0.3230\n",
            "Epoch 2/5\n",
            "282/282 [==============================] - 337s 1s/step - loss: 1.6318 - accuracy: 0.4360 - val_loss: 1.9143 - val_accuracy: 0.3300\n",
            "Epoch 3/5\n",
            "282/282 [==============================] - 358s 1s/step - loss: 1.3312 - accuracy: 0.5501 - val_loss: 1.9674 - val_accuracy: 0.3400\n",
            "Epoch 4/5\n",
            "282/282 [==============================] - 337s 1s/step - loss: 1.0690 - accuracy: 0.6479 - val_loss: 2.0211 - val_accuracy: 0.3360\n",
            "Epoch 5/5\n",
            "282/282 [==============================] - 349s 1s/step - loss: 0.8797 - accuracy: 0.7217 - val_loss: 2.2155 - val_accuracy: 0.3310\n"
          ],
          "name": "stdout"
        }
      ]
    }
  ]
}