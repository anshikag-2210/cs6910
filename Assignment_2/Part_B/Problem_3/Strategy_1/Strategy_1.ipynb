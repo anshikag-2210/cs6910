{
  "nbformat": 4,
  "nbformat_minor": 0,
  "metadata": {
    "colab": {
      "name": "Strategy_1.ipynb",
      "provenance": [],
      "collapsed_sections": []
    },
    "kernelspec": {
      "name": "python3",
      "display_name": "Python 3"
    },
    "language_info": {
      "name": "python"
    },
    "accelerator": "GPU",
    "widgets": {
      "application/vnd.jupyter.widget-state+json": {
        "ca0c1ab1fa214c1f8c989d15fec5f8f1": {
          "model_module": "@jupyter-widgets/controls",
          "model_name": "VBoxModel",
          "state": {
            "_view_name": "VBoxView",
            "_dom_classes": [],
            "_model_name": "VBoxModel",
            "_view_module": "@jupyter-widgets/controls",
            "_model_module_version": "1.5.0",
            "_view_count": null,
            "_view_module_version": "1.5.0",
            "box_style": "",
            "layout": "IPY_MODEL_638b8223b06e4305b4ba08972981a97c",
            "_model_module": "@jupyter-widgets/controls",
            "children": [
              "IPY_MODEL_c78c185e5b4347fa8b04bb7d47097ec4",
              "IPY_MODEL_5039215aabbb4bb68c4fa4dd1074904a"
            ]
          }
        },
        "638b8223b06e4305b4ba08972981a97c": {
          "model_module": "@jupyter-widgets/base",
          "model_name": "LayoutModel",
          "state": {
            "_view_name": "LayoutView",
            "grid_template_rows": null,
            "right": null,
            "justify_content": null,
            "_view_module": "@jupyter-widgets/base",
            "overflow": null,
            "_model_module_version": "1.2.0",
            "_view_count": null,
            "flex_flow": null,
            "width": null,
            "min_width": null,
            "border": null,
            "align_items": null,
            "bottom": null,
            "_model_module": "@jupyter-widgets/base",
            "top": null,
            "grid_column": null,
            "overflow_y": null,
            "overflow_x": null,
            "grid_auto_flow": null,
            "grid_area": null,
            "grid_template_columns": null,
            "flex": null,
            "_model_name": "LayoutModel",
            "justify_items": null,
            "grid_row": null,
            "max_height": null,
            "align_content": null,
            "visibility": null,
            "align_self": null,
            "height": null,
            "min_height": null,
            "padding": null,
            "grid_auto_rows": null,
            "grid_gap": null,
            "max_width": null,
            "order": null,
            "_view_module_version": "1.2.0",
            "grid_template_areas": null,
            "object_position": null,
            "object_fit": null,
            "grid_auto_columns": null,
            "margin": null,
            "display": null,
            "left": null
          }
        },
        "c78c185e5b4347fa8b04bb7d47097ec4": {
          "model_module": "@jupyter-widgets/controls",
          "model_name": "LabelModel",
          "state": {
            "_view_name": "LabelView",
            "style": "IPY_MODEL_7fc4d0d7ca5a4ac3a81824e0ab321313",
            "_dom_classes": [],
            "description": "",
            "_model_name": "LabelModel",
            "placeholder": "​",
            "_view_module": "@jupyter-widgets/controls",
            "_model_module_version": "1.5.0",
            "value": " 187.29MB of 187.29MB uploaded (0.00MB deduped)\r",
            "_view_count": null,
            "_view_module_version": "1.5.0",
            "description_tooltip": null,
            "_model_module": "@jupyter-widgets/controls",
            "layout": "IPY_MODEL_26397e0d88ab4bb7ac709d2db5a852bc"
          }
        },
        "5039215aabbb4bb68c4fa4dd1074904a": {
          "model_module": "@jupyter-widgets/controls",
          "model_name": "FloatProgressModel",
          "state": {
            "_view_name": "ProgressView",
            "style": "IPY_MODEL_99247753e1ea442dbceda095e8ac876f",
            "_dom_classes": [],
            "description": "",
            "_model_name": "FloatProgressModel",
            "bar_style": "",
            "max": 1,
            "_view_module": "@jupyter-widgets/controls",
            "_model_module_version": "1.5.0",
            "value": 1,
            "_view_count": null,
            "_view_module_version": "1.5.0",
            "orientation": "horizontal",
            "min": 0,
            "description_tooltip": null,
            "_model_module": "@jupyter-widgets/controls",
            "layout": "IPY_MODEL_c0a812cc9bfc47ef974cdb2f2ba45e34"
          }
        },
        "7fc4d0d7ca5a4ac3a81824e0ab321313": {
          "model_module": "@jupyter-widgets/controls",
          "model_name": "DescriptionStyleModel",
          "state": {
            "_view_name": "StyleView",
            "_model_name": "DescriptionStyleModel",
            "description_width": "",
            "_view_module": "@jupyter-widgets/base",
            "_model_module_version": "1.5.0",
            "_view_count": null,
            "_view_module_version": "1.2.0",
            "_model_module": "@jupyter-widgets/controls"
          }
        },
        "26397e0d88ab4bb7ac709d2db5a852bc": {
          "model_module": "@jupyter-widgets/base",
          "model_name": "LayoutModel",
          "state": {
            "_view_name": "LayoutView",
            "grid_template_rows": null,
            "right": null,
            "justify_content": null,
            "_view_module": "@jupyter-widgets/base",
            "overflow": null,
            "_model_module_version": "1.2.0",
            "_view_count": null,
            "flex_flow": null,
            "width": null,
            "min_width": null,
            "border": null,
            "align_items": null,
            "bottom": null,
            "_model_module": "@jupyter-widgets/base",
            "top": null,
            "grid_column": null,
            "overflow_y": null,
            "overflow_x": null,
            "grid_auto_flow": null,
            "grid_area": null,
            "grid_template_columns": null,
            "flex": null,
            "_model_name": "LayoutModel",
            "justify_items": null,
            "grid_row": null,
            "max_height": null,
            "align_content": null,
            "visibility": null,
            "align_self": null,
            "height": null,
            "min_height": null,
            "padding": null,
            "grid_auto_rows": null,
            "grid_gap": null,
            "max_width": null,
            "order": null,
            "_view_module_version": "1.2.0",
            "grid_template_areas": null,
            "object_position": null,
            "object_fit": null,
            "grid_auto_columns": null,
            "margin": null,
            "display": null,
            "left": null
          }
        },
        "99247753e1ea442dbceda095e8ac876f": {
          "model_module": "@jupyter-widgets/controls",
          "model_name": "ProgressStyleModel",
          "state": {
            "_view_name": "StyleView",
            "_model_name": "ProgressStyleModel",
            "description_width": "",
            "_view_module": "@jupyter-widgets/base",
            "_model_module_version": "1.5.0",
            "_view_count": null,
            "_view_module_version": "1.2.0",
            "bar_color": null,
            "_model_module": "@jupyter-widgets/controls"
          }
        },
        "c0a812cc9bfc47ef974cdb2f2ba45e34": {
          "model_module": "@jupyter-widgets/base",
          "model_name": "LayoutModel",
          "state": {
            "_view_name": "LayoutView",
            "grid_template_rows": null,
            "right": null,
            "justify_content": null,
            "_view_module": "@jupyter-widgets/base",
            "overflow": null,
            "_model_module_version": "1.2.0",
            "_view_count": null,
            "flex_flow": null,
            "width": null,
            "min_width": null,
            "border": null,
            "align_items": null,
            "bottom": null,
            "_model_module": "@jupyter-widgets/base",
            "top": null,
            "grid_column": null,
            "overflow_y": null,
            "overflow_x": null,
            "grid_auto_flow": null,
            "grid_area": null,
            "grid_template_columns": null,
            "flex": null,
            "_model_name": "LayoutModel",
            "justify_items": null,
            "grid_row": null,
            "max_height": null,
            "align_content": null,
            "visibility": null,
            "align_self": null,
            "height": null,
            "min_height": null,
            "padding": null,
            "grid_auto_rows": null,
            "grid_gap": null,
            "max_width": null,
            "order": null,
            "_view_module_version": "1.2.0",
            "grid_template_areas": null,
            "object_position": null,
            "object_fit": null,
            "grid_auto_columns": null,
            "margin": null,
            "display": null,
            "left": null
          }
        },
        "8b17f18d94ce40bb8b1ec506401f251d": {
          "model_module": "@jupyter-widgets/controls",
          "model_name": "VBoxModel",
          "state": {
            "_view_name": "VBoxView",
            "_dom_classes": [],
            "_model_name": "VBoxModel",
            "_view_module": "@jupyter-widgets/controls",
            "_model_module_version": "1.5.0",
            "_view_count": null,
            "_view_module_version": "1.5.0",
            "box_style": "",
            "layout": "IPY_MODEL_d95fbe11977540b5a362ff7d4222a98c",
            "_model_module": "@jupyter-widgets/controls",
            "children": [
              "IPY_MODEL_6851be9205b04e13980cfde76527c5fc",
              "IPY_MODEL_fcb30da36d8440daa0807aaa99c13028"
            ]
          }
        },
        "d95fbe11977540b5a362ff7d4222a98c": {
          "model_module": "@jupyter-widgets/base",
          "model_name": "LayoutModel",
          "state": {
            "_view_name": "LayoutView",
            "grid_template_rows": null,
            "right": null,
            "justify_content": null,
            "_view_module": "@jupyter-widgets/base",
            "overflow": null,
            "_model_module_version": "1.2.0",
            "_view_count": null,
            "flex_flow": null,
            "width": null,
            "min_width": null,
            "border": null,
            "align_items": null,
            "bottom": null,
            "_model_module": "@jupyter-widgets/base",
            "top": null,
            "grid_column": null,
            "overflow_y": null,
            "overflow_x": null,
            "grid_auto_flow": null,
            "grid_area": null,
            "grid_template_columns": null,
            "flex": null,
            "_model_name": "LayoutModel",
            "justify_items": null,
            "grid_row": null,
            "max_height": null,
            "align_content": null,
            "visibility": null,
            "align_self": null,
            "height": null,
            "min_height": null,
            "padding": null,
            "grid_auto_rows": null,
            "grid_gap": null,
            "max_width": null,
            "order": null,
            "_view_module_version": "1.2.0",
            "grid_template_areas": null,
            "object_position": null,
            "object_fit": null,
            "grid_auto_columns": null,
            "margin": null,
            "display": null,
            "left": null
          }
        },
        "6851be9205b04e13980cfde76527c5fc": {
          "model_module": "@jupyter-widgets/controls",
          "model_name": "LabelModel",
          "state": {
            "_view_name": "LabelView",
            "style": "IPY_MODEL_8b9f72173a9949869f7c6e38509c9ee8",
            "_dom_classes": [],
            "description": "",
            "_model_name": "LabelModel",
            "placeholder": "​",
            "_view_module": "@jupyter-widgets/controls",
            "_model_module_version": "1.5.0",
            "value": " 1126.14MB of 1126.14MB uploaded (0.00MB deduped)\r",
            "_view_count": null,
            "_view_module_version": "1.5.0",
            "description_tooltip": null,
            "_model_module": "@jupyter-widgets/controls",
            "layout": "IPY_MODEL_66d7f83299574ddb818af72a4a8fe062"
          }
        },
        "fcb30da36d8440daa0807aaa99c13028": {
          "model_module": "@jupyter-widgets/controls",
          "model_name": "FloatProgressModel",
          "state": {
            "_view_name": "ProgressView",
            "style": "IPY_MODEL_38e1de0d77a44807b0f0843ace29a4a4",
            "_dom_classes": [],
            "description": "",
            "_model_name": "FloatProgressModel",
            "bar_style": "",
            "max": 1,
            "_view_module": "@jupyter-widgets/controls",
            "_model_module_version": "1.5.0",
            "value": 1,
            "_view_count": null,
            "_view_module_version": "1.5.0",
            "orientation": "horizontal",
            "min": 0,
            "description_tooltip": null,
            "_model_module": "@jupyter-widgets/controls",
            "layout": "IPY_MODEL_893d2e9d8ee84c438473623d1fc1ce7a"
          }
        },
        "8b9f72173a9949869f7c6e38509c9ee8": {
          "model_module": "@jupyter-widgets/controls",
          "model_name": "DescriptionStyleModel",
          "state": {
            "_view_name": "StyleView",
            "_model_name": "DescriptionStyleModel",
            "description_width": "",
            "_view_module": "@jupyter-widgets/base",
            "_model_module_version": "1.5.0",
            "_view_count": null,
            "_view_module_version": "1.2.0",
            "_model_module": "@jupyter-widgets/controls"
          }
        },
        "66d7f83299574ddb818af72a4a8fe062": {
          "model_module": "@jupyter-widgets/base",
          "model_name": "LayoutModel",
          "state": {
            "_view_name": "LayoutView",
            "grid_template_rows": null,
            "right": null,
            "justify_content": null,
            "_view_module": "@jupyter-widgets/base",
            "overflow": null,
            "_model_module_version": "1.2.0",
            "_view_count": null,
            "flex_flow": null,
            "width": null,
            "min_width": null,
            "border": null,
            "align_items": null,
            "bottom": null,
            "_model_module": "@jupyter-widgets/base",
            "top": null,
            "grid_column": null,
            "overflow_y": null,
            "overflow_x": null,
            "grid_auto_flow": null,
            "grid_area": null,
            "grid_template_columns": null,
            "flex": null,
            "_model_name": "LayoutModel",
            "justify_items": null,
            "grid_row": null,
            "max_height": null,
            "align_content": null,
            "visibility": null,
            "align_self": null,
            "height": null,
            "min_height": null,
            "padding": null,
            "grid_auto_rows": null,
            "grid_gap": null,
            "max_width": null,
            "order": null,
            "_view_module_version": "1.2.0",
            "grid_template_areas": null,
            "object_position": null,
            "object_fit": null,
            "grid_auto_columns": null,
            "margin": null,
            "display": null,
            "left": null
          }
        },
        "38e1de0d77a44807b0f0843ace29a4a4": {
          "model_module": "@jupyter-widgets/controls",
          "model_name": "ProgressStyleModel",
          "state": {
            "_view_name": "StyleView",
            "_model_name": "ProgressStyleModel",
            "description_width": "",
            "_view_module": "@jupyter-widgets/base",
            "_model_module_version": "1.5.0",
            "_view_count": null,
            "_view_module_version": "1.2.0",
            "bar_color": null,
            "_model_module": "@jupyter-widgets/controls"
          }
        },
        "893d2e9d8ee84c438473623d1fc1ce7a": {
          "model_module": "@jupyter-widgets/base",
          "model_name": "LayoutModel",
          "state": {
            "_view_name": "LayoutView",
            "grid_template_rows": null,
            "right": null,
            "justify_content": null,
            "_view_module": "@jupyter-widgets/base",
            "overflow": null,
            "_model_module_version": "1.2.0",
            "_view_count": null,
            "flex_flow": null,
            "width": null,
            "min_width": null,
            "border": null,
            "align_items": null,
            "bottom": null,
            "_model_module": "@jupyter-widgets/base",
            "top": null,
            "grid_column": null,
            "overflow_y": null,
            "overflow_x": null,
            "grid_auto_flow": null,
            "grid_area": null,
            "grid_template_columns": null,
            "flex": null,
            "_model_name": "LayoutModel",
            "justify_items": null,
            "grid_row": null,
            "max_height": null,
            "align_content": null,
            "visibility": null,
            "align_self": null,
            "height": null,
            "min_height": null,
            "padding": null,
            "grid_auto_rows": null,
            "grid_gap": null,
            "max_width": null,
            "order": null,
            "_view_module_version": "1.2.0",
            "grid_template_areas": null,
            "object_position": null,
            "object_fit": null,
            "grid_auto_columns": null,
            "margin": null,
            "display": null,
            "left": null
          }
        },
        "c6ce743a04a24cfca44941393f69f3c8": {
          "model_module": "@jupyter-widgets/controls",
          "model_name": "VBoxModel",
          "state": {
            "_view_name": "VBoxView",
            "_dom_classes": [],
            "_model_name": "VBoxModel",
            "_view_module": "@jupyter-widgets/controls",
            "_model_module_version": "1.5.0",
            "_view_count": null,
            "_view_module_version": "1.5.0",
            "box_style": "",
            "layout": "IPY_MODEL_5e4ac7f56b364b77bd10f0b8bdfa7dbd",
            "_model_module": "@jupyter-widgets/controls",
            "children": [
              "IPY_MODEL_7500e636531949d3b96c9f53f2f6de8a",
              "IPY_MODEL_304debbf8a37423fa9f6c119be9c2e96"
            ]
          }
        },
        "5e4ac7f56b364b77bd10f0b8bdfa7dbd": {
          "model_module": "@jupyter-widgets/base",
          "model_name": "LayoutModel",
          "state": {
            "_view_name": "LayoutView",
            "grid_template_rows": null,
            "right": null,
            "justify_content": null,
            "_view_module": "@jupyter-widgets/base",
            "overflow": null,
            "_model_module_version": "1.2.0",
            "_view_count": null,
            "flex_flow": null,
            "width": null,
            "min_width": null,
            "border": null,
            "align_items": null,
            "bottom": null,
            "_model_module": "@jupyter-widgets/base",
            "top": null,
            "grid_column": null,
            "overflow_y": null,
            "overflow_x": null,
            "grid_auto_flow": null,
            "grid_area": null,
            "grid_template_columns": null,
            "flex": null,
            "_model_name": "LayoutModel",
            "justify_items": null,
            "grid_row": null,
            "max_height": null,
            "align_content": null,
            "visibility": null,
            "align_self": null,
            "height": null,
            "min_height": null,
            "padding": null,
            "grid_auto_rows": null,
            "grid_gap": null,
            "max_width": null,
            "order": null,
            "_view_module_version": "1.2.0",
            "grid_template_areas": null,
            "object_position": null,
            "object_fit": null,
            "grid_auto_columns": null,
            "margin": null,
            "display": null,
            "left": null
          }
        },
        "7500e636531949d3b96c9f53f2f6de8a": {
          "model_module": "@jupyter-widgets/controls",
          "model_name": "LabelModel",
          "state": {
            "_view_name": "LabelView",
            "style": "IPY_MODEL_5f9cc78ab8934ea29e0796e790754084",
            "_dom_classes": [],
            "description": "",
            "_model_name": "LabelModel",
            "placeholder": "​",
            "_view_module": "@jupyter-widgets/controls",
            "_model_module_version": "1.5.0",
            "value": " 630.93MB of 630.93MB uploaded (0.00MB deduped)\r",
            "_view_count": null,
            "_view_module_version": "1.5.0",
            "description_tooltip": null,
            "_model_module": "@jupyter-widgets/controls",
            "layout": "IPY_MODEL_89386da1531c4d5dacf11bd14469823d"
          }
        },
        "304debbf8a37423fa9f6c119be9c2e96": {
          "model_module": "@jupyter-widgets/controls",
          "model_name": "FloatProgressModel",
          "state": {
            "_view_name": "ProgressView",
            "style": "IPY_MODEL_89680691f7f84ca68693c75c0992ec5c",
            "_dom_classes": [],
            "description": "",
            "_model_name": "FloatProgressModel",
            "bar_style": "",
            "max": 1,
            "_view_module": "@jupyter-widgets/controls",
            "_model_module_version": "1.5.0",
            "value": 1,
            "_view_count": null,
            "_view_module_version": "1.5.0",
            "orientation": "horizontal",
            "min": 0,
            "description_tooltip": null,
            "_model_module": "@jupyter-widgets/controls",
            "layout": "IPY_MODEL_9fa0bbfbd11342ea8c862a32a3c9c012"
          }
        },
        "5f9cc78ab8934ea29e0796e790754084": {
          "model_module": "@jupyter-widgets/controls",
          "model_name": "DescriptionStyleModel",
          "state": {
            "_view_name": "StyleView",
            "_model_name": "DescriptionStyleModel",
            "description_width": "",
            "_view_module": "@jupyter-widgets/base",
            "_model_module_version": "1.5.0",
            "_view_count": null,
            "_view_module_version": "1.2.0",
            "_model_module": "@jupyter-widgets/controls"
          }
        },
        "89386da1531c4d5dacf11bd14469823d": {
          "model_module": "@jupyter-widgets/base",
          "model_name": "LayoutModel",
          "state": {
            "_view_name": "LayoutView",
            "grid_template_rows": null,
            "right": null,
            "justify_content": null,
            "_view_module": "@jupyter-widgets/base",
            "overflow": null,
            "_model_module_version": "1.2.0",
            "_view_count": null,
            "flex_flow": null,
            "width": null,
            "min_width": null,
            "border": null,
            "align_items": null,
            "bottom": null,
            "_model_module": "@jupyter-widgets/base",
            "top": null,
            "grid_column": null,
            "overflow_y": null,
            "overflow_x": null,
            "grid_auto_flow": null,
            "grid_area": null,
            "grid_template_columns": null,
            "flex": null,
            "_model_name": "LayoutModel",
            "justify_items": null,
            "grid_row": null,
            "max_height": null,
            "align_content": null,
            "visibility": null,
            "align_self": null,
            "height": null,
            "min_height": null,
            "padding": null,
            "grid_auto_rows": null,
            "grid_gap": null,
            "max_width": null,
            "order": null,
            "_view_module_version": "1.2.0",
            "grid_template_areas": null,
            "object_position": null,
            "object_fit": null,
            "grid_auto_columns": null,
            "margin": null,
            "display": null,
            "left": null
          }
        },
        "89680691f7f84ca68693c75c0992ec5c": {
          "model_module": "@jupyter-widgets/controls",
          "model_name": "ProgressStyleModel",
          "state": {
            "_view_name": "StyleView",
            "_model_name": "ProgressStyleModel",
            "description_width": "",
            "_view_module": "@jupyter-widgets/base",
            "_model_module_version": "1.5.0",
            "_view_count": null,
            "_view_module_version": "1.2.0",
            "bar_color": null,
            "_model_module": "@jupyter-widgets/controls"
          }
        },
        "9fa0bbfbd11342ea8c862a32a3c9c012": {
          "model_module": "@jupyter-widgets/base",
          "model_name": "LayoutModel",
          "state": {
            "_view_name": "LayoutView",
            "grid_template_rows": null,
            "right": null,
            "justify_content": null,
            "_view_module": "@jupyter-widgets/base",
            "overflow": null,
            "_model_module_version": "1.2.0",
            "_view_count": null,
            "flex_flow": null,
            "width": null,
            "min_width": null,
            "border": null,
            "align_items": null,
            "bottom": null,
            "_model_module": "@jupyter-widgets/base",
            "top": null,
            "grid_column": null,
            "overflow_y": null,
            "overflow_x": null,
            "grid_auto_flow": null,
            "grid_area": null,
            "grid_template_columns": null,
            "flex": null,
            "_model_name": "LayoutModel",
            "justify_items": null,
            "grid_row": null,
            "max_height": null,
            "align_content": null,
            "visibility": null,
            "align_self": null,
            "height": null,
            "min_height": null,
            "padding": null,
            "grid_auto_rows": null,
            "grid_gap": null,
            "max_width": null,
            "order": null,
            "_view_module_version": "1.2.0",
            "grid_template_areas": null,
            "object_position": null,
            "object_fit": null,
            "grid_auto_columns": null,
            "margin": null,
            "display": null,
            "left": null
          }
        },
        "fe09439c6e5f4a06addb82193b2a2a7e": {
          "model_module": "@jupyter-widgets/controls",
          "model_name": "VBoxModel",
          "state": {
            "_view_name": "VBoxView",
            "_dom_classes": [],
            "_model_name": "VBoxModel",
            "_view_module": "@jupyter-widgets/controls",
            "_model_module_version": "1.5.0",
            "_view_count": null,
            "_view_module_version": "1.5.0",
            "box_style": "",
            "layout": "IPY_MODEL_95d00048021e4d5d8691cc8e941ca048",
            "_model_module": "@jupyter-widgets/controls",
            "children": [
              "IPY_MODEL_084ce5a9d4f14dc38f4b6db2df7d365f",
              "IPY_MODEL_042bbd2e4c3a459a8197182a8799068f"
            ]
          }
        },
        "95d00048021e4d5d8691cc8e941ca048": {
          "model_module": "@jupyter-widgets/base",
          "model_name": "LayoutModel",
          "state": {
            "_view_name": "LayoutView",
            "grid_template_rows": null,
            "right": null,
            "justify_content": null,
            "_view_module": "@jupyter-widgets/base",
            "overflow": null,
            "_model_module_version": "1.2.0",
            "_view_count": null,
            "flex_flow": null,
            "width": null,
            "min_width": null,
            "border": null,
            "align_items": null,
            "bottom": null,
            "_model_module": "@jupyter-widgets/base",
            "top": null,
            "grid_column": null,
            "overflow_y": null,
            "overflow_x": null,
            "grid_auto_flow": null,
            "grid_area": null,
            "grid_template_columns": null,
            "flex": null,
            "_model_name": "LayoutModel",
            "justify_items": null,
            "grid_row": null,
            "max_height": null,
            "align_content": null,
            "visibility": null,
            "align_self": null,
            "height": null,
            "min_height": null,
            "padding": null,
            "grid_auto_rows": null,
            "grid_gap": null,
            "max_width": null,
            "order": null,
            "_view_module_version": "1.2.0",
            "grid_template_areas": null,
            "object_position": null,
            "object_fit": null,
            "grid_auto_columns": null,
            "margin": null,
            "display": null,
            "left": null
          }
        },
        "084ce5a9d4f14dc38f4b6db2df7d365f": {
          "model_module": "@jupyter-widgets/controls",
          "model_name": "LabelModel",
          "state": {
            "_view_name": "LabelView",
            "style": "IPY_MODEL_f410fbf03a5b4a99823b10bc9d5166f3",
            "_dom_classes": [],
            "description": "",
            "_model_name": "LabelModel",
            "placeholder": "​",
            "_view_module": "@jupyter-widgets/controls",
            "_model_module_version": "1.5.0",
            "value": " 187.29MB of 187.29MB uploaded (0.00MB deduped)\r",
            "_view_count": null,
            "_view_module_version": "1.5.0",
            "description_tooltip": null,
            "_model_module": "@jupyter-widgets/controls",
            "layout": "IPY_MODEL_0d0284299be24beda39296b86f325c53"
          }
        },
        "042bbd2e4c3a459a8197182a8799068f": {
          "model_module": "@jupyter-widgets/controls",
          "model_name": "FloatProgressModel",
          "state": {
            "_view_name": "ProgressView",
            "style": "IPY_MODEL_f205c8e3f0a545eb813d7e33e116ff1f",
            "_dom_classes": [],
            "description": "",
            "_model_name": "FloatProgressModel",
            "bar_style": "",
            "max": 1,
            "_view_module": "@jupyter-widgets/controls",
            "_model_module_version": "1.5.0",
            "value": 1,
            "_view_count": null,
            "_view_module_version": "1.5.0",
            "orientation": "horizontal",
            "min": 0,
            "description_tooltip": null,
            "_model_module": "@jupyter-widgets/controls",
            "layout": "IPY_MODEL_6d264f849ef240e98776ebe4322ea57f"
          }
        },
        "f410fbf03a5b4a99823b10bc9d5166f3": {
          "model_module": "@jupyter-widgets/controls",
          "model_name": "DescriptionStyleModel",
          "state": {
            "_view_name": "StyleView",
            "_model_name": "DescriptionStyleModel",
            "description_width": "",
            "_view_module": "@jupyter-widgets/base",
            "_model_module_version": "1.5.0",
            "_view_count": null,
            "_view_module_version": "1.2.0",
            "_model_module": "@jupyter-widgets/controls"
          }
        },
        "0d0284299be24beda39296b86f325c53": {
          "model_module": "@jupyter-widgets/base",
          "model_name": "LayoutModel",
          "state": {
            "_view_name": "LayoutView",
            "grid_template_rows": null,
            "right": null,
            "justify_content": null,
            "_view_module": "@jupyter-widgets/base",
            "overflow": null,
            "_model_module_version": "1.2.0",
            "_view_count": null,
            "flex_flow": null,
            "width": null,
            "min_width": null,
            "border": null,
            "align_items": null,
            "bottom": null,
            "_model_module": "@jupyter-widgets/base",
            "top": null,
            "grid_column": null,
            "overflow_y": null,
            "overflow_x": null,
            "grid_auto_flow": null,
            "grid_area": null,
            "grid_template_columns": null,
            "flex": null,
            "_model_name": "LayoutModel",
            "justify_items": null,
            "grid_row": null,
            "max_height": null,
            "align_content": null,
            "visibility": null,
            "align_self": null,
            "height": null,
            "min_height": null,
            "padding": null,
            "grid_auto_rows": null,
            "grid_gap": null,
            "max_width": null,
            "order": null,
            "_view_module_version": "1.2.0",
            "grid_template_areas": null,
            "object_position": null,
            "object_fit": null,
            "grid_auto_columns": null,
            "margin": null,
            "display": null,
            "left": null
          }
        },
        "f205c8e3f0a545eb813d7e33e116ff1f": {
          "model_module": "@jupyter-widgets/controls",
          "model_name": "ProgressStyleModel",
          "state": {
            "_view_name": "StyleView",
            "_model_name": "ProgressStyleModel",
            "description_width": "",
            "_view_module": "@jupyter-widgets/base",
            "_model_module_version": "1.5.0",
            "_view_count": null,
            "_view_module_version": "1.2.0",
            "bar_color": null,
            "_model_module": "@jupyter-widgets/controls"
          }
        },
        "6d264f849ef240e98776ebe4322ea57f": {
          "model_module": "@jupyter-widgets/base",
          "model_name": "LayoutModel",
          "state": {
            "_view_name": "LayoutView",
            "grid_template_rows": null,
            "right": null,
            "justify_content": null,
            "_view_module": "@jupyter-widgets/base",
            "overflow": null,
            "_model_module_version": "1.2.0",
            "_view_count": null,
            "flex_flow": null,
            "width": null,
            "min_width": null,
            "border": null,
            "align_items": null,
            "bottom": null,
            "_model_module": "@jupyter-widgets/base",
            "top": null,
            "grid_column": null,
            "overflow_y": null,
            "overflow_x": null,
            "grid_auto_flow": null,
            "grid_area": null,
            "grid_template_columns": null,
            "flex": null,
            "_model_name": "LayoutModel",
            "justify_items": null,
            "grid_row": null,
            "max_height": null,
            "align_content": null,
            "visibility": null,
            "align_self": null,
            "height": null,
            "min_height": null,
            "padding": null,
            "grid_auto_rows": null,
            "grid_gap": null,
            "max_width": null,
            "order": null,
            "_view_module_version": "1.2.0",
            "grid_template_areas": null,
            "object_position": null,
            "object_fit": null,
            "grid_auto_columns": null,
            "margin": null,
            "display": null,
            "left": null
          }
        },
        "4622fe3a984c4eb192ed2120386c70aa": {
          "model_module": "@jupyter-widgets/controls",
          "model_name": "VBoxModel",
          "state": {
            "_view_name": "VBoxView",
            "_dom_classes": [],
            "_model_name": "VBoxModel",
            "_view_module": "@jupyter-widgets/controls",
            "_model_module_version": "1.5.0",
            "_view_count": null,
            "_view_module_version": "1.5.0",
            "box_style": "",
            "layout": "IPY_MODEL_11b5536cc82749d38092f6ea61786a2d",
            "_model_module": "@jupyter-widgets/controls",
            "children": [
              "IPY_MODEL_6ab6350e1acb4e0988b896abf9321588",
              "IPY_MODEL_ecdd16e4b57349f7b44f517e400e1569"
            ]
          }
        },
        "11b5536cc82749d38092f6ea61786a2d": {
          "model_module": "@jupyter-widgets/base",
          "model_name": "LayoutModel",
          "state": {
            "_view_name": "LayoutView",
            "grid_template_rows": null,
            "right": null,
            "justify_content": null,
            "_view_module": "@jupyter-widgets/base",
            "overflow": null,
            "_model_module_version": "1.2.0",
            "_view_count": null,
            "flex_flow": null,
            "width": null,
            "min_width": null,
            "border": null,
            "align_items": null,
            "bottom": null,
            "_model_module": "@jupyter-widgets/base",
            "top": null,
            "grid_column": null,
            "overflow_y": null,
            "overflow_x": null,
            "grid_auto_flow": null,
            "grid_area": null,
            "grid_template_columns": null,
            "flex": null,
            "_model_name": "LayoutModel",
            "justify_items": null,
            "grid_row": null,
            "max_height": null,
            "align_content": null,
            "visibility": null,
            "align_self": null,
            "height": null,
            "min_height": null,
            "padding": null,
            "grid_auto_rows": null,
            "grid_gap": null,
            "max_width": null,
            "order": null,
            "_view_module_version": "1.2.0",
            "grid_template_areas": null,
            "object_position": null,
            "object_fit": null,
            "grid_auto_columns": null,
            "margin": null,
            "display": null,
            "left": null
          }
        },
        "6ab6350e1acb4e0988b896abf9321588": {
          "model_module": "@jupyter-widgets/controls",
          "model_name": "LabelModel",
          "state": {
            "_view_name": "LabelView",
            "style": "IPY_MODEL_80cf4295ba894af29b328e4968f6a7e6",
            "_dom_classes": [],
            "description": "",
            "_model_name": "LabelModel",
            "placeholder": "​",
            "_view_module": "@jupyter-widgets/controls",
            "_model_module_version": "1.5.0",
            "value": " 1094.62MB of 1094.62MB uploaded (0.00MB deduped)\r",
            "_view_count": null,
            "_view_module_version": "1.5.0",
            "description_tooltip": null,
            "_model_module": "@jupyter-widgets/controls",
            "layout": "IPY_MODEL_ed64a516854e4fb6a215f3dc418c1a2a"
          }
        },
        "ecdd16e4b57349f7b44f517e400e1569": {
          "model_module": "@jupyter-widgets/controls",
          "model_name": "FloatProgressModel",
          "state": {
            "_view_name": "ProgressView",
            "style": "IPY_MODEL_0ce73ef52e6a4d3d9263b693d218257b",
            "_dom_classes": [],
            "description": "",
            "_model_name": "FloatProgressModel",
            "bar_style": "",
            "max": 1,
            "_view_module": "@jupyter-widgets/controls",
            "_model_module_version": "1.5.0",
            "value": 1,
            "_view_count": null,
            "_view_module_version": "1.5.0",
            "orientation": "horizontal",
            "min": 0,
            "description_tooltip": null,
            "_model_module": "@jupyter-widgets/controls",
            "layout": "IPY_MODEL_c8dbb5387e0e4f6b944559fe9087ff9d"
          }
        },
        "80cf4295ba894af29b328e4968f6a7e6": {
          "model_module": "@jupyter-widgets/controls",
          "model_name": "DescriptionStyleModel",
          "state": {
            "_view_name": "StyleView",
            "_model_name": "DescriptionStyleModel",
            "description_width": "",
            "_view_module": "@jupyter-widgets/base",
            "_model_module_version": "1.5.0",
            "_view_count": null,
            "_view_module_version": "1.2.0",
            "_model_module": "@jupyter-widgets/controls"
          }
        },
        "ed64a516854e4fb6a215f3dc418c1a2a": {
          "model_module": "@jupyter-widgets/base",
          "model_name": "LayoutModel",
          "state": {
            "_view_name": "LayoutView",
            "grid_template_rows": null,
            "right": null,
            "justify_content": null,
            "_view_module": "@jupyter-widgets/base",
            "overflow": null,
            "_model_module_version": "1.2.0",
            "_view_count": null,
            "flex_flow": null,
            "width": null,
            "min_width": null,
            "border": null,
            "align_items": null,
            "bottom": null,
            "_model_module": "@jupyter-widgets/base",
            "top": null,
            "grid_column": null,
            "overflow_y": null,
            "overflow_x": null,
            "grid_auto_flow": null,
            "grid_area": null,
            "grid_template_columns": null,
            "flex": null,
            "_model_name": "LayoutModel",
            "justify_items": null,
            "grid_row": null,
            "max_height": null,
            "align_content": null,
            "visibility": null,
            "align_self": null,
            "height": null,
            "min_height": null,
            "padding": null,
            "grid_auto_rows": null,
            "grid_gap": null,
            "max_width": null,
            "order": null,
            "_view_module_version": "1.2.0",
            "grid_template_areas": null,
            "object_position": null,
            "object_fit": null,
            "grid_auto_columns": null,
            "margin": null,
            "display": null,
            "left": null
          }
        },
        "0ce73ef52e6a4d3d9263b693d218257b": {
          "model_module": "@jupyter-widgets/controls",
          "model_name": "ProgressStyleModel",
          "state": {
            "_view_name": "StyleView",
            "_model_name": "ProgressStyleModel",
            "description_width": "",
            "_view_module": "@jupyter-widgets/base",
            "_model_module_version": "1.5.0",
            "_view_count": null,
            "_view_module_version": "1.2.0",
            "bar_color": null,
            "_model_module": "@jupyter-widgets/controls"
          }
        },
        "c8dbb5387e0e4f6b944559fe9087ff9d": {
          "model_module": "@jupyter-widgets/base",
          "model_name": "LayoutModel",
          "state": {
            "_view_name": "LayoutView",
            "grid_template_rows": null,
            "right": null,
            "justify_content": null,
            "_view_module": "@jupyter-widgets/base",
            "overflow": null,
            "_model_module_version": "1.2.0",
            "_view_count": null,
            "flex_flow": null,
            "width": null,
            "min_width": null,
            "border": null,
            "align_items": null,
            "bottom": null,
            "_model_module": "@jupyter-widgets/base",
            "top": null,
            "grid_column": null,
            "overflow_y": null,
            "overflow_x": null,
            "grid_auto_flow": null,
            "grid_area": null,
            "grid_template_columns": null,
            "flex": null,
            "_model_name": "LayoutModel",
            "justify_items": null,
            "grid_row": null,
            "max_height": null,
            "align_content": null,
            "visibility": null,
            "align_self": null,
            "height": null,
            "min_height": null,
            "padding": null,
            "grid_auto_rows": null,
            "grid_gap": null,
            "max_width": null,
            "order": null,
            "_view_module_version": "1.2.0",
            "grid_template_areas": null,
            "object_position": null,
            "object_fit": null,
            "grid_auto_columns": null,
            "margin": null,
            "display": null,
            "left": null
          }
        },
        "22ad0d1aa50a4c2c938c5ce5803806c3": {
          "model_module": "@jupyter-widgets/controls",
          "model_name": "VBoxModel",
          "state": {
            "_view_name": "VBoxView",
            "_dom_classes": [],
            "_model_name": "VBoxModel",
            "_view_module": "@jupyter-widgets/controls",
            "_model_module_version": "1.5.0",
            "_view_count": null,
            "_view_module_version": "1.5.0",
            "box_style": "",
            "layout": "IPY_MODEL_f426a5f267d640c59e7f0f2d20bc51aa",
            "_model_module": "@jupyter-widgets/controls",
            "children": [
              "IPY_MODEL_98f053484bf944b389a2df2854726077",
              "IPY_MODEL_bef48a1ae7cc4e0d856765d23b7a73eb"
            ]
          }
        },
        "f426a5f267d640c59e7f0f2d20bc51aa": {
          "model_module": "@jupyter-widgets/base",
          "model_name": "LayoutModel",
          "state": {
            "_view_name": "LayoutView",
            "grid_template_rows": null,
            "right": null,
            "justify_content": null,
            "_view_module": "@jupyter-widgets/base",
            "overflow": null,
            "_model_module_version": "1.2.0",
            "_view_count": null,
            "flex_flow": null,
            "width": null,
            "min_width": null,
            "border": null,
            "align_items": null,
            "bottom": null,
            "_model_module": "@jupyter-widgets/base",
            "top": null,
            "grid_column": null,
            "overflow_y": null,
            "overflow_x": null,
            "grid_auto_flow": null,
            "grid_area": null,
            "grid_template_columns": null,
            "flex": null,
            "_model_name": "LayoutModel",
            "justify_items": null,
            "grid_row": null,
            "max_height": null,
            "align_content": null,
            "visibility": null,
            "align_self": null,
            "height": null,
            "min_height": null,
            "padding": null,
            "grid_auto_rows": null,
            "grid_gap": null,
            "max_width": null,
            "order": null,
            "_view_module_version": "1.2.0",
            "grid_template_areas": null,
            "object_position": null,
            "object_fit": null,
            "grid_auto_columns": null,
            "margin": null,
            "display": null,
            "left": null
          }
        },
        "98f053484bf944b389a2df2854726077": {
          "model_module": "@jupyter-widgets/controls",
          "model_name": "LabelModel",
          "state": {
            "_view_name": "LabelView",
            "style": "IPY_MODEL_60c05a6212954b8fb9df90c7009e6096",
            "_dom_classes": [],
            "description": "",
            "_model_name": "LabelModel",
            "placeholder": "​",
            "_view_module": "@jupyter-widgets/controls",
            "_model_module_version": "1.5.0",
            "value": " 187.29MB of 187.29MB uploaded (0.00MB deduped)\r",
            "_view_count": null,
            "_view_module_version": "1.5.0",
            "description_tooltip": null,
            "_model_module": "@jupyter-widgets/controls",
            "layout": "IPY_MODEL_a0758ca50ed14b26a90c5df1caa925d8"
          }
        },
        "bef48a1ae7cc4e0d856765d23b7a73eb": {
          "model_module": "@jupyter-widgets/controls",
          "model_name": "FloatProgressModel",
          "state": {
            "_view_name": "ProgressView",
            "style": "IPY_MODEL_5135b1760cb6499d8ddb909c6a231108",
            "_dom_classes": [],
            "description": "",
            "_model_name": "FloatProgressModel",
            "bar_style": "",
            "max": 1,
            "_view_module": "@jupyter-widgets/controls",
            "_model_module_version": "1.5.0",
            "value": 1,
            "_view_count": null,
            "_view_module_version": "1.5.0",
            "orientation": "horizontal",
            "min": 0,
            "description_tooltip": null,
            "_model_module": "@jupyter-widgets/controls",
            "layout": "IPY_MODEL_fed274c50c814b97813306f12f33a6d2"
          }
        },
        "60c05a6212954b8fb9df90c7009e6096": {
          "model_module": "@jupyter-widgets/controls",
          "model_name": "DescriptionStyleModel",
          "state": {
            "_view_name": "StyleView",
            "_model_name": "DescriptionStyleModel",
            "description_width": "",
            "_view_module": "@jupyter-widgets/base",
            "_model_module_version": "1.5.0",
            "_view_count": null,
            "_view_module_version": "1.2.0",
            "_model_module": "@jupyter-widgets/controls"
          }
        },
        "a0758ca50ed14b26a90c5df1caa925d8": {
          "model_module": "@jupyter-widgets/base",
          "model_name": "LayoutModel",
          "state": {
            "_view_name": "LayoutView",
            "grid_template_rows": null,
            "right": null,
            "justify_content": null,
            "_view_module": "@jupyter-widgets/base",
            "overflow": null,
            "_model_module_version": "1.2.0",
            "_view_count": null,
            "flex_flow": null,
            "width": null,
            "min_width": null,
            "border": null,
            "align_items": null,
            "bottom": null,
            "_model_module": "@jupyter-widgets/base",
            "top": null,
            "grid_column": null,
            "overflow_y": null,
            "overflow_x": null,
            "grid_auto_flow": null,
            "grid_area": null,
            "grid_template_columns": null,
            "flex": null,
            "_model_name": "LayoutModel",
            "justify_items": null,
            "grid_row": null,
            "max_height": null,
            "align_content": null,
            "visibility": null,
            "align_self": null,
            "height": null,
            "min_height": null,
            "padding": null,
            "grid_auto_rows": null,
            "grid_gap": null,
            "max_width": null,
            "order": null,
            "_view_module_version": "1.2.0",
            "grid_template_areas": null,
            "object_position": null,
            "object_fit": null,
            "grid_auto_columns": null,
            "margin": null,
            "display": null,
            "left": null
          }
        },
        "5135b1760cb6499d8ddb909c6a231108": {
          "model_module": "@jupyter-widgets/controls",
          "model_name": "ProgressStyleModel",
          "state": {
            "_view_name": "StyleView",
            "_model_name": "ProgressStyleModel",
            "description_width": "",
            "_view_module": "@jupyter-widgets/base",
            "_model_module_version": "1.5.0",
            "_view_count": null,
            "_view_module_version": "1.2.0",
            "bar_color": null,
            "_model_module": "@jupyter-widgets/controls"
          }
        },
        "fed274c50c814b97813306f12f33a6d2": {
          "model_module": "@jupyter-widgets/base",
          "model_name": "LayoutModel",
          "state": {
            "_view_name": "LayoutView",
            "grid_template_rows": null,
            "right": null,
            "justify_content": null,
            "_view_module": "@jupyter-widgets/base",
            "overflow": null,
            "_model_module_version": "1.2.0",
            "_view_count": null,
            "flex_flow": null,
            "width": null,
            "min_width": null,
            "border": null,
            "align_items": null,
            "bottom": null,
            "_model_module": "@jupyter-widgets/base",
            "top": null,
            "grid_column": null,
            "overflow_y": null,
            "overflow_x": null,
            "grid_auto_flow": null,
            "grid_area": null,
            "grid_template_columns": null,
            "flex": null,
            "_model_name": "LayoutModel",
            "justify_items": null,
            "grid_row": null,
            "max_height": null,
            "align_content": null,
            "visibility": null,
            "align_self": null,
            "height": null,
            "min_height": null,
            "padding": null,
            "grid_auto_rows": null,
            "grid_gap": null,
            "max_width": null,
            "order": null,
            "_view_module_version": "1.2.0",
            "grid_template_areas": null,
            "object_position": null,
            "object_fit": null,
            "grid_auto_columns": null,
            "margin": null,
            "display": null,
            "left": null
          }
        },
        "85d7ed3624cc4221af0b8fd7f71d1d2a": {
          "model_module": "@jupyter-widgets/controls",
          "model_name": "VBoxModel",
          "state": {
            "_view_name": "VBoxView",
            "_dom_classes": [],
            "_model_name": "VBoxModel",
            "_view_module": "@jupyter-widgets/controls",
            "_model_module_version": "1.5.0",
            "_view_count": null,
            "_view_module_version": "1.5.0",
            "box_style": "",
            "layout": "IPY_MODEL_b63421a0f3894530915807d88e90eb10",
            "_model_module": "@jupyter-widgets/controls",
            "children": [
              "IPY_MODEL_fa0d9f3f56c74596ba398be6f2a477e8",
              "IPY_MODEL_9f9af84f84a04d448869ae8c6a50ca22"
            ]
          }
        },
        "b63421a0f3894530915807d88e90eb10": {
          "model_module": "@jupyter-widgets/base",
          "model_name": "LayoutModel",
          "state": {
            "_view_name": "LayoutView",
            "grid_template_rows": null,
            "right": null,
            "justify_content": null,
            "_view_module": "@jupyter-widgets/base",
            "overflow": null,
            "_model_module_version": "1.2.0",
            "_view_count": null,
            "flex_flow": null,
            "width": null,
            "min_width": null,
            "border": null,
            "align_items": null,
            "bottom": null,
            "_model_module": "@jupyter-widgets/base",
            "top": null,
            "grid_column": null,
            "overflow_y": null,
            "overflow_x": null,
            "grid_auto_flow": null,
            "grid_area": null,
            "grid_template_columns": null,
            "flex": null,
            "_model_name": "LayoutModel",
            "justify_items": null,
            "grid_row": null,
            "max_height": null,
            "align_content": null,
            "visibility": null,
            "align_self": null,
            "height": null,
            "min_height": null,
            "padding": null,
            "grid_auto_rows": null,
            "grid_gap": null,
            "max_width": null,
            "order": null,
            "_view_module_version": "1.2.0",
            "grid_template_areas": null,
            "object_position": null,
            "object_fit": null,
            "grid_auto_columns": null,
            "margin": null,
            "display": null,
            "left": null
          }
        },
        "fa0d9f3f56c74596ba398be6f2a477e8": {
          "model_module": "@jupyter-widgets/controls",
          "model_name": "LabelModel",
          "state": {
            "_view_name": "LabelView",
            "style": "IPY_MODEL_eb7951e7f50b47a4943281533b173425",
            "_dom_classes": [],
            "description": "",
            "_model_name": "LabelModel",
            "placeholder": "​",
            "_view_module": "@jupyter-widgets/controls",
            "_model_module_version": "1.5.0",
            "value": " 1126.14MB of 1126.14MB uploaded (0.00MB deduped)\r",
            "_view_count": null,
            "_view_module_version": "1.5.0",
            "description_tooltip": null,
            "_model_module": "@jupyter-widgets/controls",
            "layout": "IPY_MODEL_9e632376a54c4eabb217f42a99891b82"
          }
        },
        "9f9af84f84a04d448869ae8c6a50ca22": {
          "model_module": "@jupyter-widgets/controls",
          "model_name": "FloatProgressModel",
          "state": {
            "_view_name": "ProgressView",
            "style": "IPY_MODEL_8159c2cbc5a84547ba73991142dbd8d5",
            "_dom_classes": [],
            "description": "",
            "_model_name": "FloatProgressModel",
            "bar_style": "",
            "max": 1,
            "_view_module": "@jupyter-widgets/controls",
            "_model_module_version": "1.5.0",
            "value": 1,
            "_view_count": null,
            "_view_module_version": "1.5.0",
            "orientation": "horizontal",
            "min": 0,
            "description_tooltip": null,
            "_model_module": "@jupyter-widgets/controls",
            "layout": "IPY_MODEL_7c17de303d7647e1991b0e09f1c0b917"
          }
        },
        "eb7951e7f50b47a4943281533b173425": {
          "model_module": "@jupyter-widgets/controls",
          "model_name": "DescriptionStyleModel",
          "state": {
            "_view_name": "StyleView",
            "_model_name": "DescriptionStyleModel",
            "description_width": "",
            "_view_module": "@jupyter-widgets/base",
            "_model_module_version": "1.5.0",
            "_view_count": null,
            "_view_module_version": "1.2.0",
            "_model_module": "@jupyter-widgets/controls"
          }
        },
        "9e632376a54c4eabb217f42a99891b82": {
          "model_module": "@jupyter-widgets/base",
          "model_name": "LayoutModel",
          "state": {
            "_view_name": "LayoutView",
            "grid_template_rows": null,
            "right": null,
            "justify_content": null,
            "_view_module": "@jupyter-widgets/base",
            "overflow": null,
            "_model_module_version": "1.2.0",
            "_view_count": null,
            "flex_flow": null,
            "width": null,
            "min_width": null,
            "border": null,
            "align_items": null,
            "bottom": null,
            "_model_module": "@jupyter-widgets/base",
            "top": null,
            "grid_column": null,
            "overflow_y": null,
            "overflow_x": null,
            "grid_auto_flow": null,
            "grid_area": null,
            "grid_template_columns": null,
            "flex": null,
            "_model_name": "LayoutModel",
            "justify_items": null,
            "grid_row": null,
            "max_height": null,
            "align_content": null,
            "visibility": null,
            "align_self": null,
            "height": null,
            "min_height": null,
            "padding": null,
            "grid_auto_rows": null,
            "grid_gap": null,
            "max_width": null,
            "order": null,
            "_view_module_version": "1.2.0",
            "grid_template_areas": null,
            "object_position": null,
            "object_fit": null,
            "grid_auto_columns": null,
            "margin": null,
            "display": null,
            "left": null
          }
        },
        "8159c2cbc5a84547ba73991142dbd8d5": {
          "model_module": "@jupyter-widgets/controls",
          "model_name": "ProgressStyleModel",
          "state": {
            "_view_name": "StyleView",
            "_model_name": "ProgressStyleModel",
            "description_width": "",
            "_view_module": "@jupyter-widgets/base",
            "_model_module_version": "1.5.0",
            "_view_count": null,
            "_view_module_version": "1.2.0",
            "bar_color": null,
            "_model_module": "@jupyter-widgets/controls"
          }
        },
        "7c17de303d7647e1991b0e09f1c0b917": {
          "model_module": "@jupyter-widgets/base",
          "model_name": "LayoutModel",
          "state": {
            "_view_name": "LayoutView",
            "grid_template_rows": null,
            "right": null,
            "justify_content": null,
            "_view_module": "@jupyter-widgets/base",
            "overflow": null,
            "_model_module_version": "1.2.0",
            "_view_count": null,
            "flex_flow": null,
            "width": null,
            "min_width": null,
            "border": null,
            "align_items": null,
            "bottom": null,
            "_model_module": "@jupyter-widgets/base",
            "top": null,
            "grid_column": null,
            "overflow_y": null,
            "overflow_x": null,
            "grid_auto_flow": null,
            "grid_area": null,
            "grid_template_columns": null,
            "flex": null,
            "_model_name": "LayoutModel",
            "justify_items": null,
            "grid_row": null,
            "max_height": null,
            "align_content": null,
            "visibility": null,
            "align_self": null,
            "height": null,
            "min_height": null,
            "padding": null,
            "grid_auto_rows": null,
            "grid_gap": null,
            "max_width": null,
            "order": null,
            "_view_module_version": "1.2.0",
            "grid_template_areas": null,
            "object_position": null,
            "object_fit": null,
            "grid_auto_columns": null,
            "margin": null,
            "display": null,
            "left": null
          }
        },
        "54e976ac3ed244bc8c9ce252fbcc0d61": {
          "model_module": "@jupyter-widgets/controls",
          "model_name": "VBoxModel",
          "state": {
            "_view_name": "VBoxView",
            "_dom_classes": [],
            "_model_name": "VBoxModel",
            "_view_module": "@jupyter-widgets/controls",
            "_model_module_version": "1.5.0",
            "_view_count": null,
            "_view_module_version": "1.5.0",
            "box_style": "",
            "layout": "IPY_MODEL_41b31f58edc4435eb20932bf5db03fd6",
            "_model_module": "@jupyter-widgets/controls",
            "children": [
              "IPY_MODEL_3aefa495b28e41589301819c325501bc",
              "IPY_MODEL_f379e14bbc764e4a8f6d9132d423b4ee"
            ]
          }
        },
        "41b31f58edc4435eb20932bf5db03fd6": {
          "model_module": "@jupyter-widgets/base",
          "model_name": "LayoutModel",
          "state": {
            "_view_name": "LayoutView",
            "grid_template_rows": null,
            "right": null,
            "justify_content": null,
            "_view_module": "@jupyter-widgets/base",
            "overflow": null,
            "_model_module_version": "1.2.0",
            "_view_count": null,
            "flex_flow": null,
            "width": null,
            "min_width": null,
            "border": null,
            "align_items": null,
            "bottom": null,
            "_model_module": "@jupyter-widgets/base",
            "top": null,
            "grid_column": null,
            "overflow_y": null,
            "overflow_x": null,
            "grid_auto_flow": null,
            "grid_area": null,
            "grid_template_columns": null,
            "flex": null,
            "_model_name": "LayoutModel",
            "justify_items": null,
            "grid_row": null,
            "max_height": null,
            "align_content": null,
            "visibility": null,
            "align_self": null,
            "height": null,
            "min_height": null,
            "padding": null,
            "grid_auto_rows": null,
            "grid_gap": null,
            "max_width": null,
            "order": null,
            "_view_module_version": "1.2.0",
            "grid_template_areas": null,
            "object_position": null,
            "object_fit": null,
            "grid_auto_columns": null,
            "margin": null,
            "display": null,
            "left": null
          }
        },
        "3aefa495b28e41589301819c325501bc": {
          "model_module": "@jupyter-widgets/controls",
          "model_name": "LabelModel",
          "state": {
            "_view_name": "LabelView",
            "style": "IPY_MODEL_e4c6b5bde8a9499b821aab3d993eb977",
            "_dom_classes": [],
            "description": "",
            "_model_name": "LabelModel",
            "placeholder": "​",
            "_view_module": "@jupyter-widgets/controls",
            "_model_module_version": "1.5.0",
            "value": " 334.43MB of 334.43MB uploaded (0.00MB deduped)\r",
            "_view_count": null,
            "_view_module_version": "1.5.0",
            "description_tooltip": null,
            "_model_module": "@jupyter-widgets/controls",
            "layout": "IPY_MODEL_0196a6224201484f94cbdd6105584b78"
          }
        },
        "f379e14bbc764e4a8f6d9132d423b4ee": {
          "model_module": "@jupyter-widgets/controls",
          "model_name": "FloatProgressModel",
          "state": {
            "_view_name": "ProgressView",
            "style": "IPY_MODEL_a8a3bbe006da4eb0b044cd7e6d8a71dd",
            "_dom_classes": [],
            "description": "",
            "_model_name": "FloatProgressModel",
            "bar_style": "",
            "max": 1,
            "_view_module": "@jupyter-widgets/controls",
            "_model_module_version": "1.5.0",
            "value": 1,
            "_view_count": null,
            "_view_module_version": "1.5.0",
            "orientation": "horizontal",
            "min": 0,
            "description_tooltip": null,
            "_model_module": "@jupyter-widgets/controls",
            "layout": "IPY_MODEL_1bcd369917e44a0d9ba0c06beb4ec03d"
          }
        },
        "e4c6b5bde8a9499b821aab3d993eb977": {
          "model_module": "@jupyter-widgets/controls",
          "model_name": "DescriptionStyleModel",
          "state": {
            "_view_name": "StyleView",
            "_model_name": "DescriptionStyleModel",
            "description_width": "",
            "_view_module": "@jupyter-widgets/base",
            "_model_module_version": "1.5.0",
            "_view_count": null,
            "_view_module_version": "1.2.0",
            "_model_module": "@jupyter-widgets/controls"
          }
        },
        "0196a6224201484f94cbdd6105584b78": {
          "model_module": "@jupyter-widgets/base",
          "model_name": "LayoutModel",
          "state": {
            "_view_name": "LayoutView",
            "grid_template_rows": null,
            "right": null,
            "justify_content": null,
            "_view_module": "@jupyter-widgets/base",
            "overflow": null,
            "_model_module_version": "1.2.0",
            "_view_count": null,
            "flex_flow": null,
            "width": null,
            "min_width": null,
            "border": null,
            "align_items": null,
            "bottom": null,
            "_model_module": "@jupyter-widgets/base",
            "top": null,
            "grid_column": null,
            "overflow_y": null,
            "overflow_x": null,
            "grid_auto_flow": null,
            "grid_area": null,
            "grid_template_columns": null,
            "flex": null,
            "_model_name": "LayoutModel",
            "justify_items": null,
            "grid_row": null,
            "max_height": null,
            "align_content": null,
            "visibility": null,
            "align_self": null,
            "height": null,
            "min_height": null,
            "padding": null,
            "grid_auto_rows": null,
            "grid_gap": null,
            "max_width": null,
            "order": null,
            "_view_module_version": "1.2.0",
            "grid_template_areas": null,
            "object_position": null,
            "object_fit": null,
            "grid_auto_columns": null,
            "margin": null,
            "display": null,
            "left": null
          }
        },
        "a8a3bbe006da4eb0b044cd7e6d8a71dd": {
          "model_module": "@jupyter-widgets/controls",
          "model_name": "ProgressStyleModel",
          "state": {
            "_view_name": "StyleView",
            "_model_name": "ProgressStyleModel",
            "description_width": "",
            "_view_module": "@jupyter-widgets/base",
            "_model_module_version": "1.5.0",
            "_view_count": null,
            "_view_module_version": "1.2.0",
            "bar_color": null,
            "_model_module": "@jupyter-widgets/controls"
          }
        },
        "1bcd369917e44a0d9ba0c06beb4ec03d": {
          "model_module": "@jupyter-widgets/base",
          "model_name": "LayoutModel",
          "state": {
            "_view_name": "LayoutView",
            "grid_template_rows": null,
            "right": null,
            "justify_content": null,
            "_view_module": "@jupyter-widgets/base",
            "overflow": null,
            "_model_module_version": "1.2.0",
            "_view_count": null,
            "flex_flow": null,
            "width": null,
            "min_width": null,
            "border": null,
            "align_items": null,
            "bottom": null,
            "_model_module": "@jupyter-widgets/base",
            "top": null,
            "grid_column": null,
            "overflow_y": null,
            "overflow_x": null,
            "grid_auto_flow": null,
            "grid_area": null,
            "grid_template_columns": null,
            "flex": null,
            "_model_name": "LayoutModel",
            "justify_items": null,
            "grid_row": null,
            "max_height": null,
            "align_content": null,
            "visibility": null,
            "align_self": null,
            "height": null,
            "min_height": null,
            "padding": null,
            "grid_auto_rows": null,
            "grid_gap": null,
            "max_width": null,
            "order": null,
            "_view_module_version": "1.2.0",
            "grid_template_areas": null,
            "object_position": null,
            "object_fit": null,
            "grid_auto_columns": null,
            "margin": null,
            "display": null,
            "left": null
          }
        },
        "69d2ef1c0167439ca66e804e15fd5c24": {
          "model_module": "@jupyter-widgets/controls",
          "model_name": "VBoxModel",
          "state": {
            "_view_name": "VBoxView",
            "_dom_classes": [],
            "_model_name": "VBoxModel",
            "_view_module": "@jupyter-widgets/controls",
            "_model_module_version": "1.5.0",
            "_view_count": null,
            "_view_module_version": "1.5.0",
            "box_style": "",
            "layout": "IPY_MODEL_64ddbc9ce77e43b7a389652a3de79447",
            "_model_module": "@jupyter-widgets/controls",
            "children": [
              "IPY_MODEL_972d45a6bc8142d1b3b45450a0b7520b",
              "IPY_MODEL_ce7db07afeb74af08abfd3b785a7ad46"
            ]
          }
        },
        "64ddbc9ce77e43b7a389652a3de79447": {
          "model_module": "@jupyter-widgets/base",
          "model_name": "LayoutModel",
          "state": {
            "_view_name": "LayoutView",
            "grid_template_rows": null,
            "right": null,
            "justify_content": null,
            "_view_module": "@jupyter-widgets/base",
            "overflow": null,
            "_model_module_version": "1.2.0",
            "_view_count": null,
            "flex_flow": null,
            "width": null,
            "min_width": null,
            "border": null,
            "align_items": null,
            "bottom": null,
            "_model_module": "@jupyter-widgets/base",
            "top": null,
            "grid_column": null,
            "overflow_y": null,
            "overflow_x": null,
            "grid_auto_flow": null,
            "grid_area": null,
            "grid_template_columns": null,
            "flex": null,
            "_model_name": "LayoutModel",
            "justify_items": null,
            "grid_row": null,
            "max_height": null,
            "align_content": null,
            "visibility": null,
            "align_self": null,
            "height": null,
            "min_height": null,
            "padding": null,
            "grid_auto_rows": null,
            "grid_gap": null,
            "max_width": null,
            "order": null,
            "_view_module_version": "1.2.0",
            "grid_template_areas": null,
            "object_position": null,
            "object_fit": null,
            "grid_auto_columns": null,
            "margin": null,
            "display": null,
            "left": null
          }
        },
        "972d45a6bc8142d1b3b45450a0b7520b": {
          "model_module": "@jupyter-widgets/controls",
          "model_name": "LabelModel",
          "state": {
            "_view_name": "LabelView",
            "style": "IPY_MODEL_5b82a0e838ff429bade0f0392fe8babc",
            "_dom_classes": [],
            "description": "",
            "_model_name": "LabelModel",
            "placeholder": "​",
            "_view_module": "@jupyter-widgets/controls",
            "_model_module_version": "1.5.0",
            "value": " 630.93MB of 630.93MB uploaded (0.00MB deduped)\r",
            "_view_count": null,
            "_view_module_version": "1.5.0",
            "description_tooltip": null,
            "_model_module": "@jupyter-widgets/controls",
            "layout": "IPY_MODEL_d375d47cbe0b4ca1b206b9670d6282fe"
          }
        },
        "ce7db07afeb74af08abfd3b785a7ad46": {
          "model_module": "@jupyter-widgets/controls",
          "model_name": "FloatProgressModel",
          "state": {
            "_view_name": "ProgressView",
            "style": "IPY_MODEL_946627bf3caf43d2b143944f889b5c26",
            "_dom_classes": [],
            "description": "",
            "_model_name": "FloatProgressModel",
            "bar_style": "",
            "max": 1,
            "_view_module": "@jupyter-widgets/controls",
            "_model_module_version": "1.5.0",
            "value": 1,
            "_view_count": null,
            "_view_module_version": "1.5.0",
            "orientation": "horizontal",
            "min": 0,
            "description_tooltip": null,
            "_model_module": "@jupyter-widgets/controls",
            "layout": "IPY_MODEL_67df3c2a38f345fabce4534a41bb7f52"
          }
        },
        "5b82a0e838ff429bade0f0392fe8babc": {
          "model_module": "@jupyter-widgets/controls",
          "model_name": "DescriptionStyleModel",
          "state": {
            "_view_name": "StyleView",
            "_model_name": "DescriptionStyleModel",
            "description_width": "",
            "_view_module": "@jupyter-widgets/base",
            "_model_module_version": "1.5.0",
            "_view_count": null,
            "_view_module_version": "1.2.0",
            "_model_module": "@jupyter-widgets/controls"
          }
        },
        "d375d47cbe0b4ca1b206b9670d6282fe": {
          "model_module": "@jupyter-widgets/base",
          "model_name": "LayoutModel",
          "state": {
            "_view_name": "LayoutView",
            "grid_template_rows": null,
            "right": null,
            "justify_content": null,
            "_view_module": "@jupyter-widgets/base",
            "overflow": null,
            "_model_module_version": "1.2.0",
            "_view_count": null,
            "flex_flow": null,
            "width": null,
            "min_width": null,
            "border": null,
            "align_items": null,
            "bottom": null,
            "_model_module": "@jupyter-widgets/base",
            "top": null,
            "grid_column": null,
            "overflow_y": null,
            "overflow_x": null,
            "grid_auto_flow": null,
            "grid_area": null,
            "grid_template_columns": null,
            "flex": null,
            "_model_name": "LayoutModel",
            "justify_items": null,
            "grid_row": null,
            "max_height": null,
            "align_content": null,
            "visibility": null,
            "align_self": null,
            "height": null,
            "min_height": null,
            "padding": null,
            "grid_auto_rows": null,
            "grid_gap": null,
            "max_width": null,
            "order": null,
            "_view_module_version": "1.2.0",
            "grid_template_areas": null,
            "object_position": null,
            "object_fit": null,
            "grid_auto_columns": null,
            "margin": null,
            "display": null,
            "left": null
          }
        },
        "946627bf3caf43d2b143944f889b5c26": {
          "model_module": "@jupyter-widgets/controls",
          "model_name": "ProgressStyleModel",
          "state": {
            "_view_name": "StyleView",
            "_model_name": "ProgressStyleModel",
            "description_width": "",
            "_view_module": "@jupyter-widgets/base",
            "_model_module_version": "1.5.0",
            "_view_count": null,
            "_view_module_version": "1.2.0",
            "bar_color": null,
            "_model_module": "@jupyter-widgets/controls"
          }
        },
        "67df3c2a38f345fabce4534a41bb7f52": {
          "model_module": "@jupyter-widgets/base",
          "model_name": "LayoutModel",
          "state": {
            "_view_name": "LayoutView",
            "grid_template_rows": null,
            "right": null,
            "justify_content": null,
            "_view_module": "@jupyter-widgets/base",
            "overflow": null,
            "_model_module_version": "1.2.0",
            "_view_count": null,
            "flex_flow": null,
            "width": null,
            "min_width": null,
            "border": null,
            "align_items": null,
            "bottom": null,
            "_model_module": "@jupyter-widgets/base",
            "top": null,
            "grid_column": null,
            "overflow_y": null,
            "overflow_x": null,
            "grid_auto_flow": null,
            "grid_area": null,
            "grid_template_columns": null,
            "flex": null,
            "_model_name": "LayoutModel",
            "justify_items": null,
            "grid_row": null,
            "max_height": null,
            "align_content": null,
            "visibility": null,
            "align_self": null,
            "height": null,
            "min_height": null,
            "padding": null,
            "grid_auto_rows": null,
            "grid_gap": null,
            "max_width": null,
            "order": null,
            "_view_module_version": "1.2.0",
            "grid_template_areas": null,
            "object_position": null,
            "object_fit": null,
            "grid_auto_columns": null,
            "margin": null,
            "display": null,
            "left": null
          }
        },
        "cede265275a545528e7a3c385d3300e1": {
          "model_module": "@jupyter-widgets/controls",
          "model_name": "VBoxModel",
          "state": {
            "_view_name": "VBoxView",
            "_dom_classes": [],
            "_model_name": "VBoxModel",
            "_view_module": "@jupyter-widgets/controls",
            "_model_module_version": "1.5.0",
            "_view_count": null,
            "_view_module_version": "1.5.0",
            "box_style": "",
            "layout": "IPY_MODEL_08fa4423897f40d092d8813bc5b3a68c",
            "_model_module": "@jupyter-widgets/controls",
            "children": [
              "IPY_MODEL_9bf5ce9566fc4735bc031f8b0cd7981a",
              "IPY_MODEL_65dcfcc30dcc407ca16793be67ee68e4"
            ]
          }
        },
        "08fa4423897f40d092d8813bc5b3a68c": {
          "model_module": "@jupyter-widgets/base",
          "model_name": "LayoutModel",
          "state": {
            "_view_name": "LayoutView",
            "grid_template_rows": null,
            "right": null,
            "justify_content": null,
            "_view_module": "@jupyter-widgets/base",
            "overflow": null,
            "_model_module_version": "1.2.0",
            "_view_count": null,
            "flex_flow": null,
            "width": null,
            "min_width": null,
            "border": null,
            "align_items": null,
            "bottom": null,
            "_model_module": "@jupyter-widgets/base",
            "top": null,
            "grid_column": null,
            "overflow_y": null,
            "overflow_x": null,
            "grid_auto_flow": null,
            "grid_area": null,
            "grid_template_columns": null,
            "flex": null,
            "_model_name": "LayoutModel",
            "justify_items": null,
            "grid_row": null,
            "max_height": null,
            "align_content": null,
            "visibility": null,
            "align_self": null,
            "height": null,
            "min_height": null,
            "padding": null,
            "grid_auto_rows": null,
            "grid_gap": null,
            "max_width": null,
            "order": null,
            "_view_module_version": "1.2.0",
            "grid_template_areas": null,
            "object_position": null,
            "object_fit": null,
            "grid_auto_columns": null,
            "margin": null,
            "display": null,
            "left": null
          }
        },
        "9bf5ce9566fc4735bc031f8b0cd7981a": {
          "model_module": "@jupyter-widgets/controls",
          "model_name": "LabelModel",
          "state": {
            "_view_name": "LabelView",
            "style": "IPY_MODEL_6ebe9c2c9a484552b22464f944253de4",
            "_dom_classes": [],
            "description": "",
            "_model_name": "LabelModel",
            "placeholder": "​",
            "_view_module": "@jupyter-widgets/controls",
            "_model_module_version": "1.5.0",
            "value": " 187.29MB of 187.29MB uploaded (0.00MB deduped)\r",
            "_view_count": null,
            "_view_module_version": "1.5.0",
            "description_tooltip": null,
            "_model_module": "@jupyter-widgets/controls",
            "layout": "IPY_MODEL_1d981f28cf784b138366a595a9d8d134"
          }
        },
        "65dcfcc30dcc407ca16793be67ee68e4": {
          "model_module": "@jupyter-widgets/controls",
          "model_name": "FloatProgressModel",
          "state": {
            "_view_name": "ProgressView",
            "style": "IPY_MODEL_01666c4c66d44b639cdb5d13fe81968a",
            "_dom_classes": [],
            "description": "",
            "_model_name": "FloatProgressModel",
            "bar_style": "",
            "max": 1,
            "_view_module": "@jupyter-widgets/controls",
            "_model_module_version": "1.5.0",
            "value": 1,
            "_view_count": null,
            "_view_module_version": "1.5.0",
            "orientation": "horizontal",
            "min": 0,
            "description_tooltip": null,
            "_model_module": "@jupyter-widgets/controls",
            "layout": "IPY_MODEL_b80ff93188f446219708cdb7301f386f"
          }
        },
        "6ebe9c2c9a484552b22464f944253de4": {
          "model_module": "@jupyter-widgets/controls",
          "model_name": "DescriptionStyleModel",
          "state": {
            "_view_name": "StyleView",
            "_model_name": "DescriptionStyleModel",
            "description_width": "",
            "_view_module": "@jupyter-widgets/base",
            "_model_module_version": "1.5.0",
            "_view_count": null,
            "_view_module_version": "1.2.0",
            "_model_module": "@jupyter-widgets/controls"
          }
        },
        "1d981f28cf784b138366a595a9d8d134": {
          "model_module": "@jupyter-widgets/base",
          "model_name": "LayoutModel",
          "state": {
            "_view_name": "LayoutView",
            "grid_template_rows": null,
            "right": null,
            "justify_content": null,
            "_view_module": "@jupyter-widgets/base",
            "overflow": null,
            "_model_module_version": "1.2.0",
            "_view_count": null,
            "flex_flow": null,
            "width": null,
            "min_width": null,
            "border": null,
            "align_items": null,
            "bottom": null,
            "_model_module": "@jupyter-widgets/base",
            "top": null,
            "grid_column": null,
            "overflow_y": null,
            "overflow_x": null,
            "grid_auto_flow": null,
            "grid_area": null,
            "grid_template_columns": null,
            "flex": null,
            "_model_name": "LayoutModel",
            "justify_items": null,
            "grid_row": null,
            "max_height": null,
            "align_content": null,
            "visibility": null,
            "align_self": null,
            "height": null,
            "min_height": null,
            "padding": null,
            "grid_auto_rows": null,
            "grid_gap": null,
            "max_width": null,
            "order": null,
            "_view_module_version": "1.2.0",
            "grid_template_areas": null,
            "object_position": null,
            "object_fit": null,
            "grid_auto_columns": null,
            "margin": null,
            "display": null,
            "left": null
          }
        },
        "01666c4c66d44b639cdb5d13fe81968a": {
          "model_module": "@jupyter-widgets/controls",
          "model_name": "ProgressStyleModel",
          "state": {
            "_view_name": "StyleView",
            "_model_name": "ProgressStyleModel",
            "description_width": "",
            "_view_module": "@jupyter-widgets/base",
            "_model_module_version": "1.5.0",
            "_view_count": null,
            "_view_module_version": "1.2.0",
            "bar_color": null,
            "_model_module": "@jupyter-widgets/controls"
          }
        },
        "b80ff93188f446219708cdb7301f386f": {
          "model_module": "@jupyter-widgets/base",
          "model_name": "LayoutModel",
          "state": {
            "_view_name": "LayoutView",
            "grid_template_rows": null,
            "right": null,
            "justify_content": null,
            "_view_module": "@jupyter-widgets/base",
            "overflow": null,
            "_model_module_version": "1.2.0",
            "_view_count": null,
            "flex_flow": null,
            "width": null,
            "min_width": null,
            "border": null,
            "align_items": null,
            "bottom": null,
            "_model_module": "@jupyter-widgets/base",
            "top": null,
            "grid_column": null,
            "overflow_y": null,
            "overflow_x": null,
            "grid_auto_flow": null,
            "grid_area": null,
            "grid_template_columns": null,
            "flex": null,
            "_model_name": "LayoutModel",
            "justify_items": null,
            "grid_row": null,
            "max_height": null,
            "align_content": null,
            "visibility": null,
            "align_self": null,
            "height": null,
            "min_height": null,
            "padding": null,
            "grid_auto_rows": null,
            "grid_gap": null,
            "max_width": null,
            "order": null,
            "_view_module_version": "1.2.0",
            "grid_template_areas": null,
            "object_position": null,
            "object_fit": null,
            "grid_auto_columns": null,
            "margin": null,
            "display": null,
            "left": null
          }
        },
        "891f6423748045c680df23ae982e39f6": {
          "model_module": "@jupyter-widgets/controls",
          "model_name": "VBoxModel",
          "state": {
            "_view_name": "VBoxView",
            "_dom_classes": [],
            "_model_name": "VBoxModel",
            "_view_module": "@jupyter-widgets/controls",
            "_model_module_version": "1.5.0",
            "_view_count": null,
            "_view_module_version": "1.5.0",
            "box_style": "",
            "layout": "IPY_MODEL_7a1252772bf143f7a271d8aa01d2cdb6",
            "_model_module": "@jupyter-widgets/controls",
            "children": [
              "IPY_MODEL_d29df2b30b2644fa8f016c1fbd34f2dd",
              "IPY_MODEL_9ba055e8bc30497f819f304ca01a5e33"
            ]
          }
        },
        "7a1252772bf143f7a271d8aa01d2cdb6": {
          "model_module": "@jupyter-widgets/base",
          "model_name": "LayoutModel",
          "state": {
            "_view_name": "LayoutView",
            "grid_template_rows": null,
            "right": null,
            "justify_content": null,
            "_view_module": "@jupyter-widgets/base",
            "overflow": null,
            "_model_module_version": "1.2.0",
            "_view_count": null,
            "flex_flow": null,
            "width": null,
            "min_width": null,
            "border": null,
            "align_items": null,
            "bottom": null,
            "_model_module": "@jupyter-widgets/base",
            "top": null,
            "grid_column": null,
            "overflow_y": null,
            "overflow_x": null,
            "grid_auto_flow": null,
            "grid_area": null,
            "grid_template_columns": null,
            "flex": null,
            "_model_name": "LayoutModel",
            "justify_items": null,
            "grid_row": null,
            "max_height": null,
            "align_content": null,
            "visibility": null,
            "align_self": null,
            "height": null,
            "min_height": null,
            "padding": null,
            "grid_auto_rows": null,
            "grid_gap": null,
            "max_width": null,
            "order": null,
            "_view_module_version": "1.2.0",
            "grid_template_areas": null,
            "object_position": null,
            "object_fit": null,
            "grid_auto_columns": null,
            "margin": null,
            "display": null,
            "left": null
          }
        },
        "d29df2b30b2644fa8f016c1fbd34f2dd": {
          "model_module": "@jupyter-widgets/controls",
          "model_name": "LabelModel",
          "state": {
            "_view_name": "LabelView",
            "style": "IPY_MODEL_b4b234a946054384836a072f9b1df01d",
            "_dom_classes": [],
            "description": "",
            "_model_name": "LabelModel",
            "placeholder": "​",
            "_view_module": "@jupyter-widgets/controls",
            "_model_module_version": "1.5.0",
            "value": " 112.26MB of 112.26MB uploaded (0.00MB deduped)\r",
            "_view_count": null,
            "_view_module_version": "1.5.0",
            "description_tooltip": null,
            "_model_module": "@jupyter-widgets/controls",
            "layout": "IPY_MODEL_66c3a519c67e4e449b09cdbb0a71d4e3"
          }
        },
        "9ba055e8bc30497f819f304ca01a5e33": {
          "model_module": "@jupyter-widgets/controls",
          "model_name": "FloatProgressModel",
          "state": {
            "_view_name": "ProgressView",
            "style": "IPY_MODEL_96d4c960b78c4b429f76b72b26396f06",
            "_dom_classes": [],
            "description": "",
            "_model_name": "FloatProgressModel",
            "bar_style": "",
            "max": 1,
            "_view_module": "@jupyter-widgets/controls",
            "_model_module_version": "1.5.0",
            "value": 1,
            "_view_count": null,
            "_view_module_version": "1.5.0",
            "orientation": "horizontal",
            "min": 0,
            "description_tooltip": null,
            "_model_module": "@jupyter-widgets/controls",
            "layout": "IPY_MODEL_60ea532b9e044bab8711e7ed688d1f02"
          }
        },
        "b4b234a946054384836a072f9b1df01d": {
          "model_module": "@jupyter-widgets/controls",
          "model_name": "DescriptionStyleModel",
          "state": {
            "_view_name": "StyleView",
            "_model_name": "DescriptionStyleModel",
            "description_width": "",
            "_view_module": "@jupyter-widgets/base",
            "_model_module_version": "1.5.0",
            "_view_count": null,
            "_view_module_version": "1.2.0",
            "_model_module": "@jupyter-widgets/controls"
          }
        },
        "66c3a519c67e4e449b09cdbb0a71d4e3": {
          "model_module": "@jupyter-widgets/base",
          "model_name": "LayoutModel",
          "state": {
            "_view_name": "LayoutView",
            "grid_template_rows": null,
            "right": null,
            "justify_content": null,
            "_view_module": "@jupyter-widgets/base",
            "overflow": null,
            "_model_module_version": "1.2.0",
            "_view_count": null,
            "flex_flow": null,
            "width": null,
            "min_width": null,
            "border": null,
            "align_items": null,
            "bottom": null,
            "_model_module": "@jupyter-widgets/base",
            "top": null,
            "grid_column": null,
            "overflow_y": null,
            "overflow_x": null,
            "grid_auto_flow": null,
            "grid_area": null,
            "grid_template_columns": null,
            "flex": null,
            "_model_name": "LayoutModel",
            "justify_items": null,
            "grid_row": null,
            "max_height": null,
            "align_content": null,
            "visibility": null,
            "align_self": null,
            "height": null,
            "min_height": null,
            "padding": null,
            "grid_auto_rows": null,
            "grid_gap": null,
            "max_width": null,
            "order": null,
            "_view_module_version": "1.2.0",
            "grid_template_areas": null,
            "object_position": null,
            "object_fit": null,
            "grid_auto_columns": null,
            "margin": null,
            "display": null,
            "left": null
          }
        },
        "96d4c960b78c4b429f76b72b26396f06": {
          "model_module": "@jupyter-widgets/controls",
          "model_name": "ProgressStyleModel",
          "state": {
            "_view_name": "StyleView",
            "_model_name": "ProgressStyleModel",
            "description_width": "",
            "_view_module": "@jupyter-widgets/base",
            "_model_module_version": "1.5.0",
            "_view_count": null,
            "_view_module_version": "1.2.0",
            "bar_color": null,
            "_model_module": "@jupyter-widgets/controls"
          }
        },
        "60ea532b9e044bab8711e7ed688d1f02": {
          "model_module": "@jupyter-widgets/base",
          "model_name": "LayoutModel",
          "state": {
            "_view_name": "LayoutView",
            "grid_template_rows": null,
            "right": null,
            "justify_content": null,
            "_view_module": "@jupyter-widgets/base",
            "overflow": null,
            "_model_module_version": "1.2.0",
            "_view_count": null,
            "flex_flow": null,
            "width": null,
            "min_width": null,
            "border": null,
            "align_items": null,
            "bottom": null,
            "_model_module": "@jupyter-widgets/base",
            "top": null,
            "grid_column": null,
            "overflow_y": null,
            "overflow_x": null,
            "grid_auto_flow": null,
            "grid_area": null,
            "grid_template_columns": null,
            "flex": null,
            "_model_name": "LayoutModel",
            "justify_items": null,
            "grid_row": null,
            "max_height": null,
            "align_content": null,
            "visibility": null,
            "align_self": null,
            "height": null,
            "min_height": null,
            "padding": null,
            "grid_auto_rows": null,
            "grid_gap": null,
            "max_width": null,
            "order": null,
            "_view_module_version": "1.2.0",
            "grid_template_areas": null,
            "object_position": null,
            "object_fit": null,
            "grid_auto_columns": null,
            "margin": null,
            "display": null,
            "left": null
          }
        },
        "c22529a24c234d70aef5beea9ea3e188": {
          "model_module": "@jupyter-widgets/controls",
          "model_name": "VBoxModel",
          "state": {
            "_view_name": "VBoxView",
            "_dom_classes": [],
            "_model_name": "VBoxModel",
            "_view_module": "@jupyter-widgets/controls",
            "_model_module_version": "1.5.0",
            "_view_count": null,
            "_view_module_version": "1.5.0",
            "box_style": "",
            "layout": "IPY_MODEL_527ac3c7a04b43a694bc6fd4111d4b62",
            "_model_module": "@jupyter-widgets/controls",
            "children": [
              "IPY_MODEL_6d3877fcc3eb4bb5b8cac9d6c37376f7",
              "IPY_MODEL_7876e54437004bcca3ace2fb8b5fd222"
            ]
          }
        },
        "527ac3c7a04b43a694bc6fd4111d4b62": {
          "model_module": "@jupyter-widgets/base",
          "model_name": "LayoutModel",
          "state": {
            "_view_name": "LayoutView",
            "grid_template_rows": null,
            "right": null,
            "justify_content": null,
            "_view_module": "@jupyter-widgets/base",
            "overflow": null,
            "_model_module_version": "1.2.0",
            "_view_count": null,
            "flex_flow": null,
            "width": null,
            "min_width": null,
            "border": null,
            "align_items": null,
            "bottom": null,
            "_model_module": "@jupyter-widgets/base",
            "top": null,
            "grid_column": null,
            "overflow_y": null,
            "overflow_x": null,
            "grid_auto_flow": null,
            "grid_area": null,
            "grid_template_columns": null,
            "flex": null,
            "_model_name": "LayoutModel",
            "justify_items": null,
            "grid_row": null,
            "max_height": null,
            "align_content": null,
            "visibility": null,
            "align_self": null,
            "height": null,
            "min_height": null,
            "padding": null,
            "grid_auto_rows": null,
            "grid_gap": null,
            "max_width": null,
            "order": null,
            "_view_module_version": "1.2.0",
            "grid_template_areas": null,
            "object_position": null,
            "object_fit": null,
            "grid_auto_columns": null,
            "margin": null,
            "display": null,
            "left": null
          }
        },
        "6d3877fcc3eb4bb5b8cac9d6c37376f7": {
          "model_module": "@jupyter-widgets/controls",
          "model_name": "LabelModel",
          "state": {
            "_view_name": "LabelView",
            "style": "IPY_MODEL_36c2e05427fd47f48d00dba4c4275389",
            "_dom_classes": [],
            "description": "",
            "_model_name": "LabelModel",
            "placeholder": "​",
            "_view_module": "@jupyter-widgets/controls",
            "_model_module_version": "1.5.0",
            "value": " 442.61MB of 442.61MB uploaded (0.00MB deduped)\r",
            "_view_count": null,
            "_view_module_version": "1.5.0",
            "description_tooltip": null,
            "_model_module": "@jupyter-widgets/controls",
            "layout": "IPY_MODEL_3f686d2836c44213b7f4b11adc1a24d5"
          }
        },
        "7876e54437004bcca3ace2fb8b5fd222": {
          "model_module": "@jupyter-widgets/controls",
          "model_name": "FloatProgressModel",
          "state": {
            "_view_name": "ProgressView",
            "style": "IPY_MODEL_41b5c078c6134ec2a2423128d0f24982",
            "_dom_classes": [],
            "description": "",
            "_model_name": "FloatProgressModel",
            "bar_style": "",
            "max": 1,
            "_view_module": "@jupyter-widgets/controls",
            "_model_module_version": "1.5.0",
            "value": 1,
            "_view_count": null,
            "_view_module_version": "1.5.0",
            "orientation": "horizontal",
            "min": 0,
            "description_tooltip": null,
            "_model_module": "@jupyter-widgets/controls",
            "layout": "IPY_MODEL_583c883f79554e99a5ade6ba614d355d"
          }
        },
        "36c2e05427fd47f48d00dba4c4275389": {
          "model_module": "@jupyter-widgets/controls",
          "model_name": "DescriptionStyleModel",
          "state": {
            "_view_name": "StyleView",
            "_model_name": "DescriptionStyleModel",
            "description_width": "",
            "_view_module": "@jupyter-widgets/base",
            "_model_module_version": "1.5.0",
            "_view_count": null,
            "_view_module_version": "1.2.0",
            "_model_module": "@jupyter-widgets/controls"
          }
        },
        "3f686d2836c44213b7f4b11adc1a24d5": {
          "model_module": "@jupyter-widgets/base",
          "model_name": "LayoutModel",
          "state": {
            "_view_name": "LayoutView",
            "grid_template_rows": null,
            "right": null,
            "justify_content": null,
            "_view_module": "@jupyter-widgets/base",
            "overflow": null,
            "_model_module_version": "1.2.0",
            "_view_count": null,
            "flex_flow": null,
            "width": null,
            "min_width": null,
            "border": null,
            "align_items": null,
            "bottom": null,
            "_model_module": "@jupyter-widgets/base",
            "top": null,
            "grid_column": null,
            "overflow_y": null,
            "overflow_x": null,
            "grid_auto_flow": null,
            "grid_area": null,
            "grid_template_columns": null,
            "flex": null,
            "_model_name": "LayoutModel",
            "justify_items": null,
            "grid_row": null,
            "max_height": null,
            "align_content": null,
            "visibility": null,
            "align_self": null,
            "height": null,
            "min_height": null,
            "padding": null,
            "grid_auto_rows": null,
            "grid_gap": null,
            "max_width": null,
            "order": null,
            "_view_module_version": "1.2.0",
            "grid_template_areas": null,
            "object_position": null,
            "object_fit": null,
            "grid_auto_columns": null,
            "margin": null,
            "display": null,
            "left": null
          }
        },
        "41b5c078c6134ec2a2423128d0f24982": {
          "model_module": "@jupyter-widgets/controls",
          "model_name": "ProgressStyleModel",
          "state": {
            "_view_name": "StyleView",
            "_model_name": "ProgressStyleModel",
            "description_width": "",
            "_view_module": "@jupyter-widgets/base",
            "_model_module_version": "1.5.0",
            "_view_count": null,
            "_view_module_version": "1.2.0",
            "bar_color": null,
            "_model_module": "@jupyter-widgets/controls"
          }
        },
        "583c883f79554e99a5ade6ba614d355d": {
          "model_module": "@jupyter-widgets/base",
          "model_name": "LayoutModel",
          "state": {
            "_view_name": "LayoutView",
            "grid_template_rows": null,
            "right": null,
            "justify_content": null,
            "_view_module": "@jupyter-widgets/base",
            "overflow": null,
            "_model_module_version": "1.2.0",
            "_view_count": null,
            "flex_flow": null,
            "width": null,
            "min_width": null,
            "border": null,
            "align_items": null,
            "bottom": null,
            "_model_module": "@jupyter-widgets/base",
            "top": null,
            "grid_column": null,
            "overflow_y": null,
            "overflow_x": null,
            "grid_auto_flow": null,
            "grid_area": null,
            "grid_template_columns": null,
            "flex": null,
            "_model_name": "LayoutModel",
            "justify_items": null,
            "grid_row": null,
            "max_height": null,
            "align_content": null,
            "visibility": null,
            "align_self": null,
            "height": null,
            "min_height": null,
            "padding": null,
            "grid_auto_rows": null,
            "grid_gap": null,
            "max_width": null,
            "order": null,
            "_view_module_version": "1.2.0",
            "grid_template_areas": null,
            "object_position": null,
            "object_fit": null,
            "grid_auto_columns": null,
            "margin": null,
            "display": null,
            "left": null
          }
        },
        "a2bc6fa5b48c469b944b21666765542c": {
          "model_module": "@jupyter-widgets/controls",
          "model_name": "VBoxModel",
          "state": {
            "_view_name": "VBoxView",
            "_dom_classes": [],
            "_model_name": "VBoxModel",
            "_view_module": "@jupyter-widgets/controls",
            "_model_module_version": "1.5.0",
            "_view_count": null,
            "_view_module_version": "1.5.0",
            "box_style": "",
            "layout": "IPY_MODEL_39b912f653184fddad903bdcbd4b2f70",
            "_model_module": "@jupyter-widgets/controls",
            "children": [
              "IPY_MODEL_16196d7fd1d94d2ba32d8118e9b1d777",
              "IPY_MODEL_8066689739fa40869190910b9edb84e6"
            ]
          }
        },
        "39b912f653184fddad903bdcbd4b2f70": {
          "model_module": "@jupyter-widgets/base",
          "model_name": "LayoutModel",
          "state": {
            "_view_name": "LayoutView",
            "grid_template_rows": null,
            "right": null,
            "justify_content": null,
            "_view_module": "@jupyter-widgets/base",
            "overflow": null,
            "_model_module_version": "1.2.0",
            "_view_count": null,
            "flex_flow": null,
            "width": null,
            "min_width": null,
            "border": null,
            "align_items": null,
            "bottom": null,
            "_model_module": "@jupyter-widgets/base",
            "top": null,
            "grid_column": null,
            "overflow_y": null,
            "overflow_x": null,
            "grid_auto_flow": null,
            "grid_area": null,
            "grid_template_columns": null,
            "flex": null,
            "_model_name": "LayoutModel",
            "justify_items": null,
            "grid_row": null,
            "max_height": null,
            "align_content": null,
            "visibility": null,
            "align_self": null,
            "height": null,
            "min_height": null,
            "padding": null,
            "grid_auto_rows": null,
            "grid_gap": null,
            "max_width": null,
            "order": null,
            "_view_module_version": "1.2.0",
            "grid_template_areas": null,
            "object_position": null,
            "object_fit": null,
            "grid_auto_columns": null,
            "margin": null,
            "display": null,
            "left": null
          }
        },
        "16196d7fd1d94d2ba32d8118e9b1d777": {
          "model_module": "@jupyter-widgets/controls",
          "model_name": "LabelModel",
          "state": {
            "_view_name": "LabelView",
            "style": "IPY_MODEL_8cae699b9d4545648b54624130a312bf",
            "_dom_classes": [],
            "description": "",
            "_model_name": "LabelModel",
            "placeholder": "​",
            "_view_module": "@jupyter-widgets/controls",
            "_model_module_version": "1.5.0",
            "value": " 486.48MB of 486.48MB uploaded (0.00MB deduped)\r",
            "_view_count": null,
            "_view_module_version": "1.5.0",
            "description_tooltip": null,
            "_model_module": "@jupyter-widgets/controls",
            "layout": "IPY_MODEL_6e0ca6ea1e0a4138a60608f3b101dd26"
          }
        },
        "8066689739fa40869190910b9edb84e6": {
          "model_module": "@jupyter-widgets/controls",
          "model_name": "FloatProgressModel",
          "state": {
            "_view_name": "ProgressView",
            "style": "IPY_MODEL_b85488a77e1841eaafafe746f6705bd7",
            "_dom_classes": [],
            "description": "",
            "_model_name": "FloatProgressModel",
            "bar_style": "",
            "max": 1,
            "_view_module": "@jupyter-widgets/controls",
            "_model_module_version": "1.5.0",
            "value": 1,
            "_view_count": null,
            "_view_module_version": "1.5.0",
            "orientation": "horizontal",
            "min": 0,
            "description_tooltip": null,
            "_model_module": "@jupyter-widgets/controls",
            "layout": "IPY_MODEL_a1a31ec84e064d129fe79c758c26b5f2"
          }
        },
        "8cae699b9d4545648b54624130a312bf": {
          "model_module": "@jupyter-widgets/controls",
          "model_name": "DescriptionStyleModel",
          "state": {
            "_view_name": "StyleView",
            "_model_name": "DescriptionStyleModel",
            "description_width": "",
            "_view_module": "@jupyter-widgets/base",
            "_model_module_version": "1.5.0",
            "_view_count": null,
            "_view_module_version": "1.2.0",
            "_model_module": "@jupyter-widgets/controls"
          }
        },
        "6e0ca6ea1e0a4138a60608f3b101dd26": {
          "model_module": "@jupyter-widgets/base",
          "model_name": "LayoutModel",
          "state": {
            "_view_name": "LayoutView",
            "grid_template_rows": null,
            "right": null,
            "justify_content": null,
            "_view_module": "@jupyter-widgets/base",
            "overflow": null,
            "_model_module_version": "1.2.0",
            "_view_count": null,
            "flex_flow": null,
            "width": null,
            "min_width": null,
            "border": null,
            "align_items": null,
            "bottom": null,
            "_model_module": "@jupyter-widgets/base",
            "top": null,
            "grid_column": null,
            "overflow_y": null,
            "overflow_x": null,
            "grid_auto_flow": null,
            "grid_area": null,
            "grid_template_columns": null,
            "flex": null,
            "_model_name": "LayoutModel",
            "justify_items": null,
            "grid_row": null,
            "max_height": null,
            "align_content": null,
            "visibility": null,
            "align_self": null,
            "height": null,
            "min_height": null,
            "padding": null,
            "grid_auto_rows": null,
            "grid_gap": null,
            "max_width": null,
            "order": null,
            "_view_module_version": "1.2.0",
            "grid_template_areas": null,
            "object_position": null,
            "object_fit": null,
            "grid_auto_columns": null,
            "margin": null,
            "display": null,
            "left": null
          }
        },
        "b85488a77e1841eaafafe746f6705bd7": {
          "model_module": "@jupyter-widgets/controls",
          "model_name": "ProgressStyleModel",
          "state": {
            "_view_name": "StyleView",
            "_model_name": "ProgressStyleModel",
            "description_width": "",
            "_view_module": "@jupyter-widgets/base",
            "_model_module_version": "1.5.0",
            "_view_count": null,
            "_view_module_version": "1.2.0",
            "bar_color": null,
            "_model_module": "@jupyter-widgets/controls"
          }
        },
        "a1a31ec84e064d129fe79c758c26b5f2": {
          "model_module": "@jupyter-widgets/base",
          "model_name": "LayoutModel",
          "state": {
            "_view_name": "LayoutView",
            "grid_template_rows": null,
            "right": null,
            "justify_content": null,
            "_view_module": "@jupyter-widgets/base",
            "overflow": null,
            "_model_module_version": "1.2.0",
            "_view_count": null,
            "flex_flow": null,
            "width": null,
            "min_width": null,
            "border": null,
            "align_items": null,
            "bottom": null,
            "_model_module": "@jupyter-widgets/base",
            "top": null,
            "grid_column": null,
            "overflow_y": null,
            "overflow_x": null,
            "grid_auto_flow": null,
            "grid_area": null,
            "grid_template_columns": null,
            "flex": null,
            "_model_name": "LayoutModel",
            "justify_items": null,
            "grid_row": null,
            "max_height": null,
            "align_content": null,
            "visibility": null,
            "align_self": null,
            "height": null,
            "min_height": null,
            "padding": null,
            "grid_auto_rows": null,
            "grid_gap": null,
            "max_width": null,
            "order": null,
            "_view_module_version": "1.2.0",
            "grid_template_areas": null,
            "object_position": null,
            "object_fit": null,
            "grid_auto_columns": null,
            "margin": null,
            "display": null,
            "left": null
          }
        },
        "7e9a835e79e54131a9de632c281cfc57": {
          "model_module": "@jupyter-widgets/controls",
          "model_name": "VBoxModel",
          "state": {
            "_view_name": "VBoxView",
            "_dom_classes": [],
            "_model_name": "VBoxModel",
            "_view_module": "@jupyter-widgets/controls",
            "_model_module_version": "1.5.0",
            "_view_count": null,
            "_view_module_version": "1.5.0",
            "box_style": "",
            "layout": "IPY_MODEL_a4010b0d68454547b142db419d35c714",
            "_model_module": "@jupyter-widgets/controls",
            "children": [
              "IPY_MODEL_b1742c257eda40cc969ae170088673a9",
              "IPY_MODEL_7b8de792b7c1445cb8d6002452b5a538"
            ]
          }
        },
        "a4010b0d68454547b142db419d35c714": {
          "model_module": "@jupyter-widgets/base",
          "model_name": "LayoutModel",
          "state": {
            "_view_name": "LayoutView",
            "grid_template_rows": null,
            "right": null,
            "justify_content": null,
            "_view_module": "@jupyter-widgets/base",
            "overflow": null,
            "_model_module_version": "1.2.0",
            "_view_count": null,
            "flex_flow": null,
            "width": null,
            "min_width": null,
            "border": null,
            "align_items": null,
            "bottom": null,
            "_model_module": "@jupyter-widgets/base",
            "top": null,
            "grid_column": null,
            "overflow_y": null,
            "overflow_x": null,
            "grid_auto_flow": null,
            "grid_area": null,
            "grid_template_columns": null,
            "flex": null,
            "_model_name": "LayoutModel",
            "justify_items": null,
            "grid_row": null,
            "max_height": null,
            "align_content": null,
            "visibility": null,
            "align_self": null,
            "height": null,
            "min_height": null,
            "padding": null,
            "grid_auto_rows": null,
            "grid_gap": null,
            "max_width": null,
            "order": null,
            "_view_module_version": "1.2.0",
            "grid_template_areas": null,
            "object_position": null,
            "object_fit": null,
            "grid_auto_columns": null,
            "margin": null,
            "display": null,
            "left": null
          }
        },
        "b1742c257eda40cc969ae170088673a9": {
          "model_module": "@jupyter-widgets/controls",
          "model_name": "LabelModel",
          "state": {
            "_view_name": "LabelView",
            "style": "IPY_MODEL_e87174d057914af99ef3493a3e1392ea",
            "_dom_classes": [],
            "description": "",
            "_model_name": "LabelModel",
            "placeholder": "​",
            "_view_module": "@jupyter-widgets/controls",
            "_model_module_version": "1.5.0",
            "value": " 112.26MB of 112.26MB uploaded (0.00MB deduped)\r",
            "_view_count": null,
            "_view_module_version": "1.5.0",
            "description_tooltip": null,
            "_model_module": "@jupyter-widgets/controls",
            "layout": "IPY_MODEL_36b897e283344e9e9a19b68984db6bf9"
          }
        },
        "7b8de792b7c1445cb8d6002452b5a538": {
          "model_module": "@jupyter-widgets/controls",
          "model_name": "FloatProgressModel",
          "state": {
            "_view_name": "ProgressView",
            "style": "IPY_MODEL_bc282958dc9c482591867ba7e64a1958",
            "_dom_classes": [],
            "description": "",
            "_model_name": "FloatProgressModel",
            "bar_style": "",
            "max": 1,
            "_view_module": "@jupyter-widgets/controls",
            "_model_module_version": "1.5.0",
            "value": 1,
            "_view_count": null,
            "_view_module_version": "1.5.0",
            "orientation": "horizontal",
            "min": 0,
            "description_tooltip": null,
            "_model_module": "@jupyter-widgets/controls",
            "layout": "IPY_MODEL_a39e40c587b643d6841f209b2d6fe861"
          }
        },
        "e87174d057914af99ef3493a3e1392ea": {
          "model_module": "@jupyter-widgets/controls",
          "model_name": "DescriptionStyleModel",
          "state": {
            "_view_name": "StyleView",
            "_model_name": "DescriptionStyleModel",
            "description_width": "",
            "_view_module": "@jupyter-widgets/base",
            "_model_module_version": "1.5.0",
            "_view_count": null,
            "_view_module_version": "1.2.0",
            "_model_module": "@jupyter-widgets/controls"
          }
        },
        "36b897e283344e9e9a19b68984db6bf9": {
          "model_module": "@jupyter-widgets/base",
          "model_name": "LayoutModel",
          "state": {
            "_view_name": "LayoutView",
            "grid_template_rows": null,
            "right": null,
            "justify_content": null,
            "_view_module": "@jupyter-widgets/base",
            "overflow": null,
            "_model_module_version": "1.2.0",
            "_view_count": null,
            "flex_flow": null,
            "width": null,
            "min_width": null,
            "border": null,
            "align_items": null,
            "bottom": null,
            "_model_module": "@jupyter-widgets/base",
            "top": null,
            "grid_column": null,
            "overflow_y": null,
            "overflow_x": null,
            "grid_auto_flow": null,
            "grid_area": null,
            "grid_template_columns": null,
            "flex": null,
            "_model_name": "LayoutModel",
            "justify_items": null,
            "grid_row": null,
            "max_height": null,
            "align_content": null,
            "visibility": null,
            "align_self": null,
            "height": null,
            "min_height": null,
            "padding": null,
            "grid_auto_rows": null,
            "grid_gap": null,
            "max_width": null,
            "order": null,
            "_view_module_version": "1.2.0",
            "grid_template_areas": null,
            "object_position": null,
            "object_fit": null,
            "grid_auto_columns": null,
            "margin": null,
            "display": null,
            "left": null
          }
        },
        "bc282958dc9c482591867ba7e64a1958": {
          "model_module": "@jupyter-widgets/controls",
          "model_name": "ProgressStyleModel",
          "state": {
            "_view_name": "StyleView",
            "_model_name": "ProgressStyleModel",
            "description_width": "",
            "_view_module": "@jupyter-widgets/base",
            "_model_module_version": "1.5.0",
            "_view_count": null,
            "_view_module_version": "1.2.0",
            "bar_color": null,
            "_model_module": "@jupyter-widgets/controls"
          }
        },
        "a39e40c587b643d6841f209b2d6fe861": {
          "model_module": "@jupyter-widgets/base",
          "model_name": "LayoutModel",
          "state": {
            "_view_name": "LayoutView",
            "grid_template_rows": null,
            "right": null,
            "justify_content": null,
            "_view_module": "@jupyter-widgets/base",
            "overflow": null,
            "_model_module_version": "1.2.0",
            "_view_count": null,
            "flex_flow": null,
            "width": null,
            "min_width": null,
            "border": null,
            "align_items": null,
            "bottom": null,
            "_model_module": "@jupyter-widgets/base",
            "top": null,
            "grid_column": null,
            "overflow_y": null,
            "overflow_x": null,
            "grid_auto_flow": null,
            "grid_area": null,
            "grid_template_columns": null,
            "flex": null,
            "_model_name": "LayoutModel",
            "justify_items": null,
            "grid_row": null,
            "max_height": null,
            "align_content": null,
            "visibility": null,
            "align_self": null,
            "height": null,
            "min_height": null,
            "padding": null,
            "grid_auto_rows": null,
            "grid_gap": null,
            "max_width": null,
            "order": null,
            "_view_module_version": "1.2.0",
            "grid_template_areas": null,
            "object_position": null,
            "object_fit": null,
            "grid_auto_columns": null,
            "margin": null,
            "display": null,
            "left": null
          }
        },
        "bf8d9e8cc9c5497fb4dde25295846249": {
          "model_module": "@jupyter-widgets/controls",
          "model_name": "VBoxModel",
          "state": {
            "_view_name": "VBoxView",
            "_dom_classes": [],
            "_model_name": "VBoxModel",
            "_view_module": "@jupyter-widgets/controls",
            "_model_module_version": "1.5.0",
            "_view_count": null,
            "_view_module_version": "1.5.0",
            "box_style": "",
            "layout": "IPY_MODEL_ebee2567f5974cf6b240a148bdb0de4d",
            "_model_module": "@jupyter-widgets/controls",
            "children": [
              "IPY_MODEL_9fd8009d8c8946cfba61782328231833",
              "IPY_MODEL_f926f1c2c8054556a427c022c0e02985"
            ]
          }
        },
        "ebee2567f5974cf6b240a148bdb0de4d": {
          "model_module": "@jupyter-widgets/base",
          "model_name": "LayoutModel",
          "state": {
            "_view_name": "LayoutView",
            "grid_template_rows": null,
            "right": null,
            "justify_content": null,
            "_view_module": "@jupyter-widgets/base",
            "overflow": null,
            "_model_module_version": "1.2.0",
            "_view_count": null,
            "flex_flow": null,
            "width": null,
            "min_width": null,
            "border": null,
            "align_items": null,
            "bottom": null,
            "_model_module": "@jupyter-widgets/base",
            "top": null,
            "grid_column": null,
            "overflow_y": null,
            "overflow_x": null,
            "grid_auto_flow": null,
            "grid_area": null,
            "grid_template_columns": null,
            "flex": null,
            "_model_name": "LayoutModel",
            "justify_items": null,
            "grid_row": null,
            "max_height": null,
            "align_content": null,
            "visibility": null,
            "align_self": null,
            "height": null,
            "min_height": null,
            "padding": null,
            "grid_auto_rows": null,
            "grid_gap": null,
            "max_width": null,
            "order": null,
            "_view_module_version": "1.2.0",
            "grid_template_areas": null,
            "object_position": null,
            "object_fit": null,
            "grid_auto_columns": null,
            "margin": null,
            "display": null,
            "left": null
          }
        },
        "9fd8009d8c8946cfba61782328231833": {
          "model_module": "@jupyter-widgets/controls",
          "model_name": "LabelModel",
          "state": {
            "_view_name": "LabelView",
            "style": "IPY_MODEL_b3adde4b6d154d37bfe9feb4aace159d",
            "_dom_classes": [],
            "description": "",
            "_model_name": "LabelModel",
            "placeholder": "​",
            "_view_module": "@jupyter-widgets/controls",
            "_model_module_version": "1.5.0",
            "value": " 1126.14MB of 1126.14MB uploaded (0.00MB deduped)\r",
            "_view_count": null,
            "_view_module_version": "1.5.0",
            "description_tooltip": null,
            "_model_module": "@jupyter-widgets/controls",
            "layout": "IPY_MODEL_0d4bc5afd1be47d990fe4735a55867dc"
          }
        },
        "f926f1c2c8054556a427c022c0e02985": {
          "model_module": "@jupyter-widgets/controls",
          "model_name": "FloatProgressModel",
          "state": {
            "_view_name": "ProgressView",
            "style": "IPY_MODEL_60f407b94c0f4af4a9803ff2c5df4ffd",
            "_dom_classes": [],
            "description": "",
            "_model_name": "FloatProgressModel",
            "bar_style": "",
            "max": 1,
            "_view_module": "@jupyter-widgets/controls",
            "_model_module_version": "1.5.0",
            "value": 1,
            "_view_count": null,
            "_view_module_version": "1.5.0",
            "orientation": "horizontal",
            "min": 0,
            "description_tooltip": null,
            "_model_module": "@jupyter-widgets/controls",
            "layout": "IPY_MODEL_0428413924554affb3fa293139a95db5"
          }
        },
        "b3adde4b6d154d37bfe9feb4aace159d": {
          "model_module": "@jupyter-widgets/controls",
          "model_name": "DescriptionStyleModel",
          "state": {
            "_view_name": "StyleView",
            "_model_name": "DescriptionStyleModel",
            "description_width": "",
            "_view_module": "@jupyter-widgets/base",
            "_model_module_version": "1.5.0",
            "_view_count": null,
            "_view_module_version": "1.2.0",
            "_model_module": "@jupyter-widgets/controls"
          }
        },
        "0d4bc5afd1be47d990fe4735a55867dc": {
          "model_module": "@jupyter-widgets/base",
          "model_name": "LayoutModel",
          "state": {
            "_view_name": "LayoutView",
            "grid_template_rows": null,
            "right": null,
            "justify_content": null,
            "_view_module": "@jupyter-widgets/base",
            "overflow": null,
            "_model_module_version": "1.2.0",
            "_view_count": null,
            "flex_flow": null,
            "width": null,
            "min_width": null,
            "border": null,
            "align_items": null,
            "bottom": null,
            "_model_module": "@jupyter-widgets/base",
            "top": null,
            "grid_column": null,
            "overflow_y": null,
            "overflow_x": null,
            "grid_auto_flow": null,
            "grid_area": null,
            "grid_template_columns": null,
            "flex": null,
            "_model_name": "LayoutModel",
            "justify_items": null,
            "grid_row": null,
            "max_height": null,
            "align_content": null,
            "visibility": null,
            "align_self": null,
            "height": null,
            "min_height": null,
            "padding": null,
            "grid_auto_rows": null,
            "grid_gap": null,
            "max_width": null,
            "order": null,
            "_view_module_version": "1.2.0",
            "grid_template_areas": null,
            "object_position": null,
            "object_fit": null,
            "grid_auto_columns": null,
            "margin": null,
            "display": null,
            "left": null
          }
        },
        "60f407b94c0f4af4a9803ff2c5df4ffd": {
          "model_module": "@jupyter-widgets/controls",
          "model_name": "ProgressStyleModel",
          "state": {
            "_view_name": "StyleView",
            "_model_name": "ProgressStyleModel",
            "description_width": "",
            "_view_module": "@jupyter-widgets/base",
            "_model_module_version": "1.5.0",
            "_view_count": null,
            "_view_module_version": "1.2.0",
            "bar_color": null,
            "_model_module": "@jupyter-widgets/controls"
          }
        },
        "0428413924554affb3fa293139a95db5": {
          "model_module": "@jupyter-widgets/base",
          "model_name": "LayoutModel",
          "state": {
            "_view_name": "LayoutView",
            "grid_template_rows": null,
            "right": null,
            "justify_content": null,
            "_view_module": "@jupyter-widgets/base",
            "overflow": null,
            "_model_module_version": "1.2.0",
            "_view_count": null,
            "flex_flow": null,
            "width": null,
            "min_width": null,
            "border": null,
            "align_items": null,
            "bottom": null,
            "_model_module": "@jupyter-widgets/base",
            "top": null,
            "grid_column": null,
            "overflow_y": null,
            "overflow_x": null,
            "grid_auto_flow": null,
            "grid_area": null,
            "grid_template_columns": null,
            "flex": null,
            "_model_name": "LayoutModel",
            "justify_items": null,
            "grid_row": null,
            "max_height": null,
            "align_content": null,
            "visibility": null,
            "align_self": null,
            "height": null,
            "min_height": null,
            "padding": null,
            "grid_auto_rows": null,
            "grid_gap": null,
            "max_width": null,
            "order": null,
            "_view_module_version": "1.2.0",
            "grid_template_areas": null,
            "object_position": null,
            "object_fit": null,
            "grid_auto_columns": null,
            "margin": null,
            "display": null,
            "left": null
          }
        },
        "7d24699355e742efa44c6274ffec8d08": {
          "model_module": "@jupyter-widgets/controls",
          "model_name": "VBoxModel",
          "state": {
            "_view_name": "VBoxView",
            "_dom_classes": [],
            "_model_name": "VBoxModel",
            "_view_module": "@jupyter-widgets/controls",
            "_model_module_version": "1.5.0",
            "_view_count": null,
            "_view_module_version": "1.5.0",
            "box_style": "",
            "layout": "IPY_MODEL_a4c89bbf8c134efc93b2d96e79b780d0",
            "_model_module": "@jupyter-widgets/controls",
            "children": [
              "IPY_MODEL_4ace9e848c0843a68ed0d182c575c3fb",
              "IPY_MODEL_acb4177eeeb4433795eb33805328323e"
            ]
          }
        },
        "a4c89bbf8c134efc93b2d96e79b780d0": {
          "model_module": "@jupyter-widgets/base",
          "model_name": "LayoutModel",
          "state": {
            "_view_name": "LayoutView",
            "grid_template_rows": null,
            "right": null,
            "justify_content": null,
            "_view_module": "@jupyter-widgets/base",
            "overflow": null,
            "_model_module_version": "1.2.0",
            "_view_count": null,
            "flex_flow": null,
            "width": null,
            "min_width": null,
            "border": null,
            "align_items": null,
            "bottom": null,
            "_model_module": "@jupyter-widgets/base",
            "top": null,
            "grid_column": null,
            "overflow_y": null,
            "overflow_x": null,
            "grid_auto_flow": null,
            "grid_area": null,
            "grid_template_columns": null,
            "flex": null,
            "_model_name": "LayoutModel",
            "justify_items": null,
            "grid_row": null,
            "max_height": null,
            "align_content": null,
            "visibility": null,
            "align_self": null,
            "height": null,
            "min_height": null,
            "padding": null,
            "grid_auto_rows": null,
            "grid_gap": null,
            "max_width": null,
            "order": null,
            "_view_module_version": "1.2.0",
            "grid_template_areas": null,
            "object_position": null,
            "object_fit": null,
            "grid_auto_columns": null,
            "margin": null,
            "display": null,
            "left": null
          }
        },
        "4ace9e848c0843a68ed0d182c575c3fb": {
          "model_module": "@jupyter-widgets/controls",
          "model_name": "LabelModel",
          "state": {
            "_view_name": "LabelView",
            "style": "IPY_MODEL_6effd5a57235412784acf4d9f613f9be",
            "_dom_classes": [],
            "description": "",
            "_model_name": "LabelModel",
            "placeholder": "​",
            "_view_module": "@jupyter-widgets/controls",
            "_model_module_version": "1.5.0",
            "value": " 334.43MB of 334.43MB uploaded (0.00MB deduped)\r",
            "_view_count": null,
            "_view_module_version": "1.5.0",
            "description_tooltip": null,
            "_model_module": "@jupyter-widgets/controls",
            "layout": "IPY_MODEL_20deb881dfc1408dabb75b6db68e9282"
          }
        },
        "acb4177eeeb4433795eb33805328323e": {
          "model_module": "@jupyter-widgets/controls",
          "model_name": "FloatProgressModel",
          "state": {
            "_view_name": "ProgressView",
            "style": "IPY_MODEL_efcad69819084b0c956c2bd545a9d6cd",
            "_dom_classes": [],
            "description": "",
            "_model_name": "FloatProgressModel",
            "bar_style": "",
            "max": 1,
            "_view_module": "@jupyter-widgets/controls",
            "_model_module_version": "1.5.0",
            "value": 1,
            "_view_count": null,
            "_view_module_version": "1.5.0",
            "orientation": "horizontal",
            "min": 0,
            "description_tooltip": null,
            "_model_module": "@jupyter-widgets/controls",
            "layout": "IPY_MODEL_d9903f3d132246e89d21ad4f86a0cabc"
          }
        },
        "6effd5a57235412784acf4d9f613f9be": {
          "model_module": "@jupyter-widgets/controls",
          "model_name": "DescriptionStyleModel",
          "state": {
            "_view_name": "StyleView",
            "_model_name": "DescriptionStyleModel",
            "description_width": "",
            "_view_module": "@jupyter-widgets/base",
            "_model_module_version": "1.5.0",
            "_view_count": null,
            "_view_module_version": "1.2.0",
            "_model_module": "@jupyter-widgets/controls"
          }
        },
        "20deb881dfc1408dabb75b6db68e9282": {
          "model_module": "@jupyter-widgets/base",
          "model_name": "LayoutModel",
          "state": {
            "_view_name": "LayoutView",
            "grid_template_rows": null,
            "right": null,
            "justify_content": null,
            "_view_module": "@jupyter-widgets/base",
            "overflow": null,
            "_model_module_version": "1.2.0",
            "_view_count": null,
            "flex_flow": null,
            "width": null,
            "min_width": null,
            "border": null,
            "align_items": null,
            "bottom": null,
            "_model_module": "@jupyter-widgets/base",
            "top": null,
            "grid_column": null,
            "overflow_y": null,
            "overflow_x": null,
            "grid_auto_flow": null,
            "grid_area": null,
            "grid_template_columns": null,
            "flex": null,
            "_model_name": "LayoutModel",
            "justify_items": null,
            "grid_row": null,
            "max_height": null,
            "align_content": null,
            "visibility": null,
            "align_self": null,
            "height": null,
            "min_height": null,
            "padding": null,
            "grid_auto_rows": null,
            "grid_gap": null,
            "max_width": null,
            "order": null,
            "_view_module_version": "1.2.0",
            "grid_template_areas": null,
            "object_position": null,
            "object_fit": null,
            "grid_auto_columns": null,
            "margin": null,
            "display": null,
            "left": null
          }
        },
        "efcad69819084b0c956c2bd545a9d6cd": {
          "model_module": "@jupyter-widgets/controls",
          "model_name": "ProgressStyleModel",
          "state": {
            "_view_name": "StyleView",
            "_model_name": "ProgressStyleModel",
            "description_width": "",
            "_view_module": "@jupyter-widgets/base",
            "_model_module_version": "1.5.0",
            "_view_count": null,
            "_view_module_version": "1.2.0",
            "bar_color": null,
            "_model_module": "@jupyter-widgets/controls"
          }
        },
        "d9903f3d132246e89d21ad4f86a0cabc": {
          "model_module": "@jupyter-widgets/base",
          "model_name": "LayoutModel",
          "state": {
            "_view_name": "LayoutView",
            "grid_template_rows": null,
            "right": null,
            "justify_content": null,
            "_view_module": "@jupyter-widgets/base",
            "overflow": null,
            "_model_module_version": "1.2.0",
            "_view_count": null,
            "flex_flow": null,
            "width": null,
            "min_width": null,
            "border": null,
            "align_items": null,
            "bottom": null,
            "_model_module": "@jupyter-widgets/base",
            "top": null,
            "grid_column": null,
            "overflow_y": null,
            "overflow_x": null,
            "grid_auto_flow": null,
            "grid_area": null,
            "grid_template_columns": null,
            "flex": null,
            "_model_name": "LayoutModel",
            "justify_items": null,
            "grid_row": null,
            "max_height": null,
            "align_content": null,
            "visibility": null,
            "align_self": null,
            "height": null,
            "min_height": null,
            "padding": null,
            "grid_auto_rows": null,
            "grid_gap": null,
            "max_width": null,
            "order": null,
            "_view_module_version": "1.2.0",
            "grid_template_areas": null,
            "object_position": null,
            "object_fit": null,
            "grid_auto_columns": null,
            "margin": null,
            "display": null,
            "left": null
          }
        },
        "a23263e677434de68703edcc93ff7a62": {
          "model_module": "@jupyter-widgets/controls",
          "model_name": "VBoxModel",
          "state": {
            "_view_name": "VBoxView",
            "_dom_classes": [],
            "_model_name": "VBoxModel",
            "_view_module": "@jupyter-widgets/controls",
            "_model_module_version": "1.5.0",
            "_view_count": null,
            "_view_module_version": "1.5.0",
            "box_style": "",
            "layout": "IPY_MODEL_b7440b762efe43189a7e572ab4aa1bea",
            "_model_module": "@jupyter-widgets/controls",
            "children": [
              "IPY_MODEL_2130fac9fd3c495db62768d15db3f483",
              "IPY_MODEL_24a1c575a5314bb1a61d8f4e67662ee7"
            ]
          }
        },
        "b7440b762efe43189a7e572ab4aa1bea": {
          "model_module": "@jupyter-widgets/base",
          "model_name": "LayoutModel",
          "state": {
            "_view_name": "LayoutView",
            "grid_template_rows": null,
            "right": null,
            "justify_content": null,
            "_view_module": "@jupyter-widgets/base",
            "overflow": null,
            "_model_module_version": "1.2.0",
            "_view_count": null,
            "flex_flow": null,
            "width": null,
            "min_width": null,
            "border": null,
            "align_items": null,
            "bottom": null,
            "_model_module": "@jupyter-widgets/base",
            "top": null,
            "grid_column": null,
            "overflow_y": null,
            "overflow_x": null,
            "grid_auto_flow": null,
            "grid_area": null,
            "grid_template_columns": null,
            "flex": null,
            "_model_name": "LayoutModel",
            "justify_items": null,
            "grid_row": null,
            "max_height": null,
            "align_content": null,
            "visibility": null,
            "align_self": null,
            "height": null,
            "min_height": null,
            "padding": null,
            "grid_auto_rows": null,
            "grid_gap": null,
            "max_width": null,
            "order": null,
            "_view_module_version": "1.2.0",
            "grid_template_areas": null,
            "object_position": null,
            "object_fit": null,
            "grid_auto_columns": null,
            "margin": null,
            "display": null,
            "left": null
          }
        },
        "2130fac9fd3c495db62768d15db3f483": {
          "model_module": "@jupyter-widgets/controls",
          "model_name": "LabelModel",
          "state": {
            "_view_name": "LabelView",
            "style": "IPY_MODEL_98e5a08b730c495d8cd043735f9b870f",
            "_dom_classes": [],
            "description": "",
            "_model_name": "LabelModel",
            "placeholder": "​",
            "_view_module": "@jupyter-widgets/controls",
            "_model_module_version": "1.5.0",
            "value": " 334.43MB of 334.43MB uploaded (0.00MB deduped)\r",
            "_view_count": null,
            "_view_module_version": "1.5.0",
            "description_tooltip": null,
            "_model_module": "@jupyter-widgets/controls",
            "layout": "IPY_MODEL_3f91f05a8de04da09c9addb67528391b"
          }
        },
        "24a1c575a5314bb1a61d8f4e67662ee7": {
          "model_module": "@jupyter-widgets/controls",
          "model_name": "FloatProgressModel",
          "state": {
            "_view_name": "ProgressView",
            "style": "IPY_MODEL_4637a1aafd354e669713ca537d0cf199",
            "_dom_classes": [],
            "description": "",
            "_model_name": "FloatProgressModel",
            "bar_style": "",
            "max": 1,
            "_view_module": "@jupyter-widgets/controls",
            "_model_module_version": "1.5.0",
            "value": 1,
            "_view_count": null,
            "_view_module_version": "1.5.0",
            "orientation": "horizontal",
            "min": 0,
            "description_tooltip": null,
            "_model_module": "@jupyter-widgets/controls",
            "layout": "IPY_MODEL_9a85dfd758354727845b4d73fbf61333"
          }
        },
        "98e5a08b730c495d8cd043735f9b870f": {
          "model_module": "@jupyter-widgets/controls",
          "model_name": "DescriptionStyleModel",
          "state": {
            "_view_name": "StyleView",
            "_model_name": "DescriptionStyleModel",
            "description_width": "",
            "_view_module": "@jupyter-widgets/base",
            "_model_module_version": "1.5.0",
            "_view_count": null,
            "_view_module_version": "1.2.0",
            "_model_module": "@jupyter-widgets/controls"
          }
        },
        "3f91f05a8de04da09c9addb67528391b": {
          "model_module": "@jupyter-widgets/base",
          "model_name": "LayoutModel",
          "state": {
            "_view_name": "LayoutView",
            "grid_template_rows": null,
            "right": null,
            "justify_content": null,
            "_view_module": "@jupyter-widgets/base",
            "overflow": null,
            "_model_module_version": "1.2.0",
            "_view_count": null,
            "flex_flow": null,
            "width": null,
            "min_width": null,
            "border": null,
            "align_items": null,
            "bottom": null,
            "_model_module": "@jupyter-widgets/base",
            "top": null,
            "grid_column": null,
            "overflow_y": null,
            "overflow_x": null,
            "grid_auto_flow": null,
            "grid_area": null,
            "grid_template_columns": null,
            "flex": null,
            "_model_name": "LayoutModel",
            "justify_items": null,
            "grid_row": null,
            "max_height": null,
            "align_content": null,
            "visibility": null,
            "align_self": null,
            "height": null,
            "min_height": null,
            "padding": null,
            "grid_auto_rows": null,
            "grid_gap": null,
            "max_width": null,
            "order": null,
            "_view_module_version": "1.2.0",
            "grid_template_areas": null,
            "object_position": null,
            "object_fit": null,
            "grid_auto_columns": null,
            "margin": null,
            "display": null,
            "left": null
          }
        },
        "4637a1aafd354e669713ca537d0cf199": {
          "model_module": "@jupyter-widgets/controls",
          "model_name": "ProgressStyleModel",
          "state": {
            "_view_name": "StyleView",
            "_model_name": "ProgressStyleModel",
            "description_width": "",
            "_view_module": "@jupyter-widgets/base",
            "_model_module_version": "1.5.0",
            "_view_count": null,
            "_view_module_version": "1.2.0",
            "bar_color": null,
            "_model_module": "@jupyter-widgets/controls"
          }
        },
        "9a85dfd758354727845b4d73fbf61333": {
          "model_module": "@jupyter-widgets/base",
          "model_name": "LayoutModel",
          "state": {
            "_view_name": "LayoutView",
            "grid_template_rows": null,
            "right": null,
            "justify_content": null,
            "_view_module": "@jupyter-widgets/base",
            "overflow": null,
            "_model_module_version": "1.2.0",
            "_view_count": null,
            "flex_flow": null,
            "width": null,
            "min_width": null,
            "border": null,
            "align_items": null,
            "bottom": null,
            "_model_module": "@jupyter-widgets/base",
            "top": null,
            "grid_column": null,
            "overflow_y": null,
            "overflow_x": null,
            "grid_auto_flow": null,
            "grid_area": null,
            "grid_template_columns": null,
            "flex": null,
            "_model_name": "LayoutModel",
            "justify_items": null,
            "grid_row": null,
            "max_height": null,
            "align_content": null,
            "visibility": null,
            "align_self": null,
            "height": null,
            "min_height": null,
            "padding": null,
            "grid_auto_rows": null,
            "grid_gap": null,
            "max_width": null,
            "order": null,
            "_view_module_version": "1.2.0",
            "grid_template_areas": null,
            "object_position": null,
            "object_fit": null,
            "grid_auto_columns": null,
            "margin": null,
            "display": null,
            "left": null
          }
        },
        "1c5274df70b948909864c2c711342a31": {
          "model_module": "@jupyter-widgets/controls",
          "model_name": "VBoxModel",
          "state": {
            "_view_name": "VBoxView",
            "_dom_classes": [],
            "_model_name": "VBoxModel",
            "_view_module": "@jupyter-widgets/controls",
            "_model_module_version": "1.5.0",
            "_view_count": null,
            "_view_module_version": "1.5.0",
            "box_style": "",
            "layout": "IPY_MODEL_127f4065a0bd43e1ac0e33c491fab478",
            "_model_module": "@jupyter-widgets/controls",
            "children": [
              "IPY_MODEL_8a0954ad4803470d98dc1bbc243e789c",
              "IPY_MODEL_1f6fce46cc384b76a195ad4fb2bfee44"
            ]
          }
        },
        "127f4065a0bd43e1ac0e33c491fab478": {
          "model_module": "@jupyter-widgets/base",
          "model_name": "LayoutModel",
          "state": {
            "_view_name": "LayoutView",
            "grid_template_rows": null,
            "right": null,
            "justify_content": null,
            "_view_module": "@jupyter-widgets/base",
            "overflow": null,
            "_model_module_version": "1.2.0",
            "_view_count": null,
            "flex_flow": null,
            "width": null,
            "min_width": null,
            "border": null,
            "align_items": null,
            "bottom": null,
            "_model_module": "@jupyter-widgets/base",
            "top": null,
            "grid_column": null,
            "overflow_y": null,
            "overflow_x": null,
            "grid_auto_flow": null,
            "grid_area": null,
            "grid_template_columns": null,
            "flex": null,
            "_model_name": "LayoutModel",
            "justify_items": null,
            "grid_row": null,
            "max_height": null,
            "align_content": null,
            "visibility": null,
            "align_self": null,
            "height": null,
            "min_height": null,
            "padding": null,
            "grid_auto_rows": null,
            "grid_gap": null,
            "max_width": null,
            "order": null,
            "_view_module_version": "1.2.0",
            "grid_template_areas": null,
            "object_position": null,
            "object_fit": null,
            "grid_auto_columns": null,
            "margin": null,
            "display": null,
            "left": null
          }
        },
        "8a0954ad4803470d98dc1bbc243e789c": {
          "model_module": "@jupyter-widgets/controls",
          "model_name": "LabelModel",
          "state": {
            "_view_name": "LabelView",
            "style": "IPY_MODEL_85f6326fae3548b58759d8c47c3cb5d3",
            "_dom_classes": [],
            "description": "",
            "_model_name": "LabelModel",
            "placeholder": "​",
            "_view_module": "@jupyter-widgets/controls",
            "_model_module_version": "1.5.0",
            "value": " 112.26MB of 112.26MB uploaded (0.00MB deduped)\r",
            "_view_count": null,
            "_view_module_version": "1.5.0",
            "description_tooltip": null,
            "_model_module": "@jupyter-widgets/controls",
            "layout": "IPY_MODEL_1b26d8d3d2aa426a9c8c94b6683ef598"
          }
        },
        "1f6fce46cc384b76a195ad4fb2bfee44": {
          "model_module": "@jupyter-widgets/controls",
          "model_name": "FloatProgressModel",
          "state": {
            "_view_name": "ProgressView",
            "style": "IPY_MODEL_b207b76b3e6e415da3457d6fcbc4ca40",
            "_dom_classes": [],
            "description": "",
            "_model_name": "FloatProgressModel",
            "bar_style": "",
            "max": 1,
            "_view_module": "@jupyter-widgets/controls",
            "_model_module_version": "1.5.0",
            "value": 1,
            "_view_count": null,
            "_view_module_version": "1.5.0",
            "orientation": "horizontal",
            "min": 0,
            "description_tooltip": null,
            "_model_module": "@jupyter-widgets/controls",
            "layout": "IPY_MODEL_375cb3cb1d964a70a6bb48f74483d055"
          }
        },
        "85f6326fae3548b58759d8c47c3cb5d3": {
          "model_module": "@jupyter-widgets/controls",
          "model_name": "DescriptionStyleModel",
          "state": {
            "_view_name": "StyleView",
            "_model_name": "DescriptionStyleModel",
            "description_width": "",
            "_view_module": "@jupyter-widgets/base",
            "_model_module_version": "1.5.0",
            "_view_count": null,
            "_view_module_version": "1.2.0",
            "_model_module": "@jupyter-widgets/controls"
          }
        },
        "1b26d8d3d2aa426a9c8c94b6683ef598": {
          "model_module": "@jupyter-widgets/base",
          "model_name": "LayoutModel",
          "state": {
            "_view_name": "LayoutView",
            "grid_template_rows": null,
            "right": null,
            "justify_content": null,
            "_view_module": "@jupyter-widgets/base",
            "overflow": null,
            "_model_module_version": "1.2.0",
            "_view_count": null,
            "flex_flow": null,
            "width": null,
            "min_width": null,
            "border": null,
            "align_items": null,
            "bottom": null,
            "_model_module": "@jupyter-widgets/base",
            "top": null,
            "grid_column": null,
            "overflow_y": null,
            "overflow_x": null,
            "grid_auto_flow": null,
            "grid_area": null,
            "grid_template_columns": null,
            "flex": null,
            "_model_name": "LayoutModel",
            "justify_items": null,
            "grid_row": null,
            "max_height": null,
            "align_content": null,
            "visibility": null,
            "align_self": null,
            "height": null,
            "min_height": null,
            "padding": null,
            "grid_auto_rows": null,
            "grid_gap": null,
            "max_width": null,
            "order": null,
            "_view_module_version": "1.2.0",
            "grid_template_areas": null,
            "object_position": null,
            "object_fit": null,
            "grid_auto_columns": null,
            "margin": null,
            "display": null,
            "left": null
          }
        },
        "b207b76b3e6e415da3457d6fcbc4ca40": {
          "model_module": "@jupyter-widgets/controls",
          "model_name": "ProgressStyleModel",
          "state": {
            "_view_name": "StyleView",
            "_model_name": "ProgressStyleModel",
            "description_width": "",
            "_view_module": "@jupyter-widgets/base",
            "_model_module_version": "1.5.0",
            "_view_count": null,
            "_view_module_version": "1.2.0",
            "bar_color": null,
            "_model_module": "@jupyter-widgets/controls"
          }
        },
        "375cb3cb1d964a70a6bb48f74483d055": {
          "model_module": "@jupyter-widgets/base",
          "model_name": "LayoutModel",
          "state": {
            "_view_name": "LayoutView",
            "grid_template_rows": null,
            "right": null,
            "justify_content": null,
            "_view_module": "@jupyter-widgets/base",
            "overflow": null,
            "_model_module_version": "1.2.0",
            "_view_count": null,
            "flex_flow": null,
            "width": null,
            "min_width": null,
            "border": null,
            "align_items": null,
            "bottom": null,
            "_model_module": "@jupyter-widgets/base",
            "top": null,
            "grid_column": null,
            "overflow_y": null,
            "overflow_x": null,
            "grid_auto_flow": null,
            "grid_area": null,
            "grid_template_columns": null,
            "flex": null,
            "_model_name": "LayoutModel",
            "justify_items": null,
            "grid_row": null,
            "max_height": null,
            "align_content": null,
            "visibility": null,
            "align_self": null,
            "height": null,
            "min_height": null,
            "padding": null,
            "grid_auto_rows": null,
            "grid_gap": null,
            "max_width": null,
            "order": null,
            "_view_module_version": "1.2.0",
            "grid_template_areas": null,
            "object_position": null,
            "object_fit": null,
            "grid_auto_columns": null,
            "margin": null,
            "display": null,
            "left": null
          }
        },
        "953bb4a363104d62a69bee8f45a256f1": {
          "model_module": "@jupyter-widgets/controls",
          "model_name": "VBoxModel",
          "state": {
            "_view_name": "VBoxView",
            "_dom_classes": [],
            "_model_name": "VBoxModel",
            "_view_module": "@jupyter-widgets/controls",
            "_model_module_version": "1.5.0",
            "_view_count": null,
            "_view_module_version": "1.5.0",
            "box_style": "",
            "layout": "IPY_MODEL_6f98ab52ad0e4e25add1814bef0325ee",
            "_model_module": "@jupyter-widgets/controls",
            "children": [
              "IPY_MODEL_3485ab55f9dc4184a36ee6542e35b2a5",
              "IPY_MODEL_c5ef8088a4584f719cf4e376004a9fd5"
            ]
          }
        },
        "6f98ab52ad0e4e25add1814bef0325ee": {
          "model_module": "@jupyter-widgets/base",
          "model_name": "LayoutModel",
          "state": {
            "_view_name": "LayoutView",
            "grid_template_rows": null,
            "right": null,
            "justify_content": null,
            "_view_module": "@jupyter-widgets/base",
            "overflow": null,
            "_model_module_version": "1.2.0",
            "_view_count": null,
            "flex_flow": null,
            "width": null,
            "min_width": null,
            "border": null,
            "align_items": null,
            "bottom": null,
            "_model_module": "@jupyter-widgets/base",
            "top": null,
            "grid_column": null,
            "overflow_y": null,
            "overflow_x": null,
            "grid_auto_flow": null,
            "grid_area": null,
            "grid_template_columns": null,
            "flex": null,
            "_model_name": "LayoutModel",
            "justify_items": null,
            "grid_row": null,
            "max_height": null,
            "align_content": null,
            "visibility": null,
            "align_self": null,
            "height": null,
            "min_height": null,
            "padding": null,
            "grid_auto_rows": null,
            "grid_gap": null,
            "max_width": null,
            "order": null,
            "_view_module_version": "1.2.0",
            "grid_template_areas": null,
            "object_position": null,
            "object_fit": null,
            "grid_auto_columns": null,
            "margin": null,
            "display": null,
            "left": null
          }
        },
        "3485ab55f9dc4184a36ee6542e35b2a5": {
          "model_module": "@jupyter-widgets/controls",
          "model_name": "LabelModel",
          "state": {
            "_view_name": "LabelView",
            "style": "IPY_MODEL_ea13ec9edb204442b567762debbbf751",
            "_dom_classes": [],
            "description": "",
            "_model_name": "LabelModel",
            "placeholder": "​",
            "_view_module": "@jupyter-widgets/controls",
            "_model_module_version": "1.5.0",
            "value": " 486.48MB of 486.48MB uploaded (0.00MB deduped)\r",
            "_view_count": null,
            "_view_module_version": "1.5.0",
            "description_tooltip": null,
            "_model_module": "@jupyter-widgets/controls",
            "layout": "IPY_MODEL_e262ec72a3de43db8f97e3fbd778838b"
          }
        },
        "c5ef8088a4584f719cf4e376004a9fd5": {
          "model_module": "@jupyter-widgets/controls",
          "model_name": "FloatProgressModel",
          "state": {
            "_view_name": "ProgressView",
            "style": "IPY_MODEL_764b84a58c76410392ba942012b30eba",
            "_dom_classes": [],
            "description": "",
            "_model_name": "FloatProgressModel",
            "bar_style": "",
            "max": 1,
            "_view_module": "@jupyter-widgets/controls",
            "_model_module_version": "1.5.0",
            "value": 1,
            "_view_count": null,
            "_view_module_version": "1.5.0",
            "orientation": "horizontal",
            "min": 0,
            "description_tooltip": null,
            "_model_module": "@jupyter-widgets/controls",
            "layout": "IPY_MODEL_7cba96dba2d445f8819d5fcc440272fd"
          }
        },
        "ea13ec9edb204442b567762debbbf751": {
          "model_module": "@jupyter-widgets/controls",
          "model_name": "DescriptionStyleModel",
          "state": {
            "_view_name": "StyleView",
            "_model_name": "DescriptionStyleModel",
            "description_width": "",
            "_view_module": "@jupyter-widgets/base",
            "_model_module_version": "1.5.0",
            "_view_count": null,
            "_view_module_version": "1.2.0",
            "_model_module": "@jupyter-widgets/controls"
          }
        },
        "e262ec72a3de43db8f97e3fbd778838b": {
          "model_module": "@jupyter-widgets/base",
          "model_name": "LayoutModel",
          "state": {
            "_view_name": "LayoutView",
            "grid_template_rows": null,
            "right": null,
            "justify_content": null,
            "_view_module": "@jupyter-widgets/base",
            "overflow": null,
            "_model_module_version": "1.2.0",
            "_view_count": null,
            "flex_flow": null,
            "width": null,
            "min_width": null,
            "border": null,
            "align_items": null,
            "bottom": null,
            "_model_module": "@jupyter-widgets/base",
            "top": null,
            "grid_column": null,
            "overflow_y": null,
            "overflow_x": null,
            "grid_auto_flow": null,
            "grid_area": null,
            "grid_template_columns": null,
            "flex": null,
            "_model_name": "LayoutModel",
            "justify_items": null,
            "grid_row": null,
            "max_height": null,
            "align_content": null,
            "visibility": null,
            "align_self": null,
            "height": null,
            "min_height": null,
            "padding": null,
            "grid_auto_rows": null,
            "grid_gap": null,
            "max_width": null,
            "order": null,
            "_view_module_version": "1.2.0",
            "grid_template_areas": null,
            "object_position": null,
            "object_fit": null,
            "grid_auto_columns": null,
            "margin": null,
            "display": null,
            "left": null
          }
        },
        "764b84a58c76410392ba942012b30eba": {
          "model_module": "@jupyter-widgets/controls",
          "model_name": "ProgressStyleModel",
          "state": {
            "_view_name": "StyleView",
            "_model_name": "ProgressStyleModel",
            "description_width": "",
            "_view_module": "@jupyter-widgets/base",
            "_model_module_version": "1.5.0",
            "_view_count": null,
            "_view_module_version": "1.2.0",
            "bar_color": null,
            "_model_module": "@jupyter-widgets/controls"
          }
        },
        "7cba96dba2d445f8819d5fcc440272fd": {
          "model_module": "@jupyter-widgets/base",
          "model_name": "LayoutModel",
          "state": {
            "_view_name": "LayoutView",
            "grid_template_rows": null,
            "right": null,
            "justify_content": null,
            "_view_module": "@jupyter-widgets/base",
            "overflow": null,
            "_model_module_version": "1.2.0",
            "_view_count": null,
            "flex_flow": null,
            "width": null,
            "min_width": null,
            "border": null,
            "align_items": null,
            "bottom": null,
            "_model_module": "@jupyter-widgets/base",
            "top": null,
            "grid_column": null,
            "overflow_y": null,
            "overflow_x": null,
            "grid_auto_flow": null,
            "grid_area": null,
            "grid_template_columns": null,
            "flex": null,
            "_model_name": "LayoutModel",
            "justify_items": null,
            "grid_row": null,
            "max_height": null,
            "align_content": null,
            "visibility": null,
            "align_self": null,
            "height": null,
            "min_height": null,
            "padding": null,
            "grid_auto_rows": null,
            "grid_gap": null,
            "max_width": null,
            "order": null,
            "_view_module_version": "1.2.0",
            "grid_template_areas": null,
            "object_position": null,
            "object_fit": null,
            "grid_auto_columns": null,
            "margin": null,
            "display": null,
            "left": null
          }
        },
        "0f0e1a129df044f69cfa5a06ffcd4747": {
          "model_module": "@jupyter-widgets/controls",
          "model_name": "VBoxModel",
          "state": {
            "_view_name": "VBoxView",
            "_dom_classes": [],
            "_model_name": "VBoxModel",
            "_view_module": "@jupyter-widgets/controls",
            "_model_module_version": "1.5.0",
            "_view_count": null,
            "_view_module_version": "1.5.0",
            "box_style": "",
            "layout": "IPY_MODEL_006cfc02ea2d47a0871436ae3755f182",
            "_model_module": "@jupyter-widgets/controls",
            "children": [
              "IPY_MODEL_3a63a7e07bb34a9bab19a2b6f31aa7cb",
              "IPY_MODEL_ea1e0e3cc2234e0185c56fff8e7cb30c"
            ]
          }
        },
        "006cfc02ea2d47a0871436ae3755f182": {
          "model_module": "@jupyter-widgets/base",
          "model_name": "LayoutModel",
          "state": {
            "_view_name": "LayoutView",
            "grid_template_rows": null,
            "right": null,
            "justify_content": null,
            "_view_module": "@jupyter-widgets/base",
            "overflow": null,
            "_model_module_version": "1.2.0",
            "_view_count": null,
            "flex_flow": null,
            "width": null,
            "min_width": null,
            "border": null,
            "align_items": null,
            "bottom": null,
            "_model_module": "@jupyter-widgets/base",
            "top": null,
            "grid_column": null,
            "overflow_y": null,
            "overflow_x": null,
            "grid_auto_flow": null,
            "grid_area": null,
            "grid_template_columns": null,
            "flex": null,
            "_model_name": "LayoutModel",
            "justify_items": null,
            "grid_row": null,
            "max_height": null,
            "align_content": null,
            "visibility": null,
            "align_self": null,
            "height": null,
            "min_height": null,
            "padding": null,
            "grid_auto_rows": null,
            "grid_gap": null,
            "max_width": null,
            "order": null,
            "_view_module_version": "1.2.0",
            "grid_template_areas": null,
            "object_position": null,
            "object_fit": null,
            "grid_auto_columns": null,
            "margin": null,
            "display": null,
            "left": null
          }
        },
        "3a63a7e07bb34a9bab19a2b6f31aa7cb": {
          "model_module": "@jupyter-widgets/controls",
          "model_name": "LabelModel",
          "state": {
            "_view_name": "LabelView",
            "style": "IPY_MODEL_e6a5298cb6534618bafeafeabfac69a9",
            "_dom_classes": [],
            "description": "",
            "_model_name": "LabelModel",
            "placeholder": "​",
            "_view_module": "@jupyter-widgets/controls",
            "_model_module_version": "1.5.0",
            "value": " 486.48MB of 486.48MB uploaded (0.00MB deduped)\r",
            "_view_count": null,
            "_view_module_version": "1.5.0",
            "description_tooltip": null,
            "_model_module": "@jupyter-widgets/controls",
            "layout": "IPY_MODEL_92d88ec500654b1f982f8140ee4e02c9"
          }
        },
        "ea1e0e3cc2234e0185c56fff8e7cb30c": {
          "model_module": "@jupyter-widgets/controls",
          "model_name": "FloatProgressModel",
          "state": {
            "_view_name": "ProgressView",
            "style": "IPY_MODEL_e89baf915ac248ed90eaef9a949cbd2b",
            "_dom_classes": [],
            "description": "",
            "_model_name": "FloatProgressModel",
            "bar_style": "",
            "max": 1,
            "_view_module": "@jupyter-widgets/controls",
            "_model_module_version": "1.5.0",
            "value": 1,
            "_view_count": null,
            "_view_module_version": "1.5.0",
            "orientation": "horizontal",
            "min": 0,
            "description_tooltip": null,
            "_model_module": "@jupyter-widgets/controls",
            "layout": "IPY_MODEL_a999cb2fae974db698d842d88cd8bcf6"
          }
        },
        "e6a5298cb6534618bafeafeabfac69a9": {
          "model_module": "@jupyter-widgets/controls",
          "model_name": "DescriptionStyleModel",
          "state": {
            "_view_name": "StyleView",
            "_model_name": "DescriptionStyleModel",
            "description_width": "",
            "_view_module": "@jupyter-widgets/base",
            "_model_module_version": "1.5.0",
            "_view_count": null,
            "_view_module_version": "1.2.0",
            "_model_module": "@jupyter-widgets/controls"
          }
        },
        "92d88ec500654b1f982f8140ee4e02c9": {
          "model_module": "@jupyter-widgets/base",
          "model_name": "LayoutModel",
          "state": {
            "_view_name": "LayoutView",
            "grid_template_rows": null,
            "right": null,
            "justify_content": null,
            "_view_module": "@jupyter-widgets/base",
            "overflow": null,
            "_model_module_version": "1.2.0",
            "_view_count": null,
            "flex_flow": null,
            "width": null,
            "min_width": null,
            "border": null,
            "align_items": null,
            "bottom": null,
            "_model_module": "@jupyter-widgets/base",
            "top": null,
            "grid_column": null,
            "overflow_y": null,
            "overflow_x": null,
            "grid_auto_flow": null,
            "grid_area": null,
            "grid_template_columns": null,
            "flex": null,
            "_model_name": "LayoutModel",
            "justify_items": null,
            "grid_row": null,
            "max_height": null,
            "align_content": null,
            "visibility": null,
            "align_self": null,
            "height": null,
            "min_height": null,
            "padding": null,
            "grid_auto_rows": null,
            "grid_gap": null,
            "max_width": null,
            "order": null,
            "_view_module_version": "1.2.0",
            "grid_template_areas": null,
            "object_position": null,
            "object_fit": null,
            "grid_auto_columns": null,
            "margin": null,
            "display": null,
            "left": null
          }
        },
        "e89baf915ac248ed90eaef9a949cbd2b": {
          "model_module": "@jupyter-widgets/controls",
          "model_name": "ProgressStyleModel",
          "state": {
            "_view_name": "StyleView",
            "_model_name": "ProgressStyleModel",
            "description_width": "",
            "_view_module": "@jupyter-widgets/base",
            "_model_module_version": "1.5.0",
            "_view_count": null,
            "_view_module_version": "1.2.0",
            "bar_color": null,
            "_model_module": "@jupyter-widgets/controls"
          }
        },
        "a999cb2fae974db698d842d88cd8bcf6": {
          "model_module": "@jupyter-widgets/base",
          "model_name": "LayoutModel",
          "state": {
            "_view_name": "LayoutView",
            "grid_template_rows": null,
            "right": null,
            "justify_content": null,
            "_view_module": "@jupyter-widgets/base",
            "overflow": null,
            "_model_module_version": "1.2.0",
            "_view_count": null,
            "flex_flow": null,
            "width": null,
            "min_width": null,
            "border": null,
            "align_items": null,
            "bottom": null,
            "_model_module": "@jupyter-widgets/base",
            "top": null,
            "grid_column": null,
            "overflow_y": null,
            "overflow_x": null,
            "grid_auto_flow": null,
            "grid_area": null,
            "grid_template_columns": null,
            "flex": null,
            "_model_name": "LayoutModel",
            "justify_items": null,
            "grid_row": null,
            "max_height": null,
            "align_content": null,
            "visibility": null,
            "align_self": null,
            "height": null,
            "min_height": null,
            "padding": null,
            "grid_auto_rows": null,
            "grid_gap": null,
            "max_width": null,
            "order": null,
            "_view_module_version": "1.2.0",
            "grid_template_areas": null,
            "object_position": null,
            "object_fit": null,
            "grid_auto_columns": null,
            "margin": null,
            "display": null,
            "left": null
          }
        },
        "51e8953eb21641a5b0cf6a5ea966582b": {
          "model_module": "@jupyter-widgets/controls",
          "model_name": "VBoxModel",
          "state": {
            "_view_name": "VBoxView",
            "_dom_classes": [],
            "_model_name": "VBoxModel",
            "_view_module": "@jupyter-widgets/controls",
            "_model_module_version": "1.5.0",
            "_view_count": null,
            "_view_module_version": "1.5.0",
            "box_style": "",
            "layout": "IPY_MODEL_1a9074f15f55438f958d9670ebd1064e",
            "_model_module": "@jupyter-widgets/controls",
            "children": [
              "IPY_MODEL_bb4b9b5f5f8b4ceb91b364f0eb46278a",
              "IPY_MODEL_ae2a38ef886f4931a13fee05b8bbdb41"
            ]
          }
        },
        "1a9074f15f55438f958d9670ebd1064e": {
          "model_module": "@jupyter-widgets/base",
          "model_name": "LayoutModel",
          "state": {
            "_view_name": "LayoutView",
            "grid_template_rows": null,
            "right": null,
            "justify_content": null,
            "_view_module": "@jupyter-widgets/base",
            "overflow": null,
            "_model_module_version": "1.2.0",
            "_view_count": null,
            "flex_flow": null,
            "width": null,
            "min_width": null,
            "border": null,
            "align_items": null,
            "bottom": null,
            "_model_module": "@jupyter-widgets/base",
            "top": null,
            "grid_column": null,
            "overflow_y": null,
            "overflow_x": null,
            "grid_auto_flow": null,
            "grid_area": null,
            "grid_template_columns": null,
            "flex": null,
            "_model_name": "LayoutModel",
            "justify_items": null,
            "grid_row": null,
            "max_height": null,
            "align_content": null,
            "visibility": null,
            "align_self": null,
            "height": null,
            "min_height": null,
            "padding": null,
            "grid_auto_rows": null,
            "grid_gap": null,
            "max_width": null,
            "order": null,
            "_view_module_version": "1.2.0",
            "grid_template_areas": null,
            "object_position": null,
            "object_fit": null,
            "grid_auto_columns": null,
            "margin": null,
            "display": null,
            "left": null
          }
        },
        "bb4b9b5f5f8b4ceb91b364f0eb46278a": {
          "model_module": "@jupyter-widgets/controls",
          "model_name": "LabelModel",
          "state": {
            "_view_name": "LabelView",
            "style": "IPY_MODEL_ae9c8e4aed0d42598bc071d765bee802",
            "_dom_classes": [],
            "description": "",
            "_model_name": "LabelModel",
            "placeholder": "​",
            "_view_module": "@jupyter-widgets/controls",
            "_model_module_version": "1.5.0",
            "value": " 1094.62MB of 1094.62MB uploaded (0.00MB deduped)\r",
            "_view_count": null,
            "_view_module_version": "1.5.0",
            "description_tooltip": null,
            "_model_module": "@jupyter-widgets/controls",
            "layout": "IPY_MODEL_3cf8c84f54674cbe97d14b489c236b7b"
          }
        },
        "ae2a38ef886f4931a13fee05b8bbdb41": {
          "model_module": "@jupyter-widgets/controls",
          "model_name": "FloatProgressModel",
          "state": {
            "_view_name": "ProgressView",
            "style": "IPY_MODEL_3bded013f8a14acb9a2bf8c76f90469a",
            "_dom_classes": [],
            "description": "",
            "_model_name": "FloatProgressModel",
            "bar_style": "",
            "max": 1,
            "_view_module": "@jupyter-widgets/controls",
            "_model_module_version": "1.5.0",
            "value": 1,
            "_view_count": null,
            "_view_module_version": "1.5.0",
            "orientation": "horizontal",
            "min": 0,
            "description_tooltip": null,
            "_model_module": "@jupyter-widgets/controls",
            "layout": "IPY_MODEL_673f8cda536e46a5b2d1436295c2a5a5"
          }
        },
        "ae9c8e4aed0d42598bc071d765bee802": {
          "model_module": "@jupyter-widgets/controls",
          "model_name": "DescriptionStyleModel",
          "state": {
            "_view_name": "StyleView",
            "_model_name": "DescriptionStyleModel",
            "description_width": "",
            "_view_module": "@jupyter-widgets/base",
            "_model_module_version": "1.5.0",
            "_view_count": null,
            "_view_module_version": "1.2.0",
            "_model_module": "@jupyter-widgets/controls"
          }
        },
        "3cf8c84f54674cbe97d14b489c236b7b": {
          "model_module": "@jupyter-widgets/base",
          "model_name": "LayoutModel",
          "state": {
            "_view_name": "LayoutView",
            "grid_template_rows": null,
            "right": null,
            "justify_content": null,
            "_view_module": "@jupyter-widgets/base",
            "overflow": null,
            "_model_module_version": "1.2.0",
            "_view_count": null,
            "flex_flow": null,
            "width": null,
            "min_width": null,
            "border": null,
            "align_items": null,
            "bottom": null,
            "_model_module": "@jupyter-widgets/base",
            "top": null,
            "grid_column": null,
            "overflow_y": null,
            "overflow_x": null,
            "grid_auto_flow": null,
            "grid_area": null,
            "grid_template_columns": null,
            "flex": null,
            "_model_name": "LayoutModel",
            "justify_items": null,
            "grid_row": null,
            "max_height": null,
            "align_content": null,
            "visibility": null,
            "align_self": null,
            "height": null,
            "min_height": null,
            "padding": null,
            "grid_auto_rows": null,
            "grid_gap": null,
            "max_width": null,
            "order": null,
            "_view_module_version": "1.2.0",
            "grid_template_areas": null,
            "object_position": null,
            "object_fit": null,
            "grid_auto_columns": null,
            "margin": null,
            "display": null,
            "left": null
          }
        },
        "3bded013f8a14acb9a2bf8c76f90469a": {
          "model_module": "@jupyter-widgets/controls",
          "model_name": "ProgressStyleModel",
          "state": {
            "_view_name": "StyleView",
            "_model_name": "ProgressStyleModel",
            "description_width": "",
            "_view_module": "@jupyter-widgets/base",
            "_model_module_version": "1.5.0",
            "_view_count": null,
            "_view_module_version": "1.2.0",
            "bar_color": null,
            "_model_module": "@jupyter-widgets/controls"
          }
        },
        "673f8cda536e46a5b2d1436295c2a5a5": {
          "model_module": "@jupyter-widgets/base",
          "model_name": "LayoutModel",
          "state": {
            "_view_name": "LayoutView",
            "grid_template_rows": null,
            "right": null,
            "justify_content": null,
            "_view_module": "@jupyter-widgets/base",
            "overflow": null,
            "_model_module_version": "1.2.0",
            "_view_count": null,
            "flex_flow": null,
            "width": null,
            "min_width": null,
            "border": null,
            "align_items": null,
            "bottom": null,
            "_model_module": "@jupyter-widgets/base",
            "top": null,
            "grid_column": null,
            "overflow_y": null,
            "overflow_x": null,
            "grid_auto_flow": null,
            "grid_area": null,
            "grid_template_columns": null,
            "flex": null,
            "_model_name": "LayoutModel",
            "justify_items": null,
            "grid_row": null,
            "max_height": null,
            "align_content": null,
            "visibility": null,
            "align_self": null,
            "height": null,
            "min_height": null,
            "padding": null,
            "grid_auto_rows": null,
            "grid_gap": null,
            "max_width": null,
            "order": null,
            "_view_module_version": "1.2.0",
            "grid_template_areas": null,
            "object_position": null,
            "object_fit": null,
            "grid_auto_columns": null,
            "margin": null,
            "display": null,
            "left": null
          }
        },
        "efc19811bbcd47a4ab936f13d07b3b9e": {
          "model_module": "@jupyter-widgets/controls",
          "model_name": "VBoxModel",
          "state": {
            "_view_name": "VBoxView",
            "_dom_classes": [],
            "_model_name": "VBoxModel",
            "_view_module": "@jupyter-widgets/controls",
            "_model_module_version": "1.5.0",
            "_view_count": null,
            "_view_module_version": "1.5.0",
            "box_style": "",
            "layout": "IPY_MODEL_e772a6aab2b340079e21cf277f817091",
            "_model_module": "@jupyter-widgets/controls",
            "children": [
              "IPY_MODEL_0d6b89eeef6b49aeb9d9918350b7828e",
              "IPY_MODEL_4ade13757deb43a2b9b607a74d8cb5c0"
            ]
          }
        },
        "e772a6aab2b340079e21cf277f817091": {
          "model_module": "@jupyter-widgets/base",
          "model_name": "LayoutModel",
          "state": {
            "_view_name": "LayoutView",
            "grid_template_rows": null,
            "right": null,
            "justify_content": null,
            "_view_module": "@jupyter-widgets/base",
            "overflow": null,
            "_model_module_version": "1.2.0",
            "_view_count": null,
            "flex_flow": null,
            "width": null,
            "min_width": null,
            "border": null,
            "align_items": null,
            "bottom": null,
            "_model_module": "@jupyter-widgets/base",
            "top": null,
            "grid_column": null,
            "overflow_y": null,
            "overflow_x": null,
            "grid_auto_flow": null,
            "grid_area": null,
            "grid_template_columns": null,
            "flex": null,
            "_model_name": "LayoutModel",
            "justify_items": null,
            "grid_row": null,
            "max_height": null,
            "align_content": null,
            "visibility": null,
            "align_self": null,
            "height": null,
            "min_height": null,
            "padding": null,
            "grid_auto_rows": null,
            "grid_gap": null,
            "max_width": null,
            "order": null,
            "_view_module_version": "1.2.0",
            "grid_template_areas": null,
            "object_position": null,
            "object_fit": null,
            "grid_auto_columns": null,
            "margin": null,
            "display": null,
            "left": null
          }
        },
        "0d6b89eeef6b49aeb9d9918350b7828e": {
          "model_module": "@jupyter-widgets/controls",
          "model_name": "LabelModel",
          "state": {
            "_view_name": "LabelView",
            "style": "IPY_MODEL_c7bd5fb405374dbdb6e643fb3a9d6fca",
            "_dom_classes": [],
            "description": "",
            "_model_name": "LabelModel",
            "placeholder": "​",
            "_view_module": "@jupyter-widgets/controls",
            "_model_module_version": "1.5.0",
            "value": " 1094.62MB of 1094.62MB uploaded (0.00MB deduped)\r",
            "_view_count": null,
            "_view_module_version": "1.5.0",
            "description_tooltip": null,
            "_model_module": "@jupyter-widgets/controls",
            "layout": "IPY_MODEL_6eee3c23fc16458199bafab9173cd8ff"
          }
        },
        "4ade13757deb43a2b9b607a74d8cb5c0": {
          "model_module": "@jupyter-widgets/controls",
          "model_name": "FloatProgressModel",
          "state": {
            "_view_name": "ProgressView",
            "style": "IPY_MODEL_ba65994e5d5b430790e841b174785f89",
            "_dom_classes": [],
            "description": "",
            "_model_name": "FloatProgressModel",
            "bar_style": "",
            "max": 1,
            "_view_module": "@jupyter-widgets/controls",
            "_model_module_version": "1.5.0",
            "value": 1,
            "_view_count": null,
            "_view_module_version": "1.5.0",
            "orientation": "horizontal",
            "min": 0,
            "description_tooltip": null,
            "_model_module": "@jupyter-widgets/controls",
            "layout": "IPY_MODEL_2a2bb0ba42754456b5e9d582d93429ae"
          }
        },
        "c7bd5fb405374dbdb6e643fb3a9d6fca": {
          "model_module": "@jupyter-widgets/controls",
          "model_name": "DescriptionStyleModel",
          "state": {
            "_view_name": "StyleView",
            "_model_name": "DescriptionStyleModel",
            "description_width": "",
            "_view_module": "@jupyter-widgets/base",
            "_model_module_version": "1.5.0",
            "_view_count": null,
            "_view_module_version": "1.2.0",
            "_model_module": "@jupyter-widgets/controls"
          }
        },
        "6eee3c23fc16458199bafab9173cd8ff": {
          "model_module": "@jupyter-widgets/base",
          "model_name": "LayoutModel",
          "state": {
            "_view_name": "LayoutView",
            "grid_template_rows": null,
            "right": null,
            "justify_content": null,
            "_view_module": "@jupyter-widgets/base",
            "overflow": null,
            "_model_module_version": "1.2.0",
            "_view_count": null,
            "flex_flow": null,
            "width": null,
            "min_width": null,
            "border": null,
            "align_items": null,
            "bottom": null,
            "_model_module": "@jupyter-widgets/base",
            "top": null,
            "grid_column": null,
            "overflow_y": null,
            "overflow_x": null,
            "grid_auto_flow": null,
            "grid_area": null,
            "grid_template_columns": null,
            "flex": null,
            "_model_name": "LayoutModel",
            "justify_items": null,
            "grid_row": null,
            "max_height": null,
            "align_content": null,
            "visibility": null,
            "align_self": null,
            "height": null,
            "min_height": null,
            "padding": null,
            "grid_auto_rows": null,
            "grid_gap": null,
            "max_width": null,
            "order": null,
            "_view_module_version": "1.2.0",
            "grid_template_areas": null,
            "object_position": null,
            "object_fit": null,
            "grid_auto_columns": null,
            "margin": null,
            "display": null,
            "left": null
          }
        },
        "ba65994e5d5b430790e841b174785f89": {
          "model_module": "@jupyter-widgets/controls",
          "model_name": "ProgressStyleModel",
          "state": {
            "_view_name": "StyleView",
            "_model_name": "ProgressStyleModel",
            "description_width": "",
            "_view_module": "@jupyter-widgets/base",
            "_model_module_version": "1.5.0",
            "_view_count": null,
            "_view_module_version": "1.2.0",
            "bar_color": null,
            "_model_module": "@jupyter-widgets/controls"
          }
        },
        "2a2bb0ba42754456b5e9d582d93429ae": {
          "model_module": "@jupyter-widgets/base",
          "model_name": "LayoutModel",
          "state": {
            "_view_name": "LayoutView",
            "grid_template_rows": null,
            "right": null,
            "justify_content": null,
            "_view_module": "@jupyter-widgets/base",
            "overflow": null,
            "_model_module_version": "1.2.0",
            "_view_count": null,
            "flex_flow": null,
            "width": null,
            "min_width": null,
            "border": null,
            "align_items": null,
            "bottom": null,
            "_model_module": "@jupyter-widgets/base",
            "top": null,
            "grid_column": null,
            "overflow_y": null,
            "overflow_x": null,
            "grid_auto_flow": null,
            "grid_area": null,
            "grid_template_columns": null,
            "flex": null,
            "_model_name": "LayoutModel",
            "justify_items": null,
            "grid_row": null,
            "max_height": null,
            "align_content": null,
            "visibility": null,
            "align_self": null,
            "height": null,
            "min_height": null,
            "padding": null,
            "grid_auto_rows": null,
            "grid_gap": null,
            "max_width": null,
            "order": null,
            "_view_module_version": "1.2.0",
            "grid_template_areas": null,
            "object_position": null,
            "object_fit": null,
            "grid_auto_columns": null,
            "margin": null,
            "display": null,
            "left": null
          }
        },
        "9ed5c3336c2a40a38a88c51346ce0c79": {
          "model_module": "@jupyter-widgets/controls",
          "model_name": "VBoxModel",
          "state": {
            "_view_name": "VBoxView",
            "_dom_classes": [],
            "_model_name": "VBoxModel",
            "_view_module": "@jupyter-widgets/controls",
            "_model_module_version": "1.5.0",
            "_view_count": null,
            "_view_module_version": "1.5.0",
            "box_style": "",
            "layout": "IPY_MODEL_995d282eca0246e3a91e16338ac95c49",
            "_model_module": "@jupyter-widgets/controls",
            "children": [
              "IPY_MODEL_96485b61496d4aa7bc2d582f753ffcff",
              "IPY_MODEL_74ef276056d046d29aa5d45a1f5a5ea8"
            ]
          }
        },
        "995d282eca0246e3a91e16338ac95c49": {
          "model_module": "@jupyter-widgets/base",
          "model_name": "LayoutModel",
          "state": {
            "_view_name": "LayoutView",
            "grid_template_rows": null,
            "right": null,
            "justify_content": null,
            "_view_module": "@jupyter-widgets/base",
            "overflow": null,
            "_model_module_version": "1.2.0",
            "_view_count": null,
            "flex_flow": null,
            "width": null,
            "min_width": null,
            "border": null,
            "align_items": null,
            "bottom": null,
            "_model_module": "@jupyter-widgets/base",
            "top": null,
            "grid_column": null,
            "overflow_y": null,
            "overflow_x": null,
            "grid_auto_flow": null,
            "grid_area": null,
            "grid_template_columns": null,
            "flex": null,
            "_model_name": "LayoutModel",
            "justify_items": null,
            "grid_row": null,
            "max_height": null,
            "align_content": null,
            "visibility": null,
            "align_self": null,
            "height": null,
            "min_height": null,
            "padding": null,
            "grid_auto_rows": null,
            "grid_gap": null,
            "max_width": null,
            "order": null,
            "_view_module_version": "1.2.0",
            "grid_template_areas": null,
            "object_position": null,
            "object_fit": null,
            "grid_auto_columns": null,
            "margin": null,
            "display": null,
            "left": null
          }
        },
        "96485b61496d4aa7bc2d582f753ffcff": {
          "model_module": "@jupyter-widgets/controls",
          "model_name": "LabelModel",
          "state": {
            "_view_name": "LabelView",
            "style": "IPY_MODEL_3c05aeba0b9b4a24869b9cfdc0906d47",
            "_dom_classes": [],
            "description": "",
            "_model_name": "LabelModel",
            "placeholder": "​",
            "_view_module": "@jupyter-widgets/controls",
            "_model_module_version": "1.5.0",
            "value": " 346.58MB of 346.58MB uploaded (0.00MB deduped)\r",
            "_view_count": null,
            "_view_module_version": "1.5.0",
            "description_tooltip": null,
            "_model_module": "@jupyter-widgets/controls",
            "layout": "IPY_MODEL_8cb762bd5bc3452e9d5c8bf3845ebe31"
          }
        },
        "74ef276056d046d29aa5d45a1f5a5ea8": {
          "model_module": "@jupyter-widgets/controls",
          "model_name": "FloatProgressModel",
          "state": {
            "_view_name": "ProgressView",
            "style": "IPY_MODEL_d59c1b172eb841edad2c6636c7286d1c",
            "_dom_classes": [],
            "description": "",
            "_model_name": "FloatProgressModel",
            "bar_style": "",
            "max": 1,
            "_view_module": "@jupyter-widgets/controls",
            "_model_module_version": "1.5.0",
            "value": 1,
            "_view_count": null,
            "_view_module_version": "1.5.0",
            "orientation": "horizontal",
            "min": 0,
            "description_tooltip": null,
            "_model_module": "@jupyter-widgets/controls",
            "layout": "IPY_MODEL_1f28bc3b55d84468b210191e81584543"
          }
        },
        "3c05aeba0b9b4a24869b9cfdc0906d47": {
          "model_module": "@jupyter-widgets/controls",
          "model_name": "DescriptionStyleModel",
          "state": {
            "_view_name": "StyleView",
            "_model_name": "DescriptionStyleModel",
            "description_width": "",
            "_view_module": "@jupyter-widgets/base",
            "_model_module_version": "1.5.0",
            "_view_count": null,
            "_view_module_version": "1.2.0",
            "_model_module": "@jupyter-widgets/controls"
          }
        },
        "8cb762bd5bc3452e9d5c8bf3845ebe31": {
          "model_module": "@jupyter-widgets/base",
          "model_name": "LayoutModel",
          "state": {
            "_view_name": "LayoutView",
            "grid_template_rows": null,
            "right": null,
            "justify_content": null,
            "_view_module": "@jupyter-widgets/base",
            "overflow": null,
            "_model_module_version": "1.2.0",
            "_view_count": null,
            "flex_flow": null,
            "width": null,
            "min_width": null,
            "border": null,
            "align_items": null,
            "bottom": null,
            "_model_module": "@jupyter-widgets/base",
            "top": null,
            "grid_column": null,
            "overflow_y": null,
            "overflow_x": null,
            "grid_auto_flow": null,
            "grid_area": null,
            "grid_template_columns": null,
            "flex": null,
            "_model_name": "LayoutModel",
            "justify_items": null,
            "grid_row": null,
            "max_height": null,
            "align_content": null,
            "visibility": null,
            "align_self": null,
            "height": null,
            "min_height": null,
            "padding": null,
            "grid_auto_rows": null,
            "grid_gap": null,
            "max_width": null,
            "order": null,
            "_view_module_version": "1.2.0",
            "grid_template_areas": null,
            "object_position": null,
            "object_fit": null,
            "grid_auto_columns": null,
            "margin": null,
            "display": null,
            "left": null
          }
        },
        "d59c1b172eb841edad2c6636c7286d1c": {
          "model_module": "@jupyter-widgets/controls",
          "model_name": "ProgressStyleModel",
          "state": {
            "_view_name": "StyleView",
            "_model_name": "ProgressStyleModel",
            "description_width": "",
            "_view_module": "@jupyter-widgets/base",
            "_model_module_version": "1.5.0",
            "_view_count": null,
            "_view_module_version": "1.2.0",
            "bar_color": null,
            "_model_module": "@jupyter-widgets/controls"
          }
        },
        "1f28bc3b55d84468b210191e81584543": {
          "model_module": "@jupyter-widgets/base",
          "model_name": "LayoutModel",
          "state": {
            "_view_name": "LayoutView",
            "grid_template_rows": null,
            "right": null,
            "justify_content": null,
            "_view_module": "@jupyter-widgets/base",
            "overflow": null,
            "_model_module_version": "1.2.0",
            "_view_count": null,
            "flex_flow": null,
            "width": null,
            "min_width": null,
            "border": null,
            "align_items": null,
            "bottom": null,
            "_model_module": "@jupyter-widgets/base",
            "top": null,
            "grid_column": null,
            "overflow_y": null,
            "overflow_x": null,
            "grid_auto_flow": null,
            "grid_area": null,
            "grid_template_columns": null,
            "flex": null,
            "_model_name": "LayoutModel",
            "justify_items": null,
            "grid_row": null,
            "max_height": null,
            "align_content": null,
            "visibility": null,
            "align_self": null,
            "height": null,
            "min_height": null,
            "padding": null,
            "grid_auto_rows": null,
            "grid_gap": null,
            "max_width": null,
            "order": null,
            "_view_module_version": "1.2.0",
            "grid_template_areas": null,
            "object_position": null,
            "object_fit": null,
            "grid_auto_columns": null,
            "margin": null,
            "display": null,
            "left": null
          }
        },
        "3fc066fecd8e491c99face351014c82d": {
          "model_module": "@jupyter-widgets/controls",
          "model_name": "VBoxModel",
          "state": {
            "_view_name": "VBoxView",
            "_dom_classes": [],
            "_model_name": "VBoxModel",
            "_view_module": "@jupyter-widgets/controls",
            "_model_module_version": "1.5.0",
            "_view_count": null,
            "_view_module_version": "1.5.0",
            "box_style": "",
            "layout": "IPY_MODEL_9afeec3718fe47098c88eb601346b07d",
            "_model_module": "@jupyter-widgets/controls",
            "children": [
              "IPY_MODEL_bbcc334309c2433095f41e7a3e9c67eb",
              "IPY_MODEL_8c94b8fd66b7472680973046235a264f"
            ]
          }
        },
        "9afeec3718fe47098c88eb601346b07d": {
          "model_module": "@jupyter-widgets/base",
          "model_name": "LayoutModel",
          "state": {
            "_view_name": "LayoutView",
            "grid_template_rows": null,
            "right": null,
            "justify_content": null,
            "_view_module": "@jupyter-widgets/base",
            "overflow": null,
            "_model_module_version": "1.2.0",
            "_view_count": null,
            "flex_flow": null,
            "width": null,
            "min_width": null,
            "border": null,
            "align_items": null,
            "bottom": null,
            "_model_module": "@jupyter-widgets/base",
            "top": null,
            "grid_column": null,
            "overflow_y": null,
            "overflow_x": null,
            "grid_auto_flow": null,
            "grid_area": null,
            "grid_template_columns": null,
            "flex": null,
            "_model_name": "LayoutModel",
            "justify_items": null,
            "grid_row": null,
            "max_height": null,
            "align_content": null,
            "visibility": null,
            "align_self": null,
            "height": null,
            "min_height": null,
            "padding": null,
            "grid_auto_rows": null,
            "grid_gap": null,
            "max_width": null,
            "order": null,
            "_view_module_version": "1.2.0",
            "grid_template_areas": null,
            "object_position": null,
            "object_fit": null,
            "grid_auto_columns": null,
            "margin": null,
            "display": null,
            "left": null
          }
        },
        "bbcc334309c2433095f41e7a3e9c67eb": {
          "model_module": "@jupyter-widgets/controls",
          "model_name": "LabelModel",
          "state": {
            "_view_name": "LabelView",
            "style": "IPY_MODEL_7c3b0f93c9864a6280b7c2fd8ffa747d",
            "_dom_classes": [],
            "description": "",
            "_model_name": "LabelModel",
            "placeholder": "​",
            "_view_module": "@jupyter-widgets/controls",
            "_model_module_version": "1.5.0",
            "value": " 1126.14MB of 1126.14MB uploaded (0.00MB deduped)\r",
            "_view_count": null,
            "_view_module_version": "1.5.0",
            "description_tooltip": null,
            "_model_module": "@jupyter-widgets/controls",
            "layout": "IPY_MODEL_4ed0467e223f49c8a0842ac087bfa0bb"
          }
        },
        "8c94b8fd66b7472680973046235a264f": {
          "model_module": "@jupyter-widgets/controls",
          "model_name": "FloatProgressModel",
          "state": {
            "_view_name": "ProgressView",
            "style": "IPY_MODEL_8beffb2ebf0045cd952b21883334f873",
            "_dom_classes": [],
            "description": "",
            "_model_name": "FloatProgressModel",
            "bar_style": "",
            "max": 1,
            "_view_module": "@jupyter-widgets/controls",
            "_model_module_version": "1.5.0",
            "value": 1,
            "_view_count": null,
            "_view_module_version": "1.5.0",
            "orientation": "horizontal",
            "min": 0,
            "description_tooltip": null,
            "_model_module": "@jupyter-widgets/controls",
            "layout": "IPY_MODEL_7829bfd492c9484893056ff320e8d166"
          }
        },
        "7c3b0f93c9864a6280b7c2fd8ffa747d": {
          "model_module": "@jupyter-widgets/controls",
          "model_name": "DescriptionStyleModel",
          "state": {
            "_view_name": "StyleView",
            "_model_name": "DescriptionStyleModel",
            "description_width": "",
            "_view_module": "@jupyter-widgets/base",
            "_model_module_version": "1.5.0",
            "_view_count": null,
            "_view_module_version": "1.2.0",
            "_model_module": "@jupyter-widgets/controls"
          }
        },
        "4ed0467e223f49c8a0842ac087bfa0bb": {
          "model_module": "@jupyter-widgets/base",
          "model_name": "LayoutModel",
          "state": {
            "_view_name": "LayoutView",
            "grid_template_rows": null,
            "right": null,
            "justify_content": null,
            "_view_module": "@jupyter-widgets/base",
            "overflow": null,
            "_model_module_version": "1.2.0",
            "_view_count": null,
            "flex_flow": null,
            "width": null,
            "min_width": null,
            "border": null,
            "align_items": null,
            "bottom": null,
            "_model_module": "@jupyter-widgets/base",
            "top": null,
            "grid_column": null,
            "overflow_y": null,
            "overflow_x": null,
            "grid_auto_flow": null,
            "grid_area": null,
            "grid_template_columns": null,
            "flex": null,
            "_model_name": "LayoutModel",
            "justify_items": null,
            "grid_row": null,
            "max_height": null,
            "align_content": null,
            "visibility": null,
            "align_self": null,
            "height": null,
            "min_height": null,
            "padding": null,
            "grid_auto_rows": null,
            "grid_gap": null,
            "max_width": null,
            "order": null,
            "_view_module_version": "1.2.0",
            "grid_template_areas": null,
            "object_position": null,
            "object_fit": null,
            "grid_auto_columns": null,
            "margin": null,
            "display": null,
            "left": null
          }
        },
        "8beffb2ebf0045cd952b21883334f873": {
          "model_module": "@jupyter-widgets/controls",
          "model_name": "ProgressStyleModel",
          "state": {
            "_view_name": "StyleView",
            "_model_name": "ProgressStyleModel",
            "description_width": "",
            "_view_module": "@jupyter-widgets/base",
            "_model_module_version": "1.5.0",
            "_view_count": null,
            "_view_module_version": "1.2.0",
            "bar_color": null,
            "_model_module": "@jupyter-widgets/controls"
          }
        },
        "7829bfd492c9484893056ff320e8d166": {
          "model_module": "@jupyter-widgets/base",
          "model_name": "LayoutModel",
          "state": {
            "_view_name": "LayoutView",
            "grid_template_rows": null,
            "right": null,
            "justify_content": null,
            "_view_module": "@jupyter-widgets/base",
            "overflow": null,
            "_model_module_version": "1.2.0",
            "_view_count": null,
            "flex_flow": null,
            "width": null,
            "min_width": null,
            "border": null,
            "align_items": null,
            "bottom": null,
            "_model_module": "@jupyter-widgets/base",
            "top": null,
            "grid_column": null,
            "overflow_y": null,
            "overflow_x": null,
            "grid_auto_flow": null,
            "grid_area": null,
            "grid_template_columns": null,
            "flex": null,
            "_model_name": "LayoutModel",
            "justify_items": null,
            "grid_row": null,
            "max_height": null,
            "align_content": null,
            "visibility": null,
            "align_self": null,
            "height": null,
            "min_height": null,
            "padding": null,
            "grid_auto_rows": null,
            "grid_gap": null,
            "max_width": null,
            "order": null,
            "_view_module_version": "1.2.0",
            "grid_template_areas": null,
            "object_position": null,
            "object_fit": null,
            "grid_auto_columns": null,
            "margin": null,
            "display": null,
            "left": null
          }
        },
        "a893b2c39ef645f2bfb9ecf4119a2eda": {
          "model_module": "@jupyter-widgets/controls",
          "model_name": "VBoxModel",
          "state": {
            "_view_name": "VBoxView",
            "_dom_classes": [],
            "_model_name": "VBoxModel",
            "_view_module": "@jupyter-widgets/controls",
            "_model_module_version": "1.5.0",
            "_view_count": null,
            "_view_module_version": "1.5.0",
            "box_style": "",
            "layout": "IPY_MODEL_fb7c51792edb4247b4b49bbc9ef8e8fe",
            "_model_module": "@jupyter-widgets/controls",
            "children": [
              "IPY_MODEL_2bfbd8967fcc4cdc8512d8fa0fca6cfa",
              "IPY_MODEL_6e25ae5f25f742a4988c68608b1e594d"
            ]
          }
        },
        "fb7c51792edb4247b4b49bbc9ef8e8fe": {
          "model_module": "@jupyter-widgets/base",
          "model_name": "LayoutModel",
          "state": {
            "_view_name": "LayoutView",
            "grid_template_rows": null,
            "right": null,
            "justify_content": null,
            "_view_module": "@jupyter-widgets/base",
            "overflow": null,
            "_model_module_version": "1.2.0",
            "_view_count": null,
            "flex_flow": null,
            "width": null,
            "min_width": null,
            "border": null,
            "align_items": null,
            "bottom": null,
            "_model_module": "@jupyter-widgets/base",
            "top": null,
            "grid_column": null,
            "overflow_y": null,
            "overflow_x": null,
            "grid_auto_flow": null,
            "grid_area": null,
            "grid_template_columns": null,
            "flex": null,
            "_model_name": "LayoutModel",
            "justify_items": null,
            "grid_row": null,
            "max_height": null,
            "align_content": null,
            "visibility": null,
            "align_self": null,
            "height": null,
            "min_height": null,
            "padding": null,
            "grid_auto_rows": null,
            "grid_gap": null,
            "max_width": null,
            "order": null,
            "_view_module_version": "1.2.0",
            "grid_template_areas": null,
            "object_position": null,
            "object_fit": null,
            "grid_auto_columns": null,
            "margin": null,
            "display": null,
            "left": null
          }
        },
        "2bfbd8967fcc4cdc8512d8fa0fca6cfa": {
          "model_module": "@jupyter-widgets/controls",
          "model_name": "LabelModel",
          "state": {
            "_view_name": "LabelView",
            "style": "IPY_MODEL_9992a8e7cfb441e7b2a20519fad162fb",
            "_dom_classes": [],
            "description": "",
            "_model_name": "LabelModel",
            "placeholder": "​",
            "_view_module": "@jupyter-widgets/controls",
            "_model_module_version": "1.5.0",
            "value": " 187.29MB of 187.29MB uploaded (0.00MB deduped)\r",
            "_view_count": null,
            "_view_module_version": "1.5.0",
            "description_tooltip": null,
            "_model_module": "@jupyter-widgets/controls",
            "layout": "IPY_MODEL_442de04d37a04d5fb21c744524340b3a"
          }
        },
        "6e25ae5f25f742a4988c68608b1e594d": {
          "model_module": "@jupyter-widgets/controls",
          "model_name": "FloatProgressModel",
          "state": {
            "_view_name": "ProgressView",
            "style": "IPY_MODEL_7fbb72cfe0db4082bff24171671f3f21",
            "_dom_classes": [],
            "description": "",
            "_model_name": "FloatProgressModel",
            "bar_style": "",
            "max": 1,
            "_view_module": "@jupyter-widgets/controls",
            "_model_module_version": "1.5.0",
            "value": 1,
            "_view_count": null,
            "_view_module_version": "1.5.0",
            "orientation": "horizontal",
            "min": 0,
            "description_tooltip": null,
            "_model_module": "@jupyter-widgets/controls",
            "layout": "IPY_MODEL_4df670e2f6434b399c705a6e716df985"
          }
        },
        "9992a8e7cfb441e7b2a20519fad162fb": {
          "model_module": "@jupyter-widgets/controls",
          "model_name": "DescriptionStyleModel",
          "state": {
            "_view_name": "StyleView",
            "_model_name": "DescriptionStyleModel",
            "description_width": "",
            "_view_module": "@jupyter-widgets/base",
            "_model_module_version": "1.5.0",
            "_view_count": null,
            "_view_module_version": "1.2.0",
            "_model_module": "@jupyter-widgets/controls"
          }
        },
        "442de04d37a04d5fb21c744524340b3a": {
          "model_module": "@jupyter-widgets/base",
          "model_name": "LayoutModel",
          "state": {
            "_view_name": "LayoutView",
            "grid_template_rows": null,
            "right": null,
            "justify_content": null,
            "_view_module": "@jupyter-widgets/base",
            "overflow": null,
            "_model_module_version": "1.2.0",
            "_view_count": null,
            "flex_flow": null,
            "width": null,
            "min_width": null,
            "border": null,
            "align_items": null,
            "bottom": null,
            "_model_module": "@jupyter-widgets/base",
            "top": null,
            "grid_column": null,
            "overflow_y": null,
            "overflow_x": null,
            "grid_auto_flow": null,
            "grid_area": null,
            "grid_template_columns": null,
            "flex": null,
            "_model_name": "LayoutModel",
            "justify_items": null,
            "grid_row": null,
            "max_height": null,
            "align_content": null,
            "visibility": null,
            "align_self": null,
            "height": null,
            "min_height": null,
            "padding": null,
            "grid_auto_rows": null,
            "grid_gap": null,
            "max_width": null,
            "order": null,
            "_view_module_version": "1.2.0",
            "grid_template_areas": null,
            "object_position": null,
            "object_fit": null,
            "grid_auto_columns": null,
            "margin": null,
            "display": null,
            "left": null
          }
        },
        "7fbb72cfe0db4082bff24171671f3f21": {
          "model_module": "@jupyter-widgets/controls",
          "model_name": "ProgressStyleModel",
          "state": {
            "_view_name": "StyleView",
            "_model_name": "ProgressStyleModel",
            "description_width": "",
            "_view_module": "@jupyter-widgets/base",
            "_model_module_version": "1.5.0",
            "_view_count": null,
            "_view_module_version": "1.2.0",
            "bar_color": null,
            "_model_module": "@jupyter-widgets/controls"
          }
        },
        "4df670e2f6434b399c705a6e716df985": {
          "model_module": "@jupyter-widgets/base",
          "model_name": "LayoutModel",
          "state": {
            "_view_name": "LayoutView",
            "grid_template_rows": null,
            "right": null,
            "justify_content": null,
            "_view_module": "@jupyter-widgets/base",
            "overflow": null,
            "_model_module_version": "1.2.0",
            "_view_count": null,
            "flex_flow": null,
            "width": null,
            "min_width": null,
            "border": null,
            "align_items": null,
            "bottom": null,
            "_model_module": "@jupyter-widgets/base",
            "top": null,
            "grid_column": null,
            "overflow_y": null,
            "overflow_x": null,
            "grid_auto_flow": null,
            "grid_area": null,
            "grid_template_columns": null,
            "flex": null,
            "_model_name": "LayoutModel",
            "justify_items": null,
            "grid_row": null,
            "max_height": null,
            "align_content": null,
            "visibility": null,
            "align_self": null,
            "height": null,
            "min_height": null,
            "padding": null,
            "grid_auto_rows": null,
            "grid_gap": null,
            "max_width": null,
            "order": null,
            "_view_module_version": "1.2.0",
            "grid_template_areas": null,
            "object_position": null,
            "object_fit": null,
            "grid_auto_columns": null,
            "margin": null,
            "display": null,
            "left": null
          }
        },
        "f8cfb199d0434de489ddf4c44d4a9bcb": {
          "model_module": "@jupyter-widgets/controls",
          "model_name": "VBoxModel",
          "state": {
            "_view_name": "VBoxView",
            "_dom_classes": [],
            "_model_name": "VBoxModel",
            "_view_module": "@jupyter-widgets/controls",
            "_model_module_version": "1.5.0",
            "_view_count": null,
            "_view_module_version": "1.5.0",
            "box_style": "",
            "layout": "IPY_MODEL_e9de551a2d064fab9cab777d86ee7989",
            "_model_module": "@jupyter-widgets/controls",
            "children": [
              "IPY_MODEL_e826ad49bcd54df38acec8cb34c62b5b",
              "IPY_MODEL_53dcb8096a524517b07b7a62cfd15790"
            ]
          }
        },
        "e9de551a2d064fab9cab777d86ee7989": {
          "model_module": "@jupyter-widgets/base",
          "model_name": "LayoutModel",
          "state": {
            "_view_name": "LayoutView",
            "grid_template_rows": null,
            "right": null,
            "justify_content": null,
            "_view_module": "@jupyter-widgets/base",
            "overflow": null,
            "_model_module_version": "1.2.0",
            "_view_count": null,
            "flex_flow": null,
            "width": null,
            "min_width": null,
            "border": null,
            "align_items": null,
            "bottom": null,
            "_model_module": "@jupyter-widgets/base",
            "top": null,
            "grid_column": null,
            "overflow_y": null,
            "overflow_x": null,
            "grid_auto_flow": null,
            "grid_area": null,
            "grid_template_columns": null,
            "flex": null,
            "_model_name": "LayoutModel",
            "justify_items": null,
            "grid_row": null,
            "max_height": null,
            "align_content": null,
            "visibility": null,
            "align_self": null,
            "height": null,
            "min_height": null,
            "padding": null,
            "grid_auto_rows": null,
            "grid_gap": null,
            "max_width": null,
            "order": null,
            "_view_module_version": "1.2.0",
            "grid_template_areas": null,
            "object_position": null,
            "object_fit": null,
            "grid_auto_columns": null,
            "margin": null,
            "display": null,
            "left": null
          }
        },
        "e826ad49bcd54df38acec8cb34c62b5b": {
          "model_module": "@jupyter-widgets/controls",
          "model_name": "LabelModel",
          "state": {
            "_view_name": "LabelView",
            "style": "IPY_MODEL_ad9193860d9f4e358954fc7dcf311261",
            "_dom_classes": [],
            "description": "",
            "_model_name": "LabelModel",
            "placeholder": "​",
            "_view_module": "@jupyter-widgets/controls",
            "_model_module_version": "1.5.0",
            "value": " 442.61MB of 442.61MB uploaded (0.00MB deduped)\r",
            "_view_count": null,
            "_view_module_version": "1.5.0",
            "description_tooltip": null,
            "_model_module": "@jupyter-widgets/controls",
            "layout": "IPY_MODEL_8e40e1cf4bc74624bf8eab1c0b4f24b9"
          }
        },
        "53dcb8096a524517b07b7a62cfd15790": {
          "model_module": "@jupyter-widgets/controls",
          "model_name": "FloatProgressModel",
          "state": {
            "_view_name": "ProgressView",
            "style": "IPY_MODEL_c1d7542ba046413284f38ebdc3f34059",
            "_dom_classes": [],
            "description": "",
            "_model_name": "FloatProgressModel",
            "bar_style": "",
            "max": 1,
            "_view_module": "@jupyter-widgets/controls",
            "_model_module_version": "1.5.0",
            "value": 1,
            "_view_count": null,
            "_view_module_version": "1.5.0",
            "orientation": "horizontal",
            "min": 0,
            "description_tooltip": null,
            "_model_module": "@jupyter-widgets/controls",
            "layout": "IPY_MODEL_cce6044156d64274a03926c5e15a2b34"
          }
        },
        "ad9193860d9f4e358954fc7dcf311261": {
          "model_module": "@jupyter-widgets/controls",
          "model_name": "DescriptionStyleModel",
          "state": {
            "_view_name": "StyleView",
            "_model_name": "DescriptionStyleModel",
            "description_width": "",
            "_view_module": "@jupyter-widgets/base",
            "_model_module_version": "1.5.0",
            "_view_count": null,
            "_view_module_version": "1.2.0",
            "_model_module": "@jupyter-widgets/controls"
          }
        },
        "8e40e1cf4bc74624bf8eab1c0b4f24b9": {
          "model_module": "@jupyter-widgets/base",
          "model_name": "LayoutModel",
          "state": {
            "_view_name": "LayoutView",
            "grid_template_rows": null,
            "right": null,
            "justify_content": null,
            "_view_module": "@jupyter-widgets/base",
            "overflow": null,
            "_model_module_version": "1.2.0",
            "_view_count": null,
            "flex_flow": null,
            "width": null,
            "min_width": null,
            "border": null,
            "align_items": null,
            "bottom": null,
            "_model_module": "@jupyter-widgets/base",
            "top": null,
            "grid_column": null,
            "overflow_y": null,
            "overflow_x": null,
            "grid_auto_flow": null,
            "grid_area": null,
            "grid_template_columns": null,
            "flex": null,
            "_model_name": "LayoutModel",
            "justify_items": null,
            "grid_row": null,
            "max_height": null,
            "align_content": null,
            "visibility": null,
            "align_self": null,
            "height": null,
            "min_height": null,
            "padding": null,
            "grid_auto_rows": null,
            "grid_gap": null,
            "max_width": null,
            "order": null,
            "_view_module_version": "1.2.0",
            "grid_template_areas": null,
            "object_position": null,
            "object_fit": null,
            "grid_auto_columns": null,
            "margin": null,
            "display": null,
            "left": null
          }
        },
        "c1d7542ba046413284f38ebdc3f34059": {
          "model_module": "@jupyter-widgets/controls",
          "model_name": "ProgressStyleModel",
          "state": {
            "_view_name": "StyleView",
            "_model_name": "ProgressStyleModel",
            "description_width": "",
            "_view_module": "@jupyter-widgets/base",
            "_model_module_version": "1.5.0",
            "_view_count": null,
            "_view_module_version": "1.2.0",
            "bar_color": null,
            "_model_module": "@jupyter-widgets/controls"
          }
        },
        "cce6044156d64274a03926c5e15a2b34": {
          "model_module": "@jupyter-widgets/base",
          "model_name": "LayoutModel",
          "state": {
            "_view_name": "LayoutView",
            "grid_template_rows": null,
            "right": null,
            "justify_content": null,
            "_view_module": "@jupyter-widgets/base",
            "overflow": null,
            "_model_module_version": "1.2.0",
            "_view_count": null,
            "flex_flow": null,
            "width": null,
            "min_width": null,
            "border": null,
            "align_items": null,
            "bottom": null,
            "_model_module": "@jupyter-widgets/base",
            "top": null,
            "grid_column": null,
            "overflow_y": null,
            "overflow_x": null,
            "grid_auto_flow": null,
            "grid_area": null,
            "grid_template_columns": null,
            "flex": null,
            "_model_name": "LayoutModel",
            "justify_items": null,
            "grid_row": null,
            "max_height": null,
            "align_content": null,
            "visibility": null,
            "align_self": null,
            "height": null,
            "min_height": null,
            "padding": null,
            "grid_auto_rows": null,
            "grid_gap": null,
            "max_width": null,
            "order": null,
            "_view_module_version": "1.2.0",
            "grid_template_areas": null,
            "object_position": null,
            "object_fit": null,
            "grid_auto_columns": null,
            "margin": null,
            "display": null,
            "left": null
          }
        },
        "078c601b254843189ea2016899145e1f": {
          "model_module": "@jupyter-widgets/controls",
          "model_name": "VBoxModel",
          "state": {
            "_view_name": "VBoxView",
            "_dom_classes": [],
            "_model_name": "VBoxModel",
            "_view_module": "@jupyter-widgets/controls",
            "_model_module_version": "1.5.0",
            "_view_count": null,
            "_view_module_version": "1.5.0",
            "box_style": "",
            "layout": "IPY_MODEL_4a60535b77cd455cbd9309519b347ed2",
            "_model_module": "@jupyter-widgets/controls",
            "children": [
              "IPY_MODEL_ffa921254ae24f3abf688a2f91b87893",
              "IPY_MODEL_1acaa11ea3fe41c5b0fea9dfe033c78a"
            ]
          }
        },
        "4a60535b77cd455cbd9309519b347ed2": {
          "model_module": "@jupyter-widgets/base",
          "model_name": "LayoutModel",
          "state": {
            "_view_name": "LayoutView",
            "grid_template_rows": null,
            "right": null,
            "justify_content": null,
            "_view_module": "@jupyter-widgets/base",
            "overflow": null,
            "_model_module_version": "1.2.0",
            "_view_count": null,
            "flex_flow": null,
            "width": null,
            "min_width": null,
            "border": null,
            "align_items": null,
            "bottom": null,
            "_model_module": "@jupyter-widgets/base",
            "top": null,
            "grid_column": null,
            "overflow_y": null,
            "overflow_x": null,
            "grid_auto_flow": null,
            "grid_area": null,
            "grid_template_columns": null,
            "flex": null,
            "_model_name": "LayoutModel",
            "justify_items": null,
            "grid_row": null,
            "max_height": null,
            "align_content": null,
            "visibility": null,
            "align_self": null,
            "height": null,
            "min_height": null,
            "padding": null,
            "grid_auto_rows": null,
            "grid_gap": null,
            "max_width": null,
            "order": null,
            "_view_module_version": "1.2.0",
            "grid_template_areas": null,
            "object_position": null,
            "object_fit": null,
            "grid_auto_columns": null,
            "margin": null,
            "display": null,
            "left": null
          }
        },
        "ffa921254ae24f3abf688a2f91b87893": {
          "model_module": "@jupyter-widgets/controls",
          "model_name": "LabelModel",
          "state": {
            "_view_name": "LabelView",
            "style": "IPY_MODEL_e57f5d996cd7430796f4e7329d2db423",
            "_dom_classes": [],
            "description": "",
            "_model_name": "LabelModel",
            "placeholder": "​",
            "_view_module": "@jupyter-widgets/controls",
            "_model_module_version": "1.5.0",
            "value": " 1126.14MB of 1126.14MB uploaded (0.00MB deduped)\r",
            "_view_count": null,
            "_view_module_version": "1.5.0",
            "description_tooltip": null,
            "_model_module": "@jupyter-widgets/controls",
            "layout": "IPY_MODEL_67624d2f4a2a43ac853c0009dbc84de7"
          }
        },
        "1acaa11ea3fe41c5b0fea9dfe033c78a": {
          "model_module": "@jupyter-widgets/controls",
          "model_name": "FloatProgressModel",
          "state": {
            "_view_name": "ProgressView",
            "style": "IPY_MODEL_c1ac46a2e7bc479b8b590d3729c26a91",
            "_dom_classes": [],
            "description": "",
            "_model_name": "FloatProgressModel",
            "bar_style": "",
            "max": 1,
            "_view_module": "@jupyter-widgets/controls",
            "_model_module_version": "1.5.0",
            "value": 1,
            "_view_count": null,
            "_view_module_version": "1.5.0",
            "orientation": "horizontal",
            "min": 0,
            "description_tooltip": null,
            "_model_module": "@jupyter-widgets/controls",
            "layout": "IPY_MODEL_0bece920fdfe406684adc261470ad205"
          }
        },
        "e57f5d996cd7430796f4e7329d2db423": {
          "model_module": "@jupyter-widgets/controls",
          "model_name": "DescriptionStyleModel",
          "state": {
            "_view_name": "StyleView",
            "_model_name": "DescriptionStyleModel",
            "description_width": "",
            "_view_module": "@jupyter-widgets/base",
            "_model_module_version": "1.5.0",
            "_view_count": null,
            "_view_module_version": "1.2.0",
            "_model_module": "@jupyter-widgets/controls"
          }
        },
        "67624d2f4a2a43ac853c0009dbc84de7": {
          "model_module": "@jupyter-widgets/base",
          "model_name": "LayoutModel",
          "state": {
            "_view_name": "LayoutView",
            "grid_template_rows": null,
            "right": null,
            "justify_content": null,
            "_view_module": "@jupyter-widgets/base",
            "overflow": null,
            "_model_module_version": "1.2.0",
            "_view_count": null,
            "flex_flow": null,
            "width": null,
            "min_width": null,
            "border": null,
            "align_items": null,
            "bottom": null,
            "_model_module": "@jupyter-widgets/base",
            "top": null,
            "grid_column": null,
            "overflow_y": null,
            "overflow_x": null,
            "grid_auto_flow": null,
            "grid_area": null,
            "grid_template_columns": null,
            "flex": null,
            "_model_name": "LayoutModel",
            "justify_items": null,
            "grid_row": null,
            "max_height": null,
            "align_content": null,
            "visibility": null,
            "align_self": null,
            "height": null,
            "min_height": null,
            "padding": null,
            "grid_auto_rows": null,
            "grid_gap": null,
            "max_width": null,
            "order": null,
            "_view_module_version": "1.2.0",
            "grid_template_areas": null,
            "object_position": null,
            "object_fit": null,
            "grid_auto_columns": null,
            "margin": null,
            "display": null,
            "left": null
          }
        },
        "c1ac46a2e7bc479b8b590d3729c26a91": {
          "model_module": "@jupyter-widgets/controls",
          "model_name": "ProgressStyleModel",
          "state": {
            "_view_name": "StyleView",
            "_model_name": "ProgressStyleModel",
            "description_width": "",
            "_view_module": "@jupyter-widgets/base",
            "_model_module_version": "1.5.0",
            "_view_count": null,
            "_view_module_version": "1.2.0",
            "bar_color": null,
            "_model_module": "@jupyter-widgets/controls"
          }
        },
        "0bece920fdfe406684adc261470ad205": {
          "model_module": "@jupyter-widgets/base",
          "model_name": "LayoutModel",
          "state": {
            "_view_name": "LayoutView",
            "grid_template_rows": null,
            "right": null,
            "justify_content": null,
            "_view_module": "@jupyter-widgets/base",
            "overflow": null,
            "_model_module_version": "1.2.0",
            "_view_count": null,
            "flex_flow": null,
            "width": null,
            "min_width": null,
            "border": null,
            "align_items": null,
            "bottom": null,
            "_model_module": "@jupyter-widgets/base",
            "top": null,
            "grid_column": null,
            "overflow_y": null,
            "overflow_x": null,
            "grid_auto_flow": null,
            "grid_area": null,
            "grid_template_columns": null,
            "flex": null,
            "_model_name": "LayoutModel",
            "justify_items": null,
            "grid_row": null,
            "max_height": null,
            "align_content": null,
            "visibility": null,
            "align_self": null,
            "height": null,
            "min_height": null,
            "padding": null,
            "grid_auto_rows": null,
            "grid_gap": null,
            "max_width": null,
            "order": null,
            "_view_module_version": "1.2.0",
            "grid_template_areas": null,
            "object_position": null,
            "object_fit": null,
            "grid_auto_columns": null,
            "margin": null,
            "display": null,
            "left": null
          }
        },
        "24318b8f3f6d457b933bbc3518b1db29": {
          "model_module": "@jupyter-widgets/controls",
          "model_name": "VBoxModel",
          "state": {
            "_view_name": "VBoxView",
            "_dom_classes": [],
            "_model_name": "VBoxModel",
            "_view_module": "@jupyter-widgets/controls",
            "_model_module_version": "1.5.0",
            "_view_count": null,
            "_view_module_version": "1.5.0",
            "box_style": "",
            "layout": "IPY_MODEL_c20be62a771549fb8ca3b4298a3343c8",
            "_model_module": "@jupyter-widgets/controls",
            "children": [
              "IPY_MODEL_29cefa4dff6b49d8bffea951c2a10e4a",
              "IPY_MODEL_2782198de5fd47748a2ed89495cc4ffe"
            ]
          }
        },
        "c20be62a771549fb8ca3b4298a3343c8": {
          "model_module": "@jupyter-widgets/base",
          "model_name": "LayoutModel",
          "state": {
            "_view_name": "LayoutView",
            "grid_template_rows": null,
            "right": null,
            "justify_content": null,
            "_view_module": "@jupyter-widgets/base",
            "overflow": null,
            "_model_module_version": "1.2.0",
            "_view_count": null,
            "flex_flow": null,
            "width": null,
            "min_width": null,
            "border": null,
            "align_items": null,
            "bottom": null,
            "_model_module": "@jupyter-widgets/base",
            "top": null,
            "grid_column": null,
            "overflow_y": null,
            "overflow_x": null,
            "grid_auto_flow": null,
            "grid_area": null,
            "grid_template_columns": null,
            "flex": null,
            "_model_name": "LayoutModel",
            "justify_items": null,
            "grid_row": null,
            "max_height": null,
            "align_content": null,
            "visibility": null,
            "align_self": null,
            "height": null,
            "min_height": null,
            "padding": null,
            "grid_auto_rows": null,
            "grid_gap": null,
            "max_width": null,
            "order": null,
            "_view_module_version": "1.2.0",
            "grid_template_areas": null,
            "object_position": null,
            "object_fit": null,
            "grid_auto_columns": null,
            "margin": null,
            "display": null,
            "left": null
          }
        },
        "29cefa4dff6b49d8bffea951c2a10e4a": {
          "model_module": "@jupyter-widgets/controls",
          "model_name": "LabelModel",
          "state": {
            "_view_name": "LabelView",
            "style": "IPY_MODEL_25a25300e72f433abfa6222aacb7f1e0",
            "_dom_classes": [],
            "description": "",
            "_model_name": "LabelModel",
            "placeholder": "​",
            "_view_module": "@jupyter-widgets/controls",
            "_model_module_version": "1.5.0",
            "value": " 442.61MB of 442.61MB uploaded (0.00MB deduped)\r",
            "_view_count": null,
            "_view_module_version": "1.5.0",
            "description_tooltip": null,
            "_model_module": "@jupyter-widgets/controls",
            "layout": "IPY_MODEL_7f28de35c0fd4f9bb7473f8526ce0b45"
          }
        },
        "2782198de5fd47748a2ed89495cc4ffe": {
          "model_module": "@jupyter-widgets/controls",
          "model_name": "FloatProgressModel",
          "state": {
            "_view_name": "ProgressView",
            "style": "IPY_MODEL_e9f3692771904caa9a8a4d6478b060e7",
            "_dom_classes": [],
            "description": "",
            "_model_name": "FloatProgressModel",
            "bar_style": "",
            "max": 1,
            "_view_module": "@jupyter-widgets/controls",
            "_model_module_version": "1.5.0",
            "value": 1,
            "_view_count": null,
            "_view_module_version": "1.5.0",
            "orientation": "horizontal",
            "min": 0,
            "description_tooltip": null,
            "_model_module": "@jupyter-widgets/controls",
            "layout": "IPY_MODEL_21a4251c6ef94b3d8f0fc760d89ae66b"
          }
        },
        "25a25300e72f433abfa6222aacb7f1e0": {
          "model_module": "@jupyter-widgets/controls",
          "model_name": "DescriptionStyleModel",
          "state": {
            "_view_name": "StyleView",
            "_model_name": "DescriptionStyleModel",
            "description_width": "",
            "_view_module": "@jupyter-widgets/base",
            "_model_module_version": "1.5.0",
            "_view_count": null,
            "_view_module_version": "1.2.0",
            "_model_module": "@jupyter-widgets/controls"
          }
        },
        "7f28de35c0fd4f9bb7473f8526ce0b45": {
          "model_module": "@jupyter-widgets/base",
          "model_name": "LayoutModel",
          "state": {
            "_view_name": "LayoutView",
            "grid_template_rows": null,
            "right": null,
            "justify_content": null,
            "_view_module": "@jupyter-widgets/base",
            "overflow": null,
            "_model_module_version": "1.2.0",
            "_view_count": null,
            "flex_flow": null,
            "width": null,
            "min_width": null,
            "border": null,
            "align_items": null,
            "bottom": null,
            "_model_module": "@jupyter-widgets/base",
            "top": null,
            "grid_column": null,
            "overflow_y": null,
            "overflow_x": null,
            "grid_auto_flow": null,
            "grid_area": null,
            "grid_template_columns": null,
            "flex": null,
            "_model_name": "LayoutModel",
            "justify_items": null,
            "grid_row": null,
            "max_height": null,
            "align_content": null,
            "visibility": null,
            "align_self": null,
            "height": null,
            "min_height": null,
            "padding": null,
            "grid_auto_rows": null,
            "grid_gap": null,
            "max_width": null,
            "order": null,
            "_view_module_version": "1.2.0",
            "grid_template_areas": null,
            "object_position": null,
            "object_fit": null,
            "grid_auto_columns": null,
            "margin": null,
            "display": null,
            "left": null
          }
        },
        "e9f3692771904caa9a8a4d6478b060e7": {
          "model_module": "@jupyter-widgets/controls",
          "model_name": "ProgressStyleModel",
          "state": {
            "_view_name": "StyleView",
            "_model_name": "ProgressStyleModel",
            "description_width": "",
            "_view_module": "@jupyter-widgets/base",
            "_model_module_version": "1.5.0",
            "_view_count": null,
            "_view_module_version": "1.2.0",
            "bar_color": null,
            "_model_module": "@jupyter-widgets/controls"
          }
        },
        "21a4251c6ef94b3d8f0fc760d89ae66b": {
          "model_module": "@jupyter-widgets/base",
          "model_name": "LayoutModel",
          "state": {
            "_view_name": "LayoutView",
            "grid_template_rows": null,
            "right": null,
            "justify_content": null,
            "_view_module": "@jupyter-widgets/base",
            "overflow": null,
            "_model_module_version": "1.2.0",
            "_view_count": null,
            "flex_flow": null,
            "width": null,
            "min_width": null,
            "border": null,
            "align_items": null,
            "bottom": null,
            "_model_module": "@jupyter-widgets/base",
            "top": null,
            "grid_column": null,
            "overflow_y": null,
            "overflow_x": null,
            "grid_auto_flow": null,
            "grid_area": null,
            "grid_template_columns": null,
            "flex": null,
            "_model_name": "LayoutModel",
            "justify_items": null,
            "grid_row": null,
            "max_height": null,
            "align_content": null,
            "visibility": null,
            "align_self": null,
            "height": null,
            "min_height": null,
            "padding": null,
            "grid_auto_rows": null,
            "grid_gap": null,
            "max_width": null,
            "order": null,
            "_view_module_version": "1.2.0",
            "grid_template_areas": null,
            "object_position": null,
            "object_fit": null,
            "grid_auto_columns": null,
            "margin": null,
            "display": null,
            "left": null
          }
        },
        "7023c9e403544af89c8cf9ba68da8507": {
          "model_module": "@jupyter-widgets/controls",
          "model_name": "VBoxModel",
          "state": {
            "_view_name": "VBoxView",
            "_dom_classes": [],
            "_model_name": "VBoxModel",
            "_view_module": "@jupyter-widgets/controls",
            "_model_module_version": "1.5.0",
            "_view_count": null,
            "_view_module_version": "1.5.0",
            "box_style": "",
            "layout": "IPY_MODEL_aa245e167f8f4aed8aca26c65ce88d75",
            "_model_module": "@jupyter-widgets/controls",
            "children": [
              "IPY_MODEL_d3dbdc4322a9475b9c2a51070a2b2339",
              "IPY_MODEL_034ad230dae34506a2db0bba56307c6c"
            ]
          }
        },
        "aa245e167f8f4aed8aca26c65ce88d75": {
          "model_module": "@jupyter-widgets/base",
          "model_name": "LayoutModel",
          "state": {
            "_view_name": "LayoutView",
            "grid_template_rows": null,
            "right": null,
            "justify_content": null,
            "_view_module": "@jupyter-widgets/base",
            "overflow": null,
            "_model_module_version": "1.2.0",
            "_view_count": null,
            "flex_flow": null,
            "width": null,
            "min_width": null,
            "border": null,
            "align_items": null,
            "bottom": null,
            "_model_module": "@jupyter-widgets/base",
            "top": null,
            "grid_column": null,
            "overflow_y": null,
            "overflow_x": null,
            "grid_auto_flow": null,
            "grid_area": null,
            "grid_template_columns": null,
            "flex": null,
            "_model_name": "LayoutModel",
            "justify_items": null,
            "grid_row": null,
            "max_height": null,
            "align_content": null,
            "visibility": null,
            "align_self": null,
            "height": null,
            "min_height": null,
            "padding": null,
            "grid_auto_rows": null,
            "grid_gap": null,
            "max_width": null,
            "order": null,
            "_view_module_version": "1.2.0",
            "grid_template_areas": null,
            "object_position": null,
            "object_fit": null,
            "grid_auto_columns": null,
            "margin": null,
            "display": null,
            "left": null
          }
        },
        "d3dbdc4322a9475b9c2a51070a2b2339": {
          "model_module": "@jupyter-widgets/controls",
          "model_name": "LabelModel",
          "state": {
            "_view_name": "LabelView",
            "style": "IPY_MODEL_2cbdf6d0e0234c4997b04a0d67adbd20",
            "_dom_classes": [],
            "description": "",
            "_model_name": "LabelModel",
            "placeholder": "​",
            "_view_module": "@jupyter-widgets/controls",
            "_model_module_version": "1.5.0",
            "value": " 1094.62MB of 1094.62MB uploaded (0.00MB deduped)\r",
            "_view_count": null,
            "_view_module_version": "1.5.0",
            "description_tooltip": null,
            "_model_module": "@jupyter-widgets/controls",
            "layout": "IPY_MODEL_218002585c594eb38a58ac4c3919118c"
          }
        },
        "034ad230dae34506a2db0bba56307c6c": {
          "model_module": "@jupyter-widgets/controls",
          "model_name": "FloatProgressModel",
          "state": {
            "_view_name": "ProgressView",
            "style": "IPY_MODEL_0389bd5e415c47099ea5c47330ec89c1",
            "_dom_classes": [],
            "description": "",
            "_model_name": "FloatProgressModel",
            "bar_style": "",
            "max": 1,
            "_view_module": "@jupyter-widgets/controls",
            "_model_module_version": "1.5.0",
            "value": 1,
            "_view_count": null,
            "_view_module_version": "1.5.0",
            "orientation": "horizontal",
            "min": 0,
            "description_tooltip": null,
            "_model_module": "@jupyter-widgets/controls",
            "layout": "IPY_MODEL_1a1bf74e275847f48c92cf59085c3153"
          }
        },
        "2cbdf6d0e0234c4997b04a0d67adbd20": {
          "model_module": "@jupyter-widgets/controls",
          "model_name": "DescriptionStyleModel",
          "state": {
            "_view_name": "StyleView",
            "_model_name": "DescriptionStyleModel",
            "description_width": "",
            "_view_module": "@jupyter-widgets/base",
            "_model_module_version": "1.5.0",
            "_view_count": null,
            "_view_module_version": "1.2.0",
            "_model_module": "@jupyter-widgets/controls"
          }
        },
        "218002585c594eb38a58ac4c3919118c": {
          "model_module": "@jupyter-widgets/base",
          "model_name": "LayoutModel",
          "state": {
            "_view_name": "LayoutView",
            "grid_template_rows": null,
            "right": null,
            "justify_content": null,
            "_view_module": "@jupyter-widgets/base",
            "overflow": null,
            "_model_module_version": "1.2.0",
            "_view_count": null,
            "flex_flow": null,
            "width": null,
            "min_width": null,
            "border": null,
            "align_items": null,
            "bottom": null,
            "_model_module": "@jupyter-widgets/base",
            "top": null,
            "grid_column": null,
            "overflow_y": null,
            "overflow_x": null,
            "grid_auto_flow": null,
            "grid_area": null,
            "grid_template_columns": null,
            "flex": null,
            "_model_name": "LayoutModel",
            "justify_items": null,
            "grid_row": null,
            "max_height": null,
            "align_content": null,
            "visibility": null,
            "align_self": null,
            "height": null,
            "min_height": null,
            "padding": null,
            "grid_auto_rows": null,
            "grid_gap": null,
            "max_width": null,
            "order": null,
            "_view_module_version": "1.2.0",
            "grid_template_areas": null,
            "object_position": null,
            "object_fit": null,
            "grid_auto_columns": null,
            "margin": null,
            "display": null,
            "left": null
          }
        },
        "0389bd5e415c47099ea5c47330ec89c1": {
          "model_module": "@jupyter-widgets/controls",
          "model_name": "ProgressStyleModel",
          "state": {
            "_view_name": "StyleView",
            "_model_name": "ProgressStyleModel",
            "description_width": "",
            "_view_module": "@jupyter-widgets/base",
            "_model_module_version": "1.5.0",
            "_view_count": null,
            "_view_module_version": "1.2.0",
            "bar_color": null,
            "_model_module": "@jupyter-widgets/controls"
          }
        },
        "1a1bf74e275847f48c92cf59085c3153": {
          "model_module": "@jupyter-widgets/base",
          "model_name": "LayoutModel",
          "state": {
            "_view_name": "LayoutView",
            "grid_template_rows": null,
            "right": null,
            "justify_content": null,
            "_view_module": "@jupyter-widgets/base",
            "overflow": null,
            "_model_module_version": "1.2.0",
            "_view_count": null,
            "flex_flow": null,
            "width": null,
            "min_width": null,
            "border": null,
            "align_items": null,
            "bottom": null,
            "_model_module": "@jupyter-widgets/base",
            "top": null,
            "grid_column": null,
            "overflow_y": null,
            "overflow_x": null,
            "grid_auto_flow": null,
            "grid_area": null,
            "grid_template_columns": null,
            "flex": null,
            "_model_name": "LayoutModel",
            "justify_items": null,
            "grid_row": null,
            "max_height": null,
            "align_content": null,
            "visibility": null,
            "align_self": null,
            "height": null,
            "min_height": null,
            "padding": null,
            "grid_auto_rows": null,
            "grid_gap": null,
            "max_width": null,
            "order": null,
            "_view_module_version": "1.2.0",
            "grid_template_areas": null,
            "object_position": null,
            "object_fit": null,
            "grid_auto_columns": null,
            "margin": null,
            "display": null,
            "left": null
          }
        },
        "3e971956fba546cbbaf69e92b15a7b26": {
          "model_module": "@jupyter-widgets/controls",
          "model_name": "VBoxModel",
          "state": {
            "_view_name": "VBoxView",
            "_dom_classes": [],
            "_model_name": "VBoxModel",
            "_view_module": "@jupyter-widgets/controls",
            "_model_module_version": "1.5.0",
            "_view_count": null,
            "_view_module_version": "1.5.0",
            "box_style": "",
            "layout": "IPY_MODEL_327c8033e46747a4a0ad57c614ea70fe",
            "_model_module": "@jupyter-widgets/controls",
            "children": [
              "IPY_MODEL_e5ee7a83995f44a4b43d747d2b5851d9",
              "IPY_MODEL_6737b058e00f4cd5b1ec2be77bd8fb95"
            ]
          }
        },
        "327c8033e46747a4a0ad57c614ea70fe": {
          "model_module": "@jupyter-widgets/base",
          "model_name": "LayoutModel",
          "state": {
            "_view_name": "LayoutView",
            "grid_template_rows": null,
            "right": null,
            "justify_content": null,
            "_view_module": "@jupyter-widgets/base",
            "overflow": null,
            "_model_module_version": "1.2.0",
            "_view_count": null,
            "flex_flow": null,
            "width": null,
            "min_width": null,
            "border": null,
            "align_items": null,
            "bottom": null,
            "_model_module": "@jupyter-widgets/base",
            "top": null,
            "grid_column": null,
            "overflow_y": null,
            "overflow_x": null,
            "grid_auto_flow": null,
            "grid_area": null,
            "grid_template_columns": null,
            "flex": null,
            "_model_name": "LayoutModel",
            "justify_items": null,
            "grid_row": null,
            "max_height": null,
            "align_content": null,
            "visibility": null,
            "align_self": null,
            "height": null,
            "min_height": null,
            "padding": null,
            "grid_auto_rows": null,
            "grid_gap": null,
            "max_width": null,
            "order": null,
            "_view_module_version": "1.2.0",
            "grid_template_areas": null,
            "object_position": null,
            "object_fit": null,
            "grid_auto_columns": null,
            "margin": null,
            "display": null,
            "left": null
          }
        },
        "e5ee7a83995f44a4b43d747d2b5851d9": {
          "model_module": "@jupyter-widgets/controls",
          "model_name": "LabelModel",
          "state": {
            "_view_name": "LabelView",
            "style": "IPY_MODEL_cef2ddaaf69b4349ae69512600e3e941",
            "_dom_classes": [],
            "description": "",
            "_model_name": "LabelModel",
            "placeholder": "​",
            "_view_module": "@jupyter-widgets/controls",
            "_model_module_version": "1.5.0",
            "value": " 486.48MB of 486.48MB uploaded (0.00MB deduped)\r",
            "_view_count": null,
            "_view_module_version": "1.5.0",
            "description_tooltip": null,
            "_model_module": "@jupyter-widgets/controls",
            "layout": "IPY_MODEL_f74f830e41be47afbb94b25c1c26bf9f"
          }
        },
        "6737b058e00f4cd5b1ec2be77bd8fb95": {
          "model_module": "@jupyter-widgets/controls",
          "model_name": "FloatProgressModel",
          "state": {
            "_view_name": "ProgressView",
            "style": "IPY_MODEL_4a155680eb234d858555860efe0e1494",
            "_dom_classes": [],
            "description": "",
            "_model_name": "FloatProgressModel",
            "bar_style": "",
            "max": 1,
            "_view_module": "@jupyter-widgets/controls",
            "_model_module_version": "1.5.0",
            "value": 1,
            "_view_count": null,
            "_view_module_version": "1.5.0",
            "orientation": "horizontal",
            "min": 0,
            "description_tooltip": null,
            "_model_module": "@jupyter-widgets/controls",
            "layout": "IPY_MODEL_b990372abe9447c9b8dc1b4d1a37821f"
          }
        },
        "cef2ddaaf69b4349ae69512600e3e941": {
          "model_module": "@jupyter-widgets/controls",
          "model_name": "DescriptionStyleModel",
          "state": {
            "_view_name": "StyleView",
            "_model_name": "DescriptionStyleModel",
            "description_width": "",
            "_view_module": "@jupyter-widgets/base",
            "_model_module_version": "1.5.0",
            "_view_count": null,
            "_view_module_version": "1.2.0",
            "_model_module": "@jupyter-widgets/controls"
          }
        },
        "f74f830e41be47afbb94b25c1c26bf9f": {
          "model_module": "@jupyter-widgets/base",
          "model_name": "LayoutModel",
          "state": {
            "_view_name": "LayoutView",
            "grid_template_rows": null,
            "right": null,
            "justify_content": null,
            "_view_module": "@jupyter-widgets/base",
            "overflow": null,
            "_model_module_version": "1.2.0",
            "_view_count": null,
            "flex_flow": null,
            "width": null,
            "min_width": null,
            "border": null,
            "align_items": null,
            "bottom": null,
            "_model_module": "@jupyter-widgets/base",
            "top": null,
            "grid_column": null,
            "overflow_y": null,
            "overflow_x": null,
            "grid_auto_flow": null,
            "grid_area": null,
            "grid_template_columns": null,
            "flex": null,
            "_model_name": "LayoutModel",
            "justify_items": null,
            "grid_row": null,
            "max_height": null,
            "align_content": null,
            "visibility": null,
            "align_self": null,
            "height": null,
            "min_height": null,
            "padding": null,
            "grid_auto_rows": null,
            "grid_gap": null,
            "max_width": null,
            "order": null,
            "_view_module_version": "1.2.0",
            "grid_template_areas": null,
            "object_position": null,
            "object_fit": null,
            "grid_auto_columns": null,
            "margin": null,
            "display": null,
            "left": null
          }
        },
        "4a155680eb234d858555860efe0e1494": {
          "model_module": "@jupyter-widgets/controls",
          "model_name": "ProgressStyleModel",
          "state": {
            "_view_name": "StyleView",
            "_model_name": "ProgressStyleModel",
            "description_width": "",
            "_view_module": "@jupyter-widgets/base",
            "_model_module_version": "1.5.0",
            "_view_count": null,
            "_view_module_version": "1.2.0",
            "bar_color": null,
            "_model_module": "@jupyter-widgets/controls"
          }
        },
        "b990372abe9447c9b8dc1b4d1a37821f": {
          "model_module": "@jupyter-widgets/base",
          "model_name": "LayoutModel",
          "state": {
            "_view_name": "LayoutView",
            "grid_template_rows": null,
            "right": null,
            "justify_content": null,
            "_view_module": "@jupyter-widgets/base",
            "overflow": null,
            "_model_module_version": "1.2.0",
            "_view_count": null,
            "flex_flow": null,
            "width": null,
            "min_width": null,
            "border": null,
            "align_items": null,
            "bottom": null,
            "_model_module": "@jupyter-widgets/base",
            "top": null,
            "grid_column": null,
            "overflow_y": null,
            "overflow_x": null,
            "grid_auto_flow": null,
            "grid_area": null,
            "grid_template_columns": null,
            "flex": null,
            "_model_name": "LayoutModel",
            "justify_items": null,
            "grid_row": null,
            "max_height": null,
            "align_content": null,
            "visibility": null,
            "align_self": null,
            "height": null,
            "min_height": null,
            "padding": null,
            "grid_auto_rows": null,
            "grid_gap": null,
            "max_width": null,
            "order": null,
            "_view_module_version": "1.2.0",
            "grid_template_areas": null,
            "object_position": null,
            "object_fit": null,
            "grid_auto_columns": null,
            "margin": null,
            "display": null,
            "left": null
          }
        }
      }
    }
  },
  "cells": [
    {
      "cell_type": "code",
      "metadata": {
        "id": "mU_wmnaNVFhO"
      },
      "source": [
        "import tensorflow as tf\n",
        "from tensorflow import keras\n",
        "from tensorflow.keras import layers\n",
        "from tensorflow.keras.models import Sequential\n",
        "import matplotlib.pyplot as plt\n",
        "import numpy as np\n",
        "import os\n",
        "import PIL\n",
        "import cv2\n",
        "import pathlib\n",
        "import glob\n",
        "import shutil\n",
        "import os\n",
        "import random\n",
        "from tensorflow.keras.applications.inception_v3 import InceptionV3\n",
        "from tensorflow.keras.applications.xception import Xception\n",
        "from keras.applications.inception_resnet_v2 import InceptionResNetV2\n",
        "from keras.applications.resnet50 import ResNet50\n",
        "from keras.applications.mobilenet import MobileNet\n",
        "from tensorflow.keras.preprocessing import image\n",
        "from tensorflow.keras.models import Model\n",
        "from tensorflow.keras.layers import Dense, GlobalAveragePooling2D\n",
        "from tensorflow.keras.layers import Dense, GlobalMaxPooling2D\n",
        "from tensorflow.keras.optimizers import Adam\n",
        "from tensorflow.keras.callbacks import Callback"
      ],
      "execution_count": 1,
      "outputs": []
    },
    {
      "cell_type": "code",
      "metadata": {
        "id": "6oFlezA3UNRK"
      },
      "source": [
        "from keras.applications import ResNet101, ResNet152, ResNet50V2, ResNet101V2, ResNet152V2"
      ],
      "execution_count": 2,
      "outputs": []
    },
    {
      "cell_type": "code",
      "metadata": {
        "id": "z34swmp9ND1g"
      },
      "source": [
        "%%capture\n",
        "!pip install wandb -qqq\n",
        "import wandb"
      ],
      "execution_count": 3,
      "outputs": []
    },
    {
      "cell_type": "code",
      "metadata": {
        "id": "vbuWkh9kNerj"
      },
      "source": [
        "from wandb.keras import WandbCallback"
      ],
      "execution_count": 4,
      "outputs": []
    },
    {
      "cell_type": "code",
      "metadata": {
        "colab": {
          "base_uri": "https://localhost:8080/"
        },
        "id": "z1eLLYa4NDyH",
        "outputId": "7d6e1d82-513b-445d-8214-390abef777c7"
      },
      "source": [
        "!wandb login --relogin"
      ],
      "execution_count": 5,
      "outputs": [
        {
          "output_type": "stream",
          "text": [
            "\u001b[34m\u001b[1mwandb\u001b[0m: You can find your API key in your browser here: https://wandb.ai/authorize\n",
            "\u001b[34m\u001b[1mwandb\u001b[0m: Paste an API key from your profile and hit enter: \n",
            "\u001b[34m\u001b[1mwandb\u001b[0m: Appending key for api.wandb.ai to your netrc file: /root/.netrc\n"
          ],
          "name": "stdout"
        }
      ]
    },
    {
      "cell_type": "code",
      "metadata": {
        "colab": {
          "base_uri": "https://localhost:8080/"
        },
        "id": "KUFbS5KRYipF",
        "outputId": "2fc36331-d511-4d30-ac39-cc1e7118a1c6"
      },
      "source": [
        "############################### caution : terminal commands ###########################################\n",
        "\n",
        "#-----------------------------empty the datasets forlder before downloading the dataset ------------------------\n",
        "\n",
        "%cd\n",
        "%cd .keras/datasets/\n",
        "!rm -r *"
      ],
      "execution_count": 12,
      "outputs": [
        {
          "output_type": "stream",
          "text": [
            "/root\n",
            "/root/.keras/datasets\n"
          ],
          "name": "stdout"
        }
      ]
    },
    {
      "cell_type": "code",
      "metadata": {
        "colab": {
          "base_uri": "https://localhost:8080/"
        },
        "id": "uWz2g5jsFWMQ",
        "outputId": "a4a92adb-e794-4e78-c72b-5e1ca71fffad"
      },
      "source": [
        "############################### download data from given url ###################################3\n",
        "\n",
        "dataset_url = \"https://storage.googleapis.com/wandb_datasets/nature_12K.zip\"\n",
        "data_dir = tf.keras.utils.get_file('nature_12K', origin=dataset_url, extract=True)\n"
      ],
      "execution_count": 13,
      "outputs": [
        {
          "output_type": "stream",
          "text": [
            "Downloading data from https://storage.googleapis.com/wandb_datasets/nature_12K.zip\n",
            "3816693760/3816687935 [==============================] - 67s 0us/step\n"
          ],
          "name": "stdout"
        }
      ]
    },
    {
      "cell_type": "code",
      "metadata": {
        "id": "fGGDdWOvFYWK",
        "colab": {
          "base_uri": "https://localhost:8080/"
        },
        "outputId": "648c9f85-2ec9-40ac-87a8-839ac03a5870"
      },
      "source": [
        "#------------------------------caution : terminal commands --------------------------------------\n",
        "\n",
        "%cd\n",
        "%cd .keras/datasets/inaturalist_12K\n",
        "%mv val test\n",
        "!mkdir valid"
      ],
      "execution_count": 14,
      "outputs": [
        {
          "output_type": "stream",
          "text": [
            "/root\n",
            "/root/.keras/datasets/inaturalist_12K\n"
          ],
          "name": "stdout"
        }
      ]
    },
    {
      "cell_type": "code",
      "metadata": {
        "id": "WQJIOff7RWOf"
      },
      "source": [
        "###################### split train data into validation set and training set ##########################\n",
        "\n",
        "data_folder = '/root/.keras/datasets/inaturalist_12K'\n",
        "os.chdir(data_folder)\n",
        "\n",
        "folder_names = ['Amphibia', 'Animalia', 'Arachnida', 'Aves', 'Fungi', 'Insecta', 'Mammalia', 'Mollusca', 'Plantae', 'Reptilia' ]\n",
        "for i in range(0,10):\n",
        "  source = data_folder + \"/train/\" +folder_names[i]  \n",
        "  orig_files = os.listdir(source)\n",
        "  chosen_indexes = random.sample(range(0, len(orig_files)-1), 100)\n",
        "\n",
        "  destination = data_folder + \"/valid/\"\n",
        "  os.chdir(destination)\n",
        "  os.system('mkdir'+' '+str(folder_names[i]))\n",
        "  destination = destination + folder_names[i]\n",
        "  for j in range(0,100):\n",
        "    shutil.move(   source +\"/\" + str(   orig_files[   chosen_indexes[j]  ]   )  , destination)\n"
      ],
      "execution_count": 15,
      "outputs": []
    },
    {
      "cell_type": "code",
      "metadata": {
        "id": "W9fn2_KiRWKZ"
      },
      "source": [
        "######################## Correcting the directory location #################################\n",
        "\n",
        "#data_dir = '/root/.keras/datasets/nature_12K'\n",
        "\n",
        "data_dir = data_dir.split('/')\n",
        "data_dir.remove('nature_12K')\n",
        "data_dir.append('inaturalist_12K')\n",
        "data_dir = '/'.join(data_dir)\n"
      ],
      "execution_count": 16,
      "outputs": []
    },
    {
      "cell_type": "code",
      "metadata": {
        "id": "pTM_1UNdRWHn"
      },
      "source": [
        "#----------------------------Taking the train data---------------------------------------------\n",
        "train_data_dir_path = data_dir + '/train'\n",
        "train_data_dir = pathlib.Path(train_data_dir_path)\n",
        "\n",
        "#----------------------------Taking the validation data---------------------------------------\n",
        "valid_data_dir_path = data_dir + '/valid'\n",
        "valid_data_dir = pathlib.Path(valid_data_dir_path)\n",
        "\n",
        "#-----------------------------Taking the test data----------------------------------------\n",
        "test_data_dir_path = data_dir + '/test'\n",
        "test_data_dir = pathlib.Path(test_data_dir_path)"
      ],
      "execution_count": 18,
      "outputs": []
    },
    {
      "cell_type": "code",
      "metadata": {
        "id": "v9lMEAEfRbjO"
      },
      "source": [
        "#----------------------------Parameters for the images----------------------------------------\n",
        "batch_size = 32\n",
        "img_height = 180\n",
        "img_width = 180"
      ],
      "execution_count": 19,
      "outputs": []
    },
    {
      "cell_type": "code",
      "metadata": {
        "colab": {
          "base_uri": "https://localhost:8080/"
        },
        "id": "RDPv0DjeRbf_",
        "outputId": "72f8d3a3-4419-4fc3-ae22-8144eb4a8f50"
      },
      "source": [
        "########################### converting the image data into dataset ##############################\n",
        "\n",
        "#--------------------------training dataset ---------------------------------------\n",
        "train_ds = tf.keras.preprocessing.image_dataset_from_directory(\n",
        "  train_data_dir,\n",
        "  seed=123,\n",
        "  image_size=(img_height, img_width),\n",
        "  batch_size=batch_size,\n",
        "  label_mode=\"categorical\"\n",
        "  )\n",
        "\n",
        "#-------------------------validation dataset ----------------------------------\n",
        "val_ds = tf.keras.preprocessing.image_dataset_from_directory(\n",
        "  valid_data_dir,\n",
        "  seed=123,\n",
        "  image_size=(img_height, img_width),\n",
        "  batch_size=batch_size,\n",
        "  label_mode=\"categorical\"\n",
        "  )"
      ],
      "execution_count": 20,
      "outputs": [
        {
          "output_type": "stream",
          "text": [
            "Found 9000 files belonging to 10 classes.\n",
            "Found 999 files belonging to 10 classes.\n"
          ],
          "name": "stdout"
        }
      ]
    },
    {
      "cell_type": "code",
      "metadata": {
        "id": "cpage8SfRbdu"
      },
      "source": [
        "######################################## function for using trained model ###############################\n",
        "\n",
        "\n",
        "def get_desired_model(b_model, input_shape=(180,180,3), num_dense_neurons=1014,activation=\"relu\",activation2=\"softmax\",dropout=None, pooling=\"max\",l_rate=0.0001,num_f=5): \n",
        "    \n",
        "    if b_model==\"Xception\":\n",
        "      base_model=Xception\n",
        "    elif b_model==\"InceptionV3\":\n",
        "      base_model=InceptionV3\n",
        "    elif b_model==\"ResNet50\":\n",
        "      base_model=ResNet50\n",
        "    elif b_model==\"MobileNet\":\n",
        "      base_model=MobileNet\n",
        "    elif b_model == \"ResNet101\":\n",
        "      base_model=ResNet101\n",
        "    elif b_model == \"ResNet152\":\n",
        "      base_model=ResNet152\n",
        "    elif b_model == \"ResNet50V2\":\n",
        "      base_model=ResNet50V2\n",
        "    elif b_model == \"ResNet101V2\":\n",
        "      base_model=ResNet101V2\n",
        "    elif b_model == \"ResNet152V2\":\n",
        "      base_model=ResNet152V2\n",
        "    \n",
        "    \n",
        "      #--------------------------------- setting the trainable layers -------------------------------\n",
        "\n",
        "\n",
        "    base = base_model(input_shape=input_shape,include_top=False,weights='imagenet') \n",
        "\n",
        "    for layer in base.layers[:num_f]:\n",
        "      layer.trainable = False\n",
        "  #------------------------------ perform pooling --------------------------------------\n",
        "    if pooling == \"avg\": \n",
        "        x = GlobalAveragePooling2D()(base.output) \n",
        "    elif pooling == \"max\": \n",
        "        x = GlobalMaxPooling2D()(base.output) \n",
        "\n",
        "  #---------------------------- Flatten the output  --------------------------------------\n",
        "\n",
        "    x = layers.Flatten()(base.output)\n",
        "\n",
        "\n",
        "  #------------------------------- dropout ---------------------------------------------\n",
        "    if dropout != 0: \n",
        "        x = layers.Dropout(dropout)(x) \n",
        "\n",
        "  #----------------------------- add fully connected layer ---------------------------------\n",
        "    x = Dense(num_dense_neurons, activation=activation)(x) \n",
        "\n",
        "  #------------------------------- and a logistic layer -------------------------------------\n",
        "    x = Dense(10, activation=activation2)(x) \n",
        "\n",
        "  #----------------------------------- get model ----------------------------------------------\n",
        "    model = Model(inputs=base.input, outputs=x) \n",
        "\n",
        "  # #--------------------------------- setting the trainable layers -------------------------------\n",
        "  #   for layer in base.layers:\n",
        "  #       layer.trainable = False\n",
        "\n",
        " #------------------------------------compiling the model -----------------------------------------\n",
        "    model.compile(loss='categorical_crossentropy', metrics=[\"accuracy\"], optimizer=Adam(l_rate)) \n",
        "    \n",
        "  #-------------------------------------return model -------------------------------------------------\n",
        "    return model\n",
        "\n",
        "#============================== end of get_desired_model function ========================================"
      ],
      "execution_count": 21,
      "outputs": []
    },
    {
      "cell_type": "code",
      "metadata": {
        "id": "KrniEm-WUUG3"
      },
      "source": [
        "#--------------------------- training -------------------------------------------\n",
        "def train(model, train_ds, val_ds, epochs=5):\n",
        "  history = model.fit(train_ds, validation_data = val_ds, epochs = epochs, callbacks=[WandbCallback()])\n",
        "  return history"
      ],
      "execution_count": 22,
      "outputs": []
    },
    {
      "cell_type": "code",
      "metadata": {
        "id": "y8_2d_jtN6nc",
        "colab": {
          "base_uri": "https://localhost:8080/"
        },
        "outputId": "69fc7421-f9a8-4674-dbd6-f3b4714e874c"
      },
      "source": [
        "#--------------------------- Setting parameters for wandb -------------------------------------------\n",
        "\n",
        "sweep_config={\n",
        "              \"method\":\"random\",\n",
        "              'metric' : {\n",
        "                            'name' : 'val_accuracy',\n",
        "                            'goal' : 'maximize',\n",
        "                         },\n",
        "          \"parameters\" : {\n",
        "                            \"base_model\":{\"values\":[\"ResNet50\", \"Xception\", \"InceptionV3\", \"MobileNet\"]},\n",
        "                            \"activation\":{\"values\":['relu']},\n",
        "                            \"activation2\":{\"values\":['softmax']},\n",
        "                            \"input_shape\":{\"values\":[(180,180,3)]},\n",
        "                            \"dropout\":{\"values\":[0,0.1,0.2]},\n",
        "                            \"num_dense_neuron\":{\"values\":[256,512,1014]},\n",
        "                            \"l_rate\":{\"values\":[0.0001,0.00005]},\n",
        "                            \"epoch\": {\"values\": [5,10]},\n",
        "                            \"pooling\":{\"values\":[\"max\",\"avg\", \"no pooling\"]},\n",
        "                             \"num_f\":{\"values\":[-5,5,25]}\n",
        "                         }\n",
        "              }\n",
        "sweep_id = wandb.sweep(sweep_config, project=\"pretrained\")"
      ],
      "execution_count": 24,
      "outputs": [
        {
          "output_type": "stream",
          "text": [
            "Create sweep with ID: do6zfb98\n",
            "Sweep URL: https://wandb.ai/pranayrajparisha/pretrained/sweeps/do6zfb98\n"
          ],
          "name": "stdout"
        }
      ]
    },
    {
      "cell_type": "code",
      "metadata": {
        "id": "48F6TZtSPZU8"
      },
      "source": [
        "#---------------------------  function for wandb -------------------------------------------\n",
        "\n",
        "def run():\n",
        "\n",
        "  wb = wandb.init()\n",
        "  config = wb.config\n",
        "\n",
        "  # sweep parameters\n",
        "  base_model = config.base_model\n",
        "  activation = config.activation\n",
        "  activation2 = config.activation2\n",
        "  dropout = config.dropout\n",
        "  input_shape = config.input_shape\n",
        "  num_dense_neuron = config.num_dense_neuron\n",
        "  l_rate=config.l_rate\n",
        "  epoch=config.epoch\n",
        "  pooling = config.pooling\n",
        "  num_f=config.num_f\n",
        "\n",
        "  \n",
        "  model = get_desired_model(base_model, input_shape, num_dense_neuron, activation, activation2, dropout, pooling, l_rate)\n",
        "  history = train(model, train_ds, val_ds, epoch)\n",
        "\n",
        "  return"
      ],
      "execution_count": 26,
      "outputs": []
    },
    {
      "cell_type": "code",
      "metadata": {
        "id": "hAEJm_AmTpwd",
        "colab": {
          "base_uri": "https://localhost:8080/",
          "height": 1000,
          "referenced_widgets": [
            "ca0c1ab1fa214c1f8c989d15fec5f8f1",
            "638b8223b06e4305b4ba08972981a97c",
            "c78c185e5b4347fa8b04bb7d47097ec4",
            "5039215aabbb4bb68c4fa4dd1074904a",
            "7fc4d0d7ca5a4ac3a81824e0ab321313",
            "26397e0d88ab4bb7ac709d2db5a852bc",
            "99247753e1ea442dbceda095e8ac876f",
            "c0a812cc9bfc47ef974cdb2f2ba45e34",
            "8b17f18d94ce40bb8b1ec506401f251d",
            "d95fbe11977540b5a362ff7d4222a98c",
            "6851be9205b04e13980cfde76527c5fc",
            "fcb30da36d8440daa0807aaa99c13028",
            "8b9f72173a9949869f7c6e38509c9ee8",
            "66d7f83299574ddb818af72a4a8fe062",
            "38e1de0d77a44807b0f0843ace29a4a4",
            "893d2e9d8ee84c438473623d1fc1ce7a",
            "c6ce743a04a24cfca44941393f69f3c8",
            "5e4ac7f56b364b77bd10f0b8bdfa7dbd",
            "7500e636531949d3b96c9f53f2f6de8a",
            "304debbf8a37423fa9f6c119be9c2e96",
            "5f9cc78ab8934ea29e0796e790754084",
            "89386da1531c4d5dacf11bd14469823d",
            "89680691f7f84ca68693c75c0992ec5c",
            "9fa0bbfbd11342ea8c862a32a3c9c012",
            "fe09439c6e5f4a06addb82193b2a2a7e",
            "95d00048021e4d5d8691cc8e941ca048",
            "084ce5a9d4f14dc38f4b6db2df7d365f",
            "042bbd2e4c3a459a8197182a8799068f",
            "f410fbf03a5b4a99823b10bc9d5166f3",
            "0d0284299be24beda39296b86f325c53",
            "f205c8e3f0a545eb813d7e33e116ff1f",
            "6d264f849ef240e98776ebe4322ea57f",
            "4622fe3a984c4eb192ed2120386c70aa",
            "11b5536cc82749d38092f6ea61786a2d",
            "6ab6350e1acb4e0988b896abf9321588",
            "ecdd16e4b57349f7b44f517e400e1569",
            "80cf4295ba894af29b328e4968f6a7e6",
            "ed64a516854e4fb6a215f3dc418c1a2a",
            "0ce73ef52e6a4d3d9263b693d218257b",
            "c8dbb5387e0e4f6b944559fe9087ff9d",
            "22ad0d1aa50a4c2c938c5ce5803806c3",
            "f426a5f267d640c59e7f0f2d20bc51aa",
            "98f053484bf944b389a2df2854726077",
            "bef48a1ae7cc4e0d856765d23b7a73eb",
            "60c05a6212954b8fb9df90c7009e6096",
            "a0758ca50ed14b26a90c5df1caa925d8",
            "5135b1760cb6499d8ddb909c6a231108",
            "fed274c50c814b97813306f12f33a6d2",
            "85d7ed3624cc4221af0b8fd7f71d1d2a",
            "b63421a0f3894530915807d88e90eb10",
            "fa0d9f3f56c74596ba398be6f2a477e8",
            "9f9af84f84a04d448869ae8c6a50ca22",
            "eb7951e7f50b47a4943281533b173425",
            "9e632376a54c4eabb217f42a99891b82",
            "8159c2cbc5a84547ba73991142dbd8d5",
            "7c17de303d7647e1991b0e09f1c0b917",
            "54e976ac3ed244bc8c9ce252fbcc0d61",
            "41b31f58edc4435eb20932bf5db03fd6",
            "3aefa495b28e41589301819c325501bc",
            "f379e14bbc764e4a8f6d9132d423b4ee",
            "e4c6b5bde8a9499b821aab3d993eb977",
            "0196a6224201484f94cbdd6105584b78",
            "a8a3bbe006da4eb0b044cd7e6d8a71dd",
            "1bcd369917e44a0d9ba0c06beb4ec03d",
            "69d2ef1c0167439ca66e804e15fd5c24",
            "64ddbc9ce77e43b7a389652a3de79447",
            "972d45a6bc8142d1b3b45450a0b7520b",
            "ce7db07afeb74af08abfd3b785a7ad46",
            "5b82a0e838ff429bade0f0392fe8babc",
            "d375d47cbe0b4ca1b206b9670d6282fe",
            "946627bf3caf43d2b143944f889b5c26",
            "67df3c2a38f345fabce4534a41bb7f52",
            "cede265275a545528e7a3c385d3300e1",
            "08fa4423897f40d092d8813bc5b3a68c",
            "9bf5ce9566fc4735bc031f8b0cd7981a",
            "65dcfcc30dcc407ca16793be67ee68e4",
            "6ebe9c2c9a484552b22464f944253de4",
            "1d981f28cf784b138366a595a9d8d134",
            "01666c4c66d44b639cdb5d13fe81968a",
            "b80ff93188f446219708cdb7301f386f",
            "891f6423748045c680df23ae982e39f6",
            "7a1252772bf143f7a271d8aa01d2cdb6",
            "d29df2b30b2644fa8f016c1fbd34f2dd",
            "9ba055e8bc30497f819f304ca01a5e33",
            "b4b234a946054384836a072f9b1df01d",
            "66c3a519c67e4e449b09cdbb0a71d4e3",
            "96d4c960b78c4b429f76b72b26396f06",
            "60ea532b9e044bab8711e7ed688d1f02",
            "c22529a24c234d70aef5beea9ea3e188",
            "527ac3c7a04b43a694bc6fd4111d4b62",
            "6d3877fcc3eb4bb5b8cac9d6c37376f7",
            "7876e54437004bcca3ace2fb8b5fd222",
            "36c2e05427fd47f48d00dba4c4275389",
            "3f686d2836c44213b7f4b11adc1a24d5",
            "41b5c078c6134ec2a2423128d0f24982",
            "583c883f79554e99a5ade6ba614d355d",
            "a2bc6fa5b48c469b944b21666765542c",
            "39b912f653184fddad903bdcbd4b2f70",
            "16196d7fd1d94d2ba32d8118e9b1d777",
            "8066689739fa40869190910b9edb84e6",
            "8cae699b9d4545648b54624130a312bf",
            "6e0ca6ea1e0a4138a60608f3b101dd26",
            "b85488a77e1841eaafafe746f6705bd7",
            "a1a31ec84e064d129fe79c758c26b5f2",
            "7e9a835e79e54131a9de632c281cfc57",
            "a4010b0d68454547b142db419d35c714",
            "b1742c257eda40cc969ae170088673a9",
            "7b8de792b7c1445cb8d6002452b5a538",
            "e87174d057914af99ef3493a3e1392ea",
            "36b897e283344e9e9a19b68984db6bf9",
            "bc282958dc9c482591867ba7e64a1958",
            "a39e40c587b643d6841f209b2d6fe861",
            "bf8d9e8cc9c5497fb4dde25295846249",
            "ebee2567f5974cf6b240a148bdb0de4d",
            "9fd8009d8c8946cfba61782328231833",
            "f926f1c2c8054556a427c022c0e02985",
            "b3adde4b6d154d37bfe9feb4aace159d",
            "0d4bc5afd1be47d990fe4735a55867dc",
            "60f407b94c0f4af4a9803ff2c5df4ffd",
            "0428413924554affb3fa293139a95db5",
            "7d24699355e742efa44c6274ffec8d08",
            "a4c89bbf8c134efc93b2d96e79b780d0",
            "4ace9e848c0843a68ed0d182c575c3fb",
            "acb4177eeeb4433795eb33805328323e",
            "6effd5a57235412784acf4d9f613f9be",
            "20deb881dfc1408dabb75b6db68e9282",
            "efcad69819084b0c956c2bd545a9d6cd",
            "d9903f3d132246e89d21ad4f86a0cabc",
            "a23263e677434de68703edcc93ff7a62",
            "b7440b762efe43189a7e572ab4aa1bea",
            "2130fac9fd3c495db62768d15db3f483",
            "24a1c575a5314bb1a61d8f4e67662ee7",
            "98e5a08b730c495d8cd043735f9b870f",
            "3f91f05a8de04da09c9addb67528391b",
            "4637a1aafd354e669713ca537d0cf199",
            "9a85dfd758354727845b4d73fbf61333",
            "1c5274df70b948909864c2c711342a31",
            "127f4065a0bd43e1ac0e33c491fab478",
            "8a0954ad4803470d98dc1bbc243e789c",
            "1f6fce46cc384b76a195ad4fb2bfee44",
            "85f6326fae3548b58759d8c47c3cb5d3",
            "1b26d8d3d2aa426a9c8c94b6683ef598",
            "b207b76b3e6e415da3457d6fcbc4ca40",
            "375cb3cb1d964a70a6bb48f74483d055",
            "953bb4a363104d62a69bee8f45a256f1",
            "6f98ab52ad0e4e25add1814bef0325ee",
            "3485ab55f9dc4184a36ee6542e35b2a5",
            "c5ef8088a4584f719cf4e376004a9fd5",
            "ea13ec9edb204442b567762debbbf751",
            "e262ec72a3de43db8f97e3fbd778838b",
            "764b84a58c76410392ba942012b30eba",
            "7cba96dba2d445f8819d5fcc440272fd",
            "0f0e1a129df044f69cfa5a06ffcd4747",
            "006cfc02ea2d47a0871436ae3755f182",
            "3a63a7e07bb34a9bab19a2b6f31aa7cb",
            "ea1e0e3cc2234e0185c56fff8e7cb30c",
            "e6a5298cb6534618bafeafeabfac69a9",
            "92d88ec500654b1f982f8140ee4e02c9",
            "e89baf915ac248ed90eaef9a949cbd2b",
            "a999cb2fae974db698d842d88cd8bcf6",
            "51e8953eb21641a5b0cf6a5ea966582b",
            "1a9074f15f55438f958d9670ebd1064e",
            "bb4b9b5f5f8b4ceb91b364f0eb46278a",
            "ae2a38ef886f4931a13fee05b8bbdb41",
            "ae9c8e4aed0d42598bc071d765bee802",
            "3cf8c84f54674cbe97d14b489c236b7b",
            "3bded013f8a14acb9a2bf8c76f90469a",
            "673f8cda536e46a5b2d1436295c2a5a5",
            "efc19811bbcd47a4ab936f13d07b3b9e",
            "e772a6aab2b340079e21cf277f817091",
            "0d6b89eeef6b49aeb9d9918350b7828e",
            "4ade13757deb43a2b9b607a74d8cb5c0",
            "c7bd5fb405374dbdb6e643fb3a9d6fca",
            "6eee3c23fc16458199bafab9173cd8ff",
            "ba65994e5d5b430790e841b174785f89",
            "2a2bb0ba42754456b5e9d582d93429ae",
            "9ed5c3336c2a40a38a88c51346ce0c79",
            "995d282eca0246e3a91e16338ac95c49",
            "96485b61496d4aa7bc2d582f753ffcff",
            "74ef276056d046d29aa5d45a1f5a5ea8",
            "3c05aeba0b9b4a24869b9cfdc0906d47",
            "8cb762bd5bc3452e9d5c8bf3845ebe31",
            "d59c1b172eb841edad2c6636c7286d1c",
            "1f28bc3b55d84468b210191e81584543",
            "3fc066fecd8e491c99face351014c82d",
            "9afeec3718fe47098c88eb601346b07d",
            "bbcc334309c2433095f41e7a3e9c67eb",
            "8c94b8fd66b7472680973046235a264f",
            "7c3b0f93c9864a6280b7c2fd8ffa747d",
            "4ed0467e223f49c8a0842ac087bfa0bb",
            "8beffb2ebf0045cd952b21883334f873",
            "7829bfd492c9484893056ff320e8d166",
            "a893b2c39ef645f2bfb9ecf4119a2eda",
            "fb7c51792edb4247b4b49bbc9ef8e8fe",
            "2bfbd8967fcc4cdc8512d8fa0fca6cfa",
            "6e25ae5f25f742a4988c68608b1e594d",
            "9992a8e7cfb441e7b2a20519fad162fb",
            "442de04d37a04d5fb21c744524340b3a",
            "7fbb72cfe0db4082bff24171671f3f21",
            "4df670e2f6434b399c705a6e716df985",
            "f8cfb199d0434de489ddf4c44d4a9bcb",
            "e9de551a2d064fab9cab777d86ee7989",
            "e826ad49bcd54df38acec8cb34c62b5b",
            "53dcb8096a524517b07b7a62cfd15790",
            "ad9193860d9f4e358954fc7dcf311261",
            "8e40e1cf4bc74624bf8eab1c0b4f24b9",
            "c1d7542ba046413284f38ebdc3f34059",
            "cce6044156d64274a03926c5e15a2b34",
            "078c601b254843189ea2016899145e1f",
            "4a60535b77cd455cbd9309519b347ed2",
            "ffa921254ae24f3abf688a2f91b87893",
            "1acaa11ea3fe41c5b0fea9dfe033c78a",
            "e57f5d996cd7430796f4e7329d2db423",
            "67624d2f4a2a43ac853c0009dbc84de7",
            "c1ac46a2e7bc479b8b590d3729c26a91",
            "0bece920fdfe406684adc261470ad205",
            "24318b8f3f6d457b933bbc3518b1db29",
            "c20be62a771549fb8ca3b4298a3343c8",
            "29cefa4dff6b49d8bffea951c2a10e4a",
            "2782198de5fd47748a2ed89495cc4ffe",
            "25a25300e72f433abfa6222aacb7f1e0",
            "7f28de35c0fd4f9bb7473f8526ce0b45",
            "e9f3692771904caa9a8a4d6478b060e7",
            "21a4251c6ef94b3d8f0fc760d89ae66b",
            "7023c9e403544af89c8cf9ba68da8507",
            "aa245e167f8f4aed8aca26c65ce88d75",
            "d3dbdc4322a9475b9c2a51070a2b2339",
            "034ad230dae34506a2db0bba56307c6c",
            "2cbdf6d0e0234c4997b04a0d67adbd20",
            "218002585c594eb38a58ac4c3919118c",
            "0389bd5e415c47099ea5c47330ec89c1",
            "1a1bf74e275847f48c92cf59085c3153",
            "3e971956fba546cbbaf69e92b15a7b26",
            "327c8033e46747a4a0ad57c614ea70fe",
            "e5ee7a83995f44a4b43d747d2b5851d9",
            "6737b058e00f4cd5b1ec2be77bd8fb95",
            "cef2ddaaf69b4349ae69512600e3e941",
            "f74f830e41be47afbb94b25c1c26bf9f",
            "4a155680eb234d858555860efe0e1494",
            "b990372abe9447c9b8dc1b4d1a37821f"
          ]
        },
        "outputId": "4ea992a3-483e-4d3e-dd34-33e8e9eb3807"
      },
      "source": [
        "wandb.agent(sweep_id, run)"
      ],
      "execution_count": null,
      "outputs": [
        {
          "output_type": "stream",
          "text": [
            "\u001b[34m\u001b[1mwandb\u001b[0m: Agent Starting Run: 3dka0mj1 with config:\n",
            "\u001b[34m\u001b[1mwandb\u001b[0m: \tactivation: relu\n",
            "\u001b[34m\u001b[1mwandb\u001b[0m: \tactivation2: softmax\n",
            "\u001b[34m\u001b[1mwandb\u001b[0m: \tbase_model: MobileNet\n",
            "\u001b[34m\u001b[1mwandb\u001b[0m: \tdropout: 0.2\n",
            "\u001b[34m\u001b[1mwandb\u001b[0m: \tepoch: 10\n",
            "\u001b[34m\u001b[1mwandb\u001b[0m: \tinput_shape: [180, 180, 3]\n",
            "\u001b[34m\u001b[1mwandb\u001b[0m: \tl_rate: 0.0001\n",
            "\u001b[34m\u001b[1mwandb\u001b[0m: \tnum_dense_neuron: 512\n",
            "\u001b[34m\u001b[1mwandb\u001b[0m: \tnum_f: 5\n",
            "\u001b[34m\u001b[1mwandb\u001b[0m: \tpooling: avg\n",
            "\u001b[34m\u001b[1mwandb\u001b[0m: Currently logged in as: \u001b[33mpranayrajparisha\u001b[0m (use `wandb login --relogin` to force relogin)\n"
          ],
          "name": "stderr"
        },
        {
          "output_type": "display_data",
          "data": {
            "text/html": [
              "\n",
              "                Tracking run with wandb version 0.10.26<br/>\n",
              "                Syncing run <strong style=\"color:#cdcd00\">youthful-sweep-1</strong> to <a href=\"https://wandb.ai\" target=\"_blank\">Weights & Biases</a> <a href=\"https://docs.wandb.com/integrations/jupyter.html\" target=\"_blank\">(Documentation)</a>.<br/>\n",
              "                Project page: <a href=\"https://wandb.ai/pranayrajparisha/pretrained\" target=\"_blank\">https://wandb.ai/pranayrajparisha/pretrained</a><br/>\n",
              "                Sweep page: <a href=\"https://wandb.ai/pranayrajparisha/pretrained/sweeps/do6zfb98\" target=\"_blank\">https://wandb.ai/pranayrajparisha/pretrained/sweeps/do6zfb98</a><br/>\n",
              "Run page: <a href=\"https://wandb.ai/pranayrajparisha/pretrained/runs/3dka0mj1\" target=\"_blank\">https://wandb.ai/pranayrajparisha/pretrained/runs/3dka0mj1</a><br/>\n",
              "                Run data is saved locally in <code>/root/.keras/datasets/inaturalist_12K/valid/wandb/run-20210415_175709-3dka0mj1</code><br/><br/>\n",
              "            "
            ],
            "text/plain": [
              "<IPython.core.display.HTML object>"
            ]
          },
          "metadata": {
            "tags": []
          }
        },
        {
          "output_type": "stream",
          "text": [
            "WARNING:tensorflow:`input_shape` is undefined or non-square, or `rows` is not in [128, 160, 192, 224]. Weights for input shape (224, 224) will be loaded as the default.\n",
            "Downloading data from https://storage.googleapis.com/tensorflow/keras-applications/mobilenet/mobilenet_1_0_224_tf_no_top.h5\n",
            "17227776/17225924 [==============================] - 0s 0us/step\n",
            "Epoch 1/10\n",
            "282/282 [==============================] - 143s 379ms/step - loss: 2.4060 - accuracy: 0.2899 - val_loss: 1.8537 - val_accuracy: 0.3854\n",
            "Epoch 2/10\n",
            "282/282 [==============================] - 97s 335ms/step - loss: 1.1509 - accuracy: 0.6088 - val_loss: 1.8252 - val_accuracy: 0.4364\n",
            "Epoch 3/10\n",
            "282/282 [==============================] - 92s 323ms/step - loss: 0.6707 - accuracy: 0.7729 - val_loss: 2.1210 - val_accuracy: 0.4204\n",
            "Epoch 4/10\n",
            "282/282 [==============================] - 93s 325ms/step - loss: 0.3529 - accuracy: 0.8788 - val_loss: 2.1994 - val_accuracy: 0.4394\n",
            "Epoch 5/10\n",
            "282/282 [==============================] - 94s 327ms/step - loss: 0.2044 - accuracy: 0.9318 - val_loss: 2.4149 - val_accuracy: 0.4505\n",
            "Epoch 6/10\n",
            "282/282 [==============================] - 94s 329ms/step - loss: 0.1727 - accuracy: 0.9447 - val_loss: 2.7986 - val_accuracy: 0.4334\n",
            "Epoch 7/10\n",
            "282/282 [==============================] - 93s 326ms/step - loss: 0.1254 - accuracy: 0.9589 - val_loss: 2.5750 - val_accuracy: 0.4545\n",
            "Epoch 8/10\n",
            "282/282 [==============================] - 93s 324ms/step - loss: 0.1149 - accuracy: 0.9606 - val_loss: 2.9244 - val_accuracy: 0.4555\n",
            "Epoch 9/10\n",
            "282/282 [==============================] - 91s 316ms/step - loss: 0.1293 - accuracy: 0.9570 - val_loss: 2.9957 - val_accuracy: 0.4695\n",
            "Epoch 10/10\n",
            "282/282 [==============================] - 93s 325ms/step - loss: 0.1129 - accuracy: 0.9598 - val_loss: 2.9667 - val_accuracy: 0.4725\n"
          ],
          "name": "stdout"
        },
        {
          "output_type": "display_data",
          "data": {
            "text/html": [
              "<br/>Waiting for W&B process to finish, PID 331<br/>Program ended successfully."
            ],
            "text/plain": [
              "<IPython.core.display.HTML object>"
            ]
          },
          "metadata": {
            "tags": []
          }
        },
        {
          "output_type": "display_data",
          "data": {
            "application/vnd.jupyter.widget-view+json": {
              "model_id": "ca0c1ab1fa214c1f8c989d15fec5f8f1",
              "version_major": 2,
              "version_minor": 0
            },
            "text/plain": [
              "VBox(children=(Label(value=' 187.29MB of 187.29MB uploaded (0.00MB deduped)\\r'), FloatProgress(value=1.0, max=…"
            ]
          },
          "metadata": {
            "tags": []
          }
        },
        {
          "output_type": "display_data",
          "data": {
            "text/html": [
              "Find user logs for this run at: <code>/root/.keras/datasets/inaturalist_12K/valid/wandb/run-20210415_175709-3dka0mj1/logs/debug.log</code>"
            ],
            "text/plain": [
              "<IPython.core.display.HTML object>"
            ]
          },
          "metadata": {
            "tags": []
          }
        },
        {
          "output_type": "display_data",
          "data": {
            "text/html": [
              "Find internal logs for this run at: <code>/root/.keras/datasets/inaturalist_12K/valid/wandb/run-20210415_175709-3dka0mj1/logs/debug-internal.log</code>"
            ],
            "text/plain": [
              "<IPython.core.display.HTML object>"
            ]
          },
          "metadata": {
            "tags": []
          }
        },
        {
          "output_type": "display_data",
          "data": {
            "text/html": [
              "<h3>Run summary:</h3><br/><style>\n",
              "    table.wandb td:nth-child(1) { padding: 0 10px; text-align: right }\n",
              "    </style><table class=\"wandb\">\n",
              "<tr><td>epoch</td><td>9</td></tr><tr><td>loss</td><td>0.11725</td></tr><tr><td>accuracy</td><td>0.95767</td></tr><tr><td>val_loss</td><td>2.96667</td></tr><tr><td>val_accuracy</td><td>0.47247</td></tr><tr><td>_runtime</td><td>988</td></tr><tr><td>_timestamp</td><td>1618510417</td></tr><tr><td>_step</td><td>9</td></tr><tr><td>best_val_loss</td><td>1.82525</td></tr><tr><td>best_epoch</td><td>1</td></tr></table>"
            ],
            "text/plain": [
              "<IPython.core.display.HTML object>"
            ]
          },
          "metadata": {
            "tags": []
          }
        },
        {
          "output_type": "display_data",
          "data": {
            "text/html": [
              "<h3>Run history:</h3><br/><style>\n",
              "    table.wandb td:nth-child(1) { padding: 0 10px; text-align: right }\n",
              "    </style><table class=\"wandb\">\n",
              "<tr><td>epoch</td><td>▁▂▃▃▄▅▆▆▇█</td></tr><tr><td>loss</td><td>█▅▃▂▁▁▁▁▁▁</td></tr><tr><td>accuracy</td><td>▁▄▆▇██████</td></tr><tr><td>val_loss</td><td>▁▁▃▃▅▇▅███</td></tr><tr><td>val_accuracy</td><td>▁▅▄▅▆▅▇▇██</td></tr><tr><td>_runtime</td><td>▁▂▃▃▄▅▆▆▇█</td></tr><tr><td>_timestamp</td><td>▁▂▃▃▄▅▆▆▇█</td></tr><tr><td>_step</td><td>▁▂▃▃▄▅▆▆▇█</td></tr></table><br/>"
            ],
            "text/plain": [
              "<IPython.core.display.HTML object>"
            ]
          },
          "metadata": {
            "tags": []
          }
        },
        {
          "output_type": "display_data",
          "data": {
            "text/html": [
              "Synced 5 W&B file(s), 1 media file(s), 0 artifact file(s) and 1 other file(s)"
            ],
            "text/plain": [
              "<IPython.core.display.HTML object>"
            ]
          },
          "metadata": {
            "tags": []
          }
        },
        {
          "output_type": "display_data",
          "data": {
            "text/html": [
              "\n",
              "                    <br/>Synced <strong style=\"color:#cdcd00\">youthful-sweep-1</strong>: <a href=\"https://wandb.ai/pranayrajparisha/pretrained/runs/3dka0mj1\" target=\"_blank\">https://wandb.ai/pranayrajparisha/pretrained/runs/3dka0mj1</a><br/>\n",
              "                "
            ],
            "text/plain": [
              "<IPython.core.display.HTML object>"
            ]
          },
          "metadata": {
            "tags": []
          }
        },
        {
          "output_type": "stream",
          "text": [
            "\u001b[34m\u001b[1mwandb\u001b[0m: Agent Starting Run: updjc968 with config:\n",
            "\u001b[34m\u001b[1mwandb\u001b[0m: \tactivation: relu\n",
            "\u001b[34m\u001b[1mwandb\u001b[0m: \tactivation2: softmax\n",
            "\u001b[34m\u001b[1mwandb\u001b[0m: \tbase_model: ResNet50\n",
            "\u001b[34m\u001b[1mwandb\u001b[0m: \tdropout: 0.2\n",
            "\u001b[34m\u001b[1mwandb\u001b[0m: \tepoch: 5\n",
            "\u001b[34m\u001b[1mwandb\u001b[0m: \tinput_shape: [180, 180, 3]\n",
            "\u001b[34m\u001b[1mwandb\u001b[0m: \tl_rate: 0.0001\n",
            "\u001b[34m\u001b[1mwandb\u001b[0m: \tnum_dense_neuron: 1014\n",
            "\u001b[34m\u001b[1mwandb\u001b[0m: \tnum_f: -5\n",
            "\u001b[34m\u001b[1mwandb\u001b[0m: \tpooling: avg\n"
          ],
          "name": "stderr"
        },
        {
          "output_type": "display_data",
          "data": {
            "text/html": [
              "\n",
              "                Tracking run with wandb version 0.10.26<br/>\n",
              "                Syncing run <strong style=\"color:#cdcd00\">helpful-sweep-2</strong> to <a href=\"https://wandb.ai\" target=\"_blank\">Weights & Biases</a> <a href=\"https://docs.wandb.com/integrations/jupyter.html\" target=\"_blank\">(Documentation)</a>.<br/>\n",
              "                Project page: <a href=\"https://wandb.ai/pranayrajparisha/pretrained\" target=\"_blank\">https://wandb.ai/pranayrajparisha/pretrained</a><br/>\n",
              "                Sweep page: <a href=\"https://wandb.ai/pranayrajparisha/pretrained/sweeps/do6zfb98\" target=\"_blank\">https://wandb.ai/pranayrajparisha/pretrained/sweeps/do6zfb98</a><br/>\n",
              "Run page: <a href=\"https://wandb.ai/pranayrajparisha/pretrained/runs/updjc968\" target=\"_blank\">https://wandb.ai/pranayrajparisha/pretrained/runs/updjc968</a><br/>\n",
              "                Run data is saved locally in <code>/root/.keras/datasets/inaturalist_12K/valid/wandb/run-20210415_181344-updjc968</code><br/><br/>\n",
              "            "
            ],
            "text/plain": [
              "<IPython.core.display.HTML object>"
            ]
          },
          "metadata": {
            "tags": []
          }
        },
        {
          "output_type": "stream",
          "text": [
            "Downloading data from https://storage.googleapis.com/tensorflow/keras-applications/resnet/resnet50_weights_tf_dim_ordering_tf_kernels_notop.h5\n",
            "94773248/94765736 [==============================] - 1s 0us/step\n",
            "Epoch 1/5\n",
            "282/282 [==============================] - 147s 493ms/step - loss: 2.2435 - accuracy: 0.4915 - val_loss: 0.9966 - val_accuracy: 0.6637\n",
            "Epoch 2/5\n",
            "282/282 [==============================] - 162s 570ms/step - loss: 0.3679 - accuracy: 0.8806 - val_loss: 1.3351 - val_accuracy: 0.6647\n",
            "Epoch 3/5\n",
            "282/282 [==============================] - 155s 546ms/step - loss: 0.1010 - accuracy: 0.9712 - val_loss: 1.6288 - val_accuracy: 0.6517\n",
            "Epoch 4/5\n",
            "282/282 [==============================] - 155s 546ms/step - loss: 0.1271 - accuracy: 0.9586 - val_loss: 1.4395 - val_accuracy: 0.6727\n",
            "Epoch 5/5\n",
            "282/282 [==============================] - 136s 476ms/step - loss: 0.1061 - accuracy: 0.9682 - val_loss: 1.6359 - val_accuracy: 0.6426\n"
          ],
          "name": "stdout"
        },
        {
          "output_type": "display_data",
          "data": {
            "text/html": [
              "<br/>Waiting for W&B process to finish, PID 567<br/>Program ended successfully."
            ],
            "text/plain": [
              "<IPython.core.display.HTML object>"
            ]
          },
          "metadata": {
            "tags": []
          }
        },
        {
          "output_type": "display_data",
          "data": {
            "application/vnd.jupyter.widget-view+json": {
              "model_id": "8b17f18d94ce40bb8b1ec506401f251d",
              "version_major": 2,
              "version_minor": 0
            },
            "text/plain": [
              "VBox(children=(Label(value=' 1.01MB of 1.01MB uploaded (0.00MB deduped)\\r'), FloatProgress(value=1.0, max=1.0)…"
            ]
          },
          "metadata": {
            "tags": []
          }
        },
        {
          "output_type": "display_data",
          "data": {
            "text/html": [
              "Find user logs for this run at: <code>/root/.keras/datasets/inaturalist_12K/valid/wandb/run-20210415_181344-updjc968/logs/debug.log</code>"
            ],
            "text/plain": [
              "<IPython.core.display.HTML object>"
            ]
          },
          "metadata": {
            "tags": []
          }
        },
        {
          "output_type": "display_data",
          "data": {
            "text/html": [
              "Find internal logs for this run at: <code>/root/.keras/datasets/inaturalist_12K/valid/wandb/run-20210415_181344-updjc968/logs/debug-internal.log</code>"
            ],
            "text/plain": [
              "<IPython.core.display.HTML object>"
            ]
          },
          "metadata": {
            "tags": []
          }
        },
        {
          "output_type": "display_data",
          "data": {
            "text/html": [
              "<h3>Run summary:</h3><br/><style>\n",
              "    table.wandb td:nth-child(1) { padding: 0 10px; text-align: right }\n",
              "    </style><table class=\"wandb\">\n",
              "<tr><td>epoch</td><td>4</td></tr><tr><td>loss</td><td>0.10335</td></tr><tr><td>accuracy</td><td>0.96989</td></tr><tr><td>val_loss</td><td>1.63593</td></tr><tr><td>val_accuracy</td><td>0.64264</td></tr><tr><td>_runtime</td><td>767</td></tr><tr><td>_timestamp</td><td>1618511191</td></tr><tr><td>_step</td><td>4</td></tr><tr><td>best_val_loss</td><td>0.99663</td></tr><tr><td>best_epoch</td><td>0</td></tr></table>"
            ],
            "text/plain": [
              "<IPython.core.display.HTML object>"
            ]
          },
          "metadata": {
            "tags": []
          }
        },
        {
          "output_type": "display_data",
          "data": {
            "text/html": [
              "<h3>Run history:</h3><br/><style>\n",
              "    table.wandb td:nth-child(1) { padding: 0 10px; text-align: right }\n",
              "    </style><table class=\"wandb\">\n",
              "<tr><td>epoch</td><td>▁▃▅▆█</td></tr><tr><td>loss</td><td>█▂▁▁▁</td></tr><tr><td>accuracy</td><td>▁▇███</td></tr><tr><td>val_loss</td><td>▁▅█▆█</td></tr><tr><td>val_accuracy</td><td>▆▆▃█▁</td></tr><tr><td>_runtime</td><td>▁▃▅▆█</td></tr><tr><td>_timestamp</td><td>▁▃▅▆█</td></tr><tr><td>_step</td><td>▁▃▅▆█</td></tr></table><br/>"
            ],
            "text/plain": [
              "<IPython.core.display.HTML object>"
            ]
          },
          "metadata": {
            "tags": []
          }
        },
        {
          "output_type": "display_data",
          "data": {
            "text/html": [
              "Synced 5 W&B file(s), 1 media file(s), 0 artifact file(s) and 1 other file(s)"
            ],
            "text/plain": [
              "<IPython.core.display.HTML object>"
            ]
          },
          "metadata": {
            "tags": []
          }
        },
        {
          "output_type": "display_data",
          "data": {
            "text/html": [
              "\n",
              "                    <br/>Synced <strong style=\"color:#cdcd00\">helpful-sweep-2</strong>: <a href=\"https://wandb.ai/pranayrajparisha/pretrained/runs/updjc968\" target=\"_blank\">https://wandb.ai/pranayrajparisha/pretrained/runs/updjc968</a><br/>\n",
              "                "
            ],
            "text/plain": [
              "<IPython.core.display.HTML object>"
            ]
          },
          "metadata": {
            "tags": []
          }
        },
        {
          "output_type": "stream",
          "text": [
            "\u001b[34m\u001b[1mwandb\u001b[0m: Agent Starting Run: 1x5653y8 with config:\n",
            "\u001b[34m\u001b[1mwandb\u001b[0m: \tactivation: relu\n",
            "\u001b[34m\u001b[1mwandb\u001b[0m: \tactivation2: softmax\n",
            "\u001b[34m\u001b[1mwandb\u001b[0m: \tbase_model: InceptionV3\n",
            "\u001b[34m\u001b[1mwandb\u001b[0m: \tdropout: 0.2\n",
            "\u001b[34m\u001b[1mwandb\u001b[0m: \tepoch: 10\n",
            "\u001b[34m\u001b[1mwandb\u001b[0m: \tinput_shape: [180, 180, 3]\n",
            "\u001b[34m\u001b[1mwandb\u001b[0m: \tl_rate: 0.0001\n",
            "\u001b[34m\u001b[1mwandb\u001b[0m: \tnum_dense_neuron: 1014\n",
            "\u001b[34m\u001b[1mwandb\u001b[0m: \tnum_f: -5\n",
            "\u001b[34m\u001b[1mwandb\u001b[0m: \tpooling: no pooling\n"
          ],
          "name": "stderr"
        },
        {
          "output_type": "display_data",
          "data": {
            "text/html": [
              "\n",
              "                Tracking run with wandb version 0.10.26<br/>\n",
              "                Syncing run <strong style=\"color:#cdcd00\">jolly-sweep-3</strong> to <a href=\"https://wandb.ai\" target=\"_blank\">Weights & Biases</a> <a href=\"https://docs.wandb.com/integrations/jupyter.html\" target=\"_blank\">(Documentation)</a>.<br/>\n",
              "                Project page: <a href=\"https://wandb.ai/pranayrajparisha/pretrained\" target=\"_blank\">https://wandb.ai/pranayrajparisha/pretrained</a><br/>\n",
              "                Sweep page: <a href=\"https://wandb.ai/pranayrajparisha/pretrained/sweeps/do6zfb98\" target=\"_blank\">https://wandb.ai/pranayrajparisha/pretrained/sweeps/do6zfb98</a><br/>\n",
              "Run page: <a href=\"https://wandb.ai/pranayrajparisha/pretrained/runs/1x5653y8\" target=\"_blank\">https://wandb.ai/pranayrajparisha/pretrained/runs/1x5653y8</a><br/>\n",
              "                Run data is saved locally in <code>/root/.keras/datasets/inaturalist_12K/valid/wandb/run-20210415_182650-1x5653y8</code><br/><br/>\n",
              "            "
            ],
            "text/plain": [
              "<IPython.core.display.HTML object>"
            ]
          },
          "metadata": {
            "tags": []
          }
        },
        {
          "output_type": "stream",
          "text": [
            "Downloading data from https://storage.googleapis.com/tensorflow/keras-applications/inception_v3/inception_v3_weights_tf_dim_ordering_tf_kernels_notop.h5\n",
            "87916544/87910968 [==============================] - 0s 0us/step\n",
            "Epoch 1/10\n",
            "282/282 [==============================] - 137s 448ms/step - loss: 1.8287 - accuracy: 0.4524 - val_loss: 1.1057 - val_accuracy: 0.6587\n",
            "Epoch 2/10\n",
            "282/282 [==============================] - 110s 385ms/step - loss: 0.7574 - accuracy: 0.7440 - val_loss: 1.2682 - val_accuracy: 0.6627\n",
            "Epoch 3/10\n",
            "282/282 [==============================] - 109s 383ms/step - loss: 0.4388 - accuracy: 0.8548 - val_loss: 1.6474 - val_accuracy: 0.6326\n",
            "Epoch 4/10\n",
            "282/282 [==============================] - 110s 384ms/step - loss: 0.2987 - accuracy: 0.8980 - val_loss: 1.4877 - val_accuracy: 0.6527\n",
            "Epoch 5/10\n",
            "282/282 [==============================] - 110s 385ms/step - loss: 0.1834 - accuracy: 0.9406 - val_loss: 1.6910 - val_accuracy: 0.6607\n",
            "Epoch 6/10\n",
            "282/282 [==============================] - 109s 383ms/step - loss: 0.2157 - accuracy: 0.9311 - val_loss: 1.6782 - val_accuracy: 0.6797\n",
            "Epoch 7/10\n",
            "282/282 [==============================] - 110s 385ms/step - loss: 0.1350 - accuracy: 0.9584 - val_loss: 1.7264 - val_accuracy: 0.6617\n",
            "Epoch 8/10\n",
            "282/282 [==============================] - 110s 385ms/step - loss: 0.1425 - accuracy: 0.9541 - val_loss: 1.9003 - val_accuracy: 0.6496\n",
            "Epoch 9/10\n",
            "282/282 [==============================] - 110s 386ms/step - loss: 0.1628 - accuracy: 0.9465 - val_loss: 1.6288 - val_accuracy: 0.6627\n",
            "Epoch 10/10\n",
            "282/282 [==============================] - 110s 386ms/step - loss: 0.1215 - accuracy: 0.9643 - val_loss: 1.7045 - val_accuracy: 0.6607\n"
          ],
          "name": "stdout"
        },
        {
          "output_type": "display_data",
          "data": {
            "text/html": [
              "<br/>Waiting for W&B process to finish, PID 756<br/>Program ended successfully."
            ],
            "text/plain": [
              "<IPython.core.display.HTML object>"
            ]
          },
          "metadata": {
            "tags": []
          }
        },
        {
          "output_type": "display_data",
          "data": {
            "application/vnd.jupyter.widget-view+json": {
              "model_id": "c6ce743a04a24cfca44941393f69f3c8",
              "version_major": 2,
              "version_minor": 0
            },
            "text/plain": [
              "VBox(children=(Label(value=' 0.06MB of 0.06MB uploaded (0.00MB deduped)\\r'), FloatProgress(value=1.0, max=1.0)…"
            ]
          },
          "metadata": {
            "tags": []
          }
        },
        {
          "output_type": "display_data",
          "data": {
            "text/html": [
              "Find user logs for this run at: <code>/root/.keras/datasets/inaturalist_12K/valid/wandb/run-20210415_182650-1x5653y8/logs/debug.log</code>"
            ],
            "text/plain": [
              "<IPython.core.display.HTML object>"
            ]
          },
          "metadata": {
            "tags": []
          }
        },
        {
          "output_type": "display_data",
          "data": {
            "text/html": [
              "Find internal logs for this run at: <code>/root/.keras/datasets/inaturalist_12K/valid/wandb/run-20210415_182650-1x5653y8/logs/debug-internal.log</code>"
            ],
            "text/plain": [
              "<IPython.core.display.HTML object>"
            ]
          },
          "metadata": {
            "tags": []
          }
        },
        {
          "output_type": "display_data",
          "data": {
            "text/html": [
              "<h3>Run summary:</h3><br/><style>\n",
              "    table.wandb td:nth-child(1) { padding: 0 10px; text-align: right }\n",
              "    </style><table class=\"wandb\">\n",
              "<tr><td>epoch</td><td>9</td></tr><tr><td>loss</td><td>0.11715</td></tr><tr><td>accuracy</td><td>0.96478</td></tr><tr><td>val_loss</td><td>1.70454</td></tr><tr><td>val_accuracy</td><td>0.66066</td></tr><tr><td>_runtime</td><td>1135</td></tr><tr><td>_timestamp</td><td>1618512345</td></tr><tr><td>_step</td><td>9</td></tr><tr><td>best_val_loss</td><td>1.10571</td></tr><tr><td>best_epoch</td><td>0</td></tr></table>"
            ],
            "text/plain": [
              "<IPython.core.display.HTML object>"
            ]
          },
          "metadata": {
            "tags": []
          }
        },
        {
          "output_type": "display_data",
          "data": {
            "text/html": [
              "<h3>Run history:</h3><br/><style>\n",
              "    table.wandb td:nth-child(1) { padding: 0 10px; text-align: right }\n",
              "    </style><table class=\"wandb\">\n",
              "<tr><td>epoch</td><td>▁▂▃▃▄▅▆▆▇█</td></tr><tr><td>loss</td><td>█▄▃▂▁▁▁▁▁▁</td></tr><tr><td>accuracy</td><td>▁▅▆▇▇█████</td></tr><tr><td>val_loss</td><td>▁▂▆▄▆▆▆█▆▆</td></tr><tr><td>val_accuracy</td><td>▅▅▁▄▅█▅▄▅▅</td></tr><tr><td>_runtime</td><td>▁▂▃▃▄▅▆▆▇█</td></tr><tr><td>_timestamp</td><td>▁▂▃▃▄▅▆▆▇█</td></tr><tr><td>_step</td><td>▁▂▃▃▄▅▆▆▇█</td></tr></table><br/>"
            ],
            "text/plain": [
              "<IPython.core.display.HTML object>"
            ]
          },
          "metadata": {
            "tags": []
          }
        },
        {
          "output_type": "display_data",
          "data": {
            "text/html": [
              "Synced 5 W&B file(s), 1 media file(s), 0 artifact file(s) and 1 other file(s)"
            ],
            "text/plain": [
              "<IPython.core.display.HTML object>"
            ]
          },
          "metadata": {
            "tags": []
          }
        },
        {
          "output_type": "display_data",
          "data": {
            "text/html": [
              "\n",
              "                    <br/>Synced <strong style=\"color:#cdcd00\">jolly-sweep-3</strong>: <a href=\"https://wandb.ai/pranayrajparisha/pretrained/runs/1x5653y8\" target=\"_blank\">https://wandb.ai/pranayrajparisha/pretrained/runs/1x5653y8</a><br/>\n",
              "                "
            ],
            "text/plain": [
              "<IPython.core.display.HTML object>"
            ]
          },
          "metadata": {
            "tags": []
          }
        },
        {
          "output_type": "stream",
          "text": [
            "\u001b[34m\u001b[1mwandb\u001b[0m: Agent Starting Run: ojgyegh9 with config:\n",
            "\u001b[34m\u001b[1mwandb\u001b[0m: \tactivation: relu\n",
            "\u001b[34m\u001b[1mwandb\u001b[0m: \tactivation2: softmax\n",
            "\u001b[34m\u001b[1mwandb\u001b[0m: \tbase_model: MobileNet\n",
            "\u001b[34m\u001b[1mwandb\u001b[0m: \tdropout: 0.1\n",
            "\u001b[34m\u001b[1mwandb\u001b[0m: \tepoch: 5\n",
            "\u001b[34m\u001b[1mwandb\u001b[0m: \tinput_shape: [180, 180, 3]\n",
            "\u001b[34m\u001b[1mwandb\u001b[0m: \tl_rate: 5e-05\n",
            "\u001b[34m\u001b[1mwandb\u001b[0m: \tnum_dense_neuron: 512\n",
            "\u001b[34m\u001b[1mwandb\u001b[0m: \tnum_f: 5\n",
            "\u001b[34m\u001b[1mwandb\u001b[0m: \tpooling: avg\n"
          ],
          "name": "stderr"
        },
        {
          "output_type": "display_data",
          "data": {
            "text/html": [
              "\n",
              "                Tracking run with wandb version 0.10.26<br/>\n",
              "                Syncing run <strong style=\"color:#cdcd00\">super-sweep-4</strong> to <a href=\"https://wandb.ai\" target=\"_blank\">Weights & Biases</a> <a href=\"https://docs.wandb.com/integrations/jupyter.html\" target=\"_blank\">(Documentation)</a>.<br/>\n",
              "                Project page: <a href=\"https://wandb.ai/pranayrajparisha/pretrained\" target=\"_blank\">https://wandb.ai/pranayrajparisha/pretrained</a><br/>\n",
              "                Sweep page: <a href=\"https://wandb.ai/pranayrajparisha/pretrained/sweeps/do6zfb98\" target=\"_blank\">https://wandb.ai/pranayrajparisha/pretrained/sweeps/do6zfb98</a><br/>\n",
              "Run page: <a href=\"https://wandb.ai/pranayrajparisha/pretrained/runs/ojgyegh9\" target=\"_blank\">https://wandb.ai/pranayrajparisha/pretrained/runs/ojgyegh9</a><br/>\n",
              "                Run data is saved locally in <code>/root/.keras/datasets/inaturalist_12K/valid/wandb/run-20210415_184600-ojgyegh9</code><br/><br/>\n",
              "            "
            ],
            "text/plain": [
              "<IPython.core.display.HTML object>"
            ]
          },
          "metadata": {
            "tags": []
          }
        },
        {
          "output_type": "stream",
          "text": [
            "WARNING:tensorflow:`input_shape` is undefined or non-square, or `rows` is not in [128, 160, 192, 224]. Weights for input shape (224, 224) will be loaded as the default.\n",
            "Epoch 1/5\n",
            "282/282 [==============================] - 91s 309ms/step - loss: 2.5445 - accuracy: 0.2686 - val_loss: 1.7973 - val_accuracy: 0.3794\n",
            "Epoch 2/5\n",
            "282/282 [==============================] - 89s 309ms/step - loss: 1.1490 - accuracy: 0.6123 - val_loss: 1.7329 - val_accuracy: 0.4394\n",
            "Epoch 3/5\n",
            "282/282 [==============================] - 89s 312ms/step - loss: 0.6342 - accuracy: 0.7914 - val_loss: 2.0224 - val_accuracy: 0.4254\n",
            "Epoch 4/5\n",
            "282/282 [==============================] - 89s 311ms/step - loss: 0.3200 - accuracy: 0.9048 - val_loss: 2.1546 - val_accuracy: 0.4364\n",
            "Epoch 5/5\n",
            "282/282 [==============================] - 89s 311ms/step - loss: 0.1709 - accuracy: 0.9526 - val_loss: 2.3504 - val_accuracy: 0.4344\n"
          ],
          "name": "stdout"
        },
        {
          "output_type": "display_data",
          "data": {
            "text/html": [
              "<br/>Waiting for W&B process to finish, PID 1005<br/>Program ended successfully."
            ],
            "text/plain": [
              "<IPython.core.display.HTML object>"
            ]
          },
          "metadata": {
            "tags": []
          }
        },
        {
          "output_type": "display_data",
          "data": {
            "application/vnd.jupyter.widget-view+json": {
              "model_id": "fe09439c6e5f4a06addb82193b2a2a7e",
              "version_major": 2,
              "version_minor": 0
            },
            "text/plain": [
              "VBox(children=(Label(value=' 187.29MB of 187.29MB uploaded (0.00MB deduped)\\r'), FloatProgress(value=1.0, max=…"
            ]
          },
          "metadata": {
            "tags": []
          }
        },
        {
          "output_type": "display_data",
          "data": {
            "text/html": [
              "Find user logs for this run at: <code>/root/.keras/datasets/inaturalist_12K/valid/wandb/run-20210415_184600-ojgyegh9/logs/debug.log</code>"
            ],
            "text/plain": [
              "<IPython.core.display.HTML object>"
            ]
          },
          "metadata": {
            "tags": []
          }
        },
        {
          "output_type": "display_data",
          "data": {
            "text/html": [
              "Find internal logs for this run at: <code>/root/.keras/datasets/inaturalist_12K/valid/wandb/run-20210415_184600-ojgyegh9/logs/debug-internal.log</code>"
            ],
            "text/plain": [
              "<IPython.core.display.HTML object>"
            ]
          },
          "metadata": {
            "tags": []
          }
        },
        {
          "output_type": "display_data",
          "data": {
            "text/html": [
              "<h3>Run summary:</h3><br/><style>\n",
              "    table.wandb td:nth-child(1) { padding: 0 10px; text-align: right }\n",
              "    </style><table class=\"wandb\">\n",
              "<tr><td>epoch</td><td>4</td></tr><tr><td>loss</td><td>0.16742</td></tr><tr><td>accuracy</td><td>0.95344</td></tr><tr><td>val_loss</td><td>2.3504</td></tr><tr><td>val_accuracy</td><td>0.43443</td></tr><tr><td>_runtime</td><td>453</td></tr><tr><td>_timestamp</td><td>1618512813</td></tr><tr><td>_step</td><td>4</td></tr><tr><td>best_val_loss</td><td>1.73287</td></tr><tr><td>best_epoch</td><td>1</td></tr></table>"
            ],
            "text/plain": [
              "<IPython.core.display.HTML object>"
            ]
          },
          "metadata": {
            "tags": []
          }
        },
        {
          "output_type": "display_data",
          "data": {
            "text/html": [
              "<h3>Run history:</h3><br/><style>\n",
              "    table.wandb td:nth-child(1) { padding: 0 10px; text-align: right }\n",
              "    </style><table class=\"wandb\">\n",
              "<tr><td>epoch</td><td>▁▃▅▆█</td></tr><tr><td>loss</td><td>█▅▃▁▁</td></tr><tr><td>accuracy</td><td>▁▄▆██</td></tr><tr><td>val_loss</td><td>▂▁▄▆█</td></tr><tr><td>val_accuracy</td><td>▁█▆█▇</td></tr><tr><td>_runtime</td><td>▁▃▅▆█</td></tr><tr><td>_timestamp</td><td>▁▃▅▆█</td></tr><tr><td>_step</td><td>▁▃▅▆█</td></tr></table><br/>"
            ],
            "text/plain": [
              "<IPython.core.display.HTML object>"
            ]
          },
          "metadata": {
            "tags": []
          }
        },
        {
          "output_type": "display_data",
          "data": {
            "text/html": [
              "Synced 5 W&B file(s), 1 media file(s), 0 artifact file(s) and 1 other file(s)"
            ],
            "text/plain": [
              "<IPython.core.display.HTML object>"
            ]
          },
          "metadata": {
            "tags": []
          }
        },
        {
          "output_type": "display_data",
          "data": {
            "text/html": [
              "\n",
              "                    <br/>Synced <strong style=\"color:#cdcd00\">super-sweep-4</strong>: <a href=\"https://wandb.ai/pranayrajparisha/pretrained/runs/ojgyegh9\" target=\"_blank\">https://wandb.ai/pranayrajparisha/pretrained/runs/ojgyegh9</a><br/>\n",
              "                "
            ],
            "text/plain": [
              "<IPython.core.display.HTML object>"
            ]
          },
          "metadata": {
            "tags": []
          }
        },
        {
          "output_type": "stream",
          "text": [
            "\u001b[34m\u001b[1mwandb\u001b[0m: Agent Starting Run: xr2p0bkh with config:\n",
            "\u001b[34m\u001b[1mwandb\u001b[0m: \tactivation: relu\n",
            "\u001b[34m\u001b[1mwandb\u001b[0m: \tactivation2: softmax\n",
            "\u001b[34m\u001b[1mwandb\u001b[0m: \tbase_model: Xception\n",
            "\u001b[34m\u001b[1mwandb\u001b[0m: \tdropout: 0.1\n",
            "\u001b[34m\u001b[1mwandb\u001b[0m: \tepoch: 10\n",
            "\u001b[34m\u001b[1mwandb\u001b[0m: \tinput_shape: [180, 180, 3]\n",
            "\u001b[34m\u001b[1mwandb\u001b[0m: \tl_rate: 0.0001\n",
            "\u001b[34m\u001b[1mwandb\u001b[0m: \tnum_dense_neuron: 1014\n",
            "\u001b[34m\u001b[1mwandb\u001b[0m: \tnum_f: 5\n",
            "\u001b[34m\u001b[1mwandb\u001b[0m: \tpooling: avg\n"
          ],
          "name": "stderr"
        },
        {
          "output_type": "display_data",
          "data": {
            "text/html": [
              "\n",
              "                Tracking run with wandb version 0.10.26<br/>\n",
              "                Syncing run <strong style=\"color:#cdcd00\">good-sweep-5</strong> to <a href=\"https://wandb.ai\" target=\"_blank\">Weights & Biases</a> <a href=\"https://docs.wandb.com/integrations/jupyter.html\" target=\"_blank\">(Documentation)</a>.<br/>\n",
              "                Project page: <a href=\"https://wandb.ai/pranayrajparisha/pretrained\" target=\"_blank\">https://wandb.ai/pranayrajparisha/pretrained</a><br/>\n",
              "                Sweep page: <a href=\"https://wandb.ai/pranayrajparisha/pretrained/sweeps/do6zfb98\" target=\"_blank\">https://wandb.ai/pranayrajparisha/pretrained/sweeps/do6zfb98</a><br/>\n",
              "Run page: <a href=\"https://wandb.ai/pranayrajparisha/pretrained/runs/xr2p0bkh\" target=\"_blank\">https://wandb.ai/pranayrajparisha/pretrained/runs/xr2p0bkh</a><br/>\n",
              "                Run data is saved locally in <code>/root/.keras/datasets/inaturalist_12K/valid/wandb/run-20210415_185344-xr2p0bkh</code><br/><br/>\n",
              "            "
            ],
            "text/plain": [
              "<IPython.core.display.HTML object>"
            ]
          },
          "metadata": {
            "tags": []
          }
        },
        {
          "output_type": "stream",
          "text": [
            "Downloading data from https://storage.googleapis.com/tensorflow/keras-applications/xception/xception_weights_tf_dim_ordering_tf_kernels_notop.h5\n",
            "83689472/83683744 [==============================] - 0s 0us/step\n",
            "Epoch 1/10\n",
            "282/282 [==============================] - 189s 642ms/step - loss: 1.6975 - accuracy: 0.5151 - val_loss: 0.9322 - val_accuracy: 0.7107\n",
            "Epoch 2/10\n",
            "282/282 [==============================] - 182s 640ms/step - loss: 0.5705 - accuracy: 0.8116 - val_loss: 1.0918 - val_accuracy: 0.6947\n",
            "Epoch 3/10\n",
            "282/282 [==============================] - 181s 636ms/step - loss: 0.2383 - accuracy: 0.9189 - val_loss: 1.3200 - val_accuracy: 0.6937\n",
            "Epoch 4/10\n",
            "282/282 [==============================] - 181s 637ms/step - loss: 0.1406 - accuracy: 0.9532 - val_loss: 1.6037 - val_accuracy: 0.6827\n",
            "Epoch 5/10\n",
            "282/282 [==============================] - 181s 637ms/step - loss: 0.1100 - accuracy: 0.9652 - val_loss: 1.5593 - val_accuracy: 0.7077\n",
            "Epoch 6/10\n",
            "282/282 [==============================] - 180s 633ms/step - loss: 0.0895 - accuracy: 0.9732 - val_loss: 1.8209 - val_accuracy: 0.6797\n",
            "Epoch 7/10\n",
            "282/282 [==============================] - 177s 624ms/step - loss: 0.0708 - accuracy: 0.9773 - val_loss: 1.5733 - val_accuracy: 0.6917\n",
            "Epoch 8/10\n",
            "282/282 [==============================] - 177s 621ms/step - loss: 0.0570 - accuracy: 0.9824 - val_loss: 1.5698 - val_accuracy: 0.7007\n",
            "Epoch 9/10\n",
            "282/282 [==============================] - 176s 619ms/step - loss: 0.0586 - accuracy: 0.9806 - val_loss: 1.5324 - val_accuracy: 0.7027\n",
            "Epoch 10/10\n",
            "282/282 [==============================] - 176s 619ms/step - loss: 0.0628 - accuracy: 0.9801 - val_loss: 1.6110 - val_accuracy: 0.6837\n"
          ],
          "name": "stdout"
        },
        {
          "output_type": "display_data",
          "data": {
            "text/html": [
              "<br/>Waiting for W&B process to finish, PID 1136<br/>Program ended successfully."
            ],
            "text/plain": [
              "<IPython.core.display.HTML object>"
            ]
          },
          "metadata": {
            "tags": []
          }
        },
        {
          "output_type": "display_data",
          "data": {
            "application/vnd.jupyter.widget-view+json": {
              "model_id": "4622fe3a984c4eb192ed2120386c70aa",
              "version_major": 2,
              "version_minor": 0
            },
            "text/plain": [
              "VBox(children=(Label(value=' 365.21MB of 365.21MB uploaded (0.00MB deduped)\\r'), FloatProgress(value=1.0, max=…"
            ]
          },
          "metadata": {
            "tags": []
          }
        },
        {
          "output_type": "display_data",
          "data": {
            "text/html": [
              "Find user logs for this run at: <code>/root/.keras/datasets/inaturalist_12K/valid/wandb/run-20210415_185344-xr2p0bkh/logs/debug.log</code>"
            ],
            "text/plain": [
              "<IPython.core.display.HTML object>"
            ]
          },
          "metadata": {
            "tags": []
          }
        },
        {
          "output_type": "display_data",
          "data": {
            "text/html": [
              "Find internal logs for this run at: <code>/root/.keras/datasets/inaturalist_12K/valid/wandb/run-20210415_185344-xr2p0bkh/logs/debug-internal.log</code>"
            ],
            "text/plain": [
              "<IPython.core.display.HTML object>"
            ]
          },
          "metadata": {
            "tags": []
          }
        },
        {
          "output_type": "display_data",
          "data": {
            "text/html": [
              "<h3>Run summary:</h3><br/><style>\n",
              "    table.wandb td:nth-child(1) { padding: 0 10px; text-align: right }\n",
              "    </style><table class=\"wandb\">\n",
              "<tr><td>epoch</td><td>9</td></tr><tr><td>loss</td><td>0.05435</td></tr><tr><td>accuracy</td><td>0.98289</td></tr><tr><td>val_loss</td><td>1.61099</td></tr><tr><td>val_accuracy</td><td>0.68368</td></tr><tr><td>_runtime</td><td>1813</td></tr><tr><td>_timestamp</td><td>1618514637</td></tr><tr><td>_step</td><td>9</td></tr><tr><td>best_val_loss</td><td>0.93217</td></tr><tr><td>best_epoch</td><td>0</td></tr></table>"
            ],
            "text/plain": [
              "<IPython.core.display.HTML object>"
            ]
          },
          "metadata": {
            "tags": []
          }
        },
        {
          "output_type": "display_data",
          "data": {
            "text/html": [
              "<h3>Run history:</h3><br/><style>\n",
              "    table.wandb td:nth-child(1) { padding: 0 10px; text-align: right }\n",
              "    </style><table class=\"wandb\">\n",
              "<tr><td>epoch</td><td>▁▂▃▃▄▅▆▆▇█</td></tr><tr><td>loss</td><td>█▄▂▁▁▁▁▁▁▁</td></tr><tr><td>accuracy</td><td>▁▅▇███████</td></tr><tr><td>val_loss</td><td>▁▂▄▆▆█▆▆▆▆</td></tr><tr><td>val_accuracy</td><td>█▄▄▂▇▁▄▆▆▂</td></tr><tr><td>_runtime</td><td>▁▂▃▃▄▅▆▆▇█</td></tr><tr><td>_timestamp</td><td>▁▂▃▃▄▅▆▆▇█</td></tr><tr><td>_step</td><td>▁▂▃▃▄▅▆▆▇█</td></tr></table><br/>"
            ],
            "text/plain": [
              "<IPython.core.display.HTML object>"
            ]
          },
          "metadata": {
            "tags": []
          }
        },
        {
          "output_type": "display_data",
          "data": {
            "text/html": [
              "Synced 5 W&B file(s), 1 media file(s), 0 artifact file(s) and 1 other file(s)"
            ],
            "text/plain": [
              "<IPython.core.display.HTML object>"
            ]
          },
          "metadata": {
            "tags": []
          }
        },
        {
          "output_type": "display_data",
          "data": {
            "text/html": [
              "\n",
              "                    <br/>Synced <strong style=\"color:#cdcd00\">good-sweep-5</strong>: <a href=\"https://wandb.ai/pranayrajparisha/pretrained/runs/xr2p0bkh\" target=\"_blank\">https://wandb.ai/pranayrajparisha/pretrained/runs/xr2p0bkh</a><br/>\n",
              "                "
            ],
            "text/plain": [
              "<IPython.core.display.HTML object>"
            ]
          },
          "metadata": {
            "tags": []
          }
        },
        {
          "output_type": "stream",
          "text": [
            "\u001b[34m\u001b[1mwandb\u001b[0m: Agent Starting Run: 314d1qjr with config:\n",
            "\u001b[34m\u001b[1mwandb\u001b[0m: \tactivation: relu\n",
            "\u001b[34m\u001b[1mwandb\u001b[0m: \tactivation2: softmax\n",
            "\u001b[34m\u001b[1mwandb\u001b[0m: \tbase_model: MobileNet\n",
            "\u001b[34m\u001b[1mwandb\u001b[0m: \tdropout: 0.2\n",
            "\u001b[34m\u001b[1mwandb\u001b[0m: \tepoch: 10\n",
            "\u001b[34m\u001b[1mwandb\u001b[0m: \tinput_shape: [180, 180, 3]\n",
            "\u001b[34m\u001b[1mwandb\u001b[0m: \tl_rate: 5e-05\n",
            "\u001b[34m\u001b[1mwandb\u001b[0m: \tnum_dense_neuron: 512\n",
            "\u001b[34m\u001b[1mwandb\u001b[0m: \tnum_f: -5\n",
            "\u001b[34m\u001b[1mwandb\u001b[0m: \tpooling: no pooling\n"
          ],
          "name": "stderr"
        },
        {
          "output_type": "display_data",
          "data": {
            "text/html": [
              "\n",
              "                Tracking run with wandb version 0.10.26<br/>\n",
              "                Syncing run <strong style=\"color:#cdcd00\">faithful-sweep-6</strong> to <a href=\"https://wandb.ai\" target=\"_blank\">Weights & Biases</a> <a href=\"https://docs.wandb.com/integrations/jupyter.html\" target=\"_blank\">(Documentation)</a>.<br/>\n",
              "                Project page: <a href=\"https://wandb.ai/pranayrajparisha/pretrained\" target=\"_blank\">https://wandb.ai/pranayrajparisha/pretrained</a><br/>\n",
              "                Sweep page: <a href=\"https://wandb.ai/pranayrajparisha/pretrained/sweeps/do6zfb98\" target=\"_blank\">https://wandb.ai/pranayrajparisha/pretrained/sweeps/do6zfb98</a><br/>\n",
              "Run page: <a href=\"https://wandb.ai/pranayrajparisha/pretrained/runs/314d1qjr\" target=\"_blank\">https://wandb.ai/pranayrajparisha/pretrained/runs/314d1qjr</a><br/>\n",
              "                Run data is saved locally in <code>/root/.keras/datasets/inaturalist_12K/valid/wandb/run-20210415_192424-314d1qjr</code><br/><br/>\n",
              "            "
            ],
            "text/plain": [
              "<IPython.core.display.HTML object>"
            ]
          },
          "metadata": {
            "tags": []
          }
        },
        {
          "output_type": "stream",
          "text": [
            "WARNING:tensorflow:`input_shape` is undefined or non-square, or `rows` is not in [128, 160, 192, 224]. Weights for input shape (224, 224) will be loaded as the default.\n",
            "Epoch 1/10\n",
            "282/282 [==============================] - 91s 311ms/step - loss: 2.6970 - accuracy: 0.2577 - val_loss: 1.7674 - val_accuracy: 0.3874\n",
            "Epoch 2/10\n",
            "282/282 [==============================] - 89s 310ms/step - loss: 1.2464 - accuracy: 0.5750 - val_loss: 1.7462 - val_accuracy: 0.4214\n",
            "Epoch 3/10\n",
            "282/282 [==============================] - 88s 308ms/step - loss: 0.7649 - accuracy: 0.7443 - val_loss: 1.8374 - val_accuracy: 0.4234\n",
            "Epoch 4/10\n",
            "282/282 [==============================] - 88s 309ms/step - loss: 0.4309 - accuracy: 0.8589 - val_loss: 2.0851 - val_accuracy: 0.4234\n",
            "Epoch 5/10\n",
            "282/282 [==============================] - 89s 309ms/step - loss: 0.2605 - accuracy: 0.9228 - val_loss: 2.2066 - val_accuracy: 0.4264\n",
            "Epoch 6/10\n",
            "282/282 [==============================] - 89s 309ms/step - loss: 0.1714 - accuracy: 0.9473 - val_loss: 2.4520 - val_accuracy: 0.4334\n",
            "Epoch 7/10\n",
            "282/282 [==============================] - 88s 308ms/step - loss: 0.1141 - accuracy: 0.9652 - val_loss: 2.3637 - val_accuracy: 0.4404\n",
            "Epoch 8/10\n",
            "282/282 [==============================] - 89s 309ms/step - loss: 0.0855 - accuracy: 0.9748 - val_loss: 2.5318 - val_accuracy: 0.4314\n",
            "Epoch 9/10\n",
            "282/282 [==============================] - 89s 309ms/step - loss: 0.0754 - accuracy: 0.9769 - val_loss: 2.5720 - val_accuracy: 0.4364\n",
            "Epoch 10/10\n",
            "282/282 [==============================] - 88s 308ms/step - loss: 0.0694 - accuracy: 0.9763 - val_loss: 2.6040 - val_accuracy: 0.4444\n"
          ],
          "name": "stdout"
        },
        {
          "output_type": "display_data",
          "data": {
            "text/html": [
              "<br/>Waiting for W&B process to finish, PID 1521<br/>Program ended successfully."
            ],
            "text/plain": [
              "<IPython.core.display.HTML object>"
            ]
          },
          "metadata": {
            "tags": []
          }
        },
        {
          "output_type": "display_data",
          "data": {
            "application/vnd.jupyter.widget-view+json": {
              "model_id": "22ad0d1aa50a4c2c938c5ce5803806c3",
              "version_major": 2,
              "version_minor": 0
            },
            "text/plain": [
              "VBox(children=(Label(value=' 4.47MB of 4.47MB uploaded (0.00MB deduped)\\r'), FloatProgress(value=1.0, max=1.0)…"
            ]
          },
          "metadata": {
            "tags": []
          }
        },
        {
          "output_type": "display_data",
          "data": {
            "text/html": [
              "Find user logs for this run at: <code>/root/.keras/datasets/inaturalist_12K/valid/wandb/run-20210415_192424-314d1qjr/logs/debug.log</code>"
            ],
            "text/plain": [
              "<IPython.core.display.HTML object>"
            ]
          },
          "metadata": {
            "tags": []
          }
        },
        {
          "output_type": "display_data",
          "data": {
            "text/html": [
              "Find internal logs for this run at: <code>/root/.keras/datasets/inaturalist_12K/valid/wandb/run-20210415_192424-314d1qjr/logs/debug-internal.log</code>"
            ],
            "text/plain": [
              "<IPython.core.display.HTML object>"
            ]
          },
          "metadata": {
            "tags": []
          }
        },
        {
          "output_type": "display_data",
          "data": {
            "text/html": [
              "<h3>Run summary:</h3><br/><style>\n",
              "    table.wandb td:nth-child(1) { padding: 0 10px; text-align: right }\n",
              "    </style><table class=\"wandb\">\n",
              "<tr><td>epoch</td><td>9</td></tr><tr><td>loss</td><td>0.07023</td></tr><tr><td>accuracy</td><td>0.97644</td></tr><tr><td>val_loss</td><td>2.60399</td></tr><tr><td>val_accuracy</td><td>0.44444</td></tr><tr><td>_runtime</td><td>895</td></tr><tr><td>_timestamp</td><td>1618515559</td></tr><tr><td>_step</td><td>9</td></tr><tr><td>best_val_loss</td><td>1.74615</td></tr><tr><td>best_epoch</td><td>1</td></tr></table>"
            ],
            "text/plain": [
              "<IPython.core.display.HTML object>"
            ]
          },
          "metadata": {
            "tags": []
          }
        },
        {
          "output_type": "display_data",
          "data": {
            "text/html": [
              "<h3>Run history:</h3><br/><style>\n",
              "    table.wandb td:nth-child(1) { padding: 0 10px; text-align: right }\n",
              "    </style><table class=\"wandb\">\n",
              "<tr><td>epoch</td><td>▁▂▃▃▄▅▆▆▇█</td></tr><tr><td>loss</td><td>█▅▃▂▂▁▁▁▁▁</td></tr><tr><td>accuracy</td><td>▁▄▆▇▇█████</td></tr><tr><td>val_loss</td><td>▁▁▂▄▅▇▆▇██</td></tr><tr><td>val_accuracy</td><td>▁▅▅▅▆▇█▆▇█</td></tr><tr><td>_runtime</td><td>▁▂▃▃▄▅▆▆▇█</td></tr><tr><td>_timestamp</td><td>▁▂▃▃▄▅▆▆▇█</td></tr><tr><td>_step</td><td>▁▂▃▃▄▅▆▆▇█</td></tr></table><br/>"
            ],
            "text/plain": [
              "<IPython.core.display.HTML object>"
            ]
          },
          "metadata": {
            "tags": []
          }
        },
        {
          "output_type": "display_data",
          "data": {
            "text/html": [
              "Synced 5 W&B file(s), 1 media file(s), 0 artifact file(s) and 1 other file(s)"
            ],
            "text/plain": [
              "<IPython.core.display.HTML object>"
            ]
          },
          "metadata": {
            "tags": []
          }
        },
        {
          "output_type": "display_data",
          "data": {
            "text/html": [
              "\n",
              "                    <br/>Synced <strong style=\"color:#cdcd00\">faithful-sweep-6</strong>: <a href=\"https://wandb.ai/pranayrajparisha/pretrained/runs/314d1qjr\" target=\"_blank\">https://wandb.ai/pranayrajparisha/pretrained/runs/314d1qjr</a><br/>\n",
              "                "
            ],
            "text/plain": [
              "<IPython.core.display.HTML object>"
            ]
          },
          "metadata": {
            "tags": []
          }
        },
        {
          "output_type": "stream",
          "text": [
            "\u001b[34m\u001b[1mwandb\u001b[0m: Agent Starting Run: osz1kk4r with config:\n",
            "\u001b[34m\u001b[1mwandb\u001b[0m: \tactivation: relu\n",
            "\u001b[34m\u001b[1mwandb\u001b[0m: \tactivation2: softmax\n",
            "\u001b[34m\u001b[1mwandb\u001b[0m: \tbase_model: ResNet50\n",
            "\u001b[34m\u001b[1mwandb\u001b[0m: \tdropout: 0\n",
            "\u001b[34m\u001b[1mwandb\u001b[0m: \tepoch: 5\n",
            "\u001b[34m\u001b[1mwandb\u001b[0m: \tinput_shape: [180, 180, 3]\n",
            "\u001b[34m\u001b[1mwandb\u001b[0m: \tl_rate: 5e-05\n",
            "\u001b[34m\u001b[1mwandb\u001b[0m: \tnum_dense_neuron: 1014\n",
            "\u001b[34m\u001b[1mwandb\u001b[0m: \tnum_f: 25\n",
            "\u001b[34m\u001b[1mwandb\u001b[0m: \tpooling: no pooling\n"
          ],
          "name": "stderr"
        },
        {
          "output_type": "display_data",
          "data": {
            "text/html": [
              "\n",
              "                Tracking run with wandb version 0.10.26<br/>\n",
              "                Syncing run <strong style=\"color:#cdcd00\">fancy-sweep-7</strong> to <a href=\"https://wandb.ai\" target=\"_blank\">Weights & Biases</a> <a href=\"https://docs.wandb.com/integrations/jupyter.html\" target=\"_blank\">(Documentation)</a>.<br/>\n",
              "                Project page: <a href=\"https://wandb.ai/pranayrajparisha/pretrained\" target=\"_blank\">https://wandb.ai/pranayrajparisha/pretrained</a><br/>\n",
              "                Sweep page: <a href=\"https://wandb.ai/pranayrajparisha/pretrained/sweeps/do6zfb98\" target=\"_blank\">https://wandb.ai/pranayrajparisha/pretrained/sweeps/do6zfb98</a><br/>\n",
              "Run page: <a href=\"https://wandb.ai/pranayrajparisha/pretrained/runs/osz1kk4r\" target=\"_blank\">https://wandb.ai/pranayrajparisha/pretrained/runs/osz1kk4r</a><br/>\n",
              "                Run data is saved locally in <code>/root/.keras/datasets/inaturalist_12K/valid/wandb/run-20210415_193927-osz1kk4r</code><br/><br/>\n",
              "            "
            ],
            "text/plain": [
              "<IPython.core.display.HTML object>"
            ]
          },
          "metadata": {
            "tags": []
          }
        },
        {
          "output_type": "stream",
          "text": [
            "Epoch 1/5\n",
            "282/282 [==============================] - 137s 460ms/step - loss: 1.8979 - accuracy: 0.4976 - val_loss: 0.9749 - val_accuracy: 0.6827\n",
            "Epoch 2/5\n",
            "282/282 [==============================] - 135s 472ms/step - loss: 0.2097 - accuracy: 0.9371 - val_loss: 1.1406 - val_accuracy: 0.6987\n",
            "Epoch 3/5\n",
            "282/282 [==============================] - 133s 465ms/step - loss: 0.0335 - accuracy: 0.9914 - val_loss: 1.2770 - val_accuracy: 0.6987\n",
            "Epoch 4/5\n",
            "282/282 [==============================] - 133s 468ms/step - loss: 0.0133 - accuracy: 0.9966 - val_loss: 1.4378 - val_accuracy: 0.6777\n",
            "Epoch 5/5\n",
            "282/282 [==============================] - 133s 468ms/step - loss: 0.0267 - accuracy: 0.9925 - val_loss: 1.5643 - val_accuracy: 0.6727\n"
          ],
          "name": "stdout"
        },
        {
          "output_type": "display_data",
          "data": {
            "text/html": [
              "<br/>Waiting for W&B process to finish, PID 1748<br/>Program ended successfully."
            ],
            "text/plain": [
              "<IPython.core.display.HTML object>"
            ]
          },
          "metadata": {
            "tags": []
          }
        },
        {
          "output_type": "display_data",
          "data": {
            "application/vnd.jupyter.widget-view+json": {
              "model_id": "85d7ed3624cc4221af0b8fd7f71d1d2a",
              "version_major": 2,
              "version_minor": 0
            },
            "text/plain": [
              "VBox(children=(Label(value=' 375.73MB of 375.73MB uploaded (0.00MB deduped)\\r'), FloatProgress(value=1.0, max=…"
            ]
          },
          "metadata": {
            "tags": []
          }
        },
        {
          "output_type": "display_data",
          "data": {
            "text/html": [
              "Find user logs for this run at: <code>/root/.keras/datasets/inaturalist_12K/valid/wandb/run-20210415_193927-osz1kk4r/logs/debug.log</code>"
            ],
            "text/plain": [
              "<IPython.core.display.HTML object>"
            ]
          },
          "metadata": {
            "tags": []
          }
        },
        {
          "output_type": "display_data",
          "data": {
            "text/html": [
              "Find internal logs for this run at: <code>/root/.keras/datasets/inaturalist_12K/valid/wandb/run-20210415_193927-osz1kk4r/logs/debug-internal.log</code>"
            ],
            "text/plain": [
              "<IPython.core.display.HTML object>"
            ]
          },
          "metadata": {
            "tags": []
          }
        },
        {
          "output_type": "display_data",
          "data": {
            "text/html": [
              "<h3>Run summary:</h3><br/><style>\n",
              "    table.wandb td:nth-child(1) { padding: 0 10px; text-align: right }\n",
              "    </style><table class=\"wandb\">\n",
              "<tr><td>epoch</td><td>4</td></tr><tr><td>loss</td><td>0.0355</td></tr><tr><td>accuracy</td><td>0.99056</td></tr><tr><td>val_loss</td><td>1.56434</td></tr><tr><td>val_accuracy</td><td>0.67267</td></tr><tr><td>_runtime</td><td>685</td></tr><tr><td>_timestamp</td><td>1618516252</td></tr><tr><td>_step</td><td>4</td></tr><tr><td>best_val_loss</td><td>0.9749</td></tr><tr><td>best_epoch</td><td>0</td></tr></table>"
            ],
            "text/plain": [
              "<IPython.core.display.HTML object>"
            ]
          },
          "metadata": {
            "tags": []
          }
        },
        {
          "output_type": "display_data",
          "data": {
            "text/html": [
              "<h3>Run history:</h3><br/><style>\n",
              "    table.wandb td:nth-child(1) { padding: 0 10px; text-align: right }\n",
              "    </style><table class=\"wandb\">\n",
              "<tr><td>epoch</td><td>▁▃▅▆█</td></tr><tr><td>loss</td><td>█▂▁▁▁</td></tr><tr><td>accuracy</td><td>▁▇███</td></tr><tr><td>val_loss</td><td>▁▃▅▆█</td></tr><tr><td>val_accuracy</td><td>▄██▂▁</td></tr><tr><td>_runtime</td><td>▁▃▅▆█</td></tr><tr><td>_timestamp</td><td>▁▃▅▆█</td></tr><tr><td>_step</td><td>▁▃▅▆█</td></tr></table><br/>"
            ],
            "text/plain": [
              "<IPython.core.display.HTML object>"
            ]
          },
          "metadata": {
            "tags": []
          }
        },
        {
          "output_type": "display_data",
          "data": {
            "text/html": [
              "Synced 5 W&B file(s), 1 media file(s), 0 artifact file(s) and 1 other file(s)"
            ],
            "text/plain": [
              "<IPython.core.display.HTML object>"
            ]
          },
          "metadata": {
            "tags": []
          }
        },
        {
          "output_type": "display_data",
          "data": {
            "text/html": [
              "\n",
              "                    <br/>Synced <strong style=\"color:#cdcd00\">fancy-sweep-7</strong>: <a href=\"https://wandb.ai/pranayrajparisha/pretrained/runs/osz1kk4r\" target=\"_blank\">https://wandb.ai/pranayrajparisha/pretrained/runs/osz1kk4r</a><br/>\n",
              "                "
            ],
            "text/plain": [
              "<IPython.core.display.HTML object>"
            ]
          },
          "metadata": {
            "tags": []
          }
        },
        {
          "output_type": "stream",
          "text": [
            "\u001b[34m\u001b[1mwandb\u001b[0m: Agent Starting Run: uz24gc6u with config:\n",
            "\u001b[34m\u001b[1mwandb\u001b[0m: \tactivation: relu\n",
            "\u001b[34m\u001b[1mwandb\u001b[0m: \tactivation2: softmax\n",
            "\u001b[34m\u001b[1mwandb\u001b[0m: \tbase_model: MobileNet\n",
            "\u001b[34m\u001b[1mwandb\u001b[0m: \tdropout: 0.1\n",
            "\u001b[34m\u001b[1mwandb\u001b[0m: \tepoch: 10\n",
            "\u001b[34m\u001b[1mwandb\u001b[0m: \tinput_shape: [180, 180, 3]\n",
            "\u001b[34m\u001b[1mwandb\u001b[0m: \tl_rate: 0.0001\n",
            "\u001b[34m\u001b[1mwandb\u001b[0m: \tnum_dense_neuron: 1014\n",
            "\u001b[34m\u001b[1mwandb\u001b[0m: \tnum_f: -5\n",
            "\u001b[34m\u001b[1mwandb\u001b[0m: \tpooling: avg\n"
          ],
          "name": "stderr"
        },
        {
          "output_type": "display_data",
          "data": {
            "text/html": [
              "\n",
              "                Tracking run with wandb version 0.10.26<br/>\n",
              "                Syncing run <strong style=\"color:#cdcd00\">vocal-sweep-8</strong> to <a href=\"https://wandb.ai\" target=\"_blank\">Weights & Biases</a> <a href=\"https://docs.wandb.com/integrations/jupyter.html\" target=\"_blank\">(Documentation)</a>.<br/>\n",
              "                Project page: <a href=\"https://wandb.ai/pranayrajparisha/pretrained\" target=\"_blank\">https://wandb.ai/pranayrajparisha/pretrained</a><br/>\n",
              "                Sweep page: <a href=\"https://wandb.ai/pranayrajparisha/pretrained/sweeps/do6zfb98\" target=\"_blank\">https://wandb.ai/pranayrajparisha/pretrained/sweeps/do6zfb98</a><br/>\n",
              "Run page: <a href=\"https://wandb.ai/pranayrajparisha/pretrained/runs/uz24gc6u\" target=\"_blank\">https://wandb.ai/pranayrajparisha/pretrained/runs/uz24gc6u</a><br/>\n",
              "                Run data is saved locally in <code>/root/.keras/datasets/inaturalist_12K/valid/wandb/run-20210415_195122-uz24gc6u</code><br/><br/>\n",
              "            "
            ],
            "text/plain": [
              "<IPython.core.display.HTML object>"
            ]
          },
          "metadata": {
            "tags": []
          }
        },
        {
          "output_type": "stream",
          "text": [
            "WARNING:tensorflow:`input_shape` is undefined or non-square, or `rows` is not in [128, 160, 192, 224]. Weights for input shape (224, 224) will be loaded as the default.\n",
            "Epoch 1/10\n",
            "282/282 [==============================] - 91s 311ms/step - loss: 2.6696 - accuracy: 0.2989 - val_loss: 1.7837 - val_accuracy: 0.3854\n",
            "Epoch 2/10\n",
            "282/282 [==============================] - 90s 313ms/step - loss: 1.0304 - accuracy: 0.6507 - val_loss: 1.7082 - val_accuracy: 0.4615\n",
            "Epoch 3/10\n",
            "282/282 [==============================] - 89s 311ms/step - loss: 0.5047 - accuracy: 0.8361 - val_loss: 2.1938 - val_accuracy: 0.4304\n",
            "Epoch 4/10\n",
            "282/282 [==============================] - 89s 312ms/step - loss: 0.2868 - accuracy: 0.9052 - val_loss: 2.2990 - val_accuracy: 0.4545\n",
            "Epoch 5/10\n",
            "282/282 [==============================] - 89s 309ms/step - loss: 0.2212 - accuracy: 0.9291 - val_loss: 2.5902 - val_accuracy: 0.4304\n",
            "Epoch 6/10\n",
            "282/282 [==============================] - 89s 311ms/step - loss: 0.1343 - accuracy: 0.9560 - val_loss: 2.8198 - val_accuracy: 0.4394\n",
            "Epoch 7/10\n",
            "282/282 [==============================] - 90s 312ms/step - loss: 0.1238 - accuracy: 0.9567 - val_loss: 2.7219 - val_accuracy: 0.4595\n",
            "Epoch 8/10\n",
            "282/282 [==============================] - 90s 314ms/step - loss: 0.1153 - accuracy: 0.9619 - val_loss: 2.8356 - val_accuracy: 0.4424\n",
            "Epoch 9/10\n",
            "282/282 [==============================] - 89s 311ms/step - loss: 0.1276 - accuracy: 0.9596 - val_loss: 2.7668 - val_accuracy: 0.4474\n",
            "Epoch 10/10\n",
            "282/282 [==============================] - 90s 313ms/step - loss: 0.1120 - accuracy: 0.9597 - val_loss: 3.0072 - val_accuracy: 0.4565\n"
          ],
          "name": "stdout"
        },
        {
          "output_type": "display_data",
          "data": {
            "text/html": [
              "<br/>Waiting for W&B process to finish, PID 1927<br/>Program ended successfully."
            ],
            "text/plain": [
              "<IPython.core.display.HTML object>"
            ]
          },
          "metadata": {
            "tags": []
          }
        },
        {
          "output_type": "display_data",
          "data": {
            "application/vnd.jupyter.widget-view+json": {
              "model_id": "54e976ac3ed244bc8c9ce252fbcc0d61",
              "version_major": 2,
              "version_minor": 0
            },
            "text/plain": [
              "VBox(children=(Label(value=' 111.64MB of 111.64MB uploaded (0.00MB deduped)\\r'), FloatProgress(value=1.0, max=…"
            ]
          },
          "metadata": {
            "tags": []
          }
        },
        {
          "output_type": "display_data",
          "data": {
            "text/html": [
              "Find user logs for this run at: <code>/root/.keras/datasets/inaturalist_12K/valid/wandb/run-20210415_195122-uz24gc6u/logs/debug.log</code>"
            ],
            "text/plain": [
              "<IPython.core.display.HTML object>"
            ]
          },
          "metadata": {
            "tags": []
          }
        },
        {
          "output_type": "display_data",
          "data": {
            "text/html": [
              "Find internal logs for this run at: <code>/root/.keras/datasets/inaturalist_12K/valid/wandb/run-20210415_195122-uz24gc6u/logs/debug-internal.log</code>"
            ],
            "text/plain": [
              "<IPython.core.display.HTML object>"
            ]
          },
          "metadata": {
            "tags": []
          }
        },
        {
          "output_type": "display_data",
          "data": {
            "text/html": [
              "<h3>Run summary:</h3><br/><style>\n",
              "    table.wandb td:nth-child(1) { padding: 0 10px; text-align: right }\n",
              "    </style><table class=\"wandb\">\n",
              "<tr><td>epoch</td><td>9</td></tr><tr><td>loss</td><td>0.11275</td></tr><tr><td>accuracy</td><td>0.96022</td></tr><tr><td>val_loss</td><td>3.00717</td></tr><tr><td>val_accuracy</td><td>0.45646</td></tr><tr><td>_runtime</td><td>902</td></tr><tr><td>_timestamp</td><td>1618517184</td></tr><tr><td>_step</td><td>9</td></tr><tr><td>best_val_loss</td><td>1.70818</td></tr><tr><td>best_epoch</td><td>1</td></tr></table>"
            ],
            "text/plain": [
              "<IPython.core.display.HTML object>"
            ]
          },
          "metadata": {
            "tags": []
          }
        },
        {
          "output_type": "display_data",
          "data": {
            "text/html": [
              "<h3>Run history:</h3><br/><style>\n",
              "    table.wandb td:nth-child(1) { padding: 0 10px; text-align: right }\n",
              "    </style><table class=\"wandb\">\n",
              "<tr><td>epoch</td><td>▁▂▃▃▄▅▆▆▇█</td></tr><tr><td>loss</td><td>█▄▂▂▁▁▁▁▁▁</td></tr><tr><td>accuracy</td><td>▁▄▇▇██████</td></tr><tr><td>val_loss</td><td>▁▁▄▄▆▇▆▇▇█</td></tr><tr><td>val_accuracy</td><td>▁█▅▇▅▆█▆▇█</td></tr><tr><td>_runtime</td><td>▁▂▃▃▄▅▆▆▇█</td></tr><tr><td>_timestamp</td><td>▁▂▃▃▄▅▆▆▇█</td></tr><tr><td>_step</td><td>▁▂▃▃▄▅▆▆▇█</td></tr></table><br/>"
            ],
            "text/plain": [
              "<IPython.core.display.HTML object>"
            ]
          },
          "metadata": {
            "tags": []
          }
        },
        {
          "output_type": "display_data",
          "data": {
            "text/html": [
              "Synced 5 W&B file(s), 1 media file(s), 0 artifact file(s) and 1 other file(s)"
            ],
            "text/plain": [
              "<IPython.core.display.HTML object>"
            ]
          },
          "metadata": {
            "tags": []
          }
        },
        {
          "output_type": "display_data",
          "data": {
            "text/html": [
              "\n",
              "                    <br/>Synced <strong style=\"color:#cdcd00\">vocal-sweep-8</strong>: <a href=\"https://wandb.ai/pranayrajparisha/pretrained/runs/uz24gc6u\" target=\"_blank\">https://wandb.ai/pranayrajparisha/pretrained/runs/uz24gc6u</a><br/>\n",
              "                "
            ],
            "text/plain": [
              "<IPython.core.display.HTML object>"
            ]
          },
          "metadata": {
            "tags": []
          }
        },
        {
          "output_type": "stream",
          "text": [
            "\u001b[34m\u001b[1mwandb\u001b[0m: Agent Starting Run: rxyb9sp5 with config:\n",
            "\u001b[34m\u001b[1mwandb\u001b[0m: \tactivation: relu\n",
            "\u001b[34m\u001b[1mwandb\u001b[0m: \tactivation2: softmax\n",
            "\u001b[34m\u001b[1mwandb\u001b[0m: \tbase_model: InceptionV3\n",
            "\u001b[34m\u001b[1mwandb\u001b[0m: \tdropout: 0\n",
            "\u001b[34m\u001b[1mwandb\u001b[0m: \tepoch: 5\n",
            "\u001b[34m\u001b[1mwandb\u001b[0m: \tinput_shape: [180, 180, 3]\n",
            "\u001b[34m\u001b[1mwandb\u001b[0m: \tl_rate: 5e-05\n",
            "\u001b[34m\u001b[1mwandb\u001b[0m: \tnum_dense_neuron: 1014\n",
            "\u001b[34m\u001b[1mwandb\u001b[0m: \tnum_f: 5\n",
            "\u001b[34m\u001b[1mwandb\u001b[0m: \tpooling: avg\n"
          ],
          "name": "stderr"
        },
        {
          "output_type": "display_data",
          "data": {
            "text/html": [
              "\n",
              "                Tracking run with wandb version 0.10.26<br/>\n",
              "                Syncing run <strong style=\"color:#cdcd00\">worldly-sweep-9</strong> to <a href=\"https://wandb.ai\" target=\"_blank\">Weights & Biases</a> <a href=\"https://docs.wandb.com/integrations/jupyter.html\" target=\"_blank\">(Documentation)</a>.<br/>\n",
              "                Project page: <a href=\"https://wandb.ai/pranayrajparisha/pretrained\" target=\"_blank\">https://wandb.ai/pranayrajparisha/pretrained</a><br/>\n",
              "                Sweep page: <a href=\"https://wandb.ai/pranayrajparisha/pretrained/sweeps/do6zfb98\" target=\"_blank\">https://wandb.ai/pranayrajparisha/pretrained/sweeps/do6zfb98</a><br/>\n",
              "Run page: <a href=\"https://wandb.ai/pranayrajparisha/pretrained/runs/rxyb9sp5\" target=\"_blank\">https://wandb.ai/pranayrajparisha/pretrained/runs/rxyb9sp5</a><br/>\n",
              "                Run data is saved locally in <code>/root/.keras/datasets/inaturalist_12K/valid/wandb/run-20210415_200632-rxyb9sp5</code><br/><br/>\n",
              "            "
            ],
            "text/plain": [
              "<IPython.core.display.HTML object>"
            ]
          },
          "metadata": {
            "tags": []
          }
        },
        {
          "output_type": "stream",
          "text": [
            "Epoch 1/5\n",
            "282/282 [==============================] - 119s 395ms/step - loss: 1.6729 - accuracy: 0.4517 - val_loss: 1.0661 - val_accuracy: 0.6667\n",
            "Epoch 2/5\n",
            "282/282 [==============================] - 110s 384ms/step - loss: 0.6935 - accuracy: 0.7671 - val_loss: 1.2392 - val_accuracy: 0.6527\n",
            "Epoch 3/5\n",
            "282/282 [==============================] - 110s 385ms/step - loss: 0.3709 - accuracy: 0.8724 - val_loss: 1.4344 - val_accuracy: 0.6587\n",
            "Epoch 4/5\n",
            "282/282 [==============================] - 110s 384ms/step - loss: 0.1839 - accuracy: 0.9410 - val_loss: 1.5778 - val_accuracy: 0.6547\n",
            "Epoch 5/5\n",
            "282/282 [==============================] - 110s 384ms/step - loss: 0.1337 - accuracy: 0.9553 - val_loss: 2.0076 - val_accuracy: 0.6336\n"
          ],
          "name": "stdout"
        },
        {
          "output_type": "display_data",
          "data": {
            "text/html": [
              "<br/>Waiting for W&B process to finish, PID 2100<br/>Program ended successfully."
            ],
            "text/plain": [
              "<IPython.core.display.HTML object>"
            ]
          },
          "metadata": {
            "tags": []
          }
        },
        {
          "output_type": "display_data",
          "data": {
            "application/vnd.jupyter.widget-view+json": {
              "model_id": "69d2ef1c0167439ca66e804e15fd5c24",
              "version_major": 2,
              "version_minor": 0
            },
            "text/plain": [
              "VBox(children=(Label(value=' 210.81MB of 210.81MB uploaded (0.00MB deduped)\\r'), FloatProgress(value=1.0, max=…"
            ]
          },
          "metadata": {
            "tags": []
          }
        },
        {
          "output_type": "display_data",
          "data": {
            "text/html": [
              "Find user logs for this run at: <code>/root/.keras/datasets/inaturalist_12K/valid/wandb/run-20210415_200632-rxyb9sp5/logs/debug.log</code>"
            ],
            "text/plain": [
              "<IPython.core.display.HTML object>"
            ]
          },
          "metadata": {
            "tags": []
          }
        },
        {
          "output_type": "display_data",
          "data": {
            "text/html": [
              "Find internal logs for this run at: <code>/root/.keras/datasets/inaturalist_12K/valid/wandb/run-20210415_200632-rxyb9sp5/logs/debug-internal.log</code>"
            ],
            "text/plain": [
              "<IPython.core.display.HTML object>"
            ]
          },
          "metadata": {
            "tags": []
          }
        },
        {
          "output_type": "display_data",
          "data": {
            "text/html": [
              "<h3>Run summary:</h3><br/><style>\n",
              "    table.wandb td:nth-child(1) { padding: 0 10px; text-align: right }\n",
              "    </style><table class=\"wandb\">\n",
              "<tr><td>epoch</td><td>4</td></tr><tr><td>loss</td><td>0.14669</td></tr><tr><td>accuracy</td><td>0.95078</td></tr><tr><td>val_loss</td><td>2.00759</td></tr><tr><td>val_accuracy</td><td>0.63363</td></tr><tr><td>_runtime</td><td>569</td></tr><tr><td>_timestamp</td><td>1618517761</td></tr><tr><td>_step</td><td>4</td></tr><tr><td>best_val_loss</td><td>1.06609</td></tr><tr><td>best_epoch</td><td>0</td></tr></table>"
            ],
            "text/plain": [
              "<IPython.core.display.HTML object>"
            ]
          },
          "metadata": {
            "tags": []
          }
        },
        {
          "output_type": "display_data",
          "data": {
            "text/html": [
              "<h3>Run history:</h3><br/><style>\n",
              "    table.wandb td:nth-child(1) { padding: 0 10px; text-align: right }\n",
              "    </style><table class=\"wandb\">\n",
              "<tr><td>epoch</td><td>▁▃▅▆█</td></tr><tr><td>loss</td><td>█▄▂▁▁</td></tr><tr><td>accuracy</td><td>▁▅▇██</td></tr><tr><td>val_loss</td><td>▁▂▄▅█</td></tr><tr><td>val_accuracy</td><td>█▅▆▅▁</td></tr><tr><td>_runtime</td><td>▁▃▅▆█</td></tr><tr><td>_timestamp</td><td>▁▃▅▆█</td></tr><tr><td>_step</td><td>▁▃▅▆█</td></tr></table><br/>"
            ],
            "text/plain": [
              "<IPython.core.display.HTML object>"
            ]
          },
          "metadata": {
            "tags": []
          }
        },
        {
          "output_type": "display_data",
          "data": {
            "text/html": [
              "Synced 5 W&B file(s), 1 media file(s), 0 artifact file(s) and 1 other file(s)"
            ],
            "text/plain": [
              "<IPython.core.display.HTML object>"
            ]
          },
          "metadata": {
            "tags": []
          }
        },
        {
          "output_type": "display_data",
          "data": {
            "text/html": [
              "\n",
              "                    <br/>Synced <strong style=\"color:#cdcd00\">worldly-sweep-9</strong>: <a href=\"https://wandb.ai/pranayrajparisha/pretrained/runs/rxyb9sp5\" target=\"_blank\">https://wandb.ai/pranayrajparisha/pretrained/runs/rxyb9sp5</a><br/>\n",
              "                "
            ],
            "text/plain": [
              "<IPython.core.display.HTML object>"
            ]
          },
          "metadata": {
            "tags": []
          }
        },
        {
          "output_type": "stream",
          "text": [
            "\u001b[34m\u001b[1mwandb\u001b[0m: Agent Starting Run: k80v8mnr with config:\n",
            "\u001b[34m\u001b[1mwandb\u001b[0m: \tactivation: relu\n",
            "\u001b[34m\u001b[1mwandb\u001b[0m: \tactivation2: softmax\n",
            "\u001b[34m\u001b[1mwandb\u001b[0m: \tbase_model: MobileNet\n",
            "\u001b[34m\u001b[1mwandb\u001b[0m: \tdropout: 0.1\n",
            "\u001b[34m\u001b[1mwandb\u001b[0m: \tepoch: 5\n",
            "\u001b[34m\u001b[1mwandb\u001b[0m: \tinput_shape: [180, 180, 3]\n",
            "\u001b[34m\u001b[1mwandb\u001b[0m: \tl_rate: 5e-05\n",
            "\u001b[34m\u001b[1mwandb\u001b[0m: \tnum_dense_neuron: 512\n",
            "\u001b[34m\u001b[1mwandb\u001b[0m: \tnum_f: 5\n",
            "\u001b[34m\u001b[1mwandb\u001b[0m: \tpooling: max\n"
          ],
          "name": "stderr"
        },
        {
          "output_type": "display_data",
          "data": {
            "text/html": [
              "\n",
              "                Tracking run with wandb version 0.10.26<br/>\n",
              "                Syncing run <strong style=\"color:#cdcd00\">sage-sweep-10</strong> to <a href=\"https://wandb.ai\" target=\"_blank\">Weights & Biases</a> <a href=\"https://docs.wandb.com/integrations/jupyter.html\" target=\"_blank\">(Documentation)</a>.<br/>\n",
              "                Project page: <a href=\"https://wandb.ai/pranayrajparisha/pretrained\" target=\"_blank\">https://wandb.ai/pranayrajparisha/pretrained</a><br/>\n",
              "                Sweep page: <a href=\"https://wandb.ai/pranayrajparisha/pretrained/sweeps/do6zfb98\" target=\"_blank\">https://wandb.ai/pranayrajparisha/pretrained/sweeps/do6zfb98</a><br/>\n",
              "Run page: <a href=\"https://wandb.ai/pranayrajparisha/pretrained/runs/k80v8mnr\" target=\"_blank\">https://wandb.ai/pranayrajparisha/pretrained/runs/k80v8mnr</a><br/>\n",
              "                Run data is saved locally in <code>/root/.keras/datasets/inaturalist_12K/valid/wandb/run-20210415_201617-k80v8mnr</code><br/><br/>\n",
              "            "
            ],
            "text/plain": [
              "<IPython.core.display.HTML object>"
            ]
          },
          "metadata": {
            "tags": []
          }
        },
        {
          "output_type": "stream",
          "text": [
            "WARNING:tensorflow:`input_shape` is undefined or non-square, or `rows` is not in [128, 160, 192, 224]. Weights for input shape (224, 224) will be loaded as the default.\n",
            "Epoch 1/5\n",
            "282/282 [==============================] - 92s 312ms/step - loss: 2.5148 - accuracy: 0.2734 - val_loss: 1.8741 - val_accuracy: 0.3644\n",
            "Epoch 2/5\n",
            "282/282 [==============================] - 89s 308ms/step - loss: 1.1257 - accuracy: 0.6215 - val_loss: 1.7821 - val_accuracy: 0.4264\n",
            "Epoch 3/5\n",
            "282/282 [==============================] - 89s 310ms/step - loss: 0.6221 - accuracy: 0.7947 - val_loss: 1.9371 - val_accuracy: 0.4304\n",
            "Epoch 4/5\n",
            "282/282 [==============================] - 88s 308ms/step - loss: 0.3030 - accuracy: 0.9100 - val_loss: 2.1572 - val_accuracy: 0.4204\n",
            "Epoch 5/5\n",
            "282/282 [==============================] - 88s 307ms/step - loss: 0.1695 - accuracy: 0.9486 - val_loss: 2.3644 - val_accuracy: 0.4314\n"
          ],
          "name": "stdout"
        },
        {
          "output_type": "display_data",
          "data": {
            "text/html": [
              "<br/>Waiting for W&B process to finish, PID 2247<br/>Program ended successfully."
            ],
            "text/plain": [
              "<IPython.core.display.HTML object>"
            ]
          },
          "metadata": {
            "tags": []
          }
        },
        {
          "output_type": "display_data",
          "data": {
            "application/vnd.jupyter.widget-view+json": {
              "model_id": "cede265275a545528e7a3c385d3300e1",
              "version_major": 2,
              "version_minor": 0
            },
            "text/plain": [
              "VBox(children=(Label(value=' 187.29MB of 187.29MB uploaded (0.00MB deduped)\\r'), FloatProgress(value=1.0, max=…"
            ]
          },
          "metadata": {
            "tags": []
          }
        },
        {
          "output_type": "display_data",
          "data": {
            "text/html": [
              "Find user logs for this run at: <code>/root/.keras/datasets/inaturalist_12K/valid/wandb/run-20210415_201617-k80v8mnr/logs/debug.log</code>"
            ],
            "text/plain": [
              "<IPython.core.display.HTML object>"
            ]
          },
          "metadata": {
            "tags": []
          }
        },
        {
          "output_type": "display_data",
          "data": {
            "text/html": [
              "Find internal logs for this run at: <code>/root/.keras/datasets/inaturalist_12K/valid/wandb/run-20210415_201617-k80v8mnr/logs/debug-internal.log</code>"
            ],
            "text/plain": [
              "<IPython.core.display.HTML object>"
            ]
          },
          "metadata": {
            "tags": []
          }
        },
        {
          "output_type": "display_data",
          "data": {
            "text/html": [
              "<h3>Run summary:</h3><br/><style>\n",
              "    table.wandb td:nth-child(1) { padding: 0 10px; text-align: right }\n",
              "    </style><table class=\"wandb\">\n",
              "<tr><td>epoch</td><td>4</td></tr><tr><td>loss</td><td>0.16549</td></tr><tr><td>accuracy</td><td>0.95056</td></tr><tr><td>val_loss</td><td>2.3644</td></tr><tr><td>val_accuracy</td><td>0.43143</td></tr><tr><td>_runtime</td><td>450</td></tr><tr><td>_timestamp</td><td>1618518227</td></tr><tr><td>_step</td><td>4</td></tr><tr><td>best_val_loss</td><td>1.78206</td></tr><tr><td>best_epoch</td><td>1</td></tr></table>"
            ],
            "text/plain": [
              "<IPython.core.display.HTML object>"
            ]
          },
          "metadata": {
            "tags": []
          }
        },
        {
          "output_type": "display_data",
          "data": {
            "text/html": [
              "<h3>Run history:</h3><br/><style>\n",
              "    table.wandb td:nth-child(1) { padding: 0 10px; text-align: right }\n",
              "    </style><table class=\"wandb\">\n",
              "<tr><td>epoch</td><td>▁▃▅▆█</td></tr><tr><td>loss</td><td>█▅▃▁▁</td></tr><tr><td>accuracy</td><td>▁▄▆██</td></tr><tr><td>val_loss</td><td>▂▁▃▆█</td></tr><tr><td>val_accuracy</td><td>▁▇█▇█</td></tr><tr><td>_runtime</td><td>▁▃▅▆█</td></tr><tr><td>_timestamp</td><td>▁▃▅▆█</td></tr><tr><td>_step</td><td>▁▃▅▆█</td></tr></table><br/>"
            ],
            "text/plain": [
              "<IPython.core.display.HTML object>"
            ]
          },
          "metadata": {
            "tags": []
          }
        },
        {
          "output_type": "display_data",
          "data": {
            "text/html": [
              "Synced 5 W&B file(s), 1 media file(s), 0 artifact file(s) and 1 other file(s)"
            ],
            "text/plain": [
              "<IPython.core.display.HTML object>"
            ]
          },
          "metadata": {
            "tags": []
          }
        },
        {
          "output_type": "display_data",
          "data": {
            "text/html": [
              "\n",
              "                    <br/>Synced <strong style=\"color:#cdcd00\">sage-sweep-10</strong>: <a href=\"https://wandb.ai/pranayrajparisha/pretrained/runs/k80v8mnr\" target=\"_blank\">https://wandb.ai/pranayrajparisha/pretrained/runs/k80v8mnr</a><br/>\n",
              "                "
            ],
            "text/plain": [
              "<IPython.core.display.HTML object>"
            ]
          },
          "metadata": {
            "tags": []
          }
        },
        {
          "output_type": "stream",
          "text": [
            "\u001b[34m\u001b[1mwandb\u001b[0m: Agent Starting Run: f60g8d69 with config:\n",
            "\u001b[34m\u001b[1mwandb\u001b[0m: \tactivation: relu\n",
            "\u001b[34m\u001b[1mwandb\u001b[0m: \tactivation2: softmax\n",
            "\u001b[34m\u001b[1mwandb\u001b[0m: \tbase_model: MobileNet\n",
            "\u001b[34m\u001b[1mwandb\u001b[0m: \tdropout: 0\n",
            "\u001b[34m\u001b[1mwandb\u001b[0m: \tepoch: 5\n",
            "\u001b[34m\u001b[1mwandb\u001b[0m: \tinput_shape: [180, 180, 3]\n",
            "\u001b[34m\u001b[1mwandb\u001b[0m: \tl_rate: 0.0001\n",
            "\u001b[34m\u001b[1mwandb\u001b[0m: \tnum_dense_neuron: 256\n",
            "\u001b[34m\u001b[1mwandb\u001b[0m: \tnum_f: 5\n",
            "\u001b[34m\u001b[1mwandb\u001b[0m: \tpooling: max\n"
          ],
          "name": "stderr"
        },
        {
          "output_type": "display_data",
          "data": {
            "text/html": [
              "\n",
              "                Tracking run with wandb version 0.10.26<br/>\n",
              "                Syncing run <strong style=\"color:#cdcd00\">solar-sweep-11</strong> to <a href=\"https://wandb.ai\" target=\"_blank\">Weights & Biases</a> <a href=\"https://docs.wandb.com/integrations/jupyter.html\" target=\"_blank\">(Documentation)</a>.<br/>\n",
              "                Project page: <a href=\"https://wandb.ai/pranayrajparisha/pretrained\" target=\"_blank\">https://wandb.ai/pranayrajparisha/pretrained</a><br/>\n",
              "                Sweep page: <a href=\"https://wandb.ai/pranayrajparisha/pretrained/sweeps/do6zfb98\" target=\"_blank\">https://wandb.ai/pranayrajparisha/pretrained/sweeps/do6zfb98</a><br/>\n",
              "Run page: <a href=\"https://wandb.ai/pranayrajparisha/pretrained/runs/f60g8d69\" target=\"_blank\">https://wandb.ai/pranayrajparisha/pretrained/runs/f60g8d69</a><br/>\n",
              "                Run data is saved locally in <code>/root/.keras/datasets/inaturalist_12K/valid/wandb/run-20210415_202355-f60g8d69</code><br/><br/>\n",
              "            "
            ],
            "text/plain": [
              "<IPython.core.display.HTML object>"
            ]
          },
          "metadata": {
            "tags": []
          }
        },
        {
          "output_type": "stream",
          "text": [
            "WARNING:tensorflow:`input_shape` is undefined or non-square, or `rows` is not in [128, 160, 192, 224]. Weights for input shape (224, 224) will be loaded as the default.\n",
            "Epoch 1/5\n",
            "282/282 [==============================] - 91s 309ms/step - loss: 2.3611 - accuracy: 0.2738 - val_loss: 1.7850 - val_accuracy: 0.4074\n",
            "Epoch 2/5\n",
            "282/282 [==============================] - 88s 306ms/step - loss: 1.1479 - accuracy: 0.6108 - val_loss: 1.7080 - val_accuracy: 0.4595\n",
            "Epoch 3/5\n",
            "282/282 [==============================] - 88s 306ms/step - loss: 0.5909 - accuracy: 0.8067 - val_loss: 1.9760 - val_accuracy: 0.4314\n",
            "Epoch 4/5\n",
            "282/282 [==============================] - 88s 308ms/step - loss: 0.2692 - accuracy: 0.9172 - val_loss: 2.1940 - val_accuracy: 0.4434\n",
            "Epoch 5/5\n",
            "282/282 [==============================] - 89s 309ms/step - loss: 0.1485 - accuracy: 0.9582 - val_loss: 2.3572 - val_accuracy: 0.4334\n"
          ],
          "name": "stdout"
        },
        {
          "output_type": "display_data",
          "data": {
            "text/html": [
              "<br/>Waiting for W&B process to finish, PID 2300<br/>Program ended successfully."
            ],
            "text/plain": [
              "<IPython.core.display.HTML object>"
            ]
          },
          "metadata": {
            "tags": []
          }
        },
        {
          "output_type": "display_data",
          "data": {
            "application/vnd.jupyter.widget-view+json": {
              "model_id": "891f6423748045c680df23ae982e39f6",
              "version_major": 2,
              "version_minor": 0
            },
            "text/plain": [
              "VBox(children=(Label(value=' 112.25MB of 112.25MB uploaded (0.00MB deduped)\\r'), FloatProgress(value=1.0, max=…"
            ]
          },
          "metadata": {
            "tags": []
          }
        },
        {
          "output_type": "display_data",
          "data": {
            "text/html": [
              "Find user logs for this run at: <code>/root/.keras/datasets/inaturalist_12K/valid/wandb/run-20210415_202355-f60g8d69/logs/debug.log</code>"
            ],
            "text/plain": [
              "<IPython.core.display.HTML object>"
            ]
          },
          "metadata": {
            "tags": []
          }
        },
        {
          "output_type": "display_data",
          "data": {
            "text/html": [
              "Find internal logs for this run at: <code>/root/.keras/datasets/inaturalist_12K/valid/wandb/run-20210415_202355-f60g8d69/logs/debug-internal.log</code>"
            ],
            "text/plain": [
              "<IPython.core.display.HTML object>"
            ]
          },
          "metadata": {
            "tags": []
          }
        },
        {
          "output_type": "display_data",
          "data": {
            "text/html": [
              "<h3>Run summary:</h3><br/><style>\n",
              "    table.wandb td:nth-child(1) { padding: 0 10px; text-align: right }\n",
              "    </style><table class=\"wandb\">\n",
              "<tr><td>epoch</td><td>4</td></tr><tr><td>loss</td><td>0.1384</td></tr><tr><td>accuracy</td><td>0.95889</td></tr><tr><td>val_loss</td><td>2.35718</td></tr><tr><td>val_accuracy</td><td>0.43343</td></tr><tr><td>_runtime</td><td>448</td></tr><tr><td>_timestamp</td><td>1618518683</td></tr><tr><td>_step</td><td>4</td></tr><tr><td>best_val_loss</td><td>1.70805</td></tr><tr><td>best_epoch</td><td>1</td></tr></table>"
            ],
            "text/plain": [
              "<IPython.core.display.HTML object>"
            ]
          },
          "metadata": {
            "tags": []
          }
        },
        {
          "output_type": "display_data",
          "data": {
            "text/html": [
              "<h3>Run history:</h3><br/><style>\n",
              "    table.wandb td:nth-child(1) { padding: 0 10px; text-align: right }\n",
              "    </style><table class=\"wandb\">\n",
              "<tr><td>epoch</td><td>▁▃▅▆█</td></tr><tr><td>loss</td><td>█▅▃▁▁</td></tr><tr><td>accuracy</td><td>▁▄▆██</td></tr><tr><td>val_loss</td><td>▂▁▄▆█</td></tr><tr><td>val_accuracy</td><td>▁█▄▆▅</td></tr><tr><td>_runtime</td><td>▁▃▅▆█</td></tr><tr><td>_timestamp</td><td>▁▃▅▆█</td></tr><tr><td>_step</td><td>▁▃▅▆█</td></tr></table><br/>"
            ],
            "text/plain": [
              "<IPython.core.display.HTML object>"
            ]
          },
          "metadata": {
            "tags": []
          }
        },
        {
          "output_type": "display_data",
          "data": {
            "text/html": [
              "Synced 5 W&B file(s), 1 media file(s), 0 artifact file(s) and 1 other file(s)"
            ],
            "text/plain": [
              "<IPython.core.display.HTML object>"
            ]
          },
          "metadata": {
            "tags": []
          }
        },
        {
          "output_type": "display_data",
          "data": {
            "text/html": [
              "\n",
              "                    <br/>Synced <strong style=\"color:#cdcd00\">solar-sweep-11</strong>: <a href=\"https://wandb.ai/pranayrajparisha/pretrained/runs/f60g8d69\" target=\"_blank\">https://wandb.ai/pranayrajparisha/pretrained/runs/f60g8d69</a><br/>\n",
              "                "
            ],
            "text/plain": [
              "<IPython.core.display.HTML object>"
            ]
          },
          "metadata": {
            "tags": []
          }
        },
        {
          "output_type": "stream",
          "text": [
            "\u001b[34m\u001b[1mwandb\u001b[0m: Agent Starting Run: w1cgr8w6 with config:\n",
            "\u001b[34m\u001b[1mwandb\u001b[0m: \tactivation: relu\n",
            "\u001b[34m\u001b[1mwandb\u001b[0m: \tactivation2: softmax\n",
            "\u001b[34m\u001b[1mwandb\u001b[0m: \tbase_model: InceptionV3\n",
            "\u001b[34m\u001b[1mwandb\u001b[0m: \tdropout: 0.1\n",
            "\u001b[34m\u001b[1mwandb\u001b[0m: \tepoch: 10\n",
            "\u001b[34m\u001b[1mwandb\u001b[0m: \tinput_shape: [180, 180, 3]\n",
            "\u001b[34m\u001b[1mwandb\u001b[0m: \tl_rate: 0.0001\n",
            "\u001b[34m\u001b[1mwandb\u001b[0m: \tnum_dense_neuron: 512\n",
            "\u001b[34m\u001b[1mwandb\u001b[0m: \tnum_f: -5\n",
            "\u001b[34m\u001b[1mwandb\u001b[0m: \tpooling: max\n"
          ],
          "name": "stderr"
        },
        {
          "output_type": "display_data",
          "data": {
            "text/html": [
              "\n",
              "                Tracking run with wandb version 0.10.26<br/>\n",
              "                Syncing run <strong style=\"color:#cdcd00\">easy-sweep-12</strong> to <a href=\"https://wandb.ai\" target=\"_blank\">Weights & Biases</a> <a href=\"https://docs.wandb.com/integrations/jupyter.html\" target=\"_blank\">(Documentation)</a>.<br/>\n",
              "                Project page: <a href=\"https://wandb.ai/pranayrajparisha/pretrained\" target=\"_blank\">https://wandb.ai/pranayrajparisha/pretrained</a><br/>\n",
              "                Sweep page: <a href=\"https://wandb.ai/pranayrajparisha/pretrained/sweeps/do6zfb98\" target=\"_blank\">https://wandb.ai/pranayrajparisha/pretrained/sweeps/do6zfb98</a><br/>\n",
              "Run page: <a href=\"https://wandb.ai/pranayrajparisha/pretrained/runs/w1cgr8w6\" target=\"_blank\">https://wandb.ai/pranayrajparisha/pretrained/runs/w1cgr8w6</a><br/>\n",
              "                Run data is saved locally in <code>/root/.keras/datasets/inaturalist_12K/valid/wandb/run-20210415_203131-w1cgr8w6</code><br/><br/>\n",
              "            "
            ],
            "text/plain": [
              "<IPython.core.display.HTML object>"
            ]
          },
          "metadata": {
            "tags": []
          }
        },
        {
          "output_type": "stream",
          "text": [
            "Epoch 1/10\n",
            "282/282 [==============================] - 119s 392ms/step - loss: 1.6681 - accuracy: 0.4609 - val_loss: 1.1148 - val_accuracy: 0.6256\n",
            "Epoch 2/10\n",
            "282/282 [==============================] - 111s 388ms/step - loss: 0.7690 - accuracy: 0.7430 - val_loss: 1.1839 - val_accuracy: 0.6597\n",
            "Epoch 3/10\n",
            "282/282 [==============================] - 111s 387ms/step - loss: 0.3873 - accuracy: 0.8709 - val_loss: 1.6450 - val_accuracy: 0.6336\n",
            "Epoch 4/10\n",
            "282/282 [==============================] - 109s 383ms/step - loss: 0.2975 - accuracy: 0.9034 - val_loss: 1.5952 - val_accuracy: 0.6186\n",
            "Epoch 5/10\n",
            "282/282 [==============================] - 110s 387ms/step - loss: 0.2244 - accuracy: 0.9233 - val_loss: 1.4597 - val_accuracy: 0.6647\n",
            "Epoch 6/10\n",
            "282/282 [==============================] - 110s 386ms/step - loss: 0.1383 - accuracy: 0.9527 - val_loss: 1.6460 - val_accuracy: 0.6707\n",
            "Epoch 7/10\n",
            "282/282 [==============================] - 110s 385ms/step - loss: 0.1467 - accuracy: 0.9558 - val_loss: 1.4833 - val_accuracy: 0.6657\n",
            "Epoch 8/10\n",
            "282/282 [==============================] - 110s 385ms/step - loss: 0.1229 - accuracy: 0.9571 - val_loss: 1.5575 - val_accuracy: 0.6807\n",
            "Epoch 9/10\n",
            "282/282 [==============================] - 110s 385ms/step - loss: 0.1102 - accuracy: 0.9647 - val_loss: 1.9633 - val_accuracy: 0.6346\n",
            "Epoch 10/10\n",
            "282/282 [==============================] - 109s 382ms/step - loss: 0.1332 - accuracy: 0.9578 - val_loss: 1.7261 - val_accuracy: 0.6597\n"
          ],
          "name": "stdout"
        },
        {
          "output_type": "display_data",
          "data": {
            "text/html": [
              "<br/>Waiting for W&B process to finish, PID 2423<br/>Program ended successfully."
            ],
            "text/plain": [
              "<IPython.core.display.HTML object>"
            ]
          },
          "metadata": {
            "tags": []
          }
        },
        {
          "output_type": "display_data",
          "data": {
            "application/vnd.jupyter.widget-view+json": {
              "model_id": "c22529a24c234d70aef5beea9ea3e188",
              "version_major": 2,
              "version_minor": 0
            },
            "text/plain": [
              "VBox(children=(Label(value=' 63.55MB of 63.55MB uploaded (0.00MB deduped)\\r'), FloatProgress(value=1.0, max=1.…"
            ]
          },
          "metadata": {
            "tags": []
          }
        },
        {
          "output_type": "display_data",
          "data": {
            "text/html": [
              "Find user logs for this run at: <code>/root/.keras/datasets/inaturalist_12K/valid/wandb/run-20210415_203131-w1cgr8w6/logs/debug.log</code>"
            ],
            "text/plain": [
              "<IPython.core.display.HTML object>"
            ]
          },
          "metadata": {
            "tags": []
          }
        },
        {
          "output_type": "display_data",
          "data": {
            "text/html": [
              "Find internal logs for this run at: <code>/root/.keras/datasets/inaturalist_12K/valid/wandb/run-20210415_203131-w1cgr8w6/logs/debug-internal.log</code>"
            ],
            "text/plain": [
              "<IPython.core.display.HTML object>"
            ]
          },
          "metadata": {
            "tags": []
          }
        },
        {
          "output_type": "display_data",
          "data": {
            "text/html": [
              "<h3>Run summary:</h3><br/><style>\n",
              "    table.wandb td:nth-child(1) { padding: 0 10px; text-align: right }\n",
              "    </style><table class=\"wandb\">\n",
              "<tr><td>epoch</td><td>9</td></tr><tr><td>loss</td><td>0.12376</td></tr><tr><td>accuracy</td><td>0.96133</td></tr><tr><td>val_loss</td><td>1.72606</td></tr><tr><td>val_accuracy</td><td>0.65966</td></tr><tr><td>_runtime</td><td>1117</td></tr><tr><td>_timestamp</td><td>1618519808</td></tr><tr><td>_step</td><td>9</td></tr><tr><td>best_val_loss</td><td>1.11478</td></tr><tr><td>best_epoch</td><td>0</td></tr></table>"
            ],
            "text/plain": [
              "<IPython.core.display.HTML object>"
            ]
          },
          "metadata": {
            "tags": []
          }
        },
        {
          "output_type": "display_data",
          "data": {
            "text/html": [
              "<h3>Run history:</h3><br/><style>\n",
              "    table.wandb td:nth-child(1) { padding: 0 10px; text-align: right }\n",
              "    </style><table class=\"wandb\">\n",
              "<tr><td>epoch</td><td>▁▂▃▃▄▅▆▆▇█</td></tr><tr><td>loss</td><td>█▄▂▂▂▁▁▁▁▁</td></tr><tr><td>accuracy</td><td>▁▅▇▇▇█████</td></tr><tr><td>val_loss</td><td>▁▂▅▅▄▅▄▅█▆</td></tr><tr><td>val_accuracy</td><td>▂▆▃▁▆▇▆█▃▆</td></tr><tr><td>_runtime</td><td>▁▂▃▃▄▅▆▆▇█</td></tr><tr><td>_timestamp</td><td>▁▂▃▃▄▅▆▆▇█</td></tr><tr><td>_step</td><td>▁▂▃▃▄▅▆▆▇█</td></tr></table><br/>"
            ],
            "text/plain": [
              "<IPython.core.display.HTML object>"
            ]
          },
          "metadata": {
            "tags": []
          }
        },
        {
          "output_type": "display_data",
          "data": {
            "text/html": [
              "Synced 5 W&B file(s), 1 media file(s), 0 artifact file(s) and 1 other file(s)"
            ],
            "text/plain": [
              "<IPython.core.display.HTML object>"
            ]
          },
          "metadata": {
            "tags": []
          }
        },
        {
          "output_type": "display_data",
          "data": {
            "text/html": [
              "\n",
              "                    <br/>Synced <strong style=\"color:#cdcd00\">easy-sweep-12</strong>: <a href=\"https://wandb.ai/pranayrajparisha/pretrained/runs/w1cgr8w6\" target=\"_blank\">https://wandb.ai/pranayrajparisha/pretrained/runs/w1cgr8w6</a><br/>\n",
              "                "
            ],
            "text/plain": [
              "<IPython.core.display.HTML object>"
            ]
          },
          "metadata": {
            "tags": []
          }
        },
        {
          "output_type": "stream",
          "text": [
            "\u001b[34m\u001b[1mwandb\u001b[0m: Agent Starting Run: 7rflqwck with config:\n",
            "\u001b[34m\u001b[1mwandb\u001b[0m: \tactivation: relu\n",
            "\u001b[34m\u001b[1mwandb\u001b[0m: \tactivation2: softmax\n",
            "\u001b[34m\u001b[1mwandb\u001b[0m: \tbase_model: ResNet50\n",
            "\u001b[34m\u001b[1mwandb\u001b[0m: \tdropout: 0\n",
            "\u001b[34m\u001b[1mwandb\u001b[0m: \tepoch: 10\n",
            "\u001b[34m\u001b[1mwandb\u001b[0m: \tinput_shape: [180, 180, 3]\n",
            "\u001b[34m\u001b[1mwandb\u001b[0m: \tl_rate: 0.0001\n",
            "\u001b[34m\u001b[1mwandb\u001b[0m: \tnum_dense_neuron: 256\n",
            "\u001b[34m\u001b[1mwandb\u001b[0m: \tnum_f: -5\n",
            "\u001b[34m\u001b[1mwandb\u001b[0m: \tpooling: no pooling\n"
          ],
          "name": "stderr"
        },
        {
          "output_type": "display_data",
          "data": {
            "text/html": [
              "\n",
              "                Tracking run with wandb version 0.10.26<br/>\n",
              "                Syncing run <strong style=\"color:#cdcd00\">driven-sweep-13</strong> to <a href=\"https://wandb.ai\" target=\"_blank\">Weights & Biases</a> <a href=\"https://docs.wandb.com/integrations/jupyter.html\" target=\"_blank\">(Documentation)</a>.<br/>\n",
              "                Project page: <a href=\"https://wandb.ai/pranayrajparisha/pretrained\" target=\"_blank\">https://wandb.ai/pranayrajparisha/pretrained</a><br/>\n",
              "                Sweep page: <a href=\"https://wandb.ai/pranayrajparisha/pretrained/sweeps/do6zfb98\" target=\"_blank\">https://wandb.ai/pranayrajparisha/pretrained/sweeps/do6zfb98</a><br/>\n",
              "Run page: <a href=\"https://wandb.ai/pranayrajparisha/pretrained/runs/7rflqwck\" target=\"_blank\">https://wandb.ai/pranayrajparisha/pretrained/runs/7rflqwck</a><br/>\n",
              "                Run data is saved locally in <code>/root/.keras/datasets/inaturalist_12K/valid/wandb/run-20210415_205019-7rflqwck</code><br/><br/>\n",
              "            "
            ],
            "text/plain": [
              "<IPython.core.display.HTML object>"
            ]
          },
          "metadata": {
            "tags": []
          }
        },
        {
          "output_type": "stream",
          "text": [
            "Epoch 1/10\n",
            "282/282 [==============================] - 137s 461ms/step - loss: 1.7483 - accuracy: 0.4870 - val_loss: 1.0780 - val_accuracy: 0.6346\n",
            "Epoch 2/10\n",
            "282/282 [==============================] - 131s 459ms/step - loss: 0.4462 - accuracy: 0.8547 - val_loss: 1.3634 - val_accuracy: 0.6547\n",
            "Epoch 3/10\n",
            "282/282 [==============================] - 131s 460ms/step - loss: 0.1322 - accuracy: 0.9592 - val_loss: 1.4954 - val_accuracy: 0.6456\n",
            "Epoch 4/10\n",
            "282/282 [==============================] - 131s 458ms/step - loss: 0.1193 - accuracy: 0.9629 - val_loss: 1.3450 - val_accuracy: 0.6837\n",
            "Epoch 5/10\n",
            "282/282 [==============================] - 131s 460ms/step - loss: 0.0876 - accuracy: 0.9710 - val_loss: 1.6806 - val_accuracy: 0.6547\n",
            "Epoch 6/10\n",
            "282/282 [==============================] - 130s 457ms/step - loss: 0.0687 - accuracy: 0.9779 - val_loss: 1.5320 - val_accuracy: 0.6617\n",
            "Epoch 7/10\n",
            "282/282 [==============================] - 131s 458ms/step - loss: 0.0531 - accuracy: 0.9829 - val_loss: 1.5758 - val_accuracy: 0.6587\n",
            "Epoch 8/10\n",
            "282/282 [==============================] - 130s 456ms/step - loss: 0.0526 - accuracy: 0.9846 - val_loss: 1.9558 - val_accuracy: 0.5976\n",
            "Epoch 9/10\n",
            "282/282 [==============================] - 130s 456ms/step - loss: 0.1492 - accuracy: 0.9530 - val_loss: 1.7506 - val_accuracy: 0.6416\n",
            "Epoch 10/10\n",
            "282/282 [==============================] - 130s 458ms/step - loss: 0.0670 - accuracy: 0.9781 - val_loss: 1.8369 - val_accuracy: 0.6246\n"
          ],
          "name": "stdout"
        },
        {
          "output_type": "display_data",
          "data": {
            "text/html": [
              "<br/>Waiting for W&B process to finish, PID 2560<br/>Program ended successfully."
            ],
            "text/plain": [
              "<IPython.core.display.HTML object>"
            ]
          },
          "metadata": {
            "tags": []
          }
        },
        {
          "output_type": "display_data",
          "data": {
            "application/vnd.jupyter.widget-view+json": {
              "model_id": "a2bc6fa5b48c469b944b21666765542c",
              "version_major": 2,
              "version_minor": 0
            },
            "text/plain": [
              "VBox(children=(Label(value=' 162.51MB of 162.51MB uploaded (0.00MB deduped)\\r'), FloatProgress(value=1.0, max=…"
            ]
          },
          "metadata": {
            "tags": []
          }
        },
        {
          "output_type": "display_data",
          "data": {
            "text/html": [
              "Find user logs for this run at: <code>/root/.keras/datasets/inaturalist_12K/valid/wandb/run-20210415_205019-7rflqwck/logs/debug.log</code>"
            ],
            "text/plain": [
              "<IPython.core.display.HTML object>"
            ]
          },
          "metadata": {
            "tags": []
          }
        },
        {
          "output_type": "display_data",
          "data": {
            "text/html": [
              "Find internal logs for this run at: <code>/root/.keras/datasets/inaturalist_12K/valid/wandb/run-20210415_205019-7rflqwck/logs/debug-internal.log</code>"
            ],
            "text/plain": [
              "<IPython.core.display.HTML object>"
            ]
          },
          "metadata": {
            "tags": []
          }
        },
        {
          "output_type": "display_data",
          "data": {
            "text/html": [
              "<h3>Run summary:</h3><br/><style>\n",
              "    table.wandb td:nth-child(1) { padding: 0 10px; text-align: right }\n",
              "    </style><table class=\"wandb\">\n",
              "<tr><td>epoch</td><td>9</td></tr><tr><td>loss</td><td>0.06405</td></tr><tr><td>accuracy</td><td>0.97944</td></tr><tr><td>val_loss</td><td>1.83687</td></tr><tr><td>val_accuracy</td><td>0.62462</td></tr><tr><td>_runtime</td><td>1321</td></tr><tr><td>_timestamp</td><td>1618521140</td></tr><tr><td>_step</td><td>9</td></tr><tr><td>best_val_loss</td><td>1.078</td></tr><tr><td>best_epoch</td><td>0</td></tr></table>"
            ],
            "text/plain": [
              "<IPython.core.display.HTML object>"
            ]
          },
          "metadata": {
            "tags": []
          }
        },
        {
          "output_type": "display_data",
          "data": {
            "text/html": [
              "<h3>Run history:</h3><br/><style>\n",
              "    table.wandb td:nth-child(1) { padding: 0 10px; text-align: right }\n",
              "    </style><table class=\"wandb\">\n",
              "<tr><td>epoch</td><td>▁▂▃▃▄▅▆▆▇█</td></tr><tr><td>loss</td><td>█▃▁▁▁▁▁▁▁▁</td></tr><tr><td>accuracy</td><td>▁▆████████</td></tr><tr><td>val_loss</td><td>▁▃▄▃▆▅▅█▆▇</td></tr><tr><td>val_accuracy</td><td>▄▆▅█▆▆▆▁▅▃</td></tr><tr><td>_runtime</td><td>▁▂▃▃▄▅▆▆▇█</td></tr><tr><td>_timestamp</td><td>▁▂▃▃▄▅▆▆▇█</td></tr><tr><td>_step</td><td>▁▂▃▃▄▅▆▆▇█</td></tr></table><br/>"
            ],
            "text/plain": [
              "<IPython.core.display.HTML object>"
            ]
          },
          "metadata": {
            "tags": []
          }
        },
        {
          "output_type": "display_data",
          "data": {
            "text/html": [
              "Synced 5 W&B file(s), 1 media file(s), 0 artifact file(s) and 1 other file(s)"
            ],
            "text/plain": [
              "<IPython.core.display.HTML object>"
            ]
          },
          "metadata": {
            "tags": []
          }
        },
        {
          "output_type": "display_data",
          "data": {
            "text/html": [
              "\n",
              "                    <br/>Synced <strong style=\"color:#cdcd00\">driven-sweep-13</strong>: <a href=\"https://wandb.ai/pranayrajparisha/pretrained/runs/7rflqwck\" target=\"_blank\">https://wandb.ai/pranayrajparisha/pretrained/runs/7rflqwck</a><br/>\n",
              "                "
            ],
            "text/plain": [
              "<IPython.core.display.HTML object>"
            ]
          },
          "metadata": {
            "tags": []
          }
        },
        {
          "output_type": "stream",
          "text": [
            "\u001b[34m\u001b[1mwandb\u001b[0m: Agent Starting Run: ebrnf97b with config:\n",
            "\u001b[34m\u001b[1mwandb\u001b[0m: \tactivation: relu\n",
            "\u001b[34m\u001b[1mwandb\u001b[0m: \tactivation2: softmax\n",
            "\u001b[34m\u001b[1mwandb\u001b[0m: \tbase_model: MobileNet\n",
            "\u001b[34m\u001b[1mwandb\u001b[0m: \tdropout: 0.2\n",
            "\u001b[34m\u001b[1mwandb\u001b[0m: \tepoch: 5\n",
            "\u001b[34m\u001b[1mwandb\u001b[0m: \tinput_shape: [180, 180, 3]\n",
            "\u001b[34m\u001b[1mwandb\u001b[0m: \tl_rate: 5e-05\n",
            "\u001b[34m\u001b[1mwandb\u001b[0m: \tnum_dense_neuron: 256\n",
            "\u001b[34m\u001b[1mwandb\u001b[0m: \tnum_f: 25\n",
            "\u001b[34m\u001b[1mwandb\u001b[0m: \tpooling: avg\n"
          ],
          "name": "stderr"
        },
        {
          "output_type": "display_data",
          "data": {
            "text/html": [
              "\n",
              "                Tracking run with wandb version 0.10.26<br/>\n",
              "                Syncing run <strong style=\"color:#cdcd00\">woven-sweep-14</strong> to <a href=\"https://wandb.ai\" target=\"_blank\">Weights & Biases</a> <a href=\"https://docs.wandb.com/integrations/jupyter.html\" target=\"_blank\">(Documentation)</a>.<br/>\n",
              "                Project page: <a href=\"https://wandb.ai/pranayrajparisha/pretrained\" target=\"_blank\">https://wandb.ai/pranayrajparisha/pretrained</a><br/>\n",
              "                Sweep page: <a href=\"https://wandb.ai/pranayrajparisha/pretrained/sweeps/do6zfb98\" target=\"_blank\">https://wandb.ai/pranayrajparisha/pretrained/sweeps/do6zfb98</a><br/>\n",
              "Run page: <a href=\"https://wandb.ai/pranayrajparisha/pretrained/runs/ebrnf97b\" target=\"_blank\">https://wandb.ai/pranayrajparisha/pretrained/runs/ebrnf97b</a><br/>\n",
              "                Run data is saved locally in <code>/root/.keras/datasets/inaturalist_12K/valid/wandb/run-20210415_211234-ebrnf97b</code><br/><br/>\n",
              "            "
            ],
            "text/plain": [
              "<IPython.core.display.HTML object>"
            ]
          },
          "metadata": {
            "tags": []
          }
        },
        {
          "output_type": "stream",
          "text": [
            "WARNING:tensorflow:`input_shape` is undefined or non-square, or `rows` is not in [128, 160, 192, 224]. Weights for input shape (224, 224) will be loaded as the default.\n",
            "Epoch 1/5\n",
            "282/282 [==============================] - 91s 311ms/step - loss: 2.5472 - accuracy: 0.2277 - val_loss: 1.8625 - val_accuracy: 0.3734\n",
            "Epoch 2/5\n",
            "282/282 [==============================] - 89s 310ms/step - loss: 1.3823 - accuracy: 0.5308 - val_loss: 1.7167 - val_accuracy: 0.4264\n",
            "Epoch 3/5\n",
            "282/282 [==============================] - 89s 310ms/step - loss: 0.9134 - accuracy: 0.6937 - val_loss: 1.8112 - val_accuracy: 0.4364\n",
            "Epoch 4/5\n",
            "282/282 [==============================] - 88s 307ms/step - loss: 0.5641 - accuracy: 0.8137 - val_loss: 1.9359 - val_accuracy: 0.4374\n",
            "Epoch 5/5\n",
            "282/282 [==============================] - 88s 308ms/step - loss: 0.3210 - accuracy: 0.9045 - val_loss: 2.0949 - val_accuracy: 0.4434\n"
          ],
          "name": "stdout"
        },
        {
          "output_type": "display_data",
          "data": {
            "text/html": [
              "<br/>Waiting for W&B process to finish, PID 2637<br/>Program ended successfully."
            ],
            "text/plain": [
              "<IPython.core.display.HTML object>"
            ]
          },
          "metadata": {
            "tags": []
          }
        },
        {
          "output_type": "display_data",
          "data": {
            "application/vnd.jupyter.widget-view+json": {
              "model_id": "7e9a835e79e54131a9de632c281cfc57",
              "version_major": 2,
              "version_minor": 0
            },
            "text/plain": [
              "VBox(children=(Label(value=' 112.25MB of 112.25MB uploaded (0.00MB deduped)\\r'), FloatProgress(value=1.0, max=…"
            ]
          },
          "metadata": {
            "tags": []
          }
        },
        {
          "output_type": "display_data",
          "data": {
            "text/html": [
              "Find user logs for this run at: <code>/root/.keras/datasets/inaturalist_12K/valid/wandb/run-20210415_211234-ebrnf97b/logs/debug.log</code>"
            ],
            "text/plain": [
              "<IPython.core.display.HTML object>"
            ]
          },
          "metadata": {
            "tags": []
          }
        },
        {
          "output_type": "display_data",
          "data": {
            "text/html": [
              "Find internal logs for this run at: <code>/root/.keras/datasets/inaturalist_12K/valid/wandb/run-20210415_211234-ebrnf97b/logs/debug-internal.log</code>"
            ],
            "text/plain": [
              "<IPython.core.display.HTML object>"
            ]
          },
          "metadata": {
            "tags": []
          }
        },
        {
          "output_type": "display_data",
          "data": {
            "text/html": [
              "<h3>Run summary:</h3><br/><style>\n",
              "    table.wandb td:nth-child(1) { padding: 0 10px; text-align: right }\n",
              "    </style><table class=\"wandb\">\n",
              "<tr><td>epoch</td><td>4</td></tr><tr><td>loss</td><td>0.30814</td></tr><tr><td>accuracy</td><td>0.90478</td></tr><tr><td>val_loss</td><td>2.09487</td></tr><tr><td>val_accuracy</td><td>0.44344</td></tr><tr><td>_runtime</td><td>450</td></tr><tr><td>_timestamp</td><td>1618521604</td></tr><tr><td>_step</td><td>4</td></tr><tr><td>best_val_loss</td><td>1.71674</td></tr><tr><td>best_epoch</td><td>1</td></tr></table>"
            ],
            "text/plain": [
              "<IPython.core.display.HTML object>"
            ]
          },
          "metadata": {
            "tags": []
          }
        },
        {
          "output_type": "display_data",
          "data": {
            "text/html": [
              "<h3>Run history:</h3><br/><style>\n",
              "    table.wandb td:nth-child(1) { padding: 0 10px; text-align: right }\n",
              "    </style><table class=\"wandb\">\n",
              "<tr><td>epoch</td><td>▁▃▅▆█</td></tr><tr><td>loss</td><td>█▅▃▂▁</td></tr><tr><td>accuracy</td><td>▁▄▅▇█</td></tr><tr><td>val_loss</td><td>▄▁▃▅█</td></tr><tr><td>val_accuracy</td><td>▁▆▇▇█</td></tr><tr><td>_runtime</td><td>▁▃▅▆█</td></tr><tr><td>_timestamp</td><td>▁▃▅▆█</td></tr><tr><td>_step</td><td>▁▃▅▆█</td></tr></table><br/>"
            ],
            "text/plain": [
              "<IPython.core.display.HTML object>"
            ]
          },
          "metadata": {
            "tags": []
          }
        },
        {
          "output_type": "display_data",
          "data": {
            "text/html": [
              "Synced 5 W&B file(s), 1 media file(s), 0 artifact file(s) and 1 other file(s)"
            ],
            "text/plain": [
              "<IPython.core.display.HTML object>"
            ]
          },
          "metadata": {
            "tags": []
          }
        },
        {
          "output_type": "display_data",
          "data": {
            "text/html": [
              "\n",
              "                    <br/>Synced <strong style=\"color:#cdcd00\">woven-sweep-14</strong>: <a href=\"https://wandb.ai/pranayrajparisha/pretrained/runs/ebrnf97b\" target=\"_blank\">https://wandb.ai/pranayrajparisha/pretrained/runs/ebrnf97b</a><br/>\n",
              "                "
            ],
            "text/plain": [
              "<IPython.core.display.HTML object>"
            ]
          },
          "metadata": {
            "tags": []
          }
        },
        {
          "output_type": "stream",
          "text": [
            "\u001b[34m\u001b[1mwandb\u001b[0m: Agent Starting Run: 9bwliv86 with config:\n",
            "\u001b[34m\u001b[1mwandb\u001b[0m: \tactivation: relu\n",
            "\u001b[34m\u001b[1mwandb\u001b[0m: \tactivation2: softmax\n",
            "\u001b[34m\u001b[1mwandb\u001b[0m: \tbase_model: ResNet50\n",
            "\u001b[34m\u001b[1mwandb\u001b[0m: \tdropout: 0\n",
            "\u001b[34m\u001b[1mwandb\u001b[0m: \tepoch: 10\n",
            "\u001b[34m\u001b[1mwandb\u001b[0m: \tinput_shape: [180, 180, 3]\n",
            "\u001b[34m\u001b[1mwandb\u001b[0m: \tl_rate: 5e-05\n",
            "\u001b[34m\u001b[1mwandb\u001b[0m: \tnum_dense_neuron: 1014\n",
            "\u001b[34m\u001b[1mwandb\u001b[0m: \tnum_f: 5\n",
            "\u001b[34m\u001b[1mwandb\u001b[0m: \tpooling: no pooling\n"
          ],
          "name": "stderr"
        },
        {
          "output_type": "display_data",
          "data": {
            "text/html": [
              "\n",
              "                Tracking run with wandb version 0.10.26<br/>\n",
              "                Syncing run <strong style=\"color:#cdcd00\">fanciful-sweep-15</strong> to <a href=\"https://wandb.ai\" target=\"_blank\">Weights & Biases</a> <a href=\"https://docs.wandb.com/integrations/jupyter.html\" target=\"_blank\">(Documentation)</a>.<br/>\n",
              "                Project page: <a href=\"https://wandb.ai/pranayrajparisha/pretrained\" target=\"_blank\">https://wandb.ai/pranayrajparisha/pretrained</a><br/>\n",
              "                Sweep page: <a href=\"https://wandb.ai/pranayrajparisha/pretrained/sweeps/do6zfb98\" target=\"_blank\">https://wandb.ai/pranayrajparisha/pretrained/sweeps/do6zfb98</a><br/>\n",
              "Run page: <a href=\"https://wandb.ai/pranayrajparisha/pretrained/runs/9bwliv86\" target=\"_blank\">https://wandb.ai/pranayrajparisha/pretrained/runs/9bwliv86</a><br/>\n",
              "                Run data is saved locally in <code>/root/.keras/datasets/inaturalist_12K/valid/wandb/run-20210415_212010-9bwliv86</code><br/><br/>\n",
              "            "
            ],
            "text/plain": [
              "<IPython.core.display.HTML object>"
            ]
          },
          "metadata": {
            "tags": []
          }
        },
        {
          "output_type": "stream",
          "text": [
            "Epoch 1/10\n",
            "282/282 [==============================] - 141s 477ms/step - loss: 1.9334 - accuracy: 0.4946 - val_loss: 1.0167 - val_accuracy: 0.6557\n",
            "Epoch 2/10\n",
            "282/282 [==============================] - 137s 481ms/step - loss: 0.2114 - accuracy: 0.9370 - val_loss: 1.1859 - val_accuracy: 0.6757\n",
            "Epoch 3/10\n",
            "282/282 [==============================] - 137s 481ms/step - loss: 0.0321 - accuracy: 0.9923 - val_loss: 1.4972 - val_accuracy: 0.6657\n",
            "Epoch 4/10\n",
            "282/282 [==============================] - 137s 481ms/step - loss: 0.0135 - accuracy: 0.9968 - val_loss: 1.4396 - val_accuracy: 0.6777\n",
            "Epoch 5/10\n",
            "282/282 [==============================] - 137s 481ms/step - loss: 0.0196 - accuracy: 0.9937 - val_loss: 1.5701 - val_accuracy: 0.6577\n",
            "Epoch 6/10\n",
            "282/282 [==============================] - 137s 479ms/step - loss: 0.0533 - accuracy: 0.9833 - val_loss: 1.7001 - val_accuracy: 0.6366\n",
            "Epoch 7/10\n",
            "282/282 [==============================] - 136s 478ms/step - loss: 0.1545 - accuracy: 0.9512 - val_loss: 1.5300 - val_accuracy: 0.6767\n",
            "Epoch 8/10\n",
            "282/282 [==============================] - 136s 479ms/step - loss: 0.0765 - accuracy: 0.9760 - val_loss: 1.6320 - val_accuracy: 0.6647\n",
            "Epoch 9/10\n",
            "282/282 [==============================] - 136s 478ms/step - loss: 0.0455 - accuracy: 0.9856 - val_loss: 1.8717 - val_accuracy: 0.6647\n",
            "Epoch 10/10\n",
            "282/282 [==============================] - 137s 480ms/step - loss: 0.0400 - accuracy: 0.9867 - val_loss: 1.8232 - val_accuracy: 0.6677\n"
          ],
          "name": "stdout"
        },
        {
          "output_type": "display_data",
          "data": {
            "text/html": [
              "<br/>Waiting for W&B process to finish, PID 2686<br/>Program ended successfully."
            ],
            "text/plain": [
              "<IPython.core.display.HTML object>"
            ]
          },
          "metadata": {
            "tags": []
          }
        },
        {
          "output_type": "display_data",
          "data": {
            "application/vnd.jupyter.widget-view+json": {
              "model_id": "bf8d9e8cc9c5497fb4dde25295846249",
              "version_major": 2,
              "version_minor": 0
            },
            "text/plain": [
              "VBox(children=(Label(value=' 90.48MB of 90.48MB uploaded (0.00MB deduped)\\r'), FloatProgress(value=1.0, max=1.…"
            ]
          },
          "metadata": {
            "tags": []
          }
        },
        {
          "output_type": "display_data",
          "data": {
            "text/html": [
              "Find user logs for this run at: <code>/root/.keras/datasets/inaturalist_12K/valid/wandb/run-20210415_212010-9bwliv86/logs/debug.log</code>"
            ],
            "text/plain": [
              "<IPython.core.display.HTML object>"
            ]
          },
          "metadata": {
            "tags": []
          }
        },
        {
          "output_type": "display_data",
          "data": {
            "text/html": [
              "Find internal logs for this run at: <code>/root/.keras/datasets/inaturalist_12K/valid/wandb/run-20210415_212010-9bwliv86/logs/debug-internal.log</code>"
            ],
            "text/plain": [
              "<IPython.core.display.HTML object>"
            ]
          },
          "metadata": {
            "tags": []
          }
        },
        {
          "output_type": "display_data",
          "data": {
            "text/html": [
              "<h3>Run summary:</h3><br/><style>\n",
              "    table.wandb td:nth-child(1) { padding: 0 10px; text-align: right }\n",
              "    </style><table class=\"wandb\">\n",
              "<tr><td>epoch</td><td>9</td></tr><tr><td>loss</td><td>0.03485</td></tr><tr><td>accuracy</td><td>0.988</td></tr><tr><td>val_loss</td><td>1.82324</td></tr><tr><td>val_accuracy</td><td>0.66767</td></tr><tr><td>_runtime</td><td>1382</td></tr><tr><td>_timestamp</td><td>1618522992</td></tr><tr><td>_step</td><td>9</td></tr><tr><td>best_val_loss</td><td>1.01666</td></tr><tr><td>best_epoch</td><td>0</td></tr></table>"
            ],
            "text/plain": [
              "<IPython.core.display.HTML object>"
            ]
          },
          "metadata": {
            "tags": []
          }
        },
        {
          "output_type": "display_data",
          "data": {
            "text/html": [
              "<h3>Run history:</h3><br/><style>\n",
              "    table.wandb td:nth-child(1) { padding: 0 10px; text-align: right }\n",
              "    </style><table class=\"wandb\">\n",
              "<tr><td>epoch</td><td>▁▂▃▃▄▅▆▆▇█</td></tr><tr><td>loss</td><td>█▂▁▁▁▁▂▁▁▁</td></tr><tr><td>accuracy</td><td>▁▇████▇███</td></tr><tr><td>val_loss</td><td>▁▂▅▄▆▇▅▆██</td></tr><tr><td>val_accuracy</td><td>▄█▆█▅▁█▆▆▆</td></tr><tr><td>_runtime</td><td>▁▂▃▃▄▅▆▆▇█</td></tr><tr><td>_timestamp</td><td>▁▂▃▃▄▅▆▆▇█</td></tr><tr><td>_step</td><td>▁▂▃▃▄▅▆▆▇█</td></tr></table><br/>"
            ],
            "text/plain": [
              "<IPython.core.display.HTML object>"
            ]
          },
          "metadata": {
            "tags": []
          }
        },
        {
          "output_type": "display_data",
          "data": {
            "text/html": [
              "Synced 5 W&B file(s), 1 media file(s), 0 artifact file(s) and 1 other file(s)"
            ],
            "text/plain": [
              "<IPython.core.display.HTML object>"
            ]
          },
          "metadata": {
            "tags": []
          }
        },
        {
          "output_type": "display_data",
          "data": {
            "text/html": [
              "\n",
              "                    <br/>Synced <strong style=\"color:#cdcd00\">fanciful-sweep-15</strong>: <a href=\"https://wandb.ai/pranayrajparisha/pretrained/runs/9bwliv86\" target=\"_blank\">https://wandb.ai/pranayrajparisha/pretrained/runs/9bwliv86</a><br/>\n",
              "                "
            ],
            "text/plain": [
              "<IPython.core.display.HTML object>"
            ]
          },
          "metadata": {
            "tags": []
          }
        },
        {
          "output_type": "stream",
          "text": [
            "\u001b[34m\u001b[1mwandb\u001b[0m: Agent Starting Run: rv1qtia0 with config:\n",
            "\u001b[34m\u001b[1mwandb\u001b[0m: \tactivation: relu\n",
            "\u001b[34m\u001b[1mwandb\u001b[0m: \tactivation2: softmax\n",
            "\u001b[34m\u001b[1mwandb\u001b[0m: \tbase_model: MobileNet\n",
            "\u001b[34m\u001b[1mwandb\u001b[0m: \tdropout: 0.2\n",
            "\u001b[34m\u001b[1mwandb\u001b[0m: \tepoch: 10\n",
            "\u001b[34m\u001b[1mwandb\u001b[0m: \tinput_shape: [180, 180, 3]\n",
            "\u001b[34m\u001b[1mwandb\u001b[0m: \tl_rate: 5e-05\n",
            "\u001b[34m\u001b[1mwandb\u001b[0m: \tnum_dense_neuron: 1014\n",
            "\u001b[34m\u001b[1mwandb\u001b[0m: \tnum_f: 5\n",
            "\u001b[34m\u001b[1mwandb\u001b[0m: \tpooling: no pooling\n"
          ],
          "name": "stderr"
        },
        {
          "output_type": "display_data",
          "data": {
            "text/html": [
              "\n",
              "                Tracking run with wandb version 0.10.26<br/>\n",
              "                Syncing run <strong style=\"color:#cdcd00\">confused-sweep-16</strong> to <a href=\"https://wandb.ai\" target=\"_blank\">Weights & Biases</a> <a href=\"https://docs.wandb.com/integrations/jupyter.html\" target=\"_blank\">(Documentation)</a>.<br/>\n",
              "                Project page: <a href=\"https://wandb.ai/pranayrajparisha/pretrained\" target=\"_blank\">https://wandb.ai/pranayrajparisha/pretrained</a><br/>\n",
              "                Sweep page: <a href=\"https://wandb.ai/pranayrajparisha/pretrained/sweeps/do6zfb98\" target=\"_blank\">https://wandb.ai/pranayrajparisha/pretrained/sweeps/do6zfb98</a><br/>\n",
              "Run page: <a href=\"https://wandb.ai/pranayrajparisha/pretrained/runs/rv1qtia0\" target=\"_blank\">https://wandb.ai/pranayrajparisha/pretrained/runs/rv1qtia0</a><br/>\n",
              "                Run data is saved locally in <code>/root/.keras/datasets/inaturalist_12K/valid/wandb/run-20210415_214333-rv1qtia0</code><br/><br/>\n",
              "            "
            ],
            "text/plain": [
              "<IPython.core.display.HTML object>"
            ]
          },
          "metadata": {
            "tags": []
          }
        },
        {
          "output_type": "stream",
          "text": [
            "WARNING:tensorflow:`input_shape` is undefined or non-square, or `rows` is not in [128, 160, 192, 224]. Weights for input shape (224, 224) will be loaded as the default.\n",
            "Epoch 1/10\n",
            "282/282 [==============================] - 95s 321ms/step - loss: 2.7506 - accuracy: 0.2742 - val_loss: 1.7884 - val_accuracy: 0.3884\n",
            "Epoch 2/10\n",
            "282/282 [==============================] - 92s 322ms/step - loss: 1.0884 - accuracy: 0.6278 - val_loss: 1.8043 - val_accuracy: 0.4194\n",
            "Epoch 3/10\n",
            "282/282 [==============================] - 92s 323ms/step - loss: 0.5982 - accuracy: 0.8034 - val_loss: 2.0839 - val_accuracy: 0.4104\n",
            "Epoch 4/10\n",
            "282/282 [==============================] - 92s 321ms/step - loss: 0.3356 - accuracy: 0.8907 - val_loss: 2.2648 - val_accuracy: 0.4274\n",
            "Epoch 5/10\n",
            "282/282 [==============================] - 92s 320ms/step - loss: 0.2028 - accuracy: 0.9358 - val_loss: 2.3561 - val_accuracy: 0.4174\n",
            "Epoch 6/10\n",
            "282/282 [==============================] - 92s 322ms/step - loss: 0.1406 - accuracy: 0.9551 - val_loss: 2.4762 - val_accuracy: 0.4344\n",
            "Epoch 7/10\n",
            "282/282 [==============================] - 92s 323ms/step - loss: 0.1053 - accuracy: 0.9681 - val_loss: 2.6611 - val_accuracy: 0.4254\n",
            "Epoch 8/10\n",
            "282/282 [==============================] - 93s 324ms/step - loss: 0.0948 - accuracy: 0.9688 - val_loss: 2.5580 - val_accuracy: 0.4545\n",
            "Epoch 9/10\n",
            "282/282 [==============================] - 93s 325ms/step - loss: 0.0681 - accuracy: 0.9802 - val_loss: 2.6720 - val_accuracy: 0.4334\n",
            "Epoch 10/10\n",
            "282/282 [==============================] - 92s 321ms/step - loss: 0.0704 - accuracy: 0.9783 - val_loss: 2.8202 - val_accuracy: 0.4084\n"
          ],
          "name": "stdout"
        },
        {
          "output_type": "display_data",
          "data": {
            "text/html": [
              "<br/>Waiting for W&B process to finish, PID 2771<br/>Program ended successfully."
            ],
            "text/plain": [
              "<IPython.core.display.HTML object>"
            ]
          },
          "metadata": {
            "tags": []
          }
        },
        {
          "output_type": "display_data",
          "data": {
            "application/vnd.jupyter.widget-view+json": {
              "model_id": "7d24699355e742efa44c6274ffec8d08",
              "version_major": 2,
              "version_minor": 0
            },
            "text/plain": [
              "VBox(children=(Label(value=' 0.02MB of 0.02MB uploaded (0.00MB deduped)\\r'), FloatProgress(value=1.0, max=1.0)…"
            ]
          },
          "metadata": {
            "tags": []
          }
        },
        {
          "output_type": "display_data",
          "data": {
            "text/html": [
              "Find user logs for this run at: <code>/root/.keras/datasets/inaturalist_12K/valid/wandb/run-20210415_214333-rv1qtia0/logs/debug.log</code>"
            ],
            "text/plain": [
              "<IPython.core.display.HTML object>"
            ]
          },
          "metadata": {
            "tags": []
          }
        },
        {
          "output_type": "display_data",
          "data": {
            "text/html": [
              "Find internal logs for this run at: <code>/root/.keras/datasets/inaturalist_12K/valid/wandb/run-20210415_214333-rv1qtia0/logs/debug-internal.log</code>"
            ],
            "text/plain": [
              "<IPython.core.display.HTML object>"
            ]
          },
          "metadata": {
            "tags": []
          }
        },
        {
          "output_type": "display_data",
          "data": {
            "text/html": [
              "<h3>Run summary:</h3><br/><style>\n",
              "    table.wandb td:nth-child(1) { padding: 0 10px; text-align: right }\n",
              "    </style><table class=\"wandb\">\n",
              "<tr><td>epoch</td><td>9</td></tr><tr><td>loss</td><td>0.07786</td></tr><tr><td>accuracy</td><td>0.97511</td></tr><tr><td>val_loss</td><td>2.82019</td></tr><tr><td>val_accuracy</td><td>0.40841</td></tr><tr><td>_runtime</td><td>929</td></tr><tr><td>_timestamp</td><td>1618523943</td></tr><tr><td>_step</td><td>9</td></tr><tr><td>best_val_loss</td><td>1.78841</td></tr><tr><td>best_epoch</td><td>0</td></tr></table>"
            ],
            "text/plain": [
              "<IPython.core.display.HTML object>"
            ]
          },
          "metadata": {
            "tags": []
          }
        },
        {
          "output_type": "display_data",
          "data": {
            "text/html": [
              "<h3>Run history:</h3><br/><style>\n",
              "    table.wandb td:nth-child(1) { padding: 0 10px; text-align: right }\n",
              "    </style><table class=\"wandb\">\n",
              "<tr><td>epoch</td><td>▁▂▃▃▄▅▆▆▇█</td></tr><tr><td>loss</td><td>█▄▃▂▁▁▁▁▁▁</td></tr><tr><td>accuracy</td><td>▁▄▆▇██████</td></tr><tr><td>val_loss</td><td>▁▁▃▄▅▆▇▆▇█</td></tr><tr><td>val_accuracy</td><td>▁▄▃▅▄▆▅█▆▃</td></tr><tr><td>_runtime</td><td>▁▂▃▃▄▅▆▆▇█</td></tr><tr><td>_timestamp</td><td>▁▂▃▃▄▅▆▆▇█</td></tr><tr><td>_step</td><td>▁▂▃▃▄▅▆▆▇█</td></tr></table><br/>"
            ],
            "text/plain": [
              "<IPython.core.display.HTML object>"
            ]
          },
          "metadata": {
            "tags": []
          }
        },
        {
          "output_type": "display_data",
          "data": {
            "text/html": [
              "Synced 5 W&B file(s), 1 media file(s), 0 artifact file(s) and 1 other file(s)"
            ],
            "text/plain": [
              "<IPython.core.display.HTML object>"
            ]
          },
          "metadata": {
            "tags": []
          }
        },
        {
          "output_type": "display_data",
          "data": {
            "text/html": [
              "\n",
              "                    <br/>Synced <strong style=\"color:#cdcd00\">confused-sweep-16</strong>: <a href=\"https://wandb.ai/pranayrajparisha/pretrained/runs/rv1qtia0\" target=\"_blank\">https://wandb.ai/pranayrajparisha/pretrained/runs/rv1qtia0</a><br/>\n",
              "                "
            ],
            "text/plain": [
              "<IPython.core.display.HTML object>"
            ]
          },
          "metadata": {
            "tags": []
          }
        },
        {
          "output_type": "stream",
          "text": [
            "\u001b[34m\u001b[1mwandb\u001b[0m: Agent Starting Run: hwej8yzh with config:\n",
            "\u001b[34m\u001b[1mwandb\u001b[0m: \tactivation: relu\n",
            "\u001b[34m\u001b[1mwandb\u001b[0m: \tactivation2: softmax\n",
            "\u001b[34m\u001b[1mwandb\u001b[0m: \tbase_model: MobileNet\n",
            "\u001b[34m\u001b[1mwandb\u001b[0m: \tdropout: 0.2\n",
            "\u001b[34m\u001b[1mwandb\u001b[0m: \tepoch: 5\n",
            "\u001b[34m\u001b[1mwandb\u001b[0m: \tinput_shape: [180, 180, 3]\n",
            "\u001b[34m\u001b[1mwandb\u001b[0m: \tl_rate: 5e-05\n",
            "\u001b[34m\u001b[1mwandb\u001b[0m: \tnum_dense_neuron: 1014\n",
            "\u001b[34m\u001b[1mwandb\u001b[0m: \tnum_f: -5\n",
            "\u001b[34m\u001b[1mwandb\u001b[0m: \tpooling: max\n"
          ],
          "name": "stderr"
        },
        {
          "output_type": "display_data",
          "data": {
            "text/html": [
              "\n",
              "                Tracking run with wandb version 0.10.26<br/>\n",
              "                Syncing run <strong style=\"color:#cdcd00\">balmy-sweep-17</strong> to <a href=\"https://wandb.ai\" target=\"_blank\">Weights & Biases</a> <a href=\"https://docs.wandb.com/integrations/jupyter.html\" target=\"_blank\">(Documentation)</a>.<br/>\n",
              "                Project page: <a href=\"https://wandb.ai/pranayrajparisha/pretrained\" target=\"_blank\">https://wandb.ai/pranayrajparisha/pretrained</a><br/>\n",
              "                Sweep page: <a href=\"https://wandb.ai/pranayrajparisha/pretrained/sweeps/do6zfb98\" target=\"_blank\">https://wandb.ai/pranayrajparisha/pretrained/sweeps/do6zfb98</a><br/>\n",
              "Run page: <a href=\"https://wandb.ai/pranayrajparisha/pretrained/runs/hwej8yzh\" target=\"_blank\">https://wandb.ai/pranayrajparisha/pretrained/runs/hwej8yzh</a><br/>\n",
              "                Run data is saved locally in <code>/root/.keras/datasets/inaturalist_12K/valid/wandb/run-20210415_215913-hwej8yzh</code><br/><br/>\n",
              "            "
            ],
            "text/plain": [
              "<IPython.core.display.HTML object>"
            ]
          },
          "metadata": {
            "tags": []
          }
        },
        {
          "output_type": "stream",
          "text": [
            "WARNING:tensorflow:`input_shape` is undefined or non-square, or `rows` is not in [128, 160, 192, 224]. Weights for input shape (224, 224) will be loaded as the default.\n",
            "Epoch 1/5\n",
            "282/282 [==============================] - 95s 322ms/step - loss: 2.7827 - accuracy: 0.2648 - val_loss: 1.7979 - val_accuracy: 0.3714\n",
            "Epoch 2/5\n",
            "282/282 [==============================] - 92s 319ms/step - loss: 1.0965 - accuracy: 0.6324 - val_loss: 1.8561 - val_accuracy: 0.4024\n",
            "Epoch 3/5\n",
            "282/282 [==============================] - 92s 319ms/step - loss: 0.6068 - accuracy: 0.8058 - val_loss: 2.0841 - val_accuracy: 0.4204\n",
            "Epoch 4/5\n",
            "282/282 [==============================] - 92s 319ms/step - loss: 0.3208 - accuracy: 0.8979 - val_loss: 2.1867 - val_accuracy: 0.4214\n",
            "Epoch 5/5\n",
            "282/282 [==============================] - 91s 318ms/step - loss: 0.1939 - accuracy: 0.9434 - val_loss: 2.4171 - val_accuracy: 0.4274\n"
          ],
          "name": "stdout"
        },
        {
          "output_type": "display_data",
          "data": {
            "text/html": [
              "<br/>Waiting for W&B process to finish, PID 2858<br/>Program ended successfully."
            ],
            "text/plain": [
              "<IPython.core.display.HTML object>"
            ]
          },
          "metadata": {
            "tags": []
          }
        },
        {
          "output_type": "display_data",
          "data": {
            "application/vnd.jupyter.widget-view+json": {
              "model_id": "a23263e677434de68703edcc93ff7a62",
              "version_major": 2,
              "version_minor": 0
            },
            "text/plain": [
              "VBox(children=(Label(value=' 8.74MB of 8.74MB uploaded (0.00MB deduped)\\r'), FloatProgress(value=1.0, max=1.0)…"
            ]
          },
          "metadata": {
            "tags": []
          }
        },
        {
          "output_type": "display_data",
          "data": {
            "text/html": [
              "Find user logs for this run at: <code>/root/.keras/datasets/inaturalist_12K/valid/wandb/run-20210415_215913-hwej8yzh/logs/debug.log</code>"
            ],
            "text/plain": [
              "<IPython.core.display.HTML object>"
            ]
          },
          "metadata": {
            "tags": []
          }
        },
        {
          "output_type": "display_data",
          "data": {
            "text/html": [
              "Find internal logs for this run at: <code>/root/.keras/datasets/inaturalist_12K/valid/wandb/run-20210415_215913-hwej8yzh/logs/debug-internal.log</code>"
            ],
            "text/plain": [
              "<IPython.core.display.HTML object>"
            ]
          },
          "metadata": {
            "tags": []
          }
        },
        {
          "output_type": "display_data",
          "data": {
            "text/html": [
              "<h3>Run summary:</h3><br/><style>\n",
              "    table.wandb td:nth-child(1) { padding: 0 10px; text-align: right }\n",
              "    </style><table class=\"wandb\">\n",
              "<tr><td>epoch</td><td>4</td></tr><tr><td>loss</td><td>0.18851</td></tr><tr><td>accuracy</td><td>0.94189</td></tr><tr><td>val_loss</td><td>2.41708</td></tr><tr><td>val_accuracy</td><td>0.42743</td></tr><tr><td>_runtime</td><td>464</td></tr><tr><td>_timestamp</td><td>1618524418</td></tr><tr><td>_step</td><td>4</td></tr><tr><td>best_val_loss</td><td>1.79792</td></tr><tr><td>best_epoch</td><td>0</td></tr></table>"
            ],
            "text/plain": [
              "<IPython.core.display.HTML object>"
            ]
          },
          "metadata": {
            "tags": []
          }
        },
        {
          "output_type": "display_data",
          "data": {
            "text/html": [
              "<h3>Run history:</h3><br/><style>\n",
              "    table.wandb td:nth-child(1) { padding: 0 10px; text-align: right }\n",
              "    </style><table class=\"wandb\">\n",
              "<tr><td>epoch</td><td>▁▃▅▆█</td></tr><tr><td>loss</td><td>█▄▂▁▁</td></tr><tr><td>accuracy</td><td>▁▄▆██</td></tr><tr><td>val_loss</td><td>▁▂▄▅█</td></tr><tr><td>val_accuracy</td><td>▁▅▇▇█</td></tr><tr><td>_runtime</td><td>▁▃▅▆█</td></tr><tr><td>_timestamp</td><td>▁▃▅▆█</td></tr><tr><td>_step</td><td>▁▃▅▆█</td></tr></table><br/>"
            ],
            "text/plain": [
              "<IPython.core.display.HTML object>"
            ]
          },
          "metadata": {
            "tags": []
          }
        },
        {
          "output_type": "display_data",
          "data": {
            "text/html": [
              "Synced 5 W&B file(s), 1 media file(s), 0 artifact file(s) and 1 other file(s)"
            ],
            "text/plain": [
              "<IPython.core.display.HTML object>"
            ]
          },
          "metadata": {
            "tags": []
          }
        },
        {
          "output_type": "display_data",
          "data": {
            "text/html": [
              "\n",
              "                    <br/>Synced <strong style=\"color:#cdcd00\">balmy-sweep-17</strong>: <a href=\"https://wandb.ai/pranayrajparisha/pretrained/runs/hwej8yzh\" target=\"_blank\">https://wandb.ai/pranayrajparisha/pretrained/runs/hwej8yzh</a><br/>\n",
              "                "
            ],
            "text/plain": [
              "<IPython.core.display.HTML object>"
            ]
          },
          "metadata": {
            "tags": []
          }
        },
        {
          "output_type": "stream",
          "text": [
            "\u001b[34m\u001b[1mwandb\u001b[0m: Agent Starting Run: ry7i02sr with config:\n",
            "\u001b[34m\u001b[1mwandb\u001b[0m: \tactivation: relu\n",
            "\u001b[34m\u001b[1mwandb\u001b[0m: \tactivation2: softmax\n",
            "\u001b[34m\u001b[1mwandb\u001b[0m: \tbase_model: MobileNet\n",
            "\u001b[34m\u001b[1mwandb\u001b[0m: \tdropout: 0\n",
            "\u001b[34m\u001b[1mwandb\u001b[0m: \tepoch: 5\n",
            "\u001b[34m\u001b[1mwandb\u001b[0m: \tinput_shape: [180, 180, 3]\n",
            "\u001b[34m\u001b[1mwandb\u001b[0m: \tl_rate: 5e-05\n",
            "\u001b[34m\u001b[1mwandb\u001b[0m: \tnum_dense_neuron: 256\n",
            "\u001b[34m\u001b[1mwandb\u001b[0m: \tnum_f: -5\n",
            "\u001b[34m\u001b[1mwandb\u001b[0m: \tpooling: max\n"
          ],
          "name": "stderr"
        },
        {
          "output_type": "display_data",
          "data": {
            "text/html": [
              "\n",
              "                Tracking run with wandb version 0.10.26<br/>\n",
              "                Syncing run <strong style=\"color:#cdcd00\">polished-sweep-18</strong> to <a href=\"https://wandb.ai\" target=\"_blank\">Weights & Biases</a> <a href=\"https://docs.wandb.com/integrations/jupyter.html\" target=\"_blank\">(Documentation)</a>.<br/>\n",
              "                Project page: <a href=\"https://wandb.ai/pranayrajparisha/pretrained\" target=\"_blank\">https://wandb.ai/pranayrajparisha/pretrained</a><br/>\n",
              "                Sweep page: <a href=\"https://wandb.ai/pranayrajparisha/pretrained/sweeps/do6zfb98\" target=\"_blank\">https://wandb.ai/pranayrajparisha/pretrained/sweeps/do6zfb98</a><br/>\n",
              "Run page: <a href=\"https://wandb.ai/pranayrajparisha/pretrained/runs/ry7i02sr\" target=\"_blank\">https://wandb.ai/pranayrajparisha/pretrained/runs/ry7i02sr</a><br/>\n",
              "                Run data is saved locally in <code>/root/.keras/datasets/inaturalist_12K/valid/wandb/run-20210415_220709-ry7i02sr</code><br/><br/>\n",
              "            "
            ],
            "text/plain": [
              "<IPython.core.display.HTML object>"
            ]
          },
          "metadata": {
            "tags": []
          }
        },
        {
          "output_type": "stream",
          "text": [
            "WARNING:tensorflow:`input_shape` is undefined or non-square, or `rows` is not in [128, 160, 192, 224]. Weights for input shape (224, 224) will be loaded as the default.\n",
            "Epoch 1/5\n",
            "282/282 [==============================] - 94s 317ms/step - loss: 2.4091 - accuracy: 0.2601 - val_loss: 1.8552 - val_accuracy: 0.3714\n",
            "Epoch 2/5\n",
            "282/282 [==============================] - 91s 316ms/step - loss: 1.2090 - accuracy: 0.5877 - val_loss: 1.7807 - val_accuracy: 0.4254\n",
            "Epoch 3/5\n",
            "282/282 [==============================] - 90s 314ms/step - loss: 0.6252 - accuracy: 0.8054 - val_loss: 1.9244 - val_accuracy: 0.4194\n",
            "Epoch 4/5\n",
            "282/282 [==============================] - 90s 314ms/step - loss: 0.3225 - accuracy: 0.9141 - val_loss: 2.1546 - val_accuracy: 0.4214\n",
            "Epoch 5/5\n",
            "282/282 [==============================] - 90s 314ms/step - loss: 0.1799 - accuracy: 0.9523 - val_loss: 2.2600 - val_accuracy: 0.4364\n"
          ],
          "name": "stdout"
        },
        {
          "output_type": "display_data",
          "data": {
            "text/html": [
              "<br/>Waiting for W&B process to finish, PID 2933<br/>Program ended successfully."
            ],
            "text/plain": [
              "<IPython.core.display.HTML object>"
            ]
          },
          "metadata": {
            "tags": []
          }
        },
        {
          "output_type": "display_data",
          "data": {
            "application/vnd.jupyter.widget-view+json": {
              "model_id": "1c5274df70b948909864c2c711342a31",
              "version_major": 2,
              "version_minor": 0
            },
            "text/plain": [
              "VBox(children=(Label(value=' 112.25MB of 112.25MB uploaded (0.00MB deduped)\\r'), FloatProgress(value=1.0, max=…"
            ]
          },
          "metadata": {
            "tags": []
          }
        },
        {
          "output_type": "display_data",
          "data": {
            "text/html": [
              "Find user logs for this run at: <code>/root/.keras/datasets/inaturalist_12K/valid/wandb/run-20210415_220709-ry7i02sr/logs/debug.log</code>"
            ],
            "text/plain": [
              "<IPython.core.display.HTML object>"
            ]
          },
          "metadata": {
            "tags": []
          }
        },
        {
          "output_type": "display_data",
          "data": {
            "text/html": [
              "Find internal logs for this run at: <code>/root/.keras/datasets/inaturalist_12K/valid/wandb/run-20210415_220709-ry7i02sr/logs/debug-internal.log</code>"
            ],
            "text/plain": [
              "<IPython.core.display.HTML object>"
            ]
          },
          "metadata": {
            "tags": []
          }
        },
        {
          "output_type": "display_data",
          "data": {
            "text/html": [
              "<h3>Run summary:</h3><br/><style>\n",
              "    table.wandb td:nth-child(1) { padding: 0 10px; text-align: right }\n",
              "    </style><table class=\"wandb\">\n",
              "<tr><td>epoch</td><td>4</td></tr><tr><td>loss</td><td>0.16553</td></tr><tr><td>accuracy</td><td>0.956</td></tr><tr><td>val_loss</td><td>2.25999</td></tr><tr><td>val_accuracy</td><td>0.43644</td></tr><tr><td>_runtime</td><td>458</td></tr><tr><td>_timestamp</td><td>1618524887</td></tr><tr><td>_step</td><td>4</td></tr><tr><td>best_val_loss</td><td>1.78066</td></tr><tr><td>best_epoch</td><td>1</td></tr></table>"
            ],
            "text/plain": [
              "<IPython.core.display.HTML object>"
            ]
          },
          "metadata": {
            "tags": []
          }
        },
        {
          "output_type": "display_data",
          "data": {
            "text/html": [
              "<h3>Run history:</h3><br/><style>\n",
              "    table.wandb td:nth-child(1) { padding: 0 10px; text-align: right }\n",
              "    </style><table class=\"wandb\">\n",
              "<tr><td>epoch</td><td>▁▃▅▆█</td></tr><tr><td>loss</td><td>█▅▃▁▁</td></tr><tr><td>accuracy</td><td>▁▄▆██</td></tr><tr><td>val_loss</td><td>▂▁▃▆█</td></tr><tr><td>val_accuracy</td><td>▁▇▆▆█</td></tr><tr><td>_runtime</td><td>▁▃▅▆█</td></tr><tr><td>_timestamp</td><td>▁▃▅▆█</td></tr><tr><td>_step</td><td>▁▃▅▆█</td></tr></table><br/>"
            ],
            "text/plain": [
              "<IPython.core.display.HTML object>"
            ]
          },
          "metadata": {
            "tags": []
          }
        },
        {
          "output_type": "display_data",
          "data": {
            "text/html": [
              "Synced 5 W&B file(s), 1 media file(s), 0 artifact file(s) and 1 other file(s)"
            ],
            "text/plain": [
              "<IPython.core.display.HTML object>"
            ]
          },
          "metadata": {
            "tags": []
          }
        },
        {
          "output_type": "display_data",
          "data": {
            "text/html": [
              "\n",
              "                    <br/>Synced <strong style=\"color:#cdcd00\">polished-sweep-18</strong>: <a href=\"https://wandb.ai/pranayrajparisha/pretrained/runs/ry7i02sr\" target=\"_blank\">https://wandb.ai/pranayrajparisha/pretrained/runs/ry7i02sr</a><br/>\n",
              "                "
            ],
            "text/plain": [
              "<IPython.core.display.HTML object>"
            ]
          },
          "metadata": {
            "tags": []
          }
        },
        {
          "output_type": "stream",
          "text": [
            "\u001b[34m\u001b[1mwandb\u001b[0m: Agent Starting Run: 1zr3f6vn with config:\n",
            "\u001b[34m\u001b[1mwandb\u001b[0m: \tactivation: relu\n",
            "\u001b[34m\u001b[1mwandb\u001b[0m: \tactivation2: softmax\n",
            "\u001b[34m\u001b[1mwandb\u001b[0m: \tbase_model: ResNet50\n",
            "\u001b[34m\u001b[1mwandb\u001b[0m: \tdropout: 0.2\n",
            "\u001b[34m\u001b[1mwandb\u001b[0m: \tepoch: 5\n",
            "\u001b[34m\u001b[1mwandb\u001b[0m: \tinput_shape: [180, 180, 3]\n",
            "\u001b[34m\u001b[1mwandb\u001b[0m: \tl_rate: 5e-05\n",
            "\u001b[34m\u001b[1mwandb\u001b[0m: \tnum_dense_neuron: 256\n",
            "\u001b[34m\u001b[1mwandb\u001b[0m: \tnum_f: 25\n",
            "\u001b[34m\u001b[1mwandb\u001b[0m: \tpooling: no pooling\n"
          ],
          "name": "stderr"
        },
        {
          "output_type": "display_data",
          "data": {
            "text/html": [
              "\n",
              "                Tracking run with wandb version 0.10.26<br/>\n",
              "                Syncing run <strong style=\"color:#cdcd00\">daily-sweep-19</strong> to <a href=\"https://wandb.ai\" target=\"_blank\">Weights & Biases</a> <a href=\"https://docs.wandb.com/integrations/jupyter.html\" target=\"_blank\">(Documentation)</a>.<br/>\n",
              "                Project page: <a href=\"https://wandb.ai/pranayrajparisha/pretrained\" target=\"_blank\">https://wandb.ai/pranayrajparisha/pretrained</a><br/>\n",
              "                Sweep page: <a href=\"https://wandb.ai/pranayrajparisha/pretrained/sweeps/do6zfb98\" target=\"_blank\">https://wandb.ai/pranayrajparisha/pretrained/sweeps/do6zfb98</a><br/>\n",
              "Run page: <a href=\"https://wandb.ai/pranayrajparisha/pretrained/runs/1zr3f6vn\" target=\"_blank\">https://wandb.ai/pranayrajparisha/pretrained/runs/1zr3f6vn</a><br/>\n",
              "                Run data is saved locally in <code>/root/.keras/datasets/inaturalist_12K/valid/wandb/run-20210415_221455-1zr3f6vn</code><br/><br/>\n",
              "            "
            ],
            "text/plain": [
              "<IPython.core.display.HTML object>"
            ]
          },
          "metadata": {
            "tags": []
          }
        },
        {
          "output_type": "stream",
          "text": [
            "Epoch 1/5\n",
            "282/282 [==============================] - 139s 468ms/step - loss: 1.9542 - accuracy: 0.4375 - val_loss: 1.0401 - val_accuracy: 0.6557\n",
            "Epoch 2/5\n",
            "282/282 [==============================] - 131s 460ms/step - loss: 0.3987 - accuracy: 0.8717 - val_loss: 1.2158 - val_accuracy: 0.6597\n",
            "Epoch 3/5\n",
            "282/282 [==============================] - 131s 461ms/step - loss: 0.0994 - accuracy: 0.9713 - val_loss: 1.4033 - val_accuracy: 0.6577\n",
            "Epoch 4/5\n",
            "282/282 [==============================] - 131s 460ms/step - loss: 0.0475 - accuracy: 0.9869 - val_loss: 1.5432 - val_accuracy: 0.6627\n",
            "Epoch 5/5\n",
            "282/282 [==============================] - 131s 461ms/step - loss: 0.0392 - accuracy: 0.9874 - val_loss: 1.6370 - val_accuracy: 0.6827\n"
          ],
          "name": "stdout"
        },
        {
          "output_type": "display_data",
          "data": {
            "text/html": [
              "<br/>Waiting for W&B process to finish, PID 2978<br/>Program ended successfully."
            ],
            "text/plain": [
              "<IPython.core.display.HTML object>"
            ]
          },
          "metadata": {
            "tags": []
          }
        },
        {
          "output_type": "display_data",
          "data": {
            "application/vnd.jupyter.widget-view+json": {
              "model_id": "953bb4a363104d62a69bee8f45a256f1",
              "version_major": 2,
              "version_minor": 0
            },
            "text/plain": [
              "VBox(children=(Label(value=' 185.84MB of 185.84MB uploaded (0.00MB deduped)\\r'), FloatProgress(value=1.0, max=…"
            ]
          },
          "metadata": {
            "tags": []
          }
        },
        {
          "output_type": "display_data",
          "data": {
            "text/html": [
              "Find user logs for this run at: <code>/root/.keras/datasets/inaturalist_12K/valid/wandb/run-20210415_221455-1zr3f6vn/logs/debug.log</code>"
            ],
            "text/plain": [
              "<IPython.core.display.HTML object>"
            ]
          },
          "metadata": {
            "tags": []
          }
        },
        {
          "output_type": "display_data",
          "data": {
            "text/html": [
              "Find internal logs for this run at: <code>/root/.keras/datasets/inaturalist_12K/valid/wandb/run-20210415_221455-1zr3f6vn/logs/debug-internal.log</code>"
            ],
            "text/plain": [
              "<IPython.core.display.HTML object>"
            ]
          },
          "metadata": {
            "tags": []
          }
        },
        {
          "output_type": "display_data",
          "data": {
            "text/html": [
              "<h3>Run summary:</h3><br/><style>\n",
              "    table.wandb td:nth-child(1) { padding: 0 10px; text-align: right }\n",
              "    </style><table class=\"wandb\">\n",
              "<tr><td>epoch</td><td>4</td></tr><tr><td>loss</td><td>0.04311</td></tr><tr><td>accuracy</td><td>0.98678</td></tr><tr><td>val_loss</td><td>1.63699</td></tr><tr><td>val_accuracy</td><td>0.68268</td></tr><tr><td>_runtime</td><td>673</td></tr><tr><td>_timestamp</td><td>1618525568</td></tr><tr><td>_step</td><td>4</td></tr><tr><td>best_val_loss</td><td>1.04005</td></tr><tr><td>best_epoch</td><td>0</td></tr></table>"
            ],
            "text/plain": [
              "<IPython.core.display.HTML object>"
            ]
          },
          "metadata": {
            "tags": []
          }
        },
        {
          "output_type": "display_data",
          "data": {
            "text/html": [
              "<h3>Run history:</h3><br/><style>\n",
              "    table.wandb td:nth-child(1) { padding: 0 10px; text-align: right }\n",
              "    </style><table class=\"wandb\">\n",
              "<tr><td>epoch</td><td>▁▃▅▆█</td></tr><tr><td>loss</td><td>█▂▁▁▁</td></tr><tr><td>accuracy</td><td>▁▆███</td></tr><tr><td>val_loss</td><td>▁▃▅▇█</td></tr><tr><td>val_accuracy</td><td>▁▂▂▃█</td></tr><tr><td>_runtime</td><td>▁▃▅▆█</td></tr><tr><td>_timestamp</td><td>▁▃▅▆█</td></tr><tr><td>_step</td><td>▁▃▅▆█</td></tr></table><br/>"
            ],
            "text/plain": [
              "<IPython.core.display.HTML object>"
            ]
          },
          "metadata": {
            "tags": []
          }
        },
        {
          "output_type": "display_data",
          "data": {
            "text/html": [
              "Synced 5 W&B file(s), 1 media file(s), 0 artifact file(s) and 1 other file(s)"
            ],
            "text/plain": [
              "<IPython.core.display.HTML object>"
            ]
          },
          "metadata": {
            "tags": []
          }
        },
        {
          "output_type": "display_data",
          "data": {
            "text/html": [
              "\n",
              "                    <br/>Synced <strong style=\"color:#cdcd00\">daily-sweep-19</strong>: <a href=\"https://wandb.ai/pranayrajparisha/pretrained/runs/1zr3f6vn\" target=\"_blank\">https://wandb.ai/pranayrajparisha/pretrained/runs/1zr3f6vn</a><br/>\n",
              "                "
            ],
            "text/plain": [
              "<IPython.core.display.HTML object>"
            ]
          },
          "metadata": {
            "tags": []
          }
        },
        {
          "output_type": "stream",
          "text": [
            "\u001b[34m\u001b[1mwandb\u001b[0m: Agent Starting Run: vxu94ame with config:\n",
            "\u001b[34m\u001b[1mwandb\u001b[0m: \tactivation: relu\n",
            "\u001b[34m\u001b[1mwandb\u001b[0m: \tactivation2: softmax\n",
            "\u001b[34m\u001b[1mwandb\u001b[0m: \tbase_model: ResNet50\n",
            "\u001b[34m\u001b[1mwandb\u001b[0m: \tdropout: 0.2\n",
            "\u001b[34m\u001b[1mwandb\u001b[0m: \tepoch: 5\n",
            "\u001b[34m\u001b[1mwandb\u001b[0m: \tinput_shape: [180, 180, 3]\n",
            "\u001b[34m\u001b[1mwandb\u001b[0m: \tl_rate: 0.0001\n",
            "\u001b[34m\u001b[1mwandb\u001b[0m: \tnum_dense_neuron: 256\n",
            "\u001b[34m\u001b[1mwandb\u001b[0m: \tnum_f: 5\n",
            "\u001b[34m\u001b[1mwandb\u001b[0m: \tpooling: max\n"
          ],
          "name": "stderr"
        },
        {
          "output_type": "display_data",
          "data": {
            "text/html": [
              "\n",
              "                Tracking run with wandb version 0.10.26<br/>\n",
              "                Syncing run <strong style=\"color:#cdcd00\">winter-sweep-20</strong> to <a href=\"https://wandb.ai\" target=\"_blank\">Weights & Biases</a> <a href=\"https://docs.wandb.com/integrations/jupyter.html\" target=\"_blank\">(Documentation)</a>.<br/>\n",
              "                Project page: <a href=\"https://wandb.ai/pranayrajparisha/pretrained\" target=\"_blank\">https://wandb.ai/pranayrajparisha/pretrained</a><br/>\n",
              "                Sweep page: <a href=\"https://wandb.ai/pranayrajparisha/pretrained/sweeps/do6zfb98\" target=\"_blank\">https://wandb.ai/pranayrajparisha/pretrained/sweeps/do6zfb98</a><br/>\n",
              "Run page: <a href=\"https://wandb.ai/pranayrajparisha/pretrained/runs/vxu94ame\" target=\"_blank\">https://wandb.ai/pranayrajparisha/pretrained/runs/vxu94ame</a><br/>\n",
              "                Run data is saved locally in <code>/root/.keras/datasets/inaturalist_12K/valid/wandb/run-20210415_222621-vxu94ame</code><br/><br/>\n",
              "            "
            ],
            "text/plain": [
              "<IPython.core.display.HTML object>"
            ]
          },
          "metadata": {
            "tags": []
          }
        },
        {
          "output_type": "stream",
          "text": [
            "Epoch 1/5\n",
            "282/282 [==============================] - 138s 465ms/step - loss: 1.8314 - accuracy: 0.4812 - val_loss: 1.1035 - val_accuracy: 0.6446\n",
            "Epoch 2/5\n",
            "282/282 [==============================] - 132s 463ms/step - loss: 0.5099 - accuracy: 0.8338 - val_loss: 1.3678 - val_accuracy: 0.6376\n",
            "Epoch 3/5\n",
            "282/282 [==============================] - 131s 460ms/step - loss: 0.1655 - accuracy: 0.9435 - val_loss: 1.3413 - val_accuracy: 0.6637\n",
            "Epoch 4/5\n",
            "282/282 [==============================] - 132s 462ms/step - loss: 0.0936 - accuracy: 0.9702 - val_loss: 1.6044 - val_accuracy: 0.6607\n",
            "Epoch 5/5\n",
            "282/282 [==============================] - 132s 461ms/step - loss: 0.1302 - accuracy: 0.9602 - val_loss: 1.6691 - val_accuracy: 0.6396\n"
          ],
          "name": "stdout"
        },
        {
          "output_type": "display_data",
          "data": {
            "text/html": [
              "<br/>Waiting for W&B process to finish, PID 3025<br/>Program ended successfully."
            ],
            "text/plain": [
              "<IPython.core.display.HTML object>"
            ]
          },
          "metadata": {
            "tags": []
          }
        },
        {
          "output_type": "display_data",
          "data": {
            "application/vnd.jupyter.widget-view+json": {
              "model_id": "0f0e1a129df044f69cfa5a06ffcd4747",
              "version_major": 2,
              "version_minor": 0
            },
            "text/plain": [
              "VBox(children=(Label(value=' 167.35MB of 167.35MB uploaded (0.00MB deduped)\\r'), FloatProgress(value=1.0, max=…"
            ]
          },
          "metadata": {
            "tags": []
          }
        },
        {
          "output_type": "display_data",
          "data": {
            "text/html": [
              "Find user logs for this run at: <code>/root/.keras/datasets/inaturalist_12K/valid/wandb/run-20210415_222621-vxu94ame/logs/debug.log</code>"
            ],
            "text/plain": [
              "<IPython.core.display.HTML object>"
            ]
          },
          "metadata": {
            "tags": []
          }
        },
        {
          "output_type": "display_data",
          "data": {
            "text/html": [
              "Find internal logs for this run at: <code>/root/.keras/datasets/inaturalist_12K/valid/wandb/run-20210415_222621-vxu94ame/logs/debug-internal.log</code>"
            ],
            "text/plain": [
              "<IPython.core.display.HTML object>"
            ]
          },
          "metadata": {
            "tags": []
          }
        },
        {
          "output_type": "display_data",
          "data": {
            "text/html": [
              "<h3>Run summary:</h3><br/><style>\n",
              "    table.wandb td:nth-child(1) { padding: 0 10px; text-align: right }\n",
              "    </style><table class=\"wandb\">\n",
              "<tr><td>epoch</td><td>4</td></tr><tr><td>loss</td><td>0.12618</td></tr><tr><td>accuracy</td><td>0.96011</td></tr><tr><td>val_loss</td><td>1.66913</td></tr><tr><td>val_accuracy</td><td>0.63964</td></tr><tr><td>_runtime</td><td>671</td></tr><tr><td>_timestamp</td><td>1618526252</td></tr><tr><td>_step</td><td>4</td></tr><tr><td>best_val_loss</td><td>1.10354</td></tr><tr><td>best_epoch</td><td>0</td></tr></table>"
            ],
            "text/plain": [
              "<IPython.core.display.HTML object>"
            ]
          },
          "metadata": {
            "tags": []
          }
        },
        {
          "output_type": "display_data",
          "data": {
            "text/html": [
              "<h3>Run history:</h3><br/><style>\n",
              "    table.wandb td:nth-child(1) { padding: 0 10px; text-align: right }\n",
              "    </style><table class=\"wandb\">\n",
              "<tr><td>epoch</td><td>▁▃▅▆█</td></tr><tr><td>loss</td><td>█▃▁▁▁</td></tr><tr><td>accuracy</td><td>▁▆███</td></tr><tr><td>val_loss</td><td>▁▄▄▇█</td></tr><tr><td>val_accuracy</td><td>▃▁█▇▂</td></tr><tr><td>_runtime</td><td>▁▃▅▆█</td></tr><tr><td>_timestamp</td><td>▁▃▅▆█</td></tr><tr><td>_step</td><td>▁▃▅▆█</td></tr></table><br/>"
            ],
            "text/plain": [
              "<IPython.core.display.HTML object>"
            ]
          },
          "metadata": {
            "tags": []
          }
        },
        {
          "output_type": "display_data",
          "data": {
            "text/html": [
              "Synced 5 W&B file(s), 1 media file(s), 0 artifact file(s) and 1 other file(s)"
            ],
            "text/plain": [
              "<IPython.core.display.HTML object>"
            ]
          },
          "metadata": {
            "tags": []
          }
        },
        {
          "output_type": "display_data",
          "data": {
            "text/html": [
              "\n",
              "                    <br/>Synced <strong style=\"color:#cdcd00\">winter-sweep-20</strong>: <a href=\"https://wandb.ai/pranayrajparisha/pretrained/runs/vxu94ame\" target=\"_blank\">https://wandb.ai/pranayrajparisha/pretrained/runs/vxu94ame</a><br/>\n",
              "                "
            ],
            "text/plain": [
              "<IPython.core.display.HTML object>"
            ]
          },
          "metadata": {
            "tags": []
          }
        },
        {
          "output_type": "stream",
          "text": [
            "\u001b[34m\u001b[1mwandb\u001b[0m: Agent Starting Run: hszngvls with config:\n",
            "\u001b[34m\u001b[1mwandb\u001b[0m: \tactivation: relu\n",
            "\u001b[34m\u001b[1mwandb\u001b[0m: \tactivation2: softmax\n",
            "\u001b[34m\u001b[1mwandb\u001b[0m: \tbase_model: Xception\n",
            "\u001b[34m\u001b[1mwandb\u001b[0m: \tdropout: 0.1\n",
            "\u001b[34m\u001b[1mwandb\u001b[0m: \tepoch: 10\n",
            "\u001b[34m\u001b[1mwandb\u001b[0m: \tinput_shape: [180, 180, 3]\n",
            "\u001b[34m\u001b[1mwandb\u001b[0m: \tl_rate: 5e-05\n",
            "\u001b[34m\u001b[1mwandb\u001b[0m: \tnum_dense_neuron: 1014\n",
            "\u001b[34m\u001b[1mwandb\u001b[0m: \tnum_f: 5\n",
            "\u001b[34m\u001b[1mwandb\u001b[0m: \tpooling: avg\n"
          ],
          "name": "stderr"
        },
        {
          "output_type": "display_data",
          "data": {
            "text/html": [
              "\n",
              "                Tracking run with wandb version 0.10.26<br/>\n",
              "                Syncing run <strong style=\"color:#cdcd00\">glad-sweep-21</strong> to <a href=\"https://wandb.ai\" target=\"_blank\">Weights & Biases</a> <a href=\"https://docs.wandb.com/integrations/jupyter.html\" target=\"_blank\">(Documentation)</a>.<br/>\n",
              "                Project page: <a href=\"https://wandb.ai/pranayrajparisha/pretrained\" target=\"_blank\">https://wandb.ai/pranayrajparisha/pretrained</a><br/>\n",
              "                Sweep page: <a href=\"https://wandb.ai/pranayrajparisha/pretrained/sweeps/do6zfb98\" target=\"_blank\">https://wandb.ai/pranayrajparisha/pretrained/sweeps/do6zfb98</a><br/>\n",
              "Run page: <a href=\"https://wandb.ai/pranayrajparisha/pretrained/runs/hszngvls\" target=\"_blank\">https://wandb.ai/pranayrajparisha/pretrained/runs/hszngvls</a><br/>\n",
              "                Run data is saved locally in <code>/root/.keras/datasets/inaturalist_12K/valid/wandb/run-20210415_223744-hszngvls</code><br/><br/>\n",
              "            "
            ],
            "text/plain": [
              "<IPython.core.display.HTML object>"
            ]
          },
          "metadata": {
            "tags": []
          }
        },
        {
          "output_type": "stream",
          "text": [
            "Epoch 1/10\n",
            "282/282 [==============================] - 186s 641ms/step - loss: 1.4970 - accuracy: 0.5275 - val_loss: 0.9369 - val_accuracy: 0.6907\n",
            "Epoch 2/10\n",
            "282/282 [==============================] - 183s 642ms/step - loss: 0.5808 - accuracy: 0.8100 - val_loss: 1.0315 - val_accuracy: 0.6897\n",
            "Epoch 3/10\n",
            "282/282 [==============================] - 182s 641ms/step - loss: 0.2465 - accuracy: 0.9187 - val_loss: 1.2428 - val_accuracy: 0.6887\n",
            "Epoch 4/10\n",
            "282/282 [==============================] - 182s 640ms/step - loss: 0.1114 - accuracy: 0.9654 - val_loss: 1.4978 - val_accuracy: 0.6927\n",
            "Epoch 5/10\n",
            "282/282 [==============================] - 182s 640ms/step - loss: 0.0697 - accuracy: 0.9770 - val_loss: 1.5570 - val_accuracy: 0.6787\n",
            "Epoch 6/10\n",
            "282/282 [==============================] - 182s 641ms/step - loss: 0.0537 - accuracy: 0.9851 - val_loss: 1.8044 - val_accuracy: 0.6757\n",
            "Epoch 7/10\n",
            "282/282 [==============================] - 181s 638ms/step - loss: 0.0464 - accuracy: 0.9831 - val_loss: 1.7191 - val_accuracy: 0.6947\n",
            "Epoch 8/10\n",
            "282/282 [==============================] - 182s 642ms/step - loss: 0.0404 - accuracy: 0.9879 - val_loss: 1.7455 - val_accuracy: 0.6927\n",
            "Epoch 9/10\n",
            "282/282 [==============================] - 182s 639ms/step - loss: 0.0294 - accuracy: 0.9891 - val_loss: 1.8949 - val_accuracy: 0.6787\n",
            "Epoch 10/10\n",
            "282/282 [==============================] - 182s 639ms/step - loss: 0.0459 - accuracy: 0.9850 - val_loss: 1.9521 - val_accuracy: 0.6937\n"
          ],
          "name": "stdout"
        },
        {
          "output_type": "display_data",
          "data": {
            "text/html": [
              "<br/>Waiting for W&B process to finish, PID 3078<br/>Program ended successfully."
            ],
            "text/plain": [
              "<IPython.core.display.HTML object>"
            ]
          },
          "metadata": {
            "tags": []
          }
        },
        {
          "output_type": "display_data",
          "data": {
            "application/vnd.jupyter.widget-view+json": {
              "model_id": "51e8953eb21641a5b0cf6a5ea966582b",
              "version_major": 2,
              "version_minor": 0
            },
            "text/plain": [
              "VBox(children=(Label(value=' 365.21MB of 365.21MB uploaded (0.00MB deduped)\\r'), FloatProgress(value=1.0, max=…"
            ]
          },
          "metadata": {
            "tags": []
          }
        },
        {
          "output_type": "display_data",
          "data": {
            "text/html": [
              "Find user logs for this run at: <code>/root/.keras/datasets/inaturalist_12K/valid/wandb/run-20210415_223744-hszngvls/logs/debug.log</code>"
            ],
            "text/plain": [
              "<IPython.core.display.HTML object>"
            ]
          },
          "metadata": {
            "tags": []
          }
        },
        {
          "output_type": "display_data",
          "data": {
            "text/html": [
              "Find internal logs for this run at: <code>/root/.keras/datasets/inaturalist_12K/valid/wandb/run-20210415_223744-hszngvls/logs/debug-internal.log</code>"
            ],
            "text/plain": [
              "<IPython.core.display.HTML object>"
            ]
          },
          "metadata": {
            "tags": []
          }
        },
        {
          "output_type": "display_data",
          "data": {
            "text/html": [
              "<h3>Run summary:</h3><br/><style>\n",
              "    table.wandb td:nth-child(1) { padding: 0 10px; text-align: right }\n",
              "    </style><table class=\"wandb\">\n",
              "<tr><td>epoch</td><td>9</td></tr><tr><td>loss</td><td>0.03807</td></tr><tr><td>accuracy</td><td>0.98756</td></tr><tr><td>val_loss</td><td>1.9521</td></tr><tr><td>val_accuracy</td><td>0.69369</td></tr><tr><td>_runtime</td><td>1837</td></tr><tr><td>_timestamp</td><td>1618528101</td></tr><tr><td>_step</td><td>9</td></tr><tr><td>best_val_loss</td><td>0.93695</td></tr><tr><td>best_epoch</td><td>0</td></tr></table>"
            ],
            "text/plain": [
              "<IPython.core.display.HTML object>"
            ]
          },
          "metadata": {
            "tags": []
          }
        },
        {
          "output_type": "display_data",
          "data": {
            "text/html": [
              "<h3>Run history:</h3><br/><style>\n",
              "    table.wandb td:nth-child(1) { padding: 0 10px; text-align: right }\n",
              "    </style><table class=\"wandb\">\n",
              "<tr><td>epoch</td><td>▁▂▃▃▄▅▆▆▇█</td></tr><tr><td>loss</td><td>█▄▂▁▁▁▁▁▁▁</td></tr><tr><td>accuracy</td><td>▁▅▇███████</td></tr><tr><td>val_loss</td><td>▁▂▃▅▅▇▆▇██</td></tr><tr><td>val_accuracy</td><td>▇▆▆▇▂▁█▇▂█</td></tr><tr><td>_runtime</td><td>▁▂▃▃▄▅▆▆▇█</td></tr><tr><td>_timestamp</td><td>▁▂▃▃▄▅▆▆▇█</td></tr><tr><td>_step</td><td>▁▂▃▃▄▅▆▆▇█</td></tr></table><br/>"
            ],
            "text/plain": [
              "<IPython.core.display.HTML object>"
            ]
          },
          "metadata": {
            "tags": []
          }
        },
        {
          "output_type": "display_data",
          "data": {
            "text/html": [
              "Synced 5 W&B file(s), 1 media file(s), 0 artifact file(s) and 1 other file(s)"
            ],
            "text/plain": [
              "<IPython.core.display.HTML object>"
            ]
          },
          "metadata": {
            "tags": []
          }
        },
        {
          "output_type": "display_data",
          "data": {
            "text/html": [
              "\n",
              "                    <br/>Synced <strong style=\"color:#cdcd00\">glad-sweep-21</strong>: <a href=\"https://wandb.ai/pranayrajparisha/pretrained/runs/hszngvls\" target=\"_blank\">https://wandb.ai/pranayrajparisha/pretrained/runs/hszngvls</a><br/>\n",
              "                "
            ],
            "text/plain": [
              "<IPython.core.display.HTML object>"
            ]
          },
          "metadata": {
            "tags": []
          }
        },
        {
          "output_type": "stream",
          "text": [
            "\u001b[34m\u001b[1mwandb\u001b[0m: Agent Starting Run: 01emoqkb with config:\n",
            "\u001b[34m\u001b[1mwandb\u001b[0m: \tactivation: relu\n",
            "\u001b[34m\u001b[1mwandb\u001b[0m: \tactivation2: softmax\n",
            "\u001b[34m\u001b[1mwandb\u001b[0m: \tbase_model: Xception\n",
            "\u001b[34m\u001b[1mwandb\u001b[0m: \tdropout: 0.1\n",
            "\u001b[34m\u001b[1mwandb\u001b[0m: \tepoch: 10\n",
            "\u001b[34m\u001b[1mwandb\u001b[0m: \tinput_shape: [180, 180, 3]\n",
            "\u001b[34m\u001b[1mwandb\u001b[0m: \tl_rate: 0.0001\n",
            "\u001b[34m\u001b[1mwandb\u001b[0m: \tnum_dense_neuron: 1014\n",
            "\u001b[34m\u001b[1mwandb\u001b[0m: \tnum_f: 5\n",
            "\u001b[34m\u001b[1mwandb\u001b[0m: \tpooling: no pooling\n"
          ],
          "name": "stderr"
        },
        {
          "output_type": "display_data",
          "data": {
            "text/html": [
              "\n",
              "                Tracking run with wandb version 0.10.26<br/>\n",
              "                Syncing run <strong style=\"color:#cdcd00\">ethereal-sweep-22</strong> to <a href=\"https://wandb.ai\" target=\"_blank\">Weights & Biases</a> <a href=\"https://docs.wandb.com/integrations/jupyter.html\" target=\"_blank\">(Documentation)</a>.<br/>\n",
              "                Project page: <a href=\"https://wandb.ai/pranayrajparisha/pretrained\" target=\"_blank\">https://wandb.ai/pranayrajparisha/pretrained</a><br/>\n",
              "                Sweep page: <a href=\"https://wandb.ai/pranayrajparisha/pretrained/sweeps/do6zfb98\" target=\"_blank\">https://wandb.ai/pranayrajparisha/pretrained/sweeps/do6zfb98</a><br/>\n",
              "Run page: <a href=\"https://wandb.ai/pranayrajparisha/pretrained/runs/01emoqkb\" target=\"_blank\">https://wandb.ai/pranayrajparisha/pretrained/runs/01emoqkb</a><br/>\n",
              "                Run data is saved locally in <code>/root/.keras/datasets/inaturalist_12K/valid/wandb/run-20210415_230850-01emoqkb</code><br/><br/>\n",
              "            "
            ],
            "text/plain": [
              "<IPython.core.display.HTML object>"
            ]
          },
          "metadata": {
            "tags": []
          }
        },
        {
          "output_type": "stream",
          "text": [
            "Epoch 1/10\n",
            "282/282 [==============================] - 186s 640ms/step - loss: 1.5384 - accuracy: 0.5318 - val_loss: 0.9529 - val_accuracy: 0.6987\n",
            "Epoch 2/10\n",
            "282/282 [==============================] - 183s 643ms/step - loss: 0.5477 - accuracy: 0.8194 - val_loss: 1.1583 - val_accuracy: 0.6967\n",
            "Epoch 3/10\n",
            "282/282 [==============================] - 183s 642ms/step - loss: 0.2477 - accuracy: 0.9154 - val_loss: 1.2732 - val_accuracy: 0.6877\n",
            "Epoch 4/10\n",
            "282/282 [==============================] - 183s 643ms/step - loss: 0.1397 - accuracy: 0.9558 - val_loss: 1.5592 - val_accuracy: 0.7137\n",
            "Epoch 5/10\n",
            "282/282 [==============================] - 182s 641ms/step - loss: 0.1103 - accuracy: 0.9641 - val_loss: 1.5349 - val_accuracy: 0.7097\n",
            "Epoch 6/10\n",
            "282/282 [==============================] - 183s 643ms/step - loss: 0.0787 - accuracy: 0.9729 - val_loss: 1.6282 - val_accuracy: 0.7067\n",
            "Epoch 7/10\n",
            "282/282 [==============================] - 183s 642ms/step - loss: 0.0743 - accuracy: 0.9783 - val_loss: 1.6743 - val_accuracy: 0.7017\n",
            "Epoch 8/10\n",
            "282/282 [==============================] - 182s 640ms/step - loss: 0.0545 - accuracy: 0.9826 - val_loss: 1.5770 - val_accuracy: 0.7177\n",
            "Epoch 9/10\n",
            "282/282 [==============================] - 181s 636ms/step - loss: 0.0607 - accuracy: 0.9815 - val_loss: 1.5619 - val_accuracy: 0.7077\n",
            "Epoch 10/10\n",
            "282/282 [==============================] - 181s 636ms/step - loss: 0.0375 - accuracy: 0.9889 - val_loss: 1.6935 - val_accuracy: 0.7017\n"
          ],
          "name": "stdout"
        },
        {
          "output_type": "display_data",
          "data": {
            "text/html": [
              "<br/>Waiting for W&B process to finish, PID 3281<br/>Program ended successfully."
            ],
            "text/plain": [
              "<IPython.core.display.HTML object>"
            ]
          },
          "metadata": {
            "tags": []
          }
        },
        {
          "output_type": "display_data",
          "data": {
            "application/vnd.jupyter.widget-view+json": {
              "model_id": "efc19811bbcd47a4ab936f13d07b3b9e",
              "version_major": 2,
              "version_minor": 0
            },
            "text/plain": [
              "VBox(children=(Label(value=' 365.21MB of 365.21MB uploaded (0.00MB deduped)\\r'), FloatProgress(value=1.0, max=…"
            ]
          },
          "metadata": {
            "tags": []
          }
        },
        {
          "output_type": "display_data",
          "data": {
            "text/html": [
              "Find user logs for this run at: <code>/root/.keras/datasets/inaturalist_12K/valid/wandb/run-20210415_230850-01emoqkb/logs/debug.log</code>"
            ],
            "text/plain": [
              "<IPython.core.display.HTML object>"
            ]
          },
          "metadata": {
            "tags": []
          }
        },
        {
          "output_type": "display_data",
          "data": {
            "text/html": [
              "Find internal logs for this run at: <code>/root/.keras/datasets/inaturalist_12K/valid/wandb/run-20210415_230850-01emoqkb/logs/debug-internal.log</code>"
            ],
            "text/plain": [
              "<IPython.core.display.HTML object>"
            ]
          },
          "metadata": {
            "tags": []
          }
        },
        {
          "output_type": "display_data",
          "data": {
            "text/html": [
              "<h3>Run summary:</h3><br/><style>\n",
              "    table.wandb td:nth-child(1) { padding: 0 10px; text-align: right }\n",
              "    </style><table class=\"wandb\">\n",
              "<tr><td>epoch</td><td>9</td></tr><tr><td>loss</td><td>0.04591</td></tr><tr><td>accuracy</td><td>0.986</td></tr><tr><td>val_loss</td><td>1.69345</td></tr><tr><td>val_accuracy</td><td>0.7017</td></tr><tr><td>_runtime</td><td>1837</td></tr><tr><td>_timestamp</td><td>1618529967</td></tr><tr><td>_step</td><td>9</td></tr><tr><td>best_val_loss</td><td>0.95293</td></tr><tr><td>best_epoch</td><td>0</td></tr></table>"
            ],
            "text/plain": [
              "<IPython.core.display.HTML object>"
            ]
          },
          "metadata": {
            "tags": []
          }
        },
        {
          "output_type": "display_data",
          "data": {
            "text/html": [
              "<h3>Run history:</h3><br/><style>\n",
              "    table.wandb td:nth-child(1) { padding: 0 10px; text-align: right }\n",
              "    </style><table class=\"wandb\">\n",
              "<tr><td>epoch</td><td>▁▂▃▃▄▅▆▆▇█</td></tr><tr><td>loss</td><td>█▄▂▂▁▁▁▁▁▁</td></tr><tr><td>accuracy</td><td>▁▅▇███████</td></tr><tr><td>val_loss</td><td>▁▃▄▇▇▇█▇▇█</td></tr><tr><td>val_accuracy</td><td>▄▃▁▇▆▅▄█▆▄</td></tr><tr><td>_runtime</td><td>▁▂▃▃▄▅▆▆▇█</td></tr><tr><td>_timestamp</td><td>▁▂▃▃▄▅▆▆▇█</td></tr><tr><td>_step</td><td>▁▂▃▃▄▅▆▆▇█</td></tr></table><br/>"
            ],
            "text/plain": [
              "<IPython.core.display.HTML object>"
            ]
          },
          "metadata": {
            "tags": []
          }
        },
        {
          "output_type": "display_data",
          "data": {
            "text/html": [
              "Synced 5 W&B file(s), 1 media file(s), 0 artifact file(s) and 1 other file(s)"
            ],
            "text/plain": [
              "<IPython.core.display.HTML object>"
            ]
          },
          "metadata": {
            "tags": []
          }
        },
        {
          "output_type": "display_data",
          "data": {
            "text/html": [
              "\n",
              "                    <br/>Synced <strong style=\"color:#cdcd00\">ethereal-sweep-22</strong>: <a href=\"https://wandb.ai/pranayrajparisha/pretrained/runs/01emoqkb\" target=\"_blank\">https://wandb.ai/pranayrajparisha/pretrained/runs/01emoqkb</a><br/>\n",
              "                "
            ],
            "text/plain": [
              "<IPython.core.display.HTML object>"
            ]
          },
          "metadata": {
            "tags": []
          }
        },
        {
          "output_type": "stream",
          "text": [
            "\u001b[34m\u001b[1mwandb\u001b[0m: Agent Starting Run: 07hzj7ow with config:\n",
            "\u001b[34m\u001b[1mwandb\u001b[0m: \tactivation: relu\n",
            "\u001b[34m\u001b[1mwandb\u001b[0m: \tactivation2: softmax\n",
            "\u001b[34m\u001b[1mwandb\u001b[0m: \tbase_model: InceptionV3\n",
            "\u001b[34m\u001b[1mwandb\u001b[0m: \tdropout: 0.2\n",
            "\u001b[34m\u001b[1mwandb\u001b[0m: \tepoch: 10\n",
            "\u001b[34m\u001b[1mwandb\u001b[0m: \tinput_shape: [180, 180, 3]\n",
            "\u001b[34m\u001b[1mwandb\u001b[0m: \tl_rate: 5e-05\n",
            "\u001b[34m\u001b[1mwandb\u001b[0m: \tnum_dense_neuron: 256\n",
            "\u001b[34m\u001b[1mwandb\u001b[0m: \tnum_f: -5\n",
            "\u001b[34m\u001b[1mwandb\u001b[0m: \tpooling: max\n"
          ],
          "name": "stderr"
        },
        {
          "output_type": "display_data",
          "data": {
            "text/html": [
              "\n",
              "                Tracking run with wandb version 0.10.26<br/>\n",
              "                Syncing run <strong style=\"color:#cdcd00\">sparkling-sweep-23</strong> to <a href=\"https://wandb.ai\" target=\"_blank\">Weights & Biases</a> <a href=\"https://docs.wandb.com/integrations/jupyter.html\" target=\"_blank\">(Documentation)</a>.<br/>\n",
              "                Project page: <a href=\"https://wandb.ai/pranayrajparisha/pretrained\" target=\"_blank\">https://wandb.ai/pranayrajparisha/pretrained</a><br/>\n",
              "                Sweep page: <a href=\"https://wandb.ai/pranayrajparisha/pretrained/sweeps/do6zfb98\" target=\"_blank\">https://wandb.ai/pranayrajparisha/pretrained/sweeps/do6zfb98</a><br/>\n",
              "Run page: <a href=\"https://wandb.ai/pranayrajparisha/pretrained/runs/07hzj7ow\" target=\"_blank\">https://wandb.ai/pranayrajparisha/pretrained/runs/07hzj7ow</a><br/>\n",
              "                Run data is saved locally in <code>/root/.keras/datasets/inaturalist_12K/valid/wandb/run-20210415_233957-07hzj7ow</code><br/><br/>\n",
              "            "
            ],
            "text/plain": [
              "<IPython.core.display.HTML object>"
            ]
          },
          "metadata": {
            "tags": []
          }
        },
        {
          "output_type": "stream",
          "text": [
            "Epoch 1/10\n",
            "282/282 [==============================] - 118s 388ms/step - loss: 1.6989 - accuracy: 0.4236 - val_loss: 1.0660 - val_accuracy: 0.6476\n",
            "Epoch 2/10\n",
            "282/282 [==============================] - 110s 382ms/step - loss: 0.7845 - accuracy: 0.7357 - val_loss: 1.0927 - val_accuracy: 0.6647\n",
            "Epoch 3/10\n",
            "282/282 [==============================] - 110s 384ms/step - loss: 0.4184 - accuracy: 0.8564 - val_loss: 1.2817 - val_accuracy: 0.6496\n",
            "Epoch 4/10\n",
            "282/282 [==============================] - 110s 384ms/step - loss: 0.2159 - accuracy: 0.9300 - val_loss: 1.4586 - val_accuracy: 0.6677\n",
            "Epoch 5/10\n",
            "282/282 [==============================] - 110s 384ms/step - loss: 0.1421 - accuracy: 0.9532 - val_loss: 1.6458 - val_accuracy: 0.6577\n",
            "Epoch 6/10\n",
            "282/282 [==============================] - 110s 386ms/step - loss: 0.1337 - accuracy: 0.9562 - val_loss: 1.6720 - val_accuracy: 0.6547\n",
            "Epoch 7/10\n",
            "282/282 [==============================] - 110s 386ms/step - loss: 0.1615 - accuracy: 0.9493 - val_loss: 1.8720 - val_accuracy: 0.6557\n",
            "Epoch 8/10\n",
            "282/282 [==============================] - 110s 384ms/step - loss: 0.0862 - accuracy: 0.9716 - val_loss: 1.9390 - val_accuracy: 0.6597\n",
            "Epoch 9/10\n",
            "282/282 [==============================] - 110s 383ms/step - loss: 0.0783 - accuracy: 0.9751 - val_loss: 1.9059 - val_accuracy: 0.6657\n",
            "Epoch 10/10\n",
            "282/282 [==============================] - 108s 380ms/step - loss: 0.0718 - accuracy: 0.9780 - val_loss: 2.0968 - val_accuracy: 0.6657\n"
          ],
          "name": "stdout"
        },
        {
          "output_type": "display_data",
          "data": {
            "text/html": [
              "<br/>Waiting for W&B process to finish, PID 3672<br/>Program ended successfully."
            ],
            "text/plain": [
              "<IPython.core.display.HTML object>"
            ]
          },
          "metadata": {
            "tags": []
          }
        },
        {
          "output_type": "display_data",
          "data": {
            "application/vnd.jupyter.widget-view+json": {
              "model_id": "9ed5c3336c2a40a38a88c51346ce0c79",
              "version_major": 2,
              "version_minor": 0
            },
            "text/plain": [
              "VBox(children=(Label(value=' 346.57MB of 346.57MB uploaded (0.00MB deduped)\\r'), FloatProgress(value=1.0, max=…"
            ]
          },
          "metadata": {
            "tags": []
          }
        },
        {
          "output_type": "display_data",
          "data": {
            "text/html": [
              "Find user logs for this run at: <code>/root/.keras/datasets/inaturalist_12K/valid/wandb/run-20210415_233957-07hzj7ow/logs/debug.log</code>"
            ],
            "text/plain": [
              "<IPython.core.display.HTML object>"
            ]
          },
          "metadata": {
            "tags": []
          }
        },
        {
          "output_type": "display_data",
          "data": {
            "text/html": [
              "Find internal logs for this run at: <code>/root/.keras/datasets/inaturalist_12K/valid/wandb/run-20210415_233957-07hzj7ow/logs/debug-internal.log</code>"
            ],
            "text/plain": [
              "<IPython.core.display.HTML object>"
            ]
          },
          "metadata": {
            "tags": []
          }
        },
        {
          "output_type": "display_data",
          "data": {
            "text/html": [
              "<h3>Run summary:</h3><br/><style>\n",
              "    table.wandb td:nth-child(1) { padding: 0 10px; text-align: right }\n",
              "    </style><table class=\"wandb\">\n",
              "<tr><td>epoch</td><td>9</td></tr><tr><td>loss</td><td>0.08367</td></tr><tr><td>accuracy</td><td>0.97267</td></tr><tr><td>val_loss</td><td>2.09678</td></tr><tr><td>val_accuracy</td><td>0.66567</td></tr><tr><td>_runtime</td><td>1116</td></tr><tr><td>_timestamp</td><td>1618531113</td></tr><tr><td>_step</td><td>9</td></tr><tr><td>best_val_loss</td><td>1.06602</td></tr><tr><td>best_epoch</td><td>0</td></tr></table>"
            ],
            "text/plain": [
              "<IPython.core.display.HTML object>"
            ]
          },
          "metadata": {
            "tags": []
          }
        },
        {
          "output_type": "display_data",
          "data": {
            "text/html": [
              "<h3>Run history:</h3><br/><style>\n",
              "    table.wandb td:nth-child(1) { padding: 0 10px; text-align: right }\n",
              "    </style><table class=\"wandb\">\n",
              "<tr><td>epoch</td><td>▁▂▃▃▄▅▆▆▇█</td></tr><tr><td>loss</td><td>█▄▃▂▁▁▁▁▁▁</td></tr><tr><td>accuracy</td><td>▁▅▆▇██████</td></tr><tr><td>val_loss</td><td>▁▁▂▄▅▅▆▇▇█</td></tr><tr><td>val_accuracy</td><td>▁▇▂█▅▃▄▅▇▇</td></tr><tr><td>_runtime</td><td>▁▂▃▃▄▅▆▆▇█</td></tr><tr><td>_timestamp</td><td>▁▂▃▃▄▅▆▆▇█</td></tr><tr><td>_step</td><td>▁▂▃▃▄▅▆▆▇█</td></tr></table><br/>"
            ],
            "text/plain": [
              "<IPython.core.display.HTML object>"
            ]
          },
          "metadata": {
            "tags": []
          }
        },
        {
          "output_type": "display_data",
          "data": {
            "text/html": [
              "Synced 5 W&B file(s), 1 media file(s), 0 artifact file(s) and 1 other file(s)"
            ],
            "text/plain": [
              "<IPython.core.display.HTML object>"
            ]
          },
          "metadata": {
            "tags": []
          }
        },
        {
          "output_type": "display_data",
          "data": {
            "text/html": [
              "\n",
              "                    <br/>Synced <strong style=\"color:#cdcd00\">sparkling-sweep-23</strong>: <a href=\"https://wandb.ai/pranayrajparisha/pretrained/runs/07hzj7ow\" target=\"_blank\">https://wandb.ai/pranayrajparisha/pretrained/runs/07hzj7ow</a><br/>\n",
              "                "
            ],
            "text/plain": [
              "<IPython.core.display.HTML object>"
            ]
          },
          "metadata": {
            "tags": []
          }
        },
        {
          "output_type": "stream",
          "text": [
            "\u001b[34m\u001b[1mwandb\u001b[0m: Agent Starting Run: n0rgga09 with config:\n",
            "\u001b[34m\u001b[1mwandb\u001b[0m: \tactivation: relu\n",
            "\u001b[34m\u001b[1mwandb\u001b[0m: \tactivation2: softmax\n",
            "\u001b[34m\u001b[1mwandb\u001b[0m: \tbase_model: ResNet50\n",
            "\u001b[34m\u001b[1mwandb\u001b[0m: \tdropout: 0.1\n",
            "\u001b[34m\u001b[1mwandb\u001b[0m: \tepoch: 10\n",
            "\u001b[34m\u001b[1mwandb\u001b[0m: \tinput_shape: [180, 180, 3]\n",
            "\u001b[34m\u001b[1mwandb\u001b[0m: \tl_rate: 0.0001\n",
            "\u001b[34m\u001b[1mwandb\u001b[0m: \tnum_dense_neuron: 1014\n",
            "\u001b[34m\u001b[1mwandb\u001b[0m: \tnum_f: 25\n",
            "\u001b[34m\u001b[1mwandb\u001b[0m: \tpooling: no pooling\n"
          ],
          "name": "stderr"
        },
        {
          "output_type": "display_data",
          "data": {
            "text/html": [
              "\n",
              "                Tracking run with wandb version 0.10.26<br/>\n",
              "                Syncing run <strong style=\"color:#cdcd00\">comic-sweep-24</strong> to <a href=\"https://wandb.ai\" target=\"_blank\">Weights & Biases</a> <a href=\"https://docs.wandb.com/integrations/jupyter.html\" target=\"_blank\">(Documentation)</a>.<br/>\n",
              "                Project page: <a href=\"https://wandb.ai/pranayrajparisha/pretrained\" target=\"_blank\">https://wandb.ai/pranayrajparisha/pretrained</a><br/>\n",
              "                Sweep page: <a href=\"https://wandb.ai/pranayrajparisha/pretrained/sweeps/do6zfb98\" target=\"_blank\">https://wandb.ai/pranayrajparisha/pretrained/sweeps/do6zfb98</a><br/>\n",
              "Run page: <a href=\"https://wandb.ai/pranayrajparisha/pretrained/runs/n0rgga09\" target=\"_blank\">https://wandb.ai/pranayrajparisha/pretrained/runs/n0rgga09</a><br/>\n",
              "                Run data is saved locally in <code>/root/.keras/datasets/inaturalist_12K/valid/wandb/run-20210415_235844-n0rgga09</code><br/><br/>\n",
              "            "
            ],
            "text/plain": [
              "<IPython.core.display.HTML object>"
            ]
          },
          "metadata": {
            "tags": []
          }
        },
        {
          "output_type": "stream",
          "text": [
            "Epoch 1/10\n",
            "282/282 [==============================] - 143s 481ms/step - loss: 2.0913 - accuracy: 0.5000 - val_loss: 1.0678 - val_accuracy: 0.6527\n",
            "Epoch 2/10\n",
            "282/282 [==============================] - 141s 491ms/step - loss: 0.3244 - accuracy: 0.8989 - val_loss: 1.3667 - val_accuracy: 0.6617\n",
            "Epoch 3/10\n",
            "282/282 [==============================] - 139s 486ms/step - loss: 0.0894 - accuracy: 0.9708 - val_loss: 1.3531 - val_accuracy: 0.6777\n",
            "Epoch 4/10\n",
            "282/282 [==============================] - 139s 486ms/step - loss: 0.0834 - accuracy: 0.9728 - val_loss: 1.4789 - val_accuracy: 0.6346\n",
            "Epoch 5/10\n",
            "282/282 [==============================] - 138s 485ms/step - loss: 0.0876 - accuracy: 0.9720 - val_loss: 1.5263 - val_accuracy: 0.6356\n",
            "Epoch 6/10\n",
            "282/282 [==============================] - 138s 484ms/step - loss: 0.1233 - accuracy: 0.9596 - val_loss: 1.8708 - val_accuracy: 0.6296\n",
            "Epoch 7/10\n",
            "282/282 [==============================] - 138s 485ms/step - loss: 0.0745 - accuracy: 0.9763 - val_loss: 1.8635 - val_accuracy: 0.6517\n",
            "Epoch 8/10\n",
            "282/282 [==============================] - 138s 486ms/step - loss: 0.0335 - accuracy: 0.9892 - val_loss: 1.8174 - val_accuracy: 0.6456\n",
            "Epoch 9/10\n",
            "282/282 [==============================] - 138s 484ms/step - loss: 0.0445 - accuracy: 0.9858 - val_loss: 1.8679 - val_accuracy: 0.6246\n",
            "Epoch 10/10\n",
            "282/282 [==============================] - 138s 485ms/step - loss: 0.0849 - accuracy: 0.9765 - val_loss: 1.9738 - val_accuracy: 0.6086\n"
          ],
          "name": "stdout"
        },
        {
          "output_type": "display_data",
          "data": {
            "text/html": [
              "<br/>Waiting for W&B process to finish, PID 3925<br/>Program ended successfully."
            ],
            "text/plain": [
              "<IPython.core.display.HTML object>"
            ]
          },
          "metadata": {
            "tags": []
          }
        },
        {
          "output_type": "display_data",
          "data": {
            "application/vnd.jupyter.widget-view+json": {
              "model_id": "3fc066fecd8e491c99face351014c82d",
              "version_major": 2,
              "version_minor": 0
            },
            "text/plain": [
              "VBox(children=(Label(value=' 7.90MB of 7.90MB uploaded (0.00MB deduped)\\r'), FloatProgress(value=1.0, max=1.0)…"
            ]
          },
          "metadata": {
            "tags": []
          }
        },
        {
          "output_type": "display_data",
          "data": {
            "text/html": [
              "Find user logs for this run at: <code>/root/.keras/datasets/inaturalist_12K/valid/wandb/run-20210415_235844-n0rgga09/logs/debug.log</code>"
            ],
            "text/plain": [
              "<IPython.core.display.HTML object>"
            ]
          },
          "metadata": {
            "tags": []
          }
        },
        {
          "output_type": "display_data",
          "data": {
            "text/html": [
              "Find internal logs for this run at: <code>/root/.keras/datasets/inaturalist_12K/valid/wandb/run-20210415_235844-n0rgga09/logs/debug-internal.log</code>"
            ],
            "text/plain": [
              "<IPython.core.display.HTML object>"
            ]
          },
          "metadata": {
            "tags": []
          }
        },
        {
          "output_type": "display_data",
          "data": {
            "text/html": [
              "<h3>Run summary:</h3><br/><style>\n",
              "    table.wandb td:nth-child(1) { padding: 0 10px; text-align: right }\n",
              "    </style><table class=\"wandb\">\n",
              "<tr><td>epoch</td><td>9</td></tr><tr><td>loss</td><td>0.08252</td></tr><tr><td>accuracy</td><td>0.97533</td></tr><tr><td>val_loss</td><td>1.9738</td></tr><tr><td>val_accuracy</td><td>0.60861</td></tr><tr><td>_runtime</td><td>1402</td></tr><tr><td>_timestamp</td><td>1618532527</td></tr><tr><td>_step</td><td>9</td></tr><tr><td>best_val_loss</td><td>1.06779</td></tr><tr><td>best_epoch</td><td>0</td></tr></table>"
            ],
            "text/plain": [
              "<IPython.core.display.HTML object>"
            ]
          },
          "metadata": {
            "tags": []
          }
        },
        {
          "output_type": "display_data",
          "data": {
            "text/html": [
              "<h3>Run history:</h3><br/><style>\n",
              "    table.wandb td:nth-child(1) { padding: 0 10px; text-align: right }\n",
              "    </style><table class=\"wandb\">\n",
              "<tr><td>epoch</td><td>▁▂▃▃▄▅▆▆▇█</td></tr><tr><td>loss</td><td>█▂▁▁▁▁▁▁▁▁</td></tr><tr><td>accuracy</td><td>▁▇████████</td></tr><tr><td>val_loss</td><td>▁▃▃▄▅▇▇▇▇█</td></tr><tr><td>val_accuracy</td><td>▅▆█▄▄▃▅▅▃▁</td></tr><tr><td>_runtime</td><td>▁▂▃▃▄▅▆▆▇█</td></tr><tr><td>_timestamp</td><td>▁▂▃▃▄▅▆▆▇█</td></tr><tr><td>_step</td><td>▁▂▃▃▄▅▆▆▇█</td></tr></table><br/>"
            ],
            "text/plain": [
              "<IPython.core.display.HTML object>"
            ]
          },
          "metadata": {
            "tags": []
          }
        },
        {
          "output_type": "display_data",
          "data": {
            "text/html": [
              "Synced 5 W&B file(s), 1 media file(s), 0 artifact file(s) and 1 other file(s)"
            ],
            "text/plain": [
              "<IPython.core.display.HTML object>"
            ]
          },
          "metadata": {
            "tags": []
          }
        },
        {
          "output_type": "display_data",
          "data": {
            "text/html": [
              "\n",
              "                    <br/>Synced <strong style=\"color:#cdcd00\">comic-sweep-24</strong>: <a href=\"https://wandb.ai/pranayrajparisha/pretrained/runs/n0rgga09\" target=\"_blank\">https://wandb.ai/pranayrajparisha/pretrained/runs/n0rgga09</a><br/>\n",
              "                "
            ],
            "text/plain": [
              "<IPython.core.display.HTML object>"
            ]
          },
          "metadata": {
            "tags": []
          }
        },
        {
          "output_type": "stream",
          "text": [
            "\u001b[34m\u001b[1mwandb\u001b[0m: Agent Starting Run: j5808tua with config:\n",
            "\u001b[34m\u001b[1mwandb\u001b[0m: \tactivation: relu\n",
            "\u001b[34m\u001b[1mwandb\u001b[0m: \tactivation2: softmax\n",
            "\u001b[34m\u001b[1mwandb\u001b[0m: \tbase_model: MobileNet\n",
            "\u001b[34m\u001b[1mwandb\u001b[0m: \tdropout: 0.1\n",
            "\u001b[34m\u001b[1mwandb\u001b[0m: \tepoch: 5\n",
            "\u001b[34m\u001b[1mwandb\u001b[0m: \tinput_shape: [180, 180, 3]\n",
            "\u001b[34m\u001b[1mwandb\u001b[0m: \tl_rate: 5e-05\n",
            "\u001b[34m\u001b[1mwandb\u001b[0m: \tnum_dense_neuron: 512\n",
            "\u001b[34m\u001b[1mwandb\u001b[0m: \tnum_f: 5\n",
            "\u001b[34m\u001b[1mwandb\u001b[0m: \tpooling: avg\n"
          ],
          "name": "stderr"
        },
        {
          "output_type": "display_data",
          "data": {
            "text/html": [
              "\n",
              "                Tracking run with wandb version 0.10.26<br/>\n",
              "                Syncing run <strong style=\"color:#cdcd00\">sandy-sweep-25</strong> to <a href=\"https://wandb.ai\" target=\"_blank\">Weights & Biases</a> <a href=\"https://docs.wandb.com/integrations/jupyter.html\" target=\"_blank\">(Documentation)</a>.<br/>\n",
              "                Project page: <a href=\"https://wandb.ai/pranayrajparisha/pretrained\" target=\"_blank\">https://wandb.ai/pranayrajparisha/pretrained</a><br/>\n",
              "                Sweep page: <a href=\"https://wandb.ai/pranayrajparisha/pretrained/sweeps/do6zfb98\" target=\"_blank\">https://wandb.ai/pranayrajparisha/pretrained/sweeps/do6zfb98</a><br/>\n",
              "Run page: <a href=\"https://wandb.ai/pranayrajparisha/pretrained/runs/j5808tua\" target=\"_blank\">https://wandb.ai/pranayrajparisha/pretrained/runs/j5808tua</a><br/>\n",
              "                Run data is saved locally in <code>/root/.keras/datasets/inaturalist_12K/valid/wandb/run-20210416_002240-j5808tua</code><br/><br/>\n",
              "            "
            ],
            "text/plain": [
              "<IPython.core.display.HTML object>"
            ]
          },
          "metadata": {
            "tags": []
          }
        },
        {
          "output_type": "stream",
          "text": [
            "WARNING:tensorflow:`input_shape` is undefined or non-square, or `rows` is not in [128, 160, 192, 224]. Weights for input shape (224, 224) will be loaded as the default.\n",
            "Epoch 1/5\n",
            "282/282 [==============================] - 93s 318ms/step - loss: 2.5441 - accuracy: 0.2660 - val_loss: 1.8602 - val_accuracy: 0.3684\n",
            "Epoch 2/5\n",
            "282/282 [==============================] - 91s 319ms/step - loss: 1.1738 - accuracy: 0.6010 - val_loss: 1.7842 - val_accuracy: 0.4174\n",
            "Epoch 3/5\n",
            "282/282 [==============================] - 91s 319ms/step - loss: 0.6415 - accuracy: 0.7949 - val_loss: 1.9678 - val_accuracy: 0.4434\n",
            "Epoch 4/5\n",
            "282/282 [==============================] - 91s 319ms/step - loss: 0.3131 - accuracy: 0.9079 - val_loss: 2.1537 - val_accuracy: 0.4314\n",
            "Epoch 5/5\n",
            "282/282 [==============================] - 92s 320ms/step - loss: 0.1685 - accuracy: 0.9553 - val_loss: 2.3472 - val_accuracy: 0.4304\n"
          ],
          "name": "stdout"
        },
        {
          "output_type": "display_data",
          "data": {
            "text/html": [
              "<br/>Waiting for W&B process to finish, PID 4242<br/>Program ended successfully."
            ],
            "text/plain": [
              "<IPython.core.display.HTML object>"
            ]
          },
          "metadata": {
            "tags": []
          }
        },
        {
          "output_type": "display_data",
          "data": {
            "application/vnd.jupyter.widget-view+json": {
              "model_id": "a893b2c39ef645f2bfb9ecf4119a2eda",
              "version_major": 2,
              "version_minor": 0
            },
            "text/plain": [
              "VBox(children=(Label(value=' 0.02MB of 0.02MB uploaded (0.00MB deduped)\\r'), FloatProgress(value=1.0, max=1.0)…"
            ]
          },
          "metadata": {
            "tags": []
          }
        },
        {
          "output_type": "display_data",
          "data": {
            "text/html": [
              "Find user logs for this run at: <code>/root/.keras/datasets/inaturalist_12K/valid/wandb/run-20210416_002240-j5808tua/logs/debug.log</code>"
            ],
            "text/plain": [
              "<IPython.core.display.HTML object>"
            ]
          },
          "metadata": {
            "tags": []
          }
        },
        {
          "output_type": "display_data",
          "data": {
            "text/html": [
              "Find internal logs for this run at: <code>/root/.keras/datasets/inaturalist_12K/valid/wandb/run-20210416_002240-j5808tua/logs/debug-internal.log</code>"
            ],
            "text/plain": [
              "<IPython.core.display.HTML object>"
            ]
          },
          "metadata": {
            "tags": []
          }
        },
        {
          "output_type": "display_data",
          "data": {
            "text/html": [
              "<h3>Run summary:</h3><br/><style>\n",
              "    table.wandb td:nth-child(1) { padding: 0 10px; text-align: right }\n",
              "    </style><table class=\"wandb\">\n",
              "<tr><td>epoch</td><td>4</td></tr><tr><td>loss</td><td>0.1591</td></tr><tr><td>accuracy</td><td>0.95711</td></tr><tr><td>val_loss</td><td>2.34715</td></tr><tr><td>val_accuracy</td><td>0.43043</td></tr><tr><td>_runtime</td><td>465</td></tr><tr><td>_timestamp</td><td>1618533025</td></tr><tr><td>_step</td><td>4</td></tr><tr><td>best_val_loss</td><td>1.78419</td></tr><tr><td>best_epoch</td><td>1</td></tr></table>"
            ],
            "text/plain": [
              "<IPython.core.display.HTML object>"
            ]
          },
          "metadata": {
            "tags": []
          }
        },
        {
          "output_type": "display_data",
          "data": {
            "text/html": [
              "<h3>Run history:</h3><br/><style>\n",
              "    table.wandb td:nth-child(1) { padding: 0 10px; text-align: right }\n",
              "    </style><table class=\"wandb\">\n",
              "<tr><td>epoch</td><td>▁▃▅▆█</td></tr><tr><td>loss</td><td>█▅▃▁▁</td></tr><tr><td>accuracy</td><td>▁▄▆██</td></tr><tr><td>val_loss</td><td>▂▁▃▆█</td></tr><tr><td>val_accuracy</td><td>▁▆█▇▇</td></tr><tr><td>_runtime</td><td>▁▃▅▆█</td></tr><tr><td>_timestamp</td><td>▁▃▅▆█</td></tr><tr><td>_step</td><td>▁▃▅▆█</td></tr></table><br/>"
            ],
            "text/plain": [
              "<IPython.core.display.HTML object>"
            ]
          },
          "metadata": {
            "tags": []
          }
        },
        {
          "output_type": "display_data",
          "data": {
            "text/html": [
              "Synced 5 W&B file(s), 1 media file(s), 0 artifact file(s) and 1 other file(s)"
            ],
            "text/plain": [
              "<IPython.core.display.HTML object>"
            ]
          },
          "metadata": {
            "tags": []
          }
        },
        {
          "output_type": "display_data",
          "data": {
            "text/html": [
              "\n",
              "                    <br/>Synced <strong style=\"color:#cdcd00\">sandy-sweep-25</strong>: <a href=\"https://wandb.ai/pranayrajparisha/pretrained/runs/j5808tua\" target=\"_blank\">https://wandb.ai/pranayrajparisha/pretrained/runs/j5808tua</a><br/>\n",
              "                "
            ],
            "text/plain": [
              "<IPython.core.display.HTML object>"
            ]
          },
          "metadata": {
            "tags": []
          }
        },
        {
          "output_type": "stream",
          "text": [
            "\u001b[34m\u001b[1mwandb\u001b[0m: Agent Starting Run: fzohqh67 with config:\n",
            "\u001b[34m\u001b[1mwandb\u001b[0m: \tactivation: relu\n",
            "\u001b[34m\u001b[1mwandb\u001b[0m: \tactivation2: softmax\n",
            "\u001b[34m\u001b[1mwandb\u001b[0m: \tbase_model: InceptionV3\n",
            "\u001b[34m\u001b[1mwandb\u001b[0m: \tdropout: 0\n",
            "\u001b[34m\u001b[1mwandb\u001b[0m: \tepoch: 5\n",
            "\u001b[34m\u001b[1mwandb\u001b[0m: \tinput_shape: [180, 180, 3]\n",
            "\u001b[34m\u001b[1mwandb\u001b[0m: \tl_rate: 5e-05\n",
            "\u001b[34m\u001b[1mwandb\u001b[0m: \tnum_dense_neuron: 512\n",
            "\u001b[34m\u001b[1mwandb\u001b[0m: \tnum_f: -5\n",
            "\u001b[34m\u001b[1mwandb\u001b[0m: \tpooling: avg\n"
          ],
          "name": "stderr"
        },
        {
          "output_type": "display_data",
          "data": {
            "text/html": [
              "\n",
              "                Tracking run with wandb version 0.10.26<br/>\n",
              "                Syncing run <strong style=\"color:#cdcd00\">glorious-sweep-26</strong> to <a href=\"https://wandb.ai\" target=\"_blank\">Weights & Biases</a> <a href=\"https://docs.wandb.com/integrations/jupyter.html\" target=\"_blank\">(Documentation)</a>.<br/>\n",
              "                Project page: <a href=\"https://wandb.ai/pranayrajparisha/pretrained\" target=\"_blank\">https://wandb.ai/pranayrajparisha/pretrained</a><br/>\n",
              "                Sweep page: <a href=\"https://wandb.ai/pranayrajparisha/pretrained/sweeps/do6zfb98\" target=\"_blank\">https://wandb.ai/pranayrajparisha/pretrained/sweeps/do6zfb98</a><br/>\n",
              "Run page: <a href=\"https://wandb.ai/pranayrajparisha/pretrained/runs/fzohqh67\" target=\"_blank\">https://wandb.ai/pranayrajparisha/pretrained/runs/fzohqh67</a><br/>\n",
              "                Run data is saved locally in <code>/root/.keras/datasets/inaturalist_12K/valid/wandb/run-20210416_003035-fzohqh67</code><br/><br/>\n",
              "            "
            ],
            "text/plain": [
              "<IPython.core.display.HTML object>"
            ]
          },
          "metadata": {
            "tags": []
          }
        },
        {
          "output_type": "stream",
          "text": [
            "Epoch 1/5\n",
            "282/282 [==============================] - 120s 398ms/step - loss: 1.6535 - accuracy: 0.4492 - val_loss: 1.0448 - val_accuracy: 0.6627\n",
            "Epoch 2/5\n",
            "282/282 [==============================] - 113s 394ms/step - loss: 0.6984 - accuracy: 0.7590 - val_loss: 1.2076 - val_accuracy: 0.6446\n",
            "Epoch 3/5\n",
            "282/282 [==============================] - 113s 394ms/step - loss: 0.3464 - accuracy: 0.8863 - val_loss: 1.4395 - val_accuracy: 0.6396\n",
            "Epoch 4/5\n",
            "282/282 [==============================] - 113s 394ms/step - loss: 0.2002 - accuracy: 0.9336 - val_loss: 1.5455 - val_accuracy: 0.6577\n",
            "Epoch 5/5\n",
            "282/282 [==============================] - 113s 395ms/step - loss: 0.1386 - accuracy: 0.9525 - val_loss: 1.6710 - val_accuracy: 0.6587\n"
          ],
          "name": "stdout"
        },
        {
          "output_type": "display_data",
          "data": {
            "text/html": [
              "<br/>Waiting for W&B process to finish, PID 4363<br/>Program ended successfully."
            ],
            "text/plain": [
              "<IPython.core.display.HTML object>"
            ]
          },
          "metadata": {
            "tags": []
          }
        },
        {
          "output_type": "display_data",
          "data": {
            "application/vnd.jupyter.widget-view+json": {
              "model_id": "f8cfb199d0434de489ddf4c44d4a9bcb",
              "version_major": 2,
              "version_minor": 0
            },
            "text/plain": [
              "VBox(children=(Label(value=' 0.38MB of 0.38MB uploaded (0.00MB deduped)\\r'), FloatProgress(value=1.0, max=1.0)…"
            ]
          },
          "metadata": {
            "tags": []
          }
        },
        {
          "output_type": "display_data",
          "data": {
            "text/html": [
              "Find user logs for this run at: <code>/root/.keras/datasets/inaturalist_12K/valid/wandb/run-20210416_003035-fzohqh67/logs/debug.log</code>"
            ],
            "text/plain": [
              "<IPython.core.display.HTML object>"
            ]
          },
          "metadata": {
            "tags": []
          }
        },
        {
          "output_type": "display_data",
          "data": {
            "text/html": [
              "Find internal logs for this run at: <code>/root/.keras/datasets/inaturalist_12K/valid/wandb/run-20210416_003035-fzohqh67/logs/debug-internal.log</code>"
            ],
            "text/plain": [
              "<IPython.core.display.HTML object>"
            ]
          },
          "metadata": {
            "tags": []
          }
        },
        {
          "output_type": "display_data",
          "data": {
            "text/html": [
              "<h3>Run summary:</h3><br/><style>\n",
              "    table.wandb td:nth-child(1) { padding: 0 10px; text-align: right }\n",
              "    </style><table class=\"wandb\">\n",
              "<tr><td>epoch</td><td>4</td></tr><tr><td>loss</td><td>0.13166</td></tr><tr><td>accuracy</td><td>0.955</td></tr><tr><td>val_loss</td><td>1.67103</td></tr><tr><td>val_accuracy</td><td>0.65866</td></tr><tr><td>_runtime</td><td>579</td></tr><tr><td>_timestamp</td><td>1618533614</td></tr><tr><td>_step</td><td>4</td></tr><tr><td>best_val_loss</td><td>1.04476</td></tr><tr><td>best_epoch</td><td>0</td></tr></table>"
            ],
            "text/plain": [
              "<IPython.core.display.HTML object>"
            ]
          },
          "metadata": {
            "tags": []
          }
        },
        {
          "output_type": "display_data",
          "data": {
            "text/html": [
              "<h3>Run history:</h3><br/><style>\n",
              "    table.wandb td:nth-child(1) { padding: 0 10px; text-align: right }\n",
              "    </style><table class=\"wandb\">\n",
              "<tr><td>epoch</td><td>▁▃▅▆█</td></tr><tr><td>loss</td><td>█▄▂▁▁</td></tr><tr><td>accuracy</td><td>▁▅▇██</td></tr><tr><td>val_loss</td><td>▁▃▅▇█</td></tr><tr><td>val_accuracy</td><td>█▃▁▆▇</td></tr><tr><td>_runtime</td><td>▁▃▅▆█</td></tr><tr><td>_timestamp</td><td>▁▃▅▆█</td></tr><tr><td>_step</td><td>▁▃▅▆█</td></tr></table><br/>"
            ],
            "text/plain": [
              "<IPython.core.display.HTML object>"
            ]
          },
          "metadata": {
            "tags": []
          }
        },
        {
          "output_type": "display_data",
          "data": {
            "text/html": [
              "Synced 5 W&B file(s), 1 media file(s), 0 artifact file(s) and 1 other file(s)"
            ],
            "text/plain": [
              "<IPython.core.display.HTML object>"
            ]
          },
          "metadata": {
            "tags": []
          }
        },
        {
          "output_type": "display_data",
          "data": {
            "text/html": [
              "\n",
              "                    <br/>Synced <strong style=\"color:#cdcd00\">glorious-sweep-26</strong>: <a href=\"https://wandb.ai/pranayrajparisha/pretrained/runs/fzohqh67\" target=\"_blank\">https://wandb.ai/pranayrajparisha/pretrained/runs/fzohqh67</a><br/>\n",
              "                "
            ],
            "text/plain": [
              "<IPython.core.display.HTML object>"
            ]
          },
          "metadata": {
            "tags": []
          }
        },
        {
          "output_type": "stream",
          "text": [
            "\u001b[34m\u001b[1mwandb\u001b[0m: Agent Starting Run: 5ffbvne3 with config:\n",
            "\u001b[34m\u001b[1mwandb\u001b[0m: \tactivation: relu\n",
            "\u001b[34m\u001b[1mwandb\u001b[0m: \tactivation2: softmax\n",
            "\u001b[34m\u001b[1mwandb\u001b[0m: \tbase_model: ResNet50\n",
            "\u001b[34m\u001b[1mwandb\u001b[0m: \tdropout: 0.2\n",
            "\u001b[34m\u001b[1mwandb\u001b[0m: \tepoch: 10\n",
            "\u001b[34m\u001b[1mwandb\u001b[0m: \tinput_shape: [180, 180, 3]\n",
            "\u001b[34m\u001b[1mwandb\u001b[0m: \tl_rate: 0.0001\n",
            "\u001b[34m\u001b[1mwandb\u001b[0m: \tnum_dense_neuron: 1014\n",
            "\u001b[34m\u001b[1mwandb\u001b[0m: \tnum_f: 5\n",
            "\u001b[34m\u001b[1mwandb\u001b[0m: \tpooling: avg\n"
          ],
          "name": "stderr"
        },
        {
          "output_type": "display_data",
          "data": {
            "text/html": [
              "\n",
              "                Tracking run with wandb version 0.10.26<br/>\n",
              "                Syncing run <strong style=\"color:#cdcd00\">stilted-sweep-27</strong> to <a href=\"https://wandb.ai\" target=\"_blank\">Weights & Biases</a> <a href=\"https://docs.wandb.com/integrations/jupyter.html\" target=\"_blank\">(Documentation)</a>.<br/>\n",
              "                Project page: <a href=\"https://wandb.ai/pranayrajparisha/pretrained\" target=\"_blank\">https://wandb.ai/pranayrajparisha/pretrained</a><br/>\n",
              "                Sweep page: <a href=\"https://wandb.ai/pranayrajparisha/pretrained/sweeps/do6zfb98\" target=\"_blank\">https://wandb.ai/pranayrajparisha/pretrained/sweeps/do6zfb98</a><br/>\n",
              "Run page: <a href=\"https://wandb.ai/pranayrajparisha/pretrained/runs/5ffbvne3\" target=\"_blank\">https://wandb.ai/pranayrajparisha/pretrained/runs/5ffbvne3</a><br/>\n",
              "                Run data is saved locally in <code>/root/.keras/datasets/inaturalist_12K/valid/wandb/run-20210416_004027-5ffbvne3</code><br/><br/>\n",
              "            "
            ],
            "text/plain": [
              "<IPython.core.display.HTML object>"
            ]
          },
          "metadata": {
            "tags": []
          }
        },
        {
          "output_type": "stream",
          "text": [
            "Epoch 1/10\n",
            "282/282 [==============================] - 163s 556ms/step - loss: 2.3448 - accuracy: 0.4782 - val_loss: 1.0172 - val_accuracy: 0.6637\n",
            "Epoch 2/10\n",
            "282/282 [==============================] - 137s 479ms/step - loss: 0.3897 - accuracy: 0.8751 - val_loss: 1.3080 - val_accuracy: 0.6537\n",
            "Epoch 3/10\n",
            "282/282 [==============================] - 136s 477ms/step - loss: 0.1244 - accuracy: 0.9638 - val_loss: 1.4964 - val_accuracy: 0.6306\n",
            "Epoch 4/10\n",
            "282/282 [==============================] - 136s 477ms/step - loss: 0.1046 - accuracy: 0.9668 - val_loss: 1.5936 - val_accuracy: 0.6687\n",
            "Epoch 5/10\n",
            "282/282 [==============================] - 136s 478ms/step - loss: 0.1102 - accuracy: 0.9621 - val_loss: 1.8768 - val_accuracy: 0.6527\n",
            "Epoch 6/10\n",
            "282/282 [==============================] - 137s 480ms/step - loss: 0.0959 - accuracy: 0.9690 - val_loss: 1.5320 - val_accuracy: 0.6667\n",
            "Epoch 7/10\n",
            "282/282 [==============================] - 136s 478ms/step - loss: 0.0970 - accuracy: 0.9690 - val_loss: 1.7382 - val_accuracy: 0.6396\n",
            "Epoch 8/10\n",
            "282/282 [==============================] - 209s 737ms/step - loss: 0.0883 - accuracy: 0.9723 - val_loss: 1.7796 - val_accuracy: 0.6406\n",
            "Epoch 9/10\n",
            "282/282 [==============================] - 180s 631ms/step - loss: 0.0660 - accuracy: 0.9786 - val_loss: 1.9621 - val_accuracy: 0.6176\n",
            "Epoch 10/10\n",
            "282/282 [==============================] - 137s 480ms/step - loss: 0.0658 - accuracy: 0.9766 - val_loss: 2.0208 - val_accuracy: 0.6346\n"
          ],
          "name": "stdout"
        },
        {
          "output_type": "display_data",
          "data": {
            "text/html": [
              "<br/>Waiting for W&B process to finish, PID 4506<br/>Program ended successfully."
            ],
            "text/plain": [
              "<IPython.core.display.HTML object>"
            ]
          },
          "metadata": {
            "tags": []
          }
        },
        {
          "output_type": "display_data",
          "data": {
            "application/vnd.jupyter.widget-view+json": {
              "model_id": "078c601b254843189ea2016899145e1f",
              "version_minor": 0,
              "version_major": 2
            },
            "text/plain": [
              "VBox(children=(Label(value=' 96.25MB of 96.25MB uploaded (0.00MB deduped)\\r'), FloatProgress(value=1.0, max=1.…"
            ]
          },
          "metadata": {
            "tags": []
          }
        },
        {
          "output_type": "display_data",
          "data": {
            "text/html": [
              "Find user logs for this run at: <code>/root/.keras/datasets/inaturalist_12K/valid/wandb/run-20210416_004027-5ffbvne3/logs/debug.log</code>"
            ],
            "text/plain": [
              "<IPython.core.display.HTML object>"
            ]
          },
          "metadata": {
            "tags": []
          }
        },
        {
          "output_type": "display_data",
          "data": {
            "text/html": [
              "Find internal logs for this run at: <code>/root/.keras/datasets/inaturalist_12K/valid/wandb/run-20210416_004027-5ffbvne3/logs/debug-internal.log</code>"
            ],
            "text/plain": [
              "<IPython.core.display.HTML object>"
            ]
          },
          "metadata": {
            "tags": []
          }
        },
        {
          "output_type": "display_data",
          "data": {
            "text/html": [
              "<h3>Run summary:</h3><br/><style>\n",
              "    table.wandb td:nth-child(1) { padding: 0 10px; text-align: right }\n",
              "    </style><table class=\"wandb\">\n",
              "<tr><td>epoch</td><td>9</td></tr><tr><td>loss</td><td>0.06048</td></tr><tr><td>accuracy</td><td>0.97878</td></tr><tr><td>val_loss</td><td>2.02076</td></tr><tr><td>val_accuracy</td><td>0.63463</td></tr><tr><td>_runtime</td><td>1518</td></tr><tr><td>_timestamp</td><td>1618535145</td></tr><tr><td>_step</td><td>9</td></tr><tr><td>best_val_loss</td><td>1.01723</td></tr><tr><td>best_epoch</td><td>0</td></tr></table>"
            ],
            "text/plain": [
              "<IPython.core.display.HTML object>"
            ]
          },
          "metadata": {
            "tags": []
          }
        },
        {
          "output_type": "display_data",
          "data": {
            "text/html": [
              "<h3>Run history:</h3><br/><style>\n",
              "    table.wandb td:nth-child(1) { padding: 0 10px; text-align: right }\n",
              "    </style><table class=\"wandb\">\n",
              "<tr><td>epoch</td><td>▁▂▃▃▄▅▆▆▇█</td></tr><tr><td>loss</td><td>█▂▁▁▁▁▁▁▁▁</td></tr><tr><td>accuracy</td><td>▁▇████████</td></tr><tr><td>val_loss</td><td>▁▃▄▅▇▅▆▆██</td></tr><tr><td>val_accuracy</td><td>▇▆▃█▆█▄▄▁▃</td></tr><tr><td>_runtime</td><td>▁▂▂▃▄▅▅▆▇█</td></tr><tr><td>_timestamp</td><td>▁▂▂▃▄▅▅▆▇█</td></tr><tr><td>_step</td><td>▁▂▃▃▄▅▆▆▇█</td></tr></table><br/>"
            ],
            "text/plain": [
              "<IPython.core.display.HTML object>"
            ]
          },
          "metadata": {
            "tags": []
          }
        },
        {
          "output_type": "display_data",
          "data": {
            "text/html": [
              "Synced 5 W&B file(s), 1 media file(s), 0 artifact file(s) and 1 other file(s)"
            ],
            "text/plain": [
              "<IPython.core.display.HTML object>"
            ]
          },
          "metadata": {
            "tags": []
          }
        },
        {
          "output_type": "display_data",
          "data": {
            "text/html": [
              "\n",
              "                    <br/>Synced <strong style=\"color:#cdcd00\">stilted-sweep-27</strong>: <a href=\"https://wandb.ai/pranayrajparisha/pretrained/runs/5ffbvne3\" target=\"_blank\">https://wandb.ai/pranayrajparisha/pretrained/runs/5ffbvne3</a><br/>\n",
              "                "
            ],
            "text/plain": [
              "<IPython.core.display.HTML object>"
            ]
          },
          "metadata": {
            "tags": []
          }
        },
        {
          "output_type": "stream",
          "text": [
            "\u001b[34m\u001b[1mwandb\u001b[0m: Agent Starting Run: r9gdtkkb with config:\n",
            "\u001b[34m\u001b[1mwandb\u001b[0m: \tactivation: relu\n",
            "\u001b[34m\u001b[1mwandb\u001b[0m: \tactivation2: softmax\n",
            "\u001b[34m\u001b[1mwandb\u001b[0m: \tbase_model: InceptionV3\n",
            "\u001b[34m\u001b[1mwandb\u001b[0m: \tdropout: 0\n",
            "\u001b[34m\u001b[1mwandb\u001b[0m: \tepoch: 10\n",
            "\u001b[34m\u001b[1mwandb\u001b[0m: \tinput_shape: [180, 180, 3]\n",
            "\u001b[34m\u001b[1mwandb\u001b[0m: \tl_rate: 5e-05\n",
            "\u001b[34m\u001b[1mwandb\u001b[0m: \tnum_dense_neuron: 512\n",
            "\u001b[34m\u001b[1mwandb\u001b[0m: \tnum_f: 25\n",
            "\u001b[34m\u001b[1mwandb\u001b[0m: \tpooling: avg\n"
          ],
          "name": "stderr"
        },
        {
          "output_type": "display_data",
          "data": {
            "text/html": [
              "\n",
              "                Tracking run with wandb version 0.10.26<br/>\n",
              "                Syncing run <strong style=\"color:#cdcd00\">generous-sweep-28</strong> to <a href=\"https://wandb.ai\" target=\"_blank\">Weights & Biases</a> <a href=\"https://docs.wandb.com/integrations/jupyter.html\" target=\"_blank\">(Documentation)</a>.<br/>\n",
              "                Project page: <a href=\"https://wandb.ai/pranayrajparisha/pretrained\" target=\"_blank\">https://wandb.ai/pranayrajparisha/pretrained</a><br/>\n",
              "                Sweep page: <a href=\"https://wandb.ai/pranayrajparisha/pretrained/sweeps/do6zfb98\" target=\"_blank\">https://wandb.ai/pranayrajparisha/pretrained/sweeps/do6zfb98</a><br/>\n",
              "Run page: <a href=\"https://wandb.ai/pranayrajparisha/pretrained/runs/r9gdtkkb\" target=\"_blank\">https://wandb.ai/pranayrajparisha/pretrained/runs/r9gdtkkb</a><br/>\n",
              "                Run data is saved locally in <code>/root/.keras/datasets/inaturalist_12K/valid/wandb/run-20210416_010607-r9gdtkkb</code><br/><br/>\n",
              "            "
            ],
            "text/plain": [
              "<IPython.core.display.HTML object>"
            ]
          },
          "metadata": {
            "tags": []
          }
        },
        {
          "output_type": "stream",
          "text": [
            "Epoch 1/10\n",
            "282/282 [==============================] - 119s 391ms/step - loss: 1.6561 - accuracy: 0.4501 - val_loss: 1.0636 - val_accuracy: 0.6507\n",
            "Epoch 2/10\n",
            "282/282 [==============================] - 111s 387ms/step - loss: 0.6972 - accuracy: 0.7709 - val_loss: 1.2979 - val_accuracy: 0.6366\n",
            "Epoch 3/10\n",
            "282/282 [==============================] - 110s 385ms/step - loss: 0.3596 - accuracy: 0.8842 - val_loss: 1.4835 - val_accuracy: 0.6476\n",
            "Epoch 4/10\n",
            "282/282 [==============================] - 110s 386ms/step - loss: 0.2128 - accuracy: 0.9289 - val_loss: 1.5304 - val_accuracy: 0.6607\n",
            "Epoch 5/10\n",
            "282/282 [==============================] - 110s 386ms/step - loss: 0.1364 - accuracy: 0.9587 - val_loss: 1.6338 - val_accuracy: 0.6687\n",
            "Epoch 6/10\n",
            "282/282 [==============================] - 109s 381ms/step - loss: 0.1195 - accuracy: 0.9613 - val_loss: 1.7907 - val_accuracy: 0.6486\n",
            "Epoch 7/10\n",
            "282/282 [==============================] - 110s 384ms/step - loss: 0.0993 - accuracy: 0.9676 - val_loss: 1.7507 - val_accuracy: 0.6567\n",
            "Epoch 8/10\n",
            "282/282 [==============================] - 110s 385ms/step - loss: 0.1030 - accuracy: 0.9656 - val_loss: 1.7955 - val_accuracy: 0.6657\n",
            "Epoch 9/10\n",
            "282/282 [==============================] - 109s 382ms/step - loss: 0.0909 - accuracy: 0.9694 - val_loss: 1.9389 - val_accuracy: 0.6627\n",
            "Epoch 10/10\n",
            "282/282 [==============================] - 110s 384ms/step - loss: 0.1121 - accuracy: 0.9649 - val_loss: 1.8377 - val_accuracy: 0.6677\n"
          ],
          "name": "stdout"
        },
        {
          "output_type": "display_data",
          "data": {
            "text/html": [
              "<br/>Waiting for W&B process to finish, PID 4677<br/>Program ended successfully."
            ],
            "text/plain": [
              "<IPython.core.display.HTML object>"
            ]
          },
          "metadata": {
            "tags": []
          }
        },
        {
          "output_type": "display_data",
          "data": {
            "application/vnd.jupyter.widget-view+json": {
              "model_id": "24318b8f3f6d457b933bbc3518b1db29",
              "version_minor": 0,
              "version_major": 2
            },
            "text/plain": [
              "VBox(children=(Label(value=' 7.85MB of 7.85MB uploaded (0.00MB deduped)\\r'), FloatProgress(value=1.0, max=1.0)…"
            ]
          },
          "metadata": {
            "tags": []
          }
        },
        {
          "output_type": "display_data",
          "data": {
            "text/html": [
              "Find user logs for this run at: <code>/root/.keras/datasets/inaturalist_12K/valid/wandb/run-20210416_010607-r9gdtkkb/logs/debug.log</code>"
            ],
            "text/plain": [
              "<IPython.core.display.HTML object>"
            ]
          },
          "metadata": {
            "tags": []
          }
        },
        {
          "output_type": "display_data",
          "data": {
            "text/html": [
              "Find internal logs for this run at: <code>/root/.keras/datasets/inaturalist_12K/valid/wandb/run-20210416_010607-r9gdtkkb/logs/debug-internal.log</code>"
            ],
            "text/plain": [
              "<IPython.core.display.HTML object>"
            ]
          },
          "metadata": {
            "tags": []
          }
        },
        {
          "output_type": "display_data",
          "data": {
            "text/html": [
              "<h3>Run summary:</h3><br/><style>\n",
              "    table.wandb td:nth-child(1) { padding: 0 10px; text-align: right }\n",
              "    </style><table class=\"wandb\">\n",
              "<tr><td>epoch</td><td>9</td></tr><tr><td>loss</td><td>0.10331</td></tr><tr><td>accuracy</td><td>0.96833</td></tr><tr><td>val_loss</td><td>1.8377</td></tr><tr><td>val_accuracy</td><td>0.66767</td></tr><tr><td>_runtime</td><td>1115</td></tr><tr><td>_timestamp</td><td>1618536282</td></tr><tr><td>_step</td><td>9</td></tr><tr><td>best_val_loss</td><td>1.06357</td></tr><tr><td>best_epoch</td><td>0</td></tr></table>"
            ],
            "text/plain": [
              "<IPython.core.display.HTML object>"
            ]
          },
          "metadata": {
            "tags": []
          }
        },
        {
          "output_type": "display_data",
          "data": {
            "text/html": [
              "<h3>Run history:</h3><br/><style>\n",
              "    table.wandb td:nth-child(1) { padding: 0 10px; text-align: right }\n",
              "    </style><table class=\"wandb\">\n",
              "<tr><td>epoch</td><td>▁▂▃▃▄▅▆▆▇█</td></tr><tr><td>loss</td><td>█▄▂▂▁▁▁▁▁▁</td></tr><tr><td>accuracy</td><td>▁▅▇▇██████</td></tr><tr><td>val_loss</td><td>▁▃▄▅▆▇▆▇█▇</td></tr><tr><td>val_accuracy</td><td>▄▁▃▆█▄▅▇▇█</td></tr><tr><td>_runtime</td><td>▁▂▃▃▄▅▆▆▇█</td></tr><tr><td>_timestamp</td><td>▁▂▃▃▄▅▆▆▇█</td></tr><tr><td>_step</td><td>▁▂▃▃▄▅▆▆▇█</td></tr></table><br/>"
            ],
            "text/plain": [
              "<IPython.core.display.HTML object>"
            ]
          },
          "metadata": {
            "tags": []
          }
        },
        {
          "output_type": "display_data",
          "data": {
            "text/html": [
              "Synced 5 W&B file(s), 1 media file(s), 0 artifact file(s) and 1 other file(s)"
            ],
            "text/plain": [
              "<IPython.core.display.HTML object>"
            ]
          },
          "metadata": {
            "tags": []
          }
        },
        {
          "output_type": "display_data",
          "data": {
            "text/html": [
              "\n",
              "                    <br/>Synced <strong style=\"color:#cdcd00\">generous-sweep-28</strong>: <a href=\"https://wandb.ai/pranayrajparisha/pretrained/runs/r9gdtkkb\" target=\"_blank\">https://wandb.ai/pranayrajparisha/pretrained/runs/r9gdtkkb</a><br/>\n",
              "                "
            ],
            "text/plain": [
              "<IPython.core.display.HTML object>"
            ]
          },
          "metadata": {
            "tags": []
          }
        },
        {
          "output_type": "stream",
          "text": [
            "\u001b[34m\u001b[1mwandb\u001b[0m: Agent Starting Run: ooz3onh4 with config:\n",
            "\u001b[34m\u001b[1mwandb\u001b[0m: \tactivation: relu\n",
            "\u001b[34m\u001b[1mwandb\u001b[0m: \tactivation2: softmax\n",
            "\u001b[34m\u001b[1mwandb\u001b[0m: \tbase_model: Xception\n",
            "\u001b[34m\u001b[1mwandb\u001b[0m: \tdropout: 0\n",
            "\u001b[34m\u001b[1mwandb\u001b[0m: \tepoch: 5\n",
            "\u001b[34m\u001b[1mwandb\u001b[0m: \tinput_shape: [180, 180, 3]\n",
            "\u001b[34m\u001b[1mwandb\u001b[0m: \tl_rate: 0.0001\n",
            "\u001b[34m\u001b[1mwandb\u001b[0m: \tnum_dense_neuron: 1014\n",
            "\u001b[34m\u001b[1mwandb\u001b[0m: \tnum_f: -5\n",
            "\u001b[34m\u001b[1mwandb\u001b[0m: \tpooling: no pooling\n"
          ],
          "name": "stderr"
        },
        {
          "output_type": "display_data",
          "data": {
            "text/html": [
              "\n",
              "                Tracking run with wandb version 0.10.26<br/>\n",
              "                Syncing run <strong style=\"color:#cdcd00\">cosmic-sweep-29</strong> to <a href=\"https://wandb.ai\" target=\"_blank\">Weights & Biases</a> <a href=\"https://docs.wandb.com/integrations/jupyter.html\" target=\"_blank\">(Documentation)</a>.<br/>\n",
              "                Project page: <a href=\"https://wandb.ai/pranayrajparisha/pretrained\" target=\"_blank\">https://wandb.ai/pranayrajparisha/pretrained</a><br/>\n",
              "                Sweep page: <a href=\"https://wandb.ai/pranayrajparisha/pretrained/sweeps/do6zfb98\" target=\"_blank\">https://wandb.ai/pranayrajparisha/pretrained/sweeps/do6zfb98</a><br/>\n",
              "Run page: <a href=\"https://wandb.ai/pranayrajparisha/pretrained/runs/ooz3onh4\" target=\"_blank\">https://wandb.ai/pranayrajparisha/pretrained/runs/ooz3onh4</a><br/>\n",
              "                Run data is saved locally in <code>/root/.keras/datasets/inaturalist_12K/valid/wandb/run-20210416_012455-ooz3onh4</code><br/><br/>\n",
              "            "
            ],
            "text/plain": [
              "<IPython.core.display.HTML object>"
            ]
          },
          "metadata": {
            "tags": []
          }
        },
        {
          "output_type": "stream",
          "text": [
            "Epoch 1/5\n",
            "282/282 [==============================] - 184s 633ms/step - loss: 1.7119 - accuracy: 0.5204 - val_loss: 0.9188 - val_accuracy: 0.7017\n",
            "Epoch 2/5\n",
            "282/282 [==============================] - 179s 630ms/step - loss: 0.5524 - accuracy: 0.8199 - val_loss: 1.0677 - val_accuracy: 0.7157\n",
            "Epoch 3/5\n",
            "282/282 [==============================] - 179s 628ms/step - loss: 0.2301 - accuracy: 0.9192 - val_loss: 1.2837 - val_accuracy: 0.6937\n",
            "Epoch 4/5\n",
            "282/282 [==============================] - 179s 629ms/step - loss: 0.1255 - accuracy: 0.9586 - val_loss: 1.5127 - val_accuracy: 0.6797\n",
            "Epoch 5/5\n",
            "282/282 [==============================] - 180s 633ms/step - loss: 0.1259 - accuracy: 0.9597 - val_loss: 1.7060 - val_accuracy: 0.6877\n"
          ],
          "name": "stdout"
        },
        {
          "output_type": "display_data",
          "data": {
            "text/html": [
              "<br/>Waiting for W&B process to finish, PID 4732<br/>Program ended successfully."
            ],
            "text/plain": [
              "<IPython.core.display.HTML object>"
            ]
          },
          "metadata": {
            "tags": []
          }
        },
        {
          "output_type": "display_data",
          "data": {
            "application/vnd.jupyter.widget-view+json": {
              "model_id": "7023c9e403544af89c8cf9ba68da8507",
              "version_minor": 0,
              "version_major": 2
            },
            "text/plain": [
              "VBox(children=(Label(value=' 365.21MB of 365.21MB uploaded (0.00MB deduped)\\r'), FloatProgress(value=1.0, max=…"
            ]
          },
          "metadata": {
            "tags": []
          }
        },
        {
          "output_type": "display_data",
          "data": {
            "text/html": [
              "Find user logs for this run at: <code>/root/.keras/datasets/inaturalist_12K/valid/wandb/run-20210416_012455-ooz3onh4/logs/debug.log</code>"
            ],
            "text/plain": [
              "<IPython.core.display.HTML object>"
            ]
          },
          "metadata": {
            "tags": []
          }
        },
        {
          "output_type": "display_data",
          "data": {
            "text/html": [
              "Find internal logs for this run at: <code>/root/.keras/datasets/inaturalist_12K/valid/wandb/run-20210416_012455-ooz3onh4/logs/debug-internal.log</code>"
            ],
            "text/plain": [
              "<IPython.core.display.HTML object>"
            ]
          },
          "metadata": {
            "tags": []
          }
        },
        {
          "output_type": "display_data",
          "data": {
            "text/html": [
              "<h3>Run summary:</h3><br/><style>\n",
              "    table.wandb td:nth-child(1) { padding: 0 10px; text-align: right }\n",
              "    </style><table class=\"wandb\">\n",
              "<tr><td>epoch</td><td>4</td></tr><tr><td>loss</td><td>0.11082</td></tr><tr><td>accuracy</td><td>0.96456</td></tr><tr><td>val_loss</td><td>1.70605</td></tr><tr><td>val_accuracy</td><td>0.68769</td></tr><tr><td>_runtime</td><td>914</td></tr><tr><td>_timestamp</td><td>1618537209</td></tr><tr><td>_step</td><td>4</td></tr><tr><td>best_val_loss</td><td>0.91882</td></tr><tr><td>best_epoch</td><td>0</td></tr></table>"
            ],
            "text/plain": [
              "<IPython.core.display.HTML object>"
            ]
          },
          "metadata": {
            "tags": []
          }
        },
        {
          "output_type": "display_data",
          "data": {
            "text/html": [
              "<h3>Run history:</h3><br/><style>\n",
              "    table.wandb td:nth-child(1) { padding: 0 10px; text-align: right }\n",
              "    </style><table class=\"wandb\">\n",
              "<tr><td>epoch</td><td>▁▃▅▆█</td></tr><tr><td>loss</td><td>█▃▂▁▁</td></tr><tr><td>accuracy</td><td>▁▆▇██</td></tr><tr><td>val_loss</td><td>▁▂▄▆█</td></tr><tr><td>val_accuracy</td><td>▅█▄▁▃</td></tr><tr><td>_runtime</td><td>▁▃▅▆█</td></tr><tr><td>_timestamp</td><td>▁▃▅▆█</td></tr><tr><td>_step</td><td>▁▃▅▆█</td></tr></table><br/>"
            ],
            "text/plain": [
              "<IPython.core.display.HTML object>"
            ]
          },
          "metadata": {
            "tags": []
          }
        },
        {
          "output_type": "display_data",
          "data": {
            "text/html": [
              "Synced 5 W&B file(s), 1 media file(s), 0 artifact file(s) and 1 other file(s)"
            ],
            "text/plain": [
              "<IPython.core.display.HTML object>"
            ]
          },
          "metadata": {
            "tags": []
          }
        },
        {
          "output_type": "display_data",
          "data": {
            "text/html": [
              "\n",
              "                    <br/>Synced <strong style=\"color:#cdcd00\">cosmic-sweep-29</strong>: <a href=\"https://wandb.ai/pranayrajparisha/pretrained/runs/ooz3onh4\" target=\"_blank\">https://wandb.ai/pranayrajparisha/pretrained/runs/ooz3onh4</a><br/>\n",
              "                "
            ],
            "text/plain": [
              "<IPython.core.display.HTML object>"
            ]
          },
          "metadata": {
            "tags": []
          }
        },
        {
          "output_type": "stream",
          "text": [
            "\u001b[34m\u001b[1mwandb\u001b[0m: Agent Starting Run: z2vonl17 with config:\n",
            "\u001b[34m\u001b[1mwandb\u001b[0m: \tactivation: relu\n",
            "\u001b[34m\u001b[1mwandb\u001b[0m: \tactivation2: softmax\n",
            "\u001b[34m\u001b[1mwandb\u001b[0m: \tbase_model: ResNet50\n",
            "\u001b[34m\u001b[1mwandb\u001b[0m: \tdropout: 0.1\n",
            "\u001b[34m\u001b[1mwandb\u001b[0m: \tepoch: 10\n",
            "\u001b[34m\u001b[1mwandb\u001b[0m: \tinput_shape: [180, 180, 3]\n",
            "\u001b[34m\u001b[1mwandb\u001b[0m: \tl_rate: 0.0001\n",
            "\u001b[34m\u001b[1mwandb\u001b[0m: \tnum_dense_neuron: 256\n",
            "\u001b[34m\u001b[1mwandb\u001b[0m: \tnum_f: -5\n",
            "\u001b[34m\u001b[1mwandb\u001b[0m: \tpooling: max\n"
          ],
          "name": "stderr"
        },
        {
          "output_type": "display_data",
          "data": {
            "text/html": [
              "\n",
              "                Tracking run with wandb version 0.10.26<br/>\n",
              "                Syncing run <strong style=\"color:#cdcd00\">pleasant-sweep-30</strong> to <a href=\"https://wandb.ai\" target=\"_blank\">Weights & Biases</a> <a href=\"https://docs.wandb.com/integrations/jupyter.html\" target=\"_blank\">(Documentation)</a>.<br/>\n",
              "                Project page: <a href=\"https://wandb.ai/pranayrajparisha/pretrained\" target=\"_blank\">https://wandb.ai/pranayrajparisha/pretrained</a><br/>\n",
              "                Sweep page: <a href=\"https://wandb.ai/pranayrajparisha/pretrained/sweeps/do6zfb98\" target=\"_blank\">https://wandb.ai/pranayrajparisha/pretrained/sweeps/do6zfb98</a><br/>\n",
              "Run page: <a href=\"https://wandb.ai/pranayrajparisha/pretrained/runs/z2vonl17\" target=\"_blank\">https://wandb.ai/pranayrajparisha/pretrained/runs/z2vonl17</a><br/>\n",
              "                Run data is saved locally in <code>/root/.keras/datasets/inaturalist_12K/valid/wandb/run-20210416_014032-z2vonl17</code><br/><br/>\n",
              "            "
            ],
            "text/plain": [
              "<IPython.core.display.HTML object>"
            ]
          },
          "metadata": {
            "tags": []
          }
        },
        {
          "output_type": "stream",
          "text": [
            "Epoch 1/10\n",
            "282/282 [==============================] - 138s 467ms/step - loss: 1.7728 - accuracy: 0.4861 - val_loss: 1.1350 - val_accuracy: 0.6406\n",
            "Epoch 2/10\n",
            "282/282 [==============================] - 132s 464ms/step - loss: 0.4428 - accuracy: 0.8535 - val_loss: 1.3006 - val_accuracy: 0.6527\n",
            "Epoch 3/10\n",
            "282/282 [==============================] - 132s 463ms/step - loss: 0.1343 - accuracy: 0.9545 - val_loss: 1.5149 - val_accuracy: 0.6617\n",
            "Epoch 4/10\n",
            "282/282 [==============================] - 131s 461ms/step - loss: 0.1231 - accuracy: 0.9588 - val_loss: 1.5358 - val_accuracy: 0.6476\n",
            "Epoch 5/10\n",
            "282/282 [==============================] - 132s 464ms/step - loss: 0.1061 - accuracy: 0.9646 - val_loss: 1.6897 - val_accuracy: 0.6306\n",
            "Epoch 6/10\n",
            "282/282 [==============================] - 132s 464ms/step - loss: 0.1109 - accuracy: 0.9656 - val_loss: 1.8485 - val_accuracy: 0.6286\n",
            "Epoch 7/10\n",
            "282/282 [==============================] - 132s 463ms/step - loss: 0.0988 - accuracy: 0.9685 - val_loss: 1.6587 - val_accuracy: 0.6547\n",
            "Epoch 8/10\n",
            "282/282 [==============================] - 132s 463ms/step - loss: 0.0739 - accuracy: 0.9764 - val_loss: 1.7397 - val_accuracy: 0.6446\n",
            "Epoch 9/10\n",
            "282/282 [==============================] - 133s 465ms/step - loss: 0.0388 - accuracy: 0.9887 - val_loss: 1.9575 - val_accuracy: 0.6316\n",
            "Epoch 10/10\n",
            "282/282 [==============================] - 132s 463ms/step - loss: 0.0484 - accuracy: 0.9841 - val_loss: 1.7160 - val_accuracy: 0.6346\n"
          ],
          "name": "stdout"
        },
        {
          "output_type": "display_data",
          "data": {
            "text/html": [
              "<br/>Waiting for W&B process to finish, PID 4777<br/>Program ended successfully."
            ],
            "text/plain": [
              "<IPython.core.display.HTML object>"
            ]
          },
          "metadata": {
            "tags": []
          }
        },
        {
          "output_type": "display_data",
          "data": {
            "application/vnd.jupyter.widget-view+json": {
              "model_id": "3e971956fba546cbbaf69e92b15a7b26",
              "version_minor": 0,
              "version_major": 2
            },
            "text/plain": [
              "VBox(children=(Label(value=' 19.29MB of 19.29MB uploaded (0.00MB deduped)\\r'), FloatProgress(value=1.0, max=1.…"
            ]
          },
          "metadata": {
            "tags": []
          }
        },
        {
          "output_type": "display_data",
          "data": {
            "text/html": [
              "Find user logs for this run at: <code>/root/.keras/datasets/inaturalist_12K/valid/wandb/run-20210416_014032-z2vonl17/logs/debug.log</code>"
            ],
            "text/plain": [
              "<IPython.core.display.HTML object>"
            ]
          },
          "metadata": {
            "tags": []
          }
        },
        {
          "output_type": "display_data",
          "data": {
            "text/html": [
              "Find internal logs for this run at: <code>/root/.keras/datasets/inaturalist_12K/valid/wandb/run-20210416_014032-z2vonl17/logs/debug-internal.log</code>"
            ],
            "text/plain": [
              "<IPython.core.display.HTML object>"
            ]
          },
          "metadata": {
            "tags": []
          }
        },
        {
          "output_type": "display_data",
          "data": {
            "text/html": [
              "<h3>Run summary:</h3><br/><style>\n",
              "    table.wandb td:nth-child(1) { padding: 0 10px; text-align: right }\n",
              "    </style><table class=\"wandb\">\n",
              "<tr><td>epoch</td><td>9</td></tr><tr><td>loss</td><td>0.05508</td></tr><tr><td>accuracy</td><td>0.98133</td></tr><tr><td>val_loss</td><td>1.71603</td></tr><tr><td>val_accuracy</td><td>0.63463</td></tr><tr><td>_runtime</td><td>1336</td></tr><tr><td>_timestamp</td><td>1618538568</td></tr><tr><td>_step</td><td>9</td></tr><tr><td>best_val_loss</td><td>1.13496</td></tr><tr><td>best_epoch</td><td>0</td></tr></table>"
            ],
            "text/plain": [
              "<IPython.core.display.HTML object>"
            ]
          },
          "metadata": {
            "tags": []
          }
        },
        {
          "output_type": "display_data",
          "data": {
            "text/html": [
              "<h3>Run history:</h3><br/><style>\n",
              "    table.wandb td:nth-child(1) { padding: 0 10px; text-align: right }\n",
              "    </style><table class=\"wandb\">\n",
              "<tr><td>epoch</td><td>▁▂▃▃▄▅▆▆▇█</td></tr><tr><td>loss</td><td>█▃▁▁▁▁▁▁▁▁</td></tr><tr><td>accuracy</td><td>▁▆█▇██████</td></tr><tr><td>val_loss</td><td>▁▂▄▄▆▇▅▆█▆</td></tr><tr><td>val_accuracy</td><td>▄▆█▅▁▁▇▄▂▂</td></tr><tr><td>_runtime</td><td>▁▂▃▃▄▅▆▆▇█</td></tr><tr><td>_timestamp</td><td>▁▂▃▃▄▅▆▆▇█</td></tr><tr><td>_step</td><td>▁▂▃▃▄▅▆▆▇█</td></tr></table><br/>"
            ],
            "text/plain": [
              "<IPython.core.display.HTML object>"
            ]
          },
          "metadata": {
            "tags": []
          }
        },
        {
          "output_type": "display_data",
          "data": {
            "text/html": [
              "Synced 5 W&B file(s), 1 media file(s), 0 artifact file(s) and 1 other file(s)"
            ],
            "text/plain": [
              "<IPython.core.display.HTML object>"
            ]
          },
          "metadata": {
            "tags": []
          }
        },
        {
          "output_type": "display_data",
          "data": {
            "text/html": [
              "\n",
              "                    <br/>Synced <strong style=\"color:#cdcd00\">pleasant-sweep-30</strong>: <a href=\"https://wandb.ai/pranayrajparisha/pretrained/runs/z2vonl17\" target=\"_blank\">https://wandb.ai/pranayrajparisha/pretrained/runs/z2vonl17</a><br/>\n",
              "                "
            ],
            "text/plain": [
              "<IPython.core.display.HTML object>"
            ]
          },
          "metadata": {
            "tags": []
          }
        },
        {
          "output_type": "stream",
          "text": [
            "\u001b[34m\u001b[1mwandb\u001b[0m: Agent Starting Run: zic0qsyf with config:\n",
            "\u001b[34m\u001b[1mwandb\u001b[0m: \tactivation: relu\n",
            "\u001b[34m\u001b[1mwandb\u001b[0m: \tactivation2: softmax\n",
            "\u001b[34m\u001b[1mwandb\u001b[0m: \tbase_model: MobileNet\n",
            "\u001b[34m\u001b[1mwandb\u001b[0m: \tdropout: 0\n",
            "\u001b[34m\u001b[1mwandb\u001b[0m: \tepoch: 10\n",
            "\u001b[34m\u001b[1mwandb\u001b[0m: \tinput_shape: [180, 180, 3]\n",
            "\u001b[34m\u001b[1mwandb\u001b[0m: \tl_rate: 5e-05\n",
            "\u001b[34m\u001b[1mwandb\u001b[0m: \tnum_dense_neuron: 256\n",
            "\u001b[34m\u001b[1mwandb\u001b[0m: \tnum_f: -5\n",
            "\u001b[34m\u001b[1mwandb\u001b[0m: \tpooling: max\n"
          ],
          "name": "stderr"
        },
        {
          "output_type": "display_data",
          "data": {
            "text/html": [
              "\n",
              "                Tracking run with wandb version 0.10.26<br/>\n",
              "                Syncing run <strong style=\"color:#cdcd00\">wild-sweep-31</strong> to <a href=\"https://wandb.ai\" target=\"_blank\">Weights & Biases</a> <a href=\"https://docs.wandb.com/integrations/jupyter.html\" target=\"_blank\">(Documentation)</a>.<br/>\n",
              "                Project page: <a href=\"https://wandb.ai/pranayrajparisha/pretrained\" target=\"_blank\">https://wandb.ai/pranayrajparisha/pretrained</a><br/>\n",
              "                Sweep page: <a href=\"https://wandb.ai/pranayrajparisha/pretrained/sweeps/do6zfb98\" target=\"_blank\">https://wandb.ai/pranayrajparisha/pretrained/sweeps/do6zfb98</a><br/>\n",
              "Run page: <a href=\"https://wandb.ai/pranayrajparisha/pretrained/runs/zic0qsyf\" target=\"_blank\">https://wandb.ai/pranayrajparisha/pretrained/runs/zic0qsyf</a><br/>\n",
              "                Run data is saved locally in <code>/root/.keras/datasets/inaturalist_12K/valid/wandb/run-20210416_020303-zic0qsyf</code><br/><br/>\n",
              "            "
            ],
            "text/plain": [
              "<IPython.core.display.HTML object>"
            ]
          },
          "metadata": {
            "tags": []
          }
        },
        {
          "output_type": "stream",
          "text": [
            "WARNING:tensorflow:`input_shape` is undefined or non-square, or `rows` is not in [128, 160, 192, 224]. Weights for input shape (224, 224) will be loaded as the default.\n",
            "Epoch 1/10\n",
            "282/282 [==============================] - 93s 315ms/step - loss: 2.3935 - accuracy: 0.2586 - val_loss: 1.8525 - val_accuracy: 0.3744\n",
            "Epoch 2/10\n",
            "282/282 [==============================] - 90s 314ms/step - loss: 1.2016 - accuracy: 0.5987 - val_loss: 1.8044 - val_accuracy: 0.4084\n",
            "Epoch 3/10\n",
            "282/282 [==============================] - 89s 310ms/step - loss: 0.6640 - accuracy: 0.7917 - val_loss: 1.8856 - val_accuracy: 0.4344\n",
            "Epoch 4/10\n",
            "282/282 [==============================] - 90s 313ms/step - loss: 0.3335 - accuracy: 0.9093 - val_loss: 2.0791 - val_accuracy: 0.4264\n",
            "Epoch 5/10\n",
            "123/282 [============>.................] - ETA: 46s - loss: 0.1726 - accuracy: 0.9580"
          ],
          "name": "stdout"
        }
      ]
    },
    {
      "cell_type": "code",
      "metadata": {
        "id": "auF09TWZwvF0"
      },
      "source": [
        "#https://wandb.ai/pranayrajparisha/pretrained/sweeps/do6zfb98?workspace=user-pranayrajparisha"
      ],
      "execution_count": null,
      "outputs": []
    }
  ]
}