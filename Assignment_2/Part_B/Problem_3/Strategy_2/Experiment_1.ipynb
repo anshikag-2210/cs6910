{
  "nbformat": 4,
  "nbformat_minor": 0,
  "metadata": {
    "colab": {
      "name": "Experiment_1.ipynb",
      "provenance": [],
      "collapsed_sections": []
    },
    "kernelspec": {
      "name": "python3",
      "display_name": "Python 3"
    },
    "language_info": {
      "name": "python"
    },
    "accelerator": "GPU",
    "widgets": {
      "application/vnd.jupyter.widget-state+json": {
        "b983891cf04c40e89e31ae5c15b81558": {
          "model_module": "@jupyter-widgets/controls",
          "model_name": "VBoxModel",
          "state": {
            "_view_name": "VBoxView",
            "_dom_classes": [],
            "_model_name": "VBoxModel",
            "_view_module": "@jupyter-widgets/controls",
            "_model_module_version": "1.5.0",
            "_view_count": null,
            "_view_module_version": "1.5.0",
            "box_style": "",
            "layout": "IPY_MODEL_48544a8074ed4ff194d111ef5a89118a",
            "_model_module": "@jupyter-widgets/controls",
            "children": [
              "IPY_MODEL_18bddd49da6e4e0c8528786fbd9eb701",
              "IPY_MODEL_287826e30ca64ac4aff1f36f9bd6309a"
            ]
          }
        },
        "48544a8074ed4ff194d111ef5a89118a": {
          "model_module": "@jupyter-widgets/base",
          "model_name": "LayoutModel",
          "state": {
            "_view_name": "LayoutView",
            "grid_template_rows": null,
            "right": null,
            "justify_content": null,
            "_view_module": "@jupyter-widgets/base",
            "overflow": null,
            "_model_module_version": "1.2.0",
            "_view_count": null,
            "flex_flow": null,
            "width": null,
            "min_width": null,
            "border": null,
            "align_items": null,
            "bottom": null,
            "_model_module": "@jupyter-widgets/base",
            "top": null,
            "grid_column": null,
            "overflow_y": null,
            "overflow_x": null,
            "grid_auto_flow": null,
            "grid_area": null,
            "grid_template_columns": null,
            "flex": null,
            "_model_name": "LayoutModel",
            "justify_items": null,
            "grid_row": null,
            "max_height": null,
            "align_content": null,
            "visibility": null,
            "align_self": null,
            "height": null,
            "min_height": null,
            "padding": null,
            "grid_auto_rows": null,
            "grid_gap": null,
            "max_width": null,
            "order": null,
            "_view_module_version": "1.2.0",
            "grid_template_areas": null,
            "object_position": null,
            "object_fit": null,
            "grid_auto_columns": null,
            "margin": null,
            "display": null,
            "left": null
          }
        },
        "18bddd49da6e4e0c8528786fbd9eb701": {
          "model_module": "@jupyter-widgets/controls",
          "model_name": "LabelModel",
          "state": {
            "_view_name": "LabelView",
            "style": "IPY_MODEL_e2f8be8cab7042d69495ce52b88bbc68",
            "_dom_classes": [],
            "description": "",
            "_model_name": "LabelModel",
            "placeholder": "​",
            "_view_module": "@jupyter-widgets/controls",
            "_model_module_version": "1.5.0",
            "value": " 309.79MB of 309.79MB uploaded (0.00MB deduped)\r",
            "_view_count": null,
            "_view_module_version": "1.5.0",
            "description_tooltip": null,
            "_model_module": "@jupyter-widgets/controls",
            "layout": "IPY_MODEL_e678f3577b4844bf9cab49d03030f82a"
          }
        },
        "287826e30ca64ac4aff1f36f9bd6309a": {
          "model_module": "@jupyter-widgets/controls",
          "model_name": "FloatProgressModel",
          "state": {
            "_view_name": "ProgressView",
            "style": "IPY_MODEL_02b3212592eb40fcb49adee699a56cb2",
            "_dom_classes": [],
            "description": "",
            "_model_name": "FloatProgressModel",
            "bar_style": "",
            "max": 1,
            "_view_module": "@jupyter-widgets/controls",
            "_model_module_version": "1.5.0",
            "value": 1,
            "_view_count": null,
            "_view_module_version": "1.5.0",
            "orientation": "horizontal",
            "min": 0,
            "description_tooltip": null,
            "_model_module": "@jupyter-widgets/controls",
            "layout": "IPY_MODEL_ca3d7d66b5b54d0c8617abe3bb481a91"
          }
        },
        "e2f8be8cab7042d69495ce52b88bbc68": {
          "model_module": "@jupyter-widgets/controls",
          "model_name": "DescriptionStyleModel",
          "state": {
            "_view_name": "StyleView",
            "_model_name": "DescriptionStyleModel",
            "description_width": "",
            "_view_module": "@jupyter-widgets/base",
            "_model_module_version": "1.5.0",
            "_view_count": null,
            "_view_module_version": "1.2.0",
            "_model_module": "@jupyter-widgets/controls"
          }
        },
        "e678f3577b4844bf9cab49d03030f82a": {
          "model_module": "@jupyter-widgets/base",
          "model_name": "LayoutModel",
          "state": {
            "_view_name": "LayoutView",
            "grid_template_rows": null,
            "right": null,
            "justify_content": null,
            "_view_module": "@jupyter-widgets/base",
            "overflow": null,
            "_model_module_version": "1.2.0",
            "_view_count": null,
            "flex_flow": null,
            "width": null,
            "min_width": null,
            "border": null,
            "align_items": null,
            "bottom": null,
            "_model_module": "@jupyter-widgets/base",
            "top": null,
            "grid_column": null,
            "overflow_y": null,
            "overflow_x": null,
            "grid_auto_flow": null,
            "grid_area": null,
            "grid_template_columns": null,
            "flex": null,
            "_model_name": "LayoutModel",
            "justify_items": null,
            "grid_row": null,
            "max_height": null,
            "align_content": null,
            "visibility": null,
            "align_self": null,
            "height": null,
            "min_height": null,
            "padding": null,
            "grid_auto_rows": null,
            "grid_gap": null,
            "max_width": null,
            "order": null,
            "_view_module_version": "1.2.0",
            "grid_template_areas": null,
            "object_position": null,
            "object_fit": null,
            "grid_auto_columns": null,
            "margin": null,
            "display": null,
            "left": null
          }
        },
        "02b3212592eb40fcb49adee699a56cb2": {
          "model_module": "@jupyter-widgets/controls",
          "model_name": "ProgressStyleModel",
          "state": {
            "_view_name": "StyleView",
            "_model_name": "ProgressStyleModel",
            "description_width": "",
            "_view_module": "@jupyter-widgets/base",
            "_model_module_version": "1.5.0",
            "_view_count": null,
            "_view_module_version": "1.2.0",
            "bar_color": null,
            "_model_module": "@jupyter-widgets/controls"
          }
        },
        "ca3d7d66b5b54d0c8617abe3bb481a91": {
          "model_module": "@jupyter-widgets/base",
          "model_name": "LayoutModel",
          "state": {
            "_view_name": "LayoutView",
            "grid_template_rows": null,
            "right": null,
            "justify_content": null,
            "_view_module": "@jupyter-widgets/base",
            "overflow": null,
            "_model_module_version": "1.2.0",
            "_view_count": null,
            "flex_flow": null,
            "width": null,
            "min_width": null,
            "border": null,
            "align_items": null,
            "bottom": null,
            "_model_module": "@jupyter-widgets/base",
            "top": null,
            "grid_column": null,
            "overflow_y": null,
            "overflow_x": null,
            "grid_auto_flow": null,
            "grid_area": null,
            "grid_template_columns": null,
            "flex": null,
            "_model_name": "LayoutModel",
            "justify_items": null,
            "grid_row": null,
            "max_height": null,
            "align_content": null,
            "visibility": null,
            "align_self": null,
            "height": null,
            "min_height": null,
            "padding": null,
            "grid_auto_rows": null,
            "grid_gap": null,
            "max_width": null,
            "order": null,
            "_view_module_version": "1.2.0",
            "grid_template_areas": null,
            "object_position": null,
            "object_fit": null,
            "grid_auto_columns": null,
            "margin": null,
            "display": null,
            "left": null
          }
        },
        "8494bf9cbe7c41debf395fa62ecd67b8": {
          "model_module": "@jupyter-widgets/controls",
          "model_name": "VBoxModel",
          "state": {
            "_view_name": "VBoxView",
            "_dom_classes": [],
            "_model_name": "VBoxModel",
            "_view_module": "@jupyter-widgets/controls",
            "_model_module_version": "1.5.0",
            "_view_count": null,
            "_view_module_version": "1.5.0",
            "box_style": "",
            "layout": "IPY_MODEL_0559e75151bd4d87a716cfd098fb603b",
            "_model_module": "@jupyter-widgets/controls",
            "children": [
              "IPY_MODEL_8d31fa041f624a919dc5237ec8caa373",
              "IPY_MODEL_b5001ef447434ee69c27da5157d2404a"
            ]
          }
        },
        "0559e75151bd4d87a716cfd098fb603b": {
          "model_module": "@jupyter-widgets/base",
          "model_name": "LayoutModel",
          "state": {
            "_view_name": "LayoutView",
            "grid_template_rows": null,
            "right": null,
            "justify_content": null,
            "_view_module": "@jupyter-widgets/base",
            "overflow": null,
            "_model_module_version": "1.2.0",
            "_view_count": null,
            "flex_flow": null,
            "width": null,
            "min_width": null,
            "border": null,
            "align_items": null,
            "bottom": null,
            "_model_module": "@jupyter-widgets/base",
            "top": null,
            "grid_column": null,
            "overflow_y": null,
            "overflow_x": null,
            "grid_auto_flow": null,
            "grid_area": null,
            "grid_template_columns": null,
            "flex": null,
            "_model_name": "LayoutModel",
            "justify_items": null,
            "grid_row": null,
            "max_height": null,
            "align_content": null,
            "visibility": null,
            "align_self": null,
            "height": null,
            "min_height": null,
            "padding": null,
            "grid_auto_rows": null,
            "grid_gap": null,
            "max_width": null,
            "order": null,
            "_view_module_version": "1.2.0",
            "grid_template_areas": null,
            "object_position": null,
            "object_fit": null,
            "grid_auto_columns": null,
            "margin": null,
            "display": null,
            "left": null
          }
        },
        "8d31fa041f624a919dc5237ec8caa373": {
          "model_module": "@jupyter-widgets/controls",
          "model_name": "LabelModel",
          "state": {
            "_view_name": "LabelView",
            "style": "IPY_MODEL_0b26e770a4a74b84b3d07109b3060c38",
            "_dom_classes": [],
            "description": "",
            "_model_name": "LabelModel",
            "placeholder": "​",
            "_view_module": "@jupyter-widgets/controls",
            "_model_module_version": "1.5.0",
            "value": " 180.10MB of 180.10MB uploaded (0.00MB deduped)\r",
            "_view_count": null,
            "_view_module_version": "1.5.0",
            "description_tooltip": null,
            "_model_module": "@jupyter-widgets/controls",
            "layout": "IPY_MODEL_771ec429163646e8b2a064aac82022c9"
          }
        },
        "b5001ef447434ee69c27da5157d2404a": {
          "model_module": "@jupyter-widgets/controls",
          "model_name": "FloatProgressModel",
          "state": {
            "_view_name": "ProgressView",
            "style": "IPY_MODEL_622fe32e73534ed3b98acc95a9ba04e4",
            "_dom_classes": [],
            "description": "",
            "_model_name": "FloatProgressModel",
            "bar_style": "",
            "max": 1,
            "_view_module": "@jupyter-widgets/controls",
            "_model_module_version": "1.5.0",
            "value": 1,
            "_view_count": null,
            "_view_module_version": "1.5.0",
            "orientation": "horizontal",
            "min": 0,
            "description_tooltip": null,
            "_model_module": "@jupyter-widgets/controls",
            "layout": "IPY_MODEL_e7d337483e3a4b888fa12483c0abc59b"
          }
        },
        "0b26e770a4a74b84b3d07109b3060c38": {
          "model_module": "@jupyter-widgets/controls",
          "model_name": "DescriptionStyleModel",
          "state": {
            "_view_name": "StyleView",
            "_model_name": "DescriptionStyleModel",
            "description_width": "",
            "_view_module": "@jupyter-widgets/base",
            "_model_module_version": "1.5.0",
            "_view_count": null,
            "_view_module_version": "1.2.0",
            "_model_module": "@jupyter-widgets/controls"
          }
        },
        "771ec429163646e8b2a064aac82022c9": {
          "model_module": "@jupyter-widgets/base",
          "model_name": "LayoutModel",
          "state": {
            "_view_name": "LayoutView",
            "grid_template_rows": null,
            "right": null,
            "justify_content": null,
            "_view_module": "@jupyter-widgets/base",
            "overflow": null,
            "_model_module_version": "1.2.0",
            "_view_count": null,
            "flex_flow": null,
            "width": null,
            "min_width": null,
            "border": null,
            "align_items": null,
            "bottom": null,
            "_model_module": "@jupyter-widgets/base",
            "top": null,
            "grid_column": null,
            "overflow_y": null,
            "overflow_x": null,
            "grid_auto_flow": null,
            "grid_area": null,
            "grid_template_columns": null,
            "flex": null,
            "_model_name": "LayoutModel",
            "justify_items": null,
            "grid_row": null,
            "max_height": null,
            "align_content": null,
            "visibility": null,
            "align_self": null,
            "height": null,
            "min_height": null,
            "padding": null,
            "grid_auto_rows": null,
            "grid_gap": null,
            "max_width": null,
            "order": null,
            "_view_module_version": "1.2.0",
            "grid_template_areas": null,
            "object_position": null,
            "object_fit": null,
            "grid_auto_columns": null,
            "margin": null,
            "display": null,
            "left": null
          }
        },
        "622fe32e73534ed3b98acc95a9ba04e4": {
          "model_module": "@jupyter-widgets/controls",
          "model_name": "ProgressStyleModel",
          "state": {
            "_view_name": "StyleView",
            "_model_name": "ProgressStyleModel",
            "description_width": "",
            "_view_module": "@jupyter-widgets/base",
            "_model_module_version": "1.5.0",
            "_view_count": null,
            "_view_module_version": "1.2.0",
            "bar_color": null,
            "_model_module": "@jupyter-widgets/controls"
          }
        },
        "e7d337483e3a4b888fa12483c0abc59b": {
          "model_module": "@jupyter-widgets/base",
          "model_name": "LayoutModel",
          "state": {
            "_view_name": "LayoutView",
            "grid_template_rows": null,
            "right": null,
            "justify_content": null,
            "_view_module": "@jupyter-widgets/base",
            "overflow": null,
            "_model_module_version": "1.2.0",
            "_view_count": null,
            "flex_flow": null,
            "width": null,
            "min_width": null,
            "border": null,
            "align_items": null,
            "bottom": null,
            "_model_module": "@jupyter-widgets/base",
            "top": null,
            "grid_column": null,
            "overflow_y": null,
            "overflow_x": null,
            "grid_auto_flow": null,
            "grid_area": null,
            "grid_template_columns": null,
            "flex": null,
            "_model_name": "LayoutModel",
            "justify_items": null,
            "grid_row": null,
            "max_height": null,
            "align_content": null,
            "visibility": null,
            "align_self": null,
            "height": null,
            "min_height": null,
            "padding": null,
            "grid_auto_rows": null,
            "grid_gap": null,
            "max_width": null,
            "order": null,
            "_view_module_version": "1.2.0",
            "grid_template_areas": null,
            "object_position": null,
            "object_fit": null,
            "grid_auto_columns": null,
            "margin": null,
            "display": null,
            "left": null
          }
        },
        "d3e82b65a7434fed9b1a5537ea5c5a50": {
          "model_module": "@jupyter-widgets/controls",
          "model_name": "VBoxModel",
          "state": {
            "_view_name": "VBoxView",
            "_dom_classes": [],
            "_model_name": "VBoxModel",
            "_view_module": "@jupyter-widgets/controls",
            "_model_module_version": "1.5.0",
            "_view_count": null,
            "_view_module_version": "1.5.0",
            "box_style": "",
            "layout": "IPY_MODEL_9a0ccd8bf2fd4693877770b3ffbec4de",
            "_model_module": "@jupyter-widgets/controls",
            "children": [
              "IPY_MODEL_584d576fe8174f4a99dac008ab631f52",
              "IPY_MODEL_0369ce53ad554d7ea9e718f140b53859"
            ]
          }
        },
        "9a0ccd8bf2fd4693877770b3ffbec4de": {
          "model_module": "@jupyter-widgets/base",
          "model_name": "LayoutModel",
          "state": {
            "_view_name": "LayoutView",
            "grid_template_rows": null,
            "right": null,
            "justify_content": null,
            "_view_module": "@jupyter-widgets/base",
            "overflow": null,
            "_model_module_version": "1.2.0",
            "_view_count": null,
            "flex_flow": null,
            "width": null,
            "min_width": null,
            "border": null,
            "align_items": null,
            "bottom": null,
            "_model_module": "@jupyter-widgets/base",
            "top": null,
            "grid_column": null,
            "overflow_y": null,
            "overflow_x": null,
            "grid_auto_flow": null,
            "grid_area": null,
            "grid_template_columns": null,
            "flex": null,
            "_model_name": "LayoutModel",
            "justify_items": null,
            "grid_row": null,
            "max_height": null,
            "align_content": null,
            "visibility": null,
            "align_self": null,
            "height": null,
            "min_height": null,
            "padding": null,
            "grid_auto_rows": null,
            "grid_gap": null,
            "max_width": null,
            "order": null,
            "_view_module_version": "1.2.0",
            "grid_template_areas": null,
            "object_position": null,
            "object_fit": null,
            "grid_auto_columns": null,
            "margin": null,
            "display": null,
            "left": null
          }
        },
        "584d576fe8174f4a99dac008ab631f52": {
          "model_module": "@jupyter-widgets/controls",
          "model_name": "LabelModel",
          "state": {
            "_view_name": "LabelView",
            "style": "IPY_MODEL_84fc66df19484fc7862deadf670f2c47",
            "_dom_classes": [],
            "description": "",
            "_model_name": "LabelModel",
            "placeholder": "​",
            "_view_module": "@jupyter-widgets/controls",
            "_model_module_version": "1.5.0",
            "value": " 935.69MB of 935.69MB uploaded (0.00MB deduped)\r",
            "_view_count": null,
            "_view_module_version": "1.5.0",
            "description_tooltip": null,
            "_model_module": "@jupyter-widgets/controls",
            "layout": "IPY_MODEL_4e3fb84207d344dd9b9eb17a92e84bd6"
          }
        },
        "0369ce53ad554d7ea9e718f140b53859": {
          "model_module": "@jupyter-widgets/controls",
          "model_name": "FloatProgressModel",
          "state": {
            "_view_name": "ProgressView",
            "style": "IPY_MODEL_05d506aa1b774a6cb796160bc8faf315",
            "_dom_classes": [],
            "description": "",
            "_model_name": "FloatProgressModel",
            "bar_style": "",
            "max": 1,
            "_view_module": "@jupyter-widgets/controls",
            "_model_module_version": "1.5.0",
            "value": 1,
            "_view_count": null,
            "_view_module_version": "1.5.0",
            "orientation": "horizontal",
            "min": 0,
            "description_tooltip": null,
            "_model_module": "@jupyter-widgets/controls",
            "layout": "IPY_MODEL_ab7b6de9f3a14cd2bec1498384944614"
          }
        },
        "84fc66df19484fc7862deadf670f2c47": {
          "model_module": "@jupyter-widgets/controls",
          "model_name": "DescriptionStyleModel",
          "state": {
            "_view_name": "StyleView",
            "_model_name": "DescriptionStyleModel",
            "description_width": "",
            "_view_module": "@jupyter-widgets/base",
            "_model_module_version": "1.5.0",
            "_view_count": null,
            "_view_module_version": "1.2.0",
            "_model_module": "@jupyter-widgets/controls"
          }
        },
        "4e3fb84207d344dd9b9eb17a92e84bd6": {
          "model_module": "@jupyter-widgets/base",
          "model_name": "LayoutModel",
          "state": {
            "_view_name": "LayoutView",
            "grid_template_rows": null,
            "right": null,
            "justify_content": null,
            "_view_module": "@jupyter-widgets/base",
            "overflow": null,
            "_model_module_version": "1.2.0",
            "_view_count": null,
            "flex_flow": null,
            "width": null,
            "min_width": null,
            "border": null,
            "align_items": null,
            "bottom": null,
            "_model_module": "@jupyter-widgets/base",
            "top": null,
            "grid_column": null,
            "overflow_y": null,
            "overflow_x": null,
            "grid_auto_flow": null,
            "grid_area": null,
            "grid_template_columns": null,
            "flex": null,
            "_model_name": "LayoutModel",
            "justify_items": null,
            "grid_row": null,
            "max_height": null,
            "align_content": null,
            "visibility": null,
            "align_self": null,
            "height": null,
            "min_height": null,
            "padding": null,
            "grid_auto_rows": null,
            "grid_gap": null,
            "max_width": null,
            "order": null,
            "_view_module_version": "1.2.0",
            "grid_template_areas": null,
            "object_position": null,
            "object_fit": null,
            "grid_auto_columns": null,
            "margin": null,
            "display": null,
            "left": null
          }
        },
        "05d506aa1b774a6cb796160bc8faf315": {
          "model_module": "@jupyter-widgets/controls",
          "model_name": "ProgressStyleModel",
          "state": {
            "_view_name": "StyleView",
            "_model_name": "ProgressStyleModel",
            "description_width": "",
            "_view_module": "@jupyter-widgets/base",
            "_model_module_version": "1.5.0",
            "_view_count": null,
            "_view_module_version": "1.2.0",
            "bar_color": null,
            "_model_module": "@jupyter-widgets/controls"
          }
        },
        "ab7b6de9f3a14cd2bec1498384944614": {
          "model_module": "@jupyter-widgets/base",
          "model_name": "LayoutModel",
          "state": {
            "_view_name": "LayoutView",
            "grid_template_rows": null,
            "right": null,
            "justify_content": null,
            "_view_module": "@jupyter-widgets/base",
            "overflow": null,
            "_model_module_version": "1.2.0",
            "_view_count": null,
            "flex_flow": null,
            "width": null,
            "min_width": null,
            "border": null,
            "align_items": null,
            "bottom": null,
            "_model_module": "@jupyter-widgets/base",
            "top": null,
            "grid_column": null,
            "overflow_y": null,
            "overflow_x": null,
            "grid_auto_flow": null,
            "grid_area": null,
            "grid_template_columns": null,
            "flex": null,
            "_model_name": "LayoutModel",
            "justify_items": null,
            "grid_row": null,
            "max_height": null,
            "align_content": null,
            "visibility": null,
            "align_self": null,
            "height": null,
            "min_height": null,
            "padding": null,
            "grid_auto_rows": null,
            "grid_gap": null,
            "max_width": null,
            "order": null,
            "_view_module_version": "1.2.0",
            "grid_template_areas": null,
            "object_position": null,
            "object_fit": null,
            "grid_auto_columns": null,
            "margin": null,
            "display": null,
            "left": null
          }
        },
        "49d3e9250a104bab8b95e0d413ff1b57": {
          "model_module": "@jupyter-widgets/controls",
          "model_name": "VBoxModel",
          "state": {
            "_view_name": "VBoxView",
            "_dom_classes": [],
            "_model_name": "VBoxModel",
            "_view_module": "@jupyter-widgets/controls",
            "_model_module_version": "1.5.0",
            "_view_count": null,
            "_view_module_version": "1.5.0",
            "box_style": "",
            "layout": "IPY_MODEL_9b36c6f174014604a6a6b7e217532cac",
            "_model_module": "@jupyter-widgets/controls",
            "children": [
              "IPY_MODEL_20baf706dcd04dcf92a3f614dd16bb9b",
              "IPY_MODEL_f1f7e624087b44dd9512f5b643f3daaf"
            ]
          }
        },
        "9b36c6f174014604a6a6b7e217532cac": {
          "model_module": "@jupyter-widgets/base",
          "model_name": "LayoutModel",
          "state": {
            "_view_name": "LayoutView",
            "grid_template_rows": null,
            "right": null,
            "justify_content": null,
            "_view_module": "@jupyter-widgets/base",
            "overflow": null,
            "_model_module_version": "1.2.0",
            "_view_count": null,
            "flex_flow": null,
            "width": null,
            "min_width": null,
            "border": null,
            "align_items": null,
            "bottom": null,
            "_model_module": "@jupyter-widgets/base",
            "top": null,
            "grid_column": null,
            "overflow_y": null,
            "overflow_x": null,
            "grid_auto_flow": null,
            "grid_area": null,
            "grid_template_columns": null,
            "flex": null,
            "_model_name": "LayoutModel",
            "justify_items": null,
            "grid_row": null,
            "max_height": null,
            "align_content": null,
            "visibility": null,
            "align_self": null,
            "height": null,
            "min_height": null,
            "padding": null,
            "grid_auto_rows": null,
            "grid_gap": null,
            "max_width": null,
            "order": null,
            "_view_module_version": "1.2.0",
            "grid_template_areas": null,
            "object_position": null,
            "object_fit": null,
            "grid_auto_columns": null,
            "margin": null,
            "display": null,
            "left": null
          }
        },
        "20baf706dcd04dcf92a3f614dd16bb9b": {
          "model_module": "@jupyter-widgets/controls",
          "model_name": "LabelModel",
          "state": {
            "_view_name": "LabelView",
            "style": "IPY_MODEL_9ffb710b183142bcbe49e5be5d1ba049",
            "_dom_classes": [],
            "description": "",
            "_model_name": "LabelModel",
            "placeholder": "​",
            "_view_module": "@jupyter-widgets/controls",
            "_model_module_version": "1.5.0",
            "value": " 309.79MB of 309.79MB uploaded (0.00MB deduped)\r",
            "_view_count": null,
            "_view_module_version": "1.5.0",
            "description_tooltip": null,
            "_model_module": "@jupyter-widgets/controls",
            "layout": "IPY_MODEL_3625c3ebb20b4481996a04e35b08897a"
          }
        },
        "f1f7e624087b44dd9512f5b643f3daaf": {
          "model_module": "@jupyter-widgets/controls",
          "model_name": "FloatProgressModel",
          "state": {
            "_view_name": "ProgressView",
            "style": "IPY_MODEL_d2e720b0faff44feb9f83f875b47de57",
            "_dom_classes": [],
            "description": "",
            "_model_name": "FloatProgressModel",
            "bar_style": "",
            "max": 1,
            "_view_module": "@jupyter-widgets/controls",
            "_model_module_version": "1.5.0",
            "value": 1,
            "_view_count": null,
            "_view_module_version": "1.5.0",
            "orientation": "horizontal",
            "min": 0,
            "description_tooltip": null,
            "_model_module": "@jupyter-widgets/controls",
            "layout": "IPY_MODEL_df03475aff174cd38ee40d0dea1fca12"
          }
        },
        "9ffb710b183142bcbe49e5be5d1ba049": {
          "model_module": "@jupyter-widgets/controls",
          "model_name": "DescriptionStyleModel",
          "state": {
            "_view_name": "StyleView",
            "_model_name": "DescriptionStyleModel",
            "description_width": "",
            "_view_module": "@jupyter-widgets/base",
            "_model_module_version": "1.5.0",
            "_view_count": null,
            "_view_module_version": "1.2.0",
            "_model_module": "@jupyter-widgets/controls"
          }
        },
        "3625c3ebb20b4481996a04e35b08897a": {
          "model_module": "@jupyter-widgets/base",
          "model_name": "LayoutModel",
          "state": {
            "_view_name": "LayoutView",
            "grid_template_rows": null,
            "right": null,
            "justify_content": null,
            "_view_module": "@jupyter-widgets/base",
            "overflow": null,
            "_model_module_version": "1.2.0",
            "_view_count": null,
            "flex_flow": null,
            "width": null,
            "min_width": null,
            "border": null,
            "align_items": null,
            "bottom": null,
            "_model_module": "@jupyter-widgets/base",
            "top": null,
            "grid_column": null,
            "overflow_y": null,
            "overflow_x": null,
            "grid_auto_flow": null,
            "grid_area": null,
            "grid_template_columns": null,
            "flex": null,
            "_model_name": "LayoutModel",
            "justify_items": null,
            "grid_row": null,
            "max_height": null,
            "align_content": null,
            "visibility": null,
            "align_self": null,
            "height": null,
            "min_height": null,
            "padding": null,
            "grid_auto_rows": null,
            "grid_gap": null,
            "max_width": null,
            "order": null,
            "_view_module_version": "1.2.0",
            "grid_template_areas": null,
            "object_position": null,
            "object_fit": null,
            "grid_auto_columns": null,
            "margin": null,
            "display": null,
            "left": null
          }
        },
        "d2e720b0faff44feb9f83f875b47de57": {
          "model_module": "@jupyter-widgets/controls",
          "model_name": "ProgressStyleModel",
          "state": {
            "_view_name": "StyleView",
            "_model_name": "ProgressStyleModel",
            "description_width": "",
            "_view_module": "@jupyter-widgets/base",
            "_model_module_version": "1.5.0",
            "_view_count": null,
            "_view_module_version": "1.2.0",
            "bar_color": null,
            "_model_module": "@jupyter-widgets/controls"
          }
        },
        "df03475aff174cd38ee40d0dea1fca12": {
          "model_module": "@jupyter-widgets/base",
          "model_name": "LayoutModel",
          "state": {
            "_view_name": "LayoutView",
            "grid_template_rows": null,
            "right": null,
            "justify_content": null,
            "_view_module": "@jupyter-widgets/base",
            "overflow": null,
            "_model_module_version": "1.2.0",
            "_view_count": null,
            "flex_flow": null,
            "width": null,
            "min_width": null,
            "border": null,
            "align_items": null,
            "bottom": null,
            "_model_module": "@jupyter-widgets/base",
            "top": null,
            "grid_column": null,
            "overflow_y": null,
            "overflow_x": null,
            "grid_auto_flow": null,
            "grid_area": null,
            "grid_template_columns": null,
            "flex": null,
            "_model_name": "LayoutModel",
            "justify_items": null,
            "grid_row": null,
            "max_height": null,
            "align_content": null,
            "visibility": null,
            "align_self": null,
            "height": null,
            "min_height": null,
            "padding": null,
            "grid_auto_rows": null,
            "grid_gap": null,
            "max_width": null,
            "order": null,
            "_view_module_version": "1.2.0",
            "grid_template_areas": null,
            "object_position": null,
            "object_fit": null,
            "grid_auto_columns": null,
            "margin": null,
            "display": null,
            "left": null
          }
        },
        "e0de06fc8e2342958a82a86cbbb4916d": {
          "model_module": "@jupyter-widgets/controls",
          "model_name": "VBoxModel",
          "state": {
            "_view_name": "VBoxView",
            "_dom_classes": [],
            "_model_name": "VBoxModel",
            "_view_module": "@jupyter-widgets/controls",
            "_model_module_version": "1.5.0",
            "_view_count": null,
            "_view_module_version": "1.5.0",
            "box_style": "",
            "layout": "IPY_MODEL_ee63f18a7b3c4efcb29dca3439370617",
            "_model_module": "@jupyter-widgets/controls",
            "children": [
              "IPY_MODEL_c7d679407b5c48b68024d3873c54f0fb",
              "IPY_MODEL_ff324a4c8e7d4294acef7ffb79cd4179"
            ]
          }
        },
        "ee63f18a7b3c4efcb29dca3439370617": {
          "model_module": "@jupyter-widgets/base",
          "model_name": "LayoutModel",
          "state": {
            "_view_name": "LayoutView",
            "grid_template_rows": null,
            "right": null,
            "justify_content": null,
            "_view_module": "@jupyter-widgets/base",
            "overflow": null,
            "_model_module_version": "1.2.0",
            "_view_count": null,
            "flex_flow": null,
            "width": null,
            "min_width": null,
            "border": null,
            "align_items": null,
            "bottom": null,
            "_model_module": "@jupyter-widgets/base",
            "top": null,
            "grid_column": null,
            "overflow_y": null,
            "overflow_x": null,
            "grid_auto_flow": null,
            "grid_area": null,
            "grid_template_columns": null,
            "flex": null,
            "_model_name": "LayoutModel",
            "justify_items": null,
            "grid_row": null,
            "max_height": null,
            "align_content": null,
            "visibility": null,
            "align_self": null,
            "height": null,
            "min_height": null,
            "padding": null,
            "grid_auto_rows": null,
            "grid_gap": null,
            "max_width": null,
            "order": null,
            "_view_module_version": "1.2.0",
            "grid_template_areas": null,
            "object_position": null,
            "object_fit": null,
            "grid_auto_columns": null,
            "margin": null,
            "display": null,
            "left": null
          }
        },
        "c7d679407b5c48b68024d3873c54f0fb": {
          "model_module": "@jupyter-widgets/controls",
          "model_name": "LabelModel",
          "state": {
            "_view_name": "LabelView",
            "style": "IPY_MODEL_95125ef4ad694475a533760d9f76dfde",
            "_dom_classes": [],
            "description": "",
            "_model_name": "LabelModel",
            "placeholder": "​",
            "_view_module": "@jupyter-widgets/controls",
            "_model_module_version": "1.5.0",
            "value": " 935.69MB of 935.69MB uploaded (0.00MB deduped)\r",
            "_view_count": null,
            "_view_module_version": "1.5.0",
            "description_tooltip": null,
            "_model_module": "@jupyter-widgets/controls",
            "layout": "IPY_MODEL_40807dd43c8c4186a5c0cf4a1efca111"
          }
        },
        "ff324a4c8e7d4294acef7ffb79cd4179": {
          "model_module": "@jupyter-widgets/controls",
          "model_name": "FloatProgressModel",
          "state": {
            "_view_name": "ProgressView",
            "style": "IPY_MODEL_2a324d1fa6eb47d59f023c497b9d01a4",
            "_dom_classes": [],
            "description": "",
            "_model_name": "FloatProgressModel",
            "bar_style": "",
            "max": 1,
            "_view_module": "@jupyter-widgets/controls",
            "_model_module_version": "1.5.0",
            "value": 1,
            "_view_count": null,
            "_view_module_version": "1.5.0",
            "orientation": "horizontal",
            "min": 0,
            "description_tooltip": null,
            "_model_module": "@jupyter-widgets/controls",
            "layout": "IPY_MODEL_002a286ab2494860949c3dcfa6f45c8c"
          }
        },
        "95125ef4ad694475a533760d9f76dfde": {
          "model_module": "@jupyter-widgets/controls",
          "model_name": "DescriptionStyleModel",
          "state": {
            "_view_name": "StyleView",
            "_model_name": "DescriptionStyleModel",
            "description_width": "",
            "_view_module": "@jupyter-widgets/base",
            "_model_module_version": "1.5.0",
            "_view_count": null,
            "_view_module_version": "1.2.0",
            "_model_module": "@jupyter-widgets/controls"
          }
        },
        "40807dd43c8c4186a5c0cf4a1efca111": {
          "model_module": "@jupyter-widgets/base",
          "model_name": "LayoutModel",
          "state": {
            "_view_name": "LayoutView",
            "grid_template_rows": null,
            "right": null,
            "justify_content": null,
            "_view_module": "@jupyter-widgets/base",
            "overflow": null,
            "_model_module_version": "1.2.0",
            "_view_count": null,
            "flex_flow": null,
            "width": null,
            "min_width": null,
            "border": null,
            "align_items": null,
            "bottom": null,
            "_model_module": "@jupyter-widgets/base",
            "top": null,
            "grid_column": null,
            "overflow_y": null,
            "overflow_x": null,
            "grid_auto_flow": null,
            "grid_area": null,
            "grid_template_columns": null,
            "flex": null,
            "_model_name": "LayoutModel",
            "justify_items": null,
            "grid_row": null,
            "max_height": null,
            "align_content": null,
            "visibility": null,
            "align_self": null,
            "height": null,
            "min_height": null,
            "padding": null,
            "grid_auto_rows": null,
            "grid_gap": null,
            "max_width": null,
            "order": null,
            "_view_module_version": "1.2.0",
            "grid_template_areas": null,
            "object_position": null,
            "object_fit": null,
            "grid_auto_columns": null,
            "margin": null,
            "display": null,
            "left": null
          }
        },
        "2a324d1fa6eb47d59f023c497b9d01a4": {
          "model_module": "@jupyter-widgets/controls",
          "model_name": "ProgressStyleModel",
          "state": {
            "_view_name": "StyleView",
            "_model_name": "ProgressStyleModel",
            "description_width": "",
            "_view_module": "@jupyter-widgets/base",
            "_model_module_version": "1.5.0",
            "_view_count": null,
            "_view_module_version": "1.2.0",
            "bar_color": null,
            "_model_module": "@jupyter-widgets/controls"
          }
        },
        "002a286ab2494860949c3dcfa6f45c8c": {
          "model_module": "@jupyter-widgets/base",
          "model_name": "LayoutModel",
          "state": {
            "_view_name": "LayoutView",
            "grid_template_rows": null,
            "right": null,
            "justify_content": null,
            "_view_module": "@jupyter-widgets/base",
            "overflow": null,
            "_model_module_version": "1.2.0",
            "_view_count": null,
            "flex_flow": null,
            "width": null,
            "min_width": null,
            "border": null,
            "align_items": null,
            "bottom": null,
            "_model_module": "@jupyter-widgets/base",
            "top": null,
            "grid_column": null,
            "overflow_y": null,
            "overflow_x": null,
            "grid_auto_flow": null,
            "grid_area": null,
            "grid_template_columns": null,
            "flex": null,
            "_model_name": "LayoutModel",
            "justify_items": null,
            "grid_row": null,
            "max_height": null,
            "align_content": null,
            "visibility": null,
            "align_self": null,
            "height": null,
            "min_height": null,
            "padding": null,
            "grid_auto_rows": null,
            "grid_gap": null,
            "max_width": null,
            "order": null,
            "_view_module_version": "1.2.0",
            "grid_template_areas": null,
            "object_position": null,
            "object_fit": null,
            "grid_auto_columns": null,
            "margin": null,
            "display": null,
            "left": null
          }
        },
        "9294c23a39b54a6a8f2a92e1629e56c9": {
          "model_module": "@jupyter-widgets/controls",
          "model_name": "VBoxModel",
          "state": {
            "_view_name": "VBoxView",
            "_dom_classes": [],
            "_model_name": "VBoxModel",
            "_view_module": "@jupyter-widgets/controls",
            "_model_module_version": "1.5.0",
            "_view_count": null,
            "_view_module_version": "1.5.0",
            "box_style": "",
            "layout": "IPY_MODEL_8e633ec95c17466d9cf586094344a3a7",
            "_model_module": "@jupyter-widgets/controls",
            "children": [
              "IPY_MODEL_8cfb3a990a6a40aaace6f884b97538e3",
              "IPY_MODEL_9875d42a777d49a0a01459a4c12adcba"
            ]
          }
        },
        "8e633ec95c17466d9cf586094344a3a7": {
          "model_module": "@jupyter-widgets/base",
          "model_name": "LayoutModel",
          "state": {
            "_view_name": "LayoutView",
            "grid_template_rows": null,
            "right": null,
            "justify_content": null,
            "_view_module": "@jupyter-widgets/base",
            "overflow": null,
            "_model_module_version": "1.2.0",
            "_view_count": null,
            "flex_flow": null,
            "width": null,
            "min_width": null,
            "border": null,
            "align_items": null,
            "bottom": null,
            "_model_module": "@jupyter-widgets/base",
            "top": null,
            "grid_column": null,
            "overflow_y": null,
            "overflow_x": null,
            "grid_auto_flow": null,
            "grid_area": null,
            "grid_template_columns": null,
            "flex": null,
            "_model_name": "LayoutModel",
            "justify_items": null,
            "grid_row": null,
            "max_height": null,
            "align_content": null,
            "visibility": null,
            "align_self": null,
            "height": null,
            "min_height": null,
            "padding": null,
            "grid_auto_rows": null,
            "grid_gap": null,
            "max_width": null,
            "order": null,
            "_view_module_version": "1.2.0",
            "grid_template_areas": null,
            "object_position": null,
            "object_fit": null,
            "grid_auto_columns": null,
            "margin": null,
            "display": null,
            "left": null
          }
        },
        "8cfb3a990a6a40aaace6f884b97538e3": {
          "model_module": "@jupyter-widgets/controls",
          "model_name": "LabelModel",
          "state": {
            "_view_name": "LabelView",
            "style": "IPY_MODEL_c9d7e37fb02447fba82b6e96b4cd08e0",
            "_dom_classes": [],
            "description": "",
            "_model_name": "LabelModel",
            "placeholder": "​",
            "_view_module": "@jupyter-widgets/controls",
            "_model_module_version": "1.5.0",
            "value": " 946.21MB of 946.21MB uploaded (0.00MB deduped)\r",
            "_view_count": null,
            "_view_module_version": "1.5.0",
            "description_tooltip": null,
            "_model_module": "@jupyter-widgets/controls",
            "layout": "IPY_MODEL_b41a0c5fa2c848e5af2e78d668858fb9"
          }
        },
        "9875d42a777d49a0a01459a4c12adcba": {
          "model_module": "@jupyter-widgets/controls",
          "model_name": "FloatProgressModel",
          "state": {
            "_view_name": "ProgressView",
            "style": "IPY_MODEL_0b62cc4365014d90909554b04edacd82",
            "_dom_classes": [],
            "description": "",
            "_model_name": "FloatProgressModel",
            "bar_style": "",
            "max": 1,
            "_view_module": "@jupyter-widgets/controls",
            "_model_module_version": "1.5.0",
            "value": 1,
            "_view_count": null,
            "_view_module_version": "1.5.0",
            "orientation": "horizontal",
            "min": 0,
            "description_tooltip": null,
            "_model_module": "@jupyter-widgets/controls",
            "layout": "IPY_MODEL_7d400120b33c47e2897569671215c7a6"
          }
        },
        "c9d7e37fb02447fba82b6e96b4cd08e0": {
          "model_module": "@jupyter-widgets/controls",
          "model_name": "DescriptionStyleModel",
          "state": {
            "_view_name": "StyleView",
            "_model_name": "DescriptionStyleModel",
            "description_width": "",
            "_view_module": "@jupyter-widgets/base",
            "_model_module_version": "1.5.0",
            "_view_count": null,
            "_view_module_version": "1.2.0",
            "_model_module": "@jupyter-widgets/controls"
          }
        },
        "b41a0c5fa2c848e5af2e78d668858fb9": {
          "model_module": "@jupyter-widgets/base",
          "model_name": "LayoutModel",
          "state": {
            "_view_name": "LayoutView",
            "grid_template_rows": null,
            "right": null,
            "justify_content": null,
            "_view_module": "@jupyter-widgets/base",
            "overflow": null,
            "_model_module_version": "1.2.0",
            "_view_count": null,
            "flex_flow": null,
            "width": null,
            "min_width": null,
            "border": null,
            "align_items": null,
            "bottom": null,
            "_model_module": "@jupyter-widgets/base",
            "top": null,
            "grid_column": null,
            "overflow_y": null,
            "overflow_x": null,
            "grid_auto_flow": null,
            "grid_area": null,
            "grid_template_columns": null,
            "flex": null,
            "_model_name": "LayoutModel",
            "justify_items": null,
            "grid_row": null,
            "max_height": null,
            "align_content": null,
            "visibility": null,
            "align_self": null,
            "height": null,
            "min_height": null,
            "padding": null,
            "grid_auto_rows": null,
            "grid_gap": null,
            "max_width": null,
            "order": null,
            "_view_module_version": "1.2.0",
            "grid_template_areas": null,
            "object_position": null,
            "object_fit": null,
            "grid_auto_columns": null,
            "margin": null,
            "display": null,
            "left": null
          }
        },
        "0b62cc4365014d90909554b04edacd82": {
          "model_module": "@jupyter-widgets/controls",
          "model_name": "ProgressStyleModel",
          "state": {
            "_view_name": "StyleView",
            "_model_name": "ProgressStyleModel",
            "description_width": "",
            "_view_module": "@jupyter-widgets/base",
            "_model_module_version": "1.5.0",
            "_view_count": null,
            "_view_module_version": "1.2.0",
            "bar_color": null,
            "_model_module": "@jupyter-widgets/controls"
          }
        },
        "7d400120b33c47e2897569671215c7a6": {
          "model_module": "@jupyter-widgets/base",
          "model_name": "LayoutModel",
          "state": {
            "_view_name": "LayoutView",
            "grid_template_rows": null,
            "right": null,
            "justify_content": null,
            "_view_module": "@jupyter-widgets/base",
            "overflow": null,
            "_model_module_version": "1.2.0",
            "_view_count": null,
            "flex_flow": null,
            "width": null,
            "min_width": null,
            "border": null,
            "align_items": null,
            "bottom": null,
            "_model_module": "@jupyter-widgets/base",
            "top": null,
            "grid_column": null,
            "overflow_y": null,
            "overflow_x": null,
            "grid_auto_flow": null,
            "grid_area": null,
            "grid_template_columns": null,
            "flex": null,
            "_model_name": "LayoutModel",
            "justify_items": null,
            "grid_row": null,
            "max_height": null,
            "align_content": null,
            "visibility": null,
            "align_self": null,
            "height": null,
            "min_height": null,
            "padding": null,
            "grid_auto_rows": null,
            "grid_gap": null,
            "max_width": null,
            "order": null,
            "_view_module_version": "1.2.0",
            "grid_template_areas": null,
            "object_position": null,
            "object_fit": null,
            "grid_auto_columns": null,
            "margin": null,
            "display": null,
            "left": null
          }
        },
        "45c64ec13a0c47fb95b062e81dbd2947": {
          "model_module": "@jupyter-widgets/controls",
          "model_name": "VBoxModel",
          "state": {
            "_view_name": "VBoxView",
            "_dom_classes": [],
            "_model_name": "VBoxModel",
            "_view_module": "@jupyter-widgets/controls",
            "_model_module_version": "1.5.0",
            "_view_count": null,
            "_view_module_version": "1.5.0",
            "box_style": "",
            "layout": "IPY_MODEL_063de180228e4dfbada1658da1df9151",
            "_model_module": "@jupyter-widgets/controls",
            "children": [
              "IPY_MODEL_3a20d8e5aa654f81ac35001e002051d9",
              "IPY_MODEL_b2df60500aa34463802ae958c5d1214d"
            ]
          }
        },
        "063de180228e4dfbada1658da1df9151": {
          "model_module": "@jupyter-widgets/base",
          "model_name": "LayoutModel",
          "state": {
            "_view_name": "LayoutView",
            "grid_template_rows": null,
            "right": null,
            "justify_content": null,
            "_view_module": "@jupyter-widgets/base",
            "overflow": null,
            "_model_module_version": "1.2.0",
            "_view_count": null,
            "flex_flow": null,
            "width": null,
            "min_width": null,
            "border": null,
            "align_items": null,
            "bottom": null,
            "_model_module": "@jupyter-widgets/base",
            "top": null,
            "grid_column": null,
            "overflow_y": null,
            "overflow_x": null,
            "grid_auto_flow": null,
            "grid_area": null,
            "grid_template_columns": null,
            "flex": null,
            "_model_name": "LayoutModel",
            "justify_items": null,
            "grid_row": null,
            "max_height": null,
            "align_content": null,
            "visibility": null,
            "align_self": null,
            "height": null,
            "min_height": null,
            "padding": null,
            "grid_auto_rows": null,
            "grid_gap": null,
            "max_width": null,
            "order": null,
            "_view_module_version": "1.2.0",
            "grid_template_areas": null,
            "object_position": null,
            "object_fit": null,
            "grid_auto_columns": null,
            "margin": null,
            "display": null,
            "left": null
          }
        },
        "3a20d8e5aa654f81ac35001e002051d9": {
          "model_module": "@jupyter-widgets/controls",
          "model_name": "LabelModel",
          "state": {
            "_view_name": "LabelView",
            "style": "IPY_MODEL_aa51283c6a6b412aa2c5c28e5bfa058d",
            "_dom_classes": [],
            "description": "",
            "_model_name": "LabelModel",
            "placeholder": "​",
            "_view_module": "@jupyter-widgets/controls",
            "_model_module_version": "1.5.0",
            "value": " 946.21MB of 946.21MB uploaded (0.00MB deduped)\r",
            "_view_count": null,
            "_view_module_version": "1.5.0",
            "description_tooltip": null,
            "_model_module": "@jupyter-widgets/controls",
            "layout": "IPY_MODEL_84dcda23589b46b7832d05b3b3844e81"
          }
        },
        "b2df60500aa34463802ae958c5d1214d": {
          "model_module": "@jupyter-widgets/controls",
          "model_name": "FloatProgressModel",
          "state": {
            "_view_name": "ProgressView",
            "style": "IPY_MODEL_84c62eda130e45a998f90c5ec0a09da5",
            "_dom_classes": [],
            "description": "",
            "_model_name": "FloatProgressModel",
            "bar_style": "",
            "max": 1,
            "_view_module": "@jupyter-widgets/controls",
            "_model_module_version": "1.5.0",
            "value": 1,
            "_view_count": null,
            "_view_module_version": "1.5.0",
            "orientation": "horizontal",
            "min": 0,
            "description_tooltip": null,
            "_model_module": "@jupyter-widgets/controls",
            "layout": "IPY_MODEL_4e7e2b6fa9ce4cbb9a2b7582bed379af"
          }
        },
        "aa51283c6a6b412aa2c5c28e5bfa058d": {
          "model_module": "@jupyter-widgets/controls",
          "model_name": "DescriptionStyleModel",
          "state": {
            "_view_name": "StyleView",
            "_model_name": "DescriptionStyleModel",
            "description_width": "",
            "_view_module": "@jupyter-widgets/base",
            "_model_module_version": "1.5.0",
            "_view_count": null,
            "_view_module_version": "1.2.0",
            "_model_module": "@jupyter-widgets/controls"
          }
        },
        "84dcda23589b46b7832d05b3b3844e81": {
          "model_module": "@jupyter-widgets/base",
          "model_name": "LayoutModel",
          "state": {
            "_view_name": "LayoutView",
            "grid_template_rows": null,
            "right": null,
            "justify_content": null,
            "_view_module": "@jupyter-widgets/base",
            "overflow": null,
            "_model_module_version": "1.2.0",
            "_view_count": null,
            "flex_flow": null,
            "width": null,
            "min_width": null,
            "border": null,
            "align_items": null,
            "bottom": null,
            "_model_module": "@jupyter-widgets/base",
            "top": null,
            "grid_column": null,
            "overflow_y": null,
            "overflow_x": null,
            "grid_auto_flow": null,
            "grid_area": null,
            "grid_template_columns": null,
            "flex": null,
            "_model_name": "LayoutModel",
            "justify_items": null,
            "grid_row": null,
            "max_height": null,
            "align_content": null,
            "visibility": null,
            "align_self": null,
            "height": null,
            "min_height": null,
            "padding": null,
            "grid_auto_rows": null,
            "grid_gap": null,
            "max_width": null,
            "order": null,
            "_view_module_version": "1.2.0",
            "grid_template_areas": null,
            "object_position": null,
            "object_fit": null,
            "grid_auto_columns": null,
            "margin": null,
            "display": null,
            "left": null
          }
        },
        "84c62eda130e45a998f90c5ec0a09da5": {
          "model_module": "@jupyter-widgets/controls",
          "model_name": "ProgressStyleModel",
          "state": {
            "_view_name": "StyleView",
            "_model_name": "ProgressStyleModel",
            "description_width": "",
            "_view_module": "@jupyter-widgets/base",
            "_model_module_version": "1.5.0",
            "_view_count": null,
            "_view_module_version": "1.2.0",
            "bar_color": null,
            "_model_module": "@jupyter-widgets/controls"
          }
        },
        "4e7e2b6fa9ce4cbb9a2b7582bed379af": {
          "model_module": "@jupyter-widgets/base",
          "model_name": "LayoutModel",
          "state": {
            "_view_name": "LayoutView",
            "grid_template_rows": null,
            "right": null,
            "justify_content": null,
            "_view_module": "@jupyter-widgets/base",
            "overflow": null,
            "_model_module_version": "1.2.0",
            "_view_count": null,
            "flex_flow": null,
            "width": null,
            "min_width": null,
            "border": null,
            "align_items": null,
            "bottom": null,
            "_model_module": "@jupyter-widgets/base",
            "top": null,
            "grid_column": null,
            "overflow_y": null,
            "overflow_x": null,
            "grid_auto_flow": null,
            "grid_area": null,
            "grid_template_columns": null,
            "flex": null,
            "_model_name": "LayoutModel",
            "justify_items": null,
            "grid_row": null,
            "max_height": null,
            "align_content": null,
            "visibility": null,
            "align_self": null,
            "height": null,
            "min_height": null,
            "padding": null,
            "grid_auto_rows": null,
            "grid_gap": null,
            "max_width": null,
            "order": null,
            "_view_module_version": "1.2.0",
            "grid_template_areas": null,
            "object_position": null,
            "object_fit": null,
            "grid_auto_columns": null,
            "margin": null,
            "display": null,
            "left": null
          }
        },
        "cc94ef504b294ec6a94134317432ceec": {
          "model_module": "@jupyter-widgets/controls",
          "model_name": "VBoxModel",
          "state": {
            "_view_name": "VBoxView",
            "_dom_classes": [],
            "_model_name": "VBoxModel",
            "_view_module": "@jupyter-widgets/controls",
            "_model_module_version": "1.5.0",
            "_view_count": null,
            "_view_module_version": "1.5.0",
            "box_style": "",
            "layout": "IPY_MODEL_ba6ebe159f4f4bfcbe1856a0db658c92",
            "_model_module": "@jupyter-widgets/controls",
            "children": [
              "IPY_MODEL_2227fc893afc4404a2ee239a8f92006d",
              "IPY_MODEL_48497dcb79e74dea97b9a082dd43d208"
            ]
          }
        },
        "ba6ebe159f4f4bfcbe1856a0db658c92": {
          "model_module": "@jupyter-widgets/base",
          "model_name": "LayoutModel",
          "state": {
            "_view_name": "LayoutView",
            "grid_template_rows": null,
            "right": null,
            "justify_content": null,
            "_view_module": "@jupyter-widgets/base",
            "overflow": null,
            "_model_module_version": "1.2.0",
            "_view_count": null,
            "flex_flow": null,
            "width": null,
            "min_width": null,
            "border": null,
            "align_items": null,
            "bottom": null,
            "_model_module": "@jupyter-widgets/base",
            "top": null,
            "grid_column": null,
            "overflow_y": null,
            "overflow_x": null,
            "grid_auto_flow": null,
            "grid_area": null,
            "grid_template_columns": null,
            "flex": null,
            "_model_name": "LayoutModel",
            "justify_items": null,
            "grid_row": null,
            "max_height": null,
            "align_content": null,
            "visibility": null,
            "align_self": null,
            "height": null,
            "min_height": null,
            "padding": null,
            "grid_auto_rows": null,
            "grid_gap": null,
            "max_width": null,
            "order": null,
            "_view_module_version": "1.2.0",
            "grid_template_areas": null,
            "object_position": null,
            "object_fit": null,
            "grid_auto_columns": null,
            "margin": null,
            "display": null,
            "left": null
          }
        },
        "2227fc893afc4404a2ee239a8f92006d": {
          "model_module": "@jupyter-widgets/controls",
          "model_name": "LabelModel",
          "state": {
            "_view_name": "LabelView",
            "style": "IPY_MODEL_9fffc4686ee34946ae57e4e864b1b656",
            "_dom_classes": [],
            "description": "",
            "_model_name": "LabelModel",
            "placeholder": "​",
            "_view_module": "@jupyter-widgets/controls",
            "_model_module_version": "1.5.0",
            "value": " 464.44MB of 464.44MB uploaded (0.00MB deduped)\r",
            "_view_count": null,
            "_view_module_version": "1.5.0",
            "description_tooltip": null,
            "_model_module": "@jupyter-widgets/controls",
            "layout": "IPY_MODEL_c1d575fa1a264dceb7e78b087616af43"
          }
        },
        "48497dcb79e74dea97b9a082dd43d208": {
          "model_module": "@jupyter-widgets/controls",
          "model_name": "FloatProgressModel",
          "state": {
            "_view_name": "ProgressView",
            "style": "IPY_MODEL_0b2f2d6201f54891b59884492a9e944c",
            "_dom_classes": [],
            "description": "",
            "_model_name": "FloatProgressModel",
            "bar_style": "",
            "max": 1,
            "_view_module": "@jupyter-widgets/controls",
            "_model_module_version": "1.5.0",
            "value": 1,
            "_view_count": null,
            "_view_module_version": "1.5.0",
            "orientation": "horizontal",
            "min": 0,
            "description_tooltip": null,
            "_model_module": "@jupyter-widgets/controls",
            "layout": "IPY_MODEL_93d50ec60cd64ed6a5a35f9cf1733683"
          }
        },
        "9fffc4686ee34946ae57e4e864b1b656": {
          "model_module": "@jupyter-widgets/controls",
          "model_name": "DescriptionStyleModel",
          "state": {
            "_view_name": "StyleView",
            "_model_name": "DescriptionStyleModel",
            "description_width": "",
            "_view_module": "@jupyter-widgets/base",
            "_model_module_version": "1.5.0",
            "_view_count": null,
            "_view_module_version": "1.2.0",
            "_model_module": "@jupyter-widgets/controls"
          }
        },
        "c1d575fa1a264dceb7e78b087616af43": {
          "model_module": "@jupyter-widgets/base",
          "model_name": "LayoutModel",
          "state": {
            "_view_name": "LayoutView",
            "grid_template_rows": null,
            "right": null,
            "justify_content": null,
            "_view_module": "@jupyter-widgets/base",
            "overflow": null,
            "_model_module_version": "1.2.0",
            "_view_count": null,
            "flex_flow": null,
            "width": null,
            "min_width": null,
            "border": null,
            "align_items": null,
            "bottom": null,
            "_model_module": "@jupyter-widgets/base",
            "top": null,
            "grid_column": null,
            "overflow_y": null,
            "overflow_x": null,
            "grid_auto_flow": null,
            "grid_area": null,
            "grid_template_columns": null,
            "flex": null,
            "_model_name": "LayoutModel",
            "justify_items": null,
            "grid_row": null,
            "max_height": null,
            "align_content": null,
            "visibility": null,
            "align_self": null,
            "height": null,
            "min_height": null,
            "padding": null,
            "grid_auto_rows": null,
            "grid_gap": null,
            "max_width": null,
            "order": null,
            "_view_module_version": "1.2.0",
            "grid_template_areas": null,
            "object_position": null,
            "object_fit": null,
            "grid_auto_columns": null,
            "margin": null,
            "display": null,
            "left": null
          }
        },
        "0b2f2d6201f54891b59884492a9e944c": {
          "model_module": "@jupyter-widgets/controls",
          "model_name": "ProgressStyleModel",
          "state": {
            "_view_name": "StyleView",
            "_model_name": "ProgressStyleModel",
            "description_width": "",
            "_view_module": "@jupyter-widgets/base",
            "_model_module_version": "1.5.0",
            "_view_count": null,
            "_view_module_version": "1.2.0",
            "bar_color": null,
            "_model_module": "@jupyter-widgets/controls"
          }
        },
        "93d50ec60cd64ed6a5a35f9cf1733683": {
          "model_module": "@jupyter-widgets/base",
          "model_name": "LayoutModel",
          "state": {
            "_view_name": "LayoutView",
            "grid_template_rows": null,
            "right": null,
            "justify_content": null,
            "_view_module": "@jupyter-widgets/base",
            "overflow": null,
            "_model_module_version": "1.2.0",
            "_view_count": null,
            "flex_flow": null,
            "width": null,
            "min_width": null,
            "border": null,
            "align_items": null,
            "bottom": null,
            "_model_module": "@jupyter-widgets/base",
            "top": null,
            "grid_column": null,
            "overflow_y": null,
            "overflow_x": null,
            "grid_auto_flow": null,
            "grid_area": null,
            "grid_template_columns": null,
            "flex": null,
            "_model_name": "LayoutModel",
            "justify_items": null,
            "grid_row": null,
            "max_height": null,
            "align_content": null,
            "visibility": null,
            "align_self": null,
            "height": null,
            "min_height": null,
            "padding": null,
            "grid_auto_rows": null,
            "grid_gap": null,
            "max_width": null,
            "order": null,
            "_view_module_version": "1.2.0",
            "grid_template_areas": null,
            "object_position": null,
            "object_fit": null,
            "grid_auto_columns": null,
            "margin": null,
            "display": null,
            "left": null
          }
        },
        "c388ba88f3e5460fa77d51b7c70e8507": {
          "model_module": "@jupyter-widgets/controls",
          "model_name": "VBoxModel",
          "state": {
            "_view_name": "VBoxView",
            "_dom_classes": [],
            "_model_name": "VBoxModel",
            "_view_module": "@jupyter-widgets/controls",
            "_model_module_version": "1.5.0",
            "_view_count": null,
            "_view_module_version": "1.5.0",
            "box_style": "",
            "layout": "IPY_MODEL_e45df18c00eb4d77adba517fbd9be0fa",
            "_model_module": "@jupyter-widgets/controls",
            "children": [
              "IPY_MODEL_090e9dd3d87140c888365abafcb33eca",
              "IPY_MODEL_8296925c674e43e991cec46cb5dbf43f"
            ]
          }
        },
        "e45df18c00eb4d77adba517fbd9be0fa": {
          "model_module": "@jupyter-widgets/base",
          "model_name": "LayoutModel",
          "state": {
            "_view_name": "LayoutView",
            "grid_template_rows": null,
            "right": null,
            "justify_content": null,
            "_view_module": "@jupyter-widgets/base",
            "overflow": null,
            "_model_module_version": "1.2.0",
            "_view_count": null,
            "flex_flow": null,
            "width": null,
            "min_width": null,
            "border": null,
            "align_items": null,
            "bottom": null,
            "_model_module": "@jupyter-widgets/base",
            "top": null,
            "grid_column": null,
            "overflow_y": null,
            "overflow_x": null,
            "grid_auto_flow": null,
            "grid_area": null,
            "grid_template_columns": null,
            "flex": null,
            "_model_name": "LayoutModel",
            "justify_items": null,
            "grid_row": null,
            "max_height": null,
            "align_content": null,
            "visibility": null,
            "align_self": null,
            "height": null,
            "min_height": null,
            "padding": null,
            "grid_auto_rows": null,
            "grid_gap": null,
            "max_width": null,
            "order": null,
            "_view_module_version": "1.2.0",
            "grid_template_areas": null,
            "object_position": null,
            "object_fit": null,
            "grid_auto_columns": null,
            "margin": null,
            "display": null,
            "left": null
          }
        },
        "090e9dd3d87140c888365abafcb33eca": {
          "model_module": "@jupyter-widgets/controls",
          "model_name": "LabelModel",
          "state": {
            "_view_name": "LabelView",
            "style": "IPY_MODEL_f7fc75e92f1847fd80bdb2e132cfd8ef",
            "_dom_classes": [],
            "description": "",
            "_model_name": "LabelModel",
            "placeholder": "​",
            "_view_module": "@jupyter-widgets/controls",
            "_model_module_version": "1.5.0",
            "value": " 464.44MB of 464.44MB uploaded (0.00MB deduped)\r",
            "_view_count": null,
            "_view_module_version": "1.5.0",
            "description_tooltip": null,
            "_model_module": "@jupyter-widgets/controls",
            "layout": "IPY_MODEL_0290bfe558914f7a85a0451fc9d47cf9"
          }
        },
        "8296925c674e43e991cec46cb5dbf43f": {
          "model_module": "@jupyter-widgets/controls",
          "model_name": "FloatProgressModel",
          "state": {
            "_view_name": "ProgressView",
            "style": "IPY_MODEL_b540285c38fd4bda841b466e867b225c",
            "_dom_classes": [],
            "description": "",
            "_model_name": "FloatProgressModel",
            "bar_style": "",
            "max": 1,
            "_view_module": "@jupyter-widgets/controls",
            "_model_module_version": "1.5.0",
            "value": 1,
            "_view_count": null,
            "_view_module_version": "1.5.0",
            "orientation": "horizontal",
            "min": 0,
            "description_tooltip": null,
            "_model_module": "@jupyter-widgets/controls",
            "layout": "IPY_MODEL_7678e571af964429835f0d1de4620510"
          }
        },
        "f7fc75e92f1847fd80bdb2e132cfd8ef": {
          "model_module": "@jupyter-widgets/controls",
          "model_name": "DescriptionStyleModel",
          "state": {
            "_view_name": "StyleView",
            "_model_name": "DescriptionStyleModel",
            "description_width": "",
            "_view_module": "@jupyter-widgets/base",
            "_model_module_version": "1.5.0",
            "_view_count": null,
            "_view_module_version": "1.2.0",
            "_model_module": "@jupyter-widgets/controls"
          }
        },
        "0290bfe558914f7a85a0451fc9d47cf9": {
          "model_module": "@jupyter-widgets/base",
          "model_name": "LayoutModel",
          "state": {
            "_view_name": "LayoutView",
            "grid_template_rows": null,
            "right": null,
            "justify_content": null,
            "_view_module": "@jupyter-widgets/base",
            "overflow": null,
            "_model_module_version": "1.2.0",
            "_view_count": null,
            "flex_flow": null,
            "width": null,
            "min_width": null,
            "border": null,
            "align_items": null,
            "bottom": null,
            "_model_module": "@jupyter-widgets/base",
            "top": null,
            "grid_column": null,
            "overflow_y": null,
            "overflow_x": null,
            "grid_auto_flow": null,
            "grid_area": null,
            "grid_template_columns": null,
            "flex": null,
            "_model_name": "LayoutModel",
            "justify_items": null,
            "grid_row": null,
            "max_height": null,
            "align_content": null,
            "visibility": null,
            "align_self": null,
            "height": null,
            "min_height": null,
            "padding": null,
            "grid_auto_rows": null,
            "grid_gap": null,
            "max_width": null,
            "order": null,
            "_view_module_version": "1.2.0",
            "grid_template_areas": null,
            "object_position": null,
            "object_fit": null,
            "grid_auto_columns": null,
            "margin": null,
            "display": null,
            "left": null
          }
        },
        "b540285c38fd4bda841b466e867b225c": {
          "model_module": "@jupyter-widgets/controls",
          "model_name": "ProgressStyleModel",
          "state": {
            "_view_name": "StyleView",
            "_model_name": "ProgressStyleModel",
            "description_width": "",
            "_view_module": "@jupyter-widgets/base",
            "_model_module_version": "1.5.0",
            "_view_count": null,
            "_view_module_version": "1.2.0",
            "bar_color": null,
            "_model_module": "@jupyter-widgets/controls"
          }
        },
        "7678e571af964429835f0d1de4620510": {
          "model_module": "@jupyter-widgets/base",
          "model_name": "LayoutModel",
          "state": {
            "_view_name": "LayoutView",
            "grid_template_rows": null,
            "right": null,
            "justify_content": null,
            "_view_module": "@jupyter-widgets/base",
            "overflow": null,
            "_model_module_version": "1.2.0",
            "_view_count": null,
            "flex_flow": null,
            "width": null,
            "min_width": null,
            "border": null,
            "align_items": null,
            "bottom": null,
            "_model_module": "@jupyter-widgets/base",
            "top": null,
            "grid_column": null,
            "overflow_y": null,
            "overflow_x": null,
            "grid_auto_flow": null,
            "grid_area": null,
            "grid_template_columns": null,
            "flex": null,
            "_model_name": "LayoutModel",
            "justify_items": null,
            "grid_row": null,
            "max_height": null,
            "align_content": null,
            "visibility": null,
            "align_self": null,
            "height": null,
            "min_height": null,
            "padding": null,
            "grid_auto_rows": null,
            "grid_gap": null,
            "max_width": null,
            "order": null,
            "_view_module_version": "1.2.0",
            "grid_template_areas": null,
            "object_position": null,
            "object_fit": null,
            "grid_auto_columns": null,
            "margin": null,
            "display": null,
            "left": null
          }
        },
        "1d282c0755a849749f30be6810944201": {
          "model_module": "@jupyter-widgets/controls",
          "model_name": "VBoxModel",
          "state": {
            "_view_name": "VBoxView",
            "_dom_classes": [],
            "_model_name": "VBoxModel",
            "_view_module": "@jupyter-widgets/controls",
            "_model_module_version": "1.5.0",
            "_view_count": null,
            "_view_module_version": "1.5.0",
            "box_style": "",
            "layout": "IPY_MODEL_c3920678e94b41858a7f93b16bf47f17",
            "_model_module": "@jupyter-widgets/controls",
            "children": [
              "IPY_MODEL_f9e4162ec4094dc0850fa21828ad4840",
              "IPY_MODEL_f14a2752f6464c308b2f9d22acb06be3"
            ]
          }
        },
        "c3920678e94b41858a7f93b16bf47f17": {
          "model_module": "@jupyter-widgets/base",
          "model_name": "LayoutModel",
          "state": {
            "_view_name": "LayoutView",
            "grid_template_rows": null,
            "right": null,
            "justify_content": null,
            "_view_module": "@jupyter-widgets/base",
            "overflow": null,
            "_model_module_version": "1.2.0",
            "_view_count": null,
            "flex_flow": null,
            "width": null,
            "min_width": null,
            "border": null,
            "align_items": null,
            "bottom": null,
            "_model_module": "@jupyter-widgets/base",
            "top": null,
            "grid_column": null,
            "overflow_y": null,
            "overflow_x": null,
            "grid_auto_flow": null,
            "grid_area": null,
            "grid_template_columns": null,
            "flex": null,
            "_model_name": "LayoutModel",
            "justify_items": null,
            "grid_row": null,
            "max_height": null,
            "align_content": null,
            "visibility": null,
            "align_self": null,
            "height": null,
            "min_height": null,
            "padding": null,
            "grid_auto_rows": null,
            "grid_gap": null,
            "max_width": null,
            "order": null,
            "_view_module_version": "1.2.0",
            "grid_template_areas": null,
            "object_position": null,
            "object_fit": null,
            "grid_auto_columns": null,
            "margin": null,
            "display": null,
            "left": null
          }
        },
        "f9e4162ec4094dc0850fa21828ad4840": {
          "model_module": "@jupyter-widgets/controls",
          "model_name": "LabelModel",
          "state": {
            "_view_name": "LabelView",
            "style": "IPY_MODEL_562c9610f79443b6a243c48041bdc1d7",
            "_dom_classes": [],
            "description": "",
            "_model_name": "LabelModel",
            "placeholder": "​",
            "_view_module": "@jupyter-widgets/controls",
            "_model_module_version": "1.5.0",
            "value": " 464.44MB of 464.44MB uploaded (0.00MB deduped)\r",
            "_view_count": null,
            "_view_module_version": "1.5.0",
            "description_tooltip": null,
            "_model_module": "@jupyter-widgets/controls",
            "layout": "IPY_MODEL_bcc2699f1c5549fcadde15ac3b2a8315"
          }
        },
        "f14a2752f6464c308b2f9d22acb06be3": {
          "model_module": "@jupyter-widgets/controls",
          "model_name": "FloatProgressModel",
          "state": {
            "_view_name": "ProgressView",
            "style": "IPY_MODEL_234a19327c9c4085b106db2cee5b093d",
            "_dom_classes": [],
            "description": "",
            "_model_name": "FloatProgressModel",
            "bar_style": "",
            "max": 1,
            "_view_module": "@jupyter-widgets/controls",
            "_model_module_version": "1.5.0",
            "value": 1,
            "_view_count": null,
            "_view_module_version": "1.5.0",
            "orientation": "horizontal",
            "min": 0,
            "description_tooltip": null,
            "_model_module": "@jupyter-widgets/controls",
            "layout": "IPY_MODEL_7964b82339564cdcad6f59516310ae26"
          }
        },
        "562c9610f79443b6a243c48041bdc1d7": {
          "model_module": "@jupyter-widgets/controls",
          "model_name": "DescriptionStyleModel",
          "state": {
            "_view_name": "StyleView",
            "_model_name": "DescriptionStyleModel",
            "description_width": "",
            "_view_module": "@jupyter-widgets/base",
            "_model_module_version": "1.5.0",
            "_view_count": null,
            "_view_module_version": "1.2.0",
            "_model_module": "@jupyter-widgets/controls"
          }
        },
        "bcc2699f1c5549fcadde15ac3b2a8315": {
          "model_module": "@jupyter-widgets/base",
          "model_name": "LayoutModel",
          "state": {
            "_view_name": "LayoutView",
            "grid_template_rows": null,
            "right": null,
            "justify_content": null,
            "_view_module": "@jupyter-widgets/base",
            "overflow": null,
            "_model_module_version": "1.2.0",
            "_view_count": null,
            "flex_flow": null,
            "width": null,
            "min_width": null,
            "border": null,
            "align_items": null,
            "bottom": null,
            "_model_module": "@jupyter-widgets/base",
            "top": null,
            "grid_column": null,
            "overflow_y": null,
            "overflow_x": null,
            "grid_auto_flow": null,
            "grid_area": null,
            "grid_template_columns": null,
            "flex": null,
            "_model_name": "LayoutModel",
            "justify_items": null,
            "grid_row": null,
            "max_height": null,
            "align_content": null,
            "visibility": null,
            "align_self": null,
            "height": null,
            "min_height": null,
            "padding": null,
            "grid_auto_rows": null,
            "grid_gap": null,
            "max_width": null,
            "order": null,
            "_view_module_version": "1.2.0",
            "grid_template_areas": null,
            "object_position": null,
            "object_fit": null,
            "grid_auto_columns": null,
            "margin": null,
            "display": null,
            "left": null
          }
        },
        "234a19327c9c4085b106db2cee5b093d": {
          "model_module": "@jupyter-widgets/controls",
          "model_name": "ProgressStyleModel",
          "state": {
            "_view_name": "StyleView",
            "_model_name": "ProgressStyleModel",
            "description_width": "",
            "_view_module": "@jupyter-widgets/base",
            "_model_module_version": "1.5.0",
            "_view_count": null,
            "_view_module_version": "1.2.0",
            "bar_color": null,
            "_model_module": "@jupyter-widgets/controls"
          }
        },
        "7964b82339564cdcad6f59516310ae26": {
          "model_module": "@jupyter-widgets/base",
          "model_name": "LayoutModel",
          "state": {
            "_view_name": "LayoutView",
            "grid_template_rows": null,
            "right": null,
            "justify_content": null,
            "_view_module": "@jupyter-widgets/base",
            "overflow": null,
            "_model_module_version": "1.2.0",
            "_view_count": null,
            "flex_flow": null,
            "width": null,
            "min_width": null,
            "border": null,
            "align_items": null,
            "bottom": null,
            "_model_module": "@jupyter-widgets/base",
            "top": null,
            "grid_column": null,
            "overflow_y": null,
            "overflow_x": null,
            "grid_auto_flow": null,
            "grid_area": null,
            "grid_template_columns": null,
            "flex": null,
            "_model_name": "LayoutModel",
            "justify_items": null,
            "grid_row": null,
            "max_height": null,
            "align_content": null,
            "visibility": null,
            "align_self": null,
            "height": null,
            "min_height": null,
            "padding": null,
            "grid_auto_rows": null,
            "grid_gap": null,
            "max_width": null,
            "order": null,
            "_view_module_version": "1.2.0",
            "grid_template_areas": null,
            "object_position": null,
            "object_fit": null,
            "grid_auto_columns": null,
            "margin": null,
            "display": null,
            "left": null
          }
        },
        "27ec3c668e764ef1b415475fe23c08fa": {
          "model_module": "@jupyter-widgets/controls",
          "model_name": "VBoxModel",
          "state": {
            "_view_name": "VBoxView",
            "_dom_classes": [],
            "_model_name": "VBoxModel",
            "_view_module": "@jupyter-widgets/controls",
            "_model_module_version": "1.5.0",
            "_view_count": null,
            "_view_module_version": "1.5.0",
            "box_style": "",
            "layout": "IPY_MODEL_e194cde64c484cbfb1cc755e4d55db3f",
            "_model_module": "@jupyter-widgets/controls",
            "children": [
              "IPY_MODEL_cc30d023e7bc466288dbcf3f20939d88",
              "IPY_MODEL_4b9c88412ad140b9a5f856af026842cc"
            ]
          }
        },
        "e194cde64c484cbfb1cc755e4d55db3f": {
          "model_module": "@jupyter-widgets/base",
          "model_name": "LayoutModel",
          "state": {
            "_view_name": "LayoutView",
            "grid_template_rows": null,
            "right": null,
            "justify_content": null,
            "_view_module": "@jupyter-widgets/base",
            "overflow": null,
            "_model_module_version": "1.2.0",
            "_view_count": null,
            "flex_flow": null,
            "width": null,
            "min_width": null,
            "border": null,
            "align_items": null,
            "bottom": null,
            "_model_module": "@jupyter-widgets/base",
            "top": null,
            "grid_column": null,
            "overflow_y": null,
            "overflow_x": null,
            "grid_auto_flow": null,
            "grid_area": null,
            "grid_template_columns": null,
            "flex": null,
            "_model_name": "LayoutModel",
            "justify_items": null,
            "grid_row": null,
            "max_height": null,
            "align_content": null,
            "visibility": null,
            "align_self": null,
            "height": null,
            "min_height": null,
            "padding": null,
            "grid_auto_rows": null,
            "grid_gap": null,
            "max_width": null,
            "order": null,
            "_view_module_version": "1.2.0",
            "grid_template_areas": null,
            "object_position": null,
            "object_fit": null,
            "grid_auto_columns": null,
            "margin": null,
            "display": null,
            "left": null
          }
        },
        "cc30d023e7bc466288dbcf3f20939d88": {
          "model_module": "@jupyter-widgets/controls",
          "model_name": "LabelModel",
          "state": {
            "_view_name": "LabelView",
            "style": "IPY_MODEL_f1bc64ef256b41c79d460fc3a9cafe3f",
            "_dom_classes": [],
            "description": "",
            "_model_name": "LabelModel",
            "placeholder": "​",
            "_view_module": "@jupyter-widgets/controls",
            "_model_module_version": "1.5.0",
            "value": " 464.44MB of 464.44MB uploaded (0.00MB deduped)\r",
            "_view_count": null,
            "_view_module_version": "1.5.0",
            "description_tooltip": null,
            "_model_module": "@jupyter-widgets/controls",
            "layout": "IPY_MODEL_4509a980422943e992c39bc8de1b4c2c"
          }
        },
        "4b9c88412ad140b9a5f856af026842cc": {
          "model_module": "@jupyter-widgets/controls",
          "model_name": "FloatProgressModel",
          "state": {
            "_view_name": "ProgressView",
            "style": "IPY_MODEL_834619ee8ce7458ba118a82e92ca572e",
            "_dom_classes": [],
            "description": "",
            "_model_name": "FloatProgressModel",
            "bar_style": "",
            "max": 1,
            "_view_module": "@jupyter-widgets/controls",
            "_model_module_version": "1.5.0",
            "value": 1,
            "_view_count": null,
            "_view_module_version": "1.5.0",
            "orientation": "horizontal",
            "min": 0,
            "description_tooltip": null,
            "_model_module": "@jupyter-widgets/controls",
            "layout": "IPY_MODEL_f164e1d5859f41c4ab5eab3fc91f9dbb"
          }
        },
        "f1bc64ef256b41c79d460fc3a9cafe3f": {
          "model_module": "@jupyter-widgets/controls",
          "model_name": "DescriptionStyleModel",
          "state": {
            "_view_name": "StyleView",
            "_model_name": "DescriptionStyleModel",
            "description_width": "",
            "_view_module": "@jupyter-widgets/base",
            "_model_module_version": "1.5.0",
            "_view_count": null,
            "_view_module_version": "1.2.0",
            "_model_module": "@jupyter-widgets/controls"
          }
        },
        "4509a980422943e992c39bc8de1b4c2c": {
          "model_module": "@jupyter-widgets/base",
          "model_name": "LayoutModel",
          "state": {
            "_view_name": "LayoutView",
            "grid_template_rows": null,
            "right": null,
            "justify_content": null,
            "_view_module": "@jupyter-widgets/base",
            "overflow": null,
            "_model_module_version": "1.2.0",
            "_view_count": null,
            "flex_flow": null,
            "width": null,
            "min_width": null,
            "border": null,
            "align_items": null,
            "bottom": null,
            "_model_module": "@jupyter-widgets/base",
            "top": null,
            "grid_column": null,
            "overflow_y": null,
            "overflow_x": null,
            "grid_auto_flow": null,
            "grid_area": null,
            "grid_template_columns": null,
            "flex": null,
            "_model_name": "LayoutModel",
            "justify_items": null,
            "grid_row": null,
            "max_height": null,
            "align_content": null,
            "visibility": null,
            "align_self": null,
            "height": null,
            "min_height": null,
            "padding": null,
            "grid_auto_rows": null,
            "grid_gap": null,
            "max_width": null,
            "order": null,
            "_view_module_version": "1.2.0",
            "grid_template_areas": null,
            "object_position": null,
            "object_fit": null,
            "grid_auto_columns": null,
            "margin": null,
            "display": null,
            "left": null
          }
        },
        "834619ee8ce7458ba118a82e92ca572e": {
          "model_module": "@jupyter-widgets/controls",
          "model_name": "ProgressStyleModel",
          "state": {
            "_view_name": "StyleView",
            "_model_name": "ProgressStyleModel",
            "description_width": "",
            "_view_module": "@jupyter-widgets/base",
            "_model_module_version": "1.5.0",
            "_view_count": null,
            "_view_module_version": "1.2.0",
            "bar_color": null,
            "_model_module": "@jupyter-widgets/controls"
          }
        },
        "f164e1d5859f41c4ab5eab3fc91f9dbb": {
          "model_module": "@jupyter-widgets/base",
          "model_name": "LayoutModel",
          "state": {
            "_view_name": "LayoutView",
            "grid_template_rows": null,
            "right": null,
            "justify_content": null,
            "_view_module": "@jupyter-widgets/base",
            "overflow": null,
            "_model_module_version": "1.2.0",
            "_view_count": null,
            "flex_flow": null,
            "width": null,
            "min_width": null,
            "border": null,
            "align_items": null,
            "bottom": null,
            "_model_module": "@jupyter-widgets/base",
            "top": null,
            "grid_column": null,
            "overflow_y": null,
            "overflow_x": null,
            "grid_auto_flow": null,
            "grid_area": null,
            "grid_template_columns": null,
            "flex": null,
            "_model_name": "LayoutModel",
            "justify_items": null,
            "grid_row": null,
            "max_height": null,
            "align_content": null,
            "visibility": null,
            "align_self": null,
            "height": null,
            "min_height": null,
            "padding": null,
            "grid_auto_rows": null,
            "grid_gap": null,
            "max_width": null,
            "order": null,
            "_view_module_version": "1.2.0",
            "grid_template_areas": null,
            "object_position": null,
            "object_fit": null,
            "grid_auto_columns": null,
            "margin": null,
            "display": null,
            "left": null
          }
        },
        "d965e789a89c459395efac9353e379f7": {
          "model_module": "@jupyter-widgets/controls",
          "model_name": "VBoxModel",
          "state": {
            "_view_name": "VBoxView",
            "_dom_classes": [],
            "_model_name": "VBoxModel",
            "_view_module": "@jupyter-widgets/controls",
            "_model_module_version": "1.5.0",
            "_view_count": null,
            "_view_module_version": "1.5.0",
            "box_style": "",
            "layout": "IPY_MODEL_78699c0ef61c478ca3cc391e2e19a2dc",
            "_model_module": "@jupyter-widgets/controls",
            "children": [
              "IPY_MODEL_9b807ea55f3449ec84f4dc223228d8aa",
              "IPY_MODEL_46f3fe821d8a49c3bd7bd0d2b341c34d"
            ]
          }
        },
        "78699c0ef61c478ca3cc391e2e19a2dc": {
          "model_module": "@jupyter-widgets/base",
          "model_name": "LayoutModel",
          "state": {
            "_view_name": "LayoutView",
            "grid_template_rows": null,
            "right": null,
            "justify_content": null,
            "_view_module": "@jupyter-widgets/base",
            "overflow": null,
            "_model_module_version": "1.2.0",
            "_view_count": null,
            "flex_flow": null,
            "width": null,
            "min_width": null,
            "border": null,
            "align_items": null,
            "bottom": null,
            "_model_module": "@jupyter-widgets/base",
            "top": null,
            "grid_column": null,
            "overflow_y": null,
            "overflow_x": null,
            "grid_auto_flow": null,
            "grid_area": null,
            "grid_template_columns": null,
            "flex": null,
            "_model_name": "LayoutModel",
            "justify_items": null,
            "grid_row": null,
            "max_height": null,
            "align_content": null,
            "visibility": null,
            "align_self": null,
            "height": null,
            "min_height": null,
            "padding": null,
            "grid_auto_rows": null,
            "grid_gap": null,
            "max_width": null,
            "order": null,
            "_view_module_version": "1.2.0",
            "grid_template_areas": null,
            "object_position": null,
            "object_fit": null,
            "grid_auto_columns": null,
            "margin": null,
            "display": null,
            "left": null
          }
        },
        "9b807ea55f3449ec84f4dc223228d8aa": {
          "model_module": "@jupyter-widgets/controls",
          "model_name": "LabelModel",
          "state": {
            "_view_name": "LabelView",
            "style": "IPY_MODEL_5cc252926be4406aa49b039722830ba1",
            "_dom_classes": [],
            "description": "",
            "_model_name": "LabelModel",
            "placeholder": "​",
            "_view_module": "@jupyter-widgets/controls",
            "_model_module_version": "1.5.0",
            "value": " 522.58MB of 522.58MB uploaded (0.00MB deduped)\r",
            "_view_count": null,
            "_view_module_version": "1.5.0",
            "description_tooltip": null,
            "_model_module": "@jupyter-widgets/controls",
            "layout": "IPY_MODEL_01aa7354ee11489e8ba6bfea61e772e6"
          }
        },
        "46f3fe821d8a49c3bd7bd0d2b341c34d": {
          "model_module": "@jupyter-widgets/controls",
          "model_name": "FloatProgressModel",
          "state": {
            "_view_name": "ProgressView",
            "style": "IPY_MODEL_146c53fbaea34d0ba10e413307d59b88",
            "_dom_classes": [],
            "description": "",
            "_model_name": "FloatProgressModel",
            "bar_style": "",
            "max": 1,
            "_view_module": "@jupyter-widgets/controls",
            "_model_module_version": "1.5.0",
            "value": 1,
            "_view_count": null,
            "_view_module_version": "1.5.0",
            "orientation": "horizontal",
            "min": 0,
            "description_tooltip": null,
            "_model_module": "@jupyter-widgets/controls",
            "layout": "IPY_MODEL_a9a2a255f23d45679ce57b7262fa9336"
          }
        },
        "5cc252926be4406aa49b039722830ba1": {
          "model_module": "@jupyter-widgets/controls",
          "model_name": "DescriptionStyleModel",
          "state": {
            "_view_name": "StyleView",
            "_model_name": "DescriptionStyleModel",
            "description_width": "",
            "_view_module": "@jupyter-widgets/base",
            "_model_module_version": "1.5.0",
            "_view_count": null,
            "_view_module_version": "1.2.0",
            "_model_module": "@jupyter-widgets/controls"
          }
        },
        "01aa7354ee11489e8ba6bfea61e772e6": {
          "model_module": "@jupyter-widgets/base",
          "model_name": "LayoutModel",
          "state": {
            "_view_name": "LayoutView",
            "grid_template_rows": null,
            "right": null,
            "justify_content": null,
            "_view_module": "@jupyter-widgets/base",
            "overflow": null,
            "_model_module_version": "1.2.0",
            "_view_count": null,
            "flex_flow": null,
            "width": null,
            "min_width": null,
            "border": null,
            "align_items": null,
            "bottom": null,
            "_model_module": "@jupyter-widgets/base",
            "top": null,
            "grid_column": null,
            "overflow_y": null,
            "overflow_x": null,
            "grid_auto_flow": null,
            "grid_area": null,
            "grid_template_columns": null,
            "flex": null,
            "_model_name": "LayoutModel",
            "justify_items": null,
            "grid_row": null,
            "max_height": null,
            "align_content": null,
            "visibility": null,
            "align_self": null,
            "height": null,
            "min_height": null,
            "padding": null,
            "grid_auto_rows": null,
            "grid_gap": null,
            "max_width": null,
            "order": null,
            "_view_module_version": "1.2.0",
            "grid_template_areas": null,
            "object_position": null,
            "object_fit": null,
            "grid_auto_columns": null,
            "margin": null,
            "display": null,
            "left": null
          }
        },
        "146c53fbaea34d0ba10e413307d59b88": {
          "model_module": "@jupyter-widgets/controls",
          "model_name": "ProgressStyleModel",
          "state": {
            "_view_name": "StyleView",
            "_model_name": "ProgressStyleModel",
            "description_width": "",
            "_view_module": "@jupyter-widgets/base",
            "_model_module_version": "1.5.0",
            "_view_count": null,
            "_view_module_version": "1.2.0",
            "bar_color": null,
            "_model_module": "@jupyter-widgets/controls"
          }
        },
        "a9a2a255f23d45679ce57b7262fa9336": {
          "model_module": "@jupyter-widgets/base",
          "model_name": "LayoutModel",
          "state": {
            "_view_name": "LayoutView",
            "grid_template_rows": null,
            "right": null,
            "justify_content": null,
            "_view_module": "@jupyter-widgets/base",
            "overflow": null,
            "_model_module_version": "1.2.0",
            "_view_count": null,
            "flex_flow": null,
            "width": null,
            "min_width": null,
            "border": null,
            "align_items": null,
            "bottom": null,
            "_model_module": "@jupyter-widgets/base",
            "top": null,
            "grid_column": null,
            "overflow_y": null,
            "overflow_x": null,
            "grid_auto_flow": null,
            "grid_area": null,
            "grid_template_columns": null,
            "flex": null,
            "_model_name": "LayoutModel",
            "justify_items": null,
            "grid_row": null,
            "max_height": null,
            "align_content": null,
            "visibility": null,
            "align_self": null,
            "height": null,
            "min_height": null,
            "padding": null,
            "grid_auto_rows": null,
            "grid_gap": null,
            "max_width": null,
            "order": null,
            "_view_module_version": "1.2.0",
            "grid_template_areas": null,
            "object_position": null,
            "object_fit": null,
            "grid_auto_columns": null,
            "margin": null,
            "display": null,
            "left": null
          }
        }
      }
    }
  },
  "cells": [
    {
      "cell_type": "code",
      "metadata": {
        "id": "mU_wmnaNVFhO"
      },
      "source": [
        "import tensorflow as tf\n",
        "from tensorflow import keras\n",
        "from tensorflow.keras import layers\n",
        "from tensorflow.keras.models import Sequential\n",
        "import matplotlib.pyplot as plt\n",
        "import numpy as np\n",
        "import os\n",
        "import PIL\n",
        "import cv2\n",
        "import pathlib\n",
        "import glob\n",
        "import shutil\n",
        "import os\n",
        "import random\n",
        "from tensorflow.keras.applications.inception_v3 import InceptionV3\n",
        "from tensorflow.keras.applications.xception import Xception\n",
        "from keras.applications.inception_resnet_v2 import InceptionResNetV2\n",
        "from keras.applications.resnet50 import ResNet50\n",
        "from keras.applications.mobilenet import MobileNet\n",
        "from tensorflow.keras.preprocessing import image\n",
        "from tensorflow.keras.models import Model\n",
        "from tensorflow.keras.layers import Dense, GlobalAveragePooling2D\n",
        "from tensorflow.keras.layers import Dense, GlobalMaxPooling2D\n",
        "from tensorflow.keras.optimizers import Adam\n",
        "from tensorflow.keras.callbacks import Callback"
      ],
      "execution_count": null,
      "outputs": []
    },
    {
      "cell_type": "code",
      "metadata": {
        "id": "6oFlezA3UNRK"
      },
      "source": [
        "from keras.applications import ResNet101, ResNet152, ResNet50V2, ResNet101V2, ResNet152V2"
      ],
      "execution_count": null,
      "outputs": []
    },
    {
      "cell_type": "code",
      "metadata": {
        "id": "z34swmp9ND1g"
      },
      "source": [
        "%%capture\n",
        "!pip install wandb -qqq\n",
        "import wandb"
      ],
      "execution_count": null,
      "outputs": []
    },
    {
      "cell_type": "code",
      "metadata": {
        "id": "vbuWkh9kNerj"
      },
      "source": [
        "from wandb.keras import WandbCallback"
      ],
      "execution_count": null,
      "outputs": []
    },
    {
      "cell_type": "code",
      "metadata": {
        "colab": {
          "base_uri": "https://localhost:8080/"
        },
        "id": "z1eLLYa4NDyH",
        "outputId": "3ee0a674-bf9f-4eae-c11f-46f28054ad7f"
      },
      "source": [
        "!wandb login --relogin"
      ],
      "execution_count": null,
      "outputs": [
        {
          "output_type": "stream",
          "text": [
            "\u001b[34m\u001b[1mwandb\u001b[0m: You can find your API key in your browser here: https://wandb.ai/authorize\n",
            "\u001b[34m\u001b[1mwandb\u001b[0m: Paste an API key from your profile and hit enter: \n",
            "\u001b[34m\u001b[1mwandb\u001b[0m: Appending key for api.wandb.ai to your netrc file: /root/.netrc\n"
          ],
          "name": "stdout"
        }
      ]
    },
    {
      "cell_type": "code",
      "metadata": {
        "colab": {
          "base_uri": "https://localhost:8080/"
        },
        "id": "KUFbS5KRYipF",
        "outputId": "c669c6fe-402b-4a68-be0b-13b652818378"
      },
      "source": [
        "############################### caution : terminal commands ###########################################\n",
        "\n",
        "#-----------------------------empty the datasets forlder before downloading the dataset ------------------------\n",
        "\n",
        "%cd\n",
        "%cd .keras/datasets/\n",
        "!rm -r *"
      ],
      "execution_count": null,
      "outputs": [
        {
          "output_type": "stream",
          "text": [
            "/root\n",
            "/root/.keras/datasets\n"
          ],
          "name": "stdout"
        }
      ]
    },
    {
      "cell_type": "code",
      "metadata": {
        "colab": {
          "base_uri": "https://localhost:8080/"
        },
        "id": "uWz2g5jsFWMQ",
        "outputId": "d2f3da61-80e0-4e3b-9ccd-07566cd5539e"
      },
      "source": [
        "############################### download data from given url ###################################3\n",
        "\n",
        "dataset_url = \"https://storage.googleapis.com/wandb_datasets/nature_12K.zip\"\n",
        "data_dir = tf.keras.utils.get_file('nature_12K', origin=dataset_url, extract=True)\n"
      ],
      "execution_count": null,
      "outputs": [
        {
          "output_type": "stream",
          "text": [
            "Downloading data from https://storage.googleapis.com/wandb_datasets/nature_12K.zip\n",
            "3816693760/3816687935 [==============================] - 65s 0us/step\n"
          ],
          "name": "stdout"
        }
      ]
    },
    {
      "cell_type": "code",
      "metadata": {
        "id": "fGGDdWOvFYWK",
        "colab": {
          "base_uri": "https://localhost:8080/"
        },
        "outputId": "50ea8844-9bdb-4de8-ddf2-de4816cb5e0b"
      },
      "source": [
        "#------------------------------caution : terminal commands --------------------------------------\n",
        "\n",
        "%cd\n",
        "%cd .keras/datasets/inaturalist_12K\n",
        "%mv val test\n",
        "!mkdir valid"
      ],
      "execution_count": null,
      "outputs": [
        {
          "output_type": "stream",
          "text": [
            "/root\n",
            "/root/.keras/datasets/inaturalist_12K\n"
          ],
          "name": "stdout"
        }
      ]
    },
    {
      "cell_type": "code",
      "metadata": {
        "id": "WQJIOff7RWOf"
      },
      "source": [
        "###################### split train data into validation set and training set ##########################\n",
        "\n",
        "data_folder = '/root/.keras/datasets/inaturalist_12K'\n",
        "os.chdir(data_folder)\n",
        "\n",
        "folder_names = ['Amphibia', 'Animalia', 'Arachnida', 'Aves', 'Fungi', 'Insecta', 'Mammalia', 'Mollusca', 'Plantae', 'Reptilia' ]\n",
        "for i in range(0,10):\n",
        "  source = data_folder + \"/train/\" +folder_names[i]  \n",
        "  orig_files = os.listdir(source)\n",
        "  chosen_indexes = random.sample(range(0, len(orig_files)-1), 100)\n",
        "\n",
        "  destination = data_folder + \"/valid/\"\n",
        "  os.chdir(destination)\n",
        "  os.system('mkdir'+' '+str(folder_names[i]))\n",
        "  destination = destination + folder_names[i]\n",
        "  for j in range(0,100):\n",
        "    shutil.move(   source +\"/\" + str(   orig_files[   chosen_indexes[j]  ]   )  , destination)\n"
      ],
      "execution_count": null,
      "outputs": []
    },
    {
      "cell_type": "code",
      "metadata": {
        "id": "W9fn2_KiRWKZ"
      },
      "source": [
        "######################## Correcting the directory location #################################\n",
        "\n",
        "#data_dir = '/root/.keras/datasets/nature_12K'\n",
        "\n",
        "data_dir = data_dir.split('/')\n",
        "data_dir.remove('nature_12K')\n",
        "data_dir.append('inaturalist_12K')\n",
        "data_dir = '/'.join(data_dir)\n"
      ],
      "execution_count": null,
      "outputs": []
    },
    {
      "cell_type": "code",
      "metadata": {
        "id": "pTM_1UNdRWHn"
      },
      "source": [
        "#----------------------------Taking the train data---------------------------------------------\n",
        "train_data_dir_path = data_dir + '/train'\n",
        "train_data_dir = pathlib.Path(train_data_dir_path)\n",
        "\n",
        "#----------------------------Taking the validation data---------------------------------------\n",
        "valid_data_dir_path = data_dir + '/valid'\n",
        "valid_data_dir = pathlib.Path(valid_data_dir_path)\n",
        "\n",
        "#-----------------------------Taking the test data----------------------------------------\n",
        "test_data_dir_path = data_dir + '/test'\n",
        "test_data_dir = pathlib.Path(test_data_dir_path)"
      ],
      "execution_count": null,
      "outputs": []
    },
    {
      "cell_type": "code",
      "metadata": {
        "id": "v9lMEAEfRbjO"
      },
      "source": [
        "#----------------------------Parameters for the images----------------------------------------\n",
        "batch_size = 32\n",
        "img_height = 180\n",
        "img_width = 180"
      ],
      "execution_count": null,
      "outputs": []
    },
    {
      "cell_type": "code",
      "metadata": {
        "colab": {
          "base_uri": "https://localhost:8080/"
        },
        "id": "RDPv0DjeRbf_",
        "outputId": "eee41026-aa9a-4112-affd-bba6fd19fe07"
      },
      "source": [
        "########################### converting the image data into dataset ##############################\n",
        "\n",
        "#--------------------------training dataset ---------------------------------------\n",
        "train_ds = tf.keras.preprocessing.image_dataset_from_directory(\n",
        "  train_data_dir,\n",
        "  seed=123,\n",
        "  image_size=(img_height, img_width),\n",
        "  batch_size=batch_size,\n",
        "  label_mode=\"categorical\"\n",
        "  )\n",
        "\n",
        "#-------------------------validation dataset ----------------------------------\n",
        "val_ds = tf.keras.preprocessing.image_dataset_from_directory(\n",
        "  valid_data_dir,\n",
        "  seed=123,\n",
        "  image_size=(img_height, img_width),\n",
        "  batch_size=batch_size,\n",
        "  label_mode=\"categorical\"\n",
        "  )"
      ],
      "execution_count": null,
      "outputs": [
        {
          "output_type": "stream",
          "text": [
            "Found 8999 files belonging to 10 classes.\n",
            "Found 1000 files belonging to 10 classes.\n"
          ],
          "name": "stdout"
        }
      ]
    },
    {
      "cell_type": "code",
      "metadata": {
        "id": "cpage8SfRbdu"
      },
      "source": [
        "######################################## function for using trained model ###############################\n",
        "\n",
        "\n",
        "def get_desired_model(b_model, input_shape=(180,180,3), num_dense_neurons=1014,activation=\"relu\",activation2=\"softmax\",dropout=None, pooling=\"max\",l_rate=0.0001): \n",
        "    \n",
        "    if b_model==\"Xception\":\n",
        "      base_model=Xception\n",
        "    elif b_model==\"InceptionV3\":\n",
        "      base_model=InceptionV3\n",
        "    elif b_model==\"ResNet50\":\n",
        "      base_model=ResNet50\n",
        "    elif b_model==\"MobileNet\":\n",
        "      base_model=MobileNet\n",
        "    elif b_model == \"ResNet101\":\n",
        "      base_model=ResNet101\n",
        "    elif b_model == \"ResNet152\":\n",
        "      base_model=ResNet152\n",
        "    elif b_model == \"ResNet50V2\":\n",
        "      base_model=ResNet50V2\n",
        "    elif b_model == \"ResNet101V2\":\n",
        "      base_model=ResNet101V2\n",
        "    elif b_model == \"ResNet152V2\":\n",
        "      base_model=ResNet152V2\n",
        "    \n",
        "    \n",
        "    \n",
        "\n",
        "    base = base_model(input_shape=input_shape,include_top=False,weights='imagenet') \n",
        "  \n",
        "  #------------------------------ perform pooling --------------------------------------\n",
        "    if pooling == \"avg\": \n",
        "        x = GlobalAveragePooling2D()(base.output) \n",
        "    elif pooling == \"max\": \n",
        "        x = GlobalMaxPooling2D()(base.output) \n",
        "\n",
        "  #---------------------------- Flatten the output  --------------------------------------\n",
        "\n",
        "    x = layers.Flatten()(base.output)\n",
        "\n",
        "\n",
        "  #------------------------------- dropout ---------------------------------------------\n",
        "    if dropout != 0: \n",
        "        x = layers.Dropout(dropout)(x) \n",
        "\n",
        "  #----------------------------- add fully connected layer ---------------------------------\n",
        "    x = Dense(num_dense_neurons, activation=activation)(x) \n",
        "\n",
        "  #------------------------------- and a logistic layer -------------------------------------\n",
        "    x = Dense(10, activation=activation2)(x) \n",
        "\n",
        "  #----------------------------------- get model ----------------------------------------------\n",
        "    model = Model(inputs=base.input, outputs=x) \n",
        "\n",
        "  #--------------------------------- setting the trainable layers -------------------------------\n",
        "    for layer in base.layers:\n",
        "        layer.trainable = False\n",
        "\n",
        " #------------------------------------compiling the model -----------------------------------------\n",
        "    model.compile(loss='categorical_crossentropy', metrics=[\"accuracy\"], optimizer=Adam(l_rate)) \n",
        "    \n",
        "  #-------------------------------------return model -------------------------------------------------\n",
        "    return model\n",
        "\n",
        "#============================== end of get_desired_model function ========================================"
      ],
      "execution_count": null,
      "outputs": []
    },
    {
      "cell_type": "code",
      "metadata": {
        "id": "KrniEm-WUUG3"
      },
      "source": [
        "#--------------------------- training -------------------------------------------\n",
        "def train(model, train_ds, val_ds, epochs=5):\n",
        "  history = model.fit(train_ds, validation_data = val_ds, epochs = epochs, callbacks=[WandbCallback()])\n",
        "  return history"
      ],
      "execution_count": null,
      "outputs": []
    },
    {
      "cell_type": "code",
      "metadata": {
        "id": "y8_2d_jtN6nc",
        "colab": {
          "base_uri": "https://localhost:8080/"
        },
        "outputId": "20f2bb7a-80e7-45de-b711-6e3dc665ed48"
      },
      "source": [
        "#--------------------------- Setting parameters for wandb -------------------------------------------\n",
        "\n",
        "sweep_config={\n",
        "              \"method\":\"random\",\n",
        "              'metric' : {\n",
        "                            'name' : 'val_accuracy',\n",
        "                            'goal' : 'maximize',\n",
        "                         },\n",
        "          \"parameters\" : {\n",
        "                            \"base_model\":{\"values\":[\"ResNet50\", \"Xception\", \"InceptionV3\", \"MobileNet\"]},\n",
        "                            \"activation\":{\"values\":['relu']},\n",
        "                            \"activation2\":{\"values\":['softmax']},\n",
        "                            \"input_shape\":{\"values\":[(180,180,3)]},\n",
        "                            \"dropout\":{\"values\":[0,0.1,0.2]},\n",
        "                            \"num_dense_neuron\":{\"values\":[256,512,1014]},\n",
        "                            \"l_rate\":{\"values\":[0.0001,0.00005]},\n",
        "                            \"epoch\": {\"values\": [5,10]},\n",
        "                            \"pooling\":{\"values\":[\"max\",\"avg\", \"no pooling\"]}\n",
        "                         }\n",
        "              }\n",
        "sweep_id = wandb.sweep(sweep_config, project=\"pretrained\")"
      ],
      "execution_count": null,
      "outputs": [
        {
          "output_type": "stream",
          "text": [
            "Create sweep with ID: 564a0kzf\n",
            "Sweep URL: https://wandb.ai/pranayrajparisha/pretrained/sweeps/564a0kzf\n"
          ],
          "name": "stdout"
        }
      ]
    },
    {
      "cell_type": "code",
      "metadata": {
        "id": "48F6TZtSPZU8"
      },
      "source": [
        "#---------------------------  function for wandb -------------------------------------------\n",
        "\n",
        "def run():\n",
        "\n",
        "  wb = wandb.init()\n",
        "  config = wb.config\n",
        "\n",
        "  # sweep parameters\n",
        "  base_model = config.base_model\n",
        "  activation = config.activation\n",
        "  activation2 = config.activation2\n",
        "  dropout = config.dropout\n",
        "  input_shape = config.input_shape\n",
        "  num_dense_neuron = config.num_dense_neuron\n",
        "  l_rate=config.l_rate\n",
        "  epoch=config.epoch\n",
        "  pooling = config.pooling\n",
        "\n",
        "  \n",
        "  model = get_desired_model(base_model, input_shape, num_dense_neuron, activation, activation2, dropout, pooling, l_rate)\n",
        "  history = train(model, train_ds, val_ds, epoch)\n",
        "\n",
        "  return"
      ],
      "execution_count": null,
      "outputs": []
    },
    {
      "cell_type": "code",
      "metadata": {
        "id": "hAEJm_AmTpwd",
        "colab": {
          "base_uri": "https://localhost:8080/",
          "height": 1000,
          "referenced_widgets": [
            "b983891cf04c40e89e31ae5c15b81558",
            "48544a8074ed4ff194d111ef5a89118a",
            "18bddd49da6e4e0c8528786fbd9eb701",
            "287826e30ca64ac4aff1f36f9bd6309a",
            "e2f8be8cab7042d69495ce52b88bbc68",
            "e678f3577b4844bf9cab49d03030f82a",
            "02b3212592eb40fcb49adee699a56cb2",
            "ca3d7d66b5b54d0c8617abe3bb481a91",
            "8494bf9cbe7c41debf395fa62ecd67b8",
            "0559e75151bd4d87a716cfd098fb603b",
            "8d31fa041f624a919dc5237ec8caa373",
            "b5001ef447434ee69c27da5157d2404a",
            "0b26e770a4a74b84b3d07109b3060c38",
            "771ec429163646e8b2a064aac82022c9",
            "622fe32e73534ed3b98acc95a9ba04e4",
            "e7d337483e3a4b888fa12483c0abc59b",
            "d3e82b65a7434fed9b1a5537ea5c5a50",
            "9a0ccd8bf2fd4693877770b3ffbec4de",
            "584d576fe8174f4a99dac008ab631f52",
            "0369ce53ad554d7ea9e718f140b53859",
            "84fc66df19484fc7862deadf670f2c47",
            "4e3fb84207d344dd9b9eb17a92e84bd6",
            "05d506aa1b774a6cb796160bc8faf315",
            "ab7b6de9f3a14cd2bec1498384944614",
            "49d3e9250a104bab8b95e0d413ff1b57",
            "9b36c6f174014604a6a6b7e217532cac",
            "20baf706dcd04dcf92a3f614dd16bb9b",
            "f1f7e624087b44dd9512f5b643f3daaf",
            "9ffb710b183142bcbe49e5be5d1ba049",
            "3625c3ebb20b4481996a04e35b08897a",
            "d2e720b0faff44feb9f83f875b47de57",
            "df03475aff174cd38ee40d0dea1fca12",
            "e0de06fc8e2342958a82a86cbbb4916d",
            "ee63f18a7b3c4efcb29dca3439370617",
            "c7d679407b5c48b68024d3873c54f0fb",
            "ff324a4c8e7d4294acef7ffb79cd4179",
            "95125ef4ad694475a533760d9f76dfde",
            "40807dd43c8c4186a5c0cf4a1efca111",
            "2a324d1fa6eb47d59f023c497b9d01a4",
            "002a286ab2494860949c3dcfa6f45c8c",
            "9294c23a39b54a6a8f2a92e1629e56c9",
            "8e633ec95c17466d9cf586094344a3a7",
            "8cfb3a990a6a40aaace6f884b97538e3",
            "9875d42a777d49a0a01459a4c12adcba",
            "c9d7e37fb02447fba82b6e96b4cd08e0",
            "b41a0c5fa2c848e5af2e78d668858fb9",
            "0b62cc4365014d90909554b04edacd82",
            "7d400120b33c47e2897569671215c7a6",
            "45c64ec13a0c47fb95b062e81dbd2947",
            "063de180228e4dfbada1658da1df9151",
            "3a20d8e5aa654f81ac35001e002051d9",
            "b2df60500aa34463802ae958c5d1214d",
            "aa51283c6a6b412aa2c5c28e5bfa058d",
            "84dcda23589b46b7832d05b3b3844e81",
            "84c62eda130e45a998f90c5ec0a09da5",
            "4e7e2b6fa9ce4cbb9a2b7582bed379af",
            "cc94ef504b294ec6a94134317432ceec",
            "ba6ebe159f4f4bfcbe1856a0db658c92",
            "2227fc893afc4404a2ee239a8f92006d",
            "48497dcb79e74dea97b9a082dd43d208",
            "9fffc4686ee34946ae57e4e864b1b656",
            "c1d575fa1a264dceb7e78b087616af43",
            "0b2f2d6201f54891b59884492a9e944c",
            "93d50ec60cd64ed6a5a35f9cf1733683",
            "c388ba88f3e5460fa77d51b7c70e8507",
            "e45df18c00eb4d77adba517fbd9be0fa",
            "090e9dd3d87140c888365abafcb33eca",
            "8296925c674e43e991cec46cb5dbf43f",
            "f7fc75e92f1847fd80bdb2e132cfd8ef",
            "0290bfe558914f7a85a0451fc9d47cf9",
            "b540285c38fd4bda841b466e867b225c",
            "7678e571af964429835f0d1de4620510",
            "1d282c0755a849749f30be6810944201",
            "c3920678e94b41858a7f93b16bf47f17",
            "f9e4162ec4094dc0850fa21828ad4840",
            "f14a2752f6464c308b2f9d22acb06be3",
            "562c9610f79443b6a243c48041bdc1d7",
            "bcc2699f1c5549fcadde15ac3b2a8315",
            "234a19327c9c4085b106db2cee5b093d",
            "7964b82339564cdcad6f59516310ae26",
            "27ec3c668e764ef1b415475fe23c08fa",
            "e194cde64c484cbfb1cc755e4d55db3f",
            "cc30d023e7bc466288dbcf3f20939d88",
            "4b9c88412ad140b9a5f856af026842cc",
            "f1bc64ef256b41c79d460fc3a9cafe3f",
            "4509a980422943e992c39bc8de1b4c2c",
            "834619ee8ce7458ba118a82e92ca572e",
            "f164e1d5859f41c4ab5eab3fc91f9dbb",
            "d965e789a89c459395efac9353e379f7",
            "78699c0ef61c478ca3cc391e2e19a2dc",
            "9b807ea55f3449ec84f4dc223228d8aa",
            "46f3fe821d8a49c3bd7bd0d2b341c34d",
            "5cc252926be4406aa49b039722830ba1",
            "01aa7354ee11489e8ba6bfea61e772e6",
            "146c53fbaea34d0ba10e413307d59b88",
            "a9a2a255f23d45679ce57b7262fa9336"
          ]
        },
        "outputId": "07a30f0a-f193-41da-b704-6b0ff4edf45e"
      },
      "source": [
        "wandb.agent(sweep_id, run)"
      ],
      "execution_count": null,
      "outputs": [
        {
          "output_type": "stream",
          "text": [
            "\u001b[34m\u001b[1mwandb\u001b[0m: Sweep Agent: Waiting for job.\n",
            "\u001b[34m\u001b[1mwandb\u001b[0m: Job received.\n",
            "\u001b[34m\u001b[1mwandb\u001b[0m: Agent Starting Run: vb6grvxk with config:\n",
            "\u001b[34m\u001b[1mwandb\u001b[0m: \tactivation: relu\n",
            "\u001b[34m\u001b[1mwandb\u001b[0m: \tactivation2: softmax\n",
            "\u001b[34m\u001b[1mwandb\u001b[0m: \tbase_model: MobileNet\n",
            "\u001b[34m\u001b[1mwandb\u001b[0m: \tdropout: 0.2\n",
            "\u001b[34m\u001b[1mwandb\u001b[0m: \tepoch: 10\n",
            "\u001b[34m\u001b[1mwandb\u001b[0m: \tinput_shape: [180, 180, 3]\n",
            "\u001b[34m\u001b[1mwandb\u001b[0m: \tl_rate: 5e-05\n",
            "\u001b[34m\u001b[1mwandb\u001b[0m: \tnum_dense_neuron: 1014\n",
            "\u001b[34m\u001b[1mwandb\u001b[0m: \tpooling: no pooling\n",
            "\u001b[34m\u001b[1mwandb\u001b[0m: Currently logged in as: \u001b[33mpranayrajparisha\u001b[0m (use `wandb login --relogin` to force relogin)\n"
          ],
          "name": "stderr"
        },
        {
          "output_type": "display_data",
          "data": {
            "text/html": [
              "\n",
              "                Tracking run with wandb version 0.10.25<br/>\n",
              "                Syncing run <strong style=\"color:#cdcd00\">lucky-sweep-1</strong> to <a href=\"https://wandb.ai\" target=\"_blank\">Weights & Biases</a> <a href=\"https://docs.wandb.com/integrations/jupyter.html\" target=\"_blank\">(Documentation)</a>.<br/>\n",
              "                Project page: <a href=\"https://wandb.ai/pranayrajparisha/pretrained\" target=\"_blank\">https://wandb.ai/pranayrajparisha/pretrained</a><br/>\n",
              "                Sweep page: <a href=\"https://wandb.ai/pranayrajparisha/pretrained/sweeps/564a0kzf\" target=\"_blank\">https://wandb.ai/pranayrajparisha/pretrained/sweeps/564a0kzf</a><br/>\n",
              "Run page: <a href=\"https://wandb.ai/pranayrajparisha/pretrained/runs/vb6grvxk\" target=\"_blank\">https://wandb.ai/pranayrajparisha/pretrained/runs/vb6grvxk</a><br/>\n",
              "                Run data is saved locally in <code>/root/.keras/datasets/inaturalist_12K/valid/wandb/run-20210413_105840-vb6grvxk</code><br/><br/>\n",
              "            "
            ],
            "text/plain": [
              "<IPython.core.display.HTML object>"
            ]
          },
          "metadata": {
            "tags": []
          }
        },
        {
          "output_type": "stream",
          "text": [
            "WARNING:tensorflow:`input_shape` is undefined or non-square, or `rows` is not in [128, 160, 192, 224]. Weights for input shape (224, 224) will be loaded as the default.\n",
            "Downloading data from https://storage.googleapis.com/tensorflow/keras-applications/mobilenet/mobilenet_1_0_224_tf_no_top.h5\n",
            "17227776/17225924 [==============================] - 0s 0us/step\n",
            "Epoch 1/10\n",
            "282/282 [==============================] - 105s 331ms/step - loss: 2.6439 - accuracy: 0.2251 - val_loss: 1.9647 - val_accuracy: 0.3160\n",
            "Epoch 2/10\n",
            "282/282 [==============================] - 102s 351ms/step - loss: 1.6330 - accuracy: 0.4427 - val_loss: 1.9529 - val_accuracy: 0.3350\n",
            "Epoch 3/10\n",
            "282/282 [==============================] - 100s 348ms/step - loss: 1.3694 - accuracy: 0.5340 - val_loss: 1.9711 - val_accuracy: 0.3500\n",
            "Epoch 4/10\n",
            "282/282 [==============================] - 99s 345ms/step - loss: 1.0710 - accuracy: 0.6361 - val_loss: 2.0463 - val_accuracy: 0.3610\n",
            "Epoch 5/10\n",
            "282/282 [==============================] - 97s 338ms/step - loss: 0.8375 - accuracy: 0.7310 - val_loss: 2.0843 - val_accuracy: 0.3430\n",
            "Epoch 6/10\n",
            "282/282 [==============================] - 96s 334ms/step - loss: 0.6646 - accuracy: 0.7899 - val_loss: 2.2457 - val_accuracy: 0.3250\n",
            "Epoch 7/10\n",
            "282/282 [==============================] - 96s 335ms/step - loss: 0.5551 - accuracy: 0.8210 - val_loss: 2.3219 - val_accuracy: 0.3440\n",
            "Epoch 8/10\n",
            "282/282 [==============================] - 98s 340ms/step - loss: 0.4281 - accuracy: 0.8727 - val_loss: 2.3227 - val_accuracy: 0.3370\n",
            "Epoch 9/10\n",
            "282/282 [==============================] - 97s 340ms/step - loss: 0.3248 - accuracy: 0.9056 - val_loss: 2.3821 - val_accuracy: 0.3320\n",
            "Epoch 10/10\n",
            "282/282 [==============================] - 95s 330ms/step - loss: 0.2637 - accuracy: 0.9303 - val_loss: 2.5399 - val_accuracy: 0.3320\n"
          ],
          "name": "stdout"
        },
        {
          "output_type": "display_data",
          "data": {
            "text/html": [
              "<br/>Waiting for W&B process to finish, PID 556<br/>Program ended successfully."
            ],
            "text/plain": [
              "<IPython.core.display.HTML object>"
            ]
          },
          "metadata": {
            "tags": []
          }
        },
        {
          "output_type": "display_data",
          "data": {
            "application/vnd.jupyter.widget-view+json": {
              "model_id": "b983891cf04c40e89e31ae5c15b81558",
              "version_minor": 0,
              "version_major": 2
            },
            "text/plain": [
              "VBox(children=(Label(value=' 12.56MB of 12.56MB uploaded (0.00MB deduped)\\r'), FloatProgress(value=1.0, max=1.…"
            ]
          },
          "metadata": {
            "tags": []
          }
        },
        {
          "output_type": "display_data",
          "data": {
            "text/html": [
              "Find user logs for this run at: <code>/root/.keras/datasets/inaturalist_12K/valid/wandb/run-20210413_105840-vb6grvxk/logs/debug.log</code>"
            ],
            "text/plain": [
              "<IPython.core.display.HTML object>"
            ]
          },
          "metadata": {
            "tags": []
          }
        },
        {
          "output_type": "display_data",
          "data": {
            "text/html": [
              "Find internal logs for this run at: <code>/root/.keras/datasets/inaturalist_12K/valid/wandb/run-20210413_105840-vb6grvxk/logs/debug-internal.log</code>"
            ],
            "text/plain": [
              "<IPython.core.display.HTML object>"
            ]
          },
          "metadata": {
            "tags": []
          }
        },
        {
          "output_type": "display_data",
          "data": {
            "text/html": [
              "<h3>Run summary:</h3><br/><style>\n",
              "    table.wandb td:nth-child(1) { padding: 0 10px; text-align: right }\n",
              "    </style><table class=\"wandb\">\n",
              "<tr><td>epoch</td><td>9</td></tr><tr><td>loss</td><td>0.26744</td></tr><tr><td>accuracy</td><td>0.92677</td></tr><tr><td>val_loss</td><td>2.53985</td></tr><tr><td>val_accuracy</td><td>0.332</td></tr><tr><td>_runtime</td><td>991</td></tr><tr><td>_timestamp</td><td>1618312511</td></tr><tr><td>_step</td><td>9</td></tr><tr><td>best_val_loss</td><td>1.95294</td></tr><tr><td>best_epoch</td><td>1</td></tr></table>"
            ],
            "text/plain": [
              "<IPython.core.display.HTML object>"
            ]
          },
          "metadata": {
            "tags": []
          }
        },
        {
          "output_type": "display_data",
          "data": {
            "text/html": [
              "<h3>Run history:</h3><br/><style>\n",
              "    table.wandb td:nth-child(1) { padding: 0 10px; text-align: right }\n",
              "    </style><table class=\"wandb\">\n",
              "<tr><td>epoch</td><td>▁▂▃▃▄▅▆▆▇█</td></tr><tr><td>loss</td><td>█▆▅▄▃▂▂▂▁▁</td></tr><tr><td>accuracy</td><td>▁▃▄▅▆▆▇▇██</td></tr><tr><td>val_loss</td><td>▁▁▁▂▃▄▅▅▆█</td></tr><tr><td>val_accuracy</td><td>▁▄▆█▅▂▅▄▃▃</td></tr><tr><td>_runtime</td><td>▁▂▃▃▄▅▆▆▇█</td></tr><tr><td>_timestamp</td><td>▁▂▃▃▄▅▆▆▇█</td></tr><tr><td>_step</td><td>▁▂▃▃▄▅▆▆▇█</td></tr></table><br/>"
            ],
            "text/plain": [
              "<IPython.core.display.HTML object>"
            ]
          },
          "metadata": {
            "tags": []
          }
        },
        {
          "output_type": "display_data",
          "data": {
            "text/html": [
              "Synced 5 W&B file(s), 1 media file(s), 0 artifact file(s) and 1 other file(s)"
            ],
            "text/plain": [
              "<IPython.core.display.HTML object>"
            ]
          },
          "metadata": {
            "tags": []
          }
        },
        {
          "output_type": "display_data",
          "data": {
            "text/html": [
              "\n",
              "                    <br/>Synced <strong style=\"color:#cdcd00\">lucky-sweep-1</strong>: <a href=\"https://wandb.ai/pranayrajparisha/pretrained/runs/vb6grvxk\" target=\"_blank\">https://wandb.ai/pranayrajparisha/pretrained/runs/vb6grvxk</a><br/>\n",
              "                "
            ],
            "text/plain": [
              "<IPython.core.display.HTML object>"
            ]
          },
          "metadata": {
            "tags": []
          }
        },
        {
          "output_type": "stream",
          "text": [
            "\u001b[34m\u001b[1mwandb\u001b[0m: Agent Starting Run: plsfqawn with config:\n",
            "\u001b[34m\u001b[1mwandb\u001b[0m: \tactivation: relu\n",
            "\u001b[34m\u001b[1mwandb\u001b[0m: \tactivation2: softmax\n",
            "\u001b[34m\u001b[1mwandb\u001b[0m: \tbase_model: InceptionV3\n",
            "\u001b[34m\u001b[1mwandb\u001b[0m: \tdropout: 0.2\n",
            "\u001b[34m\u001b[1mwandb\u001b[0m: \tepoch: 5\n",
            "\u001b[34m\u001b[1mwandb\u001b[0m: \tinput_shape: [180, 180, 3]\n",
            "\u001b[34m\u001b[1mwandb\u001b[0m: \tl_rate: 5e-05\n",
            "\u001b[34m\u001b[1mwandb\u001b[0m: \tnum_dense_neuron: 256\n",
            "\u001b[34m\u001b[1mwandb\u001b[0m: \tpooling: max\n"
          ],
          "name": "stderr"
        },
        {
          "output_type": "display_data",
          "data": {
            "text/html": [
              "\n",
              "                Tracking run with wandb version 0.10.25<br/>\n",
              "                Syncing run <strong style=\"color:#cdcd00\">vocal-sweep-2</strong> to <a href=\"https://wandb.ai\" target=\"_blank\">Weights & Biases</a> <a href=\"https://docs.wandb.com/integrations/jupyter.html\" target=\"_blank\">(Documentation)</a>.<br/>\n",
              "                Project page: <a href=\"https://wandb.ai/pranayrajparisha/pretrained\" target=\"_blank\">https://wandb.ai/pranayrajparisha/pretrained</a><br/>\n",
              "                Sweep page: <a href=\"https://wandb.ai/pranayrajparisha/pretrained/sweeps/564a0kzf\" target=\"_blank\">https://wandb.ai/pranayrajparisha/pretrained/sweeps/564a0kzf</a><br/>\n",
              "Run page: <a href=\"https://wandb.ai/pranayrajparisha/pretrained/runs/plsfqawn\" target=\"_blank\">https://wandb.ai/pranayrajparisha/pretrained/runs/plsfqawn</a><br/>\n",
              "                Run data is saved locally in <code>/root/.keras/datasets/inaturalist_12K/valid/wandb/run-20210413_111528-plsfqawn</code><br/><br/>\n",
              "            "
            ],
            "text/plain": [
              "<IPython.core.display.HTML object>"
            ]
          },
          "metadata": {
            "tags": []
          }
        },
        {
          "output_type": "stream",
          "text": [
            "Downloading data from https://storage.googleapis.com/tensorflow/keras-applications/inception_v3/inception_v3_weights_tf_dim_ordering_tf_kernels_notop.h5\n",
            "87916544/87910968 [==============================] - 2s 0us/step\n",
            "Epoch 1/5\n",
            "282/282 [==============================] - 117s 387ms/step - loss: 18.1272 - accuracy: 0.1141 - val_loss: 2.3051 - val_accuracy: 0.1030\n",
            "Epoch 2/5\n",
            "282/282 [==============================] - 106s 369ms/step - loss: 2.3173 - accuracy: 0.1111 - val_loss: 2.2957 - val_accuracy: 0.1140\n",
            "Epoch 3/5\n",
            "282/282 [==============================] - 106s 371ms/step - loss: 2.3101 - accuracy: 0.1112 - val_loss: 2.3045 - val_accuracy: 0.1060\n",
            "Epoch 4/5\n",
            "282/282 [==============================] - 106s 370ms/step - loss: 2.2968 - accuracy: 0.1107 - val_loss: 2.2965 - val_accuracy: 0.1060\n",
            "Epoch 5/5\n",
            "282/282 [==============================] - 106s 371ms/step - loss: 2.2952 - accuracy: 0.1155 - val_loss: 2.2999 - val_accuracy: 0.1160\n"
          ],
          "name": "stdout"
        },
        {
          "output_type": "display_data",
          "data": {
            "text/html": [
              "<br/>Waiting for W&B process to finish, PID 615<br/>Program ended successfully."
            ],
            "text/plain": [
              "<IPython.core.display.HTML object>"
            ]
          },
          "metadata": {
            "tags": []
          }
        },
        {
          "output_type": "display_data",
          "data": {
            "application/vnd.jupyter.widget-view+json": {
              "model_id": "8494bf9cbe7c41debf395fa62ecd67b8",
              "version_minor": 0,
              "version_major": 2
            },
            "text/plain": [
              "VBox(children=(Label(value=' 0.57MB of 0.57MB uploaded (0.00MB deduped)\\r'), FloatProgress(value=1.0, max=1.0)…"
            ]
          },
          "metadata": {
            "tags": []
          }
        },
        {
          "output_type": "display_data",
          "data": {
            "text/html": [
              "Find user logs for this run at: <code>/root/.keras/datasets/inaturalist_12K/valid/wandb/run-20210413_111528-plsfqawn/logs/debug.log</code>"
            ],
            "text/plain": [
              "<IPython.core.display.HTML object>"
            ]
          },
          "metadata": {
            "tags": []
          }
        },
        {
          "output_type": "display_data",
          "data": {
            "text/html": [
              "Find internal logs for this run at: <code>/root/.keras/datasets/inaturalist_12K/valid/wandb/run-20210413_111528-plsfqawn/logs/debug-internal.log</code>"
            ],
            "text/plain": [
              "<IPython.core.display.HTML object>"
            ]
          },
          "metadata": {
            "tags": []
          }
        },
        {
          "output_type": "display_data",
          "data": {
            "text/html": [
              "<h3>Run summary:</h3><br/><style>\n",
              "    table.wandb td:nth-child(1) { padding: 0 10px; text-align: right }\n",
              "    </style><table class=\"wandb\">\n",
              "<tr><td>epoch</td><td>4</td></tr><tr><td>loss</td><td>2.29815</td></tr><tr><td>accuracy</td><td>0.11357</td></tr><tr><td>val_loss</td><td>2.29989</td></tr><tr><td>val_accuracy</td><td>0.116</td></tr><tr><td>_runtime</td><td>551</td></tr><tr><td>_timestamp</td><td>1618313079</td></tr><tr><td>_step</td><td>4</td></tr><tr><td>best_val_loss</td><td>2.2957</td></tr><tr><td>best_epoch</td><td>1</td></tr></table>"
            ],
            "text/plain": [
              "<IPython.core.display.HTML object>"
            ]
          },
          "metadata": {
            "tags": []
          }
        },
        {
          "output_type": "display_data",
          "data": {
            "text/html": [
              "<h3>Run history:</h3><br/><style>\n",
              "    table.wandb td:nth-child(1) { padding: 0 10px; text-align: right }\n",
              "    </style><table class=\"wandb\">\n",
              "<tr><td>epoch</td><td>▁▃▅▆█</td></tr><tr><td>loss</td><td>█▁▁▁▁</td></tr><tr><td>accuracy</td><td>▃▁▂▇█</td></tr><tr><td>val_loss</td><td>█▁█▂▄</td></tr><tr><td>val_accuracy</td><td>▁▇▃▃█</td></tr><tr><td>_runtime</td><td>▁▃▅▆█</td></tr><tr><td>_timestamp</td><td>▁▃▅▆█</td></tr><tr><td>_step</td><td>▁▃▅▆█</td></tr></table><br/>"
            ],
            "text/plain": [
              "<IPython.core.display.HTML object>"
            ]
          },
          "metadata": {
            "tags": []
          }
        },
        {
          "output_type": "display_data",
          "data": {
            "text/html": [
              "Synced 5 W&B file(s), 1 media file(s), 0 artifact file(s) and 1 other file(s)"
            ],
            "text/plain": [
              "<IPython.core.display.HTML object>"
            ]
          },
          "metadata": {
            "tags": []
          }
        },
        {
          "output_type": "display_data",
          "data": {
            "text/html": [
              "\n",
              "                    <br/>Synced <strong style=\"color:#cdcd00\">vocal-sweep-2</strong>: <a href=\"https://wandb.ai/pranayrajparisha/pretrained/runs/plsfqawn\" target=\"_blank\">https://wandb.ai/pranayrajparisha/pretrained/runs/plsfqawn</a><br/>\n",
              "                "
            ],
            "text/plain": [
              "<IPython.core.display.HTML object>"
            ]
          },
          "metadata": {
            "tags": []
          }
        },
        {
          "output_type": "stream",
          "text": [
            "\u001b[34m\u001b[1mwandb\u001b[0m: Agent Starting Run: 4sbdhpmy with config:\n",
            "\u001b[34m\u001b[1mwandb\u001b[0m: \tactivation: relu\n",
            "\u001b[34m\u001b[1mwandb\u001b[0m: \tactivation2: softmax\n",
            "\u001b[34m\u001b[1mwandb\u001b[0m: \tbase_model: Xception\n",
            "\u001b[34m\u001b[1mwandb\u001b[0m: \tdropout: 0\n",
            "\u001b[34m\u001b[1mwandb\u001b[0m: \tepoch: 10\n",
            "\u001b[34m\u001b[1mwandb\u001b[0m: \tinput_shape: [180, 180, 3]\n",
            "\u001b[34m\u001b[1mwandb\u001b[0m: \tl_rate: 0.0001\n",
            "\u001b[34m\u001b[1mwandb\u001b[0m: \tnum_dense_neuron: 1014\n",
            "\u001b[34m\u001b[1mwandb\u001b[0m: \tpooling: max\n"
          ],
          "name": "stderr"
        },
        {
          "output_type": "display_data",
          "data": {
            "text/html": [
              "\n",
              "                Tracking run with wandb version 0.10.25<br/>\n",
              "                Syncing run <strong style=\"color:#cdcd00\">warm-sweep-3</strong> to <a href=\"https://wandb.ai\" target=\"_blank\">Weights & Biases</a> <a href=\"https://docs.wandb.com/integrations/jupyter.html\" target=\"_blank\">(Documentation)</a>.<br/>\n",
              "                Project page: <a href=\"https://wandb.ai/pranayrajparisha/pretrained\" target=\"_blank\">https://wandb.ai/pranayrajparisha/pretrained</a><br/>\n",
              "                Sweep page: <a href=\"https://wandb.ai/pranayrajparisha/pretrained/sweeps/564a0kzf\" target=\"_blank\">https://wandb.ai/pranayrajparisha/pretrained/sweeps/564a0kzf</a><br/>\n",
              "Run page: <a href=\"https://wandb.ai/pranayrajparisha/pretrained/runs/4sbdhpmy\" target=\"_blank\">https://wandb.ai/pranayrajparisha/pretrained/runs/4sbdhpmy</a><br/>\n",
              "                Run data is saved locally in <code>/root/.keras/datasets/inaturalist_12K/valid/wandb/run-20210413_112451-4sbdhpmy</code><br/><br/>\n",
              "            "
            ],
            "text/plain": [
              "<IPython.core.display.HTML object>"
            ]
          },
          "metadata": {
            "tags": []
          }
        },
        {
          "output_type": "stream",
          "text": [
            "Downloading data from https://storage.googleapis.com/tensorflow/keras-applications/xception/xception_weights_tf_dim_ordering_tf_kernels_notop.h5\n",
            "83689472/83683744 [==============================] - 1s 0us/step\n",
            "Epoch 1/10\n",
            "282/282 [==============================] - 141s 479ms/step - loss: 23.3794 - accuracy: 0.1527 - val_loss: 2.3878 - val_accuracy: 0.1370\n",
            "Epoch 2/10\n",
            "282/282 [==============================] - 141s 495ms/step - loss: 2.2427 - accuracy: 0.1779 - val_loss: 2.3712 - val_accuracy: 0.1730\n",
            "Epoch 3/10\n",
            "282/282 [==============================] - 144s 504ms/step - loss: 2.1505 - accuracy: 0.2295 - val_loss: 2.2723 - val_accuracy: 0.1830\n",
            "Epoch 4/10\n",
            "282/282 [==============================] - 150s 525ms/step - loss: 2.0597 - accuracy: 0.2572 - val_loss: 2.2998 - val_accuracy: 0.1970\n",
            "Epoch 5/10\n",
            "282/282 [==============================] - 149s 521ms/step - loss: 1.9756 - accuracy: 0.2977 - val_loss: 2.4010 - val_accuracy: 0.2030\n",
            "Epoch 6/10\n",
            "282/282 [==============================] - 144s 505ms/step - loss: 1.9068 - accuracy: 0.3275 - val_loss: 2.3599 - val_accuracy: 0.2020\n",
            "Epoch 7/10\n",
            "282/282 [==============================] - 147s 517ms/step - loss: 1.8069 - accuracy: 0.3589 - val_loss: 2.3266 - val_accuracy: 0.1960\n",
            "Epoch 8/10\n",
            "282/282 [==============================] - 145s 509ms/step - loss: 1.7053 - accuracy: 0.4033 - val_loss: 2.5615 - val_accuracy: 0.1930\n",
            "Epoch 9/10\n",
            "282/282 [==============================] - 148s 519ms/step - loss: 1.6307 - accuracy: 0.4176 - val_loss: 2.4255 - val_accuracy: 0.2110\n",
            "Epoch 10/10\n",
            "282/282 [==============================] - 137s 479ms/step - loss: 1.5209 - accuracy: 0.4599 - val_loss: 2.4629 - val_accuracy: 0.2130\n"
          ],
          "name": "stdout"
        },
        {
          "output_type": "display_data",
          "data": {
            "text/html": [
              "<br/>Waiting for W&B process to finish, PID 660<br/>Program ended successfully."
            ],
            "text/plain": [
              "<IPython.core.display.HTML object>"
            ]
          },
          "metadata": {
            "tags": []
          }
        },
        {
          "output_type": "display_data",
          "data": {
            "application/vnd.jupyter.widget-view+json": {
              "model_id": "d3e82b65a7434fed9b1a5537ea5c5a50",
              "version_minor": 0,
              "version_major": 2
            },
            "text/plain": [
              "VBox(children=(Label(value=' 79.98MB of 79.98MB uploaded (0.00MB deduped)\\r'), FloatProgress(value=1.0, max=1.…"
            ]
          },
          "metadata": {
            "tags": []
          }
        },
        {
          "output_type": "display_data",
          "data": {
            "text/html": [
              "Find user logs for this run at: <code>/root/.keras/datasets/inaturalist_12K/valid/wandb/run-20210413_112451-4sbdhpmy/logs/debug.log</code>"
            ],
            "text/plain": [
              "<IPython.core.display.HTML object>"
            ]
          },
          "metadata": {
            "tags": []
          }
        },
        {
          "output_type": "display_data",
          "data": {
            "text/html": [
              "Find internal logs for this run at: <code>/root/.keras/datasets/inaturalist_12K/valid/wandb/run-20210413_112451-4sbdhpmy/logs/debug-internal.log</code>"
            ],
            "text/plain": [
              "<IPython.core.display.HTML object>"
            ]
          },
          "metadata": {
            "tags": []
          }
        },
        {
          "output_type": "display_data",
          "data": {
            "text/html": [
              "<h3>Run summary:</h3><br/><style>\n",
              "    table.wandb td:nth-child(1) { padding: 0 10px; text-align: right }\n",
              "    </style><table class=\"wandb\">\n",
              "<tr><td>epoch</td><td>9</td></tr><tr><td>loss</td><td>1.49627</td></tr><tr><td>accuracy</td><td>0.46939</td></tr><tr><td>val_loss</td><td>2.46287</td></tr><tr><td>val_accuracy</td><td>0.213</td></tr><tr><td>_runtime</td><td>1463</td></tr><tr><td>_timestamp</td><td>1618314554</td></tr><tr><td>_step</td><td>9</td></tr><tr><td>best_val_loss</td><td>2.27229</td></tr><tr><td>best_epoch</td><td>2</td></tr></table>"
            ],
            "text/plain": [
              "<IPython.core.display.HTML object>"
            ]
          },
          "metadata": {
            "tags": []
          }
        },
        {
          "output_type": "display_data",
          "data": {
            "text/html": [
              "<h3>Run history:</h3><br/><style>\n",
              "    table.wandb td:nth-child(1) { padding: 0 10px; text-align: right }\n",
              "    </style><table class=\"wandb\">\n",
              "<tr><td>epoch</td><td>▁▂▃▃▄▅▆▆▇█</td></tr><tr><td>loss</td><td>█▂▂▂▁▁▁▁▁▁</td></tr><tr><td>accuracy</td><td>▁▂▂▃▄▅▆▇▇█</td></tr><tr><td>val_loss</td><td>▄▃▁▂▄▃▂█▅▆</td></tr><tr><td>val_accuracy</td><td>▁▄▅▇▇▇▆▆██</td></tr><tr><td>_runtime</td><td>▁▂▃▃▄▅▆▆▇█</td></tr><tr><td>_timestamp</td><td>▁▂▃▃▄▅▆▆▇█</td></tr><tr><td>_step</td><td>▁▂▃▃▄▅▆▆▇█</td></tr></table><br/>"
            ],
            "text/plain": [
              "<IPython.core.display.HTML object>"
            ]
          },
          "metadata": {
            "tags": []
          }
        },
        {
          "output_type": "display_data",
          "data": {
            "text/html": [
              "Synced 5 W&B file(s), 1 media file(s), 0 artifact file(s) and 1 other file(s)"
            ],
            "text/plain": [
              "<IPython.core.display.HTML object>"
            ]
          },
          "metadata": {
            "tags": []
          }
        },
        {
          "output_type": "display_data",
          "data": {
            "text/html": [
              "\n",
              "                    <br/>Synced <strong style=\"color:#cdcd00\">warm-sweep-3</strong>: <a href=\"https://wandb.ai/pranayrajparisha/pretrained/runs/4sbdhpmy\" target=\"_blank\">https://wandb.ai/pranayrajparisha/pretrained/runs/4sbdhpmy</a><br/>\n",
              "                "
            ],
            "text/plain": [
              "<IPython.core.display.HTML object>"
            ]
          },
          "metadata": {
            "tags": []
          }
        },
        {
          "output_type": "stream",
          "text": [
            "\u001b[34m\u001b[1mwandb\u001b[0m: Agent Starting Run: 3eryz76r with config:\n",
            "\u001b[34m\u001b[1mwandb\u001b[0m: \tactivation: relu\n",
            "\u001b[34m\u001b[1mwandb\u001b[0m: \tactivation2: softmax\n",
            "\u001b[34m\u001b[1mwandb\u001b[0m: \tbase_model: MobileNet\n",
            "\u001b[34m\u001b[1mwandb\u001b[0m: \tdropout: 0.2\n",
            "\u001b[34m\u001b[1mwandb\u001b[0m: \tepoch: 5\n",
            "\u001b[34m\u001b[1mwandb\u001b[0m: \tinput_shape: [180, 180, 3]\n",
            "\u001b[34m\u001b[1mwandb\u001b[0m: \tl_rate: 0.0001\n",
            "\u001b[34m\u001b[1mwandb\u001b[0m: \tnum_dense_neuron: 1014\n",
            "\u001b[34m\u001b[1mwandb\u001b[0m: \tpooling: no pooling\n"
          ],
          "name": "stderr"
        },
        {
          "output_type": "display_data",
          "data": {
            "text/html": [
              "\n",
              "                Tracking run with wandb version 0.10.25<br/>\n",
              "                Syncing run <strong style=\"color:#cdcd00\">winter-sweep-4</strong> to <a href=\"https://wandb.ai\" target=\"_blank\">Weights & Biases</a> <a href=\"https://docs.wandb.com/integrations/jupyter.html\" target=\"_blank\">(Documentation)</a>.<br/>\n",
              "                Project page: <a href=\"https://wandb.ai/pranayrajparisha/pretrained\" target=\"_blank\">https://wandb.ai/pranayrajparisha/pretrained</a><br/>\n",
              "                Sweep page: <a href=\"https://wandb.ai/pranayrajparisha/pretrained/sweeps/564a0kzf\" target=\"_blank\">https://wandb.ai/pranayrajparisha/pretrained/sweeps/564a0kzf</a><br/>\n",
              "Run page: <a href=\"https://wandb.ai/pranayrajparisha/pretrained/runs/3eryz76r\" target=\"_blank\">https://wandb.ai/pranayrajparisha/pretrained/runs/3eryz76r</a><br/>\n",
              "                Run data is saved locally in <code>/root/.keras/datasets/inaturalist_12K/valid/wandb/run-20210413_114946-3eryz76r</code><br/><br/>\n",
              "            "
            ],
            "text/plain": [
              "<IPython.core.display.HTML object>"
            ]
          },
          "metadata": {
            "tags": []
          }
        },
        {
          "output_type": "stream",
          "text": [
            "WARNING:tensorflow:`input_shape` is undefined or non-square, or `rows` is not in [128, 160, 192, 224]. Weights for input shape (224, 224) will be loaded as the default.\n",
            "Epoch 1/5\n",
            "282/282 [==============================] - 96s 325ms/step - loss: 2.8160 - accuracy: 0.2330 - val_loss: 1.9553 - val_accuracy: 0.3030\n",
            "Epoch 2/5\n",
            "282/282 [==============================] - 89s 309ms/step - loss: 1.7090 - accuracy: 0.4235 - val_loss: 2.0652 - val_accuracy: 0.2990\n",
            "Epoch 3/5\n",
            "282/282 [==============================] - 90s 313ms/step - loss: 1.3899 - accuracy: 0.5214 - val_loss: 2.0381 - val_accuracy: 0.3250\n",
            "Epoch 4/5\n",
            "282/282 [==============================] - 92s 320ms/step - loss: 1.1201 - accuracy: 0.6247 - val_loss: 2.1572 - val_accuracy: 0.3240\n",
            "Epoch 5/5\n",
            "282/282 [==============================] - 90s 312ms/step - loss: 0.9108 - accuracy: 0.6904 - val_loss: 2.1775 - val_accuracy: 0.3570\n"
          ],
          "name": "stdout"
        },
        {
          "output_type": "display_data",
          "data": {
            "text/html": [
              "<br/>Waiting for W&B process to finish, PID 715<br/>Program ended successfully."
            ],
            "text/plain": [
              "<IPython.core.display.HTML object>"
            ]
          },
          "metadata": {
            "tags": []
          }
        },
        {
          "output_type": "display_data",
          "data": {
            "application/vnd.jupyter.widget-view+json": {
              "model_id": "49d3e9250a104bab8b95e0d413ff1b57",
              "version_minor": 0,
              "version_major": 2
            },
            "text/plain": [
              "VBox(children=(Label(value=' 309.78MB of 309.78MB uploaded (0.00MB deduped)\\r'), FloatProgress(value=1.0, max=…"
            ]
          },
          "metadata": {
            "tags": []
          }
        },
        {
          "output_type": "display_data",
          "data": {
            "text/html": [
              "Find user logs for this run at: <code>/root/.keras/datasets/inaturalist_12K/valid/wandb/run-20210413_114946-3eryz76r/logs/debug.log</code>"
            ],
            "text/plain": [
              "<IPython.core.display.HTML object>"
            ]
          },
          "metadata": {
            "tags": []
          }
        },
        {
          "output_type": "display_data",
          "data": {
            "text/html": [
              "Find internal logs for this run at: <code>/root/.keras/datasets/inaturalist_12K/valid/wandb/run-20210413_114946-3eryz76r/logs/debug-internal.log</code>"
            ],
            "text/plain": [
              "<IPython.core.display.HTML object>"
            ]
          },
          "metadata": {
            "tags": []
          }
        },
        {
          "output_type": "display_data",
          "data": {
            "text/html": [
              "<h3>Run summary:</h3><br/><style>\n",
              "    table.wandb td:nth-child(1) { padding: 0 10px; text-align: right }\n",
              "    </style><table class=\"wandb\">\n",
              "<tr><td>epoch</td><td>4</td></tr><tr><td>loss</td><td>0.88194</td></tr><tr><td>accuracy</td><td>0.70474</td></tr><tr><td>val_loss</td><td>2.17751</td></tr><tr><td>val_accuracy</td><td>0.357</td></tr><tr><td>_runtime</td><td>465</td></tr><tr><td>_timestamp</td><td>1618315051</td></tr><tr><td>_step</td><td>4</td></tr><tr><td>best_val_loss</td><td>1.95527</td></tr><tr><td>best_epoch</td><td>0</td></tr></table>"
            ],
            "text/plain": [
              "<IPython.core.display.HTML object>"
            ]
          },
          "metadata": {
            "tags": []
          }
        },
        {
          "output_type": "display_data",
          "data": {
            "text/html": [
              "<h3>Run history:</h3><br/><style>\n",
              "    table.wandb td:nth-child(1) { padding: 0 10px; text-align: right }\n",
              "    </style><table class=\"wandb\">\n",
              "<tr><td>epoch</td><td>▁▃▅▆█</td></tr><tr><td>loss</td><td>█▅▄▂▁</td></tr><tr><td>accuracy</td><td>▁▃▅▇█</td></tr><tr><td>val_loss</td><td>▁▄▄▇█</td></tr><tr><td>val_accuracy</td><td>▁▁▄▄█</td></tr><tr><td>_runtime</td><td>▁▃▄▆█</td></tr><tr><td>_timestamp</td><td>▁▃▄▆█</td></tr><tr><td>_step</td><td>▁▃▅▆█</td></tr></table><br/>"
            ],
            "text/plain": [
              "<IPython.core.display.HTML object>"
            ]
          },
          "metadata": {
            "tags": []
          }
        },
        {
          "output_type": "display_data",
          "data": {
            "text/html": [
              "Synced 5 W&B file(s), 1 media file(s), 0 artifact file(s) and 1 other file(s)"
            ],
            "text/plain": [
              "<IPython.core.display.HTML object>"
            ]
          },
          "metadata": {
            "tags": []
          }
        },
        {
          "output_type": "display_data",
          "data": {
            "text/html": [
              "\n",
              "                    <br/>Synced <strong style=\"color:#cdcd00\">winter-sweep-4</strong>: <a href=\"https://wandb.ai/pranayrajparisha/pretrained/runs/3eryz76r\" target=\"_blank\">https://wandb.ai/pranayrajparisha/pretrained/runs/3eryz76r</a><br/>\n",
              "                "
            ],
            "text/plain": [
              "<IPython.core.display.HTML object>"
            ]
          },
          "metadata": {
            "tags": []
          }
        },
        {
          "output_type": "stream",
          "text": [
            "\u001b[34m\u001b[1mwandb\u001b[0m: Agent Starting Run: 38ipawgq with config:\n",
            "\u001b[34m\u001b[1mwandb\u001b[0m: \tactivation: relu\n",
            "\u001b[34m\u001b[1mwandb\u001b[0m: \tactivation2: softmax\n",
            "\u001b[34m\u001b[1mwandb\u001b[0m: \tbase_model: Xception\n",
            "\u001b[34m\u001b[1mwandb\u001b[0m: \tdropout: 0\n",
            "\u001b[34m\u001b[1mwandb\u001b[0m: \tepoch: 10\n",
            "\u001b[34m\u001b[1mwandb\u001b[0m: \tinput_shape: [180, 180, 3]\n",
            "\u001b[34m\u001b[1mwandb\u001b[0m: \tl_rate: 0.0001\n",
            "\u001b[34m\u001b[1mwandb\u001b[0m: \tnum_dense_neuron: 1014\n",
            "\u001b[34m\u001b[1mwandb\u001b[0m: \tpooling: no pooling\n"
          ],
          "name": "stderr"
        },
        {
          "output_type": "display_data",
          "data": {
            "text/html": [
              "\n",
              "                Tracking run with wandb version 0.10.25<br/>\n",
              "                Syncing run <strong style=\"color:#cdcd00\">deft-sweep-5</strong> to <a href=\"https://wandb.ai\" target=\"_blank\">Weights & Biases</a> <a href=\"https://docs.wandb.com/integrations/jupyter.html\" target=\"_blank\">(Documentation)</a>.<br/>\n",
              "                Project page: <a href=\"https://wandb.ai/pranayrajparisha/pretrained\" target=\"_blank\">https://wandb.ai/pranayrajparisha/pretrained</a><br/>\n",
              "                Sweep page: <a href=\"https://wandb.ai/pranayrajparisha/pretrained/sweeps/564a0kzf\" target=\"_blank\">https://wandb.ai/pranayrajparisha/pretrained/sweeps/564a0kzf</a><br/>\n",
              "Run page: <a href=\"https://wandb.ai/pranayrajparisha/pretrained/runs/38ipawgq\" target=\"_blank\">https://wandb.ai/pranayrajparisha/pretrained/runs/38ipawgq</a><br/>\n",
              "                Run data is saved locally in <code>/root/.keras/datasets/inaturalist_12K/valid/wandb/run-20210413_115749-38ipawgq</code><br/><br/>\n",
              "            "
            ],
            "text/plain": [
              "<IPython.core.display.HTML object>"
            ]
          },
          "metadata": {
            "tags": []
          }
        },
        {
          "output_type": "stream",
          "text": [
            "Epoch 1/10\n",
            "282/282 [==============================] - 138s 472ms/step - loss: 16.9657 - accuracy: 0.1592 - val_loss: 2.3370 - val_accuracy: 0.1730\n",
            "Epoch 2/10\n",
            "282/282 [==============================] - 137s 478ms/step - loss: 2.2291 - accuracy: 0.2283 - val_loss: 2.3187 - val_accuracy: 0.1850\n",
            "Epoch 3/10\n",
            "282/282 [==============================] - 137s 480ms/step - loss: 2.0988 - accuracy: 0.2574 - val_loss: 2.2856 - val_accuracy: 0.1930\n",
            "Epoch 4/10\n",
            "282/282 [==============================] - 139s 485ms/step - loss: 1.9916 - accuracy: 0.2931 - val_loss: 2.3628 - val_accuracy: 0.2070\n",
            "Epoch 5/10\n",
            "282/282 [==============================] - 139s 486ms/step - loss: 1.8822 - accuracy: 0.3379 - val_loss: 2.4248 - val_accuracy: 0.1860\n",
            "Epoch 6/10\n",
            "282/282 [==============================] - 138s 483ms/step - loss: 1.8443 - accuracy: 0.3450 - val_loss: 2.4510 - val_accuracy: 0.2010\n",
            "Epoch 7/10\n",
            "282/282 [==============================] - 136s 478ms/step - loss: 1.7427 - accuracy: 0.3883 - val_loss: 2.4286 - val_accuracy: 0.2360\n",
            "Epoch 8/10\n",
            "282/282 [==============================] - 137s 481ms/step - loss: 1.6516 - accuracy: 0.4213 - val_loss: 2.5301 - val_accuracy: 0.2190\n",
            "Epoch 9/10\n",
            "282/282 [==============================] - 135s 472ms/step - loss: 1.5474 - accuracy: 0.4645 - val_loss: 2.4881 - val_accuracy: 0.2160\n",
            "Epoch 10/10\n",
            "282/282 [==============================] - 135s 473ms/step - loss: 1.4740 - accuracy: 0.4867 - val_loss: 2.5359 - val_accuracy: 0.2180\n"
          ],
          "name": "stdout"
        },
        {
          "output_type": "display_data",
          "data": {
            "text/html": [
              "<br/>Waiting for W&B process to finish, PID 763<br/>Program ended successfully."
            ],
            "text/plain": [
              "<IPython.core.display.HTML object>"
            ]
          },
          "metadata": {
            "tags": []
          }
        },
        {
          "output_type": "display_data",
          "data": {
            "application/vnd.jupyter.widget-view+json": {
              "model_id": "e0de06fc8e2342958a82a86cbbb4916d",
              "version_minor": 0,
              "version_major": 2
            },
            "text/plain": [
              "VBox(children=(Label(value=' 935.68MB of 935.68MB uploaded (0.00MB deduped)\\r'), FloatProgress(value=1.0, max=…"
            ]
          },
          "metadata": {
            "tags": []
          }
        },
        {
          "output_type": "display_data",
          "data": {
            "text/html": [
              "Find user logs for this run at: <code>/root/.keras/datasets/inaturalist_12K/valid/wandb/run-20210413_115749-38ipawgq/logs/debug.log</code>"
            ],
            "text/plain": [
              "<IPython.core.display.HTML object>"
            ]
          },
          "metadata": {
            "tags": []
          }
        },
        {
          "output_type": "display_data",
          "data": {
            "text/html": [
              "Find internal logs for this run at: <code>/root/.keras/datasets/inaturalist_12K/valid/wandb/run-20210413_115749-38ipawgq/logs/debug-internal.log</code>"
            ],
            "text/plain": [
              "<IPython.core.display.HTML object>"
            ]
          },
          "metadata": {
            "tags": []
          }
        },
        {
          "output_type": "display_data",
          "data": {
            "text/html": [
              "<h3>Run summary:</h3><br/><style>\n",
              "    table.wandb td:nth-child(1) { padding: 0 10px; text-align: right }\n",
              "    </style><table class=\"wandb\">\n",
              "<tr><td>epoch</td><td>9</td></tr><tr><td>loss</td><td>1.44464</td></tr><tr><td>accuracy</td><td>0.49683</td></tr><tr><td>val_loss</td><td>2.53594</td></tr><tr><td>val_accuracy</td><td>0.218</td></tr><tr><td>_runtime</td><td>1404</td></tr><tr><td>_timestamp</td><td>1618316473</td></tr><tr><td>_step</td><td>9</td></tr><tr><td>best_val_loss</td><td>2.28563</td></tr><tr><td>best_epoch</td><td>2</td></tr></table>"
            ],
            "text/plain": [
              "<IPython.core.display.HTML object>"
            ]
          },
          "metadata": {
            "tags": []
          }
        },
        {
          "output_type": "display_data",
          "data": {
            "text/html": [
              "<h3>Run history:</h3><br/><style>\n",
              "    table.wandb td:nth-child(1) { padding: 0 10px; text-align: right }\n",
              "    </style><table class=\"wandb\">\n",
              "<tr><td>epoch</td><td>▁▂▃▃▄▅▆▆▇█</td></tr><tr><td>loss</td><td>█▂▂▂▂▁▁▁▁▁</td></tr><tr><td>accuracy</td><td>▁▂▃▄▄▅▆▇▇█</td></tr><tr><td>val_loss</td><td>▂▂▁▃▅▆▅█▇█</td></tr><tr><td>val_accuracy</td><td>▁▂▃▅▂▄█▆▆▆</td></tr><tr><td>_runtime</td><td>▁▂▃▃▄▅▆▇▇█</td></tr><tr><td>_timestamp</td><td>▁▂▃▃▄▅▆▇▇█</td></tr><tr><td>_step</td><td>▁▂▃▃▄▅▆▆▇█</td></tr></table><br/>"
            ],
            "text/plain": [
              "<IPython.core.display.HTML object>"
            ]
          },
          "metadata": {
            "tags": []
          }
        },
        {
          "output_type": "display_data",
          "data": {
            "text/html": [
              "Synced 5 W&B file(s), 1 media file(s), 0 artifact file(s) and 1 other file(s)"
            ],
            "text/plain": [
              "<IPython.core.display.HTML object>"
            ]
          },
          "metadata": {
            "tags": []
          }
        },
        {
          "output_type": "display_data",
          "data": {
            "text/html": [
              "\n",
              "                    <br/>Synced <strong style=\"color:#cdcd00\">deft-sweep-5</strong>: <a href=\"https://wandb.ai/pranayrajparisha/pretrained/runs/38ipawgq\" target=\"_blank\">https://wandb.ai/pranayrajparisha/pretrained/runs/38ipawgq</a><br/>\n",
              "                "
            ],
            "text/plain": [
              "<IPython.core.display.HTML object>"
            ]
          },
          "metadata": {
            "tags": []
          }
        },
        {
          "output_type": "stream",
          "text": [
            "\u001b[34m\u001b[1mwandb\u001b[0m: Agent Starting Run: 43yfm78o with config:\n",
            "\u001b[34m\u001b[1mwandb\u001b[0m: \tactivation: relu\n",
            "\u001b[34m\u001b[1mwandb\u001b[0m: \tactivation2: softmax\n",
            "\u001b[34m\u001b[1mwandb\u001b[0m: \tbase_model: ResNet50\n",
            "\u001b[34m\u001b[1mwandb\u001b[0m: \tdropout: 0.1\n",
            "\u001b[34m\u001b[1mwandb\u001b[0m: \tepoch: 10\n",
            "\u001b[34m\u001b[1mwandb\u001b[0m: \tinput_shape: [180, 180, 3]\n",
            "\u001b[34m\u001b[1mwandb\u001b[0m: \tl_rate: 5e-05\n",
            "\u001b[34m\u001b[1mwandb\u001b[0m: \tnum_dense_neuron: 1014\n",
            "\u001b[34m\u001b[1mwandb\u001b[0m: \tpooling: avg\n"
          ],
          "name": "stderr"
        },
        {
          "output_type": "display_data",
          "data": {
            "text/html": [
              "\n",
              "                Tracking run with wandb version 0.10.25<br/>\n",
              "                Syncing run <strong style=\"color:#cdcd00\">gentle-sweep-6</strong> to <a href=\"https://wandb.ai\" target=\"_blank\">Weights & Biases</a> <a href=\"https://docs.wandb.com/integrations/jupyter.html\" target=\"_blank\">(Documentation)</a>.<br/>\n",
              "                Project page: <a href=\"https://wandb.ai/pranayrajparisha/pretrained\" target=\"_blank\">https://wandb.ai/pranayrajparisha/pretrained</a><br/>\n",
              "                Sweep page: <a href=\"https://wandb.ai/pranayrajparisha/pretrained/sweeps/564a0kzf\" target=\"_blank\">https://wandb.ai/pranayrajparisha/pretrained/sweeps/564a0kzf</a><br/>\n",
              "Run page: <a href=\"https://wandb.ai/pranayrajparisha/pretrained/runs/43yfm78o\" target=\"_blank\">https://wandb.ai/pranayrajparisha/pretrained/runs/43yfm78o</a><br/>\n",
              "                Run data is saved locally in <code>/root/.keras/datasets/inaturalist_12K/valid/wandb/run-20210413_122143-43yfm78o</code><br/><br/>\n",
              "            "
            ],
            "text/plain": [
              "<IPython.core.display.HTML object>"
            ]
          },
          "metadata": {
            "tags": []
          }
        },
        {
          "output_type": "stream",
          "text": [
            "Downloading data from https://storage.googleapis.com/tensorflow/keras-applications/resnet/resnet50_weights_tf_dim_ordering_tf_kernels_notop.h5\n",
            "94773248/94765736 [==============================] - 1s 0us/step\n",
            "Epoch 1/10\n",
            "282/282 [==============================] - 130s 439ms/step - loss: 2.4632 - accuracy: 0.4689 - val_loss: 1.1012 - val_accuracy: 0.6090\n",
            "Epoch 2/10\n",
            "282/282 [==============================] - 127s 444ms/step - loss: 0.4601 - accuracy: 0.8457 - val_loss: 1.1750 - val_accuracy: 0.6230\n",
            "Epoch 3/10\n",
            "282/282 [==============================] - 127s 444ms/step - loss: 0.1265 - accuracy: 0.9671 - val_loss: 1.2663 - val_accuracy: 0.6510\n",
            "Epoch 4/10\n",
            "282/282 [==============================] - 125s 436ms/step - loss: 0.0413 - accuracy: 0.9930 - val_loss: 1.4442 - val_accuracy: 0.6390\n",
            "Epoch 5/10\n",
            "282/282 [==============================] - 126s 440ms/step - loss: 0.0202 - accuracy: 0.9973 - val_loss: 1.3711 - val_accuracy: 0.6510\n",
            "Epoch 6/10\n",
            "282/282 [==============================] - 128s 449ms/step - loss: 0.0076 - accuracy: 0.9992 - val_loss: 1.3941 - val_accuracy: 0.6580\n",
            "Epoch 7/10\n",
            "282/282 [==============================] - 127s 446ms/step - loss: 0.0022 - accuracy: 1.0000 - val_loss: 1.4642 - val_accuracy: 0.6640\n",
            "Epoch 8/10\n",
            "282/282 [==============================] - 127s 445ms/step - loss: 0.0012 - accuracy: 1.0000 - val_loss: 1.4652 - val_accuracy: 0.6630\n",
            "Epoch 9/10\n",
            "282/282 [==============================] - 128s 447ms/step - loss: 6.8620e-04 - accuracy: 1.0000 - val_loss: 1.4902 - val_accuracy: 0.6620\n",
            "Epoch 10/10\n",
            "282/282 [==============================] - 128s 448ms/step - loss: 5.3180e-04 - accuracy: 1.0000 - val_loss: 1.5144 - val_accuracy: 0.6650\n"
          ],
          "name": "stdout"
        },
        {
          "output_type": "display_data",
          "data": {
            "text/html": [
              "<br/>Waiting for W&B process to finish, PID 818<br/>Program ended successfully."
            ],
            "text/plain": [
              "<IPython.core.display.HTML object>"
            ]
          },
          "metadata": {
            "tags": []
          }
        },
        {
          "output_type": "display_data",
          "data": {
            "application/vnd.jupyter.widget-view+json": {
              "model_id": "9294c23a39b54a6a8f2a92e1629e56c9",
              "version_minor": 0,
              "version_major": 2
            },
            "text/plain": [
              "VBox(children=(Label(value=' 86.47MB of 86.47MB uploaded (0.00MB deduped)\\r'), FloatProgress(value=1.0, max=1.…"
            ]
          },
          "metadata": {
            "tags": []
          }
        },
        {
          "output_type": "display_data",
          "data": {
            "text/html": [
              "Find user logs for this run at: <code>/root/.keras/datasets/inaturalist_12K/valid/wandb/run-20210413_122143-43yfm78o/logs/debug.log</code>"
            ],
            "text/plain": [
              "<IPython.core.display.HTML object>"
            ]
          },
          "metadata": {
            "tags": []
          }
        },
        {
          "output_type": "display_data",
          "data": {
            "text/html": [
              "Find internal logs for this run at: <code>/root/.keras/datasets/inaturalist_12K/valid/wandb/run-20210413_122143-43yfm78o/logs/debug-internal.log</code>"
            ],
            "text/plain": [
              "<IPython.core.display.HTML object>"
            ]
          },
          "metadata": {
            "tags": []
          }
        },
        {
          "output_type": "display_data",
          "data": {
            "text/html": [
              "<h3>Run summary:</h3><br/><style>\n",
              "    table.wandb td:nth-child(1) { padding: 0 10px; text-align: right }\n",
              "    </style><table class=\"wandb\">\n",
              "<tr><td>epoch</td><td>9</td></tr><tr><td>loss</td><td>0.00058</td></tr><tr><td>accuracy</td><td>1.0</td></tr><tr><td>val_loss</td><td>1.51442</td></tr><tr><td>val_accuracy</td><td>0.665</td></tr><tr><td>_runtime</td><td>1285</td></tr><tr><td>_timestamp</td><td>1618317788</td></tr><tr><td>_step</td><td>9</td></tr><tr><td>best_val_loss</td><td>1.1012</td></tr><tr><td>best_epoch</td><td>0</td></tr></table>"
            ],
            "text/plain": [
              "<IPython.core.display.HTML object>"
            ]
          },
          "metadata": {
            "tags": []
          }
        },
        {
          "output_type": "display_data",
          "data": {
            "text/html": [
              "<h3>Run history:</h3><br/><style>\n",
              "    table.wandb td:nth-child(1) { padding: 0 10px; text-align: right }\n",
              "    </style><table class=\"wandb\">\n",
              "<tr><td>epoch</td><td>▁▂▃▃▄▅▆▆▇█</td></tr><tr><td>loss</td><td>█▃▁▁▁▁▁▁▁▁</td></tr><tr><td>accuracy</td><td>▁▆████████</td></tr><tr><td>val_loss</td><td>▁▂▄▇▆▆▇▇██</td></tr><tr><td>val_accuracy</td><td>▁▃▆▅▆▇████</td></tr><tr><td>_runtime</td><td>▁▂▃▃▄▅▆▆▇█</td></tr><tr><td>_timestamp</td><td>▁▂▃▃▄▅▆▆▇█</td></tr><tr><td>_step</td><td>▁▂▃▃▄▅▆▆▇█</td></tr></table><br/>"
            ],
            "text/plain": [
              "<IPython.core.display.HTML object>"
            ]
          },
          "metadata": {
            "tags": []
          }
        },
        {
          "output_type": "display_data",
          "data": {
            "text/html": [
              "Synced 5 W&B file(s), 1 media file(s), 0 artifact file(s) and 1 other file(s)"
            ],
            "text/plain": [
              "<IPython.core.display.HTML object>"
            ]
          },
          "metadata": {
            "tags": []
          }
        },
        {
          "output_type": "display_data",
          "data": {
            "text/html": [
              "\n",
              "                    <br/>Synced <strong style=\"color:#cdcd00\">gentle-sweep-6</strong>: <a href=\"https://wandb.ai/pranayrajparisha/pretrained/runs/43yfm78o\" target=\"_blank\">https://wandb.ai/pranayrajparisha/pretrained/runs/43yfm78o</a><br/>\n",
              "                "
            ],
            "text/plain": [
              "<IPython.core.display.HTML object>"
            ]
          },
          "metadata": {
            "tags": []
          }
        },
        {
          "output_type": "stream",
          "text": [
            "\u001b[34m\u001b[1mwandb\u001b[0m: Agent Starting Run: dy6h6f88 with config:\n",
            "\u001b[34m\u001b[1mwandb\u001b[0m: \tactivation: relu\n",
            "\u001b[34m\u001b[1mwandb\u001b[0m: \tactivation2: softmax\n",
            "\u001b[34m\u001b[1mwandb\u001b[0m: \tbase_model: ResNet50\n",
            "\u001b[34m\u001b[1mwandb\u001b[0m: \tdropout: 0\n",
            "\u001b[34m\u001b[1mwandb\u001b[0m: \tepoch: 10\n",
            "\u001b[34m\u001b[1mwandb\u001b[0m: \tinput_shape: [180, 180, 3]\n",
            "\u001b[34m\u001b[1mwandb\u001b[0m: \tl_rate: 0.0001\n",
            "\u001b[34m\u001b[1mwandb\u001b[0m: \tnum_dense_neuron: 1014\n",
            "\u001b[34m\u001b[1mwandb\u001b[0m: \tpooling: max\n"
          ],
          "name": "stderr"
        },
        {
          "output_type": "display_data",
          "data": {
            "text/html": [
              "\n",
              "                Tracking run with wandb version 0.10.25<br/>\n",
              "                Syncing run <strong style=\"color:#cdcd00\">easy-sweep-7</strong> to <a href=\"https://wandb.ai\" target=\"_blank\">Weights & Biases</a> <a href=\"https://docs.wandb.com/integrations/jupyter.html\" target=\"_blank\">(Documentation)</a>.<br/>\n",
              "                Project page: <a href=\"https://wandb.ai/pranayrajparisha/pretrained\" target=\"_blank\">https://wandb.ai/pranayrajparisha/pretrained</a><br/>\n",
              "                Sweep page: <a href=\"https://wandb.ai/pranayrajparisha/pretrained/sweeps/564a0kzf\" target=\"_blank\">https://wandb.ai/pranayrajparisha/pretrained/sweeps/564a0kzf</a><br/>\n",
              "Run page: <a href=\"https://wandb.ai/pranayrajparisha/pretrained/runs/dy6h6f88\" target=\"_blank\">https://wandb.ai/pranayrajparisha/pretrained/runs/dy6h6f88</a><br/>\n",
              "                Run data is saved locally in <code>/root/.keras/datasets/inaturalist_12K/valid/wandb/run-20210413_124349-dy6h6f88</code><br/><br/>\n",
              "            "
            ],
            "text/plain": [
              "<IPython.core.display.HTML object>"
            ]
          },
          "metadata": {
            "tags": []
          }
        },
        {
          "output_type": "stream",
          "text": [
            "Epoch 1/10\n",
            "282/282 [==============================] - 130s 440ms/step - loss: 3.1204 - accuracy: 0.4742 - val_loss: 1.0855 - val_accuracy: 0.6300\n",
            "Epoch 2/10\n",
            "282/282 [==============================] - 127s 444ms/step - loss: 0.5492 - accuracy: 0.8167 - val_loss: 1.1421 - val_accuracy: 0.6210\n",
            "Epoch 3/10\n",
            "282/282 [==============================] - 126s 442ms/step - loss: 0.1851 - accuracy: 0.9509 - val_loss: 1.2096 - val_accuracy: 0.6580\n",
            "Epoch 4/10\n",
            "282/282 [==============================] - 126s 440ms/step - loss: 0.0591 - accuracy: 0.9886 - val_loss: 1.3346 - val_accuracy: 0.6590\n",
            "Epoch 5/10\n",
            "282/282 [==============================] - 125s 438ms/step - loss: 0.0220 - accuracy: 0.9970 - val_loss: 1.3783 - val_accuracy: 0.6480\n",
            "Epoch 6/10\n",
            "282/282 [==============================] - 125s 436ms/step - loss: 0.0076 - accuracy: 1.0000 - val_loss: 1.3790 - val_accuracy: 0.6660\n",
            "Epoch 7/10\n",
            "282/282 [==============================] - 125s 438ms/step - loss: 0.0028 - accuracy: 1.0000 - val_loss: 1.4155 - val_accuracy: 0.6640\n",
            "Epoch 8/10\n",
            "282/282 [==============================] - 125s 438ms/step - loss: 0.0014 - accuracy: 1.0000 - val_loss: 1.4451 - val_accuracy: 0.6600\n",
            "Epoch 9/10\n",
            "282/282 [==============================] - 124s 433ms/step - loss: 9.5054e-04 - accuracy: 1.0000 - val_loss: 1.4721 - val_accuracy: 0.6580\n",
            "Epoch 10/10\n",
            "282/282 [==============================] - 125s 437ms/step - loss: 7.4341e-04 - accuracy: 1.0000 - val_loss: 1.4906 - val_accuracy: 0.6570\n"
          ],
          "name": "stdout"
        },
        {
          "output_type": "display_data",
          "data": {
            "text/html": [
              "<br/>Waiting for W&B process to finish, PID 873<br/>Program ended successfully."
            ],
            "text/plain": [
              "<IPython.core.display.HTML object>"
            ]
          },
          "metadata": {
            "tags": []
          }
        },
        {
          "output_type": "display_data",
          "data": {
            "application/vnd.jupyter.widget-view+json": {
              "model_id": "45c64ec13a0c47fb95b062e81dbd2947",
              "version_minor": 0,
              "version_major": 2
            },
            "text/plain": [
              "VBox(children=(Label(value=' 90.48MB of 90.48MB uploaded (0.00MB deduped)\\r'), FloatProgress(value=1.0, max=1.…"
            ]
          },
          "metadata": {
            "tags": []
          }
        },
        {
          "output_type": "display_data",
          "data": {
            "text/html": [
              "Find user logs for this run at: <code>/root/.keras/datasets/inaturalist_12K/valid/wandb/run-20210413_124349-dy6h6f88/logs/debug.log</code>"
            ],
            "text/plain": [
              "<IPython.core.display.HTML object>"
            ]
          },
          "metadata": {
            "tags": []
          }
        },
        {
          "output_type": "display_data",
          "data": {
            "text/html": [
              "Find internal logs for this run at: <code>/root/.keras/datasets/inaturalist_12K/valid/wandb/run-20210413_124349-dy6h6f88/logs/debug-internal.log</code>"
            ],
            "text/plain": [
              "<IPython.core.display.HTML object>"
            ]
          },
          "metadata": {
            "tags": []
          }
        },
        {
          "output_type": "display_data",
          "data": {
            "text/html": [
              "<h3>Run summary:</h3><br/><style>\n",
              "    table.wandb td:nth-child(1) { padding: 0 10px; text-align: right }\n",
              "    </style><table class=\"wandb\">\n",
              "<tr><td>epoch</td><td>9</td></tr><tr><td>loss</td><td>0.0008</td></tr><tr><td>accuracy</td><td>1.0</td></tr><tr><td>val_loss</td><td>1.49058</td></tr><tr><td>val_accuracy</td><td>0.657</td></tr><tr><td>_runtime</td><td>1270</td></tr><tr><td>_timestamp</td><td>1618319099</td></tr><tr><td>_step</td><td>9</td></tr><tr><td>best_val_loss</td><td>1.08551</td></tr><tr><td>best_epoch</td><td>0</td></tr></table>"
            ],
            "text/plain": [
              "<IPython.core.display.HTML object>"
            ]
          },
          "metadata": {
            "tags": []
          }
        },
        {
          "output_type": "display_data",
          "data": {
            "text/html": [
              "<h3>Run history:</h3><br/><style>\n",
              "    table.wandb td:nth-child(1) { padding: 0 10px; text-align: right }\n",
              "    </style><table class=\"wandb\">\n",
              "<tr><td>epoch</td><td>▁▂▃▃▄▅▆▆▇█</td></tr><tr><td>loss</td><td>█▃▂▁▁▁▁▁▁▁</td></tr><tr><td>accuracy</td><td>▁▅▇███████</td></tr><tr><td>val_loss</td><td>▁▂▃▅▆▆▇▇██</td></tr><tr><td>val_accuracy</td><td>▂▁▇▇▅██▇▇▇</td></tr><tr><td>_runtime</td><td>▁▂▃▃▄▅▆▆▇█</td></tr><tr><td>_timestamp</td><td>▁▂▃▃▄▅▆▆▇█</td></tr><tr><td>_step</td><td>▁▂▃▃▄▅▆▆▇█</td></tr></table><br/>"
            ],
            "text/plain": [
              "<IPython.core.display.HTML object>"
            ]
          },
          "metadata": {
            "tags": []
          }
        },
        {
          "output_type": "display_data",
          "data": {
            "text/html": [
              "Synced 5 W&B file(s), 1 media file(s), 0 artifact file(s) and 1 other file(s)"
            ],
            "text/plain": [
              "<IPython.core.display.HTML object>"
            ]
          },
          "metadata": {
            "tags": []
          }
        },
        {
          "output_type": "display_data",
          "data": {
            "text/html": [
              "\n",
              "                    <br/>Synced <strong style=\"color:#cdcd00\">easy-sweep-7</strong>: <a href=\"https://wandb.ai/pranayrajparisha/pretrained/runs/dy6h6f88\" target=\"_blank\">https://wandb.ai/pranayrajparisha/pretrained/runs/dy6h6f88</a><br/>\n",
              "                "
            ],
            "text/plain": [
              "<IPython.core.display.HTML object>"
            ]
          },
          "metadata": {
            "tags": []
          }
        },
        {
          "output_type": "stream",
          "text": [
            "\u001b[34m\u001b[1mwandb\u001b[0m: Sweep Agent: Waiting for job.\n",
            "\u001b[34m\u001b[1mwandb\u001b[0m: Job received.\n",
            "\u001b[34m\u001b[1mwandb\u001b[0m: Agent Starting Run: ioz4v384 with config:\n",
            "\u001b[34m\u001b[1mwandb\u001b[0m: \tactivation: relu\n",
            "\u001b[34m\u001b[1mwandb\u001b[0m: \tactivation2: softmax\n",
            "\u001b[34m\u001b[1mwandb\u001b[0m: \tbase_model: InceptionV3\n",
            "\u001b[34m\u001b[1mwandb\u001b[0m: \tdropout: 0.2\n",
            "\u001b[34m\u001b[1mwandb\u001b[0m: \tepoch: 10\n",
            "\u001b[34m\u001b[1mwandb\u001b[0m: \tinput_shape: [180, 180, 3]\n",
            "\u001b[34m\u001b[1mwandb\u001b[0m: \tl_rate: 5e-05\n",
            "\u001b[34m\u001b[1mwandb\u001b[0m: \tnum_dense_neuron: 1014\n",
            "\u001b[34m\u001b[1mwandb\u001b[0m: \tpooling: avg\n"
          ],
          "name": "stderr"
        },
        {
          "output_type": "display_data",
          "data": {
            "text/html": [
              "\n",
              "                Tracking run with wandb version 0.10.25<br/>\n",
              "                Syncing run <strong style=\"color:#cdcd00\">avid-sweep-8</strong> to <a href=\"https://wandb.ai\" target=\"_blank\">Weights & Biases</a> <a href=\"https://docs.wandb.com/integrations/jupyter.html\" target=\"_blank\">(Documentation)</a>.<br/>\n",
              "                Project page: <a href=\"https://wandb.ai/pranayrajparisha/pretrained\" target=\"_blank\">https://wandb.ai/pranayrajparisha/pretrained</a><br/>\n",
              "                Sweep page: <a href=\"https://wandb.ai/pranayrajparisha/pretrained/sweeps/564a0kzf\" target=\"_blank\">https://wandb.ai/pranayrajparisha/pretrained/sweeps/564a0kzf</a><br/>\n",
              "Run page: <a href=\"https://wandb.ai/pranayrajparisha/pretrained/runs/ioz4v384\" target=\"_blank\">https://wandb.ai/pranayrajparisha/pretrained/runs/ioz4v384</a><br/>\n",
              "                Run data is saved locally in <code>/root/.keras/datasets/inaturalist_12K/valid/wandb/run-20210413_130550-ioz4v384</code><br/><br/>\n",
              "            "
            ],
            "text/plain": [
              "<IPython.core.display.HTML object>"
            ]
          },
          "metadata": {
            "tags": []
          }
        },
        {
          "output_type": "stream",
          "text": [
            "Epoch 1/10\n",
            "282/282 [==============================] - 114s 378ms/step - loss: 29.8044 - accuracy: 0.1321 - val_loss: 2.3130 - val_accuracy: 0.1020\n",
            "Epoch 2/10\n",
            "282/282 [==============================] - 106s 368ms/step - loss: 2.3411 - accuracy: 0.1325 - val_loss: 2.3159 - val_accuracy: 0.1060\n",
            "Epoch 3/10\n",
            "282/282 [==============================] - 105s 367ms/step - loss: 2.2829 - accuracy: 0.1448 - val_loss: 2.3048 - val_accuracy: 0.1130\n",
            "Epoch 4/10\n",
            "282/282 [==============================] - 105s 368ms/step - loss: 2.2837 - accuracy: 0.1467 - val_loss: 2.3083 - val_accuracy: 0.1260\n",
            "Epoch 5/10\n",
            "282/282 [==============================] - 105s 367ms/step - loss: 2.2689 - accuracy: 0.1538 - val_loss: 2.2848 - val_accuracy: 0.1320\n",
            "Epoch 6/10\n",
            "282/282 [==============================] - 106s 371ms/step - loss: 2.2352 - accuracy: 0.1661 - val_loss: 2.2974 - val_accuracy: 0.1410\n",
            "Epoch 7/10\n",
            "282/282 [==============================] - 106s 369ms/step - loss: 2.2267 - accuracy: 0.1716 - val_loss: 2.3052 - val_accuracy: 0.1280\n",
            "Epoch 8/10\n",
            "282/282 [==============================] - 106s 369ms/step - loss: 2.2204 - accuracy: 0.1759 - val_loss: 2.2947 - val_accuracy: 0.1300\n",
            "Epoch 9/10\n",
            "282/282 [==============================] - 106s 371ms/step - loss: 2.1914 - accuracy: 0.1813 - val_loss: 2.2869 - val_accuracy: 0.1370\n",
            "Epoch 10/10\n",
            "282/282 [==============================] - 106s 371ms/step - loss: 2.1669 - accuracy: 0.1959 - val_loss: 2.3206 - val_accuracy: 0.1400\n"
          ],
          "name": "stdout"
        },
        {
          "output_type": "display_data",
          "data": {
            "text/html": [
              "<br/>Waiting for W&B process to finish, PID 942<br/>Program ended successfully."
            ],
            "text/plain": [
              "<IPython.core.display.HTML object>"
            ]
          },
          "metadata": {
            "tags": []
          }
        },
        {
          "output_type": "display_data",
          "data": {
            "application/vnd.jupyter.widget-view+json": {
              "model_id": "cc94ef504b294ec6a94134317432ceec",
              "version_minor": 0,
              "version_major": 2
            },
            "text/plain": [
              "VBox(children=(Label(value=' 464.43MB of 464.43MB uploaded (0.00MB deduped)\\r'), FloatProgress(value=1.0, max=…"
            ]
          },
          "metadata": {
            "tags": []
          }
        },
        {
          "output_type": "display_data",
          "data": {
            "text/html": [
              "Find user logs for this run at: <code>/root/.keras/datasets/inaturalist_12K/valid/wandb/run-20210413_130550-ioz4v384/logs/debug.log</code>"
            ],
            "text/plain": [
              "<IPython.core.display.HTML object>"
            ]
          },
          "metadata": {
            "tags": []
          }
        },
        {
          "output_type": "display_data",
          "data": {
            "text/html": [
              "Find internal logs for this run at: <code>/root/.keras/datasets/inaturalist_12K/valid/wandb/run-20210413_130550-ioz4v384/logs/debug-internal.log</code>"
            ],
            "text/plain": [
              "<IPython.core.display.HTML object>"
            ]
          },
          "metadata": {
            "tags": []
          }
        },
        {
          "output_type": "display_data",
          "data": {
            "text/html": [
              "<h3>Run summary:</h3><br/><style>\n",
              "    table.wandb td:nth-child(1) { padding: 0 10px; text-align: right }\n",
              "    </style><table class=\"wandb\">\n",
              "<tr><td>epoch</td><td>9</td></tr><tr><td>loss</td><td>2.17253</td></tr><tr><td>accuracy</td><td>0.19413</td></tr><tr><td>val_loss</td><td>2.32064</td></tr><tr><td>val_accuracy</td><td>0.14</td></tr><tr><td>_runtime</td><td>1080</td></tr><tr><td>_timestamp</td><td>1618320230</td></tr><tr><td>_step</td><td>9</td></tr><tr><td>best_val_loss</td><td>2.28475</td></tr><tr><td>best_epoch</td><td>4</td></tr></table>"
            ],
            "text/plain": [
              "<IPython.core.display.HTML object>"
            ]
          },
          "metadata": {
            "tags": []
          }
        },
        {
          "output_type": "display_data",
          "data": {
            "text/html": [
              "<h3>Run history:</h3><br/><style>\n",
              "    table.wandb td:nth-child(1) { padding: 0 10px; text-align: right }\n",
              "    </style><table class=\"wandb\">\n",
              "<tr><td>epoch</td><td>▁▂▃▃▄▅▆▆▇█</td></tr><tr><td>loss</td><td>█▁▁▁▁▁▁▁▁▁</td></tr><tr><td>accuracy</td><td>▁▁▂▃▄▅▅▆▇█</td></tr><tr><td>val_loss</td><td>▇▇▅▆▁▃▅▃▁█</td></tr><tr><td>val_accuracy</td><td>▁▂▃▅▆█▆▆▇█</td></tr><tr><td>_runtime</td><td>▁▂▃▃▄▅▆▆▇█</td></tr><tr><td>_timestamp</td><td>▁▂▃▃▄▅▆▆▇█</td></tr><tr><td>_step</td><td>▁▂▃▃▄▅▆▆▇█</td></tr></table><br/>"
            ],
            "text/plain": [
              "<IPython.core.display.HTML object>"
            ]
          },
          "metadata": {
            "tags": []
          }
        },
        {
          "output_type": "display_data",
          "data": {
            "text/html": [
              "Synced 5 W&B file(s), 1 media file(s), 0 artifact file(s) and 1 other file(s)"
            ],
            "text/plain": [
              "<IPython.core.display.HTML object>"
            ]
          },
          "metadata": {
            "tags": []
          }
        },
        {
          "output_type": "display_data",
          "data": {
            "text/html": [
              "\n",
              "                    <br/>Synced <strong style=\"color:#cdcd00\">avid-sweep-8</strong>: <a href=\"https://wandb.ai/pranayrajparisha/pretrained/runs/ioz4v384\" target=\"_blank\">https://wandb.ai/pranayrajparisha/pretrained/runs/ioz4v384</a><br/>\n",
              "                "
            ],
            "text/plain": [
              "<IPython.core.display.HTML object>"
            ]
          },
          "metadata": {
            "tags": []
          }
        },
        {
          "output_type": "stream",
          "text": [
            "\u001b[34m\u001b[1mwandb\u001b[0m: Agent Starting Run: ihuaunj9 with config:\n",
            "\u001b[34m\u001b[1mwandb\u001b[0m: \tactivation: relu\n",
            "\u001b[34m\u001b[1mwandb\u001b[0m: \tactivation2: softmax\n",
            "\u001b[34m\u001b[1mwandb\u001b[0m: \tbase_model: InceptionV3\n",
            "\u001b[34m\u001b[1mwandb\u001b[0m: \tdropout: 0.2\n",
            "\u001b[34m\u001b[1mwandb\u001b[0m: \tepoch: 5\n",
            "\u001b[34m\u001b[1mwandb\u001b[0m: \tinput_shape: [180, 180, 3]\n",
            "\u001b[34m\u001b[1mwandb\u001b[0m: \tl_rate: 5e-05\n",
            "\u001b[34m\u001b[1mwandb\u001b[0m: \tnum_dense_neuron: 1014\n",
            "\u001b[34m\u001b[1mwandb\u001b[0m: \tpooling: no pooling\n"
          ],
          "name": "stderr"
        },
        {
          "output_type": "display_data",
          "data": {
            "text/html": [
              "\n",
              "                Tracking run with wandb version 0.10.25<br/>\n",
              "                Syncing run <strong style=\"color:#cdcd00\">sandy-sweep-9</strong> to <a href=\"https://wandb.ai\" target=\"_blank\">Weights & Biases</a> <a href=\"https://docs.wandb.com/integrations/jupyter.html\" target=\"_blank\">(Documentation)</a>.<br/>\n",
              "                Project page: <a href=\"https://wandb.ai/pranayrajparisha/pretrained\" target=\"_blank\">https://wandb.ai/pranayrajparisha/pretrained</a><br/>\n",
              "                Sweep page: <a href=\"https://wandb.ai/pranayrajparisha/pretrained/sweeps/564a0kzf\" target=\"_blank\">https://wandb.ai/pranayrajparisha/pretrained/sweeps/564a0kzf</a><br/>\n",
              "Run page: <a href=\"https://wandb.ai/pranayrajparisha/pretrained/runs/ihuaunj9\" target=\"_blank\">https://wandb.ai/pranayrajparisha/pretrained/runs/ihuaunj9</a><br/>\n",
              "                Run data is saved locally in <code>/root/.keras/datasets/inaturalist_12K/valid/wandb/run-20210413_132412-ihuaunj9</code><br/><br/>\n",
              "            "
            ],
            "text/plain": [
              "<IPython.core.display.HTML object>"
            ]
          },
          "metadata": {
            "tags": []
          }
        },
        {
          "output_type": "stream",
          "text": [
            "Epoch 1/5\n",
            "282/282 [==============================] - 115s 382ms/step - loss: 31.6496 - accuracy: 0.1299 - val_loss: 2.2997 - val_accuracy: 0.0930\n",
            "Epoch 2/5\n",
            "282/282 [==============================] - 108s 374ms/step - loss: 2.3366 - accuracy: 0.1298 - val_loss: 2.2951 - val_accuracy: 0.1210\n",
            "Epoch 3/5\n",
            "282/282 [==============================] - 106s 369ms/step - loss: 2.2994 - accuracy: 0.1375 - val_loss: 2.2667 - val_accuracy: 0.1460\n",
            "Epoch 4/5\n",
            "282/282 [==============================] - 107s 373ms/step - loss: 2.2692 - accuracy: 0.1453 - val_loss: 2.2694 - val_accuracy: 0.1370\n",
            "Epoch 5/5\n",
            "282/282 [==============================] - 106s 371ms/step - loss: 2.2436 - accuracy: 0.1599 - val_loss: 2.2675 - val_accuracy: 0.1440\n"
          ],
          "name": "stdout"
        },
        {
          "output_type": "display_data",
          "data": {
            "text/html": [
              "<br/>Waiting for W&B process to finish, PID 997<br/>Program ended successfully."
            ],
            "text/plain": [
              "<IPython.core.display.HTML object>"
            ]
          },
          "metadata": {
            "tags": []
          }
        },
        {
          "output_type": "display_data",
          "data": {
            "application/vnd.jupyter.widget-view+json": {
              "model_id": "c388ba88f3e5460fa77d51b7c70e8507",
              "version_minor": 0,
              "version_major": 2
            },
            "text/plain": [
              "VBox(children=(Label(value=' 464.43MB of 464.43MB uploaded (0.00MB deduped)\\r'), FloatProgress(value=1.0, max=…"
            ]
          },
          "metadata": {
            "tags": []
          }
        },
        {
          "output_type": "display_data",
          "data": {
            "text/html": [
              "Find user logs for this run at: <code>/root/.keras/datasets/inaturalist_12K/valid/wandb/run-20210413_132412-ihuaunj9/logs/debug.log</code>"
            ],
            "text/plain": [
              "<IPython.core.display.HTML object>"
            ]
          },
          "metadata": {
            "tags": []
          }
        },
        {
          "output_type": "display_data",
          "data": {
            "text/html": [
              "Find internal logs for this run at: <code>/root/.keras/datasets/inaturalist_12K/valid/wandb/run-20210413_132412-ihuaunj9/logs/debug-internal.log</code>"
            ],
            "text/plain": [
              "<IPython.core.display.HTML object>"
            ]
          },
          "metadata": {
            "tags": []
          }
        },
        {
          "output_type": "display_data",
          "data": {
            "text/html": [
              "<h3>Run summary:</h3><br/><style>\n",
              "    table.wandb td:nth-child(1) { padding: 0 10px; text-align: right }\n",
              "    </style><table class=\"wandb\">\n",
              "<tr><td>epoch</td><td>4</td></tr><tr><td>loss</td><td>2.24977</td></tr><tr><td>accuracy</td><td>0.16202</td></tr><tr><td>val_loss</td><td>2.26749</td></tr><tr><td>val_accuracy</td><td>0.144</td></tr><tr><td>_runtime</td><td>555</td></tr><tr><td>_timestamp</td><td>1618320807</td></tr><tr><td>_step</td><td>4</td></tr><tr><td>best_val_loss</td><td>2.26665</td></tr><tr><td>best_epoch</td><td>2</td></tr></table>"
            ],
            "text/plain": [
              "<IPython.core.display.HTML object>"
            ]
          },
          "metadata": {
            "tags": []
          }
        },
        {
          "output_type": "display_data",
          "data": {
            "text/html": [
              "<h3>Run history:</h3><br/><style>\n",
              "    table.wandb td:nth-child(1) { padding: 0 10px; text-align: right }\n",
              "    </style><table class=\"wandb\">\n",
              "<tr><td>epoch</td><td>▁▃▅▆█</td></tr><tr><td>loss</td><td>█▁▁▁▁</td></tr><tr><td>accuracy</td><td>▂▁▃▅█</td></tr><tr><td>val_loss</td><td>█▇▁▂▁</td></tr><tr><td>val_accuracy</td><td>▁▅█▇█</td></tr><tr><td>_runtime</td><td>▁▃▅▆█</td></tr><tr><td>_timestamp</td><td>▁▃▅▆█</td></tr><tr><td>_step</td><td>▁▃▅▆█</td></tr></table><br/>"
            ],
            "text/plain": [
              "<IPython.core.display.HTML object>"
            ]
          },
          "metadata": {
            "tags": []
          }
        },
        {
          "output_type": "display_data",
          "data": {
            "text/html": [
              "Synced 5 W&B file(s), 1 media file(s), 0 artifact file(s) and 1 other file(s)"
            ],
            "text/plain": [
              "<IPython.core.display.HTML object>"
            ]
          },
          "metadata": {
            "tags": []
          }
        },
        {
          "output_type": "display_data",
          "data": {
            "text/html": [
              "\n",
              "                    <br/>Synced <strong style=\"color:#cdcd00\">sandy-sweep-9</strong>: <a href=\"https://wandb.ai/pranayrajparisha/pretrained/runs/ihuaunj9\" target=\"_blank\">https://wandb.ai/pranayrajparisha/pretrained/runs/ihuaunj9</a><br/>\n",
              "                "
            ],
            "text/plain": [
              "<IPython.core.display.HTML object>"
            ]
          },
          "metadata": {
            "tags": []
          }
        },
        {
          "output_type": "stream",
          "text": [
            "\u001b[34m\u001b[1mwandb\u001b[0m: Agent Starting Run: bgnrspza with config:\n",
            "\u001b[34m\u001b[1mwandb\u001b[0m: \tactivation: relu\n",
            "\u001b[34m\u001b[1mwandb\u001b[0m: \tactivation2: softmax\n",
            "\u001b[34m\u001b[1mwandb\u001b[0m: \tbase_model: InceptionV3\n",
            "\u001b[34m\u001b[1mwandb\u001b[0m: \tdropout: 0.1\n",
            "\u001b[34m\u001b[1mwandb\u001b[0m: \tepoch: 5\n",
            "\u001b[34m\u001b[1mwandb\u001b[0m: \tinput_shape: [180, 180, 3]\n",
            "\u001b[34m\u001b[1mwandb\u001b[0m: \tl_rate: 5e-05\n",
            "\u001b[34m\u001b[1mwandb\u001b[0m: \tnum_dense_neuron: 1014\n",
            "\u001b[34m\u001b[1mwandb\u001b[0m: \tpooling: no pooling\n"
          ],
          "name": "stderr"
        },
        {
          "output_type": "display_data",
          "data": {
            "text/html": [
              "\n",
              "                Tracking run with wandb version 0.10.25<br/>\n",
              "                Syncing run <strong style=\"color:#cdcd00\">magic-sweep-10</strong> to <a href=\"https://wandb.ai\" target=\"_blank\">Weights & Biases</a> <a href=\"https://docs.wandb.com/integrations/jupyter.html\" target=\"_blank\">(Documentation)</a>.<br/>\n",
              "                Project page: <a href=\"https://wandb.ai/pranayrajparisha/pretrained\" target=\"_blank\">https://wandb.ai/pranayrajparisha/pretrained</a><br/>\n",
              "                Sweep page: <a href=\"https://wandb.ai/pranayrajparisha/pretrained/sweeps/564a0kzf\" target=\"_blank\">https://wandb.ai/pranayrajparisha/pretrained/sweeps/564a0kzf</a><br/>\n",
              "Run page: <a href=\"https://wandb.ai/pranayrajparisha/pretrained/runs/bgnrspza\" target=\"_blank\">https://wandb.ai/pranayrajparisha/pretrained/runs/bgnrspza</a><br/>\n",
              "                Run data is saved locally in <code>/root/.keras/datasets/inaturalist_12K/valid/wandb/run-20210413_133353-bgnrspza</code><br/><br/>\n",
              "            "
            ],
            "text/plain": [
              "<IPython.core.display.HTML object>"
            ]
          },
          "metadata": {
            "tags": []
          }
        },
        {
          "output_type": "stream",
          "text": [
            "Epoch 1/5\n",
            "282/282 [==============================] - 114s 379ms/step - loss: 29.8502 - accuracy: 0.1373 - val_loss: 3.5145 - val_accuracy: 0.1420\n",
            "Epoch 2/5\n",
            "282/282 [==============================] - 109s 377ms/step - loss: 3.3259 - accuracy: 0.1713 - val_loss: 2.3002 - val_accuracy: 0.1370\n",
            "Epoch 3/5\n",
            "282/282 [==============================] - 108s 377ms/step - loss: 2.2590 - accuracy: 0.1680 - val_loss: 2.2920 - val_accuracy: 0.1280\n",
            "Epoch 4/5\n",
            "282/282 [==============================] - 109s 381ms/step - loss: 2.2352 - accuracy: 0.1868 - val_loss: 2.3105 - val_accuracy: 0.1280\n",
            "Epoch 5/5\n",
            "282/282 [==============================] - 108s 376ms/step - loss: 2.1925 - accuracy: 0.2027 - val_loss: 2.2957 - val_accuracy: 0.1420\n"
          ],
          "name": "stdout"
        },
        {
          "output_type": "display_data",
          "data": {
            "text/html": [
              "<br/>Waiting for W&B process to finish, PID 1042<br/>Program ended successfully."
            ],
            "text/plain": [
              "<IPython.core.display.HTML object>"
            ]
          },
          "metadata": {
            "tags": []
          }
        },
        {
          "output_type": "display_data",
          "data": {
            "application/vnd.jupyter.widget-view+json": {
              "model_id": "1d282c0755a849749f30be6810944201",
              "version_minor": 0,
              "version_major": 2
            },
            "text/plain": [
              "VBox(children=(Label(value=' 464.43MB of 464.43MB uploaded (0.00MB deduped)\\r'), FloatProgress(value=1.0, max=…"
            ]
          },
          "metadata": {
            "tags": []
          }
        },
        {
          "output_type": "display_data",
          "data": {
            "text/html": [
              "Find user logs for this run at: <code>/root/.keras/datasets/inaturalist_12K/valid/wandb/run-20210413_133353-bgnrspza/logs/debug.log</code>"
            ],
            "text/plain": [
              "<IPython.core.display.HTML object>"
            ]
          },
          "metadata": {
            "tags": []
          }
        },
        {
          "output_type": "display_data",
          "data": {
            "text/html": [
              "Find internal logs for this run at: <code>/root/.keras/datasets/inaturalist_12K/valid/wandb/run-20210413_133353-bgnrspza/logs/debug-internal.log</code>"
            ],
            "text/plain": [
              "<IPython.core.display.HTML object>"
            ]
          },
          "metadata": {
            "tags": []
          }
        },
        {
          "output_type": "display_data",
          "data": {
            "text/html": [
              "<h3>Run summary:</h3><br/><style>\n",
              "    table.wandb td:nth-child(1) { padding: 0 10px; text-align: right }\n",
              "    </style><table class=\"wandb\">\n",
              "<tr><td>epoch</td><td>4</td></tr><tr><td>loss</td><td>2.20239</td></tr><tr><td>accuracy</td><td>0.1928</td></tr><tr><td>val_loss</td><td>2.29565</td></tr><tr><td>val_accuracy</td><td>0.142</td></tr><tr><td>_runtime</td><td>561</td></tr><tr><td>_timestamp</td><td>1618321394</td></tr><tr><td>_step</td><td>4</td></tr><tr><td>best_val_loss</td><td>2.29195</td></tr><tr><td>best_epoch</td><td>2</td></tr></table>"
            ],
            "text/plain": [
              "<IPython.core.display.HTML object>"
            ]
          },
          "metadata": {
            "tags": []
          }
        },
        {
          "output_type": "display_data",
          "data": {
            "text/html": [
              "<h3>Run history:</h3><br/><style>\n",
              "    table.wandb td:nth-child(1) { padding: 0 10px; text-align: right }\n",
              "    </style><table class=\"wandb\">\n",
              "<tr><td>epoch</td><td>▁▃▅▆█</td></tr><tr><td>loss</td><td>█▁▁▁▁</td></tr><tr><td>accuracy</td><td>▁▃▄▆█</td></tr><tr><td>val_loss</td><td>█▁▁▁▁</td></tr><tr><td>val_accuracy</td><td>█▅▁▁█</td></tr><tr><td>_runtime</td><td>▁▃▅▆█</td></tr><tr><td>_timestamp</td><td>▁▃▅▆█</td></tr><tr><td>_step</td><td>▁▃▅▆█</td></tr></table><br/>"
            ],
            "text/plain": [
              "<IPython.core.display.HTML object>"
            ]
          },
          "metadata": {
            "tags": []
          }
        },
        {
          "output_type": "display_data",
          "data": {
            "text/html": [
              "Synced 5 W&B file(s), 1 media file(s), 0 artifact file(s) and 1 other file(s)"
            ],
            "text/plain": [
              "<IPython.core.display.HTML object>"
            ]
          },
          "metadata": {
            "tags": []
          }
        },
        {
          "output_type": "display_data",
          "data": {
            "text/html": [
              "\n",
              "                    <br/>Synced <strong style=\"color:#cdcd00\">magic-sweep-10</strong>: <a href=\"https://wandb.ai/pranayrajparisha/pretrained/runs/bgnrspza\" target=\"_blank\">https://wandb.ai/pranayrajparisha/pretrained/runs/bgnrspza</a><br/>\n",
              "                "
            ],
            "text/plain": [
              "<IPython.core.display.HTML object>"
            ]
          },
          "metadata": {
            "tags": []
          }
        },
        {
          "output_type": "stream",
          "text": [
            "\u001b[34m\u001b[1mwandb\u001b[0m: Agent Starting Run: eq21d895 with config:\n",
            "\u001b[34m\u001b[1mwandb\u001b[0m: \tactivation: relu\n",
            "\u001b[34m\u001b[1mwandb\u001b[0m: \tactivation2: softmax\n",
            "\u001b[34m\u001b[1mwandb\u001b[0m: \tbase_model: InceptionV3\n",
            "\u001b[34m\u001b[1mwandb\u001b[0m: \tdropout: 0.1\n",
            "\u001b[34m\u001b[1mwandb\u001b[0m: \tepoch: 5\n",
            "\u001b[34m\u001b[1mwandb\u001b[0m: \tinput_shape: [180, 180, 3]\n",
            "\u001b[34m\u001b[1mwandb\u001b[0m: \tl_rate: 5e-05\n",
            "\u001b[34m\u001b[1mwandb\u001b[0m: \tnum_dense_neuron: 1014\n",
            "\u001b[34m\u001b[1mwandb\u001b[0m: \tpooling: max\n"
          ],
          "name": "stderr"
        },
        {
          "output_type": "display_data",
          "data": {
            "text/html": [
              "\n",
              "                Tracking run with wandb version 0.10.25<br/>\n",
              "                Syncing run <strong style=\"color:#cdcd00\">fearless-sweep-11</strong> to <a href=\"https://wandb.ai\" target=\"_blank\">Weights & Biases</a> <a href=\"https://docs.wandb.com/integrations/jupyter.html\" target=\"_blank\">(Documentation)</a>.<br/>\n",
              "                Project page: <a href=\"https://wandb.ai/pranayrajparisha/pretrained\" target=\"_blank\">https://wandb.ai/pranayrajparisha/pretrained</a><br/>\n",
              "                Sweep page: <a href=\"https://wandb.ai/pranayrajparisha/pretrained/sweeps/564a0kzf\" target=\"_blank\">https://wandb.ai/pranayrajparisha/pretrained/sweeps/564a0kzf</a><br/>\n",
              "Run page: <a href=\"https://wandb.ai/pranayrajparisha/pretrained/runs/eq21d895\" target=\"_blank\">https://wandb.ai/pranayrajparisha/pretrained/runs/eq21d895</a><br/>\n",
              "                Run data is saved locally in <code>/root/.keras/datasets/inaturalist_12K/valid/wandb/run-20210413_134336-eq21d895</code><br/><br/>\n",
              "            "
            ],
            "text/plain": [
              "<IPython.core.display.HTML object>"
            ]
          },
          "metadata": {
            "tags": []
          }
        },
        {
          "output_type": "stream",
          "text": [
            "Epoch 1/5\n",
            "282/282 [==============================] - 115s 383ms/step - loss: 27.2206 - accuracy: 0.1364 - val_loss: 3.3514 - val_accuracy: 0.1600\n",
            "Epoch 2/5\n",
            "282/282 [==============================] - 107s 372ms/step - loss: 2.6829 - accuracy: 0.1547 - val_loss: 2.3264 - val_accuracy: 0.1310\n",
            "Epoch 3/5\n",
            "282/282 [==============================] - 108s 376ms/step - loss: 2.2667 - accuracy: 0.1684 - val_loss: 2.3049 - val_accuracy: 0.1340\n",
            "Epoch 4/5\n",
            "282/282 [==============================] - 107s 373ms/step - loss: 2.2470 - accuracy: 0.1700 - val_loss: 2.2968 - val_accuracy: 0.1280\n",
            "Epoch 5/5\n",
            "282/282 [==============================] - 109s 379ms/step - loss: 2.2344 - accuracy: 0.1788 - val_loss: 2.2980 - val_accuracy: 0.1470\n"
          ],
          "name": "stdout"
        },
        {
          "output_type": "display_data",
          "data": {
            "text/html": [
              "<br/>Waiting for W&B process to finish, PID 1087<br/>Program ended successfully."
            ],
            "text/plain": [
              "<IPython.core.display.HTML object>"
            ]
          },
          "metadata": {
            "tags": []
          }
        },
        {
          "output_type": "display_data",
          "data": {
            "application/vnd.jupyter.widget-view+json": {
              "model_id": "27ec3c668e764ef1b415475fe23c08fa",
              "version_minor": 0,
              "version_major": 2
            },
            "text/plain": [
              "VBox(children=(Label(value=' 11.17MB of 11.17MB uploaded (0.00MB deduped)\\r'), FloatProgress(value=1.0, max=1.…"
            ]
          },
          "metadata": {
            "tags": []
          }
        },
        {
          "output_type": "display_data",
          "data": {
            "text/html": [
              "Find user logs for this run at: <code>/root/.keras/datasets/inaturalist_12K/valid/wandb/run-20210413_134336-eq21d895/logs/debug.log</code>"
            ],
            "text/plain": [
              "<IPython.core.display.HTML object>"
            ]
          },
          "metadata": {
            "tags": []
          }
        },
        {
          "output_type": "display_data",
          "data": {
            "text/html": [
              "Find internal logs for this run at: <code>/root/.keras/datasets/inaturalist_12K/valid/wandb/run-20210413_134336-eq21d895/logs/debug-internal.log</code>"
            ],
            "text/plain": [
              "<IPython.core.display.HTML object>"
            ]
          },
          "metadata": {
            "tags": []
          }
        },
        {
          "output_type": "display_data",
          "data": {
            "text/html": [
              "<h3>Run summary:</h3><br/><style>\n",
              "    table.wandb td:nth-child(1) { padding: 0 10px; text-align: right }\n",
              "    </style><table class=\"wandb\">\n",
              "<tr><td>epoch</td><td>4</td></tr><tr><td>loss</td><td>2.22971</td></tr><tr><td>accuracy</td><td>0.18135</td></tr><tr><td>val_loss</td><td>2.298</td></tr><tr><td>val_accuracy</td><td>0.147</td></tr><tr><td>_runtime</td><td>558</td></tr><tr><td>_timestamp</td><td>1618321974</td></tr><tr><td>_step</td><td>4</td></tr><tr><td>best_val_loss</td><td>2.29683</td></tr><tr><td>best_epoch</td><td>3</td></tr></table>"
            ],
            "text/plain": [
              "<IPython.core.display.HTML object>"
            ]
          },
          "metadata": {
            "tags": []
          }
        },
        {
          "output_type": "display_data",
          "data": {
            "text/html": [
              "<h3>Run history:</h3><br/><style>\n",
              "    table.wandb td:nth-child(1) { padding: 0 10px; text-align: right }\n",
              "    </style><table class=\"wandb\">\n",
              "<tr><td>epoch</td><td>▁▃▅▆█</td></tr><tr><td>loss</td><td>█▁▁▁▁</td></tr><tr><td>accuracy</td><td>▁▂▅▆█</td></tr><tr><td>val_loss</td><td>█▁▁▁▁</td></tr><tr><td>val_accuracy</td><td>█▂▂▁▅</td></tr><tr><td>_runtime</td><td>▁▃▄▆█</td></tr><tr><td>_timestamp</td><td>▁▃▄▆█</td></tr><tr><td>_step</td><td>▁▃▅▆█</td></tr></table><br/>"
            ],
            "text/plain": [
              "<IPython.core.display.HTML object>"
            ]
          },
          "metadata": {
            "tags": []
          }
        },
        {
          "output_type": "display_data",
          "data": {
            "text/html": [
              "Synced 5 W&B file(s), 1 media file(s), 0 artifact file(s) and 1 other file(s)"
            ],
            "text/plain": [
              "<IPython.core.display.HTML object>"
            ]
          },
          "metadata": {
            "tags": []
          }
        },
        {
          "output_type": "display_data",
          "data": {
            "text/html": [
              "\n",
              "                    <br/>Synced <strong style=\"color:#cdcd00\">fearless-sweep-11</strong>: <a href=\"https://wandb.ai/pranayrajparisha/pretrained/runs/eq21d895\" target=\"_blank\">https://wandb.ai/pranayrajparisha/pretrained/runs/eq21d895</a><br/>\n",
              "                "
            ],
            "text/plain": [
              "<IPython.core.display.HTML object>"
            ]
          },
          "metadata": {
            "tags": []
          }
        },
        {
          "output_type": "stream",
          "text": [
            "\u001b[34m\u001b[1mwandb\u001b[0m: Agent Starting Run: 9p7g5zuh with config:\n",
            "\u001b[34m\u001b[1mwandb\u001b[0m: \tactivation: relu\n",
            "\u001b[34m\u001b[1mwandb\u001b[0m: \tactivation2: softmax\n",
            "\u001b[34m\u001b[1mwandb\u001b[0m: \tbase_model: ResNet50\n",
            "\u001b[34m\u001b[1mwandb\u001b[0m: \tdropout: 0.2\n",
            "\u001b[34m\u001b[1mwandb\u001b[0m: \tepoch: 10\n",
            "\u001b[34m\u001b[1mwandb\u001b[0m: \tinput_shape: [180, 180, 3]\n",
            "\u001b[34m\u001b[1mwandb\u001b[0m: \tl_rate: 0.0001\n",
            "\u001b[34m\u001b[1mwandb\u001b[0m: \tnum_dense_neuron: 512\n",
            "\u001b[34m\u001b[1mwandb\u001b[0m: \tpooling: max\n"
          ],
          "name": "stderr"
        },
        {
          "output_type": "display_data",
          "data": {
            "text/html": [
              "\n",
              "                Tracking run with wandb version 0.10.25<br/>\n",
              "                Syncing run <strong style=\"color:#cdcd00\">twilight-sweep-12</strong> to <a href=\"https://wandb.ai\" target=\"_blank\">Weights & Biases</a> <a href=\"https://docs.wandb.com/integrations/jupyter.html\" target=\"_blank\">(Documentation)</a>.<br/>\n",
              "                Project page: <a href=\"https://wandb.ai/pranayrajparisha/pretrained\" target=\"_blank\">https://wandb.ai/pranayrajparisha/pretrained</a><br/>\n",
              "                Sweep page: <a href=\"https://wandb.ai/pranayrajparisha/pretrained/sweeps/564a0kzf\" target=\"_blank\">https://wandb.ai/pranayrajparisha/pretrained/sweeps/564a0kzf</a><br/>\n",
              "Run page: <a href=\"https://wandb.ai/pranayrajparisha/pretrained/runs/9p7g5zuh\" target=\"_blank\">https://wandb.ai/pranayrajparisha/pretrained/runs/9p7g5zuh</a><br/>\n",
              "                Run data is saved locally in <code>/root/.keras/datasets/inaturalist_12K/valid/wandb/run-20210413_135321-9p7g5zuh</code><br/><br/>\n",
              "            "
            ],
            "text/plain": [
              "<IPython.core.display.HTML object>"
            ]
          },
          "metadata": {
            "tags": []
          }
        },
        {
          "output_type": "stream",
          "text": [
            "Epoch 1/10\n",
            "282/282 [==============================] - 130s 443ms/step - loss: 2.5005 - accuracy: 0.4543 - val_loss: 1.1743 - val_accuracy: 0.6090\n",
            "Epoch 2/10\n",
            "282/282 [==============================] - 132s 462ms/step - loss: 0.6272 - accuracy: 0.7912 - val_loss: 1.1963 - val_accuracy: 0.6220\n",
            "Epoch 3/10\n",
            "282/282 [==============================] - 133s 464ms/step - loss: 0.2463 - accuracy: 0.9253 - val_loss: 1.2509 - val_accuracy: 0.6420\n",
            "Epoch 4/10\n",
            "282/282 [==============================] - 134s 471ms/step - loss: 0.1129 - accuracy: 0.9696 - val_loss: 1.4135 - val_accuracy: 0.6400\n",
            "Epoch 5/10\n",
            "282/282 [==============================] - 132s 463ms/step - loss: 0.0620 - accuracy: 0.9843 - val_loss: 1.3991 - val_accuracy: 0.6400\n",
            "Epoch 6/10\n",
            "282/282 [==============================] - 132s 462ms/step - loss: 0.0334 - accuracy: 0.9942 - val_loss: 1.5997 - val_accuracy: 0.6340\n",
            "Epoch 7/10\n",
            "282/282 [==============================] - 130s 457ms/step - loss: 0.0234 - accuracy: 0.9951 - val_loss: 1.6394 - val_accuracy: 0.6580\n",
            "Epoch 8/10\n",
            "282/282 [==============================] - 132s 461ms/step - loss: 0.0252 - accuracy: 0.9944 - val_loss: 1.7635 - val_accuracy: 0.6470\n",
            "Epoch 9/10\n",
            "282/282 [==============================] - 128s 448ms/step - loss: 0.0185 - accuracy: 0.9958 - val_loss: 1.6414 - val_accuracy: 0.6510\n",
            "Epoch 10/10\n",
            "282/282 [==============================] - 129s 453ms/step - loss: 0.0177 - accuracy: 0.9954 - val_loss: 1.9316 - val_accuracy: 0.6330\n"
          ],
          "name": "stdout"
        },
        {
          "output_type": "display_data",
          "data": {
            "text/html": [
              "<br/>Waiting for W&B process to finish, PID 1133<br/>Program ended successfully."
            ],
            "text/plain": [
              "<IPython.core.display.HTML object>"
            ]
          },
          "metadata": {
            "tags": []
          }
        },
        {
          "output_type": "display_data",
          "data": {
            "application/vnd.jupyter.widget-view+json": {
              "model_id": "d965e789a89c459395efac9353e379f7",
              "version_minor": 0,
              "version_major": 2
            },
            "text/plain": [
              "VBox(children=(Label(value=' 2.57MB of 2.57MB uploaded (0.00MB deduped)\\r'), FloatProgress(value=1.0, max=1.0)…"
            ]
          },
          "metadata": {
            "tags": []
          }
        },
        {
          "output_type": "display_data",
          "data": {
            "text/html": [
              "Find user logs for this run at: <code>/root/.keras/datasets/inaturalist_12K/valid/wandb/run-20210413_135321-9p7g5zuh/logs/debug.log</code>"
            ],
            "text/plain": [
              "<IPython.core.display.HTML object>"
            ]
          },
          "metadata": {
            "tags": []
          }
        },
        {
          "output_type": "display_data",
          "data": {
            "text/html": [
              "Find internal logs for this run at: <code>/root/.keras/datasets/inaturalist_12K/valid/wandb/run-20210413_135321-9p7g5zuh/logs/debug-internal.log</code>"
            ],
            "text/plain": [
              "<IPython.core.display.HTML object>"
            ]
          },
          "metadata": {
            "tags": []
          }
        },
        {
          "output_type": "display_data",
          "data": {
            "text/html": [
              "<h3>Run summary:</h3><br/><style>\n",
              "    table.wandb td:nth-child(1) { padding: 0 10px; text-align: right }\n",
              "    </style><table class=\"wandb\">\n",
              "<tr><td>epoch</td><td>9</td></tr><tr><td>loss</td><td>0.02095</td></tr><tr><td>accuracy</td><td>0.99411</td></tr><tr><td>val_loss</td><td>1.93161</td></tr><tr><td>val_accuracy</td><td>0.633</td></tr><tr><td>_runtime</td><td>1322</td></tr><tr><td>_timestamp</td><td>1618323323</td></tr><tr><td>_step</td><td>9</td></tr><tr><td>best_val_loss</td><td>1.17426</td></tr><tr><td>best_epoch</td><td>0</td></tr></table>"
            ],
            "text/plain": [
              "<IPython.core.display.HTML object>"
            ]
          },
          "metadata": {
            "tags": []
          }
        },
        {
          "output_type": "display_data",
          "data": {
            "text/html": [
              "<h3>Run history:</h3><br/><style>\n",
              "    table.wandb td:nth-child(1) { padding: 0 10px; text-align: right }\n",
              "    </style><table class=\"wandb\">\n",
              "<tr><td>epoch</td><td>▁▂▃▃▄▅▆▆▇█</td></tr><tr><td>loss</td><td>█▄▂▁▁▁▁▁▁▁</td></tr><tr><td>accuracy</td><td>▁▅▇███████</td></tr><tr><td>val_loss</td><td>▁▁▂▃▃▅▅▆▅█</td></tr><tr><td>val_accuracy</td><td>▁▃▆▅▅▅█▆▇▄</td></tr><tr><td>_runtime</td><td>▁▂▃▃▄▅▆▆▇█</td></tr><tr><td>_timestamp</td><td>▁▂▃▃▄▅▆▆▇█</td></tr><tr><td>_step</td><td>▁▂▃▃▄▅▆▆▇█</td></tr></table><br/>"
            ],
            "text/plain": [
              "<IPython.core.display.HTML object>"
            ]
          },
          "metadata": {
            "tags": []
          }
        },
        {
          "output_type": "display_data",
          "data": {
            "text/html": [
              "Synced 5 W&B file(s), 1 media file(s), 0 artifact file(s) and 1 other file(s)"
            ],
            "text/plain": [
              "<IPython.core.display.HTML object>"
            ]
          },
          "metadata": {
            "tags": []
          }
        },
        {
          "output_type": "display_data",
          "data": {
            "text/html": [
              "\n",
              "                    <br/>Synced <strong style=\"color:#cdcd00\">twilight-sweep-12</strong>: <a href=\"https://wandb.ai/pranayrajparisha/pretrained/runs/9p7g5zuh\" target=\"_blank\">https://wandb.ai/pranayrajparisha/pretrained/runs/9p7g5zuh</a><br/>\n",
              "                "
            ],
            "text/plain": [
              "<IPython.core.display.HTML object>"
            ]
          },
          "metadata": {
            "tags": []
          }
        },
        {
          "output_type": "stream",
          "text": [
            "\u001b[34m\u001b[1mwandb\u001b[0m: Agent Starting Run: 7cjj9sge with config:\n",
            "\u001b[34m\u001b[1mwandb\u001b[0m: \tactivation: relu\n",
            "\u001b[34m\u001b[1mwandb\u001b[0m: \tactivation2: softmax\n",
            "\u001b[34m\u001b[1mwandb\u001b[0m: \tbase_model: ResNet50\n",
            "\u001b[34m\u001b[1mwandb\u001b[0m: \tdropout: 0.2\n",
            "\u001b[34m\u001b[1mwandb\u001b[0m: \tepoch: 10\n",
            "\u001b[34m\u001b[1mwandb\u001b[0m: \tinput_shape: [180, 180, 3]\n",
            "\u001b[34m\u001b[1mwandb\u001b[0m: \tl_rate: 0.0001\n",
            "\u001b[34m\u001b[1mwandb\u001b[0m: \tnum_dense_neuron: 1014\n",
            "\u001b[34m\u001b[1mwandb\u001b[0m: \tpooling: max\n"
          ],
          "name": "stderr"
        },
        {
          "output_type": "display_data",
          "data": {
            "text/html": [
              "\n",
              "                Tracking run with wandb version 0.10.25<br/>\n",
              "                Syncing run <strong style=\"color:#cdcd00\">golden-sweep-13</strong> to <a href=\"https://wandb.ai\" target=\"_blank\">Weights & Biases</a> <a href=\"https://docs.wandb.com/integrations/jupyter.html\" target=\"_blank\">(Documentation)</a>.<br/>\n",
              "                Project page: <a href=\"https://wandb.ai/pranayrajparisha/pretrained\" target=\"_blank\">https://wandb.ai/pranayrajparisha/pretrained</a><br/>\n",
              "                Sweep page: <a href=\"https://wandb.ai/pranayrajparisha/pretrained/sweeps/564a0kzf\" target=\"_blank\">https://wandb.ai/pranayrajparisha/pretrained/sweeps/564a0kzf</a><br/>\n",
              "Run page: <a href=\"https://wandb.ai/pranayrajparisha/pretrained/runs/7cjj9sge\" target=\"_blank\">https://wandb.ai/pranayrajparisha/pretrained/runs/7cjj9sge</a><br/>\n",
              "                Run data is saved locally in <code>/root/.keras/datasets/inaturalist_12K/valid/wandb/run-20210413_141550-7cjj9sge</code><br/><br/>\n",
              "            "
            ],
            "text/plain": [
              "<IPython.core.display.HTML object>"
            ]
          },
          "metadata": {
            "tags": []
          }
        },
        {
          "output_type": "stream",
          "text": [
            "Epoch 1/10\n",
            " 23/282 [=>............................] - ETA: 1:46 - loss: 8.8338 - accuracy: 0.1987"
          ],
          "name": "stdout"
        }
      ]
    },
    {
      "cell_type": "code",
      "metadata": {
        "id": "auF09TWZwvF0"
      },
      "source": [
        ""
      ],
      "execution_count": null,
      "outputs": []
    }
  ]
}