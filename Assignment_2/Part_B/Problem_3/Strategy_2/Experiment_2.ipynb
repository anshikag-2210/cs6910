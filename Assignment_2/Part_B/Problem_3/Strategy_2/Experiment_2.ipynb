{
  "nbformat": 4,
  "nbformat_minor": 0,
  "metadata": {
    "accelerator": "GPU",
    "colab": {
      "name": "Experiment_2.ipynb",
      "provenance": [],
      "collapsed_sections": []
    },
    "kernelspec": {
      "display_name": "Python 3",
      "name": "python3"
    },
    "language_info": {
      "name": "python"
    }
  },
  "cells": [
    {
      "cell_type": "code",
      "metadata": {
        "id": "_ULsEf7lrW9R"
      },
      "source": [
        "import tensorflow as tf\n",
        "from tensorflow import keras\n",
        "from tensorflow.keras import layers\n",
        "from tensorflow.keras.models import Sequential\n",
        "import matplotlib.pyplot as plt\n",
        "import numpy as np\n",
        "import os\n",
        "import PIL\n",
        "import cv2\n",
        "import pathlib\n",
        "import glob\n",
        "import shutil\n",
        "import os\n",
        "import random\n",
        "from tensorflow.keras.applications.inception_v3 import InceptionV3\n",
        "from tensorflow.keras.applications.xception import Xception\n",
        "from keras.applications.inception_resnet_v2 import InceptionResNetV2\n",
        "from keras.applications.resnet50 import ResNet50\n",
        "from keras.applications.mobilenet import MobileNet\n",
        "from tensorflow.keras.preprocessing import image\n",
        "from tensorflow.keras.models import Model\n",
        "from tensorflow.keras.layers import Dense, GlobalAveragePooling2D\n",
        "from tensorflow.keras.layers import Dense, GlobalMaxPooling2D\n",
        "from tensorflow.keras.optimizers import Adam\n",
        "from tensorflow.keras.callbacks import Callback"
      ],
      "execution_count": null,
      "outputs": []
    },
    {
      "cell_type": "code",
      "metadata": {
        "id": "6oFlezA3UNRK"
      },
      "source": [
        "from keras.applications import ResNet101, ResNet152, ResNet50V2, ResNet101V2, ResNet152V2"
      ],
      "execution_count": null,
      "outputs": []
    },
    {
      "cell_type": "code",
      "metadata": {
        "id": "z34swmp9ND1g"
      },
      "source": [
        "%%capture\n",
        "!pip install wandb -qqq\n",
        "import wandb"
      ],
      "execution_count": null,
      "outputs": []
    },
    {
      "cell_type": "code",
      "metadata": {
        "id": "vbuWkh9kNerj"
      },
      "source": [
        "from wandb.keras import WandbCallback"
      ],
      "execution_count": null,
      "outputs": []
    },
    {
      "cell_type": "code",
      "metadata": {
        "colab": {
          "base_uri": "https://localhost:8080/"
        },
        "id": "z1eLLYa4NDyH",
        "outputId": "877d810b-737d-49e9-9ecc-093185eff046"
      },
      "source": [
        "!wandb login --relogin"
      ],
      "execution_count": null,
      "outputs": [
        {
          "output_type": "stream",
          "text": [
            "\u001b[34m\u001b[1mwandb\u001b[0m: You can find your API key in your browser here: https://wandb.ai/authorize\n",
            "\u001b[34m\u001b[1mwandb\u001b[0m: Paste an API key from your profile and hit enter: \n",
            "\u001b[34m\u001b[1mwandb\u001b[0m: Appending key for api.wandb.ai to your netrc file: /root/.netrc\n"
          ],
          "name": "stdout"
        }
      ]
    },
    {
      "cell_type": "code",
      "metadata": {
        "colab": {
          "base_uri": "https://localhost:8080/"
        },
        "id": "KUFbS5KRYipF",
        "outputId": "3ce3de81-956c-459b-a399-4a76c3c0dc52"
      },
      "source": [
        "############################### caution : terminal commands ###########################################\n",
        "\n",
        "#-----------------------------empty the datasets forlder before downloading the dataset ------------------------\n",
        "\n",
        "%cd\n",
        "%cd .keras/datasets/\n",
        "!rm -r *"
      ],
      "execution_count": null,
      "outputs": [
        {
          "output_type": "stream",
          "text": [
            "/root\n",
            "[Errno 2] No such file or directory: '.keras/datasets/'\n",
            "/root\n",
            "rm: cannot remove '*': No such file or directory\n"
          ],
          "name": "stdout"
        }
      ]
    },
    {
      "cell_type": "code",
      "metadata": {
        "colab": {
          "base_uri": "https://localhost:8080/"
        },
        "id": "uWz2g5jsFWMQ",
        "outputId": "f0215b36-2407-4474-84df-de2d2cbc2add"
      },
      "source": [
        "############################### download data from given url ###################################3\n",
        "\n",
        "dataset_url = \"https://storage.googleapis.com/wandb_datasets/nature_12K.zip\"\n",
        "data_dir = tf.keras.utils.get_file('nature_12K', origin=dataset_url, extract=True)\n"
      ],
      "execution_count": null,
      "outputs": [
        {
          "output_type": "stream",
          "text": [
            "Downloading data from https://storage.googleapis.com/wandb_datasets/nature_12K.zip\n",
            "3816693760/3816687935 [==============================] - 70s 0us/step\n"
          ],
          "name": "stdout"
        }
      ]
    },
    {
      "cell_type": "code",
      "metadata": {
        "colab": {
          "base_uri": "https://localhost:8080/"
        },
        "id": "fGGDdWOvFYWK",
        "outputId": "3a547b6e-3ee7-49ec-88c3-10834a14837b"
      },
      "source": [
        "#------------------------------caution : terminal commands --------------------------------------\n",
        "\n",
        "%cd\n",
        "%cd .keras/datasets/inaturalist_12K\n",
        "%mv val test\n",
        "!mkdir valid"
      ],
      "execution_count": null,
      "outputs": [
        {
          "output_type": "stream",
          "text": [
            "/root\n",
            "/root/.keras/datasets/inaturalist_12K\n"
          ],
          "name": "stdout"
        }
      ]
    },
    {
      "cell_type": "code",
      "metadata": {
        "id": "earFl3774iv9"
      },
      "source": [
        "###################### split train data into validation set and training set ##########################\n",
        "\n",
        "data_folder = '/root/.keras/datasets/inaturalist_12K'\n",
        "os.chdir(data_folder)\n",
        "\n",
        "folder_names = ['Amphibia', 'Animalia', 'Arachnida', 'Aves', 'Fungi', 'Insecta', 'Mammalia', 'Mollusca', 'Plantae', 'Reptilia' ]\n",
        "for i in range(0,10):\n",
        "  source = data_folder + \"/train/\" +folder_names[i]  \n",
        "  orig_files = os.listdir(source)\n",
        "  chosen_indexes = random.sample(range(0, len(orig_files)-1), 100)\n",
        "\n",
        "  destination = data_folder + \"/valid/\"\n",
        "  os.chdir(destination)\n",
        "  os.system('mkdir'+' '+str(folder_names[i]))\n",
        "  destination = destination + folder_names[i]\n",
        "  for j in range(0,100):\n",
        "    shutil.move(   source +\"/\" + str(   orig_files[   chosen_indexes[j]  ]   )  , destination)\n"
      ],
      "execution_count": null,
      "outputs": []
    },
    {
      "cell_type": "code",
      "metadata": {
        "id": "W9fn2_KiRWKZ"
      },
      "source": [
        "######################## Correcting the directory location #################################\n",
        "\n",
        "#data_dir = '/root/.keras/datasets/nature_12K'\n",
        "\n",
        "data_dir = data_dir.split('/')\n",
        "data_dir.remove('nature_12K')\n",
        "data_dir.append('inaturalist_12K')\n",
        "data_dir = '/'.join(data_dir)\n"
      ],
      "execution_count": null,
      "outputs": []
    },
    {
      "cell_type": "code",
      "metadata": {
        "id": "pTM_1UNdRWHn"
      },
      "source": [
        "#----------------------------Taking the train data---------------------------------------------\n",
        "train_data_dir_path = data_dir + '/train'\n",
        "train_data_dir = pathlib.Path(train_data_dir_path)\n",
        "\n",
        "#----------------------------Taking the validation data---------------------------------------\n",
        "valid_data_dir_path = data_dir + '/valid'\n",
        "valid_data_dir = pathlib.Path(valid_data_dir_path)\n",
        "\n",
        "#-----------------------------Taking the test data----------------------------------------\n",
        "test_data_dir_path = data_dir + '/test'\n",
        "test_data_dir = pathlib.Path(test_data_dir_path)"
      ],
      "execution_count": null,
      "outputs": []
    },
    {
      "cell_type": "code",
      "metadata": {
        "id": "v9lMEAEfRbjO"
      },
      "source": [
        "#----------------------------Parameters for the images----------------------------------------\n",
        "batch_size = 32\n",
        "img_height = 180\n",
        "img_width = 180"
      ],
      "execution_count": null,
      "outputs": []
    },
    {
      "cell_type": "code",
      "metadata": {
        "colab": {
          "base_uri": "https://localhost:8080/"
        },
        "id": "RDPv0DjeRbf_",
        "outputId": "dee88bb7-30d2-409e-e9ee-98bfc99446eb"
      },
      "source": [
        "########################### converting the image data into dataset ##############################\n",
        "\n",
        "#--------------------------training dataset ---------------------------------------\n",
        "train_ds = tf.keras.preprocessing.image_dataset_from_directory(\n",
        "  train_data_dir,\n",
        "  seed=123,\n",
        "  image_size=(img_height, img_width),\n",
        "  batch_size=batch_size,\n",
        "  label_mode=\"categorical\"\n",
        "  )\n",
        "\n",
        "#-------------------------validation dataset ----------------------------------\n",
        "val_ds = tf.keras.preprocessing.image_dataset_from_directory(\n",
        "  valid_data_dir,\n",
        "  seed=123,\n",
        "  image_size=(img_height, img_width),\n",
        "  batch_size=batch_size,\n",
        "  label_mode=\"categorical\"\n",
        "  )"
      ],
      "execution_count": null,
      "outputs": [
        {
          "output_type": "stream",
          "text": [
            "Found 8999 files belonging to 10 classes.\n",
            "Found 1000 files belonging to 10 classes.\n"
          ],
          "name": "stdout"
        }
      ]
    },
    {
      "cell_type": "code",
      "metadata": {
        "id": "cpage8SfRbdu"
      },
      "source": [
        "######################################## function for using trained model ###############################\n",
        "\n",
        "\n",
        "def get_desired_model(b_model, input_shape=(180,180,3), num_dense_neurons=1014,activation=\"relu\",activation2=\"softmax\",dropout=None, pooling=\"max\",l_rate=0.0001): \n",
        "    \n",
        "    if b_model==\"Xception\":\n",
        "      base_model=Xception\n",
        "    elif b_model==\"InceptionV3\":\n",
        "      base_model=InceptionV3\n",
        "    elif b_model==\"ResNet50\":\n",
        "      base_model=ResNet50\n",
        "    elif b_model==\"MobileNet\":\n",
        "      base_model=MobileNet\n",
        "    elif b_model == \"ResNet101\":\n",
        "      base_model=ResNet101\n",
        "    elif b_model == \"ResNet152\":\n",
        "      base_model=ResNet152\n",
        "    elif b_model == \"ResNet50V2\":\n",
        "      base_model=ResNet50V2\n",
        "    elif b_model == \"ResNet101V2\":\n",
        "      base_model=ResNet101V2\n",
        "    elif b_model == \"ResNet152V2\":\n",
        "      base_model=ResNet152V2\n",
        "    \n",
        "    \n",
        "    \n",
        "\n",
        "    base = base_model(input_shape=input_shape,include_top=False,weights='imagenet') \n",
        "  \n",
        "  #------------------------------ perform pooling --------------------------------------\n",
        "    if pooling == \"avg\": \n",
        "        x = GlobalAveragePooling2D()(base.output) \n",
        "    elif pooling == \"max\": \n",
        "        x = GlobalMaxPooling2D()(base.output) \n",
        "\n",
        "  #---------------------------- Flatten the output  --------------------------------------\n",
        "\n",
        "    x = layers.Flatten()(base.output)\n",
        "\n",
        "\n",
        "  #------------------------------- dropout ---------------------------------------------\n",
        "    if dropout != 0: \n",
        "        x = layers.Dropout(dropout)(x) \n",
        "\n",
        "  #----------------------------- add fully connected layer ---------------------------------\n",
        "    x = Dense(num_dense_neurons, activation=activation)(x) \n",
        "\n",
        "  #------------------------------- and a logistic layer -------------------------------------\n",
        "    x = Dense(10, activation=activation2)(x) \n",
        "\n",
        "  #----------------------------------- get model ----------------------------------------------\n",
        "    model = Model(inputs=base.input, outputs=x) \n",
        "\n",
        "  #--------------------------------- setting the trainable layers -------------------------------\n",
        "    for layer in base.layers:\n",
        "        layer.trainable = False\n",
        "\n",
        " #------------------------------------compiling the model -----------------------------------------\n",
        "    model.compile(loss='categorical_crossentropy', metrics=[\"accuracy\"], optimizer=Adam(l_rate)) \n",
        "    \n",
        "  #-------------------------------------return model -------------------------------------------------\n",
        "    return model\n",
        "\n",
        "#============================== end of get_desired_model function ========================================"
      ],
      "execution_count": null,
      "outputs": []
    },
    {
      "cell_type": "code",
      "metadata": {
        "id": "KrniEm-WUUG3"
      },
      "source": [
        "#--------------------------- training -------------------------------------------\n",
        "def train(model, train_ds, val_ds, epochs=5):\n",
        "  history = model.fit(train_ds, validation_data = val_ds, epochs = epochs, callbacks=[WandbCallback()])\n",
        "  return history"
      ],
      "execution_count": null,
      "outputs": []
    },
    {
      "cell_type": "code",
      "metadata": {
        "colab": {
          "base_uri": "https://localhost:8080/"
        },
        "id": "8CzVNdBWrfhj",
        "outputId": "049316d1-37c4-4cae-d9e0-f4b613460bea"
      },
      "source": [
        "sweep_config={\n",
        "              \"method\":\"random\",\n",
        "              'metric' : {\n",
        "                            'name' : 'val_accuracy',\n",
        "                            'goal' : 'maximize',\n",
        "                         },\n",
        "          \"parameters\" : {\n",
        "                            \"base_model\":{\"values\":[\"ResNet50\",\"ResNet101\", \"ResNet152\", \"ResNet50V2\", \"ResNet101V2\", \"ResNet152V2\"]},\n",
        "                            \"activation\":{\"values\":['relu']},\n",
        "                            \"activation2\":{\"values\":['softmax']},\n",
        "                            \"input_shape\":{\"values\":[(180,180,3)]},\n",
        "                            \"dropout\":{\"values\":[0,0.2,0.1,0.15,0.25]},\n",
        "                            \"num_dense_neuron\":{\"values\":[256,512,1014,1280,2048]},\n",
        "                            \"l_rate\":{\"values\":[0.0001,0.00005,0.00001]},\n",
        "                            \"epoch\": {\"values\": [5,10,15,20]},\n",
        "                            \"pooling\":{\"values\":[\"max\",\"avg\", \"no pooling\"]}\n",
        "                         }\n",
        "              }\n",
        "sweep_id = wandb.sweep(sweep_config, project=\"pretrained\")"
      ],
      "execution_count": null,
      "outputs": [
        {
          "output_type": "stream",
          "text": [
            "Create sweep with ID: 8e5oido9\n",
            "Sweep URL: https://wandb.ai/pranayrajparisha/pretrained/sweeps/8e5oido9\n"
          ],
          "name": "stdout"
        }
      ]
    },
    {
      "cell_type": "code",
      "metadata": {
        "id": "yEa_qfngrffK"
      },
      "source": [
        "def run():\n",
        "\n",
        "  wb = wandb.init()\n",
        "  config = wb.config\n",
        "\n",
        "  # sweep parameters\n",
        "  base_model = config.base_model\n",
        "  activation = config.activation\n",
        "  activation2 = config.activation2\n",
        "  dropout = config.dropout\n",
        "  input_shape = config.input_shape\n",
        "  num_dense_neuron = config.num_dense_neuron\n",
        "  l_rate=config.l_rate\n",
        "  epoch=config.epoch\n",
        "  pooling = config.pooling\n",
        "\n",
        "  \n",
        "  model = get_desired_model(base_model, input_shape, num_dense_neuron, activation, activation2, dropout, pooling, l_rate)\n",
        "  history = train(model, train_ds, val_ds, epoch)\n",
        "\n",
        "  return"
      ],
      "execution_count": null,
      "outputs": []
    },
    {
      "cell_type": "code",
      "metadata": {
        "colab": {
          "background_save": true,
          "base_uri": "https://localhost:8080/",
          "height": 1000
        },
        "id": "DDG3B1t6rfdF",
        "outputId": "318f7e14-f1e6-4537-ee72-9d3338a35944"
      },
      "source": [
        "wandb.agent(sweep_id, run)"
      ],
      "execution_count": null,
      "outputs": [
        {
          "output_type": "error",
          "ename": "NameError",
          "evalue": "ignored",
          "traceback": [
            "\u001b[0;31m---------------------------------------------------------------------------\u001b[0m",
            "\u001b[0;31mNameError\u001b[0m                                 Traceback (most recent call last)",
            "\u001b[0;32m<ipython-input-1-cd33171b6af6>\u001b[0m in \u001b[0;36m<module>\u001b[0;34m()\u001b[0m\n\u001b[0;32m----> 1\u001b[0;31m \u001b[0mwandb\u001b[0m\u001b[0;34m.\u001b[0m\u001b[0magent\u001b[0m\u001b[0;34m(\u001b[0m\u001b[0msweep_id\u001b[0m\u001b[0;34m,\u001b[0m \u001b[0mrun\u001b[0m\u001b[0;34m)\u001b[0m\u001b[0;34m\u001b[0m\u001b[0;34m\u001b[0m\u001b[0m\n\u001b[0m",
            "\u001b[0;31mNameError\u001b[0m: name 'wandb' is not defined"
          ]
        }
      ]
    }
  ]
}