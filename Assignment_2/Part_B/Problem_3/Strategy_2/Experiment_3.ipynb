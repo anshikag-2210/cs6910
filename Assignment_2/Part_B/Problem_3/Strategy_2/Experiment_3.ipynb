{
  "nbformat": 4,
  "nbformat_minor": 0,
  "metadata": {
    "colab": {
      "name": "Experiment_3.ipynb",
      "provenance": [],
      "collapsed_sections": []
    },
    "kernelspec": {
      "name": "python3",
      "display_name": "Python 3"
    },
    "language_info": {
      "name": "python"
    },
    "widgets": {
      "application/vnd.jupyter.widget-state+json": {
        "fb6dd388d3be472b9be23e8140956c6d": {
          "model_module": "@jupyter-widgets/controls",
          "model_name": "VBoxModel",
          "state": {
            "_view_name": "VBoxView",
            "_dom_classes": [],
            "_model_name": "VBoxModel",
            "_view_module": "@jupyter-widgets/controls",
            "_model_module_version": "1.5.0",
            "_view_count": null,
            "_view_module_version": "1.5.0",
            "box_style": "",
            "layout": "IPY_MODEL_75e7ffa8603541949f84004b43136638",
            "_model_module": "@jupyter-widgets/controls",
            "children": [
              "IPY_MODEL_1dc4ff7affa949fdba7c6a7d540a1926",
              "IPY_MODEL_1245d94c05a34570be5f7919fd714843"
            ]
          }
        },
        "75e7ffa8603541949f84004b43136638": {
          "model_module": "@jupyter-widgets/base",
          "model_name": "LayoutModel",
          "state": {
            "_view_name": "LayoutView",
            "grid_template_rows": null,
            "right": null,
            "justify_content": null,
            "_view_module": "@jupyter-widgets/base",
            "overflow": null,
            "_model_module_version": "1.2.0",
            "_view_count": null,
            "flex_flow": null,
            "width": null,
            "min_width": null,
            "border": null,
            "align_items": null,
            "bottom": null,
            "_model_module": "@jupyter-widgets/base",
            "top": null,
            "grid_column": null,
            "overflow_y": null,
            "overflow_x": null,
            "grid_auto_flow": null,
            "grid_area": null,
            "grid_template_columns": null,
            "flex": null,
            "_model_name": "LayoutModel",
            "justify_items": null,
            "grid_row": null,
            "max_height": null,
            "align_content": null,
            "visibility": null,
            "align_self": null,
            "height": null,
            "min_height": null,
            "padding": null,
            "grid_auto_rows": null,
            "grid_gap": null,
            "max_width": null,
            "order": null,
            "_view_module_version": "1.2.0",
            "grid_template_areas": null,
            "object_position": null,
            "object_fit": null,
            "grid_auto_columns": null,
            "margin": null,
            "display": null,
            "left": null
          }
        },
        "1dc4ff7affa949fdba7c6a7d540a1926": {
          "model_module": "@jupyter-widgets/controls",
          "model_name": "LabelModel",
          "state": {
            "_view_name": "LabelView",
            "style": "IPY_MODEL_6b35e5a6fd8a485b859626c57573a7ba",
            "_dom_classes": [],
            "description": "",
            "_model_name": "LabelModel",
            "placeholder": "​",
            "_view_module": "@jupyter-widgets/controls",
            "_model_module_version": "1.5.0",
            "value": " 379.79MB of 379.79MB uploaded (0.00MB deduped)\r",
            "_view_count": null,
            "_view_module_version": "1.5.0",
            "description_tooltip": null,
            "_model_module": "@jupyter-widgets/controls",
            "layout": "IPY_MODEL_89870e4a297f46ea9b780a3793b66ec2"
          }
        },
        "1245d94c05a34570be5f7919fd714843": {
          "model_module": "@jupyter-widgets/controls",
          "model_name": "FloatProgressModel",
          "state": {
            "_view_name": "ProgressView",
            "style": "IPY_MODEL_9f298e7787014413ac9b4addcfc07340",
            "_dom_classes": [],
            "description": "",
            "_model_name": "FloatProgressModel",
            "bar_style": "",
            "max": 1,
            "_view_module": "@jupyter-widgets/controls",
            "_model_module_version": "1.5.0",
            "value": 1,
            "_view_count": null,
            "_view_module_version": "1.5.0",
            "orientation": "horizontal",
            "min": 0,
            "description_tooltip": null,
            "_model_module": "@jupyter-widgets/controls",
            "layout": "IPY_MODEL_ab791a142a1e49f3b8d6ae0296ec6401"
          }
        },
        "6b35e5a6fd8a485b859626c57573a7ba": {
          "model_module": "@jupyter-widgets/controls",
          "model_name": "DescriptionStyleModel",
          "state": {
            "_view_name": "StyleView",
            "_model_name": "DescriptionStyleModel",
            "description_width": "",
            "_view_module": "@jupyter-widgets/base",
            "_model_module_version": "1.5.0",
            "_view_count": null,
            "_view_module_version": "1.2.0",
            "_model_module": "@jupyter-widgets/controls"
          }
        },
        "89870e4a297f46ea9b780a3793b66ec2": {
          "model_module": "@jupyter-widgets/base",
          "model_name": "LayoutModel",
          "state": {
            "_view_name": "LayoutView",
            "grid_template_rows": null,
            "right": null,
            "justify_content": null,
            "_view_module": "@jupyter-widgets/base",
            "overflow": null,
            "_model_module_version": "1.2.0",
            "_view_count": null,
            "flex_flow": null,
            "width": null,
            "min_width": null,
            "border": null,
            "align_items": null,
            "bottom": null,
            "_model_module": "@jupyter-widgets/base",
            "top": null,
            "grid_column": null,
            "overflow_y": null,
            "overflow_x": null,
            "grid_auto_flow": null,
            "grid_area": null,
            "grid_template_columns": null,
            "flex": null,
            "_model_name": "LayoutModel",
            "justify_items": null,
            "grid_row": null,
            "max_height": null,
            "align_content": null,
            "visibility": null,
            "align_self": null,
            "height": null,
            "min_height": null,
            "padding": null,
            "grid_auto_rows": null,
            "grid_gap": null,
            "max_width": null,
            "order": null,
            "_view_module_version": "1.2.0",
            "grid_template_areas": null,
            "object_position": null,
            "object_fit": null,
            "grid_auto_columns": null,
            "margin": null,
            "display": null,
            "left": null
          }
        },
        "9f298e7787014413ac9b4addcfc07340": {
          "model_module": "@jupyter-widgets/controls",
          "model_name": "ProgressStyleModel",
          "state": {
            "_view_name": "StyleView",
            "_model_name": "ProgressStyleModel",
            "description_width": "",
            "_view_module": "@jupyter-widgets/base",
            "_model_module_version": "1.5.0",
            "_view_count": null,
            "_view_module_version": "1.2.0",
            "bar_color": null,
            "_model_module": "@jupyter-widgets/controls"
          }
        },
        "ab791a142a1e49f3b8d6ae0296ec6401": {
          "model_module": "@jupyter-widgets/base",
          "model_name": "LayoutModel",
          "state": {
            "_view_name": "LayoutView",
            "grid_template_rows": null,
            "right": null,
            "justify_content": null,
            "_view_module": "@jupyter-widgets/base",
            "overflow": null,
            "_model_module_version": "1.2.0",
            "_view_count": null,
            "flex_flow": null,
            "width": null,
            "min_width": null,
            "border": null,
            "align_items": null,
            "bottom": null,
            "_model_module": "@jupyter-widgets/base",
            "top": null,
            "grid_column": null,
            "overflow_y": null,
            "overflow_x": null,
            "grid_auto_flow": null,
            "grid_area": null,
            "grid_template_columns": null,
            "flex": null,
            "_model_name": "LayoutModel",
            "justify_items": null,
            "grid_row": null,
            "max_height": null,
            "align_content": null,
            "visibility": null,
            "align_self": null,
            "height": null,
            "min_height": null,
            "padding": null,
            "grid_auto_rows": null,
            "grid_gap": null,
            "max_width": null,
            "order": null,
            "_view_module_version": "1.2.0",
            "grid_template_areas": null,
            "object_position": null,
            "object_fit": null,
            "grid_auto_columns": null,
            "margin": null,
            "display": null,
            "left": null
          }
        },
        "5cf4e3d713844e108cc3618d83e6d24b": {
          "model_module": "@jupyter-widgets/controls",
          "model_name": "VBoxModel",
          "state": {
            "_view_name": "VBoxView",
            "_dom_classes": [],
            "_model_name": "VBoxModel",
            "_view_module": "@jupyter-widgets/controls",
            "_model_module_version": "1.5.0",
            "_view_count": null,
            "_view_module_version": "1.5.0",
            "box_style": "",
            "layout": "IPY_MODEL_29c4c93f0ab942dda64799be44924e59",
            "_model_module": "@jupyter-widgets/controls",
            "children": [
              "IPY_MODEL_46030bbeffb14c7d86e5ea7a4039af28",
              "IPY_MODEL_08fdb6d6fb49403e9ad3d682a9871f29"
            ]
          }
        },
        "29c4c93f0ab942dda64799be44924e59": {
          "model_module": "@jupyter-widgets/base",
          "model_name": "LayoutModel",
          "state": {
            "_view_name": "LayoutView",
            "grid_template_rows": null,
            "right": null,
            "justify_content": null,
            "_view_module": "@jupyter-widgets/base",
            "overflow": null,
            "_model_module_version": "1.2.0",
            "_view_count": null,
            "flex_flow": null,
            "width": null,
            "min_width": null,
            "border": null,
            "align_items": null,
            "bottom": null,
            "_model_module": "@jupyter-widgets/base",
            "top": null,
            "grid_column": null,
            "overflow_y": null,
            "overflow_x": null,
            "grid_auto_flow": null,
            "grid_area": null,
            "grid_template_columns": null,
            "flex": null,
            "_model_name": "LayoutModel",
            "justify_items": null,
            "grid_row": null,
            "max_height": null,
            "align_content": null,
            "visibility": null,
            "align_self": null,
            "height": null,
            "min_height": null,
            "padding": null,
            "grid_auto_rows": null,
            "grid_gap": null,
            "max_width": null,
            "order": null,
            "_view_module_version": "1.2.0",
            "grid_template_areas": null,
            "object_position": null,
            "object_fit": null,
            "grid_auto_columns": null,
            "margin": null,
            "display": null,
            "left": null
          }
        },
        "46030bbeffb14c7d86e5ea7a4039af28": {
          "model_module": "@jupyter-widgets/controls",
          "model_name": "LabelModel",
          "state": {
            "_view_name": "LabelView",
            "style": "IPY_MODEL_7acc1a97728843cfab0629239851b9ef",
            "_dom_classes": [],
            "description": "",
            "_model_name": "LabelModel",
            "placeholder": "​",
            "_view_module": "@jupyter-widgets/controls",
            "_model_module_version": "1.5.0",
            "value": " 1170.68MB of 1170.68MB uploaded (0.00MB deduped)\r",
            "_view_count": null,
            "_view_module_version": "1.5.0",
            "description_tooltip": null,
            "_model_module": "@jupyter-widgets/controls",
            "layout": "IPY_MODEL_31aaff857bfc46d09e72057cd558865c"
          }
        },
        "08fdb6d6fb49403e9ad3d682a9871f29": {
          "model_module": "@jupyter-widgets/controls",
          "model_name": "FloatProgressModel",
          "state": {
            "_view_name": "ProgressView",
            "style": "IPY_MODEL_410586e02d244574b944a4bcd73d83d9",
            "_dom_classes": [],
            "description": "",
            "_model_name": "FloatProgressModel",
            "bar_style": "",
            "max": 1,
            "_view_module": "@jupyter-widgets/controls",
            "_model_module_version": "1.5.0",
            "value": 1,
            "_view_count": null,
            "_view_module_version": "1.5.0",
            "orientation": "horizontal",
            "min": 0,
            "description_tooltip": null,
            "_model_module": "@jupyter-widgets/controls",
            "layout": "IPY_MODEL_05b22002b9564179b3dee17070d76c0c"
          }
        },
        "7acc1a97728843cfab0629239851b9ef": {
          "model_module": "@jupyter-widgets/controls",
          "model_name": "DescriptionStyleModel",
          "state": {
            "_view_name": "StyleView",
            "_model_name": "DescriptionStyleModel",
            "description_width": "",
            "_view_module": "@jupyter-widgets/base",
            "_model_module_version": "1.5.0",
            "_view_count": null,
            "_view_module_version": "1.2.0",
            "_model_module": "@jupyter-widgets/controls"
          }
        },
        "31aaff857bfc46d09e72057cd558865c": {
          "model_module": "@jupyter-widgets/base",
          "model_name": "LayoutModel",
          "state": {
            "_view_name": "LayoutView",
            "grid_template_rows": null,
            "right": null,
            "justify_content": null,
            "_view_module": "@jupyter-widgets/base",
            "overflow": null,
            "_model_module_version": "1.2.0",
            "_view_count": null,
            "flex_flow": null,
            "width": null,
            "min_width": null,
            "border": null,
            "align_items": null,
            "bottom": null,
            "_model_module": "@jupyter-widgets/base",
            "top": null,
            "grid_column": null,
            "overflow_y": null,
            "overflow_x": null,
            "grid_auto_flow": null,
            "grid_area": null,
            "grid_template_columns": null,
            "flex": null,
            "_model_name": "LayoutModel",
            "justify_items": null,
            "grid_row": null,
            "max_height": null,
            "align_content": null,
            "visibility": null,
            "align_self": null,
            "height": null,
            "min_height": null,
            "padding": null,
            "grid_auto_rows": null,
            "grid_gap": null,
            "max_width": null,
            "order": null,
            "_view_module_version": "1.2.0",
            "grid_template_areas": null,
            "object_position": null,
            "object_fit": null,
            "grid_auto_columns": null,
            "margin": null,
            "display": null,
            "left": null
          }
        },
        "410586e02d244574b944a4bcd73d83d9": {
          "model_module": "@jupyter-widgets/controls",
          "model_name": "ProgressStyleModel",
          "state": {
            "_view_name": "StyleView",
            "_model_name": "ProgressStyleModel",
            "description_width": "",
            "_view_module": "@jupyter-widgets/base",
            "_model_module_version": "1.5.0",
            "_view_count": null,
            "_view_module_version": "1.2.0",
            "bar_color": null,
            "_model_module": "@jupyter-widgets/controls"
          }
        },
        "05b22002b9564179b3dee17070d76c0c": {
          "model_module": "@jupyter-widgets/base",
          "model_name": "LayoutModel",
          "state": {
            "_view_name": "LayoutView",
            "grid_template_rows": null,
            "right": null,
            "justify_content": null,
            "_view_module": "@jupyter-widgets/base",
            "overflow": null,
            "_model_module_version": "1.2.0",
            "_view_count": null,
            "flex_flow": null,
            "width": null,
            "min_width": null,
            "border": null,
            "align_items": null,
            "bottom": null,
            "_model_module": "@jupyter-widgets/base",
            "top": null,
            "grid_column": null,
            "overflow_y": null,
            "overflow_x": null,
            "grid_auto_flow": null,
            "grid_area": null,
            "grid_template_columns": null,
            "flex": null,
            "_model_name": "LayoutModel",
            "justify_items": null,
            "grid_row": null,
            "max_height": null,
            "align_content": null,
            "visibility": null,
            "align_self": null,
            "height": null,
            "min_height": null,
            "padding": null,
            "grid_auto_rows": null,
            "grid_gap": null,
            "max_width": null,
            "order": null,
            "_view_module_version": "1.2.0",
            "grid_template_areas": null,
            "object_position": null,
            "object_fit": null,
            "grid_auto_columns": null,
            "margin": null,
            "display": null,
            "left": null
          }
        },
        "f97c08aecc1c4e968282cef06984ef8f": {
          "model_module": "@jupyter-widgets/controls",
          "model_name": "VBoxModel",
          "state": {
            "_view_name": "VBoxView",
            "_dom_classes": [],
            "_model_name": "VBoxModel",
            "_view_module": "@jupyter-widgets/controls",
            "_model_module_version": "1.5.0",
            "_view_count": null,
            "_view_module_version": "1.5.0",
            "box_style": "",
            "layout": "IPY_MODEL_f02150ae307745fb9e5b42f6e54e9336",
            "_model_module": "@jupyter-widgets/controls",
            "children": [
              "IPY_MODEL_1d10c7202d174f1192cf7f4ed50fd01d",
              "IPY_MODEL_fe2e6d6cc74b4b808741fdba248d3ed7"
            ]
          }
        },
        "f02150ae307745fb9e5b42f6e54e9336": {
          "model_module": "@jupyter-widgets/base",
          "model_name": "LayoutModel",
          "state": {
            "_view_name": "LayoutView",
            "grid_template_rows": null,
            "right": null,
            "justify_content": null,
            "_view_module": "@jupyter-widgets/base",
            "overflow": null,
            "_model_module_version": "1.2.0",
            "_view_count": null,
            "flex_flow": null,
            "width": null,
            "min_width": null,
            "border": null,
            "align_items": null,
            "bottom": null,
            "_model_module": "@jupyter-widgets/base",
            "top": null,
            "grid_column": null,
            "overflow_y": null,
            "overflow_x": null,
            "grid_auto_flow": null,
            "grid_area": null,
            "grid_template_columns": null,
            "flex": null,
            "_model_name": "LayoutModel",
            "justify_items": null,
            "grid_row": null,
            "max_height": null,
            "align_content": null,
            "visibility": null,
            "align_self": null,
            "height": null,
            "min_height": null,
            "padding": null,
            "grid_auto_rows": null,
            "grid_gap": null,
            "max_width": null,
            "order": null,
            "_view_module_version": "1.2.0",
            "grid_template_areas": null,
            "object_position": null,
            "object_fit": null,
            "grid_auto_columns": null,
            "margin": null,
            "display": null,
            "left": null
          }
        },
        "1d10c7202d174f1192cf7f4ed50fd01d": {
          "model_module": "@jupyter-widgets/controls",
          "model_name": "LabelModel",
          "state": {
            "_view_name": "LabelView",
            "style": "IPY_MODEL_1714569ba7e24332bad28ab62e5c6731",
            "_dom_classes": [],
            "description": "",
            "_model_name": "LabelModel",
            "placeholder": "​",
            "_view_module": "@jupyter-widgets/controls",
            "_model_module_version": "1.5.0",
            "value": " 1818.78MB of 1818.78MB uploaded (0.00MB deduped)\r",
            "_view_count": null,
            "_view_module_version": "1.5.0",
            "description_tooltip": null,
            "_model_module": "@jupyter-widgets/controls",
            "layout": "IPY_MODEL_2a742fdf24d6401a845afe16c9e0cbd9"
          }
        },
        "fe2e6d6cc74b4b808741fdba248d3ed7": {
          "model_module": "@jupyter-widgets/controls",
          "model_name": "FloatProgressModel",
          "state": {
            "_view_name": "ProgressView",
            "style": "IPY_MODEL_01554a488e6c48cba8e3c317264ddaf5",
            "_dom_classes": [],
            "description": "",
            "_model_name": "FloatProgressModel",
            "bar_style": "",
            "max": 1,
            "_view_module": "@jupyter-widgets/controls",
            "_model_module_version": "1.5.0",
            "value": 1,
            "_view_count": null,
            "_view_module_version": "1.5.0",
            "orientation": "horizontal",
            "min": 0,
            "description_tooltip": null,
            "_model_module": "@jupyter-widgets/controls",
            "layout": "IPY_MODEL_f36dd96e24504f49821445114d62d360"
          }
        },
        "1714569ba7e24332bad28ab62e5c6731": {
          "model_module": "@jupyter-widgets/controls",
          "model_name": "DescriptionStyleModel",
          "state": {
            "_view_name": "StyleView",
            "_model_name": "DescriptionStyleModel",
            "description_width": "",
            "_view_module": "@jupyter-widgets/base",
            "_model_module_version": "1.5.0",
            "_view_count": null,
            "_view_module_version": "1.2.0",
            "_model_module": "@jupyter-widgets/controls"
          }
        },
        "2a742fdf24d6401a845afe16c9e0cbd9": {
          "model_module": "@jupyter-widgets/base",
          "model_name": "LayoutModel",
          "state": {
            "_view_name": "LayoutView",
            "grid_template_rows": null,
            "right": null,
            "justify_content": null,
            "_view_module": "@jupyter-widgets/base",
            "overflow": null,
            "_model_module_version": "1.2.0",
            "_view_count": null,
            "flex_flow": null,
            "width": null,
            "min_width": null,
            "border": null,
            "align_items": null,
            "bottom": null,
            "_model_module": "@jupyter-widgets/base",
            "top": null,
            "grid_column": null,
            "overflow_y": null,
            "overflow_x": null,
            "grid_auto_flow": null,
            "grid_area": null,
            "grid_template_columns": null,
            "flex": null,
            "_model_name": "LayoutModel",
            "justify_items": null,
            "grid_row": null,
            "max_height": null,
            "align_content": null,
            "visibility": null,
            "align_self": null,
            "height": null,
            "min_height": null,
            "padding": null,
            "grid_auto_rows": null,
            "grid_gap": null,
            "max_width": null,
            "order": null,
            "_view_module_version": "1.2.0",
            "grid_template_areas": null,
            "object_position": null,
            "object_fit": null,
            "grid_auto_columns": null,
            "margin": null,
            "display": null,
            "left": null
          }
        },
        "01554a488e6c48cba8e3c317264ddaf5": {
          "model_module": "@jupyter-widgets/controls",
          "model_name": "ProgressStyleModel",
          "state": {
            "_view_name": "StyleView",
            "_model_name": "ProgressStyleModel",
            "description_width": "",
            "_view_module": "@jupyter-widgets/base",
            "_model_module_version": "1.5.0",
            "_view_count": null,
            "_view_module_version": "1.2.0",
            "bar_color": null,
            "_model_module": "@jupyter-widgets/controls"
          }
        },
        "f36dd96e24504f49821445114d62d360": {
          "model_module": "@jupyter-widgets/base",
          "model_name": "LayoutModel",
          "state": {
            "_view_name": "LayoutView",
            "grid_template_rows": null,
            "right": null,
            "justify_content": null,
            "_view_module": "@jupyter-widgets/base",
            "overflow": null,
            "_model_module_version": "1.2.0",
            "_view_count": null,
            "flex_flow": null,
            "width": null,
            "min_width": null,
            "border": null,
            "align_items": null,
            "bottom": null,
            "_model_module": "@jupyter-widgets/base",
            "top": null,
            "grid_column": null,
            "overflow_y": null,
            "overflow_x": null,
            "grid_auto_flow": null,
            "grid_area": null,
            "grid_template_columns": null,
            "flex": null,
            "_model_name": "LayoutModel",
            "justify_items": null,
            "grid_row": null,
            "max_height": null,
            "align_content": null,
            "visibility": null,
            "align_self": null,
            "height": null,
            "min_height": null,
            "padding": null,
            "grid_auto_rows": null,
            "grid_gap": null,
            "max_width": null,
            "order": null,
            "_view_module_version": "1.2.0",
            "grid_template_areas": null,
            "object_position": null,
            "object_fit": null,
            "grid_auto_columns": null,
            "margin": null,
            "display": null,
            "left": null
          }
        },
        "7e03d5894265470b818429a47a3f8e19": {
          "model_module": "@jupyter-widgets/controls",
          "model_name": "VBoxModel",
          "state": {
            "_view_name": "VBoxView",
            "_dom_classes": [],
            "_model_name": "VBoxModel",
            "_view_module": "@jupyter-widgets/controls",
            "_model_module_version": "1.5.0",
            "_view_count": null,
            "_view_module_version": "1.5.0",
            "box_style": "",
            "layout": "IPY_MODEL_3c74031f195a4fb3be726f92381db8a6",
            "_model_module": "@jupyter-widgets/controls",
            "children": [
              "IPY_MODEL_1fee57506d6b4b259ebec2479b5ec76e",
              "IPY_MODEL_84d0dfbdee61415e92044a6e9699c197"
            ]
          }
        },
        "3c74031f195a4fb3be726f92381db8a6": {
          "model_module": "@jupyter-widgets/base",
          "model_name": "LayoutModel",
          "state": {
            "_view_name": "LayoutView",
            "grid_template_rows": null,
            "right": null,
            "justify_content": null,
            "_view_module": "@jupyter-widgets/base",
            "overflow": null,
            "_model_module_version": "1.2.0",
            "_view_count": null,
            "flex_flow": null,
            "width": null,
            "min_width": null,
            "border": null,
            "align_items": null,
            "bottom": null,
            "_model_module": "@jupyter-widgets/base",
            "top": null,
            "grid_column": null,
            "overflow_y": null,
            "overflow_x": null,
            "grid_auto_flow": null,
            "grid_area": null,
            "grid_template_columns": null,
            "flex": null,
            "_model_name": "LayoutModel",
            "justify_items": null,
            "grid_row": null,
            "max_height": null,
            "align_content": null,
            "visibility": null,
            "align_self": null,
            "height": null,
            "min_height": null,
            "padding": null,
            "grid_auto_rows": null,
            "grid_gap": null,
            "max_width": null,
            "order": null,
            "_view_module_version": "1.2.0",
            "grid_template_areas": null,
            "object_position": null,
            "object_fit": null,
            "grid_auto_columns": null,
            "margin": null,
            "display": null,
            "left": null
          }
        },
        "1fee57506d6b4b259ebec2479b5ec76e": {
          "model_module": "@jupyter-widgets/controls",
          "model_name": "LabelModel",
          "state": {
            "_view_name": "LabelView",
            "style": "IPY_MODEL_26f476b93259412499274564c100db52",
            "_dom_classes": [],
            "description": "",
            "_model_name": "LabelModel",
            "placeholder": "​",
            "_view_module": "@jupyter-widgets/controls",
            "_model_module_version": "1.5.0",
            "value": " 946.21MB of 946.21MB uploaded (0.00MB deduped)\r",
            "_view_count": null,
            "_view_module_version": "1.5.0",
            "description_tooltip": null,
            "_model_module": "@jupyter-widgets/controls",
            "layout": "IPY_MODEL_f9f58ba394664225be6cf7005aa4c937"
          }
        },
        "84d0dfbdee61415e92044a6e9699c197": {
          "model_module": "@jupyter-widgets/controls",
          "model_name": "FloatProgressModel",
          "state": {
            "_view_name": "ProgressView",
            "style": "IPY_MODEL_cb657809c09a466a9977b033d663f992",
            "_dom_classes": [],
            "description": "",
            "_model_name": "FloatProgressModel",
            "bar_style": "",
            "max": 1,
            "_view_module": "@jupyter-widgets/controls",
            "_model_module_version": "1.5.0",
            "value": 1,
            "_view_count": null,
            "_view_module_version": "1.5.0",
            "orientation": "horizontal",
            "min": 0,
            "description_tooltip": null,
            "_model_module": "@jupyter-widgets/controls",
            "layout": "IPY_MODEL_811e3a44fff149d2bafe5d635c69bb18"
          }
        },
        "26f476b93259412499274564c100db52": {
          "model_module": "@jupyter-widgets/controls",
          "model_name": "DescriptionStyleModel",
          "state": {
            "_view_name": "StyleView",
            "_model_name": "DescriptionStyleModel",
            "description_width": "",
            "_view_module": "@jupyter-widgets/base",
            "_model_module_version": "1.5.0",
            "_view_count": null,
            "_view_module_version": "1.2.0",
            "_model_module": "@jupyter-widgets/controls"
          }
        },
        "f9f58ba394664225be6cf7005aa4c937": {
          "model_module": "@jupyter-widgets/base",
          "model_name": "LayoutModel",
          "state": {
            "_view_name": "LayoutView",
            "grid_template_rows": null,
            "right": null,
            "justify_content": null,
            "_view_module": "@jupyter-widgets/base",
            "overflow": null,
            "_model_module_version": "1.2.0",
            "_view_count": null,
            "flex_flow": null,
            "width": null,
            "min_width": null,
            "border": null,
            "align_items": null,
            "bottom": null,
            "_model_module": "@jupyter-widgets/base",
            "top": null,
            "grid_column": null,
            "overflow_y": null,
            "overflow_x": null,
            "grid_auto_flow": null,
            "grid_area": null,
            "grid_template_columns": null,
            "flex": null,
            "_model_name": "LayoutModel",
            "justify_items": null,
            "grid_row": null,
            "max_height": null,
            "align_content": null,
            "visibility": null,
            "align_self": null,
            "height": null,
            "min_height": null,
            "padding": null,
            "grid_auto_rows": null,
            "grid_gap": null,
            "max_width": null,
            "order": null,
            "_view_module_version": "1.2.0",
            "grid_template_areas": null,
            "object_position": null,
            "object_fit": null,
            "grid_auto_columns": null,
            "margin": null,
            "display": null,
            "left": null
          }
        },
        "cb657809c09a466a9977b033d663f992": {
          "model_module": "@jupyter-widgets/controls",
          "model_name": "ProgressStyleModel",
          "state": {
            "_view_name": "StyleView",
            "_model_name": "ProgressStyleModel",
            "description_width": "",
            "_view_module": "@jupyter-widgets/base",
            "_model_module_version": "1.5.0",
            "_view_count": null,
            "_view_module_version": "1.2.0",
            "bar_color": null,
            "_model_module": "@jupyter-widgets/controls"
          }
        },
        "811e3a44fff149d2bafe5d635c69bb18": {
          "model_module": "@jupyter-widgets/base",
          "model_name": "LayoutModel",
          "state": {
            "_view_name": "LayoutView",
            "grid_template_rows": null,
            "right": null,
            "justify_content": null,
            "_view_module": "@jupyter-widgets/base",
            "overflow": null,
            "_model_module_version": "1.2.0",
            "_view_count": null,
            "flex_flow": null,
            "width": null,
            "min_width": null,
            "border": null,
            "align_items": null,
            "bottom": null,
            "_model_module": "@jupyter-widgets/base",
            "top": null,
            "grid_column": null,
            "overflow_y": null,
            "overflow_x": null,
            "grid_auto_flow": null,
            "grid_area": null,
            "grid_template_columns": null,
            "flex": null,
            "_model_name": "LayoutModel",
            "justify_items": null,
            "grid_row": null,
            "max_height": null,
            "align_content": null,
            "visibility": null,
            "align_self": null,
            "height": null,
            "min_height": null,
            "padding": null,
            "grid_auto_rows": null,
            "grid_gap": null,
            "max_width": null,
            "order": null,
            "_view_module_version": "1.2.0",
            "grid_template_areas": null,
            "object_position": null,
            "object_fit": null,
            "grid_auto_columns": null,
            "margin": null,
            "display": null,
            "left": null
          }
        },
        "0706b136dadd4effb4c1d5a3d5a62c6f": {
          "model_module": "@jupyter-widgets/controls",
          "model_name": "VBoxModel",
          "state": {
            "_view_name": "VBoxView",
            "_dom_classes": [],
            "_model_name": "VBoxModel",
            "_view_module": "@jupyter-widgets/controls",
            "_model_module_version": "1.5.0",
            "_view_count": null,
            "_view_module_version": "1.5.0",
            "box_style": "",
            "layout": "IPY_MODEL_ca852534ae6b4cdab6f2ad1c1a7e3ec3",
            "_model_module": "@jupyter-widgets/controls",
            "children": [
              "IPY_MODEL_4f7fd9e0474c4999a3451fc4e69163b1",
              "IPY_MODEL_035757228f7f4d52885cfef1bd735024"
            ]
          }
        },
        "ca852534ae6b4cdab6f2ad1c1a7e3ec3": {
          "model_module": "@jupyter-widgets/base",
          "model_name": "LayoutModel",
          "state": {
            "_view_name": "LayoutView",
            "grid_template_rows": null,
            "right": null,
            "justify_content": null,
            "_view_module": "@jupyter-widgets/base",
            "overflow": null,
            "_model_module_version": "1.2.0",
            "_view_count": null,
            "flex_flow": null,
            "width": null,
            "min_width": null,
            "border": null,
            "align_items": null,
            "bottom": null,
            "_model_module": "@jupyter-widgets/base",
            "top": null,
            "grid_column": null,
            "overflow_y": null,
            "overflow_x": null,
            "grid_auto_flow": null,
            "grid_area": null,
            "grid_template_columns": null,
            "flex": null,
            "_model_name": "LayoutModel",
            "justify_items": null,
            "grid_row": null,
            "max_height": null,
            "align_content": null,
            "visibility": null,
            "align_self": null,
            "height": null,
            "min_height": null,
            "padding": null,
            "grid_auto_rows": null,
            "grid_gap": null,
            "max_width": null,
            "order": null,
            "_view_module_version": "1.2.0",
            "grid_template_areas": null,
            "object_position": null,
            "object_fit": null,
            "grid_auto_columns": null,
            "margin": null,
            "display": null,
            "left": null
          }
        },
        "4f7fd9e0474c4999a3451fc4e69163b1": {
          "model_module": "@jupyter-widgets/controls",
          "model_name": "LabelModel",
          "state": {
            "_view_name": "LabelView",
            "style": "IPY_MODEL_b9aba2430e8c472485451cefe55816fc",
            "_dom_classes": [],
            "description": "",
            "_model_name": "LabelModel",
            "placeholder": "​",
            "_view_module": "@jupyter-widgets/controls",
            "_model_module_version": "1.5.0",
            "value": " 1019.45MB of 1019.45MB uploaded (0.00MB deduped)\r",
            "_view_count": null,
            "_view_module_version": "1.5.0",
            "description_tooltip": null,
            "_model_module": "@jupyter-widgets/controls",
            "layout": "IPY_MODEL_1ff26e793153439b84f701cc5eeb3650"
          }
        },
        "035757228f7f4d52885cfef1bd735024": {
          "model_module": "@jupyter-widgets/controls",
          "model_name": "FloatProgressModel",
          "state": {
            "_view_name": "ProgressView",
            "style": "IPY_MODEL_30fdf07fc9ce4e3bb3a5f377ecd62527",
            "_dom_classes": [],
            "description": "",
            "_model_name": "FloatProgressModel",
            "bar_style": "",
            "max": 1,
            "_view_module": "@jupyter-widgets/controls",
            "_model_module_version": "1.5.0",
            "value": 1,
            "_view_count": null,
            "_view_module_version": "1.5.0",
            "orientation": "horizontal",
            "min": 0,
            "description_tooltip": null,
            "_model_module": "@jupyter-widgets/controls",
            "layout": "IPY_MODEL_04b87dc2bb01496e9246985d89b26e4f"
          }
        },
        "b9aba2430e8c472485451cefe55816fc": {
          "model_module": "@jupyter-widgets/controls",
          "model_name": "DescriptionStyleModel",
          "state": {
            "_view_name": "StyleView",
            "_model_name": "DescriptionStyleModel",
            "description_width": "",
            "_view_module": "@jupyter-widgets/base",
            "_model_module_version": "1.5.0",
            "_view_count": null,
            "_view_module_version": "1.2.0",
            "_model_module": "@jupyter-widgets/controls"
          }
        },
        "1ff26e793153439b84f701cc5eeb3650": {
          "model_module": "@jupyter-widgets/base",
          "model_name": "LayoutModel",
          "state": {
            "_view_name": "LayoutView",
            "grid_template_rows": null,
            "right": null,
            "justify_content": null,
            "_view_module": "@jupyter-widgets/base",
            "overflow": null,
            "_model_module_version": "1.2.0",
            "_view_count": null,
            "flex_flow": null,
            "width": null,
            "min_width": null,
            "border": null,
            "align_items": null,
            "bottom": null,
            "_model_module": "@jupyter-widgets/base",
            "top": null,
            "grid_column": null,
            "overflow_y": null,
            "overflow_x": null,
            "grid_auto_flow": null,
            "grid_area": null,
            "grid_template_columns": null,
            "flex": null,
            "_model_name": "LayoutModel",
            "justify_items": null,
            "grid_row": null,
            "max_height": null,
            "align_content": null,
            "visibility": null,
            "align_self": null,
            "height": null,
            "min_height": null,
            "padding": null,
            "grid_auto_rows": null,
            "grid_gap": null,
            "max_width": null,
            "order": null,
            "_view_module_version": "1.2.0",
            "grid_template_areas": null,
            "object_position": null,
            "object_fit": null,
            "grid_auto_columns": null,
            "margin": null,
            "display": null,
            "left": null
          }
        },
        "30fdf07fc9ce4e3bb3a5f377ecd62527": {
          "model_module": "@jupyter-widgets/controls",
          "model_name": "ProgressStyleModel",
          "state": {
            "_view_name": "StyleView",
            "_model_name": "ProgressStyleModel",
            "description_width": "",
            "_view_module": "@jupyter-widgets/base",
            "_model_module_version": "1.5.0",
            "_view_count": null,
            "_view_module_version": "1.2.0",
            "bar_color": null,
            "_model_module": "@jupyter-widgets/controls"
          }
        },
        "04b87dc2bb01496e9246985d89b26e4f": {
          "model_module": "@jupyter-widgets/base",
          "model_name": "LayoutModel",
          "state": {
            "_view_name": "LayoutView",
            "grid_template_rows": null,
            "right": null,
            "justify_content": null,
            "_view_module": "@jupyter-widgets/base",
            "overflow": null,
            "_model_module_version": "1.2.0",
            "_view_count": null,
            "flex_flow": null,
            "width": null,
            "min_width": null,
            "border": null,
            "align_items": null,
            "bottom": null,
            "_model_module": "@jupyter-widgets/base",
            "top": null,
            "grid_column": null,
            "overflow_y": null,
            "overflow_x": null,
            "grid_auto_flow": null,
            "grid_area": null,
            "grid_template_columns": null,
            "flex": null,
            "_model_name": "LayoutModel",
            "justify_items": null,
            "grid_row": null,
            "max_height": null,
            "align_content": null,
            "visibility": null,
            "align_self": null,
            "height": null,
            "min_height": null,
            "padding": null,
            "grid_auto_rows": null,
            "grid_gap": null,
            "max_width": null,
            "order": null,
            "_view_module_version": "1.2.0",
            "grid_template_areas": null,
            "object_position": null,
            "object_fit": null,
            "grid_auto_columns": null,
            "margin": null,
            "display": null,
            "left": null
          }
        },
        "6600073f270d468883f74f4f03422d47": {
          "model_module": "@jupyter-widgets/controls",
          "model_name": "VBoxModel",
          "state": {
            "_view_name": "VBoxView",
            "_dom_classes": [],
            "_model_name": "VBoxModel",
            "_view_module": "@jupyter-widgets/controls",
            "_model_module_version": "1.5.0",
            "_view_count": null,
            "_view_module_version": "1.5.0",
            "box_style": "",
            "layout": "IPY_MODEL_97301dde0ef84c1188aad34c64c19317",
            "_model_module": "@jupyter-widgets/controls",
            "children": [
              "IPY_MODEL_cb937d2207bc487d890e6222e2233a1a",
              "IPY_MODEL_c049f382fbac4571b1b09a41d1882d74"
            ]
          }
        },
        "97301dde0ef84c1188aad34c64c19317": {
          "model_module": "@jupyter-widgets/base",
          "model_name": "LayoutModel",
          "state": {
            "_view_name": "LayoutView",
            "grid_template_rows": null,
            "right": null,
            "justify_content": null,
            "_view_module": "@jupyter-widgets/base",
            "overflow": null,
            "_model_module_version": "1.2.0",
            "_view_count": null,
            "flex_flow": null,
            "width": null,
            "min_width": null,
            "border": null,
            "align_items": null,
            "bottom": null,
            "_model_module": "@jupyter-widgets/base",
            "top": null,
            "grid_column": null,
            "overflow_y": null,
            "overflow_x": null,
            "grid_auto_flow": null,
            "grid_area": null,
            "grid_template_columns": null,
            "flex": null,
            "_model_name": "LayoutModel",
            "justify_items": null,
            "grid_row": null,
            "max_height": null,
            "align_content": null,
            "visibility": null,
            "align_self": null,
            "height": null,
            "min_height": null,
            "padding": null,
            "grid_auto_rows": null,
            "grid_gap": null,
            "max_width": null,
            "order": null,
            "_view_module_version": "1.2.0",
            "grid_template_areas": null,
            "object_position": null,
            "object_fit": null,
            "grid_auto_columns": null,
            "margin": null,
            "display": null,
            "left": null
          }
        },
        "cb937d2207bc487d890e6222e2233a1a": {
          "model_module": "@jupyter-widgets/controls",
          "model_name": "LabelModel",
          "state": {
            "_view_name": "LabelView",
            "style": "IPY_MODEL_810ed998be35467c8ea44945cf74b70b",
            "_dom_classes": [],
            "description": "",
            "_model_name": "LabelModel",
            "placeholder": "​",
            "_view_module": "@jupyter-widgets/controls",
            "_model_module_version": "1.5.0",
            "value": " 1243.92MB of 1243.92MB uploaded (0.00MB deduped)\r",
            "_view_count": null,
            "_view_module_version": "1.5.0",
            "description_tooltip": null,
            "_model_module": "@jupyter-widgets/controls",
            "layout": "IPY_MODEL_561a2e88a0714286801756c9f6da8a0e"
          }
        },
        "c049f382fbac4571b1b09a41d1882d74": {
          "model_module": "@jupyter-widgets/controls",
          "model_name": "FloatProgressModel",
          "state": {
            "_view_name": "ProgressView",
            "style": "IPY_MODEL_46cbeb6e087540c28bfba101f59c3555",
            "_dom_classes": [],
            "description": "",
            "_model_name": "FloatProgressModel",
            "bar_style": "",
            "max": 1,
            "_view_module": "@jupyter-widgets/controls",
            "_model_module_version": "1.5.0",
            "value": 1,
            "_view_count": null,
            "_view_module_version": "1.5.0",
            "orientation": "horizontal",
            "min": 0,
            "description_tooltip": null,
            "_model_module": "@jupyter-widgets/controls",
            "layout": "IPY_MODEL_e86d03d0ac8045d6a26f18fe8f75415d"
          }
        },
        "810ed998be35467c8ea44945cf74b70b": {
          "model_module": "@jupyter-widgets/controls",
          "model_name": "DescriptionStyleModel",
          "state": {
            "_view_name": "StyleView",
            "_model_name": "DescriptionStyleModel",
            "description_width": "",
            "_view_module": "@jupyter-widgets/base",
            "_model_module_version": "1.5.0",
            "_view_count": null,
            "_view_module_version": "1.2.0",
            "_model_module": "@jupyter-widgets/controls"
          }
        },
        "561a2e88a0714286801756c9f6da8a0e": {
          "model_module": "@jupyter-widgets/base",
          "model_name": "LayoutModel",
          "state": {
            "_view_name": "LayoutView",
            "grid_template_rows": null,
            "right": null,
            "justify_content": null,
            "_view_module": "@jupyter-widgets/base",
            "overflow": null,
            "_model_module_version": "1.2.0",
            "_view_count": null,
            "flex_flow": null,
            "width": null,
            "min_width": null,
            "border": null,
            "align_items": null,
            "bottom": null,
            "_model_module": "@jupyter-widgets/base",
            "top": null,
            "grid_column": null,
            "overflow_y": null,
            "overflow_x": null,
            "grid_auto_flow": null,
            "grid_area": null,
            "grid_template_columns": null,
            "flex": null,
            "_model_name": "LayoutModel",
            "justify_items": null,
            "grid_row": null,
            "max_height": null,
            "align_content": null,
            "visibility": null,
            "align_self": null,
            "height": null,
            "min_height": null,
            "padding": null,
            "grid_auto_rows": null,
            "grid_gap": null,
            "max_width": null,
            "order": null,
            "_view_module_version": "1.2.0",
            "grid_template_areas": null,
            "object_position": null,
            "object_fit": null,
            "grid_auto_columns": null,
            "margin": null,
            "display": null,
            "left": null
          }
        },
        "46cbeb6e087540c28bfba101f59c3555": {
          "model_module": "@jupyter-widgets/controls",
          "model_name": "ProgressStyleModel",
          "state": {
            "_view_name": "StyleView",
            "_model_name": "ProgressStyleModel",
            "description_width": "",
            "_view_module": "@jupyter-widgets/base",
            "_model_module_version": "1.5.0",
            "_view_count": null,
            "_view_module_version": "1.2.0",
            "bar_color": null,
            "_model_module": "@jupyter-widgets/controls"
          }
        },
        "e86d03d0ac8045d6a26f18fe8f75415d": {
          "model_module": "@jupyter-widgets/base",
          "model_name": "LayoutModel",
          "state": {
            "_view_name": "LayoutView",
            "grid_template_rows": null,
            "right": null,
            "justify_content": null,
            "_view_module": "@jupyter-widgets/base",
            "overflow": null,
            "_model_module_version": "1.2.0",
            "_view_count": null,
            "flex_flow": null,
            "width": null,
            "min_width": null,
            "border": null,
            "align_items": null,
            "bottom": null,
            "_model_module": "@jupyter-widgets/base",
            "top": null,
            "grid_column": null,
            "overflow_y": null,
            "overflow_x": null,
            "grid_auto_flow": null,
            "grid_area": null,
            "grid_template_columns": null,
            "flex": null,
            "_model_name": "LayoutModel",
            "justify_items": null,
            "grid_row": null,
            "max_height": null,
            "align_content": null,
            "visibility": null,
            "align_self": null,
            "height": null,
            "min_height": null,
            "padding": null,
            "grid_auto_rows": null,
            "grid_gap": null,
            "max_width": null,
            "order": null,
            "_view_module_version": "1.2.0",
            "grid_template_areas": null,
            "object_position": null,
            "object_fit": null,
            "grid_auto_columns": null,
            "margin": null,
            "display": null,
            "left": null
          }
        },
        "befdd1ee7d0d4896b8306ab1bf339a0d": {
          "model_module": "@jupyter-widgets/controls",
          "model_name": "VBoxModel",
          "state": {
            "_view_name": "VBoxView",
            "_dom_classes": [],
            "_model_name": "VBoxModel",
            "_view_module": "@jupyter-widgets/controls",
            "_model_module_version": "1.5.0",
            "_view_count": null,
            "_view_module_version": "1.5.0",
            "box_style": "",
            "layout": "IPY_MODEL_1932db8f36d947198ea9396256386664",
            "_model_module": "@jupyter-widgets/controls",
            "children": [
              "IPY_MODEL_958ecd50b56c412ca8e7db18cdb019c5",
              "IPY_MODEL_a2ac28bf8235496f9173e91cad3f8f6e"
            ]
          }
        },
        "1932db8f36d947198ea9396256386664": {
          "model_module": "@jupyter-widgets/base",
          "model_name": "LayoutModel",
          "state": {
            "_view_name": "LayoutView",
            "grid_template_rows": null,
            "right": null,
            "justify_content": null,
            "_view_module": "@jupyter-widgets/base",
            "overflow": null,
            "_model_module_version": "1.2.0",
            "_view_count": null,
            "flex_flow": null,
            "width": null,
            "min_width": null,
            "border": null,
            "align_items": null,
            "bottom": null,
            "_model_module": "@jupyter-widgets/base",
            "top": null,
            "grid_column": null,
            "overflow_y": null,
            "overflow_x": null,
            "grid_auto_flow": null,
            "grid_area": null,
            "grid_template_columns": null,
            "flex": null,
            "_model_name": "LayoutModel",
            "justify_items": null,
            "grid_row": null,
            "max_height": null,
            "align_content": null,
            "visibility": null,
            "align_self": null,
            "height": null,
            "min_height": null,
            "padding": null,
            "grid_auto_rows": null,
            "grid_gap": null,
            "max_width": null,
            "order": null,
            "_view_module_version": "1.2.0",
            "grid_template_areas": null,
            "object_position": null,
            "object_fit": null,
            "grid_auto_columns": null,
            "margin": null,
            "display": null,
            "left": null
          }
        },
        "958ecd50b56c412ca8e7db18cdb019c5": {
          "model_module": "@jupyter-widgets/controls",
          "model_name": "LabelModel",
          "state": {
            "_view_name": "LabelView",
            "style": "IPY_MODEL_841d6dfe409b4f34b66acfd9859be294",
            "_dom_classes": [],
            "description": "",
            "_model_name": "LabelModel",
            "placeholder": "​",
            "_view_module": "@jupyter-widgets/controls",
            "_model_module_version": "1.5.0",
            "value": "",
            "_view_count": null,
            "_view_module_version": "1.5.0",
            "description_tooltip": null,
            "_model_module": "@jupyter-widgets/controls",
            "layout": "IPY_MODEL_343e1d36b5f94944b32fde67d375312f"
          }
        },
        "a2ac28bf8235496f9173e91cad3f8f6e": {
          "model_module": "@jupyter-widgets/controls",
          "model_name": "FloatProgressModel",
          "state": {
            "_view_name": "ProgressView",
            "style": "IPY_MODEL_22225facb91a4dfb955991909da7130e",
            "_dom_classes": [],
            "description": "",
            "_model_name": "FloatProgressModel",
            "bar_style": "",
            "max": 1,
            "_view_module": "@jupyter-widgets/controls",
            "_model_module_version": "1.5.0",
            "value": 0,
            "_view_count": null,
            "_view_module_version": "1.5.0",
            "orientation": "horizontal",
            "min": 0,
            "description_tooltip": null,
            "_model_module": "@jupyter-widgets/controls",
            "layout": "IPY_MODEL_554371e015c444629e5eed84670f3c15"
          }
        },
        "841d6dfe409b4f34b66acfd9859be294": {
          "model_module": "@jupyter-widgets/controls",
          "model_name": "DescriptionStyleModel",
          "state": {
            "_view_name": "StyleView",
            "_model_name": "DescriptionStyleModel",
            "description_width": "",
            "_view_module": "@jupyter-widgets/base",
            "_model_module_version": "1.5.0",
            "_view_count": null,
            "_view_module_version": "1.2.0",
            "_model_module": "@jupyter-widgets/controls"
          }
        },
        "343e1d36b5f94944b32fde67d375312f": {
          "model_module": "@jupyter-widgets/base",
          "model_name": "LayoutModel",
          "state": {
            "_view_name": "LayoutView",
            "grid_template_rows": null,
            "right": null,
            "justify_content": null,
            "_view_module": "@jupyter-widgets/base",
            "overflow": null,
            "_model_module_version": "1.2.0",
            "_view_count": null,
            "flex_flow": null,
            "width": null,
            "min_width": null,
            "border": null,
            "align_items": null,
            "bottom": null,
            "_model_module": "@jupyter-widgets/base",
            "top": null,
            "grid_column": null,
            "overflow_y": null,
            "overflow_x": null,
            "grid_auto_flow": null,
            "grid_area": null,
            "grid_template_columns": null,
            "flex": null,
            "_model_name": "LayoutModel",
            "justify_items": null,
            "grid_row": null,
            "max_height": null,
            "align_content": null,
            "visibility": null,
            "align_self": null,
            "height": null,
            "min_height": null,
            "padding": null,
            "grid_auto_rows": null,
            "grid_gap": null,
            "max_width": null,
            "order": null,
            "_view_module_version": "1.2.0",
            "grid_template_areas": null,
            "object_position": null,
            "object_fit": null,
            "grid_auto_columns": null,
            "margin": null,
            "display": null,
            "left": null
          }
        },
        "22225facb91a4dfb955991909da7130e": {
          "model_module": "@jupyter-widgets/controls",
          "model_name": "ProgressStyleModel",
          "state": {
            "_view_name": "StyleView",
            "_model_name": "ProgressStyleModel",
            "description_width": "",
            "_view_module": "@jupyter-widgets/base",
            "_model_module_version": "1.5.0",
            "_view_count": null,
            "_view_module_version": "1.2.0",
            "bar_color": null,
            "_model_module": "@jupyter-widgets/controls"
          }
        },
        "554371e015c444629e5eed84670f3c15": {
          "model_module": "@jupyter-widgets/base",
          "model_name": "LayoutModel",
          "state": {
            "_view_name": "LayoutView",
            "grid_template_rows": null,
            "right": null,
            "justify_content": null,
            "_view_module": "@jupyter-widgets/base",
            "overflow": null,
            "_model_module_version": "1.2.0",
            "_view_count": null,
            "flex_flow": null,
            "width": null,
            "min_width": null,
            "border": null,
            "align_items": null,
            "bottom": null,
            "_model_module": "@jupyter-widgets/base",
            "top": null,
            "grid_column": null,
            "overflow_y": null,
            "overflow_x": null,
            "grid_auto_flow": null,
            "grid_area": null,
            "grid_template_columns": null,
            "flex": null,
            "_model_name": "LayoutModel",
            "justify_items": null,
            "grid_row": null,
            "max_height": null,
            "align_content": null,
            "visibility": null,
            "align_self": null,
            "height": null,
            "min_height": null,
            "padding": null,
            "grid_auto_rows": null,
            "grid_gap": null,
            "max_width": null,
            "order": null,
            "_view_module_version": "1.2.0",
            "grid_template_areas": null,
            "object_position": null,
            "object_fit": null,
            "grid_auto_columns": null,
            "margin": null,
            "display": null,
            "left": null
          }
        },
        "4fab8f0e0cda4db082fb1187cfc92d54": {
          "model_module": "@jupyter-widgets/controls",
          "model_name": "VBoxModel",
          "state": {
            "_view_name": "VBoxView",
            "_dom_classes": [],
            "_model_name": "VBoxModel",
            "_view_module": "@jupyter-widgets/controls",
            "_model_module_version": "1.5.0",
            "_view_count": null,
            "_view_module_version": "1.5.0",
            "box_style": "",
            "layout": "IPY_MODEL_2336ef5da3f74ca996551c04f7dda70d",
            "_model_module": "@jupyter-widgets/controls",
            "children": [
              "IPY_MODEL_523f68e433f04e03a6d267cdd63cd4b6",
              "IPY_MODEL_96baae5d406a472abc0d8e98d5cb9da6"
            ]
          }
        },
        "2336ef5da3f74ca996551c04f7dda70d": {
          "model_module": "@jupyter-widgets/base",
          "model_name": "LayoutModel",
          "state": {
            "_view_name": "LayoutView",
            "grid_template_rows": null,
            "right": null,
            "justify_content": null,
            "_view_module": "@jupyter-widgets/base",
            "overflow": null,
            "_model_module_version": "1.2.0",
            "_view_count": null,
            "flex_flow": null,
            "width": null,
            "min_width": null,
            "border": null,
            "align_items": null,
            "bottom": null,
            "_model_module": "@jupyter-widgets/base",
            "top": null,
            "grid_column": null,
            "overflow_y": null,
            "overflow_x": null,
            "grid_auto_flow": null,
            "grid_area": null,
            "grid_template_columns": null,
            "flex": null,
            "_model_name": "LayoutModel",
            "justify_items": null,
            "grid_row": null,
            "max_height": null,
            "align_content": null,
            "visibility": null,
            "align_self": null,
            "height": null,
            "min_height": null,
            "padding": null,
            "grid_auto_rows": null,
            "grid_gap": null,
            "max_width": null,
            "order": null,
            "_view_module_version": "1.2.0",
            "grid_template_areas": null,
            "object_position": null,
            "object_fit": null,
            "grid_auto_columns": null,
            "margin": null,
            "display": null,
            "left": null
          }
        },
        "523f68e433f04e03a6d267cdd63cd4b6": {
          "model_module": "@jupyter-widgets/controls",
          "model_name": "LabelModel",
          "state": {
            "_view_name": "LabelView",
            "style": "IPY_MODEL_49ffaac7a130404e9b11ee1f7daa5382",
            "_dom_classes": [],
            "description": "",
            "_model_name": "LabelModel",
            "placeholder": "​",
            "_view_module": "@jupyter-widgets/controls",
            "_model_module_version": "1.5.0",
            "value": " 595.82MB of 595.82MB uploaded (0.00MB deduped)\r",
            "_view_count": null,
            "_view_module_version": "1.5.0",
            "description_tooltip": null,
            "_model_module": "@jupyter-widgets/controls",
            "layout": "IPY_MODEL_a45ee1a64c7e419f96257f70402c9c9c"
          }
        },
        "96baae5d406a472abc0d8e98d5cb9da6": {
          "model_module": "@jupyter-widgets/controls",
          "model_name": "FloatProgressModel",
          "state": {
            "_view_name": "ProgressView",
            "style": "IPY_MODEL_23536ee01e15484ab0bdc9dfe9bb6b5a",
            "_dom_classes": [],
            "description": "",
            "_model_name": "FloatProgressModel",
            "bar_style": "",
            "max": 1,
            "_view_module": "@jupyter-widgets/controls",
            "_model_module_version": "1.5.0",
            "value": 1,
            "_view_count": null,
            "_view_module_version": "1.5.0",
            "orientation": "horizontal",
            "min": 0,
            "description_tooltip": null,
            "_model_module": "@jupyter-widgets/controls",
            "layout": "IPY_MODEL_d598e85cb25e49d2b9458092c14963c5"
          }
        },
        "49ffaac7a130404e9b11ee1f7daa5382": {
          "model_module": "@jupyter-widgets/controls",
          "model_name": "DescriptionStyleModel",
          "state": {
            "_view_name": "StyleView",
            "_model_name": "DescriptionStyleModel",
            "description_width": "",
            "_view_module": "@jupyter-widgets/base",
            "_model_module_version": "1.5.0",
            "_view_count": null,
            "_view_module_version": "1.2.0",
            "_model_module": "@jupyter-widgets/controls"
          }
        },
        "a45ee1a64c7e419f96257f70402c9c9c": {
          "model_module": "@jupyter-widgets/base",
          "model_name": "LayoutModel",
          "state": {
            "_view_name": "LayoutView",
            "grid_template_rows": null,
            "right": null,
            "justify_content": null,
            "_view_module": "@jupyter-widgets/base",
            "overflow": null,
            "_model_module_version": "1.2.0",
            "_view_count": null,
            "flex_flow": null,
            "width": null,
            "min_width": null,
            "border": null,
            "align_items": null,
            "bottom": null,
            "_model_module": "@jupyter-widgets/base",
            "top": null,
            "grid_column": null,
            "overflow_y": null,
            "overflow_x": null,
            "grid_auto_flow": null,
            "grid_area": null,
            "grid_template_columns": null,
            "flex": null,
            "_model_name": "LayoutModel",
            "justify_items": null,
            "grid_row": null,
            "max_height": null,
            "align_content": null,
            "visibility": null,
            "align_self": null,
            "height": null,
            "min_height": null,
            "padding": null,
            "grid_auto_rows": null,
            "grid_gap": null,
            "max_width": null,
            "order": null,
            "_view_module_version": "1.2.0",
            "grid_template_areas": null,
            "object_position": null,
            "object_fit": null,
            "grid_auto_columns": null,
            "margin": null,
            "display": null,
            "left": null
          }
        },
        "23536ee01e15484ab0bdc9dfe9bb6b5a": {
          "model_module": "@jupyter-widgets/controls",
          "model_name": "ProgressStyleModel",
          "state": {
            "_view_name": "StyleView",
            "_model_name": "ProgressStyleModel",
            "description_width": "",
            "_view_module": "@jupyter-widgets/base",
            "_model_module_version": "1.5.0",
            "_view_count": null,
            "_view_module_version": "1.2.0",
            "bar_color": null,
            "_model_module": "@jupyter-widgets/controls"
          }
        },
        "d598e85cb25e49d2b9458092c14963c5": {
          "model_module": "@jupyter-widgets/base",
          "model_name": "LayoutModel",
          "state": {
            "_view_name": "LayoutView",
            "grid_template_rows": null,
            "right": null,
            "justify_content": null,
            "_view_module": "@jupyter-widgets/base",
            "overflow": null,
            "_model_module_version": "1.2.0",
            "_view_count": null,
            "flex_flow": null,
            "width": null,
            "min_width": null,
            "border": null,
            "align_items": null,
            "bottom": null,
            "_model_module": "@jupyter-widgets/base",
            "top": null,
            "grid_column": null,
            "overflow_y": null,
            "overflow_x": null,
            "grid_auto_flow": null,
            "grid_area": null,
            "grid_template_columns": null,
            "flex": null,
            "_model_name": "LayoutModel",
            "justify_items": null,
            "grid_row": null,
            "max_height": null,
            "align_content": null,
            "visibility": null,
            "align_self": null,
            "height": null,
            "min_height": null,
            "padding": null,
            "grid_auto_rows": null,
            "grid_gap": null,
            "max_width": null,
            "order": null,
            "_view_module_version": "1.2.0",
            "grid_template_areas": null,
            "object_position": null,
            "object_fit": null,
            "grid_auto_columns": null,
            "margin": null,
            "display": null,
            "left": null
          }
        },
        "bbeea73a3fd0444f8822ec0b982def6c": {
          "model_module": "@jupyter-widgets/controls",
          "model_name": "VBoxModel",
          "state": {
            "_view_name": "VBoxView",
            "_dom_classes": [],
            "_model_name": "VBoxModel",
            "_view_module": "@jupyter-widgets/controls",
            "_model_module_version": "1.5.0",
            "_view_count": null,
            "_view_module_version": "1.5.0",
            "box_style": "",
            "layout": "IPY_MODEL_69b8df5050194fcf93d8bd2e7dc2290c",
            "_model_module": "@jupyter-widgets/controls",
            "children": [
              "IPY_MODEL_b2292e6ee7874ed69d3fc0d2a79d8ed3",
              "IPY_MODEL_d9a89345398d40978cdcb17691402005"
            ]
          }
        },
        "69b8df5050194fcf93d8bd2e7dc2290c": {
          "model_module": "@jupyter-widgets/base",
          "model_name": "LayoutModel",
          "state": {
            "_view_name": "LayoutView",
            "grid_template_rows": null,
            "right": null,
            "justify_content": null,
            "_view_module": "@jupyter-widgets/base",
            "overflow": null,
            "_model_module_version": "1.2.0",
            "_view_count": null,
            "flex_flow": null,
            "width": null,
            "min_width": null,
            "border": null,
            "align_items": null,
            "bottom": null,
            "_model_module": "@jupyter-widgets/base",
            "top": null,
            "grid_column": null,
            "overflow_y": null,
            "overflow_x": null,
            "grid_auto_flow": null,
            "grid_area": null,
            "grid_template_columns": null,
            "flex": null,
            "_model_name": "LayoutModel",
            "justify_items": null,
            "grid_row": null,
            "max_height": null,
            "align_content": null,
            "visibility": null,
            "align_self": null,
            "height": null,
            "min_height": null,
            "padding": null,
            "grid_auto_rows": null,
            "grid_gap": null,
            "max_width": null,
            "order": null,
            "_view_module_version": "1.2.0",
            "grid_template_areas": null,
            "object_position": null,
            "object_fit": null,
            "grid_auto_columns": null,
            "margin": null,
            "display": null,
            "left": null
          }
        },
        "b2292e6ee7874ed69d3fc0d2a79d8ed3": {
          "model_module": "@jupyter-widgets/controls",
          "model_name": "LabelModel",
          "state": {
            "_view_name": "LabelView",
            "style": "IPY_MODEL_29dd6f61f0694f7e9abb2b47f2996437",
            "_dom_classes": [],
            "description": "",
            "_model_name": "LabelModel",
            "placeholder": "​",
            "_view_module": "@jupyter-widgets/controls",
            "_model_module_version": "1.5.0",
            "value": " 946.21MB of 946.21MB uploaded (0.00MB deduped)\r",
            "_view_count": null,
            "_view_module_version": "1.5.0",
            "description_tooltip": null,
            "_model_module": "@jupyter-widgets/controls",
            "layout": "IPY_MODEL_c09a26c618a6494f8e180941317e2590"
          }
        },
        "d9a89345398d40978cdcb17691402005": {
          "model_module": "@jupyter-widgets/controls",
          "model_name": "FloatProgressModel",
          "state": {
            "_view_name": "ProgressView",
            "style": "IPY_MODEL_01dbad77f518494194a59e8ee0cfd47a",
            "_dom_classes": [],
            "description": "",
            "_model_name": "FloatProgressModel",
            "bar_style": "",
            "max": 1,
            "_view_module": "@jupyter-widgets/controls",
            "_model_module_version": "1.5.0",
            "value": 1,
            "_view_count": null,
            "_view_module_version": "1.5.0",
            "orientation": "horizontal",
            "min": 0,
            "description_tooltip": null,
            "_model_module": "@jupyter-widgets/controls",
            "layout": "IPY_MODEL_6ce03266e11447c880fd0ca9a167be21"
          }
        },
        "29dd6f61f0694f7e9abb2b47f2996437": {
          "model_module": "@jupyter-widgets/controls",
          "model_name": "DescriptionStyleModel",
          "state": {
            "_view_name": "StyleView",
            "_model_name": "DescriptionStyleModel",
            "description_width": "",
            "_view_module": "@jupyter-widgets/base",
            "_model_module_version": "1.5.0",
            "_view_count": null,
            "_view_module_version": "1.2.0",
            "_model_module": "@jupyter-widgets/controls"
          }
        },
        "c09a26c618a6494f8e180941317e2590": {
          "model_module": "@jupyter-widgets/base",
          "model_name": "LayoutModel",
          "state": {
            "_view_name": "LayoutView",
            "grid_template_rows": null,
            "right": null,
            "justify_content": null,
            "_view_module": "@jupyter-widgets/base",
            "overflow": null,
            "_model_module_version": "1.2.0",
            "_view_count": null,
            "flex_flow": null,
            "width": null,
            "min_width": null,
            "border": null,
            "align_items": null,
            "bottom": null,
            "_model_module": "@jupyter-widgets/base",
            "top": null,
            "grid_column": null,
            "overflow_y": null,
            "overflow_x": null,
            "grid_auto_flow": null,
            "grid_area": null,
            "grid_template_columns": null,
            "flex": null,
            "_model_name": "LayoutModel",
            "justify_items": null,
            "grid_row": null,
            "max_height": null,
            "align_content": null,
            "visibility": null,
            "align_self": null,
            "height": null,
            "min_height": null,
            "padding": null,
            "grid_auto_rows": null,
            "grid_gap": null,
            "max_width": null,
            "order": null,
            "_view_module_version": "1.2.0",
            "grid_template_areas": null,
            "object_position": null,
            "object_fit": null,
            "grid_auto_columns": null,
            "margin": null,
            "display": null,
            "left": null
          }
        },
        "01dbad77f518494194a59e8ee0cfd47a": {
          "model_module": "@jupyter-widgets/controls",
          "model_name": "ProgressStyleModel",
          "state": {
            "_view_name": "StyleView",
            "_model_name": "ProgressStyleModel",
            "description_width": "",
            "_view_module": "@jupyter-widgets/base",
            "_model_module_version": "1.5.0",
            "_view_count": null,
            "_view_module_version": "1.2.0",
            "bar_color": null,
            "_model_module": "@jupyter-widgets/controls"
          }
        },
        "6ce03266e11447c880fd0ca9a167be21": {
          "model_module": "@jupyter-widgets/base",
          "model_name": "LayoutModel",
          "state": {
            "_view_name": "LayoutView",
            "grid_template_rows": null,
            "right": null,
            "justify_content": null,
            "_view_module": "@jupyter-widgets/base",
            "overflow": null,
            "_model_module_version": "1.2.0",
            "_view_count": null,
            "flex_flow": null,
            "width": null,
            "min_width": null,
            "border": null,
            "align_items": null,
            "bottom": null,
            "_model_module": "@jupyter-widgets/base",
            "top": null,
            "grid_column": null,
            "overflow_y": null,
            "overflow_x": null,
            "grid_auto_flow": null,
            "grid_area": null,
            "grid_template_columns": null,
            "flex": null,
            "_model_name": "LayoutModel",
            "justify_items": null,
            "grid_row": null,
            "max_height": null,
            "align_content": null,
            "visibility": null,
            "align_self": null,
            "height": null,
            "min_height": null,
            "padding": null,
            "grid_auto_rows": null,
            "grid_gap": null,
            "max_width": null,
            "order": null,
            "_view_module_version": "1.2.0",
            "grid_template_areas": null,
            "object_position": null,
            "object_fit": null,
            "grid_auto_columns": null,
            "margin": null,
            "display": null,
            "left": null
          }
        }
      }
    }
  },
  "cells": [
    {
      "cell_type": "code",
      "metadata": {
        "id": "oxQcMassrVnC"
      },
      "source": [
        "import tensorflow as tf\n",
        "from tensorflow import keras\n",
        "from tensorflow.keras import layers\n",
        "from tensorflow.keras.models import Sequential\n",
        "import matplotlib.pyplot as plt\n",
        "import numpy as np\n",
        "import os\n",
        "import PIL\n",
        "import cv2\n",
        "import pathlib\n",
        "import glob\n",
        "import shutil\n",
        "import os\n",
        "import random\n",
        "from tensorflow.keras.applications.inception_v3 import InceptionV3\n",
        "from tensorflow.keras.applications.xception import Xception\n",
        "from keras.applications.inception_resnet_v2 import InceptionResNetV2\n",
        "from keras.applications.resnet50 import ResNet50\n",
        "from keras.applications.mobilenet import MobileNet\n",
        "from tensorflow.keras.preprocessing import image\n",
        "from tensorflow.keras.models import Model\n",
        "from tensorflow.keras.layers import Dense, GlobalAveragePooling2D\n",
        "from tensorflow.keras.layers import Dense, GlobalMaxPooling2D\n",
        "from tensorflow.keras.optimizers import Adam\n",
        "from tensorflow.keras.callbacks import Callback"
      ],
      "execution_count": null,
      "outputs": []
    },
    {
      "cell_type": "code",
      "metadata": {
        "id": "6oFlezA3UNRK"
      },
      "source": [
        "from keras.applications import ResNet101, ResNet152, ResNet50V2, ResNet101V2, ResNet152V2"
      ],
      "execution_count": null,
      "outputs": []
    },
    {
      "cell_type": "code",
      "metadata": {
        "id": "z34swmp9ND1g"
      },
      "source": [
        "%%capture\n",
        "!pip install wandb -qqq\n",
        "import wandb"
      ],
      "execution_count": null,
      "outputs": []
    },
    {
      "cell_type": "code",
      "metadata": {
        "id": "vbuWkh9kNerj"
      },
      "source": [
        "from wandb.keras import WandbCallback"
      ],
      "execution_count": null,
      "outputs": []
    },
    {
      "cell_type": "code",
      "metadata": {
        "colab": {
          "base_uri": "https://localhost:8080/"
        },
        "id": "z1eLLYa4NDyH",
        "outputId": "00d47c28-3546-48ef-c2b0-6f0ed941786e"
      },
      "source": [
        "!wandb login --relogin"
      ],
      "execution_count": null,
      "outputs": [
        {
          "output_type": "stream",
          "text": [
            "\u001b[34m\u001b[1mwandb\u001b[0m: You can find your API key in your browser here: https://wandb.ai/authorize\n",
            "\u001b[34m\u001b[1mwandb\u001b[0m: Paste an API key from your profile and hit enter: \n",
            "\u001b[34m\u001b[1mwandb\u001b[0m: Appending key for api.wandb.ai to your netrc file: /root/.netrc\n"
          ],
          "name": "stdout"
        }
      ]
    },
    {
      "cell_type": "code",
      "metadata": {
        "colab": {
          "base_uri": "https://localhost:8080/"
        },
        "id": "KUFbS5KRYipF",
        "outputId": "9adb2038-4413-4b8a-d423-7183be82935c"
      },
      "source": [
        "############################### caution : terminal commands ###########################################\n",
        "\n",
        "#-----------------------------empty the datasets forlder before downloading the dataset ------------------------\n",
        "\n",
        "%cd\n",
        "%cd .keras/datasets/\n",
        "!rm -r *"
      ],
      "execution_count": null,
      "outputs": [
        {
          "output_type": "stream",
          "text": [
            "/root\n",
            "[Errno 2] No such file or directory: '.keras/datasets/'\n",
            "/root\n",
            "rm: cannot remove '*': No such file or directory\n"
          ],
          "name": "stdout"
        }
      ]
    },
    {
      "cell_type": "code",
      "metadata": {
        "colab": {
          "base_uri": "https://localhost:8080/"
        },
        "id": "uWz2g5jsFWMQ",
        "outputId": "8a23365b-7abe-4f94-9726-13a2a03f68ea"
      },
      "source": [
        "############################### download data from given url ###################################3\n",
        "\n",
        "dataset_url = \"https://storage.googleapis.com/wandb_datasets/nature_12K.zip\"\n",
        "data_dir = tf.keras.utils.get_file('nature_12K', origin=dataset_url, extract=True)"
      ],
      "execution_count": null,
      "outputs": [
        {
          "output_type": "stream",
          "text": [
            "Downloading data from https://storage.googleapis.com/wandb_datasets/nature_12K.zip\n",
            "3816693760/3816687935 [==============================] - 97s 0us/step\n"
          ],
          "name": "stdout"
        }
      ]
    },
    {
      "cell_type": "code",
      "metadata": {
        "id": "fGGDdWOvFYWK",
        "colab": {
          "base_uri": "https://localhost:8080/"
        },
        "outputId": "87339ee3-c98a-41a6-f132-7391df8c7079"
      },
      "source": [
        "#------------------------------caution : terminal commands --------------------------------------\n",
        "\n",
        "%cd\n",
        "%cd .keras/datasets/inaturalist_12K\n",
        "%mv val test\n",
        "!mkdir valid"
      ],
      "execution_count": null,
      "outputs": [
        {
          "output_type": "stream",
          "text": [
            "/root\n",
            "/root/.keras/datasets/inaturalist_12K\n"
          ],
          "name": "stdout"
        }
      ]
    },
    {
      "cell_type": "code",
      "metadata": {
        "id": "bl6lwXINreW8"
      },
      "source": [
        "###################### split train data into validation set and training set ##########################\n",
        "\n",
        "data_folder = '/root/.keras/datasets/inaturalist_12K'\n",
        "os.chdir(data_folder)\n",
        "\n",
        "folder_names = ['Amphibia', 'Animalia', 'Arachnida', 'Aves', 'Fungi', 'Insecta', 'Mammalia', 'Mollusca', 'Plantae', 'Reptilia' ]\n",
        "for i in range(0,10):\n",
        "  source = data_folder + \"/train/\" +folder_names[i]  \n",
        "  orig_files = os.listdir(source)\n",
        "  chosen_indexes = random.sample(range(0, len(orig_files)-1), 100)\n",
        "\n",
        "  destination = data_folder + \"/valid/\"\n",
        "  os.chdir(destination)\n",
        "  os.system('mkdir'+' '+str(folder_names[i]))\n",
        "  destination = destination + folder_names[i]\n",
        "  for j in range(0,100):\n",
        "    shutil.move(   source +\"/\" + str(   orig_files[   chosen_indexes[j]  ]   )  , destination)\n"
      ],
      "execution_count": null,
      "outputs": []
    },
    {
      "cell_type": "code",
      "metadata": {
        "id": "W9fn2_KiRWKZ"
      },
      "source": [
        "######################## Correcting the directory location #################################\n",
        "\n",
        "#data_dir = '/root/.keras/datasets/nature_12K'\n",
        "\n",
        "data_dir = data_dir.split('/')\n",
        "data_dir.remove('nature_12K')\n",
        "data_dir.append('inaturalist_12K')\n",
        "data_dir = '/'.join(data_dir)\n"
      ],
      "execution_count": null,
      "outputs": []
    },
    {
      "cell_type": "code",
      "metadata": {
        "id": "pTM_1UNdRWHn"
      },
      "source": [
        "#----------------------------Taking the train data---------------------------------------------\n",
        "train_data_dir_path = data_dir + '/train'\n",
        "train_data_dir = pathlib.Path(train_data_dir_path)\n",
        "\n",
        "#----------------------------Taking the validation data---------------------------------------\n",
        "valid_data_dir_path = data_dir + '/valid'\n",
        "valid_data_dir = pathlib.Path(valid_data_dir_path)\n",
        "\n",
        "#-----------------------------Taking the test data----------------------------------------\n",
        "test_data_dir_path = data_dir + '/test'\n",
        "test_data_dir = pathlib.Path(test_data_dir_path)"
      ],
      "execution_count": null,
      "outputs": []
    },
    {
      "cell_type": "code",
      "metadata": {
        "id": "v9lMEAEfRbjO"
      },
      "source": [
        "#----------------------------Parameters for the images----------------------------------------\n",
        "batch_size = 32\n",
        "img_height = 180\n",
        "img_width = 180"
      ],
      "execution_count": null,
      "outputs": []
    },
    {
      "cell_type": "code",
      "metadata": {
        "colab": {
          "base_uri": "https://localhost:8080/"
        },
        "id": "RDPv0DjeRbf_",
        "outputId": "e6d27255-0e9c-43ed-8d93-cf2a2f66c5c5"
      },
      "source": [
        "########################### converting the image data into dataset ##############################\n",
        "\n",
        "#--------------------------training dataset ---------------------------------------\n",
        "train_ds = tf.keras.preprocessing.image_dataset_from_directory(\n",
        "  train_data_dir,\n",
        "  seed=123,\n",
        "  image_size=(img_height, img_width),\n",
        "  batch_size=batch_size,\n",
        "  label_mode=\"categorical\"\n",
        "  )\n",
        "\n",
        "#-------------------------validation dataset ----------------------------------\n",
        "val_ds = tf.keras.preprocessing.image_dataset_from_directory(\n",
        "  valid_data_dir,\n",
        "  seed=123,\n",
        "  image_size=(img_height, img_width),\n",
        "  batch_size=batch_size,\n",
        "  label_mode=\"categorical\"\n",
        "  )"
      ],
      "execution_count": null,
      "outputs": [
        {
          "output_type": "stream",
          "text": [
            "Found 8999 files belonging to 10 classes.\n",
            "Found 1000 files belonging to 10 classes.\n"
          ],
          "name": "stdout"
        }
      ]
    },
    {
      "cell_type": "code",
      "metadata": {
        "id": "cpage8SfRbdu"
      },
      "source": [
        "######################################## function for using trained model ###############################\n",
        "\n",
        "\n",
        "def get_desired_model(b_model, input_shape=(180,180,3), num_dense_neurons=1014,activation=\"relu\",activation2=\"softmax\",dropout=None, pooling=\"max\",l_rate=0.0001): \n",
        "    \n",
        "    if b_model==\"Xception\":\n",
        "      base_model=Xception\n",
        "    elif b_model==\"InceptionV3\":\n",
        "      base_model=InceptionV3\n",
        "    elif b_model==\"ResNet50\":\n",
        "      base_model=ResNet50\n",
        "    elif b_model==\"MobileNet\":\n",
        "      base_model=MobileNet\n",
        "    elif b_model == \"ResNet101\":\n",
        "      base_model=ResNet101\n",
        "    elif b_model == \"ResNet152\":\n",
        "      base_model=ResNet152\n",
        "    elif b_model == \"ResNet50V2\":\n",
        "      base_model=ResNet50V2\n",
        "    elif b_model == \"ResNet101V2\":\n",
        "      base_model=ResNet101V2\n",
        "    elif b_model == \"ResNet152V2\":\n",
        "      base_model=ResNet152V2\n",
        "    \n",
        "    \n",
        "    \n",
        "\n",
        "    base = base_model(input_shape=input_shape,include_top=False,weights='imagenet') \n",
        "  \n",
        "  #------------------------------ perform pooling --------------------------------------\n",
        "    if pooling == \"avg\": \n",
        "        x = GlobalAveragePooling2D()(base.output) \n",
        "    elif pooling == \"max\": \n",
        "        x = GlobalMaxPooling2D()(base.output) \n",
        "\n",
        "  #---------------------------- Flatten the output  --------------------------------------\n",
        "\n",
        "    x = layers.Flatten()(base.output)\n",
        "\n",
        "\n",
        "  #------------------------------- dropout ---------------------------------------------\n",
        "    if dropout != 0: \n",
        "        x = layers.Dropout(dropout)(x) \n",
        "\n",
        "  #----------------------------- add fully connected layer ---------------------------------\n",
        "    x = Dense(num_dense_neurons, activation=activation)(x) \n",
        "\n",
        "  #------------------------------- and a logistic layer -------------------------------------\n",
        "    x = Dense(10, activation=activation2)(x) \n",
        "\n",
        "  #----------------------------------- get model ----------------------------------------------\n",
        "    model = Model(inputs=base.input, outputs=x) \n",
        "\n",
        "  #--------------------------------- setting the trainable layers -------------------------------\n",
        "    for layer in base.layers:\n",
        "        layer.trainable = False\n",
        "\n",
        " #------------------------------------compiling the model -----------------------------------------\n",
        "    model.compile(loss='categorical_crossentropy', metrics=[\"accuracy\"], optimizer=Adam(l_rate)) \n",
        "    \n",
        "  #-------------------------------------return model -------------------------------------------------\n",
        "    return model\n",
        "\n",
        "#============================== end of get_desired_model function ========================================"
      ],
      "execution_count": null,
      "outputs": []
    },
    {
      "cell_type": "code",
      "metadata": {
        "id": "KrniEm-WUUG3"
      },
      "source": [
        "#--------------------------- training -------------------------------------------\n",
        "def train(model, train_ds, val_ds, epochs=5):\n",
        "  history = model.fit(train_ds, validation_data = val_ds, epochs = epochs, callbacks=[WandbCallback()])\n",
        "  return history"
      ],
      "execution_count": null,
      "outputs": []
    },
    {
      "cell_type": "code",
      "metadata": {
        "id": "ARXkqZixreUm",
        "colab": {
          "base_uri": "https://localhost:8080/"
        },
        "outputId": "60124a53-9671-42e6-aec2-dfb2a2204d48"
      },
      "source": [
        "#Experiment 3\n",
        "sweep_config={\n",
        "              \"method\":\"random\",\n",
        "              'metric' : {\n",
        "                            'name' : 'val_accuracy',\n",
        "                            'goal' : 'maximize',\n",
        "                         },\n",
        "          \"parameters\" : {\n",
        "                            \"base_model\":{\"values\":[\"ResNet50\",\"ResNet101\"]},\n",
        "                            \"activation\":{\"values\":['relu']},\n",
        "                            \"activation2\":{\"values\":['softmax']},\n",
        "                            \"input_shape\":{\"values\":[(180,180,3)]},\n",
        "                            \"dropout\":{\"values\":[0,0.1,0.15,0.18]},\n",
        "                            \"num_dense_neuron\":{\"values\":[256,512,1014,1280,2048]},\n",
        "                            \"l_rate\":{\"values\":[0.0001,0.00005]},\n",
        "                            \"epoch\": {\"values\": [5,10]},\n",
        "                            \"pooling\":{\"values\":[\"max\", \"avg\", \"no Pooling\"]}\n",
        "                         }\n",
        "              }\n",
        "sweep_id = wandb.sweep(sweep_config, project=\"pretrained\")"
      ],
      "execution_count": null,
      "outputs": [
        {
          "output_type": "stream",
          "text": [
            "Create sweep with ID: ei8cg921\n",
            "Sweep URL: https://wandb.ai/pranayrajparisha/pretrained/sweeps/ei8cg921\n"
          ],
          "name": "stdout"
        }
      ]
    },
    {
      "cell_type": "code",
      "metadata": {
        "id": "3hUiqv-BreLX"
      },
      "source": [
        "def run():\n",
        "\n",
        "  wb = wandb.init()\n",
        "  config = wb.config\n",
        "\n",
        "  # sweep parameters\n",
        "  base_model = config.base_model\n",
        "  activation = config.activation\n",
        "  activation2 = config.activation2\n",
        "  dropout = config.dropout\n",
        "  input_shape = config.input_shape\n",
        "  num_dense_neuron = config.num_dense_neuron\n",
        "  l_rate=config.l_rate\n",
        "  epoch=config.epoch\n",
        "  pooling = config.pooling\n",
        "\n",
        "  \n",
        "  model = get_desired_model(base_model, input_shape, num_dense_neuron, activation, activation2, dropout, pooling, l_rate)\n",
        "  history = train(model, train_ds, val_ds, epoch)\n",
        "\n",
        "  return"
      ],
      "execution_count": null,
      "outputs": []
    },
    {
      "cell_type": "code",
      "metadata": {
        "id": "ACZkl-aTreIP",
        "colab": {
          "base_uri": "https://localhost:8080/",
          "height": 1000,
          "referenced_widgets": [
            "fb6dd388d3be472b9be23e8140956c6d",
            "75e7ffa8603541949f84004b43136638",
            "1dc4ff7affa949fdba7c6a7d540a1926",
            "1245d94c05a34570be5f7919fd714843",
            "6b35e5a6fd8a485b859626c57573a7ba",
            "89870e4a297f46ea9b780a3793b66ec2",
            "9f298e7787014413ac9b4addcfc07340",
            "ab791a142a1e49f3b8d6ae0296ec6401",
            "5cf4e3d713844e108cc3618d83e6d24b",
            "29c4c93f0ab942dda64799be44924e59",
            "46030bbeffb14c7d86e5ea7a4039af28",
            "08fdb6d6fb49403e9ad3d682a9871f29",
            "7acc1a97728843cfab0629239851b9ef",
            "31aaff857bfc46d09e72057cd558865c",
            "410586e02d244574b944a4bcd73d83d9",
            "05b22002b9564179b3dee17070d76c0c",
            "f97c08aecc1c4e968282cef06984ef8f",
            "f02150ae307745fb9e5b42f6e54e9336",
            "1d10c7202d174f1192cf7f4ed50fd01d",
            "fe2e6d6cc74b4b808741fdba248d3ed7",
            "1714569ba7e24332bad28ab62e5c6731",
            "2a742fdf24d6401a845afe16c9e0cbd9",
            "01554a488e6c48cba8e3c317264ddaf5",
            "f36dd96e24504f49821445114d62d360",
            "7e03d5894265470b818429a47a3f8e19",
            "3c74031f195a4fb3be726f92381db8a6",
            "1fee57506d6b4b259ebec2479b5ec76e",
            "84d0dfbdee61415e92044a6e9699c197",
            "26f476b93259412499274564c100db52",
            "f9f58ba394664225be6cf7005aa4c937",
            "cb657809c09a466a9977b033d663f992",
            "811e3a44fff149d2bafe5d635c69bb18",
            "0706b136dadd4effb4c1d5a3d5a62c6f",
            "ca852534ae6b4cdab6f2ad1c1a7e3ec3",
            "4f7fd9e0474c4999a3451fc4e69163b1",
            "035757228f7f4d52885cfef1bd735024",
            "b9aba2430e8c472485451cefe55816fc",
            "1ff26e793153439b84f701cc5eeb3650",
            "30fdf07fc9ce4e3bb3a5f377ecd62527",
            "04b87dc2bb01496e9246985d89b26e4f",
            "6600073f270d468883f74f4f03422d47",
            "97301dde0ef84c1188aad34c64c19317",
            "cb937d2207bc487d890e6222e2233a1a",
            "c049f382fbac4571b1b09a41d1882d74",
            "810ed998be35467c8ea44945cf74b70b",
            "561a2e88a0714286801756c9f6da8a0e",
            "46cbeb6e087540c28bfba101f59c3555",
            "e86d03d0ac8045d6a26f18fe8f75415d",
            "befdd1ee7d0d4896b8306ab1bf339a0d",
            "1932db8f36d947198ea9396256386664",
            "958ecd50b56c412ca8e7db18cdb019c5",
            "a2ac28bf8235496f9173e91cad3f8f6e",
            "841d6dfe409b4f34b66acfd9859be294",
            "343e1d36b5f94944b32fde67d375312f",
            "22225facb91a4dfb955991909da7130e",
            "554371e015c444629e5eed84670f3c15",
            "4490258b8b324d61a40d084015db3f44",
            "4fab8f0e0cda4db082fb1187cfc92d54",
            "2336ef5da3f74ca996551c04f7dda70d",
            "523f68e433f04e03a6d267cdd63cd4b6",
            "96baae5d406a472abc0d8e98d5cb9da6",
            "49ffaac7a130404e9b11ee1f7daa5382",
            "a45ee1a64c7e419f96257f70402c9c9c",
            "23536ee01e15484ab0bdc9dfe9bb6b5a",
            "d598e85cb25e49d2b9458092c14963c5",
            "bbeea73a3fd0444f8822ec0b982def6c",
            "69b8df5050194fcf93d8bd2e7dc2290c",
            "b2292e6ee7874ed69d3fc0d2a79d8ed3",
            "d9a89345398d40978cdcb17691402005",
            "29dd6f61f0694f7e9abb2b47f2996437",
            "c09a26c618a6494f8e180941317e2590",
            "01dbad77f518494194a59e8ee0cfd47a",
            "6ce03266e11447c880fd0ca9a167be21"
          ]
        },
        "outputId": "0629453e-227e-4cbf-b9c3-73bda4319690"
      },
      "source": [
        "wandb.agent(sweep_id, run)"
      ],
      "execution_count": null,
      "outputs": [
        {
          "output_type": "stream",
          "text": [
            "\u001b[34m\u001b[1mwandb\u001b[0m: Sweep Agent: Waiting for job.\n",
            "\u001b[34m\u001b[1mwandb\u001b[0m: Job received.\n",
            "\u001b[34m\u001b[1mwandb\u001b[0m: Agent Starting Run: ib4v6sm4 with config:\n",
            "\u001b[34m\u001b[1mwandb\u001b[0m: \tactivation: relu\n",
            "\u001b[34m\u001b[1mwandb\u001b[0m: \tactivation2: softmax\n",
            "\u001b[34m\u001b[1mwandb\u001b[0m: \tbase_model: ResNet101\n",
            "\u001b[34m\u001b[1mwandb\u001b[0m: \tdropout: 0.18\n",
            "\u001b[34m\u001b[1mwandb\u001b[0m: \tepoch: 10\n",
            "\u001b[34m\u001b[1mwandb\u001b[0m: \tinput_shape: [180, 180, 3]\n",
            "\u001b[34m\u001b[1mwandb\u001b[0m: \tl_rate: 5e-05\n",
            "\u001b[34m\u001b[1mwandb\u001b[0m: \tnum_dense_neuron: 256\n",
            "\u001b[34m\u001b[1mwandb\u001b[0m: \tpooling: max\n",
            "\u001b[34m\u001b[1mwandb\u001b[0m: Currently logged in as: \u001b[33mpranayrajparisha\u001b[0m (use `wandb login --relogin` to force relogin)\n"
          ],
          "name": "stderr"
        },
        {
          "output_type": "display_data",
          "data": {
            "text/html": [
              "\n",
              "                Tracking run with wandb version 0.10.26<br/>\n",
              "                Syncing run <strong style=\"color:#cdcd00\">splendid-sweep-1</strong> to <a href=\"https://wandb.ai\" target=\"_blank\">Weights & Biases</a> <a href=\"https://docs.wandb.com/integrations/jupyter.html\" target=\"_blank\">(Documentation)</a>.<br/>\n",
              "                Project page: <a href=\"https://wandb.ai/pranayrajparisha/pretrained\" target=\"_blank\">https://wandb.ai/pranayrajparisha/pretrained</a><br/>\n",
              "                Sweep page: <a href=\"https://wandb.ai/pranayrajparisha/pretrained/sweeps/ei8cg921\" target=\"_blank\">https://wandb.ai/pranayrajparisha/pretrained/sweeps/ei8cg921</a><br/>\n",
              "Run page: <a href=\"https://wandb.ai/pranayrajparisha/pretrained/runs/ib4v6sm4\" target=\"_blank\">https://wandb.ai/pranayrajparisha/pretrained/runs/ib4v6sm4</a><br/>\n",
              "                Run data is saved locally in <code>/root/.keras/datasets/inaturalist_12K/valid/wandb/run-20210414_090744-ib4v6sm4</code><br/><br/>\n",
              "            "
            ],
            "text/plain": [
              "<IPython.core.display.HTML object>"
            ]
          },
          "metadata": {
            "tags": []
          }
        },
        {
          "output_type": "stream",
          "text": [
            "Downloading data from https://storage.googleapis.com/tensorflow/keras-applications/resnet/resnet101_weights_tf_dim_ordering_tf_kernels_notop.h5\n",
            "171450368/171446536 [==============================] - 5s 0us/step\n",
            "Epoch 1/10\n",
            "282/282 [==============================] - 202s 585ms/step - loss: 2.0407 - accuracy: 0.4586 - val_loss: 1.1449 - val_accuracy: 0.6060\n",
            "Epoch 2/10\n",
            "282/282 [==============================] - 173s 605ms/step - loss: 0.6301 - accuracy: 0.7927 - val_loss: 1.1775 - val_accuracy: 0.6560\n",
            "Epoch 3/10\n",
            "282/282 [==============================] - 160s 563ms/step - loss: 0.2574 - accuracy: 0.9215 - val_loss: 1.3370 - val_accuracy: 0.6310\n",
            "Epoch 4/10\n",
            "282/282 [==============================] - 158s 556ms/step - loss: 0.1028 - accuracy: 0.9716 - val_loss: 1.3860 - val_accuracy: 0.6410\n",
            "Epoch 5/10\n",
            "282/282 [==============================] - 161s 564ms/step - loss: 0.0524 - accuracy: 0.9887 - val_loss: 1.5105 - val_accuracy: 0.6510\n",
            "Epoch 6/10\n",
            "282/282 [==============================] - 159s 558ms/step - loss: 0.0367 - accuracy: 0.9921 - val_loss: 1.5169 - val_accuracy: 0.6470\n",
            "Epoch 7/10\n",
            "282/282 [==============================] - 160s 562ms/step - loss: 0.0187 - accuracy: 0.9974 - val_loss: 1.5745 - val_accuracy: 0.6580\n",
            "Epoch 8/10\n",
            "282/282 [==============================] - 160s 562ms/step - loss: 0.0142 - accuracy: 0.9972 - val_loss: 1.6655 - val_accuracy: 0.6700\n",
            "Epoch 9/10\n",
            "282/282 [==============================] - 158s 554ms/step - loss: 0.0186 - accuracy: 0.9958 - val_loss: 1.6065 - val_accuracy: 0.6650\n",
            "Epoch 10/10\n",
            "282/282 [==============================] - 157s 551ms/step - loss: 0.0168 - accuracy: 0.9970 - val_loss: 1.6677 - val_accuracy: 0.6600\n"
          ],
          "name": "stdout"
        },
        {
          "output_type": "display_data",
          "data": {
            "text/html": [
              "<br/>Waiting for W&B process to finish, PID 245<br/>Program ended successfully."
            ],
            "text/plain": [
              "<IPython.core.display.HTML object>"
            ]
          },
          "metadata": {
            "tags": []
          }
        },
        {
          "output_type": "display_data",
          "data": {
            "application/vnd.jupyter.widget-view+json": {
              "model_id": "fb6dd388d3be472b9be23e8140956c6d",
              "version_major": 2,
              "version_minor": 0
            },
            "text/plain": [
              "VBox(children=(Label(value=' 0.07MB of 0.07MB uploaded (0.00MB deduped)\\r'), FloatProgress(value=1.0, max=1.0)…"
            ]
          },
          "metadata": {
            "tags": []
          }
        },
        {
          "output_type": "display_data",
          "data": {
            "text/html": [
              "Find user logs for this run at: <code>/root/.keras/datasets/inaturalist_12K/valid/wandb/run-20210414_090744-ib4v6sm4/logs/debug.log</code>"
            ],
            "text/plain": [
              "<IPython.core.display.HTML object>"
            ]
          },
          "metadata": {
            "tags": []
          }
        },
        {
          "output_type": "display_data",
          "data": {
            "text/html": [
              "Find internal logs for this run at: <code>/root/.keras/datasets/inaturalist_12K/valid/wandb/run-20210414_090744-ib4v6sm4/logs/debug-internal.log</code>"
            ],
            "text/plain": [
              "<IPython.core.display.HTML object>"
            ]
          },
          "metadata": {
            "tags": []
          }
        },
        {
          "output_type": "display_data",
          "data": {
            "text/html": [
              "<h3>Run summary:</h3><br/><style>\n",
              "    table.wandb td:nth-child(1) { padding: 0 10px; text-align: right }\n",
              "    </style><table class=\"wandb\">\n",
              "<tr><td>epoch</td><td>9</td></tr><tr><td>loss</td><td>0.01585</td></tr><tr><td>accuracy</td><td>0.99689</td></tr><tr><td>val_loss</td><td>1.66766</td></tr><tr><td>val_accuracy</td><td>0.66</td></tr><tr><td>_runtime</td><td>1663</td></tr><tr><td>_timestamp</td><td>1618392927</td></tr><tr><td>_step</td><td>9</td></tr><tr><td>best_val_loss</td><td>1.14489</td></tr><tr><td>best_epoch</td><td>0</td></tr></table>"
            ],
            "text/plain": [
              "<IPython.core.display.HTML object>"
            ]
          },
          "metadata": {
            "tags": []
          }
        },
        {
          "output_type": "display_data",
          "data": {
            "text/html": [
              "<h3>Run history:</h3><br/><style>\n",
              "    table.wandb td:nth-child(1) { padding: 0 10px; text-align: right }\n",
              "    </style><table class=\"wandb\">\n",
              "<tr><td>epoch</td><td>▁▂▃▃▄▅▆▆▇█</td></tr><tr><td>loss</td><td>█▄▂▁▁▁▁▁▁▁</td></tr><tr><td>accuracy</td><td>▁▅▇███████</td></tr><tr><td>val_loss</td><td>▁▁▄▄▆▆▇█▇█</td></tr><tr><td>val_accuracy</td><td>▁▆▄▅▆▅▇█▇▇</td></tr><tr><td>_runtime</td><td>▁▂▃▃▄▅▆▆▇█</td></tr><tr><td>_timestamp</td><td>▁▂▃▃▄▅▆▆▇█</td></tr><tr><td>_step</td><td>▁▂▃▃▄▅▆▆▇█</td></tr></table><br/>"
            ],
            "text/plain": [
              "<IPython.core.display.HTML object>"
            ]
          },
          "metadata": {
            "tags": []
          }
        },
        {
          "output_type": "display_data",
          "data": {
            "text/html": [
              "Synced 5 W&B file(s), 1 media file(s), 0 artifact file(s) and 1 other file(s)"
            ],
            "text/plain": [
              "<IPython.core.display.HTML object>"
            ]
          },
          "metadata": {
            "tags": []
          }
        },
        {
          "output_type": "display_data",
          "data": {
            "text/html": [
              "\n",
              "                    <br/>Synced <strong style=\"color:#cdcd00\">splendid-sweep-1</strong>: <a href=\"https://wandb.ai/pranayrajparisha/pretrained/runs/ib4v6sm4\" target=\"_blank\">https://wandb.ai/pranayrajparisha/pretrained/runs/ib4v6sm4</a><br/>\n",
              "                "
            ],
            "text/plain": [
              "<IPython.core.display.HTML object>"
            ]
          },
          "metadata": {
            "tags": []
          }
        },
        {
          "output_type": "stream",
          "text": [
            "\u001b[34m\u001b[1mwandb\u001b[0m: Agent Starting Run: 8e697cuh with config:\n",
            "\u001b[34m\u001b[1mwandb\u001b[0m: \tactivation: relu\n",
            "\u001b[34m\u001b[1mwandb\u001b[0m: \tactivation2: softmax\n",
            "\u001b[34m\u001b[1mwandb\u001b[0m: \tbase_model: ResNet50\n",
            "\u001b[34m\u001b[1mwandb\u001b[0m: \tdropout: 0\n",
            "\u001b[34m\u001b[1mwandb\u001b[0m: \tepoch: 10\n",
            "\u001b[34m\u001b[1mwandb\u001b[0m: \tinput_shape: [180, 180, 3]\n",
            "\u001b[34m\u001b[1mwandb\u001b[0m: \tl_rate: 0.0001\n",
            "\u001b[34m\u001b[1mwandb\u001b[0m: \tnum_dense_neuron: 1280\n",
            "\u001b[34m\u001b[1mwandb\u001b[0m: \tpooling: no Pooling\n"
          ],
          "name": "stderr"
        },
        {
          "output_type": "display_data",
          "data": {
            "text/html": [
              "\n",
              "                Tracking run with wandb version 0.10.26<br/>\n",
              "                Syncing run <strong style=\"color:#cdcd00\">apricot-sweep-2</strong> to <a href=\"https://wandb.ai\" target=\"_blank\">Weights & Biases</a> <a href=\"https://docs.wandb.com/integrations/jupyter.html\" target=\"_blank\">(Documentation)</a>.<br/>\n",
              "                Project page: <a href=\"https://wandb.ai/pranayrajparisha/pretrained\" target=\"_blank\">https://wandb.ai/pranayrajparisha/pretrained</a><br/>\n",
              "                Sweep page: <a href=\"https://wandb.ai/pranayrajparisha/pretrained/sweeps/ei8cg921\" target=\"_blank\">https://wandb.ai/pranayrajparisha/pretrained/sweeps/ei8cg921</a><br/>\n",
              "Run page: <a href=\"https://wandb.ai/pranayrajparisha/pretrained/runs/8e697cuh\" target=\"_blank\">https://wandb.ai/pranayrajparisha/pretrained/runs/8e697cuh</a><br/>\n",
              "                Run data is saved locally in <code>/root/.keras/datasets/inaturalist_12K/valid/wandb/run-20210414_093545-8e697cuh</code><br/><br/>\n",
              "            "
            ],
            "text/plain": [
              "<IPython.core.display.HTML object>"
            ]
          },
          "metadata": {
            "tags": []
          }
        },
        {
          "output_type": "stream",
          "text": [
            "Downloading data from https://storage.googleapis.com/tensorflow/keras-applications/resnet/resnet50_weights_tf_dim_ordering_tf_kernels_notop.h5\n",
            "94773248/94765736 [==============================] - 1s 0us/step\n",
            "Epoch 1/10\n",
            "282/282 [==============================] - 125s 424ms/step - loss: 3.1806 - accuracy: 0.4757 - val_loss: 1.1644 - val_accuracy: 0.6010\n",
            "Epoch 2/10\n",
            "282/282 [==============================] - 122s 425ms/step - loss: 0.5284 - accuracy: 0.8283 - val_loss: 1.1947 - val_accuracy: 0.6320\n",
            "Epoch 3/10\n",
            "282/282 [==============================] - 122s 426ms/step - loss: 0.1691 - accuracy: 0.9519 - val_loss: 1.3693 - val_accuracy: 0.6160\n",
            "Epoch 4/10\n",
            "282/282 [==============================] - 121s 425ms/step - loss: 0.0598 - accuracy: 0.9888 - val_loss: 1.4349 - val_accuracy: 0.6390\n",
            "Epoch 5/10\n",
            "282/282 [==============================] - 122s 425ms/step - loss: 0.0181 - accuracy: 0.9985 - val_loss: 1.4211 - val_accuracy: 0.6640\n",
            "Epoch 6/10\n",
            "282/282 [==============================] - 121s 425ms/step - loss: 0.0047 - accuracy: 1.0000 - val_loss: 1.4520 - val_accuracy: 0.6790\n",
            "Epoch 7/10\n",
            "282/282 [==============================] - 121s 423ms/step - loss: 0.0015 - accuracy: 1.0000 - val_loss: 1.4855 - val_accuracy: 0.6710\n",
            "Epoch 8/10\n",
            "282/282 [==============================] - 121s 423ms/step - loss: 8.7367e-04 - accuracy: 1.0000 - val_loss: 1.5098 - val_accuracy: 0.6720\n",
            "Epoch 9/10\n",
            "282/282 [==============================] - 121s 422ms/step - loss: 6.5129e-04 - accuracy: 1.0000 - val_loss: 1.5327 - val_accuracy: 0.6740\n",
            "Epoch 10/10\n",
            "282/282 [==============================] - 121s 423ms/step - loss: 5.1976e-04 - accuracy: 1.0000 - val_loss: 1.5495 - val_accuracy: 0.6780\n"
          ],
          "name": "stdout"
        },
        {
          "output_type": "display_data",
          "data": {
            "text/html": [
              "<br/>Waiting for W&B process to finish, PID 612<br/>Program ended successfully."
            ],
            "text/plain": [
              "<IPython.core.display.HTML object>"
            ]
          },
          "metadata": {
            "tags": []
          }
        },
        {
          "output_type": "display_data",
          "data": {
            "application/vnd.jupyter.widget-view+json": {
              "model_id": "5cf4e3d713844e108cc3618d83e6d24b",
              "version_major": 2,
              "version_minor": 0
            },
            "text/plain": [
              "VBox(children=(Label(value=' 0.79MB of 0.79MB uploaded (0.00MB deduped)\\r'), FloatProgress(value=1.0, max=1.0)…"
            ]
          },
          "metadata": {
            "tags": []
          }
        },
        {
          "output_type": "display_data",
          "data": {
            "text/html": [
              "Find user logs for this run at: <code>/root/.keras/datasets/inaturalist_12K/valid/wandb/run-20210414_093545-8e697cuh/logs/debug.log</code>"
            ],
            "text/plain": [
              "<IPython.core.display.HTML object>"
            ]
          },
          "metadata": {
            "tags": []
          }
        },
        {
          "output_type": "display_data",
          "data": {
            "text/html": [
              "Find internal logs for this run at: <code>/root/.keras/datasets/inaturalist_12K/valid/wandb/run-20210414_093545-8e697cuh/logs/debug-internal.log</code>"
            ],
            "text/plain": [
              "<IPython.core.display.HTML object>"
            ]
          },
          "metadata": {
            "tags": []
          }
        },
        {
          "output_type": "display_data",
          "data": {
            "text/html": [
              "<h3>Run summary:</h3><br/><style>\n",
              "    table.wandb td:nth-child(1) { padding: 0 10px; text-align: right }\n",
              "    </style><table class=\"wandb\">\n",
              "<tr><td>epoch</td><td>9</td></tr><tr><td>loss</td><td>0.00059</td></tr><tr><td>accuracy</td><td>1.0</td></tr><tr><td>val_loss</td><td>1.54946</td></tr><tr><td>val_accuracy</td><td>0.678</td></tr><tr><td>_runtime</td><td>1228</td></tr><tr><td>_timestamp</td><td>1618394173</td></tr><tr><td>_step</td><td>9</td></tr><tr><td>best_val_loss</td><td>1.16442</td></tr><tr><td>best_epoch</td><td>0</td></tr></table>"
            ],
            "text/plain": [
              "<IPython.core.display.HTML object>"
            ]
          },
          "metadata": {
            "tags": []
          }
        },
        {
          "output_type": "display_data",
          "data": {
            "text/html": [
              "<h3>Run history:</h3><br/><style>\n",
              "    table.wandb td:nth-child(1) { padding: 0 10px; text-align: right }\n",
              "    </style><table class=\"wandb\">\n",
              "<tr><td>epoch</td><td>▁▂▃▃▄▅▆▆▇█</td></tr><tr><td>loss</td><td>█▃▂▁▁▁▁▁▁▁</td></tr><tr><td>accuracy</td><td>▁▆▇███████</td></tr><tr><td>val_loss</td><td>▁▂▅▆▆▆▇▇██</td></tr><tr><td>val_accuracy</td><td>▁▄▂▄▇█▇▇██</td></tr><tr><td>_runtime</td><td>▁▂▃▃▄▅▆▆▇█</td></tr><tr><td>_timestamp</td><td>▁▂▃▃▄▅▆▆▇█</td></tr><tr><td>_step</td><td>▁▂▃▃▄▅▆▆▇█</td></tr></table><br/>"
            ],
            "text/plain": [
              "<IPython.core.display.HTML object>"
            ]
          },
          "metadata": {
            "tags": []
          }
        },
        {
          "output_type": "display_data",
          "data": {
            "text/html": [
              "Synced 5 W&B file(s), 1 media file(s), 0 artifact file(s) and 1 other file(s)"
            ],
            "text/plain": [
              "<IPython.core.display.HTML object>"
            ]
          },
          "metadata": {
            "tags": []
          }
        },
        {
          "output_type": "display_data",
          "data": {
            "text/html": [
              "\n",
              "                    <br/>Synced <strong style=\"color:#cdcd00\">apricot-sweep-2</strong>: <a href=\"https://wandb.ai/pranayrajparisha/pretrained/runs/8e697cuh\" target=\"_blank\">https://wandb.ai/pranayrajparisha/pretrained/runs/8e697cuh</a><br/>\n",
              "                "
            ],
            "text/plain": [
              "<IPython.core.display.HTML object>"
            ]
          },
          "metadata": {
            "tags": []
          }
        },
        {
          "output_type": "stream",
          "text": [
            "\u001b[34m\u001b[1mwandb\u001b[0m: Agent Starting Run: lmfol978 with config:\n",
            "\u001b[34m\u001b[1mwandb\u001b[0m: \tactivation: relu\n",
            "\u001b[34m\u001b[1mwandb\u001b[0m: \tactivation2: softmax\n",
            "\u001b[34m\u001b[1mwandb\u001b[0m: \tbase_model: ResNet50\n",
            "\u001b[34m\u001b[1mwandb\u001b[0m: \tdropout: 0.1\n",
            "\u001b[34m\u001b[1mwandb\u001b[0m: \tepoch: 5\n",
            "\u001b[34m\u001b[1mwandb\u001b[0m: \tinput_shape: [180, 180, 3]\n",
            "\u001b[34m\u001b[1mwandb\u001b[0m: \tl_rate: 5e-05\n",
            "\u001b[34m\u001b[1mwandb\u001b[0m: \tnum_dense_neuron: 2048\n",
            "\u001b[34m\u001b[1mwandb\u001b[0m: \tpooling: max\n"
          ],
          "name": "stderr"
        },
        {
          "output_type": "display_data",
          "data": {
            "text/html": [
              "\n",
              "                Tracking run with wandb version 0.10.26<br/>\n",
              "                Syncing run <strong style=\"color:#cdcd00\">earthy-sweep-3</strong> to <a href=\"https://wandb.ai\" target=\"_blank\">Weights & Biases</a> <a href=\"https://docs.wandb.com/integrations/jupyter.html\" target=\"_blank\">(Documentation)</a>.<br/>\n",
              "                Project page: <a href=\"https://wandb.ai/pranayrajparisha/pretrained\" target=\"_blank\">https://wandb.ai/pranayrajparisha/pretrained</a><br/>\n",
              "                Sweep page: <a href=\"https://wandb.ai/pranayrajparisha/pretrained/sweeps/ei8cg921\" target=\"_blank\">https://wandb.ai/pranayrajparisha/pretrained/sweeps/ei8cg921</a><br/>\n",
              "Run page: <a href=\"https://wandb.ai/pranayrajparisha/pretrained/runs/lmfol978\" target=\"_blank\">https://wandb.ai/pranayrajparisha/pretrained/runs/lmfol978</a><br/>\n",
              "                Run data is saved locally in <code>/root/.keras/datasets/inaturalist_12K/valid/wandb/run-20210414_095651-lmfol978</code><br/><br/>\n",
              "            "
            ],
            "text/plain": [
              "<IPython.core.display.HTML object>"
            ]
          },
          "metadata": {
            "tags": []
          }
        },
        {
          "output_type": "stream",
          "text": [
            "Epoch 1/5\n",
            "282/282 [==============================] - 133s 454ms/step - loss: 2.7951 - accuracy: 0.4729 - val_loss: 1.1469 - val_accuracy: 0.6150\n",
            "Epoch 2/5\n",
            "282/282 [==============================] - 130s 455ms/step - loss: 0.3947 - accuracy: 0.8693 - val_loss: 1.1943 - val_accuracy: 0.6420\n",
            "Epoch 3/5\n",
            "282/282 [==============================] - 131s 457ms/step - loss: 0.1001 - accuracy: 0.9750 - val_loss: 1.3492 - val_accuracy: 0.6480\n",
            "Epoch 4/5\n",
            "282/282 [==============================] - 131s 458ms/step - loss: 0.0284 - accuracy: 0.9947 - val_loss: 1.4641 - val_accuracy: 0.6390\n",
            "Epoch 5/5\n",
            "282/282 [==============================] - 131s 459ms/step - loss: 0.0117 - accuracy: 0.9982 - val_loss: 1.4914 - val_accuracy: 0.6580\n"
          ],
          "name": "stdout"
        },
        {
          "output_type": "display_data",
          "data": {
            "text/html": [
              "<br/>Waiting for W&B process to finish, PID 877<br/>Program ended successfully."
            ],
            "text/plain": [
              "<IPython.core.display.HTML object>"
            ]
          },
          "metadata": {
            "tags": []
          }
        },
        {
          "output_type": "display_data",
          "data": {
            "application/vnd.jupyter.widget-view+json": {
              "model_id": "f97c08aecc1c4e968282cef06984ef8f",
              "version_major": 2,
              "version_minor": 0
            },
            "text/plain": [
              "VBox(children=(Label(value=' 90.48MB of 90.48MB uploaded (0.00MB deduped)\\r'), FloatProgress(value=1.0, max=1.…"
            ]
          },
          "metadata": {
            "tags": []
          }
        },
        {
          "output_type": "display_data",
          "data": {
            "text/html": [
              "Find user logs for this run at: <code>/root/.keras/datasets/inaturalist_12K/valid/wandb/run-20210414_095651-lmfol978/logs/debug.log</code>"
            ],
            "text/plain": [
              "<IPython.core.display.HTML object>"
            ]
          },
          "metadata": {
            "tags": []
          }
        },
        {
          "output_type": "display_data",
          "data": {
            "text/html": [
              "Find internal logs for this run at: <code>/root/.keras/datasets/inaturalist_12K/valid/wandb/run-20210414_095651-lmfol978/logs/debug-internal.log</code>"
            ],
            "text/plain": [
              "<IPython.core.display.HTML object>"
            ]
          },
          "metadata": {
            "tags": []
          }
        },
        {
          "output_type": "display_data",
          "data": {
            "text/html": [
              "<h3>Run summary:</h3><br/><style>\n",
              "    table.wandb td:nth-child(1) { padding: 0 10px; text-align: right }\n",
              "    </style><table class=\"wandb\">\n",
              "<tr><td>epoch</td><td>4</td></tr><tr><td>loss</td><td>0.01175</td></tr><tr><td>accuracy</td><td>0.99811</td></tr><tr><td>val_loss</td><td>1.49142</td></tr><tr><td>val_accuracy</td><td>0.658</td></tr><tr><td>_runtime</td><td>686</td></tr><tr><td>_timestamp</td><td>1618394897</td></tr><tr><td>_step</td><td>4</td></tr><tr><td>best_val_loss</td><td>1.14686</td></tr><tr><td>best_epoch</td><td>0</td></tr></table>"
            ],
            "text/plain": [
              "<IPython.core.display.HTML object>"
            ]
          },
          "metadata": {
            "tags": []
          }
        },
        {
          "output_type": "display_data",
          "data": {
            "text/html": [
              "<h3>Run history:</h3><br/><style>\n",
              "    table.wandb td:nth-child(1) { padding: 0 10px; text-align: right }\n",
              "    </style><table class=\"wandb\">\n",
              "<tr><td>epoch</td><td>▁▃▅▆█</td></tr><tr><td>loss</td><td>█▂▁▁▁</td></tr><tr><td>accuracy</td><td>▁▆███</td></tr><tr><td>val_loss</td><td>▁▂▅▇█</td></tr><tr><td>val_accuracy</td><td>▁▅▆▅█</td></tr><tr><td>_runtime</td><td>▁▃▅▆█</td></tr><tr><td>_timestamp</td><td>▁▃▅▆█</td></tr><tr><td>_step</td><td>▁▃▅▆█</td></tr></table><br/>"
            ],
            "text/plain": [
              "<IPython.core.display.HTML object>"
            ]
          },
          "metadata": {
            "tags": []
          }
        },
        {
          "output_type": "display_data",
          "data": {
            "text/html": [
              "Synced 5 W&B file(s), 1 media file(s), 0 artifact file(s) and 1 other file(s)"
            ],
            "text/plain": [
              "<IPython.core.display.HTML object>"
            ]
          },
          "metadata": {
            "tags": []
          }
        },
        {
          "output_type": "display_data",
          "data": {
            "text/html": [
              "\n",
              "                    <br/>Synced <strong style=\"color:#cdcd00\">earthy-sweep-3</strong>: <a href=\"https://wandb.ai/pranayrajparisha/pretrained/runs/lmfol978\" target=\"_blank\">https://wandb.ai/pranayrajparisha/pretrained/runs/lmfol978</a><br/>\n",
              "                "
            ],
            "text/plain": [
              "<IPython.core.display.HTML object>"
            ]
          },
          "metadata": {
            "tags": []
          }
        },
        {
          "output_type": "stream",
          "text": [
            "\u001b[34m\u001b[1mwandb\u001b[0m: Agent Starting Run: g5i3fppd with config:\n",
            "\u001b[34m\u001b[1mwandb\u001b[0m: \tactivation: relu\n",
            "\u001b[34m\u001b[1mwandb\u001b[0m: \tactivation2: softmax\n",
            "\u001b[34m\u001b[1mwandb\u001b[0m: \tbase_model: ResNet50\n",
            "\u001b[34m\u001b[1mwandb\u001b[0m: \tdropout: 0.1\n",
            "\u001b[34m\u001b[1mwandb\u001b[0m: \tepoch: 10\n",
            "\u001b[34m\u001b[1mwandb\u001b[0m: \tinput_shape: [180, 180, 3]\n",
            "\u001b[34m\u001b[1mwandb\u001b[0m: \tl_rate: 5e-05\n",
            "\u001b[34m\u001b[1mwandb\u001b[0m: \tnum_dense_neuron: 1014\n",
            "\u001b[34m\u001b[1mwandb\u001b[0m: \tpooling: avg\n"
          ],
          "name": "stderr"
        },
        {
          "output_type": "display_data",
          "data": {
            "text/html": [
              "\n",
              "                Tracking run with wandb version 0.10.26<br/>\n",
              "                Syncing run <strong style=\"color:#cdcd00\">hearty-sweep-4</strong> to <a href=\"https://wandb.ai\" target=\"_blank\">Weights & Biases</a> <a href=\"https://docs.wandb.com/integrations/jupyter.html\" target=\"_blank\">(Documentation)</a>.<br/>\n",
              "                Project page: <a href=\"https://wandb.ai/pranayrajparisha/pretrained\" target=\"_blank\">https://wandb.ai/pranayrajparisha/pretrained</a><br/>\n",
              "                Sweep page: <a href=\"https://wandb.ai/pranayrajparisha/pretrained/sweeps/ei8cg921\" target=\"_blank\">https://wandb.ai/pranayrajparisha/pretrained/sweeps/ei8cg921</a><br/>\n",
              "Run page: <a href=\"https://wandb.ai/pranayrajparisha/pretrained/runs/g5i3fppd\" target=\"_blank\">https://wandb.ai/pranayrajparisha/pretrained/runs/g5i3fppd</a><br/>\n",
              "                Run data is saved locally in <code>/root/.keras/datasets/inaturalist_12K/valid/wandb/run-20210414_101002-g5i3fppd</code><br/><br/>\n",
              "            "
            ],
            "text/plain": [
              "<IPython.core.display.HTML object>"
            ]
          },
          "metadata": {
            "tags": []
          }
        },
        {
          "output_type": "stream",
          "text": [
            "Epoch 1/10\n",
            "282/282 [==============================] - 131s 445ms/step - loss: 2.2238 - accuracy: 0.4800 - val_loss: 1.1100 - val_accuracy: 0.6180\n",
            "Epoch 2/10\n",
            "282/282 [==============================] - 157s 549ms/step - loss: 0.4622 - accuracy: 0.8496 - val_loss: 1.2293 - val_accuracy: 0.6250\n",
            "Epoch 3/10\n",
            "282/282 [==============================] - 154s 540ms/step - loss: 0.1219 - accuracy: 0.9719 - val_loss: 1.2830 - val_accuracy: 0.6440\n",
            "Epoch 4/10\n",
            "282/282 [==============================] - 150s 525ms/step - loss: 0.0416 - accuracy: 0.9934 - val_loss: 1.4813 - val_accuracy: 0.6390\n",
            "Epoch 5/10\n",
            "282/282 [==============================] - 156s 549ms/step - loss: 0.0218 - accuracy: 0.9955 - val_loss: 1.5121 - val_accuracy: 0.6420\n",
            "Epoch 6/10\n",
            "282/282 [==============================] - 158s 554ms/step - loss: 0.0078 - accuracy: 1.0000 - val_loss: 1.4813 - val_accuracy: 0.6710\n",
            "Epoch 7/10\n",
            "282/282 [==============================] - 157s 551ms/step - loss: 0.0025 - accuracy: 1.0000 - val_loss: 1.5236 - val_accuracy: 0.6590\n",
            "Epoch 8/10\n",
            "282/282 [==============================] - 164s 576ms/step - loss: 0.0185 - accuracy: 0.9950 - val_loss: 1.5784 - val_accuracy: 0.6490\n",
            "Epoch 9/10\n",
            "282/282 [==============================] - 149s 524ms/step - loss: 0.0847 - accuracy: 0.9731 - val_loss: 2.1358 - val_accuracy: 0.6010\n",
            "Epoch 10/10\n",
            "282/282 [==============================] - 154s 542ms/step - loss: 0.2782 - accuracy: 0.9140 - val_loss: 1.8454 - val_accuracy: 0.6200\n"
          ],
          "name": "stdout"
        },
        {
          "output_type": "display_data",
          "data": {
            "text/html": [
              "<br/>Waiting for W&B process to finish, PID 922<br/>Program ended successfully."
            ],
            "text/plain": [
              "<IPython.core.display.HTML object>"
            ]
          },
          "metadata": {
            "tags": []
          }
        },
        {
          "output_type": "display_data",
          "data": {
            "application/vnd.jupyter.widget-view+json": {
              "model_id": "7e03d5894265470b818429a47a3f8e19",
              "version_major": 2,
              "version_minor": 0
            },
            "text/plain": [
              "VBox(children=(Label(value=' 10.69MB of 10.69MB uploaded (0.00MB deduped)\\r'), FloatProgress(value=1.0, max=1.…"
            ]
          },
          "metadata": {
            "tags": []
          }
        },
        {
          "output_type": "display_data",
          "data": {
            "text/html": [
              "Find user logs for this run at: <code>/root/.keras/datasets/inaturalist_12K/valid/wandb/run-20210414_101002-g5i3fppd/logs/debug.log</code>"
            ],
            "text/plain": [
              "<IPython.core.display.HTML object>"
            ]
          },
          "metadata": {
            "tags": []
          }
        },
        {
          "output_type": "display_data",
          "data": {
            "text/html": [
              "Find internal logs for this run at: <code>/root/.keras/datasets/inaturalist_12K/valid/wandb/run-20210414_101002-g5i3fppd/logs/debug-internal.log</code>"
            ],
            "text/plain": [
              "<IPython.core.display.HTML object>"
            ]
          },
          "metadata": {
            "tags": []
          }
        },
        {
          "output_type": "display_data",
          "data": {
            "text/html": [
              "<h3>Run summary:</h3><br/><style>\n",
              "    table.wandb td:nth-child(1) { padding: 0 10px; text-align: right }\n",
              "    </style><table class=\"wandb\">\n",
              "<tr><td>epoch</td><td>9</td></tr><tr><td>loss</td><td>0.23093</td></tr><tr><td>accuracy</td><td>0.92699</td></tr><tr><td>val_loss</td><td>1.84544</td></tr><tr><td>val_accuracy</td><td>0.62</td></tr><tr><td>_runtime</td><td>1542</td></tr><tr><td>_timestamp</td><td>1618396544</td></tr><tr><td>_step</td><td>9</td></tr><tr><td>best_val_loss</td><td>1.10997</td></tr><tr><td>best_epoch</td><td>0</td></tr></table>"
            ],
            "text/plain": [
              "<IPython.core.display.HTML object>"
            ]
          },
          "metadata": {
            "tags": []
          }
        },
        {
          "output_type": "display_data",
          "data": {
            "text/html": [
              "<h3>Run history:</h3><br/><style>\n",
              "    table.wandb td:nth-child(1) { padding: 0 10px; text-align: right }\n",
              "    </style><table class=\"wandb\">\n",
              "<tr><td>epoch</td><td>▁▂▃▃▄▅▆▆▇█</td></tr><tr><td>loss</td><td>█▃▁▁▁▁▁▁▂▂</td></tr><tr><td>accuracy</td><td>▁▆██████▇▇</td></tr><tr><td>val_loss</td><td>▁▂▂▄▄▄▄▄█▆</td></tr><tr><td>val_accuracy</td><td>▃▃▅▅▅█▇▆▁▃</td></tr><tr><td>_runtime</td><td>▁▂▃▃▄▅▆▆▇█</td></tr><tr><td>_timestamp</td><td>▁▂▃▃▄▅▆▆▇█</td></tr><tr><td>_step</td><td>▁▂▃▃▄▅▆▆▇█</td></tr></table><br/>"
            ],
            "text/plain": [
              "<IPython.core.display.HTML object>"
            ]
          },
          "metadata": {
            "tags": []
          }
        },
        {
          "output_type": "display_data",
          "data": {
            "text/html": [
              "Synced 5 W&B file(s), 1 media file(s), 0 artifact file(s) and 1 other file(s)"
            ],
            "text/plain": [
              "<IPython.core.display.HTML object>"
            ]
          },
          "metadata": {
            "tags": []
          }
        },
        {
          "output_type": "display_data",
          "data": {
            "text/html": [
              "\n",
              "                    <br/>Synced <strong style=\"color:#cdcd00\">hearty-sweep-4</strong>: <a href=\"https://wandb.ai/pranayrajparisha/pretrained/runs/g5i3fppd\" target=\"_blank\">https://wandb.ai/pranayrajparisha/pretrained/runs/g5i3fppd</a><br/>\n",
              "                "
            ],
            "text/plain": [
              "<IPython.core.display.HTML object>"
            ]
          },
          "metadata": {
            "tags": []
          }
        },
        {
          "output_type": "stream",
          "text": [
            "\u001b[34m\u001b[1mwandb\u001b[0m: Agent Starting Run: 39xqodl5 with config:\n",
            "\u001b[34m\u001b[1mwandb\u001b[0m: \tactivation: relu\n",
            "\u001b[34m\u001b[1mwandb\u001b[0m: \tactivation2: softmax\n",
            "\u001b[34m\u001b[1mwandb\u001b[0m: \tbase_model: ResNet101\n",
            "\u001b[34m\u001b[1mwandb\u001b[0m: \tdropout: 0.18\n",
            "\u001b[34m\u001b[1mwandb\u001b[0m: \tepoch: 10\n",
            "\u001b[34m\u001b[1mwandb\u001b[0m: \tinput_shape: [180, 180, 3]\n",
            "\u001b[34m\u001b[1mwandb\u001b[0m: \tl_rate: 0.0001\n",
            "\u001b[34m\u001b[1mwandb\u001b[0m: \tnum_dense_neuron: 1014\n",
            "\u001b[34m\u001b[1mwandb\u001b[0m: \tpooling: avg\n"
          ],
          "name": "stderr"
        },
        {
          "output_type": "display_data",
          "data": {
            "text/html": [
              "\n",
              "                Tracking run with wandb version 0.10.26<br/>\n",
              "                Syncing run <strong style=\"color:#cdcd00\">dark-sweep-5</strong> to <a href=\"https://wandb.ai\" target=\"_blank\">Weights & Biases</a> <a href=\"https://docs.wandb.com/integrations/jupyter.html\" target=\"_blank\">(Documentation)</a>.<br/>\n",
              "                Project page: <a href=\"https://wandb.ai/pranayrajparisha/pretrained\" target=\"_blank\">https://wandb.ai/pranayrajparisha/pretrained</a><br/>\n",
              "                Sweep page: <a href=\"https://wandb.ai/pranayrajparisha/pretrained/sweeps/ei8cg921\" target=\"_blank\">https://wandb.ai/pranayrajparisha/pretrained/sweeps/ei8cg921</a><br/>\n",
              "Run page: <a href=\"https://wandb.ai/pranayrajparisha/pretrained/runs/39xqodl5\" target=\"_blank\">https://wandb.ai/pranayrajparisha/pretrained/runs/39xqodl5</a><br/>\n",
              "                Run data is saved locally in <code>/root/.keras/datasets/inaturalist_12K/valid/wandb/run-20210414_103619-39xqodl5</code><br/><br/>\n",
              "            "
            ],
            "text/plain": [
              "<IPython.core.display.HTML object>"
            ]
          },
          "metadata": {
            "tags": []
          }
        },
        {
          "output_type": "stream",
          "text": [
            "Epoch 1/10\n",
            "282/282 [==============================] - 174s 584ms/step - loss: 2.8850 - accuracy: 0.4854 - val_loss: 1.1214 - val_accuracy: 0.6240\n",
            "Epoch 2/10\n",
            "282/282 [==============================] - 205s 721ms/step - loss: 0.5599 - accuracy: 0.8154 - val_loss: 1.2178 - val_accuracy: 0.6370\n",
            "Epoch 3/10\n",
            "282/282 [==============================] - 200s 703ms/step - loss: 0.1919 - accuracy: 0.9370 - val_loss: 1.4020 - val_accuracy: 0.6340\n",
            "Epoch 4/10\n",
            "282/282 [==============================] - 206s 726ms/step - loss: 0.0920 - accuracy: 0.9703 - val_loss: 1.5022 - val_accuracy: 0.6400\n",
            "Epoch 5/10\n",
            "282/282 [==============================] - 200s 702ms/step - loss: 0.0483 - accuracy: 0.9858 - val_loss: 1.6948 - val_accuracy: 0.6500\n",
            "Epoch 6/10\n",
            "282/282 [==============================] - 204s 716ms/step - loss: 0.0312 - accuracy: 0.9896 - val_loss: 1.6773 - val_accuracy: 0.6520\n",
            "Epoch 7/10\n",
            "282/282 [==============================] - 215s 758ms/step - loss: 0.0394 - accuracy: 0.9863 - val_loss: 1.9090 - val_accuracy: 0.6560\n",
            "Epoch 8/10\n",
            "282/282 [==============================] - 202s 710ms/step - loss: 0.0751 - accuracy: 0.9755 - val_loss: 1.9216 - val_accuracy: 0.6460\n",
            "Epoch 9/10\n",
            "282/282 [==============================] - 205s 722ms/step - loss: 0.0573 - accuracy: 0.9813 - val_loss: 2.3207 - val_accuracy: 0.6240\n",
            "Epoch 10/10\n",
            "282/282 [==============================] - 208s 731ms/step - loss: 0.1055 - accuracy: 0.9669 - val_loss: 2.6916 - val_accuracy: 0.6160\n"
          ],
          "name": "stdout"
        },
        {
          "output_type": "display_data",
          "data": {
            "text/html": [
              "<br/>Waiting for W&B process to finish, PID 977<br/>Program ended successfully."
            ],
            "text/plain": [
              "<IPython.core.display.HTML object>"
            ]
          },
          "metadata": {
            "tags": []
          }
        },
        {
          "output_type": "display_data",
          "data": {
            "application/vnd.jupyter.widget-view+json": {
              "model_id": "0706b136dadd4effb4c1d5a3d5a62c6f",
              "version_major": 2,
              "version_minor": 0
            },
            "text/plain": [
              "VBox(children=(Label(value=' 142.60MB of 142.60MB uploaded (0.00MB deduped)\\r'), FloatProgress(value=1.0, max=…"
            ]
          },
          "metadata": {
            "tags": []
          }
        },
        {
          "output_type": "display_data",
          "data": {
            "text/html": [
              "Find user logs for this run at: <code>/root/.keras/datasets/inaturalist_12K/valid/wandb/run-20210414_103619-39xqodl5/logs/debug.log</code>"
            ],
            "text/plain": [
              "<IPython.core.display.HTML object>"
            ]
          },
          "metadata": {
            "tags": []
          }
        },
        {
          "output_type": "display_data",
          "data": {
            "text/html": [
              "Find internal logs for this run at: <code>/root/.keras/datasets/inaturalist_12K/valid/wandb/run-20210414_103619-39xqodl5/logs/debug-internal.log</code>"
            ],
            "text/plain": [
              "<IPython.core.display.HTML object>"
            ]
          },
          "metadata": {
            "tags": []
          }
        },
        {
          "output_type": "display_data",
          "data": {
            "text/html": [
              "<h3>Run summary:</h3><br/><style>\n",
              "    table.wandb td:nth-child(1) { padding: 0 10px; text-align: right }\n",
              "    </style><table class=\"wandb\">\n",
              "<tr><td>epoch</td><td>9</td></tr><tr><td>loss</td><td>0.112</td></tr><tr><td>accuracy</td><td>0.96411</td></tr><tr><td>val_loss</td><td>2.69162</td></tr><tr><td>val_accuracy</td><td>0.616</td></tr><tr><td>_runtime</td><td>2037</td></tr><tr><td>_timestamp</td><td>1618398616</td></tr><tr><td>_step</td><td>9</td></tr><tr><td>best_val_loss</td><td>1.12144</td></tr><tr><td>best_epoch</td><td>0</td></tr></table>"
            ],
            "text/plain": [
              "<IPython.core.display.HTML object>"
            ]
          },
          "metadata": {
            "tags": []
          }
        },
        {
          "output_type": "display_data",
          "data": {
            "text/html": [
              "<h3>Run history:</h3><br/><style>\n",
              "    table.wandb td:nth-child(1) { padding: 0 10px; text-align: right }\n",
              "    </style><table class=\"wandb\">\n",
              "<tr><td>epoch</td><td>▁▂▃▃▄▅▆▆▇█</td></tr><tr><td>loss</td><td>█▃▂▁▁▁▁▁▁▁</td></tr><tr><td>accuracy</td><td>▁▆▇███████</td></tr><tr><td>val_loss</td><td>▁▁▂▃▄▃▅▅▆█</td></tr><tr><td>val_accuracy</td><td>▂▅▄▅▇▇█▆▂▁</td></tr><tr><td>_runtime</td><td>▁▂▃▃▄▅▆▆▇█</td></tr><tr><td>_timestamp</td><td>▁▂▃▃▄▅▆▆▇█</td></tr><tr><td>_step</td><td>▁▂▃▃▄▅▆▆▇█</td></tr></table><br/>"
            ],
            "text/plain": [
              "<IPython.core.display.HTML object>"
            ]
          },
          "metadata": {
            "tags": []
          }
        },
        {
          "output_type": "display_data",
          "data": {
            "text/html": [
              "Synced 5 W&B file(s), 1 media file(s), 0 artifact file(s) and 1 other file(s)"
            ],
            "text/plain": [
              "<IPython.core.display.HTML object>"
            ]
          },
          "metadata": {
            "tags": []
          }
        },
        {
          "output_type": "display_data",
          "data": {
            "text/html": [
              "\n",
              "                    <br/>Synced <strong style=\"color:#cdcd00\">dark-sweep-5</strong>: <a href=\"https://wandb.ai/pranayrajparisha/pretrained/runs/39xqodl5\" target=\"_blank\">https://wandb.ai/pranayrajparisha/pretrained/runs/39xqodl5</a><br/>\n",
              "                "
            ],
            "text/plain": [
              "<IPython.core.display.HTML object>"
            ]
          },
          "metadata": {
            "tags": []
          }
        },
        {
          "output_type": "stream",
          "text": [
            "\u001b[34m\u001b[1mwandb\u001b[0m: Agent Starting Run: f2tc15io with config:\n",
            "\u001b[34m\u001b[1mwandb\u001b[0m: \tactivation: relu\n",
            "\u001b[34m\u001b[1mwandb\u001b[0m: \tactivation2: softmax\n",
            "\u001b[34m\u001b[1mwandb\u001b[0m: \tbase_model: ResNet101\n",
            "\u001b[34m\u001b[1mwandb\u001b[0m: \tdropout: 0.15\n",
            "\u001b[34m\u001b[1mwandb\u001b[0m: \tepoch: 10\n",
            "\u001b[34m\u001b[1mwandb\u001b[0m: \tinput_shape: [180, 180, 3]\n",
            "\u001b[34m\u001b[1mwandb\u001b[0m: \tl_rate: 0.0001\n",
            "\u001b[34m\u001b[1mwandb\u001b[0m: \tnum_dense_neuron: 1280\n",
            "\u001b[34m\u001b[1mwandb\u001b[0m: \tpooling: max\n"
          ],
          "name": "stderr"
        },
        {
          "output_type": "display_data",
          "data": {
            "text/html": [
              "\n",
              "                Tracking run with wandb version 0.10.26<br/>\n",
              "                Syncing run <strong style=\"color:#cdcd00\">honest-sweep-6</strong> to <a href=\"https://wandb.ai\" target=\"_blank\">Weights & Biases</a> <a href=\"https://docs.wandb.com/integrations/jupyter.html\" target=\"_blank\">(Documentation)</a>.<br/>\n",
              "                Project page: <a href=\"https://wandb.ai/pranayrajparisha/pretrained\" target=\"_blank\">https://wandb.ai/pranayrajparisha/pretrained</a><br/>\n",
              "                Sweep page: <a href=\"https://wandb.ai/pranayrajparisha/pretrained/sweeps/ei8cg921\" target=\"_blank\">https://wandb.ai/pranayrajparisha/pretrained/sweeps/ei8cg921</a><br/>\n",
              "Run page: <a href=\"https://wandb.ai/pranayrajparisha/pretrained/runs/f2tc15io\" target=\"_blank\">https://wandb.ai/pranayrajparisha/pretrained/runs/f2tc15io</a><br/>\n",
              "                Run data is saved locally in <code>/root/.keras/datasets/inaturalist_12K/valid/wandb/run-20210414_111051-f2tc15io</code><br/><br/>\n",
              "            "
            ],
            "text/plain": [
              "<IPython.core.display.HTML object>"
            ]
          },
          "metadata": {
            "tags": []
          }
        },
        {
          "output_type": "stream",
          "text": [
            "Epoch 1/10\n",
            "282/282 [==============================] - 226s 769ms/step - loss: 3.3395 - accuracy: 0.4712 - val_loss: 1.0974 - val_accuracy: 0.6230\n",
            "Epoch 2/10\n",
            "282/282 [==============================] - 216s 758ms/step - loss: 0.5303 - accuracy: 0.8212 - val_loss: 1.1533 - val_accuracy: 0.6400\n",
            "Epoch 3/10\n",
            "282/282 [==============================] - 216s 759ms/step - loss: 0.1904 - accuracy: 0.9369 - val_loss: 1.4047 - val_accuracy: 0.6350\n",
            "Epoch 4/10\n",
            "282/282 [==============================] - 221s 780ms/step - loss: 0.0759 - accuracy: 0.9803 - val_loss: 1.5581 - val_accuracy: 0.6400\n",
            "Epoch 5/10\n",
            "282/282 [==============================] - 221s 777ms/step - loss: 0.0398 - accuracy: 0.9899 - val_loss: 1.6140 - val_accuracy: 0.6680\n",
            "Epoch 6/10\n",
            "282/282 [==============================] - 215s 756ms/step - loss: 0.0238 - accuracy: 0.9946 - val_loss: 1.7142 - val_accuracy: 0.6500\n",
            "Epoch 7/10\n",
            "282/282 [==============================] - 236s 830ms/step - loss: 0.0209 - accuracy: 0.9955 - val_loss: 1.7558 - val_accuracy: 0.6460\n",
            "Epoch 8/10\n",
            "282/282 [==============================] - 212s 747ms/step - loss: 0.0248 - accuracy: 0.9932 - val_loss: 1.8288 - val_accuracy: 0.6520\n",
            "Epoch 9/10\n",
            "282/282 [==============================] - 201s 706ms/step - loss: 0.0674 - accuracy: 0.9803 - val_loss: 2.2351 - val_accuracy: 0.6230\n",
            "Epoch 10/10\n",
            "282/282 [==============================] - 204s 716ms/step - loss: 0.1427 - accuracy: 0.9535 - val_loss: 2.2953 - val_accuracy: 0.6320\n"
          ],
          "name": "stdout"
        },
        {
          "output_type": "display_data",
          "data": {
            "text/html": [
              "<br/>Waiting for W&B process to finish, PID 1048<br/>Program ended successfully."
            ],
            "text/plain": [
              "<IPython.core.display.HTML object>"
            ]
          },
          "metadata": {
            "tags": []
          }
        },
        {
          "output_type": "display_data",
          "data": {
            "application/vnd.jupyter.widget-view+json": {
              "model_id": "6600073f270d468883f74f4f03422d47",
              "version_major": 2,
              "version_minor": 0
            },
            "text/plain": [
              "VBox(children=(Label(value=' 0.07MB of 0.07MB uploaded (0.00MB deduped)\\r'), FloatProgress(value=1.0, max=1.0)…"
            ]
          },
          "metadata": {
            "tags": []
          }
        },
        {
          "output_type": "display_data",
          "data": {
            "text/html": [
              "Find user logs for this run at: <code>/root/.keras/datasets/inaturalist_12K/valid/wandb/run-20210414_111051-f2tc15io/logs/debug.log</code>"
            ],
            "text/plain": [
              "<IPython.core.display.HTML object>"
            ]
          },
          "metadata": {
            "tags": []
          }
        },
        {
          "output_type": "display_data",
          "data": {
            "text/html": [
              "Find internal logs for this run at: <code>/root/.keras/datasets/inaturalist_12K/valid/wandb/run-20210414_111051-f2tc15io/logs/debug-internal.log</code>"
            ],
            "text/plain": [
              "<IPython.core.display.HTML object>"
            ]
          },
          "metadata": {
            "tags": []
          }
        },
        {
          "output_type": "display_data",
          "data": {
            "text/html": [
              "<h3>Run summary:</h3><br/><style>\n",
              "    table.wandb td:nth-child(1) { padding: 0 10px; text-align: right }\n",
              "    </style><table class=\"wandb\">\n",
              "<tr><td>epoch</td><td>9</td></tr><tr><td>loss</td><td>0.13569</td></tr><tr><td>accuracy</td><td>0.95544</td></tr><tr><td>val_loss</td><td>2.29535</td></tr><tr><td>val_accuracy</td><td>0.632</td></tr><tr><td>_runtime</td><td>2180</td></tr><tr><td>_timestamp</td><td>1618400831</td></tr><tr><td>_step</td><td>9</td></tr><tr><td>best_val_loss</td><td>1.0974</td></tr><tr><td>best_epoch</td><td>0</td></tr></table>"
            ],
            "text/plain": [
              "<IPython.core.display.HTML object>"
            ]
          },
          "metadata": {
            "tags": []
          }
        },
        {
          "output_type": "display_data",
          "data": {
            "text/html": [
              "<h3>Run history:</h3><br/><style>\n",
              "    table.wandb td:nth-child(1) { padding: 0 10px; text-align: right }\n",
              "    </style><table class=\"wandb\">\n",
              "<tr><td>epoch</td><td>▁▂▃▃▄▅▆▆▇█</td></tr><tr><td>loss</td><td>█▃▂▁▁▁▁▁▁▁</td></tr><tr><td>accuracy</td><td>▁▆▇██████▇</td></tr><tr><td>val_loss</td><td>▁▁▃▄▄▅▅▅██</td></tr><tr><td>val_accuracy</td><td>▁▄▃▄█▅▅▆▁▂</td></tr><tr><td>_runtime</td><td>▁▂▃▃▄▅▆▇▇█</td></tr><tr><td>_timestamp</td><td>▁▂▃▃▄▅▆▇▇█</td></tr><tr><td>_step</td><td>▁▂▃▃▄▅▆▆▇█</td></tr></table><br/>"
            ],
            "text/plain": [
              "<IPython.core.display.HTML object>"
            ]
          },
          "metadata": {
            "tags": []
          }
        },
        {
          "output_type": "display_data",
          "data": {
            "text/html": [
              "Synced 5 W&B file(s), 1 media file(s), 0 artifact file(s) and 1 other file(s)"
            ],
            "text/plain": [
              "<IPython.core.display.HTML object>"
            ]
          },
          "metadata": {
            "tags": []
          }
        },
        {
          "output_type": "display_data",
          "data": {
            "text/html": [
              "\n",
              "                    <br/>Synced <strong style=\"color:#cdcd00\">honest-sweep-6</strong>: <a href=\"https://wandb.ai/pranayrajparisha/pretrained/runs/f2tc15io\" target=\"_blank\">https://wandb.ai/pranayrajparisha/pretrained/runs/f2tc15io</a><br/>\n",
              "                "
            ],
            "text/plain": [
              "<IPython.core.display.HTML object>"
            ]
          },
          "metadata": {
            "tags": []
          }
        },
        {
          "output_type": "stream",
          "text": [
            "\u001b[34m\u001b[1mwandb\u001b[0m: Agent Starting Run: fomipfu6 with config:\n",
            "\u001b[34m\u001b[1mwandb\u001b[0m: \tactivation: relu\n",
            "\u001b[34m\u001b[1mwandb\u001b[0m: \tactivation2: softmax\n",
            "\u001b[34m\u001b[1mwandb\u001b[0m: \tbase_model: ResNet101\n",
            "\u001b[34m\u001b[1mwandb\u001b[0m: \tdropout: 0.1\n",
            "\u001b[34m\u001b[1mwandb\u001b[0m: \tepoch: 5\n",
            "\u001b[34m\u001b[1mwandb\u001b[0m: \tinput_shape: [180, 180, 3]\n",
            "\u001b[34m\u001b[1mwandb\u001b[0m: \tl_rate: 0.0001\n",
            "\u001b[34m\u001b[1mwandb\u001b[0m: \tnum_dense_neuron: 256\n",
            "\u001b[34m\u001b[1mwandb\u001b[0m: \tpooling: avg\n"
          ],
          "name": "stderr"
        },
        {
          "output_type": "display_data",
          "data": {
            "text/html": [
              "\n",
              "                Tracking run with wandb version 0.10.26<br/>\n",
              "                Syncing run <strong style=\"color:#cdcd00\">spring-sweep-7</strong> to <a href=\"https://wandb.ai\" target=\"_blank\">Weights & Biases</a> <a href=\"https://docs.wandb.com/integrations/jupyter.html\" target=\"_blank\">(Documentation)</a>.<br/>\n",
              "                Project page: <a href=\"https://wandb.ai/pranayrajparisha/pretrained\" target=\"_blank\">https://wandb.ai/pranayrajparisha/pretrained</a><br/>\n",
              "                Sweep page: <a href=\"https://wandb.ai/pranayrajparisha/pretrained/sweeps/ei8cg921\" target=\"_blank\">https://wandb.ai/pranayrajparisha/pretrained/sweeps/ei8cg921</a><br/>\n",
              "Run page: <a href=\"https://wandb.ai/pranayrajparisha/pretrained/runs/fomipfu6\" target=\"_blank\">https://wandb.ai/pranayrajparisha/pretrained/runs/fomipfu6</a><br/>\n",
              "                Run data is saved locally in <code>/root/.keras/datasets/inaturalist_12K/valid/wandb/run-20210414_114807-fomipfu6</code><br/><br/>\n",
              "            "
            ],
            "text/plain": [
              "<IPython.core.display.HTML object>"
            ]
          },
          "metadata": {
            "tags": []
          }
        },
        {
          "output_type": "stream",
          "text": [
            "Epoch 1/5\n",
            "282/282 [==============================] - 187s 628ms/step - loss: 1.9377 - accuracy: 0.4796 - val_loss: 1.1624 - val_accuracy: 0.6030\n",
            "Epoch 2/5\n",
            "282/282 [==============================] - 182s 639ms/step - loss: 0.6075 - accuracy: 0.7912 - val_loss: 1.1970 - val_accuracy: 0.6340\n",
            "Epoch 3/5\n",
            "282/282 [==============================] - 182s 639ms/step - loss: 0.2698 - accuracy: 0.9134 - val_loss: 1.2849 - val_accuracy: 0.6430\n",
            "Epoch 4/5\n",
            "282/282 [==============================] - 183s 643ms/step - loss: 0.1141 - accuracy: 0.9657 - val_loss: 1.3970 - val_accuracy: 0.6420\n",
            "Epoch 5/5\n",
            "282/282 [==============================] - 179s 630ms/step - loss: 0.0404 - accuracy: 0.9948 - val_loss: 1.4233 - val_accuracy: 0.6530\n"
          ],
          "name": "stdout"
        },
        {
          "output_type": "display_data",
          "data": {
            "text/html": [
              "<br/>Waiting for W&B process to finish, PID 1107<br/>Program ended successfully."
            ],
            "text/plain": [
              "<IPython.core.display.HTML object>"
            ]
          },
          "metadata": {
            "tags": []
          }
        },
        {
          "output_type": "display_data",
          "data": {
            "application/vnd.jupyter.widget-view+json": {
              "model_id": "befdd1ee7d0d4896b8306ab1bf339a0d",
              "version_major": 2,
              "version_minor": 0
            },
            "text/plain": [
              "VBox(children=(Label(value=' 0.29MB of 0.29MB uploaded (0.00MB deduped)\\r'), FloatProgress(value=1.0, max=1.0)…"
            ]
          },
          "metadata": {
            "tags": []
          }
        },
        {
          "output_type": "display_data",
          "data": {
            "text/html": [
              "Find user logs for this run at: <code>/root/.keras/datasets/inaturalist_12K/valid/wandb/run-20210414_114807-fomipfu6/logs/debug.log</code>"
            ],
            "text/plain": [
              "<IPython.core.display.HTML object>"
            ]
          },
          "metadata": {
            "tags": []
          }
        },
        {
          "output_type": "display_data",
          "data": {
            "text/html": [
              "Find internal logs for this run at: <code>/root/.keras/datasets/inaturalist_12K/valid/wandb/run-20210414_114807-fomipfu6/logs/debug-internal.log</code>"
            ],
            "text/plain": [
              "<IPython.core.display.HTML object>"
            ]
          },
          "metadata": {
            "tags": []
          }
        },
        {
          "output_type": "display_data",
          "data": {
            "text/html": [
              "<h3>Run summary:</h3><br/><style>\n",
              "    table.wandb td:nth-child(1) { padding: 0 10px; text-align: right }\n",
              "    </style><table class=\"wandb\">\n",
              "<tr><td>epoch</td><td>4</td></tr><tr><td>loss</td><td>0.03804</td></tr><tr><td>accuracy</td><td>0.99511</td></tr><tr><td>val_loss</td><td>1.42329</td></tr><tr><td>val_accuracy</td><td>0.653</td></tr><tr><td>_runtime</td><td>922</td></tr><tr><td>_timestamp</td><td>1618401809</td></tr><tr><td>_step</td><td>4</td></tr><tr><td>best_val_loss</td><td>1.16237</td></tr><tr><td>best_epoch</td><td>0</td></tr></table>"
            ],
            "text/plain": [
              "<IPython.core.display.HTML object>"
            ]
          },
          "metadata": {
            "tags": []
          }
        },
        {
          "output_type": "display_data",
          "data": {
            "text/html": [
              "<h3>Run history:</h3><br/><style>\n",
              "    table.wandb td:nth-child(1) { padding: 0 10px; text-align: right }\n",
              "    </style><table class=\"wandb\">\n",
              "<tr><td>epoch</td><td>▁▃▅▆█</td></tr><tr><td>loss</td><td>█▄▂▁▁</td></tr><tr><td>accuracy</td><td>▁▅▇██</td></tr><tr><td>val_loss</td><td>▁▂▄▇█</td></tr><tr><td>val_accuracy</td><td>▁▅▇▆█</td></tr><tr><td>_runtime</td><td>▁▃▅▆█</td></tr><tr><td>_timestamp</td><td>▁▃▅▆█</td></tr><tr><td>_step</td><td>▁▃▅▆█</td></tr></table><br/>"
            ],
            "text/plain": [
              "<IPython.core.display.HTML object>"
            ]
          },
          "metadata": {
            "tags": []
          }
        },
        {
          "output_type": "display_data",
          "data": {
            "text/html": [
              "Synced 5 W&B file(s), 1 media file(s), 0 artifact file(s) and 1 other file(s)"
            ],
            "text/plain": [
              "<IPython.core.display.HTML object>"
            ]
          },
          "metadata": {
            "tags": []
          }
        },
        {
          "output_type": "display_data",
          "data": {
            "text/html": [
              "\n",
              "                    <br/>Synced <strong style=\"color:#cdcd00\">spring-sweep-7</strong>: <a href=\"https://wandb.ai/pranayrajparisha/pretrained/runs/fomipfu6\" target=\"_blank\">https://wandb.ai/pranayrajparisha/pretrained/runs/fomipfu6</a><br/>\n",
              "                "
            ],
            "text/plain": [
              "<IPython.core.display.HTML object>"
            ]
          },
          "metadata": {
            "tags": []
          }
        },
        {
          "output_type": "stream",
          "text": [
            "\u001b[34m\u001b[1mwandb\u001b[0m: Agent Starting Run: c2cgd0c6 with config:\n",
            "\u001b[34m\u001b[1mwandb\u001b[0m: \tactivation: relu\n",
            "\u001b[34m\u001b[1mwandb\u001b[0m: \tactivation2: softmax\n",
            "\u001b[34m\u001b[1mwandb\u001b[0m: \tbase_model: ResNet50\n",
            "\u001b[34m\u001b[1mwandb\u001b[0m: \tdropout: 0.15\n",
            "\u001b[34m\u001b[1mwandb\u001b[0m: \tepoch: 5\n",
            "\u001b[34m\u001b[1mwandb\u001b[0m: \tinput_shape: [180, 180, 3]\n",
            "\u001b[34m\u001b[1mwandb\u001b[0m: \tl_rate: 0.0001\n",
            "\u001b[34m\u001b[1mwandb\u001b[0m: \tnum_dense_neuron: 512\n",
            "\u001b[34m\u001b[1mwandb\u001b[0m: \tpooling: avg\n"
          ],
          "name": "stderr"
        },
        {
          "output_type": "display_data",
          "data": {
            "text/html": [
              "\n",
              "                Tracking run with wandb version 0.10.26<br/>\n",
              "                Syncing run <strong style=\"color:#cdcd00\">lilac-sweep-8</strong> to <a href=\"https://wandb.ai\" target=\"_blank\">Weights & Biases</a> <a href=\"https://docs.wandb.com/integrations/jupyter.html\" target=\"_blank\">(Documentation)</a>.<br/>\n",
              "                Project page: <a href=\"https://wandb.ai/pranayrajparisha/pretrained\" target=\"_blank\">https://wandb.ai/pranayrajparisha/pretrained</a><br/>\n",
              "                Sweep page: <a href=\"https://wandb.ai/pranayrajparisha/pretrained/sweeps/ei8cg921\" target=\"_blank\">https://wandb.ai/pranayrajparisha/pretrained/sweeps/ei8cg921</a><br/>\n",
              "Run page: <a href=\"https://wandb.ai/pranayrajparisha/pretrained/runs/c2cgd0c6\" target=\"_blank\">https://wandb.ai/pranayrajparisha/pretrained/runs/c2cgd0c6</a><br/>\n",
              "                Run data is saved locally in <code>/root/.keras/datasets/inaturalist_12K/valid/wandb/run-20210414_120348-c2cgd0c6</code><br/><br/>\n",
              "            "
            ],
            "text/plain": [
              "<IPython.core.display.HTML object>"
            ]
          },
          "metadata": {
            "tags": []
          }
        },
        {
          "output_type": "stream",
          "text": [
            "Epoch 1/5\n",
            "282/282 [==============================] - 127s 428ms/step - loss: 2.5254 - accuracy: 0.4496 - val_loss: 1.1123 - val_accuracy: 0.6080\n",
            "Epoch 2/5\n",
            "282/282 [==============================] - 120s 420ms/step - loss: 0.6487 - accuracy: 0.7873 - val_loss: 1.2229 - val_accuracy: 0.5980\n",
            "Epoch 3/5\n",
            "282/282 [==============================] - 120s 420ms/step - loss: 0.2629 - accuracy: 0.9184 - val_loss: 1.1922 - val_accuracy: 0.6480\n",
            "Epoch 4/5\n",
            "282/282 [==============================] - 119s 417ms/step - loss: 0.1084 - accuracy: 0.9704 - val_loss: 1.3933 - val_accuracy: 0.6330\n",
            "Epoch 5/5\n",
            "282/282 [==============================] - 120s 420ms/step - loss: 0.0459 - accuracy: 0.9897 - val_loss: 1.4598 - val_accuracy: 0.6430\n"
          ],
          "name": "stdout"
        },
        {
          "output_type": "display_data",
          "data": {
            "text/html": [
              "<br/>Waiting for W&B process to finish, PID 1152<br/>Program ended successfully."
            ],
            "text/plain": [
              "<IPython.core.display.HTML object>"
            ]
          },
          "metadata": {
            "tags": []
          }
        },
        {
          "output_type": "display_data",
          "data": {
            "application/vnd.jupyter.widget-view+json": {
              "model_id": "4490258b8b324d61a40d084015db3f44",
              "version_minor": 0,
              "version_major": 2
            },
            "text/plain": [
              "VBox(children=(Label(value=' 5.87MB of 5.87MB uploaded (0.00MB deduped)\\r'), FloatProgress(value=1.0, max=1.0)…"
            ]
          },
          "metadata": {
            "tags": []
          }
        },
        {
          "output_type": "display_data",
          "data": {
            "text/html": [
              "Find user logs for this run at: <code>/root/.keras/datasets/inaturalist_12K/valid/wandb/run-20210414_120348-c2cgd0c6/logs/debug.log</code>"
            ],
            "text/plain": [
              "<IPython.core.display.HTML object>"
            ]
          },
          "metadata": {
            "tags": []
          }
        },
        {
          "output_type": "display_data",
          "data": {
            "text/html": [
              "Find internal logs for this run at: <code>/root/.keras/datasets/inaturalist_12K/valid/wandb/run-20210414_120348-c2cgd0c6/logs/debug-internal.log</code>"
            ],
            "text/plain": [
              "<IPython.core.display.HTML object>"
            ]
          },
          "metadata": {
            "tags": []
          }
        },
        {
          "output_type": "display_data",
          "data": {
            "text/html": [
              "<h3>Run summary:</h3><br/><style>\n",
              "    table.wandb td:nth-child(1) { padding: 0 10px; text-align: right }\n",
              "    </style><table class=\"wandb\">\n",
              "<tr><td>epoch</td><td>4</td></tr><tr><td>loss</td><td>0.04031</td></tr><tr><td>accuracy</td><td>0.99311</td></tr><tr><td>val_loss</td><td>1.45979</td></tr><tr><td>val_accuracy</td><td>0.643</td></tr><tr><td>_runtime</td><td>616</td></tr><tr><td>_timestamp</td><td>1618402444</td></tr><tr><td>_step</td><td>4</td></tr><tr><td>best_val_loss</td><td>1.11227</td></tr><tr><td>best_epoch</td><td>0</td></tr></table>"
            ],
            "text/plain": [
              "<IPython.core.display.HTML object>"
            ]
          },
          "metadata": {
            "tags": []
          }
        },
        {
          "output_type": "display_data",
          "data": {
            "text/html": [
              "<h3>Run history:</h3><br/><style>\n",
              "    table.wandb td:nth-child(1) { padding: 0 10px; text-align: right }\n",
              "    </style><table class=\"wandb\">\n",
              "<tr><td>epoch</td><td>▁▃▅▆█</td></tr><tr><td>loss</td><td>█▄▂▁▁</td></tr><tr><td>accuracy</td><td>▁▅▇██</td></tr><tr><td>val_loss</td><td>▁▃▃▇█</td></tr><tr><td>val_accuracy</td><td>▂▁█▆▇</td></tr><tr><td>_runtime</td><td>▁▃▅▆█</td></tr><tr><td>_timestamp</td><td>▁▃▅▆█</td></tr><tr><td>_step</td><td>▁▃▅▆█</td></tr></table><br/>"
            ],
            "text/plain": [
              "<IPython.core.display.HTML object>"
            ]
          },
          "metadata": {
            "tags": []
          }
        },
        {
          "output_type": "display_data",
          "data": {
            "text/html": [
              "Synced 5 W&B file(s), 1 media file(s), 0 artifact file(s) and 1 other file(s)"
            ],
            "text/plain": [
              "<IPython.core.display.HTML object>"
            ]
          },
          "metadata": {
            "tags": []
          }
        },
        {
          "output_type": "display_data",
          "data": {
            "text/html": [
              "\n",
              "                    <br/>Synced <strong style=\"color:#cdcd00\">lilac-sweep-8</strong>: <a href=\"https://wandb.ai/pranayrajparisha/pretrained/runs/c2cgd0c6\" target=\"_blank\">https://wandb.ai/pranayrajparisha/pretrained/runs/c2cgd0c6</a><br/>\n",
              "                "
            ],
            "text/plain": [
              "<IPython.core.display.HTML object>"
            ]
          },
          "metadata": {
            "tags": []
          }
        },
        {
          "output_type": "stream",
          "text": [
            "\u001b[34m\u001b[1mwandb\u001b[0m: Agent Starting Run: 5jeuuz2e with config:\n",
            "\u001b[34m\u001b[1mwandb\u001b[0m: \tactivation: relu\n",
            "\u001b[34m\u001b[1mwandb\u001b[0m: \tactivation2: softmax\n",
            "\u001b[34m\u001b[1mwandb\u001b[0m: \tbase_model: ResNet101\n",
            "\u001b[34m\u001b[1mwandb\u001b[0m: \tdropout: 0.1\n",
            "\u001b[34m\u001b[1mwandb\u001b[0m: \tepoch: 10\n",
            "\u001b[34m\u001b[1mwandb\u001b[0m: \tinput_shape: [180, 180, 3]\n",
            "\u001b[34m\u001b[1mwandb\u001b[0m: \tl_rate: 0.0001\n",
            "\u001b[34m\u001b[1mwandb\u001b[0m: \tnum_dense_neuron: 512\n",
            "\u001b[34m\u001b[1mwandb\u001b[0m: \tpooling: no Pooling\n"
          ],
          "name": "stderr"
        },
        {
          "output_type": "display_data",
          "data": {
            "text/html": [
              "\n",
              "                Tracking run with wandb version 0.10.26<br/>\n",
              "                Syncing run <strong style=\"color:#cdcd00\">autumn-sweep-9</strong> to <a href=\"https://wandb.ai\" target=\"_blank\">Weights & Biases</a> <a href=\"https://docs.wandb.com/integrations/jupyter.html\" target=\"_blank\">(Documentation)</a>.<br/>\n",
              "                Project page: <a href=\"https://wandb.ai/pranayrajparisha/pretrained\" target=\"_blank\">https://wandb.ai/pranayrajparisha/pretrained</a><br/>\n",
              "                Sweep page: <a href=\"https://wandb.ai/pranayrajparisha/pretrained/sweeps/ei8cg921\" target=\"_blank\">https://wandb.ai/pranayrajparisha/pretrained/sweeps/ei8cg921</a><br/>\n",
              "Run page: <a href=\"https://wandb.ai/pranayrajparisha/pretrained/runs/5jeuuz2e\" target=\"_blank\">https://wandb.ai/pranayrajparisha/pretrained/runs/5jeuuz2e</a><br/>\n",
              "                Run data is saved locally in <code>/root/.keras/datasets/inaturalist_12K/valid/wandb/run-20210414_121426-5jeuuz2e</code><br/><br/>\n",
              "            "
            ],
            "text/plain": [
              "<IPython.core.display.HTML object>"
            ]
          },
          "metadata": {
            "tags": []
          }
        },
        {
          "output_type": "stream",
          "text": [
            "Epoch 1/10\n",
            "282/282 [==============================] - 170s 572ms/step - loss: 2.4863 - accuracy: 0.4818 - val_loss: 1.1102 - val_accuracy: 0.6260\n",
            "Epoch 2/10\n",
            "282/282 [==============================] - 159s 557ms/step - loss: 0.5547 - accuracy: 0.8157 - val_loss: 1.2063 - val_accuracy: 0.6190\n",
            "Epoch 3/10\n",
            "282/282 [==============================] - 158s 556ms/step - loss: 0.2007 - accuracy: 0.9424 - val_loss: 1.2757 - val_accuracy: 0.6350\n",
            "Epoch 4/10\n",
            "282/282 [==============================] - 159s 558ms/step - loss: 0.0710 - accuracy: 0.9852 - val_loss: 1.4032 - val_accuracy: 0.6470\n",
            "Epoch 5/10\n",
            "282/282 [==============================] - 159s 557ms/step - loss: 0.0318 - accuracy: 0.9946 - val_loss: 1.4642 - val_accuracy: 0.6440\n",
            "Epoch 6/10\n",
            "282/282 [==============================] - 162s 569ms/step - loss: 0.0150 - accuracy: 0.9988 - val_loss: 1.5226 - val_accuracy: 0.6620\n",
            "Epoch 7/10\n",
            "282/282 [==============================] - 162s 569ms/step - loss: 0.0076 - accuracy: 0.9992 - val_loss: 1.6302 - val_accuracy: 0.6470\n",
            "Epoch 8/10\n",
            "282/282 [==============================] - 159s 557ms/step - loss: 0.0065 - accuracy: 0.9992 - val_loss: 1.6921 - val_accuracy: 0.6420\n",
            "Epoch 9/10\n",
            "282/282 [==============================] - 160s 562ms/step - loss: 0.0793 - accuracy: 0.9764 - val_loss: 1.9977 - val_accuracy: 0.6250\n",
            "Epoch 10/10\n",
            "282/282 [==============================] - 159s 557ms/step - loss: 0.1718 - accuracy: 0.9432 - val_loss: 1.9469 - val_accuracy: 0.6370\n"
          ],
          "name": "stdout"
        },
        {
          "output_type": "display_data",
          "data": {
            "text/html": [
              "<br/>Waiting for W&B process to finish, PID 1197<br/>Program ended successfully."
            ],
            "text/plain": [
              "<IPython.core.display.HTML object>"
            ]
          },
          "metadata": {
            "tags": []
          }
        },
        {
          "output_type": "display_data",
          "data": {
            "application/vnd.jupyter.widget-view+json": {
              "model_id": "4fab8f0e0cda4db082fb1187cfc92d54",
              "version_minor": 0,
              "version_major": 2
            },
            "text/plain": [
              "VBox(children=(Label(value=' 62.40MB of 62.40MB uploaded (0.00MB deduped)\\r'), FloatProgress(value=1.0, max=1.…"
            ]
          },
          "metadata": {
            "tags": []
          }
        },
        {
          "output_type": "display_data",
          "data": {
            "text/html": [
              "Find user logs for this run at: <code>/root/.keras/datasets/inaturalist_12K/valid/wandb/run-20210414_121426-5jeuuz2e/logs/debug.log</code>"
            ],
            "text/plain": [
              "<IPython.core.display.HTML object>"
            ]
          },
          "metadata": {
            "tags": []
          }
        },
        {
          "output_type": "display_data",
          "data": {
            "text/html": [
              "Find internal logs for this run at: <code>/root/.keras/datasets/inaturalist_12K/valid/wandb/run-20210414_121426-5jeuuz2e/logs/debug-internal.log</code>"
            ],
            "text/plain": [
              "<IPython.core.display.HTML object>"
            ]
          },
          "metadata": {
            "tags": []
          }
        },
        {
          "output_type": "display_data",
          "data": {
            "text/html": [
              "<h3>Run summary:</h3><br/><style>\n",
              "    table.wandb td:nth-child(1) { padding: 0 10px; text-align: right }\n",
              "    </style><table class=\"wandb\">\n",
              "<tr><td>epoch</td><td>9</td></tr><tr><td>loss</td><td>0.15184</td></tr><tr><td>accuracy</td><td>0.94955</td></tr><tr><td>val_loss</td><td>1.94694</td></tr><tr><td>val_accuracy</td><td>0.637</td></tr><tr><td>_runtime</td><td>1617</td></tr><tr><td>_timestamp</td><td>1618404083</td></tr><tr><td>_step</td><td>9</td></tr><tr><td>best_val_loss</td><td>1.11023</td></tr><tr><td>best_epoch</td><td>0</td></tr></table>"
            ],
            "text/plain": [
              "<IPython.core.display.HTML object>"
            ]
          },
          "metadata": {
            "tags": []
          }
        },
        {
          "output_type": "display_data",
          "data": {
            "text/html": [
              "<h3>Run history:</h3><br/><style>\n",
              "    table.wandb td:nth-child(1) { padding: 0 10px; text-align: right }\n",
              "    </style><table class=\"wandb\">\n",
              "<tr><td>epoch</td><td>▁▂▃▃▄▅▆▆▇█</td></tr><tr><td>loss</td><td>█▃▂▁▁▁▁▁▁▂</td></tr><tr><td>accuracy</td><td>▁▅▇█████▇▇</td></tr><tr><td>val_loss</td><td>▁▂▂▃▄▄▅▆██</td></tr><tr><td>val_accuracy</td><td>▂▁▄▆▅█▆▅▂▄</td></tr><tr><td>_runtime</td><td>▁▂▃▃▄▅▆▆▇█</td></tr><tr><td>_timestamp</td><td>▁▂▃▃▄▅▆▆▇█</td></tr><tr><td>_step</td><td>▁▂▃▃▄▅▆▆▇█</td></tr></table><br/>"
            ],
            "text/plain": [
              "<IPython.core.display.HTML object>"
            ]
          },
          "metadata": {
            "tags": []
          }
        },
        {
          "output_type": "display_data",
          "data": {
            "text/html": [
              "Synced 5 W&B file(s), 1 media file(s), 0 artifact file(s) and 1 other file(s)"
            ],
            "text/plain": [
              "<IPython.core.display.HTML object>"
            ]
          },
          "metadata": {
            "tags": []
          }
        },
        {
          "output_type": "display_data",
          "data": {
            "text/html": [
              "\n",
              "                    <br/>Synced <strong style=\"color:#cdcd00\">autumn-sweep-9</strong>: <a href=\"https://wandb.ai/pranayrajparisha/pretrained/runs/5jeuuz2e\" target=\"_blank\">https://wandb.ai/pranayrajparisha/pretrained/runs/5jeuuz2e</a><br/>\n",
              "                "
            ],
            "text/plain": [
              "<IPython.core.display.HTML object>"
            ]
          },
          "metadata": {
            "tags": []
          }
        },
        {
          "output_type": "stream",
          "text": [
            "\u001b[34m\u001b[1mwandb\u001b[0m: Agent Starting Run: a4q02mji with config:\n",
            "\u001b[34m\u001b[1mwandb\u001b[0m: \tactivation: relu\n",
            "\u001b[34m\u001b[1mwandb\u001b[0m: \tactivation2: softmax\n",
            "\u001b[34m\u001b[1mwandb\u001b[0m: \tbase_model: ResNet50\n",
            "\u001b[34m\u001b[1mwandb\u001b[0m: \tdropout: 0\n",
            "\u001b[34m\u001b[1mwandb\u001b[0m: \tepoch: 5\n",
            "\u001b[34m\u001b[1mwandb\u001b[0m: \tinput_shape: [180, 180, 3]\n",
            "\u001b[34m\u001b[1mwandb\u001b[0m: \tl_rate: 0.0001\n",
            "\u001b[34m\u001b[1mwandb\u001b[0m: \tnum_dense_neuron: 1014\n",
            "\u001b[34m\u001b[1mwandb\u001b[0m: \tpooling: avg\n"
          ],
          "name": "stderr"
        },
        {
          "output_type": "display_data",
          "data": {
            "text/html": [
              "\n",
              "                Tracking run with wandb version 0.10.26<br/>\n",
              "                Syncing run <strong style=\"color:#cdcd00\">dry-sweep-10</strong> to <a href=\"https://wandb.ai\" target=\"_blank\">Weights & Biases</a> <a href=\"https://docs.wandb.com/integrations/jupyter.html\" target=\"_blank\">(Documentation)</a>.<br/>\n",
              "                Project page: <a href=\"https://wandb.ai/pranayrajparisha/pretrained\" target=\"_blank\">https://wandb.ai/pranayrajparisha/pretrained</a><br/>\n",
              "                Sweep page: <a href=\"https://wandb.ai/pranayrajparisha/pretrained/sweeps/ei8cg921\" target=\"_blank\">https://wandb.ai/pranayrajparisha/pretrained/sweeps/ei8cg921</a><br/>\n",
              "Run page: <a href=\"https://wandb.ai/pranayrajparisha/pretrained/runs/a4q02mji\" target=\"_blank\">https://wandb.ai/pranayrajparisha/pretrained/runs/a4q02mji</a><br/>\n",
              "                Run data is saved locally in <code>/root/.keras/datasets/inaturalist_12K/valid/wandb/run-20210414_124147-a4q02mji</code><br/><br/>\n",
              "            "
            ],
            "text/plain": [
              "<IPython.core.display.HTML object>"
            ]
          },
          "metadata": {
            "tags": []
          }
        },
        {
          "output_type": "stream",
          "text": [
            "Epoch 1/5\n",
            "282/282 [==============================] - 127s 433ms/step - loss: 3.0325 - accuracy: 0.4677 - val_loss: 1.1180 - val_accuracy: 0.6340\n",
            "Epoch 2/5\n",
            "282/282 [==============================] - 124s 431ms/step - loss: 0.5459 - accuracy: 0.8238 - val_loss: 1.1536 - val_accuracy: 0.6420\n",
            "Epoch 3/5\n",
            "282/282 [==============================] - 122s 428ms/step - loss: 0.1758 - accuracy: 0.9498 - val_loss: 1.3083 - val_accuracy: 0.6440\n",
            "Epoch 4/5\n",
            "282/282 [==============================] - 123s 431ms/step - loss: 0.0617 - accuracy: 0.9862 - val_loss: 1.3875 - val_accuracy: 0.6650\n",
            "Epoch 5/5\n",
            "282/282 [==============================] - 123s 430ms/step - loss: 0.0249 - accuracy: 0.9974 - val_loss: 1.4508 - val_accuracy: 0.6620\n"
          ],
          "name": "stdout"
        },
        {
          "output_type": "display_data",
          "data": {
            "text/html": [
              "<br/>Waiting for W&B process to finish, PID 1252<br/>Program ended successfully."
            ],
            "text/plain": [
              "<IPython.core.display.HTML object>"
            ]
          },
          "metadata": {
            "tags": []
          }
        },
        {
          "output_type": "display_data",
          "data": {
            "application/vnd.jupyter.widget-view+json": {
              "model_id": "bbeea73a3fd0444f8822ec0b982def6c",
              "version_minor": 0,
              "version_major": 2
            },
            "text/plain": [
              "VBox(children=(Label(value=' 375.73MB of 375.73MB uploaded (0.00MB deduped)\\r'), FloatProgress(value=1.0, max=…"
            ]
          },
          "metadata": {
            "tags": []
          }
        },
        {
          "output_type": "display_data",
          "data": {
            "text/html": [
              "Find user logs for this run at: <code>/root/.keras/datasets/inaturalist_12K/valid/wandb/run-20210414_124147-a4q02mji/logs/debug.log</code>"
            ],
            "text/plain": [
              "<IPython.core.display.HTML object>"
            ]
          },
          "metadata": {
            "tags": []
          }
        },
        {
          "output_type": "display_data",
          "data": {
            "text/html": [
              "Find internal logs for this run at: <code>/root/.keras/datasets/inaturalist_12K/valid/wandb/run-20210414_124147-a4q02mji/logs/debug-internal.log</code>"
            ],
            "text/plain": [
              "<IPython.core.display.HTML object>"
            ]
          },
          "metadata": {
            "tags": []
          }
        },
        {
          "output_type": "display_data",
          "data": {
            "text/html": [
              "<h3>Run summary:</h3><br/><style>\n",
              "    table.wandb td:nth-child(1) { padding: 0 10px; text-align: right }\n",
              "    </style><table class=\"wandb\">\n",
              "<tr><td>epoch</td><td>4</td></tr><tr><td>loss</td><td>0.02342</td></tr><tr><td>accuracy</td><td>0.99722</td></tr><tr><td>val_loss</td><td>1.45082</td></tr><tr><td>val_accuracy</td><td>0.662</td></tr><tr><td>_runtime</td><td>631</td></tr><tr><td>_timestamp</td><td>1618404738</td></tr><tr><td>_step</td><td>4</td></tr><tr><td>best_val_loss</td><td>1.11803</td></tr><tr><td>best_epoch</td><td>0</td></tr></table>"
            ],
            "text/plain": [
              "<IPython.core.display.HTML object>"
            ]
          },
          "metadata": {
            "tags": []
          }
        },
        {
          "output_type": "display_data",
          "data": {
            "text/html": [
              "<h3>Run history:</h3><br/><style>\n",
              "    table.wandb td:nth-child(1) { padding: 0 10px; text-align: right }\n",
              "    </style><table class=\"wandb\">\n",
              "<tr><td>epoch</td><td>▁▃▅▆█</td></tr><tr><td>loss</td><td>█▃▂▁▁</td></tr><tr><td>accuracy</td><td>▁▆▇██</td></tr><tr><td>val_loss</td><td>▁▂▅▇█</td></tr><tr><td>val_accuracy</td><td>▁▃▃█▇</td></tr><tr><td>_runtime</td><td>▁▃▅▆█</td></tr><tr><td>_timestamp</td><td>▁▃▅▆█</td></tr><tr><td>_step</td><td>▁▃▅▆█</td></tr></table><br/>"
            ],
            "text/plain": [
              "<IPython.core.display.HTML object>"
            ]
          },
          "metadata": {
            "tags": []
          }
        },
        {
          "output_type": "display_data",
          "data": {
            "text/html": [
              "Synced 5 W&B file(s), 1 media file(s), 0 artifact file(s) and 1 other file(s)"
            ],
            "text/plain": [
              "<IPython.core.display.HTML object>"
            ]
          },
          "metadata": {
            "tags": []
          }
        },
        {
          "output_type": "display_data",
          "data": {
            "text/html": [
              "\n",
              "                    <br/>Synced <strong style=\"color:#cdcd00\">dry-sweep-10</strong>: <a href=\"https://wandb.ai/pranayrajparisha/pretrained/runs/a4q02mji\" target=\"_blank\">https://wandb.ai/pranayrajparisha/pretrained/runs/a4q02mji</a><br/>\n",
              "                "
            ],
            "text/plain": [
              "<IPython.core.display.HTML object>"
            ]
          },
          "metadata": {
            "tags": []
          }
        },
        {
          "output_type": "stream",
          "text": [
            "\u001b[34m\u001b[1mwandb\u001b[0m: Agent Starting Run: oa1scnwe with config:\n",
            "\u001b[34m\u001b[1mwandb\u001b[0m: \tactivation: relu\n",
            "\u001b[34m\u001b[1mwandb\u001b[0m: \tactivation2: softmax\n",
            "\u001b[34m\u001b[1mwandb\u001b[0m: \tbase_model: ResNet101\n",
            "\u001b[34m\u001b[1mwandb\u001b[0m: \tdropout: 0.18\n",
            "\u001b[34m\u001b[1mwandb\u001b[0m: \tepoch: 10\n",
            "\u001b[34m\u001b[1mwandb\u001b[0m: \tinput_shape: [180, 180, 3]\n",
            "\u001b[34m\u001b[1mwandb\u001b[0m: \tl_rate: 5e-05\n",
            "\u001b[34m\u001b[1mwandb\u001b[0m: \tnum_dense_neuron: 256\n",
            "\u001b[34m\u001b[1mwandb\u001b[0m: \tpooling: max\n"
          ],
          "name": "stderr"
        },
        {
          "output_type": "display_data",
          "data": {
            "text/html": [
              "\n",
              "                Tracking run with wandb version 0.10.26<br/>\n",
              "                Syncing run <strong style=\"color:#cdcd00\">royal-sweep-11</strong> to <a href=\"https://wandb.ai\" target=\"_blank\">Weights & Biases</a> <a href=\"https://docs.wandb.com/integrations/jupyter.html\" target=\"_blank\">(Documentation)</a>.<br/>\n",
              "                Project page: <a href=\"https://wandb.ai/pranayrajparisha/pretrained\" target=\"_blank\">https://wandb.ai/pranayrajparisha/pretrained</a><br/>\n",
              "                Sweep page: <a href=\"https://wandb.ai/pranayrajparisha/pretrained/sweeps/ei8cg921\" target=\"_blank\">https://wandb.ai/pranayrajparisha/pretrained/sweeps/ei8cg921</a><br/>\n",
              "Run page: <a href=\"https://wandb.ai/pranayrajparisha/pretrained/runs/oa1scnwe\" target=\"_blank\">https://wandb.ai/pranayrajparisha/pretrained/runs/oa1scnwe</a><br/>\n",
              "                Run data is saved locally in <code>/root/.keras/datasets/inaturalist_12K/valid/wandb/run-20210414_125253-oa1scnwe</code><br/><br/>\n",
              "            "
            ],
            "text/plain": [
              "<IPython.core.display.HTML object>"
            ]
          },
          "metadata": {
            "tags": []
          }
        },
        {
          "output_type": "stream",
          "text": [
            "Epoch 1/10\n",
            "282/282 [==============================] - 166s 558ms/step - loss: 1.9991 - accuracy: 0.4560 - val_loss: 1.1243 - val_accuracy: 0.6260\n",
            "Epoch 2/10\n",
            "162/282 [================>.............] - ETA: 1:00 - loss: 0.6662 - accuracy: 0.7768"
          ],
          "name": "stdout"
        }
      ]
    },
    {
      "cell_type": "code",
      "metadata": {
        "id": "IAOQK2KyreGC"
      },
      "source": [
        ""
      ],
      "execution_count": null,
      "outputs": []
    },
    {
      "cell_type": "code",
      "metadata": {
        "id": "nVNoKVwjreA2"
      },
      "source": [
        ""
      ],
      "execution_count": null,
      "outputs": []
    }
  ]
}